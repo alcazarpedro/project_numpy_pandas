{
 "cells": [
  {
   "cell_type": "code",
   "execution_count": 7,
   "metadata": {},
   "outputs": [],
   "source": [
    "import numpy as np"
   ]
  },
  {
   "cell_type": "code",
   "execution_count": 3,
   "metadata": {},
   "outputs": [
    {
     "data": {
      "text/plain": [
       "array([ 2,  4,  6,  8, 10, 12, 14, 16, 18, 20])"
      ]
     },
     "execution_count": 3,
     "metadata": {},
     "output_type": "execute_result"
    }
   ],
   "source": [
    "#SUB-ARREGLOS \n",
    "#los ejercicios a continuación seran del tema sub-arreglo\n",
    "\n",
    "elementos = np.arange(1,21)\n",
    "elementos\n",
    "#crearemos un sub-arreglo de los numeros pares del arreglo anterior\n",
    "pares = np.array([i for i in elementos if i%2==0])\n",
    "pares"
   ]
  },
  {
   "cell_type": "code",
   "execution_count": 8,
   "metadata": {},
   "outputs": [
    {
     "name": "stdout",
     "output_type": "stream",
     "text": [
      "\n",
      "sub-matrix:\n",
      "[39 32 38 43 39]\n",
      "[ 9 40 14 25  6]\n",
      "[27 27 13 40 41]\n"
     ]
    }
   ],
   "source": [
    "#Dado un array de 5x5 de números aleatorios, obtén un sub-arreglo con las filas 2 a 4 y las columnas 1 a 3.\n",
    "#Arreglo 5x5\n",
    "matrix = np.random.randint(1,50,25).reshape(5,5)\n",
    "matrix\n",
    "#sub-arreglo fila : 2-4,columna:1-3\n",
    "sub_matrix = matrix[1:4] #selecionamos fila 2,3,4\n",
    "for fila in sub_matrix:\n",
    "    fila = fila[0:3]     #selecionamos columnas 1,2,3\n",
    "\n",
    "print(\"\\nsub-matrix:\")\n",
    "for fila in sub_matrix:\n",
    "    print(fila)\n"
   ]
  },
  {
   "cell_type": "code",
   "execution_count": 14,
   "metadata": {},
   "outputs": [
    {
     "data": {
      "text/plain": [
       "array([41, 42, 43, 44, 45, 46, 47, 48, 49, 50])"
      ]
     },
     "execution_count": 14,
     "metadata": {},
     "output_type": "execute_result"
    }
   ],
   "source": [
    "#Dado un array de 1D con 50 elementos, obtén los últimos 10 elementos utilizando índices negativos.\n",
    "\n",
    "#creamos el arreglo \n",
    "arreglo = np.arange(1,51)\n",
    "arreglo\n",
    "#utilazando negativos hacemos un sub-arreglo\n",
    "sub_arreglo = arreglo[-10::]\n",
    "sub_arreglo"
   ]
  },
  {
   "cell_type": "code",
   "execution_count": 16,
   "metadata": {},
   "outputs": [
    {
     "data": {
      "text/plain": [
       "array([5, 6, 7, 8])"
      ]
     },
     "execution_count": 16,
     "metadata": {},
     "output_type": "execute_result"
    }
   ],
   "source": [
    "#Genera un arreglo 2D (3x4) y extrae la segunda columna como un sub-arreglo.\n",
    "\n",
    "#Arreglo 3x4\n",
    "matriz = np.arange(1,13).reshape(3,4)\n",
    "matriz\n",
    "#sub-arreglo de la segunda columna\n",
    "sub_arrg = matriz[1]\n",
    "sub_arrg"
   ]
  },
  {
   "cell_type": "code",
   "execution_count": 8,
   "metadata": {},
   "outputs": [
    {
     "data": {
      "text/plain": [
       "array([196,  19,  64,   7,  15, 100,  17, 256,   5,   9])"
      ]
     },
     "execution_count": 8,
     "metadata": {},
     "output_type": "execute_result"
    }
   ],
   "source": [
    "#VECTORIZACION\n",
    "#Diseña una función vectorizada que calcule el cuadrado de los elementos solo si son números pares.\n",
    "def cuadra_pares(n:int)->int:   #creamos la funcion para calcular el cuadrado si es par\n",
    "    if n % 2==0:\n",
    "        return n**2\n",
    "    else :\n",
    "        return n\n",
    "\n",
    "#creamo el arreglo que vamos a vectorizar\n",
    "arreglo = np.random.randint(1,20,10) #Arreglo\n",
    "arreglo_vectorizado = np.vectorize(cuadra_pares) # creamos una arreglo vectorizado,usando el metodo vectorize() \n",
    "\n",
    "arreglo_vectorizado(arreglo) #vectorizamos el arreglo\n",
    "\n",
    "    \n"
   ]
  },
  {
   "cell_type": "code",
   "execution_count": 12,
   "metadata": {},
   "outputs": [
    {
     "data": {
      "text/plain": [
       "array(['1101', '10111', '101', '10101', '10110', '100', '1100', '1001',\n",
       "       '1001', '10100'], dtype='<U5')"
      ]
     },
     "execution_count": 12,
     "metadata": {},
     "output_type": "execute_result"
    }
   ],
   "source": [
    "#Vectoriza una función que convierta un número en su representación binaria.\n",
    "#creamos la funcion para convertir decimal a binario\n",
    "def conversion_a_binario(numero:int)->str:\n",
    "    binario = \"\"\n",
    "    while numero >0:\n",
    "        resiudo = numero % 2\n",
    "        binario = str(resiudo) + binario\n",
    "        numero //=2\n",
    "    return binario\n",
    "\n",
    "#creamos el arreglo y vectorizamos con la funcion\n",
    "elementos = np.random.randint(1,25,10)\n",
    "elemento_vector = np.vectorize(conversion_a_binario)\n",
    "\n",
    "elemento_vector(elementos)"
   ]
  },
  {
   "cell_type": "code",
   "execution_count": 19,
   "metadata": {},
   "outputs": [
    {
     "data": {
      "text/plain": [
       "array(['primo', '2', 'primo', 'primo', '14', '12', '16', '12', '18', '16'],\n",
       "      dtype='<U5')"
      ]
     },
     "execution_count": 19,
     "metadata": {},
     "output_type": "execute_result"
    }
   ],
   "source": [
    "#Crea una función vectorizada que identifique si un número es primo.\n",
    "#funcion para identificar si es primo\n",
    "def identificador_primos(numero:int) -> str:\n",
    "    if numero %2 !=0:\n",
    "        return 'primo'\n",
    "    else: \n",
    "        return numero\n",
    "\n",
    "#creamos el arreglo y vectorizamos \n",
    "arreglo = np.random.randint(1,20,10)\n",
    "vector_arreglo = np.vectorize(identificador_primos)\n",
    "\n",
    "vector_arreglo(arreglo)\n"
   ]
  },
  {
   "cell_type": "code",
   "execution_count": 21,
   "metadata": {},
   "outputs": [
    {
     "data": {
      "text/plain": [
       "array([18, 12, 16, 19, 17, 14,  7, 11, 12,  9])"
      ]
     },
     "execution_count": 21,
     "metadata": {},
     "output_type": "execute_result"
    }
   ],
   "source": [
    "#Diseña una función vectorizada que tome dos arreglos de igual tamaño y devuelva el mayor elemento de cada posición.\n",
    "def maximo_elemento(x:int,y:int) -> int: #funcion para identificar el maximo de cada elemento\n",
    "    return max(x,y)\n",
    "\n",
    "arreglo_1 = np.random.randint(1,20,10) # creamos los arreglos con la misma longitud de numeros\n",
    "arreglo_2 = np.random.randint(1,20,10)\n",
    "\n",
    "arreglo_vector = np.vectorize(maximo_elemento) #vectorizacion de la funcion \n",
    "\n",
    "arreglo_vector(arreglo_1,arreglo_2) #output\n"
   ]
  }
 ],
 "metadata": {
  "kernelspec": {
   "display_name": "Python 3",
   "language": "python",
   "name": "python3"
  },
  "language_info": {
   "codemirror_mode": {
    "name": "ipython",
    "version": 3
   },
   "file_extension": ".py",
   "mimetype": "text/x-python",
   "name": "python",
   "nbconvert_exporter": "python",
   "pygments_lexer": "ipython3",
   "version": "3.10.12"
  }
 },
 "nbformat": 4,
 "nbformat_minor": 2
}
