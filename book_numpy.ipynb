{
 "cells": [
  {
   "cell_type": "code",
   "execution_count": 1,
   "metadata": {},
   "outputs": [],
   "source": [
    "import numpy as np"
   ]
  },
  {
   "cell_type": "code",
   "execution_count": 3,
   "metadata": {},
   "outputs": [
    {
     "data": {
      "text/plain": [
       "array([ 2,  4,  6,  8, 10, 12, 14, 16, 18, 20])"
      ]
     },
     "execution_count": 3,
     "metadata": {},
     "output_type": "execute_result"
    }
   ],
   "source": [
    "#SUB-ARREGLOS \n",
    "#los ejercicios a continuación seran del tema sub-arreglo\n",
    "\n",
    "elementos = np.arange(1,21)\n",
    "elementos\n",
    "#crearemos un sub-arreglo de los numeros pares del arreglo anterior\n",
    "pares = np.array([i for i in elementos if i%2==0])\n",
    "pares"
   ]
  },
  {
   "cell_type": "code",
   "execution_count": 8,
   "metadata": {},
   "outputs": [
    {
     "name": "stdout",
     "output_type": "stream",
     "text": [
      "\n",
      "sub-matrix:\n",
      "[39 32 38 43 39]\n",
      "[ 9 40 14 25  6]\n",
      "[27 27 13 40 41]\n"
     ]
    }
   ],
   "source": [
    "#Dado un array de 5x5 de números aleatorios, obtén un sub-arreglo con las filas 2 a 4 y las columnas 1 a 3.\n",
    "#Arreglo 5x5\n",
    "matrix = np.random.randint(1,50,25).reshape(5,5)\n",
    "matrix\n",
    "#sub-arreglo fila : 2-4,columna:1-3\n",
    "sub_matrix = matrix[1:4] #selecionamos fila 2,3,4\n",
    "for fila in sub_matrix:\n",
    "    fila = fila[0:3]     #selecionamos columnas 1,2,3\n",
    "\n",
    "print(\"\\nsub-matrix:\")\n",
    "for fila in sub_matrix:\n",
    "    print(fila)\n"
   ]
  },
  {
   "cell_type": "code",
   "execution_count": 14,
   "metadata": {},
   "outputs": [
    {
     "data": {
      "text/plain": [
       "array([41, 42, 43, 44, 45, 46, 47, 48, 49, 50])"
      ]
     },
     "execution_count": 14,
     "metadata": {},
     "output_type": "execute_result"
    }
   ],
   "source": [
    "#Dado un array de 1D con 50 elementos, obtén los últimos 10 elementos utilizando índices negativos.\n",
    "\n",
    "#creamos el arreglo \n",
    "arreglo = np.arange(1,51)\n",
    "arreglo\n",
    "#utilazando negativos hacemos un sub-arreglo\n",
    "sub_arreglo = arreglo[-10::]\n",
    "sub_arreglo"
   ]
  },
  {
   "cell_type": "code",
   "execution_count": 16,
   "metadata": {},
   "outputs": [
    {
     "data": {
      "text/plain": [
       "array([5, 6, 7, 8])"
      ]
     },
     "execution_count": 16,
     "metadata": {},
     "output_type": "execute_result"
    }
   ],
   "source": [
    "#Genera un arreglo 2D (3x4) y extrae la segunda columna como un sub-arreglo.\n",
    "\n",
    "#Arreglo 3x4\n",
    "matriz = np.arange(1,13).reshape(3,4)\n",
    "matriz\n",
    "#sub-arreglo de la segunda columna\n",
    "sub_arrg = matriz[1]\n",
    "sub_arrg"
   ]
  }
 ],
 "metadata": {
  "kernelspec": {
   "display_name": "Python 3",
   "language": "python",
   "name": "python3"
  },
  "language_info": {
   "codemirror_mode": {
    "name": "ipython",
    "version": 3
   },
   "file_extension": ".py",
   "mimetype": "text/x-python",
   "name": "python",
   "nbconvert_exporter": "python",
   "pygments_lexer": "ipython3",
   "version": "3.10.12"
  }
 },
 "nbformat": 4,
 "nbformat_minor": 2
}
