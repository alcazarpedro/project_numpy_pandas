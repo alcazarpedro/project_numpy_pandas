{
 "cells": [
  {
   "cell_type": "markdown",
   "id": "ca863d77-2038-43bc-a243-e924fe19b56c",
   "metadata": {},
   "source": [
    "### Analisis de datos, Ejercicio 1: \"Restaurante\""
   ]
  },
  {
   "cell_type": "markdown",
   "id": "4e5ea611-26a8-4059-ba45-08798b8aa30e",
   "metadata": {},
   "source": [
    "Importamos pandas para poder trabajar con analisis de datos:"
   ]
  },
  {
   "cell_type": "code",
   "execution_count": 1,
   "id": "828205d1-237d-4ddd-8735-fb2cebd04528",
   "metadata": {},
   "outputs": [],
   "source": [
    "import pandas as pd"
   ]
  },
  {
   "cell_type": "markdown",
   "id": "31c83def-5632-499f-8141-f37b68a80b7f",
   "metadata": {},
   "source": [
    "Importamos el archivo \"restaurante.xlsx\", contiene la base de datos del restaurante:"
   ]
  },
  {
   "cell_type": "code",
   "execution_count": null,
   "id": "eeb905b2-4139-4f53-9d85-8336bd0324e9",
   "metadata": {},
   "outputs": [],
   "source": [
    "restaurante= pd.read_excel(\"./restaurante.xlsx\")"
   ]
  },
  {
   "cell_type": "code",
   "execution_count": null,
   "id": "238e80e3-6568-45ef-b880-3d458c0347c6",
   "metadata": {},
   "outputs": [],
   "source": [
    "restaurante.head()"
   ]
  },
  {
   "cell_type": "markdown",
   "id": "33107814-524f-4a8f-8ce7-24520405977c",
   "metadata": {},
   "source": [
    "Agregar una columna llamada \"FechaMes\", que contenga el año y el mes de la columna fecha (Ej. 2010-03)"
   ]
  },
  {
   "cell_type": "code",
   "execution_count": null,
   "id": "a3377f94-23db-474c-897e-cf600c9401d1",
   "metadata": {},
   "outputs": [],
   "source": [
    "restaurante[\"FechaMes\"]=restaurante.Fecha.dt.strftime(\"%Y-%m\")\n",
    "restaurante.head()"
   ]
  },
  {
   "cell_type": "markdown",
   "id": "1661b21f-fec6-4124-9423-ff63304df421",
   "metadata": {},
   "source": [
    "Investigaremos si el ingreso ha bajado, obteneniendo las ventas totales de cada mes:"
   ]
  },
  {
   "cell_type": "code",
   "execution_count": null,
   "id": "2b77aa9e-38a4-4e55-9437-9a424baa9d37",
   "metadata": {},
   "outputs": [],
   "source": [
    "ventas_mes = restaurante.groupby(\"FechaMes\").agg({\"Precio\":\"sum\"})"
   ]
  },
  {
   "cell_type": "code",
   "execution_count": null,
   "id": "47b99461-ff62-45db-8890-686494199f74",
   "metadata": {},
   "outputs": [],
   "source": [
    "#ventas_mes.head()"
   ]
  },
  {
   "cell_type": "markdown",
   "id": "323527c8-efa6-4881-985a-d60f766b0414",
   "metadata": {},
   "source": [
    "Harémos una inspección rápida de los datos con una gráfica de calor sobre las ventas de cada mes:"
   ]
  },
  {
   "cell_type": "code",
   "execution_count": null,
   "id": "3a552d76-94fa-4d2b-a17a-6177e745665c",
   "metadata": {},
   "outputs": [],
   "source": [
    "import seaborn as sns\n",
    "import matplotlib.pyplot as plt\n",
    "import matplotlib.ticker as ticker\n",
    "sns.heatmap(ventas_mes,annot=True,fmt='g',cmap='Blues', vmin=100000, vmax=215000)\n",
    "plt.show()"
   ]
  },
  {
   "cell_type": "markdown",
   "id": "85ca76ed-4b47-4d12-a0a4-6102047cf22a",
   "metadata": {},
   "source": [
    "Hacemos una gráfica de barras con las ventas de cada mes:"
   ]
  },
  {
   "cell_type": "code",
   "execution_count": null,
   "id": "575ffd2d-a0a6-48a1-8aa4-61c64e0b2f79",
   "metadata": {},
   "outputs": [],
   "source": [
    "ventas_mes.plot(y=\"Precio\",kind=\"bar\",color=\"red\")\n",
    "plt.xticks(x=\"FechaMes\", rotation='vertical', size=8)\n",
    "plt.ylim(140000,210000)\n",
    "plt.show()"
   ]
  },
  {
   "cell_type": "markdown",
   "id": "e609cb76-a357-4497-8cbc-be5a22b0bebf",
   "metadata": {},
   "source": [
    "__Conclusión:__ los ingresos aumentaron al principio, pero volvieron a bajar a niveles record."
   ]
  },
  {
   "cell_type": "markdown",
   "id": "3a9dc022-cc5f-4dfa-9bd2-72ccade192bb",
   "metadata": {},
   "source": [
    "Ahora contaremos cuantos productos se sirvieron en cada mes:"
   ]
  },
  {
   "cell_type": "code",
   "execution_count": null,
   "id": "149a5f00-32bc-4729-a848-3b99e52b3a89",
   "metadata": {},
   "outputs": [],
   "source": [
    "productos_mes = restaurante.groupby(\"FechaMes\").agg({\"Producto\":\"count\"})"
   ]
  },
  {
   "cell_type": "code",
   "execution_count": null,
   "id": "0049ab49-9cb1-43c1-a03a-acd47cf93aa4",
   "metadata": {},
   "outputs": [],
   "source": [
    "#productos_mes.head()"
   ]
  },
  {
   "cell_type": "markdown",
   "id": "aea4ade0-93a8-4a06-a108-d977c7eddf46",
   "metadata": {},
   "source": [
    "Crearemos un gráfico de calor sobre la cantidad de platos vendidos en cada mes para hacer un análisis exploratorio sencillo:"
   ]
  },
  {
   "cell_type": "code",
   "execution_count": null,
   "id": "dc0849fd-40f1-45f6-9174-25722fe2474f",
   "metadata": {},
   "outputs": [],
   "source": [
    "sns.heatmap(productos_mes,annot=True,fmt='g',cmap='Purples', vmin=0)\n",
    "plt.show()"
   ]
  },
  {
   "cell_type": "markdown",
   "id": "b15e6424-795c-4a14-b7b8-951a7472ddc2",
   "metadata": {},
   "source": [
    "Haremos una gráfica de linea con el total de productos servidos por mes:"
   ]
  },
  {
   "cell_type": "code",
   "execution_count": null,
   "id": "791a1205-47d8-4321-a38e-4e2fea100a4f",
   "metadata": {},
   "outputs": [],
   "source": [
    "import matplotlib.pyplot as plt\n",
    "\n",
    "productos_mes.plot(y=\"Producto\",kind=\"line\",color=\"black\")\n",
    "plt.xticks(x=\"FechaMes\", rotation='vertical', size=8)\n",
    "plt.ylim(0,3000)\n",
    "plt.show()"
   ]
  },
  {
   "cell_type": "markdown",
   "id": "76fefd84-faa9-48e5-8d39-c0d26e9f432d",
   "metadata": {},
   "source": [
    "__Conclusión:__ los ingresos bajaron, pero la cantidad de productos vendidos se mantuvo en el tiempo"
   ]
  },
  {
   "cell_type": "markdown",
   "id": "fe157562-952d-44c4-9d62-92667e5c637e",
   "metadata": {},
   "source": [
    "Ahora mostraremos los ingresos al mes según si es comida o bebida, para encontrar si hubo un cambio en los habitos de consumo de los clientes:"
   ]
  },
  {
   "cell_type": "code",
   "execution_count": null,
   "id": "f6d8725b-e74d-4480-9f65-56aeaa1cbd29",
   "metadata": {},
   "outputs": [],
   "source": [
    "ingreso_tipo =pd.pivot_table(restaurante,\n",
    "                      index=[\"FechaMes\"],\n",
    "                      columns=\"Tipo\",\n",
    "                      fill_value=0,\n",
    "                      values=\"Precio\",\n",
    "                      aggfunc='sum')"
   ]
  },
  {
   "cell_type": "code",
   "execution_count": null,
   "id": "35f9d706-3840-46fb-b238-eea19ed45c94",
   "metadata": {},
   "outputs": [],
   "source": [
    "#ingreso_tipo.head()"
   ]
  },
  {
   "cell_type": "markdown",
   "id": "1ab50521-36a5-492d-b010-31d832b9b7f9",
   "metadata": {},
   "source": [
    "Haremos una gráfica de calor sobre las ventas mensuales de cada tipo de producto:"
   ]
  },
  {
   "cell_type": "markdown",
   "id": "b12d2247-ddc1-4af7-878a-653483394912",
   "metadata": {},
   "source": [
    "Graficaremos el ingreso mensual de cada tipo de alimento:"
   ]
  },
  {
   "cell_type": "code",
   "execution_count": null,
   "id": "2f25717f-55c3-4926-8aa2-5a282591473a",
   "metadata": {},
   "outputs": [],
   "source": [
    "ingreso_tipo.plot(kind='line')\n",
    "plt.show()"
   ]
  },
  {
   "cell_type": "markdown",
   "id": "0bcbe288-72cc-4fef-99d9-c96763c1e263",
   "metadata": {},
   "source": [
    "__Conclusión:__ los clientes piden cada vez menos bebidas, pero la comida se mantiene, por lo que tenemos fuertes indicios que el problema general se da en esa área."
   ]
  },
  {
   "cell_type": "markdown",
   "id": "eddbd75f-df0f-488b-ac95-a618c6593d13",
   "metadata": {},
   "source": [
    "Analizaremos el ingreso mensual de las bebidas teniendo una columna por categoría:"
   ]
  },
  {
   "cell_type": "code",
   "execution_count": null,
   "id": "77f0b148-9f7e-4db1-967e-44673a9e7b6e",
   "metadata": {},
   "outputs": [],
   "source": [
    "bebidas=restaurante[restaurante[\"Tipo\"]==\"Bebida\"]\n",
    "bebidas_mes =pd.pivot_table(bebidas,\n",
    "                      index=[\"FechaMes\"],\n",
    "                      columns=\"Categoria\",\n",
    "                      fill_value=0,\n",
    "                      values=\"Precio\",\n",
    "                      aggfunc='sum')"
   ]
  },
  {
   "cell_type": "code",
   "execution_count": null,
   "id": "5f546274-26ea-45f5-b955-7cb907b546a9",
   "metadata": {},
   "outputs": [],
   "source": [
    "#bebidas_mes.head()"
   ]
  },
  {
   "cell_type": "markdown",
   "id": "ec48f647-1fc0-40ee-91b2-2954b6e7b0ed",
   "metadata": {},
   "source": [
    "Haremos una gráfica de calor sobre los ingresos mensuales de cada tipo de bebida:"
   ]
  },
  {
   "cell_type": "code",
   "execution_count": null,
   "id": "957d158e-5c50-461c-a4c0-5476cdc5950c",
   "metadata": {},
   "outputs": [],
   "source": [
    "sns.heatmap(bebidas_mes,annot=True,fmt='g',cmap='Blues_r')\n",
    "plt.show()"
   ]
  },
  {
   "cell_type": "markdown",
   "id": "6da996b8-0d51-40a4-bc0f-374f10f3c939",
   "metadata": {},
   "source": [
    "Graficaremos el ingreso mensual de cada tipo de bebida:"
   ]
  },
  {
   "cell_type": "code",
   "execution_count": null,
   "id": "9c5b9144-e0ae-4932-b721-6ae8d216fee8",
   "metadata": {},
   "outputs": [],
   "source": [
    "bebidas_mes.plot(kind='line')\n",
    "plt.show()"
   ]
  },
  {
   "cell_type": "markdown",
   "id": "70797658-874a-4be5-b35a-a470d5ec785b",
   "metadata": {},
   "source": [
    "__Conclusión:__ Los ingresos provenientes de los vinos bajaron mucho, debemos indagar en los posibles motivos, por ejemplo, analizando a los meseros que lo sirven."
   ]
  },
  {
   "cell_type": "markdown",
   "id": "0db185a9-43b4-43ca-a382-5ee783c43099",
   "metadata": {},
   "source": [
    "Obtendremos el ingreso mensual de cada mesero:"
   ]
  },
  {
   "cell_type": "code",
   "execution_count": null,
   "id": "1edb2581-66e4-4f84-a693-f89824a3c961",
   "metadata": {},
   "outputs": [],
   "source": [
    "meseros_mes =pd.pivot_table(restaurante,\n",
    "                      index=[\"FechaMes\"],\n",
    "                      columns=\"Atendió\",\n",
    "                      fill_value=0,\n",
    "                      values=\"Precio\",\n",
    "                      aggfunc='sum')"
   ]
  },
  {
   "cell_type": "code",
   "execution_count": null,
   "id": "30b4fbbe-cccd-4850-89b9-5ce785df5ef1",
   "metadata": {},
   "outputs": [],
   "source": [
    "meseros_mes"
   ]
  },
  {
   "cell_type": "code",
   "execution_count": null,
   "id": "87d895bc-9dd7-4d23-be62-7bae250357c6",
   "metadata": {},
   "outputs": [],
   "source": []
  },
  {
   "cell_type": "markdown",
   "id": "a84ddb69-39d0-416e-b17a-cb5794ecbf46",
   "metadata": {},
   "source": [
    "Haremos una gráfica de calor sobre las ventas de cada mesero:"
   ]
  },
  {
   "cell_type": "code",
   "execution_count": null,
   "id": "67359559-e42e-4f1a-80de-dd9a60047d5d",
   "metadata": {},
   "outputs": [],
   "source": [
    "from matplotlib.pyplot import figure\n",
    "\n",
    "figure(figsize=(12, 5), dpi=80)\n",
    "sns.heatmap(meseros_mes,annot=True,fmt='g',cmap='Blues_r')\n",
    "plt.show()"
   ]
  },
  {
   "cell_type": "raw",
   "id": "3d30f0bf-09e1-428d-92a6-389f6615fc1c",
   "metadata": {},
   "source": [
    "Graficaremos el ingreso por mes de cada mesero:"
   ]
  },
  {
   "cell_type": "code",
   "execution_count": null,
   "id": "2779baad-b690-4e18-be76-d58c2a017394",
   "metadata": {},
   "outputs": [],
   "source": [
    "fig, axarr = plt.subplots(3,3, figsize=(16,24))\n",
    "fig.suptitle('Venta de meseros',y=0.9)\n",
    "contador=0\n",
    "for i in range(3):\n",
    "    for j in range(3):\n",
    "        axarr[i,j].plot(meseros_mes.index,meseros_mes.iloc[:,contador], label=meseros_mes.iloc[:,contador].name)\n",
    "        axarr[i,j].legend(loc=\"upper right\")\n",
    "        axarr[i,j].tick_params(axis=\"x\",labelrotation=45)\n",
    "        contador+=1"
   ]
  },
  {
   "cell_type": "markdown",
   "id": "f46aa4c5-cda7-4565-b623-72c6aabde55b",
   "metadata": {},
   "source": [
    "__Conclusión:__ las ventas de los meseros al igual que el vino están bajando, excepto por Mauricio que entró a trabajar en septiembre, un buen paso será graficar la relación de estas 2 variables, por ejemplo, calcular cuanto vino vende cada mesero"
   ]
  },
  {
   "cell_type": "markdown",
   "id": "5e001241-5a01-4d89-b39a-75eab5da222a",
   "metadata": {},
   "source": [
    "Averiguaremos cuanto vino vende cada mesero:"
   ]
  },
  {
   "cell_type": "code",
   "execution_count": null,
   "id": "078f9a39-8817-4d83-8464-e00aa12da869",
   "metadata": {},
   "outputs": [],
   "source": [
    "ventas_vino = restaurante[restaurante[\"Categoria\"]==\"Vinos\"]\n",
    "ventas_vino=ventas_vino.groupby(\"Atendió\").agg({\"Precio\":\"sum\"})"
   ]
  },
  {
   "cell_type": "code",
   "execution_count": null,
   "id": "9cd4c9a8-fc35-4027-bd6b-366661b4a5c7",
   "metadata": {},
   "outputs": [],
   "source": [
    "#ventas_vino.head()"
   ]
  },
  {
   "cell_type": "markdown",
   "id": "2eb73824-f772-4e6b-adfc-09fc10a3cf1e",
   "metadata": {},
   "source": [
    "Hacemos un análisis exploratorio con una gráfica de calor:"
   ]
  },
  {
   "cell_type": "code",
   "execution_count": null,
   "id": "1dbcba8a-833e-4e10-be9b-1b0e86f2c85e",
   "metadata": {},
   "outputs": [],
   "source": [
    "sns.heatmap(ventas_vino,annot=True,fmt='g',cmap='Blues_r')\n",
    "plt.show()"
   ]
  },
  {
   "cell_type": "markdown",
   "id": "d2d5cc14-61ef-4e7f-9bff-45519da2ecd5",
   "metadata": {},
   "source": [
    "Graficamos la venta de vinos de cada mesero:"
   ]
  },
  {
   "cell_type": "code",
   "execution_count": null,
   "id": "86d04f4e-c91f-450c-bd0b-5f367cdfad70",
   "metadata": {},
   "outputs": [],
   "source": [
    "ventas_vino.plot(y=\"Precio\",kind=\"bar\",color=\"green\")\n",
    "plt.show()"
   ]
  },
  {
   "cell_type": "markdown",
   "id": "3045c727-52ec-419b-8fb2-9b094bb666a0",
   "metadata": {},
   "source": [
    "__Conclusión:__ en la gráfica anterior notamos que no aparece Mauricio, por lo que el descenso en ingresos puede deberse a esto"
   ]
  },
  {
   "cell_type": "markdown",
   "id": "482f32ff-4756-4914-bd6c-d400834f0de6",
   "metadata": {},
   "source": [
    "Para poder conocer si los meseros atienden bien utilizaremos una cantidad derivada, la propina, si reciben buenas propinas es aceptable pensar que es por su buen servicio:"
   ]
  },
  {
   "cell_type": "code",
   "execution_count": null,
   "id": "8c48182c-28df-4dbd-a5c2-ed0c676ecd48",
   "metadata": {},
   "outputs": [],
   "source": [
    "propinas= restaurante.groupby(\"Atendió\").agg({\"Propina\":\"mean\"})"
   ]
  },
  {
   "cell_type": "code",
   "execution_count": null,
   "id": "bc423637-a2d2-4c40-9682-4555efb12483",
   "metadata": {},
   "outputs": [],
   "source": [
    "#propinas.head()"
   ]
  },
  {
   "cell_type": "markdown",
   "id": "aa8e1ea1-8a0e-4a18-a51d-ef9789d705c8",
   "metadata": {},
   "source": [
    "Haremos un analisis exploratorio de los datos con una gráfica de calor:"
   ]
  },
  {
   "cell_type": "code",
   "execution_count": null,
   "id": "fbf6c203-432c-4b69-8849-46f0f65b2c1e",
   "metadata": {},
   "outputs": [],
   "source": [
    "sns.heatmap(propinas,annot=True,fmt='g',cmap='Blues_r')\n",
    "plt.show()"
   ]
  },
  {
   "cell_type": "markdown",
   "id": "52c6a1e5-b084-4d38-a720-9760e9e258dc",
   "metadata": {},
   "source": [
    "Graficamos la propina media de cada mesero:"
   ]
  },
  {
   "cell_type": "code",
   "execution_count": null,
   "id": "8a4956fd-a55a-44e2-a1e1-bd864f36ac1a",
   "metadata": {},
   "outputs": [],
   "source": [
    "propinas.plot(y=\"Propina\",kind=\"bar\",color=\"green\")\n",
    "plt.show()"
   ]
  },
  {
   "cell_type": "markdown",
   "id": "01036982-5b3e-4dcf-a423-248c30a7c261",
   "metadata": {},
   "source": [
    "__Conclusión:__ todos los meseros tienen propinas similares, a excepción de Mauricio, por lo que debemos analizar la cantidad de clientes que vuelven a comprar con nosotros, en especial después de septiembre."
   ]
  },
  {
   "cell_type": "markdown",
   "id": "90c02b9a-136d-4a3f-bec8-74eb3c767d22",
   "metadata": {},
   "source": [
    "Analizaremos la cantidad de clientes nuevos contra los que regresan:"
   ]
  },
  {
   "cell_type": "code",
   "execution_count": null,
   "id": "6a18c4e0-38ac-41c9-900d-bfb9d39fce69",
   "metadata": {},
   "outputs": [],
   "source": [
    "ventas_tipo =pd.pivot_table(restaurante,\n",
    "                      index=[\"FechaMes\"],\n",
    "                      columns=\"Tipo de Cliente\",\n",
    "                      fill_value=0,\n",
    "                      values=\"Precio\",\n",
    "                      aggfunc='sum')"
   ]
  },
  {
   "cell_type": "code",
   "execution_count": null,
   "id": "1c8a679b-4d92-43ac-9698-915fd057df2e",
   "metadata": {},
   "outputs": [],
   "source": [
    "ventas_tipo"
   ]
  },
  {
   "cell_type": "markdown",
   "id": "e5f844c6-90c4-405f-aec3-9737d805e411",
   "metadata": {},
   "source": [
    "Haremos una gráfica de calor sobre las ventas al mes por tipo de cliente:"
   ]
  },
  {
   "cell_type": "code",
   "execution_count": null,
   "id": "7e4005aa-a6af-497b-b97d-da0a7d792a92",
   "metadata": {},
   "outputs": [],
   "source": [
    "sns.heatmap(ventas_tipo,annot=True,fmt='g',cmap='Blues')\n",
    "plt.show()"
   ]
  },
  {
   "cell_type": "markdown",
   "id": "df4c8d25-15e5-4775-b4ab-d5ef3db347c8",
   "metadata": {},
   "source": [
    "Graficaremos las ventas al mes por tipo de cliente:"
   ]
  },
  {
   "cell_type": "code",
   "execution_count": null,
   "id": "a217efbb-4b2e-4a76-9b95-bdc331f12c1f",
   "metadata": {},
   "outputs": [],
   "source": [
    "from matplotlib.pyplot import figure\n",
    "\n",
    "figure(figsize=(12, 5), dpi=80)\n",
    "\n",
    "plt.subplot(1, 2, 1)\n",
    "plt.plot(ventas_tipo.index,ventas_tipo[\"Cliente Nuevo\"], label=\"Cliente Nuevo\")\n",
    "plt.legend(loc=\"upper right\")\n",
    "plt.xticks(ventas_tipo.index, rotation='vertical', size=8)\n",
    "plt.subplot(1, 2, 2)\n",
    "plt.plot(ventas_tipo.index,ventas_tipo[\"Cliente Repetido\"], label=\"Cliente Repetido\")\n",
    "plt.legend(loc=\"upper right\")\n",
    "plt.xticks(ventas_tipo.index, rotation='vertical', size=8)\n",
    "plt.show()"
   ]
  },
  {
   "cell_type": "markdown",
   "id": "d8535b03-83ab-4b6e-bb5b-cfa0718d133a",
   "metadata": {},
   "source": [
    "__Conclusión:__ los clientes deciden no volver a comer con nosotros, analizaremos el impacto de este hecho en la venta de vino."
   ]
  },
  {
   "cell_type": "markdown",
   "id": "f8534161-f340-4c41-9a54-398dcad5aabb",
   "metadata": {},
   "source": [
    "Analizaremos la venta de vinos según el tipo de cliente:"
   ]
  },
  {
   "cell_type": "code",
   "execution_count": null,
   "id": "d0f6ab42-3896-4236-9850-e8bd3ddb6cdd",
   "metadata": {},
   "outputs": [],
   "source": [
    "ventas_vino = restaurante[restaurante[\"Categoria\"]==\"Vinos\"]\n",
    "ventas_vino =pd.pivot_table(ventas_vino,\n",
    "                      index=[\"FechaMes\"],\n",
    "                      columns=\"Tipo de Cliente\",\n",
    "                      fill_value=0,\n",
    "                      values=\"Precio\",\n",
    "                      aggfunc='sum')"
   ]
  },
  {
   "cell_type": "code",
   "execution_count": null,
   "id": "2ab94f52-4dd4-4e20-bbda-2f1e31d51b43",
   "metadata": {},
   "outputs": [],
   "source": [
    "ventas_vino.head()"
   ]
  },
  {
   "cell_type": "markdown",
   "id": "7aef08da-1c70-44e6-8360-cc823eae37f1",
   "metadata": {},
   "source": [
    "Haremos una gráfica de calor las ventas de vino al mes por tipo de cliente:"
   ]
  },
  {
   "cell_type": "code",
   "execution_count": null,
   "id": "153da0d6-8222-4c1f-9818-f28f7143b543",
   "metadata": {},
   "outputs": [],
   "source": [
    "sns.heatmap(ventas_vino,annot=True,fmt='g',cmap='Blues')\n",
    "plt.show()"
   ]
  },
  {
   "cell_type": "markdown",
   "id": "7c1ec436-2efb-491a-bb96-f3189106540b",
   "metadata": {},
   "source": [
    "Graficaremos las ventas de vino al mes por tipo de cliente:"
   ]
  },
  {
   "cell_type": "code",
   "execution_count": null,
   "id": "9686a6e5-7431-497e-90c7-61edc2e1746b",
   "metadata": {},
   "outputs": [],
   "source": [
    "ventas_vino.plot(kind='line')\n",
    "plt.show()"
   ]
  },
  {
   "cell_type": "markdown",
   "id": "7666ebb1-10f1-4a9c-9ae9-c5499ab3913e",
   "metadata": {},
   "source": [
    "__Conclusión:__ la venta de vino en los clientes nuevos se mantuvo, pero en los repetidos ha descendido, en especial desde septiembre, debemos investigar la venta de cada mesero separado por tipo de cliente."
   ]
  },
  {
   "cell_type": "markdown",
   "id": "3da43e08-50a0-4555-a90f-1aa610e15736",
   "metadata": {},
   "source": [
    "Analizar la venta de cada mesero en base al tipo de cliente:"
   ]
  },
  {
   "cell_type": "code",
   "execution_count": null,
   "id": "129ee10c-d2f3-4e95-9ab1-034fa1bed6e0",
   "metadata": {},
   "outputs": [],
   "source": [
    "ventas_mesero =pd.pivot_table(restaurante,\n",
    "                      index=[\"Atendió\"],\n",
    "                      columns=\"Tipo de Cliente\",\n",
    "                      fill_value=0,\n",
    "                      values=\"Precio\",\n",
    "                      aggfunc='sum')"
   ]
  },
  {
   "cell_type": "code",
   "execution_count": null,
   "id": "a7534b00-b37c-4ce8-a71c-9933850f077f",
   "metadata": {},
   "outputs": [],
   "source": [
    "#ventas_mesero.head()"
   ]
  },
  {
   "cell_type": "markdown",
   "id": "0f2f4e41-2360-473a-9f07-a392553912d7",
   "metadata": {},
   "source": [
    "Para analizar mejor el trato que le dan a los clientes por tipo, transformaremos sus ventas a porcentajes:"
   ]
  },
  {
   "cell_type": "code",
   "execution_count": null,
   "id": "9c96655f-34cd-4839-b7df-805033bac3b8",
   "metadata": {},
   "outputs": [],
   "source": [
    "ventas_mesero[\"Total Venta\"]=ventas_mesero[\"Cliente Nuevo\"]+ventas_mesero[\"Cliente Repetido\"]\n",
    "ventas_mesero[\"% Nuevo\"]=(ventas_mesero[\"Cliente Nuevo\"] / ventas_mesero[\"Total Venta\"] )*100\n",
    "ventas_mesero[\"% Repetido\"]=(ventas_mesero[\"Cliente Repetido\"] / ventas_mesero[\"Total Venta\"] )*100"
   ]
  },
  {
   "cell_type": "code",
   "execution_count": null,
   "id": "d47f4ad0-558d-49a2-8d42-a7f66c5a9a4b",
   "metadata": {},
   "outputs": [],
   "source": [
    "#ventas_mesero.head()"
   ]
  },
  {
   "cell_type": "markdown",
   "id": "16984130-81ff-4946-89cf-5079a44c3b43",
   "metadata": {},
   "source": [
    "Haremos un análisis exploratorio de los datos con un mapa de calor:"
   ]
  },
  {
   "cell_type": "code",
   "execution_count": null,
   "id": "7fda6a43-fa8d-4941-8f55-104eef440838",
   "metadata": {},
   "outputs": [],
   "source": [
    "sns.heatmap(ventas_mesero[[\"% Nuevo\",\"% Repetido\"]],annot=True,fmt='g',cmap='Blues')\n",
    "plt.show()"
   ]
  },
  {
   "cell_type": "markdown",
   "id": "eb5583f0-0f29-49c4-9187-5110330644a0",
   "metadata": {},
   "source": [
    "Y finalmente graficaremos las ventas al mes de cada mesero por tipo de cliente:"
   ]
  },
  {
   "cell_type": "code",
   "execution_count": null,
   "id": "028ccd75-838a-4b8a-907e-7023e980cf6f",
   "metadata": {},
   "outputs": [],
   "source": [
    "ax=ventas_mesero.plot(y=[\"% Nuevo\",\"% Repetido\"],kind=\"bar\")\n",
    "ticks = ax.get_yticks()\n",
    "ax.yaxis.set_major_formatter(ticker.PercentFormatter())\n",
    "plt.show()\n"
   ]
  },
  {
   "cell_type": "markdown",
   "id": "a5606b92-d559-4991-b692-bc93f20a692c",
   "metadata": {},
   "source": [
    "__Conclusión:__ Mauricio no atiende clientes repetidos."
   ]
  },
  {
   "cell_type": "markdown",
   "id": "83823738-eaf5-46a0-8fde-eacbd01ef848",
   "metadata": {},
   "source": [
    "__Conlusión General:__ Los clientes repetidos son los que más vino consumían, al dejar de regresar nuestros ingresos disminuyeron, nuestro principal sospechoso es Mauricio por tener unas propinas anormalmente altas, pero pese a ello los clientes no quieren volver a ser atendidos por el.\n",
    "\n",
    "Tras hacer una investigación presencial encontramos que la manera en la que Mauricio atendía era grosera y exigia a los comensales consumir más, por eso sus ventas eran altas, pero ahuyentaba a los clientes."
   ]
  }
 ],
 "metadata": {
  "kernelspec": {
   "display_name": "Python 3 (ipykernel)",
   "language": "python",
   "name": "python3"
  },
  "language_info": {
   "codemirror_mode": {
    "name": "ipython",
    "version": 3
   },
   "file_extension": ".py",
   "mimetype": "text/x-python",
   "name": "python",
   "nbconvert_exporter": "python",
   "pygments_lexer": "ipython3",
   "version": "3.9.7"
  }
 },
 "nbformat": 4,
 "nbformat_minor": 5
}
