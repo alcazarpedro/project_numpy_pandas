{
 "cells": [
  {
   "cell_type": "markdown",
   "id": "2c812296-bd08-44a5-a25e-cb8a1f79269f",
   "metadata": {},
   "source": [
    "## Ejercicios"
   ]
  },
  {
   "cell_type": "markdown",
   "id": "1e45a0b2-3ded-438f-896e-fa6cb3c53ed4",
   "metadata": {},
   "source": [
    "Importar matplotlib y pandas:"
   ]
  },
  {
   "cell_type": "code",
   "execution_count": 1,
   "id": "68eb4cf3-a15c-4ab2-a978-d1c1a1e080d5",
   "metadata": {},
   "outputs": [],
   "source": [
    "import matplotlib.pyplot as plt\n",
    "import pandas as pd"
   ]
  },
  {
   "cell_type": "code",
   "execution_count": null,
   "id": "65a53f74-7d12-4a4e-a5dc-91068728e9dd",
   "metadata": {},
   "outputs": [],
   "source": []
  },
  {
   "cell_type": "markdown",
   "id": "858a24b8-a9ac-4980-b3ad-2c35bf911cd3",
   "metadata": {},
   "source": [
    "## Ejercicio 1:"
   ]
  },
  {
   "cell_type": "markdown",
   "id": "c6f7e26b-7580-442e-bee8-7a74e5a9d57c",
   "metadata": {},
   "source": [
    "Utilizar pandas para importar los datos del archivo \"certificado.csv\" en la variable \"certificados\""
   ]
  },
  {
   "cell_type": "code",
   "execution_count": 2,
   "id": "aa6f33bc-551e-403f-82cc-6cae6e6711ed",
   "metadata": {},
   "outputs": [],
   "source": [
    "certificados = pd.read_csv(\"./certificado.csv\")"
   ]
  },
  {
   "cell_type": "code",
   "execution_count": 3,
   "id": "561b52da-91b5-49bd-83be-80209b95dd8a",
   "metadata": {},
   "outputs": [],
   "source": [
    "#certificados.head()"
   ]
  },
  {
   "cell_type": "markdown",
   "id": "669ed4cf-1f85-464a-8956-2b8eb932121f",
   "metadata": {},
   "source": [
    "Usar groupby para crear un DataFrame donde se tenga el promedio del examen diagnostico y examen final por cada grupo, el resultado debe ser el siguiente:"
   ]
  },
  {
   "cell_type": "markdown",
   "id": "0ac9cdbf-8b65-436a-8c34-d74472d910c1",
   "metadata": {},
   "source": [
    "![Resuelto](./img/Act1Img1.png)"
   ]
  },
  {
   "cell_type": "code",
   "execution_count": 4,
   "id": "94ed79db-d2ab-4f7e-ae74-28d83c648c2c",
   "metadata": {},
   "outputs": [],
   "source": [
    "grupo=certificados.groupby(\"grupo\").agg({\"examen_diagnostico\":\"mean\",\"examen_final\":\"mean\"})"
   ]
  },
  {
   "cell_type": "code",
   "execution_count": 5,
   "id": "613f0c07-7e23-4c30-b2b8-44a16474bbef",
   "metadata": {},
   "outputs": [],
   "source": [
    "#grupo.head()"
   ]
  },
  {
   "cell_type": "markdown",
   "id": "2ef8ff93-6855-4b54-8ddb-a80b2d42e556",
   "metadata": {},
   "source": [
    "Utilizar seaborn para mostrar el DataFrame anterior en una gráfica de calor, el resultado debe ser el siguiente:"
   ]
  },
  {
   "cell_type": "markdown",
   "id": "a5d1e220-4d83-44e9-a54a-02955d873ec9",
   "metadata": {},
   "source": [
    "![Resuelto](./img/Act1Img2.png)"
   ]
  },
  {
   "cell_type": "code",
   "execution_count": 6,
   "id": "87c732fb-6146-434f-8165-5ebba8a9b2a7",
   "metadata": {},
   "outputs": [],
   "source": [
    "import seaborn as sns\n",
    "import matplotlib.pyplot as plt"
   ]
  },
  {
   "cell_type": "code",
   "execution_count": 7,
   "id": "86f3fb19-3edf-4746-8575-a320c799fde7",
   "metadata": {},
   "outputs": [
    {
     "data": {
      "image/png": "[encoded data removed]",
      "text/plain": [
       "<Figure size 432x288 with 2 Axes>"
      ]
     },
     "metadata": {
      "needs_background": "light"
     },
     "output_type": "display_data"
    }
   ],
   "source": [
    "sns.heatmap(grupo,annot=True,fmt='g',cmap='Blues')\n",
    "plt.show()"
   ]
  },
  {
   "cell_type": "markdown",
   "id": "117a957f-7df0-4dc3-b524-d634e630c7f2",
   "metadata": {},
   "source": [
    "Usar el Dataframe anterior para hacer una gráfica de barras con el grupo en el eje \"x\" y las calificaciones promedio en el eje \"y\", el resultado debe ser el siguiente:"
   ]
  },
  {
   "cell_type": "markdown",
   "id": "f6b1950a-ec32-4e5b-b63a-532ae104014d",
   "metadata": {},
   "source": [
    "![Resuelto](./img/Act1Img3.png)"
   ]
  },
  {
   "cell_type": "code",
   "execution_count": 8,
   "id": "9b1f97c8-9fb9-407b-9a16-c04806cf2f3b",
   "metadata": {},
   "outputs": [
    {
     "data": {
      "image/png": "[encoded data removed]",
      "text/plain": [
       "<Figure size 432x288 with 1 Axes>"
      ]
     },
     "metadata": {
      "needs_background": "light"
     },
     "output_type": "display_data"
    }
   ],
   "source": [
    "grupo.plot(kind=\"bar\",color={\"red\",\"green\"})\n",
    "plt.show()"
   ]
  },
  {
   "cell_type": "markdown",
   "id": "96c23104-54e7-4d9d-98cc-81b660e3b85d",
   "metadata": {},
   "source": [
    "__Conclusión:__ todos los grupos presentan una mejora en la calificación al finalizar el curso"
   ]
  },
  {
   "cell_type": "markdown",
   "id": "3f823959-50b9-4350-833a-67f56f3fcede",
   "metadata": {},
   "source": [
    "## Ejercicio 2:\n",
    "Crear una columna llamada Progreso en el DataFrame certificados que contenga la diferencia entre el examen final y el examen diagnóstico, por ejemplo, si un alumno tuvo un 8 en el examen final y un 7 en el examen diagnóstico, la columna Progreso tendrá el valor de  1, el resultado debe ser el siguiente:"
   ]
  },
  {
   "cell_type": "markdown",
   "id": "b78515bb-99be-47a1-97e4-b9e5d8dcf965",
   "metadata": {},
   "source": [
    "![Resuelto](./img/Act2Img1.png)"
   ]
  },
  {
   "cell_type": "code",
   "execution_count": 9,
   "id": "4eefd7fe-7b19-441f-9fd1-82c667239789",
   "metadata": {},
   "outputs": [],
   "source": [
    "certificados[\"Progreso\"] = certificados[\"examen_final\"]- certificados[\"examen_diagnostico\"]"
   ]
  },
  {
   "cell_type": "code",
   "execution_count": 10,
   "id": "1c426cb4-0ccd-4ea6-945d-9ab8a7ace65f",
   "metadata": {},
   "outputs": [],
   "source": [
    "#certificados.head()"
   ]
  },
  {
   "cell_type": "markdown",
   "id": "523d362a-882e-4268-ab41-7426ea9d2a8e",
   "metadata": {},
   "source": [
    "Hacer un histograma del DataFrame anterior, en el eje \"x\" usar la columna Progreso, el resultado debe ser el siguiente:"
   ]
  },
  {
   "cell_type": "markdown",
   "id": "0bccf64b-f841-4d93-ba18-9822e99ca660",
   "metadata": {},
   "source": [
    "![Resuelto](./img/Act2Img2.png)"
   ]
  },
  {
   "cell_type": "code",
   "execution_count": 11,
   "id": "42656f3d-0d44-493a-bab3-53b52a0972cb",
   "metadata": {},
   "outputs": [
    {
     "data": {
      "image/png": "[encoded data removed]",
      "text/plain": [
       "<Figure size 432x288 with 1 Axes>"
      ]
     },
     "metadata": {
      "needs_background": "light"
     },
     "output_type": "display_data"
    }
   ],
   "source": [
    "plt.hist(x=certificados[\"Progreso\"])\n",
    "plt.title(\"Mejora de los estudiantes\")\n",
    "plt.show()"
   ]
  },
  {
   "cell_type": "markdown",
   "id": "ab3f3558-5222-4891-8c79-27f604a861ea",
   "metadata": {},
   "source": [
    "__Conclusión__: la mayoria de los estudiantes tienen una mejora entre 1 y 2.5 puntos"
   ]
  },
  {
   "cell_type": "markdown",
   "id": "e0c73831-17a1-4b38-8961-87e8e4a7ac46",
   "metadata": {},
   "source": [
    "## Ejercicio 3: \n",
    "Utilizar gruopby para obtener el progreso promedio en las calificaciones de los alumnos por cada profesor, por ejemplo, los alumnos del profesor Pedro al inicio tienen un promedio de 7, al terminar el curso aumenta a 9 y su progreso es de 2 puntos, el resultado debe ser el siguiente:"
   ]
  },
  {
   "cell_type": "markdown",
   "id": "8e873f4f-7c55-4973-b67f-ce5bd6c1cf69",
   "metadata": {},
   "source": [
    "![Resuelto](./img/Act3Img1.png)"
   ]
  },
  {
   "cell_type": "code",
   "execution_count": 12,
   "id": "3cf20ac8-107c-49f6-9ab1-362d43f7b0fa",
   "metadata": {},
   "outputs": [],
   "source": [
    "maestros=certificados.groupby(\"maestro\").mean()"
   ]
  },
  {
   "cell_type": "code",
   "execution_count": 13,
   "id": "4ff71637-3258-47f0-a3b9-7cb1bc157743",
   "metadata": {},
   "outputs": [
    {
     "data": {
      "text/html": [
       "<div>\n",
       "<style scoped>\n",
       "    .dataframe tbody tr th:only-of-type {\n",
       "        vertical-align: middle;\n",
       "    }\n",
       "\n",
       "    .dataframe tbody tr th {\n",
       "        vertical-align: top;\n",
       "    }\n",
       "\n",
       "    .dataframe thead th {\n",
       "        text-align: right;\n",
       "    }\n",
       "</style>\n",
       "<table border=\"1\" class=\"dataframe\">\n",
       "  <thead>\n",
       "    <tr style=\"text-align: right;\">\n",
       "      <th></th>\n",
       "      <th>examen_diagnostico</th>\n",
       "      <th>examen_final</th>\n",
       "      <th>Progreso</th>\n",
       "    </tr>\n",
       "    <tr>\n",
       "      <th>maestro</th>\n",
       "      <th></th>\n",
       "      <th></th>\n",
       "      <th></th>\n",
       "    </tr>\n",
       "  </thead>\n",
       "  <tbody>\n",
       "    <tr>\n",
       "      <th>Gabriela</th>\n",
       "      <td>7.558824</td>\n",
       "      <td>9.023529</td>\n",
       "      <td>1.464706</td>\n",
       "    </tr>\n",
       "    <tr>\n",
       "      <th>Maria</th>\n",
       "      <td>7.420000</td>\n",
       "      <td>8.800000</td>\n",
       "      <td>1.380000</td>\n",
       "    </tr>\n",
       "    <tr>\n",
       "      <th>Pedro</th>\n",
       "      <td>7.123077</td>\n",
       "      <td>8.592308</td>\n",
       "      <td>1.469231</td>\n",
       "    </tr>\n",
       "  </tbody>\n",
       "</table>\n",
       "</div>"
      ],
      "text/plain": [
       "          examen_diagnostico  examen_final  Progreso\n",
       "maestro                                             \n",
       "Gabriela            7.558824      9.023529  1.464706\n",
       "Maria               7.420000      8.800000  1.380000\n",
       "Pedro               7.123077      8.592308  1.469231"
      ]
     },
     "execution_count": 13,
     "metadata": {},
     "output_type": "execute_result"
    }
   ],
   "source": [
    "maestros.head()"
   ]
  },
  {
   "cell_type": "markdown",
   "id": "4e1ba435-f343-455d-8e84-714a54d04790",
   "metadata": {},
   "source": [
    "Hacer una gráfica de barras con el nombre de los profesores en el eje \"x\" y el progreso promedio de sus alumnos en el eje \"y\", el resultado debe ser el siguiente:"
   ]
  },
  {
   "cell_type": "markdown",
   "id": "4788284c-a861-4b4e-b630-1ab057b976bd",
   "metadata": {},
   "source": [
    "![Resuelto](./img/Act3Img2.png)"
   ]
  },
  {
   "cell_type": "code",
   "execution_count": 14,
   "id": "6b2fe7cf-b4a2-4064-991b-c9343d6a3e1e",
   "metadata": {},
   "outputs": [
    {
     "data": {
      "image/png": "[encoded data removed]",
      "text/plain": [
       "<Figure size 432x288 with 1 Axes>"
      ]
     },
     "metadata": {
      "needs_background": "light"
     },
     "output_type": "display_data"
    }
   ],
   "source": [
    "barras=maestros.plot(kind=\"bar\",y=[\"Progreso\"])\n",
    "barras.get_legend().remove()"
   ]
  },
  {
   "cell_type": "markdown",
   "id": "490b6e83-83c4-44d6-a98d-11eb4f393b14",
   "metadata": {},
   "source": [
    "__Conclusión:__ Los 3 maestros tienen un desempeño similar."
   ]
  },
  {
   "cell_type": "markdown",
   "id": "e742ec93-9fac-4112-8024-ea69dd9eb269",
   "metadata": {},
   "source": [
    "## Ejercicio 4:\n",
    "Utilizar pandas para importar los datos del archivo \"certificado_historico.csv\" en la variable \"historico\""
   ]
  },
  {
   "cell_type": "code",
   "execution_count": 15,
   "id": "537ae6a7-3204-4310-abe6-4efcb4b57f04",
   "metadata": {},
   "outputs": [],
   "source": [
    "historico = pd.read_csv(\"./certificado_historico.csv\",index_col=\"num_control\")"
   ]
  },
  {
   "cell_type": "code",
   "execution_count": 16,
   "id": "2beec8a2-0511-4efc-b39b-e76947b2caf1",
   "metadata": {},
   "outputs": [
    {
     "data": {
      "text/html": [
       "<div>\n",
       "<style scoped>\n",
       "    .dataframe tbody tr th:only-of-type {\n",
       "        vertical-align: middle;\n",
       "    }\n",
       "\n",
       "    .dataframe tbody tr th {\n",
       "        vertical-align: top;\n",
       "    }\n",
       "\n",
       "    .dataframe thead th {\n",
       "        text-align: right;\n",
       "    }\n",
       "</style>\n",
       "<table border=\"1\" class=\"dataframe\">\n",
       "  <thead>\n",
       "    <tr style=\"text-align: right;\">\n",
       "      <th></th>\n",
       "      <th>nombre</th>\n",
       "      <th>edad</th>\n",
       "      <th>calificacion</th>\n",
       "      <th>grupo</th>\n",
       "      <th>anio</th>\n",
       "      <th>semestre</th>\n",
       "      <th>certificacion</th>\n",
       "      <th>maestro</th>\n",
       "    </tr>\n",
       "    <tr>\n",
       "      <th>num_control</th>\n",
       "      <th></th>\n",
       "      <th></th>\n",
       "      <th></th>\n",
       "      <th></th>\n",
       "      <th></th>\n",
       "      <th></th>\n",
       "      <th></th>\n",
       "      <th></th>\n",
       "    </tr>\n",
       "  </thead>\n",
       "  <tbody>\n",
       "    <tr>\n",
       "      <th>A001</th>\n",
       "      <td>Aarón</td>\n",
       "      <td>14</td>\n",
       "      <td>8.9</td>\n",
       "      <td>A</td>\n",
       "      <td>2017</td>\n",
       "      <td>1</td>\n",
       "      <td>NO</td>\n",
       "      <td>Tatiana</td>\n",
       "    </tr>\n",
       "    <tr>\n",
       "      <th>A002</th>\n",
       "      <td>Lucía</td>\n",
       "      <td>42</td>\n",
       "      <td>9.3</td>\n",
       "      <td>A</td>\n",
       "      <td>2017</td>\n",
       "      <td>1</td>\n",
       "      <td>NO</td>\n",
       "      <td>Tatiana</td>\n",
       "    </tr>\n",
       "    <tr>\n",
       "      <th>A003</th>\n",
       "      <td>Hugo</td>\n",
       "      <td>29</td>\n",
       "      <td>8.7</td>\n",
       "      <td>A</td>\n",
       "      <td>2017</td>\n",
       "      <td>1</td>\n",
       "      <td>NO</td>\n",
       "      <td>Tatiana</td>\n",
       "    </tr>\n",
       "    <tr>\n",
       "      <th>A004</th>\n",
       "      <td>Julieta</td>\n",
       "      <td>34</td>\n",
       "      <td>7.9</td>\n",
       "      <td>A</td>\n",
       "      <td>2017</td>\n",
       "      <td>1</td>\n",
       "      <td>NO</td>\n",
       "      <td>Tatiana</td>\n",
       "    </tr>\n",
       "    <tr>\n",
       "      <th>A005</th>\n",
       "      <td>Adrían</td>\n",
       "      <td>14</td>\n",
       "      <td>9.1</td>\n",
       "      <td>A</td>\n",
       "      <td>2017</td>\n",
       "      <td>1</td>\n",
       "      <td>NO</td>\n",
       "      <td>Tatiana</td>\n",
       "    </tr>\n",
       "  </tbody>\n",
       "</table>\n",
       "</div>"
      ],
      "text/plain": [
       "              nombre  edad  calificacion grupo  anio  semestre certificacion  \\\n",
       "num_control                                                                    \n",
       "A001           Aarón    14           8.9     A  2017         1            NO   \n",
       "A002           Lucía    42           9.3     A  2017         1            NO   \n",
       "A003            Hugo    29           8.7     A  2017         1            NO   \n",
       "A004         Julieta    34           7.9     A  2017         1            NO   \n",
       "A005          Adrían    14           9.1     A  2017         1            NO   \n",
       "\n",
       "             maestro  \n",
       "num_control           \n",
       "A001         Tatiana  \n",
       "A002         Tatiana  \n",
       "A003         Tatiana  \n",
       "A004         Tatiana  \n",
       "A005         Tatiana  "
      ]
     },
     "execution_count": 16,
     "metadata": {},
     "output_type": "execute_result"
    }
   ],
   "source": [
    "historico.head()"
   ]
  },
  {
   "cell_type": "markdown",
   "id": "f6fd3c6b-85ec-4ac7-85c0-2f04946c0e3c",
   "metadata": {},
   "source": [
    "Utlizar groupby para crear un DataFrame con la calificación más baja en cada grupo de cada año, el resultado debe ser el siguiente: "
   ]
  },
  {
   "cell_type": "markdown",
   "id": "455af193-4ffe-4704-8413-a762a9d36a05",
   "metadata": {},
   "source": [
    "![Resuelto](./img/Act4Img1.png)"
   ]
  },
  {
   "cell_type": "code",
   "execution_count": 17,
   "id": "676adae1-e0f2-41f2-a286-e9b7b17744ec",
   "metadata": {},
   "outputs": [],
   "source": [
    "minimos = historico.groupby(by=[\"anio\",\"grupo\"]).agg({\"calificacion\":\"min\"})"
   ]
  },
  {
   "cell_type": "code",
   "execution_count": 18,
   "id": "8a1a9860-384d-472e-8dbd-8dfefad46cb7",
   "metadata": {},
   "outputs": [],
   "source": [
    "#minimos.head()"
   ]
  },
  {
   "cell_type": "markdown",
   "id": "276ad09f-eb5e-4187-97ea-dfc18ebe8e1f",
   "metadata": {},
   "source": [
    "Hacer una gráfica de lineas con el año y grupo en el eje \"x\" y la calificación más baja en el eje \"y\", el resultado debe ser el siguiente:"
   ]
  },
  {
   "cell_type": "markdown",
   "id": "71eb8ae2-db19-4337-8df5-0a78a1e28dd5",
   "metadata": {},
   "source": [
    "![Resuelto](./img/Act4Img2.png)"
   ]
  },
  {
   "cell_type": "code",
   "execution_count": 19,
   "id": "25f498bf-fb8d-48bc-ae4b-518ad61f4b6c",
   "metadata": {},
   "outputs": [
    {
     "data": {
      "text/plain": [
       "<AxesSubplot:xlabel='anio,grupo'>"
      ]
     },
     "execution_count": 19,
     "metadata": {},
     "output_type": "execute_result"
    },
    {
     "data": {
      "image/png": "[encoded data removed]",
      "text/plain": [
       "<Figure size 432x288 with 1 Axes>"
      ]
     },
     "metadata": {
      "needs_background": "light"
     },
     "output_type": "display_data"
    }
   ],
   "source": [
    "minimos.plot(y=\"calificacion\")"
   ]
  },
  {
   "cell_type": "markdown",
   "id": "637af441-f62d-42db-930e-76830de1dd60",
   "metadata": {},
   "source": [
    "__Conclusión:__ la calificación más baja normalmente se mantiene por encima de 7"
   ]
  },
  {
   "cell_type": "markdown",
   "id": "c28833fb-54e2-4d58-bdaf-d0f91c8a2e76",
   "metadata": {},
   "source": [
    "## Ejercicio 5:\n",
    "Utilizar groupby para crear un DataFrame con la cantidad de alumnos a la que ha impartido clases cada maestro, por ejemplo, la profesora Jessica ha dado clases a 80 alumnos, el resultado debe ser el siguiente:"
   ]
  },
  {
   "cell_type": "markdown",
   "id": "fb1a927d-9e67-422c-9162-14284cb31e99",
   "metadata": {},
   "source": [
    "![Resuelto](./img/Act5Img1.png)"
   ]
  },
  {
   "cell_type": "code",
   "execution_count": 20,
   "id": "898b34c5-239d-40e9-90ca-95a43924edf0",
   "metadata": {},
   "outputs": [],
   "source": [
    "maestros=historico.groupby(\"maestro\").agg({\"nombre\":\"count\"})"
   ]
  },
  {
   "cell_type": "code",
   "execution_count": 21,
   "id": "33258390-0f6b-458f-aabe-851bbe79ed44",
   "metadata": {},
   "outputs": [
    {
     "data": {
      "text/html": [
       "<div>\n",
       "<style scoped>\n",
       "    .dataframe tbody tr th:only-of-type {\n",
       "        vertical-align: middle;\n",
       "    }\n",
       "\n",
       "    .dataframe tbody tr th {\n",
       "        vertical-align: top;\n",
       "    }\n",
       "\n",
       "    .dataframe thead th {\n",
       "        text-align: right;\n",
       "    }\n",
       "</style>\n",
       "<table border=\"1\" class=\"dataframe\">\n",
       "  <thead>\n",
       "    <tr style=\"text-align: right;\">\n",
       "      <th></th>\n",
       "      <th>nombre</th>\n",
       "    </tr>\n",
       "    <tr>\n",
       "      <th>maestro</th>\n",
       "      <th></th>\n",
       "    </tr>\n",
       "  </thead>\n",
       "  <tbody>\n",
       "    <tr>\n",
       "      <th>Armando</th>\n",
       "      <td>100</td>\n",
       "    </tr>\n",
       "    <tr>\n",
       "      <th>Emily</th>\n",
       "      <td>74</td>\n",
       "    </tr>\n",
       "    <tr>\n",
       "      <th>Gaspar</th>\n",
       "      <td>26</td>\n",
       "    </tr>\n",
       "    <tr>\n",
       "      <th>Tatiana</th>\n",
       "      <td>100</td>\n",
       "    </tr>\n",
       "  </tbody>\n",
       "</table>\n",
       "</div>"
      ],
      "text/plain": [
       "         nombre\n",
       "maestro        \n",
       "Armando     100\n",
       "Emily        74\n",
       "Gaspar       26\n",
       "Tatiana     100"
      ]
     },
     "execution_count": 21,
     "metadata": {},
     "output_type": "execute_result"
    }
   ],
   "source": [
    "maestros.head()"
   ]
  },
  {
   "cell_type": "markdown",
   "id": "8dfc6946-2c39-4250-b4fc-8c79c3f8ca4d",
   "metadata": {},
   "source": [
    "Hacer una gráfica de pastel para mostrar el porcentaje del total de estudiantes a los que ha dado clases cada maestro, el resultado debe ser el siguiente:"
   ]
  },
  {
   "cell_type": "markdown",
   "id": "7a7e9f06-b6a4-48aa-b690-1cfafa98278b",
   "metadata": {},
   "source": [
    "![Resuelto](./img/Act5Img2.png)"
   ]
  },
  {
   "cell_type": "code",
   "execution_count": 22,
   "id": "5f1dc907-a832-462a-b2e6-95230760b23b",
   "metadata": {},
   "outputs": [
    {
     "data": {
      "text/plain": [
       "Text(0.5, 1.0, 'Porcentaje de estudiantes por maestro')"
      ]
     },
     "execution_count": 22,
     "metadata": {},
     "output_type": "execute_result"
    },
    {
     "data": {
      "image/png": "[encoded data removed]",
      "text/plain": [
       "<Figure size 432x288 with 1 Axes>"
      ]
     },
     "metadata": {},
     "output_type": "display_data"
    }
   ],
   "source": [
    "pie=maestros.plot(kind=\"pie\",y=\"nombre\",autopct='%1.1f%%')\n",
    "pie.get_legend().remove()\n",
    "pie.set_ylabel('')\n",
    "pie.set_title(\"Porcentaje de estudiantes por maestro\")"
   ]
  },
  {
   "cell_type": "markdown",
   "id": "67f2a1d0-8430-4360-b0ff-ad9e98505d3a",
   "metadata": {},
   "source": [
    "__Conclusión:__ Tatiana y Armando son los profesores que más alumnos han tenido"
   ]
  },
  {
   "cell_type": "markdown",
   "id": "6a058691-7976-4ab1-aff5-5a36f5f67ada",
   "metadata": {},
   "source": [
    "## Ejercicio 6:\n",
    "Utilizar pivot table para crear un DataFrame con la calificación promedio de los estudiantes de cada profesor en cada año, el resultado debe ser el siguiente:"
   ]
  },
  {
   "cell_type": "markdown",
   "id": "7cf7f751-64f3-4429-b09d-0bb949324c32",
   "metadata": {},
   "source": [
    "![Resuelto](./img/Act6Img1.png)"
   ]
  },
  {
   "cell_type": "code",
   "execution_count": 23,
   "id": "2af79a87-ddb6-4916-9952-b29f4d3a5433",
   "metadata": {},
   "outputs": [],
   "source": [
    "import numpy as np"
   ]
  },
  {
   "cell_type": "code",
   "execution_count": 24,
   "id": "8c884fe7-691c-44e3-bec3-b97a7719b51a",
   "metadata": {},
   "outputs": [],
   "source": [
    "calificaciones =pd.pivot_table(historico,\n",
    "                      index=[\"anio\"],\n",
    "                      columns=\"maestro\",\n",
    "                      fill_value=np.nan,\n",
    "                      values=\"calificacion\",\n",
    "                      aggfunc='mean')"
   ]
  },
  {
   "cell_type": "code",
   "execution_count": 25,
   "id": "b8583381-4092-4f1e-9352-918d706a8178",
   "metadata": {},
   "outputs": [],
   "source": [
    "#calificaciones.head()"
   ]
  },
  {
   "cell_type": "markdown",
   "id": "49c9cfb9-4f69-495e-bb01-18d349773890",
   "metadata": {},
   "source": [
    "Hacer una gráfica de lineas con el año en el eje \"x\", la calificación promedio de los estudiantes en el eje \"y\" y el color de la linea representando a cada maestro, el resultado debe ser el siguiente:"
   ]
  },
  {
   "cell_type": "markdown",
   "id": "5a480b81-ca0a-4802-aa77-c525018c2a02",
   "metadata": {},
   "source": [
    "![Resuelto](./img/Act6Img2.png)"
   ]
  },
  {
   "cell_type": "code",
   "execution_count": 26,
   "id": "8fe685f0-0405-4f1a-ba37-a052f5a2f6a5",
   "metadata": {},
   "outputs": [
    {
     "data": {
      "image/png": "[encoded data removed]",
      "text/plain": [
       "<Figure size 432x288 with 1 Axes>"
      ]
     },
     "metadata": {
      "needs_background": "light"
     },
     "output_type": "display_data"
    }
   ],
   "source": [
    "calificaciones.plot()\n",
    "plt.show()"
   ]
  },
  {
   "cell_type": "markdown",
   "id": "c30a3d1d-7e32-4b92-a006-e88ea6efa5f3",
   "metadata": {},
   "source": [
    "__Conclusión:__ Emily es la maestra que mayor progreso ha tenido"
   ]
  },
  {
   "cell_type": "markdown",
   "id": "498ff38d-4b41-4332-9584-4a821da8ecaa",
   "metadata": {},
   "source": [
    "## Ejercicio 7:\n",
    "Utilizar groupby para crear un DataFrame con la mediana en la calificación de cada grupo en cada año, el resultado debe ser el siguiente:"
   ]
  },
  {
   "cell_type": "markdown",
   "id": "fa408b6b-58f9-490a-b131-79f45a99420d",
   "metadata": {},
   "source": [
    "![Resuelto](./img/Act7Img1.png)"
   ]
  },
  {
   "cell_type": "code",
   "execution_count": 27,
   "id": "10c8eef9-8b5b-475f-a877-66497b085fed",
   "metadata": {},
   "outputs": [],
   "source": [
    "mediana=historico.groupby([\"grupo\",\"anio\"]).agg({\"calificacion\":\"median\"})"
   ]
  },
  {
   "cell_type": "code",
   "execution_count": 28,
   "id": "98ad8ad8-e186-4c2d-ab19-e59bd83561e5",
   "metadata": {},
   "outputs": [
    {
     "data": {
      "text/html": [
       "<div>\n",
       "<style scoped>\n",
       "    .dataframe tbody tr th:only-of-type {\n",
       "        vertical-align: middle;\n",
       "    }\n",
       "\n",
       "    .dataframe tbody tr th {\n",
       "        vertical-align: top;\n",
       "    }\n",
       "\n",
       "    .dataframe thead th {\n",
       "        text-align: right;\n",
       "    }\n",
       "</style>\n",
       "<table border=\"1\" class=\"dataframe\">\n",
       "  <thead>\n",
       "    <tr style=\"text-align: right;\">\n",
       "      <th></th>\n",
       "      <th></th>\n",
       "      <th>calificacion</th>\n",
       "    </tr>\n",
       "    <tr>\n",
       "      <th>grupo</th>\n",
       "      <th>anio</th>\n",
       "      <th></th>\n",
       "    </tr>\n",
       "  </thead>\n",
       "  <tbody>\n",
       "    <tr>\n",
       "      <th rowspan=\"4\" valign=\"top\">A</th>\n",
       "      <th>2017</th>\n",
       "      <td>8.1</td>\n",
       "    </tr>\n",
       "    <tr>\n",
       "      <th>2018</th>\n",
       "      <td>8.7</td>\n",
       "    </tr>\n",
       "    <tr>\n",
       "      <th>2019</th>\n",
       "      <td>8.2</td>\n",
       "    </tr>\n",
       "    <tr>\n",
       "      <th>2020</th>\n",
       "      <td>8.3</td>\n",
       "    </tr>\n",
       "    <tr>\n",
       "      <th>B</th>\n",
       "      <th>2017</th>\n",
       "      <td>8.8</td>\n",
       "    </tr>\n",
       "  </tbody>\n",
       "</table>\n",
       "</div>"
      ],
      "text/plain": [
       "            calificacion\n",
       "grupo anio              \n",
       "A     2017           8.1\n",
       "      2018           8.7\n",
       "      2019           8.2\n",
       "      2020           8.3\n",
       "B     2017           8.8"
      ]
     },
     "execution_count": 28,
     "metadata": {},
     "output_type": "execute_result"
    }
   ],
   "source": [
    "mediana.head()"
   ]
  },
  {
   "cell_type": "markdown",
   "id": "8dba29b5-9dd9-4972-bfb4-20370a9e3afe",
   "metadata": {},
   "source": [
    "Hacer una gráfica de barras mostrando los grupos en el eje \"x\" y la mediana de la calificación en el eje \"y\", el resultado debe ser el siguiente:"
   ]
  },
  {
   "cell_type": "markdown",
   "id": "0f387463-534d-4496-aaab-7648c571a568",
   "metadata": {},
   "source": [
    "![Resuelto](./img/Act7Img2.png)"
   ]
  },
  {
   "cell_type": "code",
   "execution_count": 29,
   "id": "e1169f68-3e20-430b-8105-e95735c38aa3",
   "metadata": {},
   "outputs": [
    {
     "data": {
      "image/png": "[encoded data removed]",
      "text/plain": [
       "<Figure size 864x576 with 1 Axes>"
      ]
     },
     "metadata": {
      "needs_background": "light"
     },
     "output_type": "display_data"
    }
   ],
   "source": [
    "barras=mediana.plot.bar(figsize=(12, 8))\n",
    "barras.get_legend().remove()"
   ]
  },
  {
   "cell_type": "markdown",
   "id": "bcef14e4-cae0-49aa-9b7f-8f289a9a35b4",
   "metadata": {},
   "source": [
    "__Conclusión:__ la mediana en las calificaciones normalmente es alrededor de 8.5"
   ]
  },
  {
   "cell_type": "markdown",
   "id": "a213cef8-8eb5-4fa2-8cab-192ac1244cac",
   "metadata": {
    "tags": []
   },
   "source": [
    "## Ejercicio 8\n",
    "Armar un código que devuelva un Dataframe con los datos de los estudiantes que si quieren obtener un certificado, el resultado debe ser el siguiente: "
   ]
  },
  {
   "cell_type": "markdown",
   "id": "b8ab20a7-acce-4886-b3a9-9613f405ef9d",
   "metadata": {},
   "source": [
    "![Resuelto](./img/Act8Img1.png)"
   ]
  },
  {
   "cell_type": "code",
   "execution_count": 30,
   "id": "605b1026-8570-4f23-87d1-5c01efdc22b3",
   "metadata": {},
   "outputs": [],
   "source": [
    "si= historico[historico[\"certificacion\"]==\"SI\"]"
   ]
  },
  {
   "cell_type": "code",
   "execution_count": 31,
   "id": "91e71419-55ed-46e9-aa7b-2cf38063cff9",
   "metadata": {},
   "outputs": [],
   "source": [
    "#si.head()"
   ]
  },
  {
   "cell_type": "markdown",
   "id": "ca9245fe-813c-4d8b-b724-7e4297987e29",
   "metadata": {},
   "source": [
    "Armar un código que devuelva un Dataframe con los datos de los estudiantes que no quieren obtener un certificado,el resultado debe ser el siguiente:"
   ]
  },
  {
   "cell_type": "markdown",
   "id": "6e050452-3283-4446-8f3b-8492387fce45",
   "metadata": {},
   "source": [
    "![Resuelto](./img/Act8Img2.png)"
   ]
  },
  {
   "cell_type": "code",
   "execution_count": 32,
   "id": "3ca12fa7-0064-4213-9c92-e61594d68232",
   "metadata": {},
   "outputs": [],
   "source": [
    "no= historico[historico[\"certificacion\"]==\"NO\"]"
   ]
  },
  {
   "cell_type": "code",
   "execution_count": 33,
   "id": "fb7388f5-6170-48af-a87e-6911087486b3",
   "metadata": {},
   "outputs": [],
   "source": [
    "#no.head()"
   ]
  },
  {
   "cell_type": "markdown",
   "id": "7c82a792-fd74-446a-af12-f0e1a1985af6",
   "metadata": {},
   "source": [
    "Hacer una gráfica de puntos con la edad en el eje \"x\" y la calificación en el eje \"y\" utilizando el DataFrame con los datos de los estudiantes que SI quieren obtener un certificado, el resultado debe ser el siguiente:"
   ]
  },
  {
   "cell_type": "markdown",
   "id": "1a3c494f-5882-427f-a474-2e7389a7c319",
   "metadata": {},
   "source": [
    "![Resuelto](./img/Act8Img3.png)"
   ]
  },
  {
   "cell_type": "code",
   "execution_count": 34,
   "id": "5c646418-406b-4633-aed1-21c7251d42cb",
   "metadata": {},
   "outputs": [
    {
     "data": {
      "image/png": "[encoded data removed]",
      "text/plain": [
       "<Figure size 432x288 with 1 Axes>"
      ]
     },
     "metadata": {
      "needs_background": "light"
     },
     "output_type": "display_data"
    }
   ],
   "source": [
    "plt.scatter(x=si[\"edad\"], y=si[\"calificacion\"], label=\"SI\")\n",
    "plt.legend(loc=\"upper right\")\n",
    "plt.show()"
   ]
  },
  {
   "cell_type": "markdown",
   "id": "c577178c-72cc-4203-8ff6-eaf74b102cc1",
   "metadata": {},
   "source": [
    "En el mismo diagrama sobreponer una gráfica de puntos con los datos de los estudiantes que NO quieren obtener el certificado, el resultado debe ser el siguiente:"
   ]
  },
  {
   "cell_type": "markdown",
   "id": "ee68321d-805e-4557-87e4-9eb08bf466b3",
   "metadata": {},
   "source": [
    "![Resuelto](./img/Act8Img4.png)"
   ]
  },
  {
   "cell_type": "code",
   "execution_count": 35,
   "id": "46def8e2-83a0-43e5-b34e-18d78b86c639",
   "metadata": {},
   "outputs": [
    {
     "data": {
      "image/png": "[encoded data removed]",
      "text/plain": [
       "<Figure size 432x288 with 1 Axes>"
      ]
     },
     "metadata": {
      "needs_background": "light"
     },
     "output_type": "display_data"
    }
   ],
   "source": [
    "plt.scatter(x=si[\"edad\"], y=si[\"calificacion\"], label=\"SI\")\n",
    "plt.scatter(x=no[\"edad\"], y=no[\"calificacion\"], label=\"NO\")\n",
    "plt.legend(loc=\"upper right\")\n",
    "plt.show()"
   ]
  },
  {
   "cell_type": "markdown",
   "id": "c76956ca-825f-49c6-928a-c6558dd06efb",
   "metadata": {},
   "source": [
    "__Conclusión:__ La mayoria de los estudiantes que quieren obtener un certificado tienen altas calificaciones"
   ]
  },
  {
   "cell_type": "markdown",
   "id": "2ee999f2-7657-44c2-bc0b-27bf9057be70",
   "metadata": {},
   "source": [
    "## Ejercicio 9:\n",
    "Utilizar pivot table crear un DataFrame que contenga la calificación promedio de los estudiantes en cada año, separado por si quieren obtener un certificado o no, el resultado debe ser el siguiente:"
   ]
  },
  {
   "cell_type": "markdown",
   "id": "3565034b-6e79-4ecb-a7d9-1abd42fd7d59",
   "metadata": {},
   "source": [
    "![Resuelto](./img/Act9Img1.png)"
   ]
  },
  {
   "cell_type": "code",
   "execution_count": 36,
   "id": "70fe381a-41c8-497f-95c5-f9419f0e131c",
   "metadata": {},
   "outputs": [],
   "source": [
    "calificaciones =pd.pivot_table(historico,\n",
    "                      index=[\"anio\"],\n",
    "                      columns=\"certificacion\",\n",
    "                      fill_value=np.nan,\n",
    "                      values=\"calificacion\",\n",
    "                      aggfunc='mean')"
   ]
  },
  {
   "cell_type": "code",
   "execution_count": 37,
   "id": "af4d424e-a1df-40d2-86e0-e4bd15b5fafa",
   "metadata": {},
   "outputs": [],
   "source": [
    "#calificaciones.head()"
   ]
  },
  {
   "cell_type": "markdown",
   "id": "82fdec6a-b578-4412-b804-b0dfbbb59383",
   "metadata": {},
   "source": [
    "Armar un código que devuelva un DataFrame con la diferencia en cada año respecto a la calificación promedio de los estudiantes que si querian obtener un certificado contra los que no, por ejemplo, si en el 2017 el promedio de los estudiantes que si querían un certificado era 9 y de los que no era 8, la diferencia será 1 para esa fila, el resultado debe ser el siguiente:"
   ]
  },
  {
   "cell_type": "markdown",
   "id": "d2c063c8-f083-45cf-a4cf-40e4dcb070bb",
   "metadata": {},
   "source": [
    "![Resuelto](./img/Act9Img2.png)"
   ]
  },
  {
   "cell_type": "code",
   "execution_count": 38,
   "id": "e03d5960-bd04-40ee-b836-ec8d261ca5f6",
   "metadata": {},
   "outputs": [],
   "source": [
    "calificaciones[\"DIFERENCIA\"]= calificaciones[\"SI\"]-calificaciones[\"NO\"]"
   ]
  },
  {
   "cell_type": "code",
   "execution_count": 39,
   "id": "5b5b7ca4-db61-4259-a8aa-cc6ada8181bd",
   "metadata": {},
   "outputs": [
    {
     "data": {
      "text/html": [
       "<div>\n",
       "<style scoped>\n",
       "    .dataframe tbody tr th:only-of-type {\n",
       "        vertical-align: middle;\n",
       "    }\n",
       "\n",
       "    .dataframe tbody tr th {\n",
       "        vertical-align: top;\n",
       "    }\n",
       "\n",
       "    .dataframe thead th {\n",
       "        text-align: right;\n",
       "    }\n",
       "</style>\n",
       "<table border=\"1\" class=\"dataframe\">\n",
       "  <thead>\n",
       "    <tr style=\"text-align: right;\">\n",
       "      <th>certificacion</th>\n",
       "      <th>NO</th>\n",
       "      <th>SI</th>\n",
       "      <th>DIFERENCIA</th>\n",
       "    </tr>\n",
       "    <tr>\n",
       "      <th>anio</th>\n",
       "      <th></th>\n",
       "      <th></th>\n",
       "      <th></th>\n",
       "    </tr>\n",
       "  </thead>\n",
       "  <tbody>\n",
       "    <tr>\n",
       "      <th>2017</th>\n",
       "      <td>8.342857</td>\n",
       "      <td>8.747368</td>\n",
       "      <td>0.404511</td>\n",
       "    </tr>\n",
       "    <tr>\n",
       "      <th>2018</th>\n",
       "      <td>8.315556</td>\n",
       "      <td>8.996667</td>\n",
       "      <td>0.681111</td>\n",
       "    </tr>\n",
       "    <tr>\n",
       "      <th>2019</th>\n",
       "      <td>8.226190</td>\n",
       "      <td>8.854545</td>\n",
       "      <td>0.628355</td>\n",
       "    </tr>\n",
       "    <tr>\n",
       "      <th>2020</th>\n",
       "      <td>8.300000</td>\n",
       "      <td>8.800000</td>\n",
       "      <td>0.500000</td>\n",
       "    </tr>\n",
       "  </tbody>\n",
       "</table>\n",
       "</div>"
      ],
      "text/plain": [
       "certificacion        NO        SI  DIFERENCIA\n",
       "anio                                         \n",
       "2017           8.342857  8.747368    0.404511\n",
       "2018           8.315556  8.996667    0.681111\n",
       "2019           8.226190  8.854545    0.628355\n",
       "2020           8.300000  8.800000    0.500000"
      ]
     },
     "execution_count": 39,
     "metadata": {},
     "output_type": "execute_result"
    }
   ],
   "source": [
    "calificaciones.head()"
   ]
  },
  {
   "cell_type": "markdown",
   "id": "337f1af0-3e3f-45f7-8468-051d47febffc",
   "metadata": {},
   "source": [
    "Utilizando el DataFrame anterior hacer una gráfica de barras con el año en el eje \"x\" y la diferencia de los promedios en la calificación como eje \"y\", el resultado debe ser el siguiente:"
   ]
  },
  {
   "cell_type": "markdown",
   "id": "8dda8d42-5b09-4303-844c-8803041d4a93",
   "metadata": {},
   "source": [
    "![Resuelto](./img/Act9Img3.png)"
   ]
  },
  {
   "cell_type": "code",
   "execution_count": 40,
   "id": "afe7518a-1fd7-4c20-b970-7fbc630b70e9",
   "metadata": {},
   "outputs": [
    {
     "data": {
      "image/png": "[encoded data removed]",
      "text/plain": [
       "<Figure size 432x288 with 1 Axes>"
      ]
     },
     "metadata": {
      "needs_background": "light"
     },
     "output_type": "display_data"
    }
   ],
   "source": [
    "calificaciones.plot(y=\"DIFERENCIA\",kind=\"bar\",color=\"green\")\n",
    "plt.show()"
   ]
  },
  {
   "cell_type": "markdown",
   "id": "0cc37af4-c37a-4d4a-af45-e9a01ca08e35",
   "metadata": {},
   "source": [
    "__Conclusión:__ los estudiantes que buscan obtener su certificado tienen mayores calificaciones en promedio"
   ]
  },
  {
   "cell_type": "markdown",
   "id": "258fe2fa-5672-4ade-92e7-432d9e62d2d8",
   "metadata": {},
   "source": [
    "## Ejercicio 10:\n",
    "Armar un código que devuelva un dataframe con las diferencias de las calificaciones de cada alumno con respecto al promedio general, por ejemplo, si Juan sacó 8 y el promedio general es 9, la diferencia será -1, el resultado debe ser el siguiente:"
   ]
  },
  {
   "cell_type": "markdown",
   "id": "f55b21cf-d4ba-4942-8cfc-a4f757bf6106",
   "metadata": {},
   "source": [
    "![Resuelto](./img/Act10Img1.png)"
   ]
  },
  {
   "cell_type": "code",
   "execution_count": 41,
   "id": "e834dd11-fc4e-42eb-a9f0-75a31e12dbec",
   "metadata": {},
   "outputs": [],
   "source": [
    "calif_promedio = historico[\"calificacion\"].mean()\n",
    "\n",
    "def diferencia(calif):\n",
    "    return calif-calif_promedio\n",
    "\n",
    "historico[\"diferencia\"]= historico[\"calificacion\"].apply(diferencia)"
   ]
  },
  {
   "cell_type": "code",
   "execution_count": 42,
   "id": "e61029e1-fbad-4d5c-9b83-a21ef117763a",
   "metadata": {},
   "outputs": [],
   "source": [
    "#historico.head()"
   ]
  },
  {
   "cell_type": "markdown",
   "id": "b1ab6710-1dbe-4fab-b6aa-dc58b9113419",
   "metadata": {},
   "source": [
    "Nota: se puede hacer como en el ejercicio anterior, pero se hizo diferente para mostrar más opciones a los alumnos"
   ]
  },
  {
   "cell_type": "markdown",
   "id": "6f0005c1-2f16-48aa-bde5-58482ec864b9",
   "metadata": {},
   "source": [
    "Armar un código que devuelva un Dataframe con los datos de los estudiantes que si quieren obtener un certificado,el resultado debe ser el siguiente:"
   ]
  },
  {
   "cell_type": "markdown",
   "id": "7f63fb63-e0eb-48d0-9a34-9f5221102609",
   "metadata": {},
   "source": [
    "![Resuelto](./img/Act10Img2.png)"
   ]
  },
  {
   "cell_type": "code",
   "execution_count": 43,
   "id": "a1e74874-ee72-4767-8882-9645229f99bb",
   "metadata": {},
   "outputs": [],
   "source": [
    "si= historico[historico[\"certificacion\"]==\"SI\"]"
   ]
  },
  {
   "cell_type": "code",
   "execution_count": 44,
   "id": "6482387f-3cbf-409c-8bcd-d2670f007a84",
   "metadata": {},
   "outputs": [],
   "source": [
    "#si.head()"
   ]
  },
  {
   "cell_type": "markdown",
   "id": "56a8328d-2402-4a5e-a3f2-0ec639d2ca13",
   "metadata": {},
   "source": [
    "Armar un código que devuelva un Dataframe con los datos de los estudiantes que no quieren obtener un certificado,el resultado debe ser el siguiente:"
   ]
  },
  {
   "cell_type": "markdown",
   "id": "73fc7010-0d59-4d63-8832-680bcd807cd9",
   "metadata": {},
   "source": [
    "![Resuelto](./img/Act10Img3.png)"
   ]
  },
  {
   "cell_type": "code",
   "execution_count": 45,
   "id": "36e30ed3-53d4-47e7-85a7-6c781ce171a5",
   "metadata": {},
   "outputs": [],
   "source": [
    "no= historico[historico[\"certificacion\"]==\"NO\"]"
   ]
  },
  {
   "cell_type": "code",
   "execution_count": 46,
   "id": "00578ffb-7c1c-48ab-8f09-df30d5f75b87",
   "metadata": {},
   "outputs": [],
   "source": [
    "#no.head()"
   ]
  },
  {
   "cell_type": "markdown",
   "id": "593eb14a-603e-4103-88b3-e51f047db7d0",
   "metadata": {},
   "source": [
    "Hacer una gráfica de puntos con la edad en el eje \"x\" y la diferencia de los estudiantes con la calificación promedio en el eje \"y\", utilizando el DataFrame con los datos de los estudiantes que SI quieren obtener un certificado"
   ]
  },
  {
   "cell_type": "markdown",
   "id": "654d558a-a338-4f47-a9cb-2da8364036d7",
   "metadata": {},
   "source": [
    "![Resuelto](./img/Act10Img4.png)"
   ]
  },
  {
   "cell_type": "code",
   "execution_count": 47,
   "id": "0c3e9c55-672d-4cd3-89a6-930313b4ef45",
   "metadata": {},
   "outputs": [
    {
     "data": {
      "text/plain": [
       "<matplotlib.legend.Legend at 0x21036b28490>"
      ]
     },
     "execution_count": 47,
     "metadata": {},
     "output_type": "execute_result"
    },
    {
     "data": {
      "image/png": "[encoded data removed]",
      "text/plain": [
       "<Figure size 432x288 with 1 Axes>"
      ]
     },
     "metadata": {
      "needs_background": "light"
     },
     "output_type": "display_data"
    }
   ],
   "source": [
    "plt.scatter(x=si[\"edad\"], y=si[\"diferencia\"], label=\"SI\")\n",
    "#plt.axline((12, 0), (50, 0))\n",
    "plt.legend(loc=\"upper right\")"
   ]
  },
  {
   "cell_type": "markdown",
   "id": "5745fe43-c5d6-449a-a61e-dd9fe61dc2d9",
   "metadata": {},
   "source": [
    "En el mismo diagrama sobreponer una gráfica de puntos con los datos de los estudiantes que NO quieren obtener el certificado, el resultado debe ser el siguiente:"
   ]
  },
  {
   "cell_type": "markdown",
   "id": "f8b4aa9f-9eca-4480-9953-a89895febcaf",
   "metadata": {},
   "source": [
    "![Resuelto](./img/Act10Img5.png)"
   ]
  },
  {
   "cell_type": "code",
   "execution_count": 48,
   "id": "774e1b4e-d4f8-41c7-9ecd-425fec6b8809",
   "metadata": {},
   "outputs": [
    {
     "data": {
      "text/plain": [
       "<matplotlib.legend.Legend at 0x21036ba0160>"
      ]
     },
     "execution_count": 48,
     "metadata": {},
     "output_type": "execute_result"
    },
    {
     "data": {
      "image/png": "[encoded data removed]",
      "text/plain": [
       "<Figure size 432x288 with 1 Axes>"
      ]
     },
     "metadata": {
      "needs_background": "light"
     },
     "output_type": "display_data"
    }
   ],
   "source": [
    "\n",
    "plt.scatter(x=si[\"edad\"], y=si[\"diferencia\"], label=\"SI\")\n",
    "plt.scatter(x=no[\"edad\"], y=no[\"diferencia\"], label=\"NO\")\n",
    "#plt.axline((12, 0), (50, 0))\n",
    "plt.legend(loc=\"upper right\")"
   ]
  },
  {
   "cell_type": "markdown",
   "id": "4d2f2fa9-2987-4756-9157-733c16cd3c6e",
   "metadata": {},
   "source": [
    "Agregar una linea recta con plt.axline que divida las calificaciones por encima y por debajo del promedio, el resultado debe ser el siguiente:"
   ]
  },
  {
   "cell_type": "markdown",
   "id": "2c25ee92-4481-4d94-94e5-1b157ea1f083",
   "metadata": {},
   "source": [
    "![Resuelto](./img/Act10Img6.png)"
   ]
  },
  {
   "cell_type": "code",
   "execution_count": 49,
   "id": "e23f34bb-a0b8-4a62-88ca-ca8e335a733b",
   "metadata": {},
   "outputs": [
    {
     "data": {
      "text/plain": [
       "<matplotlib.legend.Legend at 0x21036afb250>"
      ]
     },
     "execution_count": 49,
     "metadata": {},
     "output_type": "execute_result"
    },
    {
     "data": {
      "image/png": "[encoded data removed]",
      "text/plain": [
       "<Figure size 432x288 with 1 Axes>"
      ]
     },
     "metadata": {
      "needs_background": "light"
     },
     "output_type": "display_data"
    }
   ],
   "source": [
    "plt.scatter(x=si[\"edad\"], y=si[\"diferencia\"], label=\"SI\")\n",
    "plt.scatter(x=no[\"edad\"], y=no[\"diferencia\"], label=\"NO\")\n",
    "plt.axline((12, 0), (50, 0))\n",
    "plt.legend(loc=\"upper right\")"
   ]
  },
  {
   "cell_type": "markdown",
   "id": "a0266783-cc9e-4cc6-96ff-cad8d81a449c",
   "metadata": {},
   "source": [
    "__Conclusión:__ Los estudiantes que desean obtener un certificado tienden a tener calificaciones mayores al promedio"
   ]
  },
  {
   "cell_type": "markdown",
   "id": "93cccc49-2eac-4373-95d3-a618220ca3d6",
   "metadata": {},
   "source": [
    "## Ejercicio 11\n",
    "Armar un Dataframe con los indices de los alumnos que obtuvieron la calificación más alta en cada grupo en cada año, el resultado debe ser:"
   ]
  },
  {
   "cell_type": "markdown",
   "id": "829fdbde-cc4d-4834-8133-3318abeac631",
   "metadata": {},
   "source": [
    "![Resuelto](./img/Act11Img1.png)"
   ]
  },
  {
   "cell_type": "code",
   "execution_count": 50,
   "id": "0ab228a1-e54c-4032-b657-7a8b22ffddc6",
   "metadata": {},
   "outputs": [],
   "source": [
    "max_calif=historico.groupby(by=[\"anio\",\"grupo\"]).agg({\"calificacion\":\"idxmax\"})"
   ]
  },
  {
   "cell_type": "code",
   "execution_count": 51,
   "id": "64389f6b-52a1-40f7-ba2c-e4e017d567b6",
   "metadata": {},
   "outputs": [],
   "source": [
    "#max_calif.head()"
   ]
  },
  {
   "cell_type": "markdown",
   "id": "239a0ee2-a1df-4a61-8443-bb753be46127",
   "metadata": {},
   "source": [
    "Utilizar los indices del paso anterior para obtener en un DataFrame los datos de los estudiantes con mejor promedio empleando iloc, el resultado debe ser:"
   ]
  },
  {
   "cell_type": "markdown",
   "id": "e5b797a8-7733-4c25-8c4e-f915cdfff665",
   "metadata": {},
   "source": [
    "![Resuelto](./img/Act11Img2.png)"
   ]
  },
  {
   "cell_type": "code",
   "execution_count": 52,
   "id": "f8532412-cc77-44d3-b39e-006586a4ad69",
   "metadata": {},
   "outputs": [],
   "source": [
    "max_calif=historico.loc[max_calif[\"calificacion\"]]"
   ]
  },
  {
   "cell_type": "code",
   "execution_count": 53,
   "id": "c0963e35-3e9e-4b37-980d-7272d6a454a3",
   "metadata": {},
   "outputs": [
    {
     "data": {
      "text/html": [
       "<div>\n",
       "<style scoped>\n",
       "    .dataframe tbody tr th:only-of-type {\n",
       "        vertical-align: middle;\n",
       "    }\n",
       "\n",
       "    .dataframe tbody tr th {\n",
       "        vertical-align: top;\n",
       "    }\n",
       "\n",
       "    .dataframe thead th {\n",
       "        text-align: right;\n",
       "    }\n",
       "</style>\n",
       "<table border=\"1\" class=\"dataframe\">\n",
       "  <thead>\n",
       "    <tr style=\"text-align: right;\">\n",
       "      <th></th>\n",
       "      <th>nombre</th>\n",
       "      <th>edad</th>\n",
       "      <th>calificacion</th>\n",
       "      <th>grupo</th>\n",
       "      <th>anio</th>\n",
       "      <th>semestre</th>\n",
       "      <th>certificacion</th>\n",
       "      <th>maestro</th>\n",
       "      <th>diferencia</th>\n",
       "    </tr>\n",
       "    <tr>\n",
       "      <th>num_control</th>\n",
       "      <th></th>\n",
       "      <th></th>\n",
       "      <th></th>\n",
       "      <th></th>\n",
       "      <th></th>\n",
       "      <th></th>\n",
       "      <th></th>\n",
       "      <th></th>\n",
       "      <th></th>\n",
       "    </tr>\n",
       "  </thead>\n",
       "  <tbody>\n",
       "    <tr>\n",
       "      <th>A006</th>\n",
       "      <td>Jacobo</td>\n",
       "      <td>44</td>\n",
       "      <td>9.8</td>\n",
       "      <td>A</td>\n",
       "      <td>2017</td>\n",
       "      <td>1</td>\n",
       "      <td>SI</td>\n",
       "      <td>Tatiana</td>\n",
       "      <td>1.286</td>\n",
       "    </tr>\n",
       "    <tr>\n",
       "      <th>A027</th>\n",
       "      <td>Roberto</td>\n",
       "      <td>28</td>\n",
       "      <td>9.8</td>\n",
       "      <td>B</td>\n",
       "      <td>2017</td>\n",
       "      <td>1</td>\n",
       "      <td>NO</td>\n",
       "      <td>Armando</td>\n",
       "      <td>1.286</td>\n",
       "    </tr>\n",
       "    <tr>\n",
       "      <th>A054</th>\n",
       "      <td>Daniel</td>\n",
       "      <td>15</td>\n",
       "      <td>9.8</td>\n",
       "      <td>C</td>\n",
       "      <td>2017</td>\n",
       "      <td>1</td>\n",
       "      <td>NO</td>\n",
       "      <td>Emily</td>\n",
       "      <td>1.286</td>\n",
       "    </tr>\n",
       "    <tr>\n",
       "      <th>A087</th>\n",
       "      <td>Kevin</td>\n",
       "      <td>16</td>\n",
       "      <td>10.0</td>\n",
       "      <td>A</td>\n",
       "      <td>2018</td>\n",
       "      <td>1</td>\n",
       "      <td>SI</td>\n",
       "      <td>Tatiana</td>\n",
       "      <td>1.486</td>\n",
       "    </tr>\n",
       "    <tr>\n",
       "      <th>A124</th>\n",
       "      <td>Isabella</td>\n",
       "      <td>22</td>\n",
       "      <td>9.9</td>\n",
       "      <td>B</td>\n",
       "      <td>2018</td>\n",
       "      <td>2</td>\n",
       "      <td>NO</td>\n",
       "      <td>Armando</td>\n",
       "      <td>1.386</td>\n",
       "    </tr>\n",
       "  </tbody>\n",
       "</table>\n",
       "</div>"
      ],
      "text/plain": [
       "               nombre  edad  calificacion grupo  anio  semestre certificacion  \\\n",
       "num_control                                                                     \n",
       "A006           Jacobo    44           9.8     A  2017         1            SI   \n",
       "A027          Roberto    28           9.8     B  2017         1            NO   \n",
       "A054           Daniel    15           9.8     C  2017         1            NO   \n",
       "A087            Kevin    16          10.0     A  2018         1            SI   \n",
       "A124         Isabella    22           9.9     B  2018         2            NO   \n",
       "\n",
       "             maestro  diferencia  \n",
       "num_control                       \n",
       "A006         Tatiana       1.286  \n",
       "A027         Armando       1.286  \n",
       "A054           Emily       1.286  \n",
       "A087         Tatiana       1.486  \n",
       "A124         Armando       1.386  "
      ]
     },
     "execution_count": 53,
     "metadata": {},
     "output_type": "execute_result"
    }
   ],
   "source": [
    "max_calif.head()"
   ]
  },
  {
   "cell_type": "markdown",
   "id": "58b35543-c978-4a03-8b73-31cba8e35da0",
   "metadata": {},
   "source": [
    "Utilizando el DataFrame anterior hacer una gráfica de puntos con la calificación de los estudiantes en el eje \"x\" y con su nombre en el eje y, el resultado debe ser el siguiente:"
   ]
  },
  {
   "cell_type": "markdown",
   "id": "a4fdc0aa-ba79-4083-8183-abe88a29b526",
   "metadata": {},
   "source": [
    "![Resuelto](./img/Act11Img3.png)"
   ]
  },
  {
   "cell_type": "code",
   "execution_count": 54,
   "id": "1726d4a8-127e-436c-81b3-5821ae2a6c22",
   "metadata": {},
   "outputs": [
    {
     "data": {
      "image/png": "[encoded data removed]",
      "text/plain": [
       "<Figure size 432x288 with 1 Axes>"
      ]
     },
     "metadata": {
      "needs_background": "light"
     },
     "output_type": "display_data"
    }
   ],
   "source": [
    "plt.scatter(x=max_calif[\"nombre\"], y=max_calif[\"calificacion\"])\n",
    "plt.xticks(max_calif[\"nombre\"], rotation='vertical', size=8)\n",
    "plt.show()"
   ]
  },
  {
   "cell_type": "markdown",
   "id": "8fc1af6d-2c68-44cf-ada4-5ded497e866e",
   "metadata": {},
   "source": [
    "__Conclusión:__ en todos los grupos siempre un estudiante tuvo al menos 9.8 de calificación"
   ]
  },
  {
   "cell_type": "code",
   "execution_count": 55,
   "id": "0c5185d9-63f5-4bad-9c3d-184f2dc0cc8d",
   "metadata": {},
   "outputs": [
    {
     "data": {
      "text/html": [
       "<div>\n",
       "<style scoped>\n",
       "    .dataframe tbody tr th:only-of-type {\n",
       "        vertical-align: middle;\n",
       "    }\n",
       "\n",
       "    .dataframe tbody tr th {\n",
       "        vertical-align: top;\n",
       "    }\n",
       "\n",
       "    .dataframe thead th {\n",
       "        text-align: right;\n",
       "    }\n",
       "</style>\n",
       "<table border=\"1\" class=\"dataframe\">\n",
       "  <thead>\n",
       "    <tr style=\"text-align: right;\">\n",
       "      <th></th>\n",
       "      <th>nombre</th>\n",
       "      <th>edad</th>\n",
       "      <th>calificacion</th>\n",
       "      <th>grupo</th>\n",
       "      <th>anio</th>\n",
       "      <th>semestre</th>\n",
       "      <th>certificacion</th>\n",
       "      <th>maestro</th>\n",
       "      <th>diferencia</th>\n",
       "    </tr>\n",
       "    <tr>\n",
       "      <th>num_control</th>\n",
       "      <th></th>\n",
       "      <th></th>\n",
       "      <th></th>\n",
       "      <th></th>\n",
       "      <th></th>\n",
       "      <th></th>\n",
       "      <th></th>\n",
       "      <th></th>\n",
       "      <th></th>\n",
       "    </tr>\n",
       "  </thead>\n",
       "  <tbody>\n",
       "    <tr>\n",
       "      <th>A006</th>\n",
       "      <td>Jacobo</td>\n",
       "      <td>44</td>\n",
       "      <td>9.8</td>\n",
       "      <td>A</td>\n",
       "      <td>2017</td>\n",
       "      <td>1</td>\n",
       "      <td>SI</td>\n",
       "      <td>Tatiana</td>\n",
       "      <td>1.286</td>\n",
       "    </tr>\n",
       "    <tr>\n",
       "      <th>A027</th>\n",
       "      <td>Roberto</td>\n",
       "      <td>28</td>\n",
       "      <td>9.8</td>\n",
       "      <td>B</td>\n",
       "      <td>2017</td>\n",
       "      <td>1</td>\n",
       "      <td>NO</td>\n",
       "      <td>Armando</td>\n",
       "      <td>1.286</td>\n",
       "    </tr>\n",
       "    <tr>\n",
       "      <th>A054</th>\n",
       "      <td>Daniel</td>\n",
       "      <td>15</td>\n",
       "      <td>9.8</td>\n",
       "      <td>C</td>\n",
       "      <td>2017</td>\n",
       "      <td>1</td>\n",
       "      <td>NO</td>\n",
       "      <td>Emily</td>\n",
       "      <td>1.286</td>\n",
       "    </tr>\n",
       "    <tr>\n",
       "      <th>A087</th>\n",
       "      <td>Kevin</td>\n",
       "      <td>16</td>\n",
       "      <td>10.0</td>\n",
       "      <td>A</td>\n",
       "      <td>2018</td>\n",
       "      <td>1</td>\n",
       "      <td>SI</td>\n",
       "      <td>Tatiana</td>\n",
       "      <td>1.486</td>\n",
       "    </tr>\n",
       "    <tr>\n",
       "      <th>A124</th>\n",
       "      <td>Isabella</td>\n",
       "      <td>22</td>\n",
       "      <td>9.9</td>\n",
       "      <td>B</td>\n",
       "      <td>2018</td>\n",
       "      <td>2</td>\n",
       "      <td>NO</td>\n",
       "      <td>Armando</td>\n",
       "      <td>1.386</td>\n",
       "    </tr>\n",
       "  </tbody>\n",
       "</table>\n",
       "</div>"
      ],
      "text/plain": [
       "               nombre  edad  calificacion grupo  anio  semestre certificacion  \\\n",
       "num_control                                                                     \n",
       "A006           Jacobo    44           9.8     A  2017         1            SI   \n",
       "A027          Roberto    28           9.8     B  2017         1            NO   \n",
       "A054           Daniel    15           9.8     C  2017         1            NO   \n",
       "A087            Kevin    16          10.0     A  2018         1            SI   \n",
       "A124         Isabella    22           9.9     B  2018         2            NO   \n",
       "\n",
       "             maestro  diferencia  \n",
       "num_control                       \n",
       "A006         Tatiana       1.286  \n",
       "A027         Armando       1.286  \n",
       "A054           Emily       1.286  \n",
       "A087         Tatiana       1.486  \n",
       "A124         Armando       1.386  "
      ]
     },
     "execution_count": 55,
     "metadata": {},
     "output_type": "execute_result"
    }
   ],
   "source": [
    "max_calif.head()"
   ]
  },
  {
   "cell_type": "markdown",
   "id": "c8dfb41e-3b08-430a-86ca-0462bdc1ec14",
   "metadata": {
    "tags": []
   },
   "source": [
    "## Ejercicio 12\n",
    "Agregar una columna llamada id al DataFrame anterior , formada por la unión de la columna anio y la columna grupo, el resultado debe ser el siguiente:"
   ]
  },
  {
   "cell_type": "code",
   "execution_count": null,
   "id": "e172a06d-f925-4915-929e-ca6a879396b7",
   "metadata": {},
   "outputs": [],
   "source": [
    "#######################DATAFRAME INCORRECOTO###################"
   ]
  },
  {
   "cell_type": "markdown",
   "id": "a39a8a89-91f3-4237-8c23-6e47de0f7532",
   "metadata": {},
   "source": [
    "![Resuelto](./img/Act12Img1.png)"
   ]
  },
  {
   "cell_type": "code",
   "execution_count": 56,
   "id": "69a6562f-49d7-4aad-94f8-6b315beafc4b",
   "metadata": {},
   "outputs": [],
   "source": [
    "lista= max_calif.anio.apply(str)+ max_calif.grupo\n",
    "max_calif[\"id\"]=lista"
   ]
  },
  {
   "cell_type": "code",
   "execution_count": 57,
   "id": "693019de-bc25-4d58-8c01-a35df50422cb",
   "metadata": {},
   "outputs": [
    {
     "data": {
      "text/html": [
       "<div>\n",
       "<style scoped>\n",
       "    .dataframe tbody tr th:only-of-type {\n",
       "        vertical-align: middle;\n",
       "    }\n",
       "\n",
       "    .dataframe tbody tr th {\n",
       "        vertical-align: top;\n",
       "    }\n",
       "\n",
       "    .dataframe thead th {\n",
       "        text-align: right;\n",
       "    }\n",
       "</style>\n",
       "<table border=\"1\" class=\"dataframe\">\n",
       "  <thead>\n",
       "    <tr style=\"text-align: right;\">\n",
       "      <th></th>\n",
       "      <th>nombre</th>\n",
       "      <th>edad</th>\n",
       "      <th>calificacion</th>\n",
       "      <th>grupo</th>\n",
       "      <th>anio</th>\n",
       "      <th>semestre</th>\n",
       "      <th>certificacion</th>\n",
       "      <th>maestro</th>\n",
       "      <th>diferencia</th>\n",
       "      <th>id</th>\n",
       "    </tr>\n",
       "    <tr>\n",
       "      <th>num_control</th>\n",
       "      <th></th>\n",
       "      <th></th>\n",
       "      <th></th>\n",
       "      <th></th>\n",
       "      <th></th>\n",
       "      <th></th>\n",
       "      <th></th>\n",
       "      <th></th>\n",
       "      <th></th>\n",
       "      <th></th>\n",
       "    </tr>\n",
       "  </thead>\n",
       "  <tbody>\n",
       "    <tr>\n",
       "      <th>A006</th>\n",
       "      <td>Jacobo</td>\n",
       "      <td>44</td>\n",
       "      <td>9.8</td>\n",
       "      <td>A</td>\n",
       "      <td>2017</td>\n",
       "      <td>1</td>\n",
       "      <td>SI</td>\n",
       "      <td>Tatiana</td>\n",
       "      <td>1.286</td>\n",
       "      <td>2017A</td>\n",
       "    </tr>\n",
       "    <tr>\n",
       "      <th>A027</th>\n",
       "      <td>Roberto</td>\n",
       "      <td>28</td>\n",
       "      <td>9.8</td>\n",
       "      <td>B</td>\n",
       "      <td>2017</td>\n",
       "      <td>1</td>\n",
       "      <td>NO</td>\n",
       "      <td>Armando</td>\n",
       "      <td>1.286</td>\n",
       "      <td>2017B</td>\n",
       "    </tr>\n",
       "    <tr>\n",
       "      <th>A054</th>\n",
       "      <td>Daniel</td>\n",
       "      <td>15</td>\n",
       "      <td>9.8</td>\n",
       "      <td>C</td>\n",
       "      <td>2017</td>\n",
       "      <td>1</td>\n",
       "      <td>NO</td>\n",
       "      <td>Emily</td>\n",
       "      <td>1.286</td>\n",
       "      <td>2017C</td>\n",
       "    </tr>\n",
       "    <tr>\n",
       "      <th>A087</th>\n",
       "      <td>Kevin</td>\n",
       "      <td>16</td>\n",
       "      <td>10.0</td>\n",
       "      <td>A</td>\n",
       "      <td>2018</td>\n",
       "      <td>1</td>\n",
       "      <td>SI</td>\n",
       "      <td>Tatiana</td>\n",
       "      <td>1.486</td>\n",
       "      <td>2018A</td>\n",
       "    </tr>\n",
       "    <tr>\n",
       "      <th>A124</th>\n",
       "      <td>Isabella</td>\n",
       "      <td>22</td>\n",
       "      <td>9.9</td>\n",
       "      <td>B</td>\n",
       "      <td>2018</td>\n",
       "      <td>2</td>\n",
       "      <td>NO</td>\n",
       "      <td>Armando</td>\n",
       "      <td>1.386</td>\n",
       "      <td>2018B</td>\n",
       "    </tr>\n",
       "  </tbody>\n",
       "</table>\n",
       "</div>"
      ],
      "text/plain": [
       "               nombre  edad  calificacion grupo  anio  semestre certificacion  \\\n",
       "num_control                                                                     \n",
       "A006           Jacobo    44           9.8     A  2017         1            SI   \n",
       "A027          Roberto    28           9.8     B  2017         1            NO   \n",
       "A054           Daniel    15           9.8     C  2017         1            NO   \n",
       "A087            Kevin    16          10.0     A  2018         1            SI   \n",
       "A124         Isabella    22           9.9     B  2018         2            NO   \n",
       "\n",
       "             maestro  diferencia     id  \n",
       "num_control                              \n",
       "A006         Tatiana       1.286  2017A  \n",
       "A027         Armando       1.286  2017B  \n",
       "A054           Emily       1.286  2017C  \n",
       "A087         Tatiana       1.486  2018A  \n",
       "A124         Armando       1.386  2018B  "
      ]
     },
     "execution_count": 57,
     "metadata": {},
     "output_type": "execute_result"
    }
   ],
   "source": [
    "max_calif.head()"
   ]
  },
  {
   "cell_type": "code",
   "execution_count": 58,
   "id": "5d4adf46-03c3-4b1c-b995-890909415057",
   "metadata": {},
   "outputs": [],
   "source": [
    "#max_calif.head()"
   ]
  },
  {
   "cell_type": "markdown",
   "id": "c0527287-587d-4175-9a12-cd6d124daaf9",
   "metadata": {},
   "source": [
    "Hacer una gráfica de puntos con el id generado en el punto anterior como eje \"x\" y la calificación en el eje \"y\", el resultado debe ser el siguiente:"
   ]
  },
  {
   "cell_type": "markdown",
   "id": "712107be-196b-4a0a-ad37-b7544db6ac0e",
   "metadata": {},
   "source": [
    "![Resuelto](./img/Act12Img2.png)"
   ]
  },
  {
   "cell_type": "code",
   "execution_count": 59,
   "id": "263570b4-0331-43f7-89a4-62c7d8ec92f2",
   "metadata": {},
   "outputs": [
    {
     "data": {
      "image/png": "[encoded data removed]",
      "text/plain": [
       "<Figure size 432x288 with 1 Axes>"
      ]
     },
     "metadata": {
      "needs_background": "light"
     },
     "output_type": "display_data"
    }
   ],
   "source": [
    "\n",
    "plt.scatter(x=max_calif[\"id\"], y=max_calif[\"calificacion\"])\n",
    "plt.xticks(max_calif[\"id\"], rotation='vertical', size=8)\n",
    "plt.show()"
   ]
  },
  {
   "cell_type": "markdown",
   "id": "aa2d7e7d-661a-4184-90ab-bc58f5a499fb",
   "metadata": {},
   "source": [
    "__Conclusión:__ en todos los grupos siempre un estudiante tuvo al menos 9.8 de calificación"
   ]
  },
  {
   "cell_type": "markdown",
   "id": "5d94b3e4-3450-4f9c-8cc6-bdb9511523ce",
   "metadata": {},
   "source": [
    "## Ejercicio 13\n",
    "Utilizar pandas para importar los datos del archivo \"hospital.xlsx\" en la variable \"hospital\""
   ]
  },
  {
   "cell_type": "code",
   "execution_count": 60,
   "id": "9c62037c-8543-4b38-8155-9d46e56fdf2a",
   "metadata": {},
   "outputs": [],
   "source": [
    "hospital= pd.read_excel(\"./hospital.xlsx\")"
   ]
  },
  {
   "cell_type": "code",
   "execution_count": 61,
   "id": "f798322e-561a-411b-a80f-8064fa451414",
   "metadata": {},
   "outputs": [],
   "source": [
    "#hospital.head()"
   ]
  },
  {
   "cell_type": "markdown",
   "id": "45f9ea9d-d1f9-4d40-9a5a-6555e8d0a01d",
   "metadata": {},
   "source": [
    "Utilizar pandas.DatetimeIndex para agregar una columna con el año y otra con el mes de la visita al DataFrame hospital, el resultado debe ser el siguiente:"
   ]
  },
  {
   "cell_type": "markdown",
   "id": "a07ea494-2d95-4f15-8f9a-4145f1d58455",
   "metadata": {},
   "source": [
    "![Resuelto](./img/Act13Img1.png)"
   ]
  },
  {
   "cell_type": "code",
   "execution_count": 62,
   "id": "f7ede50b-59f4-4479-8c7a-a4f4f51708eb",
   "metadata": {},
   "outputs": [],
   "source": [
    "hospital[\"Año\"] =pd.DatetimeIndex(hospital['Fecha']).year\n",
    "hospital[\"Mes\"] =pd.DatetimeIndex(hospital['Fecha']).month"
   ]
  },
  {
   "cell_type": "code",
   "execution_count": 63,
   "id": "7f6590f3-b9d6-418b-957b-5805144bd39f",
   "metadata": {},
   "outputs": [],
   "source": [
    "#hospital.head()"
   ]
  },
  {
   "cell_type": "markdown",
   "id": "fdd2891e-db90-4bec-af04-908800267e21",
   "metadata": {},
   "source": [
    "En el DataFrame hospital transformar el tipo de dato de las columnas mes y año a string con apply(str):"
   ]
  },
  {
   "cell_type": "code",
   "execution_count": 64,
   "id": "4feefcdc-a51d-40a4-bc76-f89bc7c29d31",
   "metadata": {},
   "outputs": [],
   "source": [
    "hospital[\"Año\"]=hospital[\"Año\"].apply(str)\n",
    "hospital[\"Mes\"]=hospital[\"Mes\"].apply(str)"
   ]
  },
  {
   "cell_type": "markdown",
   "id": "468f4444-0201-455a-bfea-6290ec9072ff",
   "metadata": {},
   "source": [
    "Agregar un \"0\" a los meses que sean menores a 9, por ejemplo, si el valor original es 7 debemos convertirlo a 07, el resultado debe ser el siguiente:"
   ]
  },
  {
   "cell_type": "markdown",
   "id": "af686164-0ce5-43f2-832a-fe2ad540bbab",
   "metadata": {},
   "source": [
    "![Resuelto](./img/Act13Img2.png)"
   ]
  },
  {
   "cell_type": "code",
   "execution_count": 65,
   "id": "92a0f974-487e-4736-97b0-9390dd259c15",
   "metadata": {},
   "outputs": [],
   "source": [
    "def acompletar(mes): \n",
    "    return \"0\"+ mes if len(mes)==1 else mes\n",
    "        \n",
    "hospital[\"Mes\"]=hospital[\"Mes\"].apply(acompletar) "
   ]
  },
  {
   "cell_type": "code",
   "execution_count": 66,
   "id": "cd4e05ab-baba-41a9-a31e-131e81cde05b",
   "metadata": {},
   "outputs": [],
   "source": [
    "#hospital.head()"
   ]
  },
  {
   "cell_type": "markdown",
   "id": "81b17535-5269-4626-9a32-6a57745ae267",
   "metadata": {},
   "source": [
    "En el DataFrame hospital crear una columna nueva que sea la unión del año y el mes, el resultado debe ser el siguiente:"
   ]
  },
  {
   "cell_type": "markdown",
   "id": "0426b39d-8d05-4751-a5e3-afa019f0aa87",
   "metadata": {},
   "source": [
    "![Resuelto](./img/Act13Img3.png)"
   ]
  },
  {
   "cell_type": "code",
   "execution_count": 67,
   "id": "2ca38929-63d2-48ea-af65-4dcf819931d3",
   "metadata": {},
   "outputs": [],
   "source": [
    "hospital[\"FechaMes\"]=hospital[\"Año\"]+\"/\"+hospital[\"Mes\"]"
   ]
  },
  {
   "cell_type": "code",
   "execution_count": 68,
   "id": "4a40e24e-70fe-4567-a840-99e502313621",
   "metadata": {},
   "outputs": [],
   "source": [
    "#hospital.head()"
   ]
  },
  {
   "cell_type": "markdown",
   "id": "a6587afd-3e22-4c14-ad42-b5f285a9ac46",
   "metadata": {},
   "source": [
    "Crear una función utilizando groupby que devuelva un DataFrame con el total de visitas que si hicieron al hospital y el promedio de los honorarios en cada año, el resultado debe ser el siguiente:"
   ]
  },
  {
   "cell_type": "markdown",
   "id": "70b8fb57-c0b5-416c-b796-68a6e41fd080",
   "metadata": {},
   "source": [
    "![Resuelto](./img/Act13Img4.png)"
   ]
  },
  {
   "cell_type": "code",
   "execution_count": 69,
   "id": "e2147308-3b9f-4fd8-9570-94bed870d07d",
   "metadata": {},
   "outputs": [],
   "source": [
    "ganancias=hospital.groupby(\"Año\").agg({\"Honorarios\":[\"mean\",\"count\"]})"
   ]
  },
  {
   "cell_type": "code",
   "execution_count": 70,
   "id": "4774b216-dc68-45e2-bcc5-0ef9e2caf3c3",
   "metadata": {},
   "outputs": [],
   "source": [
    "#ganancias.head()"
   ]
  },
  {
   "cell_type": "markdown",
   "id": "3ac4e885-710a-408b-a3dd-e023b2df1aed",
   "metadata": {},
   "source": [
    "Utilizar seaborn para mostrar el DataFrame anterior en una gráfica de calor, el resultado debe ser el siguiente:"
   ]
  },
  {
   "cell_type": "markdown",
   "id": "240be8ec-531c-4b3c-8318-f4c6ca2e7e67",
   "metadata": {},
   "source": [
    "![Resuelto](./img/Act13Img5.png)"
   ]
  },
  {
   "cell_type": "code",
   "execution_count": 71,
   "id": "b456eefa-07af-47b8-a568-bd4454f79707",
   "metadata": {},
   "outputs": [],
   "source": [
    "import seaborn as sns\n",
    "import matplotlib.pyplot as plt"
   ]
  },
  {
   "cell_type": "code",
   "execution_count": 72,
   "id": "8116082c-21dc-4a06-8ddd-16e62ae0ae60",
   "metadata": {},
   "outputs": [
    {
     "data": {
      "image/png": "[encoded data removed]",
      "text/plain": [
       "<Figure size 432x288 with 2 Axes>"
      ]
     },
     "metadata": {
      "needs_background": "light"
     },
     "output_type": "display_data"
    }
   ],
   "source": [
    "sns.heatmap(ganancias,annot=True,fmt='g',cmap='RdBu_r')\n",
    "plt.show()"
   ]
  },
  {
   "cell_type": "markdown",
   "id": "676a900c-472b-4284-8357-4892153614bc",
   "metadata": {},
   "source": [
    "Utilizar el DataFrame anterior para hacer una gráfica de barras con el año en el eje \"x\" y los \"honorarios/total de visitas\" en el eje \"y\", el resultado debe ser el siguiente:"
   ]
  },
  {
   "cell_type": "markdown",
   "id": "a0c8c1ac-1ea9-4e60-bd95-157c11c46b8f",
   "metadata": {},
   "source": [
    "![Resuelto](./img/Act13Img6.png)"
   ]
  },
  {
   "cell_type": "code",
   "execution_count": 73,
   "id": "370cf988-324f-4888-a3b2-e856566de34e",
   "metadata": {},
   "outputs": [
    {
     "data": {
      "image/png": "[encoded data removed]",
      "text/plain": [
       "<Figure size 432x288 with 1 Axes>"
      ]
     },
     "metadata": {
      "needs_background": "light"
     },
     "output_type": "display_data"
    }
   ],
   "source": [
    "ganancias.plot(kind=\"bar\")\n",
    "plt.show()"
   ]
  },
  {
   "cell_type": "markdown",
   "id": "d2d9697d-8b7a-421c-afd4-cbf2c0a18dfc",
   "metadata": {},
   "source": [
    "__Conclusión:__ el costo promedio de los honorarios y el número de visitas no han tenido grandes variaciones."
   ]
  },
  {
   "cell_type": "markdown",
   "id": "7b5d754e-480f-48c7-8055-4bccf16f9c7b",
   "metadata": {},
   "source": [
    "## Ejercicio 14\n",
    "Crear una función que devuelva un DataFrame con los registros de las visitas al hospital que fueron con motivo de una consulta médica, el resultado debe ser el siguiente:"
   ]
  },
  {
   "cell_type": "markdown",
   "id": "1fd92f3b-9a35-4096-a6cb-30df02fa617c",
   "metadata": {},
   "source": [
    "![Resuelto](./img/Act14Img1.png)"
   ]
  },
  {
   "cell_type": "code",
   "execution_count": 74,
   "id": "d6e448ce-b214-47ab-95c0-97841de7013a",
   "metadata": {},
   "outputs": [],
   "source": [
    "consultas= hospital[hospital[\"Tipo\"]==\"Consulta\"]"
   ]
  },
  {
   "cell_type": "code",
   "execution_count": 75,
   "id": "abfa0eb7-59eb-47e8-9adb-92fde5d0f1d0",
   "metadata": {},
   "outputs": [],
   "source": [
    "#consultas.head()"
   ]
  },
  {
   "cell_type": "markdown",
   "id": "08674bbe-4a50-4675-bc99-ed2f6fdfcdc1",
   "metadata": {},
   "source": [
    "Utilizar el DataFrame anterior para crear un histograma con los honorarios en el eje \"x\", el resultado debe ser el siguiente:"
   ]
  },
  {
   "cell_type": "markdown",
   "id": "1fa5cd0d-3bb1-4923-a6bb-c6fa09fa55a8",
   "metadata": {},
   "source": [
    "![Resuelto](./img/Act14Img2.png)"
   ]
  },
  {
   "cell_type": "code",
   "execution_count": 76,
   "id": "42e5347a-f203-403b-ab19-aeeeb0d6a54f",
   "metadata": {},
   "outputs": [
    {
     "data": {
      "image/png": "[encoded data removed]",
      "text/plain": [
       "<Figure size 432x288 with 1 Axes>"
      ]
     },
     "metadata": {
      "needs_background": "light"
     },
     "output_type": "display_data"
    }
   ],
   "source": [
    "plt.hist(x=consultas[\"Honorarios\"])\n",
    "plt.title(\"Honorarios en las consultas\")\n",
    "plt.show()"
   ]
  },
  {
   "cell_type": "markdown",
   "id": "8a414e01-bff7-4b82-9bb7-8aaddf61c110",
   "metadata": {},
   "source": [
    "__Conclusión:__ el costo por una consulta normalmente es de 1000 o 1250 pesos"
   ]
  },
  {
   "cell_type": "markdown",
   "id": "d715dd09-6e67-4248-a422-ee79bb1875b1",
   "metadata": {},
   "source": [
    "## Ejercicio 15\n",
    "Crear una función utilizando groupby que devuelva un DataFrame con el total de visitas al hospital por cada especialidad, el resultado debe ser el siguiente:"
   ]
  },
  {
   "cell_type": "markdown",
   "id": "a3c387c4-0819-40f9-a4b0-bbb0969c2655",
   "metadata": {},
   "source": [
    "![Resuelto](./img/Act15Img1.png)"
   ]
  },
  {
   "cell_type": "code",
   "execution_count": 77,
   "id": "67934485-fd52-4a37-9319-50196d3b6dfb",
   "metadata": {},
   "outputs": [],
   "source": [
    "especialidad=hospital.groupby(\"Especialidad\").agg({\"Doctor\":\"count\"})"
   ]
  },
  {
   "cell_type": "code",
   "execution_count": 78,
   "id": "7b63000f-c877-4573-8a01-e193a3356273",
   "metadata": {},
   "outputs": [],
   "source": [
    "#especialidad.head()"
   ]
  },
  {
   "cell_type": "markdown",
   "id": "f1f09013-e994-4a2b-acbe-225d422dcd0b",
   "metadata": {},
   "source": [
    "Hacer una gráfica de barras con la especialidad médica en el eje \"x\" y el total de visitas en el eje \"y\", el resultado debe ser el siguiente: "
   ]
  },
  {
   "cell_type": "markdown",
   "id": "7834a478-d73e-4e19-9fd6-20730c7c672c",
   "metadata": {},
   "source": [
    "![Resuelto](./img/Act15Img2.png)"
   ]
  },
  {
   "cell_type": "code",
   "execution_count": 79,
   "id": "e4d8063e-a207-42a0-a136-4b26ffe8f21a",
   "metadata": {},
   "outputs": [
    {
     "data": {
      "image/png": "[encoded data removed]",
      "text/plain": [
       "<Figure size 432x288 with 1 Axes>"
      ]
     },
     "metadata": {
      "needs_background": "light"
     },
     "output_type": "display_data"
    }
   ],
   "source": [
    "es=especialidad.plot(kind=\"bar\")\n",
    "es.set_xlabel(\"\")\n",
    "es.set_title(\"Total de visitas al hospital por especialidad\")\n",
    "plt.show()"
   ]
  },
  {
   "cell_type": "markdown",
   "id": "8ccda34a-9902-467c-a8a4-e9cfde8b0f14",
   "metadata": {},
   "source": [
    "__Conclusión:__ la especialidad más demandada es la dermatología"
   ]
  },
  {
   "cell_type": "markdown",
   "id": "900d1482-2464-46b7-9560-631b5cacb1d6",
   "metadata": {},
   "source": [
    "## Ejercicio 16\n",
    "Crear una función que devuelva un DataFrame con la información de las visitas al hospital cuyo motivo fue una operación, el resultado debe ser el siguiente:"
   ]
  },
  {
   "cell_type": "markdown",
   "id": "6550fcbc-51f1-434b-8b53-092fcf5dae48",
   "metadata": {},
   "source": [
    "![Resuelto](./img/Act16Img1.png)"
   ]
  },
  {
   "cell_type": "code",
   "execution_count": 80,
   "id": "5251f216-0d6c-4aa8-af36-b040bc48ebbd",
   "metadata": {},
   "outputs": [],
   "source": [
    "operaciones= hospital[hospital[\"Tipo\"]==\"Operación\"]"
   ]
  },
  {
   "cell_type": "code",
   "execution_count": 81,
   "id": "14b5ab1b-a7b5-4bfd-b17c-0a26562c5219",
   "metadata": {},
   "outputs": [],
   "source": [
    "#operaciones.head()"
   ]
  },
  {
   "cell_type": "markdown",
   "id": "a4dc040e-119b-44b1-a1a5-8a35a4f124ce",
   "metadata": {},
   "source": [
    "Utilizar pivot table para crear una función que devuelva un DataFrame con los honorarios de la operación más barata en cada mes de cada año, el resultado debe ser el siguiente:"
   ]
  },
  {
   "cell_type": "markdown",
   "id": "a9c8e257-eea5-412c-a14a-a426abeb6dee",
   "metadata": {},
   "source": [
    "![Resuelto](./img/Act16Img2.png)"
   ]
  },
  {
   "cell_type": "code",
   "execution_count": 82,
   "id": "9e70f66b-e5ae-41dc-871a-3531f07ac8f0",
   "metadata": {},
   "outputs": [],
   "source": [
    "operaciones_min =pd.pivot_table(operaciones,\n",
    "                      index=[\"Mes\"],\n",
    "                      columns=\"Año\",\n",
    "                      fill_value=np.nan,\n",
    "                      values=\"Honorarios\",\n",
    "                      aggfunc='min')"
   ]
  },
  {
   "cell_type": "code",
   "execution_count": 83,
   "id": "77f199ed-2b65-4eb1-990b-b665389d5a9c",
   "metadata": {},
   "outputs": [],
   "source": [
    "#operaciones_min.head()"
   ]
  },
  {
   "cell_type": "markdown",
   "id": "597fbfd2-7d15-4210-a959-6ebf7e8c1310",
   "metadata": {},
   "source": [
    "Hacer una gráfica de barras con los meses del año en el eje \"x\" y los honorarios de la operación más económica en el eje \"y\", el resultado debe ser el siguiente:"
   ]
  },
  {
   "cell_type": "markdown",
   "id": "629c4657-587e-45f2-8f94-5e0cd28f5f9d",
   "metadata": {},
   "source": [
    "![Resuelto](./img/Act16Img3.png)"
   ]
  },
  {
   "cell_type": "code",
   "execution_count": 84,
   "id": "2487e6ab-25bc-4739-b4d4-1da51f0d79cf",
   "metadata": {},
   "outputs": [
    {
     "data": {
      "image/png": "[encoded data removed]",
      "text/plain": [
       "<Figure size 720x432 with 1 Axes>"
      ]
     },
     "metadata": {
      "needs_background": "light"
     },
     "output_type": "display_data"
    }
   ],
   "source": [
    "operaciones_min.plot(kind=\"bar\",figsize=(10,6))\n",
    "plt.show()"
   ]
  },
  {
   "cell_type": "markdown",
   "id": "bd1b8f64-c467-45c8-996c-7e51034939bc",
   "metadata": {},
   "source": [
    "__Conclusión:__ en el año 2021 es donde las operaciones más económicas tienen el costo más alto"
   ]
  },
  {
   "cell_type": "markdown",
   "id": "7fb795d4-2dd6-4e5f-8aed-760724c3605a",
   "metadata": {},
   "source": [
    "## Ejercicio 17\n",
    "Crear una función que utilizando groupby devuelva un DataFrame con la cantidad de visitas atendidas por cada doctor, el resultado debe ser el siguiente:"
   ]
  },
  {
   "cell_type": "markdown",
   "id": "b61c04d9-2ad9-4c77-a4b9-6d79ac18f521",
   "metadata": {},
   "source": [
    "![Resuelto](./img/Act17Img1.png)"
   ]
  },
  {
   "cell_type": "code",
   "execution_count": 85,
   "id": "ea8af778-8d23-4737-bde7-4b15d83c8024",
   "metadata": {},
   "outputs": [],
   "source": [
    "doctores=hospital.groupby(\"Doctor\").agg({\"Doctor\":\"count\"})"
   ]
  },
  {
   "cell_type": "code",
   "execution_count": 86,
   "id": "aa5bddd6-7cfb-4f09-81f9-56594e37acb1",
   "metadata": {},
   "outputs": [],
   "source": [
    "#doctores.head()"
   ]
  },
  {
   "cell_type": "markdown",
   "id": "bfebd0c3-fccc-499a-b9dc-b67f8dd81203",
   "metadata": {},
   "source": [
    "Hacer una gráfica de pastel sobre la cantidad de visitas atendidas por cada médico, el resultado debe ser el siguiente:"
   ]
  },
  {
   "cell_type": "markdown",
   "id": "486dfa70-fd46-451c-88b7-ad1339b52047",
   "metadata": {},
   "source": [
    "![Resuelto](./img/Act17Img2.png)"
   ]
  },
  {
   "cell_type": "code",
   "execution_count": 87,
   "id": "56c8d212-b494-46ae-905a-656d535bc237",
   "metadata": {},
   "outputs": [
    {
     "data": {
      "text/plain": [
       "Text(0.5, 1.0, 'Porcentaje de consultas por doctor')"
      ]
     },
     "execution_count": 87,
     "metadata": {},
     "output_type": "execute_result"
    },
    {
     "data": {
      "image/png": "[encoded data removed]",
      "text/plain": [
       "<Figure size 720x720 with 1 Axes>"
      ]
     },
     "metadata": {},
     "output_type": "display_data"
    }
   ],
   "source": [
    "pie=doctores.plot(kind=\"pie\",y=\"Doctor\",autopct='%1.1f%%',figsize=(10,10))\n",
    "pie.get_legend().remove()\n",
    "pie.set_ylabel('')\n",
    "pie.set_title(\"Porcentaje de consultas por doctor\")"
   ]
  },
  {
   "cell_type": "markdown",
   "id": "202b0654-a536-414f-b6a2-3af00242bd3c",
   "metadata": {},
   "source": [
    "__Conclusión:__ la mayoría de los doctores tienen una participación similar en el total de consultas, excepto por Isabella Roldán y Alfonso Soda"
   ]
  },
  {
   "cell_type": "markdown",
   "id": "50800a93-3e78-4308-ac1c-aad4bd0a4e8a",
   "metadata": {},
   "source": [
    "## Ejercicio 18\n",
    "Agregar una columna al DataFrame hospital llamada ingreso, este se obtiene al multiplicar los honorarios de cada visita con el porcentaje de comisión, el resultado debe ser el siguiente:"
   ]
  },
  {
   "cell_type": "markdown",
   "id": "0b7bd67e-15fb-403d-a94a-c859e0e7b091",
   "metadata": {},
   "source": [
    "![Resuelto](./img/Act18Img1.png)"
   ]
  },
  {
   "cell_type": "code",
   "execution_count": 88,
   "id": "c1a4ea2f-a7e4-4f49-a917-f141884def0b",
   "metadata": {},
   "outputs": [],
   "source": [
    "hospital[\"Ingreso\"]=hospital[\"Honorarios\"]*hospital[\"Comisión\"]"
   ]
  },
  {
   "cell_type": "code",
   "execution_count": 89,
   "id": "bd355e5b-1d90-479f-9cca-f2dc31b98279",
   "metadata": {},
   "outputs": [
    {
     "data": {
      "text/html": [
       "<div>\n",
       "<style scoped>\n",
       "    .dataframe tbody tr th:only-of-type {\n",
       "        vertical-align: middle;\n",
       "    }\n",
       "\n",
       "    .dataframe tbody tr th {\n",
       "        vertical-align: top;\n",
       "    }\n",
       "\n",
       "    .dataframe thead th {\n",
       "        text-align: right;\n",
       "    }\n",
       "</style>\n",
       "<table border=\"1\" class=\"dataframe\">\n",
       "  <thead>\n",
       "    <tr style=\"text-align: right;\">\n",
       "      <th></th>\n",
       "      <th>Fecha</th>\n",
       "      <th>Nombre</th>\n",
       "      <th>Doctor</th>\n",
       "      <th>Especialidad</th>\n",
       "      <th>Tipo</th>\n",
       "      <th>Honorarios</th>\n",
       "      <th>Calificación</th>\n",
       "      <th>Comisión</th>\n",
       "      <th>Año</th>\n",
       "      <th>Mes</th>\n",
       "      <th>FechaMes</th>\n",
       "      <th>Ingreso</th>\n",
       "    </tr>\n",
       "  </thead>\n",
       "  <tbody>\n",
       "    <tr>\n",
       "      <th>0</th>\n",
       "      <td>2018-01-01</td>\n",
       "      <td>Bastian Hurtado Cabrero</td>\n",
       "      <td>Simón Castro Infante</td>\n",
       "      <td>Hematología</td>\n",
       "      <td>Consulta</td>\n",
       "      <td>1025</td>\n",
       "      <td>0.84</td>\n",
       "      <td>0.16</td>\n",
       "      <td>2018</td>\n",
       "      <td>01</td>\n",
       "      <td>2018/01</td>\n",
       "      <td>164.00</td>\n",
       "    </tr>\n",
       "    <tr>\n",
       "      <th>1</th>\n",
       "      <td>2018-01-02</td>\n",
       "      <td>Carla Rosas Ávalos</td>\n",
       "      <td>Ismael López Saldaña</td>\n",
       "      <td>Hematología</td>\n",
       "      <td>Consulta</td>\n",
       "      <td>1025</td>\n",
       "      <td>0.83</td>\n",
       "      <td>0.11</td>\n",
       "      <td>2018</td>\n",
       "      <td>01</td>\n",
       "      <td>2018/01</td>\n",
       "      <td>112.75</td>\n",
       "    </tr>\n",
       "    <tr>\n",
       "      <th>2</th>\n",
       "      <td>2018-01-03</td>\n",
       "      <td>Natanael Lazcano Aguilar</td>\n",
       "      <td>Félix Llanos Macías</td>\n",
       "      <td>Cardiología</td>\n",
       "      <td>Consulta</td>\n",
       "      <td>1075</td>\n",
       "      <td>0.78</td>\n",
       "      <td>0.12</td>\n",
       "      <td>2018</td>\n",
       "      <td>01</td>\n",
       "      <td>2018/01</td>\n",
       "      <td>129.00</td>\n",
       "    </tr>\n",
       "    <tr>\n",
       "      <th>3</th>\n",
       "      <td>2018-01-04</td>\n",
       "      <td>Judith Hinojosa Torres</td>\n",
       "      <td>Ismael López Saldaña</td>\n",
       "      <td>Hematología</td>\n",
       "      <td>Consulta</td>\n",
       "      <td>1075</td>\n",
       "      <td>0.92</td>\n",
       "      <td>0.17</td>\n",
       "      <td>2018</td>\n",
       "      <td>01</td>\n",
       "      <td>2018/01</td>\n",
       "      <td>182.75</td>\n",
       "    </tr>\n",
       "    <tr>\n",
       "      <th>4</th>\n",
       "      <td>2018-01-07</td>\n",
       "      <td>Giovanni Rudomín Arias</td>\n",
       "      <td>Paulina Contreras Cuevas</td>\n",
       "      <td>Gastroenterología.</td>\n",
       "      <td>Consulta</td>\n",
       "      <td>1125</td>\n",
       "      <td>0.89</td>\n",
       "      <td>0.12</td>\n",
       "      <td>2018</td>\n",
       "      <td>01</td>\n",
       "      <td>2018/01</td>\n",
       "      <td>135.00</td>\n",
       "    </tr>\n",
       "  </tbody>\n",
       "</table>\n",
       "</div>"
      ],
      "text/plain": [
       "       Fecha                    Nombre                    Doctor  \\\n",
       "0 2018-01-01   Bastian Hurtado Cabrero      Simón Castro Infante   \n",
       "1 2018-01-02        Carla Rosas Ávalos      Ismael López Saldaña   \n",
       "2 2018-01-03  Natanael Lazcano Aguilar       Félix Llanos Macías   \n",
       "3 2018-01-04    Judith Hinojosa Torres      Ismael López Saldaña   \n",
       "4 2018-01-07    Giovanni Rudomín Arias  Paulina Contreras Cuevas   \n",
       "\n",
       "         Especialidad      Tipo  Honorarios  Calificación  Comisión   Año Mes  \\\n",
       "0         Hematología  Consulta        1025          0.84      0.16  2018  01   \n",
       "1         Hematología  Consulta        1025          0.83      0.11  2018  01   \n",
       "2        Cardiología   Consulta        1075          0.78      0.12  2018  01   \n",
       "3         Hematología  Consulta        1075          0.92      0.17  2018  01   \n",
       "4  Gastroenterología.  Consulta        1125          0.89      0.12  2018  01   \n",
       "\n",
       "  FechaMes  Ingreso  \n",
       "0  2018/01   164.00  \n",
       "1  2018/01   112.75  \n",
       "2  2018/01   129.00  \n",
       "3  2018/01   182.75  \n",
       "4  2018/01   135.00  "
      ]
     },
     "execution_count": 89,
     "metadata": {},
     "output_type": "execute_result"
    }
   ],
   "source": [
    "hospital.head()"
   ]
  },
  {
   "cell_type": "markdown",
   "id": "d7b22aad-0215-4c0c-9f6d-d25262871c0e",
   "metadata": {},
   "source": [
    "Crear una función utilizando pivot table que devuelva un DataFrame con la suma de los ingresos en cada año por tipo de visita:"
   ]
  },
  {
   "cell_type": "markdown",
   "id": "2ba38da2-145e-4156-8c2a-daffae396690",
   "metadata": {},
   "source": [
    "![Resuelto](./img/Act18Img2.png)"
   ]
  },
  {
   "cell_type": "code",
   "execution_count": 90,
   "id": "fa22c560-9418-49e1-aff6-6341e20cc6da",
   "metadata": {},
   "outputs": [],
   "source": [
    "ingresos =pd.pivot_table(hospital,\n",
    "                      index=[\"Año\"],\n",
    "                      columns=\"Tipo\",\n",
    "                      fill_value=np.nan,\n",
    "                      values=\"Ingreso\",\n",
    "                      aggfunc='sum')"
   ]
  },
  {
   "cell_type": "code",
   "execution_count": 91,
   "id": "d2733e84-c201-458c-8a0d-4c63f4e3386b",
   "metadata": {},
   "outputs": [
    {
     "data": {
      "text/html": [
       "<div>\n",
       "<style scoped>\n",
       "    .dataframe tbody tr th:only-of-type {\n",
       "        vertical-align: middle;\n",
       "    }\n",
       "\n",
       "    .dataframe tbody tr th {\n",
       "        vertical-align: top;\n",
       "    }\n",
       "\n",
       "    .dataframe thead th {\n",
       "        text-align: right;\n",
       "    }\n",
       "</style>\n",
       "<table border=\"1\" class=\"dataframe\">\n",
       "  <thead>\n",
       "    <tr style=\"text-align: right;\">\n",
       "      <th>Tipo</th>\n",
       "      <th>Consulta</th>\n",
       "      <th>Examen</th>\n",
       "      <th>Operación</th>\n",
       "    </tr>\n",
       "    <tr>\n",
       "      <th>Año</th>\n",
       "      <th></th>\n",
       "      <th></th>\n",
       "      <th></th>\n",
       "    </tr>\n",
       "  </thead>\n",
       "  <tbody>\n",
       "    <tr>\n",
       "      <th>2018</th>\n",
       "      <td>69302.0</td>\n",
       "      <td>121121</td>\n",
       "      <td>468165</td>\n",
       "    </tr>\n",
       "    <tr>\n",
       "      <th>2019</th>\n",
       "      <td>68941.5</td>\n",
       "      <td>109276</td>\n",
       "      <td>498010</td>\n",
       "    </tr>\n",
       "    <tr>\n",
       "      <th>2020</th>\n",
       "      <td>70183.5</td>\n",
       "      <td>122730</td>\n",
       "      <td>489795</td>\n",
       "    </tr>\n",
       "    <tr>\n",
       "      <th>2021</th>\n",
       "      <td>65630.0</td>\n",
       "      <td>100555</td>\n",
       "      <td>466955</td>\n",
       "    </tr>\n",
       "  </tbody>\n",
       "</table>\n",
       "</div>"
      ],
      "text/plain": [
       "Tipo  Consulta  Examen  Operación\n",
       "Año                              \n",
       "2018   69302.0  121121     468165\n",
       "2019   68941.5  109276     498010\n",
       "2020   70183.5  122730     489795\n",
       "2021   65630.0  100555     466955"
      ]
     },
     "execution_count": 91,
     "metadata": {},
     "output_type": "execute_result"
    }
   ],
   "source": [
    "ingresos.head()"
   ]
  },
  {
   "cell_type": "markdown",
   "id": "8eb52510-b8c6-47b1-b13f-ae2b0d173e9c",
   "metadata": {},
   "source": [
    "Crear una gráfica de lineas con el año en el eje \"x\" y los ingresos del hospital en el eje \"y\", el resultado debe ser el siguiente:"
   ]
  },
  {
   "cell_type": "markdown",
   "id": "b627de53-2e28-4b03-9b8c-e451d8ccb0e0",
   "metadata": {},
   "source": [
    "![Resuelto](./img/Act18Img3.png)"
   ]
  },
  {
   "cell_type": "code",
   "execution_count": 92,
   "id": "70602302-9a50-4c1d-aedc-a4fb627eaaaa",
   "metadata": {},
   "outputs": [
    {
     "data": {
      "image/png": "[encoded data removed]",
      "text/plain": [
       "<Figure size 432x288 with 1 Axes>"
      ]
     },
     "metadata": {
      "needs_background": "light"
     },
     "output_type": "display_data"
    }
   ],
   "source": [
    "ingresos.plot(kind=\"line\")\n",
    "plt.show()"
   ]
  },
  {
   "cell_type": "markdown",
   "id": "1de70737-2643-48e0-83c2-348ac640e5d2",
   "metadata": {},
   "source": [
    "__Conclusión:__ El tipo de consulta que más ingresos genera al hospital son las operaciones "
   ]
  },
  {
   "cell_type": "markdown",
   "id": "ee84662c-0154-4236-b41f-76afc7a1153e",
   "metadata": {},
   "source": [
    "## Ejercicio 19\n",
    "Crear un código utilizando groupby que devuelva un DataFrame con la mediana en los ingresos en cada mes de cada año, el resultado debe ser el siguiente:"
   ]
  },
  {
   "cell_type": "markdown",
   "id": "8c441be8-9f74-4e5d-bd43-9364f9df15b7",
   "metadata": {},
   "source": [
    "![Resuelto](./img/Act19Img1.png)"
   ]
  },
  {
   "cell_type": "code",
   "execution_count": 93,
   "id": "616d09da-b320-4fa0-a941-47e4bd6ff0d9",
   "metadata": {},
   "outputs": [],
   "source": [
    "mediana=hospital.groupby([\"Año\",\"Mes\"]).agg({\"Ingreso\":\"median\"})"
   ]
  },
  {
   "cell_type": "code",
   "execution_count": 94,
   "id": "c68a6f15-27b5-4ac8-a47a-a05b35b80f3a",
   "metadata": {},
   "outputs": [],
   "source": [
    "#mediana.head()"
   ]
  },
  {
   "cell_type": "markdown",
   "id": "21a791db-d791-4869-ab81-f1718ef0f644",
   "metadata": {},
   "source": [
    "Crear una gráfica de barras el año/mes en el eje \"x\" y la mediana de los ingresos en el eje \"y\", el resultado debe ser el siguiente:"
   ]
  },
  {
   "cell_type": "markdown",
   "id": "1cc69c07-9e1c-42ce-986a-beb573d2a5e6",
   "metadata": {},
   "source": [
    "![Resuelto](./img/Act19Img2.png)"
   ]
  },
  {
   "cell_type": "code",
   "execution_count": 95,
   "id": "4ce759e3-5e1b-4cef-adc3-98fd7f6ee03b",
   "metadata": {},
   "outputs": [
    {
     "data": {
      "image/png": "[encoded data removed]",
      "text/plain": [
       "<Figure size 864x576 with 1 Axes>"
      ]
     },
     "metadata": {
      "needs_background": "light"
     },
     "output_type": "display_data"
    }
   ],
   "source": [
    "barras=mediana.plot.bar(figsize=(12, 8))\n",
    "barras.get_legend().remove()"
   ]
  },
  {
   "cell_type": "markdown",
   "id": "b3705f85-c7ca-4d36-a862-51f184eb4071",
   "metadata": {},
   "source": [
    "__Conclusión:__ La mediana de los ingresos normalmente oscila entre los 150 y 200 pesos"
   ]
  },
  {
   "cell_type": "markdown",
   "id": "99fd9c5a-da3a-475b-bcf1-efd017bfb6eb",
   "metadata": {},
   "source": [
    "## Ejercicio 20\n",
    "Crear una función que devuelva un DataFrame con la información de las visitas al hospital cuyo motivo fue una consulta médica, el resultado debe ser el siguiente:"
   ]
  },
  {
   "cell_type": "markdown",
   "id": "56febcfc-39d6-4ae4-83a3-fb27ceba10d2",
   "metadata": {},
   "source": [
    "![Resuelto](./img/Act20Img1.png)"
   ]
  },
  {
   "cell_type": "code",
   "execution_count": 96,
   "id": "eadb8c2d-0b97-4bc8-960e-9e56713906cd",
   "metadata": {},
   "outputs": [],
   "source": [
    "consultas= hospital[hospital[\"Tipo\"]==\"Consulta\"]"
   ]
  },
  {
   "cell_type": "code",
   "execution_count": 97,
   "id": "c1f84f50-0758-4208-a807-004e48629d71",
   "metadata": {},
   "outputs": [],
   "source": [
    "#consultas.head()"
   ]
  },
  {
   "cell_type": "markdown",
   "id": "11981032-ceed-478e-b722-7d4b9a3d7c7c",
   "metadata": {},
   "source": [
    "Crear una función que devuelva un DataFrame con la información de las visitas al hospital cuyo motivo fue un examen médico:"
   ]
  },
  {
   "cell_type": "markdown",
   "id": "fdaac4d8-2a94-4d21-9a63-2f289e36a3e2",
   "metadata": {},
   "source": [
    "![Resuelto](./img/Act20Img2.png)"
   ]
  },
  {
   "cell_type": "code",
   "execution_count": 98,
   "id": "a00f6f6b-429e-48eb-b89b-89f4cf376d80",
   "metadata": {},
   "outputs": [],
   "source": [
    "examenes= hospital[hospital[\"Tipo\"]==\"Examen\"]"
   ]
  },
  {
   "cell_type": "code",
   "execution_count": 99,
   "id": "3a49718c-f49e-4c51-844b-50404c1058d5",
   "metadata": {},
   "outputs": [],
   "source": [
    "#examenes.head()"
   ]
  },
  {
   "cell_type": "markdown",
   "id": "20c18455-f8d9-4547-8f1f-5b5021ebf50b",
   "metadata": {},
   "source": [
    "Hacer una gráfica de puntos con calificación que dieron los paciente en el eje \"x\" y el ingreso del hospital en el eje \"y\" utilizando el DataFrame con los datos de los pacientes que fueron por una consulta médica, el resultado debe ser el siguiente:"
   ]
  },
  {
   "cell_type": "markdown",
   "id": "aee6166a-0130-43be-bb3a-6cc764b967c0",
   "metadata": {},
   "source": [
    "![Resuelto](./img/Act20Img3.png)"
   ]
  },
  {
   "cell_type": "code",
   "execution_count": 100,
   "id": "7b9c16d6-7fb9-4a3f-8c05-ef9890755a84",
   "metadata": {},
   "outputs": [
    {
     "data": {
      "image/png": "[encoded data removed]",
      "text/plain": [
       "<Figure size 960x640 with 1 Axes>"
      ]
     },
     "metadata": {
      "needs_background": "light"
     },
     "output_type": "display_data"
    }
   ],
   "source": [
    "from matplotlib.pyplot import figure\n",
    "\n",
    "figure(figsize=(12, 8), dpi=80)\n",
    "plt.scatter(x=consultas[\"Calificación\"], y=consultas[\"Ingreso\"], label=\"Consultas\")\n",
    "\n",
    "plt.legend(loc=\"upper right\")\n",
    "plt.show()"
   ]
  },
  {
   "cell_type": "markdown",
   "id": "17686312-98aa-4675-805b-fdf518b6104f",
   "metadata": {},
   "source": [
    "En el mismo diagrama sobreponer una gráfica de puntos con los datos de los pacientes que fueron al hospital por un examen médico, el resultado debe ser el siguiente:"
   ]
  },
  {
   "cell_type": "markdown",
   "id": "67fd4269-0754-4a99-bd81-633bff77a808",
   "metadata": {},
   "source": [
    "![Resuelto](./img/Act20Img4.png)"
   ]
  },
  {
   "cell_type": "code",
   "execution_count": 101,
   "id": "a82d9f32-c2c7-4623-aad5-9c4e231ded1d",
   "metadata": {},
   "outputs": [
    {
     "data": {
      "image/png": "[encoded data removed]",
      "text/plain": [
       "<Figure size 960x640 with 1 Axes>"
      ]
     },
     "metadata": {
      "needs_background": "light"
     },
     "output_type": "display_data"
    }
   ],
   "source": [
    "from matplotlib.pyplot import figure\n",
    "\n",
    "figure(figsize=(12, 8), dpi=80)\n",
    "plt.scatter(x=consultas[\"Calificación\"], y=consultas[\"Ingreso\"], label=\"Consultas\")\n",
    "plt.scatter(x=examenes[\"Calificación\"], y=examenes[\"Ingreso\"], label=\"Examenes\")\n",
    "plt.legend(loc=\"upper right\")\n",
    "plt.show()\n"
   ]
  },
  {
   "cell_type": "markdown",
   "id": "465018d3-e459-4043-9c1b-e51c3123d8d7",
   "metadata": {},
   "source": [
    "__Conclusión:__ las consultas médicas son las que menos ingresos reportan al hospital"
   ]
  },
  {
   "cell_type": "markdown",
   "id": "9ad82654-a17a-4e34-8fcd-4a8bb4e84cd7",
   "metadata": {},
   "source": [
    "## Ejercicio 21\n",
    "Crear una función que devuelva un DataFrame con la información de las visitas médicas que no fueron por una operación, el resultado debe ser el siguiente:"
   ]
  },
  {
   "cell_type": "markdown",
   "id": "f00a9aa9-8860-4963-a92f-5efb178b5dc7",
   "metadata": {},
   "source": [
    "![Resuelto](./img/Act21Img1.png)"
   ]
  },
  {
   "cell_type": "code",
   "execution_count": 102,
   "id": "d8a09a5b-bd79-46cd-8c37-ced1786ab9de",
   "metadata": {},
   "outputs": [],
   "source": [
    "c_y_e =  hospital[hospital[\"Tipo\"]!=\"Operación\"]"
   ]
  },
  {
   "cell_type": "code",
   "execution_count": 103,
   "id": "bcae284a-3a7b-427d-8005-8355c7c8eeb5",
   "metadata": {},
   "outputs": [],
   "source": [
    "#c_y_e.head()"
   ]
  },
  {
   "cell_type": "markdown",
   "id": "5ac79940-ebb5-4dba-a62d-a6738f271739",
   "metadata": {},
   "source": [
    "Utilizando el DataFrame anterior crear una función que devuelva el ingreso promedio de todas las visitas al hospital:"
   ]
  },
  {
   "cell_type": "code",
   "execution_count": 104,
   "id": "85bdad2c-52a3-49f2-9e41-8126f78f6833",
   "metadata": {},
   "outputs": [],
   "source": [
    "ingreso_promedio = c_y_e[\"Ingreso\"].mean()"
   ]
  },
  {
   "cell_type": "code",
   "execution_count": 105,
   "id": "de6f2ba9-ffae-4162-b97d-6c7e482b216b",
   "metadata": {},
   "outputs": [
    {
     "data": {
      "text/plain": [
       "237.59027097616715"
      ]
     },
     "execution_count": 105,
     "metadata": {},
     "output_type": "execute_result"
    }
   ],
   "source": [
    "ingreso_promedio"
   ]
  },
  {
   "cell_type": "markdown",
   "id": "74c211dc-05ec-4c5c-af3f-ed688a115a48",
   "metadata": {},
   "source": [
    "Crear una función que devuelva un DataFrame con la diferencia de los ingresos de cada visita con el promedio general, por ejemplo, si se tuvo 200 pesos de ingresos en una consulta, pero el promedio es 150, la diferencia será 50, el resultado debe ser el siguiente: "
   ]
  },
  {
   "cell_type": "markdown",
   "id": "09ed8d17-3010-4f6d-aadb-8910d9d559c3",
   "metadata": {},
   "source": [
    "![Resuelto](./img/Act21Img2.png)"
   ]
  },
  {
   "cell_type": "code",
   "execution_count": 106,
   "id": "57f7ceff-6408-47a7-ac68-fed7324c047c",
   "metadata": {},
   "outputs": [
    {
     "name": "stderr",
     "output_type": "stream",
     "text": [
      "C:\\Users\\danie\\AppData\\Local\\Temp/ipykernel_13596/1885551035.py:1: SettingWithCopyWarning: \n",
      "A value is trying to be set on a copy of a slice from a DataFrame.\n",
      "Try using .loc[row_indexer,col_indexer] = value instead\n",
      "\n",
      "See the caveats in the documentation: https://pandas.pydata.org/pandas-docs/stable/user_guide/indexing.html#returning-a-view-versus-a-copy\n",
      "  c_y_e[\"Diferencia\"]= c_y_e[\"Ingreso\"]-ingreso_promedio\n"
     ]
    }
   ],
   "source": [
    "c_y_e[\"Diferencia\"]= c_y_e[\"Ingreso\"]-ingreso_promedio"
   ]
  },
  {
   "cell_type": "code",
   "execution_count": 107,
   "id": "5b844c9b-7a1d-4c64-95bc-f7f655df5395",
   "metadata": {},
   "outputs": [
    {
     "data": {
      "text/html": [
       "<div>\n",
       "<style scoped>\n",
       "    .dataframe tbody tr th:only-of-type {\n",
       "        vertical-align: middle;\n",
       "    }\n",
       "\n",
       "    .dataframe tbody tr th {\n",
       "        vertical-align: top;\n",
       "    }\n",
       "\n",
       "    .dataframe thead th {\n",
       "        text-align: right;\n",
       "    }\n",
       "</style>\n",
       "<table border=\"1\" class=\"dataframe\">\n",
       "  <thead>\n",
       "    <tr style=\"text-align: right;\">\n",
       "      <th></th>\n",
       "      <th>Fecha</th>\n",
       "      <th>Nombre</th>\n",
       "      <th>Doctor</th>\n",
       "      <th>Especialidad</th>\n",
       "      <th>Tipo</th>\n",
       "      <th>Honorarios</th>\n",
       "      <th>Calificación</th>\n",
       "      <th>Comisión</th>\n",
       "      <th>Año</th>\n",
       "      <th>Mes</th>\n",
       "      <th>FechaMes</th>\n",
       "      <th>Ingreso</th>\n",
       "      <th>Diferencia</th>\n",
       "    </tr>\n",
       "  </thead>\n",
       "  <tbody>\n",
       "    <tr>\n",
       "      <th>0</th>\n",
       "      <td>2018-01-01</td>\n",
       "      <td>Bastian Hurtado Cabrero</td>\n",
       "      <td>Simón Castro Infante</td>\n",
       "      <td>Hematología</td>\n",
       "      <td>Consulta</td>\n",
       "      <td>1025</td>\n",
       "      <td>0.84</td>\n",
       "      <td>0.16</td>\n",
       "      <td>2018</td>\n",
       "      <td>01</td>\n",
       "      <td>2018/01</td>\n",
       "      <td>164.00</td>\n",
       "      <td>-73.590271</td>\n",
       "    </tr>\n",
       "    <tr>\n",
       "      <th>1</th>\n",
       "      <td>2018-01-02</td>\n",
       "      <td>Carla Rosas Ávalos</td>\n",
       "      <td>Ismael López Saldaña</td>\n",
       "      <td>Hematología</td>\n",
       "      <td>Consulta</td>\n",
       "      <td>1025</td>\n",
       "      <td>0.83</td>\n",
       "      <td>0.11</td>\n",
       "      <td>2018</td>\n",
       "      <td>01</td>\n",
       "      <td>2018/01</td>\n",
       "      <td>112.75</td>\n",
       "      <td>-124.840271</td>\n",
       "    </tr>\n",
       "    <tr>\n",
       "      <th>2</th>\n",
       "      <td>2018-01-03</td>\n",
       "      <td>Natanael Lazcano Aguilar</td>\n",
       "      <td>Félix Llanos Macías</td>\n",
       "      <td>Cardiología</td>\n",
       "      <td>Consulta</td>\n",
       "      <td>1075</td>\n",
       "      <td>0.78</td>\n",
       "      <td>0.12</td>\n",
       "      <td>2018</td>\n",
       "      <td>01</td>\n",
       "      <td>2018/01</td>\n",
       "      <td>129.00</td>\n",
       "      <td>-108.590271</td>\n",
       "    </tr>\n",
       "    <tr>\n",
       "      <th>3</th>\n",
       "      <td>2018-01-04</td>\n",
       "      <td>Judith Hinojosa Torres</td>\n",
       "      <td>Ismael López Saldaña</td>\n",
       "      <td>Hematología</td>\n",
       "      <td>Consulta</td>\n",
       "      <td>1075</td>\n",
       "      <td>0.92</td>\n",
       "      <td>0.17</td>\n",
       "      <td>2018</td>\n",
       "      <td>01</td>\n",
       "      <td>2018/01</td>\n",
       "      <td>182.75</td>\n",
       "      <td>-54.840271</td>\n",
       "    </tr>\n",
       "    <tr>\n",
       "      <th>4</th>\n",
       "      <td>2018-01-07</td>\n",
       "      <td>Giovanni Rudomín Arias</td>\n",
       "      <td>Paulina Contreras Cuevas</td>\n",
       "      <td>Gastroenterología.</td>\n",
       "      <td>Consulta</td>\n",
       "      <td>1125</td>\n",
       "      <td>0.89</td>\n",
       "      <td>0.12</td>\n",
       "      <td>2018</td>\n",
       "      <td>01</td>\n",
       "      <td>2018/01</td>\n",
       "      <td>135.00</td>\n",
       "      <td>-102.590271</td>\n",
       "    </tr>\n",
       "  </tbody>\n",
       "</table>\n",
       "</div>"
      ],
      "text/plain": [
       "       Fecha                    Nombre                    Doctor  \\\n",
       "0 2018-01-01   Bastian Hurtado Cabrero      Simón Castro Infante   \n",
       "1 2018-01-02        Carla Rosas Ávalos      Ismael López Saldaña   \n",
       "2 2018-01-03  Natanael Lazcano Aguilar       Félix Llanos Macías   \n",
       "3 2018-01-04    Judith Hinojosa Torres      Ismael López Saldaña   \n",
       "4 2018-01-07    Giovanni Rudomín Arias  Paulina Contreras Cuevas   \n",
       "\n",
       "         Especialidad      Tipo  Honorarios  Calificación  Comisión   Año Mes  \\\n",
       "0         Hematología  Consulta        1025          0.84      0.16  2018  01   \n",
       "1         Hematología  Consulta        1025          0.83      0.11  2018  01   \n",
       "2        Cardiología   Consulta        1075          0.78      0.12  2018  01   \n",
       "3         Hematología  Consulta        1075          0.92      0.17  2018  01   \n",
       "4  Gastroenterología.  Consulta        1125          0.89      0.12  2018  01   \n",
       "\n",
       "  FechaMes  Ingreso  Diferencia  \n",
       "0  2018/01   164.00  -73.590271  \n",
       "1  2018/01   112.75 -124.840271  \n",
       "2  2018/01   129.00 -108.590271  \n",
       "3  2018/01   182.75  -54.840271  \n",
       "4  2018/01   135.00 -102.590271  "
      ]
     },
     "execution_count": 107,
     "metadata": {},
     "output_type": "execute_result"
    }
   ],
   "source": [
    "c_y_e.head()"
   ]
  },
  {
   "cell_type": "markdown",
   "id": "ad61cd54-c825-45ac-a3e8-85a779ac195b",
   "metadata": {},
   "source": [
    "Crear una función utilizando pivot table que devuelva un DataFrame con la diferencia promedio del ingreso en cada año y en cada tipo de visita, el resultado debe ser el siguiente:"
   ]
  },
  {
   "cell_type": "markdown",
   "id": "a546e82f-d867-4971-97a4-38ee994dffaa",
   "metadata": {},
   "source": [
    "![Resuelto](./img/Act21Img3.png)"
   ]
  },
  {
   "cell_type": "code",
   "execution_count": 108,
   "id": "7c2667b9-09e5-49ab-9b19-f58a9e10bc45",
   "metadata": {},
   "outputs": [],
   "source": [
    "ingresos= pd.pivot_table(c_y_e,\n",
    "                      index=[\"Año\"],\n",
    "                      columns=\"Tipo\",\n",
    "                      fill_value=np.nan,\n",
    "                      values=\"Diferencia\",\n",
    "                      aggfunc='mean')"
   ]
  },
  {
   "cell_type": "code",
   "execution_count": 109,
   "id": "23617794-a62a-417e-b6d7-ee061ef85f60",
   "metadata": {},
   "outputs": [],
   "source": [
    "#ingresos.head()"
   ]
  },
  {
   "cell_type": "markdown",
   "id": "f3e2eb23-07ca-4f44-b2c2-44308585c4e8",
   "metadata": {},
   "source": [
    "Utilizando el DataFrame anterior hacer una gráfica de barras con el año en el eje \"x\" y la diferencia del ingreso promedio en el eje \"y\", el resultado debe ser el siguiente:"
   ]
  },
  {
   "cell_type": "markdown",
   "id": "7375f56e-9495-41c6-ba8c-116e9c2b11c3",
   "metadata": {},
   "source": [
    "![Resuelto](./img/Act21Img4.png)"
   ]
  },
  {
   "cell_type": "code",
   "execution_count": 110,
   "id": "fd6298c3-6ee7-4d55-a4cb-8691bcca3b80",
   "metadata": {},
   "outputs": [
    {
     "data": {
      "image/png": "[encoded data removed]",
      "text/plain": [
       "<Figure size 432x288 with 1 Axes>"
      ]
     },
     "metadata": {
      "needs_background": "light"
     },
     "output_type": "display_data"
    }
   ],
   "source": [
    "ingresos.plot(y=[\"Consulta\",\"Examen\"],kind=\"bar\")\n",
    "plt.show()"
   ]
  },
  {
   "cell_type": "markdown",
   "id": "e2b41699-9449-4198-8de3-584933cb0ac3",
   "metadata": {},
   "source": [
    "__Conclusión:__ los ingresos promedio de las consultas siempre son menores al promedio general contando examenes"
   ]
  },
  {
   "cell_type": "markdown",
   "id": "e3b99e93-4119-423f-90d7-637d2ab48254",
   "metadata": {},
   "source": [
    "## Ejercicio 22\n",
    "Utilizando el DataFrame del ejercicio anterior, crear una función que devuelva los datos de las visitas al hospital cuyo motivo fue una consulta médica, el resultado debe ser el siguiente:"
   ]
  },
  {
   "cell_type": "markdown",
   "id": "c1e09621-31cc-4068-8d63-d0b0357bfb4d",
   "metadata": {},
   "source": [
    "![Resuelto](./img/Act22Img1.png)"
   ]
  },
  {
   "cell_type": "code",
   "execution_count": 111,
   "id": "8c8240cc-9f52-464b-b3e9-f3f67c02c039",
   "metadata": {},
   "outputs": [],
   "source": [
    "consultas= c_y_e[c_y_e[\"Tipo\"]==\"Consulta\"]"
   ]
  },
  {
   "cell_type": "code",
   "execution_count": 112,
   "id": "93299c46-e2fc-4305-8cab-e90b804f716c",
   "metadata": {},
   "outputs": [],
   "source": [
    "#consultas.head()"
   ]
  },
  {
   "cell_type": "markdown",
   "id": "fb09e2c2-a682-43ae-89e8-32296ad7f83a",
   "metadata": {},
   "source": [
    "Utilizando el DataFrame del ejercicio anterior, crear una función que devuelva los datos de las visitas al hospital cuyo motivo fue un examen médico, el resultado debe ser el siguiente:"
   ]
  },
  {
   "cell_type": "markdown",
   "id": "23685a86-db09-4cdf-bc96-a89f68f6381a",
   "metadata": {},
   "source": [
    "![Resuelto](./img/Act22Img2.png)"
   ]
  },
  {
   "cell_type": "code",
   "execution_count": 113,
   "id": "977f14f1-37f2-4fda-bcd0-041a857e3cfb",
   "metadata": {},
   "outputs": [],
   "source": [
    "examenes= c_y_e[c_y_e[\"Tipo\"]==\"Examen\"]"
   ]
  },
  {
   "cell_type": "code",
   "execution_count": 114,
   "id": "9b16a8a0-3656-4382-b284-bf0f09a82665",
   "metadata": {},
   "outputs": [],
   "source": [
    "#examenes.head()"
   ]
  },
  {
   "cell_type": "markdown",
   "id": "ab7de3ff-1154-4cf5-9615-7ffe0ce34b2b",
   "metadata": {},
   "source": [
    "Hacer una gráfica de puntos con calificación que dieron los paciente en el eje \"x\" y la diferencia con el ingreso promedio (sin contar las operaciones) del hospital en el eje \"y\",utilizando el DataFrame con los datos de los pacientes que fueron por un exámen médico, el resultado debe ser el siguiente:"
   ]
  },
  {
   "cell_type": "markdown",
   "id": "f752a4f4-c62d-4b29-aa18-57ec203f4f65",
   "metadata": {},
   "source": [
    "![Resuelto](./img/Act22Img3.png)"
   ]
  },
  {
   "cell_type": "code",
   "execution_count": 115,
   "id": "463e8e8a-5989-45aa-9844-a59042cd930d",
   "metadata": {},
   "outputs": [
    {
     "data": {
      "text/plain": [
       "<matplotlib.legend.Legend at 0x210388cb040>"
      ]
     },
     "execution_count": 115,
     "metadata": {},
     "output_type": "execute_result"
    },
    {
     "data": {
      "image/png": "[encoded data removed]",
      "text/plain": [
       "<Figure size 432x288 with 1 Axes>"
      ]
     },
     "metadata": {
      "needs_background": "light"
     },
     "output_type": "display_data"
    }
   ],
   "source": [
    "plt.scatter(x=examenes[\"Calificación\"], y=examenes[\"Diferencia\"], label=\"Examenes\")\n",
    "plt.legend(loc=\"upper right\")"
   ]
  },
  {
   "cell_type": "markdown",
   "id": "af47c1b9-2101-4fa0-a3bf-5e060e586a48",
   "metadata": {},
   "source": [
    "En el mismo diagrama sobreponer una gráfica de puntos con los datos de los pacientes que fueron al hospital por una consulta médica, el resultado debe ser el siguiente:"
   ]
  },
  {
   "cell_type": "markdown",
   "id": "1ce1b453-6626-4562-8c8b-9e9a6692c73f",
   "metadata": {},
   "source": [
    "![Resuelto](./img/Act22Img4.png)"
   ]
  },
  {
   "cell_type": "code",
   "execution_count": 116,
   "id": "817cf063-a2eb-4d95-a0f9-842a485b6011",
   "metadata": {},
   "outputs": [
    {
     "data": {
      "text/plain": [
       "<matplotlib.legend.Legend at 0x210384e7e80>"
      ]
     },
     "execution_count": 116,
     "metadata": {},
     "output_type": "execute_result"
    },
    {
     "data": {
      "image/png": "[encoded data removed]",
      "text/plain": [
       "<Figure size 432x288 with 1 Axes>"
      ]
     },
     "metadata": {
      "needs_background": "light"
     },
     "output_type": "display_data"
    }
   ],
   "source": [
    "plt.scatter(x=examenes[\"Calificación\"], y=examenes[\"Diferencia\"], label=\"Examenes\")\n",
    "plt.scatter(x=consultas[\"Calificación\"], y=consultas[\"Diferencia\"], label=\"Consultas\")\n",
    "plt.legend(loc=\"upper right\")"
   ]
  },
  {
   "cell_type": "markdown",
   "id": "85ad63b5-7d36-4c1f-b78a-426c93b0797f",
   "metadata": {},
   "source": [
    "Agregar una linea recta con plt.axline que divida las calificaciones por encima y por debajo del promedio de ingresos al hospital, el resultado debe ser el siguiente:"
   ]
  },
  {
   "cell_type": "markdown",
   "id": "0926b79a-6b69-42e0-a519-9090be25e5e7",
   "metadata": {},
   "source": [
    "![Resuelto](./img/Act22Img5.png)"
   ]
  },
  {
   "cell_type": "code",
   "execution_count": 117,
   "id": "35ffdd8b-da92-4558-bb18-e0048b80d315",
   "metadata": {},
   "outputs": [
    {
     "data": {
      "text/plain": [
       "<matplotlib.legend.Legend at 0x2103746fc40>"
      ]
     },
     "execution_count": 117,
     "metadata": {},
     "output_type": "execute_result"
    },
    {
     "data": {
      "image/png": "[encoded data removed]",
      "text/plain": [
       "<Figure size 432x288 with 1 Axes>"
      ]
     },
     "metadata": {
      "needs_background": "light"
     },
     "output_type": "display_data"
    }
   ],
   "source": [
    "plt.scatter(x=examenes[\"Calificación\"], y=examenes[\"Diferencia\"], label=\"Examenes\")\n",
    "plt.scatter(x=consultas[\"Calificación\"], y=consultas[\"Diferencia\"], label=\"Consultas\")\n",
    "plt.axline((0.6, 0), (1, 0),color=\"black\")\n",
    "plt.legend(loc=\"upper right\")"
   ]
  },
  {
   "cell_type": "markdown",
   "id": "337d71c7-2858-441a-beb0-52eb4289a5f0",
   "metadata": {},
   "source": [
    "__Conclusión:__ la mayoría de las consultas médicas reportan un ingreso menor al promedio general  "
   ]
  },
  {
   "cell_type": "markdown",
   "id": "bb3cb749-0836-4661-b795-88b70cc4df2e",
   "metadata": {},
   "source": [
    "## Ejercicio 23\n",
    "Crear una función utilizando groupby que devuelva un DataFrame con los indices de las visitas médicas que más honorarios pagaron en cada año, el resultado debe ser el siguiente:"
   ]
  },
  {
   "cell_type": "markdown",
   "id": "c4332710-72ac-400b-871c-8f2b34059896",
   "metadata": {},
   "source": [
    "![Resuelto](./img/Act23Img1.png)"
   ]
  },
  {
   "cell_type": "code",
   "execution_count": 118,
   "id": "807521e7-0cdd-4847-80d5-14710270082c",
   "metadata": {},
   "outputs": [],
   "source": [
    "max_honorario=hospital.groupby(by=[\"Año\"],as_index=False).agg({\"Honorarios\":\"idxmax\"})"
   ]
  },
  {
   "cell_type": "code",
   "execution_count": 119,
   "id": "902ec0bf-5505-47fa-b92a-d2e7fd210a24",
   "metadata": {},
   "outputs": [],
   "source": [
    "#max_ingreso.head()"
   ]
  },
  {
   "cell_type": "markdown",
   "id": "3ceae77c-6e01-4a6d-9fde-532275af6f38",
   "metadata": {},
   "source": [
    "Crear una función utilizando iloc que nos devuelva los datos de las visitas médicas que pagaron los honorarios más altos en cada año, el resultado debe ser el siguiente:"
   ]
  },
  {
   "cell_type": "markdown",
   "id": "28e368a0-bdb1-4df8-a1bc-868ef0c2579a",
   "metadata": {},
   "source": [
    "![Resuelto](./img/Act23Img2.png)"
   ]
  },
  {
   "cell_type": "code",
   "execution_count": 120,
   "id": "dd1cce65-287a-4a70-9204-5f5a97ed7dda",
   "metadata": {},
   "outputs": [],
   "source": [
    "max_honorario=hospital.iloc[max_honorario[\"Honorarios\"]]"
   ]
  },
  {
   "cell_type": "code",
   "execution_count": 121,
   "id": "369afdf7-767f-4be1-8ce3-b806855233b5",
   "metadata": {},
   "outputs": [],
   "source": [
    "#max_honorario.head()"
   ]
  },
  {
   "cell_type": "markdown",
   "id": "8826ffb8-441d-4527-bba4-b24bd554b822",
   "metadata": {},
   "source": [
    "Utilizando el DataFrame anterior hacer una gráfica de puntos con el nombre del paciente en el eje \"x\" y los honorarios en el eje \"y\", el resultado debe ser el siguiente:"
   ]
  },
  {
   "cell_type": "markdown",
   "id": "94c181e3-63a8-4a23-b85c-3544998a3b74",
   "metadata": {},
   "source": [
    "![Resuelto](./img/Act23Img3.png)"
   ]
  },
  {
   "cell_type": "code",
   "execution_count": 122,
   "id": "c7e4e398-e044-4ce8-a320-fe690959bad6",
   "metadata": {},
   "outputs": [
    {
     "data": {
      "image/png": "[encoded data removed]",
      "text/plain": [
       "<Figure size 432x288 with 1 Axes>"
      ]
     },
     "metadata": {
      "needs_background": "light"
     },
     "output_type": "display_data"
    }
   ],
   "source": [
    "plt.scatter(x=max_honorario[\"Nombre\"], y=max_honorario[\"Honorarios\"])\n",
    "plt.xticks(max_honorario[\"Nombre\"], rotation='vertical')\n",
    "plt.show()"
   ]
  },
  {
   "cell_type": "markdown",
   "id": "6a456e6a-b4a3-4a7c-94c2-b17d21d6c6d0",
   "metadata": {},
   "source": [
    "__Conclusión:__ el honorario más alto en las operaciones normalmente es de 50,000 pesos"
   ]
  },
  {
   "cell_type": "markdown",
   "id": "3038027c-a3dd-440e-a1d7-19a72da90876",
   "metadata": {},
   "source": [
    "## Ejercicio 24:\n",
    "Utilizando el DataFrame anterior, crear una función que agregue una columna formada por la unión del año y la especialidad del médico, el resultado debe ser el siguiente:"
   ]
  },
  {
   "cell_type": "code",
   "execution_count": 123,
   "id": "ea6e118b-0ac0-4980-96e8-027dace9d8eb",
   "metadata": {},
   "outputs": [
    {
     "name": "stderr",
     "output_type": "stream",
     "text": [
      "C:\\Users\\danie\\AppData\\Local\\Temp/ipykernel_13596/1581497666.py:1: SettingWithCopyWarning: \n",
      "A value is trying to be set on a copy of a slice from a DataFrame.\n",
      "Try using .loc[row_indexer,col_indexer] = value instead\n",
      "\n",
      "See the caveats in the documentation: https://pandas.pydata.org/pandas-docs/stable/user_guide/indexing.html#returning-a-view-versus-a-copy\n",
      "  max_honorario[\"id\"]=max_honorario[\"Año\"]+\"-\"+max_honorario[\"Especialidad\"]\n"
     ]
    }
   ],
   "source": [
    "max_honorario[\"id\"]=max_honorario[\"Año\"]+\"-\"+max_honorario[\"Especialidad\"]"
   ]
  },
  {
   "cell_type": "markdown",
   "id": "4e550551-3188-4a96-829d-2f36d8e10b95",
   "metadata": {},
   "source": [
    "![Resuelto](./img/Act24Img1.png)"
   ]
  },
  {
   "cell_type": "code",
   "execution_count": 124,
   "id": "4a533311-f39f-4012-8b6f-1fbb283e6ac6",
   "metadata": {},
   "outputs": [],
   "source": [
    "#max_honorario.head()"
   ]
  },
  {
   "cell_type": "markdown",
   "id": "ff81bc39-e135-4d21-afde-2f17c1856948",
   "metadata": {},
   "source": [
    "Crear una gráfica de puntos con el id formado por el año y la especialidad del médico en el eje \"x\" y los honorarios en el eje \"y\", el resultado debe ser el siguiente:"
   ]
  },
  {
   "cell_type": "markdown",
   "id": "a6c29809-e11c-4f9a-8abd-2ef0938f87e9",
   "metadata": {},
   "source": [
    "![Resuelto](./img/Act24Img2.png)"
   ]
  },
  {
   "cell_type": "code",
   "execution_count": 125,
   "id": "f65cf399-5167-400c-ba66-36cb63562629",
   "metadata": {},
   "outputs": [
    {
     "data": {
      "image/png": "[encoded data removed]",
      "text/plain": [
       "<Figure size 432x288 with 1 Axes>"
      ]
     },
     "metadata": {
      "needs_background": "light"
     },
     "output_type": "display_data"
    }
   ],
   "source": [
    "plt.scatter(x=max_honorario[\"id\"], y=max_honorario[\"Honorarios\"])\n",
    "plt.show()"
   ]
  },
  {
   "cell_type": "markdown",
   "id": "7345ee90-93ff-4b4f-9cfb-0cad697b65ba",
   "metadata": {},
   "source": [
    "__Conclusión:__ la dermatología es la especialidad donde más veces se tuvo el honorario más alto"
   ]
  }
 ],
 "metadata": {
  "kernelspec": {
   "display_name": "Python 3 (ipykernel)",
   "language": "python",
   "name": "python3"
  },
  "language_info": {
   "codemirror_mode": {
    "name": "ipython",
    "version": 3
   },
   "file_extension": ".py",
   "mimetype": "text/x-python",
   "name": "python",
   "nbconvert_exporter": "python",
   "pygments_lexer": "ipython3",
   "version": "3.9.7"
  }
 },
 "nbformat": 4,
 "nbformat_minor": 5
}
