{
 "cells": [
  {
   "cell_type": "markdown",
   "id": "ca863d77-2038-43bc-a243-e924fe19b56c",
   "metadata": {
    "tags": []
   },
   "source": [
    "# Analisis de datos"
   ]
  },
  {
   "cell_type": "markdown",
   "id": "dc982adb-4a48-4254-94a1-de2184e4f815",
   "metadata": {
    "tags": []
   },
   "source": [
    "## Restaurante"
   ]
  },
  {
   "cell_type": "markdown",
   "id": "926d464d-b971-4bb7-93c3-fc4a16eee004",
   "metadata": {
    "tags": []
   },
   "source": [
    "### Ejercicio 1:"
   ]
  },
  {
   "cell_type": "markdown",
   "id": "4e5ea611-26a8-4059-ba45-08798b8aa30e",
   "metadata": {},
   "source": [
    "Importamos pandas para poder trabajar con analisis de datos:"
   ]
  },
  {
   "cell_type": "code",
   "execution_count": null,
   "id": "828205d1-237d-4ddd-8735-fb2cebd04528",
   "metadata": {},
   "outputs": [],
   "source": []
  },
  {
   "cell_type": "markdown",
   "id": "31c83def-5632-499f-8141-f37b68a80b7f",
   "metadata": {},
   "source": [
    "Importamos el archivo \"restaurante.xlsx\", contiene la base de datos del restaurante:"
   ]
  },
  {
   "cell_type": "code",
   "execution_count": null,
   "id": "eeb905b2-4139-4f53-9d85-8336bd0324e9",
   "metadata": {},
   "outputs": [],
   "source": []
  },
  {
   "cell_type": "markdown",
   "id": "33107814-524f-4a8f-8ce7-24520405977c",
   "metadata": {},
   "source": [
    "Agregar una columna llamada \"FechaMes\", que contenga el año y el mes de la columna fecha (Ej. 2010-03)"
   ]
  },
  {
   "cell_type": "code",
   "execution_count": null,
   "id": "a3377f94-23db-474c-897e-cf600c9401d1",
   "metadata": {},
   "outputs": [],
   "source": []
  },
  {
   "cell_type": "markdown",
   "id": "1661b21f-fec6-4124-9423-ff63304df421",
   "metadata": {},
   "source": [
    "Investigaremos si el ingreso ha bajado, obteneniendo las ventas totales de cada mes:"
   ]
  },
  {
   "cell_type": "code",
   "execution_count": null,
   "id": "2b77aa9e-38a4-4e55-9437-9a424baa9d37",
   "metadata": {},
   "outputs": [],
   "source": []
  },
  {
   "cell_type": "markdown",
   "id": "323527c8-efa6-4881-985a-d60f766b0414",
   "metadata": {},
   "source": [
    "Harémos una inspección rápida de los datos con una gráfica de calor sobre las ventas de cada mes:"
   ]
  },
  {
   "cell_type": "markdown",
   "id": "8376ac0c-f55d-4385-a220-ac289f8c48dc",
   "metadata": {},
   "source": [
    "![Resuelto](./Img_Proyecto_Final/Act1Img1.png)"
   ]
  },
  {
   "cell_type": "markdown",
   "id": "85ca76ed-4b47-4d12-a0a4-6102047cf22a",
   "metadata": {},
   "source": [
    "Hacemos una gráfica de barras con las ventas de cada mes:"
   ]
  },
  {
   "cell_type": "markdown",
   "id": "8bb657b7-8a14-45bf-95b0-41ead086833d",
   "metadata": {},
   "source": [
    "![Resuelto](./Img_Proyecto_Final/Act1Img2.png)"
   ]
  },
  {
   "cell_type": "markdown",
   "id": "e609cb76-a357-4497-8cbc-be5a22b0bebf",
   "metadata": {},
   "source": [
    "__Conclusión:__ los ingresos aumentaron al principio, pero volvieron a bajar a niveles record."
   ]
  },
  {
   "cell_type": "markdown",
   "id": "50e7900b-3c2b-4c9b-a3f9-8f11fe1f20b5",
   "metadata": {
    "tags": []
   },
   "source": [
    "### Ejercicio 2:"
   ]
  },
  {
   "cell_type": "markdown",
   "id": "3a9dc022-cc5f-4dfa-9bd2-72ccade192bb",
   "metadata": {},
   "source": [
    "Ahora contaremos cuantos productos se sirvieron en cada mes:"
   ]
  },
  {
   "cell_type": "code",
   "execution_count": null,
   "id": "149a5f00-32bc-4729-a848-3b99e52b3a89",
   "metadata": {},
   "outputs": [],
   "source": []
  },
  {
   "cell_type": "markdown",
   "id": "aea4ade0-93a8-4a06-a108-d977c7eddf46",
   "metadata": {},
   "source": [
    "Crearemos un gráfico de calor sobre la cantidad de platos vendidos en cada mes para hacer un análisis exploratorio sencillo:"
   ]
  },
  {
   "cell_type": "markdown",
   "id": "6432b8e3-c8e7-4914-8727-10c8aee06cda",
   "metadata": {},
   "source": [
    "![Resuelto](./Img_Proyecto_Final/Act2Img1.png)"
   ]
  },
  {
   "cell_type": "markdown",
   "id": "b15e6424-795c-4a14-b7b8-951a7472ddc2",
   "metadata": {},
   "source": [
    "Haremos una gráfica de linea con el total de productos servidos por mes:"
   ]
  },
  {
   "cell_type": "markdown",
   "id": "be61a685-49fa-4eb2-8367-9e2db8b4f4ce",
   "metadata": {},
   "source": [
    "![Resuelto](./Img_Proyecto_Final/Act2Img2.png)"
   ]
  },
  {
   "cell_type": "markdown",
   "id": "76fefd84-faa9-48e5-8d39-c0d26e9f432d",
   "metadata": {},
   "source": [
    "__Conclusión:__ los ingresos bajaron, pero la cantidad de productos vendidos se mantuvo en el tiempo"
   ]
  },
  {
   "cell_type": "markdown",
   "id": "5a94a943-5775-4895-8598-aca7c075b33e",
   "metadata": {
    "tags": []
   },
   "source": [
    "### Ejercicio 3:"
   ]
  },
  {
   "cell_type": "markdown",
   "id": "fe157562-952d-44c4-9d62-92667e5c637e",
   "metadata": {},
   "source": [
    "Ahora mostraremos los ingresos al mes según si es comida o bebida, para encontrar si hubo un cambio en los habitos de consumo de los clientes:"
   ]
  },
  {
   "cell_type": "code",
   "execution_count": null,
   "id": "35f9d706-3840-46fb-b238-eea19ed45c94",
   "metadata": {},
   "outputs": [],
   "source": []
  },
  {
   "cell_type": "markdown",
   "id": "b12d2247-ddc1-4af7-878a-653483394912",
   "metadata": {},
   "source": [
    "Graficaremos el ingreso mensual de cada tipo de alimento:"
   ]
  },
  {
   "cell_type": "markdown",
   "id": "8d75dd9f-df79-4e54-b8e7-ee367280d043",
   "metadata": {},
   "source": [
    "![Resuelto](./Img_Proyecto_Final/Act3Img1.png)"
   ]
  },
  {
   "cell_type": "markdown",
   "id": "0bcbe288-72cc-4fef-99d9-c96763c1e263",
   "metadata": {},
   "source": [
    "__Conclusión:__ los clientes piden cada vez menos bebidas, pero la comida se mantiene, por lo que tenemos fuertes indicios que el problema general se da en esa área."
   ]
  },
  {
   "cell_type": "markdown",
   "id": "2ff014fe-847f-490e-bed3-373134c00dff",
   "metadata": {
    "tags": []
   },
   "source": [
    "### Ejercicio 4:"
   ]
  },
  {
   "cell_type": "markdown",
   "id": "eddbd75f-df0f-488b-ac95-a618c6593d13",
   "metadata": {},
   "source": [
    "Analizaremos el ingreso mensual de las bebidas teniendo una columna por categoría:"
   ]
  },
  {
   "cell_type": "code",
   "execution_count": null,
   "id": "77f0b148-9f7e-4db1-967e-44673a9e7b6e",
   "metadata": {},
   "outputs": [],
   "source": []
  },
  {
   "cell_type": "code",
   "execution_count": null,
   "id": "a4c6f94c-bfbb-4226-b723-dd565548c92a",
   "metadata": {},
   "outputs": [],
   "source": []
  },
  {
   "cell_type": "markdown",
   "id": "ec48f647-1fc0-40ee-91b2-2954b6e7b0ed",
   "metadata": {},
   "source": [
    "Haremos una gráfica de calor sobre los ingresos mensuales de cada tipo de bebida:"
   ]
  },
  {
   "cell_type": "markdown",
   "id": "295e40aa-4e79-4368-bccd-5c4f0140716c",
   "metadata": {},
   "source": [
    "![Resuelto](./Img_Proyecto_Final/Act4Img1.png)"
   ]
  },
  {
   "cell_type": "markdown",
   "id": "6da996b8-0d51-40a4-bc0f-374f10f3c939",
   "metadata": {},
   "source": [
    "Graficaremos el ingreso mensual de cada tipo de bebida:"
   ]
  },
  {
   "cell_type": "markdown",
   "id": "3799afa9-964e-43e7-bb65-7aa98270998b",
   "metadata": {
    "tags": []
   },
   "source": [
    "![Resuelto](./Img_Proyecto_Final/Act4Img2.png)"
   ]
  },
  {
   "cell_type": "markdown",
   "id": "70797658-874a-4be5-b35a-a470d5ec785b",
   "metadata": {},
   "source": [
    "__Conclusión:__ Los ingresos provenientes de los vinos bajaron mucho, debemos indagar en los posibles motivos, por ejemplo, analizando a los meseros que lo sirven."
   ]
  },
  {
   "cell_type": "markdown",
   "id": "036cc0eb-ca6b-4304-8ecf-c92fe493b0e5",
   "metadata": {
    "tags": []
   },
   "source": [
    "### Ejercicio 5:"
   ]
  },
  {
   "cell_type": "markdown",
   "id": "0db185a9-43b4-43ca-a382-5ee783c43099",
   "metadata": {},
   "source": [
    "Obtendremos las ventas mensuales de cada mesero:"
   ]
  },
  {
   "cell_type": "code",
   "execution_count": null,
   "id": "1edb2581-66e4-4f84-a693-f89824a3c961",
   "metadata": {},
   "outputs": [],
   "source": []
  },
  {
   "cell_type": "markdown",
   "id": "a84ddb69-39d0-416e-b17a-cb5794ecbf46",
   "metadata": {},
   "source": [
    "Haremos una gráfica de calor sobre las ventas de cada mesero:"
   ]
  },
  {
   "cell_type": "markdown",
   "id": "50fea162-f9ac-44f3-b756-be893dfa1764",
   "metadata": {},
   "source": [
    "![Resuelto](./Img_Proyecto_Final/Act5Img1.png)"
   ]
  },
  {
   "cell_type": "markdown",
   "id": "a1430abc-d668-43e3-98d9-2059c6ece0a5",
   "metadata": {},
   "source": [
    "Graficaremos el ingreso por mes de cada mesero:"
   ]
  },
  {
   "cell_type": "markdown",
   "id": "26542ae9-5787-443a-a9c7-c4edd7480b3a",
   "metadata": {},
   "source": [
    "![Resuelto](./Img_Proyecto_Final/Act5Img2.png)"
   ]
  },
  {
   "cell_type": "markdown",
   "id": "f46aa4c5-cda7-4565-b623-72c6aabde55b",
   "metadata": {},
   "source": [
    "__Conclusión:__ las ventas de los meseros al igual que el vino están bajando, excepto por Mauricio que entró a trabajar en septiembre, un buen paso será graficar la relación de estas 2 variables, por ejemplo, calcular cuanto vino vende cada mesero"
   ]
  },
  {
   "cell_type": "markdown",
   "id": "fda4e7eb-b5e8-4000-a1a5-4e1ca4eb0aba",
   "metadata": {
    "tags": []
   },
   "source": [
    "### Ejercicio 6:"
   ]
  },
  {
   "cell_type": "markdown",
   "id": "5e001241-5a01-4d89-b39a-75eab5da222a",
   "metadata": {},
   "source": [
    "Averiguaremos cuanto vino vende cada mesero:"
   ]
  },
  {
   "cell_type": "code",
   "execution_count": null,
   "id": "078f9a39-8817-4d83-8464-e00aa12da869",
   "metadata": {},
   "outputs": [],
   "source": []
  },
  {
   "cell_type": "code",
   "execution_count": null,
   "id": "d4af8d5a-96a8-4ff1-b7c6-4ad047211d4f",
   "metadata": {},
   "outputs": [],
   "source": []
  },
  {
   "cell_type": "code",
   "execution_count": null,
   "id": "9c46c966-7e95-4dfa-a69d-0be9cdd94bb4",
   "metadata": {},
   "outputs": [],
   "source": []
  },
  {
   "cell_type": "markdown",
   "id": "c56bc200-8464-49c5-b53d-b0868e667cfd",
   "metadata": {},
   "source": [
    "Ordenaremos estos resultados"
   ]
  },
  {
   "cell_type": "code",
   "execution_count": null,
   "id": "a9575ccb-eb19-4749-bde5-15d9001326fa",
   "metadata": {},
   "outputs": [],
   "source": []
  },
  {
   "cell_type": "markdown",
   "id": "2eb73824-f772-4e6b-adfc-09fc10a3cf1e",
   "metadata": {},
   "source": [
    "Hacemos un análisis exploratorio con una gráfica de calor:"
   ]
  },
  {
   "cell_type": "markdown",
   "id": "351f8996-1e59-44a0-8d61-b67cbe4c649b",
   "metadata": {},
   "source": [
    "![Resuelto](./Img_Proyecto_Final/Act6Img1.png)"
   ]
  },
  {
   "cell_type": "markdown",
   "id": "d2d5cc14-61ef-4e7f-9bff-45519da2ecd5",
   "metadata": {},
   "source": [
    "Graficamos la venta de vinos de cada mesero:"
   ]
  },
  {
   "cell_type": "markdown",
   "id": "9e75acb5-2f3c-4785-8807-18837b881556",
   "metadata": {},
   "source": [
    "![Resuelto](./Img_Proyecto_Final/Act6Img2.png)"
   ]
  },
  {
   "cell_type": "markdown",
   "id": "3045c727-52ec-419b-8fb2-9b094bb666a0",
   "metadata": {},
   "source": [
    "__Conclusión:__ en la gráfica anterior notamos que no aparece Mauricio, por lo que el descenso en ingresos puede deberse a esto"
   ]
  },
  {
   "cell_type": "markdown",
   "id": "17e82701-e1aa-4158-9a1a-5fc9ef751412",
   "metadata": {
    "tags": []
   },
   "source": [
    "### Ejercicio 7:"
   ]
  },
  {
   "cell_type": "markdown",
   "id": "482f32ff-4756-4914-bd6c-d400834f0de6",
   "metadata": {},
   "source": [
    "Para poder conocer si los meseros atienden bien utilizaremos una cantidad derivada, la propina, si reciben buenas propinas es aceptable pensar que es por su buen servicio:"
   ]
  },
  {
   "cell_type": "code",
   "execution_count": null,
   "id": "8c48182c-28df-4dbd-a5c2-ed0c676ecd48",
   "metadata": {},
   "outputs": [],
   "source": []
  },
  {
   "cell_type": "markdown",
   "id": "aa8e1ea1-8a0e-4a18-a51d-ef9789d705c8",
   "metadata": {},
   "source": [
    "Haremos un analisis exploratorio de los datos con una gráfica de calor:"
   ]
  },
  {
   "cell_type": "markdown",
   "id": "84736dd3-a9de-46b2-bda3-89d53cf377c3",
   "metadata": {},
   "source": [
    "![Resuelto](./Img_Proyecto_Final/Act7Img1.png)"
   ]
  },
  {
   "cell_type": "markdown",
   "id": "52c6a1e5-b084-4d38-a720-9760e9e258dc",
   "metadata": {},
   "source": [
    "Graficamos la propina media de cada mesero:"
   ]
  },
  {
   "cell_type": "markdown",
   "id": "3e56cf5a-b4db-417e-91bd-fbe65a5f2315",
   "metadata": {},
   "source": [
    "![Resuelto](./Img_Proyecto_Final/Act7Img2.png)"
   ]
  },
  {
   "cell_type": "code",
   "execution_count": null,
   "id": "81932b10-49df-43fc-886e-4d9679696d44",
   "metadata": {},
   "outputs": [],
   "source": []
  },
  {
   "cell_type": "markdown",
   "id": "01036982-5b3e-4dcf-a423-248c30a7c261",
   "metadata": {},
   "source": [
    "__Conclusión:__ todos los meseros tienen propinas similares, a excepción de Mauricio, por lo que debemos analizar la cantidad de clientes que vuelven a comprar con nosotros, en especial después de septiembre."
   ]
  },
  {
   "cell_type": "markdown",
   "id": "be94a172-aa9b-4513-b2d2-da1e81b1921c",
   "metadata": {
    "tags": []
   },
   "source": [
    "### Ejercicio 8:"
   ]
  },
  {
   "cell_type": "markdown",
   "id": "90c02b9a-136d-4a3f-bec8-74eb3c767d22",
   "metadata": {},
   "source": [
    "Analizaremos la cantidad de clientes nuevos contra los que regresan:"
   ]
  },
  {
   "cell_type": "code",
   "execution_count": null,
   "id": "6a18c4e0-38ac-41c9-900d-bfb9d39fce69",
   "metadata": {},
   "outputs": [],
   "source": []
  },
  {
   "cell_type": "markdown",
   "id": "e5f844c6-90c4-405f-aec3-9737d805e411",
   "metadata": {},
   "source": [
    "Haremos una gráfica de calor sobre las ventas al mes por tipo de cliente:"
   ]
  },
  {
   "cell_type": "markdown",
   "id": "10829193-15c1-4b51-a46f-fd9958a7e639",
   "metadata": {},
   "source": [
    "![Resuelto](./Img_Proyecto_Final/Act8Img1.png)"
   ]
  },
  {
   "cell_type": "markdown",
   "id": "df4c8d25-15e5-4775-b4ab-d5ef3db347c8",
   "metadata": {},
   "source": [
    "Graficaremos las ventas al mes por tipo de cliente:"
   ]
  },
  {
   "cell_type": "markdown",
   "id": "0fd3e2a0-7b83-4638-b821-2b3fdbf40e22",
   "metadata": {},
   "source": [
    "![Resuelto](./Img_Proyecto_Final/Act8Img2.png)"
   ]
  },
  {
   "cell_type": "markdown",
   "id": "d8535b03-83ab-4b6e-bb5b-cfa0718d133a",
   "metadata": {},
   "source": [
    "__Conclusión:__ los clientes deciden no volver a comer con nosotros, analizaremos el impacto de este hecho en la venta de vino."
   ]
  },
  {
   "cell_type": "markdown",
   "id": "022a5bb3-6a57-4d68-86fc-24a14aaf44be",
   "metadata": {
    "tags": []
   },
   "source": [
    "### Ejercicio 9:"
   ]
  },
  {
   "cell_type": "markdown",
   "id": "f8534161-f340-4c41-9a54-398dcad5aabb",
   "metadata": {},
   "source": [
    "Analizaremos la venta de vinos según el tipo de cliente:"
   ]
  },
  {
   "cell_type": "code",
   "execution_count": null,
   "id": "d0f6ab42-3896-4236-9850-e8bd3ddb6cdd",
   "metadata": {},
   "outputs": [],
   "source": []
  },
  {
   "cell_type": "markdown",
   "id": "7aef08da-1c70-44e6-8360-cc823eae37f1",
   "metadata": {},
   "source": [
    "Haremos una gráfica de calor las ventas de vino al mes por tipo de cliente:"
   ]
  },
  {
   "cell_type": "markdown",
   "id": "f7adf0fe-844a-426e-980e-1fe866968072",
   "metadata": {},
   "source": [
    "![Resuelto](./Img_Proyecto_Final/Act9Img1.png)"
   ]
  },
  {
   "cell_type": "markdown",
   "id": "7c1ec436-2efb-491a-bb96-f3189106540b",
   "metadata": {},
   "source": [
    "Graficaremos las ventas de vino al mes por tipo de cliente:"
   ]
  },
  {
   "cell_type": "markdown",
   "id": "19e465b6-63fc-4fd1-85fe-fe586ae668b4",
   "metadata": {},
   "source": [
    "![Resuelto](./Img_Proyecto_Final/Act9Img2.png)"
   ]
  },
  {
   "cell_type": "markdown",
   "id": "7666ebb1-10f1-4a9c-9ae9-c5499ab3913e",
   "metadata": {},
   "source": [
    "__Conclusión:__ la venta de vino en los clientes nuevos se mantuvo, pero en los repetidos ha descendido, en especial desde septiembre, debemos investigar la venta de cada mesero separado por tipo de cliente."
   ]
  },
  {
   "cell_type": "markdown",
   "id": "0e1f8834-4158-451f-9d2e-a5d498ec7d0b",
   "metadata": {
    "tags": []
   },
   "source": [
    "### Ejercicio 10:"
   ]
  },
  {
   "cell_type": "markdown",
   "id": "3da43e08-50a0-4555-a90f-1aa610e15736",
   "metadata": {},
   "source": [
    "Analizar la venta de cada mesero en base al tipo de cliente:"
   ]
  },
  {
   "cell_type": "code",
   "execution_count": null,
   "id": "129ee10c-d2f3-4e95-9ab1-034fa1bed6e0",
   "metadata": {},
   "outputs": [],
   "source": []
  },
  {
   "cell_type": "markdown",
   "id": "0f2f4e41-2360-473a-9f07-a392553912d7",
   "metadata": {},
   "source": [
    "Para analizar mejor el trato que le dan a los clientes por tipo, transformaremos sus ventas a porcentajes:"
   ]
  },
  {
   "cell_type": "code",
   "execution_count": null,
   "id": "9c96655f-34cd-4839-b7df-805033bac3b8",
   "metadata": {},
   "outputs": [],
   "source": []
  },
  {
   "cell_type": "code",
   "execution_count": null,
   "id": "f1a7c990-d4a6-4e94-bb84-7602fa48b19d",
   "metadata": {},
   "outputs": [],
   "source": []
  },
  {
   "cell_type": "markdown",
   "id": "16984130-81ff-4946-89cf-5079a44c3b43",
   "metadata": {},
   "source": [
    "Haremos un análisis exploratorio de los datos con un mapa de calor:"
   ]
  },
  {
   "cell_type": "markdown",
   "id": "b06e0aa8-d47e-42d1-b4b0-11c9f578b764",
   "metadata": {},
   "source": [
    "![Resuelto](./Img_Proyecto_Final/Act10Img1.png)"
   ]
  },
  {
   "cell_type": "markdown",
   "id": "eb5583f0-0f29-49c4-9187-5110330644a0",
   "metadata": {},
   "source": [
    "Y finalmente graficaremos las ventas al mes de cada mesero por tipo de cliente:"
   ]
  },
  {
   "cell_type": "markdown",
   "id": "4f1526ef-d899-491c-8d2b-db5c7d7c1f98",
   "metadata": {},
   "source": [
    "![Resuelto](./Img_Proyecto_Final/Act10Img2.png)"
   ]
  },
  {
   "cell_type": "markdown",
   "id": "a5606b92-d559-4991-b692-bc93f20a692c",
   "metadata": {},
   "source": [
    "__Conclusión:__ Mauricio no atiende clientes repetidos."
   ]
  },
  {
   "cell_type": "markdown",
   "id": "83823738-eaf5-46a0-8fde-eacbd01ef848",
   "metadata": {},
   "source": [
    "__Conlusión General:__ Los clientes repetidos son los que más vino consumían, al dejar de regresar nuestros ingresos disminuyeron, nuestro principal sospechoso es Mauricio por tener unas propinas anormalmente altas, pero pese a ello los clientes no quieren volver a ser atendidos por el.\n",
    "\n",
    "Tras hacer una investigación presencial encontramos que la manera en la que Mauricio atendía era grosera y exigia a los comensales consumir más y cargaba propina sin avisar, por eso sus ventas eran altas, pero ahuyentaba a los clientes."
   ]
  },
  {
   "cell_type": "code",
   "execution_count": null,
   "id": "f2c2075f-7536-495b-9b92-c6ebf3244c8a",
   "metadata": {},
   "outputs": [],
   "source": []
  }
 ],
 "metadata": {
  "kernelspec": {
   "display_name": "Python 3 (ipykernel)",
   "language": "python",
   "name": "python3"
  },
  "language_info": {
   "codemirror_mode": {
    "name": "ipython",
    "version": 3
   },
   "file_extension": ".py",
   "mimetype": "text/x-python",
   "name": "python",
   "nbconvert_exporter": "python",
   "pygments_lexer": "ipython3",
   "version": "3.9.12"
  }
 },
 "nbformat": 4,
 "nbformat_minor": 5
}
