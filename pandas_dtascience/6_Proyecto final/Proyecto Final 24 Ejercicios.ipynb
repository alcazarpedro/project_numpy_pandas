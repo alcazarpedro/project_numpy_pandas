{
 "cells": [
  {
   "cell_type": "markdown",
   "id": "2c812296-bd08-44a5-a25e-cb8a1f79269f",
   "metadata": {},
   "source": [
    "## Ejercicios"
   ]
  },
  {
   "cell_type": "markdown",
   "id": "1e45a0b2-3ded-438f-896e-fa6cb3c53ed4",
   "metadata": {},
   "source": [
    "Importar matplotlib y pandas:"
   ]
  },
  {
   "cell_type": "code",
   "execution_count": 2,
   "id": "68eb4cf3-a15c-4ab2-a978-d1c1a1e080d5",
   "metadata": {},
   "outputs": [],
   "source": [
    "import pandas as pd"
   ]
  },
  {
   "cell_type": "markdown",
   "id": "858a24b8-a9ac-4980-b3ad-2c35bf911cd3",
   "metadata": {},
   "source": [
    "## Ejercicio 1:"
   ]
  },
  {
   "cell_type": "markdown",
   "id": "c6f7e26b-7580-442e-bee8-7a74e5a9d57c",
   "metadata": {},
   "source": [
    "Utilizar pandas para importar los datos del archivo \"certificado.csv\" en la variable \"certificados\""
   ]
  },
  {
   "cell_type": "code",
   "execution_count": 2,
   "id": "aa6f33bc-551e-403f-82cc-6cae6e6711ed",
   "metadata": {},
   "outputs": [
    {
     "data": {
      "application/vnd.microsoft.datawrangler.viewer.v0+json": {
       "columns": [
        {
         "name": "index",
         "rawType": "int64",
         "type": "integer"
        },
        {
         "name": "nombre ",
         "rawType": "object",
         "type": "string"
        },
        {
         "name": "examen_diagnostico",
         "rawType": "float64",
         "type": "float"
        },
        {
         "name": "examen_final",
         "rawType": "float64",
         "type": "float"
        },
        {
         "name": "grupo",
         "rawType": "object",
         "type": "string"
        },
        {
         "name": "maestro",
         "rawType": "object",
         "type": "string"
        }
       ],
       "ref": "3378651d-a03c-4b4b-9e09-1b1eae5e7b3e",
       "rows": [
        [
         "0",
         "Alejandra",
         "7.7",
         "9.0",
         "A",
         "Maria"
        ],
        [
         "1",
         "Alberto",
         "7.3",
         "8.8",
         "B",
         "Pedro"
        ],
        [
         "2",
         "César",
         "7.5",
         "9.1",
         "B",
         "Pedro"
        ],
        [
         "3",
         "Gustavo",
         "7.1",
         "8.6",
         "B",
         "Pedro"
        ],
        [
         "4",
         "Ernesto",
         "7.8",
         "9.2",
         "A",
         "Maria"
        ]
       ],
       "shape": {
        "columns": 5,
        "rows": 5
       }
      },
      "text/html": [
       "<div>\n",
       "<style scoped>\n",
       "    .dataframe tbody tr th:only-of-type {\n",
       "        vertical-align: middle;\n",
       "    }\n",
       "\n",
       "    .dataframe tbody tr th {\n",
       "        vertical-align: top;\n",
       "    }\n",
       "\n",
       "    .dataframe thead th {\n",
       "        text-align: right;\n",
       "    }\n",
       "</style>\n",
       "<table border=\"1\" class=\"dataframe\">\n",
       "  <thead>\n",
       "    <tr style=\"text-align: right;\">\n",
       "      <th></th>\n",
       "      <th>nombre</th>\n",
       "      <th>examen_diagnostico</th>\n",
       "      <th>examen_final</th>\n",
       "      <th>grupo</th>\n",
       "      <th>maestro</th>\n",
       "    </tr>\n",
       "  </thead>\n",
       "  <tbody>\n",
       "    <tr>\n",
       "      <th>0</th>\n",
       "      <td>Alejandra</td>\n",
       "      <td>7.7</td>\n",
       "      <td>9.0</td>\n",
       "      <td>A</td>\n",
       "      <td>Maria</td>\n",
       "    </tr>\n",
       "    <tr>\n",
       "      <th>1</th>\n",
       "      <td>Alberto</td>\n",
       "      <td>7.3</td>\n",
       "      <td>8.8</td>\n",
       "      <td>B</td>\n",
       "      <td>Pedro</td>\n",
       "    </tr>\n",
       "    <tr>\n",
       "      <th>2</th>\n",
       "      <td>César</td>\n",
       "      <td>7.5</td>\n",
       "      <td>9.1</td>\n",
       "      <td>B</td>\n",
       "      <td>Pedro</td>\n",
       "    </tr>\n",
       "    <tr>\n",
       "      <th>3</th>\n",
       "      <td>Gustavo</td>\n",
       "      <td>7.1</td>\n",
       "      <td>8.6</td>\n",
       "      <td>B</td>\n",
       "      <td>Pedro</td>\n",
       "    </tr>\n",
       "    <tr>\n",
       "      <th>4</th>\n",
       "      <td>Ernesto</td>\n",
       "      <td>7.8</td>\n",
       "      <td>9.2</td>\n",
       "      <td>A</td>\n",
       "      <td>Maria</td>\n",
       "    </tr>\n",
       "  </tbody>\n",
       "</table>\n",
       "</div>"
      ],
      "text/plain": [
       "     nombre   examen_diagnostico  examen_final grupo maestro\n",
       "0  Alejandra                 7.7           9.0     A   Maria\n",
       "1    Alberto                 7.3           8.8     B   Pedro\n",
       "2      César                 7.5           9.1     B   Pedro\n",
       "3    Gustavo                 7.1           8.6     B   Pedro\n",
       "4    Ernesto                 7.8           9.2     A   Maria"
      ]
     },
     "execution_count": 2,
     "metadata": {},
     "output_type": "execute_result"
    }
   ],
   "source": [
    "\n",
    "Certificado = pd.read_csv(\"./certificado.csv\")\n",
    "Certificado.head()"
   ]
  },
  {
   "cell_type": "markdown",
   "id": "669ed4cf-1f85-464a-8956-2b8eb932121f",
   "metadata": {},
   "source": [
    "Usar groupby para crear un DataFrame donde se tenga el promedio del examen diagnostico y examen final por cada grupo, el resultado debe ser el siguiente:"
   ]
  },
  {
   "cell_type": "markdown",
   "id": "0ac9cdbf-8b65-436a-8c34-d74472d910c1",
   "metadata": {},
   "source": [
    "![Resuelto](./Img_24_Ejercicios/Act1Img1.png)"
   ]
  },
  {
   "cell_type": "code",
   "execution_count": 3,
   "id": "94ed79db-d2ab-4f7e-ae74-28d83c648c2c",
   "metadata": {},
   "outputs": [
    {
     "data": {
      "application/vnd.microsoft.datawrangler.viewer.v0+json": {
       "columns": [
        {
         "name": "grupo",
         "rawType": "object",
         "type": "string"
        },
        {
         "name": "examen_diagnostico",
         "rawType": "float64",
         "type": "float"
        },
        {
         "name": "examen_final",
         "rawType": "float64",
         "type": "float"
        }
       ],
       "ref": "6c2a9747-e012-4463-bd72-fedd234e062b",
       "rows": [
        [
         "A",
         "7.42",
         "8.8"
        ],
        [
         "B",
         "7.123076923076923",
         "8.592307692307692"
        ],
        [
         "C",
         "7.5588235294117645",
         "9.023529411764706"
        ]
       ],
       "shape": {
        "columns": 2,
        "rows": 3
       }
      },
      "text/html": [
       "<div>\n",
       "<style scoped>\n",
       "    .dataframe tbody tr th:only-of-type {\n",
       "        vertical-align: middle;\n",
       "    }\n",
       "\n",
       "    .dataframe tbody tr th {\n",
       "        vertical-align: top;\n",
       "    }\n",
       "\n",
       "    .dataframe thead th {\n",
       "        text-align: right;\n",
       "    }\n",
       "</style>\n",
       "<table border=\"1\" class=\"dataframe\">\n",
       "  <thead>\n",
       "    <tr style=\"text-align: right;\">\n",
       "      <th></th>\n",
       "      <th>examen_diagnostico</th>\n",
       "      <th>examen_final</th>\n",
       "    </tr>\n",
       "    <tr>\n",
       "      <th>grupo</th>\n",
       "      <th></th>\n",
       "      <th></th>\n",
       "    </tr>\n",
       "  </thead>\n",
       "  <tbody>\n",
       "    <tr>\n",
       "      <th>A</th>\n",
       "      <td>7.420000</td>\n",
       "      <td>8.800000</td>\n",
       "    </tr>\n",
       "    <tr>\n",
       "      <th>B</th>\n",
       "      <td>7.123077</td>\n",
       "      <td>8.592308</td>\n",
       "    </tr>\n",
       "    <tr>\n",
       "      <th>C</th>\n",
       "      <td>7.558824</td>\n",
       "      <td>9.023529</td>\n",
       "    </tr>\n",
       "  </tbody>\n",
       "</table>\n",
       "</div>"
      ],
      "text/plain": [
       "       examen_diagnostico  examen_final\n",
       "grupo                                  \n",
       "A                7.420000      8.800000\n",
       "B                7.123077      8.592308\n",
       "C                7.558824      9.023529"
      ]
     },
     "execution_count": 3,
     "metadata": {},
     "output_type": "execute_result"
    }
   ],
   "source": [
    "Certificado.groupby(\"grupo\").agg({\"examen_diagnostico\":\"mean\",\"examen_final\":\"mean\"})"
   ]
  },
  {
   "cell_type": "markdown",
   "id": "a5d1e220-4d83-44e9-a54a-02955d873ec9",
   "metadata": {},
   "source": [
    "![Resuelto](./Img_24_Ejercicios/Act1Img2.png)"
   ]
  },
  {
   "cell_type": "markdown",
   "id": "f6b1950a-ec32-4e5b-b63a-532ae104014d",
   "metadata": {},
   "source": [
    "![Resuelto](./Img_24_Ejercicios/Act1Img3.png)"
   ]
  },
  {
   "cell_type": "markdown",
   "id": "96c23104-54e7-4d9d-98cc-81b660e3b85d",
   "metadata": {},
   "source": [
    "__Conclusión:__ todos los grupos presentan una mejora en la calificación al finalizar el curso"
   ]
  },
  {
   "cell_type": "markdown",
   "id": "3f823959-50b9-4350-833a-67f56f3fcede",
   "metadata": {},
   "source": [
    "## Ejercicio 2:\n",
    "Crear una columna llamada Progreso en el DataFrame certificados que contenga la diferencia entre el examen final y el examen diagnóstico, por ejemplo, si un alumno tuvo un 8 en el examen final y un 7 en el examen diagnóstico, la columna Progreso tendrá el valor de  1, el resultado debe ser el siguiente:"
   ]
  },
  {
   "cell_type": "markdown",
   "id": "b78515bb-99be-47a1-97e4-b9e5d8dcf965",
   "metadata": {},
   "source": [
    "![Resuelto](./Img_24_Ejercicios/Act2Img1.png)"
   ]
  },
  {
   "cell_type": "code",
   "execution_count": 6,
   "id": "4eefd7fe-7b19-441f-9fd1-82c667239789",
   "metadata": {},
   "outputs": [],
   "source": [
    "Certificado[\"Progreso\"] = round(Certificado[\"examen_final\"] - Certificado[\"examen_diagnostico\"],2)"
   ]
  },
  {
   "cell_type": "code",
   "execution_count": 7,
   "id": "6e57c4c2-24f5-4eda-93a5-7e3f7e8bd112",
   "metadata": {},
   "outputs": [
    {
     "data": {
      "application/vnd.microsoft.datawrangler.viewer.v0+json": {
       "columns": [
        {
         "name": "index",
         "rawType": "int64",
         "type": "integer"
        },
        {
         "name": "nombre ",
         "rawType": "object",
         "type": "string"
        },
        {
         "name": "examen_diagnostico",
         "rawType": "float64",
         "type": "float"
        },
        {
         "name": "examen_final",
         "rawType": "float64",
         "type": "float"
        },
        {
         "name": "grupo",
         "rawType": "object",
         "type": "string"
        },
        {
         "name": "maestro",
         "rawType": "object",
         "type": "string"
        },
        {
         "name": "Progreso",
         "rawType": "float64",
         "type": "float"
        }
       ],
       "ref": "6191459f-a113-4686-b3fe-533ea30a8cad",
       "rows": [
        [
         "0",
         "Alejandra",
         "7.7",
         "9.0",
         "A",
         "Maria",
         "1.3"
        ],
        [
         "1",
         "Alberto",
         "7.3",
         "8.8",
         "B",
         "Pedro",
         "1.5"
        ],
        [
         "2",
         "César",
         "7.5",
         "9.1",
         "B",
         "Pedro",
         "1.6"
        ],
        [
         "3",
         "Gustavo",
         "7.1",
         "8.6",
         "B",
         "Pedro",
         "1.5"
        ],
        [
         "4",
         "Ernesto",
         "7.8",
         "9.2",
         "A",
         "Maria",
         "1.4"
        ]
       ],
       "shape": {
        "columns": 6,
        "rows": 5
       }
      },
      "text/html": [
       "<div>\n",
       "<style scoped>\n",
       "    .dataframe tbody tr th:only-of-type {\n",
       "        vertical-align: middle;\n",
       "    }\n",
       "\n",
       "    .dataframe tbody tr th {\n",
       "        vertical-align: top;\n",
       "    }\n",
       "\n",
       "    .dataframe thead th {\n",
       "        text-align: right;\n",
       "    }\n",
       "</style>\n",
       "<table border=\"1\" class=\"dataframe\">\n",
       "  <thead>\n",
       "    <tr style=\"text-align: right;\">\n",
       "      <th></th>\n",
       "      <th>nombre</th>\n",
       "      <th>examen_diagnostico</th>\n",
       "      <th>examen_final</th>\n",
       "      <th>grupo</th>\n",
       "      <th>maestro</th>\n",
       "      <th>Progreso</th>\n",
       "    </tr>\n",
       "  </thead>\n",
       "  <tbody>\n",
       "    <tr>\n",
       "      <th>0</th>\n",
       "      <td>Alejandra</td>\n",
       "      <td>7.7</td>\n",
       "      <td>9.0</td>\n",
       "      <td>A</td>\n",
       "      <td>Maria</td>\n",
       "      <td>1.3</td>\n",
       "    </tr>\n",
       "    <tr>\n",
       "      <th>1</th>\n",
       "      <td>Alberto</td>\n",
       "      <td>7.3</td>\n",
       "      <td>8.8</td>\n",
       "      <td>B</td>\n",
       "      <td>Pedro</td>\n",
       "      <td>1.5</td>\n",
       "    </tr>\n",
       "    <tr>\n",
       "      <th>2</th>\n",
       "      <td>César</td>\n",
       "      <td>7.5</td>\n",
       "      <td>9.1</td>\n",
       "      <td>B</td>\n",
       "      <td>Pedro</td>\n",
       "      <td>1.6</td>\n",
       "    </tr>\n",
       "    <tr>\n",
       "      <th>3</th>\n",
       "      <td>Gustavo</td>\n",
       "      <td>7.1</td>\n",
       "      <td>8.6</td>\n",
       "      <td>B</td>\n",
       "      <td>Pedro</td>\n",
       "      <td>1.5</td>\n",
       "    </tr>\n",
       "    <tr>\n",
       "      <th>4</th>\n",
       "      <td>Ernesto</td>\n",
       "      <td>7.8</td>\n",
       "      <td>9.2</td>\n",
       "      <td>A</td>\n",
       "      <td>Maria</td>\n",
       "      <td>1.4</td>\n",
       "    </tr>\n",
       "  </tbody>\n",
       "</table>\n",
       "</div>"
      ],
      "text/plain": [
       "     nombre   examen_diagnostico  examen_final grupo maestro  Progreso\n",
       "0  Alejandra                 7.7           9.0     A   Maria       1.3\n",
       "1    Alberto                 7.3           8.8     B   Pedro       1.5\n",
       "2      César                 7.5           9.1     B   Pedro       1.6\n",
       "3    Gustavo                 7.1           8.6     B   Pedro       1.5\n",
       "4    Ernesto                 7.8           9.2     A   Maria       1.4"
      ]
     },
     "execution_count": 7,
     "metadata": {},
     "output_type": "execute_result"
    }
   ],
   "source": [
    "Certificado.head()"
   ]
  },
  {
   "cell_type": "markdown",
   "id": "0bccf64b-f841-4d93-ba18-9822e99ca660",
   "metadata": {},
   "source": [
    "![Resuelto](./Img_24_Ejercicios/Act2Img2.png)"
   ]
  },
  {
   "cell_type": "markdown",
   "id": "ab3f3558-5222-4891-8c79-27f604a861ea",
   "metadata": {},
   "source": [
    "__Conclusión__: la mayoria de los estudiantes tienen una mejora entre 1 y 2.5 puntos"
   ]
  },
  {
   "cell_type": "markdown",
   "id": "e0c73831-17a1-4b38-8961-87e8e4a7ac46",
   "metadata": {},
   "source": [
    "## Ejercicio 3: \n",
    "Utilizar gruopby para obtener el progreso promedio en las calificaciones de los alumnos por cada profesor, por ejemplo, los alumnos del profesor Pedro al inicio tienen un promedio de 7, al terminar el curso aumenta a 9 y su progreso es de 2 puntos, el resultado debe ser el siguiente:"
   ]
  },
  {
   "cell_type": "markdown",
   "id": "8e873f4f-7c55-4973-b67f-ce5bd6c1cf69",
   "metadata": {},
   "source": [
    "![Resuelto](./Img_24_Ejercicios/Act3Img1.png)"
   ]
  },
  {
   "cell_type": "code",
   "execution_count": 9,
   "id": "3cf20ac8-107c-49f6-9ab1-362d43f7b0fa",
   "metadata": {},
   "outputs": [
    {
     "data": {
      "application/vnd.microsoft.datawrangler.viewer.v0+json": {
       "columns": [
        {
         "name": "maestro",
         "rawType": "object",
         "type": "string"
        },
        {
         "name": "examen_diagnostico",
         "rawType": "float64",
         "type": "float"
        },
        {
         "name": "examen_final",
         "rawType": "float64",
         "type": "float"
        },
        {
         "name": "Progreso",
         "rawType": "float64",
         "type": "float"
        }
       ],
       "ref": "e7acd325-241e-466d-b769-58703b3fda23",
       "rows": [
        [
         "Gabriela",
         "7.558824",
         "9.023529",
         "1.464706"
        ],
        [
         "Maria",
         "7.42",
         "8.8",
         "1.38"
        ],
        [
         "Pedro",
         "7.123077",
         "8.592308",
         "1.469231"
        ]
       ],
       "shape": {
        "columns": 3,
        "rows": 3
       }
      },
      "text/html": [
       "<div>\n",
       "<style scoped>\n",
       "    .dataframe tbody tr th:only-of-type {\n",
       "        vertical-align: middle;\n",
       "    }\n",
       "\n",
       "    .dataframe tbody tr th {\n",
       "        vertical-align: top;\n",
       "    }\n",
       "\n",
       "    .dataframe thead th {\n",
       "        text-align: right;\n",
       "    }\n",
       "</style>\n",
       "<table border=\"1\" class=\"dataframe\">\n",
       "  <thead>\n",
       "    <tr style=\"text-align: right;\">\n",
       "      <th></th>\n",
       "      <th>examen_diagnostico</th>\n",
       "      <th>examen_final</th>\n",
       "      <th>Progreso</th>\n",
       "    </tr>\n",
       "    <tr>\n",
       "      <th>maestro</th>\n",
       "      <th></th>\n",
       "      <th></th>\n",
       "      <th></th>\n",
       "    </tr>\n",
       "  </thead>\n",
       "  <tbody>\n",
       "    <tr>\n",
       "      <th>Gabriela</th>\n",
       "      <td>7.558824</td>\n",
       "      <td>9.023529</td>\n",
       "      <td>1.464706</td>\n",
       "    </tr>\n",
       "    <tr>\n",
       "      <th>Maria</th>\n",
       "      <td>7.420000</td>\n",
       "      <td>8.800000</td>\n",
       "      <td>1.380000</td>\n",
       "    </tr>\n",
       "    <tr>\n",
       "      <th>Pedro</th>\n",
       "      <td>7.123077</td>\n",
       "      <td>8.592308</td>\n",
       "      <td>1.469231</td>\n",
       "    </tr>\n",
       "  </tbody>\n",
       "</table>\n",
       "</div>"
      ],
      "text/plain": [
       "          examen_diagnostico  examen_final  Progreso\n",
       "maestro                                             \n",
       "Gabriela            7.558824      9.023529  1.464706\n",
       "Maria               7.420000      8.800000  1.380000\n",
       "Pedro               7.123077      8.592308  1.469231"
      ]
     },
     "execution_count": 9,
     "metadata": {},
     "output_type": "execute_result"
    }
   ],
   "source": [
    "Certificado.groupby(\"maestro\").agg({\"examen_diagnostico\":\"mean\",\"examen_final\":\"mean\",\"Progreso\":\"mean\"}).round(6)"
   ]
  },
  {
   "cell_type": "markdown",
   "id": "4788284c-a861-4b4e-b630-1ab057b976bd",
   "metadata": {},
   "source": [
    "![Resuelto](./Img_24_Ejercicios/Act3Img2.png)"
   ]
  },
  {
   "cell_type": "markdown",
   "id": "490b6e83-83c4-44d6-a98d-11eb4f393b14",
   "metadata": {},
   "source": [
    "__Conclusión:__ Los 3 maestros tienen un desempeño similar."
   ]
  },
  {
   "cell_type": "markdown",
   "id": "e742ec93-9fac-4112-8024-ea69dd9eb269",
   "metadata": {},
   "source": [
    "## Ejercicio 4:\n",
    "Utilizar pandas para importar los datos del archivo \"certificado_historico.csv\" en la variable \"historico\""
   ]
  },
  {
   "cell_type": "code",
   "execution_count": 1,
   "id": "537ae6a7-3204-4310-abe6-4efcb4b57f04",
   "metadata": {},
   "outputs": [
    {
     "data": {
      "application/vnd.microsoft.datawrangler.viewer.v0+json": {
       "columns": [
        {
         "name": "index",
         "rawType": "int64",
         "type": "integer"
        },
        {
         "name": "num_control",
         "rawType": "object",
         "type": "string"
        },
        {
         "name": "nombre",
         "rawType": "object",
         "type": "string"
        },
        {
         "name": "edad",
         "rawType": "int64",
         "type": "integer"
        },
        {
         "name": "calificacion",
         "rawType": "float64",
         "type": "float"
        },
        {
         "name": "grupo",
         "rawType": "object",
         "type": "string"
        },
        {
         "name": "anio",
         "rawType": "int64",
         "type": "integer"
        },
        {
         "name": "semestre",
         "rawType": "int64",
         "type": "integer"
        },
        {
         "name": "certificacion",
         "rawType": "object",
         "type": "string"
        },
        {
         "name": "maestro",
         "rawType": "object",
         "type": "string"
        }
       ],
       "ref": "13ead7d5-fada-413c-88e1-8f1be650d06a",
       "rows": [
        [
         "0",
         "A001",
         "Aarón",
         "14",
         "8.9",
         "A",
         "2017",
         "1",
         "NO",
         "Tatiana"
        ],
        [
         "1",
         "A002",
         "Lucía",
         "42",
         "9.3",
         "A",
         "2017",
         "1",
         "NO",
         "Tatiana"
        ],
        [
         "2",
         "A003",
         "Hugo",
         "29",
         "8.7",
         "A",
         "2017",
         "1",
         "NO",
         "Tatiana"
        ],
        [
         "3",
         "A004",
         "Julieta",
         "34",
         "7.9",
         "A",
         "2017",
         "1",
         "NO",
         "Tatiana"
        ],
        [
         "4",
         "A005",
         "Adrían",
         "14",
         "9.1",
         "A",
         "2017",
         "1",
         "NO",
         "Tatiana"
        ],
        [
         "5",
         "A006",
         "Jacobo",
         "44",
         "9.8",
         "A",
         "2017",
         "1",
         "SI",
         "Tatiana"
        ],
        [
         "6",
         "A007",
         "Yasmín",
         "23",
         "7.0",
         "A",
         "2017",
         "1",
         "NO",
         "Tatiana"
        ],
        [
         "7",
         "A008",
         "Sofía",
         "20",
         "9.0",
         "A",
         "2017",
         "1",
         "SI",
         "Tatiana"
        ],
        [
         "8",
         "A009",
         "Leonardo",
         "37",
         "7.5",
         "A",
         "2017",
         "1",
         "NO",
         "Tatiana"
        ],
        [
         "9",
         "A010",
         "Martina",
         "35",
         "9.5",
         "A",
         "2017",
         "1",
         "SI",
         "Tatiana"
        ],
        [
         "10",
         "A011",
         "María",
         "34",
         "7.4",
         "A",
         "2017",
         "1",
         "NO",
         "Tatiana"
        ],
        [
         "11",
         "A012",
         "Ricardo",
         "34",
         "9.0",
         "A",
         "2017",
         "1",
         "SI",
         "Tatiana"
        ],
        [
         "12",
         "A013",
         "Javier",
         "31",
         "9.7",
         "A",
         "2017",
         "2",
         "SI",
         "Tatiana"
        ],
        [
         "13",
         "A014",
         "Salvador",
         "42",
         "7.2",
         "A",
         "2017",
         "2",
         "NO",
         "Tatiana"
        ],
        [
         "14",
         "A015",
         "Diego",
         "42",
         "9.4",
         "A",
         "2017",
         "2",
         "SI",
         "Tatiana"
        ],
        [
         "15",
         "A016",
         "Abel",
         "21",
         "7.2",
         "A",
         "2017",
         "2",
         "NO",
         "Tatiana"
        ],
        [
         "16",
         "A017",
         "Maximiliano",
         "20",
         "7.0",
         "A",
         "2017",
         "2",
         "NO",
         "Tatiana"
        ],
        [
         "17",
         "A018",
         "Julia",
         "45",
         "8.0",
         "A",
         "2017",
         "2",
         "NO",
         "Tatiana"
        ],
        [
         "18",
         "A019",
         "Pablo",
         "41",
         "8.0",
         "A",
         "2017",
         "2",
         "NO",
         "Tatiana"
        ],
        [
         "19",
         "A020",
         "Andrea ",
         "24",
         "7.8",
         "A",
         "2017",
         "2",
         "NO",
         "Tatiana"
        ],
        [
         "20",
         "A021",
         "Rafael",
         "17",
         "9.8",
         "A",
         "2017",
         "2",
         "NO",
         "Tatiana"
        ],
        [
         "21",
         "A022",
         "Máximo",
         "16",
         "8.0",
         "A",
         "2017",
         "2",
         "NO",
         "Tatiana"
        ],
        [
         "22",
         "A023",
         "Adán",
         "35",
         "8.1",
         "A",
         "2017",
         "2",
         "SI",
         "Tatiana"
        ],
        [
         "23",
         "A024",
         "Ramiro",
         "26",
         "7.9",
         "A",
         "2017",
         "2",
         "NO",
         "Tatiana"
        ],
        [
         "24",
         "A025",
         "Luna",
         "27",
         "9.2",
         "A",
         "2017",
         "2",
         "NO",
         "Tatiana"
        ],
        [
         "25",
         "A026",
         "Paula",
         "26",
         "8.4",
         "B",
         "2017",
         "1",
         "NO",
         "Armando"
        ],
        [
         "26",
         "A027",
         "Roberto",
         "28",
         "9.8",
         "B",
         "2017",
         "1",
         "NO",
         "Armando"
        ],
        [
         "27",
         "A028",
         "Eduardo",
         "39",
         "9.0",
         "B",
         "2017",
         "1",
         "NO",
         "Armando"
        ],
        [
         "28",
         "A029",
         "Clara",
         "47",
         "9.1",
         "B",
         "2017",
         "1",
         "NO",
         "Armando"
        ],
        [
         "29",
         "A030",
         "Ramón",
         "28",
         "7.5",
         "B",
         "2017",
         "1",
         "NO",
         "Armando"
        ],
        [
         "30",
         "A031",
         "Rubén",
         "48",
         "7.4",
         "B",
         "2017",
         "1",
         "SI",
         "Armando"
        ],
        [
         "31",
         "A032",
         "Eva",
         "21",
         "9.8",
         "B",
         "2017",
         "1",
         "SI",
         "Armando"
        ],
        [
         "32",
         "A033",
         "Claudio",
         "35",
         "9.8",
         "B",
         "2017",
         "1",
         "NO",
         "Armando"
        ],
        [
         "33",
         "A034",
         "Elsa",
         "43",
         "8.6",
         "B",
         "2017",
         "1",
         "NO",
         "Armando"
        ],
        [
         "34",
         "A035",
         "David",
         "14",
         "7.2",
         "B",
         "2017",
         "1",
         "NO",
         "Armando"
        ],
        [
         "35",
         "A036",
         "Valeria",
         "39",
         "9.1",
         "B",
         "2017",
         "1",
         "SI",
         "Armando"
        ],
        [
         "36",
         "A037",
         "Tomás",
         "37",
         "9.0",
         "B",
         "2017",
         "1",
         "SI",
         "Armando"
        ],
        [
         "37",
         "A038",
         "Alicia ",
         "45",
         "8.8",
         "B",
         "2017",
         "2",
         "NO",
         "Armando"
        ],
        [
         "38",
         "A039",
         "Miguel",
         "27",
         "7.1",
         "B",
         "2017",
         "2",
         "NO",
         "Armando"
        ],
        [
         "39",
         "A040",
         "Felipe",
         "14",
         "8.0",
         "B",
         "2017",
         "2",
         "SI",
         "Armando"
        ],
        [
         "40",
         "A041",
         "Tobías",
         "44",
         "7.6",
         "B",
         "2017",
         "2",
         "NO",
         "Armando"
        ],
        [
         "41",
         "A042",
         "Abelardo",
         "34",
         "9.7",
         "B",
         "2017",
         "2",
         "NO",
         "Armando"
        ],
        [
         "42",
         "A043",
         "William",
         "12",
         "8.1",
         "B",
         "2017",
         "2",
         "NO",
         "Armando"
        ],
        [
         "43",
         "A044",
         "Laura",
         "42",
         "7.6",
         "B",
         "2017",
         "2",
         "NO",
         "Armando"
        ],
        [
         "44",
         "A045",
         "Arturo",
         "38",
         "9.6",
         "B",
         "2017",
         "2",
         "NO",
         "Armando"
        ],
        [
         "45",
         "A046",
         "Rocío",
         "27",
         "9.0",
         "B",
         "2017",
         "2",
         "SI",
         "Armando"
        ],
        [
         "46",
         "A047",
         "Orlando",
         "31",
         "9.2",
         "B",
         "2017",
         "2",
         "NO",
         "Armando"
        ],
        [
         "47",
         "A048",
         "Emma",
         "19",
         "8.1",
         "B",
         "2017",
         "2",
         "SI",
         "Armando"
        ],
        [
         "48",
         "A049",
         "Samuel",
         "24",
         "7.1",
         "B",
         "2017",
         "2",
         "NO",
         "Armando"
        ],
        [
         "49",
         "A050",
         "Carmen",
         "31",
         "9.2",
         "B",
         "2017",
         "2",
         "SI",
         "Armando"
        ]
       ],
       "shape": {
        "columns": 9,
        "rows": 300
       }
      },
      "text/html": [
       "<div>\n",
       "<style scoped>\n",
       "    .dataframe tbody tr th:only-of-type {\n",
       "        vertical-align: middle;\n",
       "    }\n",
       "\n",
       "    .dataframe tbody tr th {\n",
       "        vertical-align: top;\n",
       "    }\n",
       "\n",
       "    .dataframe thead th {\n",
       "        text-align: right;\n",
       "    }\n",
       "</style>\n",
       "<table border=\"1\" class=\"dataframe\">\n",
       "  <thead>\n",
       "    <tr style=\"text-align: right;\">\n",
       "      <th></th>\n",
       "      <th>num_control</th>\n",
       "      <th>nombre</th>\n",
       "      <th>edad</th>\n",
       "      <th>calificacion</th>\n",
       "      <th>grupo</th>\n",
       "      <th>anio</th>\n",
       "      <th>semestre</th>\n",
       "      <th>certificacion</th>\n",
       "      <th>maestro</th>\n",
       "    </tr>\n",
       "  </thead>\n",
       "  <tbody>\n",
       "    <tr>\n",
       "      <th>0</th>\n",
       "      <td>A001</td>\n",
       "      <td>Aarón</td>\n",
       "      <td>14</td>\n",
       "      <td>8.9</td>\n",
       "      <td>A</td>\n",
       "      <td>2017</td>\n",
       "      <td>1</td>\n",
       "      <td>NO</td>\n",
       "      <td>Tatiana</td>\n",
       "    </tr>\n",
       "    <tr>\n",
       "      <th>1</th>\n",
       "      <td>A002</td>\n",
       "      <td>Lucía</td>\n",
       "      <td>42</td>\n",
       "      <td>9.3</td>\n",
       "      <td>A</td>\n",
       "      <td>2017</td>\n",
       "      <td>1</td>\n",
       "      <td>NO</td>\n",
       "      <td>Tatiana</td>\n",
       "    </tr>\n",
       "    <tr>\n",
       "      <th>2</th>\n",
       "      <td>A003</td>\n",
       "      <td>Hugo</td>\n",
       "      <td>29</td>\n",
       "      <td>8.7</td>\n",
       "      <td>A</td>\n",
       "      <td>2017</td>\n",
       "      <td>1</td>\n",
       "      <td>NO</td>\n",
       "      <td>Tatiana</td>\n",
       "    </tr>\n",
       "    <tr>\n",
       "      <th>3</th>\n",
       "      <td>A004</td>\n",
       "      <td>Julieta</td>\n",
       "      <td>34</td>\n",
       "      <td>7.9</td>\n",
       "      <td>A</td>\n",
       "      <td>2017</td>\n",
       "      <td>1</td>\n",
       "      <td>NO</td>\n",
       "      <td>Tatiana</td>\n",
       "    </tr>\n",
       "    <tr>\n",
       "      <th>4</th>\n",
       "      <td>A005</td>\n",
       "      <td>Adrían</td>\n",
       "      <td>14</td>\n",
       "      <td>9.1</td>\n",
       "      <td>A</td>\n",
       "      <td>2017</td>\n",
       "      <td>1</td>\n",
       "      <td>NO</td>\n",
       "      <td>Tatiana</td>\n",
       "    </tr>\n",
       "    <tr>\n",
       "      <th>...</th>\n",
       "      <td>...</td>\n",
       "      <td>...</td>\n",
       "      <td>...</td>\n",
       "      <td>...</td>\n",
       "      <td>...</td>\n",
       "      <td>...</td>\n",
       "      <td>...</td>\n",
       "      <td>...</td>\n",
       "      <td>...</td>\n",
       "    </tr>\n",
       "    <tr>\n",
       "      <th>295</th>\n",
       "      <td>A296</td>\n",
       "      <td>Brayan</td>\n",
       "      <td>25</td>\n",
       "      <td>9.1</td>\n",
       "      <td>C</td>\n",
       "      <td>2020</td>\n",
       "      <td>2</td>\n",
       "      <td>SI</td>\n",
       "      <td>Gaspar</td>\n",
       "    </tr>\n",
       "    <tr>\n",
       "      <th>296</th>\n",
       "      <td>A297</td>\n",
       "      <td>Deymar</td>\n",
       "      <td>30</td>\n",
       "      <td>9.1</td>\n",
       "      <td>C</td>\n",
       "      <td>2020</td>\n",
       "      <td>2</td>\n",
       "      <td>SI</td>\n",
       "      <td>Gaspar</td>\n",
       "    </tr>\n",
       "    <tr>\n",
       "      <th>297</th>\n",
       "      <td>A298</td>\n",
       "      <td>Rogelio</td>\n",
       "      <td>15</td>\n",
       "      <td>7.9</td>\n",
       "      <td>C</td>\n",
       "      <td>2020</td>\n",
       "      <td>2</td>\n",
       "      <td>NO</td>\n",
       "      <td>Gaspar</td>\n",
       "    </tr>\n",
       "    <tr>\n",
       "      <th>298</th>\n",
       "      <td>A299</td>\n",
       "      <td>Percy</td>\n",
       "      <td>32</td>\n",
       "      <td>7.4</td>\n",
       "      <td>C</td>\n",
       "      <td>2020</td>\n",
       "      <td>2</td>\n",
       "      <td>NO</td>\n",
       "      <td>Gaspar</td>\n",
       "    </tr>\n",
       "    <tr>\n",
       "      <th>299</th>\n",
       "      <td>A300</td>\n",
       "      <td>Claridad</td>\n",
       "      <td>25</td>\n",
       "      <td>7.2</td>\n",
       "      <td>C</td>\n",
       "      <td>2020</td>\n",
       "      <td>2</td>\n",
       "      <td>SI</td>\n",
       "      <td>Gaspar</td>\n",
       "    </tr>\n",
       "  </tbody>\n",
       "</table>\n",
       "<p>300 rows × 9 columns</p>\n",
       "</div>"
      ],
      "text/plain": [
       "    num_control    nombre  edad  calificacion grupo  anio  semestre  \\\n",
       "0          A001     Aarón    14           8.9     A  2017         1   \n",
       "1          A002     Lucía    42           9.3     A  2017         1   \n",
       "2          A003      Hugo    29           8.7     A  2017         1   \n",
       "3          A004   Julieta    34           7.9     A  2017         1   \n",
       "4          A005    Adrían    14           9.1     A  2017         1   \n",
       "..          ...       ...   ...           ...   ...   ...       ...   \n",
       "295        A296    Brayan    25           9.1     C  2020         2   \n",
       "296        A297    Deymar    30           9.1     C  2020         2   \n",
       "297        A298   Rogelio    15           7.9     C  2020         2   \n",
       "298        A299     Percy    32           7.4     C  2020         2   \n",
       "299        A300  Claridad    25           7.2     C  2020         2   \n",
       "\n",
       "    certificacion  maestro  \n",
       "0              NO  Tatiana  \n",
       "1              NO  Tatiana  \n",
       "2              NO  Tatiana  \n",
       "3              NO  Tatiana  \n",
       "4              NO  Tatiana  \n",
       "..            ...      ...  \n",
       "295            SI   Gaspar  \n",
       "296            SI   Gaspar  \n",
       "297            NO   Gaspar  \n",
       "298            NO   Gaspar  \n",
       "299            SI   Gaspar  \n",
       "\n",
       "[300 rows x 9 columns]"
      ]
     },
     "execution_count": 1,
     "metadata": {},
     "output_type": "execute_result"
    }
   ],
   "source": [
    "import pandas as pd \n",
    "\n",
    "historico = pd.read_csv(\"./certificado_historico.csv\")\n",
    "historico"
   ]
  },
  {
   "cell_type": "markdown",
   "id": "f6fd3c6b-85ec-4ac7-85c0-2f04946c0e3c",
   "metadata": {},
   "source": [
    "Utlizar groupby para crear un DataFrame con la calificación más baja en cada grupo de cada año, el resultado debe ser el siguiente: "
   ]
  },
  {
   "cell_type": "markdown",
   "id": "455af193-4ffe-4704-8413-a762a9d36a05",
   "metadata": {},
   "source": [
    "![Resuelto](./Img_24_Ejercicios/Act4Img1.png)"
   ]
  },
  {
   "cell_type": "code",
   "execution_count": 4,
   "id": "676adae1-e0f2-41f2-a286-e9b7b17744ec",
   "metadata": {},
   "outputs": [
    {
     "data": {
      "application/vnd.microsoft.datawrangler.viewer.v0+json": {
       "columns": [
        {
         "name": "('anio', 'grupo')",
         "rawType": "object",
         "type": "unknown"
        },
        {
         "name": "calificacion",
         "rawType": "float64",
         "type": "float"
        }
       ],
       "ref": "b771d35d-6503-4084-9756-80f312e37326",
       "rows": [
        [
         "(2017, 'A')",
         "7.0"
        ],
        [
         "(2017, 'B')",
         "7.1"
        ],
        [
         "(2017, 'C')",
         "7.1"
        ],
        [
         "(2018, 'A')",
         "7.4"
        ],
        [
         "(2018, 'B')",
         "7.2"
        ],
        [
         "(2018, 'C')",
         "7.0"
        ],
        [
         "(2019, 'A')",
         "6.6"
        ],
        [
         "(2019, 'B')",
         "7.1"
        ],
        [
         "(2019, 'C')",
         "7.0"
        ],
        [
         "(2020, 'A')",
         "7.1"
        ],
        [
         "(2020, 'B')",
         "7.0"
        ],
        [
         "(2020, 'C')",
         "7.2"
        ]
       ],
       "shape": {
        "columns": 1,
        "rows": 12
       }
      },
      "text/html": [
       "<div>\n",
       "<style scoped>\n",
       "    .dataframe tbody tr th:only-of-type {\n",
       "        vertical-align: middle;\n",
       "    }\n",
       "\n",
       "    .dataframe tbody tr th {\n",
       "        vertical-align: top;\n",
       "    }\n",
       "\n",
       "    .dataframe thead th {\n",
       "        text-align: right;\n",
       "    }\n",
       "</style>\n",
       "<table border=\"1\" class=\"dataframe\">\n",
       "  <thead>\n",
       "    <tr style=\"text-align: right;\">\n",
       "      <th></th>\n",
       "      <th></th>\n",
       "      <th>calificacion</th>\n",
       "    </tr>\n",
       "    <tr>\n",
       "      <th>anio</th>\n",
       "      <th>grupo</th>\n",
       "      <th></th>\n",
       "    </tr>\n",
       "  </thead>\n",
       "  <tbody>\n",
       "    <tr>\n",
       "      <th rowspan=\"3\" valign=\"top\">2017</th>\n",
       "      <th>A</th>\n",
       "      <td>7.0</td>\n",
       "    </tr>\n",
       "    <tr>\n",
       "      <th>B</th>\n",
       "      <td>7.1</td>\n",
       "    </tr>\n",
       "    <tr>\n",
       "      <th>C</th>\n",
       "      <td>7.1</td>\n",
       "    </tr>\n",
       "    <tr>\n",
       "      <th rowspan=\"3\" valign=\"top\">2018</th>\n",
       "      <th>A</th>\n",
       "      <td>7.4</td>\n",
       "    </tr>\n",
       "    <tr>\n",
       "      <th>B</th>\n",
       "      <td>7.2</td>\n",
       "    </tr>\n",
       "    <tr>\n",
       "      <th>C</th>\n",
       "      <td>7.0</td>\n",
       "    </tr>\n",
       "    <tr>\n",
       "      <th rowspan=\"3\" valign=\"top\">2019</th>\n",
       "      <th>A</th>\n",
       "      <td>6.6</td>\n",
       "    </tr>\n",
       "    <tr>\n",
       "      <th>B</th>\n",
       "      <td>7.1</td>\n",
       "    </tr>\n",
       "    <tr>\n",
       "      <th>C</th>\n",
       "      <td>7.0</td>\n",
       "    </tr>\n",
       "    <tr>\n",
       "      <th rowspan=\"3\" valign=\"top\">2020</th>\n",
       "      <th>A</th>\n",
       "      <td>7.1</td>\n",
       "    </tr>\n",
       "    <tr>\n",
       "      <th>B</th>\n",
       "      <td>7.0</td>\n",
       "    </tr>\n",
       "    <tr>\n",
       "      <th>C</th>\n",
       "      <td>7.2</td>\n",
       "    </tr>\n",
       "  </tbody>\n",
       "</table>\n",
       "</div>"
      ],
      "text/plain": [
       "            calificacion\n",
       "anio grupo              \n",
       "2017 A               7.0\n",
       "     B               7.1\n",
       "     C               7.1\n",
       "2018 A               7.4\n",
       "     B               7.2\n",
       "     C               7.0\n",
       "2019 A               6.6\n",
       "     B               7.1\n",
       "     C               7.0\n",
       "2020 A               7.1\n",
       "     B               7.0\n",
       "     C               7.2"
      ]
     },
     "execution_count": 4,
     "metadata": {},
     "output_type": "execute_result"
    }
   ],
   "source": [
    "historico.groupby([\"anio\",\"grupo\"]).agg({\"calificacion\":\"min\"})"
   ]
  },
  {
   "cell_type": "markdown",
   "id": "71eb8ae2-db19-4337-8df5-0a78a1e28dd5",
   "metadata": {},
   "source": [
    "![Resuelto](./Img_24_Ejercicios/Act4Img2.png)"
   ]
  },
  {
   "cell_type": "markdown",
   "id": "637af441-f62d-42db-930e-76830de1dd60",
   "metadata": {},
   "source": [
    "__Conclusión:__ la calificación más baja normalmente se mantiene por encima de 7"
   ]
  },
  {
   "cell_type": "markdown",
   "id": "c28833fb-54e2-4d58-bdaf-d0f91c8a2e76",
   "metadata": {},
   "source": [
    "## Ejercicio 5:\n",
    "Utilizar groupby para crear un DataFrame con la cantidad de alumnos a la que ha impartido clases cada maestro, por ejemplo, la profesora Jessica ha dado clases a 80 alumnos, el resultado debe ser el siguiente:"
   ]
  },
  {
   "cell_type": "markdown",
   "id": "fb1a927d-9e67-422c-9162-14284cb31e99",
   "metadata": {},
   "source": [
    "![Resuelto](./Img_24_Ejercicios/Act5Img1.png)"
   ]
  },
  {
   "cell_type": "code",
   "execution_count": 14,
   "id": "898b34c5-239d-40e9-90ca-95a43924edf0",
   "metadata": {},
   "outputs": [
    {
     "data": {
      "application/vnd.microsoft.datawrangler.viewer.v0+json": {
       "columns": [
        {
         "name": "maestro",
         "rawType": "object",
         "type": "string"
        },
        {
         "name": "nombre",
         "rawType": "int64",
         "type": "integer"
        }
       ],
       "ref": "81fb4749-f4c0-4cb8-acd7-c8c88285c519",
       "rows": [
        [
         "Armando",
         "100"
        ],
        [
         "Emily",
         "74"
        ],
        [
         "Gaspar",
         "26"
        ],
        [
         "Tatiana",
         "100"
        ]
       ],
       "shape": {
        "columns": 1,
        "rows": 4
       }
      },
      "text/html": [
       "<div>\n",
       "<style scoped>\n",
       "    .dataframe tbody tr th:only-of-type {\n",
       "        vertical-align: middle;\n",
       "    }\n",
       "\n",
       "    .dataframe tbody tr th {\n",
       "        vertical-align: top;\n",
       "    }\n",
       "\n",
       "    .dataframe thead th {\n",
       "        text-align: right;\n",
       "    }\n",
       "</style>\n",
       "<table border=\"1\" class=\"dataframe\">\n",
       "  <thead>\n",
       "    <tr style=\"text-align: right;\">\n",
       "      <th></th>\n",
       "      <th>nombre</th>\n",
       "    </tr>\n",
       "    <tr>\n",
       "      <th>maestro</th>\n",
       "      <th></th>\n",
       "    </tr>\n",
       "  </thead>\n",
       "  <tbody>\n",
       "    <tr>\n",
       "      <th>Armando</th>\n",
       "      <td>100</td>\n",
       "    </tr>\n",
       "    <tr>\n",
       "      <th>Emily</th>\n",
       "      <td>74</td>\n",
       "    </tr>\n",
       "    <tr>\n",
       "      <th>Gaspar</th>\n",
       "      <td>26</td>\n",
       "    </tr>\n",
       "    <tr>\n",
       "      <th>Tatiana</th>\n",
       "      <td>100</td>\n",
       "    </tr>\n",
       "  </tbody>\n",
       "</table>\n",
       "</div>"
      ],
      "text/plain": [
       "         nombre\n",
       "maestro        \n",
       "Armando     100\n",
       "Emily        74\n",
       "Gaspar       26\n",
       "Tatiana     100"
      ]
     },
     "execution_count": 14,
     "metadata": {},
     "output_type": "execute_result"
    }
   ],
   "source": [
    "historico.groupby(\"maestro\").agg({\"nombre\":\"size\"})"
   ]
  },
  {
   "cell_type": "code",
   "execution_count": null,
   "id": "34e6768e-eaec-4745-92fa-23870040a351",
   "metadata": {},
   "outputs": [],
   "source": []
  },
  {
   "cell_type": "markdown",
   "id": "7a7e9f06-b6a4-48aa-b690-1cfafa98278b",
   "metadata": {},
   "source": [
    "![Resuelto](./Img_24_Ejercicios/Act5Img2.png)"
   ]
  },
  {
   "cell_type": "code",
   "execution_count": null,
   "id": "5f1dc907-a832-462a-b2e6-95230760b23b",
   "metadata": {},
   "outputs": [],
   "source": []
  },
  {
   "cell_type": "markdown",
   "id": "67f2a1d0-8430-4360-b0ff-ad9e98505d3a",
   "metadata": {},
   "source": [
    "__Conclusión:__ Tatiana y Armando son los profesores que más alumnos han tenido"
   ]
  },
  {
   "cell_type": "markdown",
   "id": "6a058691-7976-4ab1-aff5-5a36f5f67ada",
   "metadata": {},
   "source": [
    "## Ejercicio 6:\n",
    "Utilizar pivot table para crear un DataFrame con la calificación promedio de los estudiantes de cada profesor en cada año, el resultado debe ser el siguiente:"
   ]
  },
  {
   "cell_type": "markdown",
   "id": "7cf7f751-64f3-4429-b09d-0bb949324c32",
   "metadata": {},
   "source": [
    "![Resuelto](./Img_24_Ejercicios/Act6Img1.png)"
   ]
  },
  {
   "cell_type": "code",
   "execution_count": 15,
   "id": "2af79a87-ddb6-4916-9952-b29f4d3a5433",
   "metadata": {},
   "outputs": [
    {
     "data": {
      "application/vnd.microsoft.datawrangler.viewer.v0+json": {
       "columns": [
        {
         "name": "anio",
         "rawType": "int64",
         "type": "integer"
        },
        {
         "name": "Armando",
         "rawType": "float64",
         "type": "float"
        },
        {
         "name": "Emily",
         "rawType": "float64",
         "type": "float"
        },
        {
         "name": "Gaspar",
         "rawType": "float64",
         "type": "float"
        },
        {
         "name": "Tatiana",
         "rawType": "float64",
         "type": "float"
        }
       ],
       "ref": "d8ebd193-5e26-4125-a963-7cc631828cb1",
       "rows": [
        [
         "2017",
         "8.552",
         "8.368",
         null,
         "8.416"
        ],
        [
         "2018",
         "8.38",
         "8.604",
         null,
         "8.78"
        ],
        [
         "2019",
         "8.728",
         "8.608333333333333",
         "8.36923076923077",
         "8.296"
        ],
        [
         "2020",
         "8.496",
         "9.025",
         "8.184615384615386",
         "8.476"
        ]
       ],
       "shape": {
        "columns": 4,
        "rows": 4
       }
      },
      "text/html": [
       "<div>\n",
       "<style scoped>\n",
       "    .dataframe tbody tr th:only-of-type {\n",
       "        vertical-align: middle;\n",
       "    }\n",
       "\n",
       "    .dataframe tbody tr th {\n",
       "        vertical-align: top;\n",
       "    }\n",
       "\n",
       "    .dataframe thead th {\n",
       "        text-align: right;\n",
       "    }\n",
       "</style>\n",
       "<table border=\"1\" class=\"dataframe\">\n",
       "  <thead>\n",
       "    <tr style=\"text-align: right;\">\n",
       "      <th>maestro</th>\n",
       "      <th>Armando</th>\n",
       "      <th>Emily</th>\n",
       "      <th>Gaspar</th>\n",
       "      <th>Tatiana</th>\n",
       "    </tr>\n",
       "    <tr>\n",
       "      <th>anio</th>\n",
       "      <th></th>\n",
       "      <th></th>\n",
       "      <th></th>\n",
       "      <th></th>\n",
       "    </tr>\n",
       "  </thead>\n",
       "  <tbody>\n",
       "    <tr>\n",
       "      <th>2017</th>\n",
       "      <td>8.552</td>\n",
       "      <td>8.368000</td>\n",
       "      <td>NaN</td>\n",
       "      <td>8.416</td>\n",
       "    </tr>\n",
       "    <tr>\n",
       "      <th>2018</th>\n",
       "      <td>8.380</td>\n",
       "      <td>8.604000</td>\n",
       "      <td>NaN</td>\n",
       "      <td>8.780</td>\n",
       "    </tr>\n",
       "    <tr>\n",
       "      <th>2019</th>\n",
       "      <td>8.728</td>\n",
       "      <td>8.608333</td>\n",
       "      <td>8.369231</td>\n",
       "      <td>8.296</td>\n",
       "    </tr>\n",
       "    <tr>\n",
       "      <th>2020</th>\n",
       "      <td>8.496</td>\n",
       "      <td>9.025000</td>\n",
       "      <td>8.184615</td>\n",
       "      <td>8.476</td>\n",
       "    </tr>\n",
       "  </tbody>\n",
       "</table>\n",
       "</div>"
      ],
      "text/plain": [
       "maestro  Armando     Emily    Gaspar  Tatiana\n",
       "anio                                         \n",
       "2017       8.552  8.368000       NaN    8.416\n",
       "2018       8.380  8.604000       NaN    8.780\n",
       "2019       8.728  8.608333  8.369231    8.296\n",
       "2020       8.496  9.025000  8.184615    8.476"
      ]
     },
     "execution_count": 15,
     "metadata": {},
     "output_type": "execute_result"
    }
   ],
   "source": [
    "historico.pivot_table(index=\"anio\",values=\"calificacion\",columns=\"maestro\",aggfunc=\"mean\")"
   ]
  },
  {
   "cell_type": "markdown",
   "id": "5a480b81-ca0a-4802-aa77-c525018c2a02",
   "metadata": {},
   "source": [
    "![Resuelto](./Img_24_Ejercicios/Act6Img2.png)"
   ]
  },
  {
   "cell_type": "markdown",
   "id": "c30a3d1d-7e32-4b92-a006-e88ea6efa5f3",
   "metadata": {},
   "source": [
    "__Conclusión:__ Emily es la maestra que mayor progreso ha tenido"
   ]
  },
  {
   "cell_type": "markdown",
   "id": "498ff38d-4b41-4332-9584-4a821da8ecaa",
   "metadata": {},
   "source": [
    "## Ejercicio 7:\n",
    "Utilizar groupby para crear un DataFrame con la mediana en la calificación de cada grupo en cada año, el resultado debe ser el siguiente:"
   ]
  },
  {
   "cell_type": "markdown",
   "id": "fa408b6b-58f9-490a-b131-79f45a99420d",
   "metadata": {},
   "source": [
    "![Resuelto](./Img_24_Ejercicios/Act7Img1.png)"
   ]
  },
  {
   "cell_type": "code",
   "execution_count": 16,
   "id": "10c8eef9-8b5b-475f-a877-66497b085fed",
   "metadata": {},
   "outputs": [
    {
     "data": {
      "application/vnd.microsoft.datawrangler.viewer.v0+json": {
       "columns": [
        {
         "name": "('grupo', 'anio')",
         "rawType": "object",
         "type": "unknown"
        },
        {
         "name": "calificacion",
         "rawType": "float64",
         "type": "float"
        }
       ],
       "ref": "41c29b13-02ef-4c81-94b7-f49736990e26",
       "rows": [
        [
         "('A', 2017)",
         "8.1"
        ],
        [
         "('A', 2018)",
         "8.7"
        ],
        [
         "('A', 2019)",
         "8.2"
        ],
        [
         "('A', 2020)",
         "8.3"
        ],
        [
         "('B', 2017)",
         "8.8"
        ],
        [
         "('B', 2018)",
         "8.2"
        ],
        [
         "('B', 2019)",
         "8.7"
        ],
        [
         "('B', 2020)",
         "8.7"
        ],
        [
         "('C', 2017)",
         "8.3"
        ],
        [
         "('C', 2018)",
         "8.6"
        ],
        [
         "('C', 2019)",
         "8.8"
        ],
        [
         "('C', 2020)",
         "8.7"
        ]
       ],
       "shape": {
        "columns": 1,
        "rows": 12
       }
      },
      "text/html": [
       "<div>\n",
       "<style scoped>\n",
       "    .dataframe tbody tr th:only-of-type {\n",
       "        vertical-align: middle;\n",
       "    }\n",
       "\n",
       "    .dataframe tbody tr th {\n",
       "        vertical-align: top;\n",
       "    }\n",
       "\n",
       "    .dataframe thead th {\n",
       "        text-align: right;\n",
       "    }\n",
       "</style>\n",
       "<table border=\"1\" class=\"dataframe\">\n",
       "  <thead>\n",
       "    <tr style=\"text-align: right;\">\n",
       "      <th></th>\n",
       "      <th></th>\n",
       "      <th>calificacion</th>\n",
       "    </tr>\n",
       "    <tr>\n",
       "      <th>grupo</th>\n",
       "      <th>anio</th>\n",
       "      <th></th>\n",
       "    </tr>\n",
       "  </thead>\n",
       "  <tbody>\n",
       "    <tr>\n",
       "      <th rowspan=\"4\" valign=\"top\">A</th>\n",
       "      <th>2017</th>\n",
       "      <td>8.1</td>\n",
       "    </tr>\n",
       "    <tr>\n",
       "      <th>2018</th>\n",
       "      <td>8.7</td>\n",
       "    </tr>\n",
       "    <tr>\n",
       "      <th>2019</th>\n",
       "      <td>8.2</td>\n",
       "    </tr>\n",
       "    <tr>\n",
       "      <th>2020</th>\n",
       "      <td>8.3</td>\n",
       "    </tr>\n",
       "    <tr>\n",
       "      <th rowspan=\"4\" valign=\"top\">B</th>\n",
       "      <th>2017</th>\n",
       "      <td>8.8</td>\n",
       "    </tr>\n",
       "    <tr>\n",
       "      <th>2018</th>\n",
       "      <td>8.2</td>\n",
       "    </tr>\n",
       "    <tr>\n",
       "      <th>2019</th>\n",
       "      <td>8.7</td>\n",
       "    </tr>\n",
       "    <tr>\n",
       "      <th>2020</th>\n",
       "      <td>8.7</td>\n",
       "    </tr>\n",
       "    <tr>\n",
       "      <th rowspan=\"4\" valign=\"top\">C</th>\n",
       "      <th>2017</th>\n",
       "      <td>8.3</td>\n",
       "    </tr>\n",
       "    <tr>\n",
       "      <th>2018</th>\n",
       "      <td>8.6</td>\n",
       "    </tr>\n",
       "    <tr>\n",
       "      <th>2019</th>\n",
       "      <td>8.8</td>\n",
       "    </tr>\n",
       "    <tr>\n",
       "      <th>2020</th>\n",
       "      <td>8.7</td>\n",
       "    </tr>\n",
       "  </tbody>\n",
       "</table>\n",
       "</div>"
      ],
      "text/plain": [
       "            calificacion\n",
       "grupo anio              \n",
       "A     2017           8.1\n",
       "      2018           8.7\n",
       "      2019           8.2\n",
       "      2020           8.3\n",
       "B     2017           8.8\n",
       "      2018           8.2\n",
       "      2019           8.7\n",
       "      2020           8.7\n",
       "C     2017           8.3\n",
       "      2018           8.6\n",
       "      2019           8.8\n",
       "      2020           8.7"
      ]
     },
     "execution_count": 16,
     "metadata": {},
     "output_type": "execute_result"
    }
   ],
   "source": [
    "historico.groupby([\"grupo\",\"anio\"]).agg({\"calificacion\":\"median\"})"
   ]
  },
  {
   "cell_type": "markdown",
   "id": "bcef14e4-cae0-49aa-9b7f-8f289a9a35b4",
   "metadata": {},
   "source": [
    "__Conclusión:__ la mediana en las calificaciones normalmente es alrededor de 8.5"
   ]
  },
  {
   "cell_type": "markdown",
   "id": "a213cef8-8eb5-4fa2-8cab-192ac1244cac",
   "metadata": {
    "tags": []
   },
   "source": [
    "## Ejercicio 8\n",
    "Armar un código que devuelva un Dataframe con los datos de los estudiantes que si quieren obtener un certificado, el resultado debe ser el siguiente: "
   ]
  },
  {
   "cell_type": "markdown",
   "id": "b8ab20a7-acce-4886-b3a9-9613f405ef9d",
   "metadata": {},
   "source": [
    "![Resuelto](./Img_24_Ejercicios/Act8Img1.png)"
   ]
  },
  {
   "cell_type": "code",
   "execution_count": 2,
   "id": "605b1026-8570-4f23-87d1-5c01efdc22b3",
   "metadata": {},
   "outputs": [],
   "source": [
    "alum_certificados= historico.loc[historico[\"certificacion\"] == \"SI\"]"
   ]
  },
  {
   "cell_type": "code",
   "execution_count": 6,
   "id": "7fd8b0c3",
   "metadata": {},
   "outputs": [
    {
     "data": {
      "application/vnd.microsoft.datawrangler.viewer.v0+json": {
       "columns": [
        {
         "name": "index",
         "rawType": "int64",
         "type": "integer"
        },
        {
         "name": "num_control",
         "rawType": "object",
         "type": "string"
        },
        {
         "name": "nombre",
         "rawType": "object",
         "type": "string"
        },
        {
         "name": "edad",
         "rawType": "int64",
         "type": "integer"
        },
        {
         "name": "calificacion",
         "rawType": "float64",
         "type": "float"
        },
        {
         "name": "grupo",
         "rawType": "object",
         "type": "string"
        },
        {
         "name": "anio",
         "rawType": "int64",
         "type": "integer"
        },
        {
         "name": "semestre",
         "rawType": "int64",
         "type": "integer"
        },
        {
         "name": "certificacion",
         "rawType": "object",
         "type": "string"
        },
        {
         "name": "maestro",
         "rawType": "object",
         "type": "string"
        }
       ],
       "ref": "93e4fc6c-2911-4a48-9aa5-13f907e9681c",
       "rows": [
        [
         "5",
         "A006",
         "Jacobo",
         "44",
         "9.8",
         "A",
         "2017",
         "1",
         "SI",
         "Tatiana"
        ],
        [
         "7",
         "A008",
         "Sofía",
         "20",
         "9.0",
         "A",
         "2017",
         "1",
         "SI",
         "Tatiana"
        ],
        [
         "9",
         "A010",
         "Martina",
         "35",
         "9.5",
         "A",
         "2017",
         "1",
         "SI",
         "Tatiana"
        ],
        [
         "11",
         "A012",
         "Ricardo",
         "34",
         "9.0",
         "A",
         "2017",
         "1",
         "SI",
         "Tatiana"
        ],
        [
         "12",
         "A013",
         "Javier",
         "31",
         "9.7",
         "A",
         "2017",
         "2",
         "SI",
         "Tatiana"
        ],
        [
         "14",
         "A015",
         "Diego",
         "42",
         "9.4",
         "A",
         "2017",
         "2",
         "SI",
         "Tatiana"
        ],
        [
         "22",
         "A023",
         "Adán",
         "35",
         "8.1",
         "A",
         "2017",
         "2",
         "SI",
         "Tatiana"
        ],
        [
         "30",
         "A031",
         "Rubén",
         "48",
         "7.4",
         "B",
         "2017",
         "1",
         "SI",
         "Armando"
        ],
        [
         "31",
         "A032",
         "Eva",
         "21",
         "9.8",
         "B",
         "2017",
         "1",
         "SI",
         "Armando"
        ],
        [
         "35",
         "A036",
         "Valeria",
         "39",
         "9.1",
         "B",
         "2017",
         "1",
         "SI",
         "Armando"
        ],
        [
         "36",
         "A037",
         "Tomás",
         "37",
         "9.0",
         "B",
         "2017",
         "1",
         "SI",
         "Armando"
        ],
        [
         "39",
         "A040",
         "Felipe",
         "14",
         "8.0",
         "B",
         "2017",
         "2",
         "SI",
         "Armando"
        ],
        [
         "45",
         "A046",
         "Rocío",
         "27",
         "9.0",
         "B",
         "2017",
         "2",
         "SI",
         "Armando"
        ],
        [
         "47",
         "A048",
         "Emma",
         "19",
         "8.1",
         "B",
         "2017",
         "2",
         "SI",
         "Armando"
        ],
        [
         "49",
         "A050",
         "Carmen",
         "31",
         "9.2",
         "B",
         "2017",
         "2",
         "SI",
         "Armando"
        ],
        [
         "50",
         "A051",
         "Octavio",
         "19",
         "8.5",
         "C",
         "2017",
         "1",
         "SI",
         "Emily"
        ],
        [
         "58",
         "A059",
         "Jimena ",
         "26",
         "8.2",
         "C",
         "2017",
         "1",
         "SI",
         "Emily"
        ],
        [
         "63",
         "A064",
         "Lucas",
         "43",
         "8.1",
         "C",
         "2017",
         "2",
         "SI",
         "Emily"
        ],
        [
         "64",
         "A065",
         "Blanca",
         "32",
         "7.3",
         "C",
         "2017",
         "2",
         "SI",
         "Emily"
        ],
        [
         "83",
         "A084",
         "Julián",
         "48",
         "9.6",
         "A",
         "2018",
         "1",
         "SI",
         "Tatiana"
        ],
        [
         "84",
         "A085",
         "Carla",
         "20",
         "9.1",
         "A",
         "2018",
         "1",
         "SI",
         "Tatiana"
        ],
        [
         "86",
         "A087",
         "Kevin",
         "16",
         "10.0",
         "A",
         "2018",
         "1",
         "SI",
         "Tatiana"
        ],
        [
         "89",
         "A090",
         "Óscar",
         "42",
         "10.0",
         "A",
         "2018",
         "2",
         "SI",
         "Tatiana"
        ],
        [
         "91",
         "A092",
         "Alejandra",
         "48",
         "9.8",
         "A",
         "2018",
         "2",
         "SI",
         "Tatiana"
        ],
        [
         "94",
         "A095",
         "Sergio",
         "22",
         "9.5",
         "A",
         "2018",
         "2",
         "SI",
         "Tatiana"
        ],
        [
         "99",
         "A100",
         "Marta",
         "15",
         "9.0",
         "A",
         "2018",
         "2",
         "SI",
         "Tatiana"
        ],
        [
         "100",
         "A101",
         "Elisa",
         "13",
         "9.2",
         "B",
         "2018",
         "1",
         "SI",
         "Armando"
        ],
        [
         "106",
         "A107",
         "Gabriel",
         "38",
         "8.7",
         "B",
         "2018",
         "1",
         "SI",
         "Armando"
        ],
        [
         "110",
         "A111",
         "Adam",
         "17",
         "9.5",
         "B",
         "2018",
         "1",
         "SI",
         "Armando"
        ],
        [
         "111",
         "A112",
         "Beatriz",
         "27",
         "8.7",
         "B",
         "2018",
         "1",
         "SI",
         "Armando"
        ],
        [
         "112",
         "A113",
         "Elías",
         "23",
         "8.0",
         "B",
         "2018",
         "2",
         "SI",
         "Armando"
        ],
        [
         "113",
         "A114",
         "Alonso",
         "22",
         "9.4",
         "B",
         "2018",
         "2",
         "SI",
         "Armando"
        ],
        [
         "115",
         "A116",
         "Álvaro",
         "36",
         "8.0",
         "B",
         "2018",
         "2",
         "SI",
         "Armando"
        ],
        [
         "118",
         "A119",
         "Casimiro",
         "30",
         "8.3",
         "B",
         "2018",
         "2",
         "SI",
         "Armando"
        ],
        [
         "126",
         "A127",
         "Paola",
         "12",
         "10.0",
         "C",
         "2018",
         "1",
         "SI",
         "Emily"
        ],
        [
         "128",
         "A129",
         "Eugenio",
         "28",
         "8.5",
         "C",
         "2018",
         "1",
         "SI",
         "Emily"
        ],
        [
         "130",
         "A131",
         "Graciela",
         "13",
         "9.0",
         "C",
         "2018",
         "1",
         "SI",
         "Emily"
        ],
        [
         "134",
         "A135",
         "Gregorio",
         "29",
         "8.6",
         "C",
         "2018",
         "1",
         "SI",
         "Emily"
        ],
        [
         "135",
         "A136",
         "Casandra",
         "16",
         "9.3",
         "C",
         "2018",
         "1",
         "SI",
         "Emily"
        ],
        [
         "136",
         "A137",
         "Simón",
         "17",
         "9.4",
         "C",
         "2018",
         "1",
         "SI",
         "Emily"
        ],
        [
         "137",
         "A138",
         "Francisco",
         "33",
         "9.5",
         "C",
         "2018",
         "2",
         "SI",
         "Emily"
        ],
        [
         "139",
         "A140",
         "Jorge",
         "33",
         "8.2",
         "C",
         "2018",
         "2",
         "SI",
         "Emily"
        ],
        [
         "140",
         "A141",
         "Nadia",
         "23",
         "8.4",
         "C",
         "2018",
         "2",
         "SI",
         "Emily"
        ],
        [
         "141",
         "A142",
         "Isaac",
         "35",
         "10.0",
         "C",
         "2018",
         "2",
         "SI",
         "Emily"
        ],
        [
         "143",
         "A144",
         "Alexis",
         "17",
         "8.5",
         "C",
         "2018",
         "2",
         "SI",
         "Emily"
        ],
        [
         "146",
         "A147",
         "Celeste",
         "21",
         "7.8",
         "C",
         "2018",
         "2",
         "SI",
         "Emily"
        ],
        [
         "147",
         "A148",
         "Germán",
         "20",
         "8.8",
         "C",
         "2018",
         "2",
         "SI",
         "Emily"
        ],
        [
         "148",
         "A149",
         "Teodoro",
         "40",
         "9.5",
         "C",
         "2018",
         "2",
         "SI",
         "Emily"
        ],
        [
         "149",
         "A150",
         "Erika",
         "36",
         "7.6",
         "C",
         "2018",
         "2",
         "SI",
         "Emily"
        ],
        [
         "150",
         "A151",
         "Paulina",
         "19",
         "7.9",
         "A",
         "2019",
         "1",
         "SI",
         "Tatiana"
        ]
       ],
       "shape": {
        "columns": 9,
        "rows": 115
       }
      },
      "text/html": [
       "<div>\n",
       "<style scoped>\n",
       "    .dataframe tbody tr th:only-of-type {\n",
       "        vertical-align: middle;\n",
       "    }\n",
       "\n",
       "    .dataframe tbody tr th {\n",
       "        vertical-align: top;\n",
       "    }\n",
       "\n",
       "    .dataframe thead th {\n",
       "        text-align: right;\n",
       "    }\n",
       "</style>\n",
       "<table border=\"1\" class=\"dataframe\">\n",
       "  <thead>\n",
       "    <tr style=\"text-align: right;\">\n",
       "      <th></th>\n",
       "      <th>num_control</th>\n",
       "      <th>nombre</th>\n",
       "      <th>edad</th>\n",
       "      <th>calificacion</th>\n",
       "      <th>grupo</th>\n",
       "      <th>anio</th>\n",
       "      <th>semestre</th>\n",
       "      <th>certificacion</th>\n",
       "      <th>maestro</th>\n",
       "    </tr>\n",
       "  </thead>\n",
       "  <tbody>\n",
       "    <tr>\n",
       "      <th>5</th>\n",
       "      <td>A006</td>\n",
       "      <td>Jacobo</td>\n",
       "      <td>44</td>\n",
       "      <td>9.8</td>\n",
       "      <td>A</td>\n",
       "      <td>2017</td>\n",
       "      <td>1</td>\n",
       "      <td>SI</td>\n",
       "      <td>Tatiana</td>\n",
       "    </tr>\n",
       "    <tr>\n",
       "      <th>7</th>\n",
       "      <td>A008</td>\n",
       "      <td>Sofía</td>\n",
       "      <td>20</td>\n",
       "      <td>9.0</td>\n",
       "      <td>A</td>\n",
       "      <td>2017</td>\n",
       "      <td>1</td>\n",
       "      <td>SI</td>\n",
       "      <td>Tatiana</td>\n",
       "    </tr>\n",
       "    <tr>\n",
       "      <th>9</th>\n",
       "      <td>A010</td>\n",
       "      <td>Martina</td>\n",
       "      <td>35</td>\n",
       "      <td>9.5</td>\n",
       "      <td>A</td>\n",
       "      <td>2017</td>\n",
       "      <td>1</td>\n",
       "      <td>SI</td>\n",
       "      <td>Tatiana</td>\n",
       "    </tr>\n",
       "    <tr>\n",
       "      <th>11</th>\n",
       "      <td>A012</td>\n",
       "      <td>Ricardo</td>\n",
       "      <td>34</td>\n",
       "      <td>9.0</td>\n",
       "      <td>A</td>\n",
       "      <td>2017</td>\n",
       "      <td>1</td>\n",
       "      <td>SI</td>\n",
       "      <td>Tatiana</td>\n",
       "    </tr>\n",
       "    <tr>\n",
       "      <th>12</th>\n",
       "      <td>A013</td>\n",
       "      <td>Javier</td>\n",
       "      <td>31</td>\n",
       "      <td>9.7</td>\n",
       "      <td>A</td>\n",
       "      <td>2017</td>\n",
       "      <td>2</td>\n",
       "      <td>SI</td>\n",
       "      <td>Tatiana</td>\n",
       "    </tr>\n",
       "    <tr>\n",
       "      <th>...</th>\n",
       "      <td>...</td>\n",
       "      <td>...</td>\n",
       "      <td>...</td>\n",
       "      <td>...</td>\n",
       "      <td>...</td>\n",
       "      <td>...</td>\n",
       "      <td>...</td>\n",
       "      <td>...</td>\n",
       "      <td>...</td>\n",
       "    </tr>\n",
       "    <tr>\n",
       "      <th>292</th>\n",
       "      <td>A293</td>\n",
       "      <td>Edir</td>\n",
       "      <td>23</td>\n",
       "      <td>7.7</td>\n",
       "      <td>C</td>\n",
       "      <td>2020</td>\n",
       "      <td>2</td>\n",
       "      <td>SI</td>\n",
       "      <td>Gaspar</td>\n",
       "    </tr>\n",
       "    <tr>\n",
       "      <th>294</th>\n",
       "      <td>A295</td>\n",
       "      <td>Cuauhtemoc</td>\n",
       "      <td>14</td>\n",
       "      <td>7.9</td>\n",
       "      <td>C</td>\n",
       "      <td>2020</td>\n",
       "      <td>2</td>\n",
       "      <td>SI</td>\n",
       "      <td>Gaspar</td>\n",
       "    </tr>\n",
       "    <tr>\n",
       "      <th>295</th>\n",
       "      <td>A296</td>\n",
       "      <td>Brayan</td>\n",
       "      <td>25</td>\n",
       "      <td>9.1</td>\n",
       "      <td>C</td>\n",
       "      <td>2020</td>\n",
       "      <td>2</td>\n",
       "      <td>SI</td>\n",
       "      <td>Gaspar</td>\n",
       "    </tr>\n",
       "    <tr>\n",
       "      <th>296</th>\n",
       "      <td>A297</td>\n",
       "      <td>Deymar</td>\n",
       "      <td>30</td>\n",
       "      <td>9.1</td>\n",
       "      <td>C</td>\n",
       "      <td>2020</td>\n",
       "      <td>2</td>\n",
       "      <td>SI</td>\n",
       "      <td>Gaspar</td>\n",
       "    </tr>\n",
       "    <tr>\n",
       "      <th>299</th>\n",
       "      <td>A300</td>\n",
       "      <td>Claridad</td>\n",
       "      <td>25</td>\n",
       "      <td>7.2</td>\n",
       "      <td>C</td>\n",
       "      <td>2020</td>\n",
       "      <td>2</td>\n",
       "      <td>SI</td>\n",
       "      <td>Gaspar</td>\n",
       "    </tr>\n",
       "  </tbody>\n",
       "</table>\n",
       "<p>115 rows × 9 columns</p>\n",
       "</div>"
      ],
      "text/plain": [
       "    num_control      nombre  edad  calificacion grupo  anio  semestre  \\\n",
       "5          A006      Jacobo    44           9.8     A  2017         1   \n",
       "7          A008       Sofía    20           9.0     A  2017         1   \n",
       "9          A010     Martina    35           9.5     A  2017         1   \n",
       "11         A012     Ricardo    34           9.0     A  2017         1   \n",
       "12         A013      Javier    31           9.7     A  2017         2   \n",
       "..          ...         ...   ...           ...   ...   ...       ...   \n",
       "292        A293        Edir    23           7.7     C  2020         2   \n",
       "294        A295  Cuauhtemoc    14           7.9     C  2020         2   \n",
       "295        A296      Brayan    25           9.1     C  2020         2   \n",
       "296        A297      Deymar    30           9.1     C  2020         2   \n",
       "299        A300    Claridad    25           7.2     C  2020         2   \n",
       "\n",
       "    certificacion  maestro  \n",
       "5              SI  Tatiana  \n",
       "7              SI  Tatiana  \n",
       "9              SI  Tatiana  \n",
       "11             SI  Tatiana  \n",
       "12             SI  Tatiana  \n",
       "..            ...      ...  \n",
       "292            SI   Gaspar  \n",
       "294            SI   Gaspar  \n",
       "295            SI   Gaspar  \n",
       "296            SI   Gaspar  \n",
       "299            SI   Gaspar  \n",
       "\n",
       "[115 rows x 9 columns]"
      ]
     },
     "execution_count": 6,
     "metadata": {},
     "output_type": "execute_result"
    }
   ],
   "source": [
    "alum_certificados"
   ]
  },
  {
   "cell_type": "markdown",
   "id": "ca9245fe-813c-4d8b-b724-7e4297987e29",
   "metadata": {},
   "source": [
    "Armar un código que devuelva un Dataframe con los datos de los estudiantes que no quieren obtener un certificado,el resultado debe ser el siguiente:"
   ]
  },
  {
   "cell_type": "markdown",
   "id": "6e050452-3283-4446-8f3b-8492387fce45",
   "metadata": {},
   "source": [
    "![Resuelto](./Img_24_Ejercicios/Act8Img2.png)"
   ]
  },
  {
   "cell_type": "code",
   "execution_count": 3,
   "id": "3ca12fa7-0064-4213-9c92-e61594d68232",
   "metadata": {},
   "outputs": [
    {
     "data": {
      "application/vnd.microsoft.datawrangler.viewer.v0+json": {
       "columns": [
        {
         "name": "index",
         "rawType": "int64",
         "type": "integer"
        },
        {
         "name": "num_control",
         "rawType": "object",
         "type": "string"
        },
        {
         "name": "nombre",
         "rawType": "object",
         "type": "string"
        },
        {
         "name": "edad",
         "rawType": "int64",
         "type": "integer"
        },
        {
         "name": "calificacion",
         "rawType": "float64",
         "type": "float"
        },
        {
         "name": "grupo",
         "rawType": "object",
         "type": "string"
        },
        {
         "name": "anio",
         "rawType": "int64",
         "type": "integer"
        },
        {
         "name": "semestre",
         "rawType": "int64",
         "type": "integer"
        },
        {
         "name": "certificacion",
         "rawType": "object",
         "type": "string"
        },
        {
         "name": "maestro",
         "rawType": "object",
         "type": "string"
        }
       ],
       "ref": "c6663126-83dc-4b4a-aa29-a375d8c1a7c9",
       "rows": [
        [
         "0",
         "A001",
         "Aarón",
         "14",
         "8.9",
         "A",
         "2017",
         "1",
         "NO",
         "Tatiana"
        ],
        [
         "1",
         "A002",
         "Lucía",
         "42",
         "9.3",
         "A",
         "2017",
         "1",
         "NO",
         "Tatiana"
        ],
        [
         "2",
         "A003",
         "Hugo",
         "29",
         "8.7",
         "A",
         "2017",
         "1",
         "NO",
         "Tatiana"
        ],
        [
         "3",
         "A004",
         "Julieta",
         "34",
         "7.9",
         "A",
         "2017",
         "1",
         "NO",
         "Tatiana"
        ],
        [
         "4",
         "A005",
         "Adrían",
         "14",
         "9.1",
         "A",
         "2017",
         "1",
         "NO",
         "Tatiana"
        ],
        [
         "6",
         "A007",
         "Yasmín",
         "23",
         "7.0",
         "A",
         "2017",
         "1",
         "NO",
         "Tatiana"
        ],
        [
         "8",
         "A009",
         "Leonardo",
         "37",
         "7.5",
         "A",
         "2017",
         "1",
         "NO",
         "Tatiana"
        ],
        [
         "10",
         "A011",
         "María",
         "34",
         "7.4",
         "A",
         "2017",
         "1",
         "NO",
         "Tatiana"
        ],
        [
         "13",
         "A014",
         "Salvador",
         "42",
         "7.2",
         "A",
         "2017",
         "2",
         "NO",
         "Tatiana"
        ],
        [
         "15",
         "A016",
         "Abel",
         "21",
         "7.2",
         "A",
         "2017",
         "2",
         "NO",
         "Tatiana"
        ],
        [
         "16",
         "A017",
         "Maximiliano",
         "20",
         "7.0",
         "A",
         "2017",
         "2",
         "NO",
         "Tatiana"
        ],
        [
         "17",
         "A018",
         "Julia",
         "45",
         "8.0",
         "A",
         "2017",
         "2",
         "NO",
         "Tatiana"
        ],
        [
         "18",
         "A019",
         "Pablo",
         "41",
         "8.0",
         "A",
         "2017",
         "2",
         "NO",
         "Tatiana"
        ],
        [
         "19",
         "A020",
         "Andrea ",
         "24",
         "7.8",
         "A",
         "2017",
         "2",
         "NO",
         "Tatiana"
        ],
        [
         "20",
         "A021",
         "Rafael",
         "17",
         "9.8",
         "A",
         "2017",
         "2",
         "NO",
         "Tatiana"
        ],
        [
         "21",
         "A022",
         "Máximo",
         "16",
         "8.0",
         "A",
         "2017",
         "2",
         "NO",
         "Tatiana"
        ],
        [
         "23",
         "A024",
         "Ramiro",
         "26",
         "7.9",
         "A",
         "2017",
         "2",
         "NO",
         "Tatiana"
        ],
        [
         "24",
         "A025",
         "Luna",
         "27",
         "9.2",
         "A",
         "2017",
         "2",
         "NO",
         "Tatiana"
        ],
        [
         "25",
         "A026",
         "Paula",
         "26",
         "8.4",
         "B",
         "2017",
         "1",
         "NO",
         "Armando"
        ],
        [
         "26",
         "A027",
         "Roberto",
         "28",
         "9.8",
         "B",
         "2017",
         "1",
         "NO",
         "Armando"
        ],
        [
         "27",
         "A028",
         "Eduardo",
         "39",
         "9.0",
         "B",
         "2017",
         "1",
         "NO",
         "Armando"
        ],
        [
         "28",
         "A029",
         "Clara",
         "47",
         "9.1",
         "B",
         "2017",
         "1",
         "NO",
         "Armando"
        ],
        [
         "29",
         "A030",
         "Ramón",
         "28",
         "7.5",
         "B",
         "2017",
         "1",
         "NO",
         "Armando"
        ],
        [
         "32",
         "A033",
         "Claudio",
         "35",
         "9.8",
         "B",
         "2017",
         "1",
         "NO",
         "Armando"
        ],
        [
         "33",
         "A034",
         "Elsa",
         "43",
         "8.6",
         "B",
         "2017",
         "1",
         "NO",
         "Armando"
        ],
        [
         "34",
         "A035",
         "David",
         "14",
         "7.2",
         "B",
         "2017",
         "1",
         "NO",
         "Armando"
        ],
        [
         "37",
         "A038",
         "Alicia ",
         "45",
         "8.8",
         "B",
         "2017",
         "2",
         "NO",
         "Armando"
        ],
        [
         "38",
         "A039",
         "Miguel",
         "27",
         "7.1",
         "B",
         "2017",
         "2",
         "NO",
         "Armando"
        ],
        [
         "40",
         "A041",
         "Tobías",
         "44",
         "7.6",
         "B",
         "2017",
         "2",
         "NO",
         "Armando"
        ],
        [
         "41",
         "A042",
         "Abelardo",
         "34",
         "9.7",
         "B",
         "2017",
         "2",
         "NO",
         "Armando"
        ],
        [
         "42",
         "A043",
         "William",
         "12",
         "8.1",
         "B",
         "2017",
         "2",
         "NO",
         "Armando"
        ],
        [
         "43",
         "A044",
         "Laura",
         "42",
         "7.6",
         "B",
         "2017",
         "2",
         "NO",
         "Armando"
        ],
        [
         "44",
         "A045",
         "Arturo",
         "38",
         "9.6",
         "B",
         "2017",
         "2",
         "NO",
         "Armando"
        ],
        [
         "46",
         "A047",
         "Orlando",
         "31",
         "9.2",
         "B",
         "2017",
         "2",
         "NO",
         "Armando"
        ],
        [
         "48",
         "A049",
         "Samuel",
         "24",
         "7.1",
         "B",
         "2017",
         "2",
         "NO",
         "Armando"
        ],
        [
         "51",
         "A052",
         "Abril",
         "20",
         "8.3",
         "C",
         "2017",
         "1",
         "NO",
         "Emily"
        ],
        [
         "52",
         "A053",
         "Bruno",
         "20",
         "8.6",
         "C",
         "2017",
         "1",
         "NO",
         "Emily"
        ],
        [
         "53",
         "A054",
         "Daniel",
         "15",
         "9.8",
         "C",
         "2017",
         "1",
         "NO",
         "Emily"
        ],
        [
         "54",
         "A055",
         "Daniela",
         "49",
         "8.0",
         "C",
         "2017",
         "1",
         "NO",
         "Emily"
        ],
        [
         "55",
         "A056",
         "Alfonso",
         "42",
         "9.8",
         "C",
         "2017",
         "1",
         "NO",
         "Emily"
        ],
        [
         "56",
         "A057",
         "Carla",
         "47",
         "8.3",
         "C",
         "2017",
         "1",
         "NO",
         "Emily"
        ],
        [
         "57",
         "A058",
         "Enrique",
         "30",
         "7.5",
         "C",
         "2017",
         "1",
         "NO",
         "Emily"
        ],
        [
         "59",
         "A060",
         "Marcos",
         "41",
         "9.6",
         "C",
         "2017",
         "1",
         "NO",
         "Emily"
        ],
        [
         "60",
         "A061",
         "Isabel",
         "23",
         "8.3",
         "C",
         "2017",
         "1",
         "NO",
         "Emily"
        ],
        [
         "61",
         "A062",
         "Luis",
         "35",
         "7.3",
         "C",
         "2017",
         "1",
         "NO",
         "Emily"
        ],
        [
         "62",
         "A063",
         "Alba",
         "20",
         "7.3",
         "C",
         "2017",
         "2",
         "NO",
         "Emily"
        ],
        [
         "65",
         "A066",
         "Jaime",
         "37",
         "8.8",
         "C",
         "2017",
         "2",
         "NO",
         "Emily"
        ],
        [
         "66",
         "A067",
         "Alma",
         "40",
         "9.2",
         "C",
         "2017",
         "2",
         "NO",
         "Emily"
        ],
        [
         "67",
         "A068",
         "Alberto",
         "32",
         "7.3",
         "C",
         "2017",
         "2",
         "NO",
         "Emily"
        ],
        [
         "68",
         "A069",
         "Nicolás",
         "37",
         "8.2",
         "C",
         "2017",
         "2",
         "NO",
         "Emily"
        ]
       ],
       "shape": {
        "columns": 9,
        "rows": 185
       }
      },
      "text/html": [
       "<div>\n",
       "<style scoped>\n",
       "    .dataframe tbody tr th:only-of-type {\n",
       "        vertical-align: middle;\n",
       "    }\n",
       "\n",
       "    .dataframe tbody tr th {\n",
       "        vertical-align: top;\n",
       "    }\n",
       "\n",
       "    .dataframe thead th {\n",
       "        text-align: right;\n",
       "    }\n",
       "</style>\n",
       "<table border=\"1\" class=\"dataframe\">\n",
       "  <thead>\n",
       "    <tr style=\"text-align: right;\">\n",
       "      <th></th>\n",
       "      <th>num_control</th>\n",
       "      <th>nombre</th>\n",
       "      <th>edad</th>\n",
       "      <th>calificacion</th>\n",
       "      <th>grupo</th>\n",
       "      <th>anio</th>\n",
       "      <th>semestre</th>\n",
       "      <th>certificacion</th>\n",
       "      <th>maestro</th>\n",
       "    </tr>\n",
       "  </thead>\n",
       "  <tbody>\n",
       "    <tr>\n",
       "      <th>0</th>\n",
       "      <td>A001</td>\n",
       "      <td>Aarón</td>\n",
       "      <td>14</td>\n",
       "      <td>8.9</td>\n",
       "      <td>A</td>\n",
       "      <td>2017</td>\n",
       "      <td>1</td>\n",
       "      <td>NO</td>\n",
       "      <td>Tatiana</td>\n",
       "    </tr>\n",
       "    <tr>\n",
       "      <th>1</th>\n",
       "      <td>A002</td>\n",
       "      <td>Lucía</td>\n",
       "      <td>42</td>\n",
       "      <td>9.3</td>\n",
       "      <td>A</td>\n",
       "      <td>2017</td>\n",
       "      <td>1</td>\n",
       "      <td>NO</td>\n",
       "      <td>Tatiana</td>\n",
       "    </tr>\n",
       "    <tr>\n",
       "      <th>2</th>\n",
       "      <td>A003</td>\n",
       "      <td>Hugo</td>\n",
       "      <td>29</td>\n",
       "      <td>8.7</td>\n",
       "      <td>A</td>\n",
       "      <td>2017</td>\n",
       "      <td>1</td>\n",
       "      <td>NO</td>\n",
       "      <td>Tatiana</td>\n",
       "    </tr>\n",
       "    <tr>\n",
       "      <th>3</th>\n",
       "      <td>A004</td>\n",
       "      <td>Julieta</td>\n",
       "      <td>34</td>\n",
       "      <td>7.9</td>\n",
       "      <td>A</td>\n",
       "      <td>2017</td>\n",
       "      <td>1</td>\n",
       "      <td>NO</td>\n",
       "      <td>Tatiana</td>\n",
       "    </tr>\n",
       "    <tr>\n",
       "      <th>4</th>\n",
       "      <td>A005</td>\n",
       "      <td>Adrían</td>\n",
       "      <td>14</td>\n",
       "      <td>9.1</td>\n",
       "      <td>A</td>\n",
       "      <td>2017</td>\n",
       "      <td>1</td>\n",
       "      <td>NO</td>\n",
       "      <td>Tatiana</td>\n",
       "    </tr>\n",
       "    <tr>\n",
       "      <th>...</th>\n",
       "      <td>...</td>\n",
       "      <td>...</td>\n",
       "      <td>...</td>\n",
       "      <td>...</td>\n",
       "      <td>...</td>\n",
       "      <td>...</td>\n",
       "      <td>...</td>\n",
       "      <td>...</td>\n",
       "      <td>...</td>\n",
       "    </tr>\n",
       "    <tr>\n",
       "      <th>288</th>\n",
       "      <td>A289</td>\n",
       "      <td>Eddie</td>\n",
       "      <td>34</td>\n",
       "      <td>7.9</td>\n",
       "      <td>C</td>\n",
       "      <td>2020</td>\n",
       "      <td>2</td>\n",
       "      <td>NO</td>\n",
       "      <td>Gaspar</td>\n",
       "    </tr>\n",
       "    <tr>\n",
       "      <th>291</th>\n",
       "      <td>A292</td>\n",
       "      <td>Delfino</td>\n",
       "      <td>23</td>\n",
       "      <td>9.1</td>\n",
       "      <td>C</td>\n",
       "      <td>2020</td>\n",
       "      <td>2</td>\n",
       "      <td>NO</td>\n",
       "      <td>Gaspar</td>\n",
       "    </tr>\n",
       "    <tr>\n",
       "      <th>293</th>\n",
       "      <td>A294</td>\n",
       "      <td>Arnoldo</td>\n",
       "      <td>20</td>\n",
       "      <td>9.0</td>\n",
       "      <td>C</td>\n",
       "      <td>2020</td>\n",
       "      <td>2</td>\n",
       "      <td>NO</td>\n",
       "      <td>Gaspar</td>\n",
       "    </tr>\n",
       "    <tr>\n",
       "      <th>297</th>\n",
       "      <td>A298</td>\n",
       "      <td>Rogelio</td>\n",
       "      <td>15</td>\n",
       "      <td>7.9</td>\n",
       "      <td>C</td>\n",
       "      <td>2020</td>\n",
       "      <td>2</td>\n",
       "      <td>NO</td>\n",
       "      <td>Gaspar</td>\n",
       "    </tr>\n",
       "    <tr>\n",
       "      <th>298</th>\n",
       "      <td>A299</td>\n",
       "      <td>Percy</td>\n",
       "      <td>32</td>\n",
       "      <td>7.4</td>\n",
       "      <td>C</td>\n",
       "      <td>2020</td>\n",
       "      <td>2</td>\n",
       "      <td>NO</td>\n",
       "      <td>Gaspar</td>\n",
       "    </tr>\n",
       "  </tbody>\n",
       "</table>\n",
       "<p>185 rows × 9 columns</p>\n",
       "</div>"
      ],
      "text/plain": [
       "    num_control   nombre  edad  calificacion grupo  anio  semestre  \\\n",
       "0          A001    Aarón    14           8.9     A  2017         1   \n",
       "1          A002    Lucía    42           9.3     A  2017         1   \n",
       "2          A003     Hugo    29           8.7     A  2017         1   \n",
       "3          A004  Julieta    34           7.9     A  2017         1   \n",
       "4          A005   Adrían    14           9.1     A  2017         1   \n",
       "..          ...      ...   ...           ...   ...   ...       ...   \n",
       "288        A289    Eddie    34           7.9     C  2020         2   \n",
       "291        A292  Delfino    23           9.1     C  2020         2   \n",
       "293        A294  Arnoldo    20           9.0     C  2020         2   \n",
       "297        A298  Rogelio    15           7.9     C  2020         2   \n",
       "298        A299    Percy    32           7.4     C  2020         2   \n",
       "\n",
       "    certificacion  maestro  \n",
       "0              NO  Tatiana  \n",
       "1              NO  Tatiana  \n",
       "2              NO  Tatiana  \n",
       "3              NO  Tatiana  \n",
       "4              NO  Tatiana  \n",
       "..            ...      ...  \n",
       "288            NO   Gaspar  \n",
       "291            NO   Gaspar  \n",
       "293            NO   Gaspar  \n",
       "297            NO   Gaspar  \n",
       "298            NO   Gaspar  \n",
       "\n",
       "[185 rows x 9 columns]"
      ]
     },
     "execution_count": 3,
     "metadata": {},
     "output_type": "execute_result"
    }
   ],
   "source": [
    "alum_NO_certificados = historico.loc[historico[\"certificacion\"] == \"NO\"]\n",
    "alum_NO_certificados"
   ]
  },
  {
   "cell_type": "markdown",
   "id": "ee68321d-805e-4557-87e4-9eb08bf466b3",
   "metadata": {},
   "source": [
    "![Resuelto](./Img_24_Ejercicios/Act8Img4.png)"
   ]
  },
  {
   "cell_type": "markdown",
   "id": "c76956ca-825f-49c6-928a-c6558dd06efb",
   "metadata": {},
   "source": [
    "__Conclusión:__ La mayoria de los estudiantes que quieren obtener un certificado tienen altas calificaciones"
   ]
  },
  {
   "cell_type": "markdown",
   "id": "2ee999f2-7657-44c2-bc0b-27bf9057be70",
   "metadata": {},
   "source": [
    "## Ejercicio 9:\n",
    "Utilizar pivot table crear un DataFrame que contenga la calificación promedio de los estudiantes en cada año, separado por si quieren obtener un certificado o no, el resultado debe ser el siguiente:"
   ]
  },
  {
   "cell_type": "markdown",
   "id": "3565034b-6e79-4ecb-a7d9-1abd42fd7d59",
   "metadata": {},
   "source": [
    "![Resuelto](./Img_24_Ejercicios/Act9Img1.png)"
   ]
  },
  {
   "cell_type": "code",
   "execution_count": 8,
   "id": "70fe381a-41c8-497f-95c5-f9419f0e131c",
   "metadata": {},
   "outputs": [
    {
     "data": {
      "application/vnd.microsoft.datawrangler.viewer.v0+json": {
       "columns": [
        {
         "name": "anio",
         "rawType": "int64",
         "type": "integer"
        },
        {
         "name": "NO",
         "rawType": "float64",
         "type": "float"
        },
        {
         "name": "SI",
         "rawType": "float64",
         "type": "float"
        }
       ],
       "ref": "9066ca2d-906a-42ee-95d3-c671ef9a1d34",
       "rows": [
        [
         "2017",
         "8.342857",
         "8.747368"
        ],
        [
         "2018",
         "8.315556",
         "8.996667"
        ],
        [
         "2019",
         "8.22619",
         "8.854545"
        ],
        [
         "2020",
         "8.3",
         "8.8"
        ]
       ],
       "shape": {
        "columns": 2,
        "rows": 4
       }
      },
      "text/html": [
       "<div>\n",
       "<style scoped>\n",
       "    .dataframe tbody tr th:only-of-type {\n",
       "        vertical-align: middle;\n",
       "    }\n",
       "\n",
       "    .dataframe tbody tr th {\n",
       "        vertical-align: top;\n",
       "    }\n",
       "\n",
       "    .dataframe thead th {\n",
       "        text-align: right;\n",
       "    }\n",
       "</style>\n",
       "<table border=\"1\" class=\"dataframe\">\n",
       "  <thead>\n",
       "    <tr style=\"text-align: right;\">\n",
       "      <th>certificacion</th>\n",
       "      <th>NO</th>\n",
       "      <th>SI</th>\n",
       "    </tr>\n",
       "    <tr>\n",
       "      <th>anio</th>\n",
       "      <th></th>\n",
       "      <th></th>\n",
       "    </tr>\n",
       "  </thead>\n",
       "  <tbody>\n",
       "    <tr>\n",
       "      <th>2017</th>\n",
       "      <td>8.342857</td>\n",
       "      <td>8.747368</td>\n",
       "    </tr>\n",
       "    <tr>\n",
       "      <th>2018</th>\n",
       "      <td>8.315556</td>\n",
       "      <td>8.996667</td>\n",
       "    </tr>\n",
       "    <tr>\n",
       "      <th>2019</th>\n",
       "      <td>8.226190</td>\n",
       "      <td>8.854545</td>\n",
       "    </tr>\n",
       "    <tr>\n",
       "      <th>2020</th>\n",
       "      <td>8.300000</td>\n",
       "      <td>8.800000</td>\n",
       "    </tr>\n",
       "  </tbody>\n",
       "</table>\n",
       "</div>"
      ],
      "text/plain": [
       "certificacion        NO        SI\n",
       "anio                             \n",
       "2017           8.342857  8.747368\n",
       "2018           8.315556  8.996667\n",
       "2019           8.226190  8.854545\n",
       "2020           8.300000  8.800000"
      ]
     },
     "execution_count": 8,
     "metadata": {},
     "output_type": "execute_result"
    }
   ],
   "source": [
    "historico.pivot_table(index=\"anio\",values=\"calificacion\",columns=\"certificacion\",aggfunc=\"mean\").round(6)"
   ]
  },
  {
   "cell_type": "markdown",
   "id": "82fdec6a-b578-4412-b804-b0dfbbb59383",
   "metadata": {},
   "source": [
    "Armar un código que devuelva un DataFrame con la diferencia en cada año respecto a la calificación promedio de los estudiantes que si querian obtener un certificado contra los que no, por ejemplo, si en el 2017 el promedio de los estudiantes que si querían un certificado era 9 y de los que no era 8, la diferencia será 1 para esa fila, el resultado debe ser el siguiente:"
   ]
  },
  {
   "cell_type": "markdown",
   "id": "d2c063c8-f083-45cf-a4cf-40e4dcb070bb",
   "metadata": {},
   "source": [
    "![Resuelto](./Img_24_Ejercicios/Act9Img2.png)"
   ]
  },
  {
   "cell_type": "code",
   "execution_count": null,
   "id": "c2839651",
   "metadata": {},
   "outputs": [],
   "source": []
  },
  {
   "cell_type": "code",
   "execution_count": 4,
   "id": "bd29a8b8-99e4-4c1f-a6f1-6111d46f30ed",
   "metadata": {},
   "outputs": [],
   "source": [
    "diferencia_certificacion = historico.pivot_table(index=\"anio\",columns=\"certificacion\",values=\"calificacion\",aggfunc=\"mean\",fill_value=0)"
   ]
  },
  {
   "cell_type": "code",
   "execution_count": 5,
   "id": "cbd07586-c35b-42b1-837f-359fa5c5fa4c",
   "metadata": {},
   "outputs": [
    {
     "data": {
      "application/vnd.microsoft.datawrangler.viewer.v0+json": {
       "columns": [
        {
         "name": "anio",
         "rawType": "int64",
         "type": "integer"
        },
        {
         "name": "NO",
         "rawType": "float64",
         "type": "float"
        },
        {
         "name": "SI",
         "rawType": "float64",
         "type": "float"
        },
        {
         "name": "DIFERENCIA",
         "rawType": "float64",
         "type": "float"
        }
       ],
       "ref": "4e7e25a7-5e24-46a0-b6dc-e75235192845",
       "rows": [
        [
         "2017",
         "8.342857142857143",
         "8.74736842105263",
         "0.4045112781954874"
        ],
        [
         "2018",
         "8.315555555555555",
         "8.996666666666666",
         "0.681111111111111"
        ],
        [
         "2019",
         "8.226190476190476",
         "8.854545454545454",
         "0.6283549783549773"
        ],
        [
         "2020",
         "8.3",
         "8.799999999999999",
         "0.4999999999999982"
        ]
       ],
       "shape": {
        "columns": 3,
        "rows": 4
       }
      },
      "text/html": [
       "<div>\n",
       "<style scoped>\n",
       "    .dataframe tbody tr th:only-of-type {\n",
       "        vertical-align: middle;\n",
       "    }\n",
       "\n",
       "    .dataframe tbody tr th {\n",
       "        vertical-align: top;\n",
       "    }\n",
       "\n",
       "    .dataframe thead th {\n",
       "        text-align: right;\n",
       "    }\n",
       "</style>\n",
       "<table border=\"1\" class=\"dataframe\">\n",
       "  <thead>\n",
       "    <tr style=\"text-align: right;\">\n",
       "      <th>certificacion</th>\n",
       "      <th>NO</th>\n",
       "      <th>SI</th>\n",
       "      <th>DIFERENCIA</th>\n",
       "    </tr>\n",
       "    <tr>\n",
       "      <th>anio</th>\n",
       "      <th></th>\n",
       "      <th></th>\n",
       "      <th></th>\n",
       "    </tr>\n",
       "  </thead>\n",
       "  <tbody>\n",
       "    <tr>\n",
       "      <th>2017</th>\n",
       "      <td>8.342857</td>\n",
       "      <td>8.747368</td>\n",
       "      <td>0.404511</td>\n",
       "    </tr>\n",
       "    <tr>\n",
       "      <th>2018</th>\n",
       "      <td>8.315556</td>\n",
       "      <td>8.996667</td>\n",
       "      <td>0.681111</td>\n",
       "    </tr>\n",
       "    <tr>\n",
       "      <th>2019</th>\n",
       "      <td>8.226190</td>\n",
       "      <td>8.854545</td>\n",
       "      <td>0.628355</td>\n",
       "    </tr>\n",
       "    <tr>\n",
       "      <th>2020</th>\n",
       "      <td>8.300000</td>\n",
       "      <td>8.800000</td>\n",
       "      <td>0.500000</td>\n",
       "    </tr>\n",
       "  </tbody>\n",
       "</table>\n",
       "</div>"
      ],
      "text/plain": [
       "certificacion        NO        SI  DIFERENCIA\n",
       "anio                                         \n",
       "2017           8.342857  8.747368    0.404511\n",
       "2018           8.315556  8.996667    0.681111\n",
       "2019           8.226190  8.854545    0.628355\n",
       "2020           8.300000  8.800000    0.500000"
      ]
     },
     "execution_count": 5,
     "metadata": {},
     "output_type": "execute_result"
    }
   ],
   "source": [
    "diferencia_certificacion[\"DIFERENCIA\"] = diferencia_certificacion[\"SI\"] - diferencia_certificacion[\"NO\"]\n",
    "diferencia_certificacion"
   ]
  },
  {
   "cell_type": "markdown",
   "id": "8dda8d42-5b09-4303-844c-8803041d4a93",
   "metadata": {},
   "source": [
    "![Resuelto](./Img_24_Ejercicios/Act9Img3.png)"
   ]
  },
  {
   "cell_type": "markdown",
   "id": "0cc37af4-c37a-4d4a-af45-e9a01ca08e35",
   "metadata": {},
   "source": [
    "__Conclusión:__ los estudiantes que buscan obtener su certificado tienen mayores calificaciones en promedio"
   ]
  },
  {
   "cell_type": "markdown",
   "id": "258fe2fa-5672-4ade-92e7-432d9e62d2d8",
   "metadata": {},
   "source": [
    "## Ejercicio 10:\n",
    "Armar un código que devuelva un dataframe con las diferencias de las calificaciones de cada alumno con respecto al promedio general, por ejemplo, si Juan sacó 8 y el promedio general es 9, la diferencia será -1, el resultado debe ser el siguiente:"
   ]
  },
  {
   "cell_type": "markdown",
   "id": "8212dc54-c45d-4c01-94e3-b75b5ae7dde3",
   "metadata": {},
   "source": [
    "![Resuelto](./Img_24_Ejercicios/Act10Img1.png)"
   ]
  },
  {
   "cell_type": "code",
   "execution_count": 6,
   "id": "e9bd38ee-977d-4f9a-9d34-a5cb26b155d4",
   "metadata": {},
   "outputs": [],
   "source": [
    "promedio_general = historico.calificacion.mean()"
   ]
  },
  {
   "cell_type": "code",
   "execution_count": 7,
   "id": "203b422d-f52f-4387-9620-957522dc550f",
   "metadata": {},
   "outputs": [],
   "source": [
    "def diferencia_x(x):\n",
    "    return x - promedio_general\n",
    "\n",
    "historico[\"diferencia\"] = historico.calificacion.apply(diferencia_x).round(3)"
   ]
  },
  {
   "cell_type": "code",
   "execution_count": 8,
   "id": "8d6fb3fb-93bb-401b-87f4-ec315dccaf92",
   "metadata": {},
   "outputs": [
    {
     "data": {
      "application/vnd.microsoft.datawrangler.viewer.v0+json": {
       "columns": [
        {
         "name": "index",
         "rawType": "int64",
         "type": "integer"
        },
        {
         "name": "num_control",
         "rawType": "object",
         "type": "string"
        },
        {
         "name": "nombre",
         "rawType": "object",
         "type": "string"
        },
        {
         "name": "edad",
         "rawType": "int64",
         "type": "integer"
        },
        {
         "name": "calificacion",
         "rawType": "float64",
         "type": "float"
        },
        {
         "name": "grupo",
         "rawType": "object",
         "type": "string"
        },
        {
         "name": "anio",
         "rawType": "int64",
         "type": "integer"
        },
        {
         "name": "semestre",
         "rawType": "int64",
         "type": "integer"
        },
        {
         "name": "certificacion",
         "rawType": "object",
         "type": "string"
        },
        {
         "name": "maestro",
         "rawType": "object",
         "type": "string"
        },
        {
         "name": "diferencia",
         "rawType": "float64",
         "type": "float"
        }
       ],
       "ref": "2c00dbf2-8ede-41fb-96b6-a611a3535655",
       "rows": [
        [
         "0",
         "A001",
         "Aarón",
         "14",
         "8.9",
         "A",
         "2017",
         "1",
         "NO",
         "Tatiana",
         "0.386"
        ],
        [
         "1",
         "A002",
         "Lucía",
         "42",
         "9.3",
         "A",
         "2017",
         "1",
         "NO",
         "Tatiana",
         "0.786"
        ],
        [
         "2",
         "A003",
         "Hugo",
         "29",
         "8.7",
         "A",
         "2017",
         "1",
         "NO",
         "Tatiana",
         "0.186"
        ],
        [
         "3",
         "A004",
         "Julieta",
         "34",
         "7.9",
         "A",
         "2017",
         "1",
         "NO",
         "Tatiana",
         "-0.614"
        ],
        [
         "4",
         "A005",
         "Adrían",
         "14",
         "9.1",
         "A",
         "2017",
         "1",
         "NO",
         "Tatiana",
         "0.586"
        ]
       ],
       "shape": {
        "columns": 10,
        "rows": 5
       }
      },
      "text/html": [
       "<div>\n",
       "<style scoped>\n",
       "    .dataframe tbody tr th:only-of-type {\n",
       "        vertical-align: middle;\n",
       "    }\n",
       "\n",
       "    .dataframe tbody tr th {\n",
       "        vertical-align: top;\n",
       "    }\n",
       "\n",
       "    .dataframe thead th {\n",
       "        text-align: right;\n",
       "    }\n",
       "</style>\n",
       "<table border=\"1\" class=\"dataframe\">\n",
       "  <thead>\n",
       "    <tr style=\"text-align: right;\">\n",
       "      <th></th>\n",
       "      <th>num_control</th>\n",
       "      <th>nombre</th>\n",
       "      <th>edad</th>\n",
       "      <th>calificacion</th>\n",
       "      <th>grupo</th>\n",
       "      <th>anio</th>\n",
       "      <th>semestre</th>\n",
       "      <th>certificacion</th>\n",
       "      <th>maestro</th>\n",
       "      <th>diferencia</th>\n",
       "    </tr>\n",
       "  </thead>\n",
       "  <tbody>\n",
       "    <tr>\n",
       "      <th>0</th>\n",
       "      <td>A001</td>\n",
       "      <td>Aarón</td>\n",
       "      <td>14</td>\n",
       "      <td>8.9</td>\n",
       "      <td>A</td>\n",
       "      <td>2017</td>\n",
       "      <td>1</td>\n",
       "      <td>NO</td>\n",
       "      <td>Tatiana</td>\n",
       "      <td>0.386</td>\n",
       "    </tr>\n",
       "    <tr>\n",
       "      <th>1</th>\n",
       "      <td>A002</td>\n",
       "      <td>Lucía</td>\n",
       "      <td>42</td>\n",
       "      <td>9.3</td>\n",
       "      <td>A</td>\n",
       "      <td>2017</td>\n",
       "      <td>1</td>\n",
       "      <td>NO</td>\n",
       "      <td>Tatiana</td>\n",
       "      <td>0.786</td>\n",
       "    </tr>\n",
       "    <tr>\n",
       "      <th>2</th>\n",
       "      <td>A003</td>\n",
       "      <td>Hugo</td>\n",
       "      <td>29</td>\n",
       "      <td>8.7</td>\n",
       "      <td>A</td>\n",
       "      <td>2017</td>\n",
       "      <td>1</td>\n",
       "      <td>NO</td>\n",
       "      <td>Tatiana</td>\n",
       "      <td>0.186</td>\n",
       "    </tr>\n",
       "    <tr>\n",
       "      <th>3</th>\n",
       "      <td>A004</td>\n",
       "      <td>Julieta</td>\n",
       "      <td>34</td>\n",
       "      <td>7.9</td>\n",
       "      <td>A</td>\n",
       "      <td>2017</td>\n",
       "      <td>1</td>\n",
       "      <td>NO</td>\n",
       "      <td>Tatiana</td>\n",
       "      <td>-0.614</td>\n",
       "    </tr>\n",
       "    <tr>\n",
       "      <th>4</th>\n",
       "      <td>A005</td>\n",
       "      <td>Adrían</td>\n",
       "      <td>14</td>\n",
       "      <td>9.1</td>\n",
       "      <td>A</td>\n",
       "      <td>2017</td>\n",
       "      <td>1</td>\n",
       "      <td>NO</td>\n",
       "      <td>Tatiana</td>\n",
       "      <td>0.586</td>\n",
       "    </tr>\n",
       "  </tbody>\n",
       "</table>\n",
       "</div>"
      ],
      "text/plain": [
       "  num_control   nombre  edad  calificacion grupo  anio  semestre  \\\n",
       "0        A001    Aarón    14           8.9     A  2017         1   \n",
       "1        A002    Lucía    42           9.3     A  2017         1   \n",
       "2        A003     Hugo    29           8.7     A  2017         1   \n",
       "3        A004  Julieta    34           7.9     A  2017         1   \n",
       "4        A005   Adrían    14           9.1     A  2017         1   \n",
       "\n",
       "  certificacion  maestro  diferencia  \n",
       "0            NO  Tatiana       0.386  \n",
       "1            NO  Tatiana       0.786  \n",
       "2            NO  Tatiana       0.186  \n",
       "3            NO  Tatiana      -0.614  \n",
       "4            NO  Tatiana       0.586  "
      ]
     },
     "execution_count": 8,
     "metadata": {},
     "output_type": "execute_result"
    }
   ],
   "source": [
    "historico.head(5)"
   ]
  },
  {
   "cell_type": "markdown",
   "id": "b1ab6710-1dbe-4fab-b6aa-dc58b9113419",
   "metadata": {},
   "source": [
    "Nota: se puede hacer como en el ejercicio anterior, pero se hizo diferente para mostrar más opciones a los alumnos"
   ]
  },
  {
   "cell_type": "markdown",
   "id": "6f0005c1-2f16-48aa-bde5-58482ec864b9",
   "metadata": {},
   "source": [
    "Armar un código que devuelva un Dataframe con los datos de los estudiantes que si quieren obtener un certificado,el resultado debe ser el siguiente:"
   ]
  },
  {
   "cell_type": "markdown",
   "id": "7f63fb63-e0eb-48d0-9a34-9f5221102609",
   "metadata": {},
   "source": [
    "![Resuelto](./Img_24_Ejercicios/Act10Img2.png)"
   ]
  },
  {
   "cell_type": "code",
   "execution_count": 9,
   "id": "a1e74874-ee72-4767-8882-9645229f99bb",
   "metadata": {},
   "outputs": [
    {
     "data": {
      "application/vnd.microsoft.datawrangler.viewer.v0+json": {
       "columns": [
        {
         "name": "index",
         "rawType": "int64",
         "type": "integer"
        },
        {
         "name": "num_control",
         "rawType": "object",
         "type": "string"
        },
        {
         "name": "nombre",
         "rawType": "object",
         "type": "string"
        },
        {
         "name": "edad",
         "rawType": "int64",
         "type": "integer"
        },
        {
         "name": "calificacion",
         "rawType": "float64",
         "type": "float"
        },
        {
         "name": "grupo",
         "rawType": "object",
         "type": "string"
        },
        {
         "name": "anio",
         "rawType": "int64",
         "type": "integer"
        },
        {
         "name": "semestre",
         "rawType": "int64",
         "type": "integer"
        },
        {
         "name": "certificacion",
         "rawType": "object",
         "type": "string"
        },
        {
         "name": "maestro",
         "rawType": "object",
         "type": "string"
        },
        {
         "name": "diferencia",
         "rawType": "float64",
         "type": "float"
        }
       ],
       "ref": "317043b8-ce23-4d61-b0ce-81b34d385865",
       "rows": [
        [
         "5",
         "A006",
         "Jacobo",
         "44",
         "9.8",
         "A",
         "2017",
         "1",
         "SI",
         "Tatiana",
         "1.286"
        ],
        [
         "7",
         "A008",
         "Sofía",
         "20",
         "9.0",
         "A",
         "2017",
         "1",
         "SI",
         "Tatiana",
         "0.486"
        ],
        [
         "9",
         "A010",
         "Martina",
         "35",
         "9.5",
         "A",
         "2017",
         "1",
         "SI",
         "Tatiana",
         "0.986"
        ],
        [
         "11",
         "A012",
         "Ricardo",
         "34",
         "9.0",
         "A",
         "2017",
         "1",
         "SI",
         "Tatiana",
         "0.486"
        ],
        [
         "12",
         "A013",
         "Javier",
         "31",
         "9.7",
         "A",
         "2017",
         "2",
         "SI",
         "Tatiana",
         "1.186"
        ],
        [
         "14",
         "A015",
         "Diego",
         "42",
         "9.4",
         "A",
         "2017",
         "2",
         "SI",
         "Tatiana",
         "0.886"
        ],
        [
         "22",
         "A023",
         "Adán",
         "35",
         "8.1",
         "A",
         "2017",
         "2",
         "SI",
         "Tatiana",
         "-0.414"
        ],
        [
         "30",
         "A031",
         "Rubén",
         "48",
         "7.4",
         "B",
         "2017",
         "1",
         "SI",
         "Armando",
         "-1.114"
        ],
        [
         "31",
         "A032",
         "Eva",
         "21",
         "9.8",
         "B",
         "2017",
         "1",
         "SI",
         "Armando",
         "1.286"
        ],
        [
         "35",
         "A036",
         "Valeria",
         "39",
         "9.1",
         "B",
         "2017",
         "1",
         "SI",
         "Armando",
         "0.586"
        ],
        [
         "36",
         "A037",
         "Tomás",
         "37",
         "9.0",
         "B",
         "2017",
         "1",
         "SI",
         "Armando",
         "0.486"
        ],
        [
         "39",
         "A040",
         "Felipe",
         "14",
         "8.0",
         "B",
         "2017",
         "2",
         "SI",
         "Armando",
         "-0.514"
        ],
        [
         "45",
         "A046",
         "Rocío",
         "27",
         "9.0",
         "B",
         "2017",
         "2",
         "SI",
         "Armando",
         "0.486"
        ],
        [
         "47",
         "A048",
         "Emma",
         "19",
         "8.1",
         "B",
         "2017",
         "2",
         "SI",
         "Armando",
         "-0.414"
        ],
        [
         "49",
         "A050",
         "Carmen",
         "31",
         "9.2",
         "B",
         "2017",
         "2",
         "SI",
         "Armando",
         "0.686"
        ],
        [
         "50",
         "A051",
         "Octavio",
         "19",
         "8.5",
         "C",
         "2017",
         "1",
         "SI",
         "Emily",
         "-0.014"
        ],
        [
         "58",
         "A059",
         "Jimena ",
         "26",
         "8.2",
         "C",
         "2017",
         "1",
         "SI",
         "Emily",
         "-0.314"
        ],
        [
         "63",
         "A064",
         "Lucas",
         "43",
         "8.1",
         "C",
         "2017",
         "2",
         "SI",
         "Emily",
         "-0.414"
        ],
        [
         "64",
         "A065",
         "Blanca",
         "32",
         "7.3",
         "C",
         "2017",
         "2",
         "SI",
         "Emily",
         "-1.214"
        ],
        [
         "83",
         "A084",
         "Julián",
         "48",
         "9.6",
         "A",
         "2018",
         "1",
         "SI",
         "Tatiana",
         "1.086"
        ],
        [
         "84",
         "A085",
         "Carla",
         "20",
         "9.1",
         "A",
         "2018",
         "1",
         "SI",
         "Tatiana",
         "0.586"
        ],
        [
         "86",
         "A087",
         "Kevin",
         "16",
         "10.0",
         "A",
         "2018",
         "1",
         "SI",
         "Tatiana",
         "1.486"
        ],
        [
         "89",
         "A090",
         "Óscar",
         "42",
         "10.0",
         "A",
         "2018",
         "2",
         "SI",
         "Tatiana",
         "1.486"
        ],
        [
         "91",
         "A092",
         "Alejandra",
         "48",
         "9.8",
         "A",
         "2018",
         "2",
         "SI",
         "Tatiana",
         "1.286"
        ],
        [
         "94",
         "A095",
         "Sergio",
         "22",
         "9.5",
         "A",
         "2018",
         "2",
         "SI",
         "Tatiana",
         "0.986"
        ],
        [
         "99",
         "A100",
         "Marta",
         "15",
         "9.0",
         "A",
         "2018",
         "2",
         "SI",
         "Tatiana",
         "0.486"
        ],
        [
         "100",
         "A101",
         "Elisa",
         "13",
         "9.2",
         "B",
         "2018",
         "1",
         "SI",
         "Armando",
         "0.686"
        ],
        [
         "106",
         "A107",
         "Gabriel",
         "38",
         "8.7",
         "B",
         "2018",
         "1",
         "SI",
         "Armando",
         "0.186"
        ],
        [
         "110",
         "A111",
         "Adam",
         "17",
         "9.5",
         "B",
         "2018",
         "1",
         "SI",
         "Armando",
         "0.986"
        ],
        [
         "111",
         "A112",
         "Beatriz",
         "27",
         "8.7",
         "B",
         "2018",
         "1",
         "SI",
         "Armando",
         "0.186"
        ],
        [
         "112",
         "A113",
         "Elías",
         "23",
         "8.0",
         "B",
         "2018",
         "2",
         "SI",
         "Armando",
         "-0.514"
        ],
        [
         "113",
         "A114",
         "Alonso",
         "22",
         "9.4",
         "B",
         "2018",
         "2",
         "SI",
         "Armando",
         "0.886"
        ],
        [
         "115",
         "A116",
         "Álvaro",
         "36",
         "8.0",
         "B",
         "2018",
         "2",
         "SI",
         "Armando",
         "-0.514"
        ],
        [
         "118",
         "A119",
         "Casimiro",
         "30",
         "8.3",
         "B",
         "2018",
         "2",
         "SI",
         "Armando",
         "-0.214"
        ],
        [
         "126",
         "A127",
         "Paola",
         "12",
         "10.0",
         "C",
         "2018",
         "1",
         "SI",
         "Emily",
         "1.486"
        ],
        [
         "128",
         "A129",
         "Eugenio",
         "28",
         "8.5",
         "C",
         "2018",
         "1",
         "SI",
         "Emily",
         "-0.014"
        ],
        [
         "130",
         "A131",
         "Graciela",
         "13",
         "9.0",
         "C",
         "2018",
         "1",
         "SI",
         "Emily",
         "0.486"
        ],
        [
         "134",
         "A135",
         "Gregorio",
         "29",
         "8.6",
         "C",
         "2018",
         "1",
         "SI",
         "Emily",
         "0.086"
        ],
        [
         "135",
         "A136",
         "Casandra",
         "16",
         "9.3",
         "C",
         "2018",
         "1",
         "SI",
         "Emily",
         "0.786"
        ],
        [
         "136",
         "A137",
         "Simón",
         "17",
         "9.4",
         "C",
         "2018",
         "1",
         "SI",
         "Emily",
         "0.886"
        ],
        [
         "137",
         "A138",
         "Francisco",
         "33",
         "9.5",
         "C",
         "2018",
         "2",
         "SI",
         "Emily",
         "0.986"
        ],
        [
         "139",
         "A140",
         "Jorge",
         "33",
         "8.2",
         "C",
         "2018",
         "2",
         "SI",
         "Emily",
         "-0.314"
        ],
        [
         "140",
         "A141",
         "Nadia",
         "23",
         "8.4",
         "C",
         "2018",
         "2",
         "SI",
         "Emily",
         "-0.114"
        ],
        [
         "141",
         "A142",
         "Isaac",
         "35",
         "10.0",
         "C",
         "2018",
         "2",
         "SI",
         "Emily",
         "1.486"
        ],
        [
         "143",
         "A144",
         "Alexis",
         "17",
         "8.5",
         "C",
         "2018",
         "2",
         "SI",
         "Emily",
         "-0.014"
        ],
        [
         "146",
         "A147",
         "Celeste",
         "21",
         "7.8",
         "C",
         "2018",
         "2",
         "SI",
         "Emily",
         "-0.714"
        ],
        [
         "147",
         "A148",
         "Germán",
         "20",
         "8.8",
         "C",
         "2018",
         "2",
         "SI",
         "Emily",
         "0.286"
        ],
        [
         "148",
         "A149",
         "Teodoro",
         "40",
         "9.5",
         "C",
         "2018",
         "2",
         "SI",
         "Emily",
         "0.986"
        ],
        [
         "149",
         "A150",
         "Erika",
         "36",
         "7.6",
         "C",
         "2018",
         "2",
         "SI",
         "Emily",
         "-0.914"
        ],
        [
         "150",
         "A151",
         "Paulina",
         "19",
         "7.9",
         "A",
         "2019",
         "1",
         "SI",
         "Tatiana",
         "-0.614"
        ]
       ],
       "shape": {
        "columns": 10,
        "rows": 115
       }
      },
      "text/html": [
       "<div>\n",
       "<style scoped>\n",
       "    .dataframe tbody tr th:only-of-type {\n",
       "        vertical-align: middle;\n",
       "    }\n",
       "\n",
       "    .dataframe tbody tr th {\n",
       "        vertical-align: top;\n",
       "    }\n",
       "\n",
       "    .dataframe thead th {\n",
       "        text-align: right;\n",
       "    }\n",
       "</style>\n",
       "<table border=\"1\" class=\"dataframe\">\n",
       "  <thead>\n",
       "    <tr style=\"text-align: right;\">\n",
       "      <th></th>\n",
       "      <th>num_control</th>\n",
       "      <th>nombre</th>\n",
       "      <th>edad</th>\n",
       "      <th>calificacion</th>\n",
       "      <th>grupo</th>\n",
       "      <th>anio</th>\n",
       "      <th>semestre</th>\n",
       "      <th>certificacion</th>\n",
       "      <th>maestro</th>\n",
       "      <th>diferencia</th>\n",
       "    </tr>\n",
       "  </thead>\n",
       "  <tbody>\n",
       "    <tr>\n",
       "      <th>5</th>\n",
       "      <td>A006</td>\n",
       "      <td>Jacobo</td>\n",
       "      <td>44</td>\n",
       "      <td>9.8</td>\n",
       "      <td>A</td>\n",
       "      <td>2017</td>\n",
       "      <td>1</td>\n",
       "      <td>SI</td>\n",
       "      <td>Tatiana</td>\n",
       "      <td>1.286</td>\n",
       "    </tr>\n",
       "    <tr>\n",
       "      <th>7</th>\n",
       "      <td>A008</td>\n",
       "      <td>Sofía</td>\n",
       "      <td>20</td>\n",
       "      <td>9.0</td>\n",
       "      <td>A</td>\n",
       "      <td>2017</td>\n",
       "      <td>1</td>\n",
       "      <td>SI</td>\n",
       "      <td>Tatiana</td>\n",
       "      <td>0.486</td>\n",
       "    </tr>\n",
       "    <tr>\n",
       "      <th>9</th>\n",
       "      <td>A010</td>\n",
       "      <td>Martina</td>\n",
       "      <td>35</td>\n",
       "      <td>9.5</td>\n",
       "      <td>A</td>\n",
       "      <td>2017</td>\n",
       "      <td>1</td>\n",
       "      <td>SI</td>\n",
       "      <td>Tatiana</td>\n",
       "      <td>0.986</td>\n",
       "    </tr>\n",
       "    <tr>\n",
       "      <th>11</th>\n",
       "      <td>A012</td>\n",
       "      <td>Ricardo</td>\n",
       "      <td>34</td>\n",
       "      <td>9.0</td>\n",
       "      <td>A</td>\n",
       "      <td>2017</td>\n",
       "      <td>1</td>\n",
       "      <td>SI</td>\n",
       "      <td>Tatiana</td>\n",
       "      <td>0.486</td>\n",
       "    </tr>\n",
       "    <tr>\n",
       "      <th>12</th>\n",
       "      <td>A013</td>\n",
       "      <td>Javier</td>\n",
       "      <td>31</td>\n",
       "      <td>9.7</td>\n",
       "      <td>A</td>\n",
       "      <td>2017</td>\n",
       "      <td>2</td>\n",
       "      <td>SI</td>\n",
       "      <td>Tatiana</td>\n",
       "      <td>1.186</td>\n",
       "    </tr>\n",
       "    <tr>\n",
       "      <th>...</th>\n",
       "      <td>...</td>\n",
       "      <td>...</td>\n",
       "      <td>...</td>\n",
       "      <td>...</td>\n",
       "      <td>...</td>\n",
       "      <td>...</td>\n",
       "      <td>...</td>\n",
       "      <td>...</td>\n",
       "      <td>...</td>\n",
       "      <td>...</td>\n",
       "    </tr>\n",
       "    <tr>\n",
       "      <th>292</th>\n",
       "      <td>A293</td>\n",
       "      <td>Edir</td>\n",
       "      <td>23</td>\n",
       "      <td>7.7</td>\n",
       "      <td>C</td>\n",
       "      <td>2020</td>\n",
       "      <td>2</td>\n",
       "      <td>SI</td>\n",
       "      <td>Gaspar</td>\n",
       "      <td>-0.814</td>\n",
       "    </tr>\n",
       "    <tr>\n",
       "      <th>294</th>\n",
       "      <td>A295</td>\n",
       "      <td>Cuauhtemoc</td>\n",
       "      <td>14</td>\n",
       "      <td>7.9</td>\n",
       "      <td>C</td>\n",
       "      <td>2020</td>\n",
       "      <td>2</td>\n",
       "      <td>SI</td>\n",
       "      <td>Gaspar</td>\n",
       "      <td>-0.614</td>\n",
       "    </tr>\n",
       "    <tr>\n",
       "      <th>295</th>\n",
       "      <td>A296</td>\n",
       "      <td>Brayan</td>\n",
       "      <td>25</td>\n",
       "      <td>9.1</td>\n",
       "      <td>C</td>\n",
       "      <td>2020</td>\n",
       "      <td>2</td>\n",
       "      <td>SI</td>\n",
       "      <td>Gaspar</td>\n",
       "      <td>0.586</td>\n",
       "    </tr>\n",
       "    <tr>\n",
       "      <th>296</th>\n",
       "      <td>A297</td>\n",
       "      <td>Deymar</td>\n",
       "      <td>30</td>\n",
       "      <td>9.1</td>\n",
       "      <td>C</td>\n",
       "      <td>2020</td>\n",
       "      <td>2</td>\n",
       "      <td>SI</td>\n",
       "      <td>Gaspar</td>\n",
       "      <td>0.586</td>\n",
       "    </tr>\n",
       "    <tr>\n",
       "      <th>299</th>\n",
       "      <td>A300</td>\n",
       "      <td>Claridad</td>\n",
       "      <td>25</td>\n",
       "      <td>7.2</td>\n",
       "      <td>C</td>\n",
       "      <td>2020</td>\n",
       "      <td>2</td>\n",
       "      <td>SI</td>\n",
       "      <td>Gaspar</td>\n",
       "      <td>-1.314</td>\n",
       "    </tr>\n",
       "  </tbody>\n",
       "</table>\n",
       "<p>115 rows × 10 columns</p>\n",
       "</div>"
      ],
      "text/plain": [
       "    num_control      nombre  edad  calificacion grupo  anio  semestre  \\\n",
       "5          A006      Jacobo    44           9.8     A  2017         1   \n",
       "7          A008       Sofía    20           9.0     A  2017         1   \n",
       "9          A010     Martina    35           9.5     A  2017         1   \n",
       "11         A012     Ricardo    34           9.0     A  2017         1   \n",
       "12         A013      Javier    31           9.7     A  2017         2   \n",
       "..          ...         ...   ...           ...   ...   ...       ...   \n",
       "292        A293        Edir    23           7.7     C  2020         2   \n",
       "294        A295  Cuauhtemoc    14           7.9     C  2020         2   \n",
       "295        A296      Brayan    25           9.1     C  2020         2   \n",
       "296        A297      Deymar    30           9.1     C  2020         2   \n",
       "299        A300    Claridad    25           7.2     C  2020         2   \n",
       "\n",
       "    certificacion  maestro  diferencia  \n",
       "5              SI  Tatiana       1.286  \n",
       "7              SI  Tatiana       0.486  \n",
       "9              SI  Tatiana       0.986  \n",
       "11             SI  Tatiana       0.486  \n",
       "12             SI  Tatiana       1.186  \n",
       "..            ...      ...         ...  \n",
       "292            SI   Gaspar      -0.814  \n",
       "294            SI   Gaspar      -0.614  \n",
       "295            SI   Gaspar       0.586  \n",
       "296            SI   Gaspar       0.586  \n",
       "299            SI   Gaspar      -1.314  \n",
       "\n",
       "[115 rows x 10 columns]"
      ]
     },
     "execution_count": 9,
     "metadata": {},
     "output_type": "execute_result"
    }
   ],
   "source": [
    "historico.loc[historico[\"certificacion\"] == \"SI\"]"
   ]
  },
  {
   "cell_type": "markdown",
   "id": "56a8328d-2402-4a5e-a3f2-0ec639d2ca13",
   "metadata": {},
   "source": [
    "Armar un código que devuelva un Dataframe con los datos de los estudiantes que no quieren obtener un certificado,el resultado debe ser el siguiente:"
   ]
  },
  {
   "cell_type": "markdown",
   "id": "73fc7010-0d59-4d63-8832-680bcd807cd9",
   "metadata": {},
   "source": [
    "![Resuelto](./Img_24_Ejercicios/Act10Img3.png)"
   ]
  },
  {
   "cell_type": "code",
   "execution_count": 10,
   "id": "b4d610c8-1179-474f-afaf-fffd3d9bc0ad",
   "metadata": {},
   "outputs": [
    {
     "data": {
      "application/vnd.microsoft.datawrangler.viewer.v0+json": {
       "columns": [
        {
         "name": "index",
         "rawType": "int64",
         "type": "integer"
        },
        {
         "name": "num_control",
         "rawType": "object",
         "type": "string"
        },
        {
         "name": "nombre",
         "rawType": "object",
         "type": "string"
        },
        {
         "name": "edad",
         "rawType": "int64",
         "type": "integer"
        },
        {
         "name": "calificacion",
         "rawType": "float64",
         "type": "float"
        },
        {
         "name": "grupo",
         "rawType": "object",
         "type": "string"
        },
        {
         "name": "anio",
         "rawType": "int64",
         "type": "integer"
        },
        {
         "name": "semestre",
         "rawType": "int64",
         "type": "integer"
        },
        {
         "name": "certificacion",
         "rawType": "object",
         "type": "string"
        },
        {
         "name": "maestro",
         "rawType": "object",
         "type": "string"
        },
        {
         "name": "diferencia",
         "rawType": "float64",
         "type": "float"
        }
       ],
       "ref": "ee7df0b4-6f7d-4874-9556-950c35e7d303",
       "rows": [
        [
         "0",
         "A001",
         "Aarón",
         "14",
         "8.9",
         "A",
         "2017",
         "1",
         "NO",
         "Tatiana",
         "0.386"
        ],
        [
         "1",
         "A002",
         "Lucía",
         "42",
         "9.3",
         "A",
         "2017",
         "1",
         "NO",
         "Tatiana",
         "0.786"
        ],
        [
         "2",
         "A003",
         "Hugo",
         "29",
         "8.7",
         "A",
         "2017",
         "1",
         "NO",
         "Tatiana",
         "0.186"
        ],
        [
         "3",
         "A004",
         "Julieta",
         "34",
         "7.9",
         "A",
         "2017",
         "1",
         "NO",
         "Tatiana",
         "-0.614"
        ],
        [
         "4",
         "A005",
         "Adrían",
         "14",
         "9.1",
         "A",
         "2017",
         "1",
         "NO",
         "Tatiana",
         "0.586"
        ],
        [
         "6",
         "A007",
         "Yasmín",
         "23",
         "7.0",
         "A",
         "2017",
         "1",
         "NO",
         "Tatiana",
         "-1.514"
        ],
        [
         "8",
         "A009",
         "Leonardo",
         "37",
         "7.5",
         "A",
         "2017",
         "1",
         "NO",
         "Tatiana",
         "-1.014"
        ],
        [
         "10",
         "A011",
         "María",
         "34",
         "7.4",
         "A",
         "2017",
         "1",
         "NO",
         "Tatiana",
         "-1.114"
        ],
        [
         "13",
         "A014",
         "Salvador",
         "42",
         "7.2",
         "A",
         "2017",
         "2",
         "NO",
         "Tatiana",
         "-1.314"
        ],
        [
         "15",
         "A016",
         "Abel",
         "21",
         "7.2",
         "A",
         "2017",
         "2",
         "NO",
         "Tatiana",
         "-1.314"
        ],
        [
         "16",
         "A017",
         "Maximiliano",
         "20",
         "7.0",
         "A",
         "2017",
         "2",
         "NO",
         "Tatiana",
         "-1.514"
        ],
        [
         "17",
         "A018",
         "Julia",
         "45",
         "8.0",
         "A",
         "2017",
         "2",
         "NO",
         "Tatiana",
         "-0.514"
        ],
        [
         "18",
         "A019",
         "Pablo",
         "41",
         "8.0",
         "A",
         "2017",
         "2",
         "NO",
         "Tatiana",
         "-0.514"
        ],
        [
         "19",
         "A020",
         "Andrea ",
         "24",
         "7.8",
         "A",
         "2017",
         "2",
         "NO",
         "Tatiana",
         "-0.714"
        ],
        [
         "20",
         "A021",
         "Rafael",
         "17",
         "9.8",
         "A",
         "2017",
         "2",
         "NO",
         "Tatiana",
         "1.286"
        ],
        [
         "21",
         "A022",
         "Máximo",
         "16",
         "8.0",
         "A",
         "2017",
         "2",
         "NO",
         "Tatiana",
         "-0.514"
        ],
        [
         "23",
         "A024",
         "Ramiro",
         "26",
         "7.9",
         "A",
         "2017",
         "2",
         "NO",
         "Tatiana",
         "-0.614"
        ],
        [
         "24",
         "A025",
         "Luna",
         "27",
         "9.2",
         "A",
         "2017",
         "2",
         "NO",
         "Tatiana",
         "0.686"
        ],
        [
         "25",
         "A026",
         "Paula",
         "26",
         "8.4",
         "B",
         "2017",
         "1",
         "NO",
         "Armando",
         "-0.114"
        ],
        [
         "26",
         "A027",
         "Roberto",
         "28",
         "9.8",
         "B",
         "2017",
         "1",
         "NO",
         "Armando",
         "1.286"
        ],
        [
         "27",
         "A028",
         "Eduardo",
         "39",
         "9.0",
         "B",
         "2017",
         "1",
         "NO",
         "Armando",
         "0.486"
        ],
        [
         "28",
         "A029",
         "Clara",
         "47",
         "9.1",
         "B",
         "2017",
         "1",
         "NO",
         "Armando",
         "0.586"
        ],
        [
         "29",
         "A030",
         "Ramón",
         "28",
         "7.5",
         "B",
         "2017",
         "1",
         "NO",
         "Armando",
         "-1.014"
        ],
        [
         "32",
         "A033",
         "Claudio",
         "35",
         "9.8",
         "B",
         "2017",
         "1",
         "NO",
         "Armando",
         "1.286"
        ],
        [
         "33",
         "A034",
         "Elsa",
         "43",
         "8.6",
         "B",
         "2017",
         "1",
         "NO",
         "Armando",
         "0.086"
        ],
        [
         "34",
         "A035",
         "David",
         "14",
         "7.2",
         "B",
         "2017",
         "1",
         "NO",
         "Armando",
         "-1.314"
        ],
        [
         "37",
         "A038",
         "Alicia ",
         "45",
         "8.8",
         "B",
         "2017",
         "2",
         "NO",
         "Armando",
         "0.286"
        ],
        [
         "38",
         "A039",
         "Miguel",
         "27",
         "7.1",
         "B",
         "2017",
         "2",
         "NO",
         "Armando",
         "-1.414"
        ],
        [
         "40",
         "A041",
         "Tobías",
         "44",
         "7.6",
         "B",
         "2017",
         "2",
         "NO",
         "Armando",
         "-0.914"
        ],
        [
         "41",
         "A042",
         "Abelardo",
         "34",
         "9.7",
         "B",
         "2017",
         "2",
         "NO",
         "Armando",
         "1.186"
        ],
        [
         "42",
         "A043",
         "William",
         "12",
         "8.1",
         "B",
         "2017",
         "2",
         "NO",
         "Armando",
         "-0.414"
        ],
        [
         "43",
         "A044",
         "Laura",
         "42",
         "7.6",
         "B",
         "2017",
         "2",
         "NO",
         "Armando",
         "-0.914"
        ],
        [
         "44",
         "A045",
         "Arturo",
         "38",
         "9.6",
         "B",
         "2017",
         "2",
         "NO",
         "Armando",
         "1.086"
        ],
        [
         "46",
         "A047",
         "Orlando",
         "31",
         "9.2",
         "B",
         "2017",
         "2",
         "NO",
         "Armando",
         "0.686"
        ],
        [
         "48",
         "A049",
         "Samuel",
         "24",
         "7.1",
         "B",
         "2017",
         "2",
         "NO",
         "Armando",
         "-1.414"
        ],
        [
         "51",
         "A052",
         "Abril",
         "20",
         "8.3",
         "C",
         "2017",
         "1",
         "NO",
         "Emily",
         "-0.214"
        ],
        [
         "52",
         "A053",
         "Bruno",
         "20",
         "8.6",
         "C",
         "2017",
         "1",
         "NO",
         "Emily",
         "0.086"
        ],
        [
         "53",
         "A054",
         "Daniel",
         "15",
         "9.8",
         "C",
         "2017",
         "1",
         "NO",
         "Emily",
         "1.286"
        ],
        [
         "54",
         "A055",
         "Daniela",
         "49",
         "8.0",
         "C",
         "2017",
         "1",
         "NO",
         "Emily",
         "-0.514"
        ],
        [
         "55",
         "A056",
         "Alfonso",
         "42",
         "9.8",
         "C",
         "2017",
         "1",
         "NO",
         "Emily",
         "1.286"
        ],
        [
         "56",
         "A057",
         "Carla",
         "47",
         "8.3",
         "C",
         "2017",
         "1",
         "NO",
         "Emily",
         "-0.214"
        ],
        [
         "57",
         "A058",
         "Enrique",
         "30",
         "7.5",
         "C",
         "2017",
         "1",
         "NO",
         "Emily",
         "-1.014"
        ],
        [
         "59",
         "A060",
         "Marcos",
         "41",
         "9.6",
         "C",
         "2017",
         "1",
         "NO",
         "Emily",
         "1.086"
        ],
        [
         "60",
         "A061",
         "Isabel",
         "23",
         "8.3",
         "C",
         "2017",
         "1",
         "NO",
         "Emily",
         "-0.214"
        ],
        [
         "61",
         "A062",
         "Luis",
         "35",
         "7.3",
         "C",
         "2017",
         "1",
         "NO",
         "Emily",
         "-1.214"
        ],
        [
         "62",
         "A063",
         "Alba",
         "20",
         "7.3",
         "C",
         "2017",
         "2",
         "NO",
         "Emily",
         "-1.214"
        ],
        [
         "65",
         "A066",
         "Jaime",
         "37",
         "8.8",
         "C",
         "2017",
         "2",
         "NO",
         "Emily",
         "0.286"
        ],
        [
         "66",
         "A067",
         "Alma",
         "40",
         "9.2",
         "C",
         "2017",
         "2",
         "NO",
         "Emily",
         "0.686"
        ],
        [
         "67",
         "A068",
         "Alberto",
         "32",
         "7.3",
         "C",
         "2017",
         "2",
         "NO",
         "Emily",
         "-1.214"
        ],
        [
         "68",
         "A069",
         "Nicolás",
         "37",
         "8.2",
         "C",
         "2017",
         "2",
         "NO",
         "Emily",
         "-0.314"
        ]
       ],
       "shape": {
        "columns": 10,
        "rows": 185
       }
      },
      "text/html": [
       "<div>\n",
       "<style scoped>\n",
       "    .dataframe tbody tr th:only-of-type {\n",
       "        vertical-align: middle;\n",
       "    }\n",
       "\n",
       "    .dataframe tbody tr th {\n",
       "        vertical-align: top;\n",
       "    }\n",
       "\n",
       "    .dataframe thead th {\n",
       "        text-align: right;\n",
       "    }\n",
       "</style>\n",
       "<table border=\"1\" class=\"dataframe\">\n",
       "  <thead>\n",
       "    <tr style=\"text-align: right;\">\n",
       "      <th></th>\n",
       "      <th>num_control</th>\n",
       "      <th>nombre</th>\n",
       "      <th>edad</th>\n",
       "      <th>calificacion</th>\n",
       "      <th>grupo</th>\n",
       "      <th>anio</th>\n",
       "      <th>semestre</th>\n",
       "      <th>certificacion</th>\n",
       "      <th>maestro</th>\n",
       "      <th>diferencia</th>\n",
       "    </tr>\n",
       "  </thead>\n",
       "  <tbody>\n",
       "    <tr>\n",
       "      <th>0</th>\n",
       "      <td>A001</td>\n",
       "      <td>Aarón</td>\n",
       "      <td>14</td>\n",
       "      <td>8.9</td>\n",
       "      <td>A</td>\n",
       "      <td>2017</td>\n",
       "      <td>1</td>\n",
       "      <td>NO</td>\n",
       "      <td>Tatiana</td>\n",
       "      <td>0.386</td>\n",
       "    </tr>\n",
       "    <tr>\n",
       "      <th>1</th>\n",
       "      <td>A002</td>\n",
       "      <td>Lucía</td>\n",
       "      <td>42</td>\n",
       "      <td>9.3</td>\n",
       "      <td>A</td>\n",
       "      <td>2017</td>\n",
       "      <td>1</td>\n",
       "      <td>NO</td>\n",
       "      <td>Tatiana</td>\n",
       "      <td>0.786</td>\n",
       "    </tr>\n",
       "    <tr>\n",
       "      <th>2</th>\n",
       "      <td>A003</td>\n",
       "      <td>Hugo</td>\n",
       "      <td>29</td>\n",
       "      <td>8.7</td>\n",
       "      <td>A</td>\n",
       "      <td>2017</td>\n",
       "      <td>1</td>\n",
       "      <td>NO</td>\n",
       "      <td>Tatiana</td>\n",
       "      <td>0.186</td>\n",
       "    </tr>\n",
       "    <tr>\n",
       "      <th>3</th>\n",
       "      <td>A004</td>\n",
       "      <td>Julieta</td>\n",
       "      <td>34</td>\n",
       "      <td>7.9</td>\n",
       "      <td>A</td>\n",
       "      <td>2017</td>\n",
       "      <td>1</td>\n",
       "      <td>NO</td>\n",
       "      <td>Tatiana</td>\n",
       "      <td>-0.614</td>\n",
       "    </tr>\n",
       "    <tr>\n",
       "      <th>4</th>\n",
       "      <td>A005</td>\n",
       "      <td>Adrían</td>\n",
       "      <td>14</td>\n",
       "      <td>9.1</td>\n",
       "      <td>A</td>\n",
       "      <td>2017</td>\n",
       "      <td>1</td>\n",
       "      <td>NO</td>\n",
       "      <td>Tatiana</td>\n",
       "      <td>0.586</td>\n",
       "    </tr>\n",
       "    <tr>\n",
       "      <th>...</th>\n",
       "      <td>...</td>\n",
       "      <td>...</td>\n",
       "      <td>...</td>\n",
       "      <td>...</td>\n",
       "      <td>...</td>\n",
       "      <td>...</td>\n",
       "      <td>...</td>\n",
       "      <td>...</td>\n",
       "      <td>...</td>\n",
       "      <td>...</td>\n",
       "    </tr>\n",
       "    <tr>\n",
       "      <th>288</th>\n",
       "      <td>A289</td>\n",
       "      <td>Eddie</td>\n",
       "      <td>34</td>\n",
       "      <td>7.9</td>\n",
       "      <td>C</td>\n",
       "      <td>2020</td>\n",
       "      <td>2</td>\n",
       "      <td>NO</td>\n",
       "      <td>Gaspar</td>\n",
       "      <td>-0.614</td>\n",
       "    </tr>\n",
       "    <tr>\n",
       "      <th>291</th>\n",
       "      <td>A292</td>\n",
       "      <td>Delfino</td>\n",
       "      <td>23</td>\n",
       "      <td>9.1</td>\n",
       "      <td>C</td>\n",
       "      <td>2020</td>\n",
       "      <td>2</td>\n",
       "      <td>NO</td>\n",
       "      <td>Gaspar</td>\n",
       "      <td>0.586</td>\n",
       "    </tr>\n",
       "    <tr>\n",
       "      <th>293</th>\n",
       "      <td>A294</td>\n",
       "      <td>Arnoldo</td>\n",
       "      <td>20</td>\n",
       "      <td>9.0</td>\n",
       "      <td>C</td>\n",
       "      <td>2020</td>\n",
       "      <td>2</td>\n",
       "      <td>NO</td>\n",
       "      <td>Gaspar</td>\n",
       "      <td>0.486</td>\n",
       "    </tr>\n",
       "    <tr>\n",
       "      <th>297</th>\n",
       "      <td>A298</td>\n",
       "      <td>Rogelio</td>\n",
       "      <td>15</td>\n",
       "      <td>7.9</td>\n",
       "      <td>C</td>\n",
       "      <td>2020</td>\n",
       "      <td>2</td>\n",
       "      <td>NO</td>\n",
       "      <td>Gaspar</td>\n",
       "      <td>-0.614</td>\n",
       "    </tr>\n",
       "    <tr>\n",
       "      <th>298</th>\n",
       "      <td>A299</td>\n",
       "      <td>Percy</td>\n",
       "      <td>32</td>\n",
       "      <td>7.4</td>\n",
       "      <td>C</td>\n",
       "      <td>2020</td>\n",
       "      <td>2</td>\n",
       "      <td>NO</td>\n",
       "      <td>Gaspar</td>\n",
       "      <td>-1.114</td>\n",
       "    </tr>\n",
       "  </tbody>\n",
       "</table>\n",
       "<p>185 rows × 10 columns</p>\n",
       "</div>"
      ],
      "text/plain": [
       "    num_control   nombre  edad  calificacion grupo  anio  semestre  \\\n",
       "0          A001    Aarón    14           8.9     A  2017         1   \n",
       "1          A002    Lucía    42           9.3     A  2017         1   \n",
       "2          A003     Hugo    29           8.7     A  2017         1   \n",
       "3          A004  Julieta    34           7.9     A  2017         1   \n",
       "4          A005   Adrían    14           9.1     A  2017         1   \n",
       "..          ...      ...   ...           ...   ...   ...       ...   \n",
       "288        A289    Eddie    34           7.9     C  2020         2   \n",
       "291        A292  Delfino    23           9.1     C  2020         2   \n",
       "293        A294  Arnoldo    20           9.0     C  2020         2   \n",
       "297        A298  Rogelio    15           7.9     C  2020         2   \n",
       "298        A299    Percy    32           7.4     C  2020         2   \n",
       "\n",
       "    certificacion  maestro  diferencia  \n",
       "0              NO  Tatiana       0.386  \n",
       "1              NO  Tatiana       0.786  \n",
       "2              NO  Tatiana       0.186  \n",
       "3              NO  Tatiana      -0.614  \n",
       "4              NO  Tatiana       0.586  \n",
       "..            ...      ...         ...  \n",
       "288            NO   Gaspar      -0.614  \n",
       "291            NO   Gaspar       0.586  \n",
       "293            NO   Gaspar       0.486  \n",
       "297            NO   Gaspar      -0.614  \n",
       "298            NO   Gaspar      -1.114  \n",
       "\n",
       "[185 rows x 10 columns]"
      ]
     },
     "execution_count": 10,
     "metadata": {},
     "output_type": "execute_result"
    }
   ],
   "source": [
    "historico.loc[historico[\"certificacion\"] == \"NO\"]"
   ]
  },
  {
   "cell_type": "markdown",
   "id": "2c25ee92-4481-4d94-94e5-1b157ea1f083",
   "metadata": {},
   "source": [
    "![Resuelto](./Img_24_Ejercicios/Act10Img6.png)"
   ]
  },
  {
   "cell_type": "markdown",
   "id": "a0266783-cc9e-4cc6-96ff-cad8d81a449c",
   "metadata": {},
   "source": [
    "__Conclusión:__ Los estudiantes que desean obtener un certificado tienden a tener calificaciones mayores al promedio"
   ]
  },
  {
   "cell_type": "markdown",
   "id": "93cccc49-2eac-4373-95d3-a618220ca3d6",
   "metadata": {},
   "source": [
    "## Ejercicio 11\n",
    "Armar un Dataframe con los indices de los alumnos que obtuvieron la calificación más alta en cada grupo en cada año, el resultado debe ser:"
   ]
  },
  {
   "cell_type": "markdown",
   "id": "829fdbde-cc4d-4834-8133-3318abeac631",
   "metadata": {},
   "source": [
    "![Resuelto](./Img_24_Ejercicios/Act11Img1.png)"
   ]
  },
  {
   "cell_type": "code",
   "execution_count": 23,
   "id": "0ab228a1-e54c-4032-b657-7a8b22ffddc6",
   "metadata": {},
   "outputs": [],
   "source": [
    "\n",
    "index_alto = historico.groupby([\"anio\",\"grupo\"]).agg({\"calificacion\":\"idxmax\"})"
   ]
  },
  {
   "cell_type": "code",
   "execution_count": 24,
   "id": "ca9204f6",
   "metadata": {},
   "outputs": [
    {
     "data": {
      "application/vnd.microsoft.datawrangler.viewer.v0+json": {
       "columns": [
        {
         "name": "('anio', 'grupo')",
         "rawType": "object",
         "type": "unknown"
        },
        {
         "name": "calificacion",
         "rawType": "int64",
         "type": "integer"
        }
       ],
       "ref": "cbed2244-b06f-45d1-a3cb-e406773c901e",
       "rows": [
        [
         "(2017, 'A')",
         "5"
        ],
        [
         "(2017, 'B')",
         "26"
        ],
        [
         "(2017, 'C')",
         "53"
        ],
        [
         "(2018, 'A')",
         "86"
        ],
        [
         "(2018, 'B')",
         "123"
        ],
        [
         "(2018, 'C')",
         "126"
        ],
        [
         "(2019, 'A')",
         "170"
        ],
        [
         "(2019, 'B')",
         "177"
        ],
        [
         "(2019, 'C')",
         "207"
        ],
        [
         "(2020, 'A')",
         "234"
        ],
        [
         "(2020, 'B')",
         "265"
        ],
        [
         "(2020, 'C')",
         "278"
        ]
       ],
       "shape": {
        "columns": 1,
        "rows": 12
       }
      },
      "text/html": [
       "<div>\n",
       "<style scoped>\n",
       "    .dataframe tbody tr th:only-of-type {\n",
       "        vertical-align: middle;\n",
       "    }\n",
       "\n",
       "    .dataframe tbody tr th {\n",
       "        vertical-align: top;\n",
       "    }\n",
       "\n",
       "    .dataframe thead th {\n",
       "        text-align: right;\n",
       "    }\n",
       "</style>\n",
       "<table border=\"1\" class=\"dataframe\">\n",
       "  <thead>\n",
       "    <tr style=\"text-align: right;\">\n",
       "      <th></th>\n",
       "      <th></th>\n",
       "      <th>calificacion</th>\n",
       "    </tr>\n",
       "    <tr>\n",
       "      <th>anio</th>\n",
       "      <th>grupo</th>\n",
       "      <th></th>\n",
       "    </tr>\n",
       "  </thead>\n",
       "  <tbody>\n",
       "    <tr>\n",
       "      <th rowspan=\"3\" valign=\"top\">2017</th>\n",
       "      <th>A</th>\n",
       "      <td>5</td>\n",
       "    </tr>\n",
       "    <tr>\n",
       "      <th>B</th>\n",
       "      <td>26</td>\n",
       "    </tr>\n",
       "    <tr>\n",
       "      <th>C</th>\n",
       "      <td>53</td>\n",
       "    </tr>\n",
       "    <tr>\n",
       "      <th rowspan=\"3\" valign=\"top\">2018</th>\n",
       "      <th>A</th>\n",
       "      <td>86</td>\n",
       "    </tr>\n",
       "    <tr>\n",
       "      <th>B</th>\n",
       "      <td>123</td>\n",
       "    </tr>\n",
       "    <tr>\n",
       "      <th>C</th>\n",
       "      <td>126</td>\n",
       "    </tr>\n",
       "    <tr>\n",
       "      <th rowspan=\"3\" valign=\"top\">2019</th>\n",
       "      <th>A</th>\n",
       "      <td>170</td>\n",
       "    </tr>\n",
       "    <tr>\n",
       "      <th>B</th>\n",
       "      <td>177</td>\n",
       "    </tr>\n",
       "    <tr>\n",
       "      <th>C</th>\n",
       "      <td>207</td>\n",
       "    </tr>\n",
       "    <tr>\n",
       "      <th rowspan=\"3\" valign=\"top\">2020</th>\n",
       "      <th>A</th>\n",
       "      <td>234</td>\n",
       "    </tr>\n",
       "    <tr>\n",
       "      <th>B</th>\n",
       "      <td>265</td>\n",
       "    </tr>\n",
       "    <tr>\n",
       "      <th>C</th>\n",
       "      <td>278</td>\n",
       "    </tr>\n",
       "  </tbody>\n",
       "</table>\n",
       "</div>"
      ],
      "text/plain": [
       "            calificacion\n",
       "anio grupo              \n",
       "2017 A                 5\n",
       "     B                26\n",
       "     C                53\n",
       "2018 A                86\n",
       "     B               123\n",
       "     C               126\n",
       "2019 A               170\n",
       "     B               177\n",
       "     C               207\n",
       "2020 A               234\n",
       "     B               265\n",
       "     C               278"
      ]
     },
     "execution_count": 24,
     "metadata": {},
     "output_type": "execute_result"
    }
   ],
   "source": [
    "index_alto"
   ]
  },
  {
   "cell_type": "markdown",
   "id": "239a0ee2-a1df-4a61-8443-bb753be46127",
   "metadata": {},
   "source": [
    "Utilizar los indices del paso anterior para obtener en un DataFrame los datos de los estudiantes con mejor promedio empleando loc, el resultado debe ser:"
   ]
  },
  {
   "cell_type": "markdown",
   "id": "e5b797a8-7733-4c25-8c4e-f915cdfff665",
   "metadata": {},
   "source": [
    "![Resuelto](./Img_24_Ejercicios/Act11Img2.png)"
   ]
  },
  {
   "cell_type": "code",
   "execution_count": 28,
   "id": "f8532412-cc77-44d3-b39e-006586a4ad69",
   "metadata": {},
   "outputs": [
    {
     "data": {
      "application/vnd.microsoft.datawrangler.viewer.v0+json": {
       "columns": [
        {
         "name": "index",
         "rawType": "int64",
         "type": "integer"
        },
        {
         "name": "num_control",
         "rawType": "object",
         "type": "string"
        },
        {
         "name": "nombre",
         "rawType": "object",
         "type": "string"
        },
        {
         "name": "edad",
         "rawType": "int64",
         "type": "integer"
        },
        {
         "name": "calificacion",
         "rawType": "float64",
         "type": "float"
        },
        {
         "name": "grupo",
         "rawType": "object",
         "type": "string"
        },
        {
         "name": "anio",
         "rawType": "int64",
         "type": "integer"
        },
        {
         "name": "semestre",
         "rawType": "int64",
         "type": "integer"
        },
        {
         "name": "certificacion",
         "rawType": "object",
         "type": "string"
        },
        {
         "name": "maestro",
         "rawType": "object",
         "type": "string"
        },
        {
         "name": "diferencia",
         "rawType": "float64",
         "type": "float"
        }
       ],
       "ref": "4789c4f8-cf08-4844-a80f-755cc33428b8",
       "rows": [
        [
         "5",
         "A006",
         "Jacobo",
         "44",
         "9.8",
         "A",
         "2017",
         "1",
         "SI",
         "Tatiana",
         "1.286"
        ],
        [
         "26",
         "A027",
         "Roberto",
         "28",
         "9.8",
         "B",
         "2017",
         "1",
         "NO",
         "Armando",
         "1.286"
        ],
        [
         "53",
         "A054",
         "Daniel",
         "15",
         "9.8",
         "C",
         "2017",
         "1",
         "NO",
         "Emily",
         "1.286"
        ],
        [
         "86",
         "A087",
         "Kevin",
         "16",
         "10.0",
         "A",
         "2018",
         "1",
         "SI",
         "Tatiana",
         "1.486"
        ],
        [
         "123",
         "A124",
         "Isabella",
         "22",
         "9.9",
         "B",
         "2018",
         "2",
         "NO",
         "Armando",
         "1.386"
        ]
       ],
       "shape": {
        "columns": 10,
        "rows": 5
       }
      },
      "text/html": [
       "<div>\n",
       "<style scoped>\n",
       "    .dataframe tbody tr th:only-of-type {\n",
       "        vertical-align: middle;\n",
       "    }\n",
       "\n",
       "    .dataframe tbody tr th {\n",
       "        vertical-align: top;\n",
       "    }\n",
       "\n",
       "    .dataframe thead th {\n",
       "        text-align: right;\n",
       "    }\n",
       "</style>\n",
       "<table border=\"1\" class=\"dataframe\">\n",
       "  <thead>\n",
       "    <tr style=\"text-align: right;\">\n",
       "      <th></th>\n",
       "      <th>num_control</th>\n",
       "      <th>nombre</th>\n",
       "      <th>edad</th>\n",
       "      <th>calificacion</th>\n",
       "      <th>grupo</th>\n",
       "      <th>anio</th>\n",
       "      <th>semestre</th>\n",
       "      <th>certificacion</th>\n",
       "      <th>maestro</th>\n",
       "      <th>diferencia</th>\n",
       "    </tr>\n",
       "  </thead>\n",
       "  <tbody>\n",
       "    <tr>\n",
       "      <th>5</th>\n",
       "      <td>A006</td>\n",
       "      <td>Jacobo</td>\n",
       "      <td>44</td>\n",
       "      <td>9.8</td>\n",
       "      <td>A</td>\n",
       "      <td>2017</td>\n",
       "      <td>1</td>\n",
       "      <td>SI</td>\n",
       "      <td>Tatiana</td>\n",
       "      <td>1.286</td>\n",
       "    </tr>\n",
       "    <tr>\n",
       "      <th>26</th>\n",
       "      <td>A027</td>\n",
       "      <td>Roberto</td>\n",
       "      <td>28</td>\n",
       "      <td>9.8</td>\n",
       "      <td>B</td>\n",
       "      <td>2017</td>\n",
       "      <td>1</td>\n",
       "      <td>NO</td>\n",
       "      <td>Armando</td>\n",
       "      <td>1.286</td>\n",
       "    </tr>\n",
       "    <tr>\n",
       "      <th>53</th>\n",
       "      <td>A054</td>\n",
       "      <td>Daniel</td>\n",
       "      <td>15</td>\n",
       "      <td>9.8</td>\n",
       "      <td>C</td>\n",
       "      <td>2017</td>\n",
       "      <td>1</td>\n",
       "      <td>NO</td>\n",
       "      <td>Emily</td>\n",
       "      <td>1.286</td>\n",
       "    </tr>\n",
       "    <tr>\n",
       "      <th>86</th>\n",
       "      <td>A087</td>\n",
       "      <td>Kevin</td>\n",
       "      <td>16</td>\n",
       "      <td>10.0</td>\n",
       "      <td>A</td>\n",
       "      <td>2018</td>\n",
       "      <td>1</td>\n",
       "      <td>SI</td>\n",
       "      <td>Tatiana</td>\n",
       "      <td>1.486</td>\n",
       "    </tr>\n",
       "    <tr>\n",
       "      <th>123</th>\n",
       "      <td>A124</td>\n",
       "      <td>Isabella</td>\n",
       "      <td>22</td>\n",
       "      <td>9.9</td>\n",
       "      <td>B</td>\n",
       "      <td>2018</td>\n",
       "      <td>2</td>\n",
       "      <td>NO</td>\n",
       "      <td>Armando</td>\n",
       "      <td>1.386</td>\n",
       "    </tr>\n",
       "  </tbody>\n",
       "</table>\n",
       "</div>"
      ],
      "text/plain": [
       "    num_control    nombre  edad  calificacion grupo  anio  semestre  \\\n",
       "5          A006    Jacobo    44           9.8     A  2017         1   \n",
       "26         A027   Roberto    28           9.8     B  2017         1   \n",
       "53         A054    Daniel    15           9.8     C  2017         1   \n",
       "86         A087     Kevin    16          10.0     A  2018         1   \n",
       "123        A124  Isabella    22           9.9     B  2018         2   \n",
       "\n",
       "    certificacion  maestro  diferencia  \n",
       "5              SI  Tatiana       1.286  \n",
       "26             NO  Armando       1.286  \n",
       "53             NO    Emily       1.286  \n",
       "86             SI  Tatiana       1.486  \n",
       "123            NO  Armando       1.386  "
      ]
     },
     "execution_count": 28,
     "metadata": {},
     "output_type": "execute_result"
    }
   ],
   "source": [
    "mejores_promedios = historico.loc[index_alto[\"calificacion\"]]\n",
    "\n",
    "mejores_promedios.head()"
   ]
  },
  {
   "cell_type": "markdown",
   "id": "a4fdc0aa-ba79-4083-8183-abe88a29b526",
   "metadata": {},
   "source": [
    "![Resuelto](./Img_24_Ejercicios/Act11Img3.png)"
   ]
  },
  {
   "cell_type": "markdown",
   "id": "8fc1af6d-2c68-44cf-ada4-5ded497e866e",
   "metadata": {},
   "source": [
    "__Conclusión:__ en todos los grupos siempre un estudiante tuvo al menos 9.8 de calificación"
   ]
  },
  {
   "cell_type": "markdown",
   "id": "c8dfb41e-3b08-430a-86ca-0462bdc1ec14",
   "metadata": {
    "tags": []
   },
   "source": [
    "## Ejercicio 12\n",
    "Agregar una columna llamada id al DataFrame anterior , formada por la unión de la columna anio y la columna grupo, el resultado debe ser el siguiente:"
   ]
  },
  {
   "cell_type": "markdown",
   "id": "a39a8a89-91f3-4237-8c23-6e47de0f7532",
   "metadata": {},
   "source": [
    "![Resuelto](./Img_24_Ejercicios/Act12Img1.png)"
   ]
  },
  {
   "cell_type": "code",
   "execution_count": 30,
   "id": "8237c0f6-0fde-44fc-b215-a27c6df707f7",
   "metadata": {},
   "outputs": [],
   "source": [
    "mejores_promedios[\"id\"] = mejores_promedios[\"anio\"].astype(str)+mejores_promedios[\"grupo\"]"
   ]
  },
  {
   "cell_type": "code",
   "execution_count": 31,
   "id": "51fe38a7",
   "metadata": {},
   "outputs": [
    {
     "data": {
      "application/vnd.microsoft.datawrangler.viewer.v0+json": {
       "columns": [
        {
         "name": "index",
         "rawType": "int64",
         "type": "integer"
        },
        {
         "name": "num_control",
         "rawType": "object",
         "type": "string"
        },
        {
         "name": "nombre",
         "rawType": "object",
         "type": "string"
        },
        {
         "name": "edad",
         "rawType": "int64",
         "type": "integer"
        },
        {
         "name": "calificacion",
         "rawType": "float64",
         "type": "float"
        },
        {
         "name": "grupo",
         "rawType": "object",
         "type": "string"
        },
        {
         "name": "anio",
         "rawType": "int64",
         "type": "integer"
        },
        {
         "name": "semestre",
         "rawType": "int64",
         "type": "integer"
        },
        {
         "name": "certificacion",
         "rawType": "object",
         "type": "string"
        },
        {
         "name": "maestro",
         "rawType": "object",
         "type": "string"
        },
        {
         "name": "diferencia",
         "rawType": "float64",
         "type": "float"
        },
        {
         "name": "id",
         "rawType": "object",
         "type": "string"
        }
       ],
       "ref": "6458a9f2-399e-4791-a8fa-bc3095969b02",
       "rows": [
        [
         "5",
         "A006",
         "Jacobo",
         "44",
         "9.8",
         "A",
         "2017",
         "1",
         "SI",
         "Tatiana",
         "1.286",
         "2017A"
        ],
        [
         "26",
         "A027",
         "Roberto",
         "28",
         "9.8",
         "B",
         "2017",
         "1",
         "NO",
         "Armando",
         "1.286",
         "2017B"
        ],
        [
         "53",
         "A054",
         "Daniel",
         "15",
         "9.8",
         "C",
         "2017",
         "1",
         "NO",
         "Emily",
         "1.286",
         "2017C"
        ],
        [
         "86",
         "A087",
         "Kevin",
         "16",
         "10.0",
         "A",
         "2018",
         "1",
         "SI",
         "Tatiana",
         "1.486",
         "2018A"
        ],
        [
         "123",
         "A124",
         "Isabella",
         "22",
         "9.9",
         "B",
         "2018",
         "2",
         "NO",
         "Armando",
         "1.386",
         "2018B"
        ],
        [
         "126",
         "A127",
         "Paola",
         "12",
         "10.0",
         "C",
         "2018",
         "1",
         "SI",
         "Emily",
         "1.486",
         "2018C"
        ],
        [
         "170",
         "A171",
         "Edson",
         "16",
         "9.9",
         "A",
         "2019",
         "2",
         "SI",
         "Tatiana",
         "1.386",
         "2019A"
        ],
        [
         "177",
         "A178",
         "Matias",
         "31",
         "10.0",
         "B",
         "2019",
         "1",
         "SI",
         "Armando",
         "1.486",
         "2019B"
        ],
        [
         "207",
         "A208",
         "Jaan",
         "30",
         "9.8",
         "C",
         "2019",
         "1",
         "NO",
         "Emily",
         "1.286",
         "2019C"
        ],
        [
         "234",
         "A235",
         "Rodney",
         "38",
         "10.0",
         "A",
         "2020",
         "1",
         "SI",
         "Tatiana",
         "1.486",
         "2020A"
        ],
        [
         "265",
         "A266",
         "Marwin",
         "16",
         "10.0",
         "B",
         "2020",
         "2",
         "NO",
         "Armando",
         "1.486",
         "2020B"
        ],
        [
         "278",
         "A279",
         "Penelope",
         "23",
         "9.9",
         "C",
         "2020",
         "1",
         "SI",
         "Emily",
         "1.386",
         "2020C"
        ]
       ],
       "shape": {
        "columns": 11,
        "rows": 12
       }
      },
      "text/html": [
       "<div>\n",
       "<style scoped>\n",
       "    .dataframe tbody tr th:only-of-type {\n",
       "        vertical-align: middle;\n",
       "    }\n",
       "\n",
       "    .dataframe tbody tr th {\n",
       "        vertical-align: top;\n",
       "    }\n",
       "\n",
       "    .dataframe thead th {\n",
       "        text-align: right;\n",
       "    }\n",
       "</style>\n",
       "<table border=\"1\" class=\"dataframe\">\n",
       "  <thead>\n",
       "    <tr style=\"text-align: right;\">\n",
       "      <th></th>\n",
       "      <th>num_control</th>\n",
       "      <th>nombre</th>\n",
       "      <th>edad</th>\n",
       "      <th>calificacion</th>\n",
       "      <th>grupo</th>\n",
       "      <th>anio</th>\n",
       "      <th>semestre</th>\n",
       "      <th>certificacion</th>\n",
       "      <th>maestro</th>\n",
       "      <th>diferencia</th>\n",
       "      <th>id</th>\n",
       "    </tr>\n",
       "  </thead>\n",
       "  <tbody>\n",
       "    <tr>\n",
       "      <th>5</th>\n",
       "      <td>A006</td>\n",
       "      <td>Jacobo</td>\n",
       "      <td>44</td>\n",
       "      <td>9.8</td>\n",
       "      <td>A</td>\n",
       "      <td>2017</td>\n",
       "      <td>1</td>\n",
       "      <td>SI</td>\n",
       "      <td>Tatiana</td>\n",
       "      <td>1.286</td>\n",
       "      <td>2017A</td>\n",
       "    </tr>\n",
       "    <tr>\n",
       "      <th>26</th>\n",
       "      <td>A027</td>\n",
       "      <td>Roberto</td>\n",
       "      <td>28</td>\n",
       "      <td>9.8</td>\n",
       "      <td>B</td>\n",
       "      <td>2017</td>\n",
       "      <td>1</td>\n",
       "      <td>NO</td>\n",
       "      <td>Armando</td>\n",
       "      <td>1.286</td>\n",
       "      <td>2017B</td>\n",
       "    </tr>\n",
       "    <tr>\n",
       "      <th>53</th>\n",
       "      <td>A054</td>\n",
       "      <td>Daniel</td>\n",
       "      <td>15</td>\n",
       "      <td>9.8</td>\n",
       "      <td>C</td>\n",
       "      <td>2017</td>\n",
       "      <td>1</td>\n",
       "      <td>NO</td>\n",
       "      <td>Emily</td>\n",
       "      <td>1.286</td>\n",
       "      <td>2017C</td>\n",
       "    </tr>\n",
       "    <tr>\n",
       "      <th>86</th>\n",
       "      <td>A087</td>\n",
       "      <td>Kevin</td>\n",
       "      <td>16</td>\n",
       "      <td>10.0</td>\n",
       "      <td>A</td>\n",
       "      <td>2018</td>\n",
       "      <td>1</td>\n",
       "      <td>SI</td>\n",
       "      <td>Tatiana</td>\n",
       "      <td>1.486</td>\n",
       "      <td>2018A</td>\n",
       "    </tr>\n",
       "    <tr>\n",
       "      <th>123</th>\n",
       "      <td>A124</td>\n",
       "      <td>Isabella</td>\n",
       "      <td>22</td>\n",
       "      <td>9.9</td>\n",
       "      <td>B</td>\n",
       "      <td>2018</td>\n",
       "      <td>2</td>\n",
       "      <td>NO</td>\n",
       "      <td>Armando</td>\n",
       "      <td>1.386</td>\n",
       "      <td>2018B</td>\n",
       "    </tr>\n",
       "    <tr>\n",
       "      <th>126</th>\n",
       "      <td>A127</td>\n",
       "      <td>Paola</td>\n",
       "      <td>12</td>\n",
       "      <td>10.0</td>\n",
       "      <td>C</td>\n",
       "      <td>2018</td>\n",
       "      <td>1</td>\n",
       "      <td>SI</td>\n",
       "      <td>Emily</td>\n",
       "      <td>1.486</td>\n",
       "      <td>2018C</td>\n",
       "    </tr>\n",
       "    <tr>\n",
       "      <th>170</th>\n",
       "      <td>A171</td>\n",
       "      <td>Edson</td>\n",
       "      <td>16</td>\n",
       "      <td>9.9</td>\n",
       "      <td>A</td>\n",
       "      <td>2019</td>\n",
       "      <td>2</td>\n",
       "      <td>SI</td>\n",
       "      <td>Tatiana</td>\n",
       "      <td>1.386</td>\n",
       "      <td>2019A</td>\n",
       "    </tr>\n",
       "    <tr>\n",
       "      <th>177</th>\n",
       "      <td>A178</td>\n",
       "      <td>Matias</td>\n",
       "      <td>31</td>\n",
       "      <td>10.0</td>\n",
       "      <td>B</td>\n",
       "      <td>2019</td>\n",
       "      <td>1</td>\n",
       "      <td>SI</td>\n",
       "      <td>Armando</td>\n",
       "      <td>1.486</td>\n",
       "      <td>2019B</td>\n",
       "    </tr>\n",
       "    <tr>\n",
       "      <th>207</th>\n",
       "      <td>A208</td>\n",
       "      <td>Jaan</td>\n",
       "      <td>30</td>\n",
       "      <td>9.8</td>\n",
       "      <td>C</td>\n",
       "      <td>2019</td>\n",
       "      <td>1</td>\n",
       "      <td>NO</td>\n",
       "      <td>Emily</td>\n",
       "      <td>1.286</td>\n",
       "      <td>2019C</td>\n",
       "    </tr>\n",
       "    <tr>\n",
       "      <th>234</th>\n",
       "      <td>A235</td>\n",
       "      <td>Rodney</td>\n",
       "      <td>38</td>\n",
       "      <td>10.0</td>\n",
       "      <td>A</td>\n",
       "      <td>2020</td>\n",
       "      <td>1</td>\n",
       "      <td>SI</td>\n",
       "      <td>Tatiana</td>\n",
       "      <td>1.486</td>\n",
       "      <td>2020A</td>\n",
       "    </tr>\n",
       "    <tr>\n",
       "      <th>265</th>\n",
       "      <td>A266</td>\n",
       "      <td>Marwin</td>\n",
       "      <td>16</td>\n",
       "      <td>10.0</td>\n",
       "      <td>B</td>\n",
       "      <td>2020</td>\n",
       "      <td>2</td>\n",
       "      <td>NO</td>\n",
       "      <td>Armando</td>\n",
       "      <td>1.486</td>\n",
       "      <td>2020B</td>\n",
       "    </tr>\n",
       "    <tr>\n",
       "      <th>278</th>\n",
       "      <td>A279</td>\n",
       "      <td>Penelope</td>\n",
       "      <td>23</td>\n",
       "      <td>9.9</td>\n",
       "      <td>C</td>\n",
       "      <td>2020</td>\n",
       "      <td>1</td>\n",
       "      <td>SI</td>\n",
       "      <td>Emily</td>\n",
       "      <td>1.386</td>\n",
       "      <td>2020C</td>\n",
       "    </tr>\n",
       "  </tbody>\n",
       "</table>\n",
       "</div>"
      ],
      "text/plain": [
       "    num_control    nombre  edad  calificacion grupo  anio  semestre  \\\n",
       "5          A006    Jacobo    44           9.8     A  2017         1   \n",
       "26         A027   Roberto    28           9.8     B  2017         1   \n",
       "53         A054    Daniel    15           9.8     C  2017         1   \n",
       "86         A087     Kevin    16          10.0     A  2018         1   \n",
       "123        A124  Isabella    22           9.9     B  2018         2   \n",
       "126        A127     Paola    12          10.0     C  2018         1   \n",
       "170        A171     Edson    16           9.9     A  2019         2   \n",
       "177        A178    Matias    31          10.0     B  2019         1   \n",
       "207        A208      Jaan    30           9.8     C  2019         1   \n",
       "234        A235    Rodney    38          10.0     A  2020         1   \n",
       "265        A266    Marwin    16          10.0     B  2020         2   \n",
       "278        A279  Penelope    23           9.9     C  2020         1   \n",
       "\n",
       "    certificacion  maestro  diferencia     id  \n",
       "5              SI  Tatiana       1.286  2017A  \n",
       "26             NO  Armando       1.286  2017B  \n",
       "53             NO    Emily       1.286  2017C  \n",
       "86             SI  Tatiana       1.486  2018A  \n",
       "123            NO  Armando       1.386  2018B  \n",
       "126            SI    Emily       1.486  2018C  \n",
       "170            SI  Tatiana       1.386  2019A  \n",
       "177            SI  Armando       1.486  2019B  \n",
       "207            NO    Emily       1.286  2019C  \n",
       "234            SI  Tatiana       1.486  2020A  \n",
       "265            NO  Armando       1.486  2020B  \n",
       "278            SI    Emily       1.386  2020C  "
      ]
     },
     "execution_count": 31,
     "metadata": {},
     "output_type": "execute_result"
    }
   ],
   "source": [
    "mejores_promedios"
   ]
  },
  {
   "cell_type": "markdown",
   "id": "07429204-97d6-4ec7-8b2e-4dcd708b0949",
   "metadata": {},
   "source": [
    "![Resuelto](./Img_24_Ejercicios/Act12Img2.png)"
   ]
  },
  {
   "cell_type": "markdown",
   "id": "aa2d7e7d-661a-4184-90ab-bc58f5a499fb",
   "metadata": {},
   "source": [
    "__Conclusión:__ en todos los grupos siempre un estudiante tuvo al menos 9.8 de calificación"
   ]
  },
  {
   "cell_type": "markdown",
   "id": "5d94b3e4-3450-4f9c-8cc6-bdb9511523ce",
   "metadata": {},
   "source": [
    "## Ejercicio 13\n",
    "Utilizar pandas para importar los datos del archivo \"hospital.xlsx\" en la variable \"hospital\""
   ]
  },
  {
   "cell_type": "code",
   "execution_count": 3,
   "id": "9c62037c-8543-4b38-8155-9d46e56fdf2a",
   "metadata": {},
   "outputs": [],
   "source": [
    "import pandas as pd\n",
    "import datetime as dt"
   ]
  },
  {
   "cell_type": "code",
   "execution_count": 2,
   "id": "f798322e-561a-411b-a80f-8064fa451414",
   "metadata": {},
   "outputs": [
    {
     "data": {
      "application/vnd.microsoft.datawrangler.viewer.v0+json": {
       "columns": [
        {
         "name": "index",
         "rawType": "int64",
         "type": "integer"
        },
        {
         "name": "Fecha",
         "rawType": "datetime64[ns]",
         "type": "datetime"
        },
        {
         "name": "Nombre",
         "rawType": "object",
         "type": "string"
        },
        {
         "name": "Doctor",
         "rawType": "object",
         "type": "string"
        },
        {
         "name": "Especialidad",
         "rawType": "object",
         "type": "string"
        },
        {
         "name": "Tipo",
         "rawType": "object",
         "type": "string"
        },
        {
         "name": "Honorarios",
         "rawType": "int64",
         "type": "integer"
        },
        {
         "name": "Calificación",
         "rawType": "float64",
         "type": "float"
        },
        {
         "name": "Comisión",
         "rawType": "float64",
         "type": "float"
        }
       ],
       "ref": "b6a86e99-13c5-4bb7-a6d5-170190c733b7",
       "rows": [
        [
         "0",
         "2018-01-01 00:00:00",
         "Bastian Hurtado Cabrero",
         "Simón Castro Infante",
         "Hematología",
         "Consulta",
         "1025",
         "0.84",
         "0.16"
        ],
        [
         "1",
         "2018-01-02 00:00:00",
         "Carla Rosas Ávalos",
         "Ismael López Saldaña",
         "Hematología",
         "Consulta",
         "1025",
         "0.83",
         "0.11"
        ],
        [
         "2",
         "2018-01-03 00:00:00",
         "Natanael Lazcano Aguilar",
         "Félix Llanos Macías",
         "Cardiología ",
         "Consulta",
         "1075",
         "0.78",
         "0.12"
        ],
        [
         "3",
         "2018-01-04 00:00:00",
         "Judith Hinojosa Torres",
         "Ismael López Saldaña",
         "Hematología",
         "Consulta",
         "1075",
         "0.92",
         "0.17"
        ],
        [
         "4",
         "2018-01-07 00:00:00",
         "Giovanni Rudomín Arias",
         "Paulina Contreras Cuevas",
         "Gastroenterología.",
         "Consulta",
         "1125",
         "0.89",
         "0.12"
        ],
        [
         "5",
         "2018-01-07 00:00:00",
         "Liliana Velasco Viveros",
         "Félix Llanos Macías",
         "Cardiología ",
         "Consulta",
         "1075",
         "0.96",
         "0.14"
        ],
        [
         "6",
         "2018-01-07 00:00:00",
         "Claridad Negrete Blanchet",
         "Ismael López Saldaña",
         "Hematología",
         "Consulta",
         "1225",
         "0.98",
         "0.1"
        ],
        [
         "7",
         "2018-01-07 00:00:00",
         "Máximo Milán Alva",
         "Ismael López Saldaña",
         "Hematología",
         "Consulta",
         "1275",
         "0.95",
         "0.06"
        ],
        [
         "8",
         "2018-01-08 00:00:00",
         "Yulisa Reyes Rodríguez",
         "Ismael López Saldaña",
         "Hematología",
         "Consulta",
         "1275",
         "0.9",
         "0.12"
        ],
        [
         "9",
         "2018-01-08 00:00:00",
         "Adán Iglesias Padilla",
         "Félix Llanos Macías",
         "Cardiología ",
         "Consulta",
         "1075",
         "0.77",
         "0.08"
        ],
        [
         "10",
         "2018-01-08 00:00:00",
         "Ramón Villalpando Hijar",
         "Paulina Contreras Cuevas",
         "Gastroenterología.",
         "Consulta",
         "1075",
         "0.96",
         "0.05"
        ],
        [
         "11",
         "2018-01-08 00:00:00",
         "Camilo Reyes Verduzco",
         "Paulina Contreras Cuevas",
         "Gastroenterología.",
         "Consulta",
         "1075",
         "0.76",
         "0.14"
        ],
        [
         "12",
         "2018-01-09 00:00:00",
         "Edison Viveros Ríos",
         "Paulina Contreras Cuevas",
         "Gastroenterología.",
         "Consulta",
         "1125",
         "0.73",
         "0.06"
        ],
        [
         "13",
         "2018-01-10 00:00:00",
         "Renzo Rosas Velásquez",
         "Paulina Contreras Cuevas",
         "Gastroenterología.",
         "Consulta",
         "1125",
         "0.85",
         "0.06"
        ],
        [
         "14",
         "2018-01-11 00:00:00",
         "Jorge Sarti Urbina",
         "Paulina Contreras Cuevas",
         "Gastroenterología.",
         "Consulta",
         "1075",
         "0.73",
         "0.13"
        ],
        [
         "15",
         "2018-01-13 00:00:00",
         "Roberto Mora Favela",
         "Ismael López Saldaña",
         "Hematología",
         "Consulta",
         "1225",
         "0.95",
         "0.18"
        ],
        [
         "16",
         "2018-01-13 00:00:00",
         "Víctor Urrutia Valencia",
         "Ismael López Saldaña",
         "Hematología",
         "Consulta",
         "1125",
         "0.84",
         "0.09"
        ],
        [
         "17",
         "2018-01-15 00:00:00",
         "Paola Cordero Valenzuela",
         "Ismael López Saldaña",
         "Hematología",
         "Consulta",
         "1275",
         "0.96",
         "0.17"
        ],
        [
         "18",
         "2018-01-18 00:00:00",
         "Jaqueline Baeza Soda",
         "Félix Llanos Macías",
         "Cardiología ",
         "Consulta",
         "1075",
         "0.78",
         "0.2"
        ],
        [
         "19",
         "2018-01-18 00:00:00",
         "Federico Sandoval Alva",
         "Paulina Contreras Cuevas",
         "Gastroenterología.",
         "Consulta",
         "1225",
         "0.76",
         "0.18"
        ],
        [
         "20",
         "2018-01-20 00:00:00",
         "Eva Llorente Mayo",
         "Paulina Contreras Cuevas",
         "Gastroenterología.",
         "Consulta",
         "1075",
         "0.8",
         "0.17"
        ],
        [
         "21",
         "2018-01-21 00:00:00",
         "Yeison Vega Ángeles",
         "Ismael López Saldaña",
         "Hematología",
         "Consulta",
         "1075",
         "0.85",
         "0.08"
        ],
        [
         "22",
         "2018-01-21 00:00:00",
         "Felipe Morales Hijar",
         "Ismael López Saldaña",
         "Hematología",
         "Consulta",
         "1125",
         "0.93",
         "0.12"
        ],
        [
         "23",
         "2018-01-21 00:00:00",
         "Esteban Alonso Flores",
         "Ismael López Saldaña",
         "Hematología",
         "Consulta",
         "1125",
         "0.96",
         "0.11"
        ],
        [
         "24",
         "2018-01-23 00:00:00",
         "Rubén Campos Lacy",
         "Paulina Contreras Cuevas",
         "Gastroenterología.",
         "Consulta",
         "1025",
         "0.82",
         "0.17"
        ],
        [
         "25",
         "2018-01-23 00:00:00",
         "Klever Ponce Robles",
         "Félix Llanos Macías",
         "Cardiología ",
         "Consulta",
         "1125",
         "0.7",
         "0.12"
        ],
        [
         "26",
         "2018-01-23 00:00:00",
         "Viviana Barquera Sifuentes",
         "Ismael López Saldaña",
         "Hematología",
         "Consulta",
         "1175",
         "0.89",
         "0.14"
        ],
        [
         "27",
         "2018-01-25 00:00:00",
         "Cristóbal Verduzco Llamas",
         "Ismael López Saldaña",
         "Hematología",
         "Consulta",
         "1025",
         "0.76",
         "0.14"
        ],
        [
         "28",
         "2018-01-26 00:00:00",
         "Paulina Meneses Ángeles",
         "Paulina Contreras Cuevas",
         "Gastroenterología.",
         "Consulta",
         "1125",
         "0.9",
         "0.19"
        ],
        [
         "29",
         "2018-01-26 00:00:00",
         "Rommel Tapia Barajas",
         "Ismael López Saldaña",
         "Hematología",
         "Consulta",
         "1025",
         "0.83",
         "0.08"
        ],
        [
         "30",
         "2018-01-27 00:00:00",
         "Rafael Alcocer Cruz",
         "Félix Llanos Macías",
         "Cardiología ",
         "Consulta",
         "1125",
         "0.7",
         "0.14"
        ],
        [
         "31",
         "2018-01-27 00:00:00",
         "Gregorio Saucedo Alfaro",
         "Paulina Contreras Cuevas",
         "Gastroenterología.",
         "Consulta",
         "1275",
         "0.83",
         "0.07"
        ],
        [
         "32",
         "2018-01-27 00:00:00",
         "Sebastian Bedolla Flores",
         "Félix Llanos Macías",
         "Cardiología ",
         "Consulta",
         "1175",
         "0.76",
         "0.15"
        ],
        [
         "33",
         "2018-01-28 00:00:00",
         "Berta Arenas Mancilla",
         "Paulina Contreras Cuevas",
         "Gastroenterología.",
         "Consulta",
         "1075",
         "0.81",
         "0.09"
        ],
        [
         "34",
         "2018-01-29 00:00:00",
         "Deymar Lima Pizano",
         "Paulina Contreras Cuevas",
         "Gastroenterología.",
         "Consulta",
         "1175",
         "0.93",
         "0.06"
        ],
        [
         "35",
         "2018-01-29 00:00:00",
         "Benjamin Fuentes Ramón",
         "Paulina Contreras Cuevas",
         "Gastroenterología.",
         "Consulta",
         "1175",
         "0.93",
         "0.16"
        ],
        [
         "36",
         "2018-01-31 00:00:00",
         "Hans Vargas Lupi",
         "Paulina Contreras Cuevas",
         "Gastroenterología.",
         "Consulta",
         "1275",
         "0.96",
         "0.06"
        ],
        [
         "37",
         "2018-01-31 00:00:00",
         "Victoria Solórzano Rosado",
         "Félix Llanos Macías",
         "Cardiología ",
         "Consulta",
         "1025",
         "0.98",
         "0.18"
        ],
        [
         "38",
         "2018-02-01 00:00:00",
         "Adam Almeda Arias",
         "Félix Llanos Macías",
         "Cardiología ",
         "Consulta",
         "1175",
         "0.96",
         "0.06"
        ],
        [
         "39",
         "2018-02-01 00:00:00",
         "Jessica Nava Escalante",
         "Ismael López Saldaña",
         "Hematología",
         "Consulta",
         "1025",
         "0.97",
         "0.19"
        ],
        [
         "40",
         "2018-02-01 00:00:00",
         "Diego Cordero Salinas",
         "Paulina Contreras Cuevas",
         "Gastroenterología.",
         "Consulta",
         "1025",
         "0.72",
         "0.1"
        ],
        [
         "41",
         "2018-02-01 00:00:00",
         "Cristina Pulido Posadas",
         "Ismael López Saldaña",
         "Hematología",
         "Consulta",
         "1225",
         "0.73",
         "0.12"
        ],
        [
         "42",
         "2018-02-01 00:00:00",
         "Gleidin Baptista Llorente",
         "Ismael López Saldaña",
         "Hematología",
         "Consulta",
         "1275",
         "0.82",
         "0.18"
        ],
        [
         "43",
         "2018-02-01 00:00:00",
         "Yaneth Fauser Núñez",
         "Ismael López Saldaña",
         "Hematología",
         "Consulta",
         "1175",
         "0.9",
         "0.12"
        ],
        [
         "44",
         "2018-02-04 00:00:00",
         "Rogelio Velasco Parra",
         "Paulina Contreras Cuevas",
         "Gastroenterología.",
         "Consulta",
         "1175",
         "0.92",
         "0.05"
        ],
        [
         "45",
         "2018-02-04 00:00:00",
         "Bastian Mora Hijar",
         "Paulina Contreras Cuevas",
         "Gastroenterología.",
         "Consulta",
         "1225",
         "0.81",
         "0.18"
        ],
        [
         "46",
         "2018-02-04 00:00:00",
         "Casandra Velásquez Pedrón",
         "Paulina Contreras Cuevas",
         "Gastroenterología.",
         "Consulta",
         "1175",
         "0.83",
         "0.05"
        ],
        [
         "47",
         "2018-02-04 00:00:00",
         "Hans Mancilla Tapia",
         "Arnoldo Ondarza Hernán",
         "Ginegología",
         "Consulta",
         "1025",
         "0.93",
         "0.14"
        ],
        [
         "48",
         "2018-02-04 00:00:00",
         "Elena Valdovinos Orozco",
         "Félix Llanos Macías",
         "Cardiología ",
         "Consulta",
         "1275",
         "0.74",
         "0.16"
        ],
        [
         "49",
         "2018-02-04 00:00:00",
         "Henry Gonzáles  Llorente",
         "Paulina Contreras Cuevas",
         "Gastroenterología.",
         "Consulta",
         "1125",
         "0.9",
         "0.19"
        ]
       ],
       "shape": {
        "columns": 8,
        "rows": 3600
       }
      },
      "text/html": [
       "<div>\n",
       "<style scoped>\n",
       "    .dataframe tbody tr th:only-of-type {\n",
       "        vertical-align: middle;\n",
       "    }\n",
       "\n",
       "    .dataframe tbody tr th {\n",
       "        vertical-align: top;\n",
       "    }\n",
       "\n",
       "    .dataframe thead th {\n",
       "        text-align: right;\n",
       "    }\n",
       "</style>\n",
       "<table border=\"1\" class=\"dataframe\">\n",
       "  <thead>\n",
       "    <tr style=\"text-align: right;\">\n",
       "      <th></th>\n",
       "      <th>Fecha</th>\n",
       "      <th>Nombre</th>\n",
       "      <th>Doctor</th>\n",
       "      <th>Especialidad</th>\n",
       "      <th>Tipo</th>\n",
       "      <th>Honorarios</th>\n",
       "      <th>Calificación</th>\n",
       "      <th>Comisión</th>\n",
       "    </tr>\n",
       "  </thead>\n",
       "  <tbody>\n",
       "    <tr>\n",
       "      <th>0</th>\n",
       "      <td>2018-01-01</td>\n",
       "      <td>Bastian Hurtado Cabrero</td>\n",
       "      <td>Simón Castro Infante</td>\n",
       "      <td>Hematología</td>\n",
       "      <td>Consulta</td>\n",
       "      <td>1025</td>\n",
       "      <td>0.84</td>\n",
       "      <td>0.16</td>\n",
       "    </tr>\n",
       "    <tr>\n",
       "      <th>1</th>\n",
       "      <td>2018-01-02</td>\n",
       "      <td>Carla Rosas Ávalos</td>\n",
       "      <td>Ismael López Saldaña</td>\n",
       "      <td>Hematología</td>\n",
       "      <td>Consulta</td>\n",
       "      <td>1025</td>\n",
       "      <td>0.83</td>\n",
       "      <td>0.11</td>\n",
       "    </tr>\n",
       "    <tr>\n",
       "      <th>2</th>\n",
       "      <td>2018-01-03</td>\n",
       "      <td>Natanael Lazcano Aguilar</td>\n",
       "      <td>Félix Llanos Macías</td>\n",
       "      <td>Cardiología</td>\n",
       "      <td>Consulta</td>\n",
       "      <td>1075</td>\n",
       "      <td>0.78</td>\n",
       "      <td>0.12</td>\n",
       "    </tr>\n",
       "    <tr>\n",
       "      <th>3</th>\n",
       "      <td>2018-01-04</td>\n",
       "      <td>Judith Hinojosa Torres</td>\n",
       "      <td>Ismael López Saldaña</td>\n",
       "      <td>Hematología</td>\n",
       "      <td>Consulta</td>\n",
       "      <td>1075</td>\n",
       "      <td>0.92</td>\n",
       "      <td>0.17</td>\n",
       "    </tr>\n",
       "    <tr>\n",
       "      <th>4</th>\n",
       "      <td>2018-01-07</td>\n",
       "      <td>Giovanni Rudomín Arias</td>\n",
       "      <td>Paulina Contreras Cuevas</td>\n",
       "      <td>Gastroenterología.</td>\n",
       "      <td>Consulta</td>\n",
       "      <td>1125</td>\n",
       "      <td>0.89</td>\n",
       "      <td>0.12</td>\n",
       "    </tr>\n",
       "    <tr>\n",
       "      <th>...</th>\n",
       "      <td>...</td>\n",
       "      <td>...</td>\n",
       "      <td>...</td>\n",
       "      <td>...</td>\n",
       "      <td>...</td>\n",
       "      <td>...</td>\n",
       "      <td>...</td>\n",
       "      <td>...</td>\n",
       "    </tr>\n",
       "    <tr>\n",
       "      <th>3595</th>\n",
       "      <td>2021-12-16</td>\n",
       "      <td>Jaqueline Burgos Meneses</td>\n",
       "      <td>Nestor Núñez Basurto</td>\n",
       "      <td>Hematología</td>\n",
       "      <td>Operación</td>\n",
       "      <td>39500</td>\n",
       "      <td>0.89</td>\n",
       "      <td>0.16</td>\n",
       "    </tr>\n",
       "    <tr>\n",
       "      <th>3596</th>\n",
       "      <td>2021-12-25</td>\n",
       "      <td>Andrea  Larrea Borundo</td>\n",
       "      <td>Simón Castro Infante</td>\n",
       "      <td>Cirugía Pediátrica.</td>\n",
       "      <td>Operación</td>\n",
       "      <td>18000</td>\n",
       "      <td>0.80</td>\n",
       "      <td>0.06</td>\n",
       "    </tr>\n",
       "    <tr>\n",
       "      <th>3597</th>\n",
       "      <td>2021-12-26</td>\n",
       "      <td>Valentina Morales Márquez</td>\n",
       "      <td>Alfonso Soda Neri</td>\n",
       "      <td>Cirugía Plástica</td>\n",
       "      <td>Operación</td>\n",
       "      <td>38500</td>\n",
       "      <td>0.62</td>\n",
       "      <td>0.20</td>\n",
       "    </tr>\n",
       "    <tr>\n",
       "      <th>3598</th>\n",
       "      <td>2021-12-26</td>\n",
       "      <td>Casandra Saturno Vázquez</td>\n",
       "      <td>Arnoldo Ondarza Hernán</td>\n",
       "      <td>Ginegología</td>\n",
       "      <td>Operación</td>\n",
       "      <td>46500</td>\n",
       "      <td>0.83</td>\n",
       "      <td>0.19</td>\n",
       "    </tr>\n",
       "    <tr>\n",
       "      <th>3599</th>\n",
       "      <td>2021-12-28</td>\n",
       "      <td>Gleidin Urbina Iglesias</td>\n",
       "      <td>Nestor Núñez Basurto</td>\n",
       "      <td>Hematología</td>\n",
       "      <td>Operación</td>\n",
       "      <td>41000</td>\n",
       "      <td>0.75</td>\n",
       "      <td>0.05</td>\n",
       "    </tr>\n",
       "  </tbody>\n",
       "</table>\n",
       "<p>3600 rows × 8 columns</p>\n",
       "</div>"
      ],
      "text/plain": [
       "          Fecha                     Nombre                    Doctor  \\\n",
       "0    2018-01-01    Bastian Hurtado Cabrero      Simón Castro Infante   \n",
       "1    2018-01-02         Carla Rosas Ávalos      Ismael López Saldaña   \n",
       "2    2018-01-03   Natanael Lazcano Aguilar       Félix Llanos Macías   \n",
       "3    2018-01-04     Judith Hinojosa Torres      Ismael López Saldaña   \n",
       "4    2018-01-07     Giovanni Rudomín Arias  Paulina Contreras Cuevas   \n",
       "...         ...                        ...                       ...   \n",
       "3595 2021-12-16   Jaqueline Burgos Meneses      Nestor Núñez Basurto   \n",
       "3596 2021-12-25     Andrea  Larrea Borundo      Simón Castro Infante   \n",
       "3597 2021-12-26  Valentina Morales Márquez         Alfonso Soda Neri   \n",
       "3598 2021-12-26   Casandra Saturno Vázquez    Arnoldo Ondarza Hernán   \n",
       "3599 2021-12-28    Gleidin Urbina Iglesias      Nestor Núñez Basurto   \n",
       "\n",
       "             Especialidad       Tipo  Honorarios  Calificación  Comisión  \n",
       "0             Hematología   Consulta        1025          0.84      0.16  \n",
       "1             Hematología   Consulta        1025          0.83      0.11  \n",
       "2            Cardiología    Consulta        1075          0.78      0.12  \n",
       "3             Hematología   Consulta        1075          0.92      0.17  \n",
       "4      Gastroenterología.   Consulta        1125          0.89      0.12  \n",
       "...                   ...        ...         ...           ...       ...  \n",
       "3595          Hematología  Operación       39500          0.89      0.16  \n",
       "3596  Cirugía Pediátrica.  Operación       18000          0.80      0.06  \n",
       "3597     Cirugía Plástica  Operación       38500          0.62      0.20  \n",
       "3598          Ginegología  Operación       46500          0.83      0.19  \n",
       "3599          Hematología  Operación       41000          0.75      0.05  \n",
       "\n",
       "[3600 rows x 8 columns]"
      ]
     },
     "execution_count": 2,
     "metadata": {},
     "output_type": "execute_result"
    }
   ],
   "source": [
    "hospital = pd.read_excel(\"./hospital.xlsx\")\n",
    "hospital"
   ]
  },
  {
   "cell_type": "markdown",
   "id": "45f9ea9d-d1f9-4d40-9a5a-6555e8d0a01d",
   "metadata": {},
   "source": [
    "Agregar una columna llamada \"FechaMes\", que contenga el año y el mes de la columna fecha (Ej. 2010-03)"
   ]
  },
  {
   "cell_type": "markdown",
   "id": "0728b820-93f8-4f10-bf70-4578f10cd834",
   "metadata": {},
   "source": [
    "![Resuelto](./Img_24_Ejercicios/Act13Img1.png)"
   ]
  },
  {
   "cell_type": "code",
   "execution_count": 5,
   "id": "f7ede50b-59f4-4479-8c7a-a4f4f51708eb",
   "metadata": {},
   "outputs": [
    {
     "data": {
      "application/vnd.microsoft.datawrangler.viewer.v0+json": {
       "columns": [
        {
         "name": "index",
         "rawType": "int64",
         "type": "integer"
        },
        {
         "name": "Fecha",
         "rawType": "datetime64[ns]",
         "type": "datetime"
        },
        {
         "name": "Nombre",
         "rawType": "object",
         "type": "string"
        },
        {
         "name": "Doctor",
         "rawType": "object",
         "type": "string"
        },
        {
         "name": "Especialidad",
         "rawType": "object",
         "type": "string"
        },
        {
         "name": "Tipo",
         "rawType": "object",
         "type": "string"
        },
        {
         "name": "Honorarios",
         "rawType": "int64",
         "type": "integer"
        },
        {
         "name": "Calificación",
         "rawType": "float64",
         "type": "float"
        },
        {
         "name": "Comisión",
         "rawType": "float64",
         "type": "float"
        },
        {
         "name": "FechaMes",
         "rawType": "object",
         "type": "string"
        }
       ],
       "ref": "51d7ddf2-7d76-4c36-abcf-63fbae650d60",
       "rows": [
        [
         "0",
         "2018-01-01 00:00:00",
         "Bastian Hurtado Cabrero",
         "Simón Castro Infante",
         "Hematología",
         "Consulta",
         "1025",
         "0.84",
         "0.16",
         "2018-01"
        ],
        [
         "1",
         "2018-01-02 00:00:00",
         "Carla Rosas Ávalos",
         "Ismael López Saldaña",
         "Hematología",
         "Consulta",
         "1025",
         "0.83",
         "0.11",
         "2018-01"
        ],
        [
         "2",
         "2018-01-03 00:00:00",
         "Natanael Lazcano Aguilar",
         "Félix Llanos Macías",
         "Cardiología ",
         "Consulta",
         "1075",
         "0.78",
         "0.12",
         "2018-01"
        ],
        [
         "3",
         "2018-01-04 00:00:00",
         "Judith Hinojosa Torres",
         "Ismael López Saldaña",
         "Hematología",
         "Consulta",
         "1075",
         "0.92",
         "0.17",
         "2018-01"
        ],
        [
         "4",
         "2018-01-07 00:00:00",
         "Giovanni Rudomín Arias",
         "Paulina Contreras Cuevas",
         "Gastroenterología.",
         "Consulta",
         "1125",
         "0.89",
         "0.12",
         "2018-01"
        ],
        [
         "5",
         "2018-01-07 00:00:00",
         "Liliana Velasco Viveros",
         "Félix Llanos Macías",
         "Cardiología ",
         "Consulta",
         "1075",
         "0.96",
         "0.14",
         "2018-01"
        ],
        [
         "6",
         "2018-01-07 00:00:00",
         "Claridad Negrete Blanchet",
         "Ismael López Saldaña",
         "Hematología",
         "Consulta",
         "1225",
         "0.98",
         "0.1",
         "2018-01"
        ],
        [
         "7",
         "2018-01-07 00:00:00",
         "Máximo Milán Alva",
         "Ismael López Saldaña",
         "Hematología",
         "Consulta",
         "1275",
         "0.95",
         "0.06",
         "2018-01"
        ],
        [
         "8",
         "2018-01-08 00:00:00",
         "Yulisa Reyes Rodríguez",
         "Ismael López Saldaña",
         "Hematología",
         "Consulta",
         "1275",
         "0.9",
         "0.12",
         "2018-01"
        ],
        [
         "9",
         "2018-01-08 00:00:00",
         "Adán Iglesias Padilla",
         "Félix Llanos Macías",
         "Cardiología ",
         "Consulta",
         "1075",
         "0.77",
         "0.08",
         "2018-01"
        ],
        [
         "10",
         "2018-01-08 00:00:00",
         "Ramón Villalpando Hijar",
         "Paulina Contreras Cuevas",
         "Gastroenterología.",
         "Consulta",
         "1075",
         "0.96",
         "0.05",
         "2018-01"
        ],
        [
         "11",
         "2018-01-08 00:00:00",
         "Camilo Reyes Verduzco",
         "Paulina Contreras Cuevas",
         "Gastroenterología.",
         "Consulta",
         "1075",
         "0.76",
         "0.14",
         "2018-01"
        ],
        [
         "12",
         "2018-01-09 00:00:00",
         "Edison Viveros Ríos",
         "Paulina Contreras Cuevas",
         "Gastroenterología.",
         "Consulta",
         "1125",
         "0.73",
         "0.06",
         "2018-01"
        ],
        [
         "13",
         "2018-01-10 00:00:00",
         "Renzo Rosas Velásquez",
         "Paulina Contreras Cuevas",
         "Gastroenterología.",
         "Consulta",
         "1125",
         "0.85",
         "0.06",
         "2018-01"
        ],
        [
         "14",
         "2018-01-11 00:00:00",
         "Jorge Sarti Urbina",
         "Paulina Contreras Cuevas",
         "Gastroenterología.",
         "Consulta",
         "1075",
         "0.73",
         "0.13",
         "2018-01"
        ],
        [
         "15",
         "2018-01-13 00:00:00",
         "Roberto Mora Favela",
         "Ismael López Saldaña",
         "Hematología",
         "Consulta",
         "1225",
         "0.95",
         "0.18",
         "2018-01"
        ],
        [
         "16",
         "2018-01-13 00:00:00",
         "Víctor Urrutia Valencia",
         "Ismael López Saldaña",
         "Hematología",
         "Consulta",
         "1125",
         "0.84",
         "0.09",
         "2018-01"
        ],
        [
         "17",
         "2018-01-15 00:00:00",
         "Paola Cordero Valenzuela",
         "Ismael López Saldaña",
         "Hematología",
         "Consulta",
         "1275",
         "0.96",
         "0.17",
         "2018-01"
        ],
        [
         "18",
         "2018-01-18 00:00:00",
         "Jaqueline Baeza Soda",
         "Félix Llanos Macías",
         "Cardiología ",
         "Consulta",
         "1075",
         "0.78",
         "0.2",
         "2018-01"
        ],
        [
         "19",
         "2018-01-18 00:00:00",
         "Federico Sandoval Alva",
         "Paulina Contreras Cuevas",
         "Gastroenterología.",
         "Consulta",
         "1225",
         "0.76",
         "0.18",
         "2018-01"
        ],
        [
         "20",
         "2018-01-20 00:00:00",
         "Eva Llorente Mayo",
         "Paulina Contreras Cuevas",
         "Gastroenterología.",
         "Consulta",
         "1075",
         "0.8",
         "0.17",
         "2018-01"
        ],
        [
         "21",
         "2018-01-21 00:00:00",
         "Yeison Vega Ángeles",
         "Ismael López Saldaña",
         "Hematología",
         "Consulta",
         "1075",
         "0.85",
         "0.08",
         "2018-01"
        ],
        [
         "22",
         "2018-01-21 00:00:00",
         "Felipe Morales Hijar",
         "Ismael López Saldaña",
         "Hematología",
         "Consulta",
         "1125",
         "0.93",
         "0.12",
         "2018-01"
        ],
        [
         "23",
         "2018-01-21 00:00:00",
         "Esteban Alonso Flores",
         "Ismael López Saldaña",
         "Hematología",
         "Consulta",
         "1125",
         "0.96",
         "0.11",
         "2018-01"
        ],
        [
         "24",
         "2018-01-23 00:00:00",
         "Rubén Campos Lacy",
         "Paulina Contreras Cuevas",
         "Gastroenterología.",
         "Consulta",
         "1025",
         "0.82",
         "0.17",
         "2018-01"
        ],
        [
         "25",
         "2018-01-23 00:00:00",
         "Klever Ponce Robles",
         "Félix Llanos Macías",
         "Cardiología ",
         "Consulta",
         "1125",
         "0.7",
         "0.12",
         "2018-01"
        ],
        [
         "26",
         "2018-01-23 00:00:00",
         "Viviana Barquera Sifuentes",
         "Ismael López Saldaña",
         "Hematología",
         "Consulta",
         "1175",
         "0.89",
         "0.14",
         "2018-01"
        ],
        [
         "27",
         "2018-01-25 00:00:00",
         "Cristóbal Verduzco Llamas",
         "Ismael López Saldaña",
         "Hematología",
         "Consulta",
         "1025",
         "0.76",
         "0.14",
         "2018-01"
        ],
        [
         "28",
         "2018-01-26 00:00:00",
         "Paulina Meneses Ángeles",
         "Paulina Contreras Cuevas",
         "Gastroenterología.",
         "Consulta",
         "1125",
         "0.9",
         "0.19",
         "2018-01"
        ],
        [
         "29",
         "2018-01-26 00:00:00",
         "Rommel Tapia Barajas",
         "Ismael López Saldaña",
         "Hematología",
         "Consulta",
         "1025",
         "0.83",
         "0.08",
         "2018-01"
        ],
        [
         "30",
         "2018-01-27 00:00:00",
         "Rafael Alcocer Cruz",
         "Félix Llanos Macías",
         "Cardiología ",
         "Consulta",
         "1125",
         "0.7",
         "0.14",
         "2018-01"
        ],
        [
         "31",
         "2018-01-27 00:00:00",
         "Gregorio Saucedo Alfaro",
         "Paulina Contreras Cuevas",
         "Gastroenterología.",
         "Consulta",
         "1275",
         "0.83",
         "0.07",
         "2018-01"
        ],
        [
         "32",
         "2018-01-27 00:00:00",
         "Sebastian Bedolla Flores",
         "Félix Llanos Macías",
         "Cardiología ",
         "Consulta",
         "1175",
         "0.76",
         "0.15",
         "2018-01"
        ],
        [
         "33",
         "2018-01-28 00:00:00",
         "Berta Arenas Mancilla",
         "Paulina Contreras Cuevas",
         "Gastroenterología.",
         "Consulta",
         "1075",
         "0.81",
         "0.09",
         "2018-01"
        ],
        [
         "34",
         "2018-01-29 00:00:00",
         "Deymar Lima Pizano",
         "Paulina Contreras Cuevas",
         "Gastroenterología.",
         "Consulta",
         "1175",
         "0.93",
         "0.06",
         "2018-01"
        ],
        [
         "35",
         "2018-01-29 00:00:00",
         "Benjamin Fuentes Ramón",
         "Paulina Contreras Cuevas",
         "Gastroenterología.",
         "Consulta",
         "1175",
         "0.93",
         "0.16",
         "2018-01"
        ],
        [
         "36",
         "2018-01-31 00:00:00",
         "Hans Vargas Lupi",
         "Paulina Contreras Cuevas",
         "Gastroenterología.",
         "Consulta",
         "1275",
         "0.96",
         "0.06",
         "2018-01"
        ],
        [
         "37",
         "2018-01-31 00:00:00",
         "Victoria Solórzano Rosado",
         "Félix Llanos Macías",
         "Cardiología ",
         "Consulta",
         "1025",
         "0.98",
         "0.18",
         "2018-01"
        ],
        [
         "38",
         "2018-02-01 00:00:00",
         "Adam Almeda Arias",
         "Félix Llanos Macías",
         "Cardiología ",
         "Consulta",
         "1175",
         "0.96",
         "0.06",
         "2018-02"
        ],
        [
         "39",
         "2018-02-01 00:00:00",
         "Jessica Nava Escalante",
         "Ismael López Saldaña",
         "Hematología",
         "Consulta",
         "1025",
         "0.97",
         "0.19",
         "2018-02"
        ],
        [
         "40",
         "2018-02-01 00:00:00",
         "Diego Cordero Salinas",
         "Paulina Contreras Cuevas",
         "Gastroenterología.",
         "Consulta",
         "1025",
         "0.72",
         "0.1",
         "2018-02"
        ],
        [
         "41",
         "2018-02-01 00:00:00",
         "Cristina Pulido Posadas",
         "Ismael López Saldaña",
         "Hematología",
         "Consulta",
         "1225",
         "0.73",
         "0.12",
         "2018-02"
        ],
        [
         "42",
         "2018-02-01 00:00:00",
         "Gleidin Baptista Llorente",
         "Ismael López Saldaña",
         "Hematología",
         "Consulta",
         "1275",
         "0.82",
         "0.18",
         "2018-02"
        ],
        [
         "43",
         "2018-02-01 00:00:00",
         "Yaneth Fauser Núñez",
         "Ismael López Saldaña",
         "Hematología",
         "Consulta",
         "1175",
         "0.9",
         "0.12",
         "2018-02"
        ],
        [
         "44",
         "2018-02-04 00:00:00",
         "Rogelio Velasco Parra",
         "Paulina Contreras Cuevas",
         "Gastroenterología.",
         "Consulta",
         "1175",
         "0.92",
         "0.05",
         "2018-02"
        ],
        [
         "45",
         "2018-02-04 00:00:00",
         "Bastian Mora Hijar",
         "Paulina Contreras Cuevas",
         "Gastroenterología.",
         "Consulta",
         "1225",
         "0.81",
         "0.18",
         "2018-02"
        ],
        [
         "46",
         "2018-02-04 00:00:00",
         "Casandra Velásquez Pedrón",
         "Paulina Contreras Cuevas",
         "Gastroenterología.",
         "Consulta",
         "1175",
         "0.83",
         "0.05",
         "2018-02"
        ],
        [
         "47",
         "2018-02-04 00:00:00",
         "Hans Mancilla Tapia",
         "Arnoldo Ondarza Hernán",
         "Ginegología",
         "Consulta",
         "1025",
         "0.93",
         "0.14",
         "2018-02"
        ],
        [
         "48",
         "2018-02-04 00:00:00",
         "Elena Valdovinos Orozco",
         "Félix Llanos Macías",
         "Cardiología ",
         "Consulta",
         "1275",
         "0.74",
         "0.16",
         "2018-02"
        ],
        [
         "49",
         "2018-02-04 00:00:00",
         "Henry Gonzáles  Llorente",
         "Paulina Contreras Cuevas",
         "Gastroenterología.",
         "Consulta",
         "1125",
         "0.9",
         "0.19",
         "2018-02"
        ]
       ],
       "shape": {
        "columns": 9,
        "rows": 3600
       }
      },
      "text/html": [
       "<div>\n",
       "<style scoped>\n",
       "    .dataframe tbody tr th:only-of-type {\n",
       "        vertical-align: middle;\n",
       "    }\n",
       "\n",
       "    .dataframe tbody tr th {\n",
       "        vertical-align: top;\n",
       "    }\n",
       "\n",
       "    .dataframe thead th {\n",
       "        text-align: right;\n",
       "    }\n",
       "</style>\n",
       "<table border=\"1\" class=\"dataframe\">\n",
       "  <thead>\n",
       "    <tr style=\"text-align: right;\">\n",
       "      <th></th>\n",
       "      <th>Fecha</th>\n",
       "      <th>Nombre</th>\n",
       "      <th>Doctor</th>\n",
       "      <th>Especialidad</th>\n",
       "      <th>Tipo</th>\n",
       "      <th>Honorarios</th>\n",
       "      <th>Calificación</th>\n",
       "      <th>Comisión</th>\n",
       "      <th>FechaMes</th>\n",
       "    </tr>\n",
       "  </thead>\n",
       "  <tbody>\n",
       "    <tr>\n",
       "      <th>0</th>\n",
       "      <td>2018-01-01</td>\n",
       "      <td>Bastian Hurtado Cabrero</td>\n",
       "      <td>Simón Castro Infante</td>\n",
       "      <td>Hematología</td>\n",
       "      <td>Consulta</td>\n",
       "      <td>1025</td>\n",
       "      <td>0.84</td>\n",
       "      <td>0.16</td>\n",
       "      <td>2018-01</td>\n",
       "    </tr>\n",
       "    <tr>\n",
       "      <th>1</th>\n",
       "      <td>2018-01-02</td>\n",
       "      <td>Carla Rosas Ávalos</td>\n",
       "      <td>Ismael López Saldaña</td>\n",
       "      <td>Hematología</td>\n",
       "      <td>Consulta</td>\n",
       "      <td>1025</td>\n",
       "      <td>0.83</td>\n",
       "      <td>0.11</td>\n",
       "      <td>2018-01</td>\n",
       "    </tr>\n",
       "    <tr>\n",
       "      <th>2</th>\n",
       "      <td>2018-01-03</td>\n",
       "      <td>Natanael Lazcano Aguilar</td>\n",
       "      <td>Félix Llanos Macías</td>\n",
       "      <td>Cardiología</td>\n",
       "      <td>Consulta</td>\n",
       "      <td>1075</td>\n",
       "      <td>0.78</td>\n",
       "      <td>0.12</td>\n",
       "      <td>2018-01</td>\n",
       "    </tr>\n",
       "    <tr>\n",
       "      <th>3</th>\n",
       "      <td>2018-01-04</td>\n",
       "      <td>Judith Hinojosa Torres</td>\n",
       "      <td>Ismael López Saldaña</td>\n",
       "      <td>Hematología</td>\n",
       "      <td>Consulta</td>\n",
       "      <td>1075</td>\n",
       "      <td>0.92</td>\n",
       "      <td>0.17</td>\n",
       "      <td>2018-01</td>\n",
       "    </tr>\n",
       "    <tr>\n",
       "      <th>4</th>\n",
       "      <td>2018-01-07</td>\n",
       "      <td>Giovanni Rudomín Arias</td>\n",
       "      <td>Paulina Contreras Cuevas</td>\n",
       "      <td>Gastroenterología.</td>\n",
       "      <td>Consulta</td>\n",
       "      <td>1125</td>\n",
       "      <td>0.89</td>\n",
       "      <td>0.12</td>\n",
       "      <td>2018-01</td>\n",
       "    </tr>\n",
       "    <tr>\n",
       "      <th>...</th>\n",
       "      <td>...</td>\n",
       "      <td>...</td>\n",
       "      <td>...</td>\n",
       "      <td>...</td>\n",
       "      <td>...</td>\n",
       "      <td>...</td>\n",
       "      <td>...</td>\n",
       "      <td>...</td>\n",
       "      <td>...</td>\n",
       "    </tr>\n",
       "    <tr>\n",
       "      <th>3595</th>\n",
       "      <td>2021-12-16</td>\n",
       "      <td>Jaqueline Burgos Meneses</td>\n",
       "      <td>Nestor Núñez Basurto</td>\n",
       "      <td>Hematología</td>\n",
       "      <td>Operación</td>\n",
       "      <td>39500</td>\n",
       "      <td>0.89</td>\n",
       "      <td>0.16</td>\n",
       "      <td>2021-12</td>\n",
       "    </tr>\n",
       "    <tr>\n",
       "      <th>3596</th>\n",
       "      <td>2021-12-25</td>\n",
       "      <td>Andrea  Larrea Borundo</td>\n",
       "      <td>Simón Castro Infante</td>\n",
       "      <td>Cirugía Pediátrica.</td>\n",
       "      <td>Operación</td>\n",
       "      <td>18000</td>\n",
       "      <td>0.80</td>\n",
       "      <td>0.06</td>\n",
       "      <td>2021-12</td>\n",
       "    </tr>\n",
       "    <tr>\n",
       "      <th>3597</th>\n",
       "      <td>2021-12-26</td>\n",
       "      <td>Valentina Morales Márquez</td>\n",
       "      <td>Alfonso Soda Neri</td>\n",
       "      <td>Cirugía Plástica</td>\n",
       "      <td>Operación</td>\n",
       "      <td>38500</td>\n",
       "      <td>0.62</td>\n",
       "      <td>0.20</td>\n",
       "      <td>2021-12</td>\n",
       "    </tr>\n",
       "    <tr>\n",
       "      <th>3598</th>\n",
       "      <td>2021-12-26</td>\n",
       "      <td>Casandra Saturno Vázquez</td>\n",
       "      <td>Arnoldo Ondarza Hernán</td>\n",
       "      <td>Ginegología</td>\n",
       "      <td>Operación</td>\n",
       "      <td>46500</td>\n",
       "      <td>0.83</td>\n",
       "      <td>0.19</td>\n",
       "      <td>2021-12</td>\n",
       "    </tr>\n",
       "    <tr>\n",
       "      <th>3599</th>\n",
       "      <td>2021-12-28</td>\n",
       "      <td>Gleidin Urbina Iglesias</td>\n",
       "      <td>Nestor Núñez Basurto</td>\n",
       "      <td>Hematología</td>\n",
       "      <td>Operación</td>\n",
       "      <td>41000</td>\n",
       "      <td>0.75</td>\n",
       "      <td>0.05</td>\n",
       "      <td>2021-12</td>\n",
       "    </tr>\n",
       "  </tbody>\n",
       "</table>\n",
       "<p>3600 rows × 9 columns</p>\n",
       "</div>"
      ],
      "text/plain": [
       "          Fecha                     Nombre                    Doctor  \\\n",
       "0    2018-01-01    Bastian Hurtado Cabrero      Simón Castro Infante   \n",
       "1    2018-01-02         Carla Rosas Ávalos      Ismael López Saldaña   \n",
       "2    2018-01-03   Natanael Lazcano Aguilar       Félix Llanos Macías   \n",
       "3    2018-01-04     Judith Hinojosa Torres      Ismael López Saldaña   \n",
       "4    2018-01-07     Giovanni Rudomín Arias  Paulina Contreras Cuevas   \n",
       "...         ...                        ...                       ...   \n",
       "3595 2021-12-16   Jaqueline Burgos Meneses      Nestor Núñez Basurto   \n",
       "3596 2021-12-25     Andrea  Larrea Borundo      Simón Castro Infante   \n",
       "3597 2021-12-26  Valentina Morales Márquez         Alfonso Soda Neri   \n",
       "3598 2021-12-26   Casandra Saturno Vázquez    Arnoldo Ondarza Hernán   \n",
       "3599 2021-12-28    Gleidin Urbina Iglesias      Nestor Núñez Basurto   \n",
       "\n",
       "             Especialidad       Tipo  Honorarios  Calificación  Comisión  \\\n",
       "0             Hematología   Consulta        1025          0.84      0.16   \n",
       "1             Hematología   Consulta        1025          0.83      0.11   \n",
       "2            Cardiología    Consulta        1075          0.78      0.12   \n",
       "3             Hematología   Consulta        1075          0.92      0.17   \n",
       "4      Gastroenterología.   Consulta        1125          0.89      0.12   \n",
       "...                   ...        ...         ...           ...       ...   \n",
       "3595          Hematología  Operación       39500          0.89      0.16   \n",
       "3596  Cirugía Pediátrica.  Operación       18000          0.80      0.06   \n",
       "3597     Cirugía Plástica  Operación       38500          0.62      0.20   \n",
       "3598          Ginegología  Operación       46500          0.83      0.19   \n",
       "3599          Hematología  Operación       41000          0.75      0.05   \n",
       "\n",
       "     FechaMes  \n",
       "0     2018-01  \n",
       "1     2018-01  \n",
       "2     2018-01  \n",
       "3     2018-01  \n",
       "4     2018-01  \n",
       "...       ...  \n",
       "3595  2021-12  \n",
       "3596  2021-12  \n",
       "3597  2021-12  \n",
       "3598  2021-12  \n",
       "3599  2021-12  \n",
       "\n",
       "[3600 rows x 9 columns]"
      ]
     },
     "execution_count": 5,
     "metadata": {},
     "output_type": "execute_result"
    }
   ],
   "source": [
    "hospital[\"FechaMes\"] = hospital.Fecha.dt.strftime(\"%Y-%m\")\n",
    "hospital"
   ]
  },
  {
   "cell_type": "markdown",
   "id": "6cfd9782-b60f-470f-9b16-ec6729f5b4e3",
   "metadata": {},
   "source": [
    "Agregar una columna llamada \"Año\", que contenga el año y el mes de la columna fecha (Ej. 2010)"
   ]
  },
  {
   "cell_type": "markdown",
   "id": "38037923-a49b-44c2-933a-232144a8c641",
   "metadata": {},
   "source": [
    "![Resuelto](./Img_24_Ejercicios/Act13Img2.png)"
   ]
  },
  {
   "cell_type": "code",
   "execution_count": 9,
   "id": "4a40e24e-70fe-4567-a840-99e502313621",
   "metadata": {},
   "outputs": [
    {
     "data": {
      "application/vnd.microsoft.datawrangler.viewer.v0+json": {
       "columns": [
        {
         "name": "index",
         "rawType": "int64",
         "type": "integer"
        },
        {
         "name": "Fecha",
         "rawType": "datetime64[ns]",
         "type": "datetime"
        },
        {
         "name": "Nombre",
         "rawType": "object",
         "type": "string"
        },
        {
         "name": "Doctor",
         "rawType": "object",
         "type": "string"
        },
        {
         "name": "Especialidad",
         "rawType": "object",
         "type": "string"
        },
        {
         "name": "Tipo",
         "rawType": "object",
         "type": "string"
        },
        {
         "name": "Honorarios",
         "rawType": "int64",
         "type": "integer"
        },
        {
         "name": "Calificación",
         "rawType": "float64",
         "type": "float"
        },
        {
         "name": "Comisión",
         "rawType": "float64",
         "type": "float"
        },
        {
         "name": "FechaMes",
         "rawType": "object",
         "type": "string"
        },
        {
         "name": "Año",
         "rawType": "int32",
         "type": "integer"
        }
       ],
       "ref": "6993936b-5615-4a62-8476-a1a088571c20",
       "rows": [
        [
         "0",
         "2018-01-01 00:00:00",
         "Bastian Hurtado Cabrero",
         "Simón Castro Infante",
         "Hematología",
         "Consulta",
         "1025",
         "0.84",
         "0.16",
         "2018-01",
         "2018"
        ],
        [
         "1",
         "2018-01-02 00:00:00",
         "Carla Rosas Ávalos",
         "Ismael López Saldaña",
         "Hematología",
         "Consulta",
         "1025",
         "0.83",
         "0.11",
         "2018-01",
         "2018"
        ],
        [
         "2",
         "2018-01-03 00:00:00",
         "Natanael Lazcano Aguilar",
         "Félix Llanos Macías",
         "Cardiología ",
         "Consulta",
         "1075",
         "0.78",
         "0.12",
         "2018-01",
         "2018"
        ],
        [
         "3",
         "2018-01-04 00:00:00",
         "Judith Hinojosa Torres",
         "Ismael López Saldaña",
         "Hematología",
         "Consulta",
         "1075",
         "0.92",
         "0.17",
         "2018-01",
         "2018"
        ],
        [
         "4",
         "2018-01-07 00:00:00",
         "Giovanni Rudomín Arias",
         "Paulina Contreras Cuevas",
         "Gastroenterología.",
         "Consulta",
         "1125",
         "0.89",
         "0.12",
         "2018-01",
         "2018"
        ],
        [
         "5",
         "2018-01-07 00:00:00",
         "Liliana Velasco Viveros",
         "Félix Llanos Macías",
         "Cardiología ",
         "Consulta",
         "1075",
         "0.96",
         "0.14",
         "2018-01",
         "2018"
        ],
        [
         "6",
         "2018-01-07 00:00:00",
         "Claridad Negrete Blanchet",
         "Ismael López Saldaña",
         "Hematología",
         "Consulta",
         "1225",
         "0.98",
         "0.1",
         "2018-01",
         "2018"
        ],
        [
         "7",
         "2018-01-07 00:00:00",
         "Máximo Milán Alva",
         "Ismael López Saldaña",
         "Hematología",
         "Consulta",
         "1275",
         "0.95",
         "0.06",
         "2018-01",
         "2018"
        ],
        [
         "8",
         "2018-01-08 00:00:00",
         "Yulisa Reyes Rodríguez",
         "Ismael López Saldaña",
         "Hematología",
         "Consulta",
         "1275",
         "0.9",
         "0.12",
         "2018-01",
         "2018"
        ],
        [
         "9",
         "2018-01-08 00:00:00",
         "Adán Iglesias Padilla",
         "Félix Llanos Macías",
         "Cardiología ",
         "Consulta",
         "1075",
         "0.77",
         "0.08",
         "2018-01",
         "2018"
        ],
        [
         "10",
         "2018-01-08 00:00:00",
         "Ramón Villalpando Hijar",
         "Paulina Contreras Cuevas",
         "Gastroenterología.",
         "Consulta",
         "1075",
         "0.96",
         "0.05",
         "2018-01",
         "2018"
        ],
        [
         "11",
         "2018-01-08 00:00:00",
         "Camilo Reyes Verduzco",
         "Paulina Contreras Cuevas",
         "Gastroenterología.",
         "Consulta",
         "1075",
         "0.76",
         "0.14",
         "2018-01",
         "2018"
        ],
        [
         "12",
         "2018-01-09 00:00:00",
         "Edison Viveros Ríos",
         "Paulina Contreras Cuevas",
         "Gastroenterología.",
         "Consulta",
         "1125",
         "0.73",
         "0.06",
         "2018-01",
         "2018"
        ],
        [
         "13",
         "2018-01-10 00:00:00",
         "Renzo Rosas Velásquez",
         "Paulina Contreras Cuevas",
         "Gastroenterología.",
         "Consulta",
         "1125",
         "0.85",
         "0.06",
         "2018-01",
         "2018"
        ],
        [
         "14",
         "2018-01-11 00:00:00",
         "Jorge Sarti Urbina",
         "Paulina Contreras Cuevas",
         "Gastroenterología.",
         "Consulta",
         "1075",
         "0.73",
         "0.13",
         "2018-01",
         "2018"
        ],
        [
         "15",
         "2018-01-13 00:00:00",
         "Roberto Mora Favela",
         "Ismael López Saldaña",
         "Hematología",
         "Consulta",
         "1225",
         "0.95",
         "0.18",
         "2018-01",
         "2018"
        ],
        [
         "16",
         "2018-01-13 00:00:00",
         "Víctor Urrutia Valencia",
         "Ismael López Saldaña",
         "Hematología",
         "Consulta",
         "1125",
         "0.84",
         "0.09",
         "2018-01",
         "2018"
        ],
        [
         "17",
         "2018-01-15 00:00:00",
         "Paola Cordero Valenzuela",
         "Ismael López Saldaña",
         "Hematología",
         "Consulta",
         "1275",
         "0.96",
         "0.17",
         "2018-01",
         "2018"
        ],
        [
         "18",
         "2018-01-18 00:00:00",
         "Jaqueline Baeza Soda",
         "Félix Llanos Macías",
         "Cardiología ",
         "Consulta",
         "1075",
         "0.78",
         "0.2",
         "2018-01",
         "2018"
        ],
        [
         "19",
         "2018-01-18 00:00:00",
         "Federico Sandoval Alva",
         "Paulina Contreras Cuevas",
         "Gastroenterología.",
         "Consulta",
         "1225",
         "0.76",
         "0.18",
         "2018-01",
         "2018"
        ],
        [
         "20",
         "2018-01-20 00:00:00",
         "Eva Llorente Mayo",
         "Paulina Contreras Cuevas",
         "Gastroenterología.",
         "Consulta",
         "1075",
         "0.8",
         "0.17",
         "2018-01",
         "2018"
        ],
        [
         "21",
         "2018-01-21 00:00:00",
         "Yeison Vega Ángeles",
         "Ismael López Saldaña",
         "Hematología",
         "Consulta",
         "1075",
         "0.85",
         "0.08",
         "2018-01",
         "2018"
        ],
        [
         "22",
         "2018-01-21 00:00:00",
         "Felipe Morales Hijar",
         "Ismael López Saldaña",
         "Hematología",
         "Consulta",
         "1125",
         "0.93",
         "0.12",
         "2018-01",
         "2018"
        ],
        [
         "23",
         "2018-01-21 00:00:00",
         "Esteban Alonso Flores",
         "Ismael López Saldaña",
         "Hematología",
         "Consulta",
         "1125",
         "0.96",
         "0.11",
         "2018-01",
         "2018"
        ],
        [
         "24",
         "2018-01-23 00:00:00",
         "Rubén Campos Lacy",
         "Paulina Contreras Cuevas",
         "Gastroenterología.",
         "Consulta",
         "1025",
         "0.82",
         "0.17",
         "2018-01",
         "2018"
        ],
        [
         "25",
         "2018-01-23 00:00:00",
         "Klever Ponce Robles",
         "Félix Llanos Macías",
         "Cardiología ",
         "Consulta",
         "1125",
         "0.7",
         "0.12",
         "2018-01",
         "2018"
        ],
        [
         "26",
         "2018-01-23 00:00:00",
         "Viviana Barquera Sifuentes",
         "Ismael López Saldaña",
         "Hematología",
         "Consulta",
         "1175",
         "0.89",
         "0.14",
         "2018-01",
         "2018"
        ],
        [
         "27",
         "2018-01-25 00:00:00",
         "Cristóbal Verduzco Llamas",
         "Ismael López Saldaña",
         "Hematología",
         "Consulta",
         "1025",
         "0.76",
         "0.14",
         "2018-01",
         "2018"
        ],
        [
         "28",
         "2018-01-26 00:00:00",
         "Paulina Meneses Ángeles",
         "Paulina Contreras Cuevas",
         "Gastroenterología.",
         "Consulta",
         "1125",
         "0.9",
         "0.19",
         "2018-01",
         "2018"
        ],
        [
         "29",
         "2018-01-26 00:00:00",
         "Rommel Tapia Barajas",
         "Ismael López Saldaña",
         "Hematología",
         "Consulta",
         "1025",
         "0.83",
         "0.08",
         "2018-01",
         "2018"
        ],
        [
         "30",
         "2018-01-27 00:00:00",
         "Rafael Alcocer Cruz",
         "Félix Llanos Macías",
         "Cardiología ",
         "Consulta",
         "1125",
         "0.7",
         "0.14",
         "2018-01",
         "2018"
        ],
        [
         "31",
         "2018-01-27 00:00:00",
         "Gregorio Saucedo Alfaro",
         "Paulina Contreras Cuevas",
         "Gastroenterología.",
         "Consulta",
         "1275",
         "0.83",
         "0.07",
         "2018-01",
         "2018"
        ],
        [
         "32",
         "2018-01-27 00:00:00",
         "Sebastian Bedolla Flores",
         "Félix Llanos Macías",
         "Cardiología ",
         "Consulta",
         "1175",
         "0.76",
         "0.15",
         "2018-01",
         "2018"
        ],
        [
         "33",
         "2018-01-28 00:00:00",
         "Berta Arenas Mancilla",
         "Paulina Contreras Cuevas",
         "Gastroenterología.",
         "Consulta",
         "1075",
         "0.81",
         "0.09",
         "2018-01",
         "2018"
        ],
        [
         "34",
         "2018-01-29 00:00:00",
         "Deymar Lima Pizano",
         "Paulina Contreras Cuevas",
         "Gastroenterología.",
         "Consulta",
         "1175",
         "0.93",
         "0.06",
         "2018-01",
         "2018"
        ],
        [
         "35",
         "2018-01-29 00:00:00",
         "Benjamin Fuentes Ramón",
         "Paulina Contreras Cuevas",
         "Gastroenterología.",
         "Consulta",
         "1175",
         "0.93",
         "0.16",
         "2018-01",
         "2018"
        ],
        [
         "36",
         "2018-01-31 00:00:00",
         "Hans Vargas Lupi",
         "Paulina Contreras Cuevas",
         "Gastroenterología.",
         "Consulta",
         "1275",
         "0.96",
         "0.06",
         "2018-01",
         "2018"
        ],
        [
         "37",
         "2018-01-31 00:00:00",
         "Victoria Solórzano Rosado",
         "Félix Llanos Macías",
         "Cardiología ",
         "Consulta",
         "1025",
         "0.98",
         "0.18",
         "2018-01",
         "2018"
        ],
        [
         "38",
         "2018-02-01 00:00:00",
         "Adam Almeda Arias",
         "Félix Llanos Macías",
         "Cardiología ",
         "Consulta",
         "1175",
         "0.96",
         "0.06",
         "2018-02",
         "2018"
        ],
        [
         "39",
         "2018-02-01 00:00:00",
         "Jessica Nava Escalante",
         "Ismael López Saldaña",
         "Hematología",
         "Consulta",
         "1025",
         "0.97",
         "0.19",
         "2018-02",
         "2018"
        ],
        [
         "40",
         "2018-02-01 00:00:00",
         "Diego Cordero Salinas",
         "Paulina Contreras Cuevas",
         "Gastroenterología.",
         "Consulta",
         "1025",
         "0.72",
         "0.1",
         "2018-02",
         "2018"
        ],
        [
         "41",
         "2018-02-01 00:00:00",
         "Cristina Pulido Posadas",
         "Ismael López Saldaña",
         "Hematología",
         "Consulta",
         "1225",
         "0.73",
         "0.12",
         "2018-02",
         "2018"
        ],
        [
         "42",
         "2018-02-01 00:00:00",
         "Gleidin Baptista Llorente",
         "Ismael López Saldaña",
         "Hematología",
         "Consulta",
         "1275",
         "0.82",
         "0.18",
         "2018-02",
         "2018"
        ],
        [
         "43",
         "2018-02-01 00:00:00",
         "Yaneth Fauser Núñez",
         "Ismael López Saldaña",
         "Hematología",
         "Consulta",
         "1175",
         "0.9",
         "0.12",
         "2018-02",
         "2018"
        ],
        [
         "44",
         "2018-02-04 00:00:00",
         "Rogelio Velasco Parra",
         "Paulina Contreras Cuevas",
         "Gastroenterología.",
         "Consulta",
         "1175",
         "0.92",
         "0.05",
         "2018-02",
         "2018"
        ],
        [
         "45",
         "2018-02-04 00:00:00",
         "Bastian Mora Hijar",
         "Paulina Contreras Cuevas",
         "Gastroenterología.",
         "Consulta",
         "1225",
         "0.81",
         "0.18",
         "2018-02",
         "2018"
        ],
        [
         "46",
         "2018-02-04 00:00:00",
         "Casandra Velásquez Pedrón",
         "Paulina Contreras Cuevas",
         "Gastroenterología.",
         "Consulta",
         "1175",
         "0.83",
         "0.05",
         "2018-02",
         "2018"
        ],
        [
         "47",
         "2018-02-04 00:00:00",
         "Hans Mancilla Tapia",
         "Arnoldo Ondarza Hernán",
         "Ginegología",
         "Consulta",
         "1025",
         "0.93",
         "0.14",
         "2018-02",
         "2018"
        ],
        [
         "48",
         "2018-02-04 00:00:00",
         "Elena Valdovinos Orozco",
         "Félix Llanos Macías",
         "Cardiología ",
         "Consulta",
         "1275",
         "0.74",
         "0.16",
         "2018-02",
         "2018"
        ],
        [
         "49",
         "2018-02-04 00:00:00",
         "Henry Gonzáles  Llorente",
         "Paulina Contreras Cuevas",
         "Gastroenterología.",
         "Consulta",
         "1125",
         "0.9",
         "0.19",
         "2018-02",
         "2018"
        ]
       ],
       "shape": {
        "columns": 10,
        "rows": 3600
       }
      },
      "text/html": [
       "<div>\n",
       "<style scoped>\n",
       "    .dataframe tbody tr th:only-of-type {\n",
       "        vertical-align: middle;\n",
       "    }\n",
       "\n",
       "    .dataframe tbody tr th {\n",
       "        vertical-align: top;\n",
       "    }\n",
       "\n",
       "    .dataframe thead th {\n",
       "        text-align: right;\n",
       "    }\n",
       "</style>\n",
       "<table border=\"1\" class=\"dataframe\">\n",
       "  <thead>\n",
       "    <tr style=\"text-align: right;\">\n",
       "      <th></th>\n",
       "      <th>Fecha</th>\n",
       "      <th>Nombre</th>\n",
       "      <th>Doctor</th>\n",
       "      <th>Especialidad</th>\n",
       "      <th>Tipo</th>\n",
       "      <th>Honorarios</th>\n",
       "      <th>Calificación</th>\n",
       "      <th>Comisión</th>\n",
       "      <th>FechaMes</th>\n",
       "      <th>Año</th>\n",
       "    </tr>\n",
       "  </thead>\n",
       "  <tbody>\n",
       "    <tr>\n",
       "      <th>0</th>\n",
       "      <td>2018-01-01</td>\n",
       "      <td>Bastian Hurtado Cabrero</td>\n",
       "      <td>Simón Castro Infante</td>\n",
       "      <td>Hematología</td>\n",
       "      <td>Consulta</td>\n",
       "      <td>1025</td>\n",
       "      <td>0.84</td>\n",
       "      <td>0.16</td>\n",
       "      <td>2018-01</td>\n",
       "      <td>2018</td>\n",
       "    </tr>\n",
       "    <tr>\n",
       "      <th>1</th>\n",
       "      <td>2018-01-02</td>\n",
       "      <td>Carla Rosas Ávalos</td>\n",
       "      <td>Ismael López Saldaña</td>\n",
       "      <td>Hematología</td>\n",
       "      <td>Consulta</td>\n",
       "      <td>1025</td>\n",
       "      <td>0.83</td>\n",
       "      <td>0.11</td>\n",
       "      <td>2018-01</td>\n",
       "      <td>2018</td>\n",
       "    </tr>\n",
       "    <tr>\n",
       "      <th>2</th>\n",
       "      <td>2018-01-03</td>\n",
       "      <td>Natanael Lazcano Aguilar</td>\n",
       "      <td>Félix Llanos Macías</td>\n",
       "      <td>Cardiología</td>\n",
       "      <td>Consulta</td>\n",
       "      <td>1075</td>\n",
       "      <td>0.78</td>\n",
       "      <td>0.12</td>\n",
       "      <td>2018-01</td>\n",
       "      <td>2018</td>\n",
       "    </tr>\n",
       "    <tr>\n",
       "      <th>3</th>\n",
       "      <td>2018-01-04</td>\n",
       "      <td>Judith Hinojosa Torres</td>\n",
       "      <td>Ismael López Saldaña</td>\n",
       "      <td>Hematología</td>\n",
       "      <td>Consulta</td>\n",
       "      <td>1075</td>\n",
       "      <td>0.92</td>\n",
       "      <td>0.17</td>\n",
       "      <td>2018-01</td>\n",
       "      <td>2018</td>\n",
       "    </tr>\n",
       "    <tr>\n",
       "      <th>4</th>\n",
       "      <td>2018-01-07</td>\n",
       "      <td>Giovanni Rudomín Arias</td>\n",
       "      <td>Paulina Contreras Cuevas</td>\n",
       "      <td>Gastroenterología.</td>\n",
       "      <td>Consulta</td>\n",
       "      <td>1125</td>\n",
       "      <td>0.89</td>\n",
       "      <td>0.12</td>\n",
       "      <td>2018-01</td>\n",
       "      <td>2018</td>\n",
       "    </tr>\n",
       "    <tr>\n",
       "      <th>...</th>\n",
       "      <td>...</td>\n",
       "      <td>...</td>\n",
       "      <td>...</td>\n",
       "      <td>...</td>\n",
       "      <td>...</td>\n",
       "      <td>...</td>\n",
       "      <td>...</td>\n",
       "      <td>...</td>\n",
       "      <td>...</td>\n",
       "      <td>...</td>\n",
       "    </tr>\n",
       "    <tr>\n",
       "      <th>3595</th>\n",
       "      <td>2021-12-16</td>\n",
       "      <td>Jaqueline Burgos Meneses</td>\n",
       "      <td>Nestor Núñez Basurto</td>\n",
       "      <td>Hematología</td>\n",
       "      <td>Operación</td>\n",
       "      <td>39500</td>\n",
       "      <td>0.89</td>\n",
       "      <td>0.16</td>\n",
       "      <td>2021-12</td>\n",
       "      <td>2021</td>\n",
       "    </tr>\n",
       "    <tr>\n",
       "      <th>3596</th>\n",
       "      <td>2021-12-25</td>\n",
       "      <td>Andrea  Larrea Borundo</td>\n",
       "      <td>Simón Castro Infante</td>\n",
       "      <td>Cirugía Pediátrica.</td>\n",
       "      <td>Operación</td>\n",
       "      <td>18000</td>\n",
       "      <td>0.80</td>\n",
       "      <td>0.06</td>\n",
       "      <td>2021-12</td>\n",
       "      <td>2021</td>\n",
       "    </tr>\n",
       "    <tr>\n",
       "      <th>3597</th>\n",
       "      <td>2021-12-26</td>\n",
       "      <td>Valentina Morales Márquez</td>\n",
       "      <td>Alfonso Soda Neri</td>\n",
       "      <td>Cirugía Plástica</td>\n",
       "      <td>Operación</td>\n",
       "      <td>38500</td>\n",
       "      <td>0.62</td>\n",
       "      <td>0.20</td>\n",
       "      <td>2021-12</td>\n",
       "      <td>2021</td>\n",
       "    </tr>\n",
       "    <tr>\n",
       "      <th>3598</th>\n",
       "      <td>2021-12-26</td>\n",
       "      <td>Casandra Saturno Vázquez</td>\n",
       "      <td>Arnoldo Ondarza Hernán</td>\n",
       "      <td>Ginegología</td>\n",
       "      <td>Operación</td>\n",
       "      <td>46500</td>\n",
       "      <td>0.83</td>\n",
       "      <td>0.19</td>\n",
       "      <td>2021-12</td>\n",
       "      <td>2021</td>\n",
       "    </tr>\n",
       "    <tr>\n",
       "      <th>3599</th>\n",
       "      <td>2021-12-28</td>\n",
       "      <td>Gleidin Urbina Iglesias</td>\n",
       "      <td>Nestor Núñez Basurto</td>\n",
       "      <td>Hematología</td>\n",
       "      <td>Operación</td>\n",
       "      <td>41000</td>\n",
       "      <td>0.75</td>\n",
       "      <td>0.05</td>\n",
       "      <td>2021-12</td>\n",
       "      <td>2021</td>\n",
       "    </tr>\n",
       "  </tbody>\n",
       "</table>\n",
       "<p>3600 rows × 10 columns</p>\n",
       "</div>"
      ],
      "text/plain": [
       "          Fecha                     Nombre                    Doctor  \\\n",
       "0    2018-01-01    Bastian Hurtado Cabrero      Simón Castro Infante   \n",
       "1    2018-01-02         Carla Rosas Ávalos      Ismael López Saldaña   \n",
       "2    2018-01-03   Natanael Lazcano Aguilar       Félix Llanos Macías   \n",
       "3    2018-01-04     Judith Hinojosa Torres      Ismael López Saldaña   \n",
       "4    2018-01-07     Giovanni Rudomín Arias  Paulina Contreras Cuevas   \n",
       "...         ...                        ...                       ...   \n",
       "3595 2021-12-16   Jaqueline Burgos Meneses      Nestor Núñez Basurto   \n",
       "3596 2021-12-25     Andrea  Larrea Borundo      Simón Castro Infante   \n",
       "3597 2021-12-26  Valentina Morales Márquez         Alfonso Soda Neri   \n",
       "3598 2021-12-26   Casandra Saturno Vázquez    Arnoldo Ondarza Hernán   \n",
       "3599 2021-12-28    Gleidin Urbina Iglesias      Nestor Núñez Basurto   \n",
       "\n",
       "             Especialidad       Tipo  Honorarios  Calificación  Comisión  \\\n",
       "0             Hematología   Consulta        1025          0.84      0.16   \n",
       "1             Hematología   Consulta        1025          0.83      0.11   \n",
       "2            Cardiología    Consulta        1075          0.78      0.12   \n",
       "3             Hematología   Consulta        1075          0.92      0.17   \n",
       "4      Gastroenterología.   Consulta        1125          0.89      0.12   \n",
       "...                   ...        ...         ...           ...       ...   \n",
       "3595          Hematología  Operación       39500          0.89      0.16   \n",
       "3596  Cirugía Pediátrica.  Operación       18000          0.80      0.06   \n",
       "3597     Cirugía Plástica  Operación       38500          0.62      0.20   \n",
       "3598          Ginegología  Operación       46500          0.83      0.19   \n",
       "3599          Hematología  Operación       41000          0.75      0.05   \n",
       "\n",
       "     FechaMes   Año  \n",
       "0     2018-01  2018  \n",
       "1     2018-01  2018  \n",
       "2     2018-01  2018  \n",
       "3     2018-01  2018  \n",
       "4     2018-01  2018  \n",
       "...       ...   ...  \n",
       "3595  2021-12  2021  \n",
       "3596  2021-12  2021  \n",
       "3597  2021-12  2021  \n",
       "3598  2021-12  2021  \n",
       "3599  2021-12  2021  \n",
       "\n",
       "[3600 rows x 10 columns]"
      ]
     },
     "execution_count": 9,
     "metadata": {},
     "output_type": "execute_result"
    }
   ],
   "source": [
    "hospital[\"Año\"] = hospital.Fecha.dt.year\n",
    "\n",
    "hospital"
   ]
  },
  {
   "cell_type": "markdown",
   "id": "a6587afd-3e22-4c14-ad42-b5f285a9ac46",
   "metadata": {},
   "source": [
    "Crear una función utilizando groupby que devuelva un DataFrame con el total de visitas que si hicieron al hospital y el promedio de los honorarios en cada año, el resultado debe ser el siguiente:"
   ]
  },
  {
   "cell_type": "markdown",
   "id": "70b8fb57-c0b5-416c-b796-68a6e41fd080",
   "metadata": {},
   "source": [
    "![Resuelto](./Img_24_Ejercicios/Act13Img4.png)"
   ]
  },
  {
   "cell_type": "code",
   "execution_count": 13,
   "id": "e2147308-3b9f-4fd8-9570-94bed870d07d",
   "metadata": {},
   "outputs": [
    {
     "data": {
      "application/vnd.microsoft.datawrangler.viewer.v0+json": {
       "columns": [
        {
         "name": "Año",
         "rawType": "int32",
         "type": "integer"
        },
        {
         "name": "('Honorarios', 'mean')",
         "rawType": "float64",
         "type": "float"
        },
        {
         "name": "('Honorarios', 'count')",
         "rawType": "int64",
         "type": "integer"
        }
       ],
       "ref": "2b716bc9-5df5-4a44-ae29-7283c0e3706a",
       "rows": [
        [
         "2018",
         "5689.7172949002215",
         "902"
        ],
        [
         "2019",
         "6040.718232044199",
         "905"
        ],
        [
         "2020",
         "5869.656283566058",
         "931"
        ],
        [
         "2021",
         "6139.675174013921",
         "862"
        ]
       ],
       "shape": {
        "columns": 2,
        "rows": 4
       }
      },
      "text/html": [
       "<div>\n",
       "<style scoped>\n",
       "    .dataframe tbody tr th:only-of-type {\n",
       "        vertical-align: middle;\n",
       "    }\n",
       "\n",
       "    .dataframe tbody tr th {\n",
       "        vertical-align: top;\n",
       "    }\n",
       "\n",
       "    .dataframe thead tr th {\n",
       "        text-align: left;\n",
       "    }\n",
       "\n",
       "    .dataframe thead tr:last-of-type th {\n",
       "        text-align: right;\n",
       "    }\n",
       "</style>\n",
       "<table border=\"1\" class=\"dataframe\">\n",
       "  <thead>\n",
       "    <tr>\n",
       "      <th></th>\n",
       "      <th colspan=\"2\" halign=\"left\">Honorarios</th>\n",
       "    </tr>\n",
       "    <tr>\n",
       "      <th></th>\n",
       "      <th>mean</th>\n",
       "      <th>count</th>\n",
       "    </tr>\n",
       "    <tr>\n",
       "      <th>Año</th>\n",
       "      <th></th>\n",
       "      <th></th>\n",
       "    </tr>\n",
       "  </thead>\n",
       "  <tbody>\n",
       "    <tr>\n",
       "      <th>2018</th>\n",
       "      <td>5689.717295</td>\n",
       "      <td>902</td>\n",
       "    </tr>\n",
       "    <tr>\n",
       "      <th>2019</th>\n",
       "      <td>6040.718232</td>\n",
       "      <td>905</td>\n",
       "    </tr>\n",
       "    <tr>\n",
       "      <th>2020</th>\n",
       "      <td>5869.656284</td>\n",
       "      <td>931</td>\n",
       "    </tr>\n",
       "    <tr>\n",
       "      <th>2021</th>\n",
       "      <td>6139.675174</td>\n",
       "      <td>862</td>\n",
       "    </tr>\n",
       "  </tbody>\n",
       "</table>\n",
       "</div>"
      ],
      "text/plain": [
       "       Honorarios      \n",
       "             mean count\n",
       "Año                    \n",
       "2018  5689.717295   902\n",
       "2019  6040.718232   905\n",
       "2020  5869.656284   931\n",
       "2021  6139.675174   862"
      ]
     },
     "execution_count": 13,
     "metadata": {},
     "output_type": "execute_result"
    }
   ],
   "source": [
    "hospital.groupby(\"Año\").agg({\"Honorarios\":[\"mean\",\"count\"]})"
   ]
  },
  {
   "cell_type": "code",
   "execution_count": null,
   "id": "4774b216-dc68-45e2-bcc5-0ef9e2caf3c3",
   "metadata": {},
   "outputs": [],
   "source": []
  },
  {
   "cell_type": "markdown",
   "id": "240be8ec-531c-4b3c-8318-f4c6ca2e7e67",
   "metadata": {},
   "source": [
    "![Resuelto](./Img_24_Ejercicios/Act13Img5.png)"
   ]
  },
  {
   "cell_type": "markdown",
   "id": "a0c8c1ac-1ea9-4e60-bd95-157c11c46b8f",
   "metadata": {},
   "source": [
    "![Resuelto](./Img_24_Ejercicios/Act13Img6.png)"
   ]
  },
  {
   "cell_type": "markdown",
   "id": "d2d9697d-8b7a-421c-afd4-cbf2c0a18dfc",
   "metadata": {},
   "source": [
    "__Conclusión:__ el costo promedio de los honorarios y el número de visitas no han tenido grandes variaciones."
   ]
  },
  {
   "cell_type": "markdown",
   "id": "7b5d754e-480f-48c7-8055-4bccf16f9c7b",
   "metadata": {},
   "source": [
    "## Ejercicio 14\n",
    "Crear una función que devuelva un DataFrame con los registros de las visitas al hospital que fueron con motivo de una consulta médica, el resultado debe ser el siguiente:"
   ]
  },
  {
   "cell_type": "markdown",
   "id": "2eba5260-8789-4123-920b-fe153871c9a9",
   "metadata": {},
   "source": [
    "![Resuelto](./Img_24_Ejercicios/Act14Img1.png)"
   ]
  },
  {
   "cell_type": "code",
   "execution_count": 17,
   "id": "d6e448ce-b214-47ab-95c0-97841de7013a",
   "metadata": {},
   "outputs": [],
   "source": [
    "consulta_medica = hospital.loc[hospital[\"Tipo\"] == \"Consulta\"]"
   ]
  },
  {
   "cell_type": "code",
   "execution_count": 18,
   "id": "abfa0eb7-59eb-47e8-9adb-92fde5d0f1d0",
   "metadata": {},
   "outputs": [
    {
     "data": {
      "application/vnd.microsoft.datawrangler.viewer.v0+json": {
       "columns": [
        {
         "name": "index",
         "rawType": "int64",
         "type": "integer"
        },
        {
         "name": "Fecha",
         "rawType": "datetime64[ns]",
         "type": "datetime"
        },
        {
         "name": "Nombre",
         "rawType": "object",
         "type": "string"
        },
        {
         "name": "Doctor",
         "rawType": "object",
         "type": "string"
        },
        {
         "name": "Especialidad",
         "rawType": "object",
         "type": "string"
        },
        {
         "name": "Tipo",
         "rawType": "object",
         "type": "string"
        },
        {
         "name": "Honorarios",
         "rawType": "int64",
         "type": "integer"
        },
        {
         "name": "Calificación",
         "rawType": "float64",
         "type": "float"
        },
        {
         "name": "Comisión",
         "rawType": "float64",
         "type": "float"
        },
        {
         "name": "FechaMes",
         "rawType": "object",
         "type": "string"
        },
        {
         "name": "Año",
         "rawType": "int32",
         "type": "integer"
        }
       ],
       "ref": "8bdbf1a1-0e3e-430e-a4de-12682ba982f7",
       "rows": [
        [
         "0",
         "2018-01-01 00:00:00",
         "Bastian Hurtado Cabrero",
         "Simón Castro Infante",
         "Hematología",
         "Consulta",
         "1025",
         "0.84",
         "0.16",
         "2018-01",
         "2018"
        ],
        [
         "1",
         "2018-01-02 00:00:00",
         "Carla Rosas Ávalos",
         "Ismael López Saldaña",
         "Hematología",
         "Consulta",
         "1025",
         "0.83",
         "0.11",
         "2018-01",
         "2018"
        ],
        [
         "2",
         "2018-01-03 00:00:00",
         "Natanael Lazcano Aguilar",
         "Félix Llanos Macías",
         "Cardiología ",
         "Consulta",
         "1075",
         "0.78",
         "0.12",
         "2018-01",
         "2018"
        ],
        [
         "3",
         "2018-01-04 00:00:00",
         "Judith Hinojosa Torres",
         "Ismael López Saldaña",
         "Hematología",
         "Consulta",
         "1075",
         "0.92",
         "0.17",
         "2018-01",
         "2018"
        ],
        [
         "4",
         "2018-01-07 00:00:00",
         "Giovanni Rudomín Arias",
         "Paulina Contreras Cuevas",
         "Gastroenterología.",
         "Consulta",
         "1125",
         "0.89",
         "0.12",
         "2018-01",
         "2018"
        ],
        [
         "5",
         "2018-01-07 00:00:00",
         "Liliana Velasco Viveros",
         "Félix Llanos Macías",
         "Cardiología ",
         "Consulta",
         "1075",
         "0.96",
         "0.14",
         "2018-01",
         "2018"
        ],
        [
         "6",
         "2018-01-07 00:00:00",
         "Claridad Negrete Blanchet",
         "Ismael López Saldaña",
         "Hematología",
         "Consulta",
         "1225",
         "0.98",
         "0.1",
         "2018-01",
         "2018"
        ],
        [
         "7",
         "2018-01-07 00:00:00",
         "Máximo Milán Alva",
         "Ismael López Saldaña",
         "Hematología",
         "Consulta",
         "1275",
         "0.95",
         "0.06",
         "2018-01",
         "2018"
        ],
        [
         "8",
         "2018-01-08 00:00:00",
         "Yulisa Reyes Rodríguez",
         "Ismael López Saldaña",
         "Hematología",
         "Consulta",
         "1275",
         "0.9",
         "0.12",
         "2018-01",
         "2018"
        ],
        [
         "9",
         "2018-01-08 00:00:00",
         "Adán Iglesias Padilla",
         "Félix Llanos Macías",
         "Cardiología ",
         "Consulta",
         "1075",
         "0.77",
         "0.08",
         "2018-01",
         "2018"
        ],
        [
         "10",
         "2018-01-08 00:00:00",
         "Ramón Villalpando Hijar",
         "Paulina Contreras Cuevas",
         "Gastroenterología.",
         "Consulta",
         "1075",
         "0.96",
         "0.05",
         "2018-01",
         "2018"
        ],
        [
         "11",
         "2018-01-08 00:00:00",
         "Camilo Reyes Verduzco",
         "Paulina Contreras Cuevas",
         "Gastroenterología.",
         "Consulta",
         "1075",
         "0.76",
         "0.14",
         "2018-01",
         "2018"
        ],
        [
         "12",
         "2018-01-09 00:00:00",
         "Edison Viveros Ríos",
         "Paulina Contreras Cuevas",
         "Gastroenterología.",
         "Consulta",
         "1125",
         "0.73",
         "0.06",
         "2018-01",
         "2018"
        ],
        [
         "13",
         "2018-01-10 00:00:00",
         "Renzo Rosas Velásquez",
         "Paulina Contreras Cuevas",
         "Gastroenterología.",
         "Consulta",
         "1125",
         "0.85",
         "0.06",
         "2018-01",
         "2018"
        ],
        [
         "14",
         "2018-01-11 00:00:00",
         "Jorge Sarti Urbina",
         "Paulina Contreras Cuevas",
         "Gastroenterología.",
         "Consulta",
         "1075",
         "0.73",
         "0.13",
         "2018-01",
         "2018"
        ],
        [
         "15",
         "2018-01-13 00:00:00",
         "Roberto Mora Favela",
         "Ismael López Saldaña",
         "Hematología",
         "Consulta",
         "1225",
         "0.95",
         "0.18",
         "2018-01",
         "2018"
        ],
        [
         "16",
         "2018-01-13 00:00:00",
         "Víctor Urrutia Valencia",
         "Ismael López Saldaña",
         "Hematología",
         "Consulta",
         "1125",
         "0.84",
         "0.09",
         "2018-01",
         "2018"
        ],
        [
         "17",
         "2018-01-15 00:00:00",
         "Paola Cordero Valenzuela",
         "Ismael López Saldaña",
         "Hematología",
         "Consulta",
         "1275",
         "0.96",
         "0.17",
         "2018-01",
         "2018"
        ],
        [
         "18",
         "2018-01-18 00:00:00",
         "Jaqueline Baeza Soda",
         "Félix Llanos Macías",
         "Cardiología ",
         "Consulta",
         "1075",
         "0.78",
         "0.2",
         "2018-01",
         "2018"
        ],
        [
         "19",
         "2018-01-18 00:00:00",
         "Federico Sandoval Alva",
         "Paulina Contreras Cuevas",
         "Gastroenterología.",
         "Consulta",
         "1225",
         "0.76",
         "0.18",
         "2018-01",
         "2018"
        ],
        [
         "20",
         "2018-01-20 00:00:00",
         "Eva Llorente Mayo",
         "Paulina Contreras Cuevas",
         "Gastroenterología.",
         "Consulta",
         "1075",
         "0.8",
         "0.17",
         "2018-01",
         "2018"
        ],
        [
         "21",
         "2018-01-21 00:00:00",
         "Yeison Vega Ángeles",
         "Ismael López Saldaña",
         "Hematología",
         "Consulta",
         "1075",
         "0.85",
         "0.08",
         "2018-01",
         "2018"
        ],
        [
         "22",
         "2018-01-21 00:00:00",
         "Felipe Morales Hijar",
         "Ismael López Saldaña",
         "Hematología",
         "Consulta",
         "1125",
         "0.93",
         "0.12",
         "2018-01",
         "2018"
        ],
        [
         "23",
         "2018-01-21 00:00:00",
         "Esteban Alonso Flores",
         "Ismael López Saldaña",
         "Hematología",
         "Consulta",
         "1125",
         "0.96",
         "0.11",
         "2018-01",
         "2018"
        ],
        [
         "24",
         "2018-01-23 00:00:00",
         "Rubén Campos Lacy",
         "Paulina Contreras Cuevas",
         "Gastroenterología.",
         "Consulta",
         "1025",
         "0.82",
         "0.17",
         "2018-01",
         "2018"
        ],
        [
         "25",
         "2018-01-23 00:00:00",
         "Klever Ponce Robles",
         "Félix Llanos Macías",
         "Cardiología ",
         "Consulta",
         "1125",
         "0.7",
         "0.12",
         "2018-01",
         "2018"
        ],
        [
         "26",
         "2018-01-23 00:00:00",
         "Viviana Barquera Sifuentes",
         "Ismael López Saldaña",
         "Hematología",
         "Consulta",
         "1175",
         "0.89",
         "0.14",
         "2018-01",
         "2018"
        ],
        [
         "27",
         "2018-01-25 00:00:00",
         "Cristóbal Verduzco Llamas",
         "Ismael López Saldaña",
         "Hematología",
         "Consulta",
         "1025",
         "0.76",
         "0.14",
         "2018-01",
         "2018"
        ],
        [
         "28",
         "2018-01-26 00:00:00",
         "Paulina Meneses Ángeles",
         "Paulina Contreras Cuevas",
         "Gastroenterología.",
         "Consulta",
         "1125",
         "0.9",
         "0.19",
         "2018-01",
         "2018"
        ],
        [
         "29",
         "2018-01-26 00:00:00",
         "Rommel Tapia Barajas",
         "Ismael López Saldaña",
         "Hematología",
         "Consulta",
         "1025",
         "0.83",
         "0.08",
         "2018-01",
         "2018"
        ],
        [
         "30",
         "2018-01-27 00:00:00",
         "Rafael Alcocer Cruz",
         "Félix Llanos Macías",
         "Cardiología ",
         "Consulta",
         "1125",
         "0.7",
         "0.14",
         "2018-01",
         "2018"
        ],
        [
         "31",
         "2018-01-27 00:00:00",
         "Gregorio Saucedo Alfaro",
         "Paulina Contreras Cuevas",
         "Gastroenterología.",
         "Consulta",
         "1275",
         "0.83",
         "0.07",
         "2018-01",
         "2018"
        ],
        [
         "32",
         "2018-01-27 00:00:00",
         "Sebastian Bedolla Flores",
         "Félix Llanos Macías",
         "Cardiología ",
         "Consulta",
         "1175",
         "0.76",
         "0.15",
         "2018-01",
         "2018"
        ],
        [
         "33",
         "2018-01-28 00:00:00",
         "Berta Arenas Mancilla",
         "Paulina Contreras Cuevas",
         "Gastroenterología.",
         "Consulta",
         "1075",
         "0.81",
         "0.09",
         "2018-01",
         "2018"
        ],
        [
         "34",
         "2018-01-29 00:00:00",
         "Deymar Lima Pizano",
         "Paulina Contreras Cuevas",
         "Gastroenterología.",
         "Consulta",
         "1175",
         "0.93",
         "0.06",
         "2018-01",
         "2018"
        ],
        [
         "35",
         "2018-01-29 00:00:00",
         "Benjamin Fuentes Ramón",
         "Paulina Contreras Cuevas",
         "Gastroenterología.",
         "Consulta",
         "1175",
         "0.93",
         "0.16",
         "2018-01",
         "2018"
        ],
        [
         "36",
         "2018-01-31 00:00:00",
         "Hans Vargas Lupi",
         "Paulina Contreras Cuevas",
         "Gastroenterología.",
         "Consulta",
         "1275",
         "0.96",
         "0.06",
         "2018-01",
         "2018"
        ],
        [
         "37",
         "2018-01-31 00:00:00",
         "Victoria Solórzano Rosado",
         "Félix Llanos Macías",
         "Cardiología ",
         "Consulta",
         "1025",
         "0.98",
         "0.18",
         "2018-01",
         "2018"
        ],
        [
         "38",
         "2018-02-01 00:00:00",
         "Adam Almeda Arias",
         "Félix Llanos Macías",
         "Cardiología ",
         "Consulta",
         "1175",
         "0.96",
         "0.06",
         "2018-02",
         "2018"
        ],
        [
         "39",
         "2018-02-01 00:00:00",
         "Jessica Nava Escalante",
         "Ismael López Saldaña",
         "Hematología",
         "Consulta",
         "1025",
         "0.97",
         "0.19",
         "2018-02",
         "2018"
        ],
        [
         "40",
         "2018-02-01 00:00:00",
         "Diego Cordero Salinas",
         "Paulina Contreras Cuevas",
         "Gastroenterología.",
         "Consulta",
         "1025",
         "0.72",
         "0.1",
         "2018-02",
         "2018"
        ],
        [
         "41",
         "2018-02-01 00:00:00",
         "Cristina Pulido Posadas",
         "Ismael López Saldaña",
         "Hematología",
         "Consulta",
         "1225",
         "0.73",
         "0.12",
         "2018-02",
         "2018"
        ],
        [
         "42",
         "2018-02-01 00:00:00",
         "Gleidin Baptista Llorente",
         "Ismael López Saldaña",
         "Hematología",
         "Consulta",
         "1275",
         "0.82",
         "0.18",
         "2018-02",
         "2018"
        ],
        [
         "43",
         "2018-02-01 00:00:00",
         "Yaneth Fauser Núñez",
         "Ismael López Saldaña",
         "Hematología",
         "Consulta",
         "1175",
         "0.9",
         "0.12",
         "2018-02",
         "2018"
        ],
        [
         "44",
         "2018-02-04 00:00:00",
         "Rogelio Velasco Parra",
         "Paulina Contreras Cuevas",
         "Gastroenterología.",
         "Consulta",
         "1175",
         "0.92",
         "0.05",
         "2018-02",
         "2018"
        ],
        [
         "45",
         "2018-02-04 00:00:00",
         "Bastian Mora Hijar",
         "Paulina Contreras Cuevas",
         "Gastroenterología.",
         "Consulta",
         "1225",
         "0.81",
         "0.18",
         "2018-02",
         "2018"
        ],
        [
         "46",
         "2018-02-04 00:00:00",
         "Casandra Velásquez Pedrón",
         "Paulina Contreras Cuevas",
         "Gastroenterología.",
         "Consulta",
         "1175",
         "0.83",
         "0.05",
         "2018-02",
         "2018"
        ],
        [
         "47",
         "2018-02-04 00:00:00",
         "Hans Mancilla Tapia",
         "Arnoldo Ondarza Hernán",
         "Ginegología",
         "Consulta",
         "1025",
         "0.93",
         "0.14",
         "2018-02",
         "2018"
        ],
        [
         "48",
         "2018-02-04 00:00:00",
         "Elena Valdovinos Orozco",
         "Félix Llanos Macías",
         "Cardiología ",
         "Consulta",
         "1275",
         "0.74",
         "0.16",
         "2018-02",
         "2018"
        ],
        [
         "49",
         "2018-02-04 00:00:00",
         "Henry Gonzáles  Llorente",
         "Paulina Contreras Cuevas",
         "Gastroenterología.",
         "Consulta",
         "1125",
         "0.9",
         "0.19",
         "2018-02",
         "2018"
        ]
       ],
       "shape": {
        "columns": 10,
        "rows": 1953
       }
      },
      "text/html": [
       "<div>\n",
       "<style scoped>\n",
       "    .dataframe tbody tr th:only-of-type {\n",
       "        vertical-align: middle;\n",
       "    }\n",
       "\n",
       "    .dataframe tbody tr th {\n",
       "        vertical-align: top;\n",
       "    }\n",
       "\n",
       "    .dataframe thead th {\n",
       "        text-align: right;\n",
       "    }\n",
       "</style>\n",
       "<table border=\"1\" class=\"dataframe\">\n",
       "  <thead>\n",
       "    <tr style=\"text-align: right;\">\n",
       "      <th></th>\n",
       "      <th>Fecha</th>\n",
       "      <th>Nombre</th>\n",
       "      <th>Doctor</th>\n",
       "      <th>Especialidad</th>\n",
       "      <th>Tipo</th>\n",
       "      <th>Honorarios</th>\n",
       "      <th>Calificación</th>\n",
       "      <th>Comisión</th>\n",
       "      <th>FechaMes</th>\n",
       "      <th>Año</th>\n",
       "    </tr>\n",
       "  </thead>\n",
       "  <tbody>\n",
       "    <tr>\n",
       "      <th>0</th>\n",
       "      <td>2018-01-01</td>\n",
       "      <td>Bastian Hurtado Cabrero</td>\n",
       "      <td>Simón Castro Infante</td>\n",
       "      <td>Hematología</td>\n",
       "      <td>Consulta</td>\n",
       "      <td>1025</td>\n",
       "      <td>0.84</td>\n",
       "      <td>0.16</td>\n",
       "      <td>2018-01</td>\n",
       "      <td>2018</td>\n",
       "    </tr>\n",
       "    <tr>\n",
       "      <th>1</th>\n",
       "      <td>2018-01-02</td>\n",
       "      <td>Carla Rosas Ávalos</td>\n",
       "      <td>Ismael López Saldaña</td>\n",
       "      <td>Hematología</td>\n",
       "      <td>Consulta</td>\n",
       "      <td>1025</td>\n",
       "      <td>0.83</td>\n",
       "      <td>0.11</td>\n",
       "      <td>2018-01</td>\n",
       "      <td>2018</td>\n",
       "    </tr>\n",
       "    <tr>\n",
       "      <th>2</th>\n",
       "      <td>2018-01-03</td>\n",
       "      <td>Natanael Lazcano Aguilar</td>\n",
       "      <td>Félix Llanos Macías</td>\n",
       "      <td>Cardiología</td>\n",
       "      <td>Consulta</td>\n",
       "      <td>1075</td>\n",
       "      <td>0.78</td>\n",
       "      <td>0.12</td>\n",
       "      <td>2018-01</td>\n",
       "      <td>2018</td>\n",
       "    </tr>\n",
       "    <tr>\n",
       "      <th>3</th>\n",
       "      <td>2018-01-04</td>\n",
       "      <td>Judith Hinojosa Torres</td>\n",
       "      <td>Ismael López Saldaña</td>\n",
       "      <td>Hematología</td>\n",
       "      <td>Consulta</td>\n",
       "      <td>1075</td>\n",
       "      <td>0.92</td>\n",
       "      <td>0.17</td>\n",
       "      <td>2018-01</td>\n",
       "      <td>2018</td>\n",
       "    </tr>\n",
       "    <tr>\n",
       "      <th>4</th>\n",
       "      <td>2018-01-07</td>\n",
       "      <td>Giovanni Rudomín Arias</td>\n",
       "      <td>Paulina Contreras Cuevas</td>\n",
       "      <td>Gastroenterología.</td>\n",
       "      <td>Consulta</td>\n",
       "      <td>1125</td>\n",
       "      <td>0.89</td>\n",
       "      <td>0.12</td>\n",
       "      <td>2018-01</td>\n",
       "      <td>2018</td>\n",
       "    </tr>\n",
       "    <tr>\n",
       "      <th>...</th>\n",
       "      <td>...</td>\n",
       "      <td>...</td>\n",
       "      <td>...</td>\n",
       "      <td>...</td>\n",
       "      <td>...</td>\n",
       "      <td>...</td>\n",
       "      <td>...</td>\n",
       "      <td>...</td>\n",
       "      <td>...</td>\n",
       "      <td>...</td>\n",
       "    </tr>\n",
       "    <tr>\n",
       "      <th>1948</th>\n",
       "      <td>2021-12-23</td>\n",
       "      <td>Miguel Mejía Arias</td>\n",
       "      <td>Constanza Cetina Cuenca</td>\n",
       "      <td>Hematología</td>\n",
       "      <td>Consulta</td>\n",
       "      <td>1000</td>\n",
       "      <td>0.71</td>\n",
       "      <td>0.10</td>\n",
       "      <td>2021-12</td>\n",
       "      <td>2021</td>\n",
       "    </tr>\n",
       "    <tr>\n",
       "      <th>1949</th>\n",
       "      <td>2021-12-23</td>\n",
       "      <td>Yaneth Revuelta Ávalos</td>\n",
       "      <td>Gonzalo Ondarza Gómez</td>\n",
       "      <td>Ginegología</td>\n",
       "      <td>Consulta</td>\n",
       "      <td>1150</td>\n",
       "      <td>0.71</td>\n",
       "      <td>0.17</td>\n",
       "      <td>2021-12</td>\n",
       "      <td>2021</td>\n",
       "    </tr>\n",
       "    <tr>\n",
       "      <th>1950</th>\n",
       "      <td>2021-12-25</td>\n",
       "      <td>Nelson Molina Funes</td>\n",
       "      <td>Óscar Richardson Ávalos</td>\n",
       "      <td>Cirugía General.</td>\n",
       "      <td>Consulta</td>\n",
       "      <td>1050</td>\n",
       "      <td>0.86</td>\n",
       "      <td>0.05</td>\n",
       "      <td>2021-12</td>\n",
       "      <td>2021</td>\n",
       "    </tr>\n",
       "    <tr>\n",
       "      <th>1951</th>\n",
       "      <td>2021-12-26</td>\n",
       "      <td>Javier Cervera Lazcano</td>\n",
       "      <td>Ismael López Saldaña</td>\n",
       "      <td>Hematología</td>\n",
       "      <td>Consulta</td>\n",
       "      <td>1100</td>\n",
       "      <td>0.80</td>\n",
       "      <td>0.12</td>\n",
       "      <td>2021-12</td>\n",
       "      <td>2021</td>\n",
       "    </tr>\n",
       "    <tr>\n",
       "      <th>1952</th>\n",
       "      <td>2021-12-27</td>\n",
       "      <td>William Contreras Santillas</td>\n",
       "      <td>Gonzalo Ondarza Gómez</td>\n",
       "      <td>Ginegología</td>\n",
       "      <td>Consulta</td>\n",
       "      <td>1000</td>\n",
       "      <td>0.89</td>\n",
       "      <td>0.07</td>\n",
       "      <td>2021-12</td>\n",
       "      <td>2021</td>\n",
       "    </tr>\n",
       "  </tbody>\n",
       "</table>\n",
       "<p>1953 rows × 10 columns</p>\n",
       "</div>"
      ],
      "text/plain": [
       "          Fecha                       Nombre                    Doctor  \\\n",
       "0    2018-01-01      Bastian Hurtado Cabrero      Simón Castro Infante   \n",
       "1    2018-01-02           Carla Rosas Ávalos      Ismael López Saldaña   \n",
       "2    2018-01-03     Natanael Lazcano Aguilar       Félix Llanos Macías   \n",
       "3    2018-01-04       Judith Hinojosa Torres      Ismael López Saldaña   \n",
       "4    2018-01-07       Giovanni Rudomín Arias  Paulina Contreras Cuevas   \n",
       "...         ...                          ...                       ...   \n",
       "1948 2021-12-23           Miguel Mejía Arias   Constanza Cetina Cuenca   \n",
       "1949 2021-12-23       Yaneth Revuelta Ávalos     Gonzalo Ondarza Gómez   \n",
       "1950 2021-12-25          Nelson Molina Funes   Óscar Richardson Ávalos   \n",
       "1951 2021-12-26       Javier Cervera Lazcano      Ismael López Saldaña   \n",
       "1952 2021-12-27  William Contreras Santillas     Gonzalo Ondarza Gómez   \n",
       "\n",
       "            Especialidad      Tipo  Honorarios  Calificación  Comisión  \\\n",
       "0            Hematología  Consulta        1025          0.84      0.16   \n",
       "1            Hematología  Consulta        1025          0.83      0.11   \n",
       "2           Cardiología   Consulta        1075          0.78      0.12   \n",
       "3            Hematología  Consulta        1075          0.92      0.17   \n",
       "4     Gastroenterología.  Consulta        1125          0.89      0.12   \n",
       "...                  ...       ...         ...           ...       ...   \n",
       "1948         Hematología  Consulta        1000          0.71      0.10   \n",
       "1949         Ginegología  Consulta        1150          0.71      0.17   \n",
       "1950    Cirugía General.  Consulta        1050          0.86      0.05   \n",
       "1951         Hematología  Consulta        1100          0.80      0.12   \n",
       "1952         Ginegología  Consulta        1000          0.89      0.07   \n",
       "\n",
       "     FechaMes   Año  \n",
       "0     2018-01  2018  \n",
       "1     2018-01  2018  \n",
       "2     2018-01  2018  \n",
       "3     2018-01  2018  \n",
       "4     2018-01  2018  \n",
       "...       ...   ...  \n",
       "1948  2021-12  2021  \n",
       "1949  2021-12  2021  \n",
       "1950  2021-12  2021  \n",
       "1951  2021-12  2021  \n",
       "1952  2021-12  2021  \n",
       "\n",
       "[1953 rows x 10 columns]"
      ]
     },
     "execution_count": 18,
     "metadata": {},
     "output_type": "execute_result"
    }
   ],
   "source": [
    "consulta_medica"
   ]
  },
  {
   "cell_type": "markdown",
   "id": "1fa5cd0d-3bb1-4923-a6bb-c6fa09fa55a8",
   "metadata": {},
   "source": [
    "![Resuelto](./Img_24_Ejercicios/Act14Img2.png)"
   ]
  },
  {
   "cell_type": "markdown",
   "id": "8a414e01-bff7-4b82-9bb7-8aaddf61c110",
   "metadata": {},
   "source": [
    "__Conclusión:__ el costo por una consulta normalmente es de 1000 o 1250 pesos"
   ]
  },
  {
   "cell_type": "markdown",
   "id": "d715dd09-6e67-4248-a422-ee79bb1875b1",
   "metadata": {},
   "source": [
    "## Ejercicio 15\n",
    "Crear una función utilizando groupby que devuelva un DataFrame con el total de visitas al hospital por cada especialidad, el resultado debe ser el siguiente:"
   ]
  },
  {
   "cell_type": "markdown",
   "id": "a3c387c4-0819-40f9-a4b0-bbb0969c2655",
   "metadata": {},
   "source": [
    "![Resuelto](./Img_24_Ejercicios/Act15Img1.png)"
   ]
  },
  {
   "cell_type": "code",
   "execution_count": 22,
   "id": "67934485-fd52-4a37-9319-50196d3b6dfb",
   "metadata": {},
   "outputs": [
    {
     "data": {
      "application/vnd.microsoft.datawrangler.viewer.v0+json": {
       "columns": [
        {
         "name": "Especialidad",
         "rawType": "object",
         "type": "string"
        },
        {
         "name": "Doctor",
         "rawType": "int64",
         "type": "integer"
        }
       ],
       "ref": "6331e64b-fb2c-4793-88dd-255454cd9a00",
       "rows": [
        [
         "Cardiología ",
         "390"
        ],
        [
         "Cirugía General.",
         "438"
        ],
        [
         "Cirugía Pediátrica.",
         "294"
        ],
        [
         "Cirugía Plástica",
         "549"
        ],
        [
         "Dermatología",
         "651"
        ],
        [
         "Gastroenterología.",
         "285"
        ],
        [
         "Ginegología",
         "312"
        ],
        [
         "Hematología",
         "522"
        ],
        [
         "Nefrología",
         "159"
        ]
       ],
       "shape": {
        "columns": 1,
        "rows": 9
       }
      },
      "text/html": [
       "<div>\n",
       "<style scoped>\n",
       "    .dataframe tbody tr th:only-of-type {\n",
       "        vertical-align: middle;\n",
       "    }\n",
       "\n",
       "    .dataframe tbody tr th {\n",
       "        vertical-align: top;\n",
       "    }\n",
       "\n",
       "    .dataframe thead th {\n",
       "        text-align: right;\n",
       "    }\n",
       "</style>\n",
       "<table border=\"1\" class=\"dataframe\">\n",
       "  <thead>\n",
       "    <tr style=\"text-align: right;\">\n",
       "      <th></th>\n",
       "      <th>Doctor</th>\n",
       "    </tr>\n",
       "    <tr>\n",
       "      <th>Especialidad</th>\n",
       "      <th></th>\n",
       "    </tr>\n",
       "  </thead>\n",
       "  <tbody>\n",
       "    <tr>\n",
       "      <th>Cardiología</th>\n",
       "      <td>390</td>\n",
       "    </tr>\n",
       "    <tr>\n",
       "      <th>Cirugía General.</th>\n",
       "      <td>438</td>\n",
       "    </tr>\n",
       "    <tr>\n",
       "      <th>Cirugía Pediátrica.</th>\n",
       "      <td>294</td>\n",
       "    </tr>\n",
       "    <tr>\n",
       "      <th>Cirugía Plástica</th>\n",
       "      <td>549</td>\n",
       "    </tr>\n",
       "    <tr>\n",
       "      <th>Dermatología</th>\n",
       "      <td>651</td>\n",
       "    </tr>\n",
       "    <tr>\n",
       "      <th>Gastroenterología.</th>\n",
       "      <td>285</td>\n",
       "    </tr>\n",
       "    <tr>\n",
       "      <th>Ginegología</th>\n",
       "      <td>312</td>\n",
       "    </tr>\n",
       "    <tr>\n",
       "      <th>Hematología</th>\n",
       "      <td>522</td>\n",
       "    </tr>\n",
       "    <tr>\n",
       "      <th>Nefrología</th>\n",
       "      <td>159</td>\n",
       "    </tr>\n",
       "  </tbody>\n",
       "</table>\n",
       "</div>"
      ],
      "text/plain": [
       "                     Doctor\n",
       "Especialidad               \n",
       "Cardiología             390\n",
       "Cirugía General.        438\n",
       "Cirugía Pediátrica.     294\n",
       "Cirugía Plástica        549\n",
       "Dermatología            651\n",
       "Gastroenterología.      285\n",
       "Ginegología             312\n",
       "Hematología             522\n",
       "Nefrología              159"
      ]
     },
     "execution_count": 22,
     "metadata": {},
     "output_type": "execute_result"
    }
   ],
   "source": [
    "hospital.groupby(\"Especialidad\").agg({\"Doctor\":\"size\"})"
   ]
  },
  {
   "cell_type": "code",
   "execution_count": null,
   "id": "7b63000f-c877-4573-8a01-e193a3356273",
   "metadata": {},
   "outputs": [],
   "source": []
  },
  {
   "cell_type": "markdown",
   "id": "7834a478-d73e-4e19-9fd6-20730c7c672c",
   "metadata": {},
   "source": [
    "![Resuelto](./Img_24_Ejercicios/Act15Img2.png)"
   ]
  },
  {
   "cell_type": "markdown",
   "id": "8ccda34a-9902-467c-a8a4-e9cfde8b0f14",
   "metadata": {},
   "source": [
    "__Conclusión:__ la especialidad más demandada es la dermatología"
   ]
  },
  {
   "cell_type": "markdown",
   "id": "900d1482-2464-46b7-9560-631b5cacb1d6",
   "metadata": {},
   "source": [
    "## Ejercicio 16"
   ]
  },
  {
   "cell_type": "markdown",
   "id": "c3110933-329f-4ee6-ba17-c5abc897c212",
   "metadata": {},
   "source": [
    "Agregar una columna llamada \"Mes\", que contenga el año y el mes de la columna fecha (Ej. 01)"
   ]
  },
  {
   "cell_type": "markdown",
   "id": "df80f83b-8c39-4474-a1ce-6d67b89b4fbb",
   "metadata": {},
   "source": [
    "![Resuelto](./Img_24_Ejercicios/Act16Img1.png)"
   ]
  },
  {
   "cell_type": "code",
   "execution_count": 46,
   "id": "998265e9-b2d7-41ba-978d-bacc470ac99f",
   "metadata": {},
   "outputs": [
    {
     "data": {
      "application/vnd.microsoft.datawrangler.viewer.v0+json": {
       "columns": [
        {
         "name": "index",
         "rawType": "int64",
         "type": "integer"
        },
        {
         "name": "Fecha",
         "rawType": "datetime64[ns]",
         "type": "datetime"
        },
        {
         "name": "Nombre",
         "rawType": "object",
         "type": "string"
        },
        {
         "name": "Doctor",
         "rawType": "object",
         "type": "string"
        },
        {
         "name": "Especialidad",
         "rawType": "object",
         "type": "string"
        },
        {
         "name": "Tipo",
         "rawType": "object",
         "type": "string"
        },
        {
         "name": "Honorarios",
         "rawType": "int64",
         "type": "integer"
        },
        {
         "name": "Calificación",
         "rawType": "float64",
         "type": "float"
        },
        {
         "name": "Comisión",
         "rawType": "float64",
         "type": "float"
        },
        {
         "name": "FechaMes",
         "rawType": "object",
         "type": "string"
        },
        {
         "name": "Año",
         "rawType": "int32",
         "type": "integer"
        },
        {
         "name": "Mes",
         "rawType": "int32",
         "type": "integer"
        }
       ],
       "ref": "a64f737c-930d-4a72-9f54-f5f3d493c1b9",
       "rows": [
        [
         "0",
         "2018-01-01 00:00:00",
         "Bastian Hurtado Cabrero",
         "Simón Castro Infante",
         "Hematología",
         "Consulta",
         "1025",
         "0.84",
         "0.16",
         "2018-01",
         "2018",
         "1"
        ],
        [
         "1",
         "2018-01-02 00:00:00",
         "Carla Rosas Ávalos",
         "Ismael López Saldaña",
         "Hematología",
         "Consulta",
         "1025",
         "0.83",
         "0.11",
         "2018-01",
         "2018",
         "1"
        ],
        [
         "2",
         "2018-01-03 00:00:00",
         "Natanael Lazcano Aguilar",
         "Félix Llanos Macías",
         "Cardiología ",
         "Consulta",
         "1075",
         "0.78",
         "0.12",
         "2018-01",
         "2018",
         "1"
        ],
        [
         "3",
         "2018-01-04 00:00:00",
         "Judith Hinojosa Torres",
         "Ismael López Saldaña",
         "Hematología",
         "Consulta",
         "1075",
         "0.92",
         "0.17",
         "2018-01",
         "2018",
         "1"
        ],
        [
         "4",
         "2018-01-07 00:00:00",
         "Giovanni Rudomín Arias",
         "Paulina Contreras Cuevas",
         "Gastroenterología.",
         "Consulta",
         "1125",
         "0.89",
         "0.12",
         "2018-01",
         "2018",
         "1"
        ]
       ],
       "shape": {
        "columns": 11,
        "rows": 5
       }
      },
      "text/html": [
       "<div>\n",
       "<style scoped>\n",
       "    .dataframe tbody tr th:only-of-type {\n",
       "        vertical-align: middle;\n",
       "    }\n",
       "\n",
       "    .dataframe tbody tr th {\n",
       "        vertical-align: top;\n",
       "    }\n",
       "\n",
       "    .dataframe thead th {\n",
       "        text-align: right;\n",
       "    }\n",
       "</style>\n",
       "<table border=\"1\" class=\"dataframe\">\n",
       "  <thead>\n",
       "    <tr style=\"text-align: right;\">\n",
       "      <th></th>\n",
       "      <th>Fecha</th>\n",
       "      <th>Nombre</th>\n",
       "      <th>Doctor</th>\n",
       "      <th>Especialidad</th>\n",
       "      <th>Tipo</th>\n",
       "      <th>Honorarios</th>\n",
       "      <th>Calificación</th>\n",
       "      <th>Comisión</th>\n",
       "      <th>FechaMes</th>\n",
       "      <th>Año</th>\n",
       "      <th>Mes</th>\n",
       "    </tr>\n",
       "  </thead>\n",
       "  <tbody>\n",
       "    <tr>\n",
       "      <th>0</th>\n",
       "      <td>2018-01-01</td>\n",
       "      <td>Bastian Hurtado Cabrero</td>\n",
       "      <td>Simón Castro Infante</td>\n",
       "      <td>Hematología</td>\n",
       "      <td>Consulta</td>\n",
       "      <td>1025</td>\n",
       "      <td>0.84</td>\n",
       "      <td>0.16</td>\n",
       "      <td>2018-01</td>\n",
       "      <td>2018</td>\n",
       "      <td>1</td>\n",
       "    </tr>\n",
       "    <tr>\n",
       "      <th>1</th>\n",
       "      <td>2018-01-02</td>\n",
       "      <td>Carla Rosas Ávalos</td>\n",
       "      <td>Ismael López Saldaña</td>\n",
       "      <td>Hematología</td>\n",
       "      <td>Consulta</td>\n",
       "      <td>1025</td>\n",
       "      <td>0.83</td>\n",
       "      <td>0.11</td>\n",
       "      <td>2018-01</td>\n",
       "      <td>2018</td>\n",
       "      <td>1</td>\n",
       "    </tr>\n",
       "    <tr>\n",
       "      <th>2</th>\n",
       "      <td>2018-01-03</td>\n",
       "      <td>Natanael Lazcano Aguilar</td>\n",
       "      <td>Félix Llanos Macías</td>\n",
       "      <td>Cardiología</td>\n",
       "      <td>Consulta</td>\n",
       "      <td>1075</td>\n",
       "      <td>0.78</td>\n",
       "      <td>0.12</td>\n",
       "      <td>2018-01</td>\n",
       "      <td>2018</td>\n",
       "      <td>1</td>\n",
       "    </tr>\n",
       "    <tr>\n",
       "      <th>3</th>\n",
       "      <td>2018-01-04</td>\n",
       "      <td>Judith Hinojosa Torres</td>\n",
       "      <td>Ismael López Saldaña</td>\n",
       "      <td>Hematología</td>\n",
       "      <td>Consulta</td>\n",
       "      <td>1075</td>\n",
       "      <td>0.92</td>\n",
       "      <td>0.17</td>\n",
       "      <td>2018-01</td>\n",
       "      <td>2018</td>\n",
       "      <td>1</td>\n",
       "    </tr>\n",
       "    <tr>\n",
       "      <th>4</th>\n",
       "      <td>2018-01-07</td>\n",
       "      <td>Giovanni Rudomín Arias</td>\n",
       "      <td>Paulina Contreras Cuevas</td>\n",
       "      <td>Gastroenterología.</td>\n",
       "      <td>Consulta</td>\n",
       "      <td>1125</td>\n",
       "      <td>0.89</td>\n",
       "      <td>0.12</td>\n",
       "      <td>2018-01</td>\n",
       "      <td>2018</td>\n",
       "      <td>1</td>\n",
       "    </tr>\n",
       "  </tbody>\n",
       "</table>\n",
       "</div>"
      ],
      "text/plain": [
       "       Fecha                    Nombre                    Doctor  \\\n",
       "0 2018-01-01   Bastian Hurtado Cabrero      Simón Castro Infante   \n",
       "1 2018-01-02        Carla Rosas Ávalos      Ismael López Saldaña   \n",
       "2 2018-01-03  Natanael Lazcano Aguilar       Félix Llanos Macías   \n",
       "3 2018-01-04    Judith Hinojosa Torres      Ismael López Saldaña   \n",
       "4 2018-01-07    Giovanni Rudomín Arias  Paulina Contreras Cuevas   \n",
       "\n",
       "         Especialidad      Tipo  Honorarios  Calificación  Comisión FechaMes  \\\n",
       "0         Hematología  Consulta        1025          0.84      0.16  2018-01   \n",
       "1         Hematología  Consulta        1025          0.83      0.11  2018-01   \n",
       "2        Cardiología   Consulta        1075          0.78      0.12  2018-01   \n",
       "3         Hematología  Consulta        1075          0.92      0.17  2018-01   \n",
       "4  Gastroenterología.  Consulta        1125          0.89      0.12  2018-01   \n",
       "\n",
       "    Año  Mes  \n",
       "0  2018    1  \n",
       "1  2018    1  \n",
       "2  2018    1  \n",
       "3  2018    1  \n",
       "4  2018    1  "
      ]
     },
     "execution_count": 46,
     "metadata": {},
     "output_type": "execute_result"
    }
   ],
   "source": [
    "hospital[\"Mes\"] = hospital.Fecha.dt.month\n",
    "\n",
    "hospital.head()"
   ]
  },
  {
   "cell_type": "markdown",
   "id": "08c0c9d4-6870-4739-ae16-6000aae55d8e",
   "metadata": {},
   "source": [
    "Crear una función que devuelva un DataFrame con la información de las visitas al hospital cuyo motivo fue una operación, el resultado debe ser el siguiente:"
   ]
  },
  {
   "cell_type": "markdown",
   "id": "4cc97621-39cd-4773-b804-d984e548603e",
   "metadata": {},
   "source": [
    "![Resuelto](./Img_24_Ejercicios/Act16Img2.png)"
   ]
  },
  {
   "cell_type": "code",
   "execution_count": 47,
   "id": "5251f216-0d6c-4aa8-af36-b040bc48ebbd",
   "metadata": {},
   "outputs": [],
   "source": [
    "operacion_df = hospital.loc[hospital[\"Tipo\"] == \"Operación\"]"
   ]
  },
  {
   "cell_type": "code",
   "execution_count": 48,
   "id": "14b5ab1b-a7b5-4bfd-b17c-0a26562c5219",
   "metadata": {},
   "outputs": [
    {
     "data": {
      "application/vnd.microsoft.datawrangler.viewer.v0+json": {
       "columns": [
        {
         "name": "index",
         "rawType": "int64",
         "type": "integer"
        },
        {
         "name": "Fecha",
         "rawType": "datetime64[ns]",
         "type": "datetime"
        },
        {
         "name": "Nombre",
         "rawType": "object",
         "type": "string"
        },
        {
         "name": "Doctor",
         "rawType": "object",
         "type": "string"
        },
        {
         "name": "Especialidad",
         "rawType": "object",
         "type": "string"
        },
        {
         "name": "Tipo",
         "rawType": "object",
         "type": "string"
        },
        {
         "name": "Honorarios",
         "rawType": "int64",
         "type": "integer"
        },
        {
         "name": "Calificación",
         "rawType": "float64",
         "type": "float"
        },
        {
         "name": "Comisión",
         "rawType": "float64",
         "type": "float"
        },
        {
         "name": "FechaMes",
         "rawType": "object",
         "type": "string"
        },
        {
         "name": "Año",
         "rawType": "int32",
         "type": "integer"
        },
        {
         "name": "Mes",
         "rawType": "int32",
         "type": "integer"
        }
       ],
       "ref": "b7188fe2-a842-417d-aa01-32325521c007",
       "rows": [
        [
         "3063",
         "2018-01-03 00:00:00",
         "Stephanie Rioja Núñez",
         "Paulina Contreras Cuevas",
         "Gastroenterología.",
         "Operación",
         "15000",
         "0.88",
         "0.07",
         "2018-01",
         "2018",
         "1"
        ],
        [
         "3064",
         "2018-01-05 00:00:00",
         "Adán Velasco Pizano",
         "Ismael López Saldaña",
         "Hematología",
         "Operación",
         "25000",
         "0.96",
         "0.06",
         "2018-01",
         "2018",
         "1"
        ],
        [
         "3065",
         "2018-01-06 00:00:00",
         "Jesús Posadas Peñalosa",
         "Félix Llanos Macías",
         "Cardiología ",
         "Operación",
         "22500",
         "0.82",
         "0.06",
         "2018-01",
         "2018",
         "1"
        ],
        [
         "3066",
         "2018-01-19 00:00:00",
         "Álvaro Arroyo Varela",
         "Paulina Contreras Cuevas",
         "Gastroenterología.",
         "Operación",
         "37000",
         "0.99",
         "0.17",
         "2018-01",
         "2018",
         "1"
        ],
        [
         "3067",
         "2018-01-20 00:00:00",
         "Lucas Roldán Ondarza",
         "Ismael López Saldaña",
         "Hematología",
         "Operación",
         "12000",
         "0.73",
         "0.1",
         "2018-01",
         "2018",
         "1"
        ],
        [
         "3068",
         "2018-01-22 00:00:00",
         "Jacobo Berlanga Gallegos",
         "Félix Llanos Macías",
         "Cardiología ",
         "Operación",
         "40000",
         "0.89",
         "0.12",
         "2018-01",
         "2018",
         "1"
        ],
        [
         "3069",
         "2018-01-29 00:00:00",
         "Helio Marín Pedrón",
         "Ismael López Saldaña",
         "Hematología",
         "Operación",
         "33000",
         "0.91",
         "0.11",
         "2018-01",
         "2018",
         "1"
        ],
        [
         "3070",
         "2018-02-01 00:00:00",
         "Adrián Richardson Cervera",
         "Félix Llanos Macías",
         "Cardiología ",
         "Operación",
         "15000",
         "0.73",
         "0.12",
         "2018-02",
         "2018",
         "2"
        ],
        [
         "3071",
         "2018-02-03 00:00:00",
         "Alexis Montalvo Salín",
         "Paulina Contreras Cuevas",
         "Gastroenterología.",
         "Operación",
         "34000",
         "0.85",
         "0.17",
         "2018-02",
         "2018",
         "2"
        ],
        [
         "3072",
         "2018-02-05 00:00:00",
         "Liney Cruz Terán",
         "Félix Llanos Macías",
         "Cardiología ",
         "Operación",
         "47000",
         "0.71",
         "0.16",
         "2018-02",
         "2018",
         "2"
        ],
        [
         "3073",
         "2018-02-10 00:00:00",
         "Edir Arroyo Lemus",
         "Félix Llanos Macías",
         "Cardiología ",
         "Operación",
         "45500",
         "0.92",
         "0.12",
         "2018-02",
         "2018",
         "2"
        ],
        [
         "3074",
         "2018-02-16 00:00:00",
         "Nadia Salas Barriete",
         "Paulina Contreras Cuevas",
         "Gastroenterología.",
         "Operación",
         "21000",
         "0.87",
         "0.06",
         "2018-02",
         "2018",
         "2"
        ],
        [
         "3075",
         "2018-02-18 00:00:00",
         "Casandra Cetina Hernán",
         "Alastor Mansilla Rivas",
         "Cirugía General.",
         "Operación",
         "40000",
         "0.92",
         "0.09",
         "2018-02",
         "2018",
         "2"
        ],
        [
         "3076",
         "2018-02-18 00:00:00",
         "Rafael Camacho Urrutia",
         "Félix Llanos Macías",
         "Cardiología ",
         "Operación",
         "46500",
         "0.98",
         "0.2",
         "2018-02",
         "2018",
         "2"
        ],
        [
         "3077",
         "2018-02-18 00:00:00",
         "Dionisio Cuevas Barrera",
         "Ismael López Saldaña",
         "Hematología",
         "Operación",
         "41000",
         "0.95",
         "0.07",
         "2018-02",
         "2018",
         "2"
        ],
        [
         "3078",
         "2018-02-19 00:00:00",
         "Julia Durán Ponce",
         "Félix Llanos Macías",
         "Cardiología ",
         "Operación",
         "42000",
         "0.85",
         "0.06",
         "2018-02",
         "2018",
         "2"
        ],
        [
         "3079",
         "2018-02-20 00:00:00",
         "Leopoldo Castro Barriete",
         "Félix Llanos Macías",
         "Cardiología ",
         "Operación",
         "48500",
         "0.76",
         "0.16",
         "2018-02",
         "2018",
         "2"
        ],
        [
         "3080",
         "2018-02-23 00:00:00",
         "Iván Calderón Montalvo",
         "Ismael López Saldaña",
         "Hematología",
         "Operación",
         "21500",
         "0.79",
         "0.2",
         "2018-02",
         "2018",
         "2"
        ],
        [
         "3081",
         "2018-02-28 00:00:00",
         "Trevor Kimura Palacios",
         "Ismael López Saldaña",
         "Hematología",
         "Operación",
         "42000",
         "0.94",
         "0.1",
         "2018-02",
         "2018",
         "2"
        ],
        [
         "3082",
         "2018-03-04 00:00:00",
         "Kevin Solórzano Piñeda",
         "Iván Ramos Robles",
         "Nefrología",
         "Operación",
         "28000",
         "0.82",
         "0.14",
         "2018-03",
         "2018",
         "3"
        ],
        [
         "3083",
         "2018-03-06 00:00:00",
         "Félix Salamanca Ríos",
         "Óscar Richardson Ávalos",
         "Cirugía General.",
         "Operación",
         "14500",
         "0.89",
         "0.13",
         "2018-03",
         "2018",
         "3"
        ],
        [
         "3084",
         "2018-03-08 00:00:00",
         "Paula Llanos Orozco",
         "Daniel Mejía Fraga",
         "Cirugía Pediátrica.",
         "Operación",
         "15500",
         "0.77",
         "0.12",
         "2018-03",
         "2018",
         "3"
        ],
        [
         "3085",
         "2018-03-11 00:00:00",
         "Delfino Muñoz Barquera",
         "Daniel Mejía Fraga",
         "Cirugía Pediátrica.",
         "Operación",
         "48000",
         "0.72",
         "0.08",
         "2018-03",
         "2018",
         "3"
        ],
        [
         "3086",
         "2018-03-15 00:00:00",
         "Isaac Biagi Llamas",
         "Óscar Richardson Ávalos",
         "Cirugía General.",
         "Operación",
         "40500",
         "0.96",
         "0.14",
         "2018-03",
         "2018",
         "3"
        ],
        [
         "3087",
         "2018-03-15 00:00:00",
         "Celeste Baeza Mora",
         "Alfonso Soda Neri",
         "Cirugía Plástica",
         "Operación",
         "8500",
         "0.84",
         "0.2",
         "2018-03",
         "2018",
         "3"
        ],
        [
         "3088",
         "2018-03-16 00:00:00",
         "Favio Revuelta Borundo",
         "Isabella Roldán Velásquez",
         "Dermatología",
         "Operación",
         "49000",
         "0.82",
         "0.09",
         "2018-03",
         "2018",
         "3"
        ],
        [
         "3089",
         "2018-03-20 00:00:00",
         "Félix Luna Gracia",
         "Alfonso Soda Neri",
         "Cirugía Plástica",
         "Operación",
         "28500",
         "0.73",
         "0.19",
         "2018-03",
         "2018",
         "3"
        ],
        [
         "3090",
         "2018-03-20 00:00:00",
         "Luna Díaz Sotello",
         "Alastor Mansilla Rivas",
         "Cirugía General.",
         "Operación",
         "46500",
         "0.78",
         "0.05",
         "2018-03",
         "2018",
         "3"
        ],
        [
         "3091",
         "2018-03-22 00:00:00",
         "Cristina Maldonado Saturno",
         "Isabella Roldán Velásquez",
         "Dermatología",
         "Operación",
         "29000",
         "0.81",
         "0.09",
         "2018-03",
         "2018",
         "3"
        ],
        [
         "3092",
         "2018-03-27 00:00:00",
         "Elena Pulido Barragán",
         "Lucía Flores Muñoz",
         "Dermatología",
         "Operación",
         "39500",
         "0.93",
         "0.05",
         "2018-03",
         "2018",
         "3"
        ],
        [
         "3093",
         "2018-03-27 00:00:00",
         "Lina Mercado Rocha",
         "Isabella Roldán Velásquez",
         "Dermatología",
         "Operación",
         "42000",
         "0.88",
         "0.14",
         "2018-03",
         "2018",
         "3"
        ],
        [
         "3094",
         "2018-04-02 00:00:00",
         "Liliana Blanco Franco",
         "Alfonso Soda Neri",
         "Cirugía Plástica",
         "Operación",
         "40000",
         "0.83",
         "0.08",
         "2018-04",
         "2018",
         "4"
        ],
        [
         "3095",
         "2018-04-02 00:00:00",
         "Penelope Villalobos Baeza",
         "Flavio Ávalos Arroyo",
         "Dermatología",
         "Operación",
         "39500",
         "0.95",
         "0.18",
         "2018-04",
         "2018",
         "4"
        ],
        [
         "3096",
         "2018-04-05 00:00:00",
         "Abril Núñez Saturno",
         "Nestor Núñez Basurto",
         "Hematología",
         "Operación",
         "8000",
         "0.61",
         "0.07",
         "2018-04",
         "2018",
         "4"
        ],
        [
         "3097",
         "2018-04-08 00:00:00",
         "Marcelino De La Fuente Manzanilla",
         "Óscar Richardson Ávalos",
         "Cirugía General.",
         "Operación",
         "32000",
         "0.72",
         "0.18",
         "2018-04",
         "2018",
         "4"
        ],
        [
         "3098",
         "2018-04-08 00:00:00",
         "Berta Sáez Ibarra",
         "Óscar Montalvo Cuevas",
         "Cirugía Plástica",
         "Operación",
         "43000",
         "0.82",
         "0.14",
         "2018-04",
         "2018",
         "4"
        ],
        [
         "3099",
         "2018-04-14 00:00:00",
         "Gonzalo Franco Pineda",
         "Óscar Montalvo Cuevas",
         "Cirugía Plástica",
         "Operación",
         "20000",
         "0.93",
         "0.13",
         "2018-04",
         "2018",
         "4"
        ],
        [
         "3100",
         "2018-04-18 00:00:00",
         "Moises Nava Nathal",
         "Nicolás Vargas Tapia",
         "Cardiología ",
         "Operación",
         "41500",
         "0.7",
         "0.17",
         "2018-04",
         "2018",
         "4"
        ],
        [
         "3101",
         "2018-04-20 00:00:00",
         "Ginnie Ruiz Del Rio",
         "Óscar Richardson Ávalos",
         "Cirugía General.",
         "Operación",
         "36500",
         "0.72",
         "0.11",
         "2018-04",
         "2018",
         "4"
        ],
        [
         "3102",
         "2018-04-21 00:00:00",
         "Emmanuel Borundo Vera",
         "Nestor Núñez Basurto",
         "Hematología",
         "Operación",
         "11000",
         "0.85",
         "0.17",
         "2018-04",
         "2018",
         "4"
        ],
        [
         "3103",
         "2018-04-21 00:00:00",
         "Dionisio Huerta Maulén",
         "Óscar Richardson Ávalos",
         "Cirugía General.",
         "Operación",
         "46500",
         "0.88",
         "0.13",
         "2018-04",
         "2018",
         "4"
        ],
        [
         "3104",
         "2018-04-26 00:00:00",
         "Edwin Torres Barquera",
         "Nestor Núñez Basurto",
         "Hematología",
         "Operación",
         "45000",
         "0.98",
         "0.1",
         "2018-04",
         "2018",
         "4"
        ],
        [
         "3105",
         "2018-05-04 00:00:00",
         "Fatima Franco Ruiz",
         "Lucía Flores Muñoz",
         "Dermatología",
         "Operación",
         "29500",
         "0.87",
         "0.12",
         "2018-05",
         "2018",
         "5"
        ],
        [
         "3106",
         "2018-05-04 00:00:00",
         "Yuri Verástegui Torres",
         "Ismael López Saldaña",
         "Hematología",
         "Operación",
         "27000",
         "0.95",
         "0.19",
         "2018-05",
         "2018",
         "5"
        ],
        [
         "3107",
         "2018-05-06 00:00:00",
         "Federico Durán Vilar",
         "Simón Castro Infante",
         "Cirugía Pediátrica.",
         "Operación",
         "14000",
         "0.67",
         "0.12",
         "2018-05",
         "2018",
         "5"
        ],
        [
         "3108",
         "2018-05-09 00:00:00",
         "Selena Larrea Casado",
         "Lucía Flores Muñoz",
         "Dermatología",
         "Operación",
         "25000",
         "0.97",
         "0.18",
         "2018-05",
         "2018",
         "5"
        ],
        [
         "3109",
         "2018-05-10 00:00:00",
         "Berta Salamanca Lazcano",
         "Óscar Richardson Ávalos",
         "Cirugía General.",
         "Operación",
         "26000",
         "0.86",
         "0.13",
         "2018-05",
         "2018",
         "5"
        ],
        [
         "3110",
         "2018-05-15 00:00:00",
         "Federico Nieto Colmenero",
         "Iván Ramos Robles",
         "Nefrología",
         "Operación",
         "15500",
         "0.97",
         "0.16",
         "2018-05",
         "2018",
         "5"
        ],
        [
         "3111",
         "2018-05-24 00:00:00",
         "Natanael Santos Macías",
         "Alfonso Soda Neri",
         "Cirugía Plástica",
         "Operación",
         "17000",
         "0.72",
         "0.14",
         "2018-05",
         "2018",
         "5"
        ],
        [
         "3112",
         "2018-05-28 00:00:00",
         "Leonardo Favela Becker",
         "Lucía Flores Muñoz",
         "Dermatología",
         "Operación",
         "24500",
         "0.69",
         "0.2",
         "2018-05",
         "2018",
         "5"
        ]
       ],
       "shape": {
        "columns": 11,
        "rows": 537
       }
      },
      "text/html": [
       "<div>\n",
       "<style scoped>\n",
       "    .dataframe tbody tr th:only-of-type {\n",
       "        vertical-align: middle;\n",
       "    }\n",
       "\n",
       "    .dataframe tbody tr th {\n",
       "        vertical-align: top;\n",
       "    }\n",
       "\n",
       "    .dataframe thead th {\n",
       "        text-align: right;\n",
       "    }\n",
       "</style>\n",
       "<table border=\"1\" class=\"dataframe\">\n",
       "  <thead>\n",
       "    <tr style=\"text-align: right;\">\n",
       "      <th></th>\n",
       "      <th>Fecha</th>\n",
       "      <th>Nombre</th>\n",
       "      <th>Doctor</th>\n",
       "      <th>Especialidad</th>\n",
       "      <th>Tipo</th>\n",
       "      <th>Honorarios</th>\n",
       "      <th>Calificación</th>\n",
       "      <th>Comisión</th>\n",
       "      <th>FechaMes</th>\n",
       "      <th>Año</th>\n",
       "      <th>Mes</th>\n",
       "    </tr>\n",
       "  </thead>\n",
       "  <tbody>\n",
       "    <tr>\n",
       "      <th>3063</th>\n",
       "      <td>2018-01-03</td>\n",
       "      <td>Stephanie Rioja Núñez</td>\n",
       "      <td>Paulina Contreras Cuevas</td>\n",
       "      <td>Gastroenterología.</td>\n",
       "      <td>Operación</td>\n",
       "      <td>15000</td>\n",
       "      <td>0.88</td>\n",
       "      <td>0.07</td>\n",
       "      <td>2018-01</td>\n",
       "      <td>2018</td>\n",
       "      <td>1</td>\n",
       "    </tr>\n",
       "    <tr>\n",
       "      <th>3064</th>\n",
       "      <td>2018-01-05</td>\n",
       "      <td>Adán Velasco Pizano</td>\n",
       "      <td>Ismael López Saldaña</td>\n",
       "      <td>Hematología</td>\n",
       "      <td>Operación</td>\n",
       "      <td>25000</td>\n",
       "      <td>0.96</td>\n",
       "      <td>0.06</td>\n",
       "      <td>2018-01</td>\n",
       "      <td>2018</td>\n",
       "      <td>1</td>\n",
       "    </tr>\n",
       "    <tr>\n",
       "      <th>3065</th>\n",
       "      <td>2018-01-06</td>\n",
       "      <td>Jesús Posadas Peñalosa</td>\n",
       "      <td>Félix Llanos Macías</td>\n",
       "      <td>Cardiología</td>\n",
       "      <td>Operación</td>\n",
       "      <td>22500</td>\n",
       "      <td>0.82</td>\n",
       "      <td>0.06</td>\n",
       "      <td>2018-01</td>\n",
       "      <td>2018</td>\n",
       "      <td>1</td>\n",
       "    </tr>\n",
       "    <tr>\n",
       "      <th>3066</th>\n",
       "      <td>2018-01-19</td>\n",
       "      <td>Álvaro Arroyo Varela</td>\n",
       "      <td>Paulina Contreras Cuevas</td>\n",
       "      <td>Gastroenterología.</td>\n",
       "      <td>Operación</td>\n",
       "      <td>37000</td>\n",
       "      <td>0.99</td>\n",
       "      <td>0.17</td>\n",
       "      <td>2018-01</td>\n",
       "      <td>2018</td>\n",
       "      <td>1</td>\n",
       "    </tr>\n",
       "    <tr>\n",
       "      <th>3067</th>\n",
       "      <td>2018-01-20</td>\n",
       "      <td>Lucas Roldán Ondarza</td>\n",
       "      <td>Ismael López Saldaña</td>\n",
       "      <td>Hematología</td>\n",
       "      <td>Operación</td>\n",
       "      <td>12000</td>\n",
       "      <td>0.73</td>\n",
       "      <td>0.10</td>\n",
       "      <td>2018-01</td>\n",
       "      <td>2018</td>\n",
       "      <td>1</td>\n",
       "    </tr>\n",
       "    <tr>\n",
       "      <th>...</th>\n",
       "      <td>...</td>\n",
       "      <td>...</td>\n",
       "      <td>...</td>\n",
       "      <td>...</td>\n",
       "      <td>...</td>\n",
       "      <td>...</td>\n",
       "      <td>...</td>\n",
       "      <td>...</td>\n",
       "      <td>...</td>\n",
       "      <td>...</td>\n",
       "      <td>...</td>\n",
       "    </tr>\n",
       "    <tr>\n",
       "      <th>3595</th>\n",
       "      <td>2021-12-16</td>\n",
       "      <td>Jaqueline Burgos Meneses</td>\n",
       "      <td>Nestor Núñez Basurto</td>\n",
       "      <td>Hematología</td>\n",
       "      <td>Operación</td>\n",
       "      <td>39500</td>\n",
       "      <td>0.89</td>\n",
       "      <td>0.16</td>\n",
       "      <td>2021-12</td>\n",
       "      <td>2021</td>\n",
       "      <td>12</td>\n",
       "    </tr>\n",
       "    <tr>\n",
       "      <th>3596</th>\n",
       "      <td>2021-12-25</td>\n",
       "      <td>Andrea  Larrea Borundo</td>\n",
       "      <td>Simón Castro Infante</td>\n",
       "      <td>Cirugía Pediátrica.</td>\n",
       "      <td>Operación</td>\n",
       "      <td>18000</td>\n",
       "      <td>0.80</td>\n",
       "      <td>0.06</td>\n",
       "      <td>2021-12</td>\n",
       "      <td>2021</td>\n",
       "      <td>12</td>\n",
       "    </tr>\n",
       "    <tr>\n",
       "      <th>3597</th>\n",
       "      <td>2021-12-26</td>\n",
       "      <td>Valentina Morales Márquez</td>\n",
       "      <td>Alfonso Soda Neri</td>\n",
       "      <td>Cirugía Plástica</td>\n",
       "      <td>Operación</td>\n",
       "      <td>38500</td>\n",
       "      <td>0.62</td>\n",
       "      <td>0.20</td>\n",
       "      <td>2021-12</td>\n",
       "      <td>2021</td>\n",
       "      <td>12</td>\n",
       "    </tr>\n",
       "    <tr>\n",
       "      <th>3598</th>\n",
       "      <td>2021-12-26</td>\n",
       "      <td>Casandra Saturno Vázquez</td>\n",
       "      <td>Arnoldo Ondarza Hernán</td>\n",
       "      <td>Ginegología</td>\n",
       "      <td>Operación</td>\n",
       "      <td>46500</td>\n",
       "      <td>0.83</td>\n",
       "      <td>0.19</td>\n",
       "      <td>2021-12</td>\n",
       "      <td>2021</td>\n",
       "      <td>12</td>\n",
       "    </tr>\n",
       "    <tr>\n",
       "      <th>3599</th>\n",
       "      <td>2021-12-28</td>\n",
       "      <td>Gleidin Urbina Iglesias</td>\n",
       "      <td>Nestor Núñez Basurto</td>\n",
       "      <td>Hematología</td>\n",
       "      <td>Operación</td>\n",
       "      <td>41000</td>\n",
       "      <td>0.75</td>\n",
       "      <td>0.05</td>\n",
       "      <td>2021-12</td>\n",
       "      <td>2021</td>\n",
       "      <td>12</td>\n",
       "    </tr>\n",
       "  </tbody>\n",
       "</table>\n",
       "<p>537 rows × 11 columns</p>\n",
       "</div>"
      ],
      "text/plain": [
       "          Fecha                     Nombre                    Doctor  \\\n",
       "3063 2018-01-03      Stephanie Rioja Núñez  Paulina Contreras Cuevas   \n",
       "3064 2018-01-05        Adán Velasco Pizano      Ismael López Saldaña   \n",
       "3065 2018-01-06     Jesús Posadas Peñalosa       Félix Llanos Macías   \n",
       "3066 2018-01-19       Álvaro Arroyo Varela  Paulina Contreras Cuevas   \n",
       "3067 2018-01-20       Lucas Roldán Ondarza      Ismael López Saldaña   \n",
       "...         ...                        ...                       ...   \n",
       "3595 2021-12-16   Jaqueline Burgos Meneses      Nestor Núñez Basurto   \n",
       "3596 2021-12-25     Andrea  Larrea Borundo      Simón Castro Infante   \n",
       "3597 2021-12-26  Valentina Morales Márquez         Alfonso Soda Neri   \n",
       "3598 2021-12-26   Casandra Saturno Vázquez    Arnoldo Ondarza Hernán   \n",
       "3599 2021-12-28    Gleidin Urbina Iglesias      Nestor Núñez Basurto   \n",
       "\n",
       "             Especialidad       Tipo  Honorarios  Calificación  Comisión  \\\n",
       "3063   Gastroenterología.  Operación       15000          0.88      0.07   \n",
       "3064          Hematología  Operación       25000          0.96      0.06   \n",
       "3065         Cardiología   Operación       22500          0.82      0.06   \n",
       "3066   Gastroenterología.  Operación       37000          0.99      0.17   \n",
       "3067          Hematología  Operación       12000          0.73      0.10   \n",
       "...                   ...        ...         ...           ...       ...   \n",
       "3595          Hematología  Operación       39500          0.89      0.16   \n",
       "3596  Cirugía Pediátrica.  Operación       18000          0.80      0.06   \n",
       "3597     Cirugía Plástica  Operación       38500          0.62      0.20   \n",
       "3598          Ginegología  Operación       46500          0.83      0.19   \n",
       "3599          Hematología  Operación       41000          0.75      0.05   \n",
       "\n",
       "     FechaMes   Año  Mes  \n",
       "3063  2018-01  2018    1  \n",
       "3064  2018-01  2018    1  \n",
       "3065  2018-01  2018    1  \n",
       "3066  2018-01  2018    1  \n",
       "3067  2018-01  2018    1  \n",
       "...       ...   ...  ...  \n",
       "3595  2021-12  2021   12  \n",
       "3596  2021-12  2021   12  \n",
       "3597  2021-12  2021   12  \n",
       "3598  2021-12  2021   12  \n",
       "3599  2021-12  2021   12  \n",
       "\n",
       "[537 rows x 11 columns]"
      ]
     },
     "execution_count": 48,
     "metadata": {},
     "output_type": "execute_result"
    }
   ],
   "source": [
    "operacion_df"
   ]
  },
  {
   "cell_type": "markdown",
   "id": "a4dc040e-119b-44b1-a1a5-8a35a4f124ce",
   "metadata": {},
   "source": [
    "Utilizar pivot table para crear una función que devuelva un DataFrame con los honorarios de la operación más barata en cada mes de cada año, el resultado debe ser el siguiente:"
   ]
  },
  {
   "cell_type": "markdown",
   "id": "a9c8e257-eea5-412c-a14a-a426abeb6dee",
   "metadata": {},
   "source": [
    "![Resuelto](./Img_24_Ejercicios/Act16Img2.png)"
   ]
  },
  {
   "cell_type": "code",
   "execution_count": 51,
   "id": "9e70f66b-e5ae-41dc-871a-3531f07ac8f0",
   "metadata": {},
   "outputs": [
    {
     "data": {
      "application/vnd.microsoft.datawrangler.viewer.v0+json": {
       "columns": [
        {
         "name": "Fecha",
         "rawType": "datetime64[ns]",
         "type": "datetime"
        },
        {
         "name": "Honorarios",
         "rawType": "int64",
         "type": "integer"
        }
       ],
       "ref": "cff68b50-d751-4a5f-9906-55171db291e4",
       "rows": [
        [
         "2018-01-03 00:00:00",
         "15000"
        ],
        [
         "2018-01-05 00:00:00",
         "25000"
        ],
        [
         "2018-01-06 00:00:00",
         "22500"
        ],
        [
         "2018-01-19 00:00:00",
         "37000"
        ],
        [
         "2018-01-20 00:00:00",
         "12000"
        ],
        [
         "2018-01-22 00:00:00",
         "40000"
        ],
        [
         "2018-01-29 00:00:00",
         "33000"
        ],
        [
         "2018-02-01 00:00:00",
         "15000"
        ],
        [
         "2018-02-03 00:00:00",
         "34000"
        ],
        [
         "2018-02-05 00:00:00",
         "47000"
        ],
        [
         "2018-02-10 00:00:00",
         "45500"
        ],
        [
         "2018-02-16 00:00:00",
         "21000"
        ],
        [
         "2018-02-18 00:00:00",
         "40000"
        ],
        [
         "2018-02-19 00:00:00",
         "42000"
        ],
        [
         "2018-02-20 00:00:00",
         "48500"
        ],
        [
         "2018-02-23 00:00:00",
         "21500"
        ],
        [
         "2018-02-28 00:00:00",
         "42000"
        ],
        [
         "2018-03-04 00:00:00",
         "28000"
        ],
        [
         "2018-03-06 00:00:00",
         "14500"
        ],
        [
         "2018-03-08 00:00:00",
         "15500"
        ],
        [
         "2018-03-11 00:00:00",
         "48000"
        ],
        [
         "2018-03-15 00:00:00",
         "8500"
        ],
        [
         "2018-03-16 00:00:00",
         "49000"
        ],
        [
         "2018-03-20 00:00:00",
         "28500"
        ],
        [
         "2018-03-22 00:00:00",
         "29000"
        ],
        [
         "2018-03-27 00:00:00",
         "39500"
        ],
        [
         "2018-04-02 00:00:00",
         "39500"
        ],
        [
         "2018-04-05 00:00:00",
         "8000"
        ],
        [
         "2018-04-08 00:00:00",
         "32000"
        ],
        [
         "2018-04-14 00:00:00",
         "20000"
        ],
        [
         "2018-04-18 00:00:00",
         "41500"
        ],
        [
         "2018-04-20 00:00:00",
         "36500"
        ],
        [
         "2018-04-21 00:00:00",
         "11000"
        ],
        [
         "2018-04-26 00:00:00",
         "45000"
        ],
        [
         "2018-05-04 00:00:00",
         "27000"
        ],
        [
         "2018-05-06 00:00:00",
         "14000"
        ],
        [
         "2018-05-09 00:00:00",
         "25000"
        ],
        [
         "2018-05-10 00:00:00",
         "26000"
        ],
        [
         "2018-05-15 00:00:00",
         "15500"
        ],
        [
         "2018-05-24 00:00:00",
         "17000"
        ],
        [
         "2018-05-28 00:00:00",
         "24500"
        ],
        [
         "2018-06-04 00:00:00",
         "10500"
        ],
        [
         "2018-06-05 00:00:00",
         "43500"
        ],
        [
         "2018-06-09 00:00:00",
         "8000"
        ],
        [
         "2018-06-11 00:00:00",
         "15000"
        ],
        [
         "2018-06-13 00:00:00",
         "29000"
        ],
        [
         "2018-06-15 00:00:00",
         "47500"
        ],
        [
         "2018-06-17 00:00:00",
         "26000"
        ],
        [
         "2018-06-19 00:00:00",
         "33500"
        ],
        [
         "2018-06-21 00:00:00",
         "12000"
        ]
       ],
       "shape": {
        "columns": 1,
        "rows": 436
       }
      },
      "text/html": [
       "<div>\n",
       "<style scoped>\n",
       "    .dataframe tbody tr th:only-of-type {\n",
       "        vertical-align: middle;\n",
       "    }\n",
       "\n",
       "    .dataframe tbody tr th {\n",
       "        vertical-align: top;\n",
       "    }\n",
       "\n",
       "    .dataframe thead th {\n",
       "        text-align: right;\n",
       "    }\n",
       "</style>\n",
       "<table border=\"1\" class=\"dataframe\">\n",
       "  <thead>\n",
       "    <tr style=\"text-align: right;\">\n",
       "      <th></th>\n",
       "      <th>Honorarios</th>\n",
       "    </tr>\n",
       "    <tr>\n",
       "      <th>Fecha</th>\n",
       "      <th></th>\n",
       "    </tr>\n",
       "  </thead>\n",
       "  <tbody>\n",
       "    <tr>\n",
       "      <th>2018-01-03</th>\n",
       "      <td>15000</td>\n",
       "    </tr>\n",
       "    <tr>\n",
       "      <th>2018-01-05</th>\n",
       "      <td>25000</td>\n",
       "    </tr>\n",
       "    <tr>\n",
       "      <th>2018-01-06</th>\n",
       "      <td>22500</td>\n",
       "    </tr>\n",
       "    <tr>\n",
       "      <th>2018-01-19</th>\n",
       "      <td>37000</td>\n",
       "    </tr>\n",
       "    <tr>\n",
       "      <th>2018-01-20</th>\n",
       "      <td>12000</td>\n",
       "    </tr>\n",
       "    <tr>\n",
       "      <th>...</th>\n",
       "      <td>...</td>\n",
       "    </tr>\n",
       "    <tr>\n",
       "      <th>2021-12-12</th>\n",
       "      <td>30000</td>\n",
       "    </tr>\n",
       "    <tr>\n",
       "      <th>2021-12-16</th>\n",
       "      <td>32000</td>\n",
       "    </tr>\n",
       "    <tr>\n",
       "      <th>2021-12-25</th>\n",
       "      <td>18000</td>\n",
       "    </tr>\n",
       "    <tr>\n",
       "      <th>2021-12-26</th>\n",
       "      <td>38500</td>\n",
       "    </tr>\n",
       "    <tr>\n",
       "      <th>2021-12-28</th>\n",
       "      <td>41000</td>\n",
       "    </tr>\n",
       "  </tbody>\n",
       "</table>\n",
       "<p>436 rows × 1 columns</p>\n",
       "</div>"
      ],
      "text/plain": [
       "            Honorarios\n",
       "Fecha                 \n",
       "2018-01-03       15000\n",
       "2018-01-05       25000\n",
       "2018-01-06       22500\n",
       "2018-01-19       37000\n",
       "2018-01-20       12000\n",
       "...                ...\n",
       "2021-12-12       30000\n",
       "2021-12-16       32000\n",
       "2021-12-25       18000\n",
       "2021-12-26       38500\n",
       "2021-12-28       41000\n",
       "\n",
       "[436 rows x 1 columns]"
      ]
     },
     "execution_count": 51,
     "metadata": {},
     "output_type": "execute_result"
    }
   ],
   "source": [
    "operacion_df.pivot_table(index=\"Fecha\",values=\"Honorarios\",aggfunc=\"min\")"
   ]
  },
  {
   "cell_type": "code",
   "execution_count": null,
   "id": "77f199ed-2b65-4eb1-990b-b665389d5a9c",
   "metadata": {},
   "outputs": [],
   "source": []
  },
  {
   "cell_type": "markdown",
   "id": "629c4657-587e-45f2-8f94-5e0cd28f5f9d",
   "metadata": {},
   "source": [
    "![Resuelto](./Img_24_Ejercicios/Act16Img3.png)"
   ]
  },
  {
   "cell_type": "markdown",
   "id": "bd1b8f64-c467-45c8-996c-7e51034939bc",
   "metadata": {},
   "source": [
    "__Conclusión:__ en el año 2021 es donde las operaciones más económicas tienen el costo más alto"
   ]
  },
  {
   "cell_type": "markdown",
   "id": "7fb795d4-2dd6-4e5f-8aed-760724c3605a",
   "metadata": {},
   "source": [
    "## Ejercicio 17\n",
    "Crear una función que utilizando groupby devuelva un DataFrame con la cantidad de visitas atendidas por cada doctor, el resultado debe ser el siguiente:"
   ]
  },
  {
   "cell_type": "markdown",
   "id": "b61c04d9-2ad9-4c77-a4b9-6d79ac18f521",
   "metadata": {},
   "source": [
    "![Resuelto](./Img_24_Ejercicios/Act17Img1.png)"
   ]
  },
  {
   "cell_type": "code",
   "execution_count": 53,
   "id": "ea8af778-8d23-4737-bde7-4b15d83c8024",
   "metadata": {},
   "outputs": [
    {
     "data": {
      "application/vnd.microsoft.datawrangler.viewer.v0+json": {
       "columns": [
        {
         "name": "Doctor",
         "rawType": "object",
         "type": "string"
        },
        {
         "name": "Doctor",
         "rawType": "int64",
         "type": "integer"
        }
       ],
       "ref": "7a35fd22-811b-481c-8af9-420f0ef93b2a",
       "rows": [
        [
         "Alastor Mansilla Rivas",
         "144"
        ],
        [
         "Alfonso Soda Neri",
         "303"
        ],
        [
         "Arnoldo Ondarza Hernán",
         "120"
        ],
        [
         "Constanza Cetina Cuenca",
         "135"
        ],
        [
         "Daniel Mejía Fraga",
         "150"
        ],
        [
         "Flavio Ávalos Arroyo",
         "126"
        ],
        [
         "Félix Llanos Macías",
         "180"
        ],
        [
         "Gonzalo Ondarza Gómez",
         "192"
        ],
        [
         "Isabella Roldán Velásquez",
         "336"
        ],
        [
         "Ismael López Saldaña",
         "224"
        ],
        [
         "Iván Ramos Robles",
         "159"
        ],
        [
         "Javier Rosado Obrador",
         "90"
        ],
        [
         "Lucía Flores Muñoz",
         "189"
        ],
        [
         "Mauro Funes Meneses",
         "108"
        ],
        [
         "Nestor Núñez Basurto",
         "162"
        ],
        [
         "Nicolás Vargas Tapia",
         "102"
        ],
        [
         "Paulina Contreras Cuevas",
         "195"
        ],
        [
         "Simón Castro Infante",
         "145"
        ],
        [
         "Óscar Montalvo Cuevas",
         "246"
        ],
        [
         "Óscar Richardson Ávalos",
         "294"
        ]
       ],
       "shape": {
        "columns": 1,
        "rows": 20
       }
      },
      "text/html": [
       "<div>\n",
       "<style scoped>\n",
       "    .dataframe tbody tr th:only-of-type {\n",
       "        vertical-align: middle;\n",
       "    }\n",
       "\n",
       "    .dataframe tbody tr th {\n",
       "        vertical-align: top;\n",
       "    }\n",
       "\n",
       "    .dataframe thead th {\n",
       "        text-align: right;\n",
       "    }\n",
       "</style>\n",
       "<table border=\"1\" class=\"dataframe\">\n",
       "  <thead>\n",
       "    <tr style=\"text-align: right;\">\n",
       "      <th></th>\n",
       "      <th>Doctor</th>\n",
       "    </tr>\n",
       "    <tr>\n",
       "      <th>Doctor</th>\n",
       "      <th></th>\n",
       "    </tr>\n",
       "  </thead>\n",
       "  <tbody>\n",
       "    <tr>\n",
       "      <th>Alastor Mansilla Rivas</th>\n",
       "      <td>144</td>\n",
       "    </tr>\n",
       "    <tr>\n",
       "      <th>Alfonso Soda Neri</th>\n",
       "      <td>303</td>\n",
       "    </tr>\n",
       "    <tr>\n",
       "      <th>Arnoldo Ondarza Hernán</th>\n",
       "      <td>120</td>\n",
       "    </tr>\n",
       "    <tr>\n",
       "      <th>Constanza Cetina Cuenca</th>\n",
       "      <td>135</td>\n",
       "    </tr>\n",
       "    <tr>\n",
       "      <th>Daniel Mejía Fraga</th>\n",
       "      <td>150</td>\n",
       "    </tr>\n",
       "    <tr>\n",
       "      <th>Flavio Ávalos Arroyo</th>\n",
       "      <td>126</td>\n",
       "    </tr>\n",
       "    <tr>\n",
       "      <th>Félix Llanos Macías</th>\n",
       "      <td>180</td>\n",
       "    </tr>\n",
       "    <tr>\n",
       "      <th>Gonzalo Ondarza Gómez</th>\n",
       "      <td>192</td>\n",
       "    </tr>\n",
       "    <tr>\n",
       "      <th>Isabella Roldán Velásquez</th>\n",
       "      <td>336</td>\n",
       "    </tr>\n",
       "    <tr>\n",
       "      <th>Ismael López Saldaña</th>\n",
       "      <td>224</td>\n",
       "    </tr>\n",
       "    <tr>\n",
       "      <th>Iván Ramos Robles</th>\n",
       "      <td>159</td>\n",
       "    </tr>\n",
       "    <tr>\n",
       "      <th>Javier Rosado Obrador</th>\n",
       "      <td>90</td>\n",
       "    </tr>\n",
       "    <tr>\n",
       "      <th>Lucía Flores Muñoz</th>\n",
       "      <td>189</td>\n",
       "    </tr>\n",
       "    <tr>\n",
       "      <th>Mauro Funes Meneses</th>\n",
       "      <td>108</td>\n",
       "    </tr>\n",
       "    <tr>\n",
       "      <th>Nestor Núñez Basurto</th>\n",
       "      <td>162</td>\n",
       "    </tr>\n",
       "    <tr>\n",
       "      <th>Nicolás Vargas Tapia</th>\n",
       "      <td>102</td>\n",
       "    </tr>\n",
       "    <tr>\n",
       "      <th>Paulina Contreras Cuevas</th>\n",
       "      <td>195</td>\n",
       "    </tr>\n",
       "    <tr>\n",
       "      <th>Simón Castro Infante</th>\n",
       "      <td>145</td>\n",
       "    </tr>\n",
       "    <tr>\n",
       "      <th>Óscar Montalvo Cuevas</th>\n",
       "      <td>246</td>\n",
       "    </tr>\n",
       "    <tr>\n",
       "      <th>Óscar Richardson Ávalos</th>\n",
       "      <td>294</td>\n",
       "    </tr>\n",
       "  </tbody>\n",
       "</table>\n",
       "</div>"
      ],
      "text/plain": [
       "                           Doctor\n",
       "Doctor                           \n",
       "Alastor Mansilla Rivas        144\n",
       "Alfonso Soda Neri             303\n",
       "Arnoldo Ondarza Hernán        120\n",
       "Constanza Cetina Cuenca       135\n",
       "Daniel Mejía Fraga            150\n",
       "Flavio Ávalos Arroyo          126\n",
       "Félix Llanos Macías           180\n",
       "Gonzalo Ondarza Gómez         192\n",
       "Isabella Roldán Velásquez     336\n",
       "Ismael López Saldaña          224\n",
       "Iván Ramos Robles             159\n",
       "Javier Rosado Obrador          90\n",
       "Lucía Flores Muñoz            189\n",
       "Mauro Funes Meneses           108\n",
       "Nestor Núñez Basurto          162\n",
       "Nicolás Vargas Tapia          102\n",
       "Paulina Contreras Cuevas      195\n",
       "Simón Castro Infante          145\n",
       "Óscar Montalvo Cuevas         246\n",
       "Óscar Richardson Ávalos       294"
      ]
     },
     "execution_count": 53,
     "metadata": {},
     "output_type": "execute_result"
    }
   ],
   "source": [
    "hospital.groupby(\"Doctor\").agg({\"Doctor\":\"count\"})"
   ]
  },
  {
   "cell_type": "code",
   "execution_count": null,
   "id": "aa5bddd6-7cfb-4f09-81f9-56594e37acb1",
   "metadata": {},
   "outputs": [],
   "source": []
  },
  {
   "cell_type": "markdown",
   "id": "486dfa70-fd46-451c-88b7-ad1339b52047",
   "metadata": {},
   "source": [
    "![Resuelto](./Img_24_Ejercicios/Act17Img2.png)"
   ]
  },
  {
   "cell_type": "markdown",
   "id": "50800a93-3e78-4308-ac1c-aad4bd0a4e8a",
   "metadata": {},
   "source": [
    "## Ejercicio 18\n",
    "Agregar una columna al DataFrame hospital llamada ingreso, este se obtiene al multiplicar los honorarios de cada visita con el porcentaje de comisión, el resultado debe ser el siguiente:"
   ]
  },
  {
   "cell_type": "markdown",
   "id": "68a3a0d6-0f95-49ab-b044-9b73796c8125",
   "metadata": {},
   "source": [
    "![Resuelto](./Img_24_Ejercicios/Act18Img1.png)"
   ]
  },
  {
   "cell_type": "code",
   "execution_count": 54,
   "id": "c1a4ea2f-a7e4-4f49-a917-f141884def0b",
   "metadata": {},
   "outputs": [],
   "source": [
    "hospital[\"Ingreso\"] = hospital[\"Honorarios\"]*hospital[\"Comisión\"]"
   ]
  },
  {
   "cell_type": "code",
   "execution_count": 55,
   "id": "bd355e5b-1d90-479f-9cca-f2dc31b98279",
   "metadata": {},
   "outputs": [
    {
     "data": {
      "application/vnd.microsoft.datawrangler.viewer.v0+json": {
       "columns": [
        {
         "name": "index",
         "rawType": "int64",
         "type": "integer"
        },
        {
         "name": "Fecha",
         "rawType": "datetime64[ns]",
         "type": "datetime"
        },
        {
         "name": "Nombre",
         "rawType": "object",
         "type": "string"
        },
        {
         "name": "Doctor",
         "rawType": "object",
         "type": "string"
        },
        {
         "name": "Especialidad",
         "rawType": "object",
         "type": "string"
        },
        {
         "name": "Tipo",
         "rawType": "object",
         "type": "string"
        },
        {
         "name": "Honorarios",
         "rawType": "int64",
         "type": "integer"
        },
        {
         "name": "Calificación",
         "rawType": "float64",
         "type": "float"
        },
        {
         "name": "Comisión",
         "rawType": "float64",
         "type": "float"
        },
        {
         "name": "FechaMes",
         "rawType": "object",
         "type": "string"
        },
        {
         "name": "Año",
         "rawType": "int32",
         "type": "integer"
        },
        {
         "name": "Mes",
         "rawType": "int32",
         "type": "integer"
        },
        {
         "name": "Ingreso",
         "rawType": "float64",
         "type": "float"
        }
       ],
       "ref": "c7c2ccf5-6e7f-4fca-9f6a-0da81e2a154e",
       "rows": [
        [
         "0",
         "2018-01-01 00:00:00",
         "Bastian Hurtado Cabrero",
         "Simón Castro Infante",
         "Hematología",
         "Consulta",
         "1025",
         "0.84",
         "0.16",
         "2018-01",
         "2018",
         "1",
         "164.0"
        ],
        [
         "1",
         "2018-01-02 00:00:00",
         "Carla Rosas Ávalos",
         "Ismael López Saldaña",
         "Hematología",
         "Consulta",
         "1025",
         "0.83",
         "0.11",
         "2018-01",
         "2018",
         "1",
         "112.75"
        ],
        [
         "2",
         "2018-01-03 00:00:00",
         "Natanael Lazcano Aguilar",
         "Félix Llanos Macías",
         "Cardiología ",
         "Consulta",
         "1075",
         "0.78",
         "0.12",
         "2018-01",
         "2018",
         "1",
         "129.0"
        ],
        [
         "3",
         "2018-01-04 00:00:00",
         "Judith Hinojosa Torres",
         "Ismael López Saldaña",
         "Hematología",
         "Consulta",
         "1075",
         "0.92",
         "0.17",
         "2018-01",
         "2018",
         "1",
         "182.75"
        ],
        [
         "4",
         "2018-01-07 00:00:00",
         "Giovanni Rudomín Arias",
         "Paulina Contreras Cuevas",
         "Gastroenterología.",
         "Consulta",
         "1125",
         "0.89",
         "0.12",
         "2018-01",
         "2018",
         "1",
         "135.0"
        ]
       ],
       "shape": {
        "columns": 12,
        "rows": 5
       }
      },
      "text/html": [
       "<div>\n",
       "<style scoped>\n",
       "    .dataframe tbody tr th:only-of-type {\n",
       "        vertical-align: middle;\n",
       "    }\n",
       "\n",
       "    .dataframe tbody tr th {\n",
       "        vertical-align: top;\n",
       "    }\n",
       "\n",
       "    .dataframe thead th {\n",
       "        text-align: right;\n",
       "    }\n",
       "</style>\n",
       "<table border=\"1\" class=\"dataframe\">\n",
       "  <thead>\n",
       "    <tr style=\"text-align: right;\">\n",
       "      <th></th>\n",
       "      <th>Fecha</th>\n",
       "      <th>Nombre</th>\n",
       "      <th>Doctor</th>\n",
       "      <th>Especialidad</th>\n",
       "      <th>Tipo</th>\n",
       "      <th>Honorarios</th>\n",
       "      <th>Calificación</th>\n",
       "      <th>Comisión</th>\n",
       "      <th>FechaMes</th>\n",
       "      <th>Año</th>\n",
       "      <th>Mes</th>\n",
       "      <th>Ingreso</th>\n",
       "    </tr>\n",
       "  </thead>\n",
       "  <tbody>\n",
       "    <tr>\n",
       "      <th>0</th>\n",
       "      <td>2018-01-01</td>\n",
       "      <td>Bastian Hurtado Cabrero</td>\n",
       "      <td>Simón Castro Infante</td>\n",
       "      <td>Hematología</td>\n",
       "      <td>Consulta</td>\n",
       "      <td>1025</td>\n",
       "      <td>0.84</td>\n",
       "      <td>0.16</td>\n",
       "      <td>2018-01</td>\n",
       "      <td>2018</td>\n",
       "      <td>1</td>\n",
       "      <td>164.00</td>\n",
       "    </tr>\n",
       "    <tr>\n",
       "      <th>1</th>\n",
       "      <td>2018-01-02</td>\n",
       "      <td>Carla Rosas Ávalos</td>\n",
       "      <td>Ismael López Saldaña</td>\n",
       "      <td>Hematología</td>\n",
       "      <td>Consulta</td>\n",
       "      <td>1025</td>\n",
       "      <td>0.83</td>\n",
       "      <td>0.11</td>\n",
       "      <td>2018-01</td>\n",
       "      <td>2018</td>\n",
       "      <td>1</td>\n",
       "      <td>112.75</td>\n",
       "    </tr>\n",
       "    <tr>\n",
       "      <th>2</th>\n",
       "      <td>2018-01-03</td>\n",
       "      <td>Natanael Lazcano Aguilar</td>\n",
       "      <td>Félix Llanos Macías</td>\n",
       "      <td>Cardiología</td>\n",
       "      <td>Consulta</td>\n",
       "      <td>1075</td>\n",
       "      <td>0.78</td>\n",
       "      <td>0.12</td>\n",
       "      <td>2018-01</td>\n",
       "      <td>2018</td>\n",
       "      <td>1</td>\n",
       "      <td>129.00</td>\n",
       "    </tr>\n",
       "    <tr>\n",
       "      <th>3</th>\n",
       "      <td>2018-01-04</td>\n",
       "      <td>Judith Hinojosa Torres</td>\n",
       "      <td>Ismael López Saldaña</td>\n",
       "      <td>Hematología</td>\n",
       "      <td>Consulta</td>\n",
       "      <td>1075</td>\n",
       "      <td>0.92</td>\n",
       "      <td>0.17</td>\n",
       "      <td>2018-01</td>\n",
       "      <td>2018</td>\n",
       "      <td>1</td>\n",
       "      <td>182.75</td>\n",
       "    </tr>\n",
       "    <tr>\n",
       "      <th>4</th>\n",
       "      <td>2018-01-07</td>\n",
       "      <td>Giovanni Rudomín Arias</td>\n",
       "      <td>Paulina Contreras Cuevas</td>\n",
       "      <td>Gastroenterología.</td>\n",
       "      <td>Consulta</td>\n",
       "      <td>1125</td>\n",
       "      <td>0.89</td>\n",
       "      <td>0.12</td>\n",
       "      <td>2018-01</td>\n",
       "      <td>2018</td>\n",
       "      <td>1</td>\n",
       "      <td>135.00</td>\n",
       "    </tr>\n",
       "  </tbody>\n",
       "</table>\n",
       "</div>"
      ],
      "text/plain": [
       "       Fecha                    Nombre                    Doctor  \\\n",
       "0 2018-01-01   Bastian Hurtado Cabrero      Simón Castro Infante   \n",
       "1 2018-01-02        Carla Rosas Ávalos      Ismael López Saldaña   \n",
       "2 2018-01-03  Natanael Lazcano Aguilar       Félix Llanos Macías   \n",
       "3 2018-01-04    Judith Hinojosa Torres      Ismael López Saldaña   \n",
       "4 2018-01-07    Giovanni Rudomín Arias  Paulina Contreras Cuevas   \n",
       "\n",
       "         Especialidad      Tipo  Honorarios  Calificación  Comisión FechaMes  \\\n",
       "0         Hematología  Consulta        1025          0.84      0.16  2018-01   \n",
       "1         Hematología  Consulta        1025          0.83      0.11  2018-01   \n",
       "2        Cardiología   Consulta        1075          0.78      0.12  2018-01   \n",
       "3         Hematología  Consulta        1075          0.92      0.17  2018-01   \n",
       "4  Gastroenterología.  Consulta        1125          0.89      0.12  2018-01   \n",
       "\n",
       "    Año  Mes  Ingreso  \n",
       "0  2018    1   164.00  \n",
       "1  2018    1   112.75  \n",
       "2  2018    1   129.00  \n",
       "3  2018    1   182.75  \n",
       "4  2018    1   135.00  "
      ]
     },
     "execution_count": 55,
     "metadata": {},
     "output_type": "execute_result"
    }
   ],
   "source": [
    "hospital.head()"
   ]
  },
  {
   "cell_type": "markdown",
   "id": "d7b22aad-0215-4c0c-9f6d-d25262871c0e",
   "metadata": {},
   "source": [
    "Crear una función utilizando pivot table que devuelva un DataFrame con la suma de los ingresos en cada año por tipo de visita:"
   ]
  },
  {
   "cell_type": "markdown",
   "id": "2ba38da2-145e-4156-8c2a-daffae396690",
   "metadata": {},
   "source": [
    "![Resuelto](./Img_24_Ejercicios/Act18Img2.png)"
   ]
  },
  {
   "cell_type": "code",
   "execution_count": 57,
   "id": "fa22c560-9418-49e1-aff6-6341e20cc6da",
   "metadata": {},
   "outputs": [
    {
     "data": {
      "application/vnd.microsoft.datawrangler.viewer.v0+json": {
       "columns": [
        {
         "name": "Año",
         "rawType": "int32",
         "type": "integer"
        },
        {
         "name": "Consulta",
         "rawType": "float64",
         "type": "float"
        },
        {
         "name": "Examen",
         "rawType": "float64",
         "type": "float"
        },
        {
         "name": "Operación",
         "rawType": "float64",
         "type": "float"
        }
       ],
       "ref": "1d6796d4-620d-4854-9a69-a356e7713ff1",
       "rows": [
        [
         "2018",
         "69302.0",
         "121121.0",
         "468165.0"
        ],
        [
         "2019",
         "68941.5",
         "109276.0",
         "498010.0"
        ],
        [
         "2020",
         "70183.5",
         "122730.0",
         "489795.0"
        ],
        [
         "2021",
         "65630.0",
         "100555.0",
         "466955.0"
        ]
       ],
       "shape": {
        "columns": 3,
        "rows": 4
       }
      },
      "text/html": [
       "<div>\n",
       "<style scoped>\n",
       "    .dataframe tbody tr th:only-of-type {\n",
       "        vertical-align: middle;\n",
       "    }\n",
       "\n",
       "    .dataframe tbody tr th {\n",
       "        vertical-align: top;\n",
       "    }\n",
       "\n",
       "    .dataframe thead th {\n",
       "        text-align: right;\n",
       "    }\n",
       "</style>\n",
       "<table border=\"1\" class=\"dataframe\">\n",
       "  <thead>\n",
       "    <tr style=\"text-align: right;\">\n",
       "      <th>Tipo</th>\n",
       "      <th>Consulta</th>\n",
       "      <th>Examen</th>\n",
       "      <th>Operación</th>\n",
       "    </tr>\n",
       "    <tr>\n",
       "      <th>Año</th>\n",
       "      <th></th>\n",
       "      <th></th>\n",
       "      <th></th>\n",
       "    </tr>\n",
       "  </thead>\n",
       "  <tbody>\n",
       "    <tr>\n",
       "      <th>2018</th>\n",
       "      <td>69302.0</td>\n",
       "      <td>121121.0</td>\n",
       "      <td>468165.0</td>\n",
       "    </tr>\n",
       "    <tr>\n",
       "      <th>2019</th>\n",
       "      <td>68941.5</td>\n",
       "      <td>109276.0</td>\n",
       "      <td>498010.0</td>\n",
       "    </tr>\n",
       "    <tr>\n",
       "      <th>2020</th>\n",
       "      <td>70183.5</td>\n",
       "      <td>122730.0</td>\n",
       "      <td>489795.0</td>\n",
       "    </tr>\n",
       "    <tr>\n",
       "      <th>2021</th>\n",
       "      <td>65630.0</td>\n",
       "      <td>100555.0</td>\n",
       "      <td>466955.0</td>\n",
       "    </tr>\n",
       "  </tbody>\n",
       "</table>\n",
       "</div>"
      ],
      "text/plain": [
       "Tipo  Consulta    Examen  Operación\n",
       "Año                                \n",
       "2018   69302.0  121121.0   468165.0\n",
       "2019   68941.5  109276.0   498010.0\n",
       "2020   70183.5  122730.0   489795.0\n",
       "2021   65630.0  100555.0   466955.0"
      ]
     },
     "execution_count": 57,
     "metadata": {},
     "output_type": "execute_result"
    }
   ],
   "source": [
    "hospital.pivot_table(index=\"Año\",values=\"Ingreso\",aggfunc=\"sum\",columns=\"Tipo\")"
   ]
  },
  {
   "cell_type": "code",
   "execution_count": null,
   "id": "d2733e84-c201-458c-8a0d-4c63f4e3386b",
   "metadata": {},
   "outputs": [],
   "source": []
  },
  {
   "cell_type": "markdown",
   "id": "b627de53-2e28-4b03-9b8c-e451d8ccb0e0",
   "metadata": {},
   "source": [
    "![Resuelto](./Img_24_Ejercicios/Act18Img3.png)"
   ]
  },
  {
   "cell_type": "markdown",
   "id": "1de70737-2643-48e0-83c2-348ac640e5d2",
   "metadata": {},
   "source": [
    "__Conclusión:__ El tipo de consulta que más ingresos genera al hospital son las operaciones "
   ]
  },
  {
   "cell_type": "markdown",
   "id": "ee84662c-0154-4236-b41f-76afc7a1153e",
   "metadata": {},
   "source": [
    "## Ejercicio 19\n",
    "Crear un código utilizando groupby que devuelva un DataFrame con la mediana en los ingresos en cada mes de cada año, el resultado debe ser el siguiente:"
   ]
  },
  {
   "cell_type": "markdown",
   "id": "8c441be8-9f74-4e5d-bd43-9364f9df15b7",
   "metadata": {},
   "source": [
    "![Resuelto](./Img_24_Ejercicios/Act19Img1.png)"
   ]
  },
  {
   "cell_type": "code",
   "execution_count": null,
   "id": "616d09da-b320-4fa0-a941-47e4bd6ff0d9",
   "metadata": {},
   "outputs": [],
   "source": []
  },
  {
   "cell_type": "code",
   "execution_count": null,
   "id": "c68a6f15-27b5-4ac8-a47a-a05b35b80f3a",
   "metadata": {},
   "outputs": [],
   "source": []
  },
  {
   "cell_type": "markdown",
   "id": "1cc69c07-9e1c-42ce-986a-beb573d2a5e6",
   "metadata": {},
   "source": [
    "![Resuelto](./Img_24_Ejercicios/Act19Img2.png)"
   ]
  },
  {
   "cell_type": "markdown",
   "id": "b3705f85-c7ca-4d36-a862-51f184eb4071",
   "metadata": {},
   "source": [
    "__Conclusión:__ La mediana de los ingresos normalmente oscila entre los 150 y 200 pesos"
   ]
  },
  {
   "cell_type": "markdown",
   "id": "99fd9c5a-da3a-475b-bcf1-efd017bfb6eb",
   "metadata": {},
   "source": [
    "## Ejercicio 20\n",
    "Crear una función que devuelva un DataFrame con la información de las visitas al hospital cuyo motivo fue una consulta médica, el resultado debe ser el siguiente:"
   ]
  },
  {
   "cell_type": "markdown",
   "id": "9b1ffff7-453c-4545-a5b0-d77f1a7068df",
   "metadata": {},
   "source": [
    "![Resuelto](./Img_24_Ejercicios/Act20Img1.png)"
   ]
  },
  {
   "cell_type": "code",
   "execution_count": null,
   "id": "eadb8c2d-0b97-4bc8-960e-9e56713906cd",
   "metadata": {},
   "outputs": [],
   "source": []
  },
  {
   "cell_type": "code",
   "execution_count": null,
   "id": "c1f84f50-0758-4208-a807-004e48629d71",
   "metadata": {},
   "outputs": [],
   "source": []
  },
  {
   "cell_type": "markdown",
   "id": "11981032-ceed-478e-b722-7d4b9a3d7c7c",
   "metadata": {},
   "source": [
    "Crear una función que devuelva un DataFrame con la información de las visitas al hospital cuyo motivo fue un examen médico:"
   ]
  },
  {
   "cell_type": "markdown",
   "id": "6c0d7ff5-5a81-4ba7-a6da-3391f3c0b553",
   "metadata": {},
   "source": [
    "![Resuelto](./Img_24_Ejercicios/Act20Img2.png)"
   ]
  },
  {
   "cell_type": "code",
   "execution_count": null,
   "id": "a00f6f6b-429e-48eb-b89b-89f4cf376d80",
   "metadata": {},
   "outputs": [],
   "source": []
  },
  {
   "cell_type": "code",
   "execution_count": null,
   "id": "3a49718c-f49e-4c51-844b-50404c1058d5",
   "metadata": {},
   "outputs": [],
   "source": []
  },
  {
   "cell_type": "markdown",
   "id": "67fd4269-0754-4a99-bd81-633bff77a808",
   "metadata": {},
   "source": [
    "![Resuelto](./Img_24_Ejercicios/Act20Img4.png)"
   ]
  },
  {
   "cell_type": "markdown",
   "id": "465018d3-e459-4043-9c1b-e51c3123d8d7",
   "metadata": {},
   "source": [
    "__Conclusión:__ las consultas médicas son las que menos ingresos reportan al hospital"
   ]
  },
  {
   "cell_type": "markdown",
   "id": "9ad82654-a17a-4e34-8fcd-4a8bb4e84cd7",
   "metadata": {},
   "source": [
    "## Ejercicio 21\n",
    "Crear una función que devuelva un DataFrame con la información de las visitas médicas que no fueron por una operación, el resultado debe ser el siguiente:"
   ]
  },
  {
   "cell_type": "markdown",
   "id": "b8c08e63-3a4e-490e-af28-53acd968ca63",
   "metadata": {},
   "source": [
    "![Resuelto](./Img_24_Ejercicios/Act21Img1.png)"
   ]
  },
  {
   "cell_type": "code",
   "execution_count": null,
   "id": "d8a09a5b-bd79-46cd-8c37-ced1786ab9de",
   "metadata": {},
   "outputs": [],
   "source": []
  },
  {
   "cell_type": "code",
   "execution_count": null,
   "id": "bcae284a-3a7b-427d-8005-8355c7c8eeb5",
   "metadata": {},
   "outputs": [],
   "source": []
  },
  {
   "cell_type": "markdown",
   "id": "5ac79940-ebb5-4dba-a62d-a6738f271739",
   "metadata": {},
   "source": [
    "Utilizando el DataFrame anterior crear una función que devuelva el ingreso promedio de todas las visitas al hospital cuyo motivo no fue una operación:"
   ]
  },
  {
   "cell_type": "code",
   "execution_count": null,
   "id": "85bdad2c-52a3-49f2-9e41-8126f78f6833",
   "metadata": {},
   "outputs": [],
   "source": []
  },
  {
   "cell_type": "code",
   "execution_count": null,
   "id": "de6f2ba9-ffae-4162-b97d-6c7e482b216b",
   "metadata": {},
   "outputs": [],
   "source": []
  },
  {
   "cell_type": "markdown",
   "id": "74c211dc-05ec-4c5c-af3f-ed688a115a48",
   "metadata": {},
   "source": [
    "Crear una función que devuelva un DataFrame con la diferencia de los ingresos de cada visita con el promedio general, por ejemplo, si se tuvo 200 pesos de ingresos en una consulta, pero el promedio es 150, la diferencia será 50, el resultado debe ser el siguiente: "
   ]
  },
  {
   "cell_type": "markdown",
   "id": "1b3f99f7-a3a7-4604-a3f7-9850d634a6a1",
   "metadata": {},
   "source": [
    "![Resuelto](./Img_24_Ejercicios/Act21Img2.png)"
   ]
  },
  {
   "cell_type": "code",
   "execution_count": null,
   "id": "57f7ceff-6408-47a7-ac68-fed7324c047c",
   "metadata": {},
   "outputs": [],
   "source": []
  },
  {
   "cell_type": "code",
   "execution_count": null,
   "id": "5b844c9b-7a1d-4c64-95bc-f7f655df5395",
   "metadata": {},
   "outputs": [],
   "source": []
  },
  {
   "cell_type": "markdown",
   "id": "ad61cd54-c825-45ac-a3e8-85a779ac195b",
   "metadata": {},
   "source": [
    "Crear una función utilizando pivot table que devuelva un DataFrame con la diferencia promedio del ingreso en cada año y en cada tipo de visita, el resultado debe ser el siguiente:"
   ]
  },
  {
   "cell_type": "markdown",
   "id": "a546e82f-d867-4971-97a4-38ee994dffaa",
   "metadata": {},
   "source": [
    "![Resuelto](./Img_24_Ejercicios/Act21Img3.png)"
   ]
  },
  {
   "cell_type": "code",
   "execution_count": null,
   "id": "7c2667b9-09e5-49ab-9b19-f58a9e10bc45",
   "metadata": {},
   "outputs": [],
   "source": []
  },
  {
   "cell_type": "code",
   "execution_count": null,
   "id": "23617794-a62a-417e-b6d7-ee061ef85f60",
   "metadata": {},
   "outputs": [],
   "source": []
  },
  {
   "cell_type": "markdown",
   "id": "7375f56e-9495-41c6-ba8c-116e9c2b11c3",
   "metadata": {},
   "source": [
    "![Resuelto](./Img_24_Ejercicios/Act21Img4.png)"
   ]
  },
  {
   "cell_type": "markdown",
   "id": "e2b41699-9449-4198-8de3-584933cb0ac3",
   "metadata": {},
   "source": [
    "__Conclusión:__ los ingresos promedio de las consultas siempre son menores al promedio general contando examenes"
   ]
  },
  {
   "cell_type": "markdown",
   "id": "e3b99e93-4119-423f-90d7-637d2ab48254",
   "metadata": {},
   "source": [
    "## Ejercicio 22\n",
    "Utilizando el DataFrame del ejercicio anterior, crear una función que devuelva los datos de las visitas al hospital cuyo motivo fue una consulta médica, el resultado debe ser el siguiente:"
   ]
  },
  {
   "cell_type": "markdown",
   "id": "970e04de-8d7e-4196-ac2f-669f7d95a0a9",
   "metadata": {},
   "source": [
    "![Resuelto](./Img_24_Ejercicios/Act22Img1.png)"
   ]
  },
  {
   "cell_type": "code",
   "execution_count": null,
   "id": "8c8240cc-9f52-464b-b3e9-f3f67c02c039",
   "metadata": {},
   "outputs": [],
   "source": []
  },
  {
   "cell_type": "code",
   "execution_count": null,
   "id": "93299c46-e2fc-4305-8cab-e90b804f716c",
   "metadata": {},
   "outputs": [],
   "source": []
  },
  {
   "cell_type": "markdown",
   "id": "fb09e2c2-a682-43ae-89e8-32296ad7f83a",
   "metadata": {},
   "source": [
    "Utilizando el DataFrame del ejercicio anterior, crear una función que devuelva los datos de las visitas al hospital cuyo motivo fue un examen médico, el resultado debe ser el siguiente:"
   ]
  },
  {
   "cell_type": "markdown",
   "id": "9cca3981-d936-4c44-8328-99ffc2a087da",
   "metadata": {},
   "source": [
    "![Resuelto](./Img_24_Ejercicios/Act22Img2.png)"
   ]
  },
  {
   "cell_type": "code",
   "execution_count": null,
   "id": "977f14f1-37f2-4fda-bcd0-041a857e3cfb",
   "metadata": {},
   "outputs": [],
   "source": []
  },
  {
   "cell_type": "code",
   "execution_count": null,
   "id": "9b16a8a0-3656-4382-b284-bf0f09a82665",
   "metadata": {},
   "outputs": [],
   "source": []
  },
  {
   "cell_type": "markdown",
   "id": "0926b79a-6b69-42e0-a519-9090be25e5e7",
   "metadata": {},
   "source": [
    "![Resuelto](./Img_24_Ejercicios/Act22Img5.png)"
   ]
  },
  {
   "cell_type": "markdown",
   "id": "337d71c7-2858-441a-beb0-52eb4289a5f0",
   "metadata": {},
   "source": [
    "__Conclusión:__ la mayoría de las consultas médicas reportan un ingreso menor al promedio general  "
   ]
  },
  {
   "cell_type": "markdown",
   "id": "bb3cb749-0836-4661-b795-88b70cc4df2e",
   "metadata": {},
   "source": [
    "## Ejercicio 23\n",
    "Crear una función utilizando groupby que devuelva un DataFrame con los indices de las visitas médicas que más honorarios pagaron en cada año, el resultado debe ser el siguiente:"
   ]
  },
  {
   "cell_type": "markdown",
   "id": "c4332710-72ac-400b-871c-8f2b34059896",
   "metadata": {},
   "source": [
    "![Resuelto](./Img_24_Ejercicios/Act23Img1.png)"
   ]
  },
  {
   "cell_type": "code",
   "execution_count": null,
   "id": "807521e7-0cdd-4847-80d5-14710270082c",
   "metadata": {},
   "outputs": [],
   "source": []
  },
  {
   "cell_type": "code",
   "execution_count": null,
   "id": "902ec0bf-5505-47fa-b92a-d2e7fd210a24",
   "metadata": {},
   "outputs": [],
   "source": []
  },
  {
   "cell_type": "markdown",
   "id": "3ceae77c-6e01-4a6d-9fde-532275af6f38",
   "metadata": {},
   "source": [
    "Crear una función utilizando iloc que nos devuelva los datos de las visitas médicas que pagaron los honorarios más altos en cada año, el resultado debe ser el siguiente:"
   ]
  },
  {
   "cell_type": "markdown",
   "id": "f70c6e04-9f19-4729-b645-db0fd9fa7755",
   "metadata": {},
   "source": [
    "![Resuelto](./Img_24_Ejercicios/Act23Img2.png)"
   ]
  },
  {
   "cell_type": "code",
   "execution_count": null,
   "id": "dd1cce65-287a-4a70-9204-5f5a97ed7dda",
   "metadata": {},
   "outputs": [],
   "source": []
  },
  {
   "cell_type": "code",
   "execution_count": null,
   "id": "369afdf7-767f-4be1-8ce3-b806855233b5",
   "metadata": {},
   "outputs": [],
   "source": []
  },
  {
   "cell_type": "markdown",
   "id": "94c181e3-63a8-4a23-b85c-3544998a3b74",
   "metadata": {},
   "source": [
    "![Resuelto](./Img_24_Ejercicios/Act23Img3.png)"
   ]
  },
  {
   "cell_type": "markdown",
   "id": "6a456e6a-b4a3-4a7c-94c2-b17d21d6c6d0",
   "metadata": {},
   "source": [
    "__Conclusión:__ el honorario más alto en las operaciones normalmente es de 50,000 pesos"
   ]
  },
  {
   "cell_type": "markdown",
   "id": "3038027c-a3dd-440e-a1d7-19a72da90876",
   "metadata": {},
   "source": [
    "## Ejercicio 24:\n",
    "Utilizando el DataFrame anterior, crear una función que agregue una columna formada por la unión del año y la especialidad del médico, el resultado debe ser el siguiente:"
   ]
  },
  {
   "cell_type": "markdown",
   "id": "878ed67d-6edc-42c4-8697-420d880401a1",
   "metadata": {},
   "source": [
    "![Resuelto](./Img_24_Ejercicios/Act24Img1.png)"
   ]
  },
  {
   "cell_type": "code",
   "execution_count": null,
   "id": "3eecc43a-3820-4fb0-9e20-eaadfe1b8cda",
   "metadata": {},
   "outputs": [],
   "source": []
  },
  {
   "cell_type": "code",
   "execution_count": null,
   "id": "4a533311-f39f-4012-8b6f-1fbb283e6ac6",
   "metadata": {},
   "outputs": [],
   "source": []
  },
  {
   "cell_type": "markdown",
   "id": "a6c29809-e11c-4f9a-8abd-2ef0938f87e9",
   "metadata": {},
   "source": [
    "![Resuelto](./Img_24_Ejercicios/Act24Img2.png)"
   ]
  },
  {
   "cell_type": "markdown",
   "id": "7345ee90-93ff-4b4f-9cfb-0cad697b65ba",
   "metadata": {},
   "source": [
    "__Conclusión:__ la dermatología es la especialidad donde más veces se tuvo el honorario más alto"
   ]
  }
 ],
 "metadata": {
  "kernelspec": {
   "display_name": "Python 3",
   "language": "python",
   "name": "python3"
  },
  "language_info": {
   "codemirror_mode": {
    "name": "ipython",
    "version": 3
   },
   "file_extension": ".py",
   "mimetype": "text/x-python",
   "name": "python",
   "nbconvert_exporter": "python",
   "pygments_lexer": "ipython3",
   "version": "3.10.12"
  }
 },
 "nbformat": 4,
 "nbformat_minor": 5
}
