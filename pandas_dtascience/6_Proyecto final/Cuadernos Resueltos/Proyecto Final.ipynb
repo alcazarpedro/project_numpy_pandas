{
 "cells": [
  {
   "cell_type": "markdown",
   "id": "ca863d77-2038-43bc-a243-e924fe19b56c",
   "metadata": {
    "tags": []
   },
   "source": [
    "# Analisis de datos"
   ]
  },
  {
   "cell_type": "markdown",
   "id": "dc982adb-4a48-4254-94a1-de2184e4f815",
   "metadata": {
    "tags": []
   },
   "source": [
    "## Restaurante"
   ]
  },
  {
   "cell_type": "markdown",
   "id": "926d464d-b971-4bb7-93c3-fc4a16eee004",
   "metadata": {
    "tags": []
   },
   "source": [
    "### Ejercicio 1:"
   ]
  },
  {
   "cell_type": "markdown",
   "id": "4e5ea611-26a8-4059-ba45-08798b8aa30e",
   "metadata": {},
   "source": [
    "Importamos pandas para poder trabajar con analisis de datos:"
   ]
  },
  {
   "cell_type": "code",
   "execution_count": 1,
   "id": "828205d1-237d-4ddd-8735-fb2cebd04528",
   "metadata": {},
   "outputs": [],
   "source": [
    "import pandas as pd"
   ]
  },
  {
   "cell_type": "markdown",
   "id": "31c83def-5632-499f-8141-f37b68a80b7f",
   "metadata": {},
   "source": [
    "Importamos el archivo \"restaurante.xlsx\", contiene la base de datos del restaurante:"
   ]
  },
  {
   "cell_type": "code",
   "execution_count": 2,
   "id": "eeb905b2-4139-4f53-9d85-8336bd0324e9",
   "metadata": {},
   "outputs": [
    {
     "data": {
      "text/html": [
       "<div>\n",
       "<style scoped>\n",
       "    .dataframe tbody tr th:only-of-type {\n",
       "        vertical-align: middle;\n",
       "    }\n",
       "\n",
       "    .dataframe tbody tr th {\n",
       "        vertical-align: top;\n",
       "    }\n",
       "\n",
       "    .dataframe thead th {\n",
       "        text-align: right;\n",
       "    }\n",
       "</style>\n",
       "<table border=\"1\" class=\"dataframe\">\n",
       "  <thead>\n",
       "    <tr style=\"text-align: right;\">\n",
       "      <th></th>\n",
       "      <th>Orden</th>\n",
       "      <th>Fecha</th>\n",
       "      <th>Hora de Cobro</th>\n",
       "      <th>Mesa</th>\n",
       "      <th>Atendió</th>\n",
       "      <th>Tipo</th>\n",
       "      <th>Producto</th>\n",
       "      <th>Categoria</th>\n",
       "      <th>Precio</th>\n",
       "      <th>Costo</th>\n",
       "      <th>Propina</th>\n",
       "      <th>Tipo de Cliente</th>\n",
       "    </tr>\n",
       "  </thead>\n",
       "  <tbody>\n",
       "    <tr>\n",
       "      <th>0</th>\n",
       "      <td>1</td>\n",
       "      <td>2014-02-01</td>\n",
       "      <td>18:43:12</td>\n",
       "      <td>1</td>\n",
       "      <td>Rodolfo</td>\n",
       "      <td>Bebida</td>\n",
       "      <td>Tecate</td>\n",
       "      <td>Cervezas</td>\n",
       "      <td>25</td>\n",
       "      <td>18.00</td>\n",
       "      <td>0.07</td>\n",
       "      <td>Cliente Nuevo</td>\n",
       "    </tr>\n",
       "    <tr>\n",
       "      <th>1</th>\n",
       "      <td>1</td>\n",
       "      <td>2014-02-01</td>\n",
       "      <td>18:43:12</td>\n",
       "      <td>1</td>\n",
       "      <td>Rodolfo</td>\n",
       "      <td>Bebida</td>\n",
       "      <td>Tisana</td>\n",
       "      <td>Bebida no Alcohol</td>\n",
       "      <td>25</td>\n",
       "      <td>18.00</td>\n",
       "      <td>0.07</td>\n",
       "      <td>Cliente Nuevo</td>\n",
       "    </tr>\n",
       "    <tr>\n",
       "      <th>2</th>\n",
       "      <td>1</td>\n",
       "      <td>2014-02-01</td>\n",
       "      <td>18:43:12</td>\n",
       "      <td>1</td>\n",
       "      <td>Rodolfo</td>\n",
       "      <td>Bebida</td>\n",
       "      <td>Café americano</td>\n",
       "      <td>Bebida no Alcohol</td>\n",
       "      <td>18</td>\n",
       "      <td>12.60</td>\n",
       "      <td>0.07</td>\n",
       "      <td>Cliente Nuevo</td>\n",
       "    </tr>\n",
       "    <tr>\n",
       "      <th>3</th>\n",
       "      <td>1</td>\n",
       "      <td>2014-02-01</td>\n",
       "      <td>18:43:12</td>\n",
       "      <td>1</td>\n",
       "      <td>Rodolfo</td>\n",
       "      <td>Bebida</td>\n",
       "      <td>Te helado</td>\n",
       "      <td>Bebida no Alcohol</td>\n",
       "      <td>25</td>\n",
       "      <td>18.50</td>\n",
       "      <td>0.07</td>\n",
       "      <td>Cliente Nuevo</td>\n",
       "    </tr>\n",
       "    <tr>\n",
       "      <th>4</th>\n",
       "      <td>1</td>\n",
       "      <td>2014-02-01</td>\n",
       "      <td>18:43:12</td>\n",
       "      <td>1</td>\n",
       "      <td>Rodolfo</td>\n",
       "      <td>Comida</td>\n",
       "      <td>Pera Rostizada</td>\n",
       "      <td>Ensaladas</td>\n",
       "      <td>89</td>\n",
       "      <td>75.65</td>\n",
       "      <td>0.07</td>\n",
       "      <td>Cliente Nuevo</td>\n",
       "    </tr>\n",
       "  </tbody>\n",
       "</table>\n",
       "</div>"
      ],
      "text/plain": [
       "   Orden      Fecha Hora de Cobro  Mesa  Atendió    Tipo        Producto  \\\n",
       "0      1 2014-02-01      18:43:12     1  Rodolfo  Bebida          Tecate   \n",
       "1      1 2014-02-01      18:43:12     1  Rodolfo  Bebida          Tisana   \n",
       "2      1 2014-02-01      18:43:12     1  Rodolfo  Bebida  Café americano   \n",
       "3      1 2014-02-01      18:43:12     1  Rodolfo  Bebida       Te helado   \n",
       "4      1 2014-02-01      18:43:12     1  Rodolfo  Comida  Pera Rostizada   \n",
       "\n",
       "           Categoria  Precio  Costo  Propina Tipo de Cliente  \n",
       "0           Cervezas      25  18.00     0.07   Cliente Nuevo  \n",
       "1  Bebida no Alcohol      25  18.00     0.07   Cliente Nuevo  \n",
       "2  Bebida no Alcohol      18  12.60     0.07   Cliente Nuevo  \n",
       "3  Bebida no Alcohol      25  18.50     0.07   Cliente Nuevo  \n",
       "4          Ensaladas      89  75.65     0.07   Cliente Nuevo  "
      ]
     },
     "execution_count": 2,
     "metadata": {},
     "output_type": "execute_result"
    }
   ],
   "source": [
    "restaurante=pd.read_excel(\"../restaurante.xlsx\")\n",
    "restaurante.head()"
   ]
  },
  {
   "cell_type": "markdown",
   "id": "33107814-524f-4a8f-8ce7-24520405977c",
   "metadata": {},
   "source": [
    "Agregar una columna llamada \"FechaMes\", que contenga el año y el mes de la columna fecha (Ej. 2010-03)"
   ]
  },
  {
   "cell_type": "code",
   "execution_count": 3,
   "id": "a3377f94-23db-474c-897e-cf600c9401d1",
   "metadata": {},
   "outputs": [
    {
     "data": {
      "text/html": [
       "<div>\n",
       "<style scoped>\n",
       "    .dataframe tbody tr th:only-of-type {\n",
       "        vertical-align: middle;\n",
       "    }\n",
       "\n",
       "    .dataframe tbody tr th {\n",
       "        vertical-align: top;\n",
       "    }\n",
       "\n",
       "    .dataframe thead th {\n",
       "        text-align: right;\n",
       "    }\n",
       "</style>\n",
       "<table border=\"1\" class=\"dataframe\">\n",
       "  <thead>\n",
       "    <tr style=\"text-align: right;\">\n",
       "      <th></th>\n",
       "      <th>Orden</th>\n",
       "      <th>Fecha</th>\n",
       "      <th>Hora de Cobro</th>\n",
       "      <th>Mesa</th>\n",
       "      <th>Atendió</th>\n",
       "      <th>Tipo</th>\n",
       "      <th>Producto</th>\n",
       "      <th>Categoria</th>\n",
       "      <th>Precio</th>\n",
       "      <th>Costo</th>\n",
       "      <th>Propina</th>\n",
       "      <th>Tipo de Cliente</th>\n",
       "      <th>FechaMes</th>\n",
       "    </tr>\n",
       "  </thead>\n",
       "  <tbody>\n",
       "    <tr>\n",
       "      <th>0</th>\n",
       "      <td>1</td>\n",
       "      <td>2014-02-01</td>\n",
       "      <td>18:43:12</td>\n",
       "      <td>1</td>\n",
       "      <td>Rodolfo</td>\n",
       "      <td>Bebida</td>\n",
       "      <td>Tecate</td>\n",
       "      <td>Cervezas</td>\n",
       "      <td>25</td>\n",
       "      <td>18.00</td>\n",
       "      <td>0.07</td>\n",
       "      <td>Cliente Nuevo</td>\n",
       "      <td>2014-02</td>\n",
       "    </tr>\n",
       "    <tr>\n",
       "      <th>1</th>\n",
       "      <td>1</td>\n",
       "      <td>2014-02-01</td>\n",
       "      <td>18:43:12</td>\n",
       "      <td>1</td>\n",
       "      <td>Rodolfo</td>\n",
       "      <td>Bebida</td>\n",
       "      <td>Tisana</td>\n",
       "      <td>Bebida no Alcohol</td>\n",
       "      <td>25</td>\n",
       "      <td>18.00</td>\n",
       "      <td>0.07</td>\n",
       "      <td>Cliente Nuevo</td>\n",
       "      <td>2014-02</td>\n",
       "    </tr>\n",
       "    <tr>\n",
       "      <th>2</th>\n",
       "      <td>1</td>\n",
       "      <td>2014-02-01</td>\n",
       "      <td>18:43:12</td>\n",
       "      <td>1</td>\n",
       "      <td>Rodolfo</td>\n",
       "      <td>Bebida</td>\n",
       "      <td>Café americano</td>\n",
       "      <td>Bebida no Alcohol</td>\n",
       "      <td>18</td>\n",
       "      <td>12.60</td>\n",
       "      <td>0.07</td>\n",
       "      <td>Cliente Nuevo</td>\n",
       "      <td>2014-02</td>\n",
       "    </tr>\n",
       "    <tr>\n",
       "      <th>3</th>\n",
       "      <td>1</td>\n",
       "      <td>2014-02-01</td>\n",
       "      <td>18:43:12</td>\n",
       "      <td>1</td>\n",
       "      <td>Rodolfo</td>\n",
       "      <td>Bebida</td>\n",
       "      <td>Te helado</td>\n",
       "      <td>Bebida no Alcohol</td>\n",
       "      <td>25</td>\n",
       "      <td>18.50</td>\n",
       "      <td>0.07</td>\n",
       "      <td>Cliente Nuevo</td>\n",
       "      <td>2014-02</td>\n",
       "    </tr>\n",
       "    <tr>\n",
       "      <th>4</th>\n",
       "      <td>1</td>\n",
       "      <td>2014-02-01</td>\n",
       "      <td>18:43:12</td>\n",
       "      <td>1</td>\n",
       "      <td>Rodolfo</td>\n",
       "      <td>Comida</td>\n",
       "      <td>Pera Rostizada</td>\n",
       "      <td>Ensaladas</td>\n",
       "      <td>89</td>\n",
       "      <td>75.65</td>\n",
       "      <td>0.07</td>\n",
       "      <td>Cliente Nuevo</td>\n",
       "      <td>2014-02</td>\n",
       "    </tr>\n",
       "  </tbody>\n",
       "</table>\n",
       "</div>"
      ],
      "text/plain": [
       "   Orden      Fecha Hora de Cobro  Mesa  Atendió    Tipo        Producto  \\\n",
       "0      1 2014-02-01      18:43:12     1  Rodolfo  Bebida          Tecate   \n",
       "1      1 2014-02-01      18:43:12     1  Rodolfo  Bebida          Tisana   \n",
       "2      1 2014-02-01      18:43:12     1  Rodolfo  Bebida  Café americano   \n",
       "3      1 2014-02-01      18:43:12     1  Rodolfo  Bebida       Te helado   \n",
       "4      1 2014-02-01      18:43:12     1  Rodolfo  Comida  Pera Rostizada   \n",
       "\n",
       "           Categoria  Precio  Costo  Propina Tipo de Cliente FechaMes  \n",
       "0           Cervezas      25  18.00     0.07   Cliente Nuevo  2014-02  \n",
       "1  Bebida no Alcohol      25  18.00     0.07   Cliente Nuevo  2014-02  \n",
       "2  Bebida no Alcohol      18  12.60     0.07   Cliente Nuevo  2014-02  \n",
       "3  Bebida no Alcohol      25  18.50     0.07   Cliente Nuevo  2014-02  \n",
       "4          Ensaladas      89  75.65     0.07   Cliente Nuevo  2014-02  "
      ]
     },
     "execution_count": 3,
     "metadata": {},
     "output_type": "execute_result"
    }
   ],
   "source": [
    "restaurante[\"FechaMes\"]=restaurante.Fecha.dt.strftime(\"%Y-%m\")\n",
    "restaurante.head()"
   ]
  },
  {
   "cell_type": "markdown",
   "id": "1661b21f-fec6-4124-9423-ff63304df421",
   "metadata": {},
   "source": [
    "Investigaremos si el ingreso ha bajado, obteneniendo las ventas totales de cada mes:"
   ]
  },
  {
   "cell_type": "code",
   "execution_count": 4,
   "id": "2b77aa9e-38a4-4e55-9437-9a424baa9d37",
   "metadata": {},
   "outputs": [
    {
     "data": {
      "text/html": [
       "<div>\n",
       "<style scoped>\n",
       "    .dataframe tbody tr th:only-of-type {\n",
       "        vertical-align: middle;\n",
       "    }\n",
       "\n",
       "    .dataframe tbody tr th {\n",
       "        vertical-align: top;\n",
       "    }\n",
       "\n",
       "    .dataframe thead th {\n",
       "        text-align: right;\n",
       "    }\n",
       "</style>\n",
       "<table border=\"1\" class=\"dataframe\">\n",
       "  <thead>\n",
       "    <tr style=\"text-align: right;\">\n",
       "      <th></th>\n",
       "      <th>Precio</th>\n",
       "    </tr>\n",
       "    <tr>\n",
       "      <th>FechaMes</th>\n",
       "      <th></th>\n",
       "    </tr>\n",
       "  </thead>\n",
       "  <tbody>\n",
       "    <tr>\n",
       "      <th>2014-02</th>\n",
       "      <td>158871</td>\n",
       "    </tr>\n",
       "    <tr>\n",
       "      <th>2014-03</th>\n",
       "      <td>199750</td>\n",
       "    </tr>\n",
       "    <tr>\n",
       "      <th>2014-04</th>\n",
       "      <td>205472</td>\n",
       "    </tr>\n",
       "    <tr>\n",
       "      <th>2014-05</th>\n",
       "      <td>160516</td>\n",
       "    </tr>\n",
       "    <tr>\n",
       "      <th>2014-06</th>\n",
       "      <td>190253</td>\n",
       "    </tr>\n",
       "    <tr>\n",
       "      <th>2014-07</th>\n",
       "      <td>182819</td>\n",
       "    </tr>\n",
       "    <tr>\n",
       "      <th>2014-08</th>\n",
       "      <td>176184</td>\n",
       "    </tr>\n",
       "    <tr>\n",
       "      <th>2014-09</th>\n",
       "      <td>155277</td>\n",
       "    </tr>\n",
       "    <tr>\n",
       "      <th>2014-10</th>\n",
       "      <td>166222</td>\n",
       "    </tr>\n",
       "    <tr>\n",
       "      <th>2014-11</th>\n",
       "      <td>151881</td>\n",
       "    </tr>\n",
       "    <tr>\n",
       "      <th>2014-12</th>\n",
       "      <td>161006</td>\n",
       "    </tr>\n",
       "    <tr>\n",
       "      <th>2015-01</th>\n",
       "      <td>143378</td>\n",
       "    </tr>\n",
       "  </tbody>\n",
       "</table>\n",
       "</div>"
      ],
      "text/plain": [
       "          Precio\n",
       "FechaMes        \n",
       "2014-02   158871\n",
       "2014-03   199750\n",
       "2014-04   205472\n",
       "2014-05   160516\n",
       "2014-06   190253\n",
       "2014-07   182819\n",
       "2014-08   176184\n",
       "2014-09   155277\n",
       "2014-10   166222\n",
       "2014-11   151881\n",
       "2014-12   161006\n",
       "2015-01   143378"
      ]
     },
     "execution_count": 4,
     "metadata": {},
     "output_type": "execute_result"
    }
   ],
   "source": [
    "restaurante.groupby(\"FechaMes\").agg({\"Precio\":\"sum\"})"
   ]
  },
  {
   "cell_type": "markdown",
   "id": "323527c8-efa6-4881-985a-d60f766b0414",
   "metadata": {},
   "source": [
    "Harémos una inspección rápida de los datos con una gráfica de calor sobre las ventas de cada mes:"
   ]
  },
  {
   "cell_type": "markdown",
   "id": "8376ac0c-f55d-4385-a220-ac289f8c48dc",
   "metadata": {},
   "source": [
    "![Resuelto](../Img_Proyecto_Final/Act1Img1.png)"
   ]
  },
  {
   "cell_type": "markdown",
   "id": "85ca76ed-4b47-4d12-a0a4-6102047cf22a",
   "metadata": {},
   "source": [
    "Hacemos una gráfica de barras con las ventas de cada mes:"
   ]
  },
  {
   "cell_type": "markdown",
   "id": "8bb657b7-8a14-45bf-95b0-41ead086833d",
   "metadata": {},
   "source": [
    "![Resuelto](../Img_Proyecto_Final/Act1Img2.png)"
   ]
  },
  {
   "cell_type": "markdown",
   "id": "e609cb76-a357-4497-8cbc-be5a22b0bebf",
   "metadata": {},
   "source": [
    "__Conclusión:__ los ingresos aumentaron al principio, pero volvieron a bajar a niveles record."
   ]
  },
  {
   "cell_type": "markdown",
   "id": "50e7900b-3c2b-4c9b-a3f9-8f11fe1f20b5",
   "metadata": {
    "tags": []
   },
   "source": [
    "### Ejercicio 2:"
   ]
  },
  {
   "cell_type": "markdown",
   "id": "3a9dc022-cc5f-4dfa-9bd2-72ccade192bb",
   "metadata": {},
   "source": [
    "Ahora contaremos cuantos productos se sirvieron en cada mes:"
   ]
  },
  {
   "cell_type": "code",
   "execution_count": 5,
   "id": "149a5f00-32bc-4729-a848-3b99e52b3a89",
   "metadata": {},
   "outputs": [
    {
     "data": {
      "text/plain": [
       "FechaMes\n",
       "2014-02    2427\n",
       "2014-03    2879\n",
       "2014-04    2692\n",
       "2014-05    2244\n",
       "2014-06    2580\n",
       "2014-07    2488\n",
       "2014-08    2399\n",
       "2014-09    2467\n",
       "2014-10    2519\n",
       "2014-11    2489\n",
       "2014-12    2591\n",
       "2015-01    2357\n",
       "dtype: int64"
      ]
     },
     "execution_count": 5,
     "metadata": {},
     "output_type": "execute_result"
    }
   ],
   "source": [
    "restaurante.groupby(\"FechaMes\").size()"
   ]
  },
  {
   "cell_type": "markdown",
   "id": "aea4ade0-93a8-4a06-a108-d977c7eddf46",
   "metadata": {},
   "source": [
    "Crearemos un gráfico de calor sobre la cantidad de platos vendidos en cada mes para hacer un análisis exploratorio sencillo:"
   ]
  },
  {
   "cell_type": "markdown",
   "id": "6432b8e3-c8e7-4914-8727-10c8aee06cda",
   "metadata": {},
   "source": [
    "![Resuelto](../Img_Proyecto_Final/Act2Img1.png)"
   ]
  },
  {
   "cell_type": "markdown",
   "id": "b15e6424-795c-4a14-b7b8-951a7472ddc2",
   "metadata": {},
   "source": [
    "Haremos una gráfica de linea con el total de productos servidos por mes:"
   ]
  },
  {
   "cell_type": "markdown",
   "id": "be61a685-49fa-4eb2-8367-9e2db8b4f4ce",
   "metadata": {},
   "source": [
    "![Resuelto](../Img_Proyecto_Final/Act2Img2.png)"
   ]
  },
  {
   "cell_type": "markdown",
   "id": "76fefd84-faa9-48e5-8d39-c0d26e9f432d",
   "metadata": {},
   "source": [
    "__Conclusión:__ los ingresos bajaron, pero la cantidad de productos vendidos se mantuvo en el tiempo"
   ]
  },
  {
   "cell_type": "markdown",
   "id": "5a94a943-5775-4895-8598-aca7c075b33e",
   "metadata": {
    "tags": []
   },
   "source": [
    "### Ejercicio 3:"
   ]
  },
  {
   "cell_type": "markdown",
   "id": "fe157562-952d-44c4-9d62-92667e5c637e",
   "metadata": {},
   "source": [
    "Ahora mostraremos los ingresos al mes según si es comida o bebida, para encontrar si hubo un cambio en los habitos de consumo de los clientes:"
   ]
  },
  {
   "cell_type": "code",
   "execution_count": 6,
   "id": "35f9d706-3840-46fb-b238-eea19ed45c94",
   "metadata": {},
   "outputs": [
    {
     "data": {
      "text/html": [
       "<div>\n",
       "<style scoped>\n",
       "    .dataframe tbody tr th:only-of-type {\n",
       "        vertical-align: middle;\n",
       "    }\n",
       "\n",
       "    .dataframe tbody tr th {\n",
       "        vertical-align: top;\n",
       "    }\n",
       "\n",
       "    .dataframe thead th {\n",
       "        text-align: right;\n",
       "    }\n",
       "</style>\n",
       "<table border=\"1\" class=\"dataframe\">\n",
       "  <thead>\n",
       "    <tr style=\"text-align: right;\">\n",
       "      <th>Tipo</th>\n",
       "      <th>Bebida</th>\n",
       "      <th>Comida</th>\n",
       "    </tr>\n",
       "    <tr>\n",
       "      <th>FechaMes</th>\n",
       "      <th></th>\n",
       "      <th></th>\n",
       "    </tr>\n",
       "  </thead>\n",
       "  <tbody>\n",
       "    <tr>\n",
       "      <th>2014-02</th>\n",
       "      <td>48333</td>\n",
       "      <td>110538</td>\n",
       "    </tr>\n",
       "    <tr>\n",
       "      <th>2014-03</th>\n",
       "      <td>66787</td>\n",
       "      <td>132963</td>\n",
       "    </tr>\n",
       "    <tr>\n",
       "      <th>2014-04</th>\n",
       "      <td>76557</td>\n",
       "      <td>128915</td>\n",
       "    </tr>\n",
       "    <tr>\n",
       "      <th>2014-05</th>\n",
       "      <td>56949</td>\n",
       "      <td>103567</td>\n",
       "    </tr>\n",
       "    <tr>\n",
       "      <th>2014-06</th>\n",
       "      <td>69512</td>\n",
       "      <td>120741</td>\n",
       "    </tr>\n",
       "    <tr>\n",
       "      <th>2014-07</th>\n",
       "      <td>66772</td>\n",
       "      <td>116047</td>\n",
       "    </tr>\n",
       "    <tr>\n",
       "      <th>2014-08</th>\n",
       "      <td>65030</td>\n",
       "      <td>111154</td>\n",
       "    </tr>\n",
       "    <tr>\n",
       "      <th>2014-09</th>\n",
       "      <td>42485</td>\n",
       "      <td>112792</td>\n",
       "    </tr>\n",
       "    <tr>\n",
       "      <th>2014-10</th>\n",
       "      <td>51808</td>\n",
       "      <td>114414</td>\n",
       "    </tr>\n",
       "    <tr>\n",
       "      <th>2014-11</th>\n",
       "      <td>38438</td>\n",
       "      <td>113443</td>\n",
       "    </tr>\n",
       "    <tr>\n",
       "      <th>2014-12</th>\n",
       "      <td>41006</td>\n",
       "      <td>120000</td>\n",
       "    </tr>\n",
       "    <tr>\n",
       "      <th>2015-01</th>\n",
       "      <td>35197</td>\n",
       "      <td>108181</td>\n",
       "    </tr>\n",
       "  </tbody>\n",
       "</table>\n",
       "</div>"
      ],
      "text/plain": [
       "Tipo      Bebida  Comida\n",
       "FechaMes                \n",
       "2014-02    48333  110538\n",
       "2014-03    66787  132963\n",
       "2014-04    76557  128915\n",
       "2014-05    56949  103567\n",
       "2014-06    69512  120741\n",
       "2014-07    66772  116047\n",
       "2014-08    65030  111154\n",
       "2014-09    42485  112792\n",
       "2014-10    51808  114414\n",
       "2014-11    38438  113443\n",
       "2014-12    41006  120000\n",
       "2015-01    35197  108181"
      ]
     },
     "execution_count": 6,
     "metadata": {},
     "output_type": "execute_result"
    }
   ],
   "source": [
    "restaurante.pivot_table(index=\"FechaMes\", values=\"Precio\", columns= \"Tipo\",aggfunc=\"sum\")"
   ]
  },
  {
   "cell_type": "markdown",
   "id": "b12d2247-ddc1-4af7-878a-653483394912",
   "metadata": {},
   "source": [
    "Graficaremos el ingreso mensual de cada tipo de alimento:"
   ]
  },
  {
   "cell_type": "markdown",
   "id": "8d75dd9f-df79-4e54-b8e7-ee367280d043",
   "metadata": {},
   "source": [
    "![Resuelto](../Img_Proyecto_Final/Act3Img1.png)"
   ]
  },
  {
   "cell_type": "markdown",
   "id": "0bcbe288-72cc-4fef-99d9-c96763c1e263",
   "metadata": {},
   "source": [
    "__Conclusión:__ los clientes piden cada vez menos bebidas, pero la comida se mantiene, por lo que tenemos fuertes indicios que el problema general se da en esa área."
   ]
  },
  {
   "cell_type": "markdown",
   "id": "2ff014fe-847f-490e-bed3-373134c00dff",
   "metadata": {
    "tags": []
   },
   "source": [
    "### Ejercicio 4:"
   ]
  },
  {
   "cell_type": "markdown",
   "id": "eddbd75f-df0f-488b-ac95-a618c6593d13",
   "metadata": {},
   "source": [
    "Analizaremos el ingreso mensual de las bebidas teniendo una columna por categoría:"
   ]
  },
  {
   "cell_type": "code",
   "execution_count": 7,
   "id": "77f0b148-9f7e-4db1-967e-44673a9e7b6e",
   "metadata": {},
   "outputs": [],
   "source": [
    "bebidas=restaurante.loc[restaurante.Tipo==\"Bebida\"]"
   ]
  },
  {
   "cell_type": "code",
   "execution_count": 8,
   "id": "a4c6f94c-bfbb-4226-b723-dd565548c92a",
   "metadata": {},
   "outputs": [
    {
     "data": {
      "text/html": [
       "<div>\n",
       "<style scoped>\n",
       "    .dataframe tbody tr th:only-of-type {\n",
       "        vertical-align: middle;\n",
       "    }\n",
       "\n",
       "    .dataframe tbody tr th {\n",
       "        vertical-align: top;\n",
       "    }\n",
       "\n",
       "    .dataframe thead th {\n",
       "        text-align: right;\n",
       "    }\n",
       "</style>\n",
       "<table border=\"1\" class=\"dataframe\">\n",
       "  <thead>\n",
       "    <tr style=\"text-align: right;\">\n",
       "      <th>Categoria</th>\n",
       "      <th>Bebida no Alcohol</th>\n",
       "      <th>Cervezas</th>\n",
       "      <th>Vinos</th>\n",
       "    </tr>\n",
       "    <tr>\n",
       "      <th>FechaMes</th>\n",
       "      <th></th>\n",
       "      <th></th>\n",
       "      <th></th>\n",
       "    </tr>\n",
       "  </thead>\n",
       "  <tbody>\n",
       "    <tr>\n",
       "      <th>2014-02</th>\n",
       "      <td>15377</td>\n",
       "      <td>16145</td>\n",
       "      <td>16811</td>\n",
       "    </tr>\n",
       "    <tr>\n",
       "      <th>2014-03</th>\n",
       "      <td>17644</td>\n",
       "      <td>18415</td>\n",
       "      <td>30728</td>\n",
       "    </tr>\n",
       "    <tr>\n",
       "      <th>2014-04</th>\n",
       "      <td>16298</td>\n",
       "      <td>17170</td>\n",
       "      <td>43089</td>\n",
       "    </tr>\n",
       "    <tr>\n",
       "      <th>2014-05</th>\n",
       "      <td>14994</td>\n",
       "      <td>13480</td>\n",
       "      <td>28475</td>\n",
       "    </tr>\n",
       "    <tr>\n",
       "      <th>2014-06</th>\n",
       "      <td>16468</td>\n",
       "      <td>16360</td>\n",
       "      <td>36684</td>\n",
       "    </tr>\n",
       "    <tr>\n",
       "      <th>2014-07</th>\n",
       "      <td>15952</td>\n",
       "      <td>15095</td>\n",
       "      <td>35725</td>\n",
       "    </tr>\n",
       "    <tr>\n",
       "      <th>2014-08</th>\n",
       "      <td>15135</td>\n",
       "      <td>15155</td>\n",
       "      <td>34740</td>\n",
       "    </tr>\n",
       "    <tr>\n",
       "      <th>2014-09</th>\n",
       "      <td>16578</td>\n",
       "      <td>15640</td>\n",
       "      <td>10267</td>\n",
       "    </tr>\n",
       "    <tr>\n",
       "      <th>2014-10</th>\n",
       "      <td>16862</td>\n",
       "      <td>15590</td>\n",
       "      <td>19356</td>\n",
       "    </tr>\n",
       "    <tr>\n",
       "      <th>2014-11</th>\n",
       "      <td>16578</td>\n",
       "      <td>16665</td>\n",
       "      <td>5195</td>\n",
       "    </tr>\n",
       "    <tr>\n",
       "      <th>2014-12</th>\n",
       "      <td>16884</td>\n",
       "      <td>16970</td>\n",
       "      <td>7152</td>\n",
       "    </tr>\n",
       "    <tr>\n",
       "      <th>2015-01</th>\n",
       "      <td>15710</td>\n",
       "      <td>14910</td>\n",
       "      <td>4577</td>\n",
       "    </tr>\n",
       "  </tbody>\n",
       "</table>\n",
       "</div>"
      ],
      "text/plain": [
       "Categoria  Bebida no Alcohol  Cervezas  Vinos\n",
       "FechaMes                                     \n",
       "2014-02                15377     16145  16811\n",
       "2014-03                17644     18415  30728\n",
       "2014-04                16298     17170  43089\n",
       "2014-05                14994     13480  28475\n",
       "2014-06                16468     16360  36684\n",
       "2014-07                15952     15095  35725\n",
       "2014-08                15135     15155  34740\n",
       "2014-09                16578     15640  10267\n",
       "2014-10                16862     15590  19356\n",
       "2014-11                16578     16665   5195\n",
       "2014-12                16884     16970   7152\n",
       "2015-01                15710     14910   4577"
      ]
     },
     "execution_count": 8,
     "metadata": {},
     "output_type": "execute_result"
    }
   ],
   "source": [
    "bebidas.pivot_table(index=\"FechaMes\", values=\"Precio\", columns= \"Categoria\",   aggfunc=\"sum\")"
   ]
  },
  {
   "cell_type": "markdown",
   "id": "ec48f647-1fc0-40ee-91b2-2954b6e7b0ed",
   "metadata": {},
   "source": [
    "Haremos una gráfica de calor sobre los ingresos mensuales de cada tipo de bebida:"
   ]
  },
  {
   "cell_type": "markdown",
   "id": "295e40aa-4e79-4368-bccd-5c4f0140716c",
   "metadata": {},
   "source": [
    "![Resuelto](../Img_Proyecto_Final/Act4Img1.png)"
   ]
  },
  {
   "cell_type": "markdown",
   "id": "6da996b8-0d51-40a4-bc0f-374f10f3c939",
   "metadata": {},
   "source": [
    "Graficaremos el ingreso mensual de cada tipo de bebida:"
   ]
  },
  {
   "cell_type": "markdown",
   "id": "3799afa9-964e-43e7-bb65-7aa98270998b",
   "metadata": {
    "tags": []
   },
   "source": [
    "![Resuelto](../Img_Proyecto_Final/Act4Img2.png)"
   ]
  },
  {
   "cell_type": "markdown",
   "id": "70797658-874a-4be5-b35a-a470d5ec785b",
   "metadata": {},
   "source": [
    "__Conclusión:__ Los ingresos provenientes de los vinos bajaron mucho, debemos indagar en los posibles motivos, por ejemplo, analizando a los meseros que lo sirven."
   ]
  },
  {
   "cell_type": "markdown",
   "id": "036cc0eb-ca6b-4304-8ecf-c92fe493b0e5",
   "metadata": {
    "tags": []
   },
   "source": [
    "### Ejercicio 5:"
   ]
  },
  {
   "cell_type": "markdown",
   "id": "0db185a9-43b4-43ca-a382-5ee783c43099",
   "metadata": {},
   "source": [
    "Obtendremos las ventas mensuales de cada mesero:"
   ]
  },
  {
   "cell_type": "code",
   "execution_count": 9,
   "id": "1edb2581-66e4-4f84-a693-f89824a3c961",
   "metadata": {},
   "outputs": [
    {
     "data": {
      "text/html": [
       "<div>\n",
       "<style scoped>\n",
       "    .dataframe tbody tr th:only-of-type {\n",
       "        vertical-align: middle;\n",
       "    }\n",
       "\n",
       "    .dataframe tbody tr th {\n",
       "        vertical-align: top;\n",
       "    }\n",
       "\n",
       "    .dataframe thead th {\n",
       "        text-align: right;\n",
       "    }\n",
       "</style>\n",
       "<table border=\"1\" class=\"dataframe\">\n",
       "  <thead>\n",
       "    <tr style=\"text-align: right;\">\n",
       "      <th>Atendió</th>\n",
       "      <th>Alejandro</th>\n",
       "      <th>Ernesto</th>\n",
       "      <th>Joel</th>\n",
       "      <th>Mariana</th>\n",
       "      <th>Mauricio</th>\n",
       "      <th>Omar</th>\n",
       "      <th>Rodolfo</th>\n",
       "      <th>Saul</th>\n",
       "      <th>Valentina</th>\n",
       "    </tr>\n",
       "    <tr>\n",
       "      <th>FechaMes</th>\n",
       "      <th></th>\n",
       "      <th></th>\n",
       "      <th></th>\n",
       "      <th></th>\n",
       "      <th></th>\n",
       "      <th></th>\n",
       "      <th></th>\n",
       "      <th></th>\n",
       "      <th></th>\n",
       "    </tr>\n",
       "  </thead>\n",
       "  <tbody>\n",
       "    <tr>\n",
       "      <th>2014-02</th>\n",
       "      <td>20750</td>\n",
       "      <td>19666</td>\n",
       "      <td>20447</td>\n",
       "      <td>29480</td>\n",
       "      <td>0</td>\n",
       "      <td>18076</td>\n",
       "      <td>23115</td>\n",
       "      <td>7260</td>\n",
       "      <td>20077</td>\n",
       "    </tr>\n",
       "    <tr>\n",
       "      <th>2014-03</th>\n",
       "      <td>24185</td>\n",
       "      <td>25380</td>\n",
       "      <td>29778</td>\n",
       "      <td>19581</td>\n",
       "      <td>0</td>\n",
       "      <td>30387</td>\n",
       "      <td>21735</td>\n",
       "      <td>22947</td>\n",
       "      <td>25757</td>\n",
       "    </tr>\n",
       "    <tr>\n",
       "      <th>2014-04</th>\n",
       "      <td>23956</td>\n",
       "      <td>19234</td>\n",
       "      <td>30251</td>\n",
       "      <td>21450</td>\n",
       "      <td>0</td>\n",
       "      <td>32231</td>\n",
       "      <td>34651</td>\n",
       "      <td>26459</td>\n",
       "      <td>17240</td>\n",
       "    </tr>\n",
       "    <tr>\n",
       "      <th>2014-05</th>\n",
       "      <td>24446</td>\n",
       "      <td>23593</td>\n",
       "      <td>21257</td>\n",
       "      <td>9166</td>\n",
       "      <td>0</td>\n",
       "      <td>21130</td>\n",
       "      <td>24874</td>\n",
       "      <td>13454</td>\n",
       "      <td>22596</td>\n",
       "    </tr>\n",
       "    <tr>\n",
       "      <th>2014-06</th>\n",
       "      <td>32116</td>\n",
       "      <td>31995</td>\n",
       "      <td>18699</td>\n",
       "      <td>29611</td>\n",
       "      <td>0</td>\n",
       "      <td>18446</td>\n",
       "      <td>18263</td>\n",
       "      <td>23672</td>\n",
       "      <td>17451</td>\n",
       "    </tr>\n",
       "    <tr>\n",
       "      <th>2014-07</th>\n",
       "      <td>21030</td>\n",
       "      <td>27139</td>\n",
       "      <td>34351</td>\n",
       "      <td>17133</td>\n",
       "      <td>0</td>\n",
       "      <td>11062</td>\n",
       "      <td>15017</td>\n",
       "      <td>33827</td>\n",
       "      <td>23260</td>\n",
       "    </tr>\n",
       "    <tr>\n",
       "      <th>2014-08</th>\n",
       "      <td>16371</td>\n",
       "      <td>17814</td>\n",
       "      <td>27550</td>\n",
       "      <td>23007</td>\n",
       "      <td>0</td>\n",
       "      <td>30738</td>\n",
       "      <td>18580</td>\n",
       "      <td>24178</td>\n",
       "      <td>17946</td>\n",
       "    </tr>\n",
       "    <tr>\n",
       "      <th>2014-09</th>\n",
       "      <td>17756</td>\n",
       "      <td>14853</td>\n",
       "      <td>10494</td>\n",
       "      <td>14024</td>\n",
       "      <td>30381</td>\n",
       "      <td>20637</td>\n",
       "      <td>18284</td>\n",
       "      <td>14109</td>\n",
       "      <td>14739</td>\n",
       "    </tr>\n",
       "    <tr>\n",
       "      <th>2014-10</th>\n",
       "      <td>16555</td>\n",
       "      <td>21821</td>\n",
       "      <td>25249</td>\n",
       "      <td>12674</td>\n",
       "      <td>34959</td>\n",
       "      <td>9201</td>\n",
       "      <td>15056</td>\n",
       "      <td>16795</td>\n",
       "      <td>13912</td>\n",
       "    </tr>\n",
       "    <tr>\n",
       "      <th>2014-11</th>\n",
       "      <td>19786</td>\n",
       "      <td>12258</td>\n",
       "      <td>11442</td>\n",
       "      <td>17772</td>\n",
       "      <td>29455</td>\n",
       "      <td>13314</td>\n",
       "      <td>17818</td>\n",
       "      <td>15374</td>\n",
       "      <td>14662</td>\n",
       "    </tr>\n",
       "    <tr>\n",
       "      <th>2014-12</th>\n",
       "      <td>17254</td>\n",
       "      <td>24581</td>\n",
       "      <td>12989</td>\n",
       "      <td>17662</td>\n",
       "      <td>31190</td>\n",
       "      <td>18235</td>\n",
       "      <td>15438</td>\n",
       "      <td>11084</td>\n",
       "      <td>12573</td>\n",
       "    </tr>\n",
       "    <tr>\n",
       "      <th>2015-01</th>\n",
       "      <td>10229</td>\n",
       "      <td>14302</td>\n",
       "      <td>11339</td>\n",
       "      <td>14542</td>\n",
       "      <td>36568</td>\n",
       "      <td>18624</td>\n",
       "      <td>6713</td>\n",
       "      <td>17862</td>\n",
       "      <td>13199</td>\n",
       "    </tr>\n",
       "  </tbody>\n",
       "</table>\n",
       "</div>"
      ],
      "text/plain": [
       "Atendió   Alejandro  Ernesto   Joel  Mariana  Mauricio   Omar  Rodolfo   Saul  \\\n",
       "FechaMes                                                                        \n",
       "2014-02       20750    19666  20447    29480         0  18076    23115   7260   \n",
       "2014-03       24185    25380  29778    19581         0  30387    21735  22947   \n",
       "2014-04       23956    19234  30251    21450         0  32231    34651  26459   \n",
       "2014-05       24446    23593  21257     9166         0  21130    24874  13454   \n",
       "2014-06       32116    31995  18699    29611         0  18446    18263  23672   \n",
       "2014-07       21030    27139  34351    17133         0  11062    15017  33827   \n",
       "2014-08       16371    17814  27550    23007         0  30738    18580  24178   \n",
       "2014-09       17756    14853  10494    14024     30381  20637    18284  14109   \n",
       "2014-10       16555    21821  25249    12674     34959   9201    15056  16795   \n",
       "2014-11       19786    12258  11442    17772     29455  13314    17818  15374   \n",
       "2014-12       17254    24581  12989    17662     31190  18235    15438  11084   \n",
       "2015-01       10229    14302  11339    14542     36568  18624     6713  17862   \n",
       "\n",
       "Atendió   Valentina  \n",
       "FechaMes             \n",
       "2014-02       20077  \n",
       "2014-03       25757  \n",
       "2014-04       17240  \n",
       "2014-05       22596  \n",
       "2014-06       17451  \n",
       "2014-07       23260  \n",
       "2014-08       17946  \n",
       "2014-09       14739  \n",
       "2014-10       13912  \n",
       "2014-11       14662  \n",
       "2014-12       12573  \n",
       "2015-01       13199  "
      ]
     },
     "execution_count": 9,
     "metadata": {},
     "output_type": "execute_result"
    }
   ],
   "source": [
    "ventas_meseros=pd.pivot_table(restaurante, index=\"FechaMes\", values=\"Precio\", aggfunc=\"sum\" ,columns=\"Atendió\", fill_value=0)\n",
    "ventas_meseros"
   ]
  },
  {
   "cell_type": "markdown",
   "id": "a84ddb69-39d0-416e-b17a-cb5794ecbf46",
   "metadata": {},
   "source": [
    "Haremos una gráfica de calor sobre las ventas de cada mesero:"
   ]
  },
  {
   "cell_type": "markdown",
   "id": "50fea162-f9ac-44f3-b756-be893dfa1764",
   "metadata": {},
   "source": [
    "![Resuelto](../Img_Proyecto_Final/Act5Img1.png)"
   ]
  },
  {
   "cell_type": "markdown",
   "id": "a1430abc-d668-43e3-98d9-2059c6ece0a5",
   "metadata": {},
   "source": [
    "Graficaremos el ingreso por mes de cada mesero:"
   ]
  },
  {
   "cell_type": "markdown",
   "id": "26542ae9-5787-443a-a9c7-c4edd7480b3a",
   "metadata": {},
   "source": [
    "![Resuelto](../Img_Proyecto_Final/Act5Img2.png)"
   ]
  },
  {
   "cell_type": "markdown",
   "id": "f46aa4c5-cda7-4565-b623-72c6aabde55b",
   "metadata": {},
   "source": [
    "__Conclusión:__ las ventas de los meseros al igual que el vino están bajando, excepto por Mauricio que entró a trabajar en septiembre, un buen paso será graficar la relación de estas 2 variables, por ejemplo, calcular cuanto vino vende cada mesero"
   ]
  },
  {
   "cell_type": "markdown",
   "id": "fda4e7eb-b5e8-4000-a1a5-4e1ca4eb0aba",
   "metadata": {
    "tags": []
   },
   "source": [
    "### Ejercicio 6:"
   ]
  },
  {
   "cell_type": "markdown",
   "id": "5e001241-5a01-4d89-b39a-75eab5da222a",
   "metadata": {},
   "source": [
    "Averiguaremos cuanto vino vende cada mesero:"
   ]
  },
  {
   "cell_type": "code",
   "execution_count": 10,
   "id": "078f9a39-8817-4d83-8464-e00aa12da869",
   "metadata": {},
   "outputs": [],
   "source": [
    "ventas_vinos=bebidas.loc[bebidas.Categoria==\"Vinos\"]"
   ]
  },
  {
   "cell_type": "code",
   "execution_count": 11,
   "id": "d4af8d5a-96a8-4ff1-b7c6-4ad047211d4f",
   "metadata": {},
   "outputs": [
    {
     "data": {
      "text/html": [
       "<div>\n",
       "<style scoped>\n",
       "    .dataframe tbody tr th:only-of-type {\n",
       "        vertical-align: middle;\n",
       "    }\n",
       "\n",
       "    .dataframe tbody tr th {\n",
       "        vertical-align: top;\n",
       "    }\n",
       "\n",
       "    .dataframe thead th {\n",
       "        text-align: right;\n",
       "    }\n",
       "</style>\n",
       "<table border=\"1\" class=\"dataframe\">\n",
       "  <thead>\n",
       "    <tr style=\"text-align: right;\">\n",
       "      <th></th>\n",
       "      <th>Precio</th>\n",
       "    </tr>\n",
       "    <tr>\n",
       "      <th>Atendió</th>\n",
       "      <th></th>\n",
       "    </tr>\n",
       "  </thead>\n",
       "  <tbody>\n",
       "    <tr>\n",
       "      <th>Alejandro</th>\n",
       "      <td>45957</td>\n",
       "    </tr>\n",
       "    <tr>\n",
       "      <th>Ernesto</th>\n",
       "      <td>38776</td>\n",
       "    </tr>\n",
       "    <tr>\n",
       "      <th>Joel</th>\n",
       "      <td>43333</td>\n",
       "    </tr>\n",
       "    <tr>\n",
       "      <th>Mariana</th>\n",
       "      <td>25250</td>\n",
       "    </tr>\n",
       "    <tr>\n",
       "      <th>Omar</th>\n",
       "      <td>31078</td>\n",
       "    </tr>\n",
       "    <tr>\n",
       "      <th>Rodolfo</th>\n",
       "      <td>26233</td>\n",
       "    </tr>\n",
       "    <tr>\n",
       "      <th>Saul</th>\n",
       "      <td>35019</td>\n",
       "    </tr>\n",
       "    <tr>\n",
       "      <th>Valentina</th>\n",
       "      <td>27153</td>\n",
       "    </tr>\n",
       "  </tbody>\n",
       "</table>\n",
       "</div>"
      ],
      "text/plain": [
       "           Precio\n",
       "Atendió          \n",
       "Alejandro   45957\n",
       "Ernesto     38776\n",
       "Joel        43333\n",
       "Mariana     25250\n",
       "Omar        31078\n",
       "Rodolfo     26233\n",
       "Saul        35019\n",
       "Valentina   27153"
      ]
     },
     "execution_count": 11,
     "metadata": {},
     "output_type": "execute_result"
    }
   ],
   "source": [
    "vinos_mesero=ventas_vinos.pivot_table(index=\"Atendió\", values=\"Precio\", aggfunc=\"sum\")\n",
    "vinos_mesero"
   ]
  },
  {
   "cell_type": "code",
   "execution_count": 12,
   "id": "9c46c966-7e95-4dfa-a69d-0be9cdd94bb4",
   "metadata": {},
   "outputs": [
    {
     "data": {
      "text/plain": [
       "array(['Rodolfo', 'Mauricio', 'Joel', 'Valentina', 'Omar', 'Saul',\n",
       "       'Alejandro', 'Mariana', 'Ernesto'], dtype=object)"
      ]
     },
     "execution_count": 12,
     "metadata": {},
     "output_type": "execute_result"
    }
   ],
   "source": [
    "bebidas.Atendió.unique()"
   ]
  },
  {
   "cell_type": "markdown",
   "id": "c56bc200-8464-49c5-b53d-b0868e667cfd",
   "metadata": {},
   "source": [
    "Ordenaremos estos resultados"
   ]
  },
  {
   "cell_type": "code",
   "execution_count": 13,
   "id": "a9575ccb-eb19-4749-bde5-15d9001326fa",
   "metadata": {},
   "outputs": [
    {
     "data": {
      "text/html": [
       "<div>\n",
       "<style scoped>\n",
       "    .dataframe tbody tr th:only-of-type {\n",
       "        vertical-align: middle;\n",
       "    }\n",
       "\n",
       "    .dataframe tbody tr th {\n",
       "        vertical-align: top;\n",
       "    }\n",
       "\n",
       "    .dataframe thead th {\n",
       "        text-align: right;\n",
       "    }\n",
       "</style>\n",
       "<table border=\"1\" class=\"dataframe\">\n",
       "  <thead>\n",
       "    <tr style=\"text-align: right;\">\n",
       "      <th></th>\n",
       "      <th>Precio</th>\n",
       "    </tr>\n",
       "    <tr>\n",
       "      <th>Atendió</th>\n",
       "      <th></th>\n",
       "    </tr>\n",
       "  </thead>\n",
       "  <tbody>\n",
       "    <tr>\n",
       "      <th>Mariana</th>\n",
       "      <td>25250</td>\n",
       "    </tr>\n",
       "    <tr>\n",
       "      <th>Rodolfo</th>\n",
       "      <td>26233</td>\n",
       "    </tr>\n",
       "    <tr>\n",
       "      <th>Valentina</th>\n",
       "      <td>27153</td>\n",
       "    </tr>\n",
       "    <tr>\n",
       "      <th>Omar</th>\n",
       "      <td>31078</td>\n",
       "    </tr>\n",
       "    <tr>\n",
       "      <th>Saul</th>\n",
       "      <td>35019</td>\n",
       "    </tr>\n",
       "    <tr>\n",
       "      <th>Ernesto</th>\n",
       "      <td>38776</td>\n",
       "    </tr>\n",
       "    <tr>\n",
       "      <th>Joel</th>\n",
       "      <td>43333</td>\n",
       "    </tr>\n",
       "    <tr>\n",
       "      <th>Alejandro</th>\n",
       "      <td>45957</td>\n",
       "    </tr>\n",
       "  </tbody>\n",
       "</table>\n",
       "</div>"
      ],
      "text/plain": [
       "           Precio\n",
       "Atendió          \n",
       "Mariana     25250\n",
       "Rodolfo     26233\n",
       "Valentina   27153\n",
       "Omar        31078\n",
       "Saul        35019\n",
       "Ernesto     38776\n",
       "Joel        43333\n",
       "Alejandro   45957"
      ]
     },
     "execution_count": 13,
     "metadata": {},
     "output_type": "execute_result"
    }
   ],
   "source": [
    "vinos_mesero.sort_values(\"Precio\")"
   ]
  },
  {
   "cell_type": "markdown",
   "id": "2eb73824-f772-4e6b-adfc-09fc10a3cf1e",
   "metadata": {},
   "source": [
    "Hacemos un análisis exploratorio con una gráfica de calor:"
   ]
  },
  {
   "cell_type": "markdown",
   "id": "351f8996-1e59-44a0-8d61-b67cbe4c649b",
   "metadata": {},
   "source": [
    "![Resuelto](../Img_Proyecto_Final/Act6Img1.png)"
   ]
  },
  {
   "cell_type": "markdown",
   "id": "d2d5cc14-61ef-4e7f-9bff-45519da2ecd5",
   "metadata": {},
   "source": [
    "Graficamos la venta de vinos de cada mesero:"
   ]
  },
  {
   "cell_type": "markdown",
   "id": "9e75acb5-2f3c-4785-8807-18837b881556",
   "metadata": {},
   "source": [
    "![Resuelto](../Img_Proyecto_Final/Act6Img2.png)"
   ]
  },
  {
   "cell_type": "markdown",
   "id": "3045c727-52ec-419b-8fb2-9b094bb666a0",
   "metadata": {},
   "source": [
    "__Conclusión:__ en la gráfica anterior notamos que no aparece Mauricio, por lo que el descenso en ingresos puede deberse a esto"
   ]
  },
  {
   "cell_type": "markdown",
   "id": "17e82701-e1aa-4158-9a1a-5fc9ef751412",
   "metadata": {
    "tags": []
   },
   "source": [
    "### Ejercicio 7:"
   ]
  },
  {
   "cell_type": "markdown",
   "id": "482f32ff-4756-4914-bd6c-d400834f0de6",
   "metadata": {},
   "source": [
    "Para poder conocer si los meseros atienden bien utilizaremos una cantidad derivada, la propina, si reciben buenas propinas es aceptable pensar que es por su buen servicio:"
   ]
  },
  {
   "cell_type": "code",
   "execution_count": 14,
   "id": "8c48182c-28df-4dbd-a5c2-ed0c676ecd48",
   "metadata": {},
   "outputs": [
    {
     "data": {
      "text/html": [
       "<div>\n",
       "<style scoped>\n",
       "    .dataframe tbody tr th:only-of-type {\n",
       "        vertical-align: middle;\n",
       "    }\n",
       "\n",
       "    .dataframe tbody tr th {\n",
       "        vertical-align: top;\n",
       "    }\n",
       "\n",
       "    .dataframe thead th {\n",
       "        text-align: right;\n",
       "    }\n",
       "</style>\n",
       "<table border=\"1\" class=\"dataframe\">\n",
       "  <thead>\n",
       "    <tr style=\"text-align: right;\">\n",
       "      <th></th>\n",
       "      <th>Propina</th>\n",
       "    </tr>\n",
       "    <tr>\n",
       "      <th>Atendió</th>\n",
       "      <th></th>\n",
       "    </tr>\n",
       "  </thead>\n",
       "  <tbody>\n",
       "    <tr>\n",
       "      <th>Alejandro</th>\n",
       "      <td>0.107915</td>\n",
       "    </tr>\n",
       "    <tr>\n",
       "      <th>Ernesto</th>\n",
       "      <td>0.111613</td>\n",
       "    </tr>\n",
       "    <tr>\n",
       "      <th>Joel</th>\n",
       "      <td>0.111800</td>\n",
       "    </tr>\n",
       "    <tr>\n",
       "      <th>Mariana</th>\n",
       "      <td>0.109825</td>\n",
       "    </tr>\n",
       "    <tr>\n",
       "      <th>Mauricio</th>\n",
       "      <td>0.200000</td>\n",
       "    </tr>\n",
       "    <tr>\n",
       "      <th>Omar</th>\n",
       "      <td>0.111976</td>\n",
       "    </tr>\n",
       "    <tr>\n",
       "      <th>Rodolfo</th>\n",
       "      <td>0.107440</td>\n",
       "    </tr>\n",
       "    <tr>\n",
       "      <th>Saul</th>\n",
       "      <td>0.112254</td>\n",
       "    </tr>\n",
       "    <tr>\n",
       "      <th>Valentina</th>\n",
       "      <td>0.105980</td>\n",
       "    </tr>\n",
       "  </tbody>\n",
       "</table>\n",
       "</div>"
      ],
      "text/plain": [
       "            Propina\n",
       "Atendió            \n",
       "Alejandro  0.107915\n",
       "Ernesto    0.111613\n",
       "Joel       0.111800\n",
       "Mariana    0.109825\n",
       "Mauricio   0.200000\n",
       "Omar       0.111976\n",
       "Rodolfo    0.107440\n",
       "Saul       0.112254\n",
       "Valentina  0.105980"
      ]
     },
     "execution_count": 14,
     "metadata": {},
     "output_type": "execute_result"
    }
   ],
   "source": [
    "restaurante.groupby(\"Atendió\").agg({\"Propina\":\"mean\"})"
   ]
  },
  {
   "cell_type": "markdown",
   "id": "aa8e1ea1-8a0e-4a18-a51d-ef9789d705c8",
   "metadata": {},
   "source": [
    "Haremos un analisis exploratorio de los datos con una gráfica de calor:"
   ]
  },
  {
   "cell_type": "markdown",
   "id": "84736dd3-a9de-46b2-bda3-89d53cf377c3",
   "metadata": {},
   "source": [
    "![Resuelto](../Img_Proyecto_Final/Act7Img1.png)"
   ]
  },
  {
   "cell_type": "markdown",
   "id": "52c6a1e5-b084-4d38-a720-9760e9e258dc",
   "metadata": {},
   "source": [
    "Graficamos la propina media de cada mesero:"
   ]
  },
  {
   "cell_type": "markdown",
   "id": "3e56cf5a-b4db-417e-91bd-fbe65a5f2315",
   "metadata": {},
   "source": [
    "![Resuelto](../Img_Proyecto_Final/Act7Img2.png)"
   ]
  },
  {
   "cell_type": "code",
   "execution_count": 15,
   "id": "81932b10-49df-43fc-886e-4d9679696d44",
   "metadata": {},
   "outputs": [
    {
     "data": {
      "text/html": [
       "<div>\n",
       "<style scoped>\n",
       "    .dataframe tbody tr th:only-of-type {\n",
       "        vertical-align: middle;\n",
       "    }\n",
       "\n",
       "    .dataframe tbody tr th {\n",
       "        vertical-align: top;\n",
       "    }\n",
       "\n",
       "    .dataframe thead th {\n",
       "        text-align: right;\n",
       "    }\n",
       "</style>\n",
       "<table border=\"1\" class=\"dataframe\">\n",
       "  <thead>\n",
       "    <tr style=\"text-align: right;\">\n",
       "      <th></th>\n",
       "      <th>Orden</th>\n",
       "      <th>Fecha</th>\n",
       "      <th>Hora de Cobro</th>\n",
       "      <th>Mesa</th>\n",
       "      <th>Atendió</th>\n",
       "      <th>Tipo</th>\n",
       "      <th>Producto</th>\n",
       "      <th>Categoria</th>\n",
       "      <th>Precio</th>\n",
       "      <th>Costo</th>\n",
       "      <th>Propina</th>\n",
       "      <th>Tipo de Cliente</th>\n",
       "      <th>FechaMes</th>\n",
       "    </tr>\n",
       "  </thead>\n",
       "  <tbody>\n",
       "    <tr>\n",
       "      <th>0</th>\n",
       "      <td>1</td>\n",
       "      <td>2014-02-01</td>\n",
       "      <td>18:43:12</td>\n",
       "      <td>1</td>\n",
       "      <td>Rodolfo</td>\n",
       "      <td>Bebida</td>\n",
       "      <td>Tecate</td>\n",
       "      <td>Cervezas</td>\n",
       "      <td>25</td>\n",
       "      <td>18.00</td>\n",
       "      <td>0.07</td>\n",
       "      <td>Cliente Nuevo</td>\n",
       "      <td>2014-02</td>\n",
       "    </tr>\n",
       "    <tr>\n",
       "      <th>1</th>\n",
       "      <td>1</td>\n",
       "      <td>2014-02-01</td>\n",
       "      <td>18:43:12</td>\n",
       "      <td>1</td>\n",
       "      <td>Rodolfo</td>\n",
       "      <td>Bebida</td>\n",
       "      <td>Tisana</td>\n",
       "      <td>Bebida no Alcohol</td>\n",
       "      <td>25</td>\n",
       "      <td>18.00</td>\n",
       "      <td>0.07</td>\n",
       "      <td>Cliente Nuevo</td>\n",
       "      <td>2014-02</td>\n",
       "    </tr>\n",
       "    <tr>\n",
       "      <th>2</th>\n",
       "      <td>1</td>\n",
       "      <td>2014-02-01</td>\n",
       "      <td>18:43:12</td>\n",
       "      <td>1</td>\n",
       "      <td>Rodolfo</td>\n",
       "      <td>Bebida</td>\n",
       "      <td>Café americano</td>\n",
       "      <td>Bebida no Alcohol</td>\n",
       "      <td>18</td>\n",
       "      <td>12.60</td>\n",
       "      <td>0.07</td>\n",
       "      <td>Cliente Nuevo</td>\n",
       "      <td>2014-02</td>\n",
       "    </tr>\n",
       "    <tr>\n",
       "      <th>3</th>\n",
       "      <td>1</td>\n",
       "      <td>2014-02-01</td>\n",
       "      <td>18:43:12</td>\n",
       "      <td>1</td>\n",
       "      <td>Rodolfo</td>\n",
       "      <td>Bebida</td>\n",
       "      <td>Te helado</td>\n",
       "      <td>Bebida no Alcohol</td>\n",
       "      <td>25</td>\n",
       "      <td>18.50</td>\n",
       "      <td>0.07</td>\n",
       "      <td>Cliente Nuevo</td>\n",
       "      <td>2014-02</td>\n",
       "    </tr>\n",
       "    <tr>\n",
       "      <th>4</th>\n",
       "      <td>1</td>\n",
       "      <td>2014-02-01</td>\n",
       "      <td>18:43:12</td>\n",
       "      <td>1</td>\n",
       "      <td>Rodolfo</td>\n",
       "      <td>Comida</td>\n",
       "      <td>Pera Rostizada</td>\n",
       "      <td>Ensaladas</td>\n",
       "      <td>89</td>\n",
       "      <td>75.65</td>\n",
       "      <td>0.07</td>\n",
       "      <td>Cliente Nuevo</td>\n",
       "      <td>2014-02</td>\n",
       "    </tr>\n",
       "    <tr>\n",
       "      <th>...</th>\n",
       "      <td>...</td>\n",
       "      <td>...</td>\n",
       "      <td>...</td>\n",
       "      <td>...</td>\n",
       "      <td>...</td>\n",
       "      <td>...</td>\n",
       "      <td>...</td>\n",
       "      <td>...</td>\n",
       "      <td>...</td>\n",
       "      <td>...</td>\n",
       "      <td>...</td>\n",
       "      <td>...</td>\n",
       "      <td>...</td>\n",
       "    </tr>\n",
       "    <tr>\n",
       "      <th>30127</th>\n",
       "      <td>2500</td>\n",
       "      <td>2014-07-17</td>\n",
       "      <td>16:33:36</td>\n",
       "      <td>6</td>\n",
       "      <td>Joel</td>\n",
       "      <td>Comida</td>\n",
       "      <td>Mejillones Horneados</td>\n",
       "      <td>Entradas</td>\n",
       "      <td>75</td>\n",
       "      <td>56.25</td>\n",
       "      <td>0.10</td>\n",
       "      <td>Cliente Nuevo</td>\n",
       "      <td>2014-07</td>\n",
       "    </tr>\n",
       "    <tr>\n",
       "      <th>30128</th>\n",
       "      <td>2500</td>\n",
       "      <td>2014-07-17</td>\n",
       "      <td>16:33:36</td>\n",
       "      <td>6</td>\n",
       "      <td>Joel</td>\n",
       "      <td>Comida</td>\n",
       "      <td>Brochetas Hawaiianas</td>\n",
       "      <td>Entradas</td>\n",
       "      <td>74</td>\n",
       "      <td>56.98</td>\n",
       "      <td>0.10</td>\n",
       "      <td>Cliente Nuevo</td>\n",
       "      <td>2014-07</td>\n",
       "    </tr>\n",
       "    <tr>\n",
       "      <th>30129</th>\n",
       "      <td>2500</td>\n",
       "      <td>2014-07-17</td>\n",
       "      <td>16:33:36</td>\n",
       "      <td>6</td>\n",
       "      <td>Joel</td>\n",
       "      <td>Comida</td>\n",
       "      <td>Panela a la Leña</td>\n",
       "      <td>Entradas</td>\n",
       "      <td>53</td>\n",
       "      <td>42.40</td>\n",
       "      <td>0.10</td>\n",
       "      <td>Cliente Nuevo</td>\n",
       "      <td>2014-07</td>\n",
       "    </tr>\n",
       "    <tr>\n",
       "      <th>30130</th>\n",
       "      <td>2500</td>\n",
       "      <td>2014-07-17</td>\n",
       "      <td>16:33:36</td>\n",
       "      <td>6</td>\n",
       "      <td>Joel</td>\n",
       "      <td>Comida</td>\n",
       "      <td>Vacío</td>\n",
       "      <td>Platos Fuertes</td>\n",
       "      <td>164</td>\n",
       "      <td>132.84</td>\n",
       "      <td>0.10</td>\n",
       "      <td>Cliente Nuevo</td>\n",
       "      <td>2014-07</td>\n",
       "    </tr>\n",
       "    <tr>\n",
       "      <th>30131</th>\n",
       "      <td>2500</td>\n",
       "      <td>2014-07-17</td>\n",
       "      <td>16:33:36</td>\n",
       "      <td>6</td>\n",
       "      <td>Joel</td>\n",
       "      <td>Comida</td>\n",
       "      <td>Tacos Capeados</td>\n",
       "      <td>Tacos</td>\n",
       "      <td>75</td>\n",
       "      <td>60.75</td>\n",
       "      <td>0.10</td>\n",
       "      <td>Cliente Nuevo</td>\n",
       "      <td>2014-07</td>\n",
       "    </tr>\n",
       "  </tbody>\n",
       "</table>\n",
       "<p>30132 rows × 13 columns</p>\n",
       "</div>"
      ],
      "text/plain": [
       "       Orden      Fecha Hora de Cobro  Mesa  Atendió    Tipo  \\\n",
       "0          1 2014-02-01      18:43:12     1  Rodolfo  Bebida   \n",
       "1          1 2014-02-01      18:43:12     1  Rodolfo  Bebida   \n",
       "2          1 2014-02-01      18:43:12     1  Rodolfo  Bebida   \n",
       "3          1 2014-02-01      18:43:12     1  Rodolfo  Bebida   \n",
       "4          1 2014-02-01      18:43:12     1  Rodolfo  Comida   \n",
       "...      ...        ...           ...   ...      ...     ...   \n",
       "30127   2500 2014-07-17      16:33:36     6     Joel  Comida   \n",
       "30128   2500 2014-07-17      16:33:36     6     Joel  Comida   \n",
       "30129   2500 2014-07-17      16:33:36     6     Joel  Comida   \n",
       "30130   2500 2014-07-17      16:33:36     6     Joel  Comida   \n",
       "30131   2500 2014-07-17      16:33:36     6     Joel  Comida   \n",
       "\n",
       "                   Producto          Categoria  Precio   Costo  Propina  \\\n",
       "0                    Tecate           Cervezas      25   18.00     0.07   \n",
       "1                    Tisana  Bebida no Alcohol      25   18.00     0.07   \n",
       "2            Café americano  Bebida no Alcohol      18   12.60     0.07   \n",
       "3                 Te helado  Bebida no Alcohol      25   18.50     0.07   \n",
       "4            Pera Rostizada          Ensaladas      89   75.65     0.07   \n",
       "...                     ...                ...     ...     ...      ...   \n",
       "30127  Mejillones Horneados           Entradas      75   56.25     0.10   \n",
       "30128  Brochetas Hawaiianas           Entradas      74   56.98     0.10   \n",
       "30129      Panela a la Leña           Entradas      53   42.40     0.10   \n",
       "30130                 Vacío     Platos Fuertes     164  132.84     0.10   \n",
       "30131        Tacos Capeados              Tacos      75   60.75     0.10   \n",
       "\n",
       "      Tipo de Cliente FechaMes  \n",
       "0       Cliente Nuevo  2014-02  \n",
       "1       Cliente Nuevo  2014-02  \n",
       "2       Cliente Nuevo  2014-02  \n",
       "3       Cliente Nuevo  2014-02  \n",
       "4       Cliente Nuevo  2014-02  \n",
       "...               ...      ...  \n",
       "30127   Cliente Nuevo  2014-07  \n",
       "30128   Cliente Nuevo  2014-07  \n",
       "30129   Cliente Nuevo  2014-07  \n",
       "30130   Cliente Nuevo  2014-07  \n",
       "30131   Cliente Nuevo  2014-07  \n",
       "\n",
       "[30132 rows x 13 columns]"
      ]
     },
     "execution_count": 15,
     "metadata": {},
     "output_type": "execute_result"
    }
   ],
   "source": [
    "restaurante"
   ]
  },
  {
   "cell_type": "markdown",
   "id": "01036982-5b3e-4dcf-a423-248c30a7c261",
   "metadata": {},
   "source": [
    "__Conclusión:__ todos los meseros tienen propinas similares, a excepción de Mauricio, por lo que debemos analizar la cantidad de clientes que vuelven a comprar con nosotros, en especial después de septiembre."
   ]
  },
  {
   "cell_type": "markdown",
   "id": "be94a172-aa9b-4513-b2d2-da1e81b1921c",
   "metadata": {
    "tags": []
   },
   "source": [
    "### Ejercicio 8:"
   ]
  },
  {
   "cell_type": "markdown",
   "id": "90c02b9a-136d-4a3f-bec8-74eb3c767d22",
   "metadata": {},
   "source": [
    "Analizaremos la cantidad de clientes nuevos contra los que regresan:"
   ]
  },
  {
   "cell_type": "code",
   "execution_count": 16,
   "id": "6a18c4e0-38ac-41c9-900d-bfb9d39fce69",
   "metadata": {},
   "outputs": [
    {
     "data": {
      "text/html": [
       "<div>\n",
       "<style scoped>\n",
       "    .dataframe tbody tr th:only-of-type {\n",
       "        vertical-align: middle;\n",
       "    }\n",
       "\n",
       "    .dataframe tbody tr th {\n",
       "        vertical-align: top;\n",
       "    }\n",
       "\n",
       "    .dataframe thead th {\n",
       "        text-align: right;\n",
       "    }\n",
       "</style>\n",
       "<table border=\"1\" class=\"dataframe\">\n",
       "  <thead>\n",
       "    <tr style=\"text-align: right;\">\n",
       "      <th>Tipo de Cliente</th>\n",
       "      <th>Cliente Nuevo</th>\n",
       "      <th>Cliente Repetido</th>\n",
       "    </tr>\n",
       "    <tr>\n",
       "      <th>FechaMes</th>\n",
       "      <th></th>\n",
       "      <th></th>\n",
       "    </tr>\n",
       "  </thead>\n",
       "  <tbody>\n",
       "    <tr>\n",
       "      <th>2014-02</th>\n",
       "      <td>108372</td>\n",
       "      <td>50499</td>\n",
       "    </tr>\n",
       "    <tr>\n",
       "      <th>2014-03</th>\n",
       "      <td>134946</td>\n",
       "      <td>64804</td>\n",
       "    </tr>\n",
       "    <tr>\n",
       "      <th>2014-04</th>\n",
       "      <td>133901</td>\n",
       "      <td>71571</td>\n",
       "    </tr>\n",
       "    <tr>\n",
       "      <th>2014-05</th>\n",
       "      <td>102307</td>\n",
       "      <td>58209</td>\n",
       "    </tr>\n",
       "    <tr>\n",
       "      <th>2014-06</th>\n",
       "      <td>129283</td>\n",
       "      <td>60970</td>\n",
       "    </tr>\n",
       "    <tr>\n",
       "      <th>2014-07</th>\n",
       "      <td>126675</td>\n",
       "      <td>56144</td>\n",
       "    </tr>\n",
       "    <tr>\n",
       "      <th>2014-08</th>\n",
       "      <td>120012</td>\n",
       "      <td>56172</td>\n",
       "    </tr>\n",
       "    <tr>\n",
       "      <th>2014-09</th>\n",
       "      <td>123245</td>\n",
       "      <td>32032</td>\n",
       "    </tr>\n",
       "    <tr>\n",
       "      <th>2014-10</th>\n",
       "      <td>122539</td>\n",
       "      <td>43683</td>\n",
       "    </tr>\n",
       "    <tr>\n",
       "      <th>2014-11</th>\n",
       "      <td>116545</td>\n",
       "      <td>35336</td>\n",
       "    </tr>\n",
       "    <tr>\n",
       "      <th>2014-12</th>\n",
       "      <td>125679</td>\n",
       "      <td>35327</td>\n",
       "    </tr>\n",
       "    <tr>\n",
       "      <th>2015-01</th>\n",
       "      <td>113467</td>\n",
       "      <td>29911</td>\n",
       "    </tr>\n",
       "  </tbody>\n",
       "</table>\n",
       "</div>"
      ],
      "text/plain": [
       "Tipo de Cliente  Cliente Nuevo  Cliente Repetido\n",
       "FechaMes                                        \n",
       "2014-02                 108372             50499\n",
       "2014-03                 134946             64804\n",
       "2014-04                 133901             71571\n",
       "2014-05                 102307             58209\n",
       "2014-06                 129283             60970\n",
       "2014-07                 126675             56144\n",
       "2014-08                 120012             56172\n",
       "2014-09                 123245             32032\n",
       "2014-10                 122539             43683\n",
       "2014-11                 116545             35336\n",
       "2014-12                 125679             35327\n",
       "2015-01                 113467             29911"
      ]
     },
     "execution_count": 16,
     "metadata": {},
     "output_type": "execute_result"
    }
   ],
   "source": [
    "restaurante.pivot_table(index=\"FechaMes\", values=\"Precio\", columns=\"Tipo de Cliente\", aggfunc=\"sum\")"
   ]
  },
  {
   "cell_type": "markdown",
   "id": "e5f844c6-90c4-405f-aec3-9737d805e411",
   "metadata": {},
   "source": [
    "Haremos una gráfica de calor sobre las ventas al mes por tipo de cliente:"
   ]
  },
  {
   "cell_type": "markdown",
   "id": "10829193-15c1-4b51-a46f-fd9958a7e639",
   "metadata": {},
   "source": [
    "![Resuelto](../Img_Proyecto_Final/Act8Img1.png)"
   ]
  },
  {
   "cell_type": "markdown",
   "id": "df4c8d25-15e5-4775-b4ab-d5ef3db347c8",
   "metadata": {},
   "source": [
    "Graficaremos las ventas al mes por tipo de cliente:"
   ]
  },
  {
   "cell_type": "markdown",
   "id": "0fd3e2a0-7b83-4638-b821-2b3fdbf40e22",
   "metadata": {},
   "source": [
    "![Resuelto](../Img_Proyecto_Final/Act8Img2.png)"
   ]
  },
  {
   "cell_type": "markdown",
   "id": "d8535b03-83ab-4b6e-bb5b-cfa0718d133a",
   "metadata": {},
   "source": [
    "__Conclusión:__ los clientes deciden no volver a comer con nosotros, analizaremos el impacto de este hecho en la venta de vino."
   ]
  },
  {
   "cell_type": "markdown",
   "id": "022a5bb3-6a57-4d68-86fc-24a14aaf44be",
   "metadata": {
    "tags": []
   },
   "source": [
    "### Ejercicio 9:"
   ]
  },
  {
   "cell_type": "markdown",
   "id": "f8534161-f340-4c41-9a54-398dcad5aabb",
   "metadata": {},
   "source": [
    "Analizaremos la venta de vinos según el tipo de cliente:"
   ]
  },
  {
   "cell_type": "code",
   "execution_count": 17,
   "id": "d0f6ab42-3896-4236-9850-e8bd3ddb6cdd",
   "metadata": {},
   "outputs": [
    {
     "data": {
      "text/html": [
       "<div>\n",
       "<style scoped>\n",
       "    .dataframe tbody tr th:only-of-type {\n",
       "        vertical-align: middle;\n",
       "    }\n",
       "\n",
       "    .dataframe tbody tr th {\n",
       "        vertical-align: top;\n",
       "    }\n",
       "\n",
       "    .dataframe thead th {\n",
       "        text-align: right;\n",
       "    }\n",
       "</style>\n",
       "<table border=\"1\" class=\"dataframe\">\n",
       "  <thead>\n",
       "    <tr style=\"text-align: right;\">\n",
       "      <th>Tipo de Cliente</th>\n",
       "      <th>Cliente Nuevo</th>\n",
       "      <th>Cliente Repetido</th>\n",
       "    </tr>\n",
       "    <tr>\n",
       "      <th>FechaMes</th>\n",
       "      <th></th>\n",
       "      <th></th>\n",
       "    </tr>\n",
       "  </thead>\n",
       "  <tbody>\n",
       "    <tr>\n",
       "      <th>2014-02</th>\n",
       "      <td>3168</td>\n",
       "      <td>13643</td>\n",
       "    </tr>\n",
       "    <tr>\n",
       "      <th>2014-03</th>\n",
       "      <td>9389</td>\n",
       "      <td>21339</td>\n",
       "    </tr>\n",
       "    <tr>\n",
       "      <th>2014-04</th>\n",
       "      <td>25433</td>\n",
       "      <td>17656</td>\n",
       "    </tr>\n",
       "    <tr>\n",
       "      <th>2014-05</th>\n",
       "      <td>9095</td>\n",
       "      <td>19380</td>\n",
       "    </tr>\n",
       "    <tr>\n",
       "      <th>2014-06</th>\n",
       "      <td>17222</td>\n",
       "      <td>19462</td>\n",
       "    </tr>\n",
       "    <tr>\n",
       "      <th>2014-07</th>\n",
       "      <td>18964</td>\n",
       "      <td>16761</td>\n",
       "    </tr>\n",
       "    <tr>\n",
       "      <th>2014-08</th>\n",
       "      <td>16574</td>\n",
       "      <td>18166</td>\n",
       "    </tr>\n",
       "    <tr>\n",
       "      <th>2014-09</th>\n",
       "      <td>9552</td>\n",
       "      <td>715</td>\n",
       "    </tr>\n",
       "    <tr>\n",
       "      <th>2014-10</th>\n",
       "      <td>8372</td>\n",
       "      <td>10984</td>\n",
       "    </tr>\n",
       "    <tr>\n",
       "      <th>2014-11</th>\n",
       "      <td>4077</td>\n",
       "      <td>1118</td>\n",
       "    </tr>\n",
       "    <tr>\n",
       "      <th>2014-12</th>\n",
       "      <td>6155</td>\n",
       "      <td>997</td>\n",
       "    </tr>\n",
       "    <tr>\n",
       "      <th>2015-01</th>\n",
       "      <td>3159</td>\n",
       "      <td>1418</td>\n",
       "    </tr>\n",
       "  </tbody>\n",
       "</table>\n",
       "</div>"
      ],
      "text/plain": [
       "Tipo de Cliente  Cliente Nuevo  Cliente Repetido\n",
       "FechaMes                                        \n",
       "2014-02                   3168             13643\n",
       "2014-03                   9389             21339\n",
       "2014-04                  25433             17656\n",
       "2014-05                   9095             19380\n",
       "2014-06                  17222             19462\n",
       "2014-07                  18964             16761\n",
       "2014-08                  16574             18166\n",
       "2014-09                   9552               715\n",
       "2014-10                   8372             10984\n",
       "2014-11                   4077              1118\n",
       "2014-12                   6155               997\n",
       "2015-01                   3159              1418"
      ]
     },
     "execution_count": 17,
     "metadata": {},
     "output_type": "execute_result"
    }
   ],
   "source": [
    "ventas_vinos.pivot_table(index=\"FechaMes\", values=\"Precio\", columns=\"Tipo de Cliente\", aggfunc=\"sum\")"
   ]
  },
  {
   "cell_type": "markdown",
   "id": "7aef08da-1c70-44e6-8360-cc823eae37f1",
   "metadata": {},
   "source": [
    "Haremos una gráfica de calor las ventas de vino al mes por tipo de cliente:"
   ]
  },
  {
   "cell_type": "markdown",
   "id": "f7adf0fe-844a-426e-980e-1fe866968072",
   "metadata": {},
   "source": [
    "![Resuelto](../Img_Proyecto_Final/Act9Img1.png)"
   ]
  },
  {
   "cell_type": "markdown",
   "id": "7c1ec436-2efb-491a-bb96-f3189106540b",
   "metadata": {},
   "source": [
    "Graficaremos las ventas de vino al mes por tipo de cliente:"
   ]
  },
  {
   "cell_type": "markdown",
   "id": "19e465b6-63fc-4fd1-85fe-fe586ae668b4",
   "metadata": {},
   "source": [
    "![Resuelto](../Img_Proyecto_Final/Act9Img2.png)"
   ]
  },
  {
   "cell_type": "markdown",
   "id": "7666ebb1-10f1-4a9c-9ae9-c5499ab3913e",
   "metadata": {},
   "source": [
    "__Conclusión:__ la venta de vino en los clientes nuevos se mantuvo, pero en los repetidos ha descendido, en especial desde septiembre, debemos investigar la venta de cada mesero separado por tipo de cliente."
   ]
  },
  {
   "cell_type": "markdown",
   "id": "0e1f8834-4158-451f-9d2e-a5d498ec7d0b",
   "metadata": {
    "tags": []
   },
   "source": [
    "### Ejercicio 10:"
   ]
  },
  {
   "cell_type": "markdown",
   "id": "3da43e08-50a0-4555-a90f-1aa610e15736",
   "metadata": {},
   "source": [
    "Analizar la venta de cada mesero en base al tipo de cliente:"
   ]
  },
  {
   "cell_type": "code",
   "execution_count": 18,
   "id": "129ee10c-d2f3-4e95-9ab1-034fa1bed6e0",
   "metadata": {},
   "outputs": [
    {
     "data": {
      "text/html": [
       "<div>\n",
       "<style scoped>\n",
       "    .dataframe tbody tr th:only-of-type {\n",
       "        vertical-align: middle;\n",
       "    }\n",
       "\n",
       "    .dataframe tbody tr th {\n",
       "        vertical-align: top;\n",
       "    }\n",
       "\n",
       "    .dataframe thead th {\n",
       "        text-align: right;\n",
       "    }\n",
       "</style>\n",
       "<table border=\"1\" class=\"dataframe\">\n",
       "  <thead>\n",
       "    <tr style=\"text-align: right;\">\n",
       "      <th>Tipo de Cliente</th>\n",
       "      <th>Cliente Nuevo</th>\n",
       "      <th>Cliente Repetido</th>\n",
       "    </tr>\n",
       "    <tr>\n",
       "      <th>Atendió</th>\n",
       "      <th></th>\n",
       "      <th></th>\n",
       "    </tr>\n",
       "  </thead>\n",
       "  <tbody>\n",
       "    <tr>\n",
       "      <th>Alejandro</th>\n",
       "      <td>155952.0</td>\n",
       "      <td>88482.0</td>\n",
       "    </tr>\n",
       "    <tr>\n",
       "      <th>Ernesto</th>\n",
       "      <td>170101.0</td>\n",
       "      <td>82535.0</td>\n",
       "    </tr>\n",
       "    <tr>\n",
       "      <th>Joel</th>\n",
       "      <td>188364.0</td>\n",
       "      <td>65482.0</td>\n",
       "    </tr>\n",
       "    <tr>\n",
       "      <th>Mariana</th>\n",
       "      <td>152285.0</td>\n",
       "      <td>73817.0</td>\n",
       "    </tr>\n",
       "    <tr>\n",
       "      <th>Mauricio</th>\n",
       "      <td>162553.0</td>\n",
       "      <td>NaN</td>\n",
       "    </tr>\n",
       "    <tr>\n",
       "      <th>Omar</th>\n",
       "      <td>152538.0</td>\n",
       "      <td>89543.0</td>\n",
       "    </tr>\n",
       "    <tr>\n",
       "      <th>Rodolfo</th>\n",
       "      <td>163057.0</td>\n",
       "      <td>66487.0</td>\n",
       "    </tr>\n",
       "    <tr>\n",
       "      <th>Saul</th>\n",
       "      <td>165294.0</td>\n",
       "      <td>61727.0</td>\n",
       "    </tr>\n",
       "    <tr>\n",
       "      <th>Valentina</th>\n",
       "      <td>146827.0</td>\n",
       "      <td>66585.0</td>\n",
       "    </tr>\n",
       "  </tbody>\n",
       "</table>\n",
       "</div>"
      ],
      "text/plain": [
       "Tipo de Cliente  Cliente Nuevo  Cliente Repetido\n",
       "Atendió                                         \n",
       "Alejandro             155952.0           88482.0\n",
       "Ernesto               170101.0           82535.0\n",
       "Joel                  188364.0           65482.0\n",
       "Mariana               152285.0           73817.0\n",
       "Mauricio              162553.0               NaN\n",
       "Omar                  152538.0           89543.0\n",
       "Rodolfo               163057.0           66487.0\n",
       "Saul                  165294.0           61727.0\n",
       "Valentina             146827.0           66585.0"
      ]
     },
     "execution_count": 18,
     "metadata": {},
     "output_type": "execute_result"
    }
   ],
   "source": [
    "restaurante.pivot_table(index=\"Atendió\", values=\"Precio\", aggfunc=\"sum\", columns=\"Tipo de Cliente\")"
   ]
  },
  {
   "cell_type": "markdown",
   "id": "0f2f4e41-2360-473a-9f07-a392553912d7",
   "metadata": {},
   "source": [
    "Para analizar mejor el trato que le dan a los clientes por tipo, transformaremos sus ventas a porcentajes:"
   ]
  },
  {
   "cell_type": "code",
   "execution_count": 19,
   "id": "9c96655f-34cd-4839-b7df-805033bac3b8",
   "metadata": {},
   "outputs": [
    {
     "data": {
      "text/html": [
       "<div>\n",
       "<style scoped>\n",
       "    .dataframe tbody tr th:only-of-type {\n",
       "        vertical-align: middle;\n",
       "    }\n",
       "\n",
       "    .dataframe tbody tr th {\n",
       "        vertical-align: top;\n",
       "    }\n",
       "\n",
       "    .dataframe thead th {\n",
       "        text-align: right;\n",
       "    }\n",
       "</style>\n",
       "<table border=\"1\" class=\"dataframe\">\n",
       "  <thead>\n",
       "    <tr style=\"text-align: right;\">\n",
       "      <th>Tipo de Cliente</th>\n",
       "      <th>Cliente Nuevo</th>\n",
       "      <th>Cliente Repetido</th>\n",
       "    </tr>\n",
       "    <tr>\n",
       "      <th>Atendió</th>\n",
       "      <th></th>\n",
       "      <th></th>\n",
       "    </tr>\n",
       "  </thead>\n",
       "  <tbody>\n",
       "    <tr>\n",
       "      <th>Alejandro</th>\n",
       "      <td>155952.0</td>\n",
       "      <td>88482.0</td>\n",
       "    </tr>\n",
       "    <tr>\n",
       "      <th>Ernesto</th>\n",
       "      <td>170101.0</td>\n",
       "      <td>82535.0</td>\n",
       "    </tr>\n",
       "    <tr>\n",
       "      <th>Joel</th>\n",
       "      <td>188364.0</td>\n",
       "      <td>65482.0</td>\n",
       "    </tr>\n",
       "    <tr>\n",
       "      <th>Mariana</th>\n",
       "      <td>152285.0</td>\n",
       "      <td>73817.0</td>\n",
       "    </tr>\n",
       "    <tr>\n",
       "      <th>Mauricio</th>\n",
       "      <td>162553.0</td>\n",
       "      <td>NaN</td>\n",
       "    </tr>\n",
       "  </tbody>\n",
       "</table>\n",
       "</div>"
      ],
      "text/plain": [
       "Tipo de Cliente  Cliente Nuevo  Cliente Repetido\n",
       "Atendió                                         \n",
       "Alejandro             155952.0           88482.0\n",
       "Ernesto               170101.0           82535.0\n",
       "Joel                  188364.0           65482.0\n",
       "Mariana               152285.0           73817.0\n",
       "Mauricio              162553.0               NaN"
      ]
     },
     "execution_count": 19,
     "metadata": {},
     "output_type": "execute_result"
    }
   ],
   "source": [
    "porcentajes_meseros=restaurante.pivot_table(index=\"Atendió\", values=\"Precio\", aggfunc=\"sum\", columns=\"Tipo de Cliente\")\n",
    "porcentajes_meseros.head()"
   ]
  },
  {
   "cell_type": "code",
   "execution_count": 20,
   "id": "f1a7c990-d4a6-4e94-bb84-7602fa48b19d",
   "metadata": {},
   "outputs": [
    {
     "data": {
      "text/html": [
       "<div>\n",
       "<style scoped>\n",
       "    .dataframe tbody tr th:only-of-type {\n",
       "        vertical-align: middle;\n",
       "    }\n",
       "\n",
       "    .dataframe tbody tr th {\n",
       "        vertical-align: top;\n",
       "    }\n",
       "\n",
       "    .dataframe thead th {\n",
       "        text-align: right;\n",
       "    }\n",
       "</style>\n",
       "<table border=\"1\" class=\"dataframe\">\n",
       "  <thead>\n",
       "    <tr style=\"text-align: right;\">\n",
       "      <th>Tipo de Cliente</th>\n",
       "      <th>Cliente Nuevo</th>\n",
       "      <th>Cliente Repetido</th>\n",
       "      <th>Total</th>\n",
       "      <th>Pocentaje Nuevo</th>\n",
       "      <th>Pocentaje Repetido</th>\n",
       "    </tr>\n",
       "    <tr>\n",
       "      <th>Atendió</th>\n",
       "      <th></th>\n",
       "      <th></th>\n",
       "      <th></th>\n",
       "      <th></th>\n",
       "      <th></th>\n",
       "    </tr>\n",
       "  </thead>\n",
       "  <tbody>\n",
       "    <tr>\n",
       "      <th>Alejandro</th>\n",
       "      <td>155952.0</td>\n",
       "      <td>88482.0</td>\n",
       "      <td>244434.0</td>\n",
       "      <td>0.638013</td>\n",
       "      <td>0.361987</td>\n",
       "    </tr>\n",
       "    <tr>\n",
       "      <th>Ernesto</th>\n",
       "      <td>170101.0</td>\n",
       "      <td>82535.0</td>\n",
       "      <td>252636.0</td>\n",
       "      <td>0.673305</td>\n",
       "      <td>0.326695</td>\n",
       "    </tr>\n",
       "    <tr>\n",
       "      <th>Joel</th>\n",
       "      <td>188364.0</td>\n",
       "      <td>65482.0</td>\n",
       "      <td>253846.0</td>\n",
       "      <td>0.742040</td>\n",
       "      <td>0.257960</td>\n",
       "    </tr>\n",
       "    <tr>\n",
       "      <th>Mariana</th>\n",
       "      <td>152285.0</td>\n",
       "      <td>73817.0</td>\n",
       "      <td>226102.0</td>\n",
       "      <td>0.673523</td>\n",
       "      <td>0.326477</td>\n",
       "    </tr>\n",
       "    <tr>\n",
       "      <th>Mauricio</th>\n",
       "      <td>162553.0</td>\n",
       "      <td>NaN</td>\n",
       "      <td>NaN</td>\n",
       "      <td>NaN</td>\n",
       "      <td>NaN</td>\n",
       "    </tr>\n",
       "    <tr>\n",
       "      <th>Omar</th>\n",
       "      <td>152538.0</td>\n",
       "      <td>89543.0</td>\n",
       "      <td>242081.0</td>\n",
       "      <td>0.630111</td>\n",
       "      <td>0.369889</td>\n",
       "    </tr>\n",
       "    <tr>\n",
       "      <th>Rodolfo</th>\n",
       "      <td>163057.0</td>\n",
       "      <td>66487.0</td>\n",
       "      <td>229544.0</td>\n",
       "      <td>0.710352</td>\n",
       "      <td>0.289648</td>\n",
       "    </tr>\n",
       "    <tr>\n",
       "      <th>Saul</th>\n",
       "      <td>165294.0</td>\n",
       "      <td>61727.0</td>\n",
       "      <td>227021.0</td>\n",
       "      <td>0.728100</td>\n",
       "      <td>0.271900</td>\n",
       "    </tr>\n",
       "    <tr>\n",
       "      <th>Valentina</th>\n",
       "      <td>146827.0</td>\n",
       "      <td>66585.0</td>\n",
       "      <td>213412.0</td>\n",
       "      <td>0.687998</td>\n",
       "      <td>0.312002</td>\n",
       "    </tr>\n",
       "  </tbody>\n",
       "</table>\n",
       "</div>"
      ],
      "text/plain": [
       "Tipo de Cliente  Cliente Nuevo  Cliente Repetido     Total  Pocentaje Nuevo  \\\n",
       "Atendió                                                                       \n",
       "Alejandro             155952.0           88482.0  244434.0         0.638013   \n",
       "Ernesto               170101.0           82535.0  252636.0         0.673305   \n",
       "Joel                  188364.0           65482.0  253846.0         0.742040   \n",
       "Mariana               152285.0           73817.0  226102.0         0.673523   \n",
       "Mauricio              162553.0               NaN       NaN              NaN   \n",
       "Omar                  152538.0           89543.0  242081.0         0.630111   \n",
       "Rodolfo               163057.0           66487.0  229544.0         0.710352   \n",
       "Saul                  165294.0           61727.0  227021.0         0.728100   \n",
       "Valentina             146827.0           66585.0  213412.0         0.687998   \n",
       "\n",
       "Tipo de Cliente  Pocentaje Repetido  \n",
       "Atendió                              \n",
       "Alejandro                  0.361987  \n",
       "Ernesto                    0.326695  \n",
       "Joel                       0.257960  \n",
       "Mariana                    0.326477  \n",
       "Mauricio                        NaN  \n",
       "Omar                       0.369889  \n",
       "Rodolfo                    0.289648  \n",
       "Saul                       0.271900  \n",
       "Valentina                  0.312002  "
      ]
     },
     "execution_count": 20,
     "metadata": {},
     "output_type": "execute_result"
    }
   ],
   "source": [
    "porcentajes_meseros[\"Total\"]=porcentajes_meseros[\"Cliente Nuevo\"]+porcentajes_meseros[\"Cliente Repetido\"]\n",
    "porcentajes_meseros[\"Pocentaje Nuevo\"]=porcentajes_meseros[\"Cliente Nuevo\"]/porcentajes_meseros[\"Total\"]\n",
    "porcentajes_meseros[\"Pocentaje Repetido\"]=porcentajes_meseros[\"Cliente Repetido\"]/porcentajes_meseros[\"Total\"]\n",
    "porcentajes_meseros"
   ]
  },
  {
   "cell_type": "markdown",
   "id": "16984130-81ff-4946-89cf-5079a44c3b43",
   "metadata": {},
   "source": [
    "Haremos un análisis exploratorio de los datos con un mapa de calor:"
   ]
  },
  {
   "cell_type": "markdown",
   "id": "b06e0aa8-d47e-42d1-b4b0-11c9f578b764",
   "metadata": {},
   "source": [
    "![Resuelto](../Img_Proyecto_Final/Act10Img1.png)"
   ]
  },
  {
   "cell_type": "markdown",
   "id": "eb5583f0-0f29-49c4-9187-5110330644a0",
   "metadata": {},
   "source": [
    "Y finalmente graficaremos las ventas al mes de cada mesero por tipo de cliente:"
   ]
  },
  {
   "cell_type": "markdown",
   "id": "4f1526ef-d899-491c-8d2b-db5c7d7c1f98",
   "metadata": {},
   "source": [
    "![Resuelto](../Img_Proyecto_Final/Act10Img2.png)"
   ]
  },
  {
   "cell_type": "markdown",
   "id": "a5606b92-d559-4991-b692-bc93f20a692c",
   "metadata": {},
   "source": [
    "__Conclusión:__ Mauricio no atiende clientes repetidos."
   ]
  },
  {
   "cell_type": "markdown",
   "id": "83823738-eaf5-46a0-8fde-eacbd01ef848",
   "metadata": {},
   "source": [
    "__Conlusión General:__ Los clientes repetidos son los que más vino consumían, al dejar de regresar nuestros ingresos disminuyeron, nuestro principal sospechoso es Mauricio por tener unas propinas anormalmente altas, pero pese a ello los clientes no quieren volver a ser atendidos por el.\n",
    "\n",
    "Tras hacer una investigación presencial encontramos que la manera en la que Mauricio atendía era grosera y exigia a los comensales consumir más y cargaba propina sin avisar, por eso sus ventas eran altas, pero ahuyentaba a los clientes."
   ]
  },
  {
   "cell_type": "code",
   "execution_count": null,
   "id": "f2c2075f-7536-495b-9b92-c6ebf3244c8a",
   "metadata": {},
   "outputs": [],
   "source": []
  }
 ],
 "metadata": {
  "kernelspec": {
   "display_name": "Python 3 (ipykernel)",
   "language": "python",
   "name": "python3"
  },
  "language_info": {
   "codemirror_mode": {
    "name": "ipython",
    "version": 3
   },
   "file_extension": ".py",
   "mimetype": "text/x-python",
   "name": "python",
   "nbconvert_exporter": "python",
   "pygments_lexer": "ipython3",
   "version": "3.9.13"
  }
 },
 "nbformat": 4,
 "nbformat_minor": 5
}
