{
 "cells": [
  {
   "cell_type": "markdown",
   "id": "2c812296-bd08-44a5-a25e-cb8a1f79269f",
   "metadata": {},
   "source": [
    "## Ejercicios"
   ]
  },
  {
   "cell_type": "markdown",
   "id": "1e45a0b2-3ded-438f-896e-fa6cb3c53ed4",
   "metadata": {},
   "source": [
    "Importar matplotlib y pandas:"
   ]
  },
  {
   "cell_type": "code",
   "execution_count": 1,
   "id": "68eb4cf3-a15c-4ab2-a978-d1c1a1e080d5",
   "metadata": {},
   "outputs": [],
   "source": [
    "import pandas as pd"
   ]
  },
  {
   "cell_type": "markdown",
   "id": "858a24b8-a9ac-4980-b3ad-2c35bf911cd3",
   "metadata": {},
   "source": [
    "## Ejercicio 1:"
   ]
  },
  {
   "cell_type": "markdown",
   "id": "c6f7e26b-7580-442e-bee8-7a74e5a9d57c",
   "metadata": {},
   "source": [
    "Utilizar pandas para importar los datos del archivo \"certificado.csv\" en la variable \"certificados\""
   ]
  },
  {
   "cell_type": "code",
   "execution_count": 2,
   "id": "aa6f33bc-551e-403f-82cc-6cae6e6711ed",
   "metadata": {},
   "outputs": [
    {
     "data": {
      "text/html": [
       "<div>\n",
       "<style scoped>\n",
       "    .dataframe tbody tr th:only-of-type {\n",
       "        vertical-align: middle;\n",
       "    }\n",
       "\n",
       "    .dataframe tbody tr th {\n",
       "        vertical-align: top;\n",
       "    }\n",
       "\n",
       "    .dataframe thead th {\n",
       "        text-align: right;\n",
       "    }\n",
       "</style>\n",
       "<table border=\"1\" class=\"dataframe\">\n",
       "  <thead>\n",
       "    <tr style=\"text-align: right;\">\n",
       "      <th></th>\n",
       "      <th>nombre</th>\n",
       "      <th>examen_diagnostico</th>\n",
       "      <th>examen_final</th>\n",
       "      <th>grupo</th>\n",
       "      <th>maestro</th>\n",
       "    </tr>\n",
       "  </thead>\n",
       "  <tbody>\n",
       "    <tr>\n",
       "      <th>0</th>\n",
       "      <td>Alejandra</td>\n",
       "      <td>7.7</td>\n",
       "      <td>9.0</td>\n",
       "      <td>A</td>\n",
       "      <td>Maria</td>\n",
       "    </tr>\n",
       "    <tr>\n",
       "      <th>1</th>\n",
       "      <td>Alberto</td>\n",
       "      <td>7.3</td>\n",
       "      <td>8.8</td>\n",
       "      <td>B</td>\n",
       "      <td>Pedro</td>\n",
       "    </tr>\n",
       "    <tr>\n",
       "      <th>2</th>\n",
       "      <td>César</td>\n",
       "      <td>7.5</td>\n",
       "      <td>9.1</td>\n",
       "      <td>B</td>\n",
       "      <td>Pedro</td>\n",
       "    </tr>\n",
       "    <tr>\n",
       "      <th>3</th>\n",
       "      <td>Gustavo</td>\n",
       "      <td>7.1</td>\n",
       "      <td>8.6</td>\n",
       "      <td>B</td>\n",
       "      <td>Pedro</td>\n",
       "    </tr>\n",
       "    <tr>\n",
       "      <th>4</th>\n",
       "      <td>Ernesto</td>\n",
       "      <td>7.8</td>\n",
       "      <td>9.2</td>\n",
       "      <td>A</td>\n",
       "      <td>Maria</td>\n",
       "    </tr>\n",
       "  </tbody>\n",
       "</table>\n",
       "</div>"
      ],
      "text/plain": [
       "     nombre   examen_diagnostico  examen_final grupo maestro\n",
       "0  Alejandra                 7.7           9.0     A   Maria\n",
       "1    Alberto                 7.3           8.8     B   Pedro\n",
       "2      César                 7.5           9.1     B   Pedro\n",
       "3    Gustavo                 7.1           8.6     B   Pedro\n",
       "4    Ernesto                 7.8           9.2     A   Maria"
      ]
     },
     "execution_count": 2,
     "metadata": {},
     "output_type": "execute_result"
    }
   ],
   "source": [
    "certificados=pd.read_csv(\"../certificado.csv\")\n",
    "certificados.head()"
   ]
  },
  {
   "cell_type": "markdown",
   "id": "669ed4cf-1f85-464a-8956-2b8eb932121f",
   "metadata": {},
   "source": [
    "Usar groupby para crear un DataFrame donde se tenga el promedio del examen diagnostico y examen final por cada grupo, el resultado debe ser el siguiente:"
   ]
  },
  {
   "cell_type": "markdown",
   "id": "0ac9cdbf-8b65-436a-8c34-d74472d910c1",
   "metadata": {},
   "source": [
    "![Resuelto](../Img_24_Ejercicios/Act1Img1.png)"
   ]
  },
  {
   "cell_type": "code",
   "execution_count": 3,
   "id": "94ed79db-d2ab-4f7e-ae74-28d83c648c2c",
   "metadata": {},
   "outputs": [
    {
     "data": {
      "text/html": [
       "<div>\n",
       "<style scoped>\n",
       "    .dataframe tbody tr th:only-of-type {\n",
       "        vertical-align: middle;\n",
       "    }\n",
       "\n",
       "    .dataframe tbody tr th {\n",
       "        vertical-align: top;\n",
       "    }\n",
       "\n",
       "    .dataframe thead th {\n",
       "        text-align: right;\n",
       "    }\n",
       "</style>\n",
       "<table border=\"1\" class=\"dataframe\">\n",
       "  <thead>\n",
       "    <tr style=\"text-align: right;\">\n",
       "      <th></th>\n",
       "      <th>examen_diagnostico</th>\n",
       "      <th>examen_final</th>\n",
       "    </tr>\n",
       "    <tr>\n",
       "      <th>grupo</th>\n",
       "      <th></th>\n",
       "      <th></th>\n",
       "    </tr>\n",
       "  </thead>\n",
       "  <tbody>\n",
       "    <tr>\n",
       "      <th>A</th>\n",
       "      <td>7.420000</td>\n",
       "      <td>8.800000</td>\n",
       "    </tr>\n",
       "    <tr>\n",
       "      <th>B</th>\n",
       "      <td>7.123077</td>\n",
       "      <td>8.592308</td>\n",
       "    </tr>\n",
       "    <tr>\n",
       "      <th>C</th>\n",
       "      <td>7.558824</td>\n",
       "      <td>9.023529</td>\n",
       "    </tr>\n",
       "  </tbody>\n",
       "</table>\n",
       "</div>"
      ],
      "text/plain": [
       "       examen_diagnostico  examen_final\n",
       "grupo                                  \n",
       "A                7.420000      8.800000\n",
       "B                7.123077      8.592308\n",
       "C                7.558824      9.023529"
      ]
     },
     "execution_count": 3,
     "metadata": {},
     "output_type": "execute_result"
    }
   ],
   "source": [
    "certificados.groupby(\"grupo\").mean()"
   ]
  },
  {
   "cell_type": "markdown",
   "id": "a5d1e220-4d83-44e9-a54a-02955d873ec9",
   "metadata": {},
   "source": [
    "![Resuelto](../Img_24_Ejercicios/Act1Img2.png)"
   ]
  },
  {
   "cell_type": "markdown",
   "id": "f6b1950a-ec32-4e5b-b63a-532ae104014d",
   "metadata": {},
   "source": [
    "![Resuelto](../Img_24_Ejercicios/Act1Img3.png)"
   ]
  },
  {
   "cell_type": "markdown",
   "id": "96c23104-54e7-4d9d-98cc-81b660e3b85d",
   "metadata": {},
   "source": [
    "__Conclusión:__ todos los grupos presentan una mejora en la calificación al finalizar el curso"
   ]
  },
  {
   "cell_type": "markdown",
   "id": "3f823959-50b9-4350-833a-67f56f3fcede",
   "metadata": {},
   "source": [
    "## Ejercicio 2:\n",
    "Crear una columna llamada Progreso en el DataFrame certificados que contenga la diferencia entre el examen final y el examen diagnóstico, por ejemplo, si un alumno tuvo un 8 en el examen final y un 7 en el examen diagnóstico, la columna Progreso tendrá el valor de  1, el resultado debe ser el siguiente:"
   ]
  },
  {
   "cell_type": "markdown",
   "id": "b78515bb-99be-47a1-97e4-b9e5d8dcf965",
   "metadata": {},
   "source": [
    "![Resuelto](../Img_24_Ejercicios/Act2Img1.png)"
   ]
  },
  {
   "cell_type": "code",
   "execution_count": 4,
   "id": "4eefd7fe-7b19-441f-9fd1-82c667239789",
   "metadata": {},
   "outputs": [],
   "source": [
    "certificados[\"Progreso\"]=certificados[\"examen_final\"]-certificados[\"examen_diagnostico\"]"
   ]
  },
  {
   "cell_type": "code",
   "execution_count": 5,
   "id": "6e57c4c2-24f5-4eda-93a5-7e3f7e8bd112",
   "metadata": {},
   "outputs": [
    {
     "data": {
      "text/html": [
       "<div>\n",
       "<style scoped>\n",
       "    .dataframe tbody tr th:only-of-type {\n",
       "        vertical-align: middle;\n",
       "    }\n",
       "\n",
       "    .dataframe tbody tr th {\n",
       "        vertical-align: top;\n",
       "    }\n",
       "\n",
       "    .dataframe thead th {\n",
       "        text-align: right;\n",
       "    }\n",
       "</style>\n",
       "<table border=\"1\" class=\"dataframe\">\n",
       "  <thead>\n",
       "    <tr style=\"text-align: right;\">\n",
       "      <th></th>\n",
       "      <th>nombre</th>\n",
       "      <th>examen_diagnostico</th>\n",
       "      <th>examen_final</th>\n",
       "      <th>grupo</th>\n",
       "      <th>maestro</th>\n",
       "      <th>Progreso</th>\n",
       "    </tr>\n",
       "  </thead>\n",
       "  <tbody>\n",
       "    <tr>\n",
       "      <th>0</th>\n",
       "      <td>Alejandra</td>\n",
       "      <td>7.7</td>\n",
       "      <td>9.0</td>\n",
       "      <td>A</td>\n",
       "      <td>Maria</td>\n",
       "      <td>1.3</td>\n",
       "    </tr>\n",
       "    <tr>\n",
       "      <th>1</th>\n",
       "      <td>Alberto</td>\n",
       "      <td>7.3</td>\n",
       "      <td>8.8</td>\n",
       "      <td>B</td>\n",
       "      <td>Pedro</td>\n",
       "      <td>1.5</td>\n",
       "    </tr>\n",
       "    <tr>\n",
       "      <th>2</th>\n",
       "      <td>César</td>\n",
       "      <td>7.5</td>\n",
       "      <td>9.1</td>\n",
       "      <td>B</td>\n",
       "      <td>Pedro</td>\n",
       "      <td>1.6</td>\n",
       "    </tr>\n",
       "    <tr>\n",
       "      <th>3</th>\n",
       "      <td>Gustavo</td>\n",
       "      <td>7.1</td>\n",
       "      <td>8.6</td>\n",
       "      <td>B</td>\n",
       "      <td>Pedro</td>\n",
       "      <td>1.5</td>\n",
       "    </tr>\n",
       "    <tr>\n",
       "      <th>4</th>\n",
       "      <td>Ernesto</td>\n",
       "      <td>7.8</td>\n",
       "      <td>9.2</td>\n",
       "      <td>A</td>\n",
       "      <td>Maria</td>\n",
       "      <td>1.4</td>\n",
       "    </tr>\n",
       "  </tbody>\n",
       "</table>\n",
       "</div>"
      ],
      "text/plain": [
       "     nombre   examen_diagnostico  examen_final grupo maestro  Progreso\n",
       "0  Alejandra                 7.7           9.0     A   Maria       1.3\n",
       "1    Alberto                 7.3           8.8     B   Pedro       1.5\n",
       "2      César                 7.5           9.1     B   Pedro       1.6\n",
       "3    Gustavo                 7.1           8.6     B   Pedro       1.5\n",
       "4    Ernesto                 7.8           9.2     A   Maria       1.4"
      ]
     },
     "execution_count": 5,
     "metadata": {},
     "output_type": "execute_result"
    }
   ],
   "source": [
    "certificados.head()"
   ]
  },
  {
   "cell_type": "markdown",
   "id": "0bccf64b-f841-4d93-ba18-9822e99ca660",
   "metadata": {},
   "source": [
    "![Resuelto](../Img_24_Ejercicios/Act2Img2.png)"
   ]
  },
  {
   "cell_type": "markdown",
   "id": "ab3f3558-5222-4891-8c79-27f604a861ea",
   "metadata": {},
   "source": [
    "__Conclusión__: la mayoria de los estudiantes tienen una mejora entre 1 y 2.5 puntos"
   ]
  },
  {
   "cell_type": "markdown",
   "id": "e0c73831-17a1-4b38-8961-87e8e4a7ac46",
   "metadata": {},
   "source": [
    "## Ejercicio 3: \n",
    "Utilizar gruopby para obtener el progreso promedio en las calificaciones de los alumnos por cada profesor, por ejemplo, los alumnos del profesor Pedro al inicio tienen un promedio de 7, al terminar el curso aumenta a 9 y su progreso es de 2 puntos, el resultado debe ser el siguiente:"
   ]
  },
  {
   "cell_type": "markdown",
   "id": "8e873f4f-7c55-4973-b67f-ce5bd6c1cf69",
   "metadata": {},
   "source": [
    "![Resuelto](../Img_24_Ejercicios/Act3Img1.png)"
   ]
  },
  {
   "cell_type": "code",
   "execution_count": 6,
   "id": "3cf20ac8-107c-49f6-9ab1-362d43f7b0fa",
   "metadata": {},
   "outputs": [
    {
     "data": {
      "text/html": [
       "<div>\n",
       "<style scoped>\n",
       "    .dataframe tbody tr th:only-of-type {\n",
       "        vertical-align: middle;\n",
       "    }\n",
       "\n",
       "    .dataframe tbody tr th {\n",
       "        vertical-align: top;\n",
       "    }\n",
       "\n",
       "    .dataframe thead th {\n",
       "        text-align: right;\n",
       "    }\n",
       "</style>\n",
       "<table border=\"1\" class=\"dataframe\">\n",
       "  <thead>\n",
       "    <tr style=\"text-align: right;\">\n",
       "      <th></th>\n",
       "      <th>examen_diagnostico</th>\n",
       "      <th>examen_final</th>\n",
       "      <th>Progreso</th>\n",
       "    </tr>\n",
       "    <tr>\n",
       "      <th>maestro</th>\n",
       "      <th></th>\n",
       "      <th></th>\n",
       "      <th></th>\n",
       "    </tr>\n",
       "  </thead>\n",
       "  <tbody>\n",
       "    <tr>\n",
       "      <th>Gabriela</th>\n",
       "      <td>7.558824</td>\n",
       "      <td>9.023529</td>\n",
       "      <td>1.464706</td>\n",
       "    </tr>\n",
       "    <tr>\n",
       "      <th>Maria</th>\n",
       "      <td>7.420000</td>\n",
       "      <td>8.800000</td>\n",
       "      <td>1.380000</td>\n",
       "    </tr>\n",
       "    <tr>\n",
       "      <th>Pedro</th>\n",
       "      <td>7.123077</td>\n",
       "      <td>8.592308</td>\n",
       "      <td>1.469231</td>\n",
       "    </tr>\n",
       "  </tbody>\n",
       "</table>\n",
       "</div>"
      ],
      "text/plain": [
       "          examen_diagnostico  examen_final  Progreso\n",
       "maestro                                             \n",
       "Gabriela            7.558824      9.023529  1.464706\n",
       "Maria               7.420000      8.800000  1.380000\n",
       "Pedro               7.123077      8.592308  1.469231"
      ]
     },
     "execution_count": 6,
     "metadata": {},
     "output_type": "execute_result"
    }
   ],
   "source": [
    "certificados.groupby(\"maestro\").mean()"
   ]
  },
  {
   "cell_type": "markdown",
   "id": "4788284c-a861-4b4e-b630-1ab057b976bd",
   "metadata": {},
   "source": [
    "![Resuelto](../Img_24_Ejercicios/Act3Img2.png)"
   ]
  },
  {
   "cell_type": "markdown",
   "id": "490b6e83-83c4-44d6-a98d-11eb4f393b14",
   "metadata": {},
   "source": [
    "__Conclusión:__ Los 3 maestros tienen un desempeño similar."
   ]
  },
  {
   "cell_type": "markdown",
   "id": "e742ec93-9fac-4112-8024-ea69dd9eb269",
   "metadata": {},
   "source": [
    "## Ejercicio 4:\n",
    "Utilizar pandas para importar los datos del archivo \"certificado_historico.csv\" en la variable \"historico\""
   ]
  },
  {
   "cell_type": "code",
   "execution_count": 7,
   "id": "537ae6a7-3204-4310-abe6-4efcb4b57f04",
   "metadata": {},
   "outputs": [
    {
     "data": {
      "text/html": [
       "<div>\n",
       "<style scoped>\n",
       "    .dataframe tbody tr th:only-of-type {\n",
       "        vertical-align: middle;\n",
       "    }\n",
       "\n",
       "    .dataframe tbody tr th {\n",
       "        vertical-align: top;\n",
       "    }\n",
       "\n",
       "    .dataframe thead th {\n",
       "        text-align: right;\n",
       "    }\n",
       "</style>\n",
       "<table border=\"1\" class=\"dataframe\">\n",
       "  <thead>\n",
       "    <tr style=\"text-align: right;\">\n",
       "      <th></th>\n",
       "      <th>nombre</th>\n",
       "      <th>edad</th>\n",
       "      <th>calificacion</th>\n",
       "      <th>grupo</th>\n",
       "      <th>anio</th>\n",
       "      <th>semestre</th>\n",
       "      <th>certificacion</th>\n",
       "      <th>maestro</th>\n",
       "    </tr>\n",
       "    <tr>\n",
       "      <th>num_control</th>\n",
       "      <th></th>\n",
       "      <th></th>\n",
       "      <th></th>\n",
       "      <th></th>\n",
       "      <th></th>\n",
       "      <th></th>\n",
       "      <th></th>\n",
       "      <th></th>\n",
       "    </tr>\n",
       "  </thead>\n",
       "  <tbody>\n",
       "    <tr>\n",
       "      <th>A001</th>\n",
       "      <td>Aarón</td>\n",
       "      <td>14</td>\n",
       "      <td>8.9</td>\n",
       "      <td>A</td>\n",
       "      <td>2017</td>\n",
       "      <td>1</td>\n",
       "      <td>NO</td>\n",
       "      <td>Tatiana</td>\n",
       "    </tr>\n",
       "    <tr>\n",
       "      <th>A002</th>\n",
       "      <td>Lucía</td>\n",
       "      <td>42</td>\n",
       "      <td>9.3</td>\n",
       "      <td>A</td>\n",
       "      <td>2017</td>\n",
       "      <td>1</td>\n",
       "      <td>NO</td>\n",
       "      <td>Tatiana</td>\n",
       "    </tr>\n",
       "    <tr>\n",
       "      <th>A003</th>\n",
       "      <td>Hugo</td>\n",
       "      <td>29</td>\n",
       "      <td>8.7</td>\n",
       "      <td>A</td>\n",
       "      <td>2017</td>\n",
       "      <td>1</td>\n",
       "      <td>NO</td>\n",
       "      <td>Tatiana</td>\n",
       "    </tr>\n",
       "    <tr>\n",
       "      <th>A004</th>\n",
       "      <td>Julieta</td>\n",
       "      <td>34</td>\n",
       "      <td>7.9</td>\n",
       "      <td>A</td>\n",
       "      <td>2017</td>\n",
       "      <td>1</td>\n",
       "      <td>NO</td>\n",
       "      <td>Tatiana</td>\n",
       "    </tr>\n",
       "    <tr>\n",
       "      <th>A005</th>\n",
       "      <td>Adrían</td>\n",
       "      <td>14</td>\n",
       "      <td>9.1</td>\n",
       "      <td>A</td>\n",
       "      <td>2017</td>\n",
       "      <td>1</td>\n",
       "      <td>NO</td>\n",
       "      <td>Tatiana</td>\n",
       "    </tr>\n",
       "  </tbody>\n",
       "</table>\n",
       "</div>"
      ],
      "text/plain": [
       "              nombre  edad  calificacion grupo  anio  semestre certificacion  \\\n",
       "num_control                                                                    \n",
       "A001           Aarón    14           8.9     A  2017         1            NO   \n",
       "A002           Lucía    42           9.3     A  2017         1            NO   \n",
       "A003            Hugo    29           8.7     A  2017         1            NO   \n",
       "A004         Julieta    34           7.9     A  2017         1            NO   \n",
       "A005          Adrían    14           9.1     A  2017         1            NO   \n",
       "\n",
       "             maestro  \n",
       "num_control           \n",
       "A001         Tatiana  \n",
       "A002         Tatiana  \n",
       "A003         Tatiana  \n",
       "A004         Tatiana  \n",
       "A005         Tatiana  "
      ]
     },
     "execution_count": 7,
     "metadata": {},
     "output_type": "execute_result"
    }
   ],
   "source": [
    "historico=pd.read_csv(\"../certificado_historico.csv\",index_col=\"num_control\")\n",
    "historico.head()"
   ]
  },
  {
   "cell_type": "markdown",
   "id": "f6fd3c6b-85ec-4ac7-85c0-2f04946c0e3c",
   "metadata": {},
   "source": [
    "Utlizar groupby para crear un DataFrame con la calificación más baja en cada grupo de cada año, el resultado debe ser el siguiente: "
   ]
  },
  {
   "cell_type": "markdown",
   "id": "455af193-4ffe-4704-8413-a762a9d36a05",
   "metadata": {},
   "source": [
    "![Resuelto](../Img_24_Ejercicios/Act4Img1.png)"
   ]
  },
  {
   "cell_type": "code",
   "execution_count": 8,
   "id": "676adae1-e0f2-41f2-a286-e9b7b17744ec",
   "metadata": {},
   "outputs": [
    {
     "data": {
      "text/html": [
       "<div>\n",
       "<style scoped>\n",
       "    .dataframe tbody tr th:only-of-type {\n",
       "        vertical-align: middle;\n",
       "    }\n",
       "\n",
       "    .dataframe tbody tr th {\n",
       "        vertical-align: top;\n",
       "    }\n",
       "\n",
       "    .dataframe thead th {\n",
       "        text-align: right;\n",
       "    }\n",
       "</style>\n",
       "<table border=\"1\" class=\"dataframe\">\n",
       "  <thead>\n",
       "    <tr style=\"text-align: right;\">\n",
       "      <th></th>\n",
       "      <th></th>\n",
       "      <th>calificacion</th>\n",
       "    </tr>\n",
       "    <tr>\n",
       "      <th>anio</th>\n",
       "      <th>grupo</th>\n",
       "      <th></th>\n",
       "    </tr>\n",
       "  </thead>\n",
       "  <tbody>\n",
       "    <tr>\n",
       "      <th rowspan=\"3\" valign=\"top\">2017</th>\n",
       "      <th>A</th>\n",
       "      <td>7.0</td>\n",
       "    </tr>\n",
       "    <tr>\n",
       "      <th>B</th>\n",
       "      <td>7.1</td>\n",
       "    </tr>\n",
       "    <tr>\n",
       "      <th>C</th>\n",
       "      <td>7.1</td>\n",
       "    </tr>\n",
       "    <tr>\n",
       "      <th rowspan=\"3\" valign=\"top\">2018</th>\n",
       "      <th>A</th>\n",
       "      <td>7.4</td>\n",
       "    </tr>\n",
       "    <tr>\n",
       "      <th>B</th>\n",
       "      <td>7.2</td>\n",
       "    </tr>\n",
       "    <tr>\n",
       "      <th>C</th>\n",
       "      <td>7.0</td>\n",
       "    </tr>\n",
       "    <tr>\n",
       "      <th rowspan=\"3\" valign=\"top\">2019</th>\n",
       "      <th>A</th>\n",
       "      <td>6.6</td>\n",
       "    </tr>\n",
       "    <tr>\n",
       "      <th>B</th>\n",
       "      <td>7.1</td>\n",
       "    </tr>\n",
       "    <tr>\n",
       "      <th>C</th>\n",
       "      <td>7.0</td>\n",
       "    </tr>\n",
       "    <tr>\n",
       "      <th rowspan=\"3\" valign=\"top\">2020</th>\n",
       "      <th>A</th>\n",
       "      <td>7.1</td>\n",
       "    </tr>\n",
       "    <tr>\n",
       "      <th>B</th>\n",
       "      <td>7.0</td>\n",
       "    </tr>\n",
       "    <tr>\n",
       "      <th>C</th>\n",
       "      <td>7.2</td>\n",
       "    </tr>\n",
       "  </tbody>\n",
       "</table>\n",
       "</div>"
      ],
      "text/plain": [
       "            calificacion\n",
       "anio grupo              \n",
       "2017 A               7.0\n",
       "     B               7.1\n",
       "     C               7.1\n",
       "2018 A               7.4\n",
       "     B               7.2\n",
       "     C               7.0\n",
       "2019 A               6.6\n",
       "     B               7.1\n",
       "     C               7.0\n",
       "2020 A               7.1\n",
       "     B               7.0\n",
       "     C               7.2"
      ]
     },
     "execution_count": 8,
     "metadata": {},
     "output_type": "execute_result"
    }
   ],
   "source": [
    "historico.groupby([\"anio\", \"grupo\"]).agg({\"calificacion\":\"min\"})"
   ]
  },
  {
   "cell_type": "markdown",
   "id": "71eb8ae2-db19-4337-8df5-0a78a1e28dd5",
   "metadata": {},
   "source": [
    "![Resuelto](../Img_24_Ejercicios/Act4Img2.png)"
   ]
  },
  {
   "cell_type": "markdown",
   "id": "637af441-f62d-42db-930e-76830de1dd60",
   "metadata": {},
   "source": [
    "__Conclusión:__ la calificación más baja normalmente se mantiene por encima de 7"
   ]
  },
  {
   "cell_type": "markdown",
   "id": "c28833fb-54e2-4d58-bdaf-d0f91c8a2e76",
   "metadata": {},
   "source": [
    "## Ejercicio 5:\n",
    "Utilizar groupby para crear un DataFrame con la cantidad de alumnos a la que ha impartido clases cada maestro, por ejemplo, la profesora Jessica ha dado clases a 80 alumnos, el resultado debe ser el siguiente:"
   ]
  },
  {
   "cell_type": "markdown",
   "id": "fb1a927d-9e67-422c-9162-14284cb31e99",
   "metadata": {},
   "source": [
    "![Resuelto](../Img_24_Ejercicios/Act5Img1.png)"
   ]
  },
  {
   "cell_type": "code",
   "execution_count": 9,
   "id": "898b34c5-239d-40e9-90ca-95a43924edf0",
   "metadata": {},
   "outputs": [
    {
     "data": {
      "text/html": [
       "<div>\n",
       "<style scoped>\n",
       "    .dataframe tbody tr th:only-of-type {\n",
       "        vertical-align: middle;\n",
       "    }\n",
       "\n",
       "    .dataframe tbody tr th {\n",
       "        vertical-align: top;\n",
       "    }\n",
       "\n",
       "    .dataframe thead th {\n",
       "        text-align: right;\n",
       "    }\n",
       "</style>\n",
       "<table border=\"1\" class=\"dataframe\">\n",
       "  <thead>\n",
       "    <tr style=\"text-align: right;\">\n",
       "      <th></th>\n",
       "      <th>nombre</th>\n",
       "    </tr>\n",
       "    <tr>\n",
       "      <th>maestro</th>\n",
       "      <th></th>\n",
       "    </tr>\n",
       "  </thead>\n",
       "  <tbody>\n",
       "    <tr>\n",
       "      <th>Armando</th>\n",
       "      <td>100</td>\n",
       "    </tr>\n",
       "    <tr>\n",
       "      <th>Emily</th>\n",
       "      <td>74</td>\n",
       "    </tr>\n",
       "    <tr>\n",
       "      <th>Gaspar</th>\n",
       "      <td>26</td>\n",
       "    </tr>\n",
       "    <tr>\n",
       "      <th>Tatiana</th>\n",
       "      <td>100</td>\n",
       "    </tr>\n",
       "  </tbody>\n",
       "</table>\n",
       "</div>"
      ],
      "text/plain": [
       "         nombre\n",
       "maestro        \n",
       "Armando     100\n",
       "Emily        74\n",
       "Gaspar       26\n",
       "Tatiana     100"
      ]
     },
     "execution_count": 9,
     "metadata": {},
     "output_type": "execute_result"
    }
   ],
   "source": [
    "historico.groupby(\"maestro\").agg({\"nombre\":\"count\"})"
   ]
  },
  {
   "cell_type": "code",
   "execution_count": 10,
   "id": "34e6768e-eaec-4745-92fa-23870040a351",
   "metadata": {},
   "outputs": [
    {
     "data": {
      "text/html": [
       "<div>\n",
       "<style scoped>\n",
       "    .dataframe tbody tr th:only-of-type {\n",
       "        vertical-align: middle;\n",
       "    }\n",
       "\n",
       "    .dataframe tbody tr th {\n",
       "        vertical-align: top;\n",
       "    }\n",
       "\n",
       "    .dataframe thead th {\n",
       "        text-align: right;\n",
       "    }\n",
       "</style>\n",
       "<table border=\"1\" class=\"dataframe\">\n",
       "  <thead>\n",
       "    <tr style=\"text-align: right;\">\n",
       "      <th></th>\n",
       "      <th>nombre</th>\n",
       "      <th>edad</th>\n",
       "      <th>calificacion</th>\n",
       "      <th>grupo</th>\n",
       "      <th>anio</th>\n",
       "      <th>semestre</th>\n",
       "      <th>certificacion</th>\n",
       "      <th>maestro</th>\n",
       "    </tr>\n",
       "    <tr>\n",
       "      <th>num_control</th>\n",
       "      <th></th>\n",
       "      <th></th>\n",
       "      <th></th>\n",
       "      <th></th>\n",
       "      <th></th>\n",
       "      <th></th>\n",
       "      <th></th>\n",
       "      <th></th>\n",
       "    </tr>\n",
       "  </thead>\n",
       "  <tbody>\n",
       "    <tr>\n",
       "      <th>A001</th>\n",
       "      <td>Aarón</td>\n",
       "      <td>14</td>\n",
       "      <td>8.9</td>\n",
       "      <td>A</td>\n",
       "      <td>2017</td>\n",
       "      <td>1</td>\n",
       "      <td>NO</td>\n",
       "      <td>Tatiana</td>\n",
       "    </tr>\n",
       "    <tr>\n",
       "      <th>A002</th>\n",
       "      <td>Lucía</td>\n",
       "      <td>42</td>\n",
       "      <td>9.3</td>\n",
       "      <td>A</td>\n",
       "      <td>2017</td>\n",
       "      <td>1</td>\n",
       "      <td>NO</td>\n",
       "      <td>Tatiana</td>\n",
       "    </tr>\n",
       "    <tr>\n",
       "      <th>A003</th>\n",
       "      <td>Hugo</td>\n",
       "      <td>29</td>\n",
       "      <td>8.7</td>\n",
       "      <td>A</td>\n",
       "      <td>2017</td>\n",
       "      <td>1</td>\n",
       "      <td>NO</td>\n",
       "      <td>Tatiana</td>\n",
       "    </tr>\n",
       "    <tr>\n",
       "      <th>A004</th>\n",
       "      <td>Julieta</td>\n",
       "      <td>34</td>\n",
       "      <td>7.9</td>\n",
       "      <td>A</td>\n",
       "      <td>2017</td>\n",
       "      <td>1</td>\n",
       "      <td>NO</td>\n",
       "      <td>Tatiana</td>\n",
       "    </tr>\n",
       "    <tr>\n",
       "      <th>A005</th>\n",
       "      <td>Adrían</td>\n",
       "      <td>14</td>\n",
       "      <td>9.1</td>\n",
       "      <td>A</td>\n",
       "      <td>2017</td>\n",
       "      <td>1</td>\n",
       "      <td>NO</td>\n",
       "      <td>Tatiana</td>\n",
       "    </tr>\n",
       "    <tr>\n",
       "      <th>...</th>\n",
       "      <td>...</td>\n",
       "      <td>...</td>\n",
       "      <td>...</td>\n",
       "      <td>...</td>\n",
       "      <td>...</td>\n",
       "      <td>...</td>\n",
       "      <td>...</td>\n",
       "      <td>...</td>\n",
       "    </tr>\n",
       "    <tr>\n",
       "      <th>A296</th>\n",
       "      <td>Brayan</td>\n",
       "      <td>25</td>\n",
       "      <td>9.1</td>\n",
       "      <td>C</td>\n",
       "      <td>2020</td>\n",
       "      <td>2</td>\n",
       "      <td>SI</td>\n",
       "      <td>Gaspar</td>\n",
       "    </tr>\n",
       "    <tr>\n",
       "      <th>A297</th>\n",
       "      <td>Deymar</td>\n",
       "      <td>30</td>\n",
       "      <td>9.1</td>\n",
       "      <td>C</td>\n",
       "      <td>2020</td>\n",
       "      <td>2</td>\n",
       "      <td>SI</td>\n",
       "      <td>Gaspar</td>\n",
       "    </tr>\n",
       "    <tr>\n",
       "      <th>A298</th>\n",
       "      <td>Rogelio</td>\n",
       "      <td>15</td>\n",
       "      <td>7.9</td>\n",
       "      <td>C</td>\n",
       "      <td>2020</td>\n",
       "      <td>2</td>\n",
       "      <td>NO</td>\n",
       "      <td>Gaspar</td>\n",
       "    </tr>\n",
       "    <tr>\n",
       "      <th>A299</th>\n",
       "      <td>Percy</td>\n",
       "      <td>32</td>\n",
       "      <td>7.4</td>\n",
       "      <td>C</td>\n",
       "      <td>2020</td>\n",
       "      <td>2</td>\n",
       "      <td>NO</td>\n",
       "      <td>Gaspar</td>\n",
       "    </tr>\n",
       "    <tr>\n",
       "      <th>A300</th>\n",
       "      <td>Claridad</td>\n",
       "      <td>25</td>\n",
       "      <td>7.2</td>\n",
       "      <td>C</td>\n",
       "      <td>2020</td>\n",
       "      <td>2</td>\n",
       "      <td>SI</td>\n",
       "      <td>Gaspar</td>\n",
       "    </tr>\n",
       "  </tbody>\n",
       "</table>\n",
       "<p>300 rows × 8 columns</p>\n",
       "</div>"
      ],
      "text/plain": [
       "               nombre  edad  calificacion grupo  anio  semestre certificacion  \\\n",
       "num_control                                                                     \n",
       "A001            Aarón    14           8.9     A  2017         1            NO   \n",
       "A002            Lucía    42           9.3     A  2017         1            NO   \n",
       "A003             Hugo    29           8.7     A  2017         1            NO   \n",
       "A004          Julieta    34           7.9     A  2017         1            NO   \n",
       "A005           Adrían    14           9.1     A  2017         1            NO   \n",
       "...               ...   ...           ...   ...   ...       ...           ...   \n",
       "A296           Brayan    25           9.1     C  2020         2            SI   \n",
       "A297           Deymar    30           9.1     C  2020         2            SI   \n",
       "A298          Rogelio    15           7.9     C  2020         2            NO   \n",
       "A299            Percy    32           7.4     C  2020         2            NO   \n",
       "A300         Claridad    25           7.2     C  2020         2            SI   \n",
       "\n",
       "             maestro  \n",
       "num_control           \n",
       "A001         Tatiana  \n",
       "A002         Tatiana  \n",
       "A003         Tatiana  \n",
       "A004         Tatiana  \n",
       "A005         Tatiana  \n",
       "...              ...  \n",
       "A296          Gaspar  \n",
       "A297          Gaspar  \n",
       "A298          Gaspar  \n",
       "A299          Gaspar  \n",
       "A300          Gaspar  \n",
       "\n",
       "[300 rows x 8 columns]"
      ]
     },
     "execution_count": 10,
     "metadata": {},
     "output_type": "execute_result"
    }
   ],
   "source": [
    "historico"
   ]
  },
  {
   "cell_type": "raw",
   "id": "56f1491c-4629-4c3b-a2c6-059f196f97c1",
   "metadata": {},
   "source": [
    "historico"
   ]
  },
  {
   "cell_type": "markdown",
   "id": "7a7e9f06-b6a4-48aa-b690-1cfafa98278b",
   "metadata": {},
   "source": [
    "![Resuelto](../Img_24_Ejercicios/Act5Img2.png)"
   ]
  },
  {
   "cell_type": "code",
   "execution_count": null,
   "id": "5f1dc907-a832-462a-b2e6-95230760b23b",
   "metadata": {},
   "outputs": [],
   "source": []
  },
  {
   "cell_type": "markdown",
   "id": "67f2a1d0-8430-4360-b0ff-ad9e98505d3a",
   "metadata": {},
   "source": [
    "__Conclusión:__ Tatiana y Armando son los profesores que más alumnos han tenido"
   ]
  },
  {
   "cell_type": "markdown",
   "id": "6a058691-7976-4ab1-aff5-5a36f5f67ada",
   "metadata": {},
   "source": [
    "## Ejercicio 6:\n",
    "Utilizar pivot table para crear un DataFrame con la calificación promedio de los estudiantes de cada profesor en cada año, el resultado debe ser el siguiente:"
   ]
  },
  {
   "cell_type": "markdown",
   "id": "7cf7f751-64f3-4429-b09d-0bb949324c32",
   "metadata": {},
   "source": [
    "![Resuelto](../Img_24_Ejercicios/Act6Img1.png)"
   ]
  },
  {
   "cell_type": "code",
   "execution_count": 11,
   "id": "2af79a87-ddb6-4916-9952-b29f4d3a5433",
   "metadata": {},
   "outputs": [
    {
     "data": {
      "text/html": [
       "<div>\n",
       "<style scoped>\n",
       "    .dataframe tbody tr th:only-of-type {\n",
       "        vertical-align: middle;\n",
       "    }\n",
       "\n",
       "    .dataframe tbody tr th {\n",
       "        vertical-align: top;\n",
       "    }\n",
       "\n",
       "    .dataframe thead th {\n",
       "        text-align: right;\n",
       "    }\n",
       "</style>\n",
       "<table border=\"1\" class=\"dataframe\">\n",
       "  <thead>\n",
       "    <tr style=\"text-align: right;\">\n",
       "      <th>maestro</th>\n",
       "      <th>Armando</th>\n",
       "      <th>Emily</th>\n",
       "      <th>Gaspar</th>\n",
       "      <th>Tatiana</th>\n",
       "    </tr>\n",
       "    <tr>\n",
       "      <th>anio</th>\n",
       "      <th></th>\n",
       "      <th></th>\n",
       "      <th></th>\n",
       "      <th></th>\n",
       "    </tr>\n",
       "  </thead>\n",
       "  <tbody>\n",
       "    <tr>\n",
       "      <th>2017</th>\n",
       "      <td>8.552</td>\n",
       "      <td>8.368000</td>\n",
       "      <td>NaN</td>\n",
       "      <td>8.416</td>\n",
       "    </tr>\n",
       "    <tr>\n",
       "      <th>2018</th>\n",
       "      <td>8.380</td>\n",
       "      <td>8.604000</td>\n",
       "      <td>NaN</td>\n",
       "      <td>8.780</td>\n",
       "    </tr>\n",
       "    <tr>\n",
       "      <th>2019</th>\n",
       "      <td>8.728</td>\n",
       "      <td>8.608333</td>\n",
       "      <td>8.369231</td>\n",
       "      <td>8.296</td>\n",
       "    </tr>\n",
       "    <tr>\n",
       "      <th>2020</th>\n",
       "      <td>8.496</td>\n",
       "      <td>9.025000</td>\n",
       "      <td>8.184615</td>\n",
       "      <td>8.476</td>\n",
       "    </tr>\n",
       "  </tbody>\n",
       "</table>\n",
       "</div>"
      ],
      "text/plain": [
       "maestro  Armando     Emily    Gaspar  Tatiana\n",
       "anio                                         \n",
       "2017       8.552  8.368000       NaN    8.416\n",
       "2018       8.380  8.604000       NaN    8.780\n",
       "2019       8.728  8.608333  8.369231    8.296\n",
       "2020       8.496  9.025000  8.184615    8.476"
      ]
     },
     "execution_count": 11,
     "metadata": {},
     "output_type": "execute_result"
    }
   ],
   "source": [
    "historico.pivot_table(index=\"anio\", values=\"calificacion\", columns=\"maestro\")"
   ]
  },
  {
   "cell_type": "markdown",
   "id": "5a480b81-ca0a-4802-aa77-c525018c2a02",
   "metadata": {},
   "source": [
    "![Resuelto](../Img_24_Ejercicios/Act6Img2.png)"
   ]
  },
  {
   "cell_type": "markdown",
   "id": "c30a3d1d-7e32-4b92-a006-e88ea6efa5f3",
   "metadata": {},
   "source": [
    "__Conclusión:__ Emily es la maestra que mayor progreso ha tenido"
   ]
  },
  {
   "cell_type": "markdown",
   "id": "498ff38d-4b41-4332-9584-4a821da8ecaa",
   "metadata": {},
   "source": [
    "## Ejercicio 7:\n",
    "Utilizar groupby para crear un DataFrame con la mediana en la calificación de cada grupo en cada año, el resultado debe ser el siguiente:"
   ]
  },
  {
   "cell_type": "markdown",
   "id": "fa408b6b-58f9-490a-b131-79f45a99420d",
   "metadata": {},
   "source": [
    "![Resuelto](../Img_24_Ejercicios/Act7Img1.png)"
   ]
  },
  {
   "cell_type": "code",
   "execution_count": 12,
   "id": "10c8eef9-8b5b-475f-a877-66497b085fed",
   "metadata": {},
   "outputs": [
    {
     "data": {
      "text/html": [
       "<div>\n",
       "<style scoped>\n",
       "    .dataframe tbody tr th:only-of-type {\n",
       "        vertical-align: middle;\n",
       "    }\n",
       "\n",
       "    .dataframe tbody tr th {\n",
       "        vertical-align: top;\n",
       "    }\n",
       "\n",
       "    .dataframe thead th {\n",
       "        text-align: right;\n",
       "    }\n",
       "</style>\n",
       "<table border=\"1\" class=\"dataframe\">\n",
       "  <thead>\n",
       "    <tr style=\"text-align: right;\">\n",
       "      <th></th>\n",
       "      <th></th>\n",
       "      <th>calificacion</th>\n",
       "    </tr>\n",
       "    <tr>\n",
       "      <th>grupo</th>\n",
       "      <th>anio</th>\n",
       "      <th></th>\n",
       "    </tr>\n",
       "  </thead>\n",
       "  <tbody>\n",
       "    <tr>\n",
       "      <th rowspan=\"4\" valign=\"top\">A</th>\n",
       "      <th>2017</th>\n",
       "      <td>8.1</td>\n",
       "    </tr>\n",
       "    <tr>\n",
       "      <th>2018</th>\n",
       "      <td>8.7</td>\n",
       "    </tr>\n",
       "    <tr>\n",
       "      <th>2019</th>\n",
       "      <td>8.2</td>\n",
       "    </tr>\n",
       "    <tr>\n",
       "      <th>2020</th>\n",
       "      <td>8.3</td>\n",
       "    </tr>\n",
       "    <tr>\n",
       "      <th rowspan=\"4\" valign=\"top\">B</th>\n",
       "      <th>2017</th>\n",
       "      <td>8.8</td>\n",
       "    </tr>\n",
       "    <tr>\n",
       "      <th>2018</th>\n",
       "      <td>8.2</td>\n",
       "    </tr>\n",
       "    <tr>\n",
       "      <th>2019</th>\n",
       "      <td>8.7</td>\n",
       "    </tr>\n",
       "    <tr>\n",
       "      <th>2020</th>\n",
       "      <td>8.7</td>\n",
       "    </tr>\n",
       "    <tr>\n",
       "      <th rowspan=\"4\" valign=\"top\">C</th>\n",
       "      <th>2017</th>\n",
       "      <td>8.3</td>\n",
       "    </tr>\n",
       "    <tr>\n",
       "      <th>2018</th>\n",
       "      <td>8.6</td>\n",
       "    </tr>\n",
       "    <tr>\n",
       "      <th>2019</th>\n",
       "      <td>8.8</td>\n",
       "    </tr>\n",
       "    <tr>\n",
       "      <th>2020</th>\n",
       "      <td>8.7</td>\n",
       "    </tr>\n",
       "  </tbody>\n",
       "</table>\n",
       "</div>"
      ],
      "text/plain": [
       "            calificacion\n",
       "grupo anio              \n",
       "A     2017           8.1\n",
       "      2018           8.7\n",
       "      2019           8.2\n",
       "      2020           8.3\n",
       "B     2017           8.8\n",
       "      2018           8.2\n",
       "      2019           8.7\n",
       "      2020           8.7\n",
       "C     2017           8.3\n",
       "      2018           8.6\n",
       "      2019           8.8\n",
       "      2020           8.7"
      ]
     },
     "execution_count": 12,
     "metadata": {},
     "output_type": "execute_result"
    }
   ],
   "source": [
    "historico.groupby([\"grupo\",\"anio\"]).agg({\"calificacion\":\"median\"})"
   ]
  },
  {
   "cell_type": "markdown",
   "id": "bcef14e4-cae0-49aa-9b7f-8f289a9a35b4",
   "metadata": {},
   "source": [
    "__Conclusión:__ la mediana en las calificaciones normalmente es alrededor de 8.5"
   ]
  },
  {
   "cell_type": "markdown",
   "id": "a213cef8-8eb5-4fa2-8cab-192ac1244cac",
   "metadata": {
    "tags": []
   },
   "source": [
    "## Ejercicio 8\n",
    "Armar un código que devuelva un Dataframe con los datos de los estudiantes que si quieren obtener un certificado, el resultado debe ser el siguiente: "
   ]
  },
  {
   "cell_type": "markdown",
   "id": "b8ab20a7-acce-4886-b3a9-9613f405ef9d",
   "metadata": {},
   "source": [
    "![Resuelto](../Img_24_Ejercicios/Act8Img1.png)"
   ]
  },
  {
   "cell_type": "code",
   "execution_count": 13,
   "id": "605b1026-8570-4f23-87d1-5c01efdc22b3",
   "metadata": {},
   "outputs": [],
   "source": [
    "si=historico.loc[historico.certificacion==\"SI\"]"
   ]
  },
  {
   "cell_type": "markdown",
   "id": "ca9245fe-813c-4d8b-b724-7e4297987e29",
   "metadata": {},
   "source": [
    "Armar un código que devuelva un Dataframe con los datos de los estudiantes que no quieren obtener un certificado,el resultado debe ser el siguiente:"
   ]
  },
  {
   "cell_type": "markdown",
   "id": "6e050452-3283-4446-8f3b-8492387fce45",
   "metadata": {},
   "source": [
    "![Resuelto](../Img_24_Ejercicios/Act8Img2.png)"
   ]
  },
  {
   "cell_type": "code",
   "execution_count": 14,
   "id": "3ca12fa7-0064-4213-9c92-e61594d68232",
   "metadata": {},
   "outputs": [
    {
     "data": {
      "text/html": [
       "<div>\n",
       "<style scoped>\n",
       "    .dataframe tbody tr th:only-of-type {\n",
       "        vertical-align: middle;\n",
       "    }\n",
       "\n",
       "    .dataframe tbody tr th {\n",
       "        vertical-align: top;\n",
       "    }\n",
       "\n",
       "    .dataframe thead th {\n",
       "        text-align: right;\n",
       "    }\n",
       "</style>\n",
       "<table border=\"1\" class=\"dataframe\">\n",
       "  <thead>\n",
       "    <tr style=\"text-align: right;\">\n",
       "      <th></th>\n",
       "      <th>nombre</th>\n",
       "      <th>edad</th>\n",
       "      <th>calificacion</th>\n",
       "      <th>grupo</th>\n",
       "      <th>anio</th>\n",
       "      <th>semestre</th>\n",
       "      <th>certificacion</th>\n",
       "      <th>maestro</th>\n",
       "    </tr>\n",
       "    <tr>\n",
       "      <th>num_control</th>\n",
       "      <th></th>\n",
       "      <th></th>\n",
       "      <th></th>\n",
       "      <th></th>\n",
       "      <th></th>\n",
       "      <th></th>\n",
       "      <th></th>\n",
       "      <th></th>\n",
       "    </tr>\n",
       "  </thead>\n",
       "  <tbody>\n",
       "    <tr>\n",
       "      <th>A001</th>\n",
       "      <td>Aarón</td>\n",
       "      <td>14</td>\n",
       "      <td>8.9</td>\n",
       "      <td>A</td>\n",
       "      <td>2017</td>\n",
       "      <td>1</td>\n",
       "      <td>NO</td>\n",
       "      <td>Tatiana</td>\n",
       "    </tr>\n",
       "    <tr>\n",
       "      <th>A002</th>\n",
       "      <td>Lucía</td>\n",
       "      <td>42</td>\n",
       "      <td>9.3</td>\n",
       "      <td>A</td>\n",
       "      <td>2017</td>\n",
       "      <td>1</td>\n",
       "      <td>NO</td>\n",
       "      <td>Tatiana</td>\n",
       "    </tr>\n",
       "    <tr>\n",
       "      <th>A003</th>\n",
       "      <td>Hugo</td>\n",
       "      <td>29</td>\n",
       "      <td>8.7</td>\n",
       "      <td>A</td>\n",
       "      <td>2017</td>\n",
       "      <td>1</td>\n",
       "      <td>NO</td>\n",
       "      <td>Tatiana</td>\n",
       "    </tr>\n",
       "    <tr>\n",
       "      <th>A004</th>\n",
       "      <td>Julieta</td>\n",
       "      <td>34</td>\n",
       "      <td>7.9</td>\n",
       "      <td>A</td>\n",
       "      <td>2017</td>\n",
       "      <td>1</td>\n",
       "      <td>NO</td>\n",
       "      <td>Tatiana</td>\n",
       "    </tr>\n",
       "    <tr>\n",
       "      <th>A005</th>\n",
       "      <td>Adrían</td>\n",
       "      <td>14</td>\n",
       "      <td>9.1</td>\n",
       "      <td>A</td>\n",
       "      <td>2017</td>\n",
       "      <td>1</td>\n",
       "      <td>NO</td>\n",
       "      <td>Tatiana</td>\n",
       "    </tr>\n",
       "  </tbody>\n",
       "</table>\n",
       "</div>"
      ],
      "text/plain": [
       "              nombre  edad  calificacion grupo  anio  semestre certificacion  \\\n",
       "num_control                                                                    \n",
       "A001           Aarón    14           8.9     A  2017         1            NO   \n",
       "A002           Lucía    42           9.3     A  2017         1            NO   \n",
       "A003            Hugo    29           8.7     A  2017         1            NO   \n",
       "A004         Julieta    34           7.9     A  2017         1            NO   \n",
       "A005          Adrían    14           9.1     A  2017         1            NO   \n",
       "\n",
       "             maestro  \n",
       "num_control           \n",
       "A001         Tatiana  \n",
       "A002         Tatiana  \n",
       "A003         Tatiana  \n",
       "A004         Tatiana  \n",
       "A005         Tatiana  "
      ]
     },
     "execution_count": 14,
     "metadata": {},
     "output_type": "execute_result"
    }
   ],
   "source": [
    "no=historico.loc[historico.certificacion==\"NO\"]\n",
    "no.head()"
   ]
  },
  {
   "cell_type": "markdown",
   "id": "ee68321d-805e-4557-87e4-9eb08bf466b3",
   "metadata": {},
   "source": [
    "![Resuelto](../Img_24_Ejercicios/Act8Img4.png)"
   ]
  },
  {
   "cell_type": "markdown",
   "id": "c76956ca-825f-49c6-928a-c6558dd06efb",
   "metadata": {},
   "source": [
    "__Conclusión:__ La mayoria de los estudiantes que quieren obtener un certificado tienen altas calificaciones"
   ]
  },
  {
   "cell_type": "markdown",
   "id": "2ee999f2-7657-44c2-bc0b-27bf9057be70",
   "metadata": {},
   "source": [
    "## Ejercicio 9:\n",
    "Utilizar pivot table crear un DataFrame que contenga la calificación promedio de los estudiantes en cada año, separado por si quieren obtener un certificado o no, el resultado debe ser el siguiente:"
   ]
  },
  {
   "cell_type": "markdown",
   "id": "3565034b-6e79-4ecb-a7d9-1abd42fd7d59",
   "metadata": {},
   "source": [
    "![Resuelto](../Img_24_Ejercicios/Act9Img1.png)"
   ]
  },
  {
   "cell_type": "code",
   "execution_count": 15,
   "id": "70fe381a-41c8-497f-95c5-f9419f0e131c",
   "metadata": {},
   "outputs": [],
   "source": [
    "certificados_cal=historico.pivot_table(index=\"anio\",values=\"calificacion\", columns=\"certificacion\")"
   ]
  },
  {
   "cell_type": "markdown",
   "id": "82fdec6a-b578-4412-b804-b0dfbbb59383",
   "metadata": {},
   "source": [
    "Armar un código que devuelva un DataFrame con la diferencia en cada año respecto a la calificación promedio de los estudiantes que si querian obtener un certificado contra los que no, por ejemplo, si en el 2017 el promedio de los estudiantes que si querían un certificado era 9 y de los que no era 8, la diferencia será 1 para esa fila, el resultado debe ser el siguiente:"
   ]
  },
  {
   "cell_type": "code",
   "execution_count": null,
   "id": "a28d5d21-a343-48a1-a191-3a6269c4dac1",
   "metadata": {},
   "outputs": [],
   "source": []
  },
  {
   "cell_type": "markdown",
   "id": "d2c063c8-f083-45cf-a4cf-40e4dcb070bb",
   "metadata": {},
   "source": [
    "![Resuelto](../Img_24_Ejercicios/Act9Img2.png)"
   ]
  },
  {
   "cell_type": "code",
   "execution_count": 16,
   "id": "bd29a8b8-99e4-4c1f-a6f1-6111d46f30ed",
   "metadata": {},
   "outputs": [],
   "source": [
    "certificados_cal[\"DIFERENCIA\"]=certificados_cal[\"SI\"]-certificados_cal[\"NO\"]"
   ]
  },
  {
   "cell_type": "code",
   "execution_count": 17,
   "id": "cbd07586-c35b-42b1-837f-359fa5c5fa4c",
   "metadata": {},
   "outputs": [
    {
     "data": {
      "text/html": [
       "<div>\n",
       "<style scoped>\n",
       "    .dataframe tbody tr th:only-of-type {\n",
       "        vertical-align: middle;\n",
       "    }\n",
       "\n",
       "    .dataframe tbody tr th {\n",
       "        vertical-align: top;\n",
       "    }\n",
       "\n",
       "    .dataframe thead th {\n",
       "        text-align: right;\n",
       "    }\n",
       "</style>\n",
       "<table border=\"1\" class=\"dataframe\">\n",
       "  <thead>\n",
       "    <tr style=\"text-align: right;\">\n",
       "      <th>certificacion</th>\n",
       "      <th>NO</th>\n",
       "      <th>SI</th>\n",
       "      <th>DIFERENCIA</th>\n",
       "    </tr>\n",
       "    <tr>\n",
       "      <th>anio</th>\n",
       "      <th></th>\n",
       "      <th></th>\n",
       "      <th></th>\n",
       "    </tr>\n",
       "  </thead>\n",
       "  <tbody>\n",
       "    <tr>\n",
       "      <th>2017</th>\n",
       "      <td>8.342857</td>\n",
       "      <td>8.747368</td>\n",
       "      <td>0.404511</td>\n",
       "    </tr>\n",
       "    <tr>\n",
       "      <th>2018</th>\n",
       "      <td>8.315556</td>\n",
       "      <td>8.996667</td>\n",
       "      <td>0.681111</td>\n",
       "    </tr>\n",
       "    <tr>\n",
       "      <th>2019</th>\n",
       "      <td>8.226190</td>\n",
       "      <td>8.854545</td>\n",
       "      <td>0.628355</td>\n",
       "    </tr>\n",
       "    <tr>\n",
       "      <th>2020</th>\n",
       "      <td>8.300000</td>\n",
       "      <td>8.800000</td>\n",
       "      <td>0.500000</td>\n",
       "    </tr>\n",
       "  </tbody>\n",
       "</table>\n",
       "</div>"
      ],
      "text/plain": [
       "certificacion        NO        SI  DIFERENCIA\n",
       "anio                                         \n",
       "2017           8.342857  8.747368    0.404511\n",
       "2018           8.315556  8.996667    0.681111\n",
       "2019           8.226190  8.854545    0.628355\n",
       "2020           8.300000  8.800000    0.500000"
      ]
     },
     "execution_count": 17,
     "metadata": {},
     "output_type": "execute_result"
    }
   ],
   "source": [
    "certificados_cal.head()"
   ]
  },
  {
   "cell_type": "code",
   "execution_count": null,
   "id": "e03d5960-bd04-40ee-b836-ec8d261ca5f6",
   "metadata": {},
   "outputs": [],
   "source": []
  },
  {
   "cell_type": "markdown",
   "id": "8dda8d42-5b09-4303-844c-8803041d4a93",
   "metadata": {},
   "source": [
    "![Resuelto](../Img_24_Ejercicios/Act9Img3.png)"
   ]
  },
  {
   "cell_type": "markdown",
   "id": "0cc37af4-c37a-4d4a-af45-e9a01ca08e35",
   "metadata": {},
   "source": [
    "__Conclusión:__ los estudiantes que buscan obtener su certificado tienen mayores calificaciones en promedio"
   ]
  },
  {
   "cell_type": "markdown",
   "id": "258fe2fa-5672-4ade-92e7-432d9e62d2d8",
   "metadata": {},
   "source": [
    "## Ejercicio 10:\n",
    "Armar un código que devuelva un dataframe con las diferencias de las calificaciones de cada alumno con respecto al promedio general, por ejemplo, si Juan sacó 8 y el promedio general es 9, la diferencia será -1, el resultado debe ser el siguiente:"
   ]
  },
  {
   "cell_type": "code",
   "execution_count": null,
   "id": "e834dd11-fc4e-42eb-a9f0-75a31e12dbec",
   "metadata": {},
   "outputs": [],
   "source": []
  },
  {
   "cell_type": "code",
   "execution_count": 18,
   "id": "e9bd38ee-977d-4f9a-9d34-a5cb26b155d4",
   "metadata": {},
   "outputs": [
    {
     "data": {
      "text/plain": [
       "8.513999999999998"
      ]
     },
     "execution_count": 18,
     "metadata": {},
     "output_type": "execute_result"
    }
   ],
   "source": [
    "promedio=historico.calificacion.mean()\n",
    "promedio"
   ]
  },
  {
   "cell_type": "code",
   "execution_count": 19,
   "id": "203b422d-f52f-4387-9620-957522dc550f",
   "metadata": {},
   "outputs": [],
   "source": [
    "def diferencia(x):\n",
    "    return x-promedio\n",
    "historico[\"diferencia\"]=historico.calificacion.apply(diferencia)"
   ]
  },
  {
   "cell_type": "code",
   "execution_count": 20,
   "id": "8d6fb3fb-93bb-401b-87f4-ec315dccaf92",
   "metadata": {},
   "outputs": [
    {
     "data": {
      "text/html": [
       "<div>\n",
       "<style scoped>\n",
       "    .dataframe tbody tr th:only-of-type {\n",
       "        vertical-align: middle;\n",
       "    }\n",
       "\n",
       "    .dataframe tbody tr th {\n",
       "        vertical-align: top;\n",
       "    }\n",
       "\n",
       "    .dataframe thead th {\n",
       "        text-align: right;\n",
       "    }\n",
       "</style>\n",
       "<table border=\"1\" class=\"dataframe\">\n",
       "  <thead>\n",
       "    <tr style=\"text-align: right;\">\n",
       "      <th></th>\n",
       "      <th>nombre</th>\n",
       "      <th>edad</th>\n",
       "      <th>calificacion</th>\n",
       "      <th>grupo</th>\n",
       "      <th>anio</th>\n",
       "      <th>semestre</th>\n",
       "      <th>certificacion</th>\n",
       "      <th>maestro</th>\n",
       "      <th>diferencia</th>\n",
       "    </tr>\n",
       "    <tr>\n",
       "      <th>num_control</th>\n",
       "      <th></th>\n",
       "      <th></th>\n",
       "      <th></th>\n",
       "      <th></th>\n",
       "      <th></th>\n",
       "      <th></th>\n",
       "      <th></th>\n",
       "      <th></th>\n",
       "      <th></th>\n",
       "    </tr>\n",
       "  </thead>\n",
       "  <tbody>\n",
       "    <tr>\n",
       "      <th>A001</th>\n",
       "      <td>Aarón</td>\n",
       "      <td>14</td>\n",
       "      <td>8.9</td>\n",
       "      <td>A</td>\n",
       "      <td>2017</td>\n",
       "      <td>1</td>\n",
       "      <td>NO</td>\n",
       "      <td>Tatiana</td>\n",
       "      <td>0.386</td>\n",
       "    </tr>\n",
       "    <tr>\n",
       "      <th>A002</th>\n",
       "      <td>Lucía</td>\n",
       "      <td>42</td>\n",
       "      <td>9.3</td>\n",
       "      <td>A</td>\n",
       "      <td>2017</td>\n",
       "      <td>1</td>\n",
       "      <td>NO</td>\n",
       "      <td>Tatiana</td>\n",
       "      <td>0.786</td>\n",
       "    </tr>\n",
       "    <tr>\n",
       "      <th>A003</th>\n",
       "      <td>Hugo</td>\n",
       "      <td>29</td>\n",
       "      <td>8.7</td>\n",
       "      <td>A</td>\n",
       "      <td>2017</td>\n",
       "      <td>1</td>\n",
       "      <td>NO</td>\n",
       "      <td>Tatiana</td>\n",
       "      <td>0.186</td>\n",
       "    </tr>\n",
       "    <tr>\n",
       "      <th>A004</th>\n",
       "      <td>Julieta</td>\n",
       "      <td>34</td>\n",
       "      <td>7.9</td>\n",
       "      <td>A</td>\n",
       "      <td>2017</td>\n",
       "      <td>1</td>\n",
       "      <td>NO</td>\n",
       "      <td>Tatiana</td>\n",
       "      <td>-0.614</td>\n",
       "    </tr>\n",
       "    <tr>\n",
       "      <th>A005</th>\n",
       "      <td>Adrían</td>\n",
       "      <td>14</td>\n",
       "      <td>9.1</td>\n",
       "      <td>A</td>\n",
       "      <td>2017</td>\n",
       "      <td>1</td>\n",
       "      <td>NO</td>\n",
       "      <td>Tatiana</td>\n",
       "      <td>0.586</td>\n",
       "    </tr>\n",
       "    <tr>\n",
       "      <th>...</th>\n",
       "      <td>...</td>\n",
       "      <td>...</td>\n",
       "      <td>...</td>\n",
       "      <td>...</td>\n",
       "      <td>...</td>\n",
       "      <td>...</td>\n",
       "      <td>...</td>\n",
       "      <td>...</td>\n",
       "      <td>...</td>\n",
       "    </tr>\n",
       "    <tr>\n",
       "      <th>A296</th>\n",
       "      <td>Brayan</td>\n",
       "      <td>25</td>\n",
       "      <td>9.1</td>\n",
       "      <td>C</td>\n",
       "      <td>2020</td>\n",
       "      <td>2</td>\n",
       "      <td>SI</td>\n",
       "      <td>Gaspar</td>\n",
       "      <td>0.586</td>\n",
       "    </tr>\n",
       "    <tr>\n",
       "      <th>A297</th>\n",
       "      <td>Deymar</td>\n",
       "      <td>30</td>\n",
       "      <td>9.1</td>\n",
       "      <td>C</td>\n",
       "      <td>2020</td>\n",
       "      <td>2</td>\n",
       "      <td>SI</td>\n",
       "      <td>Gaspar</td>\n",
       "      <td>0.586</td>\n",
       "    </tr>\n",
       "    <tr>\n",
       "      <th>A298</th>\n",
       "      <td>Rogelio</td>\n",
       "      <td>15</td>\n",
       "      <td>7.9</td>\n",
       "      <td>C</td>\n",
       "      <td>2020</td>\n",
       "      <td>2</td>\n",
       "      <td>NO</td>\n",
       "      <td>Gaspar</td>\n",
       "      <td>-0.614</td>\n",
       "    </tr>\n",
       "    <tr>\n",
       "      <th>A299</th>\n",
       "      <td>Percy</td>\n",
       "      <td>32</td>\n",
       "      <td>7.4</td>\n",
       "      <td>C</td>\n",
       "      <td>2020</td>\n",
       "      <td>2</td>\n",
       "      <td>NO</td>\n",
       "      <td>Gaspar</td>\n",
       "      <td>-1.114</td>\n",
       "    </tr>\n",
       "    <tr>\n",
       "      <th>A300</th>\n",
       "      <td>Claridad</td>\n",
       "      <td>25</td>\n",
       "      <td>7.2</td>\n",
       "      <td>C</td>\n",
       "      <td>2020</td>\n",
       "      <td>2</td>\n",
       "      <td>SI</td>\n",
       "      <td>Gaspar</td>\n",
       "      <td>-1.314</td>\n",
       "    </tr>\n",
       "  </tbody>\n",
       "</table>\n",
       "<p>300 rows × 9 columns</p>\n",
       "</div>"
      ],
      "text/plain": [
       "               nombre  edad  calificacion grupo  anio  semestre certificacion  \\\n",
       "num_control                                                                     \n",
       "A001            Aarón    14           8.9     A  2017         1            NO   \n",
       "A002            Lucía    42           9.3     A  2017         1            NO   \n",
       "A003             Hugo    29           8.7     A  2017         1            NO   \n",
       "A004          Julieta    34           7.9     A  2017         1            NO   \n",
       "A005           Adrían    14           9.1     A  2017         1            NO   \n",
       "...               ...   ...           ...   ...   ...       ...           ...   \n",
       "A296           Brayan    25           9.1     C  2020         2            SI   \n",
       "A297           Deymar    30           9.1     C  2020         2            SI   \n",
       "A298          Rogelio    15           7.9     C  2020         2            NO   \n",
       "A299            Percy    32           7.4     C  2020         2            NO   \n",
       "A300         Claridad    25           7.2     C  2020         2            SI   \n",
       "\n",
       "             maestro  diferencia  \n",
       "num_control                       \n",
       "A001         Tatiana       0.386  \n",
       "A002         Tatiana       0.786  \n",
       "A003         Tatiana       0.186  \n",
       "A004         Tatiana      -0.614  \n",
       "A005         Tatiana       0.586  \n",
       "...              ...         ...  \n",
       "A296          Gaspar       0.586  \n",
       "A297          Gaspar       0.586  \n",
       "A298          Gaspar      -0.614  \n",
       "A299          Gaspar      -1.114  \n",
       "A300          Gaspar      -1.314  \n",
       "\n",
       "[300 rows x 9 columns]"
      ]
     },
     "execution_count": 20,
     "metadata": {},
     "output_type": "execute_result"
    }
   ],
   "source": [
    "historico"
   ]
  },
  {
   "cell_type": "markdown",
   "id": "b1ab6710-1dbe-4fab-b6aa-dc58b9113419",
   "metadata": {},
   "source": [
    "Nota: se puede hacer como en el ejercicio anterior, pero se hizo diferente para mostrar más opciones a los alumnos"
   ]
  },
  {
   "cell_type": "markdown",
   "id": "6f0005c1-2f16-48aa-bde5-58482ec864b9",
   "metadata": {},
   "source": [
    "Armar un código que devuelva un Dataframe con los datos de los estudiantes que si quieren obtener un certificado,el resultado debe ser el siguiente:"
   ]
  },
  {
   "cell_type": "markdown",
   "id": "7f63fb63-e0eb-48d0-9a34-9f5221102609",
   "metadata": {},
   "source": [
    "![Resuelto](../Img_24_Ejercicios/Act10Img2.png)"
   ]
  },
  {
   "cell_type": "code",
   "execution_count": 21,
   "id": "a1e74874-ee72-4767-8882-9645229f99bb",
   "metadata": {},
   "outputs": [
    {
     "data": {
      "text/html": [
       "<div>\n",
       "<style scoped>\n",
       "    .dataframe tbody tr th:only-of-type {\n",
       "        vertical-align: middle;\n",
       "    }\n",
       "\n",
       "    .dataframe tbody tr th {\n",
       "        vertical-align: top;\n",
       "    }\n",
       "\n",
       "    .dataframe thead th {\n",
       "        text-align: right;\n",
       "    }\n",
       "</style>\n",
       "<table border=\"1\" class=\"dataframe\">\n",
       "  <thead>\n",
       "    <tr style=\"text-align: right;\">\n",
       "      <th></th>\n",
       "      <th>nombre</th>\n",
       "      <th>edad</th>\n",
       "      <th>calificacion</th>\n",
       "      <th>grupo</th>\n",
       "      <th>anio</th>\n",
       "      <th>semestre</th>\n",
       "      <th>certificacion</th>\n",
       "      <th>maestro</th>\n",
       "      <th>diferencia</th>\n",
       "    </tr>\n",
       "    <tr>\n",
       "      <th>num_control</th>\n",
       "      <th></th>\n",
       "      <th></th>\n",
       "      <th></th>\n",
       "      <th></th>\n",
       "      <th></th>\n",
       "      <th></th>\n",
       "      <th></th>\n",
       "      <th></th>\n",
       "      <th></th>\n",
       "    </tr>\n",
       "  </thead>\n",
       "  <tbody>\n",
       "    <tr>\n",
       "      <th>A006</th>\n",
       "      <td>Jacobo</td>\n",
       "      <td>44</td>\n",
       "      <td>9.8</td>\n",
       "      <td>A</td>\n",
       "      <td>2017</td>\n",
       "      <td>1</td>\n",
       "      <td>SI</td>\n",
       "      <td>Tatiana</td>\n",
       "      <td>1.286</td>\n",
       "    </tr>\n",
       "    <tr>\n",
       "      <th>A008</th>\n",
       "      <td>Sofía</td>\n",
       "      <td>20</td>\n",
       "      <td>9.0</td>\n",
       "      <td>A</td>\n",
       "      <td>2017</td>\n",
       "      <td>1</td>\n",
       "      <td>SI</td>\n",
       "      <td>Tatiana</td>\n",
       "      <td>0.486</td>\n",
       "    </tr>\n",
       "    <tr>\n",
       "      <th>A010</th>\n",
       "      <td>Martina</td>\n",
       "      <td>35</td>\n",
       "      <td>9.5</td>\n",
       "      <td>A</td>\n",
       "      <td>2017</td>\n",
       "      <td>1</td>\n",
       "      <td>SI</td>\n",
       "      <td>Tatiana</td>\n",
       "      <td>0.986</td>\n",
       "    </tr>\n",
       "    <tr>\n",
       "      <th>A012</th>\n",
       "      <td>Ricardo</td>\n",
       "      <td>34</td>\n",
       "      <td>9.0</td>\n",
       "      <td>A</td>\n",
       "      <td>2017</td>\n",
       "      <td>1</td>\n",
       "      <td>SI</td>\n",
       "      <td>Tatiana</td>\n",
       "      <td>0.486</td>\n",
       "    </tr>\n",
       "    <tr>\n",
       "      <th>A013</th>\n",
       "      <td>Javier</td>\n",
       "      <td>31</td>\n",
       "      <td>9.7</td>\n",
       "      <td>A</td>\n",
       "      <td>2017</td>\n",
       "      <td>2</td>\n",
       "      <td>SI</td>\n",
       "      <td>Tatiana</td>\n",
       "      <td>1.186</td>\n",
       "    </tr>\n",
       "    <tr>\n",
       "      <th>...</th>\n",
       "      <td>...</td>\n",
       "      <td>...</td>\n",
       "      <td>...</td>\n",
       "      <td>...</td>\n",
       "      <td>...</td>\n",
       "      <td>...</td>\n",
       "      <td>...</td>\n",
       "      <td>...</td>\n",
       "      <td>...</td>\n",
       "    </tr>\n",
       "    <tr>\n",
       "      <th>A293</th>\n",
       "      <td>Edir</td>\n",
       "      <td>23</td>\n",
       "      <td>7.7</td>\n",
       "      <td>C</td>\n",
       "      <td>2020</td>\n",
       "      <td>2</td>\n",
       "      <td>SI</td>\n",
       "      <td>Gaspar</td>\n",
       "      <td>-0.814</td>\n",
       "    </tr>\n",
       "    <tr>\n",
       "      <th>A295</th>\n",
       "      <td>Cuauhtemoc</td>\n",
       "      <td>14</td>\n",
       "      <td>7.9</td>\n",
       "      <td>C</td>\n",
       "      <td>2020</td>\n",
       "      <td>2</td>\n",
       "      <td>SI</td>\n",
       "      <td>Gaspar</td>\n",
       "      <td>-0.614</td>\n",
       "    </tr>\n",
       "    <tr>\n",
       "      <th>A296</th>\n",
       "      <td>Brayan</td>\n",
       "      <td>25</td>\n",
       "      <td>9.1</td>\n",
       "      <td>C</td>\n",
       "      <td>2020</td>\n",
       "      <td>2</td>\n",
       "      <td>SI</td>\n",
       "      <td>Gaspar</td>\n",
       "      <td>0.586</td>\n",
       "    </tr>\n",
       "    <tr>\n",
       "      <th>A297</th>\n",
       "      <td>Deymar</td>\n",
       "      <td>30</td>\n",
       "      <td>9.1</td>\n",
       "      <td>C</td>\n",
       "      <td>2020</td>\n",
       "      <td>2</td>\n",
       "      <td>SI</td>\n",
       "      <td>Gaspar</td>\n",
       "      <td>0.586</td>\n",
       "    </tr>\n",
       "    <tr>\n",
       "      <th>A300</th>\n",
       "      <td>Claridad</td>\n",
       "      <td>25</td>\n",
       "      <td>7.2</td>\n",
       "      <td>C</td>\n",
       "      <td>2020</td>\n",
       "      <td>2</td>\n",
       "      <td>SI</td>\n",
       "      <td>Gaspar</td>\n",
       "      <td>-1.314</td>\n",
       "    </tr>\n",
       "  </tbody>\n",
       "</table>\n",
       "<p>115 rows × 9 columns</p>\n",
       "</div>"
      ],
      "text/plain": [
       "                 nombre  edad  calificacion grupo  anio  semestre  \\\n",
       "num_control                                                         \n",
       "A006             Jacobo    44           9.8     A  2017         1   \n",
       "A008              Sofía    20           9.0     A  2017         1   \n",
       "A010            Martina    35           9.5     A  2017         1   \n",
       "A012            Ricardo    34           9.0     A  2017         1   \n",
       "A013             Javier    31           9.7     A  2017         2   \n",
       "...                 ...   ...           ...   ...   ...       ...   \n",
       "A293               Edir    23           7.7     C  2020         2   \n",
       "A295         Cuauhtemoc    14           7.9     C  2020         2   \n",
       "A296             Brayan    25           9.1     C  2020         2   \n",
       "A297             Deymar    30           9.1     C  2020         2   \n",
       "A300           Claridad    25           7.2     C  2020         2   \n",
       "\n",
       "            certificacion  maestro  diferencia  \n",
       "num_control                                     \n",
       "A006                   SI  Tatiana       1.286  \n",
       "A008                   SI  Tatiana       0.486  \n",
       "A010                   SI  Tatiana       0.986  \n",
       "A012                   SI  Tatiana       0.486  \n",
       "A013                   SI  Tatiana       1.186  \n",
       "...                   ...      ...         ...  \n",
       "A293                   SI   Gaspar      -0.814  \n",
       "A295                   SI   Gaspar      -0.614  \n",
       "A296                   SI   Gaspar       0.586  \n",
       "A297                   SI   Gaspar       0.586  \n",
       "A300                   SI   Gaspar      -1.314  \n",
       "\n",
       "[115 rows x 9 columns]"
      ]
     },
     "execution_count": 21,
     "metadata": {},
     "output_type": "execute_result"
    }
   ],
   "source": [
    "historico.loc[historico.certificacion==\"SI\"]"
   ]
  },
  {
   "cell_type": "markdown",
   "id": "56a8328d-2402-4a5e-a3f2-0ec639d2ca13",
   "metadata": {},
   "source": [
    "Armar un código que devuelva un Dataframe con los datos de los estudiantes que no quieren obtener un certificado,el resultado debe ser el siguiente:"
   ]
  },
  {
   "cell_type": "markdown",
   "id": "73fc7010-0d59-4d63-8832-680bcd807cd9",
   "metadata": {},
   "source": [
    "![Resuelto](../Img_24_Ejercicios/Act10Img3.png)"
   ]
  },
  {
   "cell_type": "code",
   "execution_count": 22,
   "id": "b4d610c8-1179-474f-afaf-fffd3d9bc0ad",
   "metadata": {},
   "outputs": [
    {
     "data": {
      "text/html": [
       "<div>\n",
       "<style scoped>\n",
       "    .dataframe tbody tr th:only-of-type {\n",
       "        vertical-align: middle;\n",
       "    }\n",
       "\n",
       "    .dataframe tbody tr th {\n",
       "        vertical-align: top;\n",
       "    }\n",
       "\n",
       "    .dataframe thead th {\n",
       "        text-align: right;\n",
       "    }\n",
       "</style>\n",
       "<table border=\"1\" class=\"dataframe\">\n",
       "  <thead>\n",
       "    <tr style=\"text-align: right;\">\n",
       "      <th></th>\n",
       "      <th>nombre</th>\n",
       "      <th>edad</th>\n",
       "      <th>calificacion</th>\n",
       "      <th>grupo</th>\n",
       "      <th>anio</th>\n",
       "      <th>semestre</th>\n",
       "      <th>certificacion</th>\n",
       "      <th>maestro</th>\n",
       "      <th>diferencia</th>\n",
       "    </tr>\n",
       "    <tr>\n",
       "      <th>num_control</th>\n",
       "      <th></th>\n",
       "      <th></th>\n",
       "      <th></th>\n",
       "      <th></th>\n",
       "      <th></th>\n",
       "      <th></th>\n",
       "      <th></th>\n",
       "      <th></th>\n",
       "      <th></th>\n",
       "    </tr>\n",
       "  </thead>\n",
       "  <tbody>\n",
       "    <tr>\n",
       "      <th>A001</th>\n",
       "      <td>Aarón</td>\n",
       "      <td>14</td>\n",
       "      <td>8.9</td>\n",
       "      <td>A</td>\n",
       "      <td>2017</td>\n",
       "      <td>1</td>\n",
       "      <td>NO</td>\n",
       "      <td>Tatiana</td>\n",
       "      <td>0.386</td>\n",
       "    </tr>\n",
       "    <tr>\n",
       "      <th>A002</th>\n",
       "      <td>Lucía</td>\n",
       "      <td>42</td>\n",
       "      <td>9.3</td>\n",
       "      <td>A</td>\n",
       "      <td>2017</td>\n",
       "      <td>1</td>\n",
       "      <td>NO</td>\n",
       "      <td>Tatiana</td>\n",
       "      <td>0.786</td>\n",
       "    </tr>\n",
       "    <tr>\n",
       "      <th>A003</th>\n",
       "      <td>Hugo</td>\n",
       "      <td>29</td>\n",
       "      <td>8.7</td>\n",
       "      <td>A</td>\n",
       "      <td>2017</td>\n",
       "      <td>1</td>\n",
       "      <td>NO</td>\n",
       "      <td>Tatiana</td>\n",
       "      <td>0.186</td>\n",
       "    </tr>\n",
       "    <tr>\n",
       "      <th>A004</th>\n",
       "      <td>Julieta</td>\n",
       "      <td>34</td>\n",
       "      <td>7.9</td>\n",
       "      <td>A</td>\n",
       "      <td>2017</td>\n",
       "      <td>1</td>\n",
       "      <td>NO</td>\n",
       "      <td>Tatiana</td>\n",
       "      <td>-0.614</td>\n",
       "    </tr>\n",
       "    <tr>\n",
       "      <th>A005</th>\n",
       "      <td>Adrían</td>\n",
       "      <td>14</td>\n",
       "      <td>9.1</td>\n",
       "      <td>A</td>\n",
       "      <td>2017</td>\n",
       "      <td>1</td>\n",
       "      <td>NO</td>\n",
       "      <td>Tatiana</td>\n",
       "      <td>0.586</td>\n",
       "    </tr>\n",
       "    <tr>\n",
       "      <th>...</th>\n",
       "      <td>...</td>\n",
       "      <td>...</td>\n",
       "      <td>...</td>\n",
       "      <td>...</td>\n",
       "      <td>...</td>\n",
       "      <td>...</td>\n",
       "      <td>...</td>\n",
       "      <td>...</td>\n",
       "      <td>...</td>\n",
       "    </tr>\n",
       "    <tr>\n",
       "      <th>A289</th>\n",
       "      <td>Eddie</td>\n",
       "      <td>34</td>\n",
       "      <td>7.9</td>\n",
       "      <td>C</td>\n",
       "      <td>2020</td>\n",
       "      <td>2</td>\n",
       "      <td>NO</td>\n",
       "      <td>Gaspar</td>\n",
       "      <td>-0.614</td>\n",
       "    </tr>\n",
       "    <tr>\n",
       "      <th>A292</th>\n",
       "      <td>Delfino</td>\n",
       "      <td>23</td>\n",
       "      <td>9.1</td>\n",
       "      <td>C</td>\n",
       "      <td>2020</td>\n",
       "      <td>2</td>\n",
       "      <td>NO</td>\n",
       "      <td>Gaspar</td>\n",
       "      <td>0.586</td>\n",
       "    </tr>\n",
       "    <tr>\n",
       "      <th>A294</th>\n",
       "      <td>Arnoldo</td>\n",
       "      <td>20</td>\n",
       "      <td>9.0</td>\n",
       "      <td>C</td>\n",
       "      <td>2020</td>\n",
       "      <td>2</td>\n",
       "      <td>NO</td>\n",
       "      <td>Gaspar</td>\n",
       "      <td>0.486</td>\n",
       "    </tr>\n",
       "    <tr>\n",
       "      <th>A298</th>\n",
       "      <td>Rogelio</td>\n",
       "      <td>15</td>\n",
       "      <td>7.9</td>\n",
       "      <td>C</td>\n",
       "      <td>2020</td>\n",
       "      <td>2</td>\n",
       "      <td>NO</td>\n",
       "      <td>Gaspar</td>\n",
       "      <td>-0.614</td>\n",
       "    </tr>\n",
       "    <tr>\n",
       "      <th>A299</th>\n",
       "      <td>Percy</td>\n",
       "      <td>32</td>\n",
       "      <td>7.4</td>\n",
       "      <td>C</td>\n",
       "      <td>2020</td>\n",
       "      <td>2</td>\n",
       "      <td>NO</td>\n",
       "      <td>Gaspar</td>\n",
       "      <td>-1.114</td>\n",
       "    </tr>\n",
       "  </tbody>\n",
       "</table>\n",
       "<p>185 rows × 9 columns</p>\n",
       "</div>"
      ],
      "text/plain": [
       "              nombre  edad  calificacion grupo  anio  semestre certificacion  \\\n",
       "num_control                                                                    \n",
       "A001           Aarón    14           8.9     A  2017         1            NO   \n",
       "A002           Lucía    42           9.3     A  2017         1            NO   \n",
       "A003            Hugo    29           8.7     A  2017         1            NO   \n",
       "A004         Julieta    34           7.9     A  2017         1            NO   \n",
       "A005          Adrían    14           9.1     A  2017         1            NO   \n",
       "...              ...   ...           ...   ...   ...       ...           ...   \n",
       "A289           Eddie    34           7.9     C  2020         2            NO   \n",
       "A292         Delfino    23           9.1     C  2020         2            NO   \n",
       "A294         Arnoldo    20           9.0     C  2020         2            NO   \n",
       "A298         Rogelio    15           7.9     C  2020         2            NO   \n",
       "A299           Percy    32           7.4     C  2020         2            NO   \n",
       "\n",
       "             maestro  diferencia  \n",
       "num_control                       \n",
       "A001         Tatiana       0.386  \n",
       "A002         Tatiana       0.786  \n",
       "A003         Tatiana       0.186  \n",
       "A004         Tatiana      -0.614  \n",
       "A005         Tatiana       0.586  \n",
       "...              ...         ...  \n",
       "A289          Gaspar      -0.614  \n",
       "A292          Gaspar       0.586  \n",
       "A294          Gaspar       0.486  \n",
       "A298          Gaspar      -0.614  \n",
       "A299          Gaspar      -1.114  \n",
       "\n",
       "[185 rows x 9 columns]"
      ]
     },
     "execution_count": 22,
     "metadata": {},
     "output_type": "execute_result"
    }
   ],
   "source": [
    "historico.loc[historico.certificacion==\"NO\"]"
   ]
  },
  {
   "cell_type": "markdown",
   "id": "2c25ee92-4481-4d94-94e5-1b157ea1f083",
   "metadata": {},
   "source": [
    "![Resuelto](../Img_24_Ejercicios/Act10Img6.png)"
   ]
  },
  {
   "cell_type": "markdown",
   "id": "a0266783-cc9e-4cc6-96ff-cad8d81a449c",
   "metadata": {},
   "source": [
    "__Conclusión:__ Los estudiantes que desean obtener un certificado tienden a tener calificaciones mayores al promedio"
   ]
  },
  {
   "cell_type": "markdown",
   "id": "93cccc49-2eac-4373-95d3-a618220ca3d6",
   "metadata": {},
   "source": [
    "## Ejercicio 11\n",
    "Armar un Dataframe con los indices de los alumnos que obtuvieron la calificación más alta en cada grupo en cada año, el resultado debe ser:"
   ]
  },
  {
   "cell_type": "markdown",
   "id": "829fdbde-cc4d-4834-8133-3318abeac631",
   "metadata": {},
   "source": [
    "![Resuelto](../Img_24_Ejercicios/Act11Img1.png)"
   ]
  },
  {
   "cell_type": "code",
   "execution_count": 23,
   "id": "0ab228a1-e54c-4032-b657-7a8b22ffddc6",
   "metadata": {},
   "outputs": [],
   "source": [
    "altos_indices=historico.groupby([\"anio\", \"grupo\"]).agg({\"calificacion\": \"idxmax\"})"
   ]
  },
  {
   "cell_type": "markdown",
   "id": "239a0ee2-a1df-4a61-8443-bb753be46127",
   "metadata": {},
   "source": [
    "Utilizar los indices del paso anterior para obtener en un DataFrame los datos de los estudiantes con mejor promedio empleando loc, el resultado debe ser:"
   ]
  },
  {
   "cell_type": "markdown",
   "id": "e5b797a8-7733-4c25-8c4e-f915cdfff665",
   "metadata": {},
   "source": [
    "![Resuelto](../Img_24_Ejercicios/Act11Img2.png)"
   ]
  },
  {
   "cell_type": "code",
   "execution_count": 24,
   "id": "f8532412-cc77-44d3-b39e-006586a4ad69",
   "metadata": {},
   "outputs": [],
   "source": [
    "altos=historico.loc[altos_indices.calificacion]"
   ]
  },
  {
   "cell_type": "markdown",
   "id": "a4fdc0aa-ba79-4083-8183-abe88a29b526",
   "metadata": {},
   "source": [
    "![Resuelto](../Img_24_Ejercicios/Act11Img3.png)"
   ]
  },
  {
   "cell_type": "markdown",
   "id": "8fc1af6d-2c68-44cf-ada4-5ded497e866e",
   "metadata": {},
   "source": [
    "__Conclusión:__ en todos los grupos siempre un estudiante tuvo al menos 9.8 de calificación"
   ]
  },
  {
   "cell_type": "markdown",
   "id": "c8dfb41e-3b08-430a-86ca-0462bdc1ec14",
   "metadata": {
    "tags": []
   },
   "source": [
    "## Ejercicio 12\n",
    "Agregar una columna llamada id al DataFrame anterior , formada por la unión de la columna anio y la columna grupo, el resultado debe ser el siguiente:"
   ]
  },
  {
   "cell_type": "markdown",
   "id": "a39a8a89-91f3-4237-8c23-6e47de0f7532",
   "metadata": {},
   "source": [
    "![Resuelto](../Img_24_Ejercicios/Act12Img1.png)"
   ]
  },
  {
   "cell_type": "code",
   "execution_count": 25,
   "id": "8237c0f6-0fde-44fc-b215-a27c6df707f7",
   "metadata": {},
   "outputs": [
    {
     "data": {
      "text/html": [
       "<div>\n",
       "<style scoped>\n",
       "    .dataframe tbody tr th:only-of-type {\n",
       "        vertical-align: middle;\n",
       "    }\n",
       "\n",
       "    .dataframe tbody tr th {\n",
       "        vertical-align: top;\n",
       "    }\n",
       "\n",
       "    .dataframe thead th {\n",
       "        text-align: right;\n",
       "    }\n",
       "</style>\n",
       "<table border=\"1\" class=\"dataframe\">\n",
       "  <thead>\n",
       "    <tr style=\"text-align: right;\">\n",
       "      <th></th>\n",
       "      <th>nombre</th>\n",
       "      <th>edad</th>\n",
       "      <th>calificacion</th>\n",
       "      <th>grupo</th>\n",
       "      <th>anio</th>\n",
       "      <th>semestre</th>\n",
       "      <th>certificacion</th>\n",
       "      <th>maestro</th>\n",
       "      <th>diferencia</th>\n",
       "      <th>id</th>\n",
       "    </tr>\n",
       "    <tr>\n",
       "      <th>num_control</th>\n",
       "      <th></th>\n",
       "      <th></th>\n",
       "      <th></th>\n",
       "      <th></th>\n",
       "      <th></th>\n",
       "      <th></th>\n",
       "      <th></th>\n",
       "      <th></th>\n",
       "      <th></th>\n",
       "      <th></th>\n",
       "    </tr>\n",
       "  </thead>\n",
       "  <tbody>\n",
       "    <tr>\n",
       "      <th>A006</th>\n",
       "      <td>Jacobo</td>\n",
       "      <td>44</td>\n",
       "      <td>9.8</td>\n",
       "      <td>A</td>\n",
       "      <td>2017</td>\n",
       "      <td>1</td>\n",
       "      <td>SI</td>\n",
       "      <td>Tatiana</td>\n",
       "      <td>1.286</td>\n",
       "      <td>2017A</td>\n",
       "    </tr>\n",
       "    <tr>\n",
       "      <th>A027</th>\n",
       "      <td>Roberto</td>\n",
       "      <td>28</td>\n",
       "      <td>9.8</td>\n",
       "      <td>B</td>\n",
       "      <td>2017</td>\n",
       "      <td>1</td>\n",
       "      <td>NO</td>\n",
       "      <td>Armando</td>\n",
       "      <td>1.286</td>\n",
       "      <td>2017B</td>\n",
       "    </tr>\n",
       "    <tr>\n",
       "      <th>A054</th>\n",
       "      <td>Daniel</td>\n",
       "      <td>15</td>\n",
       "      <td>9.8</td>\n",
       "      <td>C</td>\n",
       "      <td>2017</td>\n",
       "      <td>1</td>\n",
       "      <td>NO</td>\n",
       "      <td>Emily</td>\n",
       "      <td>1.286</td>\n",
       "      <td>2017C</td>\n",
       "    </tr>\n",
       "    <tr>\n",
       "      <th>A087</th>\n",
       "      <td>Kevin</td>\n",
       "      <td>16</td>\n",
       "      <td>10.0</td>\n",
       "      <td>A</td>\n",
       "      <td>2018</td>\n",
       "      <td>1</td>\n",
       "      <td>SI</td>\n",
       "      <td>Tatiana</td>\n",
       "      <td>1.486</td>\n",
       "      <td>2018A</td>\n",
       "    </tr>\n",
       "    <tr>\n",
       "      <th>A124</th>\n",
       "      <td>Isabella</td>\n",
       "      <td>22</td>\n",
       "      <td>9.9</td>\n",
       "      <td>B</td>\n",
       "      <td>2018</td>\n",
       "      <td>2</td>\n",
       "      <td>NO</td>\n",
       "      <td>Armando</td>\n",
       "      <td>1.386</td>\n",
       "      <td>2018B</td>\n",
       "    </tr>\n",
       "    <tr>\n",
       "      <th>A127</th>\n",
       "      <td>Paola</td>\n",
       "      <td>12</td>\n",
       "      <td>10.0</td>\n",
       "      <td>C</td>\n",
       "      <td>2018</td>\n",
       "      <td>1</td>\n",
       "      <td>SI</td>\n",
       "      <td>Emily</td>\n",
       "      <td>1.486</td>\n",
       "      <td>2018C</td>\n",
       "    </tr>\n",
       "    <tr>\n",
       "      <th>A171</th>\n",
       "      <td>Edson</td>\n",
       "      <td>16</td>\n",
       "      <td>9.9</td>\n",
       "      <td>A</td>\n",
       "      <td>2019</td>\n",
       "      <td>2</td>\n",
       "      <td>SI</td>\n",
       "      <td>Tatiana</td>\n",
       "      <td>1.386</td>\n",
       "      <td>2019A</td>\n",
       "    </tr>\n",
       "    <tr>\n",
       "      <th>A178</th>\n",
       "      <td>Matias</td>\n",
       "      <td>31</td>\n",
       "      <td>10.0</td>\n",
       "      <td>B</td>\n",
       "      <td>2019</td>\n",
       "      <td>1</td>\n",
       "      <td>SI</td>\n",
       "      <td>Armando</td>\n",
       "      <td>1.486</td>\n",
       "      <td>2019B</td>\n",
       "    </tr>\n",
       "    <tr>\n",
       "      <th>A208</th>\n",
       "      <td>Jaan</td>\n",
       "      <td>30</td>\n",
       "      <td>9.8</td>\n",
       "      <td>C</td>\n",
       "      <td>2019</td>\n",
       "      <td>1</td>\n",
       "      <td>NO</td>\n",
       "      <td>Emily</td>\n",
       "      <td>1.286</td>\n",
       "      <td>2019C</td>\n",
       "    </tr>\n",
       "    <tr>\n",
       "      <th>A235</th>\n",
       "      <td>Rodney</td>\n",
       "      <td>38</td>\n",
       "      <td>10.0</td>\n",
       "      <td>A</td>\n",
       "      <td>2020</td>\n",
       "      <td>1</td>\n",
       "      <td>SI</td>\n",
       "      <td>Tatiana</td>\n",
       "      <td>1.486</td>\n",
       "      <td>2020A</td>\n",
       "    </tr>\n",
       "    <tr>\n",
       "      <th>A266</th>\n",
       "      <td>Marwin</td>\n",
       "      <td>16</td>\n",
       "      <td>10.0</td>\n",
       "      <td>B</td>\n",
       "      <td>2020</td>\n",
       "      <td>2</td>\n",
       "      <td>NO</td>\n",
       "      <td>Armando</td>\n",
       "      <td>1.486</td>\n",
       "      <td>2020B</td>\n",
       "    </tr>\n",
       "    <tr>\n",
       "      <th>A279</th>\n",
       "      <td>Penelope</td>\n",
       "      <td>23</td>\n",
       "      <td>9.9</td>\n",
       "      <td>C</td>\n",
       "      <td>2020</td>\n",
       "      <td>1</td>\n",
       "      <td>SI</td>\n",
       "      <td>Emily</td>\n",
       "      <td>1.386</td>\n",
       "      <td>2020C</td>\n",
       "    </tr>\n",
       "  </tbody>\n",
       "</table>\n",
       "</div>"
      ],
      "text/plain": [
       "               nombre  edad  calificacion grupo  anio  semestre certificacion  \\\n",
       "num_control                                                                     \n",
       "A006           Jacobo    44           9.8     A  2017         1            SI   \n",
       "A027          Roberto    28           9.8     B  2017         1            NO   \n",
       "A054           Daniel    15           9.8     C  2017         1            NO   \n",
       "A087            Kevin    16          10.0     A  2018         1            SI   \n",
       "A124         Isabella    22           9.9     B  2018         2            NO   \n",
       "A127            Paola    12          10.0     C  2018         1            SI   \n",
       "A171            Edson    16           9.9     A  2019         2            SI   \n",
       "A178           Matias    31          10.0     B  2019         1            SI   \n",
       "A208             Jaan    30           9.8     C  2019         1            NO   \n",
       "A235           Rodney    38          10.0     A  2020         1            SI   \n",
       "A266           Marwin    16          10.0     B  2020         2            NO   \n",
       "A279         Penelope    23           9.9     C  2020         1            SI   \n",
       "\n",
       "             maestro  diferencia     id  \n",
       "num_control                              \n",
       "A006         Tatiana       1.286  2017A  \n",
       "A027         Armando       1.286  2017B  \n",
       "A054           Emily       1.286  2017C  \n",
       "A087         Tatiana       1.486  2018A  \n",
       "A124         Armando       1.386  2018B  \n",
       "A127           Emily       1.486  2018C  \n",
       "A171         Tatiana       1.386  2019A  \n",
       "A178         Armando       1.486  2019B  \n",
       "A208           Emily       1.286  2019C  \n",
       "A235         Tatiana       1.486  2020A  \n",
       "A266         Armando       1.486  2020B  \n",
       "A279           Emily       1.386  2020C  "
      ]
     },
     "execution_count": 25,
     "metadata": {},
     "output_type": "execute_result"
    }
   ],
   "source": [
    "altos[\"id\"]= altos.anio.map(str) + altos.grupo\n",
    "altos"
   ]
  },
  {
   "cell_type": "markdown",
   "id": "aa2d7e7d-661a-4184-90ab-bc58f5a499fb",
   "metadata": {},
   "source": [
    "__Conclusión:__ en todos los grupos siempre un estudiante tuvo al menos 9.8 de calificación"
   ]
  },
  {
   "cell_type": "markdown",
   "id": "5d94b3e4-3450-4f9c-8cc6-bdb9511523ce",
   "metadata": {},
   "source": [
    "## Ejercicio 13\n",
    "Utilizar pandas para importar los datos del archivo \"hospital.xlsx\" en la variable \"hospital\""
   ]
  },
  {
   "cell_type": "code",
   "execution_count": 26,
   "id": "9c62037c-8543-4b38-8155-9d46e56fdf2a",
   "metadata": {},
   "outputs": [],
   "source": [
    "hospital= pd.read_excel(\"../hospital.xlsx\")"
   ]
  },
  {
   "cell_type": "code",
   "execution_count": 27,
   "id": "f798322e-561a-411b-a80f-8064fa451414",
   "metadata": {},
   "outputs": [],
   "source": [
    "#hospital.head()"
   ]
  },
  {
   "cell_type": "markdown",
   "id": "45f9ea9d-d1f9-4d40-9a5a-6555e8d0a01d",
   "metadata": {},
   "source": [
    "Agregar una columna llamada \"FechaMes\", que contenga el año y el mes de la columna fecha (Ej. 2010-03)"
   ]
  },
  {
   "cell_type": "markdown",
   "id": "0728b820-93f8-4f10-bf70-4578f10cd834",
   "metadata": {},
   "source": [
    "![Resuelto](../Img_24_Ejercicios/Act13Img1.png)"
   ]
  },
  {
   "cell_type": "code",
   "execution_count": 28,
   "id": "f7ede50b-59f4-4479-8c7a-a4f4f51708eb",
   "metadata": {},
   "outputs": [],
   "source": [
    "hospital[\"FechaMes\"]=hospital.Fecha.dt.strftime(\"%Y-%m\")\n",
    "#hospital.head()"
   ]
  },
  {
   "cell_type": "markdown",
   "id": "6cfd9782-b60f-470f-9b16-ec6729f5b4e3",
   "metadata": {},
   "source": [
    "Agregar una columna llamada \"Año\", que contenga el año y el mes de la columna fecha (Ej. 2010)"
   ]
  },
  {
   "cell_type": "markdown",
   "id": "38037923-a49b-44c2-933a-232144a8c641",
   "metadata": {},
   "source": [
    "![Resuelto](../Img_24_Ejercicios/Act13Img2.png)"
   ]
  },
  {
   "cell_type": "code",
   "execution_count": 29,
   "id": "4a40e24e-70fe-4567-a840-99e502313621",
   "metadata": {},
   "outputs": [
    {
     "data": {
      "text/html": [
       "<div>\n",
       "<style scoped>\n",
       "    .dataframe tbody tr th:only-of-type {\n",
       "        vertical-align: middle;\n",
       "    }\n",
       "\n",
       "    .dataframe tbody tr th {\n",
       "        vertical-align: top;\n",
       "    }\n",
       "\n",
       "    .dataframe thead th {\n",
       "        text-align: right;\n",
       "    }\n",
       "</style>\n",
       "<table border=\"1\" class=\"dataframe\">\n",
       "  <thead>\n",
       "    <tr style=\"text-align: right;\">\n",
       "      <th></th>\n",
       "      <th>Fecha</th>\n",
       "      <th>Nombre</th>\n",
       "      <th>Doctor</th>\n",
       "      <th>Especialidad</th>\n",
       "      <th>Tipo</th>\n",
       "      <th>Honorarios</th>\n",
       "      <th>Calificación</th>\n",
       "      <th>Comisión</th>\n",
       "      <th>FechaMes</th>\n",
       "      <th>Año</th>\n",
       "    </tr>\n",
       "  </thead>\n",
       "  <tbody>\n",
       "    <tr>\n",
       "      <th>0</th>\n",
       "      <td>2018-01-01</td>\n",
       "      <td>Bastian Hurtado Cabrero</td>\n",
       "      <td>Simón Castro Infante</td>\n",
       "      <td>Hematología</td>\n",
       "      <td>Consulta</td>\n",
       "      <td>1025</td>\n",
       "      <td>0.84</td>\n",
       "      <td>0.16</td>\n",
       "      <td>2018-01</td>\n",
       "      <td>2018</td>\n",
       "    </tr>\n",
       "    <tr>\n",
       "      <th>1</th>\n",
       "      <td>2018-01-02</td>\n",
       "      <td>Carla Rosas Ávalos</td>\n",
       "      <td>Ismael López Saldaña</td>\n",
       "      <td>Hematología</td>\n",
       "      <td>Consulta</td>\n",
       "      <td>1025</td>\n",
       "      <td>0.83</td>\n",
       "      <td>0.11</td>\n",
       "      <td>2018-01</td>\n",
       "      <td>2018</td>\n",
       "    </tr>\n",
       "    <tr>\n",
       "      <th>2</th>\n",
       "      <td>2018-01-03</td>\n",
       "      <td>Natanael Lazcano Aguilar</td>\n",
       "      <td>Félix Llanos Macías</td>\n",
       "      <td>Cardiología</td>\n",
       "      <td>Consulta</td>\n",
       "      <td>1075</td>\n",
       "      <td>0.78</td>\n",
       "      <td>0.12</td>\n",
       "      <td>2018-01</td>\n",
       "      <td>2018</td>\n",
       "    </tr>\n",
       "    <tr>\n",
       "      <th>3</th>\n",
       "      <td>2018-01-04</td>\n",
       "      <td>Judith Hinojosa Torres</td>\n",
       "      <td>Ismael López Saldaña</td>\n",
       "      <td>Hematología</td>\n",
       "      <td>Consulta</td>\n",
       "      <td>1075</td>\n",
       "      <td>0.92</td>\n",
       "      <td>0.17</td>\n",
       "      <td>2018-01</td>\n",
       "      <td>2018</td>\n",
       "    </tr>\n",
       "    <tr>\n",
       "      <th>4</th>\n",
       "      <td>2018-01-07</td>\n",
       "      <td>Giovanni Rudomín Arias</td>\n",
       "      <td>Paulina Contreras Cuevas</td>\n",
       "      <td>Gastroenterología.</td>\n",
       "      <td>Consulta</td>\n",
       "      <td>1125</td>\n",
       "      <td>0.89</td>\n",
       "      <td>0.12</td>\n",
       "      <td>2018-01</td>\n",
       "      <td>2018</td>\n",
       "    </tr>\n",
       "  </tbody>\n",
       "</table>\n",
       "</div>"
      ],
      "text/plain": [
       "       Fecha                    Nombre                    Doctor  \\\n",
       "0 2018-01-01   Bastian Hurtado Cabrero      Simón Castro Infante   \n",
       "1 2018-01-02        Carla Rosas Ávalos      Ismael López Saldaña   \n",
       "2 2018-01-03  Natanael Lazcano Aguilar       Félix Llanos Macías   \n",
       "3 2018-01-04    Judith Hinojosa Torres      Ismael López Saldaña   \n",
       "4 2018-01-07    Giovanni Rudomín Arias  Paulina Contreras Cuevas   \n",
       "\n",
       "         Especialidad      Tipo  Honorarios  Calificación  Comisión FechaMes  \\\n",
       "0         Hematología  Consulta        1025          0.84      0.16  2018-01   \n",
       "1         Hematología  Consulta        1025          0.83      0.11  2018-01   \n",
       "2        Cardiología   Consulta        1075          0.78      0.12  2018-01   \n",
       "3         Hematología  Consulta        1075          0.92      0.17  2018-01   \n",
       "4  Gastroenterología.  Consulta        1125          0.89      0.12  2018-01   \n",
       "\n",
       "    Año  \n",
       "0  2018  \n",
       "1  2018  \n",
       "2  2018  \n",
       "3  2018  \n",
       "4  2018  "
      ]
     },
     "execution_count": 29,
     "metadata": {},
     "output_type": "execute_result"
    }
   ],
   "source": [
    "hospital[\"Año\"]=hospital.Fecha.dt.year\n",
    "hospital.head()"
   ]
  },
  {
   "cell_type": "markdown",
   "id": "a6587afd-3e22-4c14-ad42-b5f285a9ac46",
   "metadata": {},
   "source": [
    "Crear una función utilizando groupby que devuelva un DataFrame con el total de visitas que si hicieron al hospital y el promedio de los honorarios en cada año, el resultado debe ser el siguiente:"
   ]
  },
  {
   "cell_type": "markdown",
   "id": "70b8fb57-c0b5-416c-b796-68a6e41fd080",
   "metadata": {},
   "source": [
    "![Resuelto](../Img_24_Ejercicios/Act13Img4.png)"
   ]
  },
  {
   "cell_type": "code",
   "execution_count": 30,
   "id": "e2147308-3b9f-4fd8-9570-94bed870d07d",
   "metadata": {},
   "outputs": [],
   "source": [
    "ganancias=hospital.groupby(\"Año\").agg({\"Honorarios\":[\"mean\",\"count\"]})"
   ]
  },
  {
   "cell_type": "code",
   "execution_count": 31,
   "id": "4774b216-dc68-45e2-bcc5-0ef9e2caf3c3",
   "metadata": {},
   "outputs": [],
   "source": [
    "#ganancias.head()"
   ]
  },
  {
   "cell_type": "markdown",
   "id": "240be8ec-531c-4b3c-8318-f4c6ca2e7e67",
   "metadata": {},
   "source": [
    "![Resuelto](../Img_24_Ejercicios/Act13Img5.png)"
   ]
  },
  {
   "cell_type": "markdown",
   "id": "a0c8c1ac-1ea9-4e60-bd95-157c11c46b8f",
   "metadata": {},
   "source": [
    "![Resuelto](../Img_24_Ejercicios/Act13Img6.png)"
   ]
  },
  {
   "cell_type": "markdown",
   "id": "d2d9697d-8b7a-421c-afd4-cbf2c0a18dfc",
   "metadata": {},
   "source": [
    "__Conclusión:__ el costo promedio de los honorarios y el número de visitas no han tenido grandes variaciones."
   ]
  },
  {
   "cell_type": "markdown",
   "id": "7b5d754e-480f-48c7-8055-4bccf16f9c7b",
   "metadata": {},
   "source": [
    "## Ejercicio 14\n",
    "Crear una función que devuelva un DataFrame con los registros de las visitas al hospital que fueron con motivo de una consulta médica, el resultado debe ser el siguiente:"
   ]
  },
  {
   "cell_type": "markdown",
   "id": "2eba5260-8789-4123-920b-fe153871c9a9",
   "metadata": {},
   "source": [
    "![Resuelto](../Img_24_Ejercicios/Act14Img1.png)"
   ]
  },
  {
   "cell_type": "code",
   "execution_count": 32,
   "id": "d6e448ce-b214-47ab-95c0-97841de7013a",
   "metadata": {},
   "outputs": [],
   "source": [
    "consultas= hospital[hospital[\"Tipo\"]==\"Consulta\"]"
   ]
  },
  {
   "cell_type": "code",
   "execution_count": 33,
   "id": "abfa0eb7-59eb-47e8-9adb-92fde5d0f1d0",
   "metadata": {},
   "outputs": [],
   "source": [
    "#consultas.head()"
   ]
  },
  {
   "cell_type": "markdown",
   "id": "1fa5cd0d-3bb1-4923-a6bb-c6fa09fa55a8",
   "metadata": {},
   "source": [
    "![Resuelto](../Img_24_Ejercicios/Act14Img2.png)"
   ]
  },
  {
   "cell_type": "markdown",
   "id": "8a414e01-bff7-4b82-9bb7-8aaddf61c110",
   "metadata": {},
   "source": [
    "__Conclusión:__ el costo por una consulta normalmente es de 1000 o 1250 pesos"
   ]
  },
  {
   "cell_type": "markdown",
   "id": "d715dd09-6e67-4248-a422-ee79bb1875b1",
   "metadata": {},
   "source": [
    "## Ejercicio 15\n",
    "Crear una función utilizando groupby que devuelva un DataFrame con el total de visitas al hospital por cada especialidad, el resultado debe ser el siguiente:"
   ]
  },
  {
   "cell_type": "markdown",
   "id": "a3c387c4-0819-40f9-a4b0-bbb0969c2655",
   "metadata": {},
   "source": [
    "![Resuelto](../Img_24_Ejercicios/Act15Img1.png)"
   ]
  },
  {
   "cell_type": "code",
   "execution_count": 34,
   "id": "67934485-fd52-4a37-9319-50196d3b6dfb",
   "metadata": {},
   "outputs": [],
   "source": [
    "especialidad=hospital.groupby(\"Especialidad\").agg({\"Doctor\":\"count\"})"
   ]
  },
  {
   "cell_type": "code",
   "execution_count": 35,
   "id": "7b63000f-c877-4573-8a01-e193a3356273",
   "metadata": {},
   "outputs": [],
   "source": [
    "#especialidad.head()"
   ]
  },
  {
   "cell_type": "markdown",
   "id": "7834a478-d73e-4e19-9fd6-20730c7c672c",
   "metadata": {},
   "source": [
    "![Resuelto](../Img_24_Ejercicios/Act15Img2.png)"
   ]
  },
  {
   "cell_type": "markdown",
   "id": "8ccda34a-9902-467c-a8a4-e9cfde8b0f14",
   "metadata": {},
   "source": [
    "__Conclusión:__ la especialidad más demandada es la dermatología"
   ]
  },
  {
   "cell_type": "markdown",
   "id": "900d1482-2464-46b7-9560-631b5cacb1d6",
   "metadata": {},
   "source": [
    "## Ejercicio 16"
   ]
  },
  {
   "cell_type": "markdown",
   "id": "c3110933-329f-4ee6-ba17-c5abc897c212",
   "metadata": {},
   "source": [
    "Agregar una columna llamada \"Mes\", que contenga el año y el mes de la columna fecha (Ej. 01)"
   ]
  },
  {
   "cell_type": "markdown",
   "id": "df80f83b-8c39-4474-a1ce-6d67b89b4fbb",
   "metadata": {},
   "source": [
    "![Resuelto](../Img_24_Ejercicios/Act16Img1.png)"
   ]
  },
  {
   "cell_type": "code",
   "execution_count": 36,
   "id": "998265e9-b2d7-41ba-978d-bacc470ac99f",
   "metadata": {},
   "outputs": [
    {
     "data": {
      "text/html": [
       "<div>\n",
       "<style scoped>\n",
       "    .dataframe tbody tr th:only-of-type {\n",
       "        vertical-align: middle;\n",
       "    }\n",
       "\n",
       "    .dataframe tbody tr th {\n",
       "        vertical-align: top;\n",
       "    }\n",
       "\n",
       "    .dataframe thead th {\n",
       "        text-align: right;\n",
       "    }\n",
       "</style>\n",
       "<table border=\"1\" class=\"dataframe\">\n",
       "  <thead>\n",
       "    <tr style=\"text-align: right;\">\n",
       "      <th></th>\n",
       "      <th>Fecha</th>\n",
       "      <th>Nombre</th>\n",
       "      <th>Doctor</th>\n",
       "      <th>Especialidad</th>\n",
       "      <th>Tipo</th>\n",
       "      <th>Honorarios</th>\n",
       "      <th>Calificación</th>\n",
       "      <th>Comisión</th>\n",
       "      <th>FechaMes</th>\n",
       "      <th>Año</th>\n",
       "      <th>Mes</th>\n",
       "    </tr>\n",
       "  </thead>\n",
       "  <tbody>\n",
       "    <tr>\n",
       "      <th>0</th>\n",
       "      <td>2018-01-01</td>\n",
       "      <td>Bastian Hurtado Cabrero</td>\n",
       "      <td>Simón Castro Infante</td>\n",
       "      <td>Hematología</td>\n",
       "      <td>Consulta</td>\n",
       "      <td>1025</td>\n",
       "      <td>0.84</td>\n",
       "      <td>0.16</td>\n",
       "      <td>2018-01</td>\n",
       "      <td>2018</td>\n",
       "      <td>01</td>\n",
       "    </tr>\n",
       "    <tr>\n",
       "      <th>1</th>\n",
       "      <td>2018-01-02</td>\n",
       "      <td>Carla Rosas Ávalos</td>\n",
       "      <td>Ismael López Saldaña</td>\n",
       "      <td>Hematología</td>\n",
       "      <td>Consulta</td>\n",
       "      <td>1025</td>\n",
       "      <td>0.83</td>\n",
       "      <td>0.11</td>\n",
       "      <td>2018-01</td>\n",
       "      <td>2018</td>\n",
       "      <td>01</td>\n",
       "    </tr>\n",
       "    <tr>\n",
       "      <th>2</th>\n",
       "      <td>2018-01-03</td>\n",
       "      <td>Natanael Lazcano Aguilar</td>\n",
       "      <td>Félix Llanos Macías</td>\n",
       "      <td>Cardiología</td>\n",
       "      <td>Consulta</td>\n",
       "      <td>1075</td>\n",
       "      <td>0.78</td>\n",
       "      <td>0.12</td>\n",
       "      <td>2018-01</td>\n",
       "      <td>2018</td>\n",
       "      <td>01</td>\n",
       "    </tr>\n",
       "    <tr>\n",
       "      <th>3</th>\n",
       "      <td>2018-01-04</td>\n",
       "      <td>Judith Hinojosa Torres</td>\n",
       "      <td>Ismael López Saldaña</td>\n",
       "      <td>Hematología</td>\n",
       "      <td>Consulta</td>\n",
       "      <td>1075</td>\n",
       "      <td>0.92</td>\n",
       "      <td>0.17</td>\n",
       "      <td>2018-01</td>\n",
       "      <td>2018</td>\n",
       "      <td>01</td>\n",
       "    </tr>\n",
       "    <tr>\n",
       "      <th>4</th>\n",
       "      <td>2018-01-07</td>\n",
       "      <td>Giovanni Rudomín Arias</td>\n",
       "      <td>Paulina Contreras Cuevas</td>\n",
       "      <td>Gastroenterología.</td>\n",
       "      <td>Consulta</td>\n",
       "      <td>1125</td>\n",
       "      <td>0.89</td>\n",
       "      <td>0.12</td>\n",
       "      <td>2018-01</td>\n",
       "      <td>2018</td>\n",
       "      <td>01</td>\n",
       "    </tr>\n",
       "  </tbody>\n",
       "</table>\n",
       "</div>"
      ],
      "text/plain": [
       "       Fecha                    Nombre                    Doctor  \\\n",
       "0 2018-01-01   Bastian Hurtado Cabrero      Simón Castro Infante   \n",
       "1 2018-01-02        Carla Rosas Ávalos      Ismael López Saldaña   \n",
       "2 2018-01-03  Natanael Lazcano Aguilar       Félix Llanos Macías   \n",
       "3 2018-01-04    Judith Hinojosa Torres      Ismael López Saldaña   \n",
       "4 2018-01-07    Giovanni Rudomín Arias  Paulina Contreras Cuevas   \n",
       "\n",
       "         Especialidad      Tipo  Honorarios  Calificación  Comisión FechaMes  \\\n",
       "0         Hematología  Consulta        1025          0.84      0.16  2018-01   \n",
       "1         Hematología  Consulta        1025          0.83      0.11  2018-01   \n",
       "2        Cardiología   Consulta        1075          0.78      0.12  2018-01   \n",
       "3         Hematología  Consulta        1075          0.92      0.17  2018-01   \n",
       "4  Gastroenterología.  Consulta        1125          0.89      0.12  2018-01   \n",
       "\n",
       "    Año Mes  \n",
       "0  2018  01  \n",
       "1  2018  01  \n",
       "2  2018  01  \n",
       "3  2018  01  \n",
       "4  2018  01  "
      ]
     },
     "execution_count": 36,
     "metadata": {},
     "output_type": "execute_result"
    }
   ],
   "source": [
    "hospital[\"Mes\"]=hospital.Fecha.dt.strftime(\"%m\")\n",
    "hospital.head()"
   ]
  },
  {
   "cell_type": "markdown",
   "id": "08c0c9d4-6870-4739-ae16-6000aae55d8e",
   "metadata": {},
   "source": [
    "Crear una función que devuelva un DataFrame con la información de las visitas al hospital cuyo motivo fue una operación, el resultado debe ser el siguiente:"
   ]
  },
  {
   "cell_type": "markdown",
   "id": "4cc97621-39cd-4773-b804-d984e548603e",
   "metadata": {},
   "source": [
    "![Resuelto](../Img_24_Ejercicios/Act16Img2.png)"
   ]
  },
  {
   "cell_type": "code",
   "execution_count": 37,
   "id": "5251f216-0d6c-4aa8-af36-b040bc48ebbd",
   "metadata": {},
   "outputs": [],
   "source": [
    "operaciones= hospital[hospital[\"Tipo\"]==\"Operación\"]"
   ]
  },
  {
   "cell_type": "code",
   "execution_count": 38,
   "id": "14b5ab1b-a7b5-4bfd-b17c-0a26562c5219",
   "metadata": {},
   "outputs": [
    {
     "data": {
      "text/html": [
       "<div>\n",
       "<style scoped>\n",
       "    .dataframe tbody tr th:only-of-type {\n",
       "        vertical-align: middle;\n",
       "    }\n",
       "\n",
       "    .dataframe tbody tr th {\n",
       "        vertical-align: top;\n",
       "    }\n",
       "\n",
       "    .dataframe thead th {\n",
       "        text-align: right;\n",
       "    }\n",
       "</style>\n",
       "<table border=\"1\" class=\"dataframe\">\n",
       "  <thead>\n",
       "    <tr style=\"text-align: right;\">\n",
       "      <th></th>\n",
       "      <th>Fecha</th>\n",
       "      <th>Nombre</th>\n",
       "      <th>Doctor</th>\n",
       "      <th>Especialidad</th>\n",
       "      <th>Tipo</th>\n",
       "      <th>Honorarios</th>\n",
       "      <th>Calificación</th>\n",
       "      <th>Comisión</th>\n",
       "      <th>FechaMes</th>\n",
       "      <th>Año</th>\n",
       "      <th>Mes</th>\n",
       "    </tr>\n",
       "  </thead>\n",
       "  <tbody>\n",
       "    <tr>\n",
       "      <th>3063</th>\n",
       "      <td>2018-01-03</td>\n",
       "      <td>Stephanie Rioja Núñez</td>\n",
       "      <td>Paulina Contreras Cuevas</td>\n",
       "      <td>Gastroenterología.</td>\n",
       "      <td>Operación</td>\n",
       "      <td>15000</td>\n",
       "      <td>0.88</td>\n",
       "      <td>0.07</td>\n",
       "      <td>2018-01</td>\n",
       "      <td>2018</td>\n",
       "      <td>01</td>\n",
       "    </tr>\n",
       "    <tr>\n",
       "      <th>3064</th>\n",
       "      <td>2018-01-05</td>\n",
       "      <td>Adán Velasco Pizano</td>\n",
       "      <td>Ismael López Saldaña</td>\n",
       "      <td>Hematología</td>\n",
       "      <td>Operación</td>\n",
       "      <td>25000</td>\n",
       "      <td>0.96</td>\n",
       "      <td>0.06</td>\n",
       "      <td>2018-01</td>\n",
       "      <td>2018</td>\n",
       "      <td>01</td>\n",
       "    </tr>\n",
       "    <tr>\n",
       "      <th>3065</th>\n",
       "      <td>2018-01-06</td>\n",
       "      <td>Jesús Posadas Peñalosa</td>\n",
       "      <td>Félix Llanos Macías</td>\n",
       "      <td>Cardiología</td>\n",
       "      <td>Operación</td>\n",
       "      <td>22500</td>\n",
       "      <td>0.82</td>\n",
       "      <td>0.06</td>\n",
       "      <td>2018-01</td>\n",
       "      <td>2018</td>\n",
       "      <td>01</td>\n",
       "    </tr>\n",
       "    <tr>\n",
       "      <th>3066</th>\n",
       "      <td>2018-01-19</td>\n",
       "      <td>Álvaro Arroyo Varela</td>\n",
       "      <td>Paulina Contreras Cuevas</td>\n",
       "      <td>Gastroenterología.</td>\n",
       "      <td>Operación</td>\n",
       "      <td>37000</td>\n",
       "      <td>0.99</td>\n",
       "      <td>0.17</td>\n",
       "      <td>2018-01</td>\n",
       "      <td>2018</td>\n",
       "      <td>01</td>\n",
       "    </tr>\n",
       "    <tr>\n",
       "      <th>3067</th>\n",
       "      <td>2018-01-20</td>\n",
       "      <td>Lucas Roldán Ondarza</td>\n",
       "      <td>Ismael López Saldaña</td>\n",
       "      <td>Hematología</td>\n",
       "      <td>Operación</td>\n",
       "      <td>12000</td>\n",
       "      <td>0.73</td>\n",
       "      <td>0.10</td>\n",
       "      <td>2018-01</td>\n",
       "      <td>2018</td>\n",
       "      <td>01</td>\n",
       "    </tr>\n",
       "  </tbody>\n",
       "</table>\n",
       "</div>"
      ],
      "text/plain": [
       "          Fecha                  Nombre                    Doctor  \\\n",
       "3063 2018-01-03   Stephanie Rioja Núñez  Paulina Contreras Cuevas   \n",
       "3064 2018-01-05     Adán Velasco Pizano      Ismael López Saldaña   \n",
       "3065 2018-01-06  Jesús Posadas Peñalosa       Félix Llanos Macías   \n",
       "3066 2018-01-19    Álvaro Arroyo Varela  Paulina Contreras Cuevas   \n",
       "3067 2018-01-20    Lucas Roldán Ondarza      Ismael López Saldaña   \n",
       "\n",
       "            Especialidad       Tipo  Honorarios  Calificación  Comisión  \\\n",
       "3063  Gastroenterología.  Operación       15000          0.88      0.07   \n",
       "3064         Hematología  Operación       25000          0.96      0.06   \n",
       "3065        Cardiología   Operación       22500          0.82      0.06   \n",
       "3066  Gastroenterología.  Operación       37000          0.99      0.17   \n",
       "3067         Hematología  Operación       12000          0.73      0.10   \n",
       "\n",
       "     FechaMes   Año Mes  \n",
       "3063  2018-01  2018  01  \n",
       "3064  2018-01  2018  01  \n",
       "3065  2018-01  2018  01  \n",
       "3066  2018-01  2018  01  \n",
       "3067  2018-01  2018  01  "
      ]
     },
     "execution_count": 38,
     "metadata": {},
     "output_type": "execute_result"
    }
   ],
   "source": [
    "operaciones.head()"
   ]
  },
  {
   "cell_type": "markdown",
   "id": "a4dc040e-119b-44b1-a1a5-8a35a4f124ce",
   "metadata": {},
   "source": [
    "Utilizar pivot table para crear una función que devuelva un DataFrame con los honorarios de la operación más barata en cada mes de cada año, el resultado debe ser el siguiente:"
   ]
  },
  {
   "cell_type": "markdown",
   "id": "a9c8e257-eea5-412c-a14a-a426abeb6dee",
   "metadata": {},
   "source": [
    "![Resuelto](../Img_24_Ejercicios/Act16Img2.png)"
   ]
  },
  {
   "cell_type": "code",
   "execution_count": 39,
   "id": "9e70f66b-e5ae-41dc-871a-3531f07ac8f0",
   "metadata": {},
   "outputs": [],
   "source": [
    "operaciones_min =pd.pivot_table(operaciones,\n",
    "                      index=[\"Mes\"],\n",
    "                      columns=\"Año\",\n",
    "                      fill_value=0,\n",
    "                      values=\"Honorarios\",\n",
    "                      aggfunc='min')"
   ]
  },
  {
   "cell_type": "code",
   "execution_count": 40,
   "id": "77f199ed-2b65-4eb1-990b-b665389d5a9c",
   "metadata": {},
   "outputs": [],
   "source": [
    "#operaciones_min.head()"
   ]
  },
  {
   "cell_type": "markdown",
   "id": "629c4657-587e-45f2-8f94-5e0cd28f5f9d",
   "metadata": {},
   "source": [
    "![Resuelto](../Img_24_Ejercicios/Act16Img3.png)"
   ]
  },
  {
   "cell_type": "markdown",
   "id": "bd1b8f64-c467-45c8-996c-7e51034939bc",
   "metadata": {},
   "source": [
    "__Conclusión:__ en el año 2021 es donde las operaciones más económicas tienen el costo más alto"
   ]
  },
  {
   "cell_type": "markdown",
   "id": "7fb795d4-2dd6-4e5f-8aed-760724c3605a",
   "metadata": {},
   "source": [
    "## Ejercicio 17\n",
    "Crear una función que utilizando groupby devuelva un DataFrame con la cantidad de visitas atendidas por cada doctor, el resultado debe ser el siguiente:"
   ]
  },
  {
   "cell_type": "markdown",
   "id": "b61c04d9-2ad9-4c77-a4b9-6d79ac18f521",
   "metadata": {},
   "source": [
    "![Resuelto](../Img_24_Ejercicios/Act17Img1.png)"
   ]
  },
  {
   "cell_type": "code",
   "execution_count": 41,
   "id": "ea8af778-8d23-4737-bde7-4b15d83c8024",
   "metadata": {},
   "outputs": [],
   "source": [
    "doctores=hospital.groupby(\"Doctor\").agg({\"Doctor\":\"count\"})"
   ]
  },
  {
   "cell_type": "code",
   "execution_count": 42,
   "id": "aa5bddd6-7cfb-4f09-81f9-56594e37acb1",
   "metadata": {},
   "outputs": [],
   "source": [
    "#doctores.head()"
   ]
  },
  {
   "cell_type": "markdown",
   "id": "486dfa70-fd46-451c-88b7-ad1339b52047",
   "metadata": {},
   "source": [
    "![Resuelto](../Img_24_Ejercicios/Act17Img2.png)"
   ]
  },
  {
   "cell_type": "markdown",
   "id": "50800a93-3e78-4308-ac1c-aad4bd0a4e8a",
   "metadata": {},
   "source": [
    "## Ejercicio 18\n",
    "Agregar una columna al DataFrame hospital llamada ingreso, este se obtiene al multiplicar los honorarios de cada visita con el porcentaje de comisión, el resultado debe ser el siguiente:"
   ]
  },
  {
   "cell_type": "markdown",
   "id": "68a3a0d6-0f95-49ab-b044-9b73796c8125",
   "metadata": {},
   "source": [
    "![Resuelto](../Img_24_Ejercicios/Act18Img1.png)"
   ]
  },
  {
   "cell_type": "code",
   "execution_count": 43,
   "id": "c1a4ea2f-a7e4-4f49-a917-f141884def0b",
   "metadata": {},
   "outputs": [],
   "source": [
    "hospital[\"Ingreso\"]=hospital[\"Honorarios\"]*hospital[\"Comisión\"]"
   ]
  },
  {
   "cell_type": "code",
   "execution_count": 44,
   "id": "bd355e5b-1d90-479f-9cca-f2dc31b98279",
   "metadata": {},
   "outputs": [
    {
     "data": {
      "text/html": [
       "<div>\n",
       "<style scoped>\n",
       "    .dataframe tbody tr th:only-of-type {\n",
       "        vertical-align: middle;\n",
       "    }\n",
       "\n",
       "    .dataframe tbody tr th {\n",
       "        vertical-align: top;\n",
       "    }\n",
       "\n",
       "    .dataframe thead th {\n",
       "        text-align: right;\n",
       "    }\n",
       "</style>\n",
       "<table border=\"1\" class=\"dataframe\">\n",
       "  <thead>\n",
       "    <tr style=\"text-align: right;\">\n",
       "      <th></th>\n",
       "      <th>Fecha</th>\n",
       "      <th>Nombre</th>\n",
       "      <th>Doctor</th>\n",
       "      <th>Especialidad</th>\n",
       "      <th>Tipo</th>\n",
       "      <th>Honorarios</th>\n",
       "      <th>Calificación</th>\n",
       "      <th>Comisión</th>\n",
       "      <th>FechaMes</th>\n",
       "      <th>Año</th>\n",
       "      <th>Mes</th>\n",
       "      <th>Ingreso</th>\n",
       "    </tr>\n",
       "  </thead>\n",
       "  <tbody>\n",
       "    <tr>\n",
       "      <th>0</th>\n",
       "      <td>2018-01-01</td>\n",
       "      <td>Bastian Hurtado Cabrero</td>\n",
       "      <td>Simón Castro Infante</td>\n",
       "      <td>Hematología</td>\n",
       "      <td>Consulta</td>\n",
       "      <td>1025</td>\n",
       "      <td>0.84</td>\n",
       "      <td>0.16</td>\n",
       "      <td>2018-01</td>\n",
       "      <td>2018</td>\n",
       "      <td>01</td>\n",
       "      <td>164.00</td>\n",
       "    </tr>\n",
       "    <tr>\n",
       "      <th>1</th>\n",
       "      <td>2018-01-02</td>\n",
       "      <td>Carla Rosas Ávalos</td>\n",
       "      <td>Ismael López Saldaña</td>\n",
       "      <td>Hematología</td>\n",
       "      <td>Consulta</td>\n",
       "      <td>1025</td>\n",
       "      <td>0.83</td>\n",
       "      <td>0.11</td>\n",
       "      <td>2018-01</td>\n",
       "      <td>2018</td>\n",
       "      <td>01</td>\n",
       "      <td>112.75</td>\n",
       "    </tr>\n",
       "    <tr>\n",
       "      <th>2</th>\n",
       "      <td>2018-01-03</td>\n",
       "      <td>Natanael Lazcano Aguilar</td>\n",
       "      <td>Félix Llanos Macías</td>\n",
       "      <td>Cardiología</td>\n",
       "      <td>Consulta</td>\n",
       "      <td>1075</td>\n",
       "      <td>0.78</td>\n",
       "      <td>0.12</td>\n",
       "      <td>2018-01</td>\n",
       "      <td>2018</td>\n",
       "      <td>01</td>\n",
       "      <td>129.00</td>\n",
       "    </tr>\n",
       "    <tr>\n",
       "      <th>3</th>\n",
       "      <td>2018-01-04</td>\n",
       "      <td>Judith Hinojosa Torres</td>\n",
       "      <td>Ismael López Saldaña</td>\n",
       "      <td>Hematología</td>\n",
       "      <td>Consulta</td>\n",
       "      <td>1075</td>\n",
       "      <td>0.92</td>\n",
       "      <td>0.17</td>\n",
       "      <td>2018-01</td>\n",
       "      <td>2018</td>\n",
       "      <td>01</td>\n",
       "      <td>182.75</td>\n",
       "    </tr>\n",
       "    <tr>\n",
       "      <th>4</th>\n",
       "      <td>2018-01-07</td>\n",
       "      <td>Giovanni Rudomín Arias</td>\n",
       "      <td>Paulina Contreras Cuevas</td>\n",
       "      <td>Gastroenterología.</td>\n",
       "      <td>Consulta</td>\n",
       "      <td>1125</td>\n",
       "      <td>0.89</td>\n",
       "      <td>0.12</td>\n",
       "      <td>2018-01</td>\n",
       "      <td>2018</td>\n",
       "      <td>01</td>\n",
       "      <td>135.00</td>\n",
       "    </tr>\n",
       "  </tbody>\n",
       "</table>\n",
       "</div>"
      ],
      "text/plain": [
       "       Fecha                    Nombre                    Doctor  \\\n",
       "0 2018-01-01   Bastian Hurtado Cabrero      Simón Castro Infante   \n",
       "1 2018-01-02        Carla Rosas Ávalos      Ismael López Saldaña   \n",
       "2 2018-01-03  Natanael Lazcano Aguilar       Félix Llanos Macías   \n",
       "3 2018-01-04    Judith Hinojosa Torres      Ismael López Saldaña   \n",
       "4 2018-01-07    Giovanni Rudomín Arias  Paulina Contreras Cuevas   \n",
       "\n",
       "         Especialidad      Tipo  Honorarios  Calificación  Comisión FechaMes  \\\n",
       "0         Hematología  Consulta        1025          0.84      0.16  2018-01   \n",
       "1         Hematología  Consulta        1025          0.83      0.11  2018-01   \n",
       "2        Cardiología   Consulta        1075          0.78      0.12  2018-01   \n",
       "3         Hematología  Consulta        1075          0.92      0.17  2018-01   \n",
       "4  Gastroenterología.  Consulta        1125          0.89      0.12  2018-01   \n",
       "\n",
       "    Año Mes  Ingreso  \n",
       "0  2018  01   164.00  \n",
       "1  2018  01   112.75  \n",
       "2  2018  01   129.00  \n",
       "3  2018  01   182.75  \n",
       "4  2018  01   135.00  "
      ]
     },
     "execution_count": 44,
     "metadata": {},
     "output_type": "execute_result"
    }
   ],
   "source": [
    "hospital.head()"
   ]
  },
  {
   "cell_type": "markdown",
   "id": "d7b22aad-0215-4c0c-9f6d-d25262871c0e",
   "metadata": {},
   "source": [
    "Crear una función utilizando pivot table que devuelva un DataFrame con la suma de los ingresos en cada año por tipo de visita:"
   ]
  },
  {
   "cell_type": "markdown",
   "id": "2ba38da2-145e-4156-8c2a-daffae396690",
   "metadata": {},
   "source": [
    "![Resuelto](../Img_24_Ejercicios/Act18Img2.png)"
   ]
  },
  {
   "cell_type": "code",
   "execution_count": 45,
   "id": "fa22c560-9418-49e1-aff6-6341e20cc6da",
   "metadata": {},
   "outputs": [],
   "source": [
    "ingresos =pd.pivot_table(hospital,\n",
    "                      index=[\"Año\"],\n",
    "                      columns=\"Tipo\",\n",
    "                      fill_value=0,\n",
    "                      values=\"Ingreso\",\n",
    "                      aggfunc='sum')"
   ]
  },
  {
   "cell_type": "code",
   "execution_count": 46,
   "id": "d2733e84-c201-458c-8a0d-4c63f4e3386b",
   "metadata": {},
   "outputs": [
    {
     "data": {
      "text/html": [
       "<div>\n",
       "<style scoped>\n",
       "    .dataframe tbody tr th:only-of-type {\n",
       "        vertical-align: middle;\n",
       "    }\n",
       "\n",
       "    .dataframe tbody tr th {\n",
       "        vertical-align: top;\n",
       "    }\n",
       "\n",
       "    .dataframe thead th {\n",
       "        text-align: right;\n",
       "    }\n",
       "</style>\n",
       "<table border=\"1\" class=\"dataframe\">\n",
       "  <thead>\n",
       "    <tr style=\"text-align: right;\">\n",
       "      <th>Tipo</th>\n",
       "      <th>Consulta</th>\n",
       "      <th>Examen</th>\n",
       "      <th>Operación</th>\n",
       "    </tr>\n",
       "    <tr>\n",
       "      <th>Año</th>\n",
       "      <th></th>\n",
       "      <th></th>\n",
       "      <th></th>\n",
       "    </tr>\n",
       "  </thead>\n",
       "  <tbody>\n",
       "    <tr>\n",
       "      <th>2018</th>\n",
       "      <td>69302.0</td>\n",
       "      <td>121121</td>\n",
       "      <td>468165</td>\n",
       "    </tr>\n",
       "    <tr>\n",
       "      <th>2019</th>\n",
       "      <td>68941.5</td>\n",
       "      <td>109276</td>\n",
       "      <td>498010</td>\n",
       "    </tr>\n",
       "    <tr>\n",
       "      <th>2020</th>\n",
       "      <td>70183.5</td>\n",
       "      <td>122730</td>\n",
       "      <td>489795</td>\n",
       "    </tr>\n",
       "    <tr>\n",
       "      <th>2021</th>\n",
       "      <td>65630.0</td>\n",
       "      <td>100555</td>\n",
       "      <td>466955</td>\n",
       "    </tr>\n",
       "  </tbody>\n",
       "</table>\n",
       "</div>"
      ],
      "text/plain": [
       "Tipo  Consulta  Examen  Operación\n",
       "Año                              \n",
       "2018   69302.0  121121     468165\n",
       "2019   68941.5  109276     498010\n",
       "2020   70183.5  122730     489795\n",
       "2021   65630.0  100555     466955"
      ]
     },
     "execution_count": 46,
     "metadata": {},
     "output_type": "execute_result"
    }
   ],
   "source": [
    "ingresos.head()"
   ]
  },
  {
   "cell_type": "markdown",
   "id": "b627de53-2e28-4b03-9b8c-e451d8ccb0e0",
   "metadata": {},
   "source": [
    "![Resuelto](../Img_24_Ejercicios/Act18Img3.png)"
   ]
  },
  {
   "cell_type": "markdown",
   "id": "1de70737-2643-48e0-83c2-348ac640e5d2",
   "metadata": {},
   "source": [
    "__Conclusión:__ El tipo de consulta que más ingresos genera al hospital son las operaciones "
   ]
  },
  {
   "cell_type": "markdown",
   "id": "ee84662c-0154-4236-b41f-76afc7a1153e",
   "metadata": {},
   "source": [
    "## Ejercicio 19\n",
    "Crear un código utilizando groupby que devuelva un DataFrame con la mediana en los ingresos en cada mes de cada año, el resultado debe ser el siguiente:"
   ]
  },
  {
   "cell_type": "markdown",
   "id": "8c441be8-9f74-4e5d-bd43-9364f9df15b7",
   "metadata": {},
   "source": [
    "![Resuelto](../Img_24_Ejercicios/Act19Img1.png)"
   ]
  },
  {
   "cell_type": "code",
   "execution_count": 47,
   "id": "616d09da-b320-4fa0-a941-47e4bd6ff0d9",
   "metadata": {},
   "outputs": [],
   "source": [
    "mediana=hospital.groupby([\"Año\",\"Mes\"]).agg({\"Ingreso\":\"median\"})"
   ]
  },
  {
   "cell_type": "code",
   "execution_count": 48,
   "id": "c68a6f15-27b5-4ac8-a47a-a05b35b80f3a",
   "metadata": {},
   "outputs": [],
   "source": [
    "#mediana.head()"
   ]
  },
  {
   "cell_type": "markdown",
   "id": "1cc69c07-9e1c-42ce-986a-beb573d2a5e6",
   "metadata": {},
   "source": [
    "![Resuelto](../Img_24_Ejercicios/Act19Img2.png)"
   ]
  },
  {
   "cell_type": "markdown",
   "id": "b3705f85-c7ca-4d36-a862-51f184eb4071",
   "metadata": {},
   "source": [
    "__Conclusión:__ La mediana de los ingresos normalmente oscila entre los 150 y 200 pesos"
   ]
  },
  {
   "cell_type": "markdown",
   "id": "99fd9c5a-da3a-475b-bcf1-efd017bfb6eb",
   "metadata": {},
   "source": [
    "## Ejercicio 20\n",
    "Crear una función que devuelva un DataFrame con la información de las visitas al hospital cuyo motivo fue una consulta médica, el resultado debe ser el siguiente:"
   ]
  },
  {
   "cell_type": "markdown",
   "id": "9b1ffff7-453c-4545-a5b0-d77f1a7068df",
   "metadata": {},
   "source": [
    "![Resuelto](../Img_24_Ejercicios/Act20Img1.png)"
   ]
  },
  {
   "cell_type": "code",
   "execution_count": 49,
   "id": "eadb8c2d-0b97-4bc8-960e-9e56713906cd",
   "metadata": {},
   "outputs": [],
   "source": [
    "consultas= hospital[hospital[\"Tipo\"]==\"Consulta\"]"
   ]
  },
  {
   "cell_type": "code",
   "execution_count": 50,
   "id": "c1f84f50-0758-4208-a807-004e48629d71",
   "metadata": {},
   "outputs": [
    {
     "data": {
      "text/html": [
       "<div>\n",
       "<style scoped>\n",
       "    .dataframe tbody tr th:only-of-type {\n",
       "        vertical-align: middle;\n",
       "    }\n",
       "\n",
       "    .dataframe tbody tr th {\n",
       "        vertical-align: top;\n",
       "    }\n",
       "\n",
       "    .dataframe thead th {\n",
       "        text-align: right;\n",
       "    }\n",
       "</style>\n",
       "<table border=\"1\" class=\"dataframe\">\n",
       "  <thead>\n",
       "    <tr style=\"text-align: right;\">\n",
       "      <th></th>\n",
       "      <th>Fecha</th>\n",
       "      <th>Nombre</th>\n",
       "      <th>Doctor</th>\n",
       "      <th>Especialidad</th>\n",
       "      <th>Tipo</th>\n",
       "      <th>Honorarios</th>\n",
       "      <th>Calificación</th>\n",
       "      <th>Comisión</th>\n",
       "      <th>FechaMes</th>\n",
       "      <th>Año</th>\n",
       "      <th>Mes</th>\n",
       "      <th>Ingreso</th>\n",
       "    </tr>\n",
       "  </thead>\n",
       "  <tbody>\n",
       "    <tr>\n",
       "      <th>0</th>\n",
       "      <td>2018-01-01</td>\n",
       "      <td>Bastian Hurtado Cabrero</td>\n",
       "      <td>Simón Castro Infante</td>\n",
       "      <td>Hematología</td>\n",
       "      <td>Consulta</td>\n",
       "      <td>1025</td>\n",
       "      <td>0.84</td>\n",
       "      <td>0.16</td>\n",
       "      <td>2018-01</td>\n",
       "      <td>2018</td>\n",
       "      <td>01</td>\n",
       "      <td>164.00</td>\n",
       "    </tr>\n",
       "    <tr>\n",
       "      <th>1</th>\n",
       "      <td>2018-01-02</td>\n",
       "      <td>Carla Rosas Ávalos</td>\n",
       "      <td>Ismael López Saldaña</td>\n",
       "      <td>Hematología</td>\n",
       "      <td>Consulta</td>\n",
       "      <td>1025</td>\n",
       "      <td>0.83</td>\n",
       "      <td>0.11</td>\n",
       "      <td>2018-01</td>\n",
       "      <td>2018</td>\n",
       "      <td>01</td>\n",
       "      <td>112.75</td>\n",
       "    </tr>\n",
       "    <tr>\n",
       "      <th>2</th>\n",
       "      <td>2018-01-03</td>\n",
       "      <td>Natanael Lazcano Aguilar</td>\n",
       "      <td>Félix Llanos Macías</td>\n",
       "      <td>Cardiología</td>\n",
       "      <td>Consulta</td>\n",
       "      <td>1075</td>\n",
       "      <td>0.78</td>\n",
       "      <td>0.12</td>\n",
       "      <td>2018-01</td>\n",
       "      <td>2018</td>\n",
       "      <td>01</td>\n",
       "      <td>129.00</td>\n",
       "    </tr>\n",
       "    <tr>\n",
       "      <th>3</th>\n",
       "      <td>2018-01-04</td>\n",
       "      <td>Judith Hinojosa Torres</td>\n",
       "      <td>Ismael López Saldaña</td>\n",
       "      <td>Hematología</td>\n",
       "      <td>Consulta</td>\n",
       "      <td>1075</td>\n",
       "      <td>0.92</td>\n",
       "      <td>0.17</td>\n",
       "      <td>2018-01</td>\n",
       "      <td>2018</td>\n",
       "      <td>01</td>\n",
       "      <td>182.75</td>\n",
       "    </tr>\n",
       "    <tr>\n",
       "      <th>4</th>\n",
       "      <td>2018-01-07</td>\n",
       "      <td>Giovanni Rudomín Arias</td>\n",
       "      <td>Paulina Contreras Cuevas</td>\n",
       "      <td>Gastroenterología.</td>\n",
       "      <td>Consulta</td>\n",
       "      <td>1125</td>\n",
       "      <td>0.89</td>\n",
       "      <td>0.12</td>\n",
       "      <td>2018-01</td>\n",
       "      <td>2018</td>\n",
       "      <td>01</td>\n",
       "      <td>135.00</td>\n",
       "    </tr>\n",
       "  </tbody>\n",
       "</table>\n",
       "</div>"
      ],
      "text/plain": [
       "       Fecha                    Nombre                    Doctor  \\\n",
       "0 2018-01-01   Bastian Hurtado Cabrero      Simón Castro Infante   \n",
       "1 2018-01-02        Carla Rosas Ávalos      Ismael López Saldaña   \n",
       "2 2018-01-03  Natanael Lazcano Aguilar       Félix Llanos Macías   \n",
       "3 2018-01-04    Judith Hinojosa Torres      Ismael López Saldaña   \n",
       "4 2018-01-07    Giovanni Rudomín Arias  Paulina Contreras Cuevas   \n",
       "\n",
       "         Especialidad      Tipo  Honorarios  Calificación  Comisión FechaMes  \\\n",
       "0         Hematología  Consulta        1025          0.84      0.16  2018-01   \n",
       "1         Hematología  Consulta        1025          0.83      0.11  2018-01   \n",
       "2        Cardiología   Consulta        1075          0.78      0.12  2018-01   \n",
       "3         Hematología  Consulta        1075          0.92      0.17  2018-01   \n",
       "4  Gastroenterología.  Consulta        1125          0.89      0.12  2018-01   \n",
       "\n",
       "    Año Mes  Ingreso  \n",
       "0  2018  01   164.00  \n",
       "1  2018  01   112.75  \n",
       "2  2018  01   129.00  \n",
       "3  2018  01   182.75  \n",
       "4  2018  01   135.00  "
      ]
     },
     "execution_count": 50,
     "metadata": {},
     "output_type": "execute_result"
    }
   ],
   "source": [
    "consultas.head()"
   ]
  },
  {
   "cell_type": "markdown",
   "id": "11981032-ceed-478e-b722-7d4b9a3d7c7c",
   "metadata": {},
   "source": [
    "Crear una función que devuelva un DataFrame con la información de las visitas al hospital cuyo motivo fue un examen médico:"
   ]
  },
  {
   "cell_type": "markdown",
   "id": "6c0d7ff5-5a81-4ba7-a6da-3391f3c0b553",
   "metadata": {},
   "source": [
    "![Resuelto](../Img_24_Ejercicios/Act20Img2.png)"
   ]
  },
  {
   "cell_type": "code",
   "execution_count": 51,
   "id": "a00f6f6b-429e-48eb-b89b-89f4cf376d80",
   "metadata": {},
   "outputs": [],
   "source": [
    "examenes= hospital[hospital[\"Tipo\"]==\"Examen\"]"
   ]
  },
  {
   "cell_type": "code",
   "execution_count": 52,
   "id": "3a49718c-f49e-4c51-844b-50404c1058d5",
   "metadata": {},
   "outputs": [
    {
     "data": {
      "text/html": [
       "<div>\n",
       "<style scoped>\n",
       "    .dataframe tbody tr th:only-of-type {\n",
       "        vertical-align: middle;\n",
       "    }\n",
       "\n",
       "    .dataframe tbody tr th {\n",
       "        vertical-align: top;\n",
       "    }\n",
       "\n",
       "    .dataframe thead th {\n",
       "        text-align: right;\n",
       "    }\n",
       "</style>\n",
       "<table border=\"1\" class=\"dataframe\">\n",
       "  <thead>\n",
       "    <tr style=\"text-align: right;\">\n",
       "      <th></th>\n",
       "      <th>Fecha</th>\n",
       "      <th>Nombre</th>\n",
       "      <th>Doctor</th>\n",
       "      <th>Especialidad</th>\n",
       "      <th>Tipo</th>\n",
       "      <th>Honorarios</th>\n",
       "      <th>Calificación</th>\n",
       "      <th>Comisión</th>\n",
       "      <th>FechaMes</th>\n",
       "      <th>Año</th>\n",
       "      <th>Mes</th>\n",
       "      <th>Ingreso</th>\n",
       "    </tr>\n",
       "  </thead>\n",
       "  <tbody>\n",
       "    <tr>\n",
       "      <th>1953</th>\n",
       "      <td>2018-01-01</td>\n",
       "      <td>Percy Ramón Funes</td>\n",
       "      <td>Paulina Contreras Cuevas</td>\n",
       "      <td>Gastroenterología.</td>\n",
       "      <td>Examen</td>\n",
       "      <td>1400</td>\n",
       "      <td>0.92</td>\n",
       "      <td>0.07</td>\n",
       "      <td>2018-01</td>\n",
       "      <td>2018</td>\n",
       "      <td>01</td>\n",
       "      <td>98.0</td>\n",
       "    </tr>\n",
       "    <tr>\n",
       "      <th>1954</th>\n",
       "      <td>2018-01-02</td>\n",
       "      <td>Pedro Uscanga Núñez</td>\n",
       "      <td>Félix Llanos Macías</td>\n",
       "      <td>Cardiología</td>\n",
       "      <td>Examen</td>\n",
       "      <td>5900</td>\n",
       "      <td>0.71</td>\n",
       "      <td>0.13</td>\n",
       "      <td>2018-01</td>\n",
       "      <td>2018</td>\n",
       "      <td>01</td>\n",
       "      <td>767.0</td>\n",
       "    </tr>\n",
       "    <tr>\n",
       "      <th>1955</th>\n",
       "      <td>2018-01-03</td>\n",
       "      <td>Carla Camacho Nieto</td>\n",
       "      <td>Paulina Contreras Cuevas</td>\n",
       "      <td>Gastroenterología.</td>\n",
       "      <td>Examen</td>\n",
       "      <td>5500</td>\n",
       "      <td>0.96</td>\n",
       "      <td>0.07</td>\n",
       "      <td>2018-01</td>\n",
       "      <td>2018</td>\n",
       "      <td>01</td>\n",
       "      <td>385.0</td>\n",
       "    </tr>\n",
       "    <tr>\n",
       "      <th>1956</th>\n",
       "      <td>2018-01-04</td>\n",
       "      <td>Rafael Verástegui Shor</td>\n",
       "      <td>Félix Llanos Macías</td>\n",
       "      <td>Cardiología</td>\n",
       "      <td>Examen</td>\n",
       "      <td>3100</td>\n",
       "      <td>0.89</td>\n",
       "      <td>0.11</td>\n",
       "      <td>2018-01</td>\n",
       "      <td>2018</td>\n",
       "      <td>01</td>\n",
       "      <td>341.0</td>\n",
       "    </tr>\n",
       "    <tr>\n",
       "      <th>1957</th>\n",
       "      <td>2018-01-04</td>\n",
       "      <td>Aldo Milán Zavaleta</td>\n",
       "      <td>Paulina Contreras Cuevas</td>\n",
       "      <td>Gastroenterología.</td>\n",
       "      <td>Examen</td>\n",
       "      <td>3600</td>\n",
       "      <td>0.74</td>\n",
       "      <td>0.12</td>\n",
       "      <td>2018-01</td>\n",
       "      <td>2018</td>\n",
       "      <td>01</td>\n",
       "      <td>432.0</td>\n",
       "    </tr>\n",
       "  </tbody>\n",
       "</table>\n",
       "</div>"
      ],
      "text/plain": [
       "          Fecha                  Nombre                    Doctor  \\\n",
       "1953 2018-01-01       Percy Ramón Funes  Paulina Contreras Cuevas   \n",
       "1954 2018-01-02     Pedro Uscanga Núñez       Félix Llanos Macías   \n",
       "1955 2018-01-03     Carla Camacho Nieto  Paulina Contreras Cuevas   \n",
       "1956 2018-01-04  Rafael Verástegui Shor       Félix Llanos Macías   \n",
       "1957 2018-01-04     Aldo Milán Zavaleta  Paulina Contreras Cuevas   \n",
       "\n",
       "            Especialidad    Tipo  Honorarios  Calificación  Comisión FechaMes  \\\n",
       "1953  Gastroenterología.  Examen        1400          0.92      0.07  2018-01   \n",
       "1954        Cardiología   Examen        5900          0.71      0.13  2018-01   \n",
       "1955  Gastroenterología.  Examen        5500          0.96      0.07  2018-01   \n",
       "1956        Cardiología   Examen        3100          0.89      0.11  2018-01   \n",
       "1957  Gastroenterología.  Examen        3600          0.74      0.12  2018-01   \n",
       "\n",
       "       Año Mes  Ingreso  \n",
       "1953  2018  01     98.0  \n",
       "1954  2018  01    767.0  \n",
       "1955  2018  01    385.0  \n",
       "1956  2018  01    341.0  \n",
       "1957  2018  01    432.0  "
      ]
     },
     "execution_count": 52,
     "metadata": {},
     "output_type": "execute_result"
    }
   ],
   "source": [
    "examenes.head()"
   ]
  },
  {
   "cell_type": "markdown",
   "id": "67fd4269-0754-4a99-bd81-633bff77a808",
   "metadata": {},
   "source": [
    "![Resuelto](../Img_24_Ejercicios/Act20Img4.png)"
   ]
  },
  {
   "cell_type": "markdown",
   "id": "465018d3-e459-4043-9c1b-e51c3123d8d7",
   "metadata": {},
   "source": [
    "__Conclusión:__ las consultas médicas son las que menos ingresos reportan al hospital"
   ]
  },
  {
   "cell_type": "markdown",
   "id": "9ad82654-a17a-4e34-8fcd-4a8bb4e84cd7",
   "metadata": {},
   "source": [
    "## Ejercicio 21\n",
    "Crear una función que devuelva un DataFrame con la información de las visitas médicas que no fueron por una operación, el resultado debe ser el siguiente:"
   ]
  },
  {
   "cell_type": "markdown",
   "id": "b8c08e63-3a4e-490e-af28-53acd968ca63",
   "metadata": {},
   "source": [
    "![Resuelto](../Img_24_Ejercicios/Act21Img1.png)"
   ]
  },
  {
   "cell_type": "code",
   "execution_count": 53,
   "id": "d8a09a5b-bd79-46cd-8c37-ced1786ab9de",
   "metadata": {},
   "outputs": [],
   "source": [
    "c_y_e =  hospital[hospital[\"Tipo\"]!=\"Operación\"]"
   ]
  },
  {
   "cell_type": "code",
   "execution_count": 54,
   "id": "bcae284a-3a7b-427d-8005-8355c7c8eeb5",
   "metadata": {},
   "outputs": [
    {
     "data": {
      "text/html": [
       "<div>\n",
       "<style scoped>\n",
       "    .dataframe tbody tr th:only-of-type {\n",
       "        vertical-align: middle;\n",
       "    }\n",
       "\n",
       "    .dataframe tbody tr th {\n",
       "        vertical-align: top;\n",
       "    }\n",
       "\n",
       "    .dataframe thead th {\n",
       "        text-align: right;\n",
       "    }\n",
       "</style>\n",
       "<table border=\"1\" class=\"dataframe\">\n",
       "  <thead>\n",
       "    <tr style=\"text-align: right;\">\n",
       "      <th></th>\n",
       "      <th>Fecha</th>\n",
       "      <th>Nombre</th>\n",
       "      <th>Doctor</th>\n",
       "      <th>Especialidad</th>\n",
       "      <th>Tipo</th>\n",
       "      <th>Honorarios</th>\n",
       "      <th>Calificación</th>\n",
       "      <th>Comisión</th>\n",
       "      <th>FechaMes</th>\n",
       "      <th>Año</th>\n",
       "      <th>Mes</th>\n",
       "      <th>Ingreso</th>\n",
       "    </tr>\n",
       "  </thead>\n",
       "  <tbody>\n",
       "    <tr>\n",
       "      <th>0</th>\n",
       "      <td>2018-01-01</td>\n",
       "      <td>Bastian Hurtado Cabrero</td>\n",
       "      <td>Simón Castro Infante</td>\n",
       "      <td>Hematología</td>\n",
       "      <td>Consulta</td>\n",
       "      <td>1025</td>\n",
       "      <td>0.84</td>\n",
       "      <td>0.16</td>\n",
       "      <td>2018-01</td>\n",
       "      <td>2018</td>\n",
       "      <td>01</td>\n",
       "      <td>164.00</td>\n",
       "    </tr>\n",
       "    <tr>\n",
       "      <th>1</th>\n",
       "      <td>2018-01-02</td>\n",
       "      <td>Carla Rosas Ávalos</td>\n",
       "      <td>Ismael López Saldaña</td>\n",
       "      <td>Hematología</td>\n",
       "      <td>Consulta</td>\n",
       "      <td>1025</td>\n",
       "      <td>0.83</td>\n",
       "      <td>0.11</td>\n",
       "      <td>2018-01</td>\n",
       "      <td>2018</td>\n",
       "      <td>01</td>\n",
       "      <td>112.75</td>\n",
       "    </tr>\n",
       "    <tr>\n",
       "      <th>2</th>\n",
       "      <td>2018-01-03</td>\n",
       "      <td>Natanael Lazcano Aguilar</td>\n",
       "      <td>Félix Llanos Macías</td>\n",
       "      <td>Cardiología</td>\n",
       "      <td>Consulta</td>\n",
       "      <td>1075</td>\n",
       "      <td>0.78</td>\n",
       "      <td>0.12</td>\n",
       "      <td>2018-01</td>\n",
       "      <td>2018</td>\n",
       "      <td>01</td>\n",
       "      <td>129.00</td>\n",
       "    </tr>\n",
       "    <tr>\n",
       "      <th>3</th>\n",
       "      <td>2018-01-04</td>\n",
       "      <td>Judith Hinojosa Torres</td>\n",
       "      <td>Ismael López Saldaña</td>\n",
       "      <td>Hematología</td>\n",
       "      <td>Consulta</td>\n",
       "      <td>1075</td>\n",
       "      <td>0.92</td>\n",
       "      <td>0.17</td>\n",
       "      <td>2018-01</td>\n",
       "      <td>2018</td>\n",
       "      <td>01</td>\n",
       "      <td>182.75</td>\n",
       "    </tr>\n",
       "    <tr>\n",
       "      <th>4</th>\n",
       "      <td>2018-01-07</td>\n",
       "      <td>Giovanni Rudomín Arias</td>\n",
       "      <td>Paulina Contreras Cuevas</td>\n",
       "      <td>Gastroenterología.</td>\n",
       "      <td>Consulta</td>\n",
       "      <td>1125</td>\n",
       "      <td>0.89</td>\n",
       "      <td>0.12</td>\n",
       "      <td>2018-01</td>\n",
       "      <td>2018</td>\n",
       "      <td>01</td>\n",
       "      <td>135.00</td>\n",
       "    </tr>\n",
       "  </tbody>\n",
       "</table>\n",
       "</div>"
      ],
      "text/plain": [
       "       Fecha                    Nombre                    Doctor  \\\n",
       "0 2018-01-01   Bastian Hurtado Cabrero      Simón Castro Infante   \n",
       "1 2018-01-02        Carla Rosas Ávalos      Ismael López Saldaña   \n",
       "2 2018-01-03  Natanael Lazcano Aguilar       Félix Llanos Macías   \n",
       "3 2018-01-04    Judith Hinojosa Torres      Ismael López Saldaña   \n",
       "4 2018-01-07    Giovanni Rudomín Arias  Paulina Contreras Cuevas   \n",
       "\n",
       "         Especialidad      Tipo  Honorarios  Calificación  Comisión FechaMes  \\\n",
       "0         Hematología  Consulta        1025          0.84      0.16  2018-01   \n",
       "1         Hematología  Consulta        1025          0.83      0.11  2018-01   \n",
       "2        Cardiología   Consulta        1075          0.78      0.12  2018-01   \n",
       "3         Hematología  Consulta        1075          0.92      0.17  2018-01   \n",
       "4  Gastroenterología.  Consulta        1125          0.89      0.12  2018-01   \n",
       "\n",
       "    Año Mes  Ingreso  \n",
       "0  2018  01   164.00  \n",
       "1  2018  01   112.75  \n",
       "2  2018  01   129.00  \n",
       "3  2018  01   182.75  \n",
       "4  2018  01   135.00  "
      ]
     },
     "execution_count": 54,
     "metadata": {},
     "output_type": "execute_result"
    }
   ],
   "source": [
    "c_y_e.head()"
   ]
  },
  {
   "cell_type": "markdown",
   "id": "5ac79940-ebb5-4dba-a62d-a6738f271739",
   "metadata": {},
   "source": [
    "Utilizando el DataFrame anterior crear una función que devuelva el ingreso promedio de todas las visitas al hospital cuyo motivo no fue una operación:"
   ]
  },
  {
   "cell_type": "code",
   "execution_count": 55,
   "id": "85bdad2c-52a3-49f2-9e41-8126f78f6833",
   "metadata": {},
   "outputs": [],
   "source": [
    "ingreso_promedio = c_y_e[\"Ingreso\"].mean()"
   ]
  },
  {
   "cell_type": "code",
   "execution_count": 56,
   "id": "de6f2ba9-ffae-4162-b97d-6c7e482b216b",
   "metadata": {},
   "outputs": [
    {
     "data": {
      "text/plain": [
       "237.59027097616715"
      ]
     },
     "execution_count": 56,
     "metadata": {},
     "output_type": "execute_result"
    }
   ],
   "source": [
    "ingreso_promedio"
   ]
  },
  {
   "cell_type": "markdown",
   "id": "74c211dc-05ec-4c5c-af3f-ed688a115a48",
   "metadata": {},
   "source": [
    "Crear una función que devuelva un DataFrame con la diferencia de los ingresos de cada visita con el promedio general, por ejemplo, si se tuvo 200 pesos de ingresos en una consulta, pero el promedio es 150, la diferencia será 50, el resultado debe ser el siguiente: "
   ]
  },
  {
   "cell_type": "markdown",
   "id": "1b3f99f7-a3a7-4604-a3f7-9850d634a6a1",
   "metadata": {},
   "source": [
    "![Resuelto](../Img_24_Ejercicios/Act21Img2.png)"
   ]
  },
  {
   "cell_type": "code",
   "execution_count": 57,
   "id": "57f7ceff-6408-47a7-ac68-fed7324c047c",
   "metadata": {},
   "outputs": [
    {
     "name": "stderr",
     "output_type": "stream",
     "text": [
      "C:\\Users\\usuario\\AppData\\Local\\Temp\\ipykernel_11884\\4254615344.py:1: SettingWithCopyWarning: \n",
      "A value is trying to be set on a copy of a slice from a DataFrame.\n",
      "Try using .loc[row_indexer,col_indexer] = value instead\n",
      "\n",
      "See the caveats in the documentation: https://pandas.pydata.org/pandas-docs/stable/user_guide/indexing.html#returning-a-view-versus-a-copy\n",
      "  c_y_e.loc[:,\"Diferencia\"]= c_y_e.Ingreso-ingreso_promedio\n"
     ]
    }
   ],
   "source": [
    "c_y_e.loc[:,\"Diferencia\"]= c_y_e.Ingreso-ingreso_promedio"
   ]
  },
  {
   "cell_type": "code",
   "execution_count": 58,
   "id": "5b844c9b-7a1d-4c64-95bc-f7f655df5395",
   "metadata": {},
   "outputs": [
    {
     "data": {
      "text/html": [
       "<div>\n",
       "<style scoped>\n",
       "    .dataframe tbody tr th:only-of-type {\n",
       "        vertical-align: middle;\n",
       "    }\n",
       "\n",
       "    .dataframe tbody tr th {\n",
       "        vertical-align: top;\n",
       "    }\n",
       "\n",
       "    .dataframe thead th {\n",
       "        text-align: right;\n",
       "    }\n",
       "</style>\n",
       "<table border=\"1\" class=\"dataframe\">\n",
       "  <thead>\n",
       "    <tr style=\"text-align: right;\">\n",
       "      <th></th>\n",
       "      <th>Fecha</th>\n",
       "      <th>Nombre</th>\n",
       "      <th>Doctor</th>\n",
       "      <th>Especialidad</th>\n",
       "      <th>Tipo</th>\n",
       "      <th>Honorarios</th>\n",
       "      <th>Calificación</th>\n",
       "      <th>Comisión</th>\n",
       "      <th>FechaMes</th>\n",
       "      <th>Año</th>\n",
       "      <th>Mes</th>\n",
       "      <th>Ingreso</th>\n",
       "      <th>Diferencia</th>\n",
       "    </tr>\n",
       "  </thead>\n",
       "  <tbody>\n",
       "    <tr>\n",
       "      <th>0</th>\n",
       "      <td>2018-01-01</td>\n",
       "      <td>Bastian Hurtado Cabrero</td>\n",
       "      <td>Simón Castro Infante</td>\n",
       "      <td>Hematología</td>\n",
       "      <td>Consulta</td>\n",
       "      <td>1025</td>\n",
       "      <td>0.84</td>\n",
       "      <td>0.16</td>\n",
       "      <td>2018-01</td>\n",
       "      <td>2018</td>\n",
       "      <td>01</td>\n",
       "      <td>164.00</td>\n",
       "      <td>-73.590271</td>\n",
       "    </tr>\n",
       "    <tr>\n",
       "      <th>1</th>\n",
       "      <td>2018-01-02</td>\n",
       "      <td>Carla Rosas Ávalos</td>\n",
       "      <td>Ismael López Saldaña</td>\n",
       "      <td>Hematología</td>\n",
       "      <td>Consulta</td>\n",
       "      <td>1025</td>\n",
       "      <td>0.83</td>\n",
       "      <td>0.11</td>\n",
       "      <td>2018-01</td>\n",
       "      <td>2018</td>\n",
       "      <td>01</td>\n",
       "      <td>112.75</td>\n",
       "      <td>-124.840271</td>\n",
       "    </tr>\n",
       "    <tr>\n",
       "      <th>2</th>\n",
       "      <td>2018-01-03</td>\n",
       "      <td>Natanael Lazcano Aguilar</td>\n",
       "      <td>Félix Llanos Macías</td>\n",
       "      <td>Cardiología</td>\n",
       "      <td>Consulta</td>\n",
       "      <td>1075</td>\n",
       "      <td>0.78</td>\n",
       "      <td>0.12</td>\n",
       "      <td>2018-01</td>\n",
       "      <td>2018</td>\n",
       "      <td>01</td>\n",
       "      <td>129.00</td>\n",
       "      <td>-108.590271</td>\n",
       "    </tr>\n",
       "    <tr>\n",
       "      <th>3</th>\n",
       "      <td>2018-01-04</td>\n",
       "      <td>Judith Hinojosa Torres</td>\n",
       "      <td>Ismael López Saldaña</td>\n",
       "      <td>Hematología</td>\n",
       "      <td>Consulta</td>\n",
       "      <td>1075</td>\n",
       "      <td>0.92</td>\n",
       "      <td>0.17</td>\n",
       "      <td>2018-01</td>\n",
       "      <td>2018</td>\n",
       "      <td>01</td>\n",
       "      <td>182.75</td>\n",
       "      <td>-54.840271</td>\n",
       "    </tr>\n",
       "    <tr>\n",
       "      <th>4</th>\n",
       "      <td>2018-01-07</td>\n",
       "      <td>Giovanni Rudomín Arias</td>\n",
       "      <td>Paulina Contreras Cuevas</td>\n",
       "      <td>Gastroenterología.</td>\n",
       "      <td>Consulta</td>\n",
       "      <td>1125</td>\n",
       "      <td>0.89</td>\n",
       "      <td>0.12</td>\n",
       "      <td>2018-01</td>\n",
       "      <td>2018</td>\n",
       "      <td>01</td>\n",
       "      <td>135.00</td>\n",
       "      <td>-102.590271</td>\n",
       "    </tr>\n",
       "  </tbody>\n",
       "</table>\n",
       "</div>"
      ],
      "text/plain": [
       "       Fecha                    Nombre                    Doctor  \\\n",
       "0 2018-01-01   Bastian Hurtado Cabrero      Simón Castro Infante   \n",
       "1 2018-01-02        Carla Rosas Ávalos      Ismael López Saldaña   \n",
       "2 2018-01-03  Natanael Lazcano Aguilar       Félix Llanos Macías   \n",
       "3 2018-01-04    Judith Hinojosa Torres      Ismael López Saldaña   \n",
       "4 2018-01-07    Giovanni Rudomín Arias  Paulina Contreras Cuevas   \n",
       "\n",
       "         Especialidad      Tipo  Honorarios  Calificación  Comisión FechaMes  \\\n",
       "0         Hematología  Consulta        1025          0.84      0.16  2018-01   \n",
       "1         Hematología  Consulta        1025          0.83      0.11  2018-01   \n",
       "2        Cardiología   Consulta        1075          0.78      0.12  2018-01   \n",
       "3         Hematología  Consulta        1075          0.92      0.17  2018-01   \n",
       "4  Gastroenterología.  Consulta        1125          0.89      0.12  2018-01   \n",
       "\n",
       "    Año Mes  Ingreso  Diferencia  \n",
       "0  2018  01   164.00  -73.590271  \n",
       "1  2018  01   112.75 -124.840271  \n",
       "2  2018  01   129.00 -108.590271  \n",
       "3  2018  01   182.75  -54.840271  \n",
       "4  2018  01   135.00 -102.590271  "
      ]
     },
     "execution_count": 58,
     "metadata": {},
     "output_type": "execute_result"
    }
   ],
   "source": [
    "c_y_e.head()"
   ]
  },
  {
   "cell_type": "markdown",
   "id": "ad61cd54-c825-45ac-a3e8-85a779ac195b",
   "metadata": {},
   "source": [
    "Crear una función utilizando pivot table que devuelva un DataFrame con la diferencia promedio del ingreso en cada año y en cada tipo de visita, el resultado debe ser el siguiente:"
   ]
  },
  {
   "cell_type": "markdown",
   "id": "a546e82f-d867-4971-97a4-38ee994dffaa",
   "metadata": {},
   "source": [
    "![Resuelto](../Img_24_Ejercicios/Act21Img3.png)"
   ]
  },
  {
   "cell_type": "code",
   "execution_count": 59,
   "id": "7c2667b9-09e5-49ab-9b19-f58a9e10bc45",
   "metadata": {},
   "outputs": [],
   "source": [
    "ingresos= pd.pivot_table(c_y_e,\n",
    "                      index=[\"Año\"],\n",
    "                      columns=\"Tipo\",\n",
    "                      fill_value=0,\n",
    "                      values=\"Diferencia\",\n",
    "                      aggfunc='mean')"
   ]
  },
  {
   "cell_type": "code",
   "execution_count": 60,
   "id": "23617794-a62a-417e-b6d7-ee061ef85f60",
   "metadata": {},
   "outputs": [],
   "source": [
    "#ingresos.head()"
   ]
  },
  {
   "cell_type": "markdown",
   "id": "7375f56e-9495-41c6-ba8c-116e9c2b11c3",
   "metadata": {},
   "source": [
    "![Resuelto](../Img_24_Ejercicios/Act21Img4.png)"
   ]
  },
  {
   "cell_type": "markdown",
   "id": "e2b41699-9449-4198-8de3-584933cb0ac3",
   "metadata": {},
   "source": [
    "__Conclusión:__ los ingresos promedio de las consultas siempre son menores al promedio general contando examenes"
   ]
  },
  {
   "cell_type": "markdown",
   "id": "e3b99e93-4119-423f-90d7-637d2ab48254",
   "metadata": {},
   "source": [
    "## Ejercicio 22\n",
    "Utilizando el DataFrame del ejercicio anterior, crear una función que devuelva los datos de las visitas al hospital cuyo motivo fue una consulta médica, el resultado debe ser el siguiente:"
   ]
  },
  {
   "cell_type": "markdown",
   "id": "970e04de-8d7e-4196-ac2f-669f7d95a0a9",
   "metadata": {},
   "source": [
    "![Resuelto](../Img_24_Ejercicios/Act22Img1.png)"
   ]
  },
  {
   "cell_type": "code",
   "execution_count": 61,
   "id": "8c8240cc-9f52-464b-b3e9-f3f67c02c039",
   "metadata": {},
   "outputs": [],
   "source": [
    "consultas= c_y_e[c_y_e[\"Tipo\"]==\"Consulta\"]"
   ]
  },
  {
   "cell_type": "code",
   "execution_count": 62,
   "id": "93299c46-e2fc-4305-8cab-e90b804f716c",
   "metadata": {},
   "outputs": [
    {
     "data": {
      "text/html": [
       "<div>\n",
       "<style scoped>\n",
       "    .dataframe tbody tr th:only-of-type {\n",
       "        vertical-align: middle;\n",
       "    }\n",
       "\n",
       "    .dataframe tbody tr th {\n",
       "        vertical-align: top;\n",
       "    }\n",
       "\n",
       "    .dataframe thead th {\n",
       "        text-align: right;\n",
       "    }\n",
       "</style>\n",
       "<table border=\"1\" class=\"dataframe\">\n",
       "  <thead>\n",
       "    <tr style=\"text-align: right;\">\n",
       "      <th></th>\n",
       "      <th>Fecha</th>\n",
       "      <th>Nombre</th>\n",
       "      <th>Doctor</th>\n",
       "      <th>Especialidad</th>\n",
       "      <th>Tipo</th>\n",
       "      <th>Honorarios</th>\n",
       "      <th>Calificación</th>\n",
       "      <th>Comisión</th>\n",
       "      <th>FechaMes</th>\n",
       "      <th>Año</th>\n",
       "      <th>Mes</th>\n",
       "      <th>Ingreso</th>\n",
       "      <th>Diferencia</th>\n",
       "    </tr>\n",
       "  </thead>\n",
       "  <tbody>\n",
       "    <tr>\n",
       "      <th>0</th>\n",
       "      <td>2018-01-01</td>\n",
       "      <td>Bastian Hurtado Cabrero</td>\n",
       "      <td>Simón Castro Infante</td>\n",
       "      <td>Hematología</td>\n",
       "      <td>Consulta</td>\n",
       "      <td>1025</td>\n",
       "      <td>0.84</td>\n",
       "      <td>0.16</td>\n",
       "      <td>2018-01</td>\n",
       "      <td>2018</td>\n",
       "      <td>01</td>\n",
       "      <td>164.00</td>\n",
       "      <td>-73.590271</td>\n",
       "    </tr>\n",
       "    <tr>\n",
       "      <th>1</th>\n",
       "      <td>2018-01-02</td>\n",
       "      <td>Carla Rosas Ávalos</td>\n",
       "      <td>Ismael López Saldaña</td>\n",
       "      <td>Hematología</td>\n",
       "      <td>Consulta</td>\n",
       "      <td>1025</td>\n",
       "      <td>0.83</td>\n",
       "      <td>0.11</td>\n",
       "      <td>2018-01</td>\n",
       "      <td>2018</td>\n",
       "      <td>01</td>\n",
       "      <td>112.75</td>\n",
       "      <td>-124.840271</td>\n",
       "    </tr>\n",
       "    <tr>\n",
       "      <th>2</th>\n",
       "      <td>2018-01-03</td>\n",
       "      <td>Natanael Lazcano Aguilar</td>\n",
       "      <td>Félix Llanos Macías</td>\n",
       "      <td>Cardiología</td>\n",
       "      <td>Consulta</td>\n",
       "      <td>1075</td>\n",
       "      <td>0.78</td>\n",
       "      <td>0.12</td>\n",
       "      <td>2018-01</td>\n",
       "      <td>2018</td>\n",
       "      <td>01</td>\n",
       "      <td>129.00</td>\n",
       "      <td>-108.590271</td>\n",
       "    </tr>\n",
       "    <tr>\n",
       "      <th>3</th>\n",
       "      <td>2018-01-04</td>\n",
       "      <td>Judith Hinojosa Torres</td>\n",
       "      <td>Ismael López Saldaña</td>\n",
       "      <td>Hematología</td>\n",
       "      <td>Consulta</td>\n",
       "      <td>1075</td>\n",
       "      <td>0.92</td>\n",
       "      <td>0.17</td>\n",
       "      <td>2018-01</td>\n",
       "      <td>2018</td>\n",
       "      <td>01</td>\n",
       "      <td>182.75</td>\n",
       "      <td>-54.840271</td>\n",
       "    </tr>\n",
       "    <tr>\n",
       "      <th>4</th>\n",
       "      <td>2018-01-07</td>\n",
       "      <td>Giovanni Rudomín Arias</td>\n",
       "      <td>Paulina Contreras Cuevas</td>\n",
       "      <td>Gastroenterología.</td>\n",
       "      <td>Consulta</td>\n",
       "      <td>1125</td>\n",
       "      <td>0.89</td>\n",
       "      <td>0.12</td>\n",
       "      <td>2018-01</td>\n",
       "      <td>2018</td>\n",
       "      <td>01</td>\n",
       "      <td>135.00</td>\n",
       "      <td>-102.590271</td>\n",
       "    </tr>\n",
       "  </tbody>\n",
       "</table>\n",
       "</div>"
      ],
      "text/plain": [
       "       Fecha                    Nombre                    Doctor  \\\n",
       "0 2018-01-01   Bastian Hurtado Cabrero      Simón Castro Infante   \n",
       "1 2018-01-02        Carla Rosas Ávalos      Ismael López Saldaña   \n",
       "2 2018-01-03  Natanael Lazcano Aguilar       Félix Llanos Macías   \n",
       "3 2018-01-04    Judith Hinojosa Torres      Ismael López Saldaña   \n",
       "4 2018-01-07    Giovanni Rudomín Arias  Paulina Contreras Cuevas   \n",
       "\n",
       "         Especialidad      Tipo  Honorarios  Calificación  Comisión FechaMes  \\\n",
       "0         Hematología  Consulta        1025          0.84      0.16  2018-01   \n",
       "1         Hematología  Consulta        1025          0.83      0.11  2018-01   \n",
       "2        Cardiología   Consulta        1075          0.78      0.12  2018-01   \n",
       "3         Hematología  Consulta        1075          0.92      0.17  2018-01   \n",
       "4  Gastroenterología.  Consulta        1125          0.89      0.12  2018-01   \n",
       "\n",
       "    Año Mes  Ingreso  Diferencia  \n",
       "0  2018  01   164.00  -73.590271  \n",
       "1  2018  01   112.75 -124.840271  \n",
       "2  2018  01   129.00 -108.590271  \n",
       "3  2018  01   182.75  -54.840271  \n",
       "4  2018  01   135.00 -102.590271  "
      ]
     },
     "execution_count": 62,
     "metadata": {},
     "output_type": "execute_result"
    }
   ],
   "source": [
    "consultas.head()"
   ]
  },
  {
   "cell_type": "markdown",
   "id": "fb09e2c2-a682-43ae-89e8-32296ad7f83a",
   "metadata": {},
   "source": [
    "Utilizando el DataFrame del ejercicio anterior, crear una función que devuelva los datos de las visitas al hospital cuyo motivo fue un examen médico, el resultado debe ser el siguiente:"
   ]
  },
  {
   "cell_type": "markdown",
   "id": "9cca3981-d936-4c44-8328-99ffc2a087da",
   "metadata": {},
   "source": [
    "![Resuelto](../Img_24_Ejercicios/Act22Img2.png)"
   ]
  },
  {
   "cell_type": "code",
   "execution_count": 63,
   "id": "977f14f1-37f2-4fda-bcd0-041a857e3cfb",
   "metadata": {},
   "outputs": [],
   "source": [
    "examenes= c_y_e[c_y_e[\"Tipo\"]==\"Examen\"]"
   ]
  },
  {
   "cell_type": "code",
   "execution_count": 64,
   "id": "9b16a8a0-3656-4382-b284-bf0f09a82665",
   "metadata": {},
   "outputs": [
    {
     "data": {
      "text/html": [
       "<div>\n",
       "<style scoped>\n",
       "    .dataframe tbody tr th:only-of-type {\n",
       "        vertical-align: middle;\n",
       "    }\n",
       "\n",
       "    .dataframe tbody tr th {\n",
       "        vertical-align: top;\n",
       "    }\n",
       "\n",
       "    .dataframe thead th {\n",
       "        text-align: right;\n",
       "    }\n",
       "</style>\n",
       "<table border=\"1\" class=\"dataframe\">\n",
       "  <thead>\n",
       "    <tr style=\"text-align: right;\">\n",
       "      <th></th>\n",
       "      <th>Fecha</th>\n",
       "      <th>Nombre</th>\n",
       "      <th>Doctor</th>\n",
       "      <th>Especialidad</th>\n",
       "      <th>Tipo</th>\n",
       "      <th>Honorarios</th>\n",
       "      <th>Calificación</th>\n",
       "      <th>Comisión</th>\n",
       "      <th>FechaMes</th>\n",
       "      <th>Año</th>\n",
       "      <th>Mes</th>\n",
       "      <th>Ingreso</th>\n",
       "      <th>Diferencia</th>\n",
       "    </tr>\n",
       "  </thead>\n",
       "  <tbody>\n",
       "    <tr>\n",
       "      <th>1953</th>\n",
       "      <td>2018-01-01</td>\n",
       "      <td>Percy Ramón Funes</td>\n",
       "      <td>Paulina Contreras Cuevas</td>\n",
       "      <td>Gastroenterología.</td>\n",
       "      <td>Examen</td>\n",
       "      <td>1400</td>\n",
       "      <td>0.92</td>\n",
       "      <td>0.07</td>\n",
       "      <td>2018-01</td>\n",
       "      <td>2018</td>\n",
       "      <td>01</td>\n",
       "      <td>98.0</td>\n",
       "      <td>-139.590271</td>\n",
       "    </tr>\n",
       "    <tr>\n",
       "      <th>1954</th>\n",
       "      <td>2018-01-02</td>\n",
       "      <td>Pedro Uscanga Núñez</td>\n",
       "      <td>Félix Llanos Macías</td>\n",
       "      <td>Cardiología</td>\n",
       "      <td>Examen</td>\n",
       "      <td>5900</td>\n",
       "      <td>0.71</td>\n",
       "      <td>0.13</td>\n",
       "      <td>2018-01</td>\n",
       "      <td>2018</td>\n",
       "      <td>01</td>\n",
       "      <td>767.0</td>\n",
       "      <td>529.409729</td>\n",
       "    </tr>\n",
       "    <tr>\n",
       "      <th>1955</th>\n",
       "      <td>2018-01-03</td>\n",
       "      <td>Carla Camacho Nieto</td>\n",
       "      <td>Paulina Contreras Cuevas</td>\n",
       "      <td>Gastroenterología.</td>\n",
       "      <td>Examen</td>\n",
       "      <td>5500</td>\n",
       "      <td>0.96</td>\n",
       "      <td>0.07</td>\n",
       "      <td>2018-01</td>\n",
       "      <td>2018</td>\n",
       "      <td>01</td>\n",
       "      <td>385.0</td>\n",
       "      <td>147.409729</td>\n",
       "    </tr>\n",
       "    <tr>\n",
       "      <th>1956</th>\n",
       "      <td>2018-01-04</td>\n",
       "      <td>Rafael Verástegui Shor</td>\n",
       "      <td>Félix Llanos Macías</td>\n",
       "      <td>Cardiología</td>\n",
       "      <td>Examen</td>\n",
       "      <td>3100</td>\n",
       "      <td>0.89</td>\n",
       "      <td>0.11</td>\n",
       "      <td>2018-01</td>\n",
       "      <td>2018</td>\n",
       "      <td>01</td>\n",
       "      <td>341.0</td>\n",
       "      <td>103.409729</td>\n",
       "    </tr>\n",
       "    <tr>\n",
       "      <th>1957</th>\n",
       "      <td>2018-01-04</td>\n",
       "      <td>Aldo Milán Zavaleta</td>\n",
       "      <td>Paulina Contreras Cuevas</td>\n",
       "      <td>Gastroenterología.</td>\n",
       "      <td>Examen</td>\n",
       "      <td>3600</td>\n",
       "      <td>0.74</td>\n",
       "      <td>0.12</td>\n",
       "      <td>2018-01</td>\n",
       "      <td>2018</td>\n",
       "      <td>01</td>\n",
       "      <td>432.0</td>\n",
       "      <td>194.409729</td>\n",
       "    </tr>\n",
       "  </tbody>\n",
       "</table>\n",
       "</div>"
      ],
      "text/plain": [
       "          Fecha                  Nombre                    Doctor  \\\n",
       "1953 2018-01-01       Percy Ramón Funes  Paulina Contreras Cuevas   \n",
       "1954 2018-01-02     Pedro Uscanga Núñez       Félix Llanos Macías   \n",
       "1955 2018-01-03     Carla Camacho Nieto  Paulina Contreras Cuevas   \n",
       "1956 2018-01-04  Rafael Verástegui Shor       Félix Llanos Macías   \n",
       "1957 2018-01-04     Aldo Milán Zavaleta  Paulina Contreras Cuevas   \n",
       "\n",
       "            Especialidad    Tipo  Honorarios  Calificación  Comisión FechaMes  \\\n",
       "1953  Gastroenterología.  Examen        1400          0.92      0.07  2018-01   \n",
       "1954        Cardiología   Examen        5900          0.71      0.13  2018-01   \n",
       "1955  Gastroenterología.  Examen        5500          0.96      0.07  2018-01   \n",
       "1956        Cardiología   Examen        3100          0.89      0.11  2018-01   \n",
       "1957  Gastroenterología.  Examen        3600          0.74      0.12  2018-01   \n",
       "\n",
       "       Año Mes  Ingreso  Diferencia  \n",
       "1953  2018  01     98.0 -139.590271  \n",
       "1954  2018  01    767.0  529.409729  \n",
       "1955  2018  01    385.0  147.409729  \n",
       "1956  2018  01    341.0  103.409729  \n",
       "1957  2018  01    432.0  194.409729  "
      ]
     },
     "execution_count": 64,
     "metadata": {},
     "output_type": "execute_result"
    }
   ],
   "source": [
    "examenes.head()"
   ]
  },
  {
   "cell_type": "markdown",
   "id": "0926b79a-6b69-42e0-a519-9090be25e5e7",
   "metadata": {},
   "source": [
    "![Resuelto](../Img_24_Ejercicios/Act22Img5.png)"
   ]
  },
  {
   "cell_type": "markdown",
   "id": "337d71c7-2858-441a-beb0-52eb4289a5f0",
   "metadata": {},
   "source": [
    "__Conclusión:__ la mayoría de las consultas médicas reportan un ingreso menor al promedio general  "
   ]
  },
  {
   "cell_type": "markdown",
   "id": "bb3cb749-0836-4661-b795-88b70cc4df2e",
   "metadata": {},
   "source": [
    "## Ejercicio 23\n",
    "Crear una función utilizando groupby que devuelva un DataFrame con los indices de las visitas médicas que más honorarios pagaron en cada año, el resultado debe ser el siguiente:"
   ]
  },
  {
   "cell_type": "markdown",
   "id": "c4332710-72ac-400b-871c-8f2b34059896",
   "metadata": {},
   "source": [
    "![Resuelto](../Img_24_Ejercicios/Act23Img1.png)"
   ]
  },
  {
   "cell_type": "code",
   "execution_count": 65,
   "id": "807521e7-0cdd-4847-80d5-14710270082c",
   "metadata": {},
   "outputs": [],
   "source": [
    "max_honorario=hospital.groupby(by=[\"Año\"],as_index=False).agg({\"Honorarios\":\"idxmax\"})"
   ]
  },
  {
   "cell_type": "code",
   "execution_count": 66,
   "id": "902ec0bf-5505-47fa-b92a-d2e7fd210a24",
   "metadata": {},
   "outputs": [
    {
     "data": {
      "text/html": [
       "<div>\n",
       "<style scoped>\n",
       "    .dataframe tbody tr th:only-of-type {\n",
       "        vertical-align: middle;\n",
       "    }\n",
       "\n",
       "    .dataframe tbody tr th {\n",
       "        vertical-align: top;\n",
       "    }\n",
       "\n",
       "    .dataframe thead th {\n",
       "        text-align: right;\n",
       "    }\n",
       "</style>\n",
       "<table border=\"1\" class=\"dataframe\">\n",
       "  <thead>\n",
       "    <tr style=\"text-align: right;\">\n",
       "      <th></th>\n",
       "      <th>Año</th>\n",
       "      <th>Honorarios</th>\n",
       "    </tr>\n",
       "  </thead>\n",
       "  <tbody>\n",
       "    <tr>\n",
       "      <th>0</th>\n",
       "      <td>2018</td>\n",
       "      <td>3088</td>\n",
       "    </tr>\n",
       "    <tr>\n",
       "      <th>1</th>\n",
       "      <td>2019</td>\n",
       "      <td>3254</td>\n",
       "    </tr>\n",
       "    <tr>\n",
       "      <th>2</th>\n",
       "      <td>2020</td>\n",
       "      <td>3332</td>\n",
       "    </tr>\n",
       "    <tr>\n",
       "      <th>3</th>\n",
       "      <td>2021</td>\n",
       "      <td>3554</td>\n",
       "    </tr>\n",
       "  </tbody>\n",
       "</table>\n",
       "</div>"
      ],
      "text/plain": [
       "    Año  Honorarios\n",
       "0  2018        3088\n",
       "1  2019        3254\n",
       "2  2020        3332\n",
       "3  2021        3554"
      ]
     },
     "execution_count": 66,
     "metadata": {},
     "output_type": "execute_result"
    }
   ],
   "source": [
    "max_honorario.head()"
   ]
  },
  {
   "cell_type": "markdown",
   "id": "3ceae77c-6e01-4a6d-9fde-532275af6f38",
   "metadata": {},
   "source": [
    "Crear una función utilizando iloc que nos devuelva los datos de las visitas médicas que pagaron los honorarios más altos en cada año, el resultado debe ser el siguiente:"
   ]
  },
  {
   "cell_type": "markdown",
   "id": "f70c6e04-9f19-4729-b645-db0fd9fa7755",
   "metadata": {},
   "source": [
    "![Resuelto](../Img_24_Ejercicios/Act23Img2.png)"
   ]
  },
  {
   "cell_type": "code",
   "execution_count": 67,
   "id": "dd1cce65-287a-4a70-9204-5f5a97ed7dda",
   "metadata": {},
   "outputs": [],
   "source": [
    "max_honorario=hospital.iloc[max_honorario[\"Honorarios\"]]"
   ]
  },
  {
   "cell_type": "code",
   "execution_count": 68,
   "id": "369afdf7-767f-4be1-8ce3-b806855233b5",
   "metadata": {},
   "outputs": [
    {
     "data": {
      "text/html": [
       "<div>\n",
       "<style scoped>\n",
       "    .dataframe tbody tr th:only-of-type {\n",
       "        vertical-align: middle;\n",
       "    }\n",
       "\n",
       "    .dataframe tbody tr th {\n",
       "        vertical-align: top;\n",
       "    }\n",
       "\n",
       "    .dataframe thead th {\n",
       "        text-align: right;\n",
       "    }\n",
       "</style>\n",
       "<table border=\"1\" class=\"dataframe\">\n",
       "  <thead>\n",
       "    <tr style=\"text-align: right;\">\n",
       "      <th></th>\n",
       "      <th>Fecha</th>\n",
       "      <th>Nombre</th>\n",
       "      <th>Doctor</th>\n",
       "      <th>Especialidad</th>\n",
       "      <th>Tipo</th>\n",
       "      <th>Honorarios</th>\n",
       "      <th>Calificación</th>\n",
       "      <th>Comisión</th>\n",
       "      <th>FechaMes</th>\n",
       "      <th>Año</th>\n",
       "      <th>Mes</th>\n",
       "      <th>Ingreso</th>\n",
       "    </tr>\n",
       "  </thead>\n",
       "  <tbody>\n",
       "    <tr>\n",
       "      <th>3088</th>\n",
       "      <td>2018-03-16</td>\n",
       "      <td>Favio Revuelta Borundo</td>\n",
       "      <td>Isabella Roldán Velásquez</td>\n",
       "      <td>Dermatología</td>\n",
       "      <td>Operación</td>\n",
       "      <td>49000</td>\n",
       "      <td>0.82</td>\n",
       "      <td>0.09</td>\n",
       "      <td>2018-03</td>\n",
       "      <td>2018</td>\n",
       "      <td>03</td>\n",
       "      <td>4410.0</td>\n",
       "    </tr>\n",
       "    <tr>\n",
       "      <th>3254</th>\n",
       "      <td>2019-06-11</td>\n",
       "      <td>Mauricio Núñez Biagi</td>\n",
       "      <td>Lucía Flores Muñoz</td>\n",
       "      <td>Dermatología</td>\n",
       "      <td>Operación</td>\n",
       "      <td>50000</td>\n",
       "      <td>0.77</td>\n",
       "      <td>0.07</td>\n",
       "      <td>2019-06</td>\n",
       "      <td>2019</td>\n",
       "      <td>06</td>\n",
       "      <td>3500.0</td>\n",
       "    </tr>\n",
       "    <tr>\n",
       "      <th>3332</th>\n",
       "      <td>2020-01-17</td>\n",
       "      <td>Amelia Castañeda Ocampo</td>\n",
       "      <td>Ismael López Saldaña</td>\n",
       "      <td>Hematología</td>\n",
       "      <td>Operación</td>\n",
       "      <td>50000</td>\n",
       "      <td>0.95</td>\n",
       "      <td>0.06</td>\n",
       "      <td>2020-01</td>\n",
       "      <td>2020</td>\n",
       "      <td>01</td>\n",
       "      <td>3000.0</td>\n",
       "    </tr>\n",
       "    <tr>\n",
       "      <th>3554</th>\n",
       "      <td>2021-07-16</td>\n",
       "      <td>Alejandra Blanchet Villalobos</td>\n",
       "      <td>Iván Ramos Robles</td>\n",
       "      <td>Nefrología</td>\n",
       "      <td>Operación</td>\n",
       "      <td>50000</td>\n",
       "      <td>0.79</td>\n",
       "      <td>0.10</td>\n",
       "      <td>2021-07</td>\n",
       "      <td>2021</td>\n",
       "      <td>07</td>\n",
       "      <td>5000.0</td>\n",
       "    </tr>\n",
       "  </tbody>\n",
       "</table>\n",
       "</div>"
      ],
      "text/plain": [
       "          Fecha                         Nombre                     Doctor  \\\n",
       "3088 2018-03-16         Favio Revuelta Borundo  Isabella Roldán Velásquez   \n",
       "3254 2019-06-11           Mauricio Núñez Biagi         Lucía Flores Muñoz   \n",
       "3332 2020-01-17        Amelia Castañeda Ocampo       Ismael López Saldaña   \n",
       "3554 2021-07-16  Alejandra Blanchet Villalobos          Iván Ramos Robles   \n",
       "\n",
       "      Especialidad       Tipo  Honorarios  Calificación  Comisión FechaMes  \\\n",
       "3088  Dermatología  Operación       49000          0.82      0.09  2018-03   \n",
       "3254  Dermatología  Operación       50000          0.77      0.07  2019-06   \n",
       "3332   Hematología  Operación       50000          0.95      0.06  2020-01   \n",
       "3554    Nefrología  Operación       50000          0.79      0.10  2021-07   \n",
       "\n",
       "       Año Mes  Ingreso  \n",
       "3088  2018  03   4410.0  \n",
       "3254  2019  06   3500.0  \n",
       "3332  2020  01   3000.0  \n",
       "3554  2021  07   5000.0  "
      ]
     },
     "execution_count": 68,
     "metadata": {},
     "output_type": "execute_result"
    }
   ],
   "source": [
    "max_honorario.head()"
   ]
  },
  {
   "cell_type": "markdown",
   "id": "94c181e3-63a8-4a23-b85c-3544998a3b74",
   "metadata": {},
   "source": [
    "![Resuelto](../Img_24_Ejercicios/Act23Img3.png)"
   ]
  },
  {
   "cell_type": "markdown",
   "id": "6a456e6a-b4a3-4a7c-94c2-b17d21d6c6d0",
   "metadata": {},
   "source": [
    "__Conclusión:__ el honorario más alto en las operaciones normalmente es de 50,000 pesos"
   ]
  },
  {
   "cell_type": "markdown",
   "id": "3038027c-a3dd-440e-a1d7-19a72da90876",
   "metadata": {},
   "source": [
    "## Ejercicio 24:\n",
    "Utilizando el DataFrame anterior, crear una función que agregue una columna formada por la unión del año y la especialidad del médico, el resultado debe ser el siguiente:"
   ]
  },
  {
   "cell_type": "markdown",
   "id": "878ed67d-6edc-42c4-8697-420d880401a1",
   "metadata": {},
   "source": [
    "![Resuelto](../Img_24_Ejercicios/Act24Img1.png)"
   ]
  },
  {
   "cell_type": "code",
   "execution_count": 69,
   "id": "3eecc43a-3820-4fb0-9e20-eaadfe1b8cda",
   "metadata": {},
   "outputs": [
    {
     "name": "stderr",
     "output_type": "stream",
     "text": [
      "C:\\Users\\usuario\\AppData\\Local\\Temp\\ipykernel_11884\\1648617892.py:1: SettingWithCopyWarning: \n",
      "A value is trying to be set on a copy of a slice from a DataFrame.\n",
      "Try using .loc[row_indexer,col_indexer] = value instead\n",
      "\n",
      "See the caveats in the documentation: https://pandas.pydata.org/pandas-docs/stable/user_guide/indexing.html#returning-a-view-versus-a-copy\n",
      "  max_honorario.loc[:,\"id\"]=max_honorario.loc[:,\"Año\"].map(str)+\"-\"+max_honorario[\"Especialidad\"]\n"
     ]
    }
   ],
   "source": [
    "max_honorario.loc[:,\"id\"]=max_honorario.loc[:,\"Año\"].map(str)+\"-\"+max_honorario[\"Especialidad\"]"
   ]
  },
  {
   "cell_type": "code",
   "execution_count": 70,
   "id": "4a533311-f39f-4012-8b6f-1fbb283e6ac6",
   "metadata": {},
   "outputs": [
    {
     "data": {
      "text/html": [
       "<div>\n",
       "<style scoped>\n",
       "    .dataframe tbody tr th:only-of-type {\n",
       "        vertical-align: middle;\n",
       "    }\n",
       "\n",
       "    .dataframe tbody tr th {\n",
       "        vertical-align: top;\n",
       "    }\n",
       "\n",
       "    .dataframe thead th {\n",
       "        text-align: right;\n",
       "    }\n",
       "</style>\n",
       "<table border=\"1\" class=\"dataframe\">\n",
       "  <thead>\n",
       "    <tr style=\"text-align: right;\">\n",
       "      <th></th>\n",
       "      <th>Fecha</th>\n",
       "      <th>Nombre</th>\n",
       "      <th>Doctor</th>\n",
       "      <th>Especialidad</th>\n",
       "      <th>Tipo</th>\n",
       "      <th>Honorarios</th>\n",
       "      <th>Calificación</th>\n",
       "      <th>Comisión</th>\n",
       "      <th>FechaMes</th>\n",
       "      <th>Año</th>\n",
       "      <th>Mes</th>\n",
       "      <th>Ingreso</th>\n",
       "      <th>id</th>\n",
       "    </tr>\n",
       "  </thead>\n",
       "  <tbody>\n",
       "    <tr>\n",
       "      <th>3088</th>\n",
       "      <td>2018-03-16</td>\n",
       "      <td>Favio Revuelta Borundo</td>\n",
       "      <td>Isabella Roldán Velásquez</td>\n",
       "      <td>Dermatología</td>\n",
       "      <td>Operación</td>\n",
       "      <td>49000</td>\n",
       "      <td>0.82</td>\n",
       "      <td>0.09</td>\n",
       "      <td>2018-03</td>\n",
       "      <td>2018</td>\n",
       "      <td>03</td>\n",
       "      <td>4410.0</td>\n",
       "      <td>2018-Dermatología</td>\n",
       "    </tr>\n",
       "    <tr>\n",
       "      <th>3254</th>\n",
       "      <td>2019-06-11</td>\n",
       "      <td>Mauricio Núñez Biagi</td>\n",
       "      <td>Lucía Flores Muñoz</td>\n",
       "      <td>Dermatología</td>\n",
       "      <td>Operación</td>\n",
       "      <td>50000</td>\n",
       "      <td>0.77</td>\n",
       "      <td>0.07</td>\n",
       "      <td>2019-06</td>\n",
       "      <td>2019</td>\n",
       "      <td>06</td>\n",
       "      <td>3500.0</td>\n",
       "      <td>2019-Dermatología</td>\n",
       "    </tr>\n",
       "    <tr>\n",
       "      <th>3332</th>\n",
       "      <td>2020-01-17</td>\n",
       "      <td>Amelia Castañeda Ocampo</td>\n",
       "      <td>Ismael López Saldaña</td>\n",
       "      <td>Hematología</td>\n",
       "      <td>Operación</td>\n",
       "      <td>50000</td>\n",
       "      <td>0.95</td>\n",
       "      <td>0.06</td>\n",
       "      <td>2020-01</td>\n",
       "      <td>2020</td>\n",
       "      <td>01</td>\n",
       "      <td>3000.0</td>\n",
       "      <td>2020-Hematología</td>\n",
       "    </tr>\n",
       "    <tr>\n",
       "      <th>3554</th>\n",
       "      <td>2021-07-16</td>\n",
       "      <td>Alejandra Blanchet Villalobos</td>\n",
       "      <td>Iván Ramos Robles</td>\n",
       "      <td>Nefrología</td>\n",
       "      <td>Operación</td>\n",
       "      <td>50000</td>\n",
       "      <td>0.79</td>\n",
       "      <td>0.10</td>\n",
       "      <td>2021-07</td>\n",
       "      <td>2021</td>\n",
       "      <td>07</td>\n",
       "      <td>5000.0</td>\n",
       "      <td>2021-Nefrología</td>\n",
       "    </tr>\n",
       "  </tbody>\n",
       "</table>\n",
       "</div>"
      ],
      "text/plain": [
       "          Fecha                         Nombre                     Doctor  \\\n",
       "3088 2018-03-16         Favio Revuelta Borundo  Isabella Roldán Velásquez   \n",
       "3254 2019-06-11           Mauricio Núñez Biagi         Lucía Flores Muñoz   \n",
       "3332 2020-01-17        Amelia Castañeda Ocampo       Ismael López Saldaña   \n",
       "3554 2021-07-16  Alejandra Blanchet Villalobos          Iván Ramos Robles   \n",
       "\n",
       "      Especialidad       Tipo  Honorarios  Calificación  Comisión FechaMes  \\\n",
       "3088  Dermatología  Operación       49000          0.82      0.09  2018-03   \n",
       "3254  Dermatología  Operación       50000          0.77      0.07  2019-06   \n",
       "3332   Hematología  Operación       50000          0.95      0.06  2020-01   \n",
       "3554    Nefrología  Operación       50000          0.79      0.10  2021-07   \n",
       "\n",
       "       Año Mes  Ingreso                 id  \n",
       "3088  2018  03   4410.0  2018-Dermatología  \n",
       "3254  2019  06   3500.0  2019-Dermatología  \n",
       "3332  2020  01   3000.0   2020-Hematología  \n",
       "3554  2021  07   5000.0    2021-Nefrología  "
      ]
     },
     "execution_count": 70,
     "metadata": {},
     "output_type": "execute_result"
    }
   ],
   "source": [
    "max_honorario.head()"
   ]
  },
  {
   "cell_type": "markdown",
   "id": "a6c29809-e11c-4f9a-8abd-2ef0938f87e9",
   "metadata": {},
   "source": [
    "![Resuelto](../Img_24_Ejercicios/Act24Img2.png)"
   ]
  },
  {
   "cell_type": "markdown",
   "id": "7345ee90-93ff-4b4f-9cfb-0cad697b65ba",
   "metadata": {},
   "source": [
    "__Conclusión:__ la dermatología es la especialidad donde más veces se tuvo el honorario más alto"
   ]
  }
 ],
 "metadata": {
  "kernelspec": {
   "display_name": "Python 3 (ipykernel)",
   "language": "python",
   "name": "python3"
  },
  "language_info": {
   "codemirror_mode": {
    "name": "ipython",
    "version": 3
   },
   "file_extension": ".py",
   "mimetype": "text/x-python",
   "name": "python",
   "nbconvert_exporter": "python",
   "pygments_lexer": "ipython3",
   "version": "3.9.13"
  }
 },
 "nbformat": 4,
 "nbformat_minor": 5
}
