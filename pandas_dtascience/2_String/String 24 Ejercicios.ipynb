{
 "cells": [
  {
   "cell_type": "markdown",
   "id": "4a7b965b-6dbf-48b8-9bc1-57d371b622ee",
   "metadata": {},
   "source": [
    "# Ejercicios"
   ]
  },
  {
   "cell_type": "code",
   "execution_count": 1,
   "id": "b8905789-f23a-4c57-ae79-394b1fb09133",
   "metadata": {},
   "outputs": [],
   "source": [
    "import pandas as pd"
   ]
  },
  {
   "cell_type": "markdown",
   "id": "6aad238e-5cbc-4d14-a0db-7e4e112197f0",
   "metadata": {},
   "source": [
    "__Ejercicio 1:__"
   ]
  },
  {
   "cell_type": "code",
   "execution_count": 2,
   "id": "9ef28b84-ce38-4e1a-b986-c9aa255a0fd8",
   "metadata": {},
   "outputs": [
    {
     "data": {
      "text/plain": [
       "['caballo', 'perro', 'gato', 'conejo', 'loro', 'jirafa']"
      ]
     },
     "execution_count": 2,
     "metadata": {},
     "output_type": "execute_result"
    }
   ],
   "source": [
    "lista=[\"caballo\",\"perro\",\"gato\", \"conejo\",\"loro\",\"jirafa\"]\n",
    "lista"
   ]
  },
  {
   "cell_type": "markdown",
   "id": "629bc52b-32df-4bad-a2b2-1675c5ae8084",
   "metadata": {},
   "source": [
    "Guardar la lista anterior en una Serie llamada \"animales\""
   ]
  },
  {
   "cell_type": "code",
   "execution_count": 4,
   "id": "fbac3102-393d-404b-a19f-d64ed0b83e69",
   "metadata": {},
   "outputs": [
    {
     "data": {
      "application/vnd.microsoft.datawrangler.viewer.v0+json": {
       "columns": [
        {
         "name": "index",
         "rawType": "int64",
         "type": "integer"
        },
        {
         "name": "0",
         "rawType": "object",
         "type": "string"
        }
       ],
       "ref": "58ef3556-2a4a-4529-92e7-d17dfa260890",
       "rows": [
        [
         "0",
         "caballo"
        ],
        [
         "1",
         "perro"
        ],
        [
         "2",
         "gato"
        ],
        [
         "3",
         "conejo"
        ],
        [
         "4",
         "loro"
        ],
        [
         "5",
         "jirafa"
        ]
       ],
       "shape": {
        "columns": 1,
        "rows": 6
       }
      },
      "text/plain": [
       "0    caballo\n",
       "1      perro\n",
       "2       gato\n",
       "3     conejo\n",
       "4       loro\n",
       "5     jirafa\n",
       "dtype: object"
      ]
     },
     "execution_count": 4,
     "metadata": {},
     "output_type": "execute_result"
    }
   ],
   "source": [
    "\n",
    "animales = pd.Series(lista)\n",
    "\n",
    "animales"
   ]
  },
  {
   "cell_type": "markdown",
   "id": "de329420-18c5-41d9-8176-351e640c5cf8",
   "metadata": {},
   "source": [
    "Transformar los nombres de animales anteriores a letras mayúsculas"
   ]
  },
  {
   "cell_type": "code",
   "execution_count": 6,
   "id": "75f84d8e-0a3c-4fd8-9d17-f06dae950f25",
   "metadata": {},
   "outputs": [
    {
     "data": {
      "application/vnd.microsoft.datawrangler.viewer.v0+json": {
       "columns": [
        {
         "name": "index",
         "rawType": "int64",
         "type": "integer"
        },
        {
         "name": "0",
         "rawType": "object",
         "type": "string"
        }
       ],
       "ref": "f4b62949-6c4d-4f4b-acd0-635c4e667ba1",
       "rows": [
        [
         "0",
         "CABALLO"
        ],
        [
         "1",
         "PERRO"
        ],
        [
         "2",
         "GATO"
        ],
        [
         "3",
         "CONEJO"
        ],
        [
         "4",
         "LORO"
        ],
        [
         "5",
         "JIRAFA"
        ]
       ],
       "shape": {
        "columns": 1,
        "rows": 6
       }
      },
      "text/plain": [
       "0    CABALLO\n",
       "1      PERRO\n",
       "2       GATO\n",
       "3     CONEJO\n",
       "4       LORO\n",
       "5     JIRAFA\n",
       "dtype: object"
      ]
     },
     "execution_count": 6,
     "metadata": {},
     "output_type": "execute_result"
    }
   ],
   "source": [
    "animales.str.upper()"
   ]
  },
  {
   "cell_type": "markdown",
   "id": "a4ba499b-d30f-420d-8c4d-b163a659cc7c",
   "metadata": {},
   "source": [
    "__Ejercicio 2:__ Cambiar la primera letra en el nombre de los animales a mayuscula"
   ]
  },
  {
   "cell_type": "code",
   "execution_count": 7,
   "id": "c7302f5c-72f3-45e6-84c4-35e84a071610",
   "metadata": {},
   "outputs": [
    {
     "data": {
      "application/vnd.microsoft.datawrangler.viewer.v0+json": {
       "columns": [
        {
         "name": "index",
         "rawType": "int64",
         "type": "integer"
        },
        {
         "name": "0",
         "rawType": "object",
         "type": "string"
        }
       ],
       "ref": "92f2459e-9a10-4bb2-beb8-07c0da76807c",
       "rows": [
        [
         "0",
         "Caballo"
        ],
        [
         "1",
         "Perro"
        ],
        [
         "2",
         "Gato"
        ],
        [
         "3",
         "Conejo"
        ],
        [
         "4",
         "Loro"
        ],
        [
         "5",
         "Jirafa"
        ]
       ],
       "shape": {
        "columns": 1,
        "rows": 6
       }
      },
      "text/plain": [
       "0    Caballo\n",
       "1      Perro\n",
       "2       Gato\n",
       "3     Conejo\n",
       "4       Loro\n",
       "5     Jirafa\n",
       "dtype: object"
      ]
     },
     "execution_count": 7,
     "metadata": {},
     "output_type": "execute_result"
    }
   ],
   "source": [
    "animales.str.title()"
   ]
  },
  {
   "cell_type": "markdown",
   "id": "27428114-337b-4854-9e36-62cee0a4acdc",
   "metadata": {},
   "source": [
    "__Ejercicio 3:__ Unir todas las filas de la serie animales en un único string"
   ]
  },
  {
   "cell_type": "code",
   "execution_count": 11,
   "id": "27adac51-05fc-4c51-9240-f0ace2c49ead",
   "metadata": {},
   "outputs": [
    {
     "data": {
      "text/plain": [
       "'caballo,perro,gato,conejo,loro,jirafa'"
      ]
     },
     "execution_count": 11,
     "metadata": {},
     "output_type": "execute_result"
    }
   ],
   "source": [
    "animales.str.cat(sep=\",\")"
   ]
  },
  {
   "cell_type": "markdown",
   "id": "c384cf0e-c2fb-442f-89ce-08766e75403e",
   "metadata": {},
   "source": [
    "__Ejercicio 4:__ "
   ]
  },
  {
   "cell_type": "code",
   "execution_count": 12,
   "id": "0b1eb6ac-4e2f-4e6f-a9a7-a515cd73f44a",
   "metadata": {},
   "outputs": [],
   "source": [
    "lista=[\"Colombia,Mexico,Argentina,Argentina\",\n",
    "       \"Chile,Chile,Mexico,Colombia\",\n",
    "       \"Colombia,Chile,Colombia,Argentina\",\n",
    "       \"Mexico, Argentina,Colombia,Mexico\"]"
   ]
  },
  {
   "cell_type": "markdown",
   "id": "0a41fb1c-74df-4c9a-a274-8f17b5e98797",
   "metadata": {},
   "source": [
    "Guardar la lista anterior en una Serie llamada \"paises\""
   ]
  },
  {
   "cell_type": "code",
   "execution_count": 13,
   "id": "3d2c5ceb-f3e1-4b8f-9fc8-dd1134061266",
   "metadata": {},
   "outputs": [
    {
     "data": {
      "application/vnd.microsoft.datawrangler.viewer.v0+json": {
       "columns": [
        {
         "name": "index",
         "rawType": "int64",
         "type": "integer"
        },
        {
         "name": "0",
         "rawType": "object",
         "type": "string"
        }
       ],
       "ref": "c282de23-7817-400f-aab6-03b4b207d6db",
       "rows": [
        [
         "0",
         "Colombia,Mexico,Argentina,Argentina"
        ],
        [
         "1",
         "Chile,Chile,Mexico,Colombia"
        ],
        [
         "2",
         "Colombia,Chile,Colombia,Argentina"
        ],
        [
         "3",
         "Mexico, Argentina,Colombia,Mexico"
        ]
       ],
       "shape": {
        "columns": 1,
        "rows": 4
       }
      },
      "text/plain": [
       "0    Colombia,Mexico,Argentina,Argentina\n",
       "1            Chile,Chile,Mexico,Colombia\n",
       "2      Colombia,Chile,Colombia,Argentina\n",
       "3      Mexico, Argentina,Colombia,Mexico\n",
       "dtype: object"
      ]
     },
     "execution_count": 13,
     "metadata": {},
     "output_type": "execute_result"
    }
   ],
   "source": [
    "paises = pd.Series(lista)\n",
    "paises"
   ]
  },
  {
   "cell_type": "markdown",
   "id": "ba9cc95d-1b69-4f88-930a-77ef465af0d3",
   "metadata": {},
   "source": [
    "Contar cuantas veces se repite el pais \"Colombia\" en cada registro de la serie paises"
   ]
  },
  {
   "cell_type": "code",
   "execution_count": 14,
   "id": "99d21134-fc1d-4e8e-ab12-00daad428d62",
   "metadata": {},
   "outputs": [
    {
     "data": {
      "application/vnd.microsoft.datawrangler.viewer.v0+json": {
       "columns": [
        {
         "name": "index",
         "rawType": "int64",
         "type": "integer"
        },
        {
         "name": "0",
         "rawType": "int64",
         "type": "integer"
        }
       ],
       "ref": "c00ab75b-9f9f-4ed4-ae11-0b4b0d8b546d",
       "rows": [
        [
         "0",
         "1"
        ],
        [
         "1",
         "1"
        ],
        [
         "2",
         "2"
        ],
        [
         "3",
         "1"
        ]
       ],
       "shape": {
        "columns": 1,
        "rows": 4
       }
      },
      "text/plain": [
       "0    1\n",
       "1    1\n",
       "2    2\n",
       "3    1\n",
       "dtype: int64"
      ]
     },
     "execution_count": 14,
     "metadata": {},
     "output_type": "execute_result"
    }
   ],
   "source": [
    "paises.str.count(\"Colombia\")"
   ]
  },
  {
   "cell_type": "markdown",
   "id": "648628c0-9e18-4c5c-8932-860b3e89fb3d",
   "metadata": {},
   "source": [
    "__Ejercicio 5:__ Mantener únicamente los datos en la serie \"paises\" que contenga a \"Argentina\""
   ]
  },
  {
   "cell_type": "code",
   "execution_count": 16,
   "id": "fd67e16c-e7be-4f13-a5e5-56a695b58894",
   "metadata": {},
   "outputs": [
    {
     "data": {
      "application/vnd.microsoft.datawrangler.viewer.v0+json": {
       "columns": [
        {
         "name": "index",
         "rawType": "int64",
         "type": "integer"
        },
        {
         "name": "0",
         "rawType": "object",
         "type": "string"
        }
       ],
       "ref": "c8d4ae18-2a08-41c3-8f20-27ef72f9f2b6",
       "rows": [
        [
         "0",
         "Colombia,Mexico,Argentina,Argentina"
        ],
        [
         "2",
         "Colombia,Chile,Colombia,Argentina"
        ],
        [
         "3",
         "Mexico, Argentina,Colombia,Mexico"
        ]
       ],
       "shape": {
        "columns": 1,
        "rows": 3
       }
      },
      "text/plain": [
       "0    Colombia,Mexico,Argentina,Argentina\n",
       "2      Colombia,Chile,Colombia,Argentina\n",
       "3      Mexico, Argentina,Colombia,Mexico\n",
       "dtype: object"
      ]
     },
     "execution_count": 16,
     "metadata": {},
     "output_type": "execute_result"
    }
   ],
   "source": [
    "paises[paises.str.contains(\"Argentina\")]"
   ]
  },
  {
   "cell_type": "markdown",
   "id": "6fb3ffcf-b37b-47c4-9ea1-a0ba9692d8c3",
   "metadata": {},
   "source": [
    "__Ejercicio 6:__ Mantener únicamente los datos en la serie \"paises\" cuyo último nombre sea \"Mexico\""
   ]
  },
  {
   "cell_type": "code",
   "execution_count": 17,
   "id": "6052b66d-0710-449c-a760-cceaf2be46d0",
   "metadata": {},
   "outputs": [
    {
     "data": {
      "application/vnd.microsoft.datawrangler.viewer.v0+json": {
       "columns": [
        {
         "name": "index",
         "rawType": "int64",
         "type": "integer"
        },
        {
         "name": "0",
         "rawType": "object",
         "type": "string"
        }
       ],
       "ref": "ce7b2a2b-221c-4721-b16c-e6c4f748caf2",
       "rows": [
        [
         "3",
         "Mexico, Argentina,Colombia,Mexico"
        ]
       ],
       "shape": {
        "columns": 1,
        "rows": 1
       }
      },
      "text/plain": [
       "3    Mexico, Argentina,Colombia,Mexico\n",
       "dtype: object"
      ]
     },
     "execution_count": 17,
     "metadata": {},
     "output_type": "execute_result"
    }
   ],
   "source": [
    "paises[paises.str.endswith(\"Mexico\")]"
   ]
  },
  {
   "cell_type": "code",
   "execution_count": null,
   "id": "f3636bfe-2809-4253-9791-63de279ebf6b",
   "metadata": {},
   "outputs": [],
   "source": []
  },
  {
   "cell_type": "markdown",
   "id": "f5d2d076-d420-4ca5-9e34-1b9b5346cbd4",
   "metadata": {},
   "source": [
    "__Ejercicio 7:__ Separar cada dato de la serie paises en un array utilizando como divisor la coma (\",\")"
   ]
  },
  {
   "cell_type": "code",
   "execution_count": 18,
   "id": "addaf60c-2742-42b2-934b-aca4104ff90a",
   "metadata": {},
   "outputs": [
    {
     "data": {
      "application/vnd.microsoft.datawrangler.viewer.v0+json": {
       "columns": [
        {
         "name": "index",
         "rawType": "int64",
         "type": "integer"
        },
        {
         "name": "0",
         "rawType": "object",
         "type": "unknown"
        }
       ],
       "ref": "f6ca99d9-b71f-4f48-9743-054ae1e46d5b",
       "rows": [
        [
         "0",
         "['Colombia', 'Mexico', 'Argentina', 'Argentina']"
        ],
        [
         "1",
         "['Chile', 'Chile', 'Mexico', 'Colombia']"
        ],
        [
         "2",
         "['Colombia', 'Chile', 'Colombia', 'Argentina']"
        ],
        [
         "3",
         "['Mexico', ' Argentina', 'Colombia', 'Mexico']"
        ]
       ],
       "shape": {
        "columns": 1,
        "rows": 4
       }
      },
      "text/plain": [
       "0    [Colombia, Mexico, Argentina, Argentina]\n",
       "1            [Chile, Chile, Mexico, Colombia]\n",
       "2      [Colombia, Chile, Colombia, Argentina]\n",
       "3      [Mexico,  Argentina, Colombia, Mexico]\n",
       "dtype: object"
      ]
     },
     "execution_count": 18,
     "metadata": {},
     "output_type": "execute_result"
    }
   ],
   "source": [
    "paises.str.split(\",\")"
   ]
  },
  {
   "cell_type": "markdown",
   "id": "e54a9fcd-a689-48cf-97ae-19338349e25b",
   "metadata": {},
   "source": [
    "__Ejercicio 8:__ Obtener el segundo pais dentro de cada registro de la serie \"paises\""
   ]
  },
  {
   "cell_type": "code",
   "execution_count": 19,
   "id": "87a70b88-02e0-4ebf-bc32-8c7b79633148",
   "metadata": {},
   "outputs": [
    {
     "data": {
      "application/vnd.microsoft.datawrangler.viewer.v0+json": {
       "columns": [
        {
         "name": "index",
         "rawType": "int64",
         "type": "integer"
        },
        {
         "name": "0",
         "rawType": "object",
         "type": "string"
        }
       ],
       "ref": "4157c123-773d-4538-9280-250ec6909fa9",
       "rows": [
        [
         "0",
         "Mexico"
        ],
        [
         "1",
         "Chile"
        ],
        [
         "2",
         "Chile"
        ],
        [
         "3",
         " Argentina"
        ]
       ],
       "shape": {
        "columns": 1,
        "rows": 4
       }
      },
      "text/plain": [
       "0        Mexico\n",
       "1         Chile\n",
       "2         Chile\n",
       "3     Argentina\n",
       "dtype: object"
      ]
     },
     "execution_count": 19,
     "metadata": {},
     "output_type": "execute_result"
    }
   ],
   "source": [
    "paises.str.split(\",\").str.get(1)"
   ]
  },
  {
   "cell_type": "markdown",
   "id": "c4a57b38-d6ad-4dc8-9473-7871b60b2cd6",
   "metadata": {},
   "source": [
    "__Ejercicio 9:__ Crear un DataFrame a partir de la serie paises, utilizando la función split para colocar un pais por columna"
   ]
  },
  {
   "cell_type": "code",
   "execution_count": 23,
   "id": "df5e0614-f37a-4650-ba96-c270e5a28589",
   "metadata": {},
   "outputs": [],
   "source": [
    "df_paises = paises.str.split(\",\",expand=True)"
   ]
  },
  {
   "cell_type": "code",
   "execution_count": 24,
   "id": "dbdc8e97-cac3-415a-856b-a7291132d1cf",
   "metadata": {},
   "outputs": [
    {
     "data": {
      "application/vnd.microsoft.datawrangler.viewer.v0+json": {
       "columns": [
        {
         "name": "index",
         "rawType": "int64",
         "type": "integer"
        },
        {
         "name": "0",
         "rawType": "object",
         "type": "string"
        },
        {
         "name": "1",
         "rawType": "object",
         "type": "string"
        },
        {
         "name": "2",
         "rawType": "object",
         "type": "string"
        },
        {
         "name": "3",
         "rawType": "object",
         "type": "string"
        }
       ],
       "ref": "482d3711-3c99-4d7e-8bee-65ec2b1b5200",
       "rows": [
        [
         "0",
         "Colombia",
         "Mexico",
         "Argentina",
         "Argentina"
        ],
        [
         "1",
         "Chile",
         "Chile",
         "Mexico",
         "Colombia"
        ],
        [
         "2",
         "Colombia",
         "Chile",
         "Colombia",
         "Argentina"
        ],
        [
         "3",
         "Mexico",
         " Argentina",
         "Colombia",
         "Mexico"
        ]
       ],
       "shape": {
        "columns": 4,
        "rows": 4
       }
      },
      "text/html": [
       "<div>\n",
       "<style scoped>\n",
       "    .dataframe tbody tr th:only-of-type {\n",
       "        vertical-align: middle;\n",
       "    }\n",
       "\n",
       "    .dataframe tbody tr th {\n",
       "        vertical-align: top;\n",
       "    }\n",
       "\n",
       "    .dataframe thead th {\n",
       "        text-align: right;\n",
       "    }\n",
       "</style>\n",
       "<table border=\"1\" class=\"dataframe\">\n",
       "  <thead>\n",
       "    <tr style=\"text-align: right;\">\n",
       "      <th></th>\n",
       "      <th>0</th>\n",
       "      <th>1</th>\n",
       "      <th>2</th>\n",
       "      <th>3</th>\n",
       "    </tr>\n",
       "  </thead>\n",
       "  <tbody>\n",
       "    <tr>\n",
       "      <th>0</th>\n",
       "      <td>Colombia</td>\n",
       "      <td>Mexico</td>\n",
       "      <td>Argentina</td>\n",
       "      <td>Argentina</td>\n",
       "    </tr>\n",
       "    <tr>\n",
       "      <th>1</th>\n",
       "      <td>Chile</td>\n",
       "      <td>Chile</td>\n",
       "      <td>Mexico</td>\n",
       "      <td>Colombia</td>\n",
       "    </tr>\n",
       "    <tr>\n",
       "      <th>2</th>\n",
       "      <td>Colombia</td>\n",
       "      <td>Chile</td>\n",
       "      <td>Colombia</td>\n",
       "      <td>Argentina</td>\n",
       "    </tr>\n",
       "    <tr>\n",
       "      <th>3</th>\n",
       "      <td>Mexico</td>\n",
       "      <td>Argentina</td>\n",
       "      <td>Colombia</td>\n",
       "      <td>Mexico</td>\n",
       "    </tr>\n",
       "  </tbody>\n",
       "</table>\n",
       "</div>"
      ],
      "text/plain": [
       "          0           1          2          3\n",
       "0  Colombia      Mexico  Argentina  Argentina\n",
       "1     Chile       Chile     Mexico   Colombia\n",
       "2  Colombia       Chile   Colombia  Argentina\n",
       "3    Mexico   Argentina   Colombia     Mexico"
      ]
     },
     "execution_count": 24,
     "metadata": {},
     "output_type": "execute_result"
    }
   ],
   "source": [
    "df_paises"
   ]
  },
  {
   "cell_type": "markdown",
   "id": "7729432a-f03e-4554-8ebd-39144c009e68",
   "metadata": {},
   "source": [
    "__Ejercicio 10:__ Crear una serie con la siguiente lista llamada paises2"
   ]
  },
  {
   "cell_type": "code",
   "execution_count": 25,
   "id": "9c6cb34b-386a-4c06-a981-ded34f0f8852",
   "metadata": {},
   "outputs": [],
   "source": [
    "lista= [\"Francia,Suecia\",\n",
    "        \"Italia,Alemania\",\n",
    "       \"Irlanda,Francia\",\n",
    "       \"Portugal,Alemania\"]"
   ]
  },
  {
   "cell_type": "code",
   "execution_count": 27,
   "id": "a9034281-a600-45a0-8008-07229d12f779",
   "metadata": {},
   "outputs": [
    {
     "data": {
      "application/vnd.microsoft.datawrangler.viewer.v0+json": {
       "columns": [
        {
         "name": "index",
         "rawType": "int64",
         "type": "integer"
        },
        {
         "name": "0",
         "rawType": "object",
         "type": "string"
        }
       ],
       "ref": "8ef7fd0c-f497-4372-9bff-ae3a533adedc",
       "rows": [
        [
         "0",
         "Francia,Suecia"
        ],
        [
         "1",
         "Italia,Alemania"
        ],
        [
         "2",
         "Irlanda,Francia"
        ],
        [
         "3",
         "Portugal,Alemania"
        ]
       ],
       "shape": {
        "columns": 1,
        "rows": 4
       }
      },
      "text/plain": [
       "0       Francia,Suecia\n",
       "1      Italia,Alemania\n",
       "2      Irlanda,Francia\n",
       "3    Portugal,Alemania\n",
       "dtype: object"
      ]
     },
     "execution_count": 27,
     "metadata": {},
     "output_type": "execute_result"
    }
   ],
   "source": [
    "paises2 = pd.Series(lista)\n",
    "\n",
    "paises2"
   ]
  },
  {
   "cell_type": "raw",
   "id": "27c48554-e8d0-4dbd-8cd9-2f1c42034438",
   "metadata": {},
   "source": [
    "Unir con la función cat el contenido de las series paises y paises2"
   ]
  },
  {
   "cell_type": "code",
   "execution_count": 28,
   "id": "32ec01cd-a079-4eb3-8bf4-ac8e60d07f27",
   "metadata": {},
   "outputs": [
    {
     "data": {
      "application/vnd.microsoft.datawrangler.viewer.v0+json": {
       "columns": [
        {
         "name": "index",
         "rawType": "int64",
         "type": "integer"
        },
        {
         "name": "0",
         "rawType": "object",
         "type": "string"
        }
       ],
       "ref": "23850914-57ce-4cc9-ba47-eea472d1bedb",
       "rows": [
        [
         "0",
         "Colombia,Mexico,Argentina,ArgentinaFrancia,Suecia"
        ],
        [
         "1",
         "Chile,Chile,Mexico,ColombiaItalia,Alemania"
        ],
        [
         "2",
         "Colombia,Chile,Colombia,ArgentinaIrlanda,Francia"
        ],
        [
         "3",
         "Mexico, Argentina,Colombia,MexicoPortugal,Alemania"
        ]
       ],
       "shape": {
        "columns": 1,
        "rows": 4
       }
      },
      "text/plain": [
       "0    Colombia,Mexico,Argentina,ArgentinaFrancia,Suecia\n",
       "1           Chile,Chile,Mexico,ColombiaItalia,Alemania\n",
       "2     Colombia,Chile,Colombia,ArgentinaIrlanda,Francia\n",
       "3    Mexico, Argentina,Colombia,MexicoPortugal,Alem...\n",
       "dtype: object"
      ]
     },
     "execution_count": 28,
     "metadata": {},
     "output_type": "execute_result"
    }
   ],
   "source": [
    "paises.str.cat(paises2)"
   ]
  },
  {
   "cell_type": "code",
   "execution_count": null,
   "id": "7ec699a4-7264-4be6-b2bb-6fd8f525ee1f",
   "metadata": {},
   "outputs": [],
   "source": []
  },
  {
   "cell_type": "markdown",
   "id": "1d1aa297-d8dd-46cc-9182-098c8b66484c",
   "metadata": {},
   "source": [
    "__Ejercicio 11:__ Utilizar la función slice para obtener las 3 primeras letras de cada dato en la serie paises"
   ]
  },
  {
   "cell_type": "code",
   "execution_count": 30,
   "id": "4c06ec6b-95b4-4065-9ae0-e1a1761e4478",
   "metadata": {},
   "outputs": [
    {
     "data": {
      "application/vnd.microsoft.datawrangler.viewer.v0+json": {
       "columns": [
        {
         "name": "index",
         "rawType": "int64",
         "type": "integer"
        },
        {
         "name": "0",
         "rawType": "object",
         "type": "string"
        }
       ],
       "ref": "7b68de91-7dc7-4d8d-9790-4a5b667b5241",
       "rows": [
        [
         "0",
         "Col"
        ],
        [
         "1",
         "Chi"
        ],
        [
         "2",
         "Col"
        ],
        [
         "3",
         "Mex"
        ]
       ],
       "shape": {
        "columns": 1,
        "rows": 4
       }
      },
      "text/plain": [
       "0    Col\n",
       "1    Chi\n",
       "2    Col\n",
       "3    Mex\n",
       "dtype: object"
      ]
     },
     "execution_count": 30,
     "metadata": {},
     "output_type": "execute_result"
    }
   ],
   "source": [
    "paises.str.slice(start=0,stop=3)"
   ]
  },
  {
   "cell_type": "markdown",
   "id": "d630248c-9ab4-44f1-8af5-909c5ae40c89",
   "metadata": {},
   "source": [
    "__Ejercicio 12:__ Reemplazar el separador en la serie paises (\",\") por un guion medio (\"-\")"
   ]
  },
  {
   "cell_type": "code",
   "execution_count": 33,
   "id": "33622570-b478-45c9-b843-6b14c4752916",
   "metadata": {},
   "outputs": [
    {
     "data": {
      "application/vnd.microsoft.datawrangler.viewer.v0+json": {
       "columns": [
        {
         "name": "index",
         "rawType": "int64",
         "type": "integer"
        },
        {
         "name": "0",
         "rawType": "object",
         "type": "string"
        }
       ],
       "ref": "b4632c93-067b-4bef-a7a4-6fdfbdfe55a7",
       "rows": [
        [
         "0",
         "Colombia-Mexico-Argentina-Argentina"
        ],
        [
         "1",
         "Chile-Chile-Mexico-Colombia"
        ],
        [
         "2",
         "Colombia-Chile-Colombia-Argentina"
        ],
        [
         "3",
         "Mexico- Argentina-Colombia-Mexico"
        ]
       ],
       "shape": {
        "columns": 1,
        "rows": 4
       }
      },
      "text/plain": [
       "0    Colombia-Mexico-Argentina-Argentina\n",
       "1            Chile-Chile-Mexico-Colombia\n",
       "2      Colombia-Chile-Colombia-Argentina\n",
       "3      Mexico- Argentina-Colombia-Mexico\n",
       "dtype: object"
      ]
     },
     "execution_count": 33,
     "metadata": {},
     "output_type": "execute_result"
    }
   ],
   "source": [
    "paises.str.replace(\",\",\"-\")"
   ]
  },
  {
   "cell_type": "markdown",
   "id": "2eb24839-70e8-4f6c-a7d8-4445566a1c40",
   "metadata": {},
   "source": [
    "__Ejercicio 13:__"
   ]
  },
  {
   "cell_type": "code",
   "execution_count": 23,
   "id": "dd7f1c5d-17ab-49af-b2c5-7b84de87295b",
   "metadata": {},
   "outputs": [],
   "source": [
    "lista=[\"Manzana\",\"Uva\",\"Cereza\",\"Sandia\",\"Melon\"]"
   ]
  },
  {
   "cell_type": "markdown",
   "id": "9ccdfb58-b0e2-4068-942c-263f41e09b69",
   "metadata": {},
   "source": [
    "Guardar la lista anterior en una Serie llamada \"frutas\""
   ]
  },
  {
   "cell_type": "code",
   "execution_count": null,
   "id": "dab8898f-92b2-4fb1-b13b-011c9f205662",
   "metadata": {},
   "outputs": [],
   "source": []
  },
  {
   "cell_type": "markdown",
   "id": "5ec72797-31c4-424b-8953-0dccf3ec8afc",
   "metadata": {},
   "source": [
    "Transformar los nombres de animales anteriores a letras minusculas"
   ]
  },
  {
   "cell_type": "code",
   "execution_count": null,
   "id": "8dec5c99-4ea1-4a3d-9962-95c5506da13e",
   "metadata": {},
   "outputs": [],
   "source": []
  },
  {
   "cell_type": "markdown",
   "id": "2c074b78-8890-4183-967d-728b043cafd7",
   "metadata": {},
   "source": [
    "__Ejercicio 14:__ Obtener la cantidad de letras que tiene cada nombre de fruta"
   ]
  },
  {
   "cell_type": "code",
   "execution_count": null,
   "id": "1bee0e6a-fe6b-4016-b9b7-5d3698823658",
   "metadata": {},
   "outputs": [],
   "source": []
  },
  {
   "cell_type": "markdown",
   "id": "eb6a89f0-60aa-45ea-8df7-7c757e94c5a3",
   "metadata": {},
   "source": [
    "__Ejercicio 15:__ Unir el nombre de todas las frutas en una sola cadena, utilizando la funcion cat"
   ]
  },
  {
   "cell_type": "code",
   "execution_count": null,
   "id": "0e23a9a8-0160-4b37-a25b-614c2bb6e1a9",
   "metadata": {},
   "outputs": [],
   "source": []
  },
  {
   "cell_type": "markdown",
   "id": "3bafc735-648f-42fb-bbaa-1a8adcf38c6c",
   "metadata": {},
   "source": [
    "__Ejercicio 16:__"
   ]
  },
  {
   "cell_type": "code",
   "execution_count": 28,
   "id": "fa13128e-6805-4513-88bb-d463c4ee09dc",
   "metadata": {},
   "outputs": [],
   "source": [
    "lista=[\"Ciclismo,Golf,Tenis,Atletismo\",\n",
    "       \"Tenis,Golf,Ciclismo,Tenis\",\n",
    "       \"Ciclismo,Atletismo,Atletismo,Ciclismo\",\n",
    "       \"Natacion, Natacion,Tenis,Natacion\"]"
   ]
  },
  {
   "cell_type": "markdown",
   "id": "df6d89d3-1f90-4b49-bb3f-c0d582017b30",
   "metadata": {},
   "source": [
    "Guardar la lista anterior en una Serie llamada \"deportes\""
   ]
  },
  {
   "cell_type": "code",
   "execution_count": null,
   "id": "515f32d9-ff5b-499a-b132-8278276752c0",
   "metadata": {},
   "outputs": [],
   "source": []
  },
  {
   "cell_type": "markdown",
   "id": "29a783d1-5431-48df-90c0-1a964bbf0ed6",
   "metadata": {},
   "source": [
    "Contar cuantas veces se repite \"Golf\" en cada registro de la serie paises"
   ]
  },
  {
   "cell_type": "code",
   "execution_count": null,
   "id": "2b50c76a-fb35-414c-9b43-e696fe8b5ec4",
   "metadata": {},
   "outputs": [],
   "source": []
  },
  {
   "cell_type": "markdown",
   "id": "0686f59d-a292-4b3e-bf8d-798c51d2e0b4",
   "metadata": {},
   "source": [
    "__Ejercicio 17:__ Mantener únicamente los datos en la serie \"deportes\" que contenga \"Atletismo\""
   ]
  },
  {
   "cell_type": "code",
   "execution_count": null,
   "id": "8351faaa-308c-4365-b2db-2bc63d282cfb",
   "metadata": {},
   "outputs": [],
   "source": []
  },
  {
   "cell_type": "markdown",
   "id": "3cb2f122-1e44-478b-ac1d-e9181f44d47b",
   "metadata": {},
   "source": [
    "__Ejercicio 18:__ Mantener únicamente los datos en la serie \"deportes\" cuyo primero deporte sea \"Ciclismo\""
   ]
  },
  {
   "cell_type": "code",
   "execution_count": null,
   "id": "ea13602f-599f-42fc-b6c2-e3f7cd810f35",
   "metadata": {},
   "outputs": [],
   "source": []
  },
  {
   "cell_type": "markdown",
   "id": "ca54a345-2719-4b40-9953-b7a71126c032",
   "metadata": {},
   "source": [
    "__Ejercicio 19:__ Separar cada dato de la serie deportes en un array utilizando como divisor la coma (\",\")"
   ]
  },
  {
   "cell_type": "code",
   "execution_count": null,
   "id": "403c4357-e095-4837-99ce-9e2a28cf1339",
   "metadata": {},
   "outputs": [],
   "source": []
  },
  {
   "cell_type": "markdown",
   "id": "7cfcbf1c-213a-4d69-baf2-582764c03f79",
   "metadata": {},
   "source": [
    "__Ejercicio 20:__ Obtener el tercer deporte dentro de cada registro de la serie \"deportes\""
   ]
  },
  {
   "cell_type": "code",
   "execution_count": null,
   "id": "c9456274-798b-4d81-bb29-1fb850d18cd9",
   "metadata": {},
   "outputs": [],
   "source": []
  },
  {
   "cell_type": "markdown",
   "id": "99005bc0-94f8-4e95-9871-dd61a7dd7d74",
   "metadata": {},
   "source": [
    "__Ejercicio 21:__  Crear un DataFrame a partir de la serie \"deportes\", utilizando la función split para colocar un deporte por columna"
   ]
  },
  {
   "cell_type": "code",
   "execution_count": null,
   "id": "936040d9-e5f0-4b41-891e-e23074aeb3b2",
   "metadata": {},
   "outputs": [],
   "source": []
  },
  {
   "cell_type": "markdown",
   "id": "6078c615-36fa-4a28-ab4d-b0d8e7e24666",
   "metadata": {},
   "source": [
    "__Ejercicio 22:__ Crear una serie con la siguiente lista llamada deportes2"
   ]
  },
  {
   "cell_type": "code",
   "execution_count": 36,
   "id": "98991cf7-ca03-4d2b-b428-ad6cfec7edce",
   "metadata": {},
   "outputs": [],
   "source": [
    "lista= [\"Beisbol,Karate\",\"Karate,Rugbi\",\"Rugbi,Beisbol\"]"
   ]
  },
  {
   "cell_type": "code",
   "execution_count": null,
   "id": "9692be61-ff4b-4e92-94a4-dff49059c9b9",
   "metadata": {},
   "outputs": [],
   "source": []
  },
  {
   "cell_type": "markdown",
   "id": "21c1d834-a36f-4c67-8c67-343c7eb3fc37",
   "metadata": {},
   "source": [
    "Unir con la función cat el contenido de las series deportes y deportes2"
   ]
  },
  {
   "cell_type": "code",
   "execution_count": null,
   "id": "e82448d3-9da9-4c4c-a51a-c68cd1a35315",
   "metadata": {},
   "outputs": [],
   "source": []
  },
  {
   "cell_type": "markdown",
   "id": "d5ba91d8-92c7-4360-8d12-ca69d98ef34a",
   "metadata": {},
   "source": [
    "__Ejercicio 23:__  Utilizar la función slice para obtener las 4 primeras letras de cada dato en la serie deportes"
   ]
  },
  {
   "cell_type": "code",
   "execution_count": null,
   "id": "15d39c85-9063-4209-ba30-bb3e5f3b6924",
   "metadata": {},
   "outputs": [],
   "source": []
  },
  {
   "cell_type": "markdown",
   "id": "dcccc64a-32ab-4eb7-8e64-4fe9f1e10e61",
   "metadata": {},
   "source": [
    "__Ejercicio 24:__ Reemplazar el separador en la serie deportes (\",\") por una diagona (\"/\")"
   ]
  },
  {
   "cell_type": "code",
   "execution_count": null,
   "id": "289c67df-1e48-4661-b972-26c828a09504",
   "metadata": {},
   "outputs": [],
   "source": []
  }
 ],
 "metadata": {
  "kernelspec": {
   "display_name": "Python 3",
   "language": "python",
   "name": "python3"
  },
  "language_info": {
   "codemirror_mode": {
    "name": "ipython",
    "version": 3
   },
   "file_extension": ".py",
   "mimetype": "text/x-python",
   "name": "python",
   "nbconvert_exporter": "python",
   "pygments_lexer": "ipython3",
   "version": "3.10.12"
  }
 },
 "nbformat": 4,
 "nbformat_minor": 5
}
