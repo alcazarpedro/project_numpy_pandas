{
 "cells": [
  {
   "cell_type": "markdown",
   "id": "8d7c0928-2176-460d-9a59-cf40a78d87c8",
   "metadata": {},
   "source": [
    "# Strings "
   ]
  },
  {
   "cell_type": "code",
   "execution_count": 51,
   "id": "1671ab1a-fa0c-4f1f-a316-63ac1fc88d46",
   "metadata": {},
   "outputs": [],
   "source": [
    "import pandas as pd"
   ]
  },
  {
   "cell_type": "markdown",
   "id": "cfb5b2cf-ed95-473a-83dc-90c0a64c2956",
   "metadata": {},
   "source": [
    "__Ejercicio 1:__"
   ]
  },
  {
   "cell_type": "markdown",
   "id": "6b48db1d-f2fd-4815-9f48-a2373ecc119c",
   "metadata": {},
   "source": [
    "Guardar la lista anterior en una serie llamada numeros"
   ]
  },
  {
   "cell_type": "code",
   "execution_count": 52,
   "id": "7e6b5092-13dd-4143-a654-4b5a3b776848",
   "metadata": {},
   "outputs": [],
   "source": [
    "lista=[10,22,21]"
   ]
  },
  {
   "cell_type": "code",
   "execution_count": 53,
   "id": "9ea2cad6-896c-488d-976e-cf5401454226",
   "metadata": {},
   "outputs": [
    {
     "data": {
      "text/plain": [
       "0    10\n",
       "1    22\n",
       "2    21\n",
       "dtype: int64"
      ]
     },
     "execution_count": 53,
     "metadata": {},
     "output_type": "execute_result"
    }
   ],
   "source": [
    "serie=pd.Series(lista)\n",
    "serie"
   ]
  },
  {
   "cell_type": "markdown",
   "id": "6bc8da9b-fa41-486a-b46f-b5ce68f60f41",
   "metadata": {},
   "source": [
    "Convertir el tipo de dato en la serie anterior a String"
   ]
  },
  {
   "cell_type": "code",
   "execution_count": 54,
   "id": "d60002cc-7d89-43aa-853d-310430e1e184",
   "metadata": {},
   "outputs": [
    {
     "data": {
      "text/plain": [
       "0    10\n",
       "1    22\n",
       "2    21\n",
       "dtype: object"
      ]
     },
     "execution_count": 54,
     "metadata": {},
     "output_type": "execute_result"
    }
   ],
   "source": [
    "serie.map(str)"
   ]
  },
  {
   "cell_type": "code",
   "execution_count": 55,
   "id": "b8880c16-b8cf-4e36-b8ca-15b4dd25c8ae",
   "metadata": {},
   "outputs": [
    {
     "data": {
      "text/plain": [
       "0    10\n",
       "1    22\n",
       "2    21\n",
       "dtype: string"
      ]
     },
     "execution_count": 55,
     "metadata": {},
     "output_type": "execute_result"
    }
   ],
   "source": [
    "serie.astype(\"string\")"
   ]
  },
  {
   "cell_type": "markdown",
   "id": "e61cd205-bbb0-4eec-afbe-553133b99876",
   "metadata": {},
   "source": [
    "__Ejercicio 2:__ "
   ]
  },
  {
   "cell_type": "code",
   "execution_count": 57,
   "id": "47a20f8c-3c04-40e8-b512-f4df93463a96",
   "metadata": {},
   "outputs": [],
   "source": [
    "lista=[\"Daniel Israel\",\"Rocio del Carmen\",\"Paulina Isabelle\", \"Elias Israel\"]"
   ]
  },
  {
   "cell_type": "markdown",
   "id": "6467b326-135e-4f7c-9f12-306bc27d1b43",
   "metadata": {},
   "source": [
    "Guardar la lista anterior en una serie llamada __\"nombres\"__"
   ]
  },
  {
   "cell_type": "code",
   "execution_count": 58,
   "id": "d357d1a7-f150-4ac4-8c6d-f6c12ad5cc39",
   "metadata": {},
   "outputs": [
    {
     "data": {
      "text/plain": [
       "0       Daniel Israel\n",
       "1    Rocio del Carmen\n",
       "2    Paulina Isabelle\n",
       "3        Elias Israel\n",
       "dtype: object"
      ]
     },
     "execution_count": 58,
     "metadata": {},
     "output_type": "execute_result"
    }
   ],
   "source": [
    "nombres=pd.Series(lista)\n",
    "nombres"
   ]
  },
  {
   "cell_type": "markdown",
   "id": "af6803ed-3d45-4c4b-bcdd-25ac99e8dc1a",
   "metadata": {},
   "source": [
    "Obtener la longitud de todos los nombres (Ej. Pedro=5)"
   ]
  },
  {
   "cell_type": "code",
   "execution_count": 68,
   "id": "fbfdfcdc-7d3c-4b41-a4a8-5e873f4a5e34",
   "metadata": {},
   "outputs": [
    {
     "data": {
      "text/plain": [
       "0    13\n",
       "1    16\n",
       "2    16\n",
       "3    12\n",
       "dtype: int64"
      ]
     },
     "execution_count": 68,
     "metadata": {},
     "output_type": "execute_result"
    }
   ],
   "source": [
    "nombres.str.len()"
   ]
  },
  {
   "cell_type": "markdown",
   "id": "d046e8e2-0f04-476e-9632-79a3bde19288",
   "metadata": {},
   "source": [
    "Cambiar todas las letras en los nombres a minuscula"
   ]
  },
  {
   "cell_type": "code",
   "execution_count": 69,
   "id": "288b9a27-8d9f-4ada-ae40-bcc4e083ed60",
   "metadata": {},
   "outputs": [
    {
     "data": {
      "text/plain": [
       "0       daniel israel\n",
       "1    rocio del carmen\n",
       "2    paulina isabelle\n",
       "3        elias israel\n",
       "dtype: object"
      ]
     },
     "execution_count": 69,
     "metadata": {},
     "output_type": "execute_result"
    }
   ],
   "source": [
    "nombres.str.lower()"
   ]
  },
  {
   "cell_type": "markdown",
   "id": "4b9fff39-5ce0-41bd-bd65-cffa3d7a704d",
   "metadata": {},
   "source": [
    "Cambiar todas las letras en los nombres a mayúscula"
   ]
  },
  {
   "cell_type": "code",
   "execution_count": 70,
   "id": "e6447b3f-512c-4bcd-8e13-eac164be835b",
   "metadata": {},
   "outputs": [
    {
     "data": {
      "text/plain": [
       "0       DANIEL ISRAEL\n",
       "1    ROCIO DEL CARMEN\n",
       "2    PAULINA ISABELLE\n",
       "3        ELIAS ISRAEL\n",
       "dtype: object"
      ]
     },
     "execution_count": 70,
     "metadata": {},
     "output_type": "execute_result"
    }
   ],
   "source": [
    "nombres.str.upper()"
   ]
  },
  {
   "cell_type": "markdown",
   "id": "2699c3c7-aeea-4b2d-aec3-50583ea9c610",
   "metadata": {},
   "source": [
    "__Ejercicio 3:__"
   ]
  },
  {
   "cell_type": "markdown",
   "id": "dcd5f759-ce77-4d21-807d-8bb84cf550d2",
   "metadata": {},
   "source": [
    "Cambiar la primera letra de cada palabra a mayúscula"
   ]
  },
  {
   "cell_type": "code",
   "execution_count": 65,
   "id": "1bd15eec-a5b3-4a5c-9168-fbe22c0f422a",
   "metadata": {},
   "outputs": [
    {
     "data": {
      "text/plain": [
       "0       Daniel Israel\n",
       "1    Rocio Del Carmen\n",
       "2    Paulina Isabelle\n",
       "3        Elias Israel\n",
       "dtype: object"
      ]
     },
     "execution_count": 65,
     "metadata": {},
     "output_type": "execute_result"
    }
   ],
   "source": [
    "nombres.str.title()"
   ]
  },
  {
   "cell_type": "markdown",
   "id": "c5c5eb85-5f00-4996-aec8-9964560e7259",
   "metadata": {},
   "source": [
    "Cambiar la primera letra de cada registro a mayúscula (Ej. manuel jesus= Manuel jesus)"
   ]
  },
  {
   "cell_type": "code",
   "execution_count": 67,
   "id": "a762128a-b834-4236-8ff6-e86734efa354",
   "metadata": {},
   "outputs": [
    {
     "data": {
      "text/plain": [
       "0       Daniel israel\n",
       "1    Rocio del carmen\n",
       "2    Paulina isabelle\n",
       "3        Elias israel\n",
       "dtype: object"
      ]
     },
     "execution_count": 67,
     "metadata": {},
     "output_type": "execute_result"
    }
   ],
   "source": [
    "nombres.str.capitalize()"
   ]
  },
  {
   "cell_type": "markdown",
   "id": "b3462022-f27c-4bf8-a5ee-1d8228cc8a5a",
   "metadata": {},
   "source": [
    "__Ejercicio 4:__ Obtener la cantidad de veces que se repite la letra \"a\" en cada nombre"
   ]
  },
  {
   "cell_type": "code",
   "execution_count": 74,
   "id": "373e4405-5cfd-4bd6-9876-41e9b8d603a3",
   "metadata": {},
   "outputs": [
    {
     "data": {
      "text/plain": [
       "0    1\n",
       "1    0\n",
       "2    0\n",
       "3    0\n",
       "dtype: int64"
      ]
     },
     "execution_count": 74,
     "metadata": {},
     "output_type": "execute_result"
    }
   ],
   "source": [
    "nombres.str.count(\"D\")"
   ]
  },
  {
   "cell_type": "code",
   "execution_count": 73,
   "id": "266b51d2-08d5-4595-b70f-6a6df5d2fd4e",
   "metadata": {},
   "outputs": [
    {
     "data": {
      "text/plain": [
       "0       Daniel Israel\n",
       "1    Rocio del Carmen\n",
       "2    Paulina Isabelle\n",
       "3        Elias Israel\n",
       "dtype: object"
      ]
     },
     "execution_count": 73,
     "metadata": {},
     "output_type": "execute_result"
    }
   ],
   "source": [
    "nombres"
   ]
  },
  {
   "cell_type": "markdown",
   "id": "7817dd4e-ae9e-4ba1-8862-75972f6dd2fb",
   "metadata": {},
   "source": [
    "__Ejercicio 5:__ Evaluar si los nombres anteriores empiezan con la cadena de caracteres \"Daniel\""
   ]
  },
  {
   "cell_type": "code",
   "execution_count": 81,
   "id": "6d008829-0a74-462f-9266-16c0ed777cd4",
   "metadata": {},
   "outputs": [
    {
     "data": {
      "text/plain": [
       "0    False\n",
       "1    False\n",
       "2    False\n",
       "3    False\n",
       "dtype: bool"
      ]
     },
     "execution_count": 82,
     "metadata": {},
     "output_type": "execute_result"
    }
   ],
   "source": [
    "nombres.str.match(\"\\waulina\")"
   ]
  },
  {
   "cell_type": "markdown",
   "id": "933db5d2-9635-4852-816b-1d80d6721482",
   "metadata": {},
   "source": [
    "__Ejercicio 6:__ Evaluar si los nombres contienen la cadena de caracteres \"Israel\""
   ]
  },
  {
   "cell_type": "code",
   "execution_count": 84,
   "id": "88ee0fad-37ea-455c-b334-df4c172642ff",
   "metadata": {},
   "outputs": [
    {
     "data": {
      "text/plain": [
       "0     True\n",
       "1    False\n",
       "2    False\n",
       "3     True\n",
       "dtype: bool"
      ]
     },
     "execution_count": 84,
     "metadata": {},
     "output_type": "execute_result"
    }
   ],
   "source": [
    "nombres.str.contains(\"Israel\")"
   ]
  },
  {
   "cell_type": "markdown",
   "id": "a3c828eb-146b-475f-b354-6112f74f3fe0",
   "metadata": {},
   "source": [
    "__Ejercicio 7:__ "
   ]
  },
  {
   "cell_type": "markdown",
   "id": "8acab436-fda9-4d60-8c41-e17018e72d01",
   "metadata": {},
   "source": [
    "Crear una serie llamada __apellidos__ en base a la siguiente lista:"
   ]
  },
  {
   "cell_type": "code",
   "execution_count": 85,
   "id": "bc15debc-3378-47db-98a3-39bba90d540d",
   "metadata": {},
   "outputs": [],
   "source": [
    "lista=[\"Romero\",\"Aguilar\",\"Mejia\",\"Rojas\"]"
   ]
  },
  {
   "cell_type": "code",
   "execution_count": 87,
   "id": "38a1f44b-debf-41c2-b0db-b29169faec7a",
   "metadata": {},
   "outputs": [
    {
     "data": {
      "text/plain": [
       "0     Romero\n",
       "1    Aguilar\n",
       "2      Mejia\n",
       "3      Rojas\n",
       "dtype: object"
      ]
     },
     "execution_count": 87,
     "metadata": {},
     "output_type": "execute_result"
    }
   ],
   "source": [
    "apellidos=pd.Series(lista)\n",
    "apellidos"
   ]
  },
  {
   "cell_type": "markdown",
   "id": "4006391f-ca33-4f4c-9987-fa923edd1c14",
   "metadata": {},
   "source": [
    "Evaluar si los apellidos empiezan por la letra \"R\""
   ]
  },
  {
   "cell_type": "code",
   "execution_count": 94,
   "id": "5f968b3e-da8c-4a70-bd42-72db07c6e383",
   "metadata": {},
   "outputs": [
    {
     "data": {
      "text/plain": [
       "0    False\n",
       "1    False\n",
       "2    False\n",
       "3    False\n",
       "dtype: bool"
      ]
     },
     "execution_count": 94,
     "metadata": {},
     "output_type": "execute_result"
    }
   ],
   "source": [
    "apellidos.str.startswith(\"\\wom\")"
   ]
  },
  {
   "cell_type": "code",
   "execution_count": 93,
   "id": "36e69a24-b4d7-47d0-8afe-3f06d8f0b097",
   "metadata": {},
   "outputs": [
    {
     "data": {
      "text/plain": [
       "0     True\n",
       "1    False\n",
       "2    False\n",
       "3    False\n",
       "dtype: bool"
      ]
     },
     "execution_count": 93,
     "metadata": {},
     "output_type": "execute_result"
    }
   ],
   "source": [
    "apellidos.str.match(\"\\wom\")"
   ]
  },
  {
   "cell_type": "markdown",
   "id": "9d6fb1be-7ddf-4bf3-b54d-2c8ffdfe7ca2",
   "metadata": {},
   "source": [
    "Evaluar si los apellidos terminan por la letra \"a\""
   ]
  },
  {
   "cell_type": "code",
   "execution_count": 96,
   "id": "484c7415-951b-465b-85ec-b39425715141",
   "metadata": {},
   "outputs": [
    {
     "data": {
      "text/plain": [
       "0    False\n",
       "1    False\n",
       "2     True\n",
       "3    False\n",
       "dtype: bool"
      ]
     },
     "execution_count": 96,
     "metadata": {},
     "output_type": "execute_result"
    }
   ],
   "source": [
    "apellidos.str.endswith(\"a\")"
   ]
  },
  {
   "cell_type": "markdown",
   "id": "558547e6-1a9e-4d72-a92e-eb32f910e74e",
   "metadata": {},
   "source": [
    "Obtener una serie nueva únicamente con los apellidos que terminan con la letra \"a\""
   ]
  },
  {
   "cell_type": "code",
   "execution_count": 97,
   "id": "fda0618f-3df0-4408-aeb0-d6e7d55d7d49",
   "metadata": {},
   "outputs": [
    {
     "data": {
      "text/plain": [
       "2    Mejia\n",
       "dtype: object"
      ]
     },
     "execution_count": 97,
     "metadata": {},
     "output_type": "execute_result"
    }
   ],
   "source": [
    "apellidos[apellidos.str.endswith(\"a\")]"
   ]
  },
  {
   "cell_type": "markdown",
   "id": "f011739e-8108-4d00-9395-e8bddecb1b2f",
   "metadata": {},
   "source": [
    "__Ejercicio 8:__ Concatenar las serie con los nombres y los apellidos"
   ]
  },
  {
   "cell_type": "code",
   "execution_count": 102,
   "id": "88569b57-2900-4295-b654-bcad153a90e7",
   "metadata": {},
   "outputs": [
    {
     "data": {
      "text/plain": [
       "0        Daniel Israel, Romero\n",
       "1    Rocio del Carmen, Aguilar\n",
       "2      Paulina Isabelle, Mejia\n",
       "3          Elias Israel, Rojas\n",
       "dtype: object"
      ]
     },
     "execution_count": 102,
     "metadata": {},
     "output_type": "execute_result"
    }
   ],
   "source": [
    "nombres.str.cat(apellidos,sep=\", \")"
   ]
  },
  {
   "cell_type": "code",
   "execution_count": 105,
   "id": "29523fae-2f54-4957-92ef-29f96bec9823",
   "metadata": {},
   "outputs": [
    {
     "data": {
      "text/plain": [
       "0        Daniel Israel Romero\n",
       "1    Rocio del Carmen Aguilar\n",
       "2      Paulina Isabelle Mejia\n",
       "3          Elias Israel Rojas\n",
       "dtype: object"
      ]
     },
     "execution_count": 105,
     "metadata": {},
     "output_type": "execute_result"
    }
   ],
   "source": [
    "nombres+\" \"+ apellidos"
   ]
  },
  {
   "cell_type": "code",
   "execution_count": null,
   "id": "28b22835-0f1d-465d-b9e9-4710e8322a76",
   "metadata": {},
   "outputs": [],
   "source": []
  },
  {
   "cell_type": "markdown",
   "id": "28bce8af-27fb-454c-9d0a-76053cd13917",
   "metadata": {},
   "source": [
    "__Ejercicio 9:__ Obtener las 3 primeras letras de los apellidos"
   ]
  },
  {
   "cell_type": "code",
   "execution_count": 107,
   "id": "156a9f1e-da19-4407-b21e-648bc6713007",
   "metadata": {},
   "outputs": [
    {
     "data": {
      "text/plain": [
       "0    Rom\n",
       "1    Agu\n",
       "2    Mej\n",
       "3    Roj\n",
       "dtype: object"
      ]
     },
     "execution_count": 107,
     "metadata": {},
     "output_type": "execute_result"
    }
   ],
   "source": [
    "apellidos.str.slice(start=0, stop=3)"
   ]
  },
  {
   "cell_type": "code",
   "execution_count": 108,
   "id": "e930be1a-4cdc-45d6-81ed-c49aed83174d",
   "metadata": {},
   "outputs": [
    {
     "data": {
      "text/plain": [
       "0     Romero\n",
       "1    Aguilar\n",
       "2      Mejia\n",
       "3      Rojas\n",
       "dtype: object"
      ]
     },
     "execution_count": 108,
     "metadata": {},
     "output_type": "execute_result"
    }
   ],
   "source": [
    "apellidos"
   ]
  },
  {
   "cell_type": "markdown",
   "id": "df1f6eb2-f6c5-41d8-be22-cafff2ac1a86",
   "metadata": {},
   "source": [
    "__Ejercicio 10:__ Obtener las 3 primeras letras de los apellidos y agregar un punto al final "
   ]
  },
  {
   "cell_type": "code",
   "execution_count": 114,
   "id": "1a9c72f1-336e-4f5b-999d-960227310715",
   "metadata": {},
   "outputs": [
    {
     "data": {
      "text/plain": [
       "0    Rom \n",
       "1    Agu \n",
       "2    Mej \n",
       "3    Roj \n",
       "dtype: object"
      ]
     },
     "execution_count": 114,
     "metadata": {},
     "output_type": "execute_result"
    }
   ],
   "source": [
    "apellidos.str.slice_replace(start=3, repl=\" \")"
   ]
  },
  {
   "cell_type": "markdown",
   "id": "e17582cf-9aa4-47d0-8025-cbcf62fbb714",
   "metadata": {},
   "source": [
    "__Ejercicio 11:__"
   ]
  },
  {
   "cell_type": "code",
   "execution_count": 115,
   "id": "8b84875d-95b2-415f-8809-25bdfd5e9039",
   "metadata": {},
   "outputs": [],
   "source": [
    "lista=[\"171\",\"Daniel\",\"Romero\",\"23\",\"True\"]"
   ]
  },
  {
   "cell_type": "markdown",
   "id": "e46ba612-963d-47fc-a6a6-01bc82905e6d",
   "metadata": {},
   "source": [
    "Guardar la lista anterior en una serie llamada \"datos\""
   ]
  },
  {
   "cell_type": "code",
   "execution_count": 117,
   "id": "92161cea-b63e-4c3d-a68c-2f537655e1db",
   "metadata": {},
   "outputs": [
    {
     "data": {
      "text/plain": [
       "0       171\n",
       "1    Daniel\n",
       "2    Romero\n",
       "3        23\n",
       "4      True\n",
       "dtype: object"
      ]
     },
     "execution_count": 117,
     "metadata": {},
     "output_type": "execute_result"
    }
   ],
   "source": [
    "datos=pd.Series(lista)\n",
    "datos"
   ]
  },
  {
   "cell_type": "markdown",
   "id": "f0268194-f752-42dc-8e53-4a8ff89f43cd",
   "metadata": {},
   "source": [
    "Evaluar cuales de los datos en la serie anterior pueden transformarse a numeros"
   ]
  },
  {
   "cell_type": "code",
   "execution_count": 118,
   "id": "99a3281c-26ea-4f33-82b3-0527d595d713",
   "metadata": {},
   "outputs": [
    {
     "data": {
      "text/plain": [
       "0     True\n",
       "1    False\n",
       "2    False\n",
       "3     True\n",
       "4    False\n",
       "dtype: bool"
      ]
     },
     "execution_count": 118,
     "metadata": {},
     "output_type": "execute_result"
    }
   ],
   "source": [
    "datos.str.isdecimal()"
   ]
  },
  {
   "cell_type": "markdown",
   "id": "d5fa55f9-c64b-40c9-bf63-6c77300145e5",
   "metadata": {},
   "source": [
    "Obtener una serie nueva únicamente con los registros númericos dentro de \"datos\""
   ]
  },
  {
   "cell_type": "code",
   "execution_count": 123,
   "id": "23c7cd70-57a8-43e4-ac85-231020c6751c",
   "metadata": {},
   "outputs": [
    {
     "data": {
      "text/plain": [
       "0    171\n",
       "3     23\n",
       "dtype: int64"
      ]
     },
     "execution_count": 123,
     "metadata": {},
     "output_type": "execute_result"
    }
   ],
   "source": [
    "datos[datos.str.isdecimal()].apply(int)"
   ]
  },
  {
   "cell_type": "markdown",
   "id": "2e66ffcf-ec0e-4702-96d7-158f06e4f591",
   "metadata": {},
   "source": [
    "Unir todos los datos de la serie \"datos\" en un único string"
   ]
  },
  {
   "cell_type": "code",
   "execution_count": 125,
   "id": "53bb08c8-8207-4a8a-9d35-0bb36723f706",
   "metadata": {},
   "outputs": [
    {
     "data": {
      "text/plain": [
       "'171 Daniel Romero 23 True'"
      ]
     },
     "execution_count": 125,
     "metadata": {},
     "output_type": "execute_result"
    }
   ],
   "source": [
    "datos.str.cat(sep=\" \")"
   ]
  },
  {
   "cell_type": "markdown",
   "id": "14d36a02-cfbe-4ec6-aad0-1d73397b57be",
   "metadata": {},
   "source": [
    "__Ejercicio 12:__"
   ]
  },
  {
   "cell_type": "code",
   "execution_count": 126,
   "id": "c41274f7-3658-4c76-baa3-9a5f9dd664a3",
   "metadata": {},
   "outputs": [],
   "source": [
    "lista=[\"12-12-2020\",\"08-11-2021\",\"15-01-2019\"]"
   ]
  },
  {
   "cell_type": "markdown",
   "id": "02d82966-e3f1-4c9e-8298-85b55354cf8f",
   "metadata": {},
   "source": [
    "Guardar la lista anterior en una serie llamada fechas"
   ]
  },
  {
   "cell_type": "code",
   "execution_count": null,
   "id": "7ed5902d-45b3-4ca8-a1a4-8ad1e1b4b848",
   "metadata": {},
   "outputs": [],
   "source": []
  },
  {
   "cell_type": "markdown",
   "id": "4f771748-79e4-4bf5-831f-fb5b95c51c94",
   "metadata": {},
   "source": [
    "Reemplazar los separadores \"-\" por \"/\" en las fechas anteriores (Ej. \"12-12-2020\" =\"12/12/2020\")"
   ]
  },
  {
   "cell_type": "code",
   "execution_count": null,
   "id": "93465147-4d52-4a2b-8e95-36eb4af344d6",
   "metadata": {},
   "outputs": [],
   "source": []
  },
  {
   "cell_type": "markdown",
   "id": "cc298c40-019d-443c-af3d-7da71b7b99b8",
   "metadata": {},
   "source": [
    "__Ejercicio 13:__ Separar la fecha en dia, mes y año, utilizando la función split"
   ]
  },
  {
   "cell_type": "code",
   "execution_count": null,
   "id": "cc123d9e-5f3e-4e5f-a580-0c8e64d1f57d",
   "metadata": {},
   "outputs": [],
   "source": []
  },
  {
   "cell_type": "markdown",
   "id": "5fcfb148-21c3-468f-a9b2-c5d42d658d3d",
   "metadata": {},
   "source": [
    "__Ejercicio 14:__ Obtener el año de cada fecha"
   ]
  },
  {
   "cell_type": "code",
   "execution_count": 133,
   "id": "8783d99c-21c4-4197-95ac-ce61cb9546a4",
   "metadata": {},
   "outputs": [
    {
     "data": {
      "text/plain": [
       "0    2020\n",
       "1    2021\n",
       "2    2019\n",
       "dtype: object"
      ]
     },
     "execution_count": 133,
     "metadata": {},
     "output_type": "execute_result"
    }
   ],
   "source": [
    "fechas.str.split(\"-\").str.get(2)"
   ]
  },
  {
   "cell_type": "markdown",
   "id": "acdf9ada-979c-4fe6-8f33-cbe6c7517028",
   "metadata": {},
   "source": [
    "__Ejercicio 15:__ Generar un DataFrane a partir de la serie fechas, utilizando la funcion split"
   ]
  },
  {
   "cell_type": "code",
   "execution_count": 135,
   "id": "91514250-6f13-4065-bf3e-51036dce56db",
   "metadata": {},
   "outputs": [
    {
     "data": {
      "text/html": [
       "<div>\n",
       "<style scoped>\n",
       "    .dataframe tbody tr th:only-of-type {\n",
       "        vertical-align: middle;\n",
       "    }\n",
       "\n",
       "    .dataframe tbody tr th {\n",
       "        vertical-align: top;\n",
       "    }\n",
       "\n",
       "    .dataframe thead th {\n",
       "        text-align: right;\n",
       "    }\n",
       "</style>\n",
       "<table border=\"1\" class=\"dataframe\">\n",
       "  <thead>\n",
       "    <tr style=\"text-align: right;\">\n",
       "      <th></th>\n",
       "      <th>0</th>\n",
       "      <th>1</th>\n",
       "      <th>2</th>\n",
       "    </tr>\n",
       "  </thead>\n",
       "  <tbody>\n",
       "    <tr>\n",
       "      <th>0</th>\n",
       "      <td>12</td>\n",
       "      <td>12</td>\n",
       "      <td>2020</td>\n",
       "    </tr>\n",
       "    <tr>\n",
       "      <th>1</th>\n",
       "      <td>08</td>\n",
       "      <td>11</td>\n",
       "      <td>2021</td>\n",
       "    </tr>\n",
       "    <tr>\n",
       "      <th>2</th>\n",
       "      <td>15</td>\n",
       "      <td>01</td>\n",
       "      <td>2019</td>\n",
       "    </tr>\n",
       "  </tbody>\n",
       "</table>\n",
       "</div>"
      ],
      "text/plain": [
       "    0   1     2\n",
       "0  12  12  2020\n",
       "1  08  11  2021\n",
       "2  15  01  2019"
      ]
     },
     "execution_count": 135,
     "metadata": {},
     "output_type": "execute_result"
    }
   ],
   "source": [
    "fechas_df=fechas.str.split(\"-\",expand=True)\n",
    "fechas_df"
   ]
  },
  {
   "cell_type": "code",
   "execution_count": 138,
   "id": "a6f1e922-20e3-47aa-9533-ef3c8833cea8",
   "metadata": {},
   "outputs": [
    {
     "data": {
      "text/html": [
       "<div>\n",
       "<style scoped>\n",
       "    .dataframe tbody tr th:only-of-type {\n",
       "        vertical-align: middle;\n",
       "    }\n",
       "\n",
       "    .dataframe tbody tr th {\n",
       "        vertical-align: top;\n",
       "    }\n",
       "\n",
       "    .dataframe thead th {\n",
       "        text-align: right;\n",
       "    }\n",
       "</style>\n",
       "<table border=\"1\" class=\"dataframe\">\n",
       "  <thead>\n",
       "    <tr style=\"text-align: right;\">\n",
       "      <th></th>\n",
       "      <th>dia</th>\n",
       "      <th>mes</th>\n",
       "      <th>año</th>\n",
       "    </tr>\n",
       "  </thead>\n",
       "  <tbody>\n",
       "    <tr>\n",
       "      <th>0</th>\n",
       "      <td>12</td>\n",
       "      <td>12</td>\n",
       "      <td>2020</td>\n",
       "    </tr>\n",
       "    <tr>\n",
       "      <th>1</th>\n",
       "      <td>08</td>\n",
       "      <td>11</td>\n",
       "      <td>2021</td>\n",
       "    </tr>\n",
       "    <tr>\n",
       "      <th>2</th>\n",
       "      <td>15</td>\n",
       "      <td>01</td>\n",
       "      <td>2019</td>\n",
       "    </tr>\n",
       "  </tbody>\n",
       "</table>\n",
       "</div>"
      ],
      "text/plain": [
       "  dia mes   año\n",
       "0  12  12  2020\n",
       "1  08  11  2021\n",
       "2  15  01  2019"
      ]
     },
     "execution_count": 138,
     "metadata": {},
     "output_type": "execute_result"
    }
   ],
   "source": [
    "fechas_df.columns=[\"dia\",\"mes\",\"año\"]\n",
    "fechas_df"
   ]
  },
  {
   "cell_type": "markdown",
   "id": "69b9c41d-acee-43a9-9066-d2511c8047cd",
   "metadata": {},
   "source": [
    "__Ejercicio 16:__"
   ]
  },
  {
   "cell_type": "code",
   "execution_count": 148,
   "id": "6fabe84b-ad39-4919-b59e-bb2a294e9f7a",
   "metadata": {},
   "outputs": [],
   "source": [
    "lista=[\"Raul Jose\",\"Sofía Yasmin\",\"Julia Carmen\", \"Roberto Miguel\"]"
   ]
  },
  {
   "cell_type": "markdown",
   "id": "562c086e-dca0-4c7a-839f-d3637c2d22bd",
   "metadata": {},
   "source": [
    "Guardar la lista anterior en una serie llamada nombres"
   ]
  },
  {
   "cell_type": "code",
   "execution_count": 149,
   "id": "1181eb33-6b86-4ecb-a03d-8ad07b11f324",
   "metadata": {},
   "outputs": [
    {
     "data": {
      "text/plain": [
       "0         Raul Jose\n",
       "1      Sofía Yasmin\n",
       "2      Julia Carmen\n",
       "3    Roberto Miguel\n",
       "dtype: object"
      ]
     },
     "execution_count": 149,
     "metadata": {},
     "output_type": "execute_result"
    }
   ],
   "source": [
    "nombres=pd.Series(lista)\n",
    "nombres"
   ]
  },
  {
   "cell_type": "markdown",
   "id": "c4983ecc-65e8-46c1-a2a3-48728d9dd32e",
   "metadata": {},
   "source": [
    "Cambiar a letras minusculas los nombres que terminen en la letra \"n\""
   ]
  },
  {
   "cell_type": "code",
   "execution_count": 150,
   "id": "e0d507bf-b4cd-4103-ad45-bb082a36481a",
   "metadata": {},
   "outputs": [
    {
     "data": {
      "text/plain": [
       "0         Raul Jose\n",
       "1      sofía yasmin\n",
       "2      julia carmen\n",
       "3    Roberto Miguel\n",
       "dtype: object"
      ]
     },
     "execution_count": 150,
     "metadata": {},
     "output_type": "execute_result"
    }
   ],
   "source": [
    "nombres[nombres.str.endswith(\"n\")]=nombres[nombres.str.endswith(\"n\")].str.lower()\n",
    "nombres"
   ]
  },
  {
   "cell_type": "markdown",
   "id": "d95bbfe5-e6f9-4d55-864b-7bc08cb26d3d",
   "metadata": {},
   "source": [
    "Cambiar a letras mayusculas los nombres que empiecen con la letra \"R\""
   ]
  },
  {
   "cell_type": "code",
   "execution_count": 153,
   "id": "c6bbefae-c538-4bb3-bef7-c25c279132a0",
   "metadata": {},
   "outputs": [
    {
     "data": {
      "text/plain": [
       "0         RAUL JOSE\n",
       "1      sofía yasmin\n",
       "2      julia carmen\n",
       "3    ROBERTO MIGUEL\n",
       "dtype: object"
      ]
     },
     "execution_count": 153,
     "metadata": {},
     "output_type": "execute_result"
    }
   ],
   "source": [
    "nombres[nombres.str.startswith(\"R\")]=nombres[nombres.str.startswith(\"R\")].str.upper()\n",
    "nombres"
   ]
  },
  {
   "cell_type": "markdown",
   "id": "2bf5680e-372b-4923-99bc-7727cd0b98d4",
   "metadata": {},
   "source": [
    "__Ejercicio 17:__"
   ]
  },
  {
   "cell_type": "markdown",
   "id": "38597ebd-6a73-4384-9dd9-956cf731db6a",
   "metadata": {},
   "source": [
    "Importar los datos del archivo \"mascotas.xlsx\" utilizando pandas y guardarlos en un DataFrame llamado \"mascotas\""
   ]
  },
  {
   "cell_type": "code",
   "execution_count": 156,
   "id": "f901204e-33bd-436c-b3f3-681043d67bab",
   "metadata": {},
   "outputs": [
    {
     "data": {
      "text/html": [
       "<div>\n",
       "<style scoped>\n",
       "    .dataframe tbody tr th:only-of-type {\n",
       "        vertical-align: middle;\n",
       "    }\n",
       "\n",
       "    .dataframe tbody tr th {\n",
       "        vertical-align: top;\n",
       "    }\n",
       "\n",
       "    .dataframe thead th {\n",
       "        text-align: right;\n",
       "    }\n",
       "</style>\n",
       "<table border=\"1\" class=\"dataframe\">\n",
       "  <thead>\n",
       "    <tr style=\"text-align: right;\">\n",
       "      <th></th>\n",
       "      <th>nombre</th>\n",
       "      <th>tipo</th>\n",
       "    </tr>\n",
       "  </thead>\n",
       "  <tbody>\n",
       "    <tr>\n",
       "      <th>0</th>\n",
       "      <td>Nala</td>\n",
       "      <td>Perro</td>\n",
       "    </tr>\n",
       "    <tr>\n",
       "      <th>1</th>\n",
       "      <td>Lola</td>\n",
       "      <td>Perro</td>\n",
       "    </tr>\n",
       "    <tr>\n",
       "      <th>2</th>\n",
       "      <td>Bella</td>\n",
       "      <td>Perro</td>\n",
       "    </tr>\n",
       "    <tr>\n",
       "      <th>3</th>\n",
       "      <td>Linda</td>\n",
       "      <td>Gato</td>\n",
       "    </tr>\n",
       "    <tr>\n",
       "      <th>4</th>\n",
       "      <td>Kiara</td>\n",
       "      <td>Perro</td>\n",
       "    </tr>\n",
       "  </tbody>\n",
       "</table>\n",
       "</div>"
      ],
      "text/plain": [
       "  nombre   tipo\n",
       "0   Nala  Perro\n",
       "1   Lola  Perro\n",
       "2  Bella  Perro\n",
       "3  Linda   Gato\n",
       "4  Kiara  Perro"
      ]
     },
     "execution_count": 156,
     "metadata": {},
     "output_type": "execute_result"
    }
   ],
   "source": [
    "mascotas=pd.read_excel(\"./mascotas.xlsx\")\n",
    "mascotas.head()"
   ]
  },
  {
   "cell_type": "markdown",
   "id": "2e518973-459e-4358-bad5-1ff203e886b5",
   "metadata": {},
   "source": [
    "Cambiar las letras a mayusculas en el dato de la columna \"tipo\" si contiene la silaba \"rro\""
   ]
  },
  {
   "cell_type": "code",
   "execution_count": 162,
   "id": "dbc50de7-5e03-4cbd-b44d-9eff6e504eb5",
   "metadata": {},
   "outputs": [
    {
     "data": {
      "text/html": [
       "<div>\n",
       "<style scoped>\n",
       "    .dataframe tbody tr th:only-of-type {\n",
       "        vertical-align: middle;\n",
       "    }\n",
       "\n",
       "    .dataframe tbody tr th {\n",
       "        vertical-align: top;\n",
       "    }\n",
       "\n",
       "    .dataframe thead th {\n",
       "        text-align: right;\n",
       "    }\n",
       "</style>\n",
       "<table border=\"1\" class=\"dataframe\">\n",
       "  <thead>\n",
       "    <tr style=\"text-align: right;\">\n",
       "      <th></th>\n",
       "      <th>nombre</th>\n",
       "      <th>tipo</th>\n",
       "    </tr>\n",
       "  </thead>\n",
       "  <tbody>\n",
       "    <tr>\n",
       "      <th>0</th>\n",
       "      <td>Nala</td>\n",
       "      <td>PERRO</td>\n",
       "    </tr>\n",
       "    <tr>\n",
       "      <th>1</th>\n",
       "      <td>Lola</td>\n",
       "      <td>PERRO</td>\n",
       "    </tr>\n",
       "    <tr>\n",
       "      <th>2</th>\n",
       "      <td>Bella</td>\n",
       "      <td>PERRO</td>\n",
       "    </tr>\n",
       "    <tr>\n",
       "      <th>3</th>\n",
       "      <td>Linda</td>\n",
       "      <td>Gato</td>\n",
       "    </tr>\n",
       "    <tr>\n",
       "      <th>4</th>\n",
       "      <td>Kiara</td>\n",
       "      <td>PERRO</td>\n",
       "    </tr>\n",
       "    <tr>\n",
       "      <th>5</th>\n",
       "      <td>Luna</td>\n",
       "      <td>Gato</td>\n",
       "    </tr>\n",
       "    <tr>\n",
       "      <th>6</th>\n",
       "      <td>Nina</td>\n",
       "      <td>PERRO</td>\n",
       "    </tr>\n",
       "    <tr>\n",
       "      <th>7</th>\n",
       "      <td>Gala</td>\n",
       "      <td>Gato</td>\n",
       "    </tr>\n",
       "    <tr>\n",
       "      <th>8</th>\n",
       "      <td>Max</td>\n",
       "      <td>PERRO</td>\n",
       "    </tr>\n",
       "    <tr>\n",
       "      <th>9</th>\n",
       "      <td>Leo</td>\n",
       "      <td>PERRO</td>\n",
       "    </tr>\n",
       "    <tr>\n",
       "      <th>10</th>\n",
       "      <td>Rocky</td>\n",
       "      <td>Gato</td>\n",
       "    </tr>\n",
       "    <tr>\n",
       "      <th>11</th>\n",
       "      <td>Toby</td>\n",
       "      <td>Gato</td>\n",
       "    </tr>\n",
       "    <tr>\n",
       "      <th>12</th>\n",
       "      <td>Bruno</td>\n",
       "      <td>Gato</td>\n",
       "    </tr>\n",
       "    <tr>\n",
       "      <th>13</th>\n",
       "      <td>Otto</td>\n",
       "      <td>PERRO</td>\n",
       "    </tr>\n",
       "    <tr>\n",
       "      <th>14</th>\n",
       "      <td>Greta</td>\n",
       "      <td>PERRO</td>\n",
       "    </tr>\n",
       "    <tr>\n",
       "      <th>15</th>\n",
       "      <td>Milo</td>\n",
       "      <td>PERRO</td>\n",
       "    </tr>\n",
       "    <tr>\n",
       "      <th>16</th>\n",
       "      <td>Bruce</td>\n",
       "      <td>PERRO</td>\n",
       "    </tr>\n",
       "    <tr>\n",
       "      <th>17</th>\n",
       "      <td>Sam</td>\n",
       "      <td>Gato</td>\n",
       "    </tr>\n",
       "    <tr>\n",
       "      <th>18</th>\n",
       "      <td>Buddy</td>\n",
       "      <td>Gato</td>\n",
       "    </tr>\n",
       "    <tr>\n",
       "      <th>19</th>\n",
       "      <td>Gus</td>\n",
       "      <td>PERRO</td>\n",
       "    </tr>\n",
       "    <tr>\n",
       "      <th>20</th>\n",
       "      <td>Charly</td>\n",
       "      <td>Gato</td>\n",
       "    </tr>\n",
       "    <tr>\n",
       "      <th>21</th>\n",
       "      <td>Tom</td>\n",
       "      <td>Gato</td>\n",
       "    </tr>\n",
       "    <tr>\n",
       "      <th>22</th>\n",
       "      <td>Elvis</td>\n",
       "      <td>Gato</td>\n",
       "    </tr>\n",
       "    <tr>\n",
       "      <th>23</th>\n",
       "      <td>Luca</td>\n",
       "      <td>Gato</td>\n",
       "    </tr>\n",
       "    <tr>\n",
       "      <th>24</th>\n",
       "      <td>Rex</td>\n",
       "      <td>Gato</td>\n",
       "    </tr>\n",
       "    <tr>\n",
       "      <th>25</th>\n",
       "      <td>Bobby</td>\n",
       "      <td>PERRO</td>\n",
       "    </tr>\n",
       "    <tr>\n",
       "      <th>26</th>\n",
       "      <td>Chester</td>\n",
       "      <td>PERRO</td>\n",
       "    </tr>\n",
       "    <tr>\n",
       "      <th>27</th>\n",
       "      <td>Teddy</td>\n",
       "      <td>PERRO</td>\n",
       "    </tr>\n",
       "    <tr>\n",
       "      <th>28</th>\n",
       "      <td>Marley</td>\n",
       "      <td>PERRO</td>\n",
       "    </tr>\n",
       "    <tr>\n",
       "      <th>29</th>\n",
       "      <td>Copito</td>\n",
       "      <td>Gato</td>\n",
       "    </tr>\n",
       "    <tr>\n",
       "      <th>30</th>\n",
       "      <td>Betsy</td>\n",
       "      <td>PERRO</td>\n",
       "    </tr>\n",
       "    <tr>\n",
       "      <th>31</th>\n",
       "      <td>Perri</td>\n",
       "      <td>PERRO</td>\n",
       "    </tr>\n",
       "    <tr>\n",
       "      <th>32</th>\n",
       "      <td>Amy</td>\n",
       "      <td>PERRO</td>\n",
       "    </tr>\n",
       "  </tbody>\n",
       "</table>\n",
       "</div>"
      ],
      "text/plain": [
       "     nombre   tipo\n",
       "0      Nala  PERRO\n",
       "1      Lola  PERRO\n",
       "2     Bella  PERRO\n",
       "3     Linda   Gato\n",
       "4     Kiara  PERRO\n",
       "5      Luna   Gato\n",
       "6      Nina  PERRO\n",
       "7      Gala   Gato\n",
       "8       Max  PERRO\n",
       "9       Leo  PERRO\n",
       "10    Rocky   Gato\n",
       "11     Toby   Gato\n",
       "12    Bruno   Gato\n",
       "13     Otto  PERRO\n",
       "14    Greta  PERRO\n",
       "15     Milo  PERRO\n",
       "16    Bruce  PERRO\n",
       "17      Sam   Gato\n",
       "18    Buddy   Gato\n",
       "19      Gus  PERRO\n",
       "20   Charly   Gato\n",
       "21      Tom   Gato\n",
       "22    Elvis   Gato\n",
       "23     Luca   Gato\n",
       "24      Rex   Gato\n",
       "25    Bobby  PERRO\n",
       "26  Chester  PERRO\n",
       "27    Teddy  PERRO\n",
       "28   Marley  PERRO\n",
       "29   Copito   Gato\n",
       "30    Betsy  PERRO\n",
       "31    Perri  PERRO\n",
       "32      Amy  PERRO"
      ]
     },
     "execution_count": 162,
     "metadata": {},
     "output_type": "execute_result"
    }
   ],
   "source": [
    "mascotas.tipo[mascotas.tipo.str.contains(\"rro\")]=mascotas.tipo[mascotas.tipo.str.contains(\"rro\")].str.upper()\n",
    "mascotas"
   ]
  },
  {
   "cell_type": "markdown",
   "id": "6da19721-6e4d-437a-9dc4-e39214d17c85",
   "metadata": {},
   "source": [
    "__Ejercicio 18:__ Cambiar las letras a minusculas en el dato de la columna \"tipo\" si empieza con la silaba \"Ga\""
   ]
  },
  {
   "cell_type": "code",
   "execution_count": 166,
   "id": "5c4fef3b-1dbd-4206-8c14-a1bd148e7cd0",
   "metadata": {},
   "outputs": [],
   "source": [
    "mascotas.tipo[mascotas.tipo.str.startswith(\"Ga\")]=mascotas.tipo[mascotas.tipo.str.startswith(\"Ga\")].str.lower()"
   ]
  },
  {
   "cell_type": "code",
   "execution_count": 167,
   "id": "3d778311-1436-4e89-a308-c33f55806a1e",
   "metadata": {},
   "outputs": [
    {
     "data": {
      "text/html": [
       "<div>\n",
       "<style scoped>\n",
       "    .dataframe tbody tr th:only-of-type {\n",
       "        vertical-align: middle;\n",
       "    }\n",
       "\n",
       "    .dataframe tbody tr th {\n",
       "        vertical-align: top;\n",
       "    }\n",
       "\n",
       "    .dataframe thead th {\n",
       "        text-align: right;\n",
       "    }\n",
       "</style>\n",
       "<table border=\"1\" class=\"dataframe\">\n",
       "  <thead>\n",
       "    <tr style=\"text-align: right;\">\n",
       "      <th></th>\n",
       "      <th>nombre</th>\n",
       "      <th>tipo</th>\n",
       "    </tr>\n",
       "  </thead>\n",
       "  <tbody>\n",
       "    <tr>\n",
       "      <th>0</th>\n",
       "      <td>Nala</td>\n",
       "      <td>PERRO</td>\n",
       "    </tr>\n",
       "    <tr>\n",
       "      <th>1</th>\n",
       "      <td>Lola</td>\n",
       "      <td>PERRO</td>\n",
       "    </tr>\n",
       "    <tr>\n",
       "      <th>2</th>\n",
       "      <td>Bella</td>\n",
       "      <td>PERRO</td>\n",
       "    </tr>\n",
       "    <tr>\n",
       "      <th>3</th>\n",
       "      <td>Linda</td>\n",
       "      <td>gato</td>\n",
       "    </tr>\n",
       "    <tr>\n",
       "      <th>4</th>\n",
       "      <td>Kiara</td>\n",
       "      <td>PERRO</td>\n",
       "    </tr>\n",
       "    <tr>\n",
       "      <th>5</th>\n",
       "      <td>Luna</td>\n",
       "      <td>gato</td>\n",
       "    </tr>\n",
       "    <tr>\n",
       "      <th>6</th>\n",
       "      <td>Nina</td>\n",
       "      <td>PERRO</td>\n",
       "    </tr>\n",
       "    <tr>\n",
       "      <th>7</th>\n",
       "      <td>Gala</td>\n",
       "      <td>gato</td>\n",
       "    </tr>\n",
       "    <tr>\n",
       "      <th>8</th>\n",
       "      <td>Max</td>\n",
       "      <td>PERRO</td>\n",
       "    </tr>\n",
       "    <tr>\n",
       "      <th>9</th>\n",
       "      <td>Leo</td>\n",
       "      <td>PERRO</td>\n",
       "    </tr>\n",
       "    <tr>\n",
       "      <th>10</th>\n",
       "      <td>Rocky</td>\n",
       "      <td>gato</td>\n",
       "    </tr>\n",
       "    <tr>\n",
       "      <th>11</th>\n",
       "      <td>Toby</td>\n",
       "      <td>gato</td>\n",
       "    </tr>\n",
       "    <tr>\n",
       "      <th>12</th>\n",
       "      <td>Bruno</td>\n",
       "      <td>gato</td>\n",
       "    </tr>\n",
       "    <tr>\n",
       "      <th>13</th>\n",
       "      <td>Otto</td>\n",
       "      <td>PERRO</td>\n",
       "    </tr>\n",
       "    <tr>\n",
       "      <th>14</th>\n",
       "      <td>Greta</td>\n",
       "      <td>PERRO</td>\n",
       "    </tr>\n",
       "    <tr>\n",
       "      <th>15</th>\n",
       "      <td>Milo</td>\n",
       "      <td>PERRO</td>\n",
       "    </tr>\n",
       "    <tr>\n",
       "      <th>16</th>\n",
       "      <td>Bruce</td>\n",
       "      <td>PERRO</td>\n",
       "    </tr>\n",
       "    <tr>\n",
       "      <th>17</th>\n",
       "      <td>Sam</td>\n",
       "      <td>gato</td>\n",
       "    </tr>\n",
       "    <tr>\n",
       "      <th>18</th>\n",
       "      <td>Buddy</td>\n",
       "      <td>gato</td>\n",
       "    </tr>\n",
       "    <tr>\n",
       "      <th>19</th>\n",
       "      <td>Gus</td>\n",
       "      <td>PERRO</td>\n",
       "    </tr>\n",
       "    <tr>\n",
       "      <th>20</th>\n",
       "      <td>Charly</td>\n",
       "      <td>gato</td>\n",
       "    </tr>\n",
       "    <tr>\n",
       "      <th>21</th>\n",
       "      <td>Tom</td>\n",
       "      <td>gato</td>\n",
       "    </tr>\n",
       "    <tr>\n",
       "      <th>22</th>\n",
       "      <td>Elvis</td>\n",
       "      <td>gato</td>\n",
       "    </tr>\n",
       "    <tr>\n",
       "      <th>23</th>\n",
       "      <td>Luca</td>\n",
       "      <td>gato</td>\n",
       "    </tr>\n",
       "    <tr>\n",
       "      <th>24</th>\n",
       "      <td>Rex</td>\n",
       "      <td>gato</td>\n",
       "    </tr>\n",
       "    <tr>\n",
       "      <th>25</th>\n",
       "      <td>Bobby</td>\n",
       "      <td>PERRO</td>\n",
       "    </tr>\n",
       "    <tr>\n",
       "      <th>26</th>\n",
       "      <td>Chester</td>\n",
       "      <td>PERRO</td>\n",
       "    </tr>\n",
       "    <tr>\n",
       "      <th>27</th>\n",
       "      <td>Teddy</td>\n",
       "      <td>PERRO</td>\n",
       "    </tr>\n",
       "    <tr>\n",
       "      <th>28</th>\n",
       "      <td>Marley</td>\n",
       "      <td>PERRO</td>\n",
       "    </tr>\n",
       "    <tr>\n",
       "      <th>29</th>\n",
       "      <td>Copito</td>\n",
       "      <td>gato</td>\n",
       "    </tr>\n",
       "    <tr>\n",
       "      <th>30</th>\n",
       "      <td>Betsy</td>\n",
       "      <td>PERRO</td>\n",
       "    </tr>\n",
       "    <tr>\n",
       "      <th>31</th>\n",
       "      <td>Perri</td>\n",
       "      <td>PERRO</td>\n",
       "    </tr>\n",
       "    <tr>\n",
       "      <th>32</th>\n",
       "      <td>Amy</td>\n",
       "      <td>PERRO</td>\n",
       "    </tr>\n",
       "  </tbody>\n",
       "</table>\n",
       "</div>"
      ],
      "text/plain": [
       "     nombre   tipo\n",
       "0      Nala  PERRO\n",
       "1      Lola  PERRO\n",
       "2     Bella  PERRO\n",
       "3     Linda   gato\n",
       "4     Kiara  PERRO\n",
       "5      Luna   gato\n",
       "6      Nina  PERRO\n",
       "7      Gala   gato\n",
       "8       Max  PERRO\n",
       "9       Leo  PERRO\n",
       "10    Rocky   gato\n",
       "11     Toby   gato\n",
       "12    Bruno   gato\n",
       "13     Otto  PERRO\n",
       "14    Greta  PERRO\n",
       "15     Milo  PERRO\n",
       "16    Bruce  PERRO\n",
       "17      Sam   gato\n",
       "18    Buddy   gato\n",
       "19      Gus  PERRO\n",
       "20   Charly   gato\n",
       "21      Tom   gato\n",
       "22    Elvis   gato\n",
       "23     Luca   gato\n",
       "24      Rex   gato\n",
       "25    Bobby  PERRO\n",
       "26  Chester  PERRO\n",
       "27    Teddy  PERRO\n",
       "28   Marley  PERRO\n",
       "29   Copito   gato\n",
       "30    Betsy  PERRO\n",
       "31    Perri  PERRO\n",
       "32      Amy  PERRO"
      ]
     },
     "execution_count": 167,
     "metadata": {},
     "output_type": "execute_result"
    }
   ],
   "source": [
    "mascotas"
   ]
  },
  {
   "cell_type": "code",
   "execution_count": null,
   "id": "564e6e83-f565-42ad-928d-b85d89c0e54a",
   "metadata": {},
   "outputs": [],
   "source": []
  }
 ],
 "metadata": {
  "kernelspec": {
   "display_name": "Python 3 (ipykernel)",
   "language": "python",
   "name": "python3"
  },
  "language_info": {
   "codemirror_mode": {
    "name": "ipython",
    "version": 3
   },
   "file_extension": ".py",
   "mimetype": "text/x-python",
   "name": "python",
   "nbconvert_exporter": "python",
   "pygments_lexer": "ipython3",
   "version": "3.9.7"
  }
 },
 "nbformat": 4,
 "nbformat_minor": 5
}
