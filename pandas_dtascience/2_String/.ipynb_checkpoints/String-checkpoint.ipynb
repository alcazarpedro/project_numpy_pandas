{
 "cells": [
  {
   "cell_type": "markdown",
   "id": "8d7c0928-2176-460d-9a59-cf40a78d87c8",
   "metadata": {},
   "source": [
    "# Strings "
   ]
  },
  {
   "cell_type": "code",
   "execution_count": 2,
   "id": "1671ab1a-fa0c-4f1f-a316-63ac1fc88d46",
   "metadata": {},
   "outputs": [],
   "source": [
    "import pandas as pd"
   ]
  },
  {
   "cell_type": "markdown",
   "id": "cfb5b2cf-ed95-473a-83dc-90c0a64c2956",
   "metadata": {},
   "source": [
    "__Ejercicio 1:__"
   ]
  },
  {
   "cell_type": "markdown",
   "id": "6b48db1d-f2fd-4815-9f48-a2373ecc119c",
   "metadata": {},
   "source": [
    "Guardar la lista anterior en una serie llamada numeros"
   ]
  },
  {
   "cell_type": "code",
   "execution_count": 1,
   "id": "7e6b5092-13dd-4143-a654-4b5a3b776848",
   "metadata": {},
   "outputs": [],
   "source": [
    "lista=[10,22,21]"
   ]
  },
  {
   "cell_type": "code",
   "execution_count": null,
   "id": "9ea2cad6-896c-488d-976e-cf5401454226",
   "metadata": {},
   "outputs": [],
   "source": []
  },
  {
   "cell_type": "code",
   "execution_count": null,
   "id": "47749d45-05b8-436a-9751-222700069a60",
   "metadata": {},
   "outputs": [],
   "source": []
  },
  {
   "cell_type": "markdown",
   "id": "6bc8da9b-fa41-486a-b46f-b5ce68f60f41",
   "metadata": {},
   "source": [
    "Convertir el tipo de dato en la serie anterior a String"
   ]
  },
  {
   "cell_type": "code",
   "execution_count": null,
   "id": "b8880c16-b8cf-4e36-b8ca-15b4dd25c8ae",
   "metadata": {},
   "outputs": [],
   "source": []
  },
  {
   "cell_type": "code",
   "execution_count": null,
   "id": "edc33505-adb9-467e-a610-2b6327d3f34a",
   "metadata": {},
   "outputs": [],
   "source": []
  },
  {
   "cell_type": "markdown",
   "id": "e61cd205-bbb0-4eec-afbe-553133b99876",
   "metadata": {},
   "source": [
    "__Ejercicio 2:__ "
   ]
  },
  {
   "cell_type": "code",
   "execution_count": 7,
   "id": "47a20f8c-3c04-40e8-b512-f4df93463a96",
   "metadata": {},
   "outputs": [],
   "source": [
    "lista=[\"Daniel Israel\",\"Rocio del Carmen\",\"Paulina Isabelle\", \"Elias Israel\"]"
   ]
  },
  {
   "cell_type": "markdown",
   "id": "6467b326-135e-4f7c-9f12-306bc27d1b43",
   "metadata": {},
   "source": [
    "Guardar la lista anterior en una serie llamada __\"nombres\"__"
   ]
  },
  {
   "cell_type": "code",
   "execution_count": null,
   "id": "d357d1a7-f150-4ac4-8c6d-f6c12ad5cc39",
   "metadata": {},
   "outputs": [],
   "source": []
  },
  {
   "cell_type": "code",
   "execution_count": null,
   "id": "1e9a39f4-b885-4df1-93c3-cc21f384a23e",
   "metadata": {},
   "outputs": [],
   "source": []
  },
  {
   "cell_type": "markdown",
   "id": "af6803ed-3d45-4c4b-bcdd-25ac99e8dc1a",
   "metadata": {},
   "source": [
    "Obtener la longitud de todos los nombres (Ej. Pedro=5)"
   ]
  },
  {
   "cell_type": "code",
   "execution_count": null,
   "id": "fbfdfcdc-7d3c-4b41-a4a8-5e873f4a5e34",
   "metadata": {},
   "outputs": [],
   "source": []
  },
  {
   "cell_type": "markdown",
   "id": "d046e8e2-0f04-476e-9632-79a3bde19288",
   "metadata": {},
   "source": [
    "Cambiar todas las letras en los nombres a minuscula"
   ]
  },
  {
   "cell_type": "code",
   "execution_count": null,
   "id": "288b9a27-8d9f-4ada-ae40-bcc4e083ed60",
   "metadata": {},
   "outputs": [],
   "source": []
  },
  {
   "cell_type": "markdown",
   "id": "4b9fff39-5ce0-41bd-bd65-cffa3d7a704d",
   "metadata": {},
   "source": [
    "Cambiar todas las letras en los nombres a mayúscula"
   ]
  },
  {
   "cell_type": "code",
   "execution_count": null,
   "id": "e6447b3f-512c-4bcd-8e13-eac164be835b",
   "metadata": {},
   "outputs": [],
   "source": []
  },
  {
   "cell_type": "markdown",
   "id": "2699c3c7-aeea-4b2d-aec3-50583ea9c610",
   "metadata": {},
   "source": [
    "__Ejercicio 3:__"
   ]
  },
  {
   "cell_type": "markdown",
   "id": "dcd5f759-ce77-4d21-807d-8bb84cf550d2",
   "metadata": {},
   "source": [
    "Cambiar la primera letra de cada palabra a mayúscula"
   ]
  },
  {
   "cell_type": "code",
   "execution_count": null,
   "id": "1bd15eec-a5b3-4a5c-9168-fbe22c0f422a",
   "metadata": {},
   "outputs": [],
   "source": []
  },
  {
   "cell_type": "markdown",
   "id": "c5c5eb85-5f00-4996-aec8-9964560e7259",
   "metadata": {},
   "source": [
    "Cambiar la primera letra de cada registro a mayúscula (Ej. manuel jesus= Manuel jesus)"
   ]
  },
  {
   "cell_type": "code",
   "execution_count": null,
   "id": "a762128a-b834-4236-8ff6-e86734efa354",
   "metadata": {},
   "outputs": [],
   "source": []
  },
  {
   "cell_type": "markdown",
   "id": "b3462022-f27c-4bf8-a5ee-1d8228cc8a5a",
   "metadata": {},
   "source": [
    "__Ejercicio 4:__ Obtener la cantidad de veces que se repite la letra \"a\" en cada nombre"
   ]
  },
  {
   "cell_type": "code",
   "execution_count": null,
   "id": "373e4405-5cfd-4bd6-9876-41e9b8d603a3",
   "metadata": {},
   "outputs": [],
   "source": []
  },
  {
   "cell_type": "markdown",
   "id": "7817dd4e-ae9e-4ba1-8862-75972f6dd2fb",
   "metadata": {},
   "source": [
    "__Ejercicio 5:__ Evaluar si los nombres anteriores empiezan con la cadena de caracteres \"Daniel\""
   ]
  },
  {
   "cell_type": "code",
   "execution_count": null,
   "id": "6d008829-0a74-462f-9266-16c0ed777cd4",
   "metadata": {},
   "outputs": [],
   "source": []
  },
  {
   "cell_type": "code",
   "execution_count": null,
   "id": "654bb236-5455-4702-9033-422ce3072a8c",
   "metadata": {},
   "outputs": [],
   "source": []
  },
  {
   "cell_type": "markdown",
   "id": "933db5d2-9635-4852-816b-1d80d6721482",
   "metadata": {},
   "source": [
    "__Ejercicio 6:__ Evaluar si los nombres contienen la cadena de caracteres \"Israel\""
   ]
  },
  {
   "cell_type": "code",
   "execution_count": null,
   "id": "88ee0fad-37ea-455c-b334-df4c172642ff",
   "metadata": {},
   "outputs": [],
   "source": []
  },
  {
   "cell_type": "code",
   "execution_count": null,
   "id": "e6bdd7d2-5d0c-41ac-956a-2efa6ee7c397",
   "metadata": {},
   "outputs": [],
   "source": []
  },
  {
   "cell_type": "markdown",
   "id": "a3c828eb-146b-475f-b354-6112f74f3fe0",
   "metadata": {},
   "source": [
    "__Ejercicio 7:__ "
   ]
  },
  {
   "cell_type": "markdown",
   "id": "8acab436-fda9-4d60-8c41-e17018e72d01",
   "metadata": {},
   "source": [
    "Crear una serie llamada __apellidos__ en base a la siguiente lista:"
   ]
  },
  {
   "cell_type": "code",
   "execution_count": 20,
   "id": "bc15debc-3378-47db-98a3-39bba90d540d",
   "metadata": {},
   "outputs": [],
   "source": [
    "lista=[\"Romero\",\"Aguilar\",\"Mejia\",\"Rojas\"]"
   ]
  },
  {
   "cell_type": "code",
   "execution_count": null,
   "id": "38a1f44b-debf-41c2-b0db-b29169faec7a",
   "metadata": {},
   "outputs": [],
   "source": []
  },
  {
   "cell_type": "markdown",
   "id": "4006391f-ca33-4f4c-9987-fa923edd1c14",
   "metadata": {},
   "source": [
    "Evaluar si los apellidos empiezan por la letra \"R\""
   ]
  },
  {
   "cell_type": "code",
   "execution_count": null,
   "id": "5f968b3e-da8c-4a70-bd42-72db07c6e383",
   "metadata": {},
   "outputs": [],
   "source": []
  },
  {
   "cell_type": "markdown",
   "id": "9d6fb1be-7ddf-4bf3-b54d-2c8ffdfe7ca2",
   "metadata": {},
   "source": [
    "Evaluar si los apellidos terminan por la letra \"a\""
   ]
  },
  {
   "cell_type": "code",
   "execution_count": null,
   "id": "484c7415-951b-465b-85ec-b39425715141",
   "metadata": {},
   "outputs": [],
   "source": []
  },
  {
   "cell_type": "markdown",
   "id": "558547e6-1a9e-4d72-a92e-eb32f910e74e",
   "metadata": {},
   "source": [
    "Obtener una serie nueva únicamente con los apellidos que terminan con la letra \"a\""
   ]
  },
  {
   "cell_type": "code",
   "execution_count": null,
   "id": "fda0618f-3df0-4408-aeb0-d6e7d55d7d49",
   "metadata": {},
   "outputs": [],
   "source": []
  },
  {
   "cell_type": "code",
   "execution_count": null,
   "id": "fb5d6536-4949-41f6-8116-ff62546d5c67",
   "metadata": {},
   "outputs": [],
   "source": []
  },
  {
   "cell_type": "markdown",
   "id": "f011739e-8108-4d00-9395-e8bddecb1b2f",
   "metadata": {},
   "source": [
    "__Ejercicio 8:__ Concatenar las serie con los nombres y los apellidos"
   ]
  },
  {
   "cell_type": "code",
   "execution_count": null,
   "id": "88569b57-2900-4295-b654-bcad153a90e7",
   "metadata": {},
   "outputs": [],
   "source": []
  },
  {
   "cell_type": "markdown",
   "id": "28bce8af-27fb-454c-9d0a-76053cd13917",
   "metadata": {},
   "source": [
    "__Ejercicio 9:__ Obtener las 3 primeras letras de los apellidos"
   ]
  },
  {
   "cell_type": "code",
   "execution_count": null,
   "id": "156a9f1e-da19-4407-b21e-648bc6713007",
   "metadata": {},
   "outputs": [],
   "source": []
  },
  {
   "cell_type": "code",
   "execution_count": null,
   "id": "e930be1a-4cdc-45d6-81ed-c49aed83174d",
   "metadata": {},
   "outputs": [],
   "source": []
  },
  {
   "cell_type": "markdown",
   "id": "df1f6eb2-f6c5-41d8-be22-cafff2ac1a86",
   "metadata": {},
   "source": [
    "__Ejercicio 10:__ Obtener las 3 primeras letras de los apellidos y agregar un punto al final "
   ]
  },
  {
   "cell_type": "code",
   "execution_count": null,
   "id": "1a9c72f1-336e-4f5b-999d-960227310715",
   "metadata": {},
   "outputs": [],
   "source": []
  },
  {
   "cell_type": "markdown",
   "id": "e17582cf-9aa4-47d0-8025-cbcf62fbb714",
   "metadata": {},
   "source": [
    "__Ejercicio 11:__"
   ]
  },
  {
   "cell_type": "code",
   "execution_count": 29,
   "id": "8b84875d-95b2-415f-8809-25bdfd5e9039",
   "metadata": {},
   "outputs": [],
   "source": [
    "lista=[\"171\",\"Daniel\",\"Romero\",\"23\",\"True\"]"
   ]
  },
  {
   "cell_type": "markdown",
   "id": "e46ba612-963d-47fc-a6a6-01bc82905e6d",
   "metadata": {},
   "source": [
    "Guardar la lista anterior en una serie llamada \"datos\""
   ]
  },
  {
   "cell_type": "code",
   "execution_count": null,
   "id": "92161cea-b63e-4c3d-a68c-2f537655e1db",
   "metadata": {},
   "outputs": [],
   "source": []
  },
  {
   "cell_type": "markdown",
   "id": "f0268194-f752-42dc-8e53-4a8ff89f43cd",
   "metadata": {},
   "source": [
    "Evaluar cuales de los datos en la serie anterior pueden transformarse a numeros"
   ]
  },
  {
   "cell_type": "code",
   "execution_count": null,
   "id": "99a3281c-26ea-4f33-82b3-0527d595d713",
   "metadata": {},
   "outputs": [],
   "source": []
  },
  {
   "cell_type": "markdown",
   "id": "d5fa55f9-c64b-40c9-bf63-6c77300145e5",
   "metadata": {},
   "source": [
    "Obtener una serie nueva únicamente con los registros númericos dentro de \"datos\""
   ]
  },
  {
   "cell_type": "code",
   "execution_count": null,
   "id": "23c7cd70-57a8-43e4-ac85-231020c6751c",
   "metadata": {},
   "outputs": [],
   "source": []
  },
  {
   "cell_type": "markdown",
   "id": "2e66ffcf-ec0e-4702-96d7-158f06e4f591",
   "metadata": {},
   "source": [
    "Unir todos los datos de la serie \"datos\" en un único string"
   ]
  },
  {
   "cell_type": "code",
   "execution_count": null,
   "id": "53bb08c8-8207-4a8a-9d35-0bb36723f706",
   "metadata": {},
   "outputs": [],
   "source": []
  },
  {
   "cell_type": "markdown",
   "id": "14d36a02-cfbe-4ec6-aad0-1d73397b57be",
   "metadata": {},
   "source": [
    "__Ejercicio 12:__"
   ]
  },
  {
   "cell_type": "code",
   "execution_count": null,
   "id": "c41274f7-3658-4c76-baa3-9a5f9dd664a3",
   "metadata": {},
   "outputs": [],
   "source": [
    "lista=[\"12-12-2020\",\"08-11-2021\",\"15-01-2019\"]"
   ]
  },
  {
   "cell_type": "markdown",
   "id": "02d82966-e3f1-4c9e-8298-85b55354cf8f",
   "metadata": {},
   "source": [
    "Guardar la lista anterior en una serie llamada fechas"
   ]
  },
  {
   "cell_type": "code",
   "execution_count": null,
   "id": "7ed5902d-45b3-4ca8-a1a4-8ad1e1b4b848",
   "metadata": {},
   "outputs": [],
   "source": []
  },
  {
   "cell_type": "markdown",
   "id": "4f771748-79e4-4bf5-831f-fb5b95c51c94",
   "metadata": {},
   "source": [
    "Reemplazar los separadores \"-\" por \"/\" en las fechas anteriores (Ej. \"12-12-2020\" =\"12/12/2020\")"
   ]
  },
  {
   "cell_type": "code",
   "execution_count": null,
   "id": "93465147-4d52-4a2b-8e95-36eb4af344d6",
   "metadata": {},
   "outputs": [],
   "source": []
  },
  {
   "cell_type": "markdown",
   "id": "cc298c40-019d-443c-af3d-7da71b7b99b8",
   "metadata": {},
   "source": [
    "__Ejercicio 13:__ Separar la fecha en dia, mes y año, utilizando la función split"
   ]
  },
  {
   "cell_type": "code",
   "execution_count": null,
   "id": "cc123d9e-5f3e-4e5f-a580-0c8e64d1f57d",
   "metadata": {},
   "outputs": [],
   "source": []
  },
  {
   "cell_type": "code",
   "execution_count": null,
   "id": "a5545481-c382-4423-93ed-fc38bcca3511",
   "metadata": {},
   "outputs": [],
   "source": []
  },
  {
   "cell_type": "markdown",
   "id": "5fcfb148-21c3-468f-a9b2-c5d42d658d3d",
   "metadata": {},
   "source": [
    "__Ejercicio 14:__ Obtener el año de cada fecha"
   ]
  },
  {
   "cell_type": "code",
   "execution_count": null,
   "id": "8783d99c-21c4-4197-95ac-ce61cb9546a4",
   "metadata": {},
   "outputs": [],
   "source": []
  },
  {
   "cell_type": "markdown",
   "id": "acdf9ada-979c-4fe6-8f33-cbe6c7517028",
   "metadata": {},
   "source": [
    "__Ejercicio 15:__ Generar un DataFrame a partir de la serie fechas, utilizando la funcion split"
   ]
  },
  {
   "cell_type": "code",
   "execution_count": null,
   "id": "91514250-6f13-4065-bf3e-51036dce56db",
   "metadata": {},
   "outputs": [],
   "source": []
  },
  {
   "cell_type": "code",
   "execution_count": null,
   "id": "66e1fb0a-706c-476d-814c-e42b11b74c80",
   "metadata": {},
   "outputs": [],
   "source": []
  },
  {
   "cell_type": "code",
   "execution_count": null,
   "id": "9982ae2e-851d-4f21-a902-c1f6e90cd8ff",
   "metadata": {},
   "outputs": [],
   "source": []
  },
  {
   "cell_type": "code",
   "execution_count": null,
   "id": "968556e2-a087-4899-a0eb-5a14cd589a74",
   "metadata": {},
   "outputs": [],
   "source": []
  },
  {
   "cell_type": "markdown",
   "id": "69b9c41d-acee-43a9-9066-d2511c8047cd",
   "metadata": {},
   "source": [
    "__Ejercicio 16:__"
   ]
  },
  {
   "cell_type": "code",
   "execution_count": 43,
   "id": "6fabe84b-ad39-4919-b59e-bb2a294e9f7a",
   "metadata": {},
   "outputs": [],
   "source": [
    "lista=[\"Raul Jose\",\"Sofía Yasmin\",\"Julia Carmen\", \"Roberto Miguel\"]"
   ]
  },
  {
   "cell_type": "markdown",
   "id": "562c086e-dca0-4c7a-839f-d3637c2d22bd",
   "metadata": {},
   "source": [
    "Guardar la lista anterior en una serie llamada nombres"
   ]
  },
  {
   "cell_type": "code",
   "execution_count": null,
   "id": "1181eb33-6b86-4ecb-a03d-8ad07b11f324",
   "metadata": {},
   "outputs": [],
   "source": []
  },
  {
   "cell_type": "markdown",
   "id": "c4983ecc-65e8-46c1-a2a3-48728d9dd32e",
   "metadata": {},
   "source": [
    "Cambiar a letras minusculas los nombres que terminen en la letra \"n\""
   ]
  },
  {
   "cell_type": "code",
   "execution_count": null,
   "id": "e0d507bf-b4cd-4103-ad45-bb082a36481a",
   "metadata": {},
   "outputs": [],
   "source": []
  },
  {
   "cell_type": "markdown",
   "id": "d95bbfe5-e6f9-4d55-864b-7bc08cb26d3d",
   "metadata": {},
   "source": [
    "Cambiar a letras mayusculas los nombres que empiecen con la letra \"R\""
   ]
  },
  {
   "cell_type": "code",
   "execution_count": null,
   "id": "c6bbefae-c538-4bb3-bef7-c25c279132a0",
   "metadata": {},
   "outputs": [],
   "source": []
  },
  {
   "cell_type": "code",
   "execution_count": null,
   "id": "667cae69-6c29-4e8d-9c76-ba2a12b1b4ac",
   "metadata": {},
   "outputs": [],
   "source": []
  },
  {
   "cell_type": "markdown",
   "id": "2bf5680e-372b-4923-99bc-7727cd0b98d4",
   "metadata": {},
   "source": [
    "__Ejercicio 17:__"
   ]
  },
  {
   "cell_type": "markdown",
   "id": "38597ebd-6a73-4384-9dd9-956cf731db6a",
   "metadata": {},
   "source": [
    "Importar los datos del archivo \"mascotas.xlsx\" utilizando pandas y guardarlos en un DataFrame llamado \"mascotas\""
   ]
  },
  {
   "cell_type": "code",
   "execution_count": null,
   "id": "f901204e-33bd-436c-b3f3-681043d67bab",
   "metadata": {},
   "outputs": [],
   "source": []
  },
  {
   "cell_type": "markdown",
   "id": "2e518973-459e-4358-bad5-1ff203e886b5",
   "metadata": {},
   "source": [
    "Cambiar las letras a mayusculas en el dato de la columna \"tipo\" si contiene la silaba \"rro\""
   ]
  },
  {
   "cell_type": "code",
   "execution_count": null,
   "id": "dbc50de7-5e03-4cbd-b44d-9eff6e504eb5",
   "metadata": {},
   "outputs": [],
   "source": []
  },
  {
   "cell_type": "code",
   "execution_count": null,
   "id": "88bb3741-b127-4cab-8514-90dcd11a5f37",
   "metadata": {},
   "outputs": [],
   "source": []
  },
  {
   "cell_type": "markdown",
   "id": "6da19721-6e4d-437a-9dc4-e39214d17c85",
   "metadata": {},
   "source": [
    "__Ejercicio 18:__ Cambiar las letras a minusculas en el dato de la columna \"tipo\" si empieza con la silaba \"Ga\""
   ]
  },
  {
   "cell_type": "code",
   "execution_count": null,
   "id": "5c4fef3b-1dbd-4206-8c14-a1bd148e7cd0",
   "metadata": {},
   "outputs": [],
   "source": []
  },
  {
   "cell_type": "code",
   "execution_count": null,
   "id": "62c8ac40-984d-4613-9662-605cd3ffa096",
   "metadata": {},
   "outputs": [],
   "source": []
  },
  {
   "cell_type": "code",
   "execution_count": null,
   "id": "d502a96f-7830-44cc-9a7e-11070e69981f",
   "metadata": {},
   "outputs": [],
   "source": []
  }
 ],
 "metadata": {
  "kernelspec": {
   "display_name": "Python 3 (ipykernel)",
   "language": "python",
   "name": "python3"
  },
  "language_info": {
   "codemirror_mode": {
    "name": "ipython",
    "version": 3
   },
   "file_extension": ".py",
   "mimetype": "text/x-python",
   "name": "python",
   "nbconvert_exporter": "python",
   "pygments_lexer": "ipython3",
   "version": "3.9.7"
  }
 },
 "nbformat": 4,
 "nbformat_minor": 5
}
