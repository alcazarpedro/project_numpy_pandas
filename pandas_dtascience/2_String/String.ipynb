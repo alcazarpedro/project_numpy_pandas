{
 "cells": [
  {
   "cell_type": "markdown",
   "id": "8d7c0928-2176-460d-9a59-cf40a78d87c8",
   "metadata": {},
   "source": [
    "# Strings "
   ]
  },
  {
   "cell_type": "code",
   "execution_count": 1,
   "id": "1671ab1a-fa0c-4f1f-a316-63ac1fc88d46",
   "metadata": {},
   "outputs": [],
   "source": [
    "import pandas as pd"
   ]
  },
  {
   "cell_type": "markdown",
   "id": "cfb5b2cf-ed95-473a-83dc-90c0a64c2956",
   "metadata": {},
   "source": [
    "__Ejercicio 1:__"
   ]
  },
  {
   "cell_type": "markdown",
   "id": "6b48db1d-f2fd-4815-9f48-a2373ecc119c",
   "metadata": {},
   "source": [
    "Guardar la lista anterior en una serie llamada numeros"
   ]
  },
  {
   "cell_type": "code",
   "execution_count": 2,
   "id": "7e6b5092-13dd-4143-a654-4b5a3b776848",
   "metadata": {},
   "outputs": [],
   "source": [
    "lista=[10,22,21]"
   ]
  },
  {
   "cell_type": "code",
   "execution_count": 4,
   "id": "9ea2cad6-896c-488d-976e-cf5401454226",
   "metadata": {},
   "outputs": [
    {
     "data": {
      "application/vnd.microsoft.datawrangler.viewer.v0+json": {
       "columns": [
        {
         "name": "index",
         "rawType": "int64",
         "type": "integer"
        },
        {
         "name": "0",
         "rawType": "int64",
         "type": "integer"
        }
       ],
       "ref": "d315fe62-3da2-4664-ad52-ab7703847f55",
       "rows": [
        [
         "0",
         "10"
        ],
        [
         "1",
         "22"
        ],
        [
         "2",
         "21"
        ]
       ],
       "shape": {
        "columns": 1,
        "rows": 3
       }
      },
      "text/plain": [
       "0    10\n",
       "1    22\n",
       "2    21\n",
       "dtype: int64"
      ]
     },
     "execution_count": 4,
     "metadata": {},
     "output_type": "execute_result"
    }
   ],
   "source": [
    "numeros = pd.Series(lista)\n",
    "\n",
    "numeros"
   ]
  },
  {
   "cell_type": "code",
   "execution_count": null,
   "id": "47749d45-05b8-436a-9751-222700069a60",
   "metadata": {},
   "outputs": [],
   "source": []
  },
  {
   "cell_type": "markdown",
   "id": "6bc8da9b-fa41-486a-b46f-b5ce68f60f41",
   "metadata": {},
   "source": [
    "Convertir el tipo de dato en la serie anterior a String"
   ]
  },
  {
   "cell_type": "code",
   "execution_count": 9,
   "id": "b8880c16-b8cf-4e36-b8ca-15b4dd25c8ae",
   "metadata": {},
   "outputs": [
    {
     "data": {
      "application/vnd.microsoft.datawrangler.viewer.v0+json": {
       "columns": [
        {
         "name": "index",
         "rawType": "int64",
         "type": "integer"
        },
        {
         "name": "0",
         "rawType": "object",
         "type": "string"
        }
       ],
       "ref": "1431b34d-f7a8-4707-97cd-8c6af033fb84",
       "rows": [
        [
         "0",
         "10"
        ],
        [
         "1",
         "22"
        ],
        [
         "2",
         "21"
        ]
       ],
       "shape": {
        "columns": 1,
        "rows": 3
       }
      },
      "text/plain": [
       "0    10\n",
       "1    22\n",
       "2    21\n",
       "dtype: object"
      ]
     },
     "execution_count": 9,
     "metadata": {},
     "output_type": "execute_result"
    }
   ],
   "source": [
    "numeros.apply(str)\n",
    "\n"
   ]
  },
  {
   "cell_type": "code",
   "execution_count": 10,
   "id": "edc33505-adb9-467e-a610-2b6327d3f34a",
   "metadata": {},
   "outputs": [
    {
     "data": {
      "application/vnd.microsoft.datawrangler.viewer.v0+json": {
       "columns": [
        {
         "name": "index",
         "rawType": "int64",
         "type": "integer"
        },
        {
         "name": "0",
         "rawType": "string",
         "type": "string"
        }
       ],
       "ref": "241290f9-3bb5-4ac9-8036-a4d1b032510b",
       "rows": [
        [
         "0",
         "10"
        ],
        [
         "1",
         "22"
        ],
        [
         "2",
         "21"
        ]
       ],
       "shape": {
        "columns": 1,
        "rows": 3
       }
      },
      "text/plain": [
       "0    10\n",
       "1    22\n",
       "2    21\n",
       "dtype: string"
      ]
     },
     "execution_count": 10,
     "metadata": {},
     "output_type": "execute_result"
    }
   ],
   "source": [
    "numeros.astype(\"string\")\n",
    "\n"
   ]
  },
  {
   "cell_type": "markdown",
   "id": "e61cd205-bbb0-4eec-afbe-553133b99876",
   "metadata": {},
   "source": [
    "__Ejercicio 2:__ "
   ]
  },
  {
   "cell_type": "code",
   "execution_count": 5,
   "id": "47a20f8c-3c04-40e8-b512-f4df93463a96",
   "metadata": {},
   "outputs": [],
   "source": [
    "lista=[\"Daniel Israel\",\"Rocio del Carmen\",\"Paulina Isabelle\", \"Elias Israel\"]"
   ]
  },
  {
   "cell_type": "markdown",
   "id": "6467b326-135e-4f7c-9f12-306bc27d1b43",
   "metadata": {},
   "source": [
    "Guardar la lista anterior en una serie llamada __\"nombres\"__"
   ]
  },
  {
   "cell_type": "code",
   "execution_count": 6,
   "id": "d357d1a7-f150-4ac4-8c6d-f6c12ad5cc39",
   "metadata": {},
   "outputs": [],
   "source": [
    "nombres = pd.Series(lista)"
   ]
  },
  {
   "cell_type": "code",
   "execution_count": 7,
   "id": "1e9a39f4-b885-4df1-93c3-cc21f384a23e",
   "metadata": {},
   "outputs": [
    {
     "data": {
      "application/vnd.microsoft.datawrangler.viewer.v0+json": {
       "columns": [
        {
         "name": "index",
         "rawType": "int64",
         "type": "integer"
        },
        {
         "name": "0",
         "rawType": "object",
         "type": "string"
        }
       ],
       "ref": "e1068f82-98e9-49d0-8f1b-230f0b7cd24e",
       "rows": [
        [
         "0",
         "Daniel Israel"
        ],
        [
         "1",
         "Rocio del Carmen"
        ],
        [
         "2",
         "Paulina Isabelle"
        ],
        [
         "3",
         "Elias Israel"
        ]
       ],
       "shape": {
        "columns": 1,
        "rows": 4
       }
      },
      "text/plain": [
       "0       Daniel Israel\n",
       "1    Rocio del Carmen\n",
       "2    Paulina Isabelle\n",
       "3        Elias Israel\n",
       "dtype: object"
      ]
     },
     "execution_count": 7,
     "metadata": {},
     "output_type": "execute_result"
    }
   ],
   "source": [
    "nombres"
   ]
  },
  {
   "cell_type": "markdown",
   "id": "af6803ed-3d45-4c4b-bcdd-25ac99e8dc1a",
   "metadata": {},
   "source": [
    "Obtener la longitud de todos los nombres (Ej. Pedro=5)"
   ]
  },
  {
   "cell_type": "code",
   "execution_count": 14,
   "id": "fbfdfcdc-7d3c-4b41-a4a8-5e873f4a5e34",
   "metadata": {},
   "outputs": [
    {
     "data": {
      "application/vnd.microsoft.datawrangler.viewer.v0+json": {
       "columns": [
        {
         "name": "index",
         "rawType": "int64",
         "type": "integer"
        },
        {
         "name": "0",
         "rawType": "int64",
         "type": "integer"
        }
       ],
       "ref": "73d28cb6-2da9-43dd-bfe6-8fdd9b518461",
       "rows": [
        [
         "0",
         "13"
        ],
        [
         "1",
         "16"
        ],
        [
         "2",
         "16"
        ],
        [
         "3",
         "12"
        ]
       ],
       "shape": {
        "columns": 1,
        "rows": 4
       }
      },
      "text/plain": [
       "0    13\n",
       "1    16\n",
       "2    16\n",
       "3    12\n",
       "dtype: int64"
      ]
     },
     "execution_count": 14,
     "metadata": {},
     "output_type": "execute_result"
    }
   ],
   "source": [
    "nombres.str.len()"
   ]
  },
  {
   "cell_type": "markdown",
   "id": "d046e8e2-0f04-476e-9632-79a3bde19288",
   "metadata": {},
   "source": [
    "Cambiar todas las letras en los nombres a minuscula"
   ]
  },
  {
   "cell_type": "code",
   "execution_count": 15,
   "id": "288b9a27-8d9f-4ada-ae40-bcc4e083ed60",
   "metadata": {},
   "outputs": [
    {
     "data": {
      "application/vnd.microsoft.datawrangler.viewer.v0+json": {
       "columns": [
        {
         "name": "index",
         "rawType": "int64",
         "type": "integer"
        },
        {
         "name": "0",
         "rawType": "object",
         "type": "string"
        }
       ],
       "ref": "edbd2284-6ba1-428a-a256-d7ab1a44f890",
       "rows": [
        [
         "0",
         "daniel israel"
        ],
        [
         "1",
         "rocio del carmen"
        ],
        [
         "2",
         "paulina isabelle"
        ],
        [
         "3",
         "elias israel"
        ]
       ],
       "shape": {
        "columns": 1,
        "rows": 4
       }
      },
      "text/plain": [
       "0       daniel israel\n",
       "1    rocio del carmen\n",
       "2    paulina isabelle\n",
       "3        elias israel\n",
       "dtype: object"
      ]
     },
     "execution_count": 15,
     "metadata": {},
     "output_type": "execute_result"
    }
   ],
   "source": [
    "nombres.str.lower()"
   ]
  },
  {
   "cell_type": "markdown",
   "id": "4b9fff39-5ce0-41bd-bd65-cffa3d7a704d",
   "metadata": {},
   "source": [
    "Cambiar todas las letras en los nombres a mayúscula"
   ]
  },
  {
   "cell_type": "code",
   "execution_count": 16,
   "id": "e6447b3f-512c-4bcd-8e13-eac164be835b",
   "metadata": {},
   "outputs": [
    {
     "data": {
      "application/vnd.microsoft.datawrangler.viewer.v0+json": {
       "columns": [
        {
         "name": "index",
         "rawType": "int64",
         "type": "integer"
        },
        {
         "name": "0",
         "rawType": "object",
         "type": "string"
        }
       ],
       "ref": "dd711843-b99c-4cc7-936f-8b4aba16212d",
       "rows": [
        [
         "0",
         "DANIEL ISRAEL"
        ],
        [
         "1",
         "ROCIO DEL CARMEN"
        ],
        [
         "2",
         "PAULINA ISABELLE"
        ],
        [
         "3",
         "ELIAS ISRAEL"
        ]
       ],
       "shape": {
        "columns": 1,
        "rows": 4
       }
      },
      "text/plain": [
       "0       DANIEL ISRAEL\n",
       "1    ROCIO DEL CARMEN\n",
       "2    PAULINA ISABELLE\n",
       "3        ELIAS ISRAEL\n",
       "dtype: object"
      ]
     },
     "execution_count": 16,
     "metadata": {},
     "output_type": "execute_result"
    }
   ],
   "source": [
    "nombres.str.upper()"
   ]
  },
  {
   "cell_type": "markdown",
   "id": "2699c3c7-aeea-4b2d-aec3-50583ea9c610",
   "metadata": {},
   "source": [
    "__Ejercicio 3:__"
   ]
  },
  {
   "cell_type": "markdown",
   "id": "dcd5f759-ce77-4d21-807d-8bb84cf550d2",
   "metadata": {},
   "source": [
    "Cambiar la primera letra de cada palabra a mayúscula"
   ]
  },
  {
   "cell_type": "code",
   "execution_count": 21,
   "id": "1bd15eec-a5b3-4a5c-9168-fbe22c0f422a",
   "metadata": {},
   "outputs": [
    {
     "data": {
      "application/vnd.microsoft.datawrangler.viewer.v0+json": {
       "columns": [
        {
         "name": "index",
         "rawType": "int64",
         "type": "integer"
        },
        {
         "name": "0",
         "rawType": "object",
         "type": "string"
        }
       ],
       "ref": "e302fe55-7a22-467b-a9ff-5cbb4221dbaf",
       "rows": [
        [
         "0",
         "Daniel Israel"
        ],
        [
         "1",
         "Rocio Del Carmen"
        ],
        [
         "2",
         "Paulina Isabelle"
        ],
        [
         "3",
         "Elias Israel"
        ]
       ],
       "shape": {
        "columns": 1,
        "rows": 4
       }
      },
      "text/plain": [
       "0       Daniel Israel\n",
       "1    Rocio Del Carmen\n",
       "2    Paulina Isabelle\n",
       "3        Elias Israel\n",
       "dtype: object"
      ]
     },
     "execution_count": 21,
     "metadata": {},
     "output_type": "execute_result"
    }
   ],
   "source": [
    "nombres.str.title()"
   ]
  },
  {
   "cell_type": "markdown",
   "id": "c5c5eb85-5f00-4996-aec8-9964560e7259",
   "metadata": {},
   "source": [
    "Cambiar la primera letra de cada registro a mayúscula (Ej. manuel jesus= Manuel jesus)"
   ]
  },
  {
   "cell_type": "code",
   "execution_count": 20,
   "id": "a762128a-b834-4236-8ff6-e86734efa354",
   "metadata": {},
   "outputs": [
    {
     "data": {
      "application/vnd.microsoft.datawrangler.viewer.v0+json": {
       "columns": [
        {
         "name": "index",
         "rawType": "int64",
         "type": "integer"
        },
        {
         "name": "0",
         "rawType": "object",
         "type": "string"
        }
       ],
       "ref": "649eca75-0442-4515-808f-7d94a0f14e46",
       "rows": [
        [
         "0",
         "Daniel israel"
        ],
        [
         "1",
         "Rocio del carmen"
        ],
        [
         "2",
         "Paulina isabelle"
        ],
        [
         "3",
         "Elias israel"
        ]
       ],
       "shape": {
        "columns": 1,
        "rows": 4
       }
      },
      "text/plain": [
       "0       Daniel israel\n",
       "1    Rocio del carmen\n",
       "2    Paulina isabelle\n",
       "3        Elias israel\n",
       "dtype: object"
      ]
     },
     "execution_count": 20,
     "metadata": {},
     "output_type": "execute_result"
    }
   ],
   "source": [
    "nombres.str.capitalize()"
   ]
  },
  {
   "cell_type": "markdown",
   "id": "b3462022-f27c-4bf8-a5ee-1d8228cc8a5a",
   "metadata": {},
   "source": [
    "__Ejercicio 4:__ Obtener la cantidad de veces que se repite la letra \"a\" en cada nombre"
   ]
  },
  {
   "cell_type": "code",
   "execution_count": 22,
   "id": "373e4405-5cfd-4bd6-9876-41e9b8d603a3",
   "metadata": {},
   "outputs": [
    {
     "data": {
      "application/vnd.microsoft.datawrangler.viewer.v0+json": {
       "columns": [
        {
         "name": "index",
         "rawType": "int64",
         "type": "integer"
        },
        {
         "name": "0",
         "rawType": "int64",
         "type": "integer"
        }
       ],
       "ref": "8b10f979-bd46-46a4-ba42-bce86c0505ff",
       "rows": [
        [
         "0",
         "2"
        ],
        [
         "1",
         "1"
        ],
        [
         "2",
         "3"
        ],
        [
         "3",
         "2"
        ]
       ],
       "shape": {
        "columns": 1,
        "rows": 4
       }
      },
      "text/plain": [
       "0    2\n",
       "1    1\n",
       "2    3\n",
       "3    2\n",
       "dtype: int64"
      ]
     },
     "execution_count": 22,
     "metadata": {},
     "output_type": "execute_result"
    }
   ],
   "source": [
    "nombres.str.count(\"a\")"
   ]
  },
  {
   "cell_type": "markdown",
   "id": "7817dd4e-ae9e-4ba1-8862-75972f6dd2fb",
   "metadata": {},
   "source": [
    "__Ejercicio 5:__ Evaluar si los nombres anteriores empiezan con la cadena de caracteres \"Daniel\""
   ]
  },
  {
   "cell_type": "code",
   "execution_count": 23,
   "id": "6d008829-0a74-462f-9266-16c0ed777cd4",
   "metadata": {},
   "outputs": [
    {
     "data": {
      "application/vnd.microsoft.datawrangler.viewer.v0+json": {
       "columns": [
        {
         "name": "index",
         "rawType": "int64",
         "type": "integer"
        },
        {
         "name": "0",
         "rawType": "bool",
         "type": "boolean"
        }
       ],
       "ref": "821cb603-3d9c-4e33-aa96-a440d1bf0747",
       "rows": [
        [
         "0",
         "True"
        ],
        [
         "1",
         "False"
        ],
        [
         "2",
         "False"
        ],
        [
         "3",
         "False"
        ]
       ],
       "shape": {
        "columns": 1,
        "rows": 4
       }
      },
      "text/plain": [
       "0     True\n",
       "1    False\n",
       "2    False\n",
       "3    False\n",
       "dtype: bool"
      ]
     },
     "execution_count": 23,
     "metadata": {},
     "output_type": "execute_result"
    }
   ],
   "source": [
    "nombres.str.startswith(\"Daniel\")"
   ]
  },
  {
   "cell_type": "code",
   "execution_count": null,
   "id": "654bb236-5455-4702-9033-422ce3072a8c",
   "metadata": {},
   "outputs": [],
   "source": []
  },
  {
   "cell_type": "markdown",
   "id": "933db5d2-9635-4852-816b-1d80d6721482",
   "metadata": {},
   "source": [
    "__Ejercicio 6:__ Evaluar si los nombres contienen la cadena de caracteres \"Israel\""
   ]
  },
  {
   "cell_type": "code",
   "execution_count": 24,
   "id": "88ee0fad-37ea-455c-b334-df4c172642ff",
   "metadata": {},
   "outputs": [
    {
     "data": {
      "application/vnd.microsoft.datawrangler.viewer.v0+json": {
       "columns": [
        {
         "name": "index",
         "rawType": "int64",
         "type": "integer"
        },
        {
         "name": "0",
         "rawType": "bool",
         "type": "boolean"
        }
       ],
       "ref": "29f3ea3c-a052-4831-a5a9-f735c4e65813",
       "rows": [
        [
         "0",
         "True"
        ],
        [
         "1",
         "False"
        ],
        [
         "2",
         "False"
        ],
        [
         "3",
         "True"
        ]
       ],
       "shape": {
        "columns": 1,
        "rows": 4
       }
      },
      "text/plain": [
       "0     True\n",
       "1    False\n",
       "2    False\n",
       "3     True\n",
       "dtype: bool"
      ]
     },
     "execution_count": 24,
     "metadata": {},
     "output_type": "execute_result"
    }
   ],
   "source": [
    "nombres.str.contains(\"Israel\")"
   ]
  },
  {
   "cell_type": "code",
   "execution_count": 25,
   "id": "e6bdd7d2-5d0c-41ac-956a-2efa6ee7c397",
   "metadata": {},
   "outputs": [
    {
     "data": {
      "application/vnd.microsoft.datawrangler.viewer.v0+json": {
       "columns": [
        {
         "name": "index",
         "rawType": "int64",
         "type": "integer"
        },
        {
         "name": "0",
         "rawType": "bool",
         "type": "boolean"
        }
       ],
       "ref": "63ce16d4-ec5e-4999-b538-046acf16084f",
       "rows": [
        [
         "0",
         "True"
        ],
        [
         "1",
         "False"
        ],
        [
         "2",
         "False"
        ],
        [
         "3",
         "True"
        ]
       ],
       "shape": {
        "columns": 1,
        "rows": 4
       }
      },
      "text/plain": [
       "0     True\n",
       "1    False\n",
       "2    False\n",
       "3     True\n",
       "dtype: bool"
      ]
     },
     "execution_count": 25,
     "metadata": {},
     "output_type": "execute_result"
    }
   ],
   "source": [
    "nombres.str.endswith(\"Israel\")"
   ]
  },
  {
   "cell_type": "markdown",
   "id": "a3c828eb-146b-475f-b354-6112f74f3fe0",
   "metadata": {},
   "source": [
    "__Ejercicio 7:__ "
   ]
  },
  {
   "cell_type": "markdown",
   "id": "8acab436-fda9-4d60-8c41-e17018e72d01",
   "metadata": {},
   "source": [
    "Crear una serie llamada __apellidos__ en base a la siguiente lista:"
   ]
  },
  {
   "cell_type": "code",
   "execution_count": 2,
   "id": "bc15debc-3378-47db-98a3-39bba90d540d",
   "metadata": {},
   "outputs": [],
   "source": [
    "lista=[\"Romero\",\"Aguilar\",\"Mejia\",\"Rojas\"]"
   ]
  },
  {
   "cell_type": "code",
   "execution_count": 4,
   "id": "38a1f44b-debf-41c2-b0db-b29169faec7a",
   "metadata": {},
   "outputs": [
    {
     "data": {
      "application/vnd.microsoft.datawrangler.viewer.v0+json": {
       "columns": [
        {
         "name": "index",
         "rawType": "int64",
         "type": "integer"
        },
        {
         "name": "0",
         "rawType": "object",
         "type": "string"
        }
       ],
       "ref": "6f685a20-29f7-4659-8808-fa79aab31391",
       "rows": [
        [
         "0",
         "Romero"
        ],
        [
         "1",
         "Aguilar"
        ],
        [
         "2",
         "Mejia"
        ],
        [
         "3",
         "Rojas"
        ]
       ],
       "shape": {
        "columns": 1,
        "rows": 4
       }
      },
      "text/plain": [
       "0     Romero\n",
       "1    Aguilar\n",
       "2      Mejia\n",
       "3      Rojas\n",
       "dtype: object"
      ]
     },
     "execution_count": 4,
     "metadata": {},
     "output_type": "execute_result"
    }
   ],
   "source": [
    "apellidos = pd.Series(lista)\n",
    "\n",
    "apellidos"
   ]
  },
  {
   "cell_type": "markdown",
   "id": "4006391f-ca33-4f4c-9987-fa923edd1c14",
   "metadata": {},
   "source": [
    "Evaluar si los apellidos empiezan por la letra \"R\""
   ]
  },
  {
   "cell_type": "code",
   "execution_count": 9,
   "id": "5f968b3e-da8c-4a70-bd42-72db07c6e383",
   "metadata": {},
   "outputs": [
    {
     "data": {
      "application/vnd.microsoft.datawrangler.viewer.v0+json": {
       "columns": [
        {
         "name": "index",
         "rawType": "int64",
         "type": "integer"
        },
        {
         "name": "0",
         "rawType": "object",
         "type": "string"
        }
       ],
       "ref": "6c515a7a-21a1-4ed2-b68a-c94ea8b3a8af",
       "rows": [
        [
         "0",
         "Romero"
        ],
        [
         "3",
         "Rojas"
        ]
       ],
       "shape": {
        "columns": 1,
        "rows": 2
       }
      },
      "text/plain": [
       "0    Romero\n",
       "3     Rojas\n",
       "dtype: object"
      ]
     },
     "execution_count": 9,
     "metadata": {},
     "output_type": "execute_result"
    }
   ],
   "source": [
    "apellidos[apellidos.str.startswith(\"R\")]"
   ]
  },
  {
   "cell_type": "code",
   "execution_count": 13,
   "id": "565ea66c",
   "metadata": {},
   "outputs": [
    {
     "data": {
      "application/vnd.microsoft.datawrangler.viewer.v0+json": {
       "columns": [
        {
         "name": "index",
         "rawType": "int64",
         "type": "integer"
        },
        {
         "name": "0",
         "rawType": "object",
         "type": "string"
        }
       ],
       "ref": "d5fb3748-210e-4da4-822c-88b146b0f6d3",
       "rows": [
        [
         "0",
         "Romero"
        ],
        [
         "3",
         "Rojas"
        ]
       ],
       "shape": {
        "columns": 1,
        "rows": 2
       }
      },
      "text/plain": [
       "0    Romero\n",
       "3     Rojas\n",
       "dtype: object"
      ]
     },
     "execution_count": 13,
     "metadata": {},
     "output_type": "execute_result"
    }
   ],
   "source": [
    "apellidos[apellidos.str.match(\"\\wo\")]"
   ]
  },
  {
   "cell_type": "markdown",
   "id": "9d6fb1be-7ddf-4bf3-b54d-2c8ffdfe7ca2",
   "metadata": {},
   "source": [
    "Evaluar si los apellidos terminan por la letra \"a\""
   ]
  },
  {
   "cell_type": "code",
   "execution_count": 14,
   "id": "4194df19",
   "metadata": {},
   "outputs": [
    {
     "data": {
      "application/vnd.microsoft.datawrangler.viewer.v0+json": {
       "columns": [
        {
         "name": "index",
         "rawType": "int64",
         "type": "integer"
        },
        {
         "name": "0",
         "rawType": "object",
         "type": "string"
        }
       ],
       "ref": "32ee9232-c4ee-4fc7-87d4-66516079e54a",
       "rows": [
        [
         "2",
         "Mejia"
        ]
       ],
       "shape": {
        "columns": 1,
        "rows": 1
       }
      },
      "text/plain": [
       "2    Mejia\n",
       "dtype: object"
      ]
     },
     "execution_count": 14,
     "metadata": {},
     "output_type": "execute_result"
    }
   ],
   "source": [
    "apellidos[apellidos.str.endswith(\"a\")]"
   ]
  },
  {
   "cell_type": "code",
   "execution_count": null,
   "id": "484c7415-951b-465b-85ec-b39425715141",
   "metadata": {},
   "outputs": [],
   "source": []
  },
  {
   "cell_type": "markdown",
   "id": "558547e6-1a9e-4d72-a92e-eb32f910e74e",
   "metadata": {},
   "source": [
    "Obtener una serie nueva únicamente con los apellidos que terminan con la letra \"a\""
   ]
  },
  {
   "cell_type": "code",
   "execution_count": 15,
   "id": "fda0618f-3df0-4408-aeb0-d6e7d55d7d49",
   "metadata": {},
   "outputs": [
    {
     "data": {
      "application/vnd.microsoft.datawrangler.viewer.v0+json": {
       "columns": [
        {
         "name": "index",
         "rawType": "int64",
         "type": "integer"
        },
        {
         "name": "0",
         "rawType": "object",
         "type": "string"
        }
       ],
       "ref": "aba06a42-f38d-441e-b311-666ea8edc2cd",
       "rows": [
        [
         "2",
         "Mejia"
        ]
       ],
       "shape": {
        "columns": 1,
        "rows": 1
       }
      },
      "text/plain": [
       "2    Mejia\n",
       "dtype: object"
      ]
     },
     "execution_count": 15,
     "metadata": {},
     "output_type": "execute_result"
    }
   ],
   "source": [
    "apellidos[apellidos.str.endswith(\"a\")]"
   ]
  },
  {
   "cell_type": "code",
   "execution_count": null,
   "id": "fb5d6536-4949-41f6-8116-ff62546d5c67",
   "metadata": {},
   "outputs": [],
   "source": []
  },
  {
   "cell_type": "markdown",
   "id": "f011739e-8108-4d00-9395-e8bddecb1b2f",
   "metadata": {},
   "source": [
    "__Ejercicio 8:__ Concatenar las serie con los nombres y los apellidos"
   ]
  },
  {
   "cell_type": "code",
   "execution_count": 16,
   "id": "88569b57-2900-4295-b654-bcad153a90e7",
   "metadata": {},
   "outputs": [
    {
     "data": {
      "application/vnd.microsoft.datawrangler.viewer.v0+json": {
       "columns": [
        {
         "name": "index",
         "rawType": "int64",
         "type": "integer"
        },
        {
         "name": "0",
         "rawType": "object",
         "type": "string"
        }
       ],
       "ref": "89fd7cb9-b52d-4804-8d42-04e911648f26",
       "rows": [
        [
         "0",
         "Daniel Israel Romero"
        ],
        [
         "1",
         "Rocio del Carmen Aguilar"
        ],
        [
         "2",
         "Paulina Isabelle Mejia"
        ],
        [
         "3",
         "Elias Israel Rojas"
        ]
       ],
       "shape": {
        "columns": 1,
        "rows": 4
       }
      },
      "text/plain": [
       "0        Daniel Israel Romero\n",
       "1    Rocio del Carmen Aguilar\n",
       "2      Paulina Isabelle Mejia\n",
       "3          Elias Israel Rojas\n",
       "dtype: object"
      ]
     },
     "execution_count": 16,
     "metadata": {},
     "output_type": "execute_result"
    }
   ],
   "source": [
    "nombres + \" \" + apellidos"
   ]
  },
  {
   "cell_type": "code",
   "execution_count": 17,
   "id": "f9690094",
   "metadata": {},
   "outputs": [
    {
     "data": {
      "application/vnd.microsoft.datawrangler.viewer.v0+json": {
       "columns": [
        {
         "name": "index",
         "rawType": "int64",
         "type": "integer"
        },
        {
         "name": "0",
         "rawType": "object",
         "type": "string"
        }
       ],
       "ref": "2ea32d7e-52a6-4f47-a92b-0ca04e822367",
       "rows": [
        [
         "0",
         "Daniel Israel Romero"
        ],
        [
         "1",
         "Rocio del Carmen Aguilar"
        ],
        [
         "2",
         "Paulina Isabelle Mejia"
        ],
        [
         "3",
         "Elias Israel Rojas"
        ]
       ],
       "shape": {
        "columns": 1,
        "rows": 4
       }
      },
      "text/plain": [
       "0        Daniel Israel Romero\n",
       "1    Rocio del Carmen Aguilar\n",
       "2      Paulina Isabelle Mejia\n",
       "3          Elias Israel Rojas\n",
       "dtype: object"
      ]
     },
     "execution_count": 17,
     "metadata": {},
     "output_type": "execute_result"
    }
   ],
   "source": [
    "nombres.str.cat(apellidos, sep= \" \")"
   ]
  },
  {
   "cell_type": "markdown",
   "id": "28bce8af-27fb-454c-9d0a-76053cd13917",
   "metadata": {},
   "source": [
    "__Ejercicio 9:__ Obtener las 3 primeras letras de los apellidos"
   ]
  },
  {
   "cell_type": "code",
   "execution_count": 18,
   "id": "156a9f1e-da19-4407-b21e-648bc6713007",
   "metadata": {},
   "outputs": [
    {
     "data": {
      "application/vnd.microsoft.datawrangler.viewer.v0+json": {
       "columns": [
        {
         "name": "index",
         "rawType": "int64",
         "type": "integer"
        },
        {
         "name": "0",
         "rawType": "object",
         "type": "string"
        }
       ],
       "ref": "edf2e000-0a44-4568-99de-bb8805bef1fe",
       "rows": [
        [
         "0",
         "Rom"
        ],
        [
         "1",
         "Agu"
        ],
        [
         "2",
         "Mej"
        ],
        [
         "3",
         "Roj"
        ]
       ],
       "shape": {
        "columns": 1,
        "rows": 4
       }
      },
      "text/plain": [
       "0    Rom\n",
       "1    Agu\n",
       "2    Mej\n",
       "3    Roj\n",
       "dtype: object"
      ]
     },
     "execution_count": 18,
     "metadata": {},
     "output_type": "execute_result"
    }
   ],
   "source": [
    "apellidos.str.slice(start=0,stop=3)"
   ]
  },
  {
   "cell_type": "code",
   "execution_count": null,
   "id": "e930be1a-4cdc-45d6-81ed-c49aed83174d",
   "metadata": {},
   "outputs": [],
   "source": []
  },
  {
   "cell_type": "markdown",
   "id": "df1f6eb2-f6c5-41d8-be22-cafff2ac1a86",
   "metadata": {},
   "source": [
    "__Ejercicio 10:__ Obtener las 3 primeras letras de los apellidos y agregar un punto al final "
   ]
  },
  {
   "cell_type": "code",
   "execution_count": 20,
   "id": "1a9c72f1-336e-4f5b-999d-960227310715",
   "metadata": {},
   "outputs": [
    {
     "data": {
      "application/vnd.microsoft.datawrangler.viewer.v0+json": {
       "columns": [
        {
         "name": "index",
         "rawType": "int64",
         "type": "integer"
        },
        {
         "name": "0",
         "rawType": "object",
         "type": "string"
        }
       ],
       "ref": "88bea76d-f27d-45b6-a354-c6eadb31c13e",
       "rows": [
        [
         "0",
         "Rom_."
        ],
        [
         "1",
         "Agu_."
        ],
        [
         "2",
         "Mej_."
        ],
        [
         "3",
         "Roj_."
        ]
       ],
       "shape": {
        "columns": 1,
        "rows": 4
       }
      },
      "text/plain": [
       "0    Rom_.\n",
       "1    Agu_.\n",
       "2    Mej_.\n",
       "3    Roj_.\n",
       "dtype: object"
      ]
     },
     "execution_count": 20,
     "metadata": {},
     "output_type": "execute_result"
    }
   ],
   "source": [
    "apellidos.str.slice_replace(start=3,repl=\"_.\")"
   ]
  },
  {
   "cell_type": "markdown",
   "id": "e17582cf-9aa4-47d0-8025-cbcf62fbb714",
   "metadata": {},
   "source": [
    "__Ejercicio 11:__"
   ]
  },
  {
   "cell_type": "code",
   "execution_count": 21,
   "id": "8b84875d-95b2-415f-8809-25bdfd5e9039",
   "metadata": {},
   "outputs": [],
   "source": [
    "lista=[\"171\",\"Daniel\",\"Romero\",\"23\",\"True\"]"
   ]
  },
  {
   "cell_type": "markdown",
   "id": "e46ba612-963d-47fc-a6a6-01bc82905e6d",
   "metadata": {},
   "source": [
    "Guardar la lista anterior en una serie llamada \"datos\""
   ]
  },
  {
   "cell_type": "code",
   "execution_count": 22,
   "id": "92161cea-b63e-4c3d-a68c-2f537655e1db",
   "metadata": {},
   "outputs": [
    {
     "data": {
      "application/vnd.microsoft.datawrangler.viewer.v0+json": {
       "columns": [
        {
         "name": "index",
         "rawType": "int64",
         "type": "integer"
        },
        {
         "name": "0",
         "rawType": "object",
         "type": "string"
        }
       ],
       "ref": "69fff002-e501-4e37-a1b2-0d0962fd28a5",
       "rows": [
        [
         "0",
         "171"
        ],
        [
         "1",
         "Daniel"
        ],
        [
         "2",
         "Romero"
        ],
        [
         "3",
         "23"
        ],
        [
         "4",
         "True"
        ]
       ],
       "shape": {
        "columns": 1,
        "rows": 5
       }
      },
      "text/plain": [
       "0       171\n",
       "1    Daniel\n",
       "2    Romero\n",
       "3        23\n",
       "4      True\n",
       "dtype: object"
      ]
     },
     "execution_count": 22,
     "metadata": {},
     "output_type": "execute_result"
    }
   ],
   "source": [
    "datos = pd.Series(lista)\n",
    "datos"
   ]
  },
  {
   "cell_type": "markdown",
   "id": "f0268194-f752-42dc-8e53-4a8ff89f43cd",
   "metadata": {},
   "source": [
    "Evaluar cuales de los datos en la serie anterior pueden transformarse a numeros"
   ]
  },
  {
   "cell_type": "code",
   "execution_count": 23,
   "id": "99a3281c-26ea-4f33-82b3-0527d595d713",
   "metadata": {},
   "outputs": [
    {
     "data": {
      "application/vnd.microsoft.datawrangler.viewer.v0+json": {
       "columns": [
        {
         "name": "index",
         "rawType": "int64",
         "type": "integer"
        },
        {
         "name": "0",
         "rawType": "bool",
         "type": "boolean"
        }
       ],
       "ref": "e05d1c56-f6f9-498b-b57f-7f638f3473ba",
       "rows": [
        [
         "0",
         "True"
        ],
        [
         "1",
         "False"
        ],
        [
         "2",
         "False"
        ],
        [
         "3",
         "True"
        ],
        [
         "4",
         "False"
        ]
       ],
       "shape": {
        "columns": 1,
        "rows": 5
       }
      },
      "text/plain": [
       "0     True\n",
       "1    False\n",
       "2    False\n",
       "3     True\n",
       "4    False\n",
       "dtype: bool"
      ]
     },
     "execution_count": 23,
     "metadata": {},
     "output_type": "execute_result"
    }
   ],
   "source": [
    "datos.str.isdecimal()"
   ]
  },
  {
   "cell_type": "markdown",
   "id": "d5fa55f9-c64b-40c9-bf63-6c77300145e5",
   "metadata": {},
   "source": [
    "Obtener una serie nueva únicamente con los registros númericos dentro de \"datos\""
   ]
  },
  {
   "cell_type": "code",
   "execution_count": 25,
   "id": "23c7cd70-57a8-43e4-ac85-231020c6751c",
   "metadata": {},
   "outputs": [
    {
     "data": {
      "application/vnd.microsoft.datawrangler.viewer.v0+json": {
       "columns": [
        {
         "name": "index",
         "rawType": "int64",
         "type": "integer"
        },
        {
         "name": "0",
         "rawType": "int64",
         "type": "integer"
        }
       ],
       "ref": "14a89121-9cf7-436f-9df8-e5088ed51ad1",
       "rows": [
        [
         "0",
         "171"
        ],
        [
         "3",
         "23"
        ]
       ],
       "shape": {
        "columns": 1,
        "rows": 2
       }
      },
      "text/plain": [
       "0    171\n",
       "3     23\n",
       "dtype: int64"
      ]
     },
     "execution_count": 25,
     "metadata": {},
     "output_type": "execute_result"
    }
   ],
   "source": [
    "datos[datos.str.isdecimal()].apply(int)"
   ]
  },
  {
   "cell_type": "markdown",
   "id": "2e66ffcf-ec0e-4702-96d7-158f06e4f591",
   "metadata": {},
   "source": [
    "Unir todos los datos de la serie \"datos\" en un único string"
   ]
  },
  {
   "cell_type": "code",
   "execution_count": 29,
   "id": "53bb08c8-8207-4a8a-9d35-0bb36723f706",
   "metadata": {},
   "outputs": [
    {
     "data": {
      "text/plain": [
       "'171.Daniel.Romero.23.True'"
      ]
     },
     "execution_count": 29,
     "metadata": {},
     "output_type": "execute_result"
    }
   ],
   "source": [
    "datos.str.cat(sep=\".\")"
   ]
  },
  {
   "cell_type": "markdown",
   "id": "14d36a02-cfbe-4ec6-aad0-1d73397b57be",
   "metadata": {},
   "source": [
    "__Ejercicio 12:__"
   ]
  },
  {
   "cell_type": "code",
   "execution_count": 30,
   "id": "c41274f7-3658-4c76-baa3-9a5f9dd664a3",
   "metadata": {},
   "outputs": [],
   "source": [
    "lista=[\"12-12-2020\",\"08-11-2021\",\"15-01-2019\"]"
   ]
  },
  {
   "cell_type": "markdown",
   "id": "02d82966-e3f1-4c9e-8298-85b55354cf8f",
   "metadata": {},
   "source": [
    "Guardar la lista anterior en una serie llamada fechas"
   ]
  },
  {
   "cell_type": "code",
   "execution_count": 32,
   "id": "7ed5902d-45b3-4ca8-a1a4-8ad1e1b4b848",
   "metadata": {},
   "outputs": [
    {
     "data": {
      "application/vnd.microsoft.datawrangler.viewer.v0+json": {
       "columns": [
        {
         "name": "index",
         "rawType": "int64",
         "type": "integer"
        },
        {
         "name": "0",
         "rawType": "object",
         "type": "string"
        }
       ],
       "ref": "0bcca072-7e1d-4889-bdf8-b7055346119f",
       "rows": [
        [
         "0",
         "12-12-2020"
        ],
        [
         "1",
         "08-11-2021"
        ],
        [
         "2",
         "15-01-2019"
        ]
       ],
       "shape": {
        "columns": 1,
        "rows": 3
       }
      },
      "text/plain": [
       "0    12-12-2020\n",
       "1    08-11-2021\n",
       "2    15-01-2019\n",
       "dtype: object"
      ]
     },
     "execution_count": 32,
     "metadata": {},
     "output_type": "execute_result"
    }
   ],
   "source": [
    "fechas = pd.Series(lista)\n",
    "\n",
    "fechas"
   ]
  },
  {
   "cell_type": "markdown",
   "id": "4f771748-79e4-4bf5-831f-fb5b95c51c94",
   "metadata": {},
   "source": [
    "Reemplazar los separadores \"-\" por \"/\" en las fechas anteriores (Ej. \"12-12-2020\" =\"12/12/2020\")"
   ]
  },
  {
   "cell_type": "code",
   "execution_count": 33,
   "id": "93465147-4d52-4a2b-8e95-36eb4af344d6",
   "metadata": {},
   "outputs": [
    {
     "data": {
      "application/vnd.microsoft.datawrangler.viewer.v0+json": {
       "columns": [
        {
         "name": "index",
         "rawType": "int64",
         "type": "integer"
        },
        {
         "name": "0",
         "rawType": "object",
         "type": "string"
        }
       ],
       "ref": "2acf9c91-d924-43b8-8833-3d89a16e5e79",
       "rows": [
        [
         "0",
         "12/12/2020"
        ],
        [
         "1",
         "08/11/2021"
        ],
        [
         "2",
         "15/01/2019"
        ]
       ],
       "shape": {
        "columns": 1,
        "rows": 3
       }
      },
      "text/plain": [
       "0    12/12/2020\n",
       "1    08/11/2021\n",
       "2    15/01/2019\n",
       "dtype: object"
      ]
     },
     "execution_count": 33,
     "metadata": {},
     "output_type": "execute_result"
    }
   ],
   "source": [
    "fechas.str.replace(\"-\",\"/\")"
   ]
  },
  {
   "cell_type": "markdown",
   "id": "cc298c40-019d-443c-af3d-7da71b7b99b8",
   "metadata": {},
   "source": [
    "__Ejercicio 13:__ Separar la fecha en dia, mes y año, utilizando la función split"
   ]
  },
  {
   "cell_type": "code",
   "execution_count": 34,
   "id": "cc123d9e-5f3e-4e5f-a580-0c8e64d1f57d",
   "metadata": {},
   "outputs": [
    {
     "data": {
      "application/vnd.microsoft.datawrangler.viewer.v0+json": {
       "columns": [
        {
         "name": "index",
         "rawType": "int64",
         "type": "integer"
        },
        {
         "name": "0",
         "rawType": "object",
         "type": "unknown"
        }
       ],
       "ref": "6e5c6a56-617b-41b7-9b53-722faaa44c05",
       "rows": [
        [
         "0",
         "['12', '12', '2020']"
        ],
        [
         "1",
         "['08', '11', '2021']"
        ],
        [
         "2",
         "['15', '01', '2019']"
        ]
       ],
       "shape": {
        "columns": 1,
        "rows": 3
       }
      },
      "text/plain": [
       "0    [12, 12, 2020]\n",
       "1    [08, 11, 2021]\n",
       "2    [15, 01, 2019]\n",
       "dtype: object"
      ]
     },
     "execution_count": 34,
     "metadata": {},
     "output_type": "execute_result"
    }
   ],
   "source": [
    "fechas.str.split(\"-\")"
   ]
  },
  {
   "cell_type": "code",
   "execution_count": null,
   "id": "a5545481-c382-4423-93ed-fc38bcca3511",
   "metadata": {},
   "outputs": [],
   "source": []
  },
  {
   "cell_type": "markdown",
   "id": "5fcfb148-21c3-468f-a9b2-c5d42d658d3d",
   "metadata": {},
   "source": [
    "__Ejercicio 14:__ Obtener el año de cada fecha"
   ]
  },
  {
   "cell_type": "code",
   "execution_count": 35,
   "id": "8783d99c-21c4-4197-95ac-ce61cb9546a4",
   "metadata": {},
   "outputs": [
    {
     "data": {
      "application/vnd.microsoft.datawrangler.viewer.v0+json": {
       "columns": [
        {
         "name": "index",
         "rawType": "int64",
         "type": "integer"
        },
        {
         "name": "0",
         "rawType": "object",
         "type": "string"
        }
       ],
       "ref": "48ed9d90-704c-42cb-9b77-a70aaf909aaa",
       "rows": [
        [
         "0",
         "2020"
        ],
        [
         "1",
         "2021"
        ],
        [
         "2",
         "2019"
        ]
       ],
       "shape": {
        "columns": 1,
        "rows": 3
       }
      },
      "text/plain": [
       "0    2020\n",
       "1    2021\n",
       "2    2019\n",
       "dtype: object"
      ]
     },
     "execution_count": 35,
     "metadata": {},
     "output_type": "execute_result"
    }
   ],
   "source": [
    "fechas.str.split(\"-\").str.get(2)"
   ]
  },
  {
   "cell_type": "markdown",
   "id": "acdf9ada-979c-4fe6-8f33-cbe6c7517028",
   "metadata": {},
   "source": [
    "__Ejercicio 15:__ Generar un DataFrame a partir de la serie fechas, utilizando la funcion split"
   ]
  },
  {
   "cell_type": "code",
   "execution_count": null,
   "id": "91514250-6f13-4065-bf3e-51036dce56db",
   "metadata": {},
   "outputs": [],
   "source": []
  },
  {
   "cell_type": "code",
   "execution_count": null,
   "id": "66e1fb0a-706c-476d-814c-e42b11b74c80",
   "metadata": {},
   "outputs": [],
   "source": []
  },
  {
   "cell_type": "code",
   "execution_count": null,
   "id": "9982ae2e-851d-4f21-a902-c1f6e90cd8ff",
   "metadata": {},
   "outputs": [],
   "source": []
  },
  {
   "cell_type": "code",
   "execution_count": null,
   "id": "968556e2-a087-4899-a0eb-5a14cd589a74",
   "metadata": {},
   "outputs": [],
   "source": []
  },
  {
   "cell_type": "markdown",
   "id": "69b9c41d-acee-43a9-9066-d2511c8047cd",
   "metadata": {},
   "source": [
    "__Ejercicio 16:__"
   ]
  },
  {
   "cell_type": "code",
   "execution_count": 43,
   "id": "6fabe84b-ad39-4919-b59e-bb2a294e9f7a",
   "metadata": {},
   "outputs": [],
   "source": [
    "lista=[\"Raul Jose\",\"Sofía Yasmin\",\"Julia Carmen\", \"Roberto Miguel\"]"
   ]
  },
  {
   "cell_type": "markdown",
   "id": "562c086e-dca0-4c7a-839f-d3637c2d22bd",
   "metadata": {},
   "source": [
    "Guardar la lista anterior en una serie llamada nombres"
   ]
  },
  {
   "cell_type": "code",
   "execution_count": null,
   "id": "1181eb33-6b86-4ecb-a03d-8ad07b11f324",
   "metadata": {},
   "outputs": [],
   "source": []
  },
  {
   "cell_type": "markdown",
   "id": "c4983ecc-65e8-46c1-a2a3-48728d9dd32e",
   "metadata": {},
   "source": [
    "Cambiar a letras minusculas los nombres que terminen en la letra \"n\""
   ]
  },
  {
   "cell_type": "code",
   "execution_count": null,
   "id": "e0d507bf-b4cd-4103-ad45-bb082a36481a",
   "metadata": {},
   "outputs": [],
   "source": []
  },
  {
   "cell_type": "markdown",
   "id": "d95bbfe5-e6f9-4d55-864b-7bc08cb26d3d",
   "metadata": {},
   "source": [
    "Cambiar a letras mayusculas los nombres que empiecen con la letra \"R\""
   ]
  },
  {
   "cell_type": "code",
   "execution_count": null,
   "id": "c6bbefae-c538-4bb3-bef7-c25c279132a0",
   "metadata": {},
   "outputs": [],
   "source": []
  },
  {
   "cell_type": "code",
   "execution_count": null,
   "id": "667cae69-6c29-4e8d-9c76-ba2a12b1b4ac",
   "metadata": {},
   "outputs": [],
   "source": []
  },
  {
   "cell_type": "markdown",
   "id": "2bf5680e-372b-4923-99bc-7727cd0b98d4",
   "metadata": {},
   "source": [
    "__Ejercicio 17:__"
   ]
  },
  {
   "cell_type": "markdown",
   "id": "38597ebd-6a73-4384-9dd9-956cf731db6a",
   "metadata": {},
   "source": [
    "Importar los datos del archivo \"mascotas.xlsx\" utilizando pandas y guardarlos en un DataFrame llamado \"mascotas\""
   ]
  },
  {
   "cell_type": "code",
   "execution_count": null,
   "id": "f901204e-33bd-436c-b3f3-681043d67bab",
   "metadata": {},
   "outputs": [],
   "source": []
  },
  {
   "cell_type": "markdown",
   "id": "2e518973-459e-4358-bad5-1ff203e886b5",
   "metadata": {},
   "source": [
    "Cambiar las letras a mayusculas en el dato de la columna \"tipo\" si contiene la silaba \"rro\""
   ]
  },
  {
   "cell_type": "code",
   "execution_count": null,
   "id": "dbc50de7-5e03-4cbd-b44d-9eff6e504eb5",
   "metadata": {},
   "outputs": [],
   "source": []
  },
  {
   "cell_type": "code",
   "execution_count": null,
   "id": "88bb3741-b127-4cab-8514-90dcd11a5f37",
   "metadata": {},
   "outputs": [],
   "source": []
  },
  {
   "cell_type": "markdown",
   "id": "6da19721-6e4d-437a-9dc4-e39214d17c85",
   "metadata": {},
   "source": [
    "__Ejercicio 18:__ Cambiar las letras a minusculas en el dato de la columna \"tipo\" si empieza con la silaba \"Ga\""
   ]
  },
  {
   "cell_type": "code",
   "execution_count": null,
   "id": "5c4fef3b-1dbd-4206-8c14-a1bd148e7cd0",
   "metadata": {},
   "outputs": [],
   "source": []
  },
  {
   "cell_type": "code",
   "execution_count": null,
   "id": "62c8ac40-984d-4613-9662-605cd3ffa096",
   "metadata": {},
   "outputs": [],
   "source": []
  },
  {
   "cell_type": "code",
   "execution_count": null,
   "id": "d502a96f-7830-44cc-9a7e-11070e69981f",
   "metadata": {},
   "outputs": [],
   "source": []
  }
 ],
 "metadata": {
  "kernelspec": {
   "display_name": "Python 3",
   "language": "python",
   "name": "python3"
  },
  "language_info": {
   "codemirror_mode": {
    "name": "ipython",
    "version": 3
   },
   "file_extension": ".py",
   "mimetype": "text/x-python",
   "name": "python",
   "nbconvert_exporter": "python",
   "pygments_lexer": "ipython3",
   "version": "3.10.12"
  }
 },
 "nbformat": 4,
 "nbformat_minor": 5
}
