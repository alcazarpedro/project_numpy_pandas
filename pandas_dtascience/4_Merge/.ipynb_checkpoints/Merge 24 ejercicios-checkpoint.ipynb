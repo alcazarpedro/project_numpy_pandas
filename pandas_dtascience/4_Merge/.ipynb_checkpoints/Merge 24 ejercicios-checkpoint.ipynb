{
 "cells": [
  {
   "cell_type": "markdown",
   "id": "c4361247-cafb-456f-8796-b0a3c4e27ea5",
   "metadata": {},
   "source": [
    "# Ejercicios "
   ]
  },
  {
   "cell_type": "code",
   "execution_count": 1,
   "id": "2908f507-e29b-417b-9888-0f4defd9c902",
   "metadata": {},
   "outputs": [],
   "source": [
    "import pandas as pd"
   ]
  },
  {
   "cell_type": "markdown",
   "id": "009da046-d7dd-428e-af20-08c22c09c516",
   "metadata": {},
   "source": [
    "__Ejercicio 1:__"
   ]
  },
  {
   "cell_type": "markdown",
   "id": "08cdc115-45c0-4ced-b003-5a8aa8ccc8ee",
   "metadata": {},
   "source": [
    "Utilizar pandas para importar los datos del archivo \"escuela.xlsx\" en la variable \"alumnos\", utilizando el número de control como índice"
   ]
  },
  {
   "cell_type": "code",
   "execution_count": 2,
   "id": "dd601865-58e0-469f-af35-830821c2fd01",
   "metadata": {},
   "outputs": [],
   "source": []
  },
  {
   "cell_type": "code",
   "execution_count": null,
   "id": "b5de5953-e70d-4b8d-805a-7cd97a9b0bc1",
   "metadata": {},
   "outputs": [],
   "source": []
  },
  {
   "cell_type": "markdown",
   "id": "af1a8ca5-6918-4426-8ebb-2658db59556b",
   "metadata": {},
   "source": [
    "__Ejercicio 2:__"
   ]
  },
  {
   "cell_type": "markdown",
   "id": "6520f2ef-df26-4716-8375-32a345b60619",
   "metadata": {},
   "source": [
    "Utilizar pandas para importar los datos en la hoja \"Carreras\" del archivo \"escuela.xlsx\" en la variable \"carreras\""
   ]
  },
  {
   "cell_type": "code",
   "execution_count": null,
   "id": "e9acafcb-3050-4315-afaa-df61daf3a44c",
   "metadata": {},
   "outputs": [],
   "source": []
  },
  {
   "cell_type": "markdown",
   "id": "95ea200f-4b5f-4cfa-a444-3e739f11ba65",
   "metadata": {},
   "source": [
    "__Ejercicio 3:__"
   ]
  },
  {
   "cell_type": "markdown",
   "id": "f8bfec2f-c940-4d33-b3ab-d98228bfe198",
   "metadata": {},
   "source": [
    "Utilizar pandas para importar los datos en la hoja \"Modalidad\" del archivo \"escuela.xlsx\" en la variable \"modalidades\""
   ]
  },
  {
   "cell_type": "code",
   "execution_count": null,
   "id": "4b11ff20-2892-4460-ab78-f69a86ca08fd",
   "metadata": {},
   "outputs": [],
   "source": []
  },
  {
   "cell_type": "markdown",
   "id": "312b4b5e-f7cc-49cb-9800-5f798bec648c",
   "metadata": {},
   "source": [
    "__Ejercicio 4:__"
   ]
  },
  {
   "cell_type": "markdown",
   "id": "7dad55cd-947a-4e4a-a5bf-791271e8c7d6",
   "metadata": {},
   "source": [
    "Utilizar la función join para unir los dataframe alumnos y carreras en base a la columna \"Id Carrera\""
   ]
  },
  {
   "cell_type": "code",
   "execution_count": null,
   "id": "4f030f45-8351-4370-b0fe-278235627717",
   "metadata": {},
   "outputs": [],
   "source": []
  },
  {
   "cell_type": "code",
   "execution_count": null,
   "id": "182be998-f713-48e9-a059-72acab8909a9",
   "metadata": {},
   "outputs": [],
   "source": []
  },
  {
   "cell_type": "markdown",
   "id": "9547328e-9568-4585-9503-46790c36202a",
   "metadata": {},
   "source": [
    "__Ejercicio 5:__"
   ]
  },
  {
   "cell_type": "markdown",
   "id": "cec1de95-acf6-46e3-b683-903ea92bdc48",
   "metadata": {},
   "source": [
    "Utilizar la función join para unir los dataframe alumnos y modalidades en base a la columna \"Id Modalidad\", agregar el sufico \"_Alumno\" a la columna  del Dataframe alumnos"
   ]
  },
  {
   "cell_type": "code",
   "execution_count": null,
   "id": "aeaa2f22-9215-4901-b374-d369388f2e4f",
   "metadata": {},
   "outputs": [],
   "source": []
  },
  {
   "cell_type": "code",
   "execution_count": null,
   "id": "fc281e15-c279-4387-b33c-90f4fbd73c62",
   "metadata": {},
   "outputs": [],
   "source": []
  },
  {
   "cell_type": "markdown",
   "id": "0bad9518-4210-4bb1-9b71-f8a93a9174c2",
   "metadata": {},
   "source": [
    "__Ejercicio 6:__"
   ]
  },
  {
   "cell_type": "markdown",
   "id": "abe1b53f-cada-40ee-a083-7df1c7269b2c",
   "metadata": {},
   "source": [
    "Ordenar el DataFrame anterior en base a la columna \"Id Modalidad\""
   ]
  },
  {
   "cell_type": "code",
   "execution_count": null,
   "id": "22f2a41a-ad07-4720-9de1-bc0e65c6df1d",
   "metadata": {},
   "outputs": [],
   "source": []
  },
  {
   "cell_type": "markdown",
   "id": "b19f66db-3834-4c65-8c5c-14b60aa88990",
   "metadata": {},
   "source": [
    "__Ejercicio 7:__"
   ]
  },
  {
   "cell_type": "markdown",
   "id": "eb668f1f-8018-4838-97f1-bd657afe8807",
   "metadata": {},
   "source": [
    "Utilizar la funcion merge para unir los DataFrame \"alumnos\" y \"carreras\", para comparar:\n",
    "- Utilizar la columna \"Id Carrera\" en el DataFrame \"alumnos\"\n",
    "- Utilizar el indice en el DataFrame carreras"
   ]
  },
  {
   "cell_type": "code",
   "execution_count": null,
   "id": "a33a2d67-80e3-4548-b0e4-4bad78614f9f",
   "metadata": {},
   "outputs": [],
   "source": []
  },
  {
   "cell_type": "code",
   "execution_count": null,
   "id": "bbcebb7a-1ac3-4b7c-879b-2bfd04e5c781",
   "metadata": {},
   "outputs": [],
   "source": []
  },
  {
   "cell_type": "code",
   "execution_count": null,
   "id": "77894f62-3a60-4ecf-a158-818ad92e9062",
   "metadata": {},
   "outputs": [],
   "source": []
  },
  {
   "cell_type": "markdown",
   "id": "11db9abd-a836-483d-98e8-a385b8dcd774",
   "metadata": {},
   "source": [
    "__Ejercicio 8:__ "
   ]
  },
  {
   "cell_type": "markdown",
   "id": "1e7c1399-a814-4037-a9b7-191474538d99",
   "metadata": {},
   "source": [
    "Utilizar la funcion merge para unir los DataFrame \"modalidades\" y \"alumnos\", para comparar:\n",
    "- Utilizar el indice en el DataFrame \"modalidades\"\n",
    "- Utilizar la columna \"Id Modalidad\" en el DataFrame \"alumnos\""
   ]
  },
  {
   "cell_type": "code",
   "execution_count": null,
   "id": "7336b066-0251-4f44-a76b-2ce34b7b90ad",
   "metadata": {},
   "outputs": [],
   "source": []
  },
  {
   "cell_type": "code",
   "execution_count": null,
   "id": "aa3ec1bb-d97d-4b7a-a5ca-b99f73855fcc",
   "metadata": {},
   "outputs": [],
   "source": []
  },
  {
   "cell_type": "code",
   "execution_count": null,
   "id": "67a3afed-0b10-488b-8c06-c2903d27b3bb",
   "metadata": {},
   "outputs": [],
   "source": []
  },
  {
   "cell_type": "markdown",
   "id": "31a8e422-6786-422f-8016-1f6ed912ec64",
   "metadata": {},
   "source": [
    "__Ejercicio 9:__"
   ]
  },
  {
   "cell_type": "markdown",
   "id": "34b95c9f-00bb-4907-9cbd-057ed367b447",
   "metadata": {},
   "source": [
    "Modificar el DataFrame anterior:\n",
    "- Agregar el sufijo \"_Modalidad\" a la columna \"Nombre\" del Dataframe modalidades\n",
    "- Agregar el sufijo \"_Alumno\" a la columna \"Nombre\" del DataFrame alumnos"
   ]
  },
  {
   "cell_type": "code",
   "execution_count": null,
   "id": "b1d1cb13-601b-47f7-bb47-2490e9cffee2",
   "metadata": {},
   "outputs": [],
   "source": []
  },
  {
   "cell_type": "markdown",
   "id": "7ac706f6-94de-4195-8595-7da193a97e5d",
   "metadata": {},
   "source": [
    "__Ejercicio 10:__"
   ]
  },
  {
   "cell_type": "markdown",
   "id": "be8853c8-c806-4f15-be69-c994c42f6a1d",
   "metadata": {},
   "source": [
    "Utilizar la funcion merge para unir los DataFrame carreras y alumnos, para comparar:\n",
    "   - Utilizar la columna \"Clave\" en el DataFrame carreras\n",
    "   - Utilizar la columna \"Id Carrera\" en el DaraFrame alumnos"
   ]
  },
  {
   "cell_type": "code",
   "execution_count": null,
   "id": "755671dc-9b07-4852-bd6f-f17f682c61f1",
   "metadata": {},
   "outputs": [],
   "source": []
  },
  {
   "cell_type": "code",
   "execution_count": null,
   "id": "43f6e8b5-fce9-4d0d-993b-1a99c1d18872",
   "metadata": {},
   "outputs": [],
   "source": []
  },
  {
   "cell_type": "markdown",
   "id": "5db2481f-cf63-4ba3-95a1-93ce41e6fdde",
   "metadata": {},
   "source": [
    "__Ejercicio 11:__"
   ]
  },
  {
   "cell_type": "markdown",
   "id": "777b6380-14fb-43cb-b6f0-d7b5faaa8bac",
   "metadata": {},
   "source": [
    "Utilizar la funcion merge para unir los DataFrame \"carreras\" y \"alumnos\", para comparar:\n",
    "- Utilizar la columna \"Clave\" en el DataFrame \"carreras\"\n",
    "- Utilizar la columna \"Id Carrera\" en el DaraFrame \"alumnos\"\n",
    "- Utilizar una unión derecha"
   ]
  },
  {
   "cell_type": "code",
   "execution_count": 20,
   "id": "7ae2d6b4-6e9c-486f-b138-9e16449fa4c1",
   "metadata": {},
   "outputs": [],
   "source": []
  },
  {
   "cell_type": "code",
   "execution_count": null,
   "id": "4352fe12-879d-4531-b588-85c175c45c58",
   "metadata": {},
   "outputs": [],
   "source": []
  },
  {
   "cell_type": "markdown",
   "id": "63cc7dbe-bf98-46de-b9c8-3b2a1ae06cff",
   "metadata": {},
   "source": [
    "__Ejercicio 12:__"
   ]
  },
  {
   "cell_type": "markdown",
   "id": "77b46821-a788-4a48-a23b-e8c93eebe44f",
   "metadata": {},
   "source": [
    "Indicar la tabla de origen de cada fila en el DataFrame anterior"
   ]
  },
  {
   "cell_type": "code",
   "execution_count": null,
   "id": "d1dbe033-e1e2-4e55-aeab-323065ea169e",
   "metadata": {},
   "outputs": [],
   "source": []
  },
  {
   "cell_type": "markdown",
   "id": "6a3d76fd-0bac-4402-b3f3-fcd99163f3ab",
   "metadata": {},
   "source": [
    "__Ejercicio 13:__"
   ]
  },
  {
   "cell_type": "markdown",
   "id": "537ac224-f6d5-4540-b062-f0be55cb911d",
   "metadata": {},
   "source": [
    "Utilizar pandas para importar los datos en la hoja \"Maestros\" del archivo \"escuela.xlsx\" en la variable \"maestros\""
   ]
  },
  {
   "cell_type": "code",
   "execution_count": null,
   "id": "476ae358-2a9a-4dc4-92c6-98e9402b0b10",
   "metadata": {},
   "outputs": [],
   "source": []
  },
  {
   "cell_type": "code",
   "execution_count": null,
   "id": "10d0e4cc-2318-4758-a06d-b55d76d28a32",
   "metadata": {},
   "outputs": [],
   "source": []
  },
  {
   "cell_type": "markdown",
   "id": "a8d6cb18-2d8c-4f66-97f1-42021568ccaf",
   "metadata": {},
   "source": [
    "__Ejercicio 14:__"
   ]
  },
  {
   "cell_type": "markdown",
   "id": "53525a40-6a9b-4c24-ac3a-4e300df7493c",
   "metadata": {},
   "source": [
    "Utilizar pandas para importar los datos en la hoja \"Materias\" del archivo \"escuela.xlsx\" en la variable \"materias\""
   ]
  },
  {
   "cell_type": "code",
   "execution_count": null,
   "id": "843c4935-3794-41a9-b4eb-98cb22ff4891",
   "metadata": {},
   "outputs": [],
   "source": []
  },
  {
   "cell_type": "code",
   "execution_count": null,
   "id": "4dee13da-35dc-4601-b135-12cfaf30ebc0",
   "metadata": {},
   "outputs": [],
   "source": []
  },
  {
   "cell_type": "markdown",
   "id": "a74e7d5e-4079-4430-b971-ee2366fcf821",
   "metadata": {},
   "source": [
    "__Ejercicio 15:__"
   ]
  },
  {
   "cell_type": "markdown",
   "id": "82bc4933-5c46-4366-bb53-8b6aee943661",
   "metadata": {},
   "source": [
    "Utilizar pandas para importar los datos en la hoja \"Materias\" del archivo \"escuela.xlsx\" en la variable \"materias\""
   ]
  },
  {
   "cell_type": "code",
   "execution_count": null,
   "id": "9c8ea158-8409-4323-9bb5-abbed12b92e8",
   "metadata": {},
   "outputs": [],
   "source": []
  },
  {
   "cell_type": "code",
   "execution_count": null,
   "id": "70d68840-0f97-4bf1-8a10-02aa061f7503",
   "metadata": {},
   "outputs": [],
   "source": []
  },
  {
   "cell_type": "markdown",
   "id": "59a3ab6d-ae87-48b3-a743-e795571f170c",
   "metadata": {},
   "source": [
    "__Ejercicio 16:__"
   ]
  },
  {
   "cell_type": "markdown",
   "id": "f4608898-e421-474a-9989-de3ca0411a17",
   "metadata": {},
   "source": [
    "Utilizar la función join para unir los dataframe cursos y maestros en base a la columna \"Id Carrera\""
   ]
  },
  {
   "cell_type": "code",
   "execution_count": null,
   "id": "d6a3968b-52d8-41c1-9cf4-a9ca7899f255",
   "metadata": {},
   "outputs": [],
   "source": []
  },
  {
   "cell_type": "markdown",
   "id": "c6ee4859-0de1-4b88-b7ea-e794d5f7df47",
   "metadata": {},
   "source": [
    "__Ejercicio 17:__"
   ]
  },
  {
   "cell_type": "code",
   "execution_count": null,
   "id": "85f1e0dc-bddd-445f-baa2-6801b5324357",
   "metadata": {},
   "outputs": [],
   "source": []
  },
  {
   "cell_type": "markdown",
   "id": "c028a404-507d-420c-bd71-10b8817de472",
   "metadata": {},
   "source": [
    "__Ejercicio 18:__"
   ]
  },
  {
   "cell_type": "code",
   "execution_count": null,
   "id": "9e39ccaa-fc55-4446-9fa0-eee560f9dda7",
   "metadata": {},
   "outputs": [],
   "source": []
  },
  {
   "cell_type": "markdown",
   "id": "a63d4f61-6533-4f0f-abb3-b52dc626eda8",
   "metadata": {},
   "source": [
    "__Ejercicio 19:__"
   ]
  },
  {
   "cell_type": "markdown",
   "id": "96dc61c3-1949-4596-8c26-3fba25a9a03a",
   "metadata": {},
   "source": [
    "Utilizar la funcion merge para unir los DataFrame maestros y cursos, para comparar:\n",
    "- Utilizar el indice en el DataFrame \"maestros\"\n",
    "- Utilizar la columna \"Id Maestro\" en el DataFrame \"cursos\""
   ]
  },
  {
   "cell_type": "code",
   "execution_count": null,
   "id": "9541c5ae-e034-43a9-9846-93aeac93d570",
   "metadata": {},
   "outputs": [],
   "source": []
  },
  {
   "cell_type": "markdown",
   "id": "a3ec6d49-499f-4376-a10d-487f2ba51cd1",
   "metadata": {},
   "source": [
    "__Ejercicio 20:__"
   ]
  },
  {
   "cell_type": "markdown",
   "id": "0c107e58-334d-4c20-8f44-b64c5b13461c",
   "metadata": {},
   "source": [
    "Utilizar la funcion merge para unir los DataFrame maestros y cursos, para comparar:\n",
    "- Utilizar el indice en el DataFrame \"maestros\"\n",
    "- Utilizar la columna \"Id Maestro\" en el DataFrame \"cursos\"\n",
    "- Utilizar una union izquierda"
   ]
  },
  {
   "cell_type": "code",
   "execution_count": null,
   "id": "5207bdd3-1af2-4e43-b778-a7e3a420bdf1",
   "metadata": {},
   "outputs": [],
   "source": []
  },
  {
   "cell_type": "markdown",
   "id": "8811de0c-c53c-4404-9688-5a8eb2120cf8",
   "metadata": {},
   "source": [
    "__Ejercicio 21:__"
   ]
  },
  {
   "cell_type": "markdown",
   "id": "d5eb4ad9-7d7b-4004-9889-eba0049692de",
   "metadata": {},
   "source": [
    "Utilizar la funcion merge para unir los DataFrame cursos y materias, para comparar:\n",
    "- Utilizar la columna \"Id Materia\" en el DataFrame \"cursos\"\n",
    "- Utilizar el indice en el DataFrame \"materias\""
   ]
  },
  {
   "cell_type": "code",
   "execution_count": null,
   "id": "3e8a8845-8c63-486c-a622-35dac1287189",
   "metadata": {},
   "outputs": [],
   "source": []
  },
  {
   "cell_type": "markdown",
   "id": "f0fa3f22-d403-4bdb-a80f-c790ad250dec",
   "metadata": {},
   "source": [
    "__Ejercicio 22:__"
   ]
  },
  {
   "cell_type": "markdown",
   "id": "add9c13f-00b8-4667-a006-973df795a291",
   "metadata": {},
   "source": [
    "Utilizar la funcion merge para unir los DataFrame cursos y materias, para comparar:\n",
    "- Utilizar la columna \"Id Materia\" en el DataFrame \"cursos\"\n",
    "- Utilizar el indice en el DataFrame \"materias\"\n",
    "- Utilizar una union derecha"
   ]
  },
  {
   "cell_type": "code",
   "execution_count": null,
   "id": "fa6011d5-6e07-4630-b26c-68657e49659b",
   "metadata": {},
   "outputs": [],
   "source": []
  },
  {
   "cell_type": "markdown",
   "id": "ec5a9671-a63b-40ac-88e0-dba14c20f4b3",
   "metadata": {},
   "source": [
    "__Ejercicio 23:__"
   ]
  },
  {
   "cell_type": "markdown",
   "id": "089e6581-8774-4fc3-866f-7f2c00f0b495",
   "metadata": {},
   "source": [
    "Utilizar la funcion merge para unir los DataFrame cursos y materias, para comparar:\n",
    "- Utilizar la columna \"Id Materia\" en el DataFrame \"cursos\"\n",
    "- Utilizar el indice en el DataFrame \"materias\"\n",
    "- Utilizar una union exterior"
   ]
  },
  {
   "cell_type": "code",
   "execution_count": null,
   "id": "133e913b-663a-4a64-8288-8f874ff45f7f",
   "metadata": {},
   "outputs": [],
   "source": []
  },
  {
   "cell_type": "markdown",
   "id": "4b79aabf-06e0-4d5a-91cb-1d46b5d5e41f",
   "metadata": {},
   "source": [
    "__Ejercicio 24:__"
   ]
  },
  {
   "cell_type": "markdown",
   "id": "7849f9b3-f662-4733-b29f-1a843022f650",
   "metadata": {},
   "source": [
    "Utilizar la funcion merge para unir los DataFrame cursos y materias, para comparar:\n",
    "- Utilizar la columna \"Id Materia\" en el DataFrame \"cursos\"\n",
    "- Utilizar el indice en el DataFrame \"materias\"\n",
    "- Utilizar una union exterior\n",
    "- Indicar la tabla de origen de cada fila"
   ]
  },
  {
   "cell_type": "code",
   "execution_count": null,
   "id": "75268615-7730-411d-8727-3ba088845905",
   "metadata": {},
   "outputs": [],
   "source": []
  }
 ],
 "metadata": {
  "kernelspec": {
   "display_name": "Python 3 (ipykernel)",
   "language": "python",
   "name": "python3"
  },
  "language_info": {
   "codemirror_mode": {
    "name": "ipython",
    "version": 3
   },
   "file_extension": ".py",
   "mimetype": "text/x-python",
   "name": "python",
   "nbconvert_exporter": "python",
   "pygments_lexer": "ipython3",
   "version": "3.9.7"
  }
 },
 "nbformat": 4,
 "nbformat_minor": 5
}
