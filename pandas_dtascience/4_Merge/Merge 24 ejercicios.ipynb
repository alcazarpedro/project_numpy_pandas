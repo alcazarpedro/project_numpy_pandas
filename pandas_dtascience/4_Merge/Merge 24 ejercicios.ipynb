{
 "cells": [
  {
   "cell_type": "markdown",
   "id": "c4361247-cafb-456f-8796-b0a3c4e27ea5",
   "metadata": {},
   "source": [
    "# Ejercicios "
   ]
  },
  {
   "cell_type": "code",
   "execution_count": 1,
   "id": "2908f507-e29b-417b-9888-0f4defd9c902",
   "metadata": {},
   "outputs": [],
   "source": [
    "import pandas as pd"
   ]
  },
  {
   "cell_type": "markdown",
   "id": "009da046-d7dd-428e-af20-08c22c09c516",
   "metadata": {},
   "source": [
    "__Ejercicio 1:__"
   ]
  },
  {
   "cell_type": "markdown",
   "id": "08cdc115-45c0-4ced-b003-5a8aa8ccc8ee",
   "metadata": {},
   "source": [
    "Utilizar pandas para importar los datos del archivo \"escuela.xlsx\" en la variable \"alumnos\", utilizando el número de control como índice"
   ]
  },
  {
   "cell_type": "code",
   "execution_count": 2,
   "id": "dd601865-58e0-469f-af35-830821c2fd01",
   "metadata": {},
   "outputs": [],
   "source": [
    "Alumnos = pd.read_excel(\"./escuela.xlsx\",index_col=\"Num. Control\")"
   ]
  },
  {
   "cell_type": "code",
   "execution_count": 3,
   "id": "b5de5953-e70d-4b8d-805a-7cd97a9b0bc1",
   "metadata": {},
   "outputs": [
    {
     "data": {
      "application/vnd.microsoft.datawrangler.viewer.v0+json": {
       "columns": [
        {
         "name": "Num. Control",
         "rawType": "int64",
         "type": "integer"
        },
        {
         "name": "Nombre",
         "rawType": "object",
         "type": "string"
        },
        {
         "name": "Id Carrera",
         "rawType": "object",
         "type": "unknown"
        },
        {
         "name": "Id Modalidad",
         "rawType": "int64",
         "type": "integer"
        }
       ],
       "ref": "d6174104-7a91-44b4-8844-07e7cec71cf3",
       "rows": [
        [
         "11368032",
         "Federico Olvera Castro",
         "IQ",
         "1"
        ],
        [
         "11981193",
         "Lara Calderón Obrador",
         "EGE",
         "4"
        ],
        [
         "12069000",
         "Jamir Vázquez Urrutia",
         "ISC",
         "4"
        ],
        [
         "12239391",
         "Eddie Dueñas Piñeda",
         "ISC",
         "4"
        ],
        [
         "12343755",
         "Alex Villareal Vadillo",
         "TIC",
         "2"
        ],
        [
         "12384890",
         "Silvana Santos Lacy",
         "ISC",
         "4"
        ],
        [
         "13060162",
         "Pablo Gabilondo Halabe",
         "ISC",
         "4"
        ],
        [
         "13801621",
         "Olivia Maldonado Dueñas",
         "EA",
         "4"
        ],
        [
         "14392671",
         "Adrián García Pascual",
         "ISC",
         "3"
        ],
        [
         "15453687",
         "Eugene Morales Verdejo",
         "EGE",
         "3"
        ],
        [
         "16066694",
         "Benjamin Bacab Quiñonez",
         "AU",
         "3"
        ],
        [
         "16314729",
         "Claudia Núñez Ochoa",
         "TIC",
         "1"
        ],
        [
         "16905652",
         "Graciela Manzanilla Alcocer",
         null,
         "4"
        ],
        [
         "17546838",
         "Sarah Gallegos Carranza",
         "EGE",
         "1"
        ],
        [
         "18218094",
         "Paul Saucedo Orea",
         "ISC",
         "1"
        ],
        [
         "18439514",
         "Cristina Uribe Vital",
         "ISC",
         "1"
        ]
       ],
       "shape": {
        "columns": 3,
        "rows": 16
       }
      },
      "text/html": [
       "<div>\n",
       "<style scoped>\n",
       "    .dataframe tbody tr th:only-of-type {\n",
       "        vertical-align: middle;\n",
       "    }\n",
       "\n",
       "    .dataframe tbody tr th {\n",
       "        vertical-align: top;\n",
       "    }\n",
       "\n",
       "    .dataframe thead th {\n",
       "        text-align: right;\n",
       "    }\n",
       "</style>\n",
       "<table border=\"1\" class=\"dataframe\">\n",
       "  <thead>\n",
       "    <tr style=\"text-align: right;\">\n",
       "      <th></th>\n",
       "      <th>Nombre</th>\n",
       "      <th>Id Carrera</th>\n",
       "      <th>Id Modalidad</th>\n",
       "    </tr>\n",
       "    <tr>\n",
       "      <th>Num. Control</th>\n",
       "      <th></th>\n",
       "      <th></th>\n",
       "      <th></th>\n",
       "    </tr>\n",
       "  </thead>\n",
       "  <tbody>\n",
       "    <tr>\n",
       "      <th>11368032</th>\n",
       "      <td>Federico Olvera Castro</td>\n",
       "      <td>IQ</td>\n",
       "      <td>1</td>\n",
       "    </tr>\n",
       "    <tr>\n",
       "      <th>11981193</th>\n",
       "      <td>Lara Calderón Obrador</td>\n",
       "      <td>EGE</td>\n",
       "      <td>4</td>\n",
       "    </tr>\n",
       "    <tr>\n",
       "      <th>12069000</th>\n",
       "      <td>Jamir Vázquez Urrutia</td>\n",
       "      <td>ISC</td>\n",
       "      <td>4</td>\n",
       "    </tr>\n",
       "    <tr>\n",
       "      <th>12239391</th>\n",
       "      <td>Eddie Dueñas Piñeda</td>\n",
       "      <td>ISC</td>\n",
       "      <td>4</td>\n",
       "    </tr>\n",
       "    <tr>\n",
       "      <th>12343755</th>\n",
       "      <td>Alex Villareal Vadillo</td>\n",
       "      <td>TIC</td>\n",
       "      <td>2</td>\n",
       "    </tr>\n",
       "    <tr>\n",
       "      <th>12384890</th>\n",
       "      <td>Silvana Santos Lacy</td>\n",
       "      <td>ISC</td>\n",
       "      <td>4</td>\n",
       "    </tr>\n",
       "    <tr>\n",
       "      <th>13060162</th>\n",
       "      <td>Pablo Gabilondo Halabe</td>\n",
       "      <td>ISC</td>\n",
       "      <td>4</td>\n",
       "    </tr>\n",
       "    <tr>\n",
       "      <th>13801621</th>\n",
       "      <td>Olivia Maldonado Dueñas</td>\n",
       "      <td>EA</td>\n",
       "      <td>4</td>\n",
       "    </tr>\n",
       "    <tr>\n",
       "      <th>14392671</th>\n",
       "      <td>Adrián García Pascual</td>\n",
       "      <td>ISC</td>\n",
       "      <td>3</td>\n",
       "    </tr>\n",
       "    <tr>\n",
       "      <th>15453687</th>\n",
       "      <td>Eugene Morales Verdejo</td>\n",
       "      <td>EGE</td>\n",
       "      <td>3</td>\n",
       "    </tr>\n",
       "    <tr>\n",
       "      <th>16066694</th>\n",
       "      <td>Benjamin Bacab Quiñonez</td>\n",
       "      <td>AU</td>\n",
       "      <td>3</td>\n",
       "    </tr>\n",
       "    <tr>\n",
       "      <th>16314729</th>\n",
       "      <td>Claudia Núñez Ochoa</td>\n",
       "      <td>TIC</td>\n",
       "      <td>1</td>\n",
       "    </tr>\n",
       "    <tr>\n",
       "      <th>16905652</th>\n",
       "      <td>Graciela Manzanilla Alcocer</td>\n",
       "      <td>NaN</td>\n",
       "      <td>4</td>\n",
       "    </tr>\n",
       "    <tr>\n",
       "      <th>17546838</th>\n",
       "      <td>Sarah Gallegos Carranza</td>\n",
       "      <td>EGE</td>\n",
       "      <td>1</td>\n",
       "    </tr>\n",
       "    <tr>\n",
       "      <th>18218094</th>\n",
       "      <td>Paul Saucedo Orea</td>\n",
       "      <td>ISC</td>\n",
       "      <td>1</td>\n",
       "    </tr>\n",
       "    <tr>\n",
       "      <th>18439514</th>\n",
       "      <td>Cristina Uribe Vital</td>\n",
       "      <td>ISC</td>\n",
       "      <td>1</td>\n",
       "    </tr>\n",
       "  </tbody>\n",
       "</table>\n",
       "</div>"
      ],
      "text/plain": [
       "                                   Nombre Id Carrera  Id Modalidad\n",
       "Num. Control                                                      \n",
       "11368032           Federico Olvera Castro         IQ             1\n",
       "11981193            Lara Calderón Obrador        EGE             4\n",
       "12069000            Jamir Vázquez Urrutia        ISC             4\n",
       "12239391              Eddie Dueñas Piñeda        ISC             4\n",
       "12343755           Alex Villareal Vadillo        TIC             2\n",
       "12384890              Silvana Santos Lacy        ISC             4\n",
       "13060162           Pablo Gabilondo Halabe        ISC             4\n",
       "13801621          Olivia Maldonado Dueñas         EA             4\n",
       "14392671            Adrián García Pascual        ISC             3\n",
       "15453687           Eugene Morales Verdejo        EGE             3\n",
       "16066694          Benjamin Bacab Quiñonez         AU             3\n",
       "16314729              Claudia Núñez Ochoa        TIC             1\n",
       "16905652      Graciela Manzanilla Alcocer        NaN             4\n",
       "17546838          Sarah Gallegos Carranza        EGE             1\n",
       "18218094                Paul Saucedo Orea        ISC             1\n",
       "18439514             Cristina Uribe Vital        ISC             1"
      ]
     },
     "execution_count": 3,
     "metadata": {},
     "output_type": "execute_result"
    }
   ],
   "source": [
    "Alumnos"
   ]
  },
  {
   "cell_type": "markdown",
   "id": "af1a8ca5-6918-4426-8ebb-2658db59556b",
   "metadata": {},
   "source": [
    "__Ejercicio 2:__"
   ]
  },
  {
   "cell_type": "markdown",
   "id": "6520f2ef-df26-4716-8375-32a345b60619",
   "metadata": {},
   "source": [
    "Utilizar pandas para importar los datos en la hoja \"Carreras\" del archivo \"escuela.xlsx\" en la variable \"carreras\""
   ]
  },
  {
   "cell_type": "code",
   "execution_count": 4,
   "id": "e9acafcb-3050-4315-afaa-df61daf3a44c",
   "metadata": {},
   "outputs": [],
   "source": [
    "Carreras = pd.read_excel(\"./escuela.xlsx\",sheet_name=\"Carreras\",index_col=\"Clave\")"
   ]
  },
  {
   "cell_type": "code",
   "execution_count": 5,
   "id": "ba644e6f",
   "metadata": {},
   "outputs": [
    {
     "data": {
      "application/vnd.microsoft.datawrangler.viewer.v0+json": {
       "columns": [
        {
         "name": "Clave",
         "rawType": "object",
         "type": "string"
        },
        {
         "name": "Carrera",
         "rawType": "object",
         "type": "string"
        }
       ],
       "ref": "365af9de-f65a-47a2-b9dd-b19c0098a4a7",
       "rows": [
        [
         "AU",
         "ARQUITECTURA Y URBANISMO"
        ],
        [
         "EGE",
         "ELECTRICIDAD Y GENERACION DE ENERGIA"
        ],
        [
         "EA",
         "ELECTRICIDAD Y AUTOMATIZACION"
        ],
        [
         "IQ",
         "INGENIERIA QUIMICA"
        ],
        [
         "ISC",
         "INGENIERIA EN SISTEMAS COMPUTACIONALES"
        ],
        [
         "TIC",
         "TECNOLOGIAS DE LA INFORMACION Y COMUNICACIÓN"
        ]
       ],
       "shape": {
        "columns": 1,
        "rows": 6
       }
      },
      "text/html": [
       "<div>\n",
       "<style scoped>\n",
       "    .dataframe tbody tr th:only-of-type {\n",
       "        vertical-align: middle;\n",
       "    }\n",
       "\n",
       "    .dataframe tbody tr th {\n",
       "        vertical-align: top;\n",
       "    }\n",
       "\n",
       "    .dataframe thead th {\n",
       "        text-align: right;\n",
       "    }\n",
       "</style>\n",
       "<table border=\"1\" class=\"dataframe\">\n",
       "  <thead>\n",
       "    <tr style=\"text-align: right;\">\n",
       "      <th></th>\n",
       "      <th>Carrera</th>\n",
       "    </tr>\n",
       "    <tr>\n",
       "      <th>Clave</th>\n",
       "      <th></th>\n",
       "    </tr>\n",
       "  </thead>\n",
       "  <tbody>\n",
       "    <tr>\n",
       "      <th>AU</th>\n",
       "      <td>ARQUITECTURA Y URBANISMO</td>\n",
       "    </tr>\n",
       "    <tr>\n",
       "      <th>EGE</th>\n",
       "      <td>ELECTRICIDAD Y GENERACION DE ENERGIA</td>\n",
       "    </tr>\n",
       "    <tr>\n",
       "      <th>EA</th>\n",
       "      <td>ELECTRICIDAD Y AUTOMATIZACION</td>\n",
       "    </tr>\n",
       "    <tr>\n",
       "      <th>IQ</th>\n",
       "      <td>INGENIERIA QUIMICA</td>\n",
       "    </tr>\n",
       "    <tr>\n",
       "      <th>ISC</th>\n",
       "      <td>INGENIERIA EN SISTEMAS COMPUTACIONALES</td>\n",
       "    </tr>\n",
       "    <tr>\n",
       "      <th>TIC</th>\n",
       "      <td>TECNOLOGIAS DE LA INFORMACION Y COMUNICACIÓN</td>\n",
       "    </tr>\n",
       "  </tbody>\n",
       "</table>\n",
       "</div>"
      ],
      "text/plain": [
       "                                            Carrera\n",
       "Clave                                              \n",
       "AU                         ARQUITECTURA Y URBANISMO\n",
       "EGE            ELECTRICIDAD Y GENERACION DE ENERGIA\n",
       "EA                    ELECTRICIDAD Y AUTOMATIZACION\n",
       "IQ                               INGENIERIA QUIMICA\n",
       "ISC          INGENIERIA EN SISTEMAS COMPUTACIONALES\n",
       "TIC    TECNOLOGIAS DE LA INFORMACION Y COMUNICACIÓN"
      ]
     },
     "execution_count": 5,
     "metadata": {},
     "output_type": "execute_result"
    }
   ],
   "source": [
    "Carreras"
   ]
  },
  {
   "cell_type": "markdown",
   "id": "95ea200f-4b5f-4cfa-a444-3e739f11ba65",
   "metadata": {},
   "source": [
    "__Ejercicio 3:__"
   ]
  },
  {
   "cell_type": "markdown",
   "id": "f8bfec2f-c940-4d33-b3ab-d98228bfe198",
   "metadata": {},
   "source": [
    "Utilizar pandas para importar los datos en la hoja \"Modalidad\" del archivo \"escuela.xlsx\" en la variable \"modalidades\""
   ]
  },
  {
   "cell_type": "code",
   "execution_count": 6,
   "id": "4b11ff20-2892-4460-ab78-f69a86ca08fd",
   "metadata": {},
   "outputs": [],
   "source": [
    "Modalidades = pd.read_excel(\"./escuela.xlsx\",sheet_name=\"Modalidad\",header=3,index_col=\"Id\")"
   ]
  },
  {
   "cell_type": "code",
   "execution_count": 7,
   "id": "51406556",
   "metadata": {},
   "outputs": [
    {
     "data": {
      "application/vnd.microsoft.datawrangler.viewer.v0+json": {
       "columns": [
        {
         "name": "Id",
         "rawType": "int64",
         "type": "integer"
        },
        {
         "name": "Nombre",
         "rawType": "object",
         "type": "string"
        }
       ],
       "ref": "d6aee713-c594-47d3-a4a6-6a49719f46bb",
       "rows": [
        [
         "1",
         "Matutino"
        ],
        [
         "2",
         "Vespertino"
        ],
        [
         "3",
         "En linea"
        ],
        [
         "4",
         "Fines de semana"
        ]
       ],
       "shape": {
        "columns": 1,
        "rows": 4
       }
      },
      "text/html": [
       "<div>\n",
       "<style scoped>\n",
       "    .dataframe tbody tr th:only-of-type {\n",
       "        vertical-align: middle;\n",
       "    }\n",
       "\n",
       "    .dataframe tbody tr th {\n",
       "        vertical-align: top;\n",
       "    }\n",
       "\n",
       "    .dataframe thead th {\n",
       "        text-align: right;\n",
       "    }\n",
       "</style>\n",
       "<table border=\"1\" class=\"dataframe\">\n",
       "  <thead>\n",
       "    <tr style=\"text-align: right;\">\n",
       "      <th></th>\n",
       "      <th>Nombre</th>\n",
       "    </tr>\n",
       "    <tr>\n",
       "      <th>Id</th>\n",
       "      <th></th>\n",
       "    </tr>\n",
       "  </thead>\n",
       "  <tbody>\n",
       "    <tr>\n",
       "      <th>1</th>\n",
       "      <td>Matutino</td>\n",
       "    </tr>\n",
       "    <tr>\n",
       "      <th>2</th>\n",
       "      <td>Vespertino</td>\n",
       "    </tr>\n",
       "    <tr>\n",
       "      <th>3</th>\n",
       "      <td>En linea</td>\n",
       "    </tr>\n",
       "    <tr>\n",
       "      <th>4</th>\n",
       "      <td>Fines de semana</td>\n",
       "    </tr>\n",
       "  </tbody>\n",
       "</table>\n",
       "</div>"
      ],
      "text/plain": [
       "             Nombre\n",
       "Id                 \n",
       "1          Matutino\n",
       "2        Vespertino\n",
       "3          En linea\n",
       "4   Fines de semana"
      ]
     },
     "execution_count": 7,
     "metadata": {},
     "output_type": "execute_result"
    }
   ],
   "source": [
    "Modalidades"
   ]
  },
  {
   "cell_type": "markdown",
   "id": "312b4b5e-f7cc-49cb-9800-5f798bec648c",
   "metadata": {},
   "source": [
    "__Ejercicio 4:__"
   ]
  },
  {
   "cell_type": "markdown",
   "id": "7dad55cd-947a-4e4a-a5bf-791271e8c7d6",
   "metadata": {},
   "source": [
    "Utilizar la función join para unir los dataframe alumnos y carreras en base a la columna \"Id Carrera\""
   ]
  },
  {
   "cell_type": "code",
   "execution_count": 8,
   "id": "4f030f45-8351-4370-b0fe-278235627717",
   "metadata": {},
   "outputs": [
    {
     "data": {
      "application/vnd.microsoft.datawrangler.viewer.v0+json": {
       "columns": [
        {
         "name": "Num. Control",
         "rawType": "int64",
         "type": "integer"
        },
        {
         "name": "Nombre",
         "rawType": "object",
         "type": "string"
        },
        {
         "name": "Id Carrera",
         "rawType": "object",
         "type": "unknown"
        },
        {
         "name": "Id Modalidad",
         "rawType": "int64",
         "type": "integer"
        },
        {
         "name": "Carrera",
         "rawType": "object",
         "type": "unknown"
        }
       ],
       "ref": "68fde1f0-6133-4de9-932a-e9d4ae235ee1",
       "rows": [
        [
         "11368032",
         "Federico Olvera Castro",
         "IQ",
         "1",
         "INGENIERIA QUIMICA"
        ],
        [
         "11981193",
         "Lara Calderón Obrador",
         "EGE",
         "4",
         "ELECTRICIDAD Y GENERACION DE ENERGIA"
        ],
        [
         "12069000",
         "Jamir Vázquez Urrutia",
         "ISC",
         "4",
         "INGENIERIA EN SISTEMAS COMPUTACIONALES"
        ],
        [
         "12239391",
         "Eddie Dueñas Piñeda",
         "ISC",
         "4",
         "INGENIERIA EN SISTEMAS COMPUTACIONALES"
        ],
        [
         "12343755",
         "Alex Villareal Vadillo",
         "TIC",
         "2",
         "TECNOLOGIAS DE LA INFORMACION Y COMUNICACIÓN"
        ],
        [
         "12384890",
         "Silvana Santos Lacy",
         "ISC",
         "4",
         "INGENIERIA EN SISTEMAS COMPUTACIONALES"
        ],
        [
         "13060162",
         "Pablo Gabilondo Halabe",
         "ISC",
         "4",
         "INGENIERIA EN SISTEMAS COMPUTACIONALES"
        ],
        [
         "13801621",
         "Olivia Maldonado Dueñas",
         "EA",
         "4",
         "ELECTRICIDAD Y AUTOMATIZACION"
        ],
        [
         "14392671",
         "Adrián García Pascual",
         "ISC",
         "3",
         "INGENIERIA EN SISTEMAS COMPUTACIONALES"
        ],
        [
         "15453687",
         "Eugene Morales Verdejo",
         "EGE",
         "3",
         "ELECTRICIDAD Y GENERACION DE ENERGIA"
        ],
        [
         "16066694",
         "Benjamin Bacab Quiñonez",
         "AU",
         "3",
         "ARQUITECTURA Y URBANISMO"
        ],
        [
         "16314729",
         "Claudia Núñez Ochoa",
         "TIC",
         "1",
         "TECNOLOGIAS DE LA INFORMACION Y COMUNICACIÓN"
        ],
        [
         "16905652",
         "Graciela Manzanilla Alcocer",
         null,
         "4",
         null
        ],
        [
         "17546838",
         "Sarah Gallegos Carranza",
         "EGE",
         "1",
         "ELECTRICIDAD Y GENERACION DE ENERGIA"
        ],
        [
         "18218094",
         "Paul Saucedo Orea",
         "ISC",
         "1",
         "INGENIERIA EN SISTEMAS COMPUTACIONALES"
        ],
        [
         "18439514",
         "Cristina Uribe Vital",
         "ISC",
         "1",
         "INGENIERIA EN SISTEMAS COMPUTACIONALES"
        ]
       ],
       "shape": {
        "columns": 4,
        "rows": 16
       }
      },
      "text/html": [
       "<div>\n",
       "<style scoped>\n",
       "    .dataframe tbody tr th:only-of-type {\n",
       "        vertical-align: middle;\n",
       "    }\n",
       "\n",
       "    .dataframe tbody tr th {\n",
       "        vertical-align: top;\n",
       "    }\n",
       "\n",
       "    .dataframe thead th {\n",
       "        text-align: right;\n",
       "    }\n",
       "</style>\n",
       "<table border=\"1\" class=\"dataframe\">\n",
       "  <thead>\n",
       "    <tr style=\"text-align: right;\">\n",
       "      <th></th>\n",
       "      <th>Nombre</th>\n",
       "      <th>Id Carrera</th>\n",
       "      <th>Id Modalidad</th>\n",
       "      <th>Carrera</th>\n",
       "    </tr>\n",
       "    <tr>\n",
       "      <th>Num. Control</th>\n",
       "      <th></th>\n",
       "      <th></th>\n",
       "      <th></th>\n",
       "      <th></th>\n",
       "    </tr>\n",
       "  </thead>\n",
       "  <tbody>\n",
       "    <tr>\n",
       "      <th>11368032</th>\n",
       "      <td>Federico Olvera Castro</td>\n",
       "      <td>IQ</td>\n",
       "      <td>1</td>\n",
       "      <td>INGENIERIA QUIMICA</td>\n",
       "    </tr>\n",
       "    <tr>\n",
       "      <th>11981193</th>\n",
       "      <td>Lara Calderón Obrador</td>\n",
       "      <td>EGE</td>\n",
       "      <td>4</td>\n",
       "      <td>ELECTRICIDAD Y GENERACION DE ENERGIA</td>\n",
       "    </tr>\n",
       "    <tr>\n",
       "      <th>12069000</th>\n",
       "      <td>Jamir Vázquez Urrutia</td>\n",
       "      <td>ISC</td>\n",
       "      <td>4</td>\n",
       "      <td>INGENIERIA EN SISTEMAS COMPUTACIONALES</td>\n",
       "    </tr>\n",
       "    <tr>\n",
       "      <th>12239391</th>\n",
       "      <td>Eddie Dueñas Piñeda</td>\n",
       "      <td>ISC</td>\n",
       "      <td>4</td>\n",
       "      <td>INGENIERIA EN SISTEMAS COMPUTACIONALES</td>\n",
       "    </tr>\n",
       "    <tr>\n",
       "      <th>12343755</th>\n",
       "      <td>Alex Villareal Vadillo</td>\n",
       "      <td>TIC</td>\n",
       "      <td>2</td>\n",
       "      <td>TECNOLOGIAS DE LA INFORMACION Y COMUNICACIÓN</td>\n",
       "    </tr>\n",
       "    <tr>\n",
       "      <th>12384890</th>\n",
       "      <td>Silvana Santos Lacy</td>\n",
       "      <td>ISC</td>\n",
       "      <td>4</td>\n",
       "      <td>INGENIERIA EN SISTEMAS COMPUTACIONALES</td>\n",
       "    </tr>\n",
       "    <tr>\n",
       "      <th>13060162</th>\n",
       "      <td>Pablo Gabilondo Halabe</td>\n",
       "      <td>ISC</td>\n",
       "      <td>4</td>\n",
       "      <td>INGENIERIA EN SISTEMAS COMPUTACIONALES</td>\n",
       "    </tr>\n",
       "    <tr>\n",
       "      <th>13801621</th>\n",
       "      <td>Olivia Maldonado Dueñas</td>\n",
       "      <td>EA</td>\n",
       "      <td>4</td>\n",
       "      <td>ELECTRICIDAD Y AUTOMATIZACION</td>\n",
       "    </tr>\n",
       "    <tr>\n",
       "      <th>14392671</th>\n",
       "      <td>Adrián García Pascual</td>\n",
       "      <td>ISC</td>\n",
       "      <td>3</td>\n",
       "      <td>INGENIERIA EN SISTEMAS COMPUTACIONALES</td>\n",
       "    </tr>\n",
       "    <tr>\n",
       "      <th>15453687</th>\n",
       "      <td>Eugene Morales Verdejo</td>\n",
       "      <td>EGE</td>\n",
       "      <td>3</td>\n",
       "      <td>ELECTRICIDAD Y GENERACION DE ENERGIA</td>\n",
       "    </tr>\n",
       "    <tr>\n",
       "      <th>16066694</th>\n",
       "      <td>Benjamin Bacab Quiñonez</td>\n",
       "      <td>AU</td>\n",
       "      <td>3</td>\n",
       "      <td>ARQUITECTURA Y URBANISMO</td>\n",
       "    </tr>\n",
       "    <tr>\n",
       "      <th>16314729</th>\n",
       "      <td>Claudia Núñez Ochoa</td>\n",
       "      <td>TIC</td>\n",
       "      <td>1</td>\n",
       "      <td>TECNOLOGIAS DE LA INFORMACION Y COMUNICACIÓN</td>\n",
       "    </tr>\n",
       "    <tr>\n",
       "      <th>16905652</th>\n",
       "      <td>Graciela Manzanilla Alcocer</td>\n",
       "      <td>NaN</td>\n",
       "      <td>4</td>\n",
       "      <td>NaN</td>\n",
       "    </tr>\n",
       "    <tr>\n",
       "      <th>17546838</th>\n",
       "      <td>Sarah Gallegos Carranza</td>\n",
       "      <td>EGE</td>\n",
       "      <td>1</td>\n",
       "      <td>ELECTRICIDAD Y GENERACION DE ENERGIA</td>\n",
       "    </tr>\n",
       "    <tr>\n",
       "      <th>18218094</th>\n",
       "      <td>Paul Saucedo Orea</td>\n",
       "      <td>ISC</td>\n",
       "      <td>1</td>\n",
       "      <td>INGENIERIA EN SISTEMAS COMPUTACIONALES</td>\n",
       "    </tr>\n",
       "    <tr>\n",
       "      <th>18439514</th>\n",
       "      <td>Cristina Uribe Vital</td>\n",
       "      <td>ISC</td>\n",
       "      <td>1</td>\n",
       "      <td>INGENIERIA EN SISTEMAS COMPUTACIONALES</td>\n",
       "    </tr>\n",
       "  </tbody>\n",
       "</table>\n",
       "</div>"
      ],
      "text/plain": [
       "                                   Nombre Id Carrera  Id Modalidad  \\\n",
       "Num. Control                                                         \n",
       "11368032           Federico Olvera Castro         IQ             1   \n",
       "11981193            Lara Calderón Obrador        EGE             4   \n",
       "12069000            Jamir Vázquez Urrutia        ISC             4   \n",
       "12239391              Eddie Dueñas Piñeda        ISC             4   \n",
       "12343755           Alex Villareal Vadillo        TIC             2   \n",
       "12384890              Silvana Santos Lacy        ISC             4   \n",
       "13060162           Pablo Gabilondo Halabe        ISC             4   \n",
       "13801621          Olivia Maldonado Dueñas         EA             4   \n",
       "14392671            Adrián García Pascual        ISC             3   \n",
       "15453687           Eugene Morales Verdejo        EGE             3   \n",
       "16066694          Benjamin Bacab Quiñonez         AU             3   \n",
       "16314729              Claudia Núñez Ochoa        TIC             1   \n",
       "16905652      Graciela Manzanilla Alcocer        NaN             4   \n",
       "17546838          Sarah Gallegos Carranza        EGE             1   \n",
       "18218094                Paul Saucedo Orea        ISC             1   \n",
       "18439514             Cristina Uribe Vital        ISC             1   \n",
       "\n",
       "                                                   Carrera  \n",
       "Num. Control                                                \n",
       "11368032                                INGENIERIA QUIMICA  \n",
       "11981193              ELECTRICIDAD Y GENERACION DE ENERGIA  \n",
       "12069000            INGENIERIA EN SISTEMAS COMPUTACIONALES  \n",
       "12239391            INGENIERIA EN SISTEMAS COMPUTACIONALES  \n",
       "12343755      TECNOLOGIAS DE LA INFORMACION Y COMUNICACIÓN  \n",
       "12384890            INGENIERIA EN SISTEMAS COMPUTACIONALES  \n",
       "13060162            INGENIERIA EN SISTEMAS COMPUTACIONALES  \n",
       "13801621                     ELECTRICIDAD Y AUTOMATIZACION  \n",
       "14392671            INGENIERIA EN SISTEMAS COMPUTACIONALES  \n",
       "15453687              ELECTRICIDAD Y GENERACION DE ENERGIA  \n",
       "16066694                          ARQUITECTURA Y URBANISMO  \n",
       "16314729      TECNOLOGIAS DE LA INFORMACION Y COMUNICACIÓN  \n",
       "16905652                                               NaN  \n",
       "17546838              ELECTRICIDAD Y GENERACION DE ENERGIA  \n",
       "18218094            INGENIERIA EN SISTEMAS COMPUTACIONALES  \n",
       "18439514            INGENIERIA EN SISTEMAS COMPUTACIONALES  "
      ]
     },
     "execution_count": 8,
     "metadata": {},
     "output_type": "execute_result"
    }
   ],
   "source": [
    "Alumnos.join(Carreras,on=\"Id Carrera\")"
   ]
  },
  {
   "cell_type": "code",
   "execution_count": null,
   "id": "182be998-f713-48e9-a059-72acab8909a9",
   "metadata": {},
   "outputs": [],
   "source": []
  },
  {
   "cell_type": "markdown",
   "id": "9547328e-9568-4585-9503-46790c36202a",
   "metadata": {},
   "source": [
    "__Ejercicio 5:__"
   ]
  },
  {
   "cell_type": "markdown",
   "id": "cec1de95-acf6-46e3-b683-903ea92bdc48",
   "metadata": {},
   "source": [
    "Utilizar la función join para unir los dataframe alumnos y modalidades en base a la columna \"Id Modalidad\", agregar el sufico \"_Alumno\" a la columna  del Dataframe alumnos"
   ]
  },
  {
   "cell_type": "code",
   "execution_count": 9,
   "id": "aeaa2f22-9215-4901-b374-d369388f2e4f",
   "metadata": {},
   "outputs": [
    {
     "data": {
      "application/vnd.microsoft.datawrangler.viewer.v0+json": {
       "columns": [
        {
         "name": "Num. Control",
         "rawType": "int64",
         "type": "integer"
        },
        {
         "name": "Nombre_Alumno",
         "rawType": "object",
         "type": "string"
        },
        {
         "name": "Id Carrera",
         "rawType": "object",
         "type": "unknown"
        },
        {
         "name": "Id Modalidad",
         "rawType": "int64",
         "type": "integer"
        },
        {
         "name": "Nombre",
         "rawType": "object",
         "type": "string"
        }
       ],
       "ref": "24edc1e4-9a0d-4bc9-bde0-477f2ea7744b",
       "rows": [
        [
         "11368032",
         "Federico Olvera Castro",
         "IQ",
         "1",
         "Matutino"
        ],
        [
         "11981193",
         "Lara Calderón Obrador",
         "EGE",
         "4",
         "Fines de semana"
        ],
        [
         "12069000",
         "Jamir Vázquez Urrutia",
         "ISC",
         "4",
         "Fines de semana"
        ],
        [
         "12239391",
         "Eddie Dueñas Piñeda",
         "ISC",
         "4",
         "Fines de semana"
        ],
        [
         "12343755",
         "Alex Villareal Vadillo",
         "TIC",
         "2",
         "Vespertino"
        ],
        [
         "12384890",
         "Silvana Santos Lacy",
         "ISC",
         "4",
         "Fines de semana"
        ],
        [
         "13060162",
         "Pablo Gabilondo Halabe",
         "ISC",
         "4",
         "Fines de semana"
        ],
        [
         "13801621",
         "Olivia Maldonado Dueñas",
         "EA",
         "4",
         "Fines de semana"
        ],
        [
         "14392671",
         "Adrián García Pascual",
         "ISC",
         "3",
         "En linea"
        ],
        [
         "15453687",
         "Eugene Morales Verdejo",
         "EGE",
         "3",
         "En linea"
        ],
        [
         "16066694",
         "Benjamin Bacab Quiñonez",
         "AU",
         "3",
         "En linea"
        ],
        [
         "16314729",
         "Claudia Núñez Ochoa",
         "TIC",
         "1",
         "Matutino"
        ],
        [
         "16905652",
         "Graciela Manzanilla Alcocer",
         null,
         "4",
         "Fines de semana"
        ],
        [
         "17546838",
         "Sarah Gallegos Carranza",
         "EGE",
         "1",
         "Matutino"
        ],
        [
         "18218094",
         "Paul Saucedo Orea",
         "ISC",
         "1",
         "Matutino"
        ],
        [
         "18439514",
         "Cristina Uribe Vital",
         "ISC",
         "1",
         "Matutino"
        ]
       ],
       "shape": {
        "columns": 4,
        "rows": 16
       }
      },
      "text/html": [
       "<div>\n",
       "<style scoped>\n",
       "    .dataframe tbody tr th:only-of-type {\n",
       "        vertical-align: middle;\n",
       "    }\n",
       "\n",
       "    .dataframe tbody tr th {\n",
       "        vertical-align: top;\n",
       "    }\n",
       "\n",
       "    .dataframe thead th {\n",
       "        text-align: right;\n",
       "    }\n",
       "</style>\n",
       "<table border=\"1\" class=\"dataframe\">\n",
       "  <thead>\n",
       "    <tr style=\"text-align: right;\">\n",
       "      <th></th>\n",
       "      <th>Nombre_Alumno</th>\n",
       "      <th>Id Carrera</th>\n",
       "      <th>Id Modalidad</th>\n",
       "      <th>Nombre</th>\n",
       "    </tr>\n",
       "    <tr>\n",
       "      <th>Num. Control</th>\n",
       "      <th></th>\n",
       "      <th></th>\n",
       "      <th></th>\n",
       "      <th></th>\n",
       "    </tr>\n",
       "  </thead>\n",
       "  <tbody>\n",
       "    <tr>\n",
       "      <th>11368032</th>\n",
       "      <td>Federico Olvera Castro</td>\n",
       "      <td>IQ</td>\n",
       "      <td>1</td>\n",
       "      <td>Matutino</td>\n",
       "    </tr>\n",
       "    <tr>\n",
       "      <th>11981193</th>\n",
       "      <td>Lara Calderón Obrador</td>\n",
       "      <td>EGE</td>\n",
       "      <td>4</td>\n",
       "      <td>Fines de semana</td>\n",
       "    </tr>\n",
       "    <tr>\n",
       "      <th>12069000</th>\n",
       "      <td>Jamir Vázquez Urrutia</td>\n",
       "      <td>ISC</td>\n",
       "      <td>4</td>\n",
       "      <td>Fines de semana</td>\n",
       "    </tr>\n",
       "    <tr>\n",
       "      <th>12239391</th>\n",
       "      <td>Eddie Dueñas Piñeda</td>\n",
       "      <td>ISC</td>\n",
       "      <td>4</td>\n",
       "      <td>Fines de semana</td>\n",
       "    </tr>\n",
       "    <tr>\n",
       "      <th>12343755</th>\n",
       "      <td>Alex Villareal Vadillo</td>\n",
       "      <td>TIC</td>\n",
       "      <td>2</td>\n",
       "      <td>Vespertino</td>\n",
       "    </tr>\n",
       "    <tr>\n",
       "      <th>12384890</th>\n",
       "      <td>Silvana Santos Lacy</td>\n",
       "      <td>ISC</td>\n",
       "      <td>4</td>\n",
       "      <td>Fines de semana</td>\n",
       "    </tr>\n",
       "    <tr>\n",
       "      <th>13060162</th>\n",
       "      <td>Pablo Gabilondo Halabe</td>\n",
       "      <td>ISC</td>\n",
       "      <td>4</td>\n",
       "      <td>Fines de semana</td>\n",
       "    </tr>\n",
       "    <tr>\n",
       "      <th>13801621</th>\n",
       "      <td>Olivia Maldonado Dueñas</td>\n",
       "      <td>EA</td>\n",
       "      <td>4</td>\n",
       "      <td>Fines de semana</td>\n",
       "    </tr>\n",
       "    <tr>\n",
       "      <th>14392671</th>\n",
       "      <td>Adrián García Pascual</td>\n",
       "      <td>ISC</td>\n",
       "      <td>3</td>\n",
       "      <td>En linea</td>\n",
       "    </tr>\n",
       "    <tr>\n",
       "      <th>15453687</th>\n",
       "      <td>Eugene Morales Verdejo</td>\n",
       "      <td>EGE</td>\n",
       "      <td>3</td>\n",
       "      <td>En linea</td>\n",
       "    </tr>\n",
       "    <tr>\n",
       "      <th>16066694</th>\n",
       "      <td>Benjamin Bacab Quiñonez</td>\n",
       "      <td>AU</td>\n",
       "      <td>3</td>\n",
       "      <td>En linea</td>\n",
       "    </tr>\n",
       "    <tr>\n",
       "      <th>16314729</th>\n",
       "      <td>Claudia Núñez Ochoa</td>\n",
       "      <td>TIC</td>\n",
       "      <td>1</td>\n",
       "      <td>Matutino</td>\n",
       "    </tr>\n",
       "    <tr>\n",
       "      <th>16905652</th>\n",
       "      <td>Graciela Manzanilla Alcocer</td>\n",
       "      <td>NaN</td>\n",
       "      <td>4</td>\n",
       "      <td>Fines de semana</td>\n",
       "    </tr>\n",
       "    <tr>\n",
       "      <th>17546838</th>\n",
       "      <td>Sarah Gallegos Carranza</td>\n",
       "      <td>EGE</td>\n",
       "      <td>1</td>\n",
       "      <td>Matutino</td>\n",
       "    </tr>\n",
       "    <tr>\n",
       "      <th>18218094</th>\n",
       "      <td>Paul Saucedo Orea</td>\n",
       "      <td>ISC</td>\n",
       "      <td>1</td>\n",
       "      <td>Matutino</td>\n",
       "    </tr>\n",
       "    <tr>\n",
       "      <th>18439514</th>\n",
       "      <td>Cristina Uribe Vital</td>\n",
       "      <td>ISC</td>\n",
       "      <td>1</td>\n",
       "      <td>Matutino</td>\n",
       "    </tr>\n",
       "  </tbody>\n",
       "</table>\n",
       "</div>"
      ],
      "text/plain": [
       "                            Nombre_Alumno Id Carrera  Id Modalidad  \\\n",
       "Num. Control                                                         \n",
       "11368032           Federico Olvera Castro         IQ             1   \n",
       "11981193            Lara Calderón Obrador        EGE             4   \n",
       "12069000            Jamir Vázquez Urrutia        ISC             4   \n",
       "12239391              Eddie Dueñas Piñeda        ISC             4   \n",
       "12343755           Alex Villareal Vadillo        TIC             2   \n",
       "12384890              Silvana Santos Lacy        ISC             4   \n",
       "13060162           Pablo Gabilondo Halabe        ISC             4   \n",
       "13801621          Olivia Maldonado Dueñas         EA             4   \n",
       "14392671            Adrián García Pascual        ISC             3   \n",
       "15453687           Eugene Morales Verdejo        EGE             3   \n",
       "16066694          Benjamin Bacab Quiñonez         AU             3   \n",
       "16314729              Claudia Núñez Ochoa        TIC             1   \n",
       "16905652      Graciela Manzanilla Alcocer        NaN             4   \n",
       "17546838          Sarah Gallegos Carranza        EGE             1   \n",
       "18218094                Paul Saucedo Orea        ISC             1   \n",
       "18439514             Cristina Uribe Vital        ISC             1   \n",
       "\n",
       "                       Nombre  \n",
       "Num. Control                   \n",
       "11368032             Matutino  \n",
       "11981193      Fines de semana  \n",
       "12069000      Fines de semana  \n",
       "12239391      Fines de semana  \n",
       "12343755           Vespertino  \n",
       "12384890      Fines de semana  \n",
       "13060162      Fines de semana  \n",
       "13801621      Fines de semana  \n",
       "14392671             En linea  \n",
       "15453687             En linea  \n",
       "16066694             En linea  \n",
       "16314729             Matutino  \n",
       "16905652      Fines de semana  \n",
       "17546838             Matutino  \n",
       "18218094             Matutino  \n",
       "18439514             Matutino  "
      ]
     },
     "execution_count": 9,
     "metadata": {},
     "output_type": "execute_result"
    }
   ],
   "source": [
    "Alumnos.join(Modalidades,on=\"Id Modalidad\",lsuffix=\"_Alumno\")"
   ]
  },
  {
   "cell_type": "code",
   "execution_count": null,
   "id": "fc281e15-c279-4387-b33c-90f4fbd73c62",
   "metadata": {},
   "outputs": [],
   "source": []
  },
  {
   "cell_type": "markdown",
   "id": "0bad9518-4210-4bb1-9b71-f8a93a9174c2",
   "metadata": {},
   "source": [
    "__Ejercicio 6:__"
   ]
  },
  {
   "cell_type": "markdown",
   "id": "abe1b53f-cada-40ee-a083-7df1c7269b2c",
   "metadata": {},
   "source": [
    "Ordenar el DataFrame anterior en base a la columna \"Id Modalidad\""
   ]
  },
  {
   "cell_type": "code",
   "execution_count": 10,
   "id": "22f2a41a-ad07-4720-9de1-bc0e65c6df1d",
   "metadata": {},
   "outputs": [
    {
     "data": {
      "application/vnd.microsoft.datawrangler.viewer.v0+json": {
       "columns": [
        {
         "name": "Num. Control",
         "rawType": "int64",
         "type": "integer"
        },
        {
         "name": "Nombre_Alumno",
         "rawType": "object",
         "type": "string"
        },
        {
         "name": "Id Carrera",
         "rawType": "object",
         "type": "unknown"
        },
        {
         "name": "Id Modalidad",
         "rawType": "int64",
         "type": "integer"
        },
        {
         "name": "Nombre",
         "rawType": "object",
         "type": "string"
        }
       ],
       "ref": "b288ce81-0d36-487a-af8b-10106b0b6bc1",
       "rows": [
        [
         "11368032",
         "Federico Olvera Castro",
         "IQ",
         "1",
         "Matutino"
        ],
        [
         "16314729",
         "Claudia Núñez Ochoa",
         "TIC",
         "1",
         "Matutino"
        ],
        [
         "17546838",
         "Sarah Gallegos Carranza",
         "EGE",
         "1",
         "Matutino"
        ],
        [
         "18218094",
         "Paul Saucedo Orea",
         "ISC",
         "1",
         "Matutino"
        ],
        [
         "18439514",
         "Cristina Uribe Vital",
         "ISC",
         "1",
         "Matutino"
        ],
        [
         "12343755",
         "Alex Villareal Vadillo",
         "TIC",
         "2",
         "Vespertino"
        ],
        [
         "14392671",
         "Adrián García Pascual",
         "ISC",
         "3",
         "En linea"
        ],
        [
         "15453687",
         "Eugene Morales Verdejo",
         "EGE",
         "3",
         "En linea"
        ],
        [
         "16066694",
         "Benjamin Bacab Quiñonez",
         "AU",
         "3",
         "En linea"
        ],
        [
         "11981193",
         "Lara Calderón Obrador",
         "EGE",
         "4",
         "Fines de semana"
        ],
        [
         "12069000",
         "Jamir Vázquez Urrutia",
         "ISC",
         "4",
         "Fines de semana"
        ],
        [
         "12239391",
         "Eddie Dueñas Piñeda",
         "ISC",
         "4",
         "Fines de semana"
        ],
        [
         "12384890",
         "Silvana Santos Lacy",
         "ISC",
         "4",
         "Fines de semana"
        ],
        [
         "13060162",
         "Pablo Gabilondo Halabe",
         "ISC",
         "4",
         "Fines de semana"
        ],
        [
         "13801621",
         "Olivia Maldonado Dueñas",
         "EA",
         "4",
         "Fines de semana"
        ],
        [
         "16905652",
         "Graciela Manzanilla Alcocer",
         null,
         "4",
         "Fines de semana"
        ]
       ],
       "shape": {
        "columns": 4,
        "rows": 16
       }
      },
      "text/html": [
       "<div>\n",
       "<style scoped>\n",
       "    .dataframe tbody tr th:only-of-type {\n",
       "        vertical-align: middle;\n",
       "    }\n",
       "\n",
       "    .dataframe tbody tr th {\n",
       "        vertical-align: top;\n",
       "    }\n",
       "\n",
       "    .dataframe thead th {\n",
       "        text-align: right;\n",
       "    }\n",
       "</style>\n",
       "<table border=\"1\" class=\"dataframe\">\n",
       "  <thead>\n",
       "    <tr style=\"text-align: right;\">\n",
       "      <th></th>\n",
       "      <th>Nombre_Alumno</th>\n",
       "      <th>Id Carrera</th>\n",
       "      <th>Id Modalidad</th>\n",
       "      <th>Nombre</th>\n",
       "    </tr>\n",
       "    <tr>\n",
       "      <th>Num. Control</th>\n",
       "      <th></th>\n",
       "      <th></th>\n",
       "      <th></th>\n",
       "      <th></th>\n",
       "    </tr>\n",
       "  </thead>\n",
       "  <tbody>\n",
       "    <tr>\n",
       "      <th>11368032</th>\n",
       "      <td>Federico Olvera Castro</td>\n",
       "      <td>IQ</td>\n",
       "      <td>1</td>\n",
       "      <td>Matutino</td>\n",
       "    </tr>\n",
       "    <tr>\n",
       "      <th>16314729</th>\n",
       "      <td>Claudia Núñez Ochoa</td>\n",
       "      <td>TIC</td>\n",
       "      <td>1</td>\n",
       "      <td>Matutino</td>\n",
       "    </tr>\n",
       "    <tr>\n",
       "      <th>17546838</th>\n",
       "      <td>Sarah Gallegos Carranza</td>\n",
       "      <td>EGE</td>\n",
       "      <td>1</td>\n",
       "      <td>Matutino</td>\n",
       "    </tr>\n",
       "    <tr>\n",
       "      <th>18218094</th>\n",
       "      <td>Paul Saucedo Orea</td>\n",
       "      <td>ISC</td>\n",
       "      <td>1</td>\n",
       "      <td>Matutino</td>\n",
       "    </tr>\n",
       "    <tr>\n",
       "      <th>18439514</th>\n",
       "      <td>Cristina Uribe Vital</td>\n",
       "      <td>ISC</td>\n",
       "      <td>1</td>\n",
       "      <td>Matutino</td>\n",
       "    </tr>\n",
       "    <tr>\n",
       "      <th>12343755</th>\n",
       "      <td>Alex Villareal Vadillo</td>\n",
       "      <td>TIC</td>\n",
       "      <td>2</td>\n",
       "      <td>Vespertino</td>\n",
       "    </tr>\n",
       "    <tr>\n",
       "      <th>14392671</th>\n",
       "      <td>Adrián García Pascual</td>\n",
       "      <td>ISC</td>\n",
       "      <td>3</td>\n",
       "      <td>En linea</td>\n",
       "    </tr>\n",
       "    <tr>\n",
       "      <th>15453687</th>\n",
       "      <td>Eugene Morales Verdejo</td>\n",
       "      <td>EGE</td>\n",
       "      <td>3</td>\n",
       "      <td>En linea</td>\n",
       "    </tr>\n",
       "    <tr>\n",
       "      <th>16066694</th>\n",
       "      <td>Benjamin Bacab Quiñonez</td>\n",
       "      <td>AU</td>\n",
       "      <td>3</td>\n",
       "      <td>En linea</td>\n",
       "    </tr>\n",
       "    <tr>\n",
       "      <th>11981193</th>\n",
       "      <td>Lara Calderón Obrador</td>\n",
       "      <td>EGE</td>\n",
       "      <td>4</td>\n",
       "      <td>Fines de semana</td>\n",
       "    </tr>\n",
       "    <tr>\n",
       "      <th>12069000</th>\n",
       "      <td>Jamir Vázquez Urrutia</td>\n",
       "      <td>ISC</td>\n",
       "      <td>4</td>\n",
       "      <td>Fines de semana</td>\n",
       "    </tr>\n",
       "    <tr>\n",
       "      <th>12239391</th>\n",
       "      <td>Eddie Dueñas Piñeda</td>\n",
       "      <td>ISC</td>\n",
       "      <td>4</td>\n",
       "      <td>Fines de semana</td>\n",
       "    </tr>\n",
       "    <tr>\n",
       "      <th>12384890</th>\n",
       "      <td>Silvana Santos Lacy</td>\n",
       "      <td>ISC</td>\n",
       "      <td>4</td>\n",
       "      <td>Fines de semana</td>\n",
       "    </tr>\n",
       "    <tr>\n",
       "      <th>13060162</th>\n",
       "      <td>Pablo Gabilondo Halabe</td>\n",
       "      <td>ISC</td>\n",
       "      <td>4</td>\n",
       "      <td>Fines de semana</td>\n",
       "    </tr>\n",
       "    <tr>\n",
       "      <th>13801621</th>\n",
       "      <td>Olivia Maldonado Dueñas</td>\n",
       "      <td>EA</td>\n",
       "      <td>4</td>\n",
       "      <td>Fines de semana</td>\n",
       "    </tr>\n",
       "    <tr>\n",
       "      <th>16905652</th>\n",
       "      <td>Graciela Manzanilla Alcocer</td>\n",
       "      <td>NaN</td>\n",
       "      <td>4</td>\n",
       "      <td>Fines de semana</td>\n",
       "    </tr>\n",
       "  </tbody>\n",
       "</table>\n",
       "</div>"
      ],
      "text/plain": [
       "                            Nombre_Alumno Id Carrera  Id Modalidad  \\\n",
       "Num. Control                                                         \n",
       "11368032           Federico Olvera Castro         IQ             1   \n",
       "16314729              Claudia Núñez Ochoa        TIC             1   \n",
       "17546838          Sarah Gallegos Carranza        EGE             1   \n",
       "18218094                Paul Saucedo Orea        ISC             1   \n",
       "18439514             Cristina Uribe Vital        ISC             1   \n",
       "12343755           Alex Villareal Vadillo        TIC             2   \n",
       "14392671            Adrián García Pascual        ISC             3   \n",
       "15453687           Eugene Morales Verdejo        EGE             3   \n",
       "16066694          Benjamin Bacab Quiñonez         AU             3   \n",
       "11981193            Lara Calderón Obrador        EGE             4   \n",
       "12069000            Jamir Vázquez Urrutia        ISC             4   \n",
       "12239391              Eddie Dueñas Piñeda        ISC             4   \n",
       "12384890              Silvana Santos Lacy        ISC             4   \n",
       "13060162           Pablo Gabilondo Halabe        ISC             4   \n",
       "13801621          Olivia Maldonado Dueñas         EA             4   \n",
       "16905652      Graciela Manzanilla Alcocer        NaN             4   \n",
       "\n",
       "                       Nombre  \n",
       "Num. Control                   \n",
       "11368032             Matutino  \n",
       "16314729             Matutino  \n",
       "17546838             Matutino  \n",
       "18218094             Matutino  \n",
       "18439514             Matutino  \n",
       "12343755           Vespertino  \n",
       "14392671             En linea  \n",
       "15453687             En linea  \n",
       "16066694             En linea  \n",
       "11981193      Fines de semana  \n",
       "12069000      Fines de semana  \n",
       "12239391      Fines de semana  \n",
       "12384890      Fines de semana  \n",
       "13060162      Fines de semana  \n",
       "13801621      Fines de semana  \n",
       "16905652      Fines de semana  "
      ]
     },
     "execution_count": 10,
     "metadata": {},
     "output_type": "execute_result"
    }
   ],
   "source": [
    "Alumnos.join(Modalidades,on=\"Id Modalidad\",lsuffix=\"_Alumno\",sort=True)"
   ]
  },
  {
   "cell_type": "markdown",
   "id": "b19f66db-3834-4c65-8c5c-14b60aa88990",
   "metadata": {},
   "source": [
    "__Ejercicio 7:__"
   ]
  },
  {
   "cell_type": "markdown",
   "id": "eb668f1f-8018-4838-97f1-bd657afe8807",
   "metadata": {},
   "source": [
    "Utilizar la funcion merge para unir los DataFrame \"alumnos\" y \"carreras\", para comparar:\n",
    "- Utilizar la columna \"Id Carrera\" en el DataFrame \"alumnos\"\n",
    "- Utilizar el indice en el DataFrame carreras"
   ]
  },
  {
   "cell_type": "code",
   "execution_count": 11,
   "id": "a33a2d67-80e3-4548-b0e4-4bad78614f9f",
   "metadata": {},
   "outputs": [
    {
     "data": {
      "application/vnd.microsoft.datawrangler.viewer.v0+json": {
       "columns": [
        {
         "name": "Num. Control",
         "rawType": "int64",
         "type": "integer"
        },
        {
         "name": "Nombre",
         "rawType": "object",
         "type": "string"
        },
        {
         "name": "Id Carrera",
         "rawType": "object",
         "type": "unknown"
        },
        {
         "name": "Id Modalidad",
         "rawType": "int64",
         "type": "integer"
        }
       ],
       "ref": "4c55a64d-dab9-4a0b-95e4-3cb7fb214a24",
       "rows": [
        [
         "11368032",
         "Federico Olvera Castro",
         "IQ",
         "1"
        ],
        [
         "11981193",
         "Lara Calderón Obrador",
         "EGE",
         "4"
        ],
        [
         "12069000",
         "Jamir Vázquez Urrutia",
         "ISC",
         "4"
        ],
        [
         "12239391",
         "Eddie Dueñas Piñeda",
         "ISC",
         "4"
        ],
        [
         "12343755",
         "Alex Villareal Vadillo",
         "TIC",
         "2"
        ],
        [
         "12384890",
         "Silvana Santos Lacy",
         "ISC",
         "4"
        ],
        [
         "13060162",
         "Pablo Gabilondo Halabe",
         "ISC",
         "4"
        ],
        [
         "13801621",
         "Olivia Maldonado Dueñas",
         "EA",
         "4"
        ],
        [
         "14392671",
         "Adrián García Pascual",
         "ISC",
         "3"
        ],
        [
         "15453687",
         "Eugene Morales Verdejo",
         "EGE",
         "3"
        ],
        [
         "16066694",
         "Benjamin Bacab Quiñonez",
         "AU",
         "3"
        ],
        [
         "16314729",
         "Claudia Núñez Ochoa",
         "TIC",
         "1"
        ],
        [
         "16905652",
         "Graciela Manzanilla Alcocer",
         null,
         "4"
        ],
        [
         "17546838",
         "Sarah Gallegos Carranza",
         "EGE",
         "1"
        ],
        [
         "18218094",
         "Paul Saucedo Orea",
         "ISC",
         "1"
        ],
        [
         "18439514",
         "Cristina Uribe Vital",
         "ISC",
         "1"
        ]
       ],
       "shape": {
        "columns": 3,
        "rows": 16
       }
      },
      "text/html": [
       "<div>\n",
       "<style scoped>\n",
       "    .dataframe tbody tr th:only-of-type {\n",
       "        vertical-align: middle;\n",
       "    }\n",
       "\n",
       "    .dataframe tbody tr th {\n",
       "        vertical-align: top;\n",
       "    }\n",
       "\n",
       "    .dataframe thead th {\n",
       "        text-align: right;\n",
       "    }\n",
       "</style>\n",
       "<table border=\"1\" class=\"dataframe\">\n",
       "  <thead>\n",
       "    <tr style=\"text-align: right;\">\n",
       "      <th></th>\n",
       "      <th>Nombre</th>\n",
       "      <th>Id Carrera</th>\n",
       "      <th>Id Modalidad</th>\n",
       "    </tr>\n",
       "    <tr>\n",
       "      <th>Num. Control</th>\n",
       "      <th></th>\n",
       "      <th></th>\n",
       "      <th></th>\n",
       "    </tr>\n",
       "  </thead>\n",
       "  <tbody>\n",
       "    <tr>\n",
       "      <th>11368032</th>\n",
       "      <td>Federico Olvera Castro</td>\n",
       "      <td>IQ</td>\n",
       "      <td>1</td>\n",
       "    </tr>\n",
       "    <tr>\n",
       "      <th>11981193</th>\n",
       "      <td>Lara Calderón Obrador</td>\n",
       "      <td>EGE</td>\n",
       "      <td>4</td>\n",
       "    </tr>\n",
       "    <tr>\n",
       "      <th>12069000</th>\n",
       "      <td>Jamir Vázquez Urrutia</td>\n",
       "      <td>ISC</td>\n",
       "      <td>4</td>\n",
       "    </tr>\n",
       "    <tr>\n",
       "      <th>12239391</th>\n",
       "      <td>Eddie Dueñas Piñeda</td>\n",
       "      <td>ISC</td>\n",
       "      <td>4</td>\n",
       "    </tr>\n",
       "    <tr>\n",
       "      <th>12343755</th>\n",
       "      <td>Alex Villareal Vadillo</td>\n",
       "      <td>TIC</td>\n",
       "      <td>2</td>\n",
       "    </tr>\n",
       "    <tr>\n",
       "      <th>12384890</th>\n",
       "      <td>Silvana Santos Lacy</td>\n",
       "      <td>ISC</td>\n",
       "      <td>4</td>\n",
       "    </tr>\n",
       "    <tr>\n",
       "      <th>13060162</th>\n",
       "      <td>Pablo Gabilondo Halabe</td>\n",
       "      <td>ISC</td>\n",
       "      <td>4</td>\n",
       "    </tr>\n",
       "    <tr>\n",
       "      <th>13801621</th>\n",
       "      <td>Olivia Maldonado Dueñas</td>\n",
       "      <td>EA</td>\n",
       "      <td>4</td>\n",
       "    </tr>\n",
       "    <tr>\n",
       "      <th>14392671</th>\n",
       "      <td>Adrián García Pascual</td>\n",
       "      <td>ISC</td>\n",
       "      <td>3</td>\n",
       "    </tr>\n",
       "    <tr>\n",
       "      <th>15453687</th>\n",
       "      <td>Eugene Morales Verdejo</td>\n",
       "      <td>EGE</td>\n",
       "      <td>3</td>\n",
       "    </tr>\n",
       "    <tr>\n",
       "      <th>16066694</th>\n",
       "      <td>Benjamin Bacab Quiñonez</td>\n",
       "      <td>AU</td>\n",
       "      <td>3</td>\n",
       "    </tr>\n",
       "    <tr>\n",
       "      <th>16314729</th>\n",
       "      <td>Claudia Núñez Ochoa</td>\n",
       "      <td>TIC</td>\n",
       "      <td>1</td>\n",
       "    </tr>\n",
       "    <tr>\n",
       "      <th>16905652</th>\n",
       "      <td>Graciela Manzanilla Alcocer</td>\n",
       "      <td>NaN</td>\n",
       "      <td>4</td>\n",
       "    </tr>\n",
       "    <tr>\n",
       "      <th>17546838</th>\n",
       "      <td>Sarah Gallegos Carranza</td>\n",
       "      <td>EGE</td>\n",
       "      <td>1</td>\n",
       "    </tr>\n",
       "    <tr>\n",
       "      <th>18218094</th>\n",
       "      <td>Paul Saucedo Orea</td>\n",
       "      <td>ISC</td>\n",
       "      <td>1</td>\n",
       "    </tr>\n",
       "    <tr>\n",
       "      <th>18439514</th>\n",
       "      <td>Cristina Uribe Vital</td>\n",
       "      <td>ISC</td>\n",
       "      <td>1</td>\n",
       "    </tr>\n",
       "  </tbody>\n",
       "</table>\n",
       "</div>"
      ],
      "text/plain": [
       "                                   Nombre Id Carrera  Id Modalidad\n",
       "Num. Control                                                      \n",
       "11368032           Federico Olvera Castro         IQ             1\n",
       "11981193            Lara Calderón Obrador        EGE             4\n",
       "12069000            Jamir Vázquez Urrutia        ISC             4\n",
       "12239391              Eddie Dueñas Piñeda        ISC             4\n",
       "12343755           Alex Villareal Vadillo        TIC             2\n",
       "12384890              Silvana Santos Lacy        ISC             4\n",
       "13060162           Pablo Gabilondo Halabe        ISC             4\n",
       "13801621          Olivia Maldonado Dueñas         EA             4\n",
       "14392671            Adrián García Pascual        ISC             3\n",
       "15453687           Eugene Morales Verdejo        EGE             3\n",
       "16066694          Benjamin Bacab Quiñonez         AU             3\n",
       "16314729              Claudia Núñez Ochoa        TIC             1\n",
       "16905652      Graciela Manzanilla Alcocer        NaN             4\n",
       "17546838          Sarah Gallegos Carranza        EGE             1\n",
       "18218094                Paul Saucedo Orea        ISC             1\n",
       "18439514             Cristina Uribe Vital        ISC             1"
      ]
     },
     "execution_count": 11,
     "metadata": {},
     "output_type": "execute_result"
    }
   ],
   "source": [
    "Alumnos"
   ]
  },
  {
   "cell_type": "code",
   "execution_count": 12,
   "id": "bbcebb7a-1ac3-4b7c-879b-2bfd04e5c781",
   "metadata": {},
   "outputs": [
    {
     "data": {
      "application/vnd.microsoft.datawrangler.viewer.v0+json": {
       "columns": [
        {
         "name": "Clave",
         "rawType": "object",
         "type": "string"
        },
        {
         "name": "Carrera",
         "rawType": "object",
         "type": "string"
        }
       ],
       "ref": "b71b6af9-4f2f-4a11-8fee-63524c2f1a01",
       "rows": [
        [
         "AU",
         "ARQUITECTURA Y URBANISMO"
        ],
        [
         "EGE",
         "ELECTRICIDAD Y GENERACION DE ENERGIA"
        ],
        [
         "EA",
         "ELECTRICIDAD Y AUTOMATIZACION"
        ],
        [
         "IQ",
         "INGENIERIA QUIMICA"
        ],
        [
         "ISC",
         "INGENIERIA EN SISTEMAS COMPUTACIONALES"
        ],
        [
         "TIC",
         "TECNOLOGIAS DE LA INFORMACION Y COMUNICACIÓN"
        ]
       ],
       "shape": {
        "columns": 1,
        "rows": 6
       }
      },
      "text/html": [
       "<div>\n",
       "<style scoped>\n",
       "    .dataframe tbody tr th:only-of-type {\n",
       "        vertical-align: middle;\n",
       "    }\n",
       "\n",
       "    .dataframe tbody tr th {\n",
       "        vertical-align: top;\n",
       "    }\n",
       "\n",
       "    .dataframe thead th {\n",
       "        text-align: right;\n",
       "    }\n",
       "</style>\n",
       "<table border=\"1\" class=\"dataframe\">\n",
       "  <thead>\n",
       "    <tr style=\"text-align: right;\">\n",
       "      <th></th>\n",
       "      <th>Carrera</th>\n",
       "    </tr>\n",
       "    <tr>\n",
       "      <th>Clave</th>\n",
       "      <th></th>\n",
       "    </tr>\n",
       "  </thead>\n",
       "  <tbody>\n",
       "    <tr>\n",
       "      <th>AU</th>\n",
       "      <td>ARQUITECTURA Y URBANISMO</td>\n",
       "    </tr>\n",
       "    <tr>\n",
       "      <th>EGE</th>\n",
       "      <td>ELECTRICIDAD Y GENERACION DE ENERGIA</td>\n",
       "    </tr>\n",
       "    <tr>\n",
       "      <th>EA</th>\n",
       "      <td>ELECTRICIDAD Y AUTOMATIZACION</td>\n",
       "    </tr>\n",
       "    <tr>\n",
       "      <th>IQ</th>\n",
       "      <td>INGENIERIA QUIMICA</td>\n",
       "    </tr>\n",
       "    <tr>\n",
       "      <th>ISC</th>\n",
       "      <td>INGENIERIA EN SISTEMAS COMPUTACIONALES</td>\n",
       "    </tr>\n",
       "    <tr>\n",
       "      <th>TIC</th>\n",
       "      <td>TECNOLOGIAS DE LA INFORMACION Y COMUNICACIÓN</td>\n",
       "    </tr>\n",
       "  </tbody>\n",
       "</table>\n",
       "</div>"
      ],
      "text/plain": [
       "                                            Carrera\n",
       "Clave                                              \n",
       "AU                         ARQUITECTURA Y URBANISMO\n",
       "EGE            ELECTRICIDAD Y GENERACION DE ENERGIA\n",
       "EA                    ELECTRICIDAD Y AUTOMATIZACION\n",
       "IQ                               INGENIERIA QUIMICA\n",
       "ISC          INGENIERIA EN SISTEMAS COMPUTACIONALES\n",
       "TIC    TECNOLOGIAS DE LA INFORMACION Y COMUNICACIÓN"
      ]
     },
     "execution_count": 12,
     "metadata": {},
     "output_type": "execute_result"
    }
   ],
   "source": [
    "Carreras"
   ]
  },
  {
   "cell_type": "code",
   "execution_count": 13,
   "id": "77894f62-3a60-4ecf-a158-818ad92e9062",
   "metadata": {},
   "outputs": [
    {
     "data": {
      "application/vnd.microsoft.datawrangler.viewer.v0+json": {
       "columns": [
        {
         "name": "index",
         "rawType": "int64",
         "type": "integer"
        },
        {
         "name": "Nombre",
         "rawType": "object",
         "type": "string"
        },
        {
         "name": "Id Carrera",
         "rawType": "object",
         "type": "string"
        },
        {
         "name": "Id Modalidad",
         "rawType": "int64",
         "type": "integer"
        },
        {
         "name": "Carrera",
         "rawType": "object",
         "type": "string"
        }
       ],
       "ref": "70e068f4-856f-4a5f-be52-538768546886",
       "rows": [
        [
         "0",
         "Federico Olvera Castro",
         "IQ",
         "1",
         "INGENIERIA QUIMICA"
        ],
        [
         "1",
         "Lara Calderón Obrador",
         "EGE",
         "4",
         "ELECTRICIDAD Y GENERACION DE ENERGIA"
        ],
        [
         "2",
         "Jamir Vázquez Urrutia",
         "ISC",
         "4",
         "INGENIERIA EN SISTEMAS COMPUTACIONALES"
        ],
        [
         "3",
         "Eddie Dueñas Piñeda",
         "ISC",
         "4",
         "INGENIERIA EN SISTEMAS COMPUTACIONALES"
        ],
        [
         "4",
         "Alex Villareal Vadillo",
         "TIC",
         "2",
         "TECNOLOGIAS DE LA INFORMACION Y COMUNICACIÓN"
        ],
        [
         "5",
         "Silvana Santos Lacy",
         "ISC",
         "4",
         "INGENIERIA EN SISTEMAS COMPUTACIONALES"
        ],
        [
         "6",
         "Pablo Gabilondo Halabe",
         "ISC",
         "4",
         "INGENIERIA EN SISTEMAS COMPUTACIONALES"
        ],
        [
         "7",
         "Olivia Maldonado Dueñas",
         "EA",
         "4",
         "ELECTRICIDAD Y AUTOMATIZACION"
        ],
        [
         "8",
         "Adrián García Pascual",
         "ISC",
         "3",
         "INGENIERIA EN SISTEMAS COMPUTACIONALES"
        ],
        [
         "9",
         "Eugene Morales Verdejo",
         "EGE",
         "3",
         "ELECTRICIDAD Y GENERACION DE ENERGIA"
        ],
        [
         "10",
         "Benjamin Bacab Quiñonez",
         "AU",
         "3",
         "ARQUITECTURA Y URBANISMO"
        ],
        [
         "11",
         "Claudia Núñez Ochoa",
         "TIC",
         "1",
         "TECNOLOGIAS DE LA INFORMACION Y COMUNICACIÓN"
        ],
        [
         "12",
         "Sarah Gallegos Carranza",
         "EGE",
         "1",
         "ELECTRICIDAD Y GENERACION DE ENERGIA"
        ],
        [
         "13",
         "Paul Saucedo Orea",
         "ISC",
         "1",
         "INGENIERIA EN SISTEMAS COMPUTACIONALES"
        ],
        [
         "14",
         "Cristina Uribe Vital",
         "ISC",
         "1",
         "INGENIERIA EN SISTEMAS COMPUTACIONALES"
        ]
       ],
       "shape": {
        "columns": 4,
        "rows": 15
       }
      },
      "text/html": [
       "<div>\n",
       "<style scoped>\n",
       "    .dataframe tbody tr th:only-of-type {\n",
       "        vertical-align: middle;\n",
       "    }\n",
       "\n",
       "    .dataframe tbody tr th {\n",
       "        vertical-align: top;\n",
       "    }\n",
       "\n",
       "    .dataframe thead th {\n",
       "        text-align: right;\n",
       "    }\n",
       "</style>\n",
       "<table border=\"1\" class=\"dataframe\">\n",
       "  <thead>\n",
       "    <tr style=\"text-align: right;\">\n",
       "      <th></th>\n",
       "      <th>Nombre</th>\n",
       "      <th>Id Carrera</th>\n",
       "      <th>Id Modalidad</th>\n",
       "      <th>Carrera</th>\n",
       "    </tr>\n",
       "  </thead>\n",
       "  <tbody>\n",
       "    <tr>\n",
       "      <th>0</th>\n",
       "      <td>Federico Olvera Castro</td>\n",
       "      <td>IQ</td>\n",
       "      <td>1</td>\n",
       "      <td>INGENIERIA QUIMICA</td>\n",
       "    </tr>\n",
       "    <tr>\n",
       "      <th>1</th>\n",
       "      <td>Lara Calderón Obrador</td>\n",
       "      <td>EGE</td>\n",
       "      <td>4</td>\n",
       "      <td>ELECTRICIDAD Y GENERACION DE ENERGIA</td>\n",
       "    </tr>\n",
       "    <tr>\n",
       "      <th>2</th>\n",
       "      <td>Jamir Vázquez Urrutia</td>\n",
       "      <td>ISC</td>\n",
       "      <td>4</td>\n",
       "      <td>INGENIERIA EN SISTEMAS COMPUTACIONALES</td>\n",
       "    </tr>\n",
       "    <tr>\n",
       "      <th>3</th>\n",
       "      <td>Eddie Dueñas Piñeda</td>\n",
       "      <td>ISC</td>\n",
       "      <td>4</td>\n",
       "      <td>INGENIERIA EN SISTEMAS COMPUTACIONALES</td>\n",
       "    </tr>\n",
       "    <tr>\n",
       "      <th>4</th>\n",
       "      <td>Alex Villareal Vadillo</td>\n",
       "      <td>TIC</td>\n",
       "      <td>2</td>\n",
       "      <td>TECNOLOGIAS DE LA INFORMACION Y COMUNICACIÓN</td>\n",
       "    </tr>\n",
       "    <tr>\n",
       "      <th>5</th>\n",
       "      <td>Silvana Santos Lacy</td>\n",
       "      <td>ISC</td>\n",
       "      <td>4</td>\n",
       "      <td>INGENIERIA EN SISTEMAS COMPUTACIONALES</td>\n",
       "    </tr>\n",
       "    <tr>\n",
       "      <th>6</th>\n",
       "      <td>Pablo Gabilondo Halabe</td>\n",
       "      <td>ISC</td>\n",
       "      <td>4</td>\n",
       "      <td>INGENIERIA EN SISTEMAS COMPUTACIONALES</td>\n",
       "    </tr>\n",
       "    <tr>\n",
       "      <th>7</th>\n",
       "      <td>Olivia Maldonado Dueñas</td>\n",
       "      <td>EA</td>\n",
       "      <td>4</td>\n",
       "      <td>ELECTRICIDAD Y AUTOMATIZACION</td>\n",
       "    </tr>\n",
       "    <tr>\n",
       "      <th>8</th>\n",
       "      <td>Adrián García Pascual</td>\n",
       "      <td>ISC</td>\n",
       "      <td>3</td>\n",
       "      <td>INGENIERIA EN SISTEMAS COMPUTACIONALES</td>\n",
       "    </tr>\n",
       "    <tr>\n",
       "      <th>9</th>\n",
       "      <td>Eugene Morales Verdejo</td>\n",
       "      <td>EGE</td>\n",
       "      <td>3</td>\n",
       "      <td>ELECTRICIDAD Y GENERACION DE ENERGIA</td>\n",
       "    </tr>\n",
       "    <tr>\n",
       "      <th>10</th>\n",
       "      <td>Benjamin Bacab Quiñonez</td>\n",
       "      <td>AU</td>\n",
       "      <td>3</td>\n",
       "      <td>ARQUITECTURA Y URBANISMO</td>\n",
       "    </tr>\n",
       "    <tr>\n",
       "      <th>11</th>\n",
       "      <td>Claudia Núñez Ochoa</td>\n",
       "      <td>TIC</td>\n",
       "      <td>1</td>\n",
       "      <td>TECNOLOGIAS DE LA INFORMACION Y COMUNICACIÓN</td>\n",
       "    </tr>\n",
       "    <tr>\n",
       "      <th>12</th>\n",
       "      <td>Sarah Gallegos Carranza</td>\n",
       "      <td>EGE</td>\n",
       "      <td>1</td>\n",
       "      <td>ELECTRICIDAD Y GENERACION DE ENERGIA</td>\n",
       "    </tr>\n",
       "    <tr>\n",
       "      <th>13</th>\n",
       "      <td>Paul Saucedo Orea</td>\n",
       "      <td>ISC</td>\n",
       "      <td>1</td>\n",
       "      <td>INGENIERIA EN SISTEMAS COMPUTACIONALES</td>\n",
       "    </tr>\n",
       "    <tr>\n",
       "      <th>14</th>\n",
       "      <td>Cristina Uribe Vital</td>\n",
       "      <td>ISC</td>\n",
       "      <td>1</td>\n",
       "      <td>INGENIERIA EN SISTEMAS COMPUTACIONALES</td>\n",
       "    </tr>\n",
       "  </tbody>\n",
       "</table>\n",
       "</div>"
      ],
      "text/plain": [
       "                     Nombre Id Carrera  Id Modalidad  \\\n",
       "0    Federico Olvera Castro         IQ             1   \n",
       "1     Lara Calderón Obrador        EGE             4   \n",
       "2     Jamir Vázquez Urrutia        ISC             4   \n",
       "3       Eddie Dueñas Piñeda        ISC             4   \n",
       "4    Alex Villareal Vadillo        TIC             2   \n",
       "5       Silvana Santos Lacy        ISC             4   \n",
       "6    Pablo Gabilondo Halabe        ISC             4   \n",
       "7   Olivia Maldonado Dueñas         EA             4   \n",
       "8     Adrián García Pascual        ISC             3   \n",
       "9    Eugene Morales Verdejo        EGE             3   \n",
       "10  Benjamin Bacab Quiñonez         AU             3   \n",
       "11      Claudia Núñez Ochoa        TIC             1   \n",
       "12  Sarah Gallegos Carranza        EGE             1   \n",
       "13        Paul Saucedo Orea        ISC             1   \n",
       "14     Cristina Uribe Vital        ISC             1   \n",
       "\n",
       "                                         Carrera  \n",
       "0                             INGENIERIA QUIMICA  \n",
       "1           ELECTRICIDAD Y GENERACION DE ENERGIA  \n",
       "2         INGENIERIA EN SISTEMAS COMPUTACIONALES  \n",
       "3         INGENIERIA EN SISTEMAS COMPUTACIONALES  \n",
       "4   TECNOLOGIAS DE LA INFORMACION Y COMUNICACIÓN  \n",
       "5         INGENIERIA EN SISTEMAS COMPUTACIONALES  \n",
       "6         INGENIERIA EN SISTEMAS COMPUTACIONALES  \n",
       "7                  ELECTRICIDAD Y AUTOMATIZACION  \n",
       "8         INGENIERIA EN SISTEMAS COMPUTACIONALES  \n",
       "9           ELECTRICIDAD Y GENERACION DE ENERGIA  \n",
       "10                      ARQUITECTURA Y URBANISMO  \n",
       "11  TECNOLOGIAS DE LA INFORMACION Y COMUNICACIÓN  \n",
       "12          ELECTRICIDAD Y GENERACION DE ENERGIA  \n",
       "13        INGENIERIA EN SISTEMAS COMPUTACIONALES  \n",
       "14        INGENIERIA EN SISTEMAS COMPUTACIONALES  "
      ]
     },
     "execution_count": 13,
     "metadata": {},
     "output_type": "execute_result"
    }
   ],
   "source": [
    "pd.merge(Alumnos,Carreras,left_on=\"Id Carrera\",right_on=\"Clave\")"
   ]
  },
  {
   "cell_type": "markdown",
   "id": "11db9abd-a836-483d-98e8-a385b8dcd774",
   "metadata": {},
   "source": [
    "__Ejercicio 8:__ "
   ]
  },
  {
   "cell_type": "markdown",
   "id": "1e7c1399-a814-4037-a9b7-191474538d99",
   "metadata": {},
   "source": [
    "Utilizar la funcion merge para unir los DataFrame \"modalidades\" y \"alumnos\", para comparar:\n",
    "- Utilizar el indice en el DataFrame \"modalidades\"\n",
    "- Utilizar la columna \"Id Modalidad\" en el DataFrame \"alumnos\""
   ]
  },
  {
   "cell_type": "code",
   "execution_count": 22,
   "id": "7336b066-0251-4f44-a76b-2ce34b7b90ad",
   "metadata": {},
   "outputs": [
    {
     "data": {
      "application/vnd.microsoft.datawrangler.viewer.v0+json": {
       "columns": [
        {
         "name": "Num. Control",
         "rawType": "int64",
         "type": "integer"
        },
        {
         "name": "Nombre_x",
         "rawType": "object",
         "type": "string"
        },
        {
         "name": "Nombre_y",
         "rawType": "object",
         "type": "string"
        },
        {
         "name": "Id Carrera",
         "rawType": "object",
         "type": "unknown"
        },
        {
         "name": "Id Modalidad",
         "rawType": "int64",
         "type": "integer"
        }
       ],
       "ref": "324c287d-9766-4c71-bd16-0b6f1c886bdc",
       "rows": [
        [
         "11368032",
         "Matutino",
         "Federico Olvera Castro",
         "IQ",
         "1"
        ],
        [
         "16314729",
         "Matutino",
         "Claudia Núñez Ochoa",
         "TIC",
         "1"
        ],
        [
         "17546838",
         "Matutino",
         "Sarah Gallegos Carranza",
         "EGE",
         "1"
        ],
        [
         "18218094",
         "Matutino",
         "Paul Saucedo Orea",
         "ISC",
         "1"
        ],
        [
         "18439514",
         "Matutino",
         "Cristina Uribe Vital",
         "ISC",
         "1"
        ],
        [
         "12343755",
         "Vespertino",
         "Alex Villareal Vadillo",
         "TIC",
         "2"
        ],
        [
         "14392671",
         "En linea",
         "Adrián García Pascual",
         "ISC",
         "3"
        ],
        [
         "15453687",
         "En linea",
         "Eugene Morales Verdejo",
         "EGE",
         "3"
        ],
        [
         "16066694",
         "En linea",
         "Benjamin Bacab Quiñonez",
         "AU",
         "3"
        ],
        [
         "11981193",
         "Fines de semana",
         "Lara Calderón Obrador",
         "EGE",
         "4"
        ],
        [
         "12069000",
         "Fines de semana",
         "Jamir Vázquez Urrutia",
         "ISC",
         "4"
        ],
        [
         "12239391",
         "Fines de semana",
         "Eddie Dueñas Piñeda",
         "ISC",
         "4"
        ],
        [
         "12384890",
         "Fines de semana",
         "Silvana Santos Lacy",
         "ISC",
         "4"
        ],
        [
         "13060162",
         "Fines de semana",
         "Pablo Gabilondo Halabe",
         "ISC",
         "4"
        ],
        [
         "13801621",
         "Fines de semana",
         "Olivia Maldonado Dueñas",
         "EA",
         "4"
        ],
        [
         "16905652",
         "Fines de semana",
         "Graciela Manzanilla Alcocer",
         null,
         "4"
        ]
       ],
       "shape": {
        "columns": 4,
        "rows": 16
       }
      },
      "text/html": [
       "<div>\n",
       "<style scoped>\n",
       "    .dataframe tbody tr th:only-of-type {\n",
       "        vertical-align: middle;\n",
       "    }\n",
       "\n",
       "    .dataframe tbody tr th {\n",
       "        vertical-align: top;\n",
       "    }\n",
       "\n",
       "    .dataframe thead th {\n",
       "        text-align: right;\n",
       "    }\n",
       "</style>\n",
       "<table border=\"1\" class=\"dataframe\">\n",
       "  <thead>\n",
       "    <tr style=\"text-align: right;\">\n",
       "      <th></th>\n",
       "      <th>Nombre_x</th>\n",
       "      <th>Nombre_y</th>\n",
       "      <th>Id Carrera</th>\n",
       "      <th>Id Modalidad</th>\n",
       "    </tr>\n",
       "    <tr>\n",
       "      <th>Num. Control</th>\n",
       "      <th></th>\n",
       "      <th></th>\n",
       "      <th></th>\n",
       "      <th></th>\n",
       "    </tr>\n",
       "  </thead>\n",
       "  <tbody>\n",
       "    <tr>\n",
       "      <th>11368032</th>\n",
       "      <td>Matutino</td>\n",
       "      <td>Federico Olvera Castro</td>\n",
       "      <td>IQ</td>\n",
       "      <td>1</td>\n",
       "    </tr>\n",
       "    <tr>\n",
       "      <th>16314729</th>\n",
       "      <td>Matutino</td>\n",
       "      <td>Claudia Núñez Ochoa</td>\n",
       "      <td>TIC</td>\n",
       "      <td>1</td>\n",
       "    </tr>\n",
       "    <tr>\n",
       "      <th>17546838</th>\n",
       "      <td>Matutino</td>\n",
       "      <td>Sarah Gallegos Carranza</td>\n",
       "      <td>EGE</td>\n",
       "      <td>1</td>\n",
       "    </tr>\n",
       "    <tr>\n",
       "      <th>18218094</th>\n",
       "      <td>Matutino</td>\n",
       "      <td>Paul Saucedo Orea</td>\n",
       "      <td>ISC</td>\n",
       "      <td>1</td>\n",
       "    </tr>\n",
       "    <tr>\n",
       "      <th>18439514</th>\n",
       "      <td>Matutino</td>\n",
       "      <td>Cristina Uribe Vital</td>\n",
       "      <td>ISC</td>\n",
       "      <td>1</td>\n",
       "    </tr>\n",
       "    <tr>\n",
       "      <th>12343755</th>\n",
       "      <td>Vespertino</td>\n",
       "      <td>Alex Villareal Vadillo</td>\n",
       "      <td>TIC</td>\n",
       "      <td>2</td>\n",
       "    </tr>\n",
       "    <tr>\n",
       "      <th>14392671</th>\n",
       "      <td>En linea</td>\n",
       "      <td>Adrián García Pascual</td>\n",
       "      <td>ISC</td>\n",
       "      <td>3</td>\n",
       "    </tr>\n",
       "    <tr>\n",
       "      <th>15453687</th>\n",
       "      <td>En linea</td>\n",
       "      <td>Eugene Morales Verdejo</td>\n",
       "      <td>EGE</td>\n",
       "      <td>3</td>\n",
       "    </tr>\n",
       "    <tr>\n",
       "      <th>16066694</th>\n",
       "      <td>En linea</td>\n",
       "      <td>Benjamin Bacab Quiñonez</td>\n",
       "      <td>AU</td>\n",
       "      <td>3</td>\n",
       "    </tr>\n",
       "    <tr>\n",
       "      <th>11981193</th>\n",
       "      <td>Fines de semana</td>\n",
       "      <td>Lara Calderón Obrador</td>\n",
       "      <td>EGE</td>\n",
       "      <td>4</td>\n",
       "    </tr>\n",
       "    <tr>\n",
       "      <th>12069000</th>\n",
       "      <td>Fines de semana</td>\n",
       "      <td>Jamir Vázquez Urrutia</td>\n",
       "      <td>ISC</td>\n",
       "      <td>4</td>\n",
       "    </tr>\n",
       "    <tr>\n",
       "      <th>12239391</th>\n",
       "      <td>Fines de semana</td>\n",
       "      <td>Eddie Dueñas Piñeda</td>\n",
       "      <td>ISC</td>\n",
       "      <td>4</td>\n",
       "    </tr>\n",
       "    <tr>\n",
       "      <th>12384890</th>\n",
       "      <td>Fines de semana</td>\n",
       "      <td>Silvana Santos Lacy</td>\n",
       "      <td>ISC</td>\n",
       "      <td>4</td>\n",
       "    </tr>\n",
       "    <tr>\n",
       "      <th>13060162</th>\n",
       "      <td>Fines de semana</td>\n",
       "      <td>Pablo Gabilondo Halabe</td>\n",
       "      <td>ISC</td>\n",
       "      <td>4</td>\n",
       "    </tr>\n",
       "    <tr>\n",
       "      <th>13801621</th>\n",
       "      <td>Fines de semana</td>\n",
       "      <td>Olivia Maldonado Dueñas</td>\n",
       "      <td>EA</td>\n",
       "      <td>4</td>\n",
       "    </tr>\n",
       "    <tr>\n",
       "      <th>16905652</th>\n",
       "      <td>Fines de semana</td>\n",
       "      <td>Graciela Manzanilla Alcocer</td>\n",
       "      <td>NaN</td>\n",
       "      <td>4</td>\n",
       "    </tr>\n",
       "  </tbody>\n",
       "</table>\n",
       "</div>"
      ],
      "text/plain": [
       "                     Nombre_x                     Nombre_y Id Carrera  \\\n",
       "Num. Control                                                            \n",
       "11368032             Matutino       Federico Olvera Castro         IQ   \n",
       "16314729             Matutino          Claudia Núñez Ochoa        TIC   \n",
       "17546838             Matutino      Sarah Gallegos Carranza        EGE   \n",
       "18218094             Matutino            Paul Saucedo Orea        ISC   \n",
       "18439514             Matutino         Cristina Uribe Vital        ISC   \n",
       "12343755           Vespertino       Alex Villareal Vadillo        TIC   \n",
       "14392671             En linea        Adrián García Pascual        ISC   \n",
       "15453687             En linea       Eugene Morales Verdejo        EGE   \n",
       "16066694             En linea      Benjamin Bacab Quiñonez         AU   \n",
       "11981193      Fines de semana        Lara Calderón Obrador        EGE   \n",
       "12069000      Fines de semana        Jamir Vázquez Urrutia        ISC   \n",
       "12239391      Fines de semana          Eddie Dueñas Piñeda        ISC   \n",
       "12384890      Fines de semana          Silvana Santos Lacy        ISC   \n",
       "13060162      Fines de semana       Pablo Gabilondo Halabe        ISC   \n",
       "13801621      Fines de semana      Olivia Maldonado Dueñas         EA   \n",
       "16905652      Fines de semana  Graciela Manzanilla Alcocer        NaN   \n",
       "\n",
       "              Id Modalidad  \n",
       "Num. Control                \n",
       "11368032                 1  \n",
       "16314729                 1  \n",
       "17546838                 1  \n",
       "18218094                 1  \n",
       "18439514                 1  \n",
       "12343755                 2  \n",
       "14392671                 3  \n",
       "15453687                 3  \n",
       "16066694                 3  \n",
       "11981193                 4  \n",
       "12069000                 4  \n",
       "12239391                 4  \n",
       "12384890                 4  \n",
       "13060162                 4  \n",
       "13801621                 4  \n",
       "16905652                 4  "
      ]
     },
     "execution_count": 22,
     "metadata": {},
     "output_type": "execute_result"
    }
   ],
   "source": [
    "pd.merge(Modalidades,Alumnos,left_index=True,right_on=\"Id Modalidad\")"
   ]
  },
  {
   "cell_type": "code",
   "execution_count": 14,
   "id": "aa3ec1bb-d97d-4b7a-a5ca-b99f73855fcc",
   "metadata": {},
   "outputs": [
    {
     "data": {
      "application/vnd.microsoft.datawrangler.viewer.v0+json": {
       "columns": [
        {
         "name": "Id",
         "rawType": "int64",
         "type": "integer"
        },
        {
         "name": "Nombre",
         "rawType": "object",
         "type": "string"
        }
       ],
       "ref": "5d7bcaa3-a4ab-4a4b-8265-756b370b3c8a",
       "rows": [
        [
         "1",
         "Matutino"
        ],
        [
         "2",
         "Vespertino"
        ],
        [
         "3",
         "En linea"
        ],
        [
         "4",
         "Fines de semana"
        ]
       ],
       "shape": {
        "columns": 1,
        "rows": 4
       }
      },
      "text/html": [
       "<div>\n",
       "<style scoped>\n",
       "    .dataframe tbody tr th:only-of-type {\n",
       "        vertical-align: middle;\n",
       "    }\n",
       "\n",
       "    .dataframe tbody tr th {\n",
       "        vertical-align: top;\n",
       "    }\n",
       "\n",
       "    .dataframe thead th {\n",
       "        text-align: right;\n",
       "    }\n",
       "</style>\n",
       "<table border=\"1\" class=\"dataframe\">\n",
       "  <thead>\n",
       "    <tr style=\"text-align: right;\">\n",
       "      <th></th>\n",
       "      <th>Nombre</th>\n",
       "    </tr>\n",
       "    <tr>\n",
       "      <th>Id</th>\n",
       "      <th></th>\n",
       "    </tr>\n",
       "  </thead>\n",
       "  <tbody>\n",
       "    <tr>\n",
       "      <th>1</th>\n",
       "      <td>Matutino</td>\n",
       "    </tr>\n",
       "    <tr>\n",
       "      <th>2</th>\n",
       "      <td>Vespertino</td>\n",
       "    </tr>\n",
       "    <tr>\n",
       "      <th>3</th>\n",
       "      <td>En linea</td>\n",
       "    </tr>\n",
       "    <tr>\n",
       "      <th>4</th>\n",
       "      <td>Fines de semana</td>\n",
       "    </tr>\n",
       "  </tbody>\n",
       "</table>\n",
       "</div>"
      ],
      "text/plain": [
       "             Nombre\n",
       "Id                 \n",
       "1          Matutino\n",
       "2        Vespertino\n",
       "3          En linea\n",
       "4   Fines de semana"
      ]
     },
     "execution_count": 14,
     "metadata": {},
     "output_type": "execute_result"
    }
   ],
   "source": [
    "Modalidades"
   ]
  },
  {
   "cell_type": "code",
   "execution_count": 15,
   "id": "67a3afed-0b10-488b-8c06-c2903d27b3bb",
   "metadata": {},
   "outputs": [
    {
     "data": {
      "application/vnd.microsoft.datawrangler.viewer.v0+json": {
       "columns": [
        {
         "name": "Num. Control",
         "rawType": "int64",
         "type": "integer"
        },
        {
         "name": "Nombre",
         "rawType": "object",
         "type": "string"
        },
        {
         "name": "Id Carrera",
         "rawType": "object",
         "type": "unknown"
        },
        {
         "name": "Id Modalidad",
         "rawType": "int64",
         "type": "integer"
        }
       ],
       "ref": "bc6a3969-c7f4-4d30-b5c1-5bad066426da",
       "rows": [
        [
         "11368032",
         "Federico Olvera Castro",
         "IQ",
         "1"
        ],
        [
         "11981193",
         "Lara Calderón Obrador",
         "EGE",
         "4"
        ],
        [
         "12069000",
         "Jamir Vázquez Urrutia",
         "ISC",
         "4"
        ],
        [
         "12239391",
         "Eddie Dueñas Piñeda",
         "ISC",
         "4"
        ],
        [
         "12343755",
         "Alex Villareal Vadillo",
         "TIC",
         "2"
        ],
        [
         "12384890",
         "Silvana Santos Lacy",
         "ISC",
         "4"
        ],
        [
         "13060162",
         "Pablo Gabilondo Halabe",
         "ISC",
         "4"
        ],
        [
         "13801621",
         "Olivia Maldonado Dueñas",
         "EA",
         "4"
        ],
        [
         "14392671",
         "Adrián García Pascual",
         "ISC",
         "3"
        ],
        [
         "15453687",
         "Eugene Morales Verdejo",
         "EGE",
         "3"
        ],
        [
         "16066694",
         "Benjamin Bacab Quiñonez",
         "AU",
         "3"
        ],
        [
         "16314729",
         "Claudia Núñez Ochoa",
         "TIC",
         "1"
        ],
        [
         "16905652",
         "Graciela Manzanilla Alcocer",
         null,
         "4"
        ],
        [
         "17546838",
         "Sarah Gallegos Carranza",
         "EGE",
         "1"
        ],
        [
         "18218094",
         "Paul Saucedo Orea",
         "ISC",
         "1"
        ],
        [
         "18439514",
         "Cristina Uribe Vital",
         "ISC",
         "1"
        ]
       ],
       "shape": {
        "columns": 3,
        "rows": 16
       }
      },
      "text/html": [
       "<div>\n",
       "<style scoped>\n",
       "    .dataframe tbody tr th:only-of-type {\n",
       "        vertical-align: middle;\n",
       "    }\n",
       "\n",
       "    .dataframe tbody tr th {\n",
       "        vertical-align: top;\n",
       "    }\n",
       "\n",
       "    .dataframe thead th {\n",
       "        text-align: right;\n",
       "    }\n",
       "</style>\n",
       "<table border=\"1\" class=\"dataframe\">\n",
       "  <thead>\n",
       "    <tr style=\"text-align: right;\">\n",
       "      <th></th>\n",
       "      <th>Nombre</th>\n",
       "      <th>Id Carrera</th>\n",
       "      <th>Id Modalidad</th>\n",
       "    </tr>\n",
       "    <tr>\n",
       "      <th>Num. Control</th>\n",
       "      <th></th>\n",
       "      <th></th>\n",
       "      <th></th>\n",
       "    </tr>\n",
       "  </thead>\n",
       "  <tbody>\n",
       "    <tr>\n",
       "      <th>11368032</th>\n",
       "      <td>Federico Olvera Castro</td>\n",
       "      <td>IQ</td>\n",
       "      <td>1</td>\n",
       "    </tr>\n",
       "    <tr>\n",
       "      <th>11981193</th>\n",
       "      <td>Lara Calderón Obrador</td>\n",
       "      <td>EGE</td>\n",
       "      <td>4</td>\n",
       "    </tr>\n",
       "    <tr>\n",
       "      <th>12069000</th>\n",
       "      <td>Jamir Vázquez Urrutia</td>\n",
       "      <td>ISC</td>\n",
       "      <td>4</td>\n",
       "    </tr>\n",
       "    <tr>\n",
       "      <th>12239391</th>\n",
       "      <td>Eddie Dueñas Piñeda</td>\n",
       "      <td>ISC</td>\n",
       "      <td>4</td>\n",
       "    </tr>\n",
       "    <tr>\n",
       "      <th>12343755</th>\n",
       "      <td>Alex Villareal Vadillo</td>\n",
       "      <td>TIC</td>\n",
       "      <td>2</td>\n",
       "    </tr>\n",
       "    <tr>\n",
       "      <th>12384890</th>\n",
       "      <td>Silvana Santos Lacy</td>\n",
       "      <td>ISC</td>\n",
       "      <td>4</td>\n",
       "    </tr>\n",
       "    <tr>\n",
       "      <th>13060162</th>\n",
       "      <td>Pablo Gabilondo Halabe</td>\n",
       "      <td>ISC</td>\n",
       "      <td>4</td>\n",
       "    </tr>\n",
       "    <tr>\n",
       "      <th>13801621</th>\n",
       "      <td>Olivia Maldonado Dueñas</td>\n",
       "      <td>EA</td>\n",
       "      <td>4</td>\n",
       "    </tr>\n",
       "    <tr>\n",
       "      <th>14392671</th>\n",
       "      <td>Adrián García Pascual</td>\n",
       "      <td>ISC</td>\n",
       "      <td>3</td>\n",
       "    </tr>\n",
       "    <tr>\n",
       "      <th>15453687</th>\n",
       "      <td>Eugene Morales Verdejo</td>\n",
       "      <td>EGE</td>\n",
       "      <td>3</td>\n",
       "    </tr>\n",
       "    <tr>\n",
       "      <th>16066694</th>\n",
       "      <td>Benjamin Bacab Quiñonez</td>\n",
       "      <td>AU</td>\n",
       "      <td>3</td>\n",
       "    </tr>\n",
       "    <tr>\n",
       "      <th>16314729</th>\n",
       "      <td>Claudia Núñez Ochoa</td>\n",
       "      <td>TIC</td>\n",
       "      <td>1</td>\n",
       "    </tr>\n",
       "    <tr>\n",
       "      <th>16905652</th>\n",
       "      <td>Graciela Manzanilla Alcocer</td>\n",
       "      <td>NaN</td>\n",
       "      <td>4</td>\n",
       "    </tr>\n",
       "    <tr>\n",
       "      <th>17546838</th>\n",
       "      <td>Sarah Gallegos Carranza</td>\n",
       "      <td>EGE</td>\n",
       "      <td>1</td>\n",
       "    </tr>\n",
       "    <tr>\n",
       "      <th>18218094</th>\n",
       "      <td>Paul Saucedo Orea</td>\n",
       "      <td>ISC</td>\n",
       "      <td>1</td>\n",
       "    </tr>\n",
       "    <tr>\n",
       "      <th>18439514</th>\n",
       "      <td>Cristina Uribe Vital</td>\n",
       "      <td>ISC</td>\n",
       "      <td>1</td>\n",
       "    </tr>\n",
       "  </tbody>\n",
       "</table>\n",
       "</div>"
      ],
      "text/plain": [
       "                                   Nombre Id Carrera  Id Modalidad\n",
       "Num. Control                                                      \n",
       "11368032           Federico Olvera Castro         IQ             1\n",
       "11981193            Lara Calderón Obrador        EGE             4\n",
       "12069000            Jamir Vázquez Urrutia        ISC             4\n",
       "12239391              Eddie Dueñas Piñeda        ISC             4\n",
       "12343755           Alex Villareal Vadillo        TIC             2\n",
       "12384890              Silvana Santos Lacy        ISC             4\n",
       "13060162           Pablo Gabilondo Halabe        ISC             4\n",
       "13801621          Olivia Maldonado Dueñas         EA             4\n",
       "14392671            Adrián García Pascual        ISC             3\n",
       "15453687           Eugene Morales Verdejo        EGE             3\n",
       "16066694          Benjamin Bacab Quiñonez         AU             3\n",
       "16314729              Claudia Núñez Ochoa        TIC             1\n",
       "16905652      Graciela Manzanilla Alcocer        NaN             4\n",
       "17546838          Sarah Gallegos Carranza        EGE             1\n",
       "18218094                Paul Saucedo Orea        ISC             1\n",
       "18439514             Cristina Uribe Vital        ISC             1"
      ]
     },
     "execution_count": 15,
     "metadata": {},
     "output_type": "execute_result"
    }
   ],
   "source": [
    "Alumnos"
   ]
  },
  {
   "cell_type": "markdown",
   "id": "31a8e422-6786-422f-8016-1f6ed912ec64",
   "metadata": {},
   "source": [
    "__Ejercicio 9:__"
   ]
  },
  {
   "cell_type": "markdown",
   "id": "34b95c9f-00bb-4907-9cbd-057ed367b447",
   "metadata": {},
   "source": [
    "Modificar el DataFrame anterior:\n",
    "- Agregar el sufijo \"_Modalidad\" a la columna \"Nombre\" del Dataframe modalidades\n",
    "- Agregar el sufijo \"_Alumno\" a la columna \"Nombre\" del DataFrame alumnos"
   ]
  },
  {
   "cell_type": "code",
   "execution_count": 23,
   "id": "b1d1cb13-601b-47f7-bb47-2490e9cffee2",
   "metadata": {},
   "outputs": [
    {
     "data": {
      "application/vnd.microsoft.datawrangler.viewer.v0+json": {
       "columns": [
        {
         "name": "Num. Control",
         "rawType": "int64",
         "type": "integer"
        },
        {
         "name": "Nombre_Modalidad",
         "rawType": "object",
         "type": "string"
        },
        {
         "name": "Nombre_Alumno",
         "rawType": "object",
         "type": "string"
        },
        {
         "name": "Id Carrera",
         "rawType": "object",
         "type": "unknown"
        },
        {
         "name": "Id Modalidad",
         "rawType": "int64",
         "type": "integer"
        }
       ],
       "ref": "55fb70ae-273d-425c-859b-f0edf600fbe6",
       "rows": [
        [
         "11368032",
         "Matutino",
         "Federico Olvera Castro",
         "IQ",
         "1"
        ],
        [
         "16314729",
         "Matutino",
         "Claudia Núñez Ochoa",
         "TIC",
         "1"
        ],
        [
         "17546838",
         "Matutino",
         "Sarah Gallegos Carranza",
         "EGE",
         "1"
        ],
        [
         "18218094",
         "Matutino",
         "Paul Saucedo Orea",
         "ISC",
         "1"
        ],
        [
         "18439514",
         "Matutino",
         "Cristina Uribe Vital",
         "ISC",
         "1"
        ],
        [
         "12343755",
         "Vespertino",
         "Alex Villareal Vadillo",
         "TIC",
         "2"
        ],
        [
         "14392671",
         "En linea",
         "Adrián García Pascual",
         "ISC",
         "3"
        ],
        [
         "15453687",
         "En linea",
         "Eugene Morales Verdejo",
         "EGE",
         "3"
        ],
        [
         "16066694",
         "En linea",
         "Benjamin Bacab Quiñonez",
         "AU",
         "3"
        ],
        [
         "11981193",
         "Fines de semana",
         "Lara Calderón Obrador",
         "EGE",
         "4"
        ],
        [
         "12069000",
         "Fines de semana",
         "Jamir Vázquez Urrutia",
         "ISC",
         "4"
        ],
        [
         "12239391",
         "Fines de semana",
         "Eddie Dueñas Piñeda",
         "ISC",
         "4"
        ],
        [
         "12384890",
         "Fines de semana",
         "Silvana Santos Lacy",
         "ISC",
         "4"
        ],
        [
         "13060162",
         "Fines de semana",
         "Pablo Gabilondo Halabe",
         "ISC",
         "4"
        ],
        [
         "13801621",
         "Fines de semana",
         "Olivia Maldonado Dueñas",
         "EA",
         "4"
        ],
        [
         "16905652",
         "Fines de semana",
         "Graciela Manzanilla Alcocer",
         null,
         "4"
        ]
       ],
       "shape": {
        "columns": 4,
        "rows": 16
       }
      },
      "text/html": [
       "<div>\n",
       "<style scoped>\n",
       "    .dataframe tbody tr th:only-of-type {\n",
       "        vertical-align: middle;\n",
       "    }\n",
       "\n",
       "    .dataframe tbody tr th {\n",
       "        vertical-align: top;\n",
       "    }\n",
       "\n",
       "    .dataframe thead th {\n",
       "        text-align: right;\n",
       "    }\n",
       "</style>\n",
       "<table border=\"1\" class=\"dataframe\">\n",
       "  <thead>\n",
       "    <tr style=\"text-align: right;\">\n",
       "      <th></th>\n",
       "      <th>Nombre_Modalidad</th>\n",
       "      <th>Nombre_Alumno</th>\n",
       "      <th>Id Carrera</th>\n",
       "      <th>Id Modalidad</th>\n",
       "    </tr>\n",
       "    <tr>\n",
       "      <th>Num. Control</th>\n",
       "      <th></th>\n",
       "      <th></th>\n",
       "      <th></th>\n",
       "      <th></th>\n",
       "    </tr>\n",
       "  </thead>\n",
       "  <tbody>\n",
       "    <tr>\n",
       "      <th>11368032</th>\n",
       "      <td>Matutino</td>\n",
       "      <td>Federico Olvera Castro</td>\n",
       "      <td>IQ</td>\n",
       "      <td>1</td>\n",
       "    </tr>\n",
       "    <tr>\n",
       "      <th>16314729</th>\n",
       "      <td>Matutino</td>\n",
       "      <td>Claudia Núñez Ochoa</td>\n",
       "      <td>TIC</td>\n",
       "      <td>1</td>\n",
       "    </tr>\n",
       "    <tr>\n",
       "      <th>17546838</th>\n",
       "      <td>Matutino</td>\n",
       "      <td>Sarah Gallegos Carranza</td>\n",
       "      <td>EGE</td>\n",
       "      <td>1</td>\n",
       "    </tr>\n",
       "    <tr>\n",
       "      <th>18218094</th>\n",
       "      <td>Matutino</td>\n",
       "      <td>Paul Saucedo Orea</td>\n",
       "      <td>ISC</td>\n",
       "      <td>1</td>\n",
       "    </tr>\n",
       "    <tr>\n",
       "      <th>18439514</th>\n",
       "      <td>Matutino</td>\n",
       "      <td>Cristina Uribe Vital</td>\n",
       "      <td>ISC</td>\n",
       "      <td>1</td>\n",
       "    </tr>\n",
       "    <tr>\n",
       "      <th>12343755</th>\n",
       "      <td>Vespertino</td>\n",
       "      <td>Alex Villareal Vadillo</td>\n",
       "      <td>TIC</td>\n",
       "      <td>2</td>\n",
       "    </tr>\n",
       "    <tr>\n",
       "      <th>14392671</th>\n",
       "      <td>En linea</td>\n",
       "      <td>Adrián García Pascual</td>\n",
       "      <td>ISC</td>\n",
       "      <td>3</td>\n",
       "    </tr>\n",
       "    <tr>\n",
       "      <th>15453687</th>\n",
       "      <td>En linea</td>\n",
       "      <td>Eugene Morales Verdejo</td>\n",
       "      <td>EGE</td>\n",
       "      <td>3</td>\n",
       "    </tr>\n",
       "    <tr>\n",
       "      <th>16066694</th>\n",
       "      <td>En linea</td>\n",
       "      <td>Benjamin Bacab Quiñonez</td>\n",
       "      <td>AU</td>\n",
       "      <td>3</td>\n",
       "    </tr>\n",
       "    <tr>\n",
       "      <th>11981193</th>\n",
       "      <td>Fines de semana</td>\n",
       "      <td>Lara Calderón Obrador</td>\n",
       "      <td>EGE</td>\n",
       "      <td>4</td>\n",
       "    </tr>\n",
       "    <tr>\n",
       "      <th>12069000</th>\n",
       "      <td>Fines de semana</td>\n",
       "      <td>Jamir Vázquez Urrutia</td>\n",
       "      <td>ISC</td>\n",
       "      <td>4</td>\n",
       "    </tr>\n",
       "    <tr>\n",
       "      <th>12239391</th>\n",
       "      <td>Fines de semana</td>\n",
       "      <td>Eddie Dueñas Piñeda</td>\n",
       "      <td>ISC</td>\n",
       "      <td>4</td>\n",
       "    </tr>\n",
       "    <tr>\n",
       "      <th>12384890</th>\n",
       "      <td>Fines de semana</td>\n",
       "      <td>Silvana Santos Lacy</td>\n",
       "      <td>ISC</td>\n",
       "      <td>4</td>\n",
       "    </tr>\n",
       "    <tr>\n",
       "      <th>13060162</th>\n",
       "      <td>Fines de semana</td>\n",
       "      <td>Pablo Gabilondo Halabe</td>\n",
       "      <td>ISC</td>\n",
       "      <td>4</td>\n",
       "    </tr>\n",
       "    <tr>\n",
       "      <th>13801621</th>\n",
       "      <td>Fines de semana</td>\n",
       "      <td>Olivia Maldonado Dueñas</td>\n",
       "      <td>EA</td>\n",
       "      <td>4</td>\n",
       "    </tr>\n",
       "    <tr>\n",
       "      <th>16905652</th>\n",
       "      <td>Fines de semana</td>\n",
       "      <td>Graciela Manzanilla Alcocer</td>\n",
       "      <td>NaN</td>\n",
       "      <td>4</td>\n",
       "    </tr>\n",
       "  </tbody>\n",
       "</table>\n",
       "</div>"
      ],
      "text/plain": [
       "             Nombre_Modalidad                Nombre_Alumno Id Carrera  \\\n",
       "Num. Control                                                            \n",
       "11368032             Matutino       Federico Olvera Castro         IQ   \n",
       "16314729             Matutino          Claudia Núñez Ochoa        TIC   \n",
       "17546838             Matutino      Sarah Gallegos Carranza        EGE   \n",
       "18218094             Matutino            Paul Saucedo Orea        ISC   \n",
       "18439514             Matutino         Cristina Uribe Vital        ISC   \n",
       "12343755           Vespertino       Alex Villareal Vadillo        TIC   \n",
       "14392671             En linea        Adrián García Pascual        ISC   \n",
       "15453687             En linea       Eugene Morales Verdejo        EGE   \n",
       "16066694             En linea      Benjamin Bacab Quiñonez         AU   \n",
       "11981193      Fines de semana        Lara Calderón Obrador        EGE   \n",
       "12069000      Fines de semana        Jamir Vázquez Urrutia        ISC   \n",
       "12239391      Fines de semana          Eddie Dueñas Piñeda        ISC   \n",
       "12384890      Fines de semana          Silvana Santos Lacy        ISC   \n",
       "13060162      Fines de semana       Pablo Gabilondo Halabe        ISC   \n",
       "13801621      Fines de semana      Olivia Maldonado Dueñas         EA   \n",
       "16905652      Fines de semana  Graciela Manzanilla Alcocer        NaN   \n",
       "\n",
       "              Id Modalidad  \n",
       "Num. Control                \n",
       "11368032                 1  \n",
       "16314729                 1  \n",
       "17546838                 1  \n",
       "18218094                 1  \n",
       "18439514                 1  \n",
       "12343755                 2  \n",
       "14392671                 3  \n",
       "15453687                 3  \n",
       "16066694                 3  \n",
       "11981193                 4  \n",
       "12069000                 4  \n",
       "12239391                 4  \n",
       "12384890                 4  \n",
       "13060162                 4  \n",
       "13801621                 4  \n",
       "16905652                 4  "
      ]
     },
     "execution_count": 23,
     "metadata": {},
     "output_type": "execute_result"
    }
   ],
   "source": [
    "pd.merge(Modalidades,Alumnos,left_index=True,right_on=\"Id Modalidad\",suffixes=(\"_Modalidad\",\"_Alumno\"))"
   ]
  },
  {
   "cell_type": "markdown",
   "id": "7ac706f6-94de-4195-8595-7da193a97e5d",
   "metadata": {},
   "source": [
    "__Ejercicio 10:__"
   ]
  },
  {
   "cell_type": "markdown",
   "id": "be8853c8-c806-4f15-be69-c994c42f6a1d",
   "metadata": {},
   "source": [
    "Utilizar la funcion merge para unir los DataFrame carreras y alumnos, para comparar:\n",
    "   - Utilizar la columna \"Clave\" en el DataFrame carreras\n",
    "   - Utilizar la columna \"Id Carrera\" en el DaraFrame alumnos"
   ]
  },
  {
   "cell_type": "code",
   "execution_count": 19,
   "id": "755671dc-9b07-4852-bd6f-f17f682c61f1",
   "metadata": {},
   "outputs": [
    {
     "data": {
      "application/vnd.microsoft.datawrangler.viewer.v0+json": {
       "columns": [
        {
         "name": "index",
         "rawType": "int64",
         "type": "integer"
        },
        {
         "name": "Carrera",
         "rawType": "object",
         "type": "string"
        },
        {
         "name": "Nombre",
         "rawType": "object",
         "type": "string"
        },
        {
         "name": "Id Carrera",
         "rawType": "object",
         "type": "string"
        },
        {
         "name": "Id Modalidad",
         "rawType": "int64",
         "type": "integer"
        }
       ],
       "ref": "9fb5a76a-bc78-4be2-9ae1-8a334f5fce0d",
       "rows": [
        [
         "0",
         "ARQUITECTURA Y URBANISMO",
         "Benjamin Bacab Quiñonez",
         "AU",
         "3"
        ],
        [
         "1",
         "ELECTRICIDAD Y GENERACION DE ENERGIA",
         "Lara Calderón Obrador",
         "EGE",
         "4"
        ],
        [
         "2",
         "ELECTRICIDAD Y GENERACION DE ENERGIA",
         "Eugene Morales Verdejo",
         "EGE",
         "3"
        ],
        [
         "3",
         "ELECTRICIDAD Y GENERACION DE ENERGIA",
         "Sarah Gallegos Carranza",
         "EGE",
         "1"
        ],
        [
         "4",
         "ELECTRICIDAD Y AUTOMATIZACION",
         "Olivia Maldonado Dueñas",
         "EA",
         "4"
        ],
        [
         "5",
         "INGENIERIA QUIMICA",
         "Federico Olvera Castro",
         "IQ",
         "1"
        ],
        [
         "6",
         "INGENIERIA EN SISTEMAS COMPUTACIONALES",
         "Jamir Vázquez Urrutia",
         "ISC",
         "4"
        ],
        [
         "7",
         "INGENIERIA EN SISTEMAS COMPUTACIONALES",
         "Eddie Dueñas Piñeda",
         "ISC",
         "4"
        ],
        [
         "8",
         "INGENIERIA EN SISTEMAS COMPUTACIONALES",
         "Silvana Santos Lacy",
         "ISC",
         "4"
        ],
        [
         "9",
         "INGENIERIA EN SISTEMAS COMPUTACIONALES",
         "Pablo Gabilondo Halabe",
         "ISC",
         "4"
        ],
        [
         "10",
         "INGENIERIA EN SISTEMAS COMPUTACIONALES",
         "Adrián García Pascual",
         "ISC",
         "3"
        ],
        [
         "11",
         "INGENIERIA EN SISTEMAS COMPUTACIONALES",
         "Paul Saucedo Orea",
         "ISC",
         "1"
        ],
        [
         "12",
         "INGENIERIA EN SISTEMAS COMPUTACIONALES",
         "Cristina Uribe Vital",
         "ISC",
         "1"
        ],
        [
         "13",
         "TECNOLOGIAS DE LA INFORMACION Y COMUNICACIÓN",
         "Alex Villareal Vadillo",
         "TIC",
         "2"
        ],
        [
         "14",
         "TECNOLOGIAS DE LA INFORMACION Y COMUNICACIÓN",
         "Claudia Núñez Ochoa",
         "TIC",
         "1"
        ]
       ],
       "shape": {
        "columns": 4,
        "rows": 15
       }
      },
      "text/html": [
       "<div>\n",
       "<style scoped>\n",
       "    .dataframe tbody tr th:only-of-type {\n",
       "        vertical-align: middle;\n",
       "    }\n",
       "\n",
       "    .dataframe tbody tr th {\n",
       "        vertical-align: top;\n",
       "    }\n",
       "\n",
       "    .dataframe thead th {\n",
       "        text-align: right;\n",
       "    }\n",
       "</style>\n",
       "<table border=\"1\" class=\"dataframe\">\n",
       "  <thead>\n",
       "    <tr style=\"text-align: right;\">\n",
       "      <th></th>\n",
       "      <th>Carrera</th>\n",
       "      <th>Nombre</th>\n",
       "      <th>Id Carrera</th>\n",
       "      <th>Id Modalidad</th>\n",
       "    </tr>\n",
       "  </thead>\n",
       "  <tbody>\n",
       "    <tr>\n",
       "      <th>0</th>\n",
       "      <td>ARQUITECTURA Y URBANISMO</td>\n",
       "      <td>Benjamin Bacab Quiñonez</td>\n",
       "      <td>AU</td>\n",
       "      <td>3</td>\n",
       "    </tr>\n",
       "    <tr>\n",
       "      <th>1</th>\n",
       "      <td>ELECTRICIDAD Y GENERACION DE ENERGIA</td>\n",
       "      <td>Lara Calderón Obrador</td>\n",
       "      <td>EGE</td>\n",
       "      <td>4</td>\n",
       "    </tr>\n",
       "    <tr>\n",
       "      <th>2</th>\n",
       "      <td>ELECTRICIDAD Y GENERACION DE ENERGIA</td>\n",
       "      <td>Eugene Morales Verdejo</td>\n",
       "      <td>EGE</td>\n",
       "      <td>3</td>\n",
       "    </tr>\n",
       "    <tr>\n",
       "      <th>3</th>\n",
       "      <td>ELECTRICIDAD Y GENERACION DE ENERGIA</td>\n",
       "      <td>Sarah Gallegos Carranza</td>\n",
       "      <td>EGE</td>\n",
       "      <td>1</td>\n",
       "    </tr>\n",
       "    <tr>\n",
       "      <th>4</th>\n",
       "      <td>ELECTRICIDAD Y AUTOMATIZACION</td>\n",
       "      <td>Olivia Maldonado Dueñas</td>\n",
       "      <td>EA</td>\n",
       "      <td>4</td>\n",
       "    </tr>\n",
       "    <tr>\n",
       "      <th>5</th>\n",
       "      <td>INGENIERIA QUIMICA</td>\n",
       "      <td>Federico Olvera Castro</td>\n",
       "      <td>IQ</td>\n",
       "      <td>1</td>\n",
       "    </tr>\n",
       "    <tr>\n",
       "      <th>6</th>\n",
       "      <td>INGENIERIA EN SISTEMAS COMPUTACIONALES</td>\n",
       "      <td>Jamir Vázquez Urrutia</td>\n",
       "      <td>ISC</td>\n",
       "      <td>4</td>\n",
       "    </tr>\n",
       "    <tr>\n",
       "      <th>7</th>\n",
       "      <td>INGENIERIA EN SISTEMAS COMPUTACIONALES</td>\n",
       "      <td>Eddie Dueñas Piñeda</td>\n",
       "      <td>ISC</td>\n",
       "      <td>4</td>\n",
       "    </tr>\n",
       "    <tr>\n",
       "      <th>8</th>\n",
       "      <td>INGENIERIA EN SISTEMAS COMPUTACIONALES</td>\n",
       "      <td>Silvana Santos Lacy</td>\n",
       "      <td>ISC</td>\n",
       "      <td>4</td>\n",
       "    </tr>\n",
       "    <tr>\n",
       "      <th>9</th>\n",
       "      <td>INGENIERIA EN SISTEMAS COMPUTACIONALES</td>\n",
       "      <td>Pablo Gabilondo Halabe</td>\n",
       "      <td>ISC</td>\n",
       "      <td>4</td>\n",
       "    </tr>\n",
       "    <tr>\n",
       "      <th>10</th>\n",
       "      <td>INGENIERIA EN SISTEMAS COMPUTACIONALES</td>\n",
       "      <td>Adrián García Pascual</td>\n",
       "      <td>ISC</td>\n",
       "      <td>3</td>\n",
       "    </tr>\n",
       "    <tr>\n",
       "      <th>11</th>\n",
       "      <td>INGENIERIA EN SISTEMAS COMPUTACIONALES</td>\n",
       "      <td>Paul Saucedo Orea</td>\n",
       "      <td>ISC</td>\n",
       "      <td>1</td>\n",
       "    </tr>\n",
       "    <tr>\n",
       "      <th>12</th>\n",
       "      <td>INGENIERIA EN SISTEMAS COMPUTACIONALES</td>\n",
       "      <td>Cristina Uribe Vital</td>\n",
       "      <td>ISC</td>\n",
       "      <td>1</td>\n",
       "    </tr>\n",
       "    <tr>\n",
       "      <th>13</th>\n",
       "      <td>TECNOLOGIAS DE LA INFORMACION Y COMUNICACIÓN</td>\n",
       "      <td>Alex Villareal Vadillo</td>\n",
       "      <td>TIC</td>\n",
       "      <td>2</td>\n",
       "    </tr>\n",
       "    <tr>\n",
       "      <th>14</th>\n",
       "      <td>TECNOLOGIAS DE LA INFORMACION Y COMUNICACIÓN</td>\n",
       "      <td>Claudia Núñez Ochoa</td>\n",
       "      <td>TIC</td>\n",
       "      <td>1</td>\n",
       "    </tr>\n",
       "  </tbody>\n",
       "</table>\n",
       "</div>"
      ],
      "text/plain": [
       "                                         Carrera                   Nombre  \\\n",
       "0                       ARQUITECTURA Y URBANISMO  Benjamin Bacab Quiñonez   \n",
       "1           ELECTRICIDAD Y GENERACION DE ENERGIA    Lara Calderón Obrador   \n",
       "2           ELECTRICIDAD Y GENERACION DE ENERGIA   Eugene Morales Verdejo   \n",
       "3           ELECTRICIDAD Y GENERACION DE ENERGIA  Sarah Gallegos Carranza   \n",
       "4                  ELECTRICIDAD Y AUTOMATIZACION  Olivia Maldonado Dueñas   \n",
       "5                             INGENIERIA QUIMICA   Federico Olvera Castro   \n",
       "6         INGENIERIA EN SISTEMAS COMPUTACIONALES    Jamir Vázquez Urrutia   \n",
       "7         INGENIERIA EN SISTEMAS COMPUTACIONALES      Eddie Dueñas Piñeda   \n",
       "8         INGENIERIA EN SISTEMAS COMPUTACIONALES      Silvana Santos Lacy   \n",
       "9         INGENIERIA EN SISTEMAS COMPUTACIONALES   Pablo Gabilondo Halabe   \n",
       "10        INGENIERIA EN SISTEMAS COMPUTACIONALES    Adrián García Pascual   \n",
       "11        INGENIERIA EN SISTEMAS COMPUTACIONALES        Paul Saucedo Orea   \n",
       "12        INGENIERIA EN SISTEMAS COMPUTACIONALES     Cristina Uribe Vital   \n",
       "13  TECNOLOGIAS DE LA INFORMACION Y COMUNICACIÓN   Alex Villareal Vadillo   \n",
       "14  TECNOLOGIAS DE LA INFORMACION Y COMUNICACIÓN      Claudia Núñez Ochoa   \n",
       "\n",
       "   Id Carrera  Id Modalidad  \n",
       "0          AU             3  \n",
       "1         EGE             4  \n",
       "2         EGE             3  \n",
       "3         EGE             1  \n",
       "4          EA             4  \n",
       "5          IQ             1  \n",
       "6         ISC             4  \n",
       "7         ISC             4  \n",
       "8         ISC             4  \n",
       "9         ISC             4  \n",
       "10        ISC             3  \n",
       "11        ISC             1  \n",
       "12        ISC             1  \n",
       "13        TIC             2  \n",
       "14        TIC             1  "
      ]
     },
     "execution_count": 19,
     "metadata": {},
     "output_type": "execute_result"
    }
   ],
   "source": [
    "pd.merge(Carreras,Alumnos,left_on=\"Clave\", right_on=\"Id Carrera\")"
   ]
  },
  {
   "cell_type": "code",
   "execution_count": null,
   "id": "43f6e8b5-fce9-4d0d-993b-1a99c1d18872",
   "metadata": {},
   "outputs": [],
   "source": []
  },
  {
   "cell_type": "markdown",
   "id": "5db2481f-cf63-4ba3-95a1-93ce41e6fdde",
   "metadata": {},
   "source": [
    "__Ejercicio 11:__"
   ]
  },
  {
   "cell_type": "markdown",
   "id": "777b6380-14fb-43cb-b6f0-d7b5faaa8bac",
   "metadata": {},
   "source": [
    "Utilizar la funcion merge para unir los DataFrame \"carreras\" y \"alumnos\", para comparar:\n",
    "- Utilizar la columna \"Clave\" en el DataFrame \"carreras\"\n",
    "- Utilizar la columna \"Id Carrera\" en el DaraFrame \"alumnos\"\n",
    "- Utilizar una unión derecha"
   ]
  },
  {
   "cell_type": "code",
   "execution_count": 24,
   "id": "7ae2d6b4-6e9c-486f-b138-9e16449fa4c1",
   "metadata": {},
   "outputs": [
    {
     "data": {
      "application/vnd.microsoft.datawrangler.viewer.v0+json": {
       "columns": [
        {
         "name": "index",
         "rawType": "int64",
         "type": "integer"
        },
        {
         "name": "Carrera",
         "rawType": "object",
         "type": "unknown"
        },
        {
         "name": "Nombre",
         "rawType": "object",
         "type": "string"
        },
        {
         "name": "Id Carrera",
         "rawType": "object",
         "type": "unknown"
        },
        {
         "name": "Id Modalidad",
         "rawType": "int64",
         "type": "integer"
        }
       ],
       "ref": "d2d9a313-5760-4a42-ab60-e8266abb87e5",
       "rows": [
        [
         "0",
         "INGENIERIA QUIMICA",
         "Federico Olvera Castro",
         "IQ",
         "1"
        ],
        [
         "1",
         "ELECTRICIDAD Y GENERACION DE ENERGIA",
         "Lara Calderón Obrador",
         "EGE",
         "4"
        ],
        [
         "2",
         "INGENIERIA EN SISTEMAS COMPUTACIONALES",
         "Jamir Vázquez Urrutia",
         "ISC",
         "4"
        ],
        [
         "3",
         "INGENIERIA EN SISTEMAS COMPUTACIONALES",
         "Eddie Dueñas Piñeda",
         "ISC",
         "4"
        ],
        [
         "4",
         "TECNOLOGIAS DE LA INFORMACION Y COMUNICACIÓN",
         "Alex Villareal Vadillo",
         "TIC",
         "2"
        ],
        [
         "5",
         "INGENIERIA EN SISTEMAS COMPUTACIONALES",
         "Silvana Santos Lacy",
         "ISC",
         "4"
        ],
        [
         "6",
         "INGENIERIA EN SISTEMAS COMPUTACIONALES",
         "Pablo Gabilondo Halabe",
         "ISC",
         "4"
        ],
        [
         "7",
         "ELECTRICIDAD Y AUTOMATIZACION",
         "Olivia Maldonado Dueñas",
         "EA",
         "4"
        ],
        [
         "8",
         "INGENIERIA EN SISTEMAS COMPUTACIONALES",
         "Adrián García Pascual",
         "ISC",
         "3"
        ],
        [
         "9",
         "ELECTRICIDAD Y GENERACION DE ENERGIA",
         "Eugene Morales Verdejo",
         "EGE",
         "3"
        ],
        [
         "10",
         "ARQUITECTURA Y URBANISMO",
         "Benjamin Bacab Quiñonez",
         "AU",
         "3"
        ],
        [
         "11",
         "TECNOLOGIAS DE LA INFORMACION Y COMUNICACIÓN",
         "Claudia Núñez Ochoa",
         "TIC",
         "1"
        ],
        [
         "12",
         null,
         "Graciela Manzanilla Alcocer",
         null,
         "4"
        ],
        [
         "13",
         "ELECTRICIDAD Y GENERACION DE ENERGIA",
         "Sarah Gallegos Carranza",
         "EGE",
         "1"
        ],
        [
         "14",
         "INGENIERIA EN SISTEMAS COMPUTACIONALES",
         "Paul Saucedo Orea",
         "ISC",
         "1"
        ],
        [
         "15",
         "INGENIERIA EN SISTEMAS COMPUTACIONALES",
         "Cristina Uribe Vital",
         "ISC",
         "1"
        ]
       ],
       "shape": {
        "columns": 4,
        "rows": 16
       }
      },
      "text/html": [
       "<div>\n",
       "<style scoped>\n",
       "    .dataframe tbody tr th:only-of-type {\n",
       "        vertical-align: middle;\n",
       "    }\n",
       "\n",
       "    .dataframe tbody tr th {\n",
       "        vertical-align: top;\n",
       "    }\n",
       "\n",
       "    .dataframe thead th {\n",
       "        text-align: right;\n",
       "    }\n",
       "</style>\n",
       "<table border=\"1\" class=\"dataframe\">\n",
       "  <thead>\n",
       "    <tr style=\"text-align: right;\">\n",
       "      <th></th>\n",
       "      <th>Carrera</th>\n",
       "      <th>Nombre</th>\n",
       "      <th>Id Carrera</th>\n",
       "      <th>Id Modalidad</th>\n",
       "    </tr>\n",
       "  </thead>\n",
       "  <tbody>\n",
       "    <tr>\n",
       "      <th>0</th>\n",
       "      <td>INGENIERIA QUIMICA</td>\n",
       "      <td>Federico Olvera Castro</td>\n",
       "      <td>IQ</td>\n",
       "      <td>1</td>\n",
       "    </tr>\n",
       "    <tr>\n",
       "      <th>1</th>\n",
       "      <td>ELECTRICIDAD Y GENERACION DE ENERGIA</td>\n",
       "      <td>Lara Calderón Obrador</td>\n",
       "      <td>EGE</td>\n",
       "      <td>4</td>\n",
       "    </tr>\n",
       "    <tr>\n",
       "      <th>2</th>\n",
       "      <td>INGENIERIA EN SISTEMAS COMPUTACIONALES</td>\n",
       "      <td>Jamir Vázquez Urrutia</td>\n",
       "      <td>ISC</td>\n",
       "      <td>4</td>\n",
       "    </tr>\n",
       "    <tr>\n",
       "      <th>3</th>\n",
       "      <td>INGENIERIA EN SISTEMAS COMPUTACIONALES</td>\n",
       "      <td>Eddie Dueñas Piñeda</td>\n",
       "      <td>ISC</td>\n",
       "      <td>4</td>\n",
       "    </tr>\n",
       "    <tr>\n",
       "      <th>4</th>\n",
       "      <td>TECNOLOGIAS DE LA INFORMACION Y COMUNICACIÓN</td>\n",
       "      <td>Alex Villareal Vadillo</td>\n",
       "      <td>TIC</td>\n",
       "      <td>2</td>\n",
       "    </tr>\n",
       "    <tr>\n",
       "      <th>5</th>\n",
       "      <td>INGENIERIA EN SISTEMAS COMPUTACIONALES</td>\n",
       "      <td>Silvana Santos Lacy</td>\n",
       "      <td>ISC</td>\n",
       "      <td>4</td>\n",
       "    </tr>\n",
       "    <tr>\n",
       "      <th>6</th>\n",
       "      <td>INGENIERIA EN SISTEMAS COMPUTACIONALES</td>\n",
       "      <td>Pablo Gabilondo Halabe</td>\n",
       "      <td>ISC</td>\n",
       "      <td>4</td>\n",
       "    </tr>\n",
       "    <tr>\n",
       "      <th>7</th>\n",
       "      <td>ELECTRICIDAD Y AUTOMATIZACION</td>\n",
       "      <td>Olivia Maldonado Dueñas</td>\n",
       "      <td>EA</td>\n",
       "      <td>4</td>\n",
       "    </tr>\n",
       "    <tr>\n",
       "      <th>8</th>\n",
       "      <td>INGENIERIA EN SISTEMAS COMPUTACIONALES</td>\n",
       "      <td>Adrián García Pascual</td>\n",
       "      <td>ISC</td>\n",
       "      <td>3</td>\n",
       "    </tr>\n",
       "    <tr>\n",
       "      <th>9</th>\n",
       "      <td>ELECTRICIDAD Y GENERACION DE ENERGIA</td>\n",
       "      <td>Eugene Morales Verdejo</td>\n",
       "      <td>EGE</td>\n",
       "      <td>3</td>\n",
       "    </tr>\n",
       "    <tr>\n",
       "      <th>10</th>\n",
       "      <td>ARQUITECTURA Y URBANISMO</td>\n",
       "      <td>Benjamin Bacab Quiñonez</td>\n",
       "      <td>AU</td>\n",
       "      <td>3</td>\n",
       "    </tr>\n",
       "    <tr>\n",
       "      <th>11</th>\n",
       "      <td>TECNOLOGIAS DE LA INFORMACION Y COMUNICACIÓN</td>\n",
       "      <td>Claudia Núñez Ochoa</td>\n",
       "      <td>TIC</td>\n",
       "      <td>1</td>\n",
       "    </tr>\n",
       "    <tr>\n",
       "      <th>12</th>\n",
       "      <td>NaN</td>\n",
       "      <td>Graciela Manzanilla Alcocer</td>\n",
       "      <td>NaN</td>\n",
       "      <td>4</td>\n",
       "    </tr>\n",
       "    <tr>\n",
       "      <th>13</th>\n",
       "      <td>ELECTRICIDAD Y GENERACION DE ENERGIA</td>\n",
       "      <td>Sarah Gallegos Carranza</td>\n",
       "      <td>EGE</td>\n",
       "      <td>1</td>\n",
       "    </tr>\n",
       "    <tr>\n",
       "      <th>14</th>\n",
       "      <td>INGENIERIA EN SISTEMAS COMPUTACIONALES</td>\n",
       "      <td>Paul Saucedo Orea</td>\n",
       "      <td>ISC</td>\n",
       "      <td>1</td>\n",
       "    </tr>\n",
       "    <tr>\n",
       "      <th>15</th>\n",
       "      <td>INGENIERIA EN SISTEMAS COMPUTACIONALES</td>\n",
       "      <td>Cristina Uribe Vital</td>\n",
       "      <td>ISC</td>\n",
       "      <td>1</td>\n",
       "    </tr>\n",
       "  </tbody>\n",
       "</table>\n",
       "</div>"
      ],
      "text/plain": [
       "                                         Carrera                       Nombre  \\\n",
       "0                             INGENIERIA QUIMICA       Federico Olvera Castro   \n",
       "1           ELECTRICIDAD Y GENERACION DE ENERGIA        Lara Calderón Obrador   \n",
       "2         INGENIERIA EN SISTEMAS COMPUTACIONALES        Jamir Vázquez Urrutia   \n",
       "3         INGENIERIA EN SISTEMAS COMPUTACIONALES          Eddie Dueñas Piñeda   \n",
       "4   TECNOLOGIAS DE LA INFORMACION Y COMUNICACIÓN       Alex Villareal Vadillo   \n",
       "5         INGENIERIA EN SISTEMAS COMPUTACIONALES          Silvana Santos Lacy   \n",
       "6         INGENIERIA EN SISTEMAS COMPUTACIONALES       Pablo Gabilondo Halabe   \n",
       "7                  ELECTRICIDAD Y AUTOMATIZACION      Olivia Maldonado Dueñas   \n",
       "8         INGENIERIA EN SISTEMAS COMPUTACIONALES        Adrián García Pascual   \n",
       "9           ELECTRICIDAD Y GENERACION DE ENERGIA       Eugene Morales Verdejo   \n",
       "10                      ARQUITECTURA Y URBANISMO      Benjamin Bacab Quiñonez   \n",
       "11  TECNOLOGIAS DE LA INFORMACION Y COMUNICACIÓN          Claudia Núñez Ochoa   \n",
       "12                                           NaN  Graciela Manzanilla Alcocer   \n",
       "13          ELECTRICIDAD Y GENERACION DE ENERGIA      Sarah Gallegos Carranza   \n",
       "14        INGENIERIA EN SISTEMAS COMPUTACIONALES            Paul Saucedo Orea   \n",
       "15        INGENIERIA EN SISTEMAS COMPUTACIONALES         Cristina Uribe Vital   \n",
       "\n",
       "   Id Carrera  Id Modalidad  \n",
       "0          IQ             1  \n",
       "1         EGE             4  \n",
       "2         ISC             4  \n",
       "3         ISC             4  \n",
       "4         TIC             2  \n",
       "5         ISC             4  \n",
       "6         ISC             4  \n",
       "7          EA             4  \n",
       "8         ISC             3  \n",
       "9         EGE             3  \n",
       "10         AU             3  \n",
       "11        TIC             1  \n",
       "12        NaN             4  \n",
       "13        EGE             1  \n",
       "14        ISC             1  \n",
       "15        ISC             1  "
      ]
     },
     "execution_count": 24,
     "metadata": {},
     "output_type": "execute_result"
    }
   ],
   "source": [
    "pd.merge(Carreras,Alumnos,left_on=\"Clave\",right_on=\"Id Carrera\",how=\"right\")"
   ]
  },
  {
   "cell_type": "code",
   "execution_count": null,
   "id": "4352fe12-879d-4531-b588-85c175c45c58",
   "metadata": {},
   "outputs": [],
   "source": []
  },
  {
   "cell_type": "markdown",
   "id": "63cc7dbe-bf98-46de-b9c8-3b2a1ae06cff",
   "metadata": {},
   "source": [
    "__Ejercicio 12:__"
   ]
  },
  {
   "cell_type": "markdown",
   "id": "77b46821-a788-4a48-a23b-e8c93eebe44f",
   "metadata": {},
   "source": [
    "Indicar la tabla de origen de cada fila en el DataFrame anterior"
   ]
  },
  {
   "cell_type": "code",
   "execution_count": 25,
   "id": "d1dbe033-e1e2-4e55-aeab-323065ea169e",
   "metadata": {},
   "outputs": [
    {
     "data": {
      "application/vnd.microsoft.datawrangler.viewer.v0+json": {
       "columns": [
        {
         "name": "index",
         "rawType": "int64",
         "type": "integer"
        },
        {
         "name": "Carrera",
         "rawType": "object",
         "type": "unknown"
        },
        {
         "name": "Nombre",
         "rawType": "object",
         "type": "string"
        },
        {
         "name": "Id Carrera",
         "rawType": "object",
         "type": "unknown"
        },
        {
         "name": "Id Modalidad",
         "rawType": "int64",
         "type": "integer"
        },
        {
         "name": "_merge",
         "rawType": "category",
         "type": "unknown"
        }
       ],
       "ref": "34c93fcf-dcda-4a2d-96e1-98105697e37c",
       "rows": [
        [
         "0",
         "INGENIERIA QUIMICA",
         "Federico Olvera Castro",
         "IQ",
         "1",
         "both"
        ],
        [
         "1",
         "ELECTRICIDAD Y GENERACION DE ENERGIA",
         "Lara Calderón Obrador",
         "EGE",
         "4",
         "both"
        ],
        [
         "2",
         "INGENIERIA EN SISTEMAS COMPUTACIONALES",
         "Jamir Vázquez Urrutia",
         "ISC",
         "4",
         "both"
        ],
        [
         "3",
         "INGENIERIA EN SISTEMAS COMPUTACIONALES",
         "Eddie Dueñas Piñeda",
         "ISC",
         "4",
         "both"
        ],
        [
         "4",
         "TECNOLOGIAS DE LA INFORMACION Y COMUNICACIÓN",
         "Alex Villareal Vadillo",
         "TIC",
         "2",
         "both"
        ],
        [
         "5",
         "INGENIERIA EN SISTEMAS COMPUTACIONALES",
         "Silvana Santos Lacy",
         "ISC",
         "4",
         "both"
        ],
        [
         "6",
         "INGENIERIA EN SISTEMAS COMPUTACIONALES",
         "Pablo Gabilondo Halabe",
         "ISC",
         "4",
         "both"
        ],
        [
         "7",
         "ELECTRICIDAD Y AUTOMATIZACION",
         "Olivia Maldonado Dueñas",
         "EA",
         "4",
         "both"
        ],
        [
         "8",
         "INGENIERIA EN SISTEMAS COMPUTACIONALES",
         "Adrián García Pascual",
         "ISC",
         "3",
         "both"
        ],
        [
         "9",
         "ELECTRICIDAD Y GENERACION DE ENERGIA",
         "Eugene Morales Verdejo",
         "EGE",
         "3",
         "both"
        ],
        [
         "10",
         "ARQUITECTURA Y URBANISMO",
         "Benjamin Bacab Quiñonez",
         "AU",
         "3",
         "both"
        ],
        [
         "11",
         "TECNOLOGIAS DE LA INFORMACION Y COMUNICACIÓN",
         "Claudia Núñez Ochoa",
         "TIC",
         "1",
         "both"
        ],
        [
         "12",
         null,
         "Graciela Manzanilla Alcocer",
         null,
         "4",
         "right_only"
        ],
        [
         "13",
         "ELECTRICIDAD Y GENERACION DE ENERGIA",
         "Sarah Gallegos Carranza",
         "EGE",
         "1",
         "both"
        ],
        [
         "14",
         "INGENIERIA EN SISTEMAS COMPUTACIONALES",
         "Paul Saucedo Orea",
         "ISC",
         "1",
         "both"
        ],
        [
         "15",
         "INGENIERIA EN SISTEMAS COMPUTACIONALES",
         "Cristina Uribe Vital",
         "ISC",
         "1",
         "both"
        ]
       ],
       "shape": {
        "columns": 5,
        "rows": 16
       }
      },
      "text/html": [
       "<div>\n",
       "<style scoped>\n",
       "    .dataframe tbody tr th:only-of-type {\n",
       "        vertical-align: middle;\n",
       "    }\n",
       "\n",
       "    .dataframe tbody tr th {\n",
       "        vertical-align: top;\n",
       "    }\n",
       "\n",
       "    .dataframe thead th {\n",
       "        text-align: right;\n",
       "    }\n",
       "</style>\n",
       "<table border=\"1\" class=\"dataframe\">\n",
       "  <thead>\n",
       "    <tr style=\"text-align: right;\">\n",
       "      <th></th>\n",
       "      <th>Carrera</th>\n",
       "      <th>Nombre</th>\n",
       "      <th>Id Carrera</th>\n",
       "      <th>Id Modalidad</th>\n",
       "      <th>_merge</th>\n",
       "    </tr>\n",
       "  </thead>\n",
       "  <tbody>\n",
       "    <tr>\n",
       "      <th>0</th>\n",
       "      <td>INGENIERIA QUIMICA</td>\n",
       "      <td>Federico Olvera Castro</td>\n",
       "      <td>IQ</td>\n",
       "      <td>1</td>\n",
       "      <td>both</td>\n",
       "    </tr>\n",
       "    <tr>\n",
       "      <th>1</th>\n",
       "      <td>ELECTRICIDAD Y GENERACION DE ENERGIA</td>\n",
       "      <td>Lara Calderón Obrador</td>\n",
       "      <td>EGE</td>\n",
       "      <td>4</td>\n",
       "      <td>both</td>\n",
       "    </tr>\n",
       "    <tr>\n",
       "      <th>2</th>\n",
       "      <td>INGENIERIA EN SISTEMAS COMPUTACIONALES</td>\n",
       "      <td>Jamir Vázquez Urrutia</td>\n",
       "      <td>ISC</td>\n",
       "      <td>4</td>\n",
       "      <td>both</td>\n",
       "    </tr>\n",
       "    <tr>\n",
       "      <th>3</th>\n",
       "      <td>INGENIERIA EN SISTEMAS COMPUTACIONALES</td>\n",
       "      <td>Eddie Dueñas Piñeda</td>\n",
       "      <td>ISC</td>\n",
       "      <td>4</td>\n",
       "      <td>both</td>\n",
       "    </tr>\n",
       "    <tr>\n",
       "      <th>4</th>\n",
       "      <td>TECNOLOGIAS DE LA INFORMACION Y COMUNICACIÓN</td>\n",
       "      <td>Alex Villareal Vadillo</td>\n",
       "      <td>TIC</td>\n",
       "      <td>2</td>\n",
       "      <td>both</td>\n",
       "    </tr>\n",
       "    <tr>\n",
       "      <th>5</th>\n",
       "      <td>INGENIERIA EN SISTEMAS COMPUTACIONALES</td>\n",
       "      <td>Silvana Santos Lacy</td>\n",
       "      <td>ISC</td>\n",
       "      <td>4</td>\n",
       "      <td>both</td>\n",
       "    </tr>\n",
       "    <tr>\n",
       "      <th>6</th>\n",
       "      <td>INGENIERIA EN SISTEMAS COMPUTACIONALES</td>\n",
       "      <td>Pablo Gabilondo Halabe</td>\n",
       "      <td>ISC</td>\n",
       "      <td>4</td>\n",
       "      <td>both</td>\n",
       "    </tr>\n",
       "    <tr>\n",
       "      <th>7</th>\n",
       "      <td>ELECTRICIDAD Y AUTOMATIZACION</td>\n",
       "      <td>Olivia Maldonado Dueñas</td>\n",
       "      <td>EA</td>\n",
       "      <td>4</td>\n",
       "      <td>both</td>\n",
       "    </tr>\n",
       "    <tr>\n",
       "      <th>8</th>\n",
       "      <td>INGENIERIA EN SISTEMAS COMPUTACIONALES</td>\n",
       "      <td>Adrián García Pascual</td>\n",
       "      <td>ISC</td>\n",
       "      <td>3</td>\n",
       "      <td>both</td>\n",
       "    </tr>\n",
       "    <tr>\n",
       "      <th>9</th>\n",
       "      <td>ELECTRICIDAD Y GENERACION DE ENERGIA</td>\n",
       "      <td>Eugene Morales Verdejo</td>\n",
       "      <td>EGE</td>\n",
       "      <td>3</td>\n",
       "      <td>both</td>\n",
       "    </tr>\n",
       "    <tr>\n",
       "      <th>10</th>\n",
       "      <td>ARQUITECTURA Y URBANISMO</td>\n",
       "      <td>Benjamin Bacab Quiñonez</td>\n",
       "      <td>AU</td>\n",
       "      <td>3</td>\n",
       "      <td>both</td>\n",
       "    </tr>\n",
       "    <tr>\n",
       "      <th>11</th>\n",
       "      <td>TECNOLOGIAS DE LA INFORMACION Y COMUNICACIÓN</td>\n",
       "      <td>Claudia Núñez Ochoa</td>\n",
       "      <td>TIC</td>\n",
       "      <td>1</td>\n",
       "      <td>both</td>\n",
       "    </tr>\n",
       "    <tr>\n",
       "      <th>12</th>\n",
       "      <td>NaN</td>\n",
       "      <td>Graciela Manzanilla Alcocer</td>\n",
       "      <td>NaN</td>\n",
       "      <td>4</td>\n",
       "      <td>right_only</td>\n",
       "    </tr>\n",
       "    <tr>\n",
       "      <th>13</th>\n",
       "      <td>ELECTRICIDAD Y GENERACION DE ENERGIA</td>\n",
       "      <td>Sarah Gallegos Carranza</td>\n",
       "      <td>EGE</td>\n",
       "      <td>1</td>\n",
       "      <td>both</td>\n",
       "    </tr>\n",
       "    <tr>\n",
       "      <th>14</th>\n",
       "      <td>INGENIERIA EN SISTEMAS COMPUTACIONALES</td>\n",
       "      <td>Paul Saucedo Orea</td>\n",
       "      <td>ISC</td>\n",
       "      <td>1</td>\n",
       "      <td>both</td>\n",
       "    </tr>\n",
       "    <tr>\n",
       "      <th>15</th>\n",
       "      <td>INGENIERIA EN SISTEMAS COMPUTACIONALES</td>\n",
       "      <td>Cristina Uribe Vital</td>\n",
       "      <td>ISC</td>\n",
       "      <td>1</td>\n",
       "      <td>both</td>\n",
       "    </tr>\n",
       "  </tbody>\n",
       "</table>\n",
       "</div>"
      ],
      "text/plain": [
       "                                         Carrera                       Nombre  \\\n",
       "0                             INGENIERIA QUIMICA       Federico Olvera Castro   \n",
       "1           ELECTRICIDAD Y GENERACION DE ENERGIA        Lara Calderón Obrador   \n",
       "2         INGENIERIA EN SISTEMAS COMPUTACIONALES        Jamir Vázquez Urrutia   \n",
       "3         INGENIERIA EN SISTEMAS COMPUTACIONALES          Eddie Dueñas Piñeda   \n",
       "4   TECNOLOGIAS DE LA INFORMACION Y COMUNICACIÓN       Alex Villareal Vadillo   \n",
       "5         INGENIERIA EN SISTEMAS COMPUTACIONALES          Silvana Santos Lacy   \n",
       "6         INGENIERIA EN SISTEMAS COMPUTACIONALES       Pablo Gabilondo Halabe   \n",
       "7                  ELECTRICIDAD Y AUTOMATIZACION      Olivia Maldonado Dueñas   \n",
       "8         INGENIERIA EN SISTEMAS COMPUTACIONALES        Adrián García Pascual   \n",
       "9           ELECTRICIDAD Y GENERACION DE ENERGIA       Eugene Morales Verdejo   \n",
       "10                      ARQUITECTURA Y URBANISMO      Benjamin Bacab Quiñonez   \n",
       "11  TECNOLOGIAS DE LA INFORMACION Y COMUNICACIÓN          Claudia Núñez Ochoa   \n",
       "12                                           NaN  Graciela Manzanilla Alcocer   \n",
       "13          ELECTRICIDAD Y GENERACION DE ENERGIA      Sarah Gallegos Carranza   \n",
       "14        INGENIERIA EN SISTEMAS COMPUTACIONALES            Paul Saucedo Orea   \n",
       "15        INGENIERIA EN SISTEMAS COMPUTACIONALES         Cristina Uribe Vital   \n",
       "\n",
       "   Id Carrera  Id Modalidad      _merge  \n",
       "0          IQ             1        both  \n",
       "1         EGE             4        both  \n",
       "2         ISC             4        both  \n",
       "3         ISC             4        both  \n",
       "4         TIC             2        both  \n",
       "5         ISC             4        both  \n",
       "6         ISC             4        both  \n",
       "7          EA             4        both  \n",
       "8         ISC             3        both  \n",
       "9         EGE             3        both  \n",
       "10         AU             3        both  \n",
       "11        TIC             1        both  \n",
       "12        NaN             4  right_only  \n",
       "13        EGE             1        both  \n",
       "14        ISC             1        both  \n",
       "15        ISC             1        both  "
      ]
     },
     "execution_count": 25,
     "metadata": {},
     "output_type": "execute_result"
    }
   ],
   "source": [
    "pd.merge(Carreras,Alumnos,left_on=\"Clave\",right_on=\"Id Carrera\",how=\"right\",indicator=True)"
   ]
  },
  {
   "cell_type": "markdown",
   "id": "6a3d76fd-0bac-4402-b3f3-fcd99163f3ab",
   "metadata": {},
   "source": [
    "__Ejercicio 13:__"
   ]
  },
  {
   "cell_type": "markdown",
   "id": "537ac224-f6d5-4540-b062-f0be55cb911d",
   "metadata": {},
   "source": [
    "Utilizar pandas para importar los datos en la hoja \"Maestros\" del archivo \"escuela.xlsx\" en la variable \"maestros\""
   ]
  },
  {
   "cell_type": "code",
   "execution_count": 26,
   "id": "476ae358-2a9a-4dc4-92c6-98e9402b0b10",
   "metadata": {},
   "outputs": [],
   "source": [
    "Maestros = pd.read_excel(\"./escuela.xlsx\",sheet_name=\"Maestros\",index_col=\"Cedula\")"
   ]
  },
  {
   "cell_type": "code",
   "execution_count": 27,
   "id": "10d0e4cc-2318-4758-a06d-b55d76d28a32",
   "metadata": {},
   "outputs": [
    {
     "data": {
      "application/vnd.microsoft.datawrangler.viewer.v0+json": {
       "columns": [
        {
         "name": "Cedula",
         "rawType": "int64",
         "type": "integer"
        },
        {
         "name": "Nombre",
         "rawType": "object",
         "type": "string"
        },
        {
         "name": "Carrera",
         "rawType": "object",
         "type": "string"
        }
       ],
       "ref": "00c979df-7394-453d-a670-fd3d51dc7207",
       "rows": [
        [
         "80105663",
         "Rodrigo Cruz Valle",
         "Ing. Sistemas Computacionales"
        ],
        [
         "76790564",
         "Yessica Campos Gonzáles ",
         "Ing. Electromecanica"
        ],
        [
         "21463540",
         "Javier Uribe Castaño",
         "Ing. Electrica"
        ],
        [
         "50440541",
         "Alfonso Navarro Barrera",
         "Ing. Industrial"
        ]
       ],
       "shape": {
        "columns": 2,
        "rows": 4
       }
      },
      "text/html": [
       "<div>\n",
       "<style scoped>\n",
       "    .dataframe tbody tr th:only-of-type {\n",
       "        vertical-align: middle;\n",
       "    }\n",
       "\n",
       "    .dataframe tbody tr th {\n",
       "        vertical-align: top;\n",
       "    }\n",
       "\n",
       "    .dataframe thead th {\n",
       "        text-align: right;\n",
       "    }\n",
       "</style>\n",
       "<table border=\"1\" class=\"dataframe\">\n",
       "  <thead>\n",
       "    <tr style=\"text-align: right;\">\n",
       "      <th></th>\n",
       "      <th>Nombre</th>\n",
       "      <th>Carrera</th>\n",
       "    </tr>\n",
       "    <tr>\n",
       "      <th>Cedula</th>\n",
       "      <th></th>\n",
       "      <th></th>\n",
       "    </tr>\n",
       "  </thead>\n",
       "  <tbody>\n",
       "    <tr>\n",
       "      <th>80105663</th>\n",
       "      <td>Rodrigo Cruz Valle</td>\n",
       "      <td>Ing. Sistemas Computacionales</td>\n",
       "    </tr>\n",
       "    <tr>\n",
       "      <th>76790564</th>\n",
       "      <td>Yessica Campos Gonzáles</td>\n",
       "      <td>Ing. Electromecanica</td>\n",
       "    </tr>\n",
       "    <tr>\n",
       "      <th>21463540</th>\n",
       "      <td>Javier Uribe Castaño</td>\n",
       "      <td>Ing. Electrica</td>\n",
       "    </tr>\n",
       "    <tr>\n",
       "      <th>50440541</th>\n",
       "      <td>Alfonso Navarro Barrera</td>\n",
       "      <td>Ing. Industrial</td>\n",
       "    </tr>\n",
       "  </tbody>\n",
       "</table>\n",
       "</div>"
      ],
      "text/plain": [
       "                            Nombre                        Carrera\n",
       "Cedula                                                           \n",
       "80105663        Rodrigo Cruz Valle  Ing. Sistemas Computacionales\n",
       "76790564  Yessica Campos Gonzáles            Ing. Electromecanica\n",
       "21463540      Javier Uribe Castaño                 Ing. Electrica\n",
       "50440541   Alfonso Navarro Barrera                Ing. Industrial"
      ]
     },
     "execution_count": 27,
     "metadata": {},
     "output_type": "execute_result"
    }
   ],
   "source": [
    "Maestros"
   ]
  },
  {
   "cell_type": "markdown",
   "id": "a8d6cb18-2d8c-4f66-97f1-42021568ccaf",
   "metadata": {},
   "source": [
    "__Ejercicio 14:__"
   ]
  },
  {
   "cell_type": "markdown",
   "id": "53525a40-6a9b-4c24-ac3a-4e300df7493c",
   "metadata": {},
   "source": [
    "Utilizar pandas para importar los datos en la hoja \"Materias\" del archivo \"escuela.xlsx\" en la variable \"materias\""
   ]
  },
  {
   "cell_type": "code",
   "execution_count": 28,
   "id": "843c4935-3794-41a9-b4eb-98cb22ff4891",
   "metadata": {},
   "outputs": [],
   "source": [
    "Materias = pd.read_excel(\"./escuela.xlsx\",sheet_name=\"Materias\",header=2,index_col=\"Id Materia\")"
   ]
  },
  {
   "cell_type": "code",
   "execution_count": 29,
   "id": "4dee13da-35dc-4601-b135-12cfaf30ebc0",
   "metadata": {},
   "outputs": [
    {
     "data": {
      "application/vnd.microsoft.datawrangler.viewer.v0+json": {
       "columns": [
        {
         "name": "Id Materia",
         "rawType": "int64",
         "type": "integer"
        },
        {
         "name": "Materia",
         "rawType": "object",
         "type": "string"
        }
       ],
       "ref": "83cdb107-cf2a-427f-bb60-0e90871739b4",
       "rows": [
        [
         "116",
         "Administración de Redes"
        ],
        [
         "229",
         "Taller de Bases de Datos"
        ],
        [
         "239",
         "Sistemas Programables"
        ],
        [
         "397",
         "Redes de Computadoras"
        ],
        [
         "434",
         "Cálculo Diferencial"
        ],
        [
         "526",
         "Programación Orientada a Objetos"
        ],
        [
         "685",
         "Métodos Numéricos"
        ],
        [
         "923",
         "Sistemas Operativos I"
        ]
       ],
       "shape": {
        "columns": 1,
        "rows": 8
       }
      },
      "text/html": [
       "<div>\n",
       "<style scoped>\n",
       "    .dataframe tbody tr th:only-of-type {\n",
       "        vertical-align: middle;\n",
       "    }\n",
       "\n",
       "    .dataframe tbody tr th {\n",
       "        vertical-align: top;\n",
       "    }\n",
       "\n",
       "    .dataframe thead th {\n",
       "        text-align: right;\n",
       "    }\n",
       "</style>\n",
       "<table border=\"1\" class=\"dataframe\">\n",
       "  <thead>\n",
       "    <tr style=\"text-align: right;\">\n",
       "      <th></th>\n",
       "      <th>Materia</th>\n",
       "    </tr>\n",
       "    <tr>\n",
       "      <th>Id Materia</th>\n",
       "      <th></th>\n",
       "    </tr>\n",
       "  </thead>\n",
       "  <tbody>\n",
       "    <tr>\n",
       "      <th>116</th>\n",
       "      <td>Administración de Redes</td>\n",
       "    </tr>\n",
       "    <tr>\n",
       "      <th>229</th>\n",
       "      <td>Taller de Bases de Datos</td>\n",
       "    </tr>\n",
       "    <tr>\n",
       "      <th>239</th>\n",
       "      <td>Sistemas Programables</td>\n",
       "    </tr>\n",
       "    <tr>\n",
       "      <th>397</th>\n",
       "      <td>Redes de Computadoras</td>\n",
       "    </tr>\n",
       "    <tr>\n",
       "      <th>434</th>\n",
       "      <td>Cálculo Diferencial</td>\n",
       "    </tr>\n",
       "    <tr>\n",
       "      <th>526</th>\n",
       "      <td>Programación Orientada a Objetos</td>\n",
       "    </tr>\n",
       "    <tr>\n",
       "      <th>685</th>\n",
       "      <td>Métodos Numéricos</td>\n",
       "    </tr>\n",
       "    <tr>\n",
       "      <th>923</th>\n",
       "      <td>Sistemas Operativos I</td>\n",
       "    </tr>\n",
       "  </tbody>\n",
       "</table>\n",
       "</div>"
      ],
      "text/plain": [
       "                                     Materia\n",
       "Id Materia                                  \n",
       "116                  Administración de Redes\n",
       "229                 Taller de Bases de Datos\n",
       "239                    Sistemas Programables\n",
       "397                    Redes de Computadoras\n",
       "434                      Cálculo Diferencial\n",
       "526         Programación Orientada a Objetos\n",
       "685                        Métodos Numéricos\n",
       "923                    Sistemas Operativos I"
      ]
     },
     "execution_count": 29,
     "metadata": {},
     "output_type": "execute_result"
    }
   ],
   "source": [
    "Materias"
   ]
  },
  {
   "cell_type": "markdown",
   "id": "a74e7d5e-4079-4430-b971-ee2366fcf821",
   "metadata": {},
   "source": [
    "__Ejercicio 15:__"
   ]
  },
  {
   "cell_type": "markdown",
   "id": "82bc4933-5c46-4366-bb53-8b6aee943661",
   "metadata": {},
   "source": [
    "Utilizar pandas para importar los datos en la hoja \"Materias\" del archivo \"escuela.xlsx\" en la variable \"materias\""
   ]
  },
  {
   "cell_type": "code",
   "execution_count": 30,
   "id": "9c8ea158-8409-4323-9bb5-abbed12b92e8",
   "metadata": {},
   "outputs": [],
   "source": [
    "Cursos = pd.read_excel(\"./escuela.xlsx\",sheet_name=\"Curso\",header=2,usecols=\"C:G\",index_col=\"Id\")"
   ]
  },
  {
   "cell_type": "code",
   "execution_count": 31,
   "id": "70d68840-0f97-4bf1-8a10-02aa061f7503",
   "metadata": {},
   "outputs": [
    {
     "data": {
      "application/vnd.microsoft.datawrangler.viewer.v0+json": {
       "columns": [
        {
         "name": "Id",
         "rawType": "int64",
         "type": "integer"
        },
        {
         "name": "Id Maestro",
         "rawType": "int64",
         "type": "integer"
        },
        {
         "name": "Id Materia",
         "rawType": "float64",
         "type": "float"
        },
        {
         "name": "Anio",
         "rawType": "int64",
         "type": "integer"
        },
        {
         "name": "Salon ",
         "rawType": "object",
         "type": "string"
        }
       ],
       "ref": "9659295b-7032-4a68-8cc8-6927a9dc8e28",
       "rows": [
        [
         "1",
         "80105663",
         "239.0",
         "2020",
         "A3"
        ],
        [
         "2",
         "80105663",
         "685.0",
         "2020",
         "A4"
        ],
        [
         "3",
         "80105663",
         "229.0",
         "2020",
         "A5"
        ],
        [
         "4",
         "76790564",
         "397.0",
         "2020",
         "B1"
        ],
        [
         "5",
         "76790564",
         null,
         "2021",
         "B2"
        ],
        [
         "6",
         "80105663",
         "116.0",
         "2021",
         "C1"
        ],
        [
         "7",
         "21463540",
         "526.0",
         "2021",
         "C5"
        ]
       ],
       "shape": {
        "columns": 4,
        "rows": 7
       }
      },
      "text/html": [
       "<div>\n",
       "<style scoped>\n",
       "    .dataframe tbody tr th:only-of-type {\n",
       "        vertical-align: middle;\n",
       "    }\n",
       "\n",
       "    .dataframe tbody tr th {\n",
       "        vertical-align: top;\n",
       "    }\n",
       "\n",
       "    .dataframe thead th {\n",
       "        text-align: right;\n",
       "    }\n",
       "</style>\n",
       "<table border=\"1\" class=\"dataframe\">\n",
       "  <thead>\n",
       "    <tr style=\"text-align: right;\">\n",
       "      <th></th>\n",
       "      <th>Id Maestro</th>\n",
       "      <th>Id Materia</th>\n",
       "      <th>Anio</th>\n",
       "      <th>Salon</th>\n",
       "    </tr>\n",
       "    <tr>\n",
       "      <th>Id</th>\n",
       "      <th></th>\n",
       "      <th></th>\n",
       "      <th></th>\n",
       "      <th></th>\n",
       "    </tr>\n",
       "  </thead>\n",
       "  <tbody>\n",
       "    <tr>\n",
       "      <th>1</th>\n",
       "      <td>80105663</td>\n",
       "      <td>239.0</td>\n",
       "      <td>2020</td>\n",
       "      <td>A3</td>\n",
       "    </tr>\n",
       "    <tr>\n",
       "      <th>2</th>\n",
       "      <td>80105663</td>\n",
       "      <td>685.0</td>\n",
       "      <td>2020</td>\n",
       "      <td>A4</td>\n",
       "    </tr>\n",
       "    <tr>\n",
       "      <th>3</th>\n",
       "      <td>80105663</td>\n",
       "      <td>229.0</td>\n",
       "      <td>2020</td>\n",
       "      <td>A5</td>\n",
       "    </tr>\n",
       "    <tr>\n",
       "      <th>4</th>\n",
       "      <td>76790564</td>\n",
       "      <td>397.0</td>\n",
       "      <td>2020</td>\n",
       "      <td>B1</td>\n",
       "    </tr>\n",
       "    <tr>\n",
       "      <th>5</th>\n",
       "      <td>76790564</td>\n",
       "      <td>NaN</td>\n",
       "      <td>2021</td>\n",
       "      <td>B2</td>\n",
       "    </tr>\n",
       "    <tr>\n",
       "      <th>6</th>\n",
       "      <td>80105663</td>\n",
       "      <td>116.0</td>\n",
       "      <td>2021</td>\n",
       "      <td>C1</td>\n",
       "    </tr>\n",
       "    <tr>\n",
       "      <th>7</th>\n",
       "      <td>21463540</td>\n",
       "      <td>526.0</td>\n",
       "      <td>2021</td>\n",
       "      <td>C5</td>\n",
       "    </tr>\n",
       "  </tbody>\n",
       "</table>\n",
       "</div>"
      ],
      "text/plain": [
       "    Id Maestro  Id Materia  Anio Salon \n",
       "Id                                     \n",
       "1     80105663       239.0  2020     A3\n",
       "2     80105663       685.0  2020     A4\n",
       "3     80105663       229.0  2020     A5\n",
       "4     76790564       397.0  2020     B1\n",
       "5     76790564         NaN  2021     B2\n",
       "6     80105663       116.0  2021     C1\n",
       "7     21463540       526.0  2021     C5"
      ]
     },
     "execution_count": 31,
     "metadata": {},
     "output_type": "execute_result"
    }
   ],
   "source": [
    "Cursos"
   ]
  },
  {
   "cell_type": "markdown",
   "id": "59a3ab6d-ae87-48b3-a743-e795571f170c",
   "metadata": {},
   "source": [
    "__Ejercicio 16:__"
   ]
  },
  {
   "cell_type": "markdown",
   "id": "f4608898-e421-474a-9989-de3ca0411a17",
   "metadata": {},
   "source": [
    "Utilizar la función join para unir los dataframe cursos y maestros en base a la columna \"Id Carrera\""
   ]
  },
  {
   "cell_type": "code",
   "execution_count": 32,
   "id": "d6a3968b-52d8-41c1-9cf4-a9ca7899f255",
   "metadata": {},
   "outputs": [
    {
     "data": {
      "application/vnd.microsoft.datawrangler.viewer.v0+json": {
       "columns": [
        {
         "name": "Id",
         "rawType": "int64",
         "type": "integer"
        },
        {
         "name": "Id Maestro",
         "rawType": "int64",
         "type": "integer"
        },
        {
         "name": "Id Materia",
         "rawType": "float64",
         "type": "float"
        },
        {
         "name": "Anio",
         "rawType": "int64",
         "type": "integer"
        },
        {
         "name": "Salon ",
         "rawType": "object",
         "type": "string"
        },
        {
         "name": "Nombre",
         "rawType": "object",
         "type": "string"
        },
        {
         "name": "Carrera",
         "rawType": "object",
         "type": "string"
        }
       ],
       "ref": "8a4a74b0-6b2f-4fc0-aa94-d8ba16c86087",
       "rows": [
        [
         "1",
         "80105663",
         "239.0",
         "2020",
         "A3",
         "Rodrigo Cruz Valle",
         "Ing. Sistemas Computacionales"
        ],
        [
         "2",
         "80105663",
         "685.0",
         "2020",
         "A4",
         "Rodrigo Cruz Valle",
         "Ing. Sistemas Computacionales"
        ],
        [
         "3",
         "80105663",
         "229.0",
         "2020",
         "A5",
         "Rodrigo Cruz Valle",
         "Ing. Sistemas Computacionales"
        ],
        [
         "4",
         "76790564",
         "397.0",
         "2020",
         "B1",
         "Yessica Campos Gonzáles ",
         "Ing. Electromecanica"
        ],
        [
         "5",
         "76790564",
         null,
         "2021",
         "B2",
         "Yessica Campos Gonzáles ",
         "Ing. Electromecanica"
        ],
        [
         "6",
         "80105663",
         "116.0",
         "2021",
         "C1",
         "Rodrigo Cruz Valle",
         "Ing. Sistemas Computacionales"
        ],
        [
         "7",
         "21463540",
         "526.0",
         "2021",
         "C5",
         "Javier Uribe Castaño",
         "Ing. Electrica"
        ]
       ],
       "shape": {
        "columns": 6,
        "rows": 7
       }
      },
      "text/html": [
       "<div>\n",
       "<style scoped>\n",
       "    .dataframe tbody tr th:only-of-type {\n",
       "        vertical-align: middle;\n",
       "    }\n",
       "\n",
       "    .dataframe tbody tr th {\n",
       "        vertical-align: top;\n",
       "    }\n",
       "\n",
       "    .dataframe thead th {\n",
       "        text-align: right;\n",
       "    }\n",
       "</style>\n",
       "<table border=\"1\" class=\"dataframe\">\n",
       "  <thead>\n",
       "    <tr style=\"text-align: right;\">\n",
       "      <th></th>\n",
       "      <th>Id Maestro</th>\n",
       "      <th>Id Materia</th>\n",
       "      <th>Anio</th>\n",
       "      <th>Salon</th>\n",
       "      <th>Nombre</th>\n",
       "      <th>Carrera</th>\n",
       "    </tr>\n",
       "    <tr>\n",
       "      <th>Id</th>\n",
       "      <th></th>\n",
       "      <th></th>\n",
       "      <th></th>\n",
       "      <th></th>\n",
       "      <th></th>\n",
       "      <th></th>\n",
       "    </tr>\n",
       "  </thead>\n",
       "  <tbody>\n",
       "    <tr>\n",
       "      <th>1</th>\n",
       "      <td>80105663</td>\n",
       "      <td>239.0</td>\n",
       "      <td>2020</td>\n",
       "      <td>A3</td>\n",
       "      <td>Rodrigo Cruz Valle</td>\n",
       "      <td>Ing. Sistemas Computacionales</td>\n",
       "    </tr>\n",
       "    <tr>\n",
       "      <th>2</th>\n",
       "      <td>80105663</td>\n",
       "      <td>685.0</td>\n",
       "      <td>2020</td>\n",
       "      <td>A4</td>\n",
       "      <td>Rodrigo Cruz Valle</td>\n",
       "      <td>Ing. Sistemas Computacionales</td>\n",
       "    </tr>\n",
       "    <tr>\n",
       "      <th>3</th>\n",
       "      <td>80105663</td>\n",
       "      <td>229.0</td>\n",
       "      <td>2020</td>\n",
       "      <td>A5</td>\n",
       "      <td>Rodrigo Cruz Valle</td>\n",
       "      <td>Ing. Sistemas Computacionales</td>\n",
       "    </tr>\n",
       "    <tr>\n",
       "      <th>4</th>\n",
       "      <td>76790564</td>\n",
       "      <td>397.0</td>\n",
       "      <td>2020</td>\n",
       "      <td>B1</td>\n",
       "      <td>Yessica Campos Gonzáles</td>\n",
       "      <td>Ing. Electromecanica</td>\n",
       "    </tr>\n",
       "    <tr>\n",
       "      <th>5</th>\n",
       "      <td>76790564</td>\n",
       "      <td>NaN</td>\n",
       "      <td>2021</td>\n",
       "      <td>B2</td>\n",
       "      <td>Yessica Campos Gonzáles</td>\n",
       "      <td>Ing. Electromecanica</td>\n",
       "    </tr>\n",
       "    <tr>\n",
       "      <th>6</th>\n",
       "      <td>80105663</td>\n",
       "      <td>116.0</td>\n",
       "      <td>2021</td>\n",
       "      <td>C1</td>\n",
       "      <td>Rodrigo Cruz Valle</td>\n",
       "      <td>Ing. Sistemas Computacionales</td>\n",
       "    </tr>\n",
       "    <tr>\n",
       "      <th>7</th>\n",
       "      <td>21463540</td>\n",
       "      <td>526.0</td>\n",
       "      <td>2021</td>\n",
       "      <td>C5</td>\n",
       "      <td>Javier Uribe Castaño</td>\n",
       "      <td>Ing. Electrica</td>\n",
       "    </tr>\n",
       "  </tbody>\n",
       "</table>\n",
       "</div>"
      ],
      "text/plain": [
       "    Id Maestro  Id Materia  Anio Salon                     Nombre  \\\n",
       "Id                                                                  \n",
       "1     80105663       239.0  2020     A3        Rodrigo Cruz Valle   \n",
       "2     80105663       685.0  2020     A4        Rodrigo Cruz Valle   \n",
       "3     80105663       229.0  2020     A5        Rodrigo Cruz Valle   \n",
       "4     76790564       397.0  2020     B1  Yessica Campos Gonzáles    \n",
       "5     76790564         NaN  2021     B2  Yessica Campos Gonzáles    \n",
       "6     80105663       116.0  2021     C1        Rodrigo Cruz Valle   \n",
       "7     21463540       526.0  2021     C5      Javier Uribe Castaño   \n",
       "\n",
       "                          Carrera  \n",
       "Id                                 \n",
       "1   Ing. Sistemas Computacionales  \n",
       "2   Ing. Sistemas Computacionales  \n",
       "3   Ing. Sistemas Computacionales  \n",
       "4            Ing. Electromecanica  \n",
       "5            Ing. Electromecanica  \n",
       "6   Ing. Sistemas Computacionales  \n",
       "7                  Ing. Electrica  "
      ]
     },
     "execution_count": 32,
     "metadata": {},
     "output_type": "execute_result"
    }
   ],
   "source": [
    "Cursos.join(Maestros,on=\"Id Maestro\")"
   ]
  },
  {
   "cell_type": "markdown",
   "id": "c6ee4859-0de1-4b88-b7ea-e794d5f7df47",
   "metadata": {},
   "source": [
    "__Ejercicio 17:__"
   ]
  },
  {
   "cell_type": "code",
   "execution_count": null,
   "id": "85f1e0dc-bddd-445f-baa2-6801b5324357",
   "metadata": {},
   "outputs": [],
   "source": []
  },
  {
   "cell_type": "markdown",
   "id": "c028a404-507d-420c-bd71-10b8817de472",
   "metadata": {},
   "source": [
    "__Ejercicio 18:__"
   ]
  },
  {
   "cell_type": "code",
   "execution_count": null,
   "id": "9e39ccaa-fc55-4446-9fa0-eee560f9dda7",
   "metadata": {},
   "outputs": [],
   "source": []
  },
  {
   "cell_type": "markdown",
   "id": "a63d4f61-6533-4f0f-abb3-b52dc626eda8",
   "metadata": {},
   "source": [
    "__Ejercicio 19:__"
   ]
  },
  {
   "cell_type": "markdown",
   "id": "96dc61c3-1949-4596-8c26-3fba25a9a03a",
   "metadata": {},
   "source": [
    "Utilizar la funcion merge para unir los DataFrame maestros y cursos, para comparar:\n",
    "- Utilizar el indice en el DataFrame \"maestros\"\n",
    "- Utilizar la columna \"Id Maestro\" en el DataFrame \"cursos\""
   ]
  },
  {
   "cell_type": "code",
   "execution_count": 33,
   "id": "9541c5ae-e034-43a9-9846-93aeac93d570",
   "metadata": {},
   "outputs": [
    {
     "data": {
      "application/vnd.microsoft.datawrangler.viewer.v0+json": {
       "columns": [
        {
         "name": "Id",
         "rawType": "int64",
         "type": "integer"
        },
        {
         "name": "Nombre",
         "rawType": "object",
         "type": "string"
        },
        {
         "name": "Carrera",
         "rawType": "object",
         "type": "string"
        },
        {
         "name": "Id Maestro",
         "rawType": "int64",
         "type": "integer"
        },
        {
         "name": "Id Materia",
         "rawType": "float64",
         "type": "float"
        },
        {
         "name": "Anio",
         "rawType": "int64",
         "type": "integer"
        },
        {
         "name": "Salon ",
         "rawType": "object",
         "type": "string"
        }
       ],
       "ref": "4f2305d7-77c5-4a9f-91bc-9e83938c022e",
       "rows": [
        [
         "1",
         "Rodrigo Cruz Valle",
         "Ing. Sistemas Computacionales",
         "80105663",
         "239.0",
         "2020",
         "A3"
        ],
        [
         "2",
         "Rodrigo Cruz Valle",
         "Ing. Sistemas Computacionales",
         "80105663",
         "685.0",
         "2020",
         "A4"
        ],
        [
         "3",
         "Rodrigo Cruz Valle",
         "Ing. Sistemas Computacionales",
         "80105663",
         "229.0",
         "2020",
         "A5"
        ],
        [
         "6",
         "Rodrigo Cruz Valle",
         "Ing. Sistemas Computacionales",
         "80105663",
         "116.0",
         "2021",
         "C1"
        ],
        [
         "4",
         "Yessica Campos Gonzáles ",
         "Ing. Electromecanica",
         "76790564",
         "397.0",
         "2020",
         "B1"
        ],
        [
         "5",
         "Yessica Campos Gonzáles ",
         "Ing. Electromecanica",
         "76790564",
         null,
         "2021",
         "B2"
        ],
        [
         "7",
         "Javier Uribe Castaño",
         "Ing. Electrica",
         "21463540",
         "526.0",
         "2021",
         "C5"
        ]
       ],
       "shape": {
        "columns": 6,
        "rows": 7
       }
      },
      "text/html": [
       "<div>\n",
       "<style scoped>\n",
       "    .dataframe tbody tr th:only-of-type {\n",
       "        vertical-align: middle;\n",
       "    }\n",
       "\n",
       "    .dataframe tbody tr th {\n",
       "        vertical-align: top;\n",
       "    }\n",
       "\n",
       "    .dataframe thead th {\n",
       "        text-align: right;\n",
       "    }\n",
       "</style>\n",
       "<table border=\"1\" class=\"dataframe\">\n",
       "  <thead>\n",
       "    <tr style=\"text-align: right;\">\n",
       "      <th></th>\n",
       "      <th>Nombre</th>\n",
       "      <th>Carrera</th>\n",
       "      <th>Id Maestro</th>\n",
       "      <th>Id Materia</th>\n",
       "      <th>Anio</th>\n",
       "      <th>Salon</th>\n",
       "    </tr>\n",
       "    <tr>\n",
       "      <th>Id</th>\n",
       "      <th></th>\n",
       "      <th></th>\n",
       "      <th></th>\n",
       "      <th></th>\n",
       "      <th></th>\n",
       "      <th></th>\n",
       "    </tr>\n",
       "  </thead>\n",
       "  <tbody>\n",
       "    <tr>\n",
       "      <th>1</th>\n",
       "      <td>Rodrigo Cruz Valle</td>\n",
       "      <td>Ing. Sistemas Computacionales</td>\n",
       "      <td>80105663</td>\n",
       "      <td>239.0</td>\n",
       "      <td>2020</td>\n",
       "      <td>A3</td>\n",
       "    </tr>\n",
       "    <tr>\n",
       "      <th>2</th>\n",
       "      <td>Rodrigo Cruz Valle</td>\n",
       "      <td>Ing. Sistemas Computacionales</td>\n",
       "      <td>80105663</td>\n",
       "      <td>685.0</td>\n",
       "      <td>2020</td>\n",
       "      <td>A4</td>\n",
       "    </tr>\n",
       "    <tr>\n",
       "      <th>3</th>\n",
       "      <td>Rodrigo Cruz Valle</td>\n",
       "      <td>Ing. Sistemas Computacionales</td>\n",
       "      <td>80105663</td>\n",
       "      <td>229.0</td>\n",
       "      <td>2020</td>\n",
       "      <td>A5</td>\n",
       "    </tr>\n",
       "    <tr>\n",
       "      <th>6</th>\n",
       "      <td>Rodrigo Cruz Valle</td>\n",
       "      <td>Ing. Sistemas Computacionales</td>\n",
       "      <td>80105663</td>\n",
       "      <td>116.0</td>\n",
       "      <td>2021</td>\n",
       "      <td>C1</td>\n",
       "    </tr>\n",
       "    <tr>\n",
       "      <th>4</th>\n",
       "      <td>Yessica Campos Gonzáles</td>\n",
       "      <td>Ing. Electromecanica</td>\n",
       "      <td>76790564</td>\n",
       "      <td>397.0</td>\n",
       "      <td>2020</td>\n",
       "      <td>B1</td>\n",
       "    </tr>\n",
       "    <tr>\n",
       "      <th>5</th>\n",
       "      <td>Yessica Campos Gonzáles</td>\n",
       "      <td>Ing. Electromecanica</td>\n",
       "      <td>76790564</td>\n",
       "      <td>NaN</td>\n",
       "      <td>2021</td>\n",
       "      <td>B2</td>\n",
       "    </tr>\n",
       "    <tr>\n",
       "      <th>7</th>\n",
       "      <td>Javier Uribe Castaño</td>\n",
       "      <td>Ing. Electrica</td>\n",
       "      <td>21463540</td>\n",
       "      <td>526.0</td>\n",
       "      <td>2021</td>\n",
       "      <td>C5</td>\n",
       "    </tr>\n",
       "  </tbody>\n",
       "</table>\n",
       "</div>"
      ],
      "text/plain": [
       "                      Nombre                        Carrera  Id Maestro  \\\n",
       "Id                                                                        \n",
       "1         Rodrigo Cruz Valle  Ing. Sistemas Computacionales    80105663   \n",
       "2         Rodrigo Cruz Valle  Ing. Sistemas Computacionales    80105663   \n",
       "3         Rodrigo Cruz Valle  Ing. Sistemas Computacionales    80105663   \n",
       "6         Rodrigo Cruz Valle  Ing. Sistemas Computacionales    80105663   \n",
       "4   Yessica Campos Gonzáles            Ing. Electromecanica    76790564   \n",
       "5   Yessica Campos Gonzáles            Ing. Electromecanica    76790564   \n",
       "7       Javier Uribe Castaño                 Ing. Electrica    21463540   \n",
       "\n",
       "    Id Materia  Anio Salon   \n",
       "Id                           \n",
       "1        239.0  2020     A3  \n",
       "2        685.0  2020     A4  \n",
       "3        229.0  2020     A5  \n",
       "6        116.0  2021     C1  \n",
       "4        397.0  2020     B1  \n",
       "5          NaN  2021     B2  \n",
       "7        526.0  2021     C5  "
      ]
     },
     "execution_count": 33,
     "metadata": {},
     "output_type": "execute_result"
    }
   ],
   "source": [
    "pd.merge(Maestros,Cursos,left_index=True,right_on=\"Id Maestro\")"
   ]
  },
  {
   "cell_type": "markdown",
   "id": "a3ec6d49-499f-4376-a10d-487f2ba51cd1",
   "metadata": {},
   "source": [
    "__Ejercicio 20:__"
   ]
  },
  {
   "cell_type": "markdown",
   "id": "0c107e58-334d-4c20-8f44-b64c5b13461c",
   "metadata": {},
   "source": [
    "Utilizar la funcion merge para unir los DataFrame maestros y cursos, para comparar:\n",
    "- Utilizar el indice en el DataFrame \"maestros\"\n",
    "- Utilizar la columna \"Id Maestro\" en el DataFrame \"cursos\"\n",
    "- Utilizar una union izquierda"
   ]
  },
  {
   "cell_type": "code",
   "execution_count": 34,
   "id": "5207bdd3-1af2-4e43-b778-a7e3a420bdf1",
   "metadata": {},
   "outputs": [
    {
     "data": {
      "application/vnd.microsoft.datawrangler.viewer.v0+json": {
       "columns": [
        {
         "name": "index",
         "rawType": "float64",
         "type": "float"
        },
        {
         "name": "Nombre",
         "rawType": "object",
         "type": "string"
        },
        {
         "name": "Carrera",
         "rawType": "object",
         "type": "string"
        },
        {
         "name": "Id Maestro",
         "rawType": "int64",
         "type": "integer"
        },
        {
         "name": "Id Materia",
         "rawType": "float64",
         "type": "float"
        },
        {
         "name": "Anio",
         "rawType": "float64",
         "type": "float"
        },
        {
         "name": "Salon ",
         "rawType": "object",
         "type": "unknown"
        }
       ],
       "ref": "f157262d-1b1e-4aa4-9e6b-852e776c5afa",
       "rows": [
        [
         "1.0",
         "Rodrigo Cruz Valle",
         "Ing. Sistemas Computacionales",
         "80105663",
         "239.0",
         "2020.0",
         "A3"
        ],
        [
         "2.0",
         "Rodrigo Cruz Valle",
         "Ing. Sistemas Computacionales",
         "80105663",
         "685.0",
         "2020.0",
         "A4"
        ],
        [
         "3.0",
         "Rodrigo Cruz Valle",
         "Ing. Sistemas Computacionales",
         "80105663",
         "229.0",
         "2020.0",
         "A5"
        ],
        [
         "6.0",
         "Rodrigo Cruz Valle",
         "Ing. Sistemas Computacionales",
         "80105663",
         "116.0",
         "2021.0",
         "C1"
        ],
        [
         "4.0",
         "Yessica Campos Gonzáles ",
         "Ing. Electromecanica",
         "76790564",
         "397.0",
         "2020.0",
         "B1"
        ],
        [
         "5.0",
         "Yessica Campos Gonzáles ",
         "Ing. Electromecanica",
         "76790564",
         null,
         "2021.0",
         "B2"
        ],
        [
         "7.0",
         "Javier Uribe Castaño",
         "Ing. Electrica",
         "21463540",
         "526.0",
         "2021.0",
         "C5"
        ],
        [
         null,
         "Alfonso Navarro Barrera",
         "Ing. Industrial",
         "50440541",
         null,
         null,
         null
        ]
       ],
       "shape": {
        "columns": 6,
        "rows": 8
       }
      },
      "text/html": [
       "<div>\n",
       "<style scoped>\n",
       "    .dataframe tbody tr th:only-of-type {\n",
       "        vertical-align: middle;\n",
       "    }\n",
       "\n",
       "    .dataframe tbody tr th {\n",
       "        vertical-align: top;\n",
       "    }\n",
       "\n",
       "    .dataframe thead th {\n",
       "        text-align: right;\n",
       "    }\n",
       "</style>\n",
       "<table border=\"1\" class=\"dataframe\">\n",
       "  <thead>\n",
       "    <tr style=\"text-align: right;\">\n",
       "      <th></th>\n",
       "      <th>Nombre</th>\n",
       "      <th>Carrera</th>\n",
       "      <th>Id Maestro</th>\n",
       "      <th>Id Materia</th>\n",
       "      <th>Anio</th>\n",
       "      <th>Salon</th>\n",
       "    </tr>\n",
       "  </thead>\n",
       "  <tbody>\n",
       "    <tr>\n",
       "      <th>1.0</th>\n",
       "      <td>Rodrigo Cruz Valle</td>\n",
       "      <td>Ing. Sistemas Computacionales</td>\n",
       "      <td>80105663</td>\n",
       "      <td>239.0</td>\n",
       "      <td>2020.0</td>\n",
       "      <td>A3</td>\n",
       "    </tr>\n",
       "    <tr>\n",
       "      <th>2.0</th>\n",
       "      <td>Rodrigo Cruz Valle</td>\n",
       "      <td>Ing. Sistemas Computacionales</td>\n",
       "      <td>80105663</td>\n",
       "      <td>685.0</td>\n",
       "      <td>2020.0</td>\n",
       "      <td>A4</td>\n",
       "    </tr>\n",
       "    <tr>\n",
       "      <th>3.0</th>\n",
       "      <td>Rodrigo Cruz Valle</td>\n",
       "      <td>Ing. Sistemas Computacionales</td>\n",
       "      <td>80105663</td>\n",
       "      <td>229.0</td>\n",
       "      <td>2020.0</td>\n",
       "      <td>A5</td>\n",
       "    </tr>\n",
       "    <tr>\n",
       "      <th>6.0</th>\n",
       "      <td>Rodrigo Cruz Valle</td>\n",
       "      <td>Ing. Sistemas Computacionales</td>\n",
       "      <td>80105663</td>\n",
       "      <td>116.0</td>\n",
       "      <td>2021.0</td>\n",
       "      <td>C1</td>\n",
       "    </tr>\n",
       "    <tr>\n",
       "      <th>4.0</th>\n",
       "      <td>Yessica Campos Gonzáles</td>\n",
       "      <td>Ing. Electromecanica</td>\n",
       "      <td>76790564</td>\n",
       "      <td>397.0</td>\n",
       "      <td>2020.0</td>\n",
       "      <td>B1</td>\n",
       "    </tr>\n",
       "    <tr>\n",
       "      <th>5.0</th>\n",
       "      <td>Yessica Campos Gonzáles</td>\n",
       "      <td>Ing. Electromecanica</td>\n",
       "      <td>76790564</td>\n",
       "      <td>NaN</td>\n",
       "      <td>2021.0</td>\n",
       "      <td>B2</td>\n",
       "    </tr>\n",
       "    <tr>\n",
       "      <th>7.0</th>\n",
       "      <td>Javier Uribe Castaño</td>\n",
       "      <td>Ing. Electrica</td>\n",
       "      <td>21463540</td>\n",
       "      <td>526.0</td>\n",
       "      <td>2021.0</td>\n",
       "      <td>C5</td>\n",
       "    </tr>\n",
       "    <tr>\n",
       "      <th>NaN</th>\n",
       "      <td>Alfonso Navarro Barrera</td>\n",
       "      <td>Ing. Industrial</td>\n",
       "      <td>50440541</td>\n",
       "      <td>NaN</td>\n",
       "      <td>NaN</td>\n",
       "      <td>NaN</td>\n",
       "    </tr>\n",
       "  </tbody>\n",
       "</table>\n",
       "</div>"
      ],
      "text/plain": [
       "                       Nombre                        Carrera  Id Maestro  \\\n",
       "1.0        Rodrigo Cruz Valle  Ing. Sistemas Computacionales    80105663   \n",
       "2.0        Rodrigo Cruz Valle  Ing. Sistemas Computacionales    80105663   \n",
       "3.0        Rodrigo Cruz Valle  Ing. Sistemas Computacionales    80105663   \n",
       "6.0        Rodrigo Cruz Valle  Ing. Sistemas Computacionales    80105663   \n",
       "4.0  Yessica Campos Gonzáles            Ing. Electromecanica    76790564   \n",
       "5.0  Yessica Campos Gonzáles            Ing. Electromecanica    76790564   \n",
       "7.0      Javier Uribe Castaño                 Ing. Electrica    21463540   \n",
       "NaN   Alfonso Navarro Barrera                Ing. Industrial    50440541   \n",
       "\n",
       "     Id Materia    Anio Salon   \n",
       "1.0       239.0  2020.0     A3  \n",
       "2.0       685.0  2020.0     A4  \n",
       "3.0       229.0  2020.0     A5  \n",
       "6.0       116.0  2021.0     C1  \n",
       "4.0       397.0  2020.0     B1  \n",
       "5.0         NaN  2021.0     B2  \n",
       "7.0       526.0  2021.0     C5  \n",
       "NaN         NaN     NaN    NaN  "
      ]
     },
     "execution_count": 34,
     "metadata": {},
     "output_type": "execute_result"
    }
   ],
   "source": [
    "pd.merge(Maestros,Cursos,left_index=True,right_on=\"Id Maestro\",how=\"left\")"
   ]
  },
  {
   "cell_type": "markdown",
   "id": "8811de0c-c53c-4404-9688-5a8eb2120cf8",
   "metadata": {},
   "source": [
    "__Ejercicio 21:__"
   ]
  },
  {
   "cell_type": "markdown",
   "id": "d5eb4ad9-7d7b-4004-9889-eba0049692de",
   "metadata": {},
   "source": [
    "Utilizar la funcion merge para unir los DataFrame cursos y materias, para comparar:\n",
    "- Utilizar la columna \"Id Materia\" en el DataFrame \"cursos\"\n",
    "- Utilizar el indice en el DataFrame \"materias\""
   ]
  },
  {
   "cell_type": "code",
   "execution_count": 35,
   "id": "3e8a8845-8c63-486c-a622-35dac1287189",
   "metadata": {},
   "outputs": [
    {
     "data": {
      "application/vnd.microsoft.datawrangler.viewer.v0+json": {
       "columns": [
        {
         "name": "Id",
         "rawType": "int64",
         "type": "integer"
        },
        {
         "name": "Id Maestro",
         "rawType": "int64",
         "type": "integer"
        },
        {
         "name": "Id Materia",
         "rawType": "float64",
         "type": "float"
        },
        {
         "name": "Anio",
         "rawType": "int64",
         "type": "integer"
        },
        {
         "name": "Salon ",
         "rawType": "object",
         "type": "string"
        },
        {
         "name": "Materia",
         "rawType": "object",
         "type": "string"
        }
       ],
       "ref": "25e7811f-ca0d-4d43-ae14-1a3fafe58645",
       "rows": [
        [
         "1",
         "80105663",
         "239.0",
         "2020",
         "A3",
         "Sistemas Programables"
        ],
        [
         "2",
         "80105663",
         "685.0",
         "2020",
         "A4",
         "Métodos Numéricos"
        ],
        [
         "3",
         "80105663",
         "229.0",
         "2020",
         "A5",
         "Taller de Bases de Datos"
        ],
        [
         "4",
         "76790564",
         "397.0",
         "2020",
         "B1",
         "Redes de Computadoras"
        ],
        [
         "6",
         "80105663",
         "116.0",
         "2021",
         "C1",
         "Administración de Redes"
        ],
        [
         "7",
         "21463540",
         "526.0",
         "2021",
         "C5",
         "Programación Orientada a Objetos"
        ]
       ],
       "shape": {
        "columns": 5,
        "rows": 6
       }
      },
      "text/html": [
       "<div>\n",
       "<style scoped>\n",
       "    .dataframe tbody tr th:only-of-type {\n",
       "        vertical-align: middle;\n",
       "    }\n",
       "\n",
       "    .dataframe tbody tr th {\n",
       "        vertical-align: top;\n",
       "    }\n",
       "\n",
       "    .dataframe thead th {\n",
       "        text-align: right;\n",
       "    }\n",
       "</style>\n",
       "<table border=\"1\" class=\"dataframe\">\n",
       "  <thead>\n",
       "    <tr style=\"text-align: right;\">\n",
       "      <th></th>\n",
       "      <th>Id Maestro</th>\n",
       "      <th>Id Materia</th>\n",
       "      <th>Anio</th>\n",
       "      <th>Salon</th>\n",
       "      <th>Materia</th>\n",
       "    </tr>\n",
       "    <tr>\n",
       "      <th>Id</th>\n",
       "      <th></th>\n",
       "      <th></th>\n",
       "      <th></th>\n",
       "      <th></th>\n",
       "      <th></th>\n",
       "    </tr>\n",
       "  </thead>\n",
       "  <tbody>\n",
       "    <tr>\n",
       "      <th>1</th>\n",
       "      <td>80105663</td>\n",
       "      <td>239.0</td>\n",
       "      <td>2020</td>\n",
       "      <td>A3</td>\n",
       "      <td>Sistemas Programables</td>\n",
       "    </tr>\n",
       "    <tr>\n",
       "      <th>2</th>\n",
       "      <td>80105663</td>\n",
       "      <td>685.0</td>\n",
       "      <td>2020</td>\n",
       "      <td>A4</td>\n",
       "      <td>Métodos Numéricos</td>\n",
       "    </tr>\n",
       "    <tr>\n",
       "      <th>3</th>\n",
       "      <td>80105663</td>\n",
       "      <td>229.0</td>\n",
       "      <td>2020</td>\n",
       "      <td>A5</td>\n",
       "      <td>Taller de Bases de Datos</td>\n",
       "    </tr>\n",
       "    <tr>\n",
       "      <th>4</th>\n",
       "      <td>76790564</td>\n",
       "      <td>397.0</td>\n",
       "      <td>2020</td>\n",
       "      <td>B1</td>\n",
       "      <td>Redes de Computadoras</td>\n",
       "    </tr>\n",
       "    <tr>\n",
       "      <th>6</th>\n",
       "      <td>80105663</td>\n",
       "      <td>116.0</td>\n",
       "      <td>2021</td>\n",
       "      <td>C1</td>\n",
       "      <td>Administración de Redes</td>\n",
       "    </tr>\n",
       "    <tr>\n",
       "      <th>7</th>\n",
       "      <td>21463540</td>\n",
       "      <td>526.0</td>\n",
       "      <td>2021</td>\n",
       "      <td>C5</td>\n",
       "      <td>Programación Orientada a Objetos</td>\n",
       "    </tr>\n",
       "  </tbody>\n",
       "</table>\n",
       "</div>"
      ],
      "text/plain": [
       "    Id Maestro  Id Materia  Anio Salon                            Materia\n",
       "Id                                                                       \n",
       "1     80105663       239.0  2020     A3             Sistemas Programables\n",
       "2     80105663       685.0  2020     A4                 Métodos Numéricos\n",
       "3     80105663       229.0  2020     A5          Taller de Bases de Datos\n",
       "4     76790564       397.0  2020     B1             Redes de Computadoras\n",
       "6     80105663       116.0  2021     C1           Administración de Redes\n",
       "7     21463540       526.0  2021     C5  Programación Orientada a Objetos"
      ]
     },
     "execution_count": 35,
     "metadata": {},
     "output_type": "execute_result"
    }
   ],
   "source": [
    "pd.merge(Cursos,Materias,left_on=\"Id Materia\",right_index=True)"
   ]
  },
  {
   "cell_type": "markdown",
   "id": "f0fa3f22-d403-4bdb-a80f-c790ad250dec",
   "metadata": {},
   "source": [
    "__Ejercicio 22:__"
   ]
  },
  {
   "cell_type": "markdown",
   "id": "add9c13f-00b8-4667-a006-973df795a291",
   "metadata": {},
   "source": [
    "Utilizar la funcion merge para unir los DataFrame cursos y materias, para comparar:\n",
    "- Utilizar la columna \"Id Materia\" en el DataFrame \"cursos\"\n",
    "- Utilizar el indice en el DataFrame \"materias\"\n",
    "- Utilizar una union derecha"
   ]
  },
  {
   "cell_type": "code",
   "execution_count": 36,
   "id": "fa6011d5-6e07-4630-b26c-68657e49659b",
   "metadata": {},
   "outputs": [
    {
     "data": {
      "application/vnd.microsoft.datawrangler.viewer.v0+json": {
       "columns": [
        {
         "name": "Id",
         "rawType": "int64",
         "type": "integer"
        },
        {
         "name": "Id Maestro",
         "rawType": "int64",
         "type": "integer"
        },
        {
         "name": "Id Materia",
         "rawType": "float64",
         "type": "float"
        },
        {
         "name": "Anio",
         "rawType": "int64",
         "type": "integer"
        },
        {
         "name": "Salon ",
         "rawType": "object",
         "type": "string"
        },
        {
         "name": "Materia",
         "rawType": "object",
         "type": "unknown"
        }
       ],
       "ref": "92d02a76-851d-4cf3-a05e-0fbc1047a292",
       "rows": [
        [
         "1",
         "80105663",
         "239.0",
         "2020",
         "A3",
         "Sistemas Programables"
        ],
        [
         "2",
         "80105663",
         "685.0",
         "2020",
         "A4",
         "Métodos Numéricos"
        ],
        [
         "3",
         "80105663",
         "229.0",
         "2020",
         "A5",
         "Taller de Bases de Datos"
        ],
        [
         "4",
         "76790564",
         "397.0",
         "2020",
         "B1",
         "Redes de Computadoras"
        ],
        [
         "5",
         "76790564",
         null,
         "2021",
         "B2",
         null
        ],
        [
         "6",
         "80105663",
         "116.0",
         "2021",
         "C1",
         "Administración de Redes"
        ],
        [
         "7",
         "21463540",
         "526.0",
         "2021",
         "C5",
         "Programación Orientada a Objetos"
        ]
       ],
       "shape": {
        "columns": 5,
        "rows": 7
       }
      },
      "text/html": [
       "<div>\n",
       "<style scoped>\n",
       "    .dataframe tbody tr th:only-of-type {\n",
       "        vertical-align: middle;\n",
       "    }\n",
       "\n",
       "    .dataframe tbody tr th {\n",
       "        vertical-align: top;\n",
       "    }\n",
       "\n",
       "    .dataframe thead th {\n",
       "        text-align: right;\n",
       "    }\n",
       "</style>\n",
       "<table border=\"1\" class=\"dataframe\">\n",
       "  <thead>\n",
       "    <tr style=\"text-align: right;\">\n",
       "      <th></th>\n",
       "      <th>Id Maestro</th>\n",
       "      <th>Id Materia</th>\n",
       "      <th>Anio</th>\n",
       "      <th>Salon</th>\n",
       "      <th>Materia</th>\n",
       "    </tr>\n",
       "    <tr>\n",
       "      <th>Id</th>\n",
       "      <th></th>\n",
       "      <th></th>\n",
       "      <th></th>\n",
       "      <th></th>\n",
       "      <th></th>\n",
       "    </tr>\n",
       "  </thead>\n",
       "  <tbody>\n",
       "    <tr>\n",
       "      <th>1</th>\n",
       "      <td>80105663</td>\n",
       "      <td>239.0</td>\n",
       "      <td>2020</td>\n",
       "      <td>A3</td>\n",
       "      <td>Sistemas Programables</td>\n",
       "    </tr>\n",
       "    <tr>\n",
       "      <th>2</th>\n",
       "      <td>80105663</td>\n",
       "      <td>685.0</td>\n",
       "      <td>2020</td>\n",
       "      <td>A4</td>\n",
       "      <td>Métodos Numéricos</td>\n",
       "    </tr>\n",
       "    <tr>\n",
       "      <th>3</th>\n",
       "      <td>80105663</td>\n",
       "      <td>229.0</td>\n",
       "      <td>2020</td>\n",
       "      <td>A5</td>\n",
       "      <td>Taller de Bases de Datos</td>\n",
       "    </tr>\n",
       "    <tr>\n",
       "      <th>4</th>\n",
       "      <td>76790564</td>\n",
       "      <td>397.0</td>\n",
       "      <td>2020</td>\n",
       "      <td>B1</td>\n",
       "      <td>Redes de Computadoras</td>\n",
       "    </tr>\n",
       "    <tr>\n",
       "      <th>5</th>\n",
       "      <td>76790564</td>\n",
       "      <td>NaN</td>\n",
       "      <td>2021</td>\n",
       "      <td>B2</td>\n",
       "      <td>NaN</td>\n",
       "    </tr>\n",
       "    <tr>\n",
       "      <th>6</th>\n",
       "      <td>80105663</td>\n",
       "      <td>116.0</td>\n",
       "      <td>2021</td>\n",
       "      <td>C1</td>\n",
       "      <td>Administración de Redes</td>\n",
       "    </tr>\n",
       "    <tr>\n",
       "      <th>7</th>\n",
       "      <td>21463540</td>\n",
       "      <td>526.0</td>\n",
       "      <td>2021</td>\n",
       "      <td>C5</td>\n",
       "      <td>Programación Orientada a Objetos</td>\n",
       "    </tr>\n",
       "  </tbody>\n",
       "</table>\n",
       "</div>"
      ],
      "text/plain": [
       "    Id Maestro  Id Materia  Anio Salon                            Materia\n",
       "Id                                                                       \n",
       "1     80105663       239.0  2020     A3             Sistemas Programables\n",
       "2     80105663       685.0  2020     A4                 Métodos Numéricos\n",
       "3     80105663       229.0  2020     A5          Taller de Bases de Datos\n",
       "4     76790564       397.0  2020     B1             Redes de Computadoras\n",
       "5     76790564         NaN  2021     B2                               NaN\n",
       "6     80105663       116.0  2021     C1           Administración de Redes\n",
       "7     21463540       526.0  2021     C5  Programación Orientada a Objetos"
      ]
     },
     "execution_count": 36,
     "metadata": {},
     "output_type": "execute_result"
    }
   ],
   "source": [
    "pd.merge(Cursos,Materias,left_on=\"Id Materia\",right_index=True,how=\"left\")"
   ]
  },
  {
   "cell_type": "markdown",
   "id": "ec5a9671-a63b-40ac-88e0-dba14c20f4b3",
   "metadata": {},
   "source": [
    "__Ejercicio 23:__"
   ]
  },
  {
   "cell_type": "markdown",
   "id": "089e6581-8774-4fc3-866f-7f2c00f0b495",
   "metadata": {},
   "source": [
    "Utilizar la funcion merge para unir los DataFrame cursos y materias, para comparar:\n",
    "- Utilizar la columna \"Id Materia\" en el DataFrame \"cursos\"\n",
    "- Utilizar el indice en el DataFrame \"materias\"\n",
    "- Utilizar una union exterior"
   ]
  },
  {
   "cell_type": "code",
   "execution_count": 37,
   "id": "133e913b-663a-4a64-8288-8f874ff45f7f",
   "metadata": {},
   "outputs": [
    {
     "data": {
      "application/vnd.microsoft.datawrangler.viewer.v0+json": {
       "columns": [
        {
         "name": "index",
         "rawType": "float64",
         "type": "float"
        },
        {
         "name": "Id Maestro",
         "rawType": "float64",
         "type": "float"
        },
        {
         "name": "Id Materia",
         "rawType": "float64",
         "type": "float"
        },
        {
         "name": "Anio",
         "rawType": "float64",
         "type": "float"
        },
        {
         "name": "Salon ",
         "rawType": "object",
         "type": "unknown"
        },
        {
         "name": "Materia",
         "rawType": "object",
         "type": "unknown"
        }
       ],
       "ref": "b8982d91-2ae3-4bf6-be25-3dc3a4670861",
       "rows": [
        [
         "6.0",
         "80105663.0",
         "116.0",
         "2021.0",
         "C1",
         "Administración de Redes"
        ],
        [
         "3.0",
         "80105663.0",
         "229.0",
         "2020.0",
         "A5",
         "Taller de Bases de Datos"
        ],
        [
         "1.0",
         "80105663.0",
         "239.0",
         "2020.0",
         "A3",
         "Sistemas Programables"
        ],
        [
         "4.0",
         "76790564.0",
         "397.0",
         "2020.0",
         "B1",
         "Redes de Computadoras"
        ],
        [
         null,
         null,
         "434.0",
         null,
         null,
         "Cálculo Diferencial"
        ],
        [
         "7.0",
         "21463540.0",
         "526.0",
         "2021.0",
         "C5",
         "Programación Orientada a Objetos"
        ],
        [
         "2.0",
         "80105663.0",
         "685.0",
         "2020.0",
         "A4",
         "Métodos Numéricos"
        ],
        [
         null,
         null,
         "923.0",
         null,
         null,
         "Sistemas Operativos I"
        ],
        [
         "5.0",
         "76790564.0",
         null,
         "2021.0",
         "B2",
         null
        ]
       ],
       "shape": {
        "columns": 5,
        "rows": 9
       }
      },
      "text/html": [
       "<div>\n",
       "<style scoped>\n",
       "    .dataframe tbody tr th:only-of-type {\n",
       "        vertical-align: middle;\n",
       "    }\n",
       "\n",
       "    .dataframe tbody tr th {\n",
       "        vertical-align: top;\n",
       "    }\n",
       "\n",
       "    .dataframe thead th {\n",
       "        text-align: right;\n",
       "    }\n",
       "</style>\n",
       "<table border=\"1\" class=\"dataframe\">\n",
       "  <thead>\n",
       "    <tr style=\"text-align: right;\">\n",
       "      <th></th>\n",
       "      <th>Id Maestro</th>\n",
       "      <th>Id Materia</th>\n",
       "      <th>Anio</th>\n",
       "      <th>Salon</th>\n",
       "      <th>Materia</th>\n",
       "    </tr>\n",
       "  </thead>\n",
       "  <tbody>\n",
       "    <tr>\n",
       "      <th>6.0</th>\n",
       "      <td>80105663.0</td>\n",
       "      <td>116.0</td>\n",
       "      <td>2021.0</td>\n",
       "      <td>C1</td>\n",
       "      <td>Administración de Redes</td>\n",
       "    </tr>\n",
       "    <tr>\n",
       "      <th>3.0</th>\n",
       "      <td>80105663.0</td>\n",
       "      <td>229.0</td>\n",
       "      <td>2020.0</td>\n",
       "      <td>A5</td>\n",
       "      <td>Taller de Bases de Datos</td>\n",
       "    </tr>\n",
       "    <tr>\n",
       "      <th>1.0</th>\n",
       "      <td>80105663.0</td>\n",
       "      <td>239.0</td>\n",
       "      <td>2020.0</td>\n",
       "      <td>A3</td>\n",
       "      <td>Sistemas Programables</td>\n",
       "    </tr>\n",
       "    <tr>\n",
       "      <th>4.0</th>\n",
       "      <td>76790564.0</td>\n",
       "      <td>397.0</td>\n",
       "      <td>2020.0</td>\n",
       "      <td>B1</td>\n",
       "      <td>Redes de Computadoras</td>\n",
       "    </tr>\n",
       "    <tr>\n",
       "      <th>NaN</th>\n",
       "      <td>NaN</td>\n",
       "      <td>434.0</td>\n",
       "      <td>NaN</td>\n",
       "      <td>NaN</td>\n",
       "      <td>Cálculo Diferencial</td>\n",
       "    </tr>\n",
       "    <tr>\n",
       "      <th>7.0</th>\n",
       "      <td>21463540.0</td>\n",
       "      <td>526.0</td>\n",
       "      <td>2021.0</td>\n",
       "      <td>C5</td>\n",
       "      <td>Programación Orientada a Objetos</td>\n",
       "    </tr>\n",
       "    <tr>\n",
       "      <th>2.0</th>\n",
       "      <td>80105663.0</td>\n",
       "      <td>685.0</td>\n",
       "      <td>2020.0</td>\n",
       "      <td>A4</td>\n",
       "      <td>Métodos Numéricos</td>\n",
       "    </tr>\n",
       "    <tr>\n",
       "      <th>NaN</th>\n",
       "      <td>NaN</td>\n",
       "      <td>923.0</td>\n",
       "      <td>NaN</td>\n",
       "      <td>NaN</td>\n",
       "      <td>Sistemas Operativos I</td>\n",
       "    </tr>\n",
       "    <tr>\n",
       "      <th>5.0</th>\n",
       "      <td>76790564.0</td>\n",
       "      <td>NaN</td>\n",
       "      <td>2021.0</td>\n",
       "      <td>B2</td>\n",
       "      <td>NaN</td>\n",
       "    </tr>\n",
       "  </tbody>\n",
       "</table>\n",
       "</div>"
      ],
      "text/plain": [
       "     Id Maestro  Id Materia    Anio Salon                            Materia\n",
       "6.0  80105663.0       116.0  2021.0     C1           Administración de Redes\n",
       "3.0  80105663.0       229.0  2020.0     A5          Taller de Bases de Datos\n",
       "1.0  80105663.0       239.0  2020.0     A3             Sistemas Programables\n",
       "4.0  76790564.0       397.0  2020.0     B1             Redes de Computadoras\n",
       "NaN         NaN       434.0     NaN    NaN               Cálculo Diferencial\n",
       "7.0  21463540.0       526.0  2021.0     C5  Programación Orientada a Objetos\n",
       "2.0  80105663.0       685.0  2020.0     A4                 Métodos Numéricos\n",
       "NaN         NaN       923.0     NaN    NaN             Sistemas Operativos I\n",
       "5.0  76790564.0         NaN  2021.0     B2                               NaN"
      ]
     },
     "execution_count": 37,
     "metadata": {},
     "output_type": "execute_result"
    }
   ],
   "source": [
    "pd.merge(Cursos,Materias,left_on=\"Id Materia\",right_index=True,how=\"outer\")"
   ]
  },
  {
   "cell_type": "markdown",
   "id": "4b79aabf-06e0-4d5a-91cb-1d46b5d5e41f",
   "metadata": {},
   "source": [
    "__Ejercicio 24:__"
   ]
  },
  {
   "cell_type": "markdown",
   "id": "7849f9b3-f662-4733-b29f-1a843022f650",
   "metadata": {},
   "source": [
    "Utilizar la funcion merge para unir los DataFrame cursos y materias, para comparar:\n",
    "- Utilizar la columna \"Id Materia\" en el DataFrame \"cursos\"\n",
    "- Utilizar el indice en el DataFrame \"materias\"\n",
    "- Utilizar una union exterior\n",
    "- Indicar la tabla de origen de cada fila"
   ]
  },
  {
   "cell_type": "code",
   "execution_count": 38,
   "id": "75268615-7730-411d-8727-3ba088845905",
   "metadata": {},
   "outputs": [
    {
     "data": {
      "application/vnd.microsoft.datawrangler.viewer.v0+json": {
       "columns": [
        {
         "name": "index",
         "rawType": "float64",
         "type": "float"
        },
        {
         "name": "Id Maestro",
         "rawType": "float64",
         "type": "float"
        },
        {
         "name": "Id Materia",
         "rawType": "float64",
         "type": "float"
        },
        {
         "name": "Anio",
         "rawType": "float64",
         "type": "float"
        },
        {
         "name": "Salon ",
         "rawType": "object",
         "type": "unknown"
        },
        {
         "name": "Materia",
         "rawType": "object",
         "type": "unknown"
        },
        {
         "name": "_merge",
         "rawType": "category",
         "type": "unknown"
        }
       ],
       "ref": "03788df4-98dd-4e3a-b575-57d4d62da98f",
       "rows": [
        [
         "6.0",
         "80105663.0",
         "116.0",
         "2021.0",
         "C1",
         "Administración de Redes",
         "both"
        ],
        [
         "3.0",
         "80105663.0",
         "229.0",
         "2020.0",
         "A5",
         "Taller de Bases de Datos",
         "both"
        ],
        [
         "1.0",
         "80105663.0",
         "239.0",
         "2020.0",
         "A3",
         "Sistemas Programables",
         "both"
        ],
        [
         "4.0",
         "76790564.0",
         "397.0",
         "2020.0",
         "B1",
         "Redes de Computadoras",
         "both"
        ],
        [
         null,
         null,
         "434.0",
         null,
         null,
         "Cálculo Diferencial",
         "right_only"
        ],
        [
         "7.0",
         "21463540.0",
         "526.0",
         "2021.0",
         "C5",
         "Programación Orientada a Objetos",
         "both"
        ],
        [
         "2.0",
         "80105663.0",
         "685.0",
         "2020.0",
         "A4",
         "Métodos Numéricos",
         "both"
        ],
        [
         null,
         null,
         "923.0",
         null,
         null,
         "Sistemas Operativos I",
         "right_only"
        ],
        [
         "5.0",
         "76790564.0",
         null,
         "2021.0",
         "B2",
         null,
         "left_only"
        ]
       ],
       "shape": {
        "columns": 6,
        "rows": 9
       }
      },
      "text/html": [
       "<div>\n",
       "<style scoped>\n",
       "    .dataframe tbody tr th:only-of-type {\n",
       "        vertical-align: middle;\n",
       "    }\n",
       "\n",
       "    .dataframe tbody tr th {\n",
       "        vertical-align: top;\n",
       "    }\n",
       "\n",
       "    .dataframe thead th {\n",
       "        text-align: right;\n",
       "    }\n",
       "</style>\n",
       "<table border=\"1\" class=\"dataframe\">\n",
       "  <thead>\n",
       "    <tr style=\"text-align: right;\">\n",
       "      <th></th>\n",
       "      <th>Id Maestro</th>\n",
       "      <th>Id Materia</th>\n",
       "      <th>Anio</th>\n",
       "      <th>Salon</th>\n",
       "      <th>Materia</th>\n",
       "      <th>_merge</th>\n",
       "    </tr>\n",
       "  </thead>\n",
       "  <tbody>\n",
       "    <tr>\n",
       "      <th>6.0</th>\n",
       "      <td>80105663.0</td>\n",
       "      <td>116.0</td>\n",
       "      <td>2021.0</td>\n",
       "      <td>C1</td>\n",
       "      <td>Administración de Redes</td>\n",
       "      <td>both</td>\n",
       "    </tr>\n",
       "    <tr>\n",
       "      <th>3.0</th>\n",
       "      <td>80105663.0</td>\n",
       "      <td>229.0</td>\n",
       "      <td>2020.0</td>\n",
       "      <td>A5</td>\n",
       "      <td>Taller de Bases de Datos</td>\n",
       "      <td>both</td>\n",
       "    </tr>\n",
       "    <tr>\n",
       "      <th>1.0</th>\n",
       "      <td>80105663.0</td>\n",
       "      <td>239.0</td>\n",
       "      <td>2020.0</td>\n",
       "      <td>A3</td>\n",
       "      <td>Sistemas Programables</td>\n",
       "      <td>both</td>\n",
       "    </tr>\n",
       "    <tr>\n",
       "      <th>4.0</th>\n",
       "      <td>76790564.0</td>\n",
       "      <td>397.0</td>\n",
       "      <td>2020.0</td>\n",
       "      <td>B1</td>\n",
       "      <td>Redes de Computadoras</td>\n",
       "      <td>both</td>\n",
       "    </tr>\n",
       "    <tr>\n",
       "      <th>NaN</th>\n",
       "      <td>NaN</td>\n",
       "      <td>434.0</td>\n",
       "      <td>NaN</td>\n",
       "      <td>NaN</td>\n",
       "      <td>Cálculo Diferencial</td>\n",
       "      <td>right_only</td>\n",
       "    </tr>\n",
       "    <tr>\n",
       "      <th>7.0</th>\n",
       "      <td>21463540.0</td>\n",
       "      <td>526.0</td>\n",
       "      <td>2021.0</td>\n",
       "      <td>C5</td>\n",
       "      <td>Programación Orientada a Objetos</td>\n",
       "      <td>both</td>\n",
       "    </tr>\n",
       "    <tr>\n",
       "      <th>2.0</th>\n",
       "      <td>80105663.0</td>\n",
       "      <td>685.0</td>\n",
       "      <td>2020.0</td>\n",
       "      <td>A4</td>\n",
       "      <td>Métodos Numéricos</td>\n",
       "      <td>both</td>\n",
       "    </tr>\n",
       "    <tr>\n",
       "      <th>NaN</th>\n",
       "      <td>NaN</td>\n",
       "      <td>923.0</td>\n",
       "      <td>NaN</td>\n",
       "      <td>NaN</td>\n",
       "      <td>Sistemas Operativos I</td>\n",
       "      <td>right_only</td>\n",
       "    </tr>\n",
       "    <tr>\n",
       "      <th>5.0</th>\n",
       "      <td>76790564.0</td>\n",
       "      <td>NaN</td>\n",
       "      <td>2021.0</td>\n",
       "      <td>B2</td>\n",
       "      <td>NaN</td>\n",
       "      <td>left_only</td>\n",
       "    </tr>\n",
       "  </tbody>\n",
       "</table>\n",
       "</div>"
      ],
      "text/plain": [
       "     Id Maestro  Id Materia    Anio Salon                            Materia  \\\n",
       "6.0  80105663.0       116.0  2021.0     C1           Administración de Redes   \n",
       "3.0  80105663.0       229.0  2020.0     A5          Taller de Bases de Datos   \n",
       "1.0  80105663.0       239.0  2020.0     A3             Sistemas Programables   \n",
       "4.0  76790564.0       397.0  2020.0     B1             Redes de Computadoras   \n",
       "NaN         NaN       434.0     NaN    NaN               Cálculo Diferencial   \n",
       "7.0  21463540.0       526.0  2021.0     C5  Programación Orientada a Objetos   \n",
       "2.0  80105663.0       685.0  2020.0     A4                 Métodos Numéricos   \n",
       "NaN         NaN       923.0     NaN    NaN             Sistemas Operativos I   \n",
       "5.0  76790564.0         NaN  2021.0     B2                               NaN   \n",
       "\n",
       "         _merge  \n",
       "6.0        both  \n",
       "3.0        both  \n",
       "1.0        both  \n",
       "4.0        both  \n",
       "NaN  right_only  \n",
       "7.0        both  \n",
       "2.0        both  \n",
       "NaN  right_only  \n",
       "5.0   left_only  "
      ]
     },
     "execution_count": 38,
     "metadata": {},
     "output_type": "execute_result"
    }
   ],
   "source": [
    "pd.merge(Cursos,Materias,left_on=\"Id Materia\",right_index=True,how=\"outer\",indicator=True)"
   ]
  },
  {
   "cell_type": "code",
   "execution_count": null,
   "id": "bbf2cdf4",
   "metadata": {},
   "outputs": [],
   "source": []
  }
 ],
 "metadata": {
  "kernelspec": {
   "display_name": "Python 3",
   "language": "python",
   "name": "python3"
  },
  "language_info": {
   "codemirror_mode": {
    "name": "ipython",
    "version": 3
   },
   "file_extension": ".py",
   "mimetype": "text/x-python",
   "name": "python",
   "nbconvert_exporter": "python",
   "pygments_lexer": "ipython3",
   "version": "3.10.12"
  }
 },
 "nbformat": 4,
 "nbformat_minor": 5
}
