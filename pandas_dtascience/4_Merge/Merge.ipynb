{
 "cells": [
  {
   "cell_type": "markdown",
   "id": "a7def79e-f31f-4d26-9fc9-bb75c0855004",
   "metadata": {},
   "source": [
    "# Merge"
   ]
  },
  {
   "cell_type": "code",
   "execution_count": 2,
   "id": "08db7d9f-a6b2-4a17-85eb-c1311f557802",
   "metadata": {},
   "outputs": [],
   "source": [
    "import pandas as pd"
   ]
  },
  {
   "cell_type": "markdown",
   "id": "3fb2d992-1596-4c51-a50e-96c5fc821300",
   "metadata": {},
   "source": [
    "__Ejercicio 1:__"
   ]
  },
  {
   "cell_type": "markdown",
   "id": "f4d65e13-702f-4e29-b1a7-94775a8ec589",
   "metadata": {},
   "source": [
    "Utilizar pandas para importar los datos del archivo \"merge.xlsx\" en la variable \"consultas\""
   ]
  },
  {
   "cell_type": "code",
   "execution_count": null,
   "id": "c68d5d5a-9c66-49cd-b1cb-b150306d98ee",
   "metadata": {},
   "outputs": [],
   "source": []
  },
  {
   "cell_type": "markdown",
   "id": "b36018d3-20cf-4db0-a0ee-b79c8d6f1348",
   "metadata": {},
   "source": [
    "__Ejercicio 2:__"
   ]
  },
  {
   "cell_type": "markdown",
   "id": "2c6524db-1e54-4b0c-af2f-9f9c83729aeb",
   "metadata": {},
   "source": [
    "Utilizar pandas para importar los datos en la hoja \"doctor\" del archivo \"merge.xlsx\"  en la variable \"doctores\""
   ]
  },
  {
   "cell_type": "code",
   "execution_count": null,
   "id": "79981cf4-2dc6-4161-8574-61ca207f7fe0",
   "metadata": {},
   "outputs": [],
   "source": []
  },
  {
   "cell_type": "markdown",
   "id": "8dfa6fb8-c344-4b37-b097-f3e7ae8f44c2",
   "metadata": {},
   "source": [
    "__Ejercicio 3:__"
   ]
  },
  {
   "cell_type": "markdown",
   "id": "bcb03ed5-1679-4c03-9aa7-814aabf2a38b",
   "metadata": {},
   "source": [
    "Utilizar pandas para importar los datos en la hoja \"especialidades\" del archivo \"merge.xlsx\" en la variable \"especialidades\""
   ]
  },
  {
   "cell_type": "code",
   "execution_count": null,
   "id": "e9e8c0fb-2687-4c02-9886-eb4f710bfbfd",
   "metadata": {},
   "outputs": [],
   "source": []
  },
  {
   "cell_type": "markdown",
   "id": "57092d12-49f0-4582-9341-db49274d956d",
   "metadata": {},
   "source": [
    "__Ejercicio 4:__"
   ]
  },
  {
   "cell_type": "markdown",
   "id": "3799edf2-4d8d-451c-94ee-a2fa1f371302",
   "metadata": {},
   "source": [
    "Utilizar la función join para unir los dataframe doctores y especialidades en base a la columna \"id_especialidad\"  "
   ]
  },
  {
   "cell_type": "code",
   "execution_count": null,
   "id": "d9210f01-54a6-4ee4-8b80-f906f00133df",
   "metadata": {},
   "outputs": [],
   "source": []
  },
  {
   "cell_type": "markdown",
   "id": "bbca40eb-53fe-4b02-9351-c1785ee475cf",
   "metadata": {},
   "source": [
    "__Ejercicio 5:__"
   ]
  },
  {
   "cell_type": "markdown",
   "id": "1b0c74e5-0307-40c6-8483-e8f3c1386a97",
   "metadata": {},
   "source": [
    "Utilizar la función join para unir los dataframe consultas y doctores en base a la columna \"doctor\", agregar el sufico \"_id\" a la columna doctor del Dataframe izquierdo"
   ]
  },
  {
   "cell_type": "code",
   "execution_count": null,
   "id": "3907c5ee-7808-4d32-92af-bf439db76a26",
   "metadata": {},
   "outputs": [],
   "source": []
  },
  {
   "cell_type": "code",
   "execution_count": null,
   "id": "7d86bde5-b569-4bbd-b40f-1cdb41e48d2f",
   "metadata": {},
   "outputs": [],
   "source": []
  },
  {
   "cell_type": "markdown",
   "id": "4fbb1c09-6cb9-406d-a488-c15ea6c92b36",
   "metadata": {},
   "source": [
    "__Ejercicio 6:__"
   ]
  },
  {
   "cell_type": "markdown",
   "id": "a6449cbb-d577-490d-b367-a78e97bc8dd1",
   "metadata": {},
   "source": [
    "Ordenar el DataFrame anterior en base a la columna \"doctor\" "
   ]
  },
  {
   "cell_type": "code",
   "execution_count": null,
   "id": "7607b500-3ddc-45c4-bd3f-f0044c99843f",
   "metadata": {},
   "outputs": [],
   "source": []
  },
  {
   "cell_type": "markdown",
   "id": "297a2d03-d51d-4404-bdbc-13a13926b421",
   "metadata": {},
   "source": [
    "__Ejercicio 7:__"
   ]
  },
  {
   "cell_type": "markdown",
   "id": "7f2db34b-6e9b-4c84-9124-31845e59be06",
   "metadata": {},
   "source": [
    "Utilizar la función merge para unir los DataFrame doctores y especialidades en base a la columna \"id_especialidad\""
   ]
  },
  {
   "cell_type": "code",
   "execution_count": null,
   "id": "dfa176ba-a18f-4797-8d02-152ffd7de196",
   "metadata": {},
   "outputs": [],
   "source": []
  },
  {
   "cell_type": "code",
   "execution_count": null,
   "id": "f1a414f3-f92a-4ca3-b423-1b4dab6a2624",
   "metadata": {},
   "outputs": [],
   "source": []
  },
  {
   "cell_type": "code",
   "execution_count": null,
   "id": "4ca442cc-e1a4-45d9-a90b-c21565cee483",
   "metadata": {},
   "outputs": [],
   "source": []
  },
  {
   "cell_type": "markdown",
   "id": "de287b00-3d55-4f12-81d3-4f0554bfb4de",
   "metadata": {},
   "source": [
    "__Ejercicio 8:__"
   ]
  },
  {
   "cell_type": "markdown",
   "id": "07d11162-2cf5-4009-bb94-f1ee3ca9614b",
   "metadata": {
    "tags": []
   },
   "source": [
    "Utilizar la funcion merge para unir los DataFrame consultas y doctores,para comparar:\n",
    "- Utilizar la columna \"doctor\" en el DataFrame consultas\n",
    "- Utilizar el indice en el DataFrame doctores"
   ]
  },
  {
   "cell_type": "code",
   "execution_count": null,
   "id": "8f144c69-3d70-4bdd-aca0-f56da0934757",
   "metadata": {},
   "outputs": [],
   "source": []
  },
  {
   "cell_type": "code",
   "execution_count": null,
   "id": "813ee1a6-b0e5-4562-96cc-aa72d7a08415",
   "metadata": {},
   "outputs": [],
   "source": []
  },
  {
   "cell_type": "code",
   "execution_count": null,
   "id": "680354ac-6dac-4baa-b783-972994353019",
   "metadata": {},
   "outputs": [],
   "source": []
  },
  {
   "cell_type": "markdown",
   "id": "085061c1-3923-4ec2-9c80-5645061b936c",
   "metadata": {},
   "source": [
    "__Ejercicio 9:__"
   ]
  },
  {
   "cell_type": "markdown",
   "id": "b408f813-3f4f-44f9-b9fe-c3b4ff811285",
   "metadata": {},
   "source": [
    "Utilizar la funcion merge para unir los DataFrame especialidades y doctores, para comparar:\n",
    "- Utilizar el indice en el DataFrame especialidades\n",
    "- Utilizar la columna \"id_especialidad\" en el DataFrame doctores"
   ]
  },
  {
   "cell_type": "code",
   "execution_count": null,
   "id": "b5d7f068-3044-4d4d-a708-407c3c606f2b",
   "metadata": {},
   "outputs": [],
   "source": []
  },
  {
   "cell_type": "markdown",
   "id": "c3a227bd-001f-4a98-bc9b-2f3b6a833235",
   "metadata": {},
   "source": [
    "__Ejercicio 10:__"
   ]
  },
  {
   "cell_type": "markdown",
   "id": "9ef22fc0-0180-4b9c-bfa2-6266fd37f9fa",
   "metadata": {},
   "source": [
    "Utilizar la funcion merge para unir los DataFrame consultas y doctores, para comparar:\n",
    "   - Utilizar la columna \"doctor\" en el DataFrame consultas\n",
    "   - Utilizar la columna \"id\" en el DaraFrame doctores"
   ]
  },
  {
   "cell_type": "code",
   "execution_count": null,
   "id": "8d0c5274-11b0-4d0c-9281-ea2ec0668809",
   "metadata": {},
   "outputs": [],
   "source": []
  },
  {
   "cell_type": "code",
   "execution_count": null,
   "id": "a42427a2-a433-4547-b844-8d2e39d1743b",
   "metadata": {},
   "outputs": [],
   "source": []
  },
  {
   "cell_type": "code",
   "execution_count": null,
   "id": "54e058b1-4b9f-421a-ad1a-16898a90cfbb",
   "metadata": {},
   "outputs": [],
   "source": []
  },
  {
   "cell_type": "markdown",
   "id": "6519a6aa-d2d8-4f41-bcd9-474cc65bd877",
   "metadata": {},
   "source": [
    "__Ejercicio 11:__"
   ]
  },
  {
   "cell_type": "markdown",
   "id": "39ed9bb8-aaf6-48de-86ed-1e63c71febed",
   "metadata": {},
   "source": [
    "Modificar el DataFrame anterior:\n",
    "- Agregar el sufijo \"_id\" a la columna \"doctor\" del Dataframe consultas\n",
    "- Agregar el sufijo \"_nombre\" a la columna \"doctor\" del DataFrame doctores"
   ]
  },
  {
   "cell_type": "code",
   "execution_count": null,
   "id": "53caeff6-5861-488d-bb99-545f14d2a6a7",
   "metadata": {},
   "outputs": [],
   "source": []
  },
  {
   "cell_type": "markdown",
   "id": "e097519a-8b88-44a0-98e8-1769316a9198",
   "metadata": {},
   "source": [
    "__Ejercicio 12:__"
   ]
  },
  {
   "cell_type": "markdown",
   "id": "2c23477a-b767-41ca-a2f3-4fbc6040d325",
   "metadata": {},
   "source": [
    "Modificar el DataFrame anterior, al momento de hacer la unión solo incluir la columna \"doctor\""
   ]
  },
  {
   "cell_type": "code",
   "execution_count": null,
   "id": "d3f28fa5-8055-48ee-8959-30e373aae9ee",
   "metadata": {},
   "outputs": [],
   "source": []
  },
  {
   "cell_type": "markdown",
   "id": "1dbeb7d0-8d81-44a5-b424-b6d884007021",
   "metadata": {},
   "source": [
    "__Ejercicio 13:__ "
   ]
  },
  {
   "cell_type": "markdown",
   "id": "075beeea-f37b-4455-af76-2f85911b91aa",
   "metadata": {},
   "source": [
    "Utilizar la funcion merge para unir los DataFrame consultas y doctores, para comparar:\n",
    "- Utilizar la columna \"doctor\" en el DataFrame consultas\n",
    "- Utilizar la columna \"id\" en el DaraFrame doctores\n",
    "- Utilizar una unión izquierda"
   ]
  },
  {
   "cell_type": "code",
   "execution_count": null,
   "id": "b7bd0296-7e5c-4aa0-91a4-f78c72608e18",
   "metadata": {},
   "outputs": [],
   "source": []
  },
  {
   "cell_type": "code",
   "execution_count": null,
   "id": "114e7ad3-b0fc-4942-a713-ef1dadbb5ae3",
   "metadata": {},
   "outputs": [],
   "source": []
  },
  {
   "cell_type": "code",
   "execution_count": null,
   "id": "8de81a51-0c2a-4097-9776-af710a8a74ac",
   "metadata": {},
   "outputs": [],
   "source": []
  },
  {
   "cell_type": "markdown",
   "id": "b2a64963-1112-47f2-bcbe-ce5bf0fdef62",
   "metadata": {},
   "source": [
    "__Ejercicio 14:__"
   ]
  },
  {
   "cell_type": "markdown",
   "id": "aa1a578a-f6f9-4421-a8b9-51096d0393a8",
   "metadata": {},
   "source": [
    "Utilizar la funcion merge para unir los DataFrame consultas y doctores, para comparar:\n",
    "- Utilizar la columna \"doctor\" en el DataFrame consultas\n",
    "- Utilizar la columna \"id\" en el DaraFrame doctores\n",
    "- Utilizar una unión derecha"
   ]
  },
  {
   "cell_type": "code",
   "execution_count": null,
   "id": "bec48c77-2ce6-4cc7-b875-ea60c5350618",
   "metadata": {},
   "outputs": [],
   "source": []
  },
  {
   "cell_type": "markdown",
   "id": "68d4f3a0-4ef2-46a3-b5b1-85f274345290",
   "metadata": {},
   "source": [
    "__Ejercicio 15:__"
   ]
  },
  {
   "cell_type": "markdown",
   "id": "2ace8a9f-f6c5-4231-8c8c-f5a20a25a413",
   "metadata": {},
   "source": [
    "Utilizar la funcion merge para unir los DataFrame consultas y doctores, para comparar:\n",
    "- Utilizar la columna \"doctor\" en el DataFrame consultas\n",
    "- Utilizar la columna \"id\" en el DaraFrame doctores\n",
    "- Utilizar una unión exterior"
   ]
  },
  {
   "cell_type": "code",
   "execution_count": null,
   "id": "17ab9620-81ee-48a4-b5b0-a7fb1af6aa15",
   "metadata": {},
   "outputs": [],
   "source": []
  },
  {
   "cell_type": "markdown",
   "id": "6df94add-39ff-45c8-9e06-bd0c8f98496c",
   "metadata": {},
   "source": [
    "__Ejercicio 16:__"
   ]
  },
  {
   "cell_type": "markdown",
   "id": "f3dc9341-c8d9-4f3c-a618-7ea1e7876c5a",
   "metadata": {},
   "source": [
    "Utilizar la funcion merge para unir los DataFrame consultas y doctores, para comparar:\n",
    "- Utilizar la columna \"doctor\" en el DataFrame consultas\n",
    "- Utilizar la columna \"id\" en el DaraFrame doctores\n",
    "- Utilizar una unión externa\n",
    "- Indicar la tabla de origen de cada fila"
   ]
  },
  {
   "cell_type": "code",
   "execution_count": null,
   "id": "efd06e3a-d0bb-42ae-9c7b-d1dfdac39344",
   "metadata": {},
   "outputs": [],
   "source": []
  }
 ],
 "metadata": {
  "kernelspec": {
   "display_name": "Python 3 (ipykernel)",
   "language": "python",
   "name": "python3"
  },
  "language_info": {
   "codemirror_mode": {
    "name": "ipython",
    "version": 3
   },
   "file_extension": ".py",
   "mimetype": "text/x-python",
   "name": "python",
   "nbconvert_exporter": "python",
   "pygments_lexer": "ipython3",
   "version": "3.9.12"
  }
 },
 "nbformat": 4,
 "nbformat_minor": 5
}
