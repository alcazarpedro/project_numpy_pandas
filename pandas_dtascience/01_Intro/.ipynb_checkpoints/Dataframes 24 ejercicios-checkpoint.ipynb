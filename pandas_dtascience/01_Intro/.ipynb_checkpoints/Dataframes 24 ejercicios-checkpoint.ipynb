{
 "cells": [
  {
   "cell_type": "markdown",
   "id": "c9e1c77b-c58d-4567-b7e9-6bf684455358",
   "metadata": {},
   "source": [
    "# DataFrame"
   ]
  },
  {
   "cell_type": "code",
   "execution_count": 1,
   "id": "16011e83-f700-4003-b0cb-e159a34d6c9a",
   "metadata": {},
   "outputs": [],
   "source": [
    "import pandas as pd"
   ]
  },
  {
   "cell_type": "markdown",
   "id": "fa3a833e-b662-4641-b081-2ad313a85fa5",
   "metadata": {},
   "source": [
    "__Ejercicio 1:__ Crear una Serie con la siguiente lista, la cual contiene la altura de un grupo de personas medidas en cm"
   ]
  },
  {
   "cell_type": "code",
   "execution_count": null,
   "id": "200618db-512c-4a22-9fab-ffd67a2c9fe9",
   "metadata": {},
   "outputs": [],
   "source": [
    "altura=[166,159,168,173,162,178]\n",
    "altura"
   ]
  },
  {
   "cell_type": "code",
   "execution_count": null,
   "id": "37a33a68-7fd1-4c28-9d24-004c0367143f",
   "metadata": {},
   "outputs": [],
   "source": []
  },
  {
   "cell_type": "code",
   "execution_count": null,
   "id": "0105215b-a60c-42c7-b4a9-77543ff42d7c",
   "metadata": {},
   "outputs": [],
   "source": []
  },
  {
   "cell_type": "markdown",
   "id": "b21e1a19-280b-4f9a-850e-43e491f1399b",
   "metadata": {},
   "source": [
    "__Ejercicio 2:__ Obtener la altura máxima en la serie anterior"
   ]
  },
  {
   "cell_type": "code",
   "execution_count": null,
   "id": "871c80ca-003a-4333-9886-38bf722faf70",
   "metadata": {},
   "outputs": [],
   "source": []
  },
  {
   "cell_type": "markdown",
   "id": "64d13ab5-b6c1-4217-b164-11bb9b9deba4",
   "metadata": {},
   "source": [
    "__Ejercicio 3:__ Obtener las alturas superiores a 165 cm"
   ]
  },
  {
   "cell_type": "code",
   "execution_count": null,
   "id": "625b5c17-65ec-46c1-9b73-e3b5c0a870c2",
   "metadata": {},
   "outputs": [],
   "source": []
  },
  {
   "cell_type": "code",
   "execution_count": null,
   "id": "e1f740d2-6842-4d1a-9e2f-da425006c474",
   "metadata": {},
   "outputs": [],
   "source": []
  },
  {
   "cell_type": "code",
   "execution_count": null,
   "id": "8772ea05-bede-4fd6-ac96-a58acaa61bed",
   "metadata": {},
   "outputs": [],
   "source": []
  },
  {
   "cell_type": "markdown",
   "id": "b8699def-4dc6-4821-a998-b56bbf66234c",
   "metadata": {},
   "source": [
    "__Ejercicio 4:__ calcular la altura en metros (dividir los valores en la columna altura entre 100)"
   ]
  },
  {
   "cell_type": "code",
   "execution_count": null,
   "id": "6a621afd-39ba-452a-af4c-9b100b7427fa",
   "metadata": {},
   "outputs": [],
   "source": []
  },
  {
   "cell_type": "markdown",
   "id": "fe4f4490-a960-406f-b68c-90553edc1bd5",
   "metadata": {},
   "source": [
    "__Ejercicio 5:__ Crear un DataFrame utilizando la siguiente información, utilizar la columna flor como indice"
   ]
  },
  {
   "cell_type": "code",
   "execution_count": null,
   "id": "a74ec9d2-f665-4f7b-9e24-2dceac44a8cb",
   "metadata": {},
   "outputs": [],
   "source": [
    "datos={  \n",
    "        \"flor\":[\"Rosa\",\"Tulipan\",\"Hortensia\",\"Anturio\",\"Alstroemeria\",\"Girasol\",\"Gerbera\"],  \n",
    "        \"precio\":[12,15,9,18,21,13,18],  \n",
    "        \"stock\":[2900,2300,1800,1900,1700,2500,2200],\n",
    "        }"
   ]
  },
  {
   "cell_type": "code",
   "execution_count": null,
   "id": "a7ad6687-3ede-4f6a-af23-20b8b74da40d",
   "metadata": {},
   "outputs": [],
   "source": []
  },
  {
   "cell_type": "markdown",
   "id": "1088c59f-9db1-4f50-85f6-12d56a30504d",
   "metadata": {},
   "source": [
    "__Ejercicio 6:__ Obtener la información las rosas y hortensias utilizando el DataFrame anterior"
   ]
  },
  {
   "cell_type": "code",
   "execution_count": null,
   "id": "627d860e-8eec-4915-b51c-df27e919c5c0",
   "metadata": {},
   "outputs": [],
   "source": []
  },
  {
   "cell_type": "markdown",
   "id": "062290bd-2c97-4513-bcee-b56a65c6120c",
   "metadata": {},
   "source": [
    "__Ejercicio 7:__ Obtener la información sobre las flores en la posición 2 y 3"
   ]
  },
  {
   "cell_type": "code",
   "execution_count": null,
   "id": "24bc3e1e-15b0-4588-8b98-80e2c18a86a6",
   "metadata": {},
   "outputs": [],
   "source": []
  },
  {
   "cell_type": "code",
   "execution_count": null,
   "id": "edb9f5de-8b7e-4697-8a28-3f9b2f062845",
   "metadata": {},
   "outputs": [],
   "source": []
  },
  {
   "cell_type": "raw",
   "id": "11ae89f2-6647-47ee-b8aa-702931b48d38",
   "metadata": {},
   "source": []
  },
  {
   "cell_type": "markdown",
   "id": "a5d382b3-4a94-4542-b894-b1c56b173d3a",
   "metadata": {},
   "source": [
    "__Ejercicio 8:__ Obtener los datos de la columna precio"
   ]
  },
  {
   "cell_type": "code",
   "execution_count": null,
   "id": "2bb9a153-fb4a-4ca2-9470-1f195d033aed",
   "metadata": {},
   "outputs": [],
   "source": []
  },
  {
   "cell_type": "markdown",
   "id": "6bc86e16-b638-4201-bfef-11602ac91a2e",
   "metadata": {},
   "source": [
    "__Ejercicio 9:__ Obtener el precio promedio de las flores"
   ]
  },
  {
   "cell_type": "code",
   "execution_count": null,
   "id": "6b5adba2-a72b-4bb7-bbaf-95ef170addca",
   "metadata": {},
   "outputs": [],
   "source": []
  },
  {
   "cell_type": "markdown",
   "id": "db96f720-59cc-46ce-92e1-e225c302476c",
   "metadata": {},
   "source": [
    "__Ejercicio 10:__ Obtener los registros(filas) de las flores con un stock superior a 2000"
   ]
  },
  {
   "cell_type": "code",
   "execution_count": null,
   "id": "7ba16597-755b-4b05-af57-89b4d990fa18",
   "metadata": {},
   "outputs": [],
   "source": []
  },
  {
   "cell_type": "markdown",
   "id": "cf3847f3-1fd5-47ad-9dbf-29be4df427d5",
   "metadata": {},
   "source": [
    "__Ejercicio 11:__ Calcular el precio de las flores por docena"
   ]
  },
  {
   "cell_type": "code",
   "execution_count": null,
   "id": "ef622756-b1b2-4e61-916a-1bcfbdb902fc",
   "metadata": {},
   "outputs": [],
   "source": []
  },
  {
   "cell_type": "markdown",
   "id": "992aea1e-ab6d-4db9-bce3-9e24d6746afc",
   "metadata": {},
   "source": [
    "__Ejercicio 12:__ Guardar el DataFrame anterior en un archivo llamado \"flores.xlsx\""
   ]
  },
  {
   "cell_type": "code",
   "execution_count": null,
   "id": "2235b6a3-47f4-49f0-8b25-e3135a4e6f1d",
   "metadata": {},
   "outputs": [],
   "source": []
  },
  {
   "cell_type": "markdown",
   "id": "204e2404-38ec-4fbb-bb09-e21339126889",
   "metadata": {},
   "source": [
    "__Ejercicio 13:__ Crear una serie utilizando la siguiente lista, contiene el peso de un grupo de personas medido en Kg"
   ]
  },
  {
   "cell_type": "code",
   "execution_count": null,
   "id": "829d99ae-a010-42ab-9b49-56a30352e4b9",
   "metadata": {},
   "outputs": [],
   "source": [
    "peso=[68.2,72.3,100,71.9,88.2,93.4]"
   ]
  },
  {
   "cell_type": "code",
   "execution_count": null,
   "id": "fb35abe1-456a-40e5-8ee5-b380a3b3e1b3",
   "metadata": {},
   "outputs": [],
   "source": []
  },
  {
   "cell_type": "markdown",
   "id": "195d62f4-57e1-49f4-92e9-097b83a491c2",
   "metadata": {},
   "source": [
    "__Ejercicio 14:__ Obtener el peso máximo en la serie anterior"
   ]
  },
  {
   "cell_type": "code",
   "execution_count": null,
   "id": "cb454875-9e02-4a8e-bde4-70daaf8de4e7",
   "metadata": {},
   "outputs": [],
   "source": []
  },
  {
   "cell_type": "markdown",
   "id": "37f34d55-254d-4a13-be4b-923718b814ca",
   "metadata": {},
   "source": [
    "__Ejercicio 15:__ Obtener los pesos menores a 80 kg"
   ]
  },
  {
   "cell_type": "code",
   "execution_count": null,
   "id": "972b6b90-69fd-41ed-8143-e043f7d31d40",
   "metadata": {},
   "outputs": [],
   "source": []
  },
  {
   "cell_type": "markdown",
   "id": "1f28545b-a810-4b5c-94de-42761e379591",
   "metadata": {},
   "source": [
    "__Ejercicio 16:__ Convertir la lista de pesos de kg a libras (multiplicar los kilogramos por 2.2)"
   ]
  },
  {
   "cell_type": "code",
   "execution_count": null,
   "id": "ec598ffa-848f-4854-b8bb-5a07275aaf53",
   "metadata": {},
   "outputs": [],
   "source": []
  },
  {
   "cell_type": "markdown",
   "id": "b96992e1-6768-436e-b7b6-0e231fe9d724",
   "metadata": {},
   "source": [
    "__Ejercicio 17:__ Crear un DataFrame llamado delanteros utilizando el siguiente diccionario de datos, utilizar la columna delantero como indice"
   ]
  },
  {
   "cell_type": "code",
   "execution_count": 25,
   "id": "b555d626-923e-4b20-89c2-3bda760b6c69",
   "metadata": {},
   "outputs": [],
   "source": [
    "datos={  \n",
    "        \"delantero\":[\"Brandon  Andraca\",\"Kevin Solórzano\",\"Héctor Campos\",\"Orlando Luna\",\"Óscar Reyes\",\"Nelson Alcocer\",\"Eder Carrillo\"],  \n",
    "        \"goles\":[16,12,20,14,14,19,8],  \n",
    "        \"asistencias\":[9,8,7,3,8,5,7],\n",
    "        \"minutos_jugados\":[450,480,390,380,420,430,290]\n",
    "        }"
   ]
  },
  {
   "cell_type": "code",
   "execution_count": null,
   "id": "74c43106-24d5-4d1c-8801-de2a9f061f46",
   "metadata": {},
   "outputs": [],
   "source": []
  },
  {
   "cell_type": "markdown",
   "id": "178a16f2-1540-4f1e-a372-98e0126ba3d2",
   "metadata": {},
   "source": [
    "__Ejercicio 18:__ Obtener la información de Óscar Reyes y Orlando Luna"
   ]
  },
  {
   "cell_type": "code",
   "execution_count": null,
   "id": "75ba6cd4-7973-4e65-9864-c46fc98802d4",
   "metadata": {},
   "outputs": [],
   "source": []
  },
  {
   "cell_type": "markdown",
   "id": "b9053b91-2b16-4110-b98b-5e8c8ed133e3",
   "metadata": {},
   "source": [
    "__Ejercicio 19:__ Obtener los datos de los delanteros en la posición 5 y 6 del DataFrame delanteros"
   ]
  },
  {
   "cell_type": "code",
   "execution_count": null,
   "id": "152a1637-4968-4886-ab82-353ce218a335",
   "metadata": {},
   "outputs": [],
   "source": []
  },
  {
   "cell_type": "markdown",
   "id": "c3685d44-82c3-47e3-95dd-35a60e4c8987",
   "metadata": {},
   "source": [
    "__Ejercicio 20:__ Obtener los datos de la columna asistencias"
   ]
  },
  {
   "cell_type": "code",
   "execution_count": null,
   "id": "24dda65e-e3c5-4081-92b3-47dac182693e",
   "metadata": {},
   "outputs": [],
   "source": []
  },
  {
   "cell_type": "markdown",
   "id": "96740753-072f-4680-b11b-fdfa7e5dcc06",
   "metadata": {},
   "source": [
    "__Ejercicio 21:__ Obtener los goles promedio de los jugadores"
   ]
  },
  {
   "cell_type": "code",
   "execution_count": null,
   "id": "7c4ebae1-2a31-4bf2-9b16-9f512a75314c",
   "metadata": {},
   "outputs": [],
   "source": []
  },
  {
   "cell_type": "markdown",
   "id": "3a46a87f-2194-46fe-9f50-a350b228ef47",
   "metadata": {},
   "source": [
    "__Ejercicio 22:__ Obtener los datos de los delanteros con más de 5 asistencias"
   ]
  },
  {
   "cell_type": "code",
   "execution_count": null,
   "id": "ddccb66a-055e-4247-8b01-e39657ea6122",
   "metadata": {},
   "outputs": [],
   "source": []
  },
  {
   "cell_type": "markdown",
   "id": "c1305f17-9b0d-4c11-a6fe-6b75319e592b",
   "metadata": {},
   "source": [
    "__Ejercicio 23:__ Obtener la cantidad de minutos promedio que le toma a cada jugador anotar un gol (dividir goles entre minutos_jugados)"
   ]
  },
  {
   "cell_type": "code",
   "execution_count": null,
   "id": "72f15b7b-f587-47d7-8e8e-cadf67b3df58",
   "metadata": {},
   "outputs": [],
   "source": []
  },
  {
   "cell_type": "markdown",
   "id": "4ba86d15-d388-42aa-8ee9-0d4c67035928",
   "metadata": {},
   "source": [
    "__Ejercicio 24:__ Guardar el DataFrame anterior en un archivo .xlsx"
   ]
  },
  {
   "cell_type": "code",
   "execution_count": null,
   "id": "ded1d22b-2253-41a9-8b86-5a3f89b6cc3e",
   "metadata": {},
   "outputs": [],
   "source": []
  }
 ],
 "metadata": {
  "kernelspec": {
   "display_name": "Python 3 (ipykernel)",
   "language": "python",
   "name": "python3"
  },
  "language_info": {
   "codemirror_mode": {
    "name": "ipython",
    "version": 3
   },
   "file_extension": ".py",
   "mimetype": "text/x-python",
   "name": "python",
   "nbconvert_exporter": "python",
   "pygments_lexer": "ipython3",
   "version": "3.9.7"
  }
 },
 "nbformat": 4,
 "nbformat_minor": 5
}
