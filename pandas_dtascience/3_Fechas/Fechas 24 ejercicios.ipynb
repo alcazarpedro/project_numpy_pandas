{
 "cells": [
  {
   "cell_type": "markdown",
   "id": "b43eba20-6a17-4420-8287-81d52dbfd228",
   "metadata": {},
   "source": [
    "# Ejercicios con fechas Pandas"
   ]
  },
  {
   "cell_type": "code",
   "execution_count": 1,
   "id": "2ec638b6-eb44-4424-9b62-0a0d8ef32599",
   "metadata": {},
   "outputs": [],
   "source": [
    "import pandas as pd"
   ]
  },
  {
   "cell_type": "markdown",
   "id": "6bd2f271-0687-43d7-9bc7-f0eeb2fda89b",
   "metadata": {},
   "source": [
    "__Ejercicio 1:__ Obtener la fecha de hoy con Timestamp.now:"
   ]
  },
  {
   "cell_type": "code",
   "execution_count": null,
   "id": "112c1ee9-44ff-4fbc-9af3-85e7b6438b7a",
   "metadata": {},
   "outputs": [],
   "source": []
  },
  {
   "cell_type": "markdown",
   "id": "6fe73e72-6d53-40d9-ba49-d710ef136e18",
   "metadata": {},
   "source": [
    "__Ejercicio 2:__ Crear una variable llamada \"hoy\" con la fecha actual:"
   ]
  },
  {
   "cell_type": "code",
   "execution_count": null,
   "id": "8d0825e5-0394-4a2a-b689-46d57adce931",
   "metadata": {},
   "outputs": [],
   "source": []
  },
  {
   "cell_type": "markdown",
   "id": "b6163ead-3c20-47d5-8b6c-ec06ba0c6369",
   "metadata": {},
   "source": [
    "__Ejercicio 3:__ Obtener el año, mes y día de la fecha de hoy utilizando la variable anterior:"
   ]
  },
  {
   "cell_type": "code",
   "execution_count": null,
   "id": "5819bcb0-bda6-4cc4-9337-800415bfd8bd",
   "metadata": {},
   "outputs": [],
   "source": []
  },
  {
   "cell_type": "code",
   "execution_count": null,
   "id": "0640e0a0-f551-47c9-9e1e-fb3a7bc6ee4d",
   "metadata": {},
   "outputs": [],
   "source": []
  },
  {
   "cell_type": "code",
   "execution_count": null,
   "id": "3d43820d-49cf-480c-a41a-2effca1a36c4",
   "metadata": {},
   "outputs": [],
   "source": []
  },
  {
   "cell_type": "markdown",
   "id": "d7083766-5481-4093-adaf-0e7153443b35",
   "metadata": {},
   "source": [
    "__Ejercicio 4:__ Obtener el mes en español"
   ]
  },
  {
   "cell_type": "code",
   "execution_count": 2,
   "id": "fad92717-9cec-4861-a02a-84985206913c",
   "metadata": {},
   "outputs": [],
   "source": [
    "meses_esp = {1: 'Enero', \n",
    "             2: 'Febrero',\n",
    "             3: 'Marzo',\n",
    "             4: 'Abril',\n",
    "             5: 'Mayo',\n",
    "             6: 'Junio',\n",
    "             7: 'Julio',\n",
    "             8: 'Agosto',\n",
    "             9: 'Septiembre',\n",
    "             10: 'Octubre',\n",
    "             11: 'Noviembre',\n",
    "             12: 'Diciembre'}"
   ]
  },
  {
   "cell_type": "code",
   "execution_count": null,
   "id": "fffa434b-5c3f-4239-ade9-e848340ef398",
   "metadata": {},
   "outputs": [],
   "source": []
  },
  {
   "cell_type": "code",
   "execution_count": null,
   "id": "02268319-396d-4c95-823b-8cef54f5b555",
   "metadata": {},
   "outputs": [],
   "source": []
  },
  {
   "cell_type": "markdown",
   "id": "be8d22dd-536c-4b17-b02a-9c9e7f323c55",
   "metadata": {},
   "source": [
    "__Ejercicio 5__ Nombrar todos los días de la siguiente semana utilizando pandas date_range:"
   ]
  },
  {
   "cell_type": "code",
   "execution_count": null,
   "id": "b504067a-dc10-4f3b-982c-acd71fee906e",
   "metadata": {},
   "outputs": [],
   "source": []
  },
  {
   "cell_type": "markdown",
   "id": "bd87aaff-c3b7-4b9e-94a1-834f1a60285f",
   "metadata": {},
   "source": [
    "__Ejercicio 6:__ Crear un dataframe de fechas con una diferencia de 5 días entre cada elemento"
   ]
  },
  {
   "cell_type": "code",
   "execution_count": null,
   "id": "2b04a974-758f-4899-9264-2e3bcb33a0ac",
   "metadata": {},
   "outputs": [],
   "source": []
  },
  {
   "cell_type": "markdown",
   "id": "87302b2a-8828-4cee-a0c2-4a3044c7e12a",
   "metadata": {},
   "source": [
    "__Ejercicio 7:__ Sumar 2 días y 9 semanas a la fecha de hoy:"
   ]
  },
  {
   "cell_type": "code",
   "execution_count": null,
   "id": "c1f35773-1dd9-4d19-9d3f-cf06e9165ea3",
   "metadata": {},
   "outputs": [],
   "source": []
  },
  {
   "cell_type": "markdown",
   "id": "0fad6187-fa73-4573-8ea7-4729ba40fee2",
   "metadata": {},
   "source": [
    "__Ejercicio 8:__ Obtener el día de la semana en letras (en inglés) del día de hoy"
   ]
  },
  {
   "cell_type": "code",
   "execution_count": null,
   "id": "b7e629fa-2edf-4fbc-b4a5-732c7fbf8d70",
   "metadata": {},
   "outputs": [],
   "source": []
  },
  {
   "cell_type": "markdown",
   "id": "d3b844f7-7a7f-44fa-bff2-ad65f986d0ea",
   "metadata": {},
   "source": [
    "__Ejercicio 9:__"
   ]
  },
  {
   "cell_type": "markdown",
   "id": "62c26876-4c9d-4990-a56a-3c18f74aa432",
   "metadata": {},
   "source": [
    "Utilizar datetime.strftime para obtener la fecha en un formato personalizado (Ej. \"Fecha: 10/02/15\")"
   ]
  },
  {
   "cell_type": "code",
   "execution_count": null,
   "id": "34b80270-5ccf-4ad0-8dd4-a0aa92a9084c",
   "metadata": {},
   "outputs": [],
   "source": []
  },
  {
   "cell_type": "code",
   "execution_count": null,
   "id": "0993a6c4-ef61-4ae0-bf02-17e6ffc2870d",
   "metadata": {},
   "outputs": [],
   "source": []
  },
  {
   "cell_type": "markdown",
   "id": "4ebabe16-9808-49e4-bc7e-07874593d731",
   "metadata": {},
   "source": [
    "__Ejercicio 10__:"
   ]
  },
  {
   "cell_type": "markdown",
   "id": "84bec907-633e-4005-b78b-2da58ae3e0f8",
   "metadata": {},
   "source": [
    "Importar el archivo fecha.xlsx"
   ]
  },
  {
   "cell_type": "code",
   "execution_count": null,
   "id": "0b49cb16-e2ee-47b8-b11f-b1090f04b9fe",
   "metadata": {},
   "outputs": [],
   "source": []
  },
  {
   "cell_type": "code",
   "execution_count": null,
   "id": "8cd00dfb-5854-41d6-a110-235b39e27307",
   "metadata": {},
   "outputs": [],
   "source": []
  },
  {
   "cell_type": "markdown",
   "id": "28486520-5d90-4874-8277-9dd435571c44",
   "metadata": {},
   "source": [
    "Agregar al dataframe una columna con el día, otra con el mes y finalmente una con el año de cada fecha:"
   ]
  },
  {
   "cell_type": "code",
   "execution_count": null,
   "id": "ea130291-ab7c-44a1-b7cf-bb150dd893bd",
   "metadata": {},
   "outputs": [],
   "source": []
  },
  {
   "cell_type": "markdown",
   "id": "62483379-d76d-462c-b328-22b53acbc0ea",
   "metadata": {},
   "source": [
    "__Ejercicio 11:__ Obtener el año y el mes en una sola columna utilizando el indice del DataFrame anterior"
   ]
  },
  {
   "cell_type": "code",
   "execution_count": null,
   "id": "07475b4a-d5cd-42fc-9b48-274351253c2e",
   "metadata": {},
   "outputs": [],
   "source": []
  },
  {
   "cell_type": "markdown",
   "id": "fa51ae84-8193-483a-b885-0bf361dc7703",
   "metadata": {},
   "source": [
    "__Ejercicio 12:__ Obtener el día de la semana (en inglés) de las fechas en el DataFrame anterior"
   ]
  },
  {
   "cell_type": "code",
   "execution_count": null,
   "id": "bfc55488-ee0e-48a7-b4df-56b139dcc809",
   "metadata": {},
   "outputs": [],
   "source": []
  },
  {
   "cell_type": "markdown",
   "id": "77f86e0d-f578-44ba-9327-b42007162ef8",
   "metadata": {},
   "source": [
    "__Ejercicio 13:__"
   ]
  },
  {
   "cell_type": "markdown",
   "id": "e9edaf8d-10f6-4e8f-913a-3142a18fb2ca",
   "metadata": {},
   "source": [
    "Importar los datos del archivo \"columna.xlsx\""
   ]
  },
  {
   "cell_type": "code",
   "execution_count": null,
   "id": "bdbd9abc-d116-45e4-9ee5-58978f86c0ef",
   "metadata": {},
   "outputs": [],
   "source": []
  },
  {
   "cell_type": "code",
   "execution_count": null,
   "id": "3fcf82ab-b3b2-4d77-8e46-dd18533f3d21",
   "metadata": {},
   "outputs": [],
   "source": []
  },
  {
   "cell_type": "markdown",
   "id": "59b12cc0-8b67-427f-aa9d-c880c1f98c9c",
   "metadata": {},
   "source": [
    "Obtener el año y el mes en una sola columna utilizando el indice del DataFrame anterior"
   ]
  },
  {
   "cell_type": "code",
   "execution_count": null,
   "id": "30e7b2c9-6536-482e-9e17-23f1fe12a706",
   "metadata": {},
   "outputs": [],
   "source": []
  },
  {
   "cell_type": "markdown",
   "id": "761bcc3e-6c88-49a5-b28f-6cf45b399fa2",
   "metadata": {},
   "source": [
    "__Ejercicio 14__: "
   ]
  },
  {
   "cell_type": "markdown",
   "id": "924d18fa-5848-4c5b-b2c0-ca0cac090730",
   "metadata": {},
   "source": [
    "Importar la información del archivo \"datos.xlsx\""
   ]
  },
  {
   "cell_type": "code",
   "execution_count": null,
   "id": "6f05f46f-a7d4-474f-80ff-cc28976e7fa7",
   "metadata": {},
   "outputs": [],
   "source": []
  },
  {
   "cell_type": "markdown",
   "id": "7acacafa-76e5-43f6-9e19-f01b5e65057e",
   "metadata": {},
   "source": [
    "Crear una columna llamada fecha, que sea la unión del año, mes y día del dataframe anterior:"
   ]
  },
  {
   "cell_type": "code",
   "execution_count": null,
   "id": "13306ad5-8fdb-4ac6-8b60-fc564ebd2ee5",
   "metadata": {},
   "outputs": [],
   "source": []
  },
  {
   "cell_type": "code",
   "execution_count": null,
   "id": "1fdbbc28-d561-43ea-8b05-f1e2bc7e0908",
   "metadata": {},
   "outputs": [],
   "source": []
  },
  {
   "cell_type": "markdown",
   "id": "4611b68b-558c-41cd-b886-7a092ea6b13f",
   "metadata": {},
   "source": [
    "__Ejercicio 15:__ Crear una variable con la funcion pd.Timestamp que contenga la fecha \"15-05-2022\""
   ]
  },
  {
   "cell_type": "code",
   "execution_count": null,
   "id": "2bbb8f22-a512-4deb-8b09-561f68c00a69",
   "metadata": {},
   "outputs": [],
   "source": []
  },
  {
   "cell_type": "code",
   "execution_count": null,
   "id": "f778fcc7-fb0c-48e2-9a0a-81cfcc0f3cd0",
   "metadata": {},
   "outputs": [],
   "source": []
  },
  {
   "cell_type": "markdown",
   "id": "1192addb-55b8-4399-b2f6-1b0f77b8548f",
   "metadata": {},
   "source": [
    "__Ejericio 16:__ Obtener el año, día y mes de la fecha anterior"
   ]
  },
  {
   "cell_type": "code",
   "execution_count": null,
   "id": "a131db89-6d03-494b-ada8-5dad00877da8",
   "metadata": {},
   "outputs": [],
   "source": []
  },
  {
   "cell_type": "markdown",
   "id": "87ae827f-fd7c-46eb-b791-c17263e5ffe5",
   "metadata": {},
   "source": [
    "__Ejericio 17:__ Obtener el nombre del mes en español utilizando la fecha anterior (Ej. \"Enero\"):"
   ]
  },
  {
   "cell_type": "code",
   "execution_count": 3,
   "id": "e6f3dd06-1f40-4c18-9037-4c4819f0b1d3",
   "metadata": {},
   "outputs": [],
   "source": [
    "mes = { 1: 'Enero',\n",
    "        2: 'Febrero',\n",
    "        3: 'Marzo',\n",
    "        4: 'Abril',\n",
    "        5: 'Mayo',\n",
    "        6: 'Junio',\n",
    "        7: 'Julio', \n",
    "        8: 'Agosto',\n",
    "        9: 'Septiembre',\n",
    "        10: 'Octubre',\n",
    "        11: 'Noviembre',\n",
    "        12: 'Diciembre',\n",
    "      }"
   ]
  },
  {
   "cell_type": "code",
   "execution_count": null,
   "id": "eb0c61f5-7934-4bd9-957c-f82c6bbb0daf",
   "metadata": {},
   "outputs": [],
   "source": []
  },
  {
   "cell_type": "code",
   "execution_count": null,
   "id": "c7b6fe9b-3063-463a-92ae-b08b1359479d",
   "metadata": {},
   "outputs": [],
   "source": []
  },
  {
   "cell_type": "markdown",
   "id": "31af961e-00f0-464f-b820-25c8b7e25a97",
   "metadata": {},
   "source": [
    "__Ejercicio 18:__ Obtener una lista con todas las fechas entre \"2022-8-13\" y \"2022-8-24\" con pd.date_range"
   ]
  },
  {
   "cell_type": "code",
   "execution_count": null,
   "id": "b903166f-34c6-4d53-8a6e-505956274929",
   "metadata": {},
   "outputs": [],
   "source": []
  },
  {
   "cell_type": "markdown",
   "id": "2053fdee-2ad4-401d-82d1-9c0da623c643",
   "metadata": {},
   "source": [
    "__Ejercicio 19:__ Obtener una lista con 6 fechas empezando el día \"2022-09-15\" utilizando pd.date_range, cada fecha debe ser 5 días siguientes a la anterior"
   ]
  },
  {
   "cell_type": "code",
   "execution_count": null,
   "id": "4afbd9b2-69ac-4f44-adc3-76b168a118b3",
   "metadata": {},
   "outputs": [],
   "source": []
  },
  {
   "cell_type": "markdown",
   "id": "649d786a-43b6-48e1-b427-cfb643e77105",
   "metadata": {},
   "source": [
    "__Ejercicio 20:__ Sumar 4 días y 2 semanas a la fecha \"2022-12-22\""
   ]
  },
  {
   "cell_type": "code",
   "execution_count": null,
   "id": "d09facb0-7f06-4572-b7be-9df7f897718e",
   "metadata": {},
   "outputs": [],
   "source": []
  },
  {
   "cell_type": "markdown",
   "id": "0432c1dd-6ada-4149-af0f-5874bbfd08ff",
   "metadata": {},
   "source": [
    "__Ejercicio 21:__ Obtener la el día de la semana en la fecha \"2023-02-28\" (Ej. Thursday)"
   ]
  },
  {
   "cell_type": "code",
   "execution_count": null,
   "id": "541d6883-fd79-4553-8054-bf1f4596b2b9",
   "metadata": {},
   "outputs": [],
   "source": []
  },
  {
   "cell_type": "markdown",
   "id": "da3623ed-7125-408a-aaff-92a3a4dc8b6f",
   "metadata": {},
   "source": [
    "__Ejercicio 22:__ Utilizar strftime para obtener el nombre del mes (Ej. January) y el dia en la fecha \"2020/03/22\":"
   ]
  },
  {
   "cell_type": "code",
   "execution_count": null,
   "id": "cbf03c85-1391-443b-93e9-c408012720dc",
   "metadata": {},
   "outputs": [],
   "source": []
  },
  {
   "cell_type": "code",
   "execution_count": null,
   "id": "9a451fa1-152f-4e03-b328-b75b1b72b849",
   "metadata": {},
   "outputs": [],
   "source": []
  },
  {
   "cell_type": "markdown",
   "id": "f76c1f24-6474-4d65-bc44-e2ea7395466e",
   "metadata": {},
   "source": [
    "__Ejercicio 23:__ "
   ]
  },
  {
   "cell_type": "markdown",
   "id": "68777ed1-78b1-458d-a1bd-0f8712137ba8",
   "metadata": {},
   "source": [
    "Importar el archivo \"Ejercicio 23.xlsx\", utilizando la columna Fecha como indice:"
   ]
  },
  {
   "cell_type": "code",
   "execution_count": null,
   "id": "5ad0857b-c691-4263-81ff-8dfdf2e202b5",
   "metadata": {},
   "outputs": [],
   "source": []
  },
  {
   "cell_type": "markdown",
   "id": "43bedba6-08da-4ab7-9bda-c2cbbe297843",
   "metadata": {},
   "source": [
    "Utilizando el DataFrame anterior, crear una columna que contenga el mes de cada fecha:"
   ]
  },
  {
   "cell_type": "code",
   "execution_count": null,
   "id": "3806a7b9-35ba-46cb-a427-1e5f0594f704",
   "metadata": {},
   "outputs": [],
   "source": []
  },
  {
   "cell_type": "code",
   "execution_count": null,
   "id": "8d367044-514a-490c-aa88-f10fd8010940",
   "metadata": {},
   "outputs": [],
   "source": []
  },
  {
   "cell_type": "markdown",
   "id": "0eb9115a-b94d-40df-8ef4-2a687aa80423",
   "metadata": {},
   "source": [
    "__Ejercicio 24:__ Utilizando el DataFrame anterior, crear una columna únicamente con el año y día de cada fecha (Ej. 2020-13)"
   ]
  },
  {
   "cell_type": "code",
   "execution_count": null,
   "id": "1b0a939e-6761-4a06-8d77-e3999c497aee",
   "metadata": {},
   "outputs": [],
   "source": []
  },
  {
   "cell_type": "code",
   "execution_count": null,
   "id": "5da4d958-2335-461f-b23c-a818d3456fcf",
   "metadata": {},
   "outputs": [],
   "source": []
  }
 ],
 "metadata": {
  "kernelspec": {
   "display_name": "Python 3 (ipykernel)",
   "language": "python",
   "name": "python3"
  },
  "language_info": {
   "codemirror_mode": {
    "name": "ipython",
    "version": 3
   },
   "file_extension": ".py",
   "mimetype": "text/x-python",
   "name": "python",
   "nbconvert_exporter": "python",
   "pygments_lexer": "ipython3",
   "version": "3.9.7"
  }
 },
 "nbformat": 4,
 "nbformat_minor": 5
}
