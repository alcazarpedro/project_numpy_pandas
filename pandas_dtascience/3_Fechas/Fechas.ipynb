{
 "cells": [
  {
   "cell_type": "markdown",
   "id": "ff73e749-0ef0-4f80-ab50-31150dc5ee94",
   "metadata": {},
   "source": [
    "# Python: Fechas "
   ]
  },
  {
   "cell_type": "markdown",
   "id": "fb2afc6b-03bc-4330-819b-d8c81599ac17",
   "metadata": {},
   "source": [
    "Importar pandas y datetime:"
   ]
  },
  {
   "cell_type": "code",
   "execution_count": 2,
   "id": "724576aa-18cd-4e5d-b411-1b2da4154a55",
   "metadata": {},
   "outputs": [],
   "source": [
    "import pandas as pd\n",
    "import datetime as dt"
   ]
  },
  {
   "cell_type": "markdown",
   "id": "fa9fba8d-584a-40e4-b3b2-71143a0387a3",
   "metadata": {},
   "source": [
    "## Crear fechas"
   ]
  },
  {
   "cell_type": "markdown",
   "id": "0ac3c3b5-2d11-4804-b6da-259ecb385299",
   "metadata": {},
   "source": [
    "__Ejercicio 1:__  Obtener la fecha de hoy con Timestamp.now()"
   ]
  },
  {
   "cell_type": "code",
   "execution_count": 2,
   "id": "0f2491a9-6bbe-46f4-90ac-5a174096394e",
   "metadata": {},
   "outputs": [
    {
     "data": {
      "text/plain": [
       "Timestamp('2025-09-22 16:13:09.481734')"
      ]
     },
     "execution_count": 2,
     "metadata": {},
     "output_type": "execute_result"
    }
   ],
   "source": [
    "hoy = pd.Timestamp.now()\n",
    "hoy"
   ]
  },
  {
   "cell_type": "markdown",
   "id": "e92f93d5-447c-4267-b743-9123ab1dab5a",
   "metadata": {},
   "source": [
    "__Ejercicio 2:__ Obtener la fecha mínima y máxima en pandas Timestamp:"
   ]
  },
  {
   "cell_type": "code",
   "execution_count": 3,
   "id": "938293af-f3c3-44f7-a6ac-23d3821844c1",
   "metadata": {},
   "outputs": [
    {
     "data": {
      "text/plain": [
       "Timestamp('2262-04-11 23:47:16.854775807')"
      ]
     },
     "execution_count": 3,
     "metadata": {},
     "output_type": "execute_result"
    }
   ],
   "source": [
    "pd.Timestamp.max"
   ]
  },
  {
   "cell_type": "code",
   "execution_count": 4,
   "id": "3abc2690-dc98-4fb2-981c-1ebfa48b3413",
   "metadata": {},
   "outputs": [
    {
     "data": {
      "text/plain": [
       "Timestamp('1677-09-21 00:12:43.145224193')"
      ]
     },
     "execution_count": 4,
     "metadata": {},
     "output_type": "execute_result"
    }
   ],
   "source": [
    "pd.Timestamp.min"
   ]
  },
  {
   "cell_type": "markdown",
   "id": "32edb2db-29d2-46e5-8b05-67895bcf6766",
   "metadata": {},
   "source": [
    "__Ejercicio 3:__ Crear una variable con la fecha \"2022-15-06\" utilizando pd.Timestamp"
   ]
  },
  {
   "cell_type": "code",
   "execution_count": 5,
   "id": "3ae62ddb-753b-4d4f-a0f1-d3762c84a7ce",
   "metadata": {},
   "outputs": [],
   "source": [
    "fecha = pd.Timestamp(2022,6,15, 12,0,0)"
   ]
  },
  {
   "cell_type": "code",
   "execution_count": 6,
   "id": "1c978355",
   "metadata": {},
   "outputs": [
    {
     "data": {
      "text/plain": [
       "Timestamp('2022-06-15 12:00:00')"
      ]
     },
     "execution_count": 6,
     "metadata": {},
     "output_type": "execute_result"
    }
   ],
   "source": [
    "fecha"
   ]
  },
  {
   "cell_type": "markdown",
   "id": "cd0be7ec-e4d8-49be-8acf-b4c863f51c64",
   "metadata": {},
   "source": [
    "__Ejercicio 4:__ Sumar 5 días y 2 semanas a la fecha anterior:"
   ]
  },
  {
   "cell_type": "code",
   "execution_count": 7,
   "id": "c041bfba",
   "metadata": {},
   "outputs": [
    {
     "data": {
      "text/plain": [
       "Timestamp('2022-07-04 12:00:00')"
      ]
     },
     "execution_count": 7,
     "metadata": {},
     "output_type": "execute_result"
    }
   ],
   "source": [
    "fecha + pd.Timedelta(weeks=2,days=5)"
   ]
  },
  {
   "cell_type": "code",
   "execution_count": null,
   "id": "d7de9d18-62d1-416e-8a54-e6295733f9de",
   "metadata": {},
   "outputs": [],
   "source": []
  },
  {
   "cell_type": "markdown",
   "id": "09f05e50-1775-47e9-a7be-d79f7c628d55",
   "metadata": {},
   "source": [
    "__Ejercicio 5__: Crear una lista de fechas con los días entre \"2020/6/13\" y \"2020/6/16\" utilizando date_range"
   ]
  },
  {
   "cell_type": "code",
   "execution_count": 8,
   "id": "7907525f-b4ad-45f4-bb92-a4a9f29ae06f",
   "metadata": {},
   "outputs": [],
   "source": [
    "incio = pd.Timestamp(2020,6,13)\n",
    "final = pd.Timestamp(2020,6,16)"
   ]
  },
  {
   "cell_type": "code",
   "execution_count": 10,
   "id": "ce2191ef-a3d9-43bb-be13-4accbbaf54be",
   "metadata": {},
   "outputs": [
    {
     "data": {
      "text/plain": [
       "DatetimeIndex(['2020-06-13', '2020-06-14', '2020-06-15', '2020-06-16'], dtype='datetime64[ns]', freq='D')"
      ]
     },
     "execution_count": 10,
     "metadata": {},
     "output_type": "execute_result"
    }
   ],
   "source": [
    "pd.date_range(incio,final)"
   ]
  },
  {
   "cell_type": "markdown",
   "id": "c7438aea-638b-4d1f-a7de-c042c8ac7c3a",
   "metadata": {},
   "source": [
    "__Ejercicio 6:__ Crear una lista con los 5 días siguientes a la fecha \"2020-6-13\""
   ]
  },
  {
   "cell_type": "code",
   "execution_count": 11,
   "id": "9d484bb7-946d-4831-903b-47d0dd12c5df",
   "metadata": {},
   "outputs": [
    {
     "data": {
      "text/plain": [
       "DatetimeIndex(['2020-06-13', '2020-06-14', '2020-06-15', '2020-06-16',\n",
       "               '2020-06-17'],\n",
       "              dtype='datetime64[ns]', freq='D')"
      ]
     },
     "execution_count": 11,
     "metadata": {},
     "output_type": "execute_result"
    }
   ],
   "source": [
    "pd.date_range(incio,periods=5)"
   ]
  },
  {
   "cell_type": "markdown",
   "id": "7f25b03d-ff77-4402-9ef4-a55afc386696",
   "metadata": {},
   "source": [
    "__Ejercicio 7:__ Crear una lista con 4 fechas utilizando date_range, a partir del día \"2020-6-13\", con una frecuencia de 3 días (Ej. \"2020-6-13\",\"2020-6-16\",\"2020-6-19\",...)"
   ]
  },
  {
   "cell_type": "code",
   "execution_count": 14,
   "id": "95153b18-515d-4cb9-a08a-b1feb4030128",
   "metadata": {},
   "outputs": [
    {
     "data": {
      "text/plain": [
       "DatetimeIndex(['2020-06-13', '2020-06-16', '2020-06-19', '2020-06-22'], dtype='datetime64[ns]', freq='3D')"
      ]
     },
     "execution_count": 14,
     "metadata": {},
     "output_type": "execute_result"
    }
   ],
   "source": [
    "pd.date_range(incio,periods=4,freq=\"3D\")"
   ]
  },
  {
   "cell_type": "markdown",
   "id": "41d23d8d-e6cd-4751-b49b-7e7e8f063bf3",
   "metadata": {},
   "source": [
    "## Inspeccionar fechas"
   ]
  },
  {
   "cell_type": "markdown",
   "id": "9d923fd8-f34d-4496-b2a4-e827cf84753c",
   "metadata": {},
   "source": [
    "__Ejercicio 8:__ "
   ]
  },
  {
   "cell_type": "markdown",
   "id": "d5f4c7f5-6fe4-4059-912d-aeb11b398d47",
   "metadata": {},
   "source": [
    "Guardar en una variable llamada \"hoy\" la fecha actual:"
   ]
  },
  {
   "cell_type": "code",
   "execution_count": 2,
   "id": "0aba24ab-249e-4659-aa27-3fcf16af2616",
   "metadata": {},
   "outputs": [
    {
     "data": {
      "text/plain": [
       "Timestamp('2025-09-23 15:41:30.108895')"
      ]
     },
     "execution_count": 2,
     "metadata": {},
     "output_type": "execute_result"
    }
   ],
   "source": [
    "today = pd.Timestamp.now()\n",
    "today"
   ]
  },
  {
   "cell_type": "code",
   "execution_count": null,
   "id": "99ce0434-bd03-48e2-b8be-2f4911afaf29",
   "metadata": {},
   "outputs": [],
   "source": []
  },
  {
   "cell_type": "markdown",
   "id": "f553a87c-674c-4058-aa01-2469145d0393",
   "metadata": {},
   "source": [
    "Utilizando la variable hoy calcular el día, el mes y el año:"
   ]
  },
  {
   "cell_type": "code",
   "execution_count": 3,
   "id": "20b08e08-a95e-4e14-a4c8-cc37a46305f9",
   "metadata": {},
   "outputs": [
    {
     "data": {
      "text/plain": [
       "23"
      ]
     },
     "execution_count": 3,
     "metadata": {},
     "output_type": "execute_result"
    }
   ],
   "source": [
    "today.day"
   ]
  },
  {
   "cell_type": "code",
   "execution_count": 4,
   "id": "3314cc75-0490-4278-bf1b-d0a16eb2fb41",
   "metadata": {},
   "outputs": [
    {
     "data": {
      "text/plain": [
       "9"
      ]
     },
     "execution_count": 4,
     "metadata": {},
     "output_type": "execute_result"
    }
   ],
   "source": [
    "today.month"
   ]
  },
  {
   "cell_type": "code",
   "execution_count": 5,
   "id": "d7423618-e152-4ed6-b2f2-9822afb77e01",
   "metadata": {},
   "outputs": [
    {
     "data": {
      "text/plain": [
       "2025"
      ]
     },
     "execution_count": 5,
     "metadata": {},
     "output_type": "execute_result"
    }
   ],
   "source": [
    "today.year"
   ]
  },
  {
   "cell_type": "code",
   "execution_count": 6,
   "id": "6fa13b74-c226-4cdf-826e-e08b5a8049df",
   "metadata": {},
   "outputs": [
    {
     "data": {
      "text/plain": [
       "15"
      ]
     },
     "execution_count": 6,
     "metadata": {},
     "output_type": "execute_result"
    }
   ],
   "source": [
    "today.hour"
   ]
  },
  {
   "cell_type": "markdown",
   "id": "ce3fb067-5dea-4846-ad29-87f779d4d7f8",
   "metadata": {},
   "source": [
    "__Ejercicio 9:__"
   ]
  },
  {
   "cell_type": "markdown",
   "id": "12709d7c-514d-4e84-a2ee-31add8b333d8",
   "metadata": {},
   "source": [
    "Utilizando la variable hoy obtener el día de la semana(Ej. Si es lunes el resultado será 0):"
   ]
  },
  {
   "cell_type": "code",
   "execution_count": 7,
   "id": "d580f7ca-0d44-45e4-bf07-aa9fd89016f7",
   "metadata": {},
   "outputs": [
    {
     "data": {
      "text/plain": [
       "1"
      ]
     },
     "execution_count": 7,
     "metadata": {},
     "output_type": "execute_result"
    }
   ],
   "source": [
    "today.day_of_week"
   ]
  },
  {
   "cell_type": "code",
   "execution_count": 8,
   "id": "72dc1407-af7c-4ae9-907a-51d7ab08bba1",
   "metadata": {},
   "outputs": [
    {
     "data": {
      "text/plain": [
       "'Tuesday'"
      ]
     },
     "execution_count": 8,
     "metadata": {},
     "output_type": "execute_result"
    }
   ],
   "source": [
    "today.day_name()"
   ]
  },
  {
   "cell_type": "markdown",
   "id": "bb2f770f-d77c-4ae2-bf59-42eb37d17c08",
   "metadata": {},
   "source": [
    "Traducir el día de la semana al español (Ej. Martes):"
   ]
  },
  {
   "cell_type": "code",
   "execution_count": 9,
   "id": "1c646495-5016-4128-97da-878375bb1f18",
   "metadata": {},
   "outputs": [],
   "source": [
    "dia_esp = {0: 'Lunes', \n",
    "           1: 'Martes',\n",
    "           2: 'Miercoles',\n",
    "           3: 'Jueves',\n",
    "           4: 'Viernes',\n",
    "           5: 'Sabado',\n",
    "           6: 'Domingo'}"
   ]
  },
  {
   "cell_type": "code",
   "execution_count": 11,
   "id": "2c10e100-e639-48d0-aef2-39bca0e9ec41",
   "metadata": {},
   "outputs": [
    {
     "data": {
      "text/plain": [
       "'Martes'"
      ]
     },
     "execution_count": 11,
     "metadata": {},
     "output_type": "execute_result"
    }
   ],
   "source": [
    "def diadelasemana(x):\n",
    "    return dia_esp[x]\n",
    "\n",
    "\n",
    "diadelasemana(today.day_of_week)"
   ]
  },
  {
   "cell_type": "markdown",
   "id": "ad2c9259-ea28-41af-8d91-12d1a0fab75a",
   "metadata": {},
   "source": [
    "__Ejercicio 10:__ Utilizar strftime para obtener la fecha de hoy en el formato \"dd/mm/yy\" (Ej. 15/01/98):"
   ]
  },
  {
   "cell_type": "code",
   "execution_count": 13,
   "id": "4959c17f-f6ee-4ba9-a72d-66b52e6cea00",
   "metadata": {},
   "outputs": [
    {
     "data": {
      "text/plain": [
       "'23/09/2025'"
      ]
     },
     "execution_count": 13,
     "metadata": {},
     "output_type": "execute_result"
    }
   ],
   "source": [
    "today.strftime(\"%d/%m/%Y\")"
   ]
  },
  {
   "cell_type": "markdown",
   "id": "01da5fd7-1ea5-4e76-bcd2-85fc24bc12ba",
   "metadata": {},
   "source": [
    "__Ejercicio 11:__ Obtener la hora de la variable hoy en el formato \"hh AM/PM\" (Ej. 11 AM):"
   ]
  },
  {
   "cell_type": "code",
   "execution_count": 14,
   "id": "37a0e1eb-6985-48c8-8914-4fccf36099dc",
   "metadata": {},
   "outputs": [
    {
     "data": {
      "text/plain": [
       "'15 PM'"
      ]
     },
     "execution_count": 14,
     "metadata": {},
     "output_type": "execute_result"
    }
   ],
   "source": [
    "today.strftime(\"%H %p\")"
   ]
  },
  {
   "cell_type": "markdown",
   "id": "efdc9856-f736-4e3f-86c0-1dc1ce341db0",
   "metadata": {},
   "source": [
    "## Crear fechas 2"
   ]
  },
  {
   "cell_type": "markdown",
   "id": "2bfaa9f9-1465-4649-a8b3-9b550aa942d7",
   "metadata": {},
   "source": [
    "__Ejercicio 12:__ Crear una fecha utilizando pd.to_datetime con el formato \"mm/dd/yyyy\" "
   ]
  },
  {
   "cell_type": "code",
   "execution_count": 15,
   "id": "fd6b252f-9fb3-4285-af72-42ff164f5714",
   "metadata": {},
   "outputs": [
    {
     "data": {
      "text/plain": [
       "Timestamp('2024-12-30 00:00:00')"
      ]
     },
     "execution_count": 15,
     "metadata": {},
     "output_type": "execute_result"
    }
   ],
   "source": [
    "fecha = pd.to_datetime(\"12/30/2024\", format=\"%m/%d/%Y\")\n",
    "fecha"
   ]
  },
  {
   "cell_type": "markdown",
   "id": "d5548f96-46ed-4bb8-98b6-83998c3572db",
   "metadata": {},
   "source": [
    "__Ejercicio 13:__ Crear una fecha utilizando pd.to_Datetime con el formato \"dd/mm/yyyy\""
   ]
  },
  {
   "cell_type": "code",
   "execution_count": 16,
   "id": "163ca24d-11dd-4718-a41e-abe053a25577",
   "metadata": {},
   "outputs": [
    {
     "data": {
      "text/plain": [
       "Timestamp('2022-06-14 00:00:00')"
      ]
     },
     "execution_count": 16,
     "metadata": {},
     "output_type": "execute_result"
    }
   ],
   "source": [
    "fecha_EUR = pd.to_datetime(\"14/06/2022\",format=\"%d/%m/%Y\")\n",
    "fecha_EUR"
   ]
  },
  {
   "cell_type": "markdown",
   "id": "60496e0f-51da-4c32-8cee-5098be88f9b4",
   "metadata": {},
   "source": [
    "## Trabajar fechas en series"
   ]
  },
  {
   "cell_type": "markdown",
   "id": "c9002517-d203-4589-8b52-a2eb09fec0dc",
   "metadata": {},
   "source": [
    "__Ejercicio 14:__"
   ]
  },
  {
   "cell_type": "markdown",
   "id": "e5f40aa5-50a7-4f53-b469-15d380840c45",
   "metadata": {},
   "source": [
    "Crear una serie llamada \"fechas\" en base a la siguiente lista"
   ]
  },
  {
   "cell_type": "code",
   "execution_count": 17,
   "id": "e8e61e64-b669-4214-a995-8b4624b7574b",
   "metadata": {},
   "outputs": [],
   "source": [
    "lista=[\"2021-12-31\",\"2022-01-01\",\"2022-01-02\"]"
   ]
  },
  {
   "cell_type": "code",
   "execution_count": 18,
   "id": "8daf1458-2d92-46df-962d-538d1966d7b1",
   "metadata": {},
   "outputs": [],
   "source": [
    "fechas = pd.to_datetime(lista)"
   ]
  },
  {
   "cell_type": "code",
   "execution_count": 19,
   "id": "5dc92301-12e1-4772-8afd-bd73510964a5",
   "metadata": {},
   "outputs": [
    {
     "data": {
      "text/plain": [
       "DatetimeIndex(['2021-12-31', '2022-01-01', '2022-01-02'], dtype='datetime64[ns]', freq=None)"
      ]
     },
     "execution_count": 19,
     "metadata": {},
     "output_type": "execute_result"
    }
   ],
   "source": [
    "fechas"
   ]
  },
  {
   "cell_type": "markdown",
   "id": "692e6cef-1bb9-437a-a4f0-d616a1d9b9e9",
   "metadata": {},
   "source": [
    "Obtener el día, mes y año de la serie"
   ]
  },
  {
   "cell_type": "code",
   "execution_count": 20,
   "id": "29808109-0fa0-43b6-a028-f07bcf1dfd0f",
   "metadata": {},
   "outputs": [
    {
     "data": {
      "text/plain": [
       "Index([31, 1, 2], dtype='int32')"
      ]
     },
     "execution_count": 20,
     "metadata": {},
     "output_type": "execute_result"
    }
   ],
   "source": [
    "fechas.day"
   ]
  },
  {
   "cell_type": "code",
   "execution_count": 21,
   "id": "d4941998-b877-4920-acb4-eb16673dc8b3",
   "metadata": {},
   "outputs": [
    {
     "data": {
      "text/plain": [
       "Index([12, 1, 1], dtype='int32')"
      ]
     },
     "execution_count": 21,
     "metadata": {},
     "output_type": "execute_result"
    }
   ],
   "source": [
    "fechas.month"
   ]
  },
  {
   "cell_type": "code",
   "execution_count": 22,
   "id": "8b866d82-77d5-4609-9151-8714c41c5975",
   "metadata": {},
   "outputs": [
    {
     "data": {
      "text/plain": [
       "Index([2021, 2022, 2022], dtype='int32')"
      ]
     },
     "execution_count": 22,
     "metadata": {},
     "output_type": "execute_result"
    }
   ],
   "source": [
    "fechas.year\n"
   ]
  },
  {
   "cell_type": "markdown",
   "id": "473f97c8-6c14-479c-9f52-55a1e98c420b",
   "metadata": {},
   "source": [
    "__Ejercicio 15:__"
   ]
  },
  {
   "cell_type": "markdown",
   "id": "277ffaa0-5bed-4f9a-9b27-84f9a5eef451",
   "metadata": {},
   "source": [
    "Sumar 5 dias y dos semanas a cada fecha de la serie anterior"
   ]
  },
  {
   "cell_type": "code",
   "execution_count": 23,
   "id": "46853ff9-a66f-4865-97eb-d15e6fdadbd2",
   "metadata": {},
   "outputs": [
    {
     "data": {
      "text/plain": [
       "DatetimeIndex(['2022-01-19', '2022-01-20', '2022-01-21'], dtype='datetime64[ns]', freq=None)"
      ]
     },
     "execution_count": 23,
     "metadata": {},
     "output_type": "execute_result"
    }
   ],
   "source": [
    "fechas + pd.Timedelta(weeks=2,days=5)"
   ]
  },
  {
   "cell_type": "code",
   "execution_count": null,
   "id": "37923e8d-b8b2-41e7-956a-bd9848315ca9",
   "metadata": {},
   "outputs": [],
   "source": []
  },
  {
   "cell_type": "markdown",
   "id": "9ee84f1e-f2c3-4b8e-b24b-4a88f9ce6373",
   "metadata": {},
   "source": [
    "__Ejercicio 16:__"
   ]
  },
  {
   "cell_type": "markdown",
   "id": "c49db398-1082-45b5-81cf-43756e9668f2",
   "metadata": {},
   "source": [
    "Utilizar strftime para convertir todas las fechas en la variable \"fechas\" al formato estadounidense (mm/dd/yy)"
   ]
  },
  {
   "cell_type": "code",
   "execution_count": 24,
   "id": "c9376e5f-dd42-406e-a754-9a479ebcc824",
   "metadata": {},
   "outputs": [
    {
     "data": {
      "text/plain": [
       "Index(['12/31/21', '01/01/22', '01/02/22'], dtype='object')"
      ]
     },
     "execution_count": 24,
     "metadata": {},
     "output_type": "execute_result"
    }
   ],
   "source": [
    "fechas.strftime(\"%m/%d/%y\")"
   ]
  },
  {
   "cell_type": "markdown",
   "id": "b58c5ba1-093d-4644-a7d0-541fb6194bac",
   "metadata": {},
   "source": [
    "## Trabajar fechas en DataFrames"
   ]
  },
  {
   "cell_type": "markdown",
   "id": "932f6f96-75e0-42c5-81a3-7e4e3a776a4c",
   "metadata": {},
   "source": [
    "__Ejercicio 17:__"
   ]
  },
  {
   "cell_type": "markdown",
   "id": "84adc7b7-50b0-4bff-adb1-c370531b51c1",
   "metadata": {},
   "source": [
    "Importar los datos del archivo \"Fechas.xlsx\", utilizar la columna Fecha como indice"
   ]
  },
  {
   "cell_type": "code",
   "execution_count": 7,
   "id": "499db933-616d-4e89-b283-f686a90bdf27",
   "metadata": {},
   "outputs": [],
   "source": [
    "Dates = pd.read_excel(\"./fecha.xlsx\")"
   ]
  },
  {
   "cell_type": "code",
   "execution_count": 8,
   "id": "d6f3b64d",
   "metadata": {},
   "outputs": [
    {
     "data": {
      "application/vnd.microsoft.datawrangler.viewer.v0+json": {
       "columns": [
        {
         "name": "index",
         "rawType": "int64",
         "type": "integer"
        },
        {
         "name": "Fecha",
         "rawType": "datetime64[ns]",
         "type": "datetime"
        }
       ],
       "ref": "0164bd05-5837-413a-bf2c-0e59e779ffb2",
       "rows": [
        [
         "0",
         "2020-10-22 00:00:00"
        ],
        [
         "1",
         "2020-10-23 00:00:00"
        ],
        [
         "2",
         "2020-10-24 00:00:00"
        ],
        [
         "3",
         "2020-10-25 00:00:00"
        ],
        [
         "4",
         "2020-10-26 00:00:00"
        ],
        [
         "5",
         "2020-10-27 00:00:00"
        ],
        [
         "6",
         "2020-10-28 00:00:00"
        ],
        [
         "7",
         "2020-10-29 00:00:00"
        ],
        [
         "8",
         "2020-10-30 00:00:00"
        ],
        [
         "9",
         "2020-10-31 00:00:00"
        ],
        [
         "10",
         "2020-11-01 00:00:00"
        ],
        [
         "11",
         "2020-11-02 00:00:00"
        ],
        [
         "12",
         "2020-11-03 00:00:00"
        ],
        [
         "13",
         "2020-11-04 00:00:00"
        ]
       ],
       "shape": {
        "columns": 1,
        "rows": 14
       }
      },
      "text/html": [
       "<div>\n",
       "<style scoped>\n",
       "    .dataframe tbody tr th:only-of-type {\n",
       "        vertical-align: middle;\n",
       "    }\n",
       "\n",
       "    .dataframe tbody tr th {\n",
       "        vertical-align: top;\n",
       "    }\n",
       "\n",
       "    .dataframe thead th {\n",
       "        text-align: right;\n",
       "    }\n",
       "</style>\n",
       "<table border=\"1\" class=\"dataframe\">\n",
       "  <thead>\n",
       "    <tr style=\"text-align: right;\">\n",
       "      <th></th>\n",
       "      <th>Fecha</th>\n",
       "    </tr>\n",
       "  </thead>\n",
       "  <tbody>\n",
       "    <tr>\n",
       "      <th>0</th>\n",
       "      <td>2020-10-22</td>\n",
       "    </tr>\n",
       "    <tr>\n",
       "      <th>1</th>\n",
       "      <td>2020-10-23</td>\n",
       "    </tr>\n",
       "    <tr>\n",
       "      <th>2</th>\n",
       "      <td>2020-10-24</td>\n",
       "    </tr>\n",
       "    <tr>\n",
       "      <th>3</th>\n",
       "      <td>2020-10-25</td>\n",
       "    </tr>\n",
       "    <tr>\n",
       "      <th>4</th>\n",
       "      <td>2020-10-26</td>\n",
       "    </tr>\n",
       "    <tr>\n",
       "      <th>5</th>\n",
       "      <td>2020-10-27</td>\n",
       "    </tr>\n",
       "    <tr>\n",
       "      <th>6</th>\n",
       "      <td>2020-10-28</td>\n",
       "    </tr>\n",
       "    <tr>\n",
       "      <th>7</th>\n",
       "      <td>2020-10-29</td>\n",
       "    </tr>\n",
       "    <tr>\n",
       "      <th>8</th>\n",
       "      <td>2020-10-30</td>\n",
       "    </tr>\n",
       "    <tr>\n",
       "      <th>9</th>\n",
       "      <td>2020-10-31</td>\n",
       "    </tr>\n",
       "    <tr>\n",
       "      <th>10</th>\n",
       "      <td>2020-11-01</td>\n",
       "    </tr>\n",
       "    <tr>\n",
       "      <th>11</th>\n",
       "      <td>2020-11-02</td>\n",
       "    </tr>\n",
       "    <tr>\n",
       "      <th>12</th>\n",
       "      <td>2020-11-03</td>\n",
       "    </tr>\n",
       "    <tr>\n",
       "      <th>13</th>\n",
       "      <td>2020-11-04</td>\n",
       "    </tr>\n",
       "  </tbody>\n",
       "</table>\n",
       "</div>"
      ],
      "text/plain": [
       "        Fecha\n",
       "0  2020-10-22\n",
       "1  2020-10-23\n",
       "2  2020-10-24\n",
       "3  2020-10-25\n",
       "4  2020-10-26\n",
       "5  2020-10-27\n",
       "6  2020-10-28\n",
       "7  2020-10-29\n",
       "8  2020-10-30\n",
       "9  2020-10-31\n",
       "10 2020-11-01\n",
       "11 2020-11-02\n",
       "12 2020-11-03\n",
       "13 2020-11-04"
      ]
     },
     "execution_count": 8,
     "metadata": {},
     "output_type": "execute_result"
    }
   ],
   "source": [
    "Dates"
   ]
  },
  {
   "cell_type": "markdown",
   "id": "67c98591-a7c1-400d-ad45-553a4cea4cf1",
   "metadata": {},
   "source": [
    "Agregar una columna al DataFrame anterior con el año en cada fecha:"
   ]
  },
  {
   "cell_type": "code",
   "execution_count": 13,
   "id": "79fa7c2a-6b17-4f94-861c-96418a0c5e0e",
   "metadata": {},
   "outputs": [
    {
     "data": {
      "application/vnd.microsoft.datawrangler.viewer.v0+json": {
       "columns": [
        {
         "name": "index",
         "rawType": "int64",
         "type": "integer"
        },
        {
         "name": "Fecha",
         "rawType": "datetime64[ns]",
         "type": "datetime"
        },
        {
         "name": "Año",
         "rawType": "int32",
         "type": "integer"
        }
       ],
       "ref": "b9e9556d-f23a-4833-a025-d5c1de9f800e",
       "rows": [
        [
         "0",
         "2020-10-22 00:00:00",
         "2020"
        ],
        [
         "1",
         "2020-10-23 00:00:00",
         "2020"
        ],
        [
         "2",
         "2020-10-24 00:00:00",
         "2020"
        ],
        [
         "3",
         "2020-10-25 00:00:00",
         "2020"
        ],
        [
         "4",
         "2020-10-26 00:00:00",
         "2020"
        ],
        [
         "5",
         "2020-10-27 00:00:00",
         "2020"
        ],
        [
         "6",
         "2020-10-28 00:00:00",
         "2020"
        ],
        [
         "7",
         "2020-10-29 00:00:00",
         "2020"
        ],
        [
         "8",
         "2020-10-30 00:00:00",
         "2020"
        ],
        [
         "9",
         "2020-10-31 00:00:00",
         "2020"
        ],
        [
         "10",
         "2020-11-01 00:00:00",
         "2020"
        ],
        [
         "11",
         "2020-11-02 00:00:00",
         "2020"
        ],
        [
         "12",
         "2020-11-03 00:00:00",
         "2020"
        ],
        [
         "13",
         "2020-11-04 00:00:00",
         "2020"
        ]
       ],
       "shape": {
        "columns": 2,
        "rows": 14
       }
      },
      "text/html": [
       "<div>\n",
       "<style scoped>\n",
       "    .dataframe tbody tr th:only-of-type {\n",
       "        vertical-align: middle;\n",
       "    }\n",
       "\n",
       "    .dataframe tbody tr th {\n",
       "        vertical-align: top;\n",
       "    }\n",
       "\n",
       "    .dataframe thead th {\n",
       "        text-align: right;\n",
       "    }\n",
       "</style>\n",
       "<table border=\"1\" class=\"dataframe\">\n",
       "  <thead>\n",
       "    <tr style=\"text-align: right;\">\n",
       "      <th></th>\n",
       "      <th>Fecha</th>\n",
       "      <th>Año</th>\n",
       "    </tr>\n",
       "  </thead>\n",
       "  <tbody>\n",
       "    <tr>\n",
       "      <th>0</th>\n",
       "      <td>2020-10-22</td>\n",
       "      <td>2020</td>\n",
       "    </tr>\n",
       "    <tr>\n",
       "      <th>1</th>\n",
       "      <td>2020-10-23</td>\n",
       "      <td>2020</td>\n",
       "    </tr>\n",
       "    <tr>\n",
       "      <th>2</th>\n",
       "      <td>2020-10-24</td>\n",
       "      <td>2020</td>\n",
       "    </tr>\n",
       "    <tr>\n",
       "      <th>3</th>\n",
       "      <td>2020-10-25</td>\n",
       "      <td>2020</td>\n",
       "    </tr>\n",
       "    <tr>\n",
       "      <th>4</th>\n",
       "      <td>2020-10-26</td>\n",
       "      <td>2020</td>\n",
       "    </tr>\n",
       "    <tr>\n",
       "      <th>5</th>\n",
       "      <td>2020-10-27</td>\n",
       "      <td>2020</td>\n",
       "    </tr>\n",
       "    <tr>\n",
       "      <th>6</th>\n",
       "      <td>2020-10-28</td>\n",
       "      <td>2020</td>\n",
       "    </tr>\n",
       "    <tr>\n",
       "      <th>7</th>\n",
       "      <td>2020-10-29</td>\n",
       "      <td>2020</td>\n",
       "    </tr>\n",
       "    <tr>\n",
       "      <th>8</th>\n",
       "      <td>2020-10-30</td>\n",
       "      <td>2020</td>\n",
       "    </tr>\n",
       "    <tr>\n",
       "      <th>9</th>\n",
       "      <td>2020-10-31</td>\n",
       "      <td>2020</td>\n",
       "    </tr>\n",
       "    <tr>\n",
       "      <th>10</th>\n",
       "      <td>2020-11-01</td>\n",
       "      <td>2020</td>\n",
       "    </tr>\n",
       "    <tr>\n",
       "      <th>11</th>\n",
       "      <td>2020-11-02</td>\n",
       "      <td>2020</td>\n",
       "    </tr>\n",
       "    <tr>\n",
       "      <th>12</th>\n",
       "      <td>2020-11-03</td>\n",
       "      <td>2020</td>\n",
       "    </tr>\n",
       "    <tr>\n",
       "      <th>13</th>\n",
       "      <td>2020-11-04</td>\n",
       "      <td>2020</td>\n",
       "    </tr>\n",
       "  </tbody>\n",
       "</table>\n",
       "</div>"
      ],
      "text/plain": [
       "        Fecha   Año\n",
       "0  2020-10-22  2020\n",
       "1  2020-10-23  2020\n",
       "2  2020-10-24  2020\n",
       "3  2020-10-25  2020\n",
       "4  2020-10-26  2020\n",
       "5  2020-10-27  2020\n",
       "6  2020-10-28  2020\n",
       "7  2020-10-29  2020\n",
       "8  2020-10-30  2020\n",
       "9  2020-10-31  2020\n",
       "10 2020-11-01  2020\n",
       "11 2020-11-02  2020\n",
       "12 2020-11-03  2020\n",
       "13 2020-11-04  2020"
      ]
     },
     "execution_count": 13,
     "metadata": {},
     "output_type": "execute_result"
    }
   ],
   "source": [
    "Dates[\"Año\"] = Dates.Fecha.dt.year\n",
    "\n",
    "Dates"
   ]
  },
  {
   "cell_type": "markdown",
   "id": "3c416503-e455-4073-89e9-8755e0184c5f",
   "metadata": {},
   "source": [
    "__Ejercicio 18:__ Crear una columa que obtenga el mes y el día en la fecha (Ej. 10/15)"
   ]
  },
  {
   "cell_type": "code",
   "execution_count": 14,
   "id": "b39a48f4-bd21-415e-9a81-61fc408a918b",
   "metadata": {},
   "outputs": [],
   "source": [
    "Dates[\"Mes/Dia\"] = Dates.Fecha.dt.strftime(\"%m/%d\")"
   ]
  },
  {
   "cell_type": "code",
   "execution_count": 15,
   "id": "2224e716",
   "metadata": {},
   "outputs": [
    {
     "data": {
      "application/vnd.microsoft.datawrangler.viewer.v0+json": {
       "columns": [
        {
         "name": "index",
         "rawType": "int64",
         "type": "integer"
        },
        {
         "name": "Fecha",
         "rawType": "datetime64[ns]",
         "type": "datetime"
        },
        {
         "name": "Año",
         "rawType": "int32",
         "type": "integer"
        },
        {
         "name": "Mes/Dia",
         "rawType": "object",
         "type": "string"
        }
       ],
       "ref": "ec60330b-224f-4ab7-a304-6112ab7b1697",
       "rows": [
        [
         "0",
         "2020-10-22 00:00:00",
         "2020",
         "10/22"
        ],
        [
         "1",
         "2020-10-23 00:00:00",
         "2020",
         "10/23"
        ],
        [
         "2",
         "2020-10-24 00:00:00",
         "2020",
         "10/24"
        ],
        [
         "3",
         "2020-10-25 00:00:00",
         "2020",
         "10/25"
        ],
        [
         "4",
         "2020-10-26 00:00:00",
         "2020",
         "10/26"
        ],
        [
         "5",
         "2020-10-27 00:00:00",
         "2020",
         "10/27"
        ],
        [
         "6",
         "2020-10-28 00:00:00",
         "2020",
         "10/28"
        ],
        [
         "7",
         "2020-10-29 00:00:00",
         "2020",
         "10/29"
        ],
        [
         "8",
         "2020-10-30 00:00:00",
         "2020",
         "10/30"
        ],
        [
         "9",
         "2020-10-31 00:00:00",
         "2020",
         "10/31"
        ],
        [
         "10",
         "2020-11-01 00:00:00",
         "2020",
         "11/01"
        ],
        [
         "11",
         "2020-11-02 00:00:00",
         "2020",
         "11/02"
        ],
        [
         "12",
         "2020-11-03 00:00:00",
         "2020",
         "11/03"
        ],
        [
         "13",
         "2020-11-04 00:00:00",
         "2020",
         "11/04"
        ]
       ],
       "shape": {
        "columns": 3,
        "rows": 14
       }
      },
      "text/html": [
       "<div>\n",
       "<style scoped>\n",
       "    .dataframe tbody tr th:only-of-type {\n",
       "        vertical-align: middle;\n",
       "    }\n",
       "\n",
       "    .dataframe tbody tr th {\n",
       "        vertical-align: top;\n",
       "    }\n",
       "\n",
       "    .dataframe thead th {\n",
       "        text-align: right;\n",
       "    }\n",
       "</style>\n",
       "<table border=\"1\" class=\"dataframe\">\n",
       "  <thead>\n",
       "    <tr style=\"text-align: right;\">\n",
       "      <th></th>\n",
       "      <th>Fecha</th>\n",
       "      <th>Año</th>\n",
       "      <th>Mes/Dia</th>\n",
       "    </tr>\n",
       "  </thead>\n",
       "  <tbody>\n",
       "    <tr>\n",
       "      <th>0</th>\n",
       "      <td>2020-10-22</td>\n",
       "      <td>2020</td>\n",
       "      <td>10/22</td>\n",
       "    </tr>\n",
       "    <tr>\n",
       "      <th>1</th>\n",
       "      <td>2020-10-23</td>\n",
       "      <td>2020</td>\n",
       "      <td>10/23</td>\n",
       "    </tr>\n",
       "    <tr>\n",
       "      <th>2</th>\n",
       "      <td>2020-10-24</td>\n",
       "      <td>2020</td>\n",
       "      <td>10/24</td>\n",
       "    </tr>\n",
       "    <tr>\n",
       "      <th>3</th>\n",
       "      <td>2020-10-25</td>\n",
       "      <td>2020</td>\n",
       "      <td>10/25</td>\n",
       "    </tr>\n",
       "    <tr>\n",
       "      <th>4</th>\n",
       "      <td>2020-10-26</td>\n",
       "      <td>2020</td>\n",
       "      <td>10/26</td>\n",
       "    </tr>\n",
       "    <tr>\n",
       "      <th>5</th>\n",
       "      <td>2020-10-27</td>\n",
       "      <td>2020</td>\n",
       "      <td>10/27</td>\n",
       "    </tr>\n",
       "    <tr>\n",
       "      <th>6</th>\n",
       "      <td>2020-10-28</td>\n",
       "      <td>2020</td>\n",
       "      <td>10/28</td>\n",
       "    </tr>\n",
       "    <tr>\n",
       "      <th>7</th>\n",
       "      <td>2020-10-29</td>\n",
       "      <td>2020</td>\n",
       "      <td>10/29</td>\n",
       "    </tr>\n",
       "    <tr>\n",
       "      <th>8</th>\n",
       "      <td>2020-10-30</td>\n",
       "      <td>2020</td>\n",
       "      <td>10/30</td>\n",
       "    </tr>\n",
       "    <tr>\n",
       "      <th>9</th>\n",
       "      <td>2020-10-31</td>\n",
       "      <td>2020</td>\n",
       "      <td>10/31</td>\n",
       "    </tr>\n",
       "    <tr>\n",
       "      <th>10</th>\n",
       "      <td>2020-11-01</td>\n",
       "      <td>2020</td>\n",
       "      <td>11/01</td>\n",
       "    </tr>\n",
       "    <tr>\n",
       "      <th>11</th>\n",
       "      <td>2020-11-02</td>\n",
       "      <td>2020</td>\n",
       "      <td>11/02</td>\n",
       "    </tr>\n",
       "    <tr>\n",
       "      <th>12</th>\n",
       "      <td>2020-11-03</td>\n",
       "      <td>2020</td>\n",
       "      <td>11/03</td>\n",
       "    </tr>\n",
       "    <tr>\n",
       "      <th>13</th>\n",
       "      <td>2020-11-04</td>\n",
       "      <td>2020</td>\n",
       "      <td>11/04</td>\n",
       "    </tr>\n",
       "  </tbody>\n",
       "</table>\n",
       "</div>"
      ],
      "text/plain": [
       "        Fecha   Año Mes/Dia\n",
       "0  2020-10-22  2020   10/22\n",
       "1  2020-10-23  2020   10/23\n",
       "2  2020-10-24  2020   10/24\n",
       "3  2020-10-25  2020   10/25\n",
       "4  2020-10-26  2020   10/26\n",
       "5  2020-10-27  2020   10/27\n",
       "6  2020-10-28  2020   10/28\n",
       "7  2020-10-29  2020   10/29\n",
       "8  2020-10-30  2020   10/30\n",
       "9  2020-10-31  2020   10/31\n",
       "10 2020-11-01  2020   11/01\n",
       "11 2020-11-02  2020   11/02\n",
       "12 2020-11-03  2020   11/03\n",
       "13 2020-11-04  2020   11/04"
      ]
     },
     "execution_count": 15,
     "metadata": {},
     "output_type": "execute_result"
    }
   ],
   "source": [
    "Dates"
   ]
  },
  {
   "cell_type": "markdown",
   "id": "c59515aa-5a1e-452d-898a-368c3d498305",
   "metadata": {},
   "source": [
    "__Ejercicio 19:__"
   ]
  },
  {
   "cell_type": "markdown",
   "id": "10f12a8c-420c-4e58-8222-60de8186b085",
   "metadata": {},
   "source": [
    "Importar los datos del archivo \"Fechas.xlsx\", no utilizar una columna como indice"
   ]
  },
  {
   "cell_type": "code",
   "execution_count": 21,
   "id": "b5d9074d-7ce2-4a7a-a747-d05c7fe56180",
   "metadata": {},
   "outputs": [],
   "source": [
    "df_date = pd.read_excel(\"./fecha.xlsx\")"
   ]
  },
  {
   "cell_type": "code",
   "execution_count": 22,
   "id": "cfc01613",
   "metadata": {},
   "outputs": [
    {
     "data": {
      "application/vnd.microsoft.datawrangler.viewer.v0+json": {
       "columns": [
        {
         "name": "index",
         "rawType": "int64",
         "type": "integer"
        },
        {
         "name": "Fecha",
         "rawType": "datetime64[ns]",
         "type": "datetime"
        }
       ],
       "ref": "990e78cc-2bc6-4d13-bda7-23ecead7b55d",
       "rows": [
        [
         "0",
         "2020-10-22 00:00:00"
        ],
        [
         "1",
         "2020-10-23 00:00:00"
        ],
        [
         "2",
         "2020-10-24 00:00:00"
        ],
        [
         "3",
         "2020-10-25 00:00:00"
        ],
        [
         "4",
         "2020-10-26 00:00:00"
        ],
        [
         "5",
         "2020-10-27 00:00:00"
        ],
        [
         "6",
         "2020-10-28 00:00:00"
        ],
        [
         "7",
         "2020-10-29 00:00:00"
        ],
        [
         "8",
         "2020-10-30 00:00:00"
        ],
        [
         "9",
         "2020-10-31 00:00:00"
        ],
        [
         "10",
         "2020-11-01 00:00:00"
        ],
        [
         "11",
         "2020-11-02 00:00:00"
        ],
        [
         "12",
         "2020-11-03 00:00:00"
        ],
        [
         "13",
         "2020-11-04 00:00:00"
        ]
       ],
       "shape": {
        "columns": 1,
        "rows": 14
       }
      },
      "text/html": [
       "<div>\n",
       "<style scoped>\n",
       "    .dataframe tbody tr th:only-of-type {\n",
       "        vertical-align: middle;\n",
       "    }\n",
       "\n",
       "    .dataframe tbody tr th {\n",
       "        vertical-align: top;\n",
       "    }\n",
       "\n",
       "    .dataframe thead th {\n",
       "        text-align: right;\n",
       "    }\n",
       "</style>\n",
       "<table border=\"1\" class=\"dataframe\">\n",
       "  <thead>\n",
       "    <tr style=\"text-align: right;\">\n",
       "      <th></th>\n",
       "      <th>Fecha</th>\n",
       "    </tr>\n",
       "  </thead>\n",
       "  <tbody>\n",
       "    <tr>\n",
       "      <th>0</th>\n",
       "      <td>2020-10-22</td>\n",
       "    </tr>\n",
       "    <tr>\n",
       "      <th>1</th>\n",
       "      <td>2020-10-23</td>\n",
       "    </tr>\n",
       "    <tr>\n",
       "      <th>2</th>\n",
       "      <td>2020-10-24</td>\n",
       "    </tr>\n",
       "    <tr>\n",
       "      <th>3</th>\n",
       "      <td>2020-10-25</td>\n",
       "    </tr>\n",
       "    <tr>\n",
       "      <th>4</th>\n",
       "      <td>2020-10-26</td>\n",
       "    </tr>\n",
       "    <tr>\n",
       "      <th>5</th>\n",
       "      <td>2020-10-27</td>\n",
       "    </tr>\n",
       "    <tr>\n",
       "      <th>6</th>\n",
       "      <td>2020-10-28</td>\n",
       "    </tr>\n",
       "    <tr>\n",
       "      <th>7</th>\n",
       "      <td>2020-10-29</td>\n",
       "    </tr>\n",
       "    <tr>\n",
       "      <th>8</th>\n",
       "      <td>2020-10-30</td>\n",
       "    </tr>\n",
       "    <tr>\n",
       "      <th>9</th>\n",
       "      <td>2020-10-31</td>\n",
       "    </tr>\n",
       "    <tr>\n",
       "      <th>10</th>\n",
       "      <td>2020-11-01</td>\n",
       "    </tr>\n",
       "    <tr>\n",
       "      <th>11</th>\n",
       "      <td>2020-11-02</td>\n",
       "    </tr>\n",
       "    <tr>\n",
       "      <th>12</th>\n",
       "      <td>2020-11-03</td>\n",
       "    </tr>\n",
       "    <tr>\n",
       "      <th>13</th>\n",
       "      <td>2020-11-04</td>\n",
       "    </tr>\n",
       "  </tbody>\n",
       "</table>\n",
       "</div>"
      ],
      "text/plain": [
       "        Fecha\n",
       "0  2020-10-22\n",
       "1  2020-10-23\n",
       "2  2020-10-24\n",
       "3  2020-10-25\n",
       "4  2020-10-26\n",
       "5  2020-10-27\n",
       "6  2020-10-28\n",
       "7  2020-10-29\n",
       "8  2020-10-30\n",
       "9  2020-10-31\n",
       "10 2020-11-01\n",
       "11 2020-11-02\n",
       "12 2020-11-03\n",
       "13 2020-11-04"
      ]
     },
     "execution_count": 22,
     "metadata": {},
     "output_type": "execute_result"
    }
   ],
   "source": [
    "df_date"
   ]
  },
  {
   "cell_type": "markdown",
   "id": "3292160f-3ddb-4fdc-bf37-e0f17264376c",
   "metadata": {},
   "source": [
    "Crear una columa que obtenga el mes y el dia en la fecha (Ej. 10/15)"
   ]
  },
  {
   "cell_type": "code",
   "execution_count": 23,
   "id": "ce5e356c-185b-4139-90e1-e7581bf50a0a",
   "metadata": {},
   "outputs": [],
   "source": [
    "df_date[\"mes/dia\"] = df_date.Fecha.dt.strftime(\"%m/%d\")"
   ]
  },
  {
   "cell_type": "code",
   "execution_count": 24,
   "id": "72d42354-f187-44b5-8cb0-97e3753a8c91",
   "metadata": {},
   "outputs": [
    {
     "data": {
      "application/vnd.microsoft.datawrangler.viewer.v0+json": {
       "columns": [
        {
         "name": "index",
         "rawType": "int64",
         "type": "integer"
        },
        {
         "name": "Fecha",
         "rawType": "datetime64[ns]",
         "type": "datetime"
        },
        {
         "name": "mes/dia",
         "rawType": "object",
         "type": "string"
        }
       ],
       "ref": "fe3d0a52-240b-4733-be2c-7951dbd051c5",
       "rows": [
        [
         "0",
         "2020-10-22 00:00:00",
         "10/22"
        ],
        [
         "1",
         "2020-10-23 00:00:00",
         "10/23"
        ],
        [
         "2",
         "2020-10-24 00:00:00",
         "10/24"
        ],
        [
         "3",
         "2020-10-25 00:00:00",
         "10/25"
        ],
        [
         "4",
         "2020-10-26 00:00:00",
         "10/26"
        ],
        [
         "5",
         "2020-10-27 00:00:00",
         "10/27"
        ],
        [
         "6",
         "2020-10-28 00:00:00",
         "10/28"
        ],
        [
         "7",
         "2020-10-29 00:00:00",
         "10/29"
        ],
        [
         "8",
         "2020-10-30 00:00:00",
         "10/30"
        ],
        [
         "9",
         "2020-10-31 00:00:00",
         "10/31"
        ],
        [
         "10",
         "2020-11-01 00:00:00",
         "11/01"
        ],
        [
         "11",
         "2020-11-02 00:00:00",
         "11/02"
        ],
        [
         "12",
         "2020-11-03 00:00:00",
         "11/03"
        ],
        [
         "13",
         "2020-11-04 00:00:00",
         "11/04"
        ]
       ],
       "shape": {
        "columns": 2,
        "rows": 14
       }
      },
      "text/html": [
       "<div>\n",
       "<style scoped>\n",
       "    .dataframe tbody tr th:only-of-type {\n",
       "        vertical-align: middle;\n",
       "    }\n",
       "\n",
       "    .dataframe tbody tr th {\n",
       "        vertical-align: top;\n",
       "    }\n",
       "\n",
       "    .dataframe thead th {\n",
       "        text-align: right;\n",
       "    }\n",
       "</style>\n",
       "<table border=\"1\" class=\"dataframe\">\n",
       "  <thead>\n",
       "    <tr style=\"text-align: right;\">\n",
       "      <th></th>\n",
       "      <th>Fecha</th>\n",
       "      <th>mes/dia</th>\n",
       "    </tr>\n",
       "  </thead>\n",
       "  <tbody>\n",
       "    <tr>\n",
       "      <th>0</th>\n",
       "      <td>2020-10-22</td>\n",
       "      <td>10/22</td>\n",
       "    </tr>\n",
       "    <tr>\n",
       "      <th>1</th>\n",
       "      <td>2020-10-23</td>\n",
       "      <td>10/23</td>\n",
       "    </tr>\n",
       "    <tr>\n",
       "      <th>2</th>\n",
       "      <td>2020-10-24</td>\n",
       "      <td>10/24</td>\n",
       "    </tr>\n",
       "    <tr>\n",
       "      <th>3</th>\n",
       "      <td>2020-10-25</td>\n",
       "      <td>10/25</td>\n",
       "    </tr>\n",
       "    <tr>\n",
       "      <th>4</th>\n",
       "      <td>2020-10-26</td>\n",
       "      <td>10/26</td>\n",
       "    </tr>\n",
       "    <tr>\n",
       "      <th>5</th>\n",
       "      <td>2020-10-27</td>\n",
       "      <td>10/27</td>\n",
       "    </tr>\n",
       "    <tr>\n",
       "      <th>6</th>\n",
       "      <td>2020-10-28</td>\n",
       "      <td>10/28</td>\n",
       "    </tr>\n",
       "    <tr>\n",
       "      <th>7</th>\n",
       "      <td>2020-10-29</td>\n",
       "      <td>10/29</td>\n",
       "    </tr>\n",
       "    <tr>\n",
       "      <th>8</th>\n",
       "      <td>2020-10-30</td>\n",
       "      <td>10/30</td>\n",
       "    </tr>\n",
       "    <tr>\n",
       "      <th>9</th>\n",
       "      <td>2020-10-31</td>\n",
       "      <td>10/31</td>\n",
       "    </tr>\n",
       "    <tr>\n",
       "      <th>10</th>\n",
       "      <td>2020-11-01</td>\n",
       "      <td>11/01</td>\n",
       "    </tr>\n",
       "    <tr>\n",
       "      <th>11</th>\n",
       "      <td>2020-11-02</td>\n",
       "      <td>11/02</td>\n",
       "    </tr>\n",
       "    <tr>\n",
       "      <th>12</th>\n",
       "      <td>2020-11-03</td>\n",
       "      <td>11/03</td>\n",
       "    </tr>\n",
       "    <tr>\n",
       "      <th>13</th>\n",
       "      <td>2020-11-04</td>\n",
       "      <td>11/04</td>\n",
       "    </tr>\n",
       "  </tbody>\n",
       "</table>\n",
       "</div>"
      ],
      "text/plain": [
       "        Fecha mes/dia\n",
       "0  2020-10-22   10/22\n",
       "1  2020-10-23   10/23\n",
       "2  2020-10-24   10/24\n",
       "3  2020-10-25   10/25\n",
       "4  2020-10-26   10/26\n",
       "5  2020-10-27   10/27\n",
       "6  2020-10-28   10/28\n",
       "7  2020-10-29   10/29\n",
       "8  2020-10-30   10/30\n",
       "9  2020-10-31   10/31\n",
       "10 2020-11-01   11/01\n",
       "11 2020-11-02   11/02\n",
       "12 2020-11-03   11/03\n",
       "13 2020-11-04   11/04"
      ]
     },
     "execution_count": 24,
     "metadata": {},
     "output_type": "execute_result"
    }
   ],
   "source": [
    "df_date"
   ]
  },
  {
   "cell_type": "markdown",
   "id": "8f551f6e-dbf7-4477-9858-1d954951529c",
   "metadata": {},
   "source": [
    "__Ejercicio 20:__"
   ]
  },
  {
   "cell_type": "markdown",
   "id": "ada3a535-c177-4aa5-8295-bbf0af5235e4",
   "metadata": {},
   "source": [
    "Crear una columa que obtenga el mes, dia y año  en la fecha (Ej. 10/15/2030)"
   ]
  },
  {
   "cell_type": "code",
   "execution_count": 26,
   "id": "840426d0-cd1c-4194-af16-7b2be8e41b60",
   "metadata": {},
   "outputs": [],
   "source": [
    "df_date[\"mes/dia/año\"] = df_date.Fecha.dt.strftime(\"%m/%d/%Y\")\n"
   ]
  },
  {
   "cell_type": "code",
   "execution_count": 27,
   "id": "636af5f6",
   "metadata": {},
   "outputs": [
    {
     "data": {
      "application/vnd.microsoft.datawrangler.viewer.v0+json": {
       "columns": [
        {
         "name": "index",
         "rawType": "int64",
         "type": "integer"
        },
        {
         "name": "Fecha",
         "rawType": "datetime64[ns]",
         "type": "datetime"
        },
        {
         "name": "mes/dia",
         "rawType": "object",
         "type": "string"
        },
        {
         "name": "mes/dia/año",
         "rawType": "object",
         "type": "string"
        }
       ],
       "ref": "25ab40bd-ddf3-4ba3-8c32-521d34bf5756",
       "rows": [
        [
         "0",
         "2020-10-22 00:00:00",
         "10/22",
         "10/22/2020"
        ],
        [
         "1",
         "2020-10-23 00:00:00",
         "10/23",
         "10/23/2020"
        ],
        [
         "2",
         "2020-10-24 00:00:00",
         "10/24",
         "10/24/2020"
        ],
        [
         "3",
         "2020-10-25 00:00:00",
         "10/25",
         "10/25/2020"
        ],
        [
         "4",
         "2020-10-26 00:00:00",
         "10/26",
         "10/26/2020"
        ],
        [
         "5",
         "2020-10-27 00:00:00",
         "10/27",
         "10/27/2020"
        ],
        [
         "6",
         "2020-10-28 00:00:00",
         "10/28",
         "10/28/2020"
        ],
        [
         "7",
         "2020-10-29 00:00:00",
         "10/29",
         "10/29/2020"
        ],
        [
         "8",
         "2020-10-30 00:00:00",
         "10/30",
         "10/30/2020"
        ],
        [
         "9",
         "2020-10-31 00:00:00",
         "10/31",
         "10/31/2020"
        ],
        [
         "10",
         "2020-11-01 00:00:00",
         "11/01",
         "11/01/2020"
        ],
        [
         "11",
         "2020-11-02 00:00:00",
         "11/02",
         "11/02/2020"
        ],
        [
         "12",
         "2020-11-03 00:00:00",
         "11/03",
         "11/03/2020"
        ],
        [
         "13",
         "2020-11-04 00:00:00",
         "11/04",
         "11/04/2020"
        ]
       ],
       "shape": {
        "columns": 3,
        "rows": 14
       }
      },
      "text/html": [
       "<div>\n",
       "<style scoped>\n",
       "    .dataframe tbody tr th:only-of-type {\n",
       "        vertical-align: middle;\n",
       "    }\n",
       "\n",
       "    .dataframe tbody tr th {\n",
       "        vertical-align: top;\n",
       "    }\n",
       "\n",
       "    .dataframe thead th {\n",
       "        text-align: right;\n",
       "    }\n",
       "</style>\n",
       "<table border=\"1\" class=\"dataframe\">\n",
       "  <thead>\n",
       "    <tr style=\"text-align: right;\">\n",
       "      <th></th>\n",
       "      <th>Fecha</th>\n",
       "      <th>mes/dia</th>\n",
       "      <th>mes/dia/año</th>\n",
       "    </tr>\n",
       "  </thead>\n",
       "  <tbody>\n",
       "    <tr>\n",
       "      <th>0</th>\n",
       "      <td>2020-10-22</td>\n",
       "      <td>10/22</td>\n",
       "      <td>10/22/2020</td>\n",
       "    </tr>\n",
       "    <tr>\n",
       "      <th>1</th>\n",
       "      <td>2020-10-23</td>\n",
       "      <td>10/23</td>\n",
       "      <td>10/23/2020</td>\n",
       "    </tr>\n",
       "    <tr>\n",
       "      <th>2</th>\n",
       "      <td>2020-10-24</td>\n",
       "      <td>10/24</td>\n",
       "      <td>10/24/2020</td>\n",
       "    </tr>\n",
       "    <tr>\n",
       "      <th>3</th>\n",
       "      <td>2020-10-25</td>\n",
       "      <td>10/25</td>\n",
       "      <td>10/25/2020</td>\n",
       "    </tr>\n",
       "    <tr>\n",
       "      <th>4</th>\n",
       "      <td>2020-10-26</td>\n",
       "      <td>10/26</td>\n",
       "      <td>10/26/2020</td>\n",
       "    </tr>\n",
       "    <tr>\n",
       "      <th>5</th>\n",
       "      <td>2020-10-27</td>\n",
       "      <td>10/27</td>\n",
       "      <td>10/27/2020</td>\n",
       "    </tr>\n",
       "    <tr>\n",
       "      <th>6</th>\n",
       "      <td>2020-10-28</td>\n",
       "      <td>10/28</td>\n",
       "      <td>10/28/2020</td>\n",
       "    </tr>\n",
       "    <tr>\n",
       "      <th>7</th>\n",
       "      <td>2020-10-29</td>\n",
       "      <td>10/29</td>\n",
       "      <td>10/29/2020</td>\n",
       "    </tr>\n",
       "    <tr>\n",
       "      <th>8</th>\n",
       "      <td>2020-10-30</td>\n",
       "      <td>10/30</td>\n",
       "      <td>10/30/2020</td>\n",
       "    </tr>\n",
       "    <tr>\n",
       "      <th>9</th>\n",
       "      <td>2020-10-31</td>\n",
       "      <td>10/31</td>\n",
       "      <td>10/31/2020</td>\n",
       "    </tr>\n",
       "    <tr>\n",
       "      <th>10</th>\n",
       "      <td>2020-11-01</td>\n",
       "      <td>11/01</td>\n",
       "      <td>11/01/2020</td>\n",
       "    </tr>\n",
       "    <tr>\n",
       "      <th>11</th>\n",
       "      <td>2020-11-02</td>\n",
       "      <td>11/02</td>\n",
       "      <td>11/02/2020</td>\n",
       "    </tr>\n",
       "    <tr>\n",
       "      <th>12</th>\n",
       "      <td>2020-11-03</td>\n",
       "      <td>11/03</td>\n",
       "      <td>11/03/2020</td>\n",
       "    </tr>\n",
       "    <tr>\n",
       "      <th>13</th>\n",
       "      <td>2020-11-04</td>\n",
       "      <td>11/04</td>\n",
       "      <td>11/04/2020</td>\n",
       "    </tr>\n",
       "  </tbody>\n",
       "</table>\n",
       "</div>"
      ],
      "text/plain": [
       "        Fecha mes/dia mes/dia/año\n",
       "0  2020-10-22   10/22  10/22/2020\n",
       "1  2020-10-23   10/23  10/23/2020\n",
       "2  2020-10-24   10/24  10/24/2020\n",
       "3  2020-10-25   10/25  10/25/2020\n",
       "4  2020-10-26   10/26  10/26/2020\n",
       "5  2020-10-27   10/27  10/27/2020\n",
       "6  2020-10-28   10/28  10/28/2020\n",
       "7  2020-10-29   10/29  10/29/2020\n",
       "8  2020-10-30   10/30  10/30/2020\n",
       "9  2020-10-31   10/31  10/31/2020\n",
       "10 2020-11-01   11/01  11/01/2020\n",
       "11 2020-11-02   11/02  11/02/2020\n",
       "12 2020-11-03   11/03  11/03/2020\n",
       "13 2020-11-04   11/04  11/04/2020"
      ]
     },
     "execution_count": 27,
     "metadata": {},
     "output_type": "execute_result"
    }
   ],
   "source": [
    "df_date"
   ]
  }
 ],
 "metadata": {
  "kernelspec": {
   "display_name": "Python 3",
   "language": "python",
   "name": "python3"
  },
  "language_info": {
   "codemirror_mode": {
    "name": "ipython",
    "version": 3
   },
   "file_extension": ".py",
   "mimetype": "text/x-python",
   "name": "python",
   "nbconvert_exporter": "python",
   "pygments_lexer": "ipython3",
   "version": "3.10.12"
  }
 },
 "nbformat": 4,
 "nbformat_minor": 5
}
