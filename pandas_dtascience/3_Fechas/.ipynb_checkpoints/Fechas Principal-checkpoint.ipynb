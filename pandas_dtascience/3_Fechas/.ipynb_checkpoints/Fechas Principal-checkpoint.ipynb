{
 "cells": [
  {
   "cell_type": "markdown",
   "id": "ff73e749-0ef0-4f80-ab50-31150dc5ee94",
   "metadata": {},
   "source": [
    "# Python: Fechas "
   ]
  },
  {
   "cell_type": "markdown",
   "id": "fb2afc6b-03bc-4330-819b-d8c81599ac17",
   "metadata": {},
   "source": [
    "Importar pandas y datetime:"
   ]
  },
  {
   "cell_type": "code",
   "execution_count": 1,
   "id": "724576aa-18cd-4e5d-b411-1b2da4154a55",
   "metadata": {},
   "outputs": [],
   "source": [
    "import pandas as pd\n",
    "import datetime as dt"
   ]
  },
  {
   "cell_type": "markdown",
   "id": "fa9fba8d-584a-40e4-b3b2-71143a0387a3",
   "metadata": {},
   "source": [
    "## Crear fechas"
   ]
  },
  {
   "cell_type": "markdown",
   "id": "0ac3c3b5-2d11-4804-b6da-259ecb385299",
   "metadata": {},
   "source": [
    "__Ejercicio 1:__  Obtener la fecha de hoy con Timestamp.now()"
   ]
  },
  {
   "cell_type": "code",
   "execution_count": 2,
   "id": "0f2491a9-6bbe-46f4-90ac-5a174096394e",
   "metadata": {},
   "outputs": [
    {
     "data": {
      "text/plain": [
       "Timestamp('2022-02-20 16:10:33.674189')"
      ]
     },
     "execution_count": 2,
     "metadata": {},
     "output_type": "execute_result"
    }
   ],
   "source": [
    "ahora=pd.Timestamp.now()\n",
    "ahora"
   ]
  },
  {
   "cell_type": "markdown",
   "id": "e92f93d5-447c-4267-b743-9123ab1dab5a",
   "metadata": {},
   "source": [
    "__Ejercicio 2:__ Obtener la fecha mínima y máxima en pandas Timestamp:"
   ]
  },
  {
   "cell_type": "code",
   "execution_count": 3,
   "id": "938293af-f3c3-44f7-a6ac-23d3821844c1",
   "metadata": {},
   "outputs": [
    {
     "data": {
      "text/plain": [
       "Timestamp('1677-09-21 00:12:43.145224193')"
      ]
     },
     "execution_count": 3,
     "metadata": {},
     "output_type": "execute_result"
    }
   ],
   "source": [
    "pd.Timestamp.min"
   ]
  },
  {
   "cell_type": "code",
   "execution_count": 4,
   "id": "c3ffc825-5d33-41ad-89d9-7844232c7354",
   "metadata": {},
   "outputs": [
    {
     "data": {
      "text/plain": [
       "Timestamp('2262-04-11 23:47:16.854775807')"
      ]
     },
     "execution_count": 4,
     "metadata": {},
     "output_type": "execute_result"
    }
   ],
   "source": [
    "pd.Timestamp.max"
   ]
  },
  {
   "cell_type": "markdown",
   "id": "32edb2db-29d2-46e5-8b05-67895bcf6766",
   "metadata": {},
   "source": [
    "__Ejercicio 3:__ Crear una variable con la fecha \"2021-12-28\" utilizando pd.Timestamp"
   ]
  },
  {
   "cell_type": "code",
   "execution_count": 5,
   "id": "3ae62ddb-753b-4d4f-a0f1-d3762c84a7ce",
   "metadata": {},
   "outputs": [
    {
     "data": {
      "text/plain": [
       "Timestamp('2021-12-28 00:00:00')"
      ]
     },
     "execution_count": 5,
     "metadata": {},
     "output_type": "execute_result"
    }
   ],
   "source": [
    "fecha=pd.Timestamp(2021,12,28)\n",
    "fecha"
   ]
  },
  {
   "cell_type": "code",
   "execution_count": 6,
   "id": "23293f2c-3ec0-4b7a-b2c6-5fcff4df9545",
   "metadata": {},
   "outputs": [
    {
     "data": {
      "text/plain": [
       "Timestamp('2021-12-28 00:00:00')"
      ]
     },
     "execution_count": 6,
     "metadata": {},
     "output_type": "execute_result"
    }
   ],
   "source": [
    "fecha=pd.Timestamp(\"2021-12-28\")\n",
    "fecha"
   ]
  },
  {
   "cell_type": "markdown",
   "id": "cd0be7ec-e4d8-49be-8acf-b4c863f51c64",
   "metadata": {},
   "source": [
    "__Ejercicio 4:__ Sumar 5 días y 2 semanas a la fecha anterior:"
   ]
  },
  {
   "cell_type": "code",
   "execution_count": 7,
   "id": "d7de9d18-62d1-416e-8a54-e6295733f9de",
   "metadata": {},
   "outputs": [
    {
     "data": {
      "text/plain": [
       "Timestamp('2022-01-16 00:00:00')"
      ]
     },
     "execution_count": 7,
     "metadata": {},
     "output_type": "execute_result"
    }
   ],
   "source": [
    "fecha2=fecha+pd.Timedelta(days=5, weeks=2)\n",
    "fecha2"
   ]
  },
  {
   "cell_type": "code",
   "execution_count": 8,
   "id": "74ded7d9-c8c6-43b6-bda9-198180605326",
   "metadata": {},
   "outputs": [
    {
     "data": {
      "text/plain": [
       "Timestamp('2021-12-28 00:00:00')"
      ]
     },
     "execution_count": 8,
     "metadata": {},
     "output_type": "execute_result"
    }
   ],
   "source": [
    "fecha"
   ]
  },
  {
   "cell_type": "code",
   "execution_count": 9,
   "id": "d63043c6-1c06-40e6-b007-49bab2896732",
   "metadata": {},
   "outputs": [
    {
     "data": {
      "text/plain": [
       "Timestamp('2022-01-16 00:00:00')"
      ]
     },
     "execution_count": 9,
     "metadata": {},
     "output_type": "execute_result"
    }
   ],
   "source": [
    "fecha3=fecha+pd.Timedelta(\"19 days\")\n",
    "fecha3"
   ]
  },
  {
   "cell_type": "markdown",
   "id": "09f05e50-1775-47e9-a7be-d79f7c628d55",
   "metadata": {},
   "source": [
    "__Ejercicio 5__: Crear una lista de fechas con los días entre \"2020/6/13\" y \"2020/6/16\" utilizando date_range"
   ]
  },
  {
   "cell_type": "code",
   "execution_count": 10,
   "id": "7907525f-b4ad-45f4-bb92-a4a9f29ae06f",
   "metadata": {},
   "outputs": [
    {
     "data": {
      "text/plain": [
       "DatetimeIndex(['2020-06-13', '2020-06-14', '2020-06-15', '2020-06-16'], dtype='datetime64[ns]', freq='D')"
      ]
     },
     "execution_count": 10,
     "metadata": {},
     "output_type": "execute_result"
    }
   ],
   "source": [
    "inicio=pd.Timestamp(2020,6,13)\n",
    "fin=pd.Timestamp(2020,6,16)\n",
    "pd.date_range(inicio,fin)"
   ]
  },
  {
   "cell_type": "markdown",
   "id": "c7438aea-638b-4d1f-a7de-c042c8ac7c3a",
   "metadata": {},
   "source": [
    "__Ejercicio 6:__ Crear una lista con los 5 días siguientes a la fecha \"2020-6-13\""
   ]
  },
  {
   "cell_type": "code",
   "execution_count": 11,
   "id": "9d484bb7-946d-4831-903b-47d0dd12c5df",
   "metadata": {},
   "outputs": [
    {
     "data": {
      "text/plain": [
       "DatetimeIndex(['2020-06-13', '2020-06-14', '2020-06-15', '2020-06-16',\n",
       "               '2020-06-17'],\n",
       "              dtype='datetime64[ns]', freq='D')"
      ]
     },
     "execution_count": 11,
     "metadata": {},
     "output_type": "execute_result"
    }
   ],
   "source": [
    "pd.date_range(inicio, periods=5)"
   ]
  },
  {
   "cell_type": "markdown",
   "id": "7f25b03d-ff77-4402-9ef4-a55afc386696",
   "metadata": {},
   "source": [
    "__Ejercicio 7:__ Crear una lista con 4 fechas utilizando date_range, a partir del día \"2020-6-13\", con una frecuencia de 3 días (Ej. \"2020-6-13\",\"2020-6-16\",\"2020-6-19\",...)"
   ]
  },
  {
   "cell_type": "code",
   "execution_count": 12,
   "id": "95153b18-515d-4cb9-a08a-b1feb4030128",
   "metadata": {},
   "outputs": [
    {
     "data": {
      "text/plain": [
       "DatetimeIndex(['2020-06-30', '2020-09-30', '2020-12-31', '2021-03-31'], dtype='datetime64[ns]', freq='3M')"
      ]
     },
     "execution_count": 12,
     "metadata": {},
     "output_type": "execute_result"
    }
   ],
   "source": [
    "pd.date_range(inicio,periods=4, freq=\"3m\")"
   ]
  },
  {
   "cell_type": "markdown",
   "id": "41d23d8d-e6cd-4751-b49b-7e7e8f063bf3",
   "metadata": {},
   "source": [
    "## Inspeccionar fechas"
   ]
  },
  {
   "cell_type": "markdown",
   "id": "9d923fd8-f34d-4496-b2a4-e827cf84753c",
   "metadata": {},
   "source": [
    "__Ejercicio 8:__ "
   ]
  },
  {
   "cell_type": "markdown",
   "id": "d5f4c7f5-6fe4-4059-912d-aeb11b398d47",
   "metadata": {},
   "source": [
    "Guardar en una variable llamada \"hoy\" la fecha actual:"
   ]
  },
  {
   "cell_type": "code",
   "execution_count": 13,
   "id": "0aba24ab-249e-4659-aa27-3fcf16af2616",
   "metadata": {},
   "outputs": [
    {
     "data": {
      "text/plain": [
       "Timestamp('2022-02-20 16:10:33.851216')"
      ]
     },
     "execution_count": 13,
     "metadata": {},
     "output_type": "execute_result"
    }
   ],
   "source": [
    "fecha=pd.Timestamp.now()\n",
    "fecha"
   ]
  },
  {
   "cell_type": "markdown",
   "id": "f553a87c-674c-4058-aa01-2469145d0393",
   "metadata": {},
   "source": [
    "Utilizando la variable hoy calcular el día, el mes y el año:"
   ]
  },
  {
   "cell_type": "code",
   "execution_count": 14,
   "id": "20b08e08-a95e-4e14-a4c8-cc37a46305f9",
   "metadata": {},
   "outputs": [
    {
     "data": {
      "text/plain": [
       "20"
      ]
     },
     "execution_count": 14,
     "metadata": {},
     "output_type": "execute_result"
    }
   ],
   "source": [
    "fecha.day"
   ]
  },
  {
   "cell_type": "code",
   "execution_count": 15,
   "id": "45969e28-f755-46a9-a976-83ebe18f85bb",
   "metadata": {},
   "outputs": [
    {
     "data": {
      "text/plain": [
       "2"
      ]
     },
     "execution_count": 15,
     "metadata": {},
     "output_type": "execute_result"
    }
   ],
   "source": [
    "fecha.month"
   ]
  },
  {
   "cell_type": "code",
   "execution_count": 16,
   "id": "6189c1e6-249a-4c11-b9f5-d987175ff5d4",
   "metadata": {},
   "outputs": [
    {
     "data": {
      "text/plain": [
       "2022"
      ]
     },
     "execution_count": 16,
     "metadata": {},
     "output_type": "execute_result"
    }
   ],
   "source": [
    "fecha.year"
   ]
  },
  {
   "cell_type": "markdown",
   "id": "ce3fb067-5dea-4846-ad29-87f779d4d7f8",
   "metadata": {},
   "source": [
    "__Ejercicio 9:__"
   ]
  },
  {
   "cell_type": "markdown",
   "id": "12709d7c-514d-4e84-a2ee-31add8b333d8",
   "metadata": {},
   "source": [
    "Utilizando la variable hoy obtener el día de la semana(Ej. Si es lunes el resultado será 0):"
   ]
  },
  {
   "cell_type": "code",
   "execution_count": 17,
   "id": "d580f7ca-0d44-45e4-bf07-aa9fd89016f7",
   "metadata": {},
   "outputs": [
    {
     "data": {
      "text/plain": [
       "6"
      ]
     },
     "execution_count": 17,
     "metadata": {},
     "output_type": "execute_result"
    }
   ],
   "source": [
    "fecha.dayofweek"
   ]
  },
  {
   "cell_type": "markdown",
   "id": "bb2f770f-d77c-4ae2-bf59-42eb37d17c08",
   "metadata": {},
   "source": [
    "Traducir el día de la semana al español (Ej. Martes):"
   ]
  },
  {
   "cell_type": "code",
   "execution_count": 18,
   "id": "1c646495-5016-4128-97da-878375bb1f18",
   "metadata": {},
   "outputs": [],
   "source": [
    "dia_esp = {0: 'Lunes', \n",
    "           1: 'Martes',\n",
    "           2: 'Miercoles',\n",
    "           3: 'Jueves',\n",
    "           4: 'Viernes',\n",
    "           5: 'Sabado',\n",
    "           6: 'Domingo'}"
   ]
  },
  {
   "cell_type": "code",
   "execution_count": 19,
   "id": "2c10e100-e639-48d0-aef2-39bca0e9ec41",
   "metadata": {},
   "outputs": [],
   "source": [
    "def traducir(x):\n",
    "    return dia_esp[6]"
   ]
  },
  {
   "cell_type": "code",
   "execution_count": 20,
   "id": "066b0f88-ae7a-4ca6-9d7b-7ed5a84cea52",
   "metadata": {},
   "outputs": [
    {
     "data": {
      "text/plain": [
       "'Domingo'"
      ]
     },
     "execution_count": 20,
     "metadata": {},
     "output_type": "execute_result"
    }
   ],
   "source": [
    "traducir(fecha.dayofweek)"
   ]
  },
  {
   "cell_type": "markdown",
   "id": "ad2c9259-ea28-41af-8d91-12d1a0fab75a",
   "metadata": {},
   "source": [
    "__Ejercicio 10:__ Utilizar strftime para obtener la fecha de hoy en el formato \"dd/mm/yy\" (Ej. 15/01/98):"
   ]
  },
  {
   "cell_type": "code",
   "execution_count": 21,
   "id": "4959c17f-f6ee-4ba9-a72d-66b52e6cea00",
   "metadata": {},
   "outputs": [
    {
     "data": {
      "text/plain": [
       "'20/02/22-Sunday'"
      ]
     },
     "execution_count": 21,
     "metadata": {},
     "output_type": "execute_result"
    }
   ],
   "source": [
    "fecha.strftime(\"%d/%m/%y-%A\")"
   ]
  },
  {
   "cell_type": "code",
   "execution_count": 22,
   "id": "86842902-27a2-474e-ae06-8304ad3fa2e0",
   "metadata": {},
   "outputs": [
    {
     "data": {
      "text/plain": [
       "Timestamp('2022-02-20 16:10:33.851216')"
      ]
     },
     "execution_count": 22,
     "metadata": {},
     "output_type": "execute_result"
    }
   ],
   "source": [
    "fecha"
   ]
  },
  {
   "cell_type": "markdown",
   "id": "01da5fd7-1ea5-4e76-bcd2-85fc24bc12ba",
   "metadata": {},
   "source": [
    "__Ejercicio 11:__ Obtener la hora de la variable hoy en el formato \"hh AM/PM\" (Ej. 11 AM):"
   ]
  },
  {
   "cell_type": "code",
   "execution_count": 23,
   "id": "37a0e1eb-6985-48c8-8914-4fccf36099dc",
   "metadata": {},
   "outputs": [
    {
     "data": {
      "text/plain": [
       "'20/02/22-Sunday 04 PM'"
      ]
     },
     "execution_count": 23,
     "metadata": {},
     "output_type": "execute_result"
    }
   ],
   "source": [
    "dt.datetime.strftime(fecha,\"%d/%m/%y-%A %I %p\")"
   ]
  },
  {
   "cell_type": "markdown",
   "id": "efdc9856-f736-4e3f-86c0-1dc1ce341db0",
   "metadata": {},
   "source": [
    "## Crear fechas 2"
   ]
  },
  {
   "cell_type": "markdown",
   "id": "2bfaa9f9-1465-4649-a8b3-9b550aa942d7",
   "metadata": {},
   "source": [
    "__Ejercicio 12:__ Crear una fecha utilizando pd.to_datetime con el formato \"mm/dd/yyyy\" "
   ]
  },
  {
   "cell_type": "code",
   "execution_count": 24,
   "id": "fd6b252f-9fb3-4285-af72-42ff164f5714",
   "metadata": {},
   "outputs": [
    {
     "data": {
      "text/plain": [
       "Timestamp('1992-01-12 00:00:00')"
      ]
     },
     "execution_count": 24,
     "metadata": {},
     "output_type": "execute_result"
    }
   ],
   "source": [
    "pd.to_datetime(\"12/01/1992\",format=\"%d/%m/%Y\")"
   ]
  },
  {
   "cell_type": "markdown",
   "id": "d5548f96-46ed-4bb8-98b6-83998c3572db",
   "metadata": {},
   "source": [
    "__Ejercicio 13:__ Crear una fecha utilizando pd.to_Datetime con el formato \"dd/mm/yyyy\""
   ]
  },
  {
   "cell_type": "code",
   "execution_count": 25,
   "id": "163ca24d-11dd-4718-a41e-abe053a25577",
   "metadata": {},
   "outputs": [
    {
     "data": {
      "text/plain": [
       "Timestamp('1992-01-12 00:00:00')"
      ]
     },
     "execution_count": 25,
     "metadata": {},
     "output_type": "execute_result"
    }
   ],
   "source": [
    "pd.to_datetime(\"01/12/1992\",format=\"%m/%d/%Y\")"
   ]
  },
  {
   "cell_type": "markdown",
   "id": "60496e0f-51da-4c32-8cee-5098be88f9b4",
   "metadata": {},
   "source": [
    "## Trabajar fechas en series"
   ]
  },
  {
   "cell_type": "markdown",
   "id": "c9002517-d203-4589-8b52-a2eb09fec0dc",
   "metadata": {},
   "source": [
    "__Ejercicio 14:__"
   ]
  },
  {
   "cell_type": "markdown",
   "id": "e5f40aa5-50a7-4f53-b469-15d380840c45",
   "metadata": {},
   "source": [
    "Crear una serie llamada \"fechas\" en base a la siguiente lista"
   ]
  },
  {
   "cell_type": "code",
   "execution_count": 26,
   "id": "e8e61e64-b669-4214-a995-8b4624b7574b",
   "metadata": {},
   "outputs": [
    {
     "data": {
      "text/plain": [
       "['2021-12-31', '2022-01-01', '2022-01-02']"
      ]
     },
     "execution_count": 26,
     "metadata": {},
     "output_type": "execute_result"
    }
   ],
   "source": [
    "lista=[\"2021-12-31\",\"2022-01-01\",\"2022-01-02\"]\n",
    "lista"
   ]
  },
  {
   "cell_type": "code",
   "execution_count": 27,
   "id": "8daf1458-2d92-46df-962d-538d1966d7b1",
   "metadata": {},
   "outputs": [
    {
     "data": {
      "text/plain": [
       "DatetimeIndex(['2021-12-31', '2022-01-01', '2022-01-02'], dtype='datetime64[ns]', freq=None)"
      ]
     },
     "execution_count": 27,
     "metadata": {},
     "output_type": "execute_result"
    }
   ],
   "source": [
    "fechas=pd.to_datetime(lista)\n",
    "fechas"
   ]
  },
  {
   "cell_type": "markdown",
   "id": "692e6cef-1bb9-437a-a4f0-d616a1d9b9e9",
   "metadata": {},
   "source": [
    "Obtener el día, mes y año de la serie"
   ]
  },
  {
   "cell_type": "code",
   "execution_count": 28,
   "id": "29808109-0fa0-43b6-a028-f07bcf1dfd0f",
   "metadata": {},
   "outputs": [
    {
     "data": {
      "text/plain": [
       "Int64Index([31, 1, 2], dtype='int64')"
      ]
     },
     "execution_count": 28,
     "metadata": {},
     "output_type": "execute_result"
    }
   ],
   "source": [
    "fechas.day"
   ]
  },
  {
   "cell_type": "code",
   "execution_count": 29,
   "id": "d4941998-b877-4920-acb4-eb16673dc8b3",
   "metadata": {},
   "outputs": [
    {
     "data": {
      "text/plain": [
       "Int64Index([12, 1, 1], dtype='int64')"
      ]
     },
     "execution_count": 29,
     "metadata": {},
     "output_type": "execute_result"
    }
   ],
   "source": [
    "fechas.month"
   ]
  },
  {
   "cell_type": "code",
   "execution_count": 30,
   "id": "8b866d82-77d5-4609-9151-8714c41c5975",
   "metadata": {},
   "outputs": [
    {
     "data": {
      "text/plain": [
       "Int64Index([2021, 2022, 2022], dtype='int64')"
      ]
     },
     "execution_count": 30,
     "metadata": {},
     "output_type": "execute_result"
    }
   ],
   "source": [
    "fechas.year"
   ]
  },
  {
   "cell_type": "markdown",
   "id": "473f97c8-6c14-479c-9f52-55a1e98c420b",
   "metadata": {},
   "source": [
    "__Ejercicio 15:__"
   ]
  },
  {
   "cell_type": "markdown",
   "id": "277ffaa0-5bed-4f9a-9b27-84f9a5eef451",
   "metadata": {},
   "source": [
    "Sumar 5 dias y dos semanas a cada fecha de la serie anterior"
   ]
  },
  {
   "cell_type": "code",
   "execution_count": 31,
   "id": "46853ff9-a66f-4865-97eb-d15e6fdadbd2",
   "metadata": {},
   "outputs": [
    {
     "data": {
      "text/plain": [
       "DatetimeIndex(['2022-01-19', '2022-01-20', '2022-01-21'], dtype='datetime64[ns]', freq=None)"
      ]
     },
     "execution_count": 31,
     "metadata": {},
     "output_type": "execute_result"
    }
   ],
   "source": [
    "fechas+pd.Timedelta(days=5, weeks=2)"
   ]
  },
  {
   "cell_type": "markdown",
   "id": "9ee84f1e-f2c3-4b8e-b24b-4a88f9ce6373",
   "metadata": {},
   "source": [
    "__Ejercicio 16:__"
   ]
  },
  {
   "cell_type": "markdown",
   "id": "c49db398-1082-45b5-81cf-43756e9668f2",
   "metadata": {},
   "source": [
    "Utilizar strftime para convertir todas las fechas en la variable \"fechas\" al formato estadounidense (mm/dd/yy)"
   ]
  },
  {
   "cell_type": "code",
   "execution_count": 32,
   "id": "c9376e5f-dd42-406e-a754-9a479ebcc824",
   "metadata": {},
   "outputs": [
    {
     "data": {
      "text/plain": [
       "Index(['12/31/21', '01/01/22', '01/02/22'], dtype='object')"
      ]
     },
     "execution_count": 32,
     "metadata": {},
     "output_type": "execute_result"
    }
   ],
   "source": [
    "fechas.strftime(\"%m/%d/%y\")"
   ]
  },
  {
   "cell_type": "markdown",
   "id": "b58c5ba1-093d-4644-a7d0-541fb6194bac",
   "metadata": {},
   "source": [
    "## Trabajar fechas en DataFrames"
   ]
  },
  {
   "cell_type": "markdown",
   "id": "932f6f96-75e0-42c5-81a3-7e4e3a776a4c",
   "metadata": {},
   "source": [
    "__Ejercicio 17:__"
   ]
  },
  {
   "cell_type": "markdown",
   "id": "84adc7b7-50b0-4bff-adb1-c370531b51c1",
   "metadata": {},
   "source": [
    "Importar los datos del archivo \"Fechas.xlsx\", utilizar la columna Fecha como indice"
   ]
  },
  {
   "cell_type": "code",
   "execution_count": 33,
   "id": "499db933-616d-4e89-b283-f686a90bdf27",
   "metadata": {},
   "outputs": [
    {
     "data": {
      "text/html": [
       "<div>\n",
       "<style scoped>\n",
       "    .dataframe tbody tr th:only-of-type {\n",
       "        vertical-align: middle;\n",
       "    }\n",
       "\n",
       "    .dataframe tbody tr th {\n",
       "        vertical-align: top;\n",
       "    }\n",
       "\n",
       "    .dataframe thead th {\n",
       "        text-align: right;\n",
       "    }\n",
       "</style>\n",
       "<table border=\"1\" class=\"dataframe\">\n",
       "  <thead>\n",
       "    <tr style=\"text-align: right;\">\n",
       "      <th></th>\n",
       "    </tr>\n",
       "    <tr>\n",
       "      <th>Fecha</th>\n",
       "    </tr>\n",
       "  </thead>\n",
       "  <tbody>\n",
       "    <tr>\n",
       "      <th>2020-10-22</th>\n",
       "    </tr>\n",
       "    <tr>\n",
       "      <th>2020-10-23</th>\n",
       "    </tr>\n",
       "    <tr>\n",
       "      <th>2020-10-24</th>\n",
       "    </tr>\n",
       "    <tr>\n",
       "      <th>2020-10-25</th>\n",
       "    </tr>\n",
       "    <tr>\n",
       "      <th>2020-10-26</th>\n",
       "    </tr>\n",
       "    <tr>\n",
       "      <th>2020-10-27</th>\n",
       "    </tr>\n",
       "    <tr>\n",
       "      <th>2020-10-28</th>\n",
       "    </tr>\n",
       "    <tr>\n",
       "      <th>2020-10-29</th>\n",
       "    </tr>\n",
       "    <tr>\n",
       "      <th>2020-10-30</th>\n",
       "    </tr>\n",
       "    <tr>\n",
       "      <th>2020-10-31</th>\n",
       "    </tr>\n",
       "    <tr>\n",
       "      <th>2020-11-01</th>\n",
       "    </tr>\n",
       "    <tr>\n",
       "      <th>2020-11-02</th>\n",
       "    </tr>\n",
       "    <tr>\n",
       "      <th>2020-11-03</th>\n",
       "    </tr>\n",
       "    <tr>\n",
       "      <th>2020-11-04</th>\n",
       "    </tr>\n",
       "  </tbody>\n",
       "</table>\n",
       "</div>"
      ],
      "text/plain": [
       "Empty DataFrame\n",
       "Columns: []\n",
       "Index: [2020-10-22 00:00:00, 2020-10-23 00:00:00, 2020-10-24 00:00:00, 2020-10-25 00:00:00, 2020-10-26 00:00:00, 2020-10-27 00:00:00, 2020-10-28 00:00:00, 2020-10-29 00:00:00, 2020-10-30 00:00:00, 2020-10-31 00:00:00, 2020-11-01 00:00:00, 2020-11-02 00:00:00, 2020-11-03 00:00:00, 2020-11-04 00:00:00]"
      ]
     },
     "execution_count": 33,
     "metadata": {},
     "output_type": "execute_result"
    }
   ],
   "source": [
    "fechas=pd.read_excel(\"./Fechas.xlsx\", index_col=\"Fecha\")\n",
    "fechas"
   ]
  },
  {
   "cell_type": "markdown",
   "id": "67c98591-a7c1-400d-ad45-553a4cea4cf1",
   "metadata": {},
   "source": [
    "Agregar una columna al DataFrame anterior con el año en cada fecha:"
   ]
  },
  {
   "cell_type": "code",
   "execution_count": 34,
   "id": "79fa7c2a-6b17-4f94-861c-96418a0c5e0e",
   "metadata": {},
   "outputs": [
    {
     "data": {
      "text/html": [
       "<div>\n",
       "<style scoped>\n",
       "    .dataframe tbody tr th:only-of-type {\n",
       "        vertical-align: middle;\n",
       "    }\n",
       "\n",
       "    .dataframe tbody tr th {\n",
       "        vertical-align: top;\n",
       "    }\n",
       "\n",
       "    .dataframe thead th {\n",
       "        text-align: right;\n",
       "    }\n",
       "</style>\n",
       "<table border=\"1\" class=\"dataframe\">\n",
       "  <thead>\n",
       "    <tr style=\"text-align: right;\">\n",
       "      <th></th>\n",
       "      <th>año</th>\n",
       "      <th>dia de la semana</th>\n",
       "    </tr>\n",
       "    <tr>\n",
       "      <th>Fecha</th>\n",
       "      <th></th>\n",
       "      <th></th>\n",
       "    </tr>\n",
       "  </thead>\n",
       "  <tbody>\n",
       "    <tr>\n",
       "      <th>2020-10-22</th>\n",
       "      <td>2020</td>\n",
       "      <td>3</td>\n",
       "    </tr>\n",
       "    <tr>\n",
       "      <th>2020-10-23</th>\n",
       "      <td>2020</td>\n",
       "      <td>4</td>\n",
       "    </tr>\n",
       "    <tr>\n",
       "      <th>2020-10-24</th>\n",
       "      <td>2020</td>\n",
       "      <td>5</td>\n",
       "    </tr>\n",
       "    <tr>\n",
       "      <th>2020-10-25</th>\n",
       "      <td>2020</td>\n",
       "      <td>6</td>\n",
       "    </tr>\n",
       "    <tr>\n",
       "      <th>2020-10-26</th>\n",
       "      <td>2020</td>\n",
       "      <td>0</td>\n",
       "    </tr>\n",
       "    <tr>\n",
       "      <th>2020-10-27</th>\n",
       "      <td>2020</td>\n",
       "      <td>1</td>\n",
       "    </tr>\n",
       "    <tr>\n",
       "      <th>2020-10-28</th>\n",
       "      <td>2020</td>\n",
       "      <td>2</td>\n",
       "    </tr>\n",
       "    <tr>\n",
       "      <th>2020-10-29</th>\n",
       "      <td>2020</td>\n",
       "      <td>3</td>\n",
       "    </tr>\n",
       "    <tr>\n",
       "      <th>2020-10-30</th>\n",
       "      <td>2020</td>\n",
       "      <td>4</td>\n",
       "    </tr>\n",
       "    <tr>\n",
       "      <th>2020-10-31</th>\n",
       "      <td>2020</td>\n",
       "      <td>5</td>\n",
       "    </tr>\n",
       "    <tr>\n",
       "      <th>2020-11-01</th>\n",
       "      <td>2020</td>\n",
       "      <td>6</td>\n",
       "    </tr>\n",
       "    <tr>\n",
       "      <th>2020-11-02</th>\n",
       "      <td>2020</td>\n",
       "      <td>0</td>\n",
       "    </tr>\n",
       "    <tr>\n",
       "      <th>2020-11-03</th>\n",
       "      <td>2020</td>\n",
       "      <td>1</td>\n",
       "    </tr>\n",
       "    <tr>\n",
       "      <th>2020-11-04</th>\n",
       "      <td>2020</td>\n",
       "      <td>2</td>\n",
       "    </tr>\n",
       "  </tbody>\n",
       "</table>\n",
       "</div>"
      ],
      "text/plain": [
       "             año  dia de la semana\n",
       "Fecha                             \n",
       "2020-10-22  2020                 3\n",
       "2020-10-23  2020                 4\n",
       "2020-10-24  2020                 5\n",
       "2020-10-25  2020                 6\n",
       "2020-10-26  2020                 0\n",
       "2020-10-27  2020                 1\n",
       "2020-10-28  2020                 2\n",
       "2020-10-29  2020                 3\n",
       "2020-10-30  2020                 4\n",
       "2020-10-31  2020                 5\n",
       "2020-11-01  2020                 6\n",
       "2020-11-02  2020                 0\n",
       "2020-11-03  2020                 1\n",
       "2020-11-04  2020                 2"
      ]
     },
     "execution_count": 34,
     "metadata": {},
     "output_type": "execute_result"
    }
   ],
   "source": [
    "fechas[\"año\"]=fechas.index.year\n",
    "fechas[\"dia de la semana\"]=fechas.index.dayofweek\n",
    "fechas"
   ]
  },
  {
   "cell_type": "markdown",
   "id": "3c416503-e455-4073-89e9-8755e0184c5f",
   "metadata": {},
   "source": [
    "__Ejercicio 18:__ Crear una columa que obtenga el día y el mes en la fecha (Ej. 10/15)"
   ]
  },
  {
   "cell_type": "code",
   "execution_count": 35,
   "id": "b39a48f4-bd21-415e-9a81-61fc408a918b",
   "metadata": {},
   "outputs": [],
   "source": [
    "def convertir(x):\n",
    "    return x.strftime(\"%m/%Y\")"
   ]
  },
  {
   "cell_type": "code",
   "execution_count": 36,
   "id": "c69b784a-a7b7-4be9-8e63-b5e4e2196025",
   "metadata": {},
   "outputs": [
    {
     "data": {
      "text/html": [
       "<div>\n",
       "<style scoped>\n",
       "    .dataframe tbody tr th:only-of-type {\n",
       "        vertical-align: middle;\n",
       "    }\n",
       "\n",
       "    .dataframe tbody tr th {\n",
       "        vertical-align: top;\n",
       "    }\n",
       "\n",
       "    .dataframe thead th {\n",
       "        text-align: right;\n",
       "    }\n",
       "</style>\n",
       "<table border=\"1\" class=\"dataframe\">\n",
       "  <thead>\n",
       "    <tr style=\"text-align: right;\">\n",
       "      <th></th>\n",
       "      <th>año</th>\n",
       "      <th>dia de la semana</th>\n",
       "      <th>dia/mes</th>\n",
       "    </tr>\n",
       "    <tr>\n",
       "      <th>Fecha</th>\n",
       "      <th></th>\n",
       "      <th></th>\n",
       "      <th></th>\n",
       "    </tr>\n",
       "  </thead>\n",
       "  <tbody>\n",
       "    <tr>\n",
       "      <th>2020-10-22</th>\n",
       "      <td>2020</td>\n",
       "      <td>3</td>\n",
       "      <td>10/2020</td>\n",
       "    </tr>\n",
       "    <tr>\n",
       "      <th>2020-10-23</th>\n",
       "      <td>2020</td>\n",
       "      <td>4</td>\n",
       "      <td>10/2020</td>\n",
       "    </tr>\n",
       "    <tr>\n",
       "      <th>2020-10-24</th>\n",
       "      <td>2020</td>\n",
       "      <td>5</td>\n",
       "      <td>10/2020</td>\n",
       "    </tr>\n",
       "    <tr>\n",
       "      <th>2020-10-25</th>\n",
       "      <td>2020</td>\n",
       "      <td>6</td>\n",
       "      <td>10/2020</td>\n",
       "    </tr>\n",
       "    <tr>\n",
       "      <th>2020-10-26</th>\n",
       "      <td>2020</td>\n",
       "      <td>0</td>\n",
       "      <td>10/2020</td>\n",
       "    </tr>\n",
       "    <tr>\n",
       "      <th>2020-10-27</th>\n",
       "      <td>2020</td>\n",
       "      <td>1</td>\n",
       "      <td>10/2020</td>\n",
       "    </tr>\n",
       "    <tr>\n",
       "      <th>2020-10-28</th>\n",
       "      <td>2020</td>\n",
       "      <td>2</td>\n",
       "      <td>10/2020</td>\n",
       "    </tr>\n",
       "    <tr>\n",
       "      <th>2020-10-29</th>\n",
       "      <td>2020</td>\n",
       "      <td>3</td>\n",
       "      <td>10/2020</td>\n",
       "    </tr>\n",
       "    <tr>\n",
       "      <th>2020-10-30</th>\n",
       "      <td>2020</td>\n",
       "      <td>4</td>\n",
       "      <td>10/2020</td>\n",
       "    </tr>\n",
       "    <tr>\n",
       "      <th>2020-10-31</th>\n",
       "      <td>2020</td>\n",
       "      <td>5</td>\n",
       "      <td>10/2020</td>\n",
       "    </tr>\n",
       "    <tr>\n",
       "      <th>2020-11-01</th>\n",
       "      <td>2020</td>\n",
       "      <td>6</td>\n",
       "      <td>11/2020</td>\n",
       "    </tr>\n",
       "    <tr>\n",
       "      <th>2020-11-02</th>\n",
       "      <td>2020</td>\n",
       "      <td>0</td>\n",
       "      <td>11/2020</td>\n",
       "    </tr>\n",
       "    <tr>\n",
       "      <th>2020-11-03</th>\n",
       "      <td>2020</td>\n",
       "      <td>1</td>\n",
       "      <td>11/2020</td>\n",
       "    </tr>\n",
       "    <tr>\n",
       "      <th>2020-11-04</th>\n",
       "      <td>2020</td>\n",
       "      <td>2</td>\n",
       "      <td>11/2020</td>\n",
       "    </tr>\n",
       "  </tbody>\n",
       "</table>\n",
       "</div>"
      ],
      "text/plain": [
       "             año  dia de la semana  dia/mes\n",
       "Fecha                                      \n",
       "2020-10-22  2020                 3  10/2020\n",
       "2020-10-23  2020                 4  10/2020\n",
       "2020-10-24  2020                 5  10/2020\n",
       "2020-10-25  2020                 6  10/2020\n",
       "2020-10-26  2020                 0  10/2020\n",
       "2020-10-27  2020                 1  10/2020\n",
       "2020-10-28  2020                 2  10/2020\n",
       "2020-10-29  2020                 3  10/2020\n",
       "2020-10-30  2020                 4  10/2020\n",
       "2020-10-31  2020                 5  10/2020\n",
       "2020-11-01  2020                 6  11/2020\n",
       "2020-11-02  2020                 0  11/2020\n",
       "2020-11-03  2020                 1  11/2020\n",
       "2020-11-04  2020                 2  11/2020"
      ]
     },
     "execution_count": 36,
     "metadata": {},
     "output_type": "execute_result"
    }
   ],
   "source": [
    "fechas[\"dia/mes\"]=fechas.index.map(convertir)\n",
    "fechas"
   ]
  },
  {
   "cell_type": "markdown",
   "id": "c59515aa-5a1e-452d-898a-368c3d498305",
   "metadata": {},
   "source": [
    "__Ejercicio 19:__"
   ]
  },
  {
   "cell_type": "markdown",
   "id": "10f12a8c-420c-4e58-8222-60de8186b085",
   "metadata": {},
   "source": [
    "Importar los datos del archivo \"Fechas.xlsx\", no utilizar una columna como indice"
   ]
  },
  {
   "cell_type": "code",
   "execution_count": 37,
   "id": "b5d9074d-7ce2-4a7a-a747-d05c7fe56180",
   "metadata": {},
   "outputs": [
    {
     "data": {
      "text/html": [
       "<div>\n",
       "<style scoped>\n",
       "    .dataframe tbody tr th:only-of-type {\n",
       "        vertical-align: middle;\n",
       "    }\n",
       "\n",
       "    .dataframe tbody tr th {\n",
       "        vertical-align: top;\n",
       "    }\n",
       "\n",
       "    .dataframe thead th {\n",
       "        text-align: right;\n",
       "    }\n",
       "</style>\n",
       "<table border=\"1\" class=\"dataframe\">\n",
       "  <thead>\n",
       "    <tr style=\"text-align: right;\">\n",
       "      <th></th>\n",
       "      <th>Fecha</th>\n",
       "    </tr>\n",
       "  </thead>\n",
       "  <tbody>\n",
       "    <tr>\n",
       "      <th>0</th>\n",
       "      <td>2020-10-22</td>\n",
       "    </tr>\n",
       "    <tr>\n",
       "      <th>1</th>\n",
       "      <td>2020-10-23</td>\n",
       "    </tr>\n",
       "    <tr>\n",
       "      <th>2</th>\n",
       "      <td>2020-10-24</td>\n",
       "    </tr>\n",
       "    <tr>\n",
       "      <th>3</th>\n",
       "      <td>2020-10-25</td>\n",
       "    </tr>\n",
       "    <tr>\n",
       "      <th>4</th>\n",
       "      <td>2020-10-26</td>\n",
       "    </tr>\n",
       "    <tr>\n",
       "      <th>5</th>\n",
       "      <td>2020-10-27</td>\n",
       "    </tr>\n",
       "    <tr>\n",
       "      <th>6</th>\n",
       "      <td>2020-10-28</td>\n",
       "    </tr>\n",
       "    <tr>\n",
       "      <th>7</th>\n",
       "      <td>2020-10-29</td>\n",
       "    </tr>\n",
       "    <tr>\n",
       "      <th>8</th>\n",
       "      <td>2020-10-30</td>\n",
       "    </tr>\n",
       "    <tr>\n",
       "      <th>9</th>\n",
       "      <td>2020-10-31</td>\n",
       "    </tr>\n",
       "    <tr>\n",
       "      <th>10</th>\n",
       "      <td>2020-11-01</td>\n",
       "    </tr>\n",
       "    <tr>\n",
       "      <th>11</th>\n",
       "      <td>2020-11-02</td>\n",
       "    </tr>\n",
       "    <tr>\n",
       "      <th>12</th>\n",
       "      <td>2020-11-03</td>\n",
       "    </tr>\n",
       "    <tr>\n",
       "      <th>13</th>\n",
       "      <td>2020-11-04</td>\n",
       "    </tr>\n",
       "  </tbody>\n",
       "</table>\n",
       "</div>"
      ],
      "text/plain": [
       "        Fecha\n",
       "0  2020-10-22\n",
       "1  2020-10-23\n",
       "2  2020-10-24\n",
       "3  2020-10-25\n",
       "4  2020-10-26\n",
       "5  2020-10-27\n",
       "6  2020-10-28\n",
       "7  2020-10-29\n",
       "8  2020-10-30\n",
       "9  2020-10-31\n",
       "10 2020-11-01\n",
       "11 2020-11-02\n",
       "12 2020-11-03\n",
       "13 2020-11-04"
      ]
     },
     "execution_count": 37,
     "metadata": {},
     "output_type": "execute_result"
    }
   ],
   "source": [
    "fechas=pd.read_excel(\"./Fechas.xlsx\")\n",
    "fechas"
   ]
  },
  {
   "cell_type": "markdown",
   "id": "3292160f-3ddb-4fdc-bf37-e0f17264376c",
   "metadata": {},
   "source": [
    "Crear una columa que obtenga el mes y el dia en la fecha (Ej. 10/15)"
   ]
  },
  {
   "cell_type": "code",
   "execution_count": 38,
   "id": "ce5e356c-185b-4139-90e1-e7581bf50a0a",
   "metadata": {},
   "outputs": [],
   "source": [
    "def convertir(x):\n",
    "    return x.strftime(\"%m/%d\")"
   ]
  },
  {
   "cell_type": "code",
   "execution_count": 39,
   "id": "af8ff46b-bbb5-4ba9-89a1-5e49c596bb6f",
   "metadata": {},
   "outputs": [
    {
     "data": {
      "text/html": [
       "<div>\n",
       "<style scoped>\n",
       "    .dataframe tbody tr th:only-of-type {\n",
       "        vertical-align: middle;\n",
       "    }\n",
       "\n",
       "    .dataframe tbody tr th {\n",
       "        vertical-align: top;\n",
       "    }\n",
       "\n",
       "    .dataframe thead th {\n",
       "        text-align: right;\n",
       "    }\n",
       "</style>\n",
       "<table border=\"1\" class=\"dataframe\">\n",
       "  <thead>\n",
       "    <tr style=\"text-align: right;\">\n",
       "      <th></th>\n",
       "      <th>Fecha</th>\n",
       "      <th>mes/dia</th>\n",
       "    </tr>\n",
       "  </thead>\n",
       "  <tbody>\n",
       "    <tr>\n",
       "      <th>0</th>\n",
       "      <td>2020-10-22</td>\n",
       "      <td>10/22</td>\n",
       "    </tr>\n",
       "    <tr>\n",
       "      <th>1</th>\n",
       "      <td>2020-10-23</td>\n",
       "      <td>10/23</td>\n",
       "    </tr>\n",
       "    <tr>\n",
       "      <th>2</th>\n",
       "      <td>2020-10-24</td>\n",
       "      <td>10/24</td>\n",
       "    </tr>\n",
       "    <tr>\n",
       "      <th>3</th>\n",
       "      <td>2020-10-25</td>\n",
       "      <td>10/25</td>\n",
       "    </tr>\n",
       "    <tr>\n",
       "      <th>4</th>\n",
       "      <td>2020-10-26</td>\n",
       "      <td>10/26</td>\n",
       "    </tr>\n",
       "    <tr>\n",
       "      <th>5</th>\n",
       "      <td>2020-10-27</td>\n",
       "      <td>10/27</td>\n",
       "    </tr>\n",
       "    <tr>\n",
       "      <th>6</th>\n",
       "      <td>2020-10-28</td>\n",
       "      <td>10/28</td>\n",
       "    </tr>\n",
       "    <tr>\n",
       "      <th>7</th>\n",
       "      <td>2020-10-29</td>\n",
       "      <td>10/29</td>\n",
       "    </tr>\n",
       "    <tr>\n",
       "      <th>8</th>\n",
       "      <td>2020-10-30</td>\n",
       "      <td>10/30</td>\n",
       "    </tr>\n",
       "    <tr>\n",
       "      <th>9</th>\n",
       "      <td>2020-10-31</td>\n",
       "      <td>10/31</td>\n",
       "    </tr>\n",
       "    <tr>\n",
       "      <th>10</th>\n",
       "      <td>2020-11-01</td>\n",
       "      <td>11/01</td>\n",
       "    </tr>\n",
       "    <tr>\n",
       "      <th>11</th>\n",
       "      <td>2020-11-02</td>\n",
       "      <td>11/02</td>\n",
       "    </tr>\n",
       "    <tr>\n",
       "      <th>12</th>\n",
       "      <td>2020-11-03</td>\n",
       "      <td>11/03</td>\n",
       "    </tr>\n",
       "    <tr>\n",
       "      <th>13</th>\n",
       "      <td>2020-11-04</td>\n",
       "      <td>11/04</td>\n",
       "    </tr>\n",
       "  </tbody>\n",
       "</table>\n",
       "</div>"
      ],
      "text/plain": [
       "        Fecha mes/dia\n",
       "0  2020-10-22   10/22\n",
       "1  2020-10-23   10/23\n",
       "2  2020-10-24   10/24\n",
       "3  2020-10-25   10/25\n",
       "4  2020-10-26   10/26\n",
       "5  2020-10-27   10/27\n",
       "6  2020-10-28   10/28\n",
       "7  2020-10-29   10/29\n",
       "8  2020-10-30   10/30\n",
       "9  2020-10-31   10/31\n",
       "10 2020-11-01   11/01\n",
       "11 2020-11-02   11/02\n",
       "12 2020-11-03   11/03\n",
       "13 2020-11-04   11/04"
      ]
     },
     "execution_count": 39,
     "metadata": {},
     "output_type": "execute_result"
    }
   ],
   "source": [
    "fechas[\"mes/dia\"]=fechas.Fecha.map(convertir)\n",
    "fechas"
   ]
  },
  {
   "cell_type": "markdown",
   "id": "8f551f6e-dbf7-4477-9858-1d954951529c",
   "metadata": {},
   "source": [
    "__Ejercicio 20:__"
   ]
  },
  {
   "cell_type": "markdown",
   "id": "ada3a535-c177-4aa5-8295-bbf0af5235e4",
   "metadata": {},
   "source": [
    "Crear una columa que obtenga el mes, dia y año  en la fecha (Ej. 10/15/2030)"
   ]
  },
  {
   "cell_type": "code",
   "execution_count": 40,
   "id": "840426d0-cd1c-4194-af16-7b2be8e41b60",
   "metadata": {},
   "outputs": [
    {
     "data": {
      "text/html": [
       "<div>\n",
       "<style scoped>\n",
       "    .dataframe tbody tr th:only-of-type {\n",
       "        vertical-align: middle;\n",
       "    }\n",
       "\n",
       "    .dataframe tbody tr th {\n",
       "        vertical-align: top;\n",
       "    }\n",
       "\n",
       "    .dataframe thead th {\n",
       "        text-align: right;\n",
       "    }\n",
       "</style>\n",
       "<table border=\"1\" class=\"dataframe\">\n",
       "  <thead>\n",
       "    <tr style=\"text-align: right;\">\n",
       "      <th></th>\n",
       "      <th>Fecha</th>\n",
       "      <th>mes/dia</th>\n",
       "      <th>mes/dia/año</th>\n",
       "    </tr>\n",
       "  </thead>\n",
       "  <tbody>\n",
       "    <tr>\n",
       "      <th>0</th>\n",
       "      <td>2020-10-22</td>\n",
       "      <td>10/22</td>\n",
       "      <td>2020-10-22</td>\n",
       "    </tr>\n",
       "    <tr>\n",
       "      <th>1</th>\n",
       "      <td>2020-10-23</td>\n",
       "      <td>10/23</td>\n",
       "      <td>2020-10-23</td>\n",
       "    </tr>\n",
       "    <tr>\n",
       "      <th>2</th>\n",
       "      <td>2020-10-24</td>\n",
       "      <td>10/24</td>\n",
       "      <td>2020-10-24</td>\n",
       "    </tr>\n",
       "    <tr>\n",
       "      <th>3</th>\n",
       "      <td>2020-10-25</td>\n",
       "      <td>10/25</td>\n",
       "      <td>2020-10-25</td>\n",
       "    </tr>\n",
       "    <tr>\n",
       "      <th>4</th>\n",
       "      <td>2020-10-26</td>\n",
       "      <td>10/26</td>\n",
       "      <td>2020-10-26</td>\n",
       "    </tr>\n",
       "    <tr>\n",
       "      <th>5</th>\n",
       "      <td>2020-10-27</td>\n",
       "      <td>10/27</td>\n",
       "      <td>2020-10-27</td>\n",
       "    </tr>\n",
       "    <tr>\n",
       "      <th>6</th>\n",
       "      <td>2020-10-28</td>\n",
       "      <td>10/28</td>\n",
       "      <td>2020-10-28</td>\n",
       "    </tr>\n",
       "    <tr>\n",
       "      <th>7</th>\n",
       "      <td>2020-10-29</td>\n",
       "      <td>10/29</td>\n",
       "      <td>2020-10-29</td>\n",
       "    </tr>\n",
       "    <tr>\n",
       "      <th>8</th>\n",
       "      <td>2020-10-30</td>\n",
       "      <td>10/30</td>\n",
       "      <td>2020-10-30</td>\n",
       "    </tr>\n",
       "    <tr>\n",
       "      <th>9</th>\n",
       "      <td>2020-10-31</td>\n",
       "      <td>10/31</td>\n",
       "      <td>2020-10-31</td>\n",
       "    </tr>\n",
       "    <tr>\n",
       "      <th>10</th>\n",
       "      <td>2020-11-01</td>\n",
       "      <td>11/01</td>\n",
       "      <td>2020-11-01</td>\n",
       "    </tr>\n",
       "    <tr>\n",
       "      <th>11</th>\n",
       "      <td>2020-11-02</td>\n",
       "      <td>11/02</td>\n",
       "      <td>2020-11-02</td>\n",
       "    </tr>\n",
       "    <tr>\n",
       "      <th>12</th>\n",
       "      <td>2020-11-03</td>\n",
       "      <td>11/03</td>\n",
       "      <td>2020-11-03</td>\n",
       "    </tr>\n",
       "    <tr>\n",
       "      <th>13</th>\n",
       "      <td>2020-11-04</td>\n",
       "      <td>11/04</td>\n",
       "      <td>2020-11-04</td>\n",
       "    </tr>\n",
       "  </tbody>\n",
       "</table>\n",
       "</div>"
      ],
      "text/plain": [
       "        Fecha mes/dia mes/dia/año\n",
       "0  2020-10-22   10/22  2020-10-22\n",
       "1  2020-10-23   10/23  2020-10-23\n",
       "2  2020-10-24   10/24  2020-10-24\n",
       "3  2020-10-25   10/25  2020-10-25\n",
       "4  2020-10-26   10/26  2020-10-26\n",
       "5  2020-10-27   10/27  2020-10-27\n",
       "6  2020-10-28   10/28  2020-10-28\n",
       "7  2020-10-29   10/29  2020-10-29\n",
       "8  2020-10-30   10/30  2020-10-30\n",
       "9  2020-10-31   10/31  2020-10-31\n",
       "10 2020-11-01   11/01  2020-11-01\n",
       "11 2020-11-02   11/02  2020-11-02\n",
       "12 2020-11-03   11/03  2020-11-03\n",
       "13 2020-11-04   11/04  2020-11-04"
      ]
     },
     "execution_count": 40,
     "metadata": {},
     "output_type": "execute_result"
    }
   ],
   "source": [
    "fechas[\"mes/dia/año\"]=fechas.Fecha\n",
    "fechas"
   ]
  },
  {
   "cell_type": "code",
   "execution_count": 41,
   "id": "5e82499e-a59b-40e3-9c2f-d83a7227bcde",
   "metadata": {},
   "outputs": [],
   "source": [
    "def convertir(x):\n",
    "    return x.strftime(\"%m/%d/%Y\")"
   ]
  },
  {
   "cell_type": "code",
   "execution_count": 42,
   "id": "b5e38d68-61f3-4dab-8cde-3f318500ddb8",
   "metadata": {},
   "outputs": [
    {
     "data": {
      "text/html": [
       "<div>\n",
       "<style scoped>\n",
       "    .dataframe tbody tr th:only-of-type {\n",
       "        vertical-align: middle;\n",
       "    }\n",
       "\n",
       "    .dataframe tbody tr th {\n",
       "        vertical-align: top;\n",
       "    }\n",
       "\n",
       "    .dataframe thead th {\n",
       "        text-align: right;\n",
       "    }\n",
       "</style>\n",
       "<table border=\"1\" class=\"dataframe\">\n",
       "  <thead>\n",
       "    <tr style=\"text-align: right;\">\n",
       "      <th></th>\n",
       "      <th>Fecha</th>\n",
       "      <th>mes/dia</th>\n",
       "      <th>mes/dia/año</th>\n",
       "    </tr>\n",
       "  </thead>\n",
       "  <tbody>\n",
       "    <tr>\n",
       "      <th>0</th>\n",
       "      <td>2020-10-22</td>\n",
       "      <td>10/22</td>\n",
       "      <td>10/22/2020</td>\n",
       "    </tr>\n",
       "    <tr>\n",
       "      <th>1</th>\n",
       "      <td>2020-10-23</td>\n",
       "      <td>10/23</td>\n",
       "      <td>10/23/2020</td>\n",
       "    </tr>\n",
       "    <tr>\n",
       "      <th>2</th>\n",
       "      <td>2020-10-24</td>\n",
       "      <td>10/24</td>\n",
       "      <td>10/24/2020</td>\n",
       "    </tr>\n",
       "    <tr>\n",
       "      <th>3</th>\n",
       "      <td>2020-10-25</td>\n",
       "      <td>10/25</td>\n",
       "      <td>10/25/2020</td>\n",
       "    </tr>\n",
       "    <tr>\n",
       "      <th>4</th>\n",
       "      <td>2020-10-26</td>\n",
       "      <td>10/26</td>\n",
       "      <td>10/26/2020</td>\n",
       "    </tr>\n",
       "    <tr>\n",
       "      <th>5</th>\n",
       "      <td>2020-10-27</td>\n",
       "      <td>10/27</td>\n",
       "      <td>10/27/2020</td>\n",
       "    </tr>\n",
       "    <tr>\n",
       "      <th>6</th>\n",
       "      <td>2020-10-28</td>\n",
       "      <td>10/28</td>\n",
       "      <td>10/28/2020</td>\n",
       "    </tr>\n",
       "    <tr>\n",
       "      <th>7</th>\n",
       "      <td>2020-10-29</td>\n",
       "      <td>10/29</td>\n",
       "      <td>10/29/2020</td>\n",
       "    </tr>\n",
       "    <tr>\n",
       "      <th>8</th>\n",
       "      <td>2020-10-30</td>\n",
       "      <td>10/30</td>\n",
       "      <td>10/30/2020</td>\n",
       "    </tr>\n",
       "    <tr>\n",
       "      <th>9</th>\n",
       "      <td>2020-10-31</td>\n",
       "      <td>10/31</td>\n",
       "      <td>10/31/2020</td>\n",
       "    </tr>\n",
       "    <tr>\n",
       "      <th>10</th>\n",
       "      <td>2020-11-01</td>\n",
       "      <td>11/01</td>\n",
       "      <td>11/01/2020</td>\n",
       "    </tr>\n",
       "    <tr>\n",
       "      <th>11</th>\n",
       "      <td>2020-11-02</td>\n",
       "      <td>11/02</td>\n",
       "      <td>11/02/2020</td>\n",
       "    </tr>\n",
       "    <tr>\n",
       "      <th>12</th>\n",
       "      <td>2020-11-03</td>\n",
       "      <td>11/03</td>\n",
       "      <td>11/03/2020</td>\n",
       "    </tr>\n",
       "    <tr>\n",
       "      <th>13</th>\n",
       "      <td>2020-11-04</td>\n",
       "      <td>11/04</td>\n",
       "      <td>11/04/2020</td>\n",
       "    </tr>\n",
       "  </tbody>\n",
       "</table>\n",
       "</div>"
      ],
      "text/plain": [
       "        Fecha mes/dia mes/dia/año\n",
       "0  2020-10-22   10/22  10/22/2020\n",
       "1  2020-10-23   10/23  10/23/2020\n",
       "2  2020-10-24   10/24  10/24/2020\n",
       "3  2020-10-25   10/25  10/25/2020\n",
       "4  2020-10-26   10/26  10/26/2020\n",
       "5  2020-10-27   10/27  10/27/2020\n",
       "6  2020-10-28   10/28  10/28/2020\n",
       "7  2020-10-29   10/29  10/29/2020\n",
       "8  2020-10-30   10/30  10/30/2020\n",
       "9  2020-10-31   10/31  10/31/2020\n",
       "10 2020-11-01   11/01  11/01/2020\n",
       "11 2020-11-02   11/02  11/02/2020\n",
       "12 2020-11-03   11/03  11/03/2020\n",
       "13 2020-11-04   11/04  11/04/2020"
      ]
     },
     "execution_count": 42,
     "metadata": {},
     "output_type": "execute_result"
    }
   ],
   "source": [
    "fechas[\"mes/dia/año\"]=fechas.Fecha.map(convertir)\n",
    "fechas"
   ]
  }
 ],
 "metadata": {
  "kernelspec": {
   "display_name": "Python 3 (ipykernel)",
   "language": "python",
   "name": "python3"
  },
  "language_info": {
   "codemirror_mode": {
    "name": "ipython",
    "version": 3
   },
   "file_extension": ".py",
   "mimetype": "text/x-python",
   "name": "python",
   "nbconvert_exporter": "python",
   "pygments_lexer": "ipython3",
   "version": "3.9.7"
  }
 },
 "nbformat": 4,
 "nbformat_minor": 5
}
