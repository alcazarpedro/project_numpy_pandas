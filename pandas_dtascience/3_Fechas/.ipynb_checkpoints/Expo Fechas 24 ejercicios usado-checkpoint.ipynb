{
 "cells": [
  {
   "cell_type": "markdown",
   "id": "b43eba20-6a17-4420-8287-81d52dbfd228",
   "metadata": {},
   "source": [
    "# Ejercicios con fechas Pandas"
   ]
  },
  {
   "cell_type": "code",
   "execution_count": 2,
   "id": "2ec638b6-eb44-4424-9b62-0a0d8ef32599",
   "metadata": {},
   "outputs": [],
   "source": [
    "import pandas as pd"
   ]
  },
  {
   "cell_type": "code",
   "execution_count": 3,
   "id": "bc1a6e24-2377-4096-8598-b4cc583853d3",
   "metadata": {},
   "outputs": [],
   "source": [
    "import datetime as dt"
   ]
  },
  {
   "cell_type": "markdown",
   "id": "6bd2f271-0687-43d7-9bc7-f0eeb2fda89b",
   "metadata": {},
   "source": [
    "__Ejercicio 1:__ Obtener la fecha de hoy con Timestamp.now:"
   ]
  },
  {
   "cell_type": "code",
   "execution_count": 11,
   "id": "112c1ee9-44ff-4fbc-9af3-85e7b6438b7a",
   "metadata": {},
   "outputs": [
    {
     "data": {
      "text/plain": [
       "Timestamp('2021-12-27 19:26:15.180639')"
      ]
     },
     "execution_count": 11,
     "metadata": {},
     "output_type": "execute_result"
    }
   ],
   "source": [
    "pd.Timestamp.now()"
   ]
  },
  {
   "cell_type": "markdown",
   "id": "6fe73e72-6d53-40d9-ba49-d710ef136e18",
   "metadata": {},
   "source": [
    "__Ejercicio 2:__ Crear una variable llamada \"hoy\" con la fecha actual:"
   ]
  },
  {
   "cell_type": "code",
   "execution_count": 5,
   "id": "8d0825e5-0394-4a2a-b689-46d57adce931",
   "metadata": {},
   "outputs": [
    {
     "name": "stdout",
     "output_type": "stream",
     "text": [
      "El día de hoy es: 2021-12-27 02:14:09\n"
     ]
    }
   ],
   "source": [
    "hoy = pd.Timestamp(2021, 12,27,2,14,9 )\n",
    "print(\"El día de hoy es:\",hoy)"
   ]
  },
  {
   "cell_type": "markdown",
   "id": "b6163ead-3c20-47d5-8b6c-ec06ba0c6369",
   "metadata": {},
   "source": [
    "__Ejercicio 3:__ Obtener el año, mes y día de la fecha de hoy utilizando la variable anterior:"
   ]
  },
  {
   "cell_type": "code",
   "execution_count": 17,
   "id": "5819bcb0-bda6-4cc4-9337-800415bfd8bd",
   "metadata": {},
   "outputs": [],
   "source": [
    "dia= hoy.day\n",
    "mes= hoy.month\n",
    "año= hoy.year\n",
    "#print(\"El día de hoy es\",dia,\"del mes\",mes,\"del año\",año)"
   ]
  },
  {
   "cell_type": "markdown",
   "id": "d7083766-5481-4093-adaf-0e7153443b35",
   "metadata": {},
   "source": [
    "__Ejercicio 4:__ Obtener el mes en español"
   ]
  },
  {
   "cell_type": "code",
   "execution_count": 40,
   "id": "fad92717-9cec-4861-a02a-84985206913c",
   "metadata": {},
   "outputs": [
    {
     "data": {
      "text/plain": [
       "'Diciembre'"
      ]
     },
     "execution_count": 40,
     "metadata": {},
     "output_type": "execute_result"
    }
   ],
   "source": [
    "meses_esp = {1: 'Enero', \n",
    "             2: 'Febrero',\n",
    "             3: 'Marzo',\n",
    "             4: 'Abril',\n",
    "             5: 'Mayo',\n",
    "             6: 'Junio',\n",
    "             7: 'Julio',\n",
    "             8: 'Agosto',\n",
    "             9: 'Septiembre',\n",
    "             10: 'Octubre',\n",
    "             11: 'Noviembre',\n",
    "             12: 'Diciembre'}\n",
    "\n",
    "def traductor(mes):\n",
    "    return meses_esp[mes]\n",
    "\n",
    "traductor(hoy.month)"
   ]
  },
  {
   "cell_type": "markdown",
   "id": "be8d22dd-536c-4b17-b02a-9c9e7f323c55",
   "metadata": {},
   "source": [
    "__Ejercicio 5__ Nombrar todos los días de la siguiente semana utilizando pandas date_range:"
   ]
  },
  {
   "cell_type": "code",
   "execution_count": null,
   "id": "b504067a-dc10-4f3b-982c-acd71fee906e",
   "metadata": {},
   "outputs": [
    {
     "data": {
      "text/plain": [
       "DatetimeIndex(['2021-12-22', '2021-12-23', '2021-12-24', '2021-12-25',\n",
       "               '2021-12-26', '2021-12-27', '2021-12-28', '2021-12-29'],\n",
       "              dtype='datetime64[ns]', freq='D')"
      ]
     },
     "execution_count": 18,
     "metadata": {},
     "output_type": "execute_result"
    }
   ],
   "source": [
    "semana = pd.Timestamp(\"2021-12-29\")\n",
    "pd.date_range(hoy, semana)"
   ]
  },
  {
   "cell_type": "markdown",
   "id": "bd87aaff-c3b7-4b9e-94a1-834f1a60285f",
   "metadata": {},
   "source": [
    "__Ejercicio 6:__ Crear un dataframe de fechas con una diferencia de 5 días entre cada elemento"
   ]
  },
  {
   "cell_type": "code",
   "execution_count": 110,
   "id": "2b04a974-758f-4899-9264-2e3bcb33a0ac",
   "metadata": {},
   "outputs": [
    {
     "data": {
      "text/plain": [
       "DatetimeIndex(['2021-12-22', '2021-12-27', '2022-01-01', '2022-01-06'], dtype='datetime64[ns]', freq='5D')"
      ]
     },
     "execution_count": 110,
     "metadata": {},
     "output_type": "execute_result"
    }
   ],
   "source": [
    "pd.date_range(hoy, freq=\"5D\", periods=4)"
   ]
  },
  {
   "cell_type": "markdown",
   "id": "87302b2a-8828-4cee-a0c2-4a3044c7e12a",
   "metadata": {},
   "source": [
    "__Ejercicio 7:__ Sumar 2 días y 9 semanas a la fecha de hoy:"
   ]
  },
  {
   "cell_type": "code",
   "execution_count": 19,
   "id": "c1f35773-1dd9-4d19-9d3f-cf06e9165ea3",
   "metadata": {},
   "outputs": [
    {
     "data": {
      "text/plain": [
       "Timestamp('2022-02-25 00:00:00')"
      ]
     },
     "execution_count": 19,
     "metadata": {},
     "output_type": "execute_result"
    }
   ],
   "source": [
    " hoy + pd.Timedelta(days=2,weeks=9)"
   ]
  },
  {
   "cell_type": "markdown",
   "id": "0fad6187-fa73-4573-8ea7-4729ba40fee2",
   "metadata": {},
   "source": [
    "__Ejercicio 8:__ Utilizar strftime para obtener el día de la semana en letras del día de hoy"
   ]
  },
  {
   "cell_type": "code",
   "execution_count": 104,
   "id": "b7e629fa-2edf-4fbc-b4a5-732c7fbf8d70",
   "metadata": {},
   "outputs": [
    {
     "data": {
      "text/plain": [
       "'Wed'"
      ]
     },
     "execution_count": 104,
     "metadata": {},
     "output_type": "execute_result"
    }
   ],
   "source": [
    "hoy.strftime(\"%X\")\n",
    "hoy.strftime(\"%c\")\n",
    "hoy.strftime(\"%a\")\n",
    "#https://docs.python.org/3/library/datetime.html#module-datetime"
   ]
  },
  {
   "cell_type": "markdown",
   "id": "d3b844f7-7a7f-44fa-bff2-ad65f986d0ea",
   "metadata": {},
   "source": [
    "__Ejercicio 9:__"
   ]
  },
  {
   "cell_type": "markdown",
   "id": "62c26876-4c9d-4990-a56a-3c18f74aa432",
   "metadata": {},
   "source": [
    "Utilizar datetime.datetime.strftime para obtener la fecha en un formato personalizado (Ej. \"Fecha: 10/02/15\")"
   ]
  },
  {
   "cell_type": "code",
   "execution_count": 138,
   "id": "34b80270-5ccf-4ad0-8dd4-a0aa92a9084c",
   "metadata": {},
   "outputs": [
    {
     "data": {
      "text/plain": [
       "'Fecha: 27/12/2021'"
      ]
     },
     "execution_count": 138,
     "metadata": {},
     "output_type": "execute_result"
    }
   ],
   "source": [
    "dt.datetime.strftime(hoy,\"Fecha: %d/%m/%Y\")"
   ]
  },
  {
   "cell_type": "markdown",
   "id": "4ebabe16-9808-49e4-bc7e-07874593d731",
   "metadata": {},
   "source": [
    "__Ejercicio 10__:"
   ]
  },
  {
   "cell_type": "markdown",
   "id": "84bec907-633e-4005-b78b-2da58ae3e0f8",
   "metadata": {},
   "source": [
    "Importar el archivo fecha.xlsx"
   ]
  },
  {
   "cell_type": "code",
   "execution_count": 4,
   "id": "0b49cb16-e2ee-47b8-b11f-b1090f04b9fe",
   "metadata": {},
   "outputs": [],
   "source": [
    "fecha= pd.read_excel(\"./fecha.xlsx\",index_col=\"Fecha\")"
   ]
  },
  {
   "cell_type": "code",
   "execution_count": 6,
   "id": "74a6953b-111b-41b1-9165-17c056122ab8",
   "metadata": {},
   "outputs": [],
   "source": [
    "#fecha.head()"
   ]
  },
  {
   "cell_type": "markdown",
   "id": "28486520-5d90-4874-8277-9dd435571c44",
   "metadata": {},
   "source": [
    "Agregar al dataframe una columna con el día, otra con el mes y finalmente una con el año de cada fecha:"
   ]
  },
  {
   "cell_type": "code",
   "execution_count": 29,
   "id": "ea130291-ab7c-44a1-b7cf-bb150dd893bd",
   "metadata": {},
   "outputs": [],
   "source": [
    "fecha[\"Año\"] =fecha.index.year\n",
    "fecha[\"Mes\"] =fecha.index.month\n",
    "fecha[\"Dia\"] =fecha.index.day\n",
    "\n",
    "##Es importante que sea en indice porque si no algunos metodos fallarán, por ejemplo, isocalendar que verémos más adelante "
   ]
  },
  {
   "cell_type": "code",
   "execution_count": 31,
   "id": "276f2730-2af8-4c70-a609-2fc26f76ed54",
   "metadata": {},
   "outputs": [],
   "source": [
    "#fecha.head()"
   ]
  },
  {
   "cell_type": "markdown",
   "id": "62483379-d76d-462c-b328-22b53acbc0ea",
   "metadata": {},
   "source": [
    "__Ejercicio 11:__ Obtener el año y el mes en una sola columna utilizando el indice del DataFrame anterior"
   ]
  },
  {
   "cell_type": "code",
   "execution_count": 42,
   "id": "07475b4a-d5cd-42fc-9b48-274351253c2e",
   "metadata": {},
   "outputs": [],
   "source": [
    "def convertir(indice):\n",
    "    return indice.strftime(\"%Y/%m\")\n",
    "\n",
    "\n",
    "fecha[\"FechaMes\"]= fecha.index.map(convertir)"
   ]
  },
  {
   "cell_type": "markdown",
   "id": "fa51ae84-8193-483a-b885-0bf361dc7703",
   "metadata": {},
   "source": [
    "__Ejercicio 12:__ Obtener el año, la semana y el día utilizando isocalendar sobre el DataFrame anterior:"
   ]
  },
  {
   "cell_type": "code",
   "execution_count": 11,
   "id": "bfc55488-ee0e-48a7-b4df-56b139dcc809",
   "metadata": {},
   "outputs": [
    {
     "data": {
      "text/html": [
       "<div>\n",
       "<style scoped>\n",
       "    .dataframe tbody tr th:only-of-type {\n",
       "        vertical-align: middle;\n",
       "    }\n",
       "\n",
       "    .dataframe tbody tr th {\n",
       "        vertical-align: top;\n",
       "    }\n",
       "\n",
       "    .dataframe thead th {\n",
       "        text-align: right;\n",
       "    }\n",
       "</style>\n",
       "<table border=\"1\" class=\"dataframe\">\n",
       "  <thead>\n",
       "    <tr style=\"text-align: right;\">\n",
       "      <th></th>\n",
       "      <th>year</th>\n",
       "      <th>week</th>\n",
       "      <th>day</th>\n",
       "    </tr>\n",
       "    <tr>\n",
       "      <th>Fecha</th>\n",
       "      <th></th>\n",
       "      <th></th>\n",
       "      <th></th>\n",
       "    </tr>\n",
       "  </thead>\n",
       "  <tbody>\n",
       "    <tr>\n",
       "      <th>2020-10-22</th>\n",
       "      <td>2020</td>\n",
       "      <td>43</td>\n",
       "      <td>4</td>\n",
       "    </tr>\n",
       "    <tr>\n",
       "      <th>2020-10-23</th>\n",
       "      <td>2020</td>\n",
       "      <td>43</td>\n",
       "      <td>5</td>\n",
       "    </tr>\n",
       "    <tr>\n",
       "      <th>2020-10-24</th>\n",
       "      <td>2020</td>\n",
       "      <td>43</td>\n",
       "      <td>6</td>\n",
       "    </tr>\n",
       "    <tr>\n",
       "      <th>2020-10-25</th>\n",
       "      <td>2020</td>\n",
       "      <td>43</td>\n",
       "      <td>7</td>\n",
       "    </tr>\n",
       "    <tr>\n",
       "      <th>2020-10-26</th>\n",
       "      <td>2020</td>\n",
       "      <td>44</td>\n",
       "      <td>1</td>\n",
       "    </tr>\n",
       "    <tr>\n",
       "      <th>2020-10-27</th>\n",
       "      <td>2020</td>\n",
       "      <td>44</td>\n",
       "      <td>2</td>\n",
       "    </tr>\n",
       "    <tr>\n",
       "      <th>2020-10-28</th>\n",
       "      <td>2020</td>\n",
       "      <td>44</td>\n",
       "      <td>3</td>\n",
       "    </tr>\n",
       "    <tr>\n",
       "      <th>2020-10-29</th>\n",
       "      <td>2020</td>\n",
       "      <td>44</td>\n",
       "      <td>4</td>\n",
       "    </tr>\n",
       "    <tr>\n",
       "      <th>2020-10-30</th>\n",
       "      <td>2020</td>\n",
       "      <td>44</td>\n",
       "      <td>5</td>\n",
       "    </tr>\n",
       "    <tr>\n",
       "      <th>2020-10-31</th>\n",
       "      <td>2020</td>\n",
       "      <td>44</td>\n",
       "      <td>6</td>\n",
       "    </tr>\n",
       "    <tr>\n",
       "      <th>2020-11-01</th>\n",
       "      <td>2020</td>\n",
       "      <td>44</td>\n",
       "      <td>7</td>\n",
       "    </tr>\n",
       "    <tr>\n",
       "      <th>2020-11-02</th>\n",
       "      <td>2020</td>\n",
       "      <td>45</td>\n",
       "      <td>1</td>\n",
       "    </tr>\n",
       "    <tr>\n",
       "      <th>2020-11-03</th>\n",
       "      <td>2020</td>\n",
       "      <td>45</td>\n",
       "      <td>2</td>\n",
       "    </tr>\n",
       "    <tr>\n",
       "      <th>2020-11-04</th>\n",
       "      <td>2020</td>\n",
       "      <td>45</td>\n",
       "      <td>3</td>\n",
       "    </tr>\n",
       "  </tbody>\n",
       "</table>\n",
       "</div>"
      ],
      "text/plain": [
       "            year  week  day\n",
       "Fecha                      \n",
       "2020-10-22  2020    43    4\n",
       "2020-10-23  2020    43    5\n",
       "2020-10-24  2020    43    6\n",
       "2020-10-25  2020    43    7\n",
       "2020-10-26  2020    44    1\n",
       "2020-10-27  2020    44    2\n",
       "2020-10-28  2020    44    3\n",
       "2020-10-29  2020    44    4\n",
       "2020-10-30  2020    44    5\n",
       "2020-10-31  2020    44    6\n",
       "2020-11-01  2020    44    7\n",
       "2020-11-02  2020    45    1\n",
       "2020-11-03  2020    45    2\n",
       "2020-11-04  2020    45    3"
      ]
     },
     "execution_count": 11,
     "metadata": {},
     "output_type": "execute_result"
    }
   ],
   "source": [
    "fecha.index.isocalendar()"
   ]
  },
  {
   "cell_type": "markdown",
   "id": "77f86e0d-f578-44ba-9327-b42007162ef8",
   "metadata": {},
   "source": [
    "__Ejercicio 13:__"
   ]
  },
  {
   "cell_type": "markdown",
   "id": "e9edaf8d-10f6-4e8f-913a-3142a18fb2ca",
   "metadata": {},
   "source": [
    "Importar los datos del archivo \"columna.xlsx\""
   ]
  },
  {
   "cell_type": "code",
   "execution_count": 7,
   "id": "bdbd9abc-d116-45e4-9ee5-58978f86c0ef",
   "metadata": {},
   "outputs": [],
   "source": [
    "columna= pd.read_excel(\"./columna.xlsx\")"
   ]
  },
  {
   "cell_type": "code",
   "execution_count": 9,
   "id": "3fcf82ab-b3b2-4d77-8e46-dd18533f3d21",
   "metadata": {},
   "outputs": [],
   "source": [
    "#columna.head()"
   ]
  },
  {
   "cell_type": "markdown",
   "id": "59b12cc0-8b67-427f-aa9d-c880c1f98c9c",
   "metadata": {},
   "source": [
    "Obtener el año y el mes en una sola columna utilizando el indice del DataFrame anterior"
   ]
  },
  {
   "cell_type": "code",
   "execution_count": null,
   "id": "30e7b2c9-6536-482e-9e17-23f1fe12a706",
   "metadata": {},
   "outputs": [],
   "source": [
    "columna[\"FechaMes2\"]= columna[\"Fecha\"].apply(convertir)"
   ]
  },
  {
   "cell_type": "markdown",
   "id": "761bcc3e-6c88-49a5-b28f-6cf45b399fa2",
   "metadata": {},
   "source": [
    "__Ejercicio 14__: "
   ]
  },
  {
   "cell_type": "markdown",
   "id": "924d18fa-5848-4c5b-b2c0-ca0cac090730",
   "metadata": {},
   "source": [
    "Importar la información del archivo \"datos.xlsx\""
   ]
  },
  {
   "cell_type": "code",
   "execution_count": 49,
   "id": "6f05f46f-a7d4-474f-80ff-cc28976e7fa7",
   "metadata": {},
   "outputs": [],
   "source": [
    "datos= pd.read_excel(\"./datos.xlsx\")\n",
    "#datos"
   ]
  },
  {
   "cell_type": "markdown",
   "id": "7acacafa-76e5-43f6-9e19-f01b5e65057e",
   "metadata": {},
   "source": [
    "Crear una columna llamada fecha, que sea la unión del año, mes y día del dataframe anterior:"
   ]
  },
  {
   "cell_type": "code",
   "execution_count": 50,
   "id": "13306ad5-8fdb-4ac6-8b60-fc564ebd2ee5",
   "metadata": {},
   "outputs": [],
   "source": [
    "datos[\"fecha\"]=pd.to_datetime(datos[[\"year\", \"month\", \"day\"]])\n",
    "#datos[\"fecha\"]=pd.to_datetime(datos) Podemos no especificar las columnas, pero solo funciona si\n",
    "#la base de datos contiene unicamente las columnas a utilizar\n",
    "\n",
    "#datos"
   ]
  },
  {
   "cell_type": "code",
   "execution_count": 44,
   "id": "1fdbbc28-d561-43ea-8b05-f1e2bc7e0908",
   "metadata": {},
   "outputs": [],
   "source": [
    "#fecha.head()"
   ]
  },
  {
   "cell_type": "markdown",
   "id": "4611b68b-558c-41cd-b886-7a092ea6b13f",
   "metadata": {},
   "source": [
    "__Ejercicio 15:__ Crear una variable con la funcion pd.Timestamp que contenga la fecha \"15-05-2022\""
   ]
  },
  {
   "cell_type": "code",
   "execution_count": 32,
   "id": "2bbb8f22-a512-4deb-8b09-561f68c00a69",
   "metadata": {},
   "outputs": [],
   "source": [
    "fecha = pd.Timestamp(2022, 5,15 )"
   ]
  },
  {
   "cell_type": "code",
   "execution_count": 34,
   "id": "f778fcc7-fb0c-48e2-9a0a-81cfcc0f3cd0",
   "metadata": {},
   "outputs": [],
   "source": [
    "#fecha"
   ]
  },
  {
   "cell_type": "markdown",
   "id": "1192addb-55b8-4399-b2f6-1b0f77b8548f",
   "metadata": {},
   "source": [
    "__Ejericio 16:__ Obtener el año, día y mes de la fecha anterior"
   ]
  },
  {
   "cell_type": "code",
   "execution_count": 36,
   "id": "a131db89-6d03-494b-ada8-5dad00877da8",
   "metadata": {},
   "outputs": [
    {
     "data": {
      "text/plain": [
       "15"
      ]
     },
     "execution_count": 36,
     "metadata": {},
     "output_type": "execute_result"
    }
   ],
   "source": [
    "fecha.year\n",
    "fecha.month\n",
    "fecha.day"
   ]
  },
  {
   "cell_type": "markdown",
   "id": "87ae827f-fd7c-46eb-b791-c17263e5ffe5",
   "metadata": {},
   "source": [
    "__Ejericio 17:__ Obtener el nombre del mes en español utilizando la fecha anterior (Ej. \"Enero\"):"
   ]
  },
  {
   "cell_type": "code",
   "execution_count": 41,
   "id": "eb0c61f5-7934-4bd9-957c-f82c6bbb0daf",
   "metadata": {},
   "outputs": [
    {
     "data": {
      "text/plain": [
       "'Mayo'"
      ]
     },
     "execution_count": 41,
     "metadata": {},
     "output_type": "execute_result"
    }
   ],
   "source": [
    "traductor(fecha.month)"
   ]
  },
  {
   "cell_type": "markdown",
   "id": "31af961e-00f0-464f-b820-25c8b7e25a97",
   "metadata": {},
   "source": [
    "__Ejercicio 18:__ Obtener una lista con todas las fechas entre \"2022-8-13\" y \"2022-8-24\" con pd.date_range"
   ]
  },
  {
   "cell_type": "code",
   "execution_count": 44,
   "id": "b903166f-34c6-4d53-8a6e-505956274929",
   "metadata": {},
   "outputs": [
    {
     "data": {
      "text/plain": [
       "DatetimeIndex(['2022-08-13', '2022-08-14', '2022-08-15', '2022-08-16',\n",
       "               '2022-08-17', '2022-08-18', '2022-08-19', '2022-08-20',\n",
       "               '2022-08-21', '2022-08-22', '2022-08-23', '2022-08-24'],\n",
       "              dtype='datetime64[ns]', freq='D')"
      ]
     },
     "execution_count": 44,
     "metadata": {},
     "output_type": "execute_result"
    }
   ],
   "source": [
    "inicio = pd.Timestamp(\"2022-08-13\")\n",
    "fin = pd.Timestamp(\"2022-08-24\")\n",
    "pd.date_range(inicio,fin)"
   ]
  },
  {
   "cell_type": "markdown",
   "id": "2053fdee-2ad4-401d-82d1-9c0da623c643",
   "metadata": {},
   "source": [
    "__Ejercicio 19:__ Obtener una lista con 6 fechas empezando el día \"2022-09-15\" utilizando pd.date_range, cada fecha debe ser 5 días siguientes a la anterior"
   ]
  },
  {
   "cell_type": "code",
   "execution_count": 45,
   "id": "4afbd9b2-69ac-4f44-adc3-76b168a118b3",
   "metadata": {},
   "outputs": [
    {
     "data": {
      "text/plain": [
       "DatetimeIndex(['2022-09-15', '2022-09-20', '2022-09-25', '2022-09-30',\n",
       "               '2022-10-05', '2022-10-10'],\n",
       "              dtype='datetime64[ns]', freq='5D')"
      ]
     },
     "execution_count": 45,
     "metadata": {},
     "output_type": "execute_result"
    }
   ],
   "source": [
    "inicio = pd.Timestamp(\"2022-09-15\")\n",
    "pd.date_range(inicio, freq=\"5D\", periods=6)"
   ]
  },
  {
   "cell_type": "markdown",
   "id": "649d786a-43b6-48e1-b427-cfb643e77105",
   "metadata": {},
   "source": [
    "__Ejercicio 20:__ Sumar 4 días y 2 semanas a la fecha \"2022-12-22\""
   ]
  },
  {
   "cell_type": "code",
   "execution_count": 49,
   "id": "d09facb0-7f06-4572-b7be-9df7f897718e",
   "metadata": {},
   "outputs": [
    {
     "data": {
      "text/plain": [
       "Timestamp('2023-01-09 00:00:00')"
      ]
     },
     "execution_count": 49,
     "metadata": {},
     "output_type": "execute_result"
    }
   ],
   "source": [
    "inicio = pd.Timestamp(\"2022-12-22\")\n",
    "inicio + pd.Timedelta(days=4,weeks=2)"
   ]
  },
  {
   "cell_type": "markdown",
   "id": "0432c1dd-6ada-4149-af0f-5874bbfd08ff",
   "metadata": {},
   "source": [
    "__Ejercicio 21:__ Obtener la el día de la semana en la fecha \"2023-02-28\" (Ej. Thursday)"
   ]
  },
  {
   "cell_type": "code",
   "execution_count": 53,
   "id": "541d6883-fd79-4553-8054-bf1f4596b2b9",
   "metadata": {},
   "outputs": [
    {
     "data": {
      "text/plain": [
       "'Tuesday'"
      ]
     },
     "execution_count": 53,
     "metadata": {},
     "output_type": "execute_result"
    }
   ],
   "source": [
    "fecha=pd.Timestamp(\"2023-02-28\")\n",
    "fecha.strftime(\"%A\")"
   ]
  },
  {
   "cell_type": "markdown",
   "id": "da3623ed-7125-408a-aaff-92a3a4dc8b6f",
   "metadata": {},
   "source": [
    "__Ejercicio 22:__ Utilizar datetime.datetime.strftime para obtener la fecha en el formato \"22/03/2020\":"
   ]
  },
  {
   "cell_type": "code",
   "execution_count": 56,
   "id": "cbf03c85-1391-443b-93e9-c408012720dc",
   "metadata": {},
   "outputs": [
    {
     "data": {
      "text/plain": [
       "'22/03/2020'"
      ]
     },
     "execution_count": 56,
     "metadata": {},
     "output_type": "execute_result"
    }
   ],
   "source": [
    "fecha=pd.Timestamp(\"2020-03-22\")\n",
    "dt.datetime.strftime(fecha,\"%d/%m/%Y\")"
   ]
  },
  {
   "cell_type": "markdown",
   "id": "f76c1f24-6474-4d65-bc44-e2ea7395466e",
   "metadata": {},
   "source": [
    "__Ejercicio 23:__ "
   ]
  },
  {
   "cell_type": "markdown",
   "id": "68777ed1-78b1-458d-a1bd-0f8712137ba8",
   "metadata": {},
   "source": [
    "Importar el archivo \"Ejercicio 23.xlsx\", utilizando la columna Fecha como indice:"
   ]
  },
  {
   "cell_type": "code",
   "execution_count": 59,
   "id": "5ad0857b-c691-4263-81ff-8dfdf2e202b5",
   "metadata": {},
   "outputs": [],
   "source": [
    "fechas= pd.read_excel(\"./Ejercicio 23.xlsx\",index_col=\"Fecha\")"
   ]
  },
  {
   "cell_type": "markdown",
   "id": "43bedba6-08da-4ab7-9bda-c2cbbe297843",
   "metadata": {},
   "source": [
    "Utilizando el DataFrame anterior, crear una columna que contenga el mes de cada fecha:"
   ]
  },
  {
   "cell_type": "code",
   "execution_count": 61,
   "id": "3806a7b9-35ba-46cb-a427-1e5f0594f704",
   "metadata": {},
   "outputs": [],
   "source": [
    "fechas[\"Mes\"]= fechas.index.month"
   ]
  },
  {
   "cell_type": "code",
   "execution_count": 63,
   "id": "8d367044-514a-490c-aa88-f10fd8010940",
   "metadata": {},
   "outputs": [],
   "source": [
    "#fechas"
   ]
  },
  {
   "cell_type": "markdown",
   "id": "0eb9115a-b94d-40df-8ef4-2a687aa80423",
   "metadata": {},
   "source": [
    "__Ejercicio 24:__ Utilizando el DataFrame anterior, crear una columna únicamente con el año y día de cada fecha (Ej. 2020-13)"
   ]
  },
  {
   "cell_type": "code",
   "execution_count": 64,
   "id": "1b0a939e-6761-4a06-8d77-e3999c497aee",
   "metadata": {},
   "outputs": [],
   "source": [
    "def convertir(indice):\n",
    "    return dt.datetime.strftime(indice,\"%Y/%d\")\n",
    "\n",
    "fechas[\"FechaDia\"]= fechas.index.map(convertir)"
   ]
  },
  {
   "cell_type": "code",
   "execution_count": 65,
   "id": "5da4d958-2335-461f-b23c-a818d3456fcf",
   "metadata": {},
   "outputs": [
    {
     "data": {
      "text/html": [
       "<div>\n",
       "<style scoped>\n",
       "    .dataframe tbody tr th:only-of-type {\n",
       "        vertical-align: middle;\n",
       "    }\n",
       "\n",
       "    .dataframe tbody tr th {\n",
       "        vertical-align: top;\n",
       "    }\n",
       "\n",
       "    .dataframe thead th {\n",
       "        text-align: right;\n",
       "    }\n",
       "</style>\n",
       "<table border=\"1\" class=\"dataframe\">\n",
       "  <thead>\n",
       "    <tr style=\"text-align: right;\">\n",
       "      <th></th>\n",
       "      <th>Mes</th>\n",
       "      <th>FechaDia</th>\n",
       "    </tr>\n",
       "    <tr>\n",
       "      <th>Fecha</th>\n",
       "      <th></th>\n",
       "      <th></th>\n",
       "    </tr>\n",
       "  </thead>\n",
       "  <tbody>\n",
       "    <tr>\n",
       "      <th>2020-01-22</th>\n",
       "      <td>1</td>\n",
       "      <td>2020/22</td>\n",
       "    </tr>\n",
       "    <tr>\n",
       "      <th>2020-01-23</th>\n",
       "      <td>1</td>\n",
       "      <td>2020/23</td>\n",
       "    </tr>\n",
       "    <tr>\n",
       "      <th>2020-01-24</th>\n",
       "      <td>1</td>\n",
       "      <td>2020/24</td>\n",
       "    </tr>\n",
       "    <tr>\n",
       "      <th>2020-01-25</th>\n",
       "      <td>1</td>\n",
       "      <td>2020/25</td>\n",
       "    </tr>\n",
       "    <tr>\n",
       "      <th>2020-01-26</th>\n",
       "      <td>1</td>\n",
       "      <td>2020/26</td>\n",
       "    </tr>\n",
       "    <tr>\n",
       "      <th>2020-01-27</th>\n",
       "      <td>1</td>\n",
       "      <td>2020/27</td>\n",
       "    </tr>\n",
       "    <tr>\n",
       "      <th>2020-01-28</th>\n",
       "      <td>1</td>\n",
       "      <td>2020/28</td>\n",
       "    </tr>\n",
       "    <tr>\n",
       "      <th>2020-01-29</th>\n",
       "      <td>1</td>\n",
       "      <td>2020/29</td>\n",
       "    </tr>\n",
       "    <tr>\n",
       "      <th>2020-01-30</th>\n",
       "      <td>1</td>\n",
       "      <td>2020/30</td>\n",
       "    </tr>\n",
       "    <tr>\n",
       "      <th>2020-01-31</th>\n",
       "      <td>1</td>\n",
       "      <td>2020/31</td>\n",
       "    </tr>\n",
       "    <tr>\n",
       "      <th>2020-02-01</th>\n",
       "      <td>2</td>\n",
       "      <td>2020/01</td>\n",
       "    </tr>\n",
       "    <tr>\n",
       "      <th>2020-02-02</th>\n",
       "      <td>2</td>\n",
       "      <td>2020/02</td>\n",
       "    </tr>\n",
       "  </tbody>\n",
       "</table>\n",
       "</div>"
      ],
      "text/plain": [
       "            Mes FechaDia\n",
       "Fecha                   \n",
       "2020-01-22    1  2020/22\n",
       "2020-01-23    1  2020/23\n",
       "2020-01-24    1  2020/24\n",
       "2020-01-25    1  2020/25\n",
       "2020-01-26    1  2020/26\n",
       "2020-01-27    1  2020/27\n",
       "2020-01-28    1  2020/28\n",
       "2020-01-29    1  2020/29\n",
       "2020-01-30    1  2020/30\n",
       "2020-01-31    1  2020/31\n",
       "2020-02-01    2  2020/01\n",
       "2020-02-02    2  2020/02"
      ]
     },
     "execution_count": 65,
     "metadata": {},
     "output_type": "execute_result"
    }
   ],
   "source": [
    "fechas"
   ]
  },
  {
   "cell_type": "code",
   "execution_count": null,
   "id": "64bd824e-2a29-4b44-92ff-10e6c6ffcc53",
   "metadata": {},
   "outputs": [],
   "source": [
    "Agregar una fecha en formato japones (Ej. 2020-20)"
   ]
  },
  {
   "cell_type": "code",
   "execution_count": 8,
   "id": "98649ca3-0b35-4ca9-b1f3-b5ac06bafbb6",
   "metadata": {},
   "outputs": [],
   "source": [
    "fecha =pd.to_datetime(\"2020-10-20\", format=\"%Y-%m-%d\")"
   ]
  },
  {
   "cell_type": "code",
   "execution_count": 7,
   "id": "3f602d7f-e480-44a6-a7e4-cf106fa46dce",
   "metadata": {},
   "outputs": [
    {
     "data": {
      "text/plain": [
       "Timestamp('2021-10-01 00:00:00')"
      ]
     },
     "execution_count": 7,
     "metadata": {},
     "output_type": "execute_result"
    }
   ],
   "source": [
    "pd.to_datetime(\"10/1/2021\", format=\"%m/%d/%Y\")"
   ]
  },
  {
   "cell_type": "code",
   "execution_count": 9,
   "id": "7a01c099-e394-4368-b240-0c534cbe6345",
   "metadata": {},
   "outputs": [
    {
     "data": {
      "text/plain": [
       "'October 20 '"
      ]
     },
     "execution_count": 9,
     "metadata": {},
     "output_type": "execute_result"
    }
   ],
   "source": [
    "fecha.strftime(\"%B %d \")"
   ]
  },
  {
   "cell_type": "code",
   "execution_count": null,
   "id": "0b8b98ed-43a5-49e6-b6ea-358cccd4b6a6",
   "metadata": {},
   "outputs": [],
   "source": [
    "#https://docs.python.org/3/library/datetime.html#strftime-and-strptime-behavior"
   ]
  }
 ],
 "metadata": {
  "kernelspec": {
   "display_name": "Python 3 (ipykernel)",
   "language": "python",
   "name": "python3"
  },
  "language_info": {
   "codemirror_mode": {
    "name": "ipython",
    "version": 3
   },
   "file_extension": ".py",
   "mimetype": "text/x-python",
   "name": "python",
   "nbconvert_exporter": "python",
   "pygments_lexer": "ipython3",
   "version": "3.9.7"
  }
 },
 "nbformat": 4,
 "nbformat_minor": 5
}
