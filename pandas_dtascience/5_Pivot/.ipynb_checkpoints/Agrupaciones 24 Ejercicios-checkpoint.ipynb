{
 "cells": [
  {
   "cell_type": "markdown",
   "id": "c2a0c04d-8073-418c-8967-b05c9802474e",
   "metadata": {},
   "source": [
    "# Group by"
   ]
  },
  {
   "cell_type": "code",
   "execution_count": 1,
   "id": "98d4898b-3137-4be4-852f-116822ddb7cd",
   "metadata": {},
   "outputs": [],
   "source": [
    "import pandas as pd"
   ]
  },
  {
   "cell_type": "markdown",
   "id": "e04f9e0c-650b-41d1-9591-71d85b4f12ed",
   "metadata": {},
   "source": [
    "__Ejercicio 1:__"
   ]
  },
  {
   "cell_type": "markdown",
   "id": "deff0d85-28ad-473d-ac2a-67f5cbdb3964",
   "metadata": {},
   "source": [
    "Importar el archivo \"granja.xlsx\" en la variable \"recoleccion\""
   ]
  },
  {
   "cell_type": "code",
   "execution_count": null,
   "id": "a65caced-2779-457a-9988-f5c83efdd473",
   "metadata": {},
   "outputs": [],
   "source": []
  },
  {
   "cell_type": "markdown",
   "id": "edae104d-0249-4ca6-ac11-cc554170794a",
   "metadata": {},
   "source": [
    "Utilizar groupby para obtener el valor maximo en todas las columnas por cada Año"
   ]
  },
  {
   "cell_type": "code",
   "execution_count": null,
   "id": "890017dd-83b8-4c39-ac74-d1862e8bb646",
   "metadata": {},
   "outputs": [],
   "source": []
  },
  {
   "cell_type": "markdown",
   "id": "8b59d37f-0249-49c9-ab64-2c4fe9674599",
   "metadata": {},
   "source": [
    "__Ejercicio 2:__"
   ]
  },
  {
   "cell_type": "markdown",
   "id": "85ed2052-86aa-430f-bf8d-928863f4bd2f",
   "metadata": {},
   "source": [
    "Utilizar groupby para obtener la cantidad de registros en cada año"
   ]
  },
  {
   "cell_type": "code",
   "execution_count": null,
   "id": "6b61d164-f11f-4cd7-addd-517a34c1850c",
   "metadata": {},
   "outputs": [],
   "source": []
  },
  {
   "cell_type": "markdown",
   "id": "a12b84ad-0247-4f1b-98d9-ba7db1e79cd9",
   "metadata": {},
   "source": [
    "__Ejercicio 3:__"
   ]
  },
  {
   "cell_type": "markdown",
   "id": "f838f0aa-247f-46b2-8185-b505fde78807",
   "metadata": {},
   "source": [
    "Utilizar groupby para obtener el valor promedio en todas las columnas de cada año"
   ]
  },
  {
   "cell_type": "code",
   "execution_count": null,
   "id": "bcd68d05-e867-4742-8c93-bdcc77bc3f5b",
   "metadata": {},
   "outputs": [],
   "source": []
  },
  {
   "cell_type": "markdown",
   "id": "c4f7d2db-dbd7-45b6-abb3-2e891dc35efc",
   "metadata": {},
   "source": [
    "__Ejercicio 4:__"
   ]
  },
  {
   "cell_type": "markdown",
   "id": "5869d4f9-3065-4763-a258-2aa48e9ea0b8",
   "metadata": {},
   "source": [
    "Utilizar groupby para obtener:\n",
    " - la cantidad total de frutas recogidos en cada año \n",
    " - La cantidad de fruta recogida en estado Excelente, Aceptable e Inapropiada en cada año"
   ]
  },
  {
   "cell_type": "code",
   "execution_count": null,
   "id": "94f35bac-302e-4fcc-b18f-73bdbc428170",
   "metadata": {},
   "outputs": [],
   "source": []
  },
  {
   "cell_type": "markdown",
   "id": "5cc944c4-d661-4fc7-9bd2-a94bd1262ae4",
   "metadata": {},
   "source": [
    "__Ejercicio 5:__"
   ]
  },
  {
   "cell_type": "markdown",
   "id": "3d350feb-0763-49c3-ac98-1429cbf55914",
   "metadata": {},
   "source": [
    "Utilizar groupby para obtener todos los registros de las cosechas en cuyo año se recolecto mas de 28 toneladas de frutas en excelente estado"
   ]
  },
  {
   "cell_type": "code",
   "execution_count": null,
   "id": "a1652d12-f440-44cb-b226-62e29fe41afe",
   "metadata": {},
   "outputs": [],
   "source": []
  },
  {
   "cell_type": "markdown",
   "id": "95f0555d-fb4d-481d-b870-dda6abb78b78",
   "metadata": {},
   "source": [
    "__Ejercicio 6:__"
   ]
  },
  {
   "cell_type": "markdown",
   "id": "52f2da95-dc17-4241-b4e8-2d0c37968962",
   "metadata": {},
   "source": [
    "Utilizar groupby para obtener la cantidad total de cada fruta recogida separada por año"
   ]
  },
  {
   "cell_type": "code",
   "execution_count": null,
   "id": "07d20a51-1456-4361-8480-fdaf2362a640",
   "metadata": {},
   "outputs": [],
   "source": []
  },
  {
   "cell_type": "markdown",
   "id": "9d2a123d-764b-48b0-a471-0c7275c96a44",
   "metadata": {},
   "source": [
    "__Ejercicio 7:__"
   ]
  },
  {
   "cell_type": "markdown",
   "id": "1e973d5d-fff2-4312-b2a5-060e812eec9c",
   "metadata": {},
   "source": [
    "Utilizar groupby para obtener la cantidad recogida en estado excelente y aceptable de cada fruta separada por año"
   ]
  },
  {
   "cell_type": "code",
   "execution_count": null,
   "id": "cd285ffa-998c-4bf6-95c4-469d9bec74e1",
   "metadata": {},
   "outputs": [],
   "source": []
  },
  {
   "cell_type": "markdown",
   "id": "8e14b393-15d0-41a8-8a4c-14f3a0ceb077",
   "metadata": {},
   "source": [
    "__Ejercicio 8:__"
   ]
  },
  {
   "cell_type": "markdown",
   "id": "fa99b98f-d916-4190-9d63-9279d4e3eac3",
   "metadata": {},
   "source": [
    "Utilizar groupby y  \"agg\" para obtener la cantidad total de kilogramos en estado Excelente recogidos de cada fruta"
   ]
  },
  {
   "cell_type": "code",
   "execution_count": null,
   "id": "645827e8-f741-4036-a48d-19d195799ddf",
   "metadata": {},
   "outputs": [],
   "source": []
  },
  {
   "cell_type": "markdown",
   "id": "b21ebc1b-1dea-4b4f-9a17-8f8ee8009280",
   "metadata": {},
   "source": [
    "__Ejercicio 9:__"
   ]
  },
  {
   "cell_type": "markdown",
   "id": "a1154caa-2a06-465d-8f8b-efbc298930d0",
   "metadata": {},
   "source": [
    "Utilizar groupby para obtener de cada fruta:\n",
    "- La cantidad total de kilogramos recogidos\n",
    "- El promedio mensual de kilogramos recogidos en excelente estado"
   ]
  },
  {
   "cell_type": "code",
   "execution_count": null,
   "id": "060c9782-17e0-4d35-8a75-302fac96b78d",
   "metadata": {},
   "outputs": [],
   "source": []
  },
  {
   "cell_type": "markdown",
   "id": "15906887-a17d-42ea-bc2e-9ad077f839c1",
   "metadata": {},
   "source": [
    "__Ejercicio 10:__"
   ]
  },
  {
   "cell_type": "markdown",
   "id": "708725bd-36f4-4ee9-9349-ff0e388f99e4",
   "metadata": {},
   "source": [
    "Utilizar groupby para obtener la cantidad minima y maxima de fruta recogida en un mes"
   ]
  },
  {
   "cell_type": "code",
   "execution_count": null,
   "id": "ab1b2cb4-440e-4252-b3c9-d3d4330c1907",
   "metadata": {},
   "outputs": [],
   "source": []
  },
  {
   "cell_type": "markdown",
   "id": "5c6e9057-6917-4df9-84a6-4bc7c431d51d",
   "metadata": {},
   "source": [
    "__Ejercicio 11:__"
   ]
  },
  {
   "cell_type": "markdown",
   "id": "42598bb1-6802-469b-a796-d74a8c258381",
   "metadata": {},
   "source": [
    "Utilizar pivot_table para obtener el valor promedio en todas las columnas de cada Año"
   ]
  },
  {
   "cell_type": "code",
   "execution_count": null,
   "id": "1519326e-c366-4a4a-9bf7-e3e701f71a53",
   "metadata": {},
   "outputs": [],
   "source": []
  },
  {
   "cell_type": "code",
   "execution_count": null,
   "id": "fd48a4b5-b74d-4e77-9f0f-2a245b26af60",
   "metadata": {},
   "outputs": [],
   "source": []
  },
  {
   "cell_type": "markdown",
   "id": "fbd7d804-3d62-4cff-8433-06008db05c67",
   "metadata": {},
   "source": [
    "__Ejercicio 12:__"
   ]
  },
  {
   "cell_type": "markdown",
   "id": "44456b1b-c34c-4092-8a17-f6a54212f9c2",
   "metadata": {},
   "source": [
    "Utilizar pivot_table para obtener por cada fruta:\n",
    "   - La cantidad minima recogida en estado Aceptable por cada año\n",
    "   - La cantidad minima recogida en estado Excelente por cada año"
   ]
  },
  {
   "cell_type": "code",
   "execution_count": null,
   "id": "2f280cf0-87d5-44f5-bbad-1f44019b25ff",
   "metadata": {},
   "outputs": [],
   "source": []
  },
  {
   "cell_type": "markdown",
   "id": "4a3e03bf-2169-48e8-a306-10b94b2958f5",
   "metadata": {},
   "source": [
    "__Ejercicio 13:__"
   ]
  },
  {
   "cell_type": "markdown",
   "id": "a2941ae4-3086-4dc1-8d1f-2d4f15e69982",
   "metadata": {},
   "source": [
    "Utilizar groupby para obtener el valor minimo en todas las columnas de cada Fruta"
   ]
  },
  {
   "cell_type": "code",
   "execution_count": null,
   "id": "c162bb3e-e2cb-4222-9358-481093f6f3d6",
   "metadata": {},
   "outputs": [],
   "source": []
  },
  {
   "cell_type": "markdown",
   "id": "693eccbe-6025-4e82-99f4-c9d15a4b53d2",
   "metadata": {},
   "source": [
    "__Ejercicio 14:__"
   ]
  },
  {
   "cell_type": "markdown",
   "id": "71aa0291-31b2-46cd-84fd-7834e2dd5af8",
   "metadata": {},
   "source": [
    "Utilizar groupby para obtener el valor promedio en todas las columnas de cada Fruta"
   ]
  },
  {
   "cell_type": "code",
   "execution_count": null,
   "id": "5e7ed1ab-bfc0-4ce3-a228-4408941d519d",
   "metadata": {},
   "outputs": [],
   "source": []
  },
  {
   "cell_type": "markdown",
   "id": "b6722b0e-2c9f-4c03-b0ef-78bc4317f240",
   "metadata": {},
   "source": [
    "__Ejercicio 15:__"
   ]
  },
  {
   "cell_type": "markdown",
   "id": "a485a5e7-7724-413a-ac32-e93ae6cb6556",
   "metadata": {},
   "source": [
    "Utilizar groupby para obtener la cantidad total recogida por cada tipo de fruta\n"
   ]
  },
  {
   "cell_type": "code",
   "execution_count": null,
   "id": "618228f0-7b00-417c-af84-bb68218cd660",
   "metadata": {},
   "outputs": [],
   "source": []
  },
  {
   "cell_type": "markdown",
   "id": "ed2c7708-c107-401d-b1d8-6d49a45020c8",
   "metadata": {},
   "source": [
    "__Ejercicio 16:__"
   ]
  },
  {
   "cell_type": "markdown",
   "id": "f6f30fe3-a6d0-4cfc-93cc-5d1916a5f24d",
   "metadata": {},
   "source": [
    "Utilizar groupby para obtener los datos de las cosechas en cuyo mes se recolecto mas de 20 toneladas de frutas en estado Aceptable"
   ]
  },
  {
   "cell_type": "code",
   "execution_count": null,
   "id": "8deb5530-7e59-44a6-a700-57c47f6afd29",
   "metadata": {},
   "outputs": [],
   "source": []
  },
  {
   "cell_type": "markdown",
   "id": "441fc220-0392-4de8-b846-bb27f616a687",
   "metadata": {},
   "source": [
    "__Ejercicio 17:__"
   ]
  },
  {
   "cell_type": "markdown",
   "id": "baa2e296-a697-486f-b182-725de6eace79",
   "metadata": {},
   "source": [
    "Utilizar groupby para obtener la cantidad de fruta recogida en todos los meses de cada año, tanto el total como separado por categorias (Excelente,Aceptable e Inapropiado)"
   ]
  },
  {
   "cell_type": "code",
   "execution_count": null,
   "id": "62942ab6-6d56-4f82-bdf7-e62a32734305",
   "metadata": {},
   "outputs": [],
   "source": []
  },
  {
   "cell_type": "markdown",
   "id": "dce0ed83-b137-4625-9af3-8f0949dd66f4",
   "metadata": {},
   "source": [
    "__Ejercicio 18:__"
   ]
  },
  {
   "cell_type": "markdown",
   "id": "293d3bf2-e240-4572-add3-d50cf4f7bc80",
   "metadata": {},
   "source": [
    "Utilizar groupby para obtener la cantidad de fruta recogida en estado Aceptable e Inapropiada, en todos los meses de cada año"
   ]
  },
  {
   "cell_type": "code",
   "execution_count": null,
   "id": "1e6cc7f0-e818-44db-99bb-fe6c0b912ed8",
   "metadata": {},
   "outputs": [],
   "source": []
  },
  {
   "cell_type": "markdown",
   "id": "b1208da7-ef60-4936-9cd8-9075d4c5ff25",
   "metadata": {},
   "source": [
    "__Ejercicio 19:__"
   ]
  },
  {
   "cell_type": "markdown",
   "id": "ffc3e269-b067-4039-908c-9c4f77f22e7f",
   "metadata": {},
   "source": [
    "Utilizar groupby y \"agg\" para obtener la cantidad total de kilogramos recogidos en cada Mes"
   ]
  },
  {
   "cell_type": "code",
   "execution_count": null,
   "id": "ea2d2ef8-b6c8-4f61-bdba-488ebf036f72",
   "metadata": {},
   "outputs": [],
   "source": []
  },
  {
   "cell_type": "markdown",
   "id": "4f9e5a7a-4ca1-44e8-af9c-00d28870298c",
   "metadata": {},
   "source": [
    "__Ejercicio 20:__"
   ]
  },
  {
   "cell_type": "markdown",
   "id": "ee515a13-f3e6-4881-94e0-6fbf9f4539df",
   "metadata": {},
   "source": [
    "Utilizar groupby para obtener de cada mes:\n",
    "\n",
    " - El promedio de kilogramos en excelente estado que se recogen \n",
    " - El promedio de kilogramos en estado inapropiado que se recogen "
   ]
  },
  {
   "cell_type": "code",
   "execution_count": null,
   "id": "be37f400-2716-42e5-b2c3-ac31036e30e7",
   "metadata": {},
   "outputs": [],
   "source": []
  },
  {
   "cell_type": "markdown",
   "id": "09519ae8-0c51-4e12-8d2b-9e962b91c377",
   "metadata": {},
   "source": [
    "__Ejercicio 21:__"
   ]
  },
  {
   "cell_type": "markdown",
   "id": "33489ef7-3770-453e-ae75-4ca526c445c4",
   "metadata": {},
   "source": [
    "Utilizar groupby para obtener la cantidad minima y maxima en estado aceptable recogida en cada Mes (Ej. La cantidad mínima de fruta en estado aceptable que se ha recogido en el mes de febrero es de 1000)"
   ]
  },
  {
   "cell_type": "code",
   "execution_count": null,
   "id": "35e25f27-c221-4a55-b4dc-110fdf9389ec",
   "metadata": {},
   "outputs": [],
   "source": []
  },
  {
   "cell_type": "markdown",
   "id": "f1704dba-5e4a-4ccf-9604-8076e07ddaa4",
   "metadata": {},
   "source": [
    "__Ejercicio 22:__"
   ]
  },
  {
   "cell_type": "markdown",
   "id": "78d7b32f-207c-4e72-84e2-a3a5def2111b",
   "metadata": {},
   "source": [
    "Utilizar pivot_table para obtener el valor promedio en todas las columnas de cada Fruta"
   ]
  },
  {
   "cell_type": "code",
   "execution_count": null,
   "id": "c2675368-5afc-4350-bd13-0bb5bff140e2",
   "metadata": {},
   "outputs": [],
   "source": []
  },
  {
   "cell_type": "markdown",
   "id": "a6243bb2-5785-43ed-803e-fd05166a163b",
   "metadata": {},
   "source": [
    "__Ejercicio 23:__"
   ]
  },
  {
   "cell_type": "markdown",
   "id": "2e70e537-5501-41ec-9841-3a9ec633572c",
   "metadata": {},
   "source": [
    "Utilizar pivot_table para obtener por cada Año:\n",
    "   - La cantidad total de fruta recogida en cada mes\n",
    "   - La cantidad total de fruta en estado Aceptable recogida en cada mes"
   ]
  },
  {
   "cell_type": "code",
   "execution_count": null,
   "id": "494b1982-6d31-44c1-a8f8-bdb55b22ec7f",
   "metadata": {},
   "outputs": [],
   "source": []
  },
  {
   "cell_type": "markdown",
   "id": "00c6e875-959b-4109-b15e-b9c18d899ea4",
   "metadata": {},
   "source": [
    "__Ejercicio 24:__"
   ]
  },
  {
   "cell_type": "markdown",
   "id": "4226a6cf-6ee7-44c5-ad6c-ae81b9ecbf30",
   "metadata": {},
   "source": [
    "Utilizar el DataFrame anterior para obtener el total de frutas recogidas en cada mes del año 2019"
   ]
  },
  {
   "cell_type": "code",
   "execution_count": null,
   "id": "d43a7738-dd68-43ef-8e7d-dfd2b1d79e10",
   "metadata": {},
   "outputs": [],
   "source": []
  },
  {
   "cell_type": "code",
   "execution_count": null,
   "id": "3b5efe4e-ff47-4122-9a2b-742826ea2621",
   "metadata": {},
   "outputs": [],
   "source": []
  }
 ],
 "metadata": {
  "kernelspec": {
   "display_name": "Python 3 (ipykernel)",
   "language": "python",
   "name": "python3"
  },
  "language_info": {
   "codemirror_mode": {
    "name": "ipython",
    "version": 3
   },
   "file_extension": ".py",
   "mimetype": "text/x-python",
   "name": "python",
   "nbconvert_exporter": "python",
   "pygments_lexer": "ipython3",
   "version": "3.9.7"
  }
 },
 "nbformat": 4,
 "nbformat_minor": 5
}
