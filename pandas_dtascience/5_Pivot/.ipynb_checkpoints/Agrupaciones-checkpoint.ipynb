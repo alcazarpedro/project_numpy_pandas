{
 "cells": [
  {
   "cell_type": "markdown",
   "id": "c84b8241-213f-4f30-a230-093fbd00fa08",
   "metadata": {},
   "source": [
    "# Group By"
   ]
  },
  {
   "cell_type": "code",
   "execution_count": 1,
   "id": "d7a4cbc9-88a1-4088-a2bc-c8c0b0335128",
   "metadata": {},
   "outputs": [],
   "source": [
    "import pandas as pd"
   ]
  },
  {
   "cell_type": "markdown",
   "id": "03e8ca6f-2156-4217-85e0-15966baa92ec",
   "metadata": {},
   "source": [
    "__Ejercicio 1:__"
   ]
  },
  {
   "cell_type": "markdown",
   "id": "c5746500-f18d-4ba3-9dfb-cb18c6632162",
   "metadata": {},
   "source": [
    "Importar el archivo \"Ajedrez.xlsx\" en la variable Ajedrez"
   ]
  },
  {
   "cell_type": "code",
   "execution_count": null,
   "id": "24e27df2-cd76-4ba5-a9f5-fbffe42e52c6",
   "metadata": {},
   "outputs": [],
   "source": []
  },
  {
   "cell_type": "markdown",
   "id": "33136c5b-20b2-41c6-ae78-94bafbdeba45",
   "metadata": {},
   "source": [
    "Obtener el valor mínimo en cada columna utilizando la función min"
   ]
  },
  {
   "cell_type": "code",
   "execution_count": null,
   "id": "822a2f95-1351-4fc6-a289-9f960e9d493f",
   "metadata": {},
   "outputs": [],
   "source": []
  },
  {
   "cell_type": "markdown",
   "id": "8f130ad5-3f17-4e38-91c2-7d4306cdf286",
   "metadata": {},
   "source": [
    "Obtener el valor mínimo en cada columna utilizando la función max"
   ]
  },
  {
   "cell_type": "code",
   "execution_count": null,
   "id": "0756b41e-f70e-4c76-b02e-2f0e9bc2ab6b",
   "metadata": {},
   "outputs": [],
   "source": []
  },
  {
   "cell_type": "markdown",
   "id": "ea810b15-75ea-482e-b19c-166364ccc8e9",
   "metadata": {},
   "source": [
    "__Ejercicio 2:__"
   ]
  },
  {
   "cell_type": "markdown",
   "id": "f38a82c0-40b2-4960-9070-aec7315a4c27",
   "metadata": {},
   "source": [
    "Utilizar groupby para obtener el valor maximo en todas las columnas de cada salon"
   ]
  },
  {
   "cell_type": "code",
   "execution_count": null,
   "id": "e1e1a527-9291-4151-a308-6c9acee2e663",
   "metadata": {},
   "outputs": [],
   "source": []
  },
  {
   "cell_type": "markdown",
   "id": "8718d33c-0dad-4e02-9443-80bd96f49e08",
   "metadata": {},
   "source": [
    "Utilizar groupby para obtener el valor minimo en todas las columnas de cada salon"
   ]
  },
  {
   "cell_type": "code",
   "execution_count": null,
   "id": "f84e1a6a-7249-4de1-ba81-db1ffeb5a54e",
   "metadata": {},
   "outputs": [],
   "source": []
  },
  {
   "cell_type": "markdown",
   "id": "b3d6f164-633b-4e4f-a8be-602f053c6873",
   "metadata": {},
   "source": [
    "__Ejercicio 3:__"
   ]
  },
  {
   "cell_type": "markdown",
   "id": "49936ff7-dc60-4fc6-a289-9788180f973f",
   "metadata": {},
   "source": [
    "Utilizar groupby para obtener la cantidad de estudiantes en cada salon"
   ]
  },
  {
   "cell_type": "code",
   "execution_count": null,
   "id": "fb7ecdfe-867d-4537-80a8-e50f1d459025",
   "metadata": {},
   "outputs": [],
   "source": []
  },
  {
   "cell_type": "code",
   "execution_count": null,
   "id": "4c3af25d-85e3-4a3e-b9ca-4e2da44c0026",
   "metadata": {},
   "outputs": [],
   "source": []
  },
  {
   "cell_type": "markdown",
   "id": "aefaf6f4-f4cb-465f-9e56-59fee2adcb58",
   "metadata": {},
   "source": [
    "__Ejercicio 4:__"
   ]
  },
  {
   "cell_type": "markdown",
   "id": "926a160c-7656-4dab-8fad-bdeb605310cd",
   "metadata": {},
   "source": [
    "Utilizar groupby para obtener el valor promedio en todas las columnas de cada salon"
   ]
  },
  {
   "cell_type": "code",
   "execution_count": null,
   "id": "5cab8688-228f-47ea-9554-23874d0c8ca1",
   "metadata": {},
   "outputs": [],
   "source": []
  },
  {
   "cell_type": "code",
   "execution_count": null,
   "id": "2989689c-98b2-4a8c-afc7-7a948117a2e1",
   "metadata": {},
   "outputs": [],
   "source": []
  },
  {
   "cell_type": "markdown",
   "id": "36cd242f-8030-4492-8b07-bdf8a9fc9ce1",
   "metadata": {},
   "source": [
    "Utilizar groupby para obtener la cantidad total de partidas jugadas, victorias, empates y derrotas de cada salon"
   ]
  },
  {
   "cell_type": "code",
   "execution_count": null,
   "id": "72afe1bc-9ce3-4306-a5f2-9d828acddbe2",
   "metadata": {},
   "outputs": [],
   "source": []
  },
  {
   "cell_type": "markdown",
   "id": "3ea15976-204d-4aad-b4d7-b9bda2c5b6ad",
   "metadata": {},
   "source": [
    "__Ejercicio 5:__"
   ]
  },
  {
   "cell_type": "markdown",
   "id": "5cd6ca6c-d63a-46cc-a023-f3949fe166ff",
   "metadata": {},
   "source": [
    "Filtrar el DataFrame anterior, conservando los salones donde se jugaron mas de 2800 partidas"
   ]
  },
  {
   "cell_type": "code",
   "execution_count": null,
   "id": "d06be0ef-3a13-4ed1-8ed8-2c9c309ea0ed",
   "metadata": {},
   "outputs": [],
   "source": []
  },
  {
   "cell_type": "markdown",
   "id": "0f7cc17e-c6b9-4a1b-a05b-ea369ec65935",
   "metadata": {},
   "source": [
    "__Ejercicio 6:__"
   ]
  },
  {
   "cell_type": "markdown",
   "id": "96ba646f-e8a1-46bd-b91d-6f9b0945ec15",
   "metadata": {},
   "source": [
    "Utilizar groupby para obtener los datos de los estudiantes en cuyo salón, el máximo número de victorias fue 25."
   ]
  },
  {
   "cell_type": "code",
   "execution_count": null,
   "id": "57b331bb-d5cf-48c4-bccf-e2839075043d",
   "metadata": {},
   "outputs": [],
   "source": []
  },
  {
   "cell_type": "markdown",
   "id": "9b83045d-d453-4ffd-8ac1-8459db1284e4",
   "metadata": {},
   "source": [
    "__Ejercicio 7:__"
   ]
  },
  {
   "cell_type": "markdown",
   "id": "745e8708-cbf8-4a11-a56c-e1b18218ba46",
   "metadata": {},
   "source": [
    "Utilizar groupby para obtener los datos de los 2 primeros estudiantes en cada salon"
   ]
  },
  {
   "cell_type": "code",
   "execution_count": null,
   "id": "32bb1daa-fbdd-42b5-a82f-19db50c9d3f0",
   "metadata": {},
   "outputs": [],
   "source": []
  },
  {
   "cell_type": "markdown",
   "id": "d22d6319-9342-4ac3-a28a-6721cd1545ba",
   "metadata": {},
   "source": [
    "Utilizar groupby para obtener los datos del ultimo estudiante en cada salon"
   ]
  },
  {
   "cell_type": "code",
   "execution_count": null,
   "id": "86b0928c-7f22-41dd-a9ac-4b7a1b7a7b26",
   "metadata": {},
   "outputs": [],
   "source": []
  },
  {
   "cell_type": "markdown",
   "id": "293d1434-31cd-42ef-a63b-052aff309a41",
   "metadata": {},
   "source": [
    "__Ejercicio 8:__"
   ]
  },
  {
   "cell_type": "markdown",
   "id": "56d237bc-6972-405e-b0f9-71929dfe5fe5",
   "metadata": {},
   "source": [
    "Utilizar groupby para obtener la cantidad total de partidas jugadas, victorias, empates y derrotas de cada salon separado por categoria"
   ]
  },
  {
   "cell_type": "code",
   "execution_count": null,
   "id": "270776a1-5e88-43fa-b7a2-b50250d865a6",
   "metadata": {},
   "outputs": [],
   "source": []
  },
  {
   "cell_type": "markdown",
   "id": "a9e333d5-6019-493b-b4ab-5415f070c5c1",
   "metadata": {},
   "source": [
    "__Ejercicio 9:__"
   ]
  },
  {
   "cell_type": "markdown",
   "id": "5f470da9-b659-4eef-a332-c484701c4f0e",
   "metadata": {},
   "source": [
    "Repetir el ejercicio anterior, pero no utilizar las columnas de agrupacion (Salon y Categoria) como indice en el DataFrame resultante"
   ]
  },
  {
   "cell_type": "code",
   "execution_count": null,
   "id": "387820ad-5c09-4299-98b4-63683713ad4f",
   "metadata": {},
   "outputs": [],
   "source": []
  },
  {
   "cell_type": "markdown",
   "id": "1ed5b5f7-0df9-442c-84dc-9350acf1bc2f",
   "metadata": {},
   "source": [
    "__Ejercicio 10:__"
   ]
  },
  {
   "cell_type": "markdown",
   "id": "f94e5360-9dc8-4b77-bb93-918c09bda0c2",
   "metadata": {},
   "source": [
    "Utilizar groupby para obtener la cantidad total de partidas jugadas y victorias de cada salon separado por categoria"
   ]
  },
  {
   "cell_type": "code",
   "execution_count": null,
   "id": "a2a2010b-a8d2-4f9b-a4ba-16552a98f4c2",
   "metadata": {},
   "outputs": [],
   "source": []
  },
  {
   "cell_type": "markdown",
   "id": "1110f34c-d826-404a-b01f-4379eb54a2c2",
   "metadata": {},
   "source": [
    "__Ejercicio 11:__"
   ]
  },
  {
   "cell_type": "markdown",
   "id": "0ee60f7c-c16b-4a82-bf36-a9ee192c415e",
   "metadata": {},
   "source": [
    "Utilizar groupby para obtener la cantidad total de derrotas en cada salon separado por categoria"
   ]
  },
  {
   "cell_type": "code",
   "execution_count": null,
   "id": "09351d26-a247-45da-a871-78afe363d175",
   "metadata": {},
   "outputs": [],
   "source": []
  },
  {
   "cell_type": "markdown",
   "id": "ace10b28-9dc5-4788-ae02-c8e103c6c2b1",
   "metadata": {},
   "source": [
    "__Ejercicio 12:__"
   ]
  },
  {
   "cell_type": "markdown",
   "id": "908e3b51-e6d4-4345-b2aa-4d2f1a32b211",
   "metadata": {},
   "source": [
    "Utilizar groupby para obtener el valor maximo y minimo en todas las columnas de cada salon"
   ]
  },
  {
   "cell_type": "code",
   "execution_count": null,
   "id": "5594cddc-debf-4bd6-a733-e3cb1280c3d5",
   "metadata": {},
   "outputs": [],
   "source": []
  },
  {
   "cell_type": "markdown",
   "id": "6b8e1d0a-fd8c-4b2e-b93f-d98431be5f84",
   "metadata": {},
   "source": [
    "__Ejercicio 13:__"
   ]
  },
  {
   "cell_type": "markdown",
   "id": "3ddb65d8-4fef-4fd2-851e-244702a9afed",
   "metadata": {},
   "source": [
    "Utilizar groupby para obtener el promedio y la cantidad total de derrotas en cada salon"
   ]
  },
  {
   "cell_type": "code",
   "execution_count": null,
   "id": "c5a84900-c58a-4cb1-92d2-eb6c53debe8c",
   "metadata": {},
   "outputs": [],
   "source": []
  },
  {
   "cell_type": "markdown",
   "id": "6ab5428f-a76f-4eb4-8c52-d2e733600b0e",
   "metadata": {},
   "source": [
    "__Ejercicio 14:__"
   ]
  },
  {
   "cell_type": "markdown",
   "id": "1826409c-7488-42b5-97d4-cf641749d5fa",
   "metadata": {},
   "source": [
    "Utilizar groupby para obtener la cantidad total de derrotas y numero maximo de victorias en cada salon"
   ]
  },
  {
   "cell_type": "code",
   "execution_count": null,
   "id": "c5bc2120-993c-4c4d-a742-6fe3b04b2d78",
   "metadata": {},
   "outputs": [],
   "source": []
  },
  {
   "cell_type": "markdown",
   "id": "60a1351b-a186-41c0-bd29-825ff2ae49e2",
   "metadata": {},
   "source": [
    "__Ejercicio 15:__"
   ]
  },
  {
   "cell_type": "markdown",
   "id": "d745d1bf-e5e3-4922-b458-40eb17f0fa32",
   "metadata": {},
   "source": [
    "Utilizar groupby para obtener:\n",
    "  - La cantidad total y el promedio de derrotas en cada salon\n",
    "  - La cantidad maxima y minima de victorias en cada salon"
   ]
  },
  {
   "cell_type": "code",
   "execution_count": null,
   "id": "543bf618-a3c4-41a8-ba06-16d9e0302696",
   "metadata": {},
   "outputs": [],
   "source": []
  },
  {
   "cell_type": "markdown",
   "id": "0bed1e61-d214-4423-9425-6027b5ebb4e7",
   "metadata": {},
   "source": [
    "__Ejercicio 16:__"
   ]
  },
  {
   "cell_type": "markdown",
   "id": "930bc30e-de5a-4a72-8187-e0b73c856f8d",
   "metadata": {},
   "source": [
    "Utilizar groupby para obtener los datos de los alumnos en el grupo \"2019-A\" mediante su llave"
   ]
  },
  {
   "cell_type": "code",
   "execution_count": null,
   "id": "e78afedf-7fc6-4ed7-9a34-92ac7da416b9",
   "metadata": {},
   "outputs": [],
   "source": []
  },
  {
   "cell_type": "code",
   "execution_count": null,
   "id": "33a9e7b8-481d-413b-b257-92f9c7737067",
   "metadata": {},
   "outputs": [],
   "source": []
  },
  {
   "cell_type": "code",
   "execution_count": null,
   "id": "75b7d06e-fce6-44ad-92b6-d80e1df66de0",
   "metadata": {},
   "outputs": [],
   "source": []
  },
  {
   "cell_type": "markdown",
   "id": "da0e38c0-6099-4434-ab05-cfc959f568c6",
   "metadata": {},
   "source": [
    "__Ejercicio 17:__"
   ]
  },
  {
   "cell_type": "markdown",
   "id": "14bd9310-adc9-4b93-80a0-635b7c12cdeb",
   "metadata": {},
   "source": [
    "Utilizar groupby para obtener los datos de los alumnos en el grupo \"2020-A\" mediante su indice"
   ]
  },
  {
   "cell_type": "code",
   "execution_count": null,
   "id": "d948e3ba-f919-4b2c-92ef-531f43908fc2",
   "metadata": {},
   "outputs": [],
   "source": []
  },
  {
   "cell_type": "code",
   "execution_count": null,
   "id": "6bd44ece-abc9-4a2b-8574-6b5e8094339e",
   "metadata": {},
   "outputs": [],
   "source": []
  },
  {
   "cell_type": "code",
   "execution_count": null,
   "id": "822ae199-b6fe-440f-8010-7272a3f3ebac",
   "metadata": {},
   "outputs": [],
   "source": []
  },
  {
   "cell_type": "markdown",
   "id": "11f5eb7c-402d-4933-b684-4a48d248ee11",
   "metadata": {},
   "source": [
    "__Ejercicio 18:__"
   ]
  },
  {
   "cell_type": "markdown",
   "id": "02878b64-fa15-460d-8dcb-1276e11b56f1",
   "metadata": {},
   "source": [
    "Utilizar groupby para obtener los datos de los alumnos con mas victorias en cada grupo"
   ]
  },
  {
   "cell_type": "code",
   "execution_count": null,
   "id": "ec2d6cfe-18cc-44a0-90ea-e7a6e90f3e44",
   "metadata": {},
   "outputs": [],
   "source": []
  },
  {
   "cell_type": "code",
   "execution_count": null,
   "id": "91452057-b1e1-44d2-92c5-8abf47e7cb09",
   "metadata": {},
   "outputs": [],
   "source": []
  },
  {
   "cell_type": "code",
   "execution_count": null,
   "id": "c0930f6a-35aa-4d65-82bf-c2b9f2a88ff5",
   "metadata": {},
   "outputs": [],
   "source": []
  },
  {
   "cell_type": "markdown",
   "id": "307bbb2e-3293-441e-a205-db4af00853f2",
   "metadata": {},
   "source": [
    "__Ejercicio 19:__"
   ]
  },
  {
   "cell_type": "markdown",
   "id": "ad21a2f4-f6b8-4a58-939f-1f0d873054f9",
   "metadata": {},
   "source": [
    "Utilizar pivot_table para obtener el valor promedio en todas las columnas de cada salon"
   ]
  },
  {
   "cell_type": "code",
   "execution_count": null,
   "id": "6a013b04-5a44-4c82-80b4-6997e8e01553",
   "metadata": {},
   "outputs": [],
   "source": []
  },
  {
   "cell_type": "code",
   "execution_count": null,
   "id": "7a2b218c-0439-45fc-8e78-146830771cc0",
   "metadata": {},
   "outputs": [],
   "source": []
  },
  {
   "cell_type": "markdown",
   "id": "aa71a2bf-532e-41e8-bb34-c0b1332508f3",
   "metadata": {},
   "source": [
    "__Ejercicio 20:__"
   ]
  },
  {
   "cell_type": "markdown",
   "id": "3f9e0c1b-d136-4218-898a-07fbe8464fb0",
   "metadata": {},
   "source": [
    "Utilizar pivot_table para obtener el valor minimo y maximo en todas las columnas de cada salon"
   ]
  },
  {
   "cell_type": "code",
   "execution_count": null,
   "id": "b1975318-dbab-4df0-967e-9d36576de478",
   "metadata": {},
   "outputs": [],
   "source": []
  },
  {
   "cell_type": "markdown",
   "id": "7d612f27-8faa-4fae-9034-68f9472260f1",
   "metadata": {},
   "source": [
    "__Ejercicio 21:__"
   ]
  },
  {
   "cell_type": "markdown",
   "id": "22039304-3476-490c-bd93-fb6c8a8dedc9",
   "metadata": {},
   "source": [
    "Utilizar pivot_table para obtener el valor minimo y maximo de derrotas,victorias y empates en cada salon"
   ]
  },
  {
   "cell_type": "code",
   "execution_count": null,
   "id": "efd9c407-cbf0-4917-a78c-912f821d72fb",
   "metadata": {},
   "outputs": [],
   "source": []
  },
  {
   "cell_type": "markdown",
   "id": "0b8ee85e-8d2d-48fd-8e65-0d30ff7ce530",
   "metadata": {},
   "source": [
    "__Ejercicio 22:__"
   ]
  },
  {
   "cell_type": "markdown",
   "id": "f455ba99-df76-4c1e-83c2-a5fa19114951",
   "metadata": {},
   "source": [
    "Utilizar pivot_table para obtener el valor maximo de derrotas,victorias y empates en cada salon separado por categorias"
   ]
  },
  {
   "cell_type": "code",
   "execution_count": null,
   "id": "3f0c6141-9ba3-407e-a328-15df99b4b466",
   "metadata": {},
   "outputs": [],
   "source": []
  },
  {
   "cell_type": "markdown",
   "id": "4fa7b089-5ae8-46ef-b4ca-0547ad10ffd6",
   "metadata": {},
   "source": [
    "__Ejercicio 23:__"
   ]
  },
  {
   "cell_type": "markdown",
   "id": "ed8653e0-0c25-451b-9320-b447283900e8",
   "metadata": {},
   "source": [
    "Utilizar el DataFrame anterior para obtener el valor maximo de derrotas en cada salon en la categoría \"Intermedio\""
   ]
  },
  {
   "cell_type": "code",
   "execution_count": null,
   "id": "eb2debc9-d090-4a80-a63f-9c7e33484703",
   "metadata": {},
   "outputs": [],
   "source": []
  },
  {
   "cell_type": "code",
   "execution_count": null,
   "id": "69781bf0-1e77-460b-8300-3c15f89b4f14",
   "metadata": {},
   "outputs": [],
   "source": []
  },
  {
   "cell_type": "code",
   "execution_count": null,
   "id": "ec7a8a9e-cade-464e-8491-e3b9b85304f7",
   "metadata": {},
   "outputs": [],
   "source": []
  },
  {
   "cell_type": "code",
   "execution_count": null,
   "id": "822acffc-acb1-4759-8356-ef00f8251351",
   "metadata": {},
   "outputs": [],
   "source": []
  },
  {
   "cell_type": "code",
   "execution_count": null,
   "id": "f86634c0-10a8-4b15-b08d-4d108793d403",
   "metadata": {},
   "outputs": [],
   "source": []
  }
 ],
 "metadata": {
  "kernelspec": {
   "display_name": "Python 3 (ipykernel)",
   "language": "python",
   "name": "python3"
  },
  "language_info": {
   "codemirror_mode": {
    "name": "ipython",
    "version": 3
   },
   "file_extension": ".py",
   "mimetype": "text/x-python",
   "name": "python",
   "nbconvert_exporter": "python",
   "pygments_lexer": "ipython3",
   "version": "3.9.7"
  }
 },
 "nbformat": 4,
 "nbformat_minor": 5
}
