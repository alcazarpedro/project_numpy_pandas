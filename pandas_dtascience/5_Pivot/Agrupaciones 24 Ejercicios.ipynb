{
 "cells": [
  {
   "cell_type": "markdown",
   "id": "c2a0c04d-8073-418c-8967-b05c9802474e",
   "metadata": {},
   "source": [
    "# Group by"
   ]
  },
  {
   "cell_type": "code",
   "execution_count": 1,
   "id": "98d4898b-3137-4be4-852f-116822ddb7cd",
   "metadata": {},
   "outputs": [],
   "source": [
    "import pandas as pd"
   ]
  },
  {
   "cell_type": "markdown",
   "id": "e04f9e0c-650b-41d1-9591-71d85b4f12ed",
   "metadata": {},
   "source": [
    "__Ejercicio 1:__"
   ]
  },
  {
   "cell_type": "markdown",
   "id": "deff0d85-28ad-473d-ac2a-67f5cbdb3964",
   "metadata": {},
   "source": [
    "Importar el archivo \"granja.xlsx\" en la variable \"recoleccion\""
   ]
  },
  {
   "cell_type": "code",
   "execution_count": 2,
   "id": "a65caced-2779-457a-9988-f5c83efdd473",
   "metadata": {},
   "outputs": [],
   "source": [
    "recoleccion = pd.read_excel(\"./granja.xlsx\")"
   ]
  },
  {
   "cell_type": "code",
   "execution_count": 3,
   "id": "45e0596f",
   "metadata": {},
   "outputs": [
    {
     "data": {
      "application/vnd.microsoft.datawrangler.viewer.v0+json": {
       "columns": [
        {
         "name": "index",
         "rawType": "int64",
         "type": "integer"
        },
        {
         "name": "Año",
         "rawType": "int64",
         "type": "integer"
        },
        {
         "name": "Mes",
         "rawType": "int64",
         "type": "integer"
        },
        {
         "name": "Fruta",
         "rawType": "object",
         "type": "string"
        },
        {
         "name": "Kg",
         "rawType": "int64",
         "type": "integer"
        },
        {
         "name": "Excelente",
         "rawType": "int64",
         "type": "integer"
        },
        {
         "name": "Aceptable",
         "rawType": "float64",
         "type": "float"
        },
        {
         "name": "Inapropiada",
         "rawType": "float64",
         "type": "float"
        }
       ],
       "ref": "facde22e-c095-4a65-aa55-f0dd2a4fdaf4",
       "rows": [
        [
         "0",
         "2018",
         "1",
         "Cereza",
         "1400",
         "475",
         "613.0",
         "312.0"
        ],
        [
         "1",
         "2018",
         "1",
         "Arandano",
         "900",
         "390",
         "440.0",
         "70.0"
        ],
        [
         "2",
         "2018",
         "1",
         "Fresa",
         "1050",
         "110",
         "900.0",
         "40.0"
        ],
        [
         "3",
         "2018",
         "1",
         "Frambuesa",
         "1050",
         "100",
         "784.0",
         "166.0"
        ],
        [
         "4",
         "2018",
         "1",
         "Aguacate",
         "1300",
         "490",
         "720.0",
         "90.0"
        ],
        [
         "5",
         "2018",
         "1",
         "Uva",
         "900",
         "95",
         "644.5",
         "160.5"
        ],
        [
         "6",
         "2018",
         "2",
         "Cereza",
         "1350",
         "340",
         "916.0",
         "94.0"
        ],
        [
         "7",
         "2018",
         "2",
         "Arandano",
         "850",
         "80",
         "460.0",
         "310.0"
        ],
        [
         "8",
         "2018",
         "2",
         "Fresa",
         "1250",
         "490",
         "691.0",
         "69.0"
        ],
        [
         "9",
         "2018",
         "2",
         "Frambuesa",
         "900",
         "115",
         "649.0",
         "136.0"
        ],
        [
         "10",
         "2018",
         "2",
         "Aguacate",
         "900",
         "125",
         "664.0",
         "111.0"
        ],
        [
         "11",
         "2018",
         "2",
         "Uva",
         "1450",
         "340",
         "972.0",
         "138.0"
        ],
        [
         "12",
         "2018",
         "3",
         "Cereza",
         "1550",
         "490",
         "872.0",
         "188.0"
        ],
        [
         "13",
         "2018",
         "3",
         "Arandano",
         "1050",
         "340",
         "592.0",
         "118.0"
        ],
        [
         "14",
         "2018",
         "3",
         "Fresa",
         "900",
         "400",
         "361.0",
         "139.0"
        ],
        [
         "15",
         "2018",
         "3",
         "Frambuesa",
         "1350",
         "430",
         "550.0",
         "370.0"
        ],
        [
         "16",
         "2018",
         "3",
         "Aguacate",
         "1250",
         "400",
         "606.0",
         "244.0"
        ],
        [
         "17",
         "2018",
         "3",
         "Uva",
         "1850",
         "370",
         "1324.0",
         "156.0"
        ],
        [
         "18",
         "2018",
         "4",
         "Cereza",
         "1850",
         "370",
         "1168.0",
         "312.0"
        ],
        [
         "19",
         "2018",
         "4",
         "Arandano",
         "1450",
         "600",
         "664.0",
         "186.0"
        ],
        [
         "20",
         "2018",
         "4",
         "Fresa",
         "1750",
         "350",
         "956.0",
         "444.0"
        ],
        [
         "21",
         "2018",
         "4",
         "Frambuesa",
         "1100",
         "100",
         "784.0",
         "216.0"
        ],
        [
         "22",
         "2018",
         "4",
         "Aguacate",
         "1800",
         "740",
         "946.0",
         "114.0"
        ],
        [
         "23",
         "2018",
         "4",
         "Uva",
         "1050",
         "325",
         "644.5",
         "80.5"
        ],
        [
         "24",
         "2018",
         "5",
         "Cereza",
         "1050",
         "95",
         "851.5",
         "103.5"
        ],
        [
         "25",
         "2018",
         "5",
         "Arandano",
         "1500",
         "140",
         "928.0",
         "432.0"
        ],
        [
         "26",
         "2018",
         "5",
         "Fresa",
         "1550",
         "310",
         "712.0",
         "528.0"
        ],
        [
         "27",
         "2018",
         "5",
         "Frambuesa",
         "1150",
         "230",
         "820.0",
         "100.0"
        ],
        [
         "28",
         "2018",
         "5",
         "Aguacate",
         "1750",
         "720",
         "808.0",
         "222.0"
        ],
        [
         "29",
         "2018",
         "5",
         "Uva",
         "1000",
         "420",
         "448.0",
         "132.0"
        ],
        [
         "30",
         "2018",
         "6",
         "Cereza",
         "1200",
         "370",
         "739.0",
         "91.0"
        ],
        [
         "31",
         "2018",
         "6",
         "Arandano",
         "1400",
         "130",
         "865.0",
         "405.0"
        ],
        [
         "32",
         "2018",
         "6",
         "Fresa",
         "1700",
         "520",
         "1054.0",
         "126.0"
        ],
        [
         "33",
         "2018",
         "6",
         "Frambuesa",
         "1100",
         "460",
         "496.0",
         "144.0"
        ],
        [
         "34",
         "2018",
         "6",
         "Aguacate",
         "950",
         "400",
         "424.0",
         "126.0"
        ],
        [
         "35",
         "2018",
         "6",
         "Uva",
         "1700",
         "160",
         "1216.0",
         "324.0"
        ],
        [
         "36",
         "2018",
         "7",
         "Cereza",
         "1250",
         "365",
         "563.0",
         "322.0"
        ],
        [
         "37",
         "2018",
         "7",
         "Arandano",
         "1900",
         "740",
         "944.0",
         "216.0"
        ],
        [
         "38",
         "2018",
         "7",
         "Fresa",
         "1450",
         "425",
         "836.0",
         "189.0"
        ],
        [
         "39",
         "2018",
         "7",
         "Frambuesa",
         "1600",
         "620",
         "890.0",
         "90.0"
        ],
        [
         "40",
         "2018",
         "7",
         "Aguacate",
         "1650",
         "330",
         "824.0",
         "496.0"
        ],
        [
         "41",
         "2018",
         "7",
         "Uva",
         "1200",
         "240",
         "696.0",
         "264.0"
        ],
        [
         "42",
         "2018",
         "8",
         "Cereza",
         "2000",
         "210",
         "1448.0",
         "342.0"
        ],
        [
         "43",
         "2018",
         "8",
         "Arandano",
         "2000",
         "400",
         "992.0",
         "608.0"
        ],
        [
         "44",
         "2018",
         "8",
         "Fresa",
         "1550",
         "600",
         "776.0",
         "174.0"
        ],
        [
         "45",
         "2018",
         "8",
         "Frambuesa",
         "1900",
         "380",
         "944.0",
         "576.0"
        ],
        [
         "46",
         "2018",
         "8",
         "Aguacate",
         "1900",
         "200",
         "1214.0",
         "486.0"
        ],
        [
         "47",
         "2018",
         "8",
         "Uva",
         "2050",
         "605",
         "899.0",
         "546.0"
        ],
        [
         "48",
         "2018",
         "9",
         "Cereza",
         "1750",
         "185",
         "1416.5",
         "148.5"
        ],
        [
         "49",
         "2018",
         "9",
         "Arandano",
         "1750",
         "680",
         "674.0",
         "396.0"
        ]
       ],
       "shape": {
        "columns": 7,
        "rows": 288
       }
      },
      "text/html": [
       "<div>\n",
       "<style scoped>\n",
       "    .dataframe tbody tr th:only-of-type {\n",
       "        vertical-align: middle;\n",
       "    }\n",
       "\n",
       "    .dataframe tbody tr th {\n",
       "        vertical-align: top;\n",
       "    }\n",
       "\n",
       "    .dataframe thead th {\n",
       "        text-align: right;\n",
       "    }\n",
       "</style>\n",
       "<table border=\"1\" class=\"dataframe\">\n",
       "  <thead>\n",
       "    <tr style=\"text-align: right;\">\n",
       "      <th></th>\n",
       "      <th>Año</th>\n",
       "      <th>Mes</th>\n",
       "      <th>Fruta</th>\n",
       "      <th>Kg</th>\n",
       "      <th>Excelente</th>\n",
       "      <th>Aceptable</th>\n",
       "      <th>Inapropiada</th>\n",
       "    </tr>\n",
       "  </thead>\n",
       "  <tbody>\n",
       "    <tr>\n",
       "      <th>0</th>\n",
       "      <td>2018</td>\n",
       "      <td>1</td>\n",
       "      <td>Cereza</td>\n",
       "      <td>1400</td>\n",
       "      <td>475</td>\n",
       "      <td>613.0</td>\n",
       "      <td>312.0</td>\n",
       "    </tr>\n",
       "    <tr>\n",
       "      <th>1</th>\n",
       "      <td>2018</td>\n",
       "      <td>1</td>\n",
       "      <td>Arandano</td>\n",
       "      <td>900</td>\n",
       "      <td>390</td>\n",
       "      <td>440.0</td>\n",
       "      <td>70.0</td>\n",
       "    </tr>\n",
       "    <tr>\n",
       "      <th>2</th>\n",
       "      <td>2018</td>\n",
       "      <td>1</td>\n",
       "      <td>Fresa</td>\n",
       "      <td>1050</td>\n",
       "      <td>110</td>\n",
       "      <td>900.0</td>\n",
       "      <td>40.0</td>\n",
       "    </tr>\n",
       "    <tr>\n",
       "      <th>3</th>\n",
       "      <td>2018</td>\n",
       "      <td>1</td>\n",
       "      <td>Frambuesa</td>\n",
       "      <td>1050</td>\n",
       "      <td>100</td>\n",
       "      <td>784.0</td>\n",
       "      <td>166.0</td>\n",
       "    </tr>\n",
       "    <tr>\n",
       "      <th>4</th>\n",
       "      <td>2018</td>\n",
       "      <td>1</td>\n",
       "      <td>Aguacate</td>\n",
       "      <td>1300</td>\n",
       "      <td>490</td>\n",
       "      <td>720.0</td>\n",
       "      <td>90.0</td>\n",
       "    </tr>\n",
       "    <tr>\n",
       "      <th>...</th>\n",
       "      <td>...</td>\n",
       "      <td>...</td>\n",
       "      <td>...</td>\n",
       "      <td>...</td>\n",
       "      <td>...</td>\n",
       "      <td>...</td>\n",
       "      <td>...</td>\n",
       "    </tr>\n",
       "    <tr>\n",
       "      <th>283</th>\n",
       "      <td>2021</td>\n",
       "      <td>12</td>\n",
       "      <td>Arandano</td>\n",
       "      <td>1850</td>\n",
       "      <td>720</td>\n",
       "      <td>920.0</td>\n",
       "      <td>210.0</td>\n",
       "    </tr>\n",
       "    <tr>\n",
       "      <th>284</th>\n",
       "      <td>2021</td>\n",
       "      <td>12</td>\n",
       "      <td>Fresa</td>\n",
       "      <td>1300</td>\n",
       "      <td>380</td>\n",
       "      <td>584.0</td>\n",
       "      <td>336.0</td>\n",
       "    </tr>\n",
       "    <tr>\n",
       "      <th>285</th>\n",
       "      <td>2021</td>\n",
       "      <td>12</td>\n",
       "      <td>Frambuesa</td>\n",
       "      <td>1650</td>\n",
       "      <td>330</td>\n",
       "      <td>824.0</td>\n",
       "      <td>496.0</td>\n",
       "    </tr>\n",
       "    <tr>\n",
       "      <th>286</th>\n",
       "      <td>2021</td>\n",
       "      <td>12</td>\n",
       "      <td>Aguacate</td>\n",
       "      <td>1100</td>\n",
       "      <td>420</td>\n",
       "      <td>560.0</td>\n",
       "      <td>120.0</td>\n",
       "    </tr>\n",
       "    <tr>\n",
       "      <th>287</th>\n",
       "      <td>2021</td>\n",
       "      <td>12</td>\n",
       "      <td>Uva</td>\n",
       "      <td>1650</td>\n",
       "      <td>485</td>\n",
       "      <td>948.0</td>\n",
       "      <td>217.0</td>\n",
       "    </tr>\n",
       "  </tbody>\n",
       "</table>\n",
       "<p>288 rows × 7 columns</p>\n",
       "</div>"
      ],
      "text/plain": [
       "      Año  Mes      Fruta    Kg  Excelente  Aceptable  Inapropiada\n",
       "0    2018    1     Cereza  1400        475      613.0        312.0\n",
       "1    2018    1   Arandano   900        390      440.0         70.0\n",
       "2    2018    1      Fresa  1050        110      900.0         40.0\n",
       "3    2018    1  Frambuesa  1050        100      784.0        166.0\n",
       "4    2018    1   Aguacate  1300        490      720.0         90.0\n",
       "..    ...  ...        ...   ...        ...        ...          ...\n",
       "283  2021   12   Arandano  1850        720      920.0        210.0\n",
       "284  2021   12      Fresa  1300        380      584.0        336.0\n",
       "285  2021   12  Frambuesa  1650        330      824.0        496.0\n",
       "286  2021   12   Aguacate  1100        420      560.0        120.0\n",
       "287  2021   12        Uva  1650        485      948.0        217.0\n",
       "\n",
       "[288 rows x 7 columns]"
      ]
     },
     "execution_count": 3,
     "metadata": {},
     "output_type": "execute_result"
    }
   ],
   "source": [
    "recoleccion"
   ]
  },
  {
   "cell_type": "markdown",
   "id": "edae104d-0249-4ca6-ac11-cc554170794a",
   "metadata": {},
   "source": [
    "Utilizar groupby para obtener el valor maximo en todas las columnas por cada Año"
   ]
  },
  {
   "cell_type": "code",
   "execution_count": 4,
   "id": "890017dd-83b8-4c39-ac74-d1862e8bb646",
   "metadata": {},
   "outputs": [
    {
     "data": {
      "application/vnd.microsoft.datawrangler.viewer.v0+json": {
       "columns": [
        {
         "name": "Año",
         "rawType": "int64",
         "type": "integer"
        },
        {
         "name": "Mes",
         "rawType": "int64",
         "type": "integer"
        },
        {
         "name": "Fruta",
         "rawType": "object",
         "type": "string"
        },
        {
         "name": "Kg",
         "rawType": "int64",
         "type": "integer"
        },
        {
         "name": "Excelente",
         "rawType": "int64",
         "type": "integer"
        },
        {
         "name": "Aceptable",
         "rawType": "float64",
         "type": "float"
        },
        {
         "name": "Inapropiada",
         "rawType": "float64",
         "type": "float"
        }
       ],
       "ref": "f7aee2cf-c05a-4e3d-8b09-fc9c3dba3981",
       "rows": [
        [
         "2018",
         "12",
         "Uva",
         "2050",
         "740",
         "1448.0",
         "648.0"
        ],
        [
         "2019",
         "12",
         "Uva",
         "2100",
         "820",
         "1700.0",
         "702.0"
        ],
        [
         "2020",
         "12",
         "Uva",
         "2100",
         "800",
         "1520.0",
         "684.0"
        ],
        [
         "2021",
         "12",
         "Uva",
         "2100",
         "780",
         "1457.0",
         "576.0"
        ]
       ],
       "shape": {
        "columns": 6,
        "rows": 4
       }
      },
      "text/html": [
       "<div>\n",
       "<style scoped>\n",
       "    .dataframe tbody tr th:only-of-type {\n",
       "        vertical-align: middle;\n",
       "    }\n",
       "\n",
       "    .dataframe tbody tr th {\n",
       "        vertical-align: top;\n",
       "    }\n",
       "\n",
       "    .dataframe thead th {\n",
       "        text-align: right;\n",
       "    }\n",
       "</style>\n",
       "<table border=\"1\" class=\"dataframe\">\n",
       "  <thead>\n",
       "    <tr style=\"text-align: right;\">\n",
       "      <th></th>\n",
       "      <th>Mes</th>\n",
       "      <th>Fruta</th>\n",
       "      <th>Kg</th>\n",
       "      <th>Excelente</th>\n",
       "      <th>Aceptable</th>\n",
       "      <th>Inapropiada</th>\n",
       "    </tr>\n",
       "    <tr>\n",
       "      <th>Año</th>\n",
       "      <th></th>\n",
       "      <th></th>\n",
       "      <th></th>\n",
       "      <th></th>\n",
       "      <th></th>\n",
       "      <th></th>\n",
       "    </tr>\n",
       "  </thead>\n",
       "  <tbody>\n",
       "    <tr>\n",
       "      <th>2018</th>\n",
       "      <td>12</td>\n",
       "      <td>Uva</td>\n",
       "      <td>2050</td>\n",
       "      <td>740</td>\n",
       "      <td>1448.0</td>\n",
       "      <td>648.0</td>\n",
       "    </tr>\n",
       "    <tr>\n",
       "      <th>2019</th>\n",
       "      <td>12</td>\n",
       "      <td>Uva</td>\n",
       "      <td>2100</td>\n",
       "      <td>820</td>\n",
       "      <td>1700.0</td>\n",
       "      <td>702.0</td>\n",
       "    </tr>\n",
       "    <tr>\n",
       "      <th>2020</th>\n",
       "      <td>12</td>\n",
       "      <td>Uva</td>\n",
       "      <td>2100</td>\n",
       "      <td>800</td>\n",
       "      <td>1520.0</td>\n",
       "      <td>684.0</td>\n",
       "    </tr>\n",
       "    <tr>\n",
       "      <th>2021</th>\n",
       "      <td>12</td>\n",
       "      <td>Uva</td>\n",
       "      <td>2100</td>\n",
       "      <td>780</td>\n",
       "      <td>1457.0</td>\n",
       "      <td>576.0</td>\n",
       "    </tr>\n",
       "  </tbody>\n",
       "</table>\n",
       "</div>"
      ],
      "text/plain": [
       "      Mes Fruta    Kg  Excelente  Aceptable  Inapropiada\n",
       "Año                                                     \n",
       "2018   12   Uva  2050        740     1448.0        648.0\n",
       "2019   12   Uva  2100        820     1700.0        702.0\n",
       "2020   12   Uva  2100        800     1520.0        684.0\n",
       "2021   12   Uva  2100        780     1457.0        576.0"
      ]
     },
     "execution_count": 4,
     "metadata": {},
     "output_type": "execute_result"
    }
   ],
   "source": [
    "recoleccion.groupby(\"Año\").max()"
   ]
  },
  {
   "cell_type": "markdown",
   "id": "8b59d37f-0249-49c9-ab64-2c4fe9674599",
   "metadata": {},
   "source": [
    "__Ejercicio 2:__"
   ]
  },
  {
   "cell_type": "markdown",
   "id": "85ed2052-86aa-430f-bf8d-928863f4bd2f",
   "metadata": {},
   "source": [
    "Utilizar groupby para obtener la cantidad de registros en cada año"
   ]
  },
  {
   "cell_type": "code",
   "execution_count": 5,
   "id": "6b61d164-f11f-4cd7-addd-517a34c1850c",
   "metadata": {},
   "outputs": [
    {
     "data": {
      "application/vnd.microsoft.datawrangler.viewer.v0+json": {
       "columns": [
        {
         "name": "Año",
         "rawType": "int64",
         "type": "integer"
        },
        {
         "name": "0",
         "rawType": "int64",
         "type": "integer"
        }
       ],
       "ref": "a7a92f66-9410-4eff-8a31-819d86605ad9",
       "rows": [
        [
         "2018",
         "72"
        ],
        [
         "2019",
         "72"
        ],
        [
         "2020",
         "72"
        ],
        [
         "2021",
         "72"
        ]
       ],
       "shape": {
        "columns": 1,
        "rows": 4
       }
      },
      "text/plain": [
       "Año\n",
       "2018    72\n",
       "2019    72\n",
       "2020    72\n",
       "2021    72\n",
       "dtype: int64"
      ]
     },
     "execution_count": 5,
     "metadata": {},
     "output_type": "execute_result"
    }
   ],
   "source": [
    "recoleccion.groupby(\"Año\").size()"
   ]
  },
  {
   "cell_type": "markdown",
   "id": "a12b84ad-0247-4f1b-98d9-ba7db1e79cd9",
   "metadata": {},
   "source": [
    "__Ejercicio 3:__"
   ]
  },
  {
   "cell_type": "markdown",
   "id": "f838f0aa-247f-46b2-8185-b505fde78807",
   "metadata": {},
   "source": [
    "Utilizar groupby para obtener el valor promedio en todas las columnas de cada año"
   ]
  },
  {
   "cell_type": "code",
   "execution_count": 6,
   "id": "bcd68d05-e867-4742-8c93-bdcc77bc3f5b",
   "metadata": {},
   "outputs": [
    {
     "data": {
      "application/vnd.microsoft.datawrangler.viewer.v0+json": {
       "columns": [
        {
         "name": "Año",
         "rawType": "int64",
         "type": "integer"
        },
        {
         "name": "Mes",
         "rawType": "float64",
         "type": "float"
        },
        {
         "name": "Kg",
         "rawType": "float64",
         "type": "float"
        },
        {
         "name": "Excelente",
         "rawType": "float64",
         "type": "float"
        },
        {
         "name": "Aceptable",
         "rawType": "float64",
         "type": "float"
        },
        {
         "name": "Inapropiada",
         "rawType": "float64",
         "type": "float"
        }
       ],
       "ref": "ba4f9acf-b45b-49d7-991d-669e2abefcf4",
       "rows": [
        [
         "2018",
         "6.5",
         "1457.638888888889",
         "385.625",
         "826.4930555555555",
         "245.52083333333334"
        ],
        [
         "2019",
         "6.5",
         "1563.1944444444443",
         "391.18055555555554",
         "906.3541666666666",
         "265.65972222222223"
        ],
        [
         "2020",
         "6.5",
         "1466.6666666666667",
         "354.7916666666667",
         "845.1736111111111",
         "266.7013888888889"
        ],
        [
         "2021",
         "6.5",
         "1520.138888888889",
         "397.3611111111111",
         "826.2986111111111",
         "296.4791666666667"
        ]
       ],
       "shape": {
        "columns": 5,
        "rows": 4
       }
      },
      "text/html": [
       "<div>\n",
       "<style scoped>\n",
       "    .dataframe tbody tr th:only-of-type {\n",
       "        vertical-align: middle;\n",
       "    }\n",
       "\n",
       "    .dataframe tbody tr th {\n",
       "        vertical-align: top;\n",
       "    }\n",
       "\n",
       "    .dataframe thead th {\n",
       "        text-align: right;\n",
       "    }\n",
       "</style>\n",
       "<table border=\"1\" class=\"dataframe\">\n",
       "  <thead>\n",
       "    <tr style=\"text-align: right;\">\n",
       "      <th></th>\n",
       "      <th>Mes</th>\n",
       "      <th>Kg</th>\n",
       "      <th>Excelente</th>\n",
       "      <th>Aceptable</th>\n",
       "      <th>Inapropiada</th>\n",
       "    </tr>\n",
       "    <tr>\n",
       "      <th>Año</th>\n",
       "      <th></th>\n",
       "      <th></th>\n",
       "      <th></th>\n",
       "      <th></th>\n",
       "      <th></th>\n",
       "    </tr>\n",
       "  </thead>\n",
       "  <tbody>\n",
       "    <tr>\n",
       "      <th>2018</th>\n",
       "      <td>6.5</td>\n",
       "      <td>1457.638889</td>\n",
       "      <td>385.625000</td>\n",
       "      <td>826.493056</td>\n",
       "      <td>245.520833</td>\n",
       "    </tr>\n",
       "    <tr>\n",
       "      <th>2019</th>\n",
       "      <td>6.5</td>\n",
       "      <td>1563.194444</td>\n",
       "      <td>391.180556</td>\n",
       "      <td>906.354167</td>\n",
       "      <td>265.659722</td>\n",
       "    </tr>\n",
       "    <tr>\n",
       "      <th>2020</th>\n",
       "      <td>6.5</td>\n",
       "      <td>1466.666667</td>\n",
       "      <td>354.791667</td>\n",
       "      <td>845.173611</td>\n",
       "      <td>266.701389</td>\n",
       "    </tr>\n",
       "    <tr>\n",
       "      <th>2021</th>\n",
       "      <td>6.5</td>\n",
       "      <td>1520.138889</td>\n",
       "      <td>397.361111</td>\n",
       "      <td>826.298611</td>\n",
       "      <td>296.479167</td>\n",
       "    </tr>\n",
       "  </tbody>\n",
       "</table>\n",
       "</div>"
      ],
      "text/plain": [
       "      Mes           Kg   Excelente   Aceptable  Inapropiada\n",
       "Año                                                        \n",
       "2018  6.5  1457.638889  385.625000  826.493056   245.520833\n",
       "2019  6.5  1563.194444  391.180556  906.354167   265.659722\n",
       "2020  6.5  1466.666667  354.791667  845.173611   266.701389\n",
       "2021  6.5  1520.138889  397.361111  826.298611   296.479167"
      ]
     },
     "execution_count": 6,
     "metadata": {},
     "output_type": "execute_result"
    }
   ],
   "source": [
    "recoleccion.groupby(\"Año\").mean(numeric_only=True)"
   ]
  },
  {
   "cell_type": "markdown",
   "id": "c4f7d2db-dbd7-45b6-abb3-2e891dc35efc",
   "metadata": {},
   "source": [
    "__Ejercicio 4:__"
   ]
  },
  {
   "cell_type": "markdown",
   "id": "5869d4f9-3065-4763-a258-2aa48e9ea0b8",
   "metadata": {},
   "source": [
    "Utilizar groupby para obtener:\n",
    " - la cantidad total de frutas recogidos en cada año \n",
    " - La cantidad de fruta recogida en estado Excelente, Aceptable e Inapropiada en cada año"
   ]
  },
  {
   "cell_type": "code",
   "execution_count": 4,
   "id": "94f35bac-302e-4fcc-b18f-73bdbc428170",
   "metadata": {},
   "outputs": [
    {
     "data": {
      "application/vnd.microsoft.datawrangler.viewer.v0+json": {
       "columns": [
        {
         "name": "Año",
         "rawType": "int64",
         "type": "integer"
        },
        {
         "name": "Mes",
         "rawType": "int64",
         "type": "integer"
        },
        {
         "name": "Kg",
         "rawType": "int64",
         "type": "integer"
        },
        {
         "name": "Excelente",
         "rawType": "int64",
         "type": "integer"
        },
        {
         "name": "Aceptable",
         "rawType": "float64",
         "type": "float"
        },
        {
         "name": "Inapropiada",
         "rawType": "float64",
         "type": "float"
        }
       ],
       "ref": "2b4cd7eb-94e2-4b0e-bbfd-aa99155448ec",
       "rows": [
        [
         "2018",
         "468",
         "104950",
         "27765",
         "59507.5",
         "17677.5"
        ],
        [
         "2019",
         "468",
         "112550",
         "28165",
         "65257.5",
         "19127.5"
        ],
        [
         "2020",
         "468",
         "105600",
         "25545",
         "60852.5",
         "19202.5"
        ],
        [
         "2021",
         "468",
         "109450",
         "28610",
         "59493.5",
         "21346.5"
        ]
       ],
       "shape": {
        "columns": 5,
        "rows": 4
       }
      },
      "text/html": [
       "<div>\n",
       "<style scoped>\n",
       "    .dataframe tbody tr th:only-of-type {\n",
       "        vertical-align: middle;\n",
       "    }\n",
       "\n",
       "    .dataframe tbody tr th {\n",
       "        vertical-align: top;\n",
       "    }\n",
       "\n",
       "    .dataframe thead th {\n",
       "        text-align: right;\n",
       "    }\n",
       "</style>\n",
       "<table border=\"1\" class=\"dataframe\">\n",
       "  <thead>\n",
       "    <tr style=\"text-align: right;\">\n",
       "      <th></th>\n",
       "      <th>Mes</th>\n",
       "      <th>Kg</th>\n",
       "      <th>Excelente</th>\n",
       "      <th>Aceptable</th>\n",
       "      <th>Inapropiada</th>\n",
       "    </tr>\n",
       "    <tr>\n",
       "      <th>Año</th>\n",
       "      <th></th>\n",
       "      <th></th>\n",
       "      <th></th>\n",
       "      <th></th>\n",
       "      <th></th>\n",
       "    </tr>\n",
       "  </thead>\n",
       "  <tbody>\n",
       "    <tr>\n",
       "      <th>2018</th>\n",
       "      <td>468</td>\n",
       "      <td>104950</td>\n",
       "      <td>27765</td>\n",
       "      <td>59507.5</td>\n",
       "      <td>17677.5</td>\n",
       "    </tr>\n",
       "    <tr>\n",
       "      <th>2019</th>\n",
       "      <td>468</td>\n",
       "      <td>112550</td>\n",
       "      <td>28165</td>\n",
       "      <td>65257.5</td>\n",
       "      <td>19127.5</td>\n",
       "    </tr>\n",
       "    <tr>\n",
       "      <th>2020</th>\n",
       "      <td>468</td>\n",
       "      <td>105600</td>\n",
       "      <td>25545</td>\n",
       "      <td>60852.5</td>\n",
       "      <td>19202.5</td>\n",
       "    </tr>\n",
       "    <tr>\n",
       "      <th>2021</th>\n",
       "      <td>468</td>\n",
       "      <td>109450</td>\n",
       "      <td>28610</td>\n",
       "      <td>59493.5</td>\n",
       "      <td>21346.5</td>\n",
       "    </tr>\n",
       "  </tbody>\n",
       "</table>\n",
       "</div>"
      ],
      "text/plain": [
       "      Mes      Kg  Excelente  Aceptable  Inapropiada\n",
       "Año                                                 \n",
       "2018  468  104950      27765    59507.5      17677.5\n",
       "2019  468  112550      28165    65257.5      19127.5\n",
       "2020  468  105600      25545    60852.5      19202.5\n",
       "2021  468  109450      28610    59493.5      21346.5"
      ]
     },
     "execution_count": 4,
     "metadata": {},
     "output_type": "execute_result"
    }
   ],
   "source": [
    "recoleccion.groupby(\"Año\").sum(numeric_only=True)"
   ]
  },
  {
   "cell_type": "code",
   "execution_count": 5,
   "id": "069ff619",
   "metadata": {},
   "outputs": [
    {
     "data": {
      "application/vnd.microsoft.datawrangler.viewer.v0+json": {
       "columns": [
        {
         "name": "Año",
         "rawType": "int64",
         "type": "integer"
        },
        {
         "name": "Excelente",
         "rawType": "int64",
         "type": "integer"
        },
        {
         "name": "Aceptable",
         "rawType": "float64",
         "type": "float"
        },
        {
         "name": "Inapropiada",
         "rawType": "float64",
         "type": "float"
        }
       ],
       "ref": "774d4d99-6afe-4c5a-a6a8-83322a1b62af",
       "rows": [
        [
         "2018",
         "27765",
         "59507.5",
         "17677.5"
        ],
        [
         "2019",
         "28165",
         "65257.5",
         "19127.5"
        ],
        [
         "2020",
         "25545",
         "60852.5",
         "19202.5"
        ],
        [
         "2021",
         "28610",
         "59493.5",
         "21346.5"
        ]
       ],
       "shape": {
        "columns": 3,
        "rows": 4
       }
      },
      "text/html": [
       "<div>\n",
       "<style scoped>\n",
       "    .dataframe tbody tr th:only-of-type {\n",
       "        vertical-align: middle;\n",
       "    }\n",
       "\n",
       "    .dataframe tbody tr th {\n",
       "        vertical-align: top;\n",
       "    }\n",
       "\n",
       "    .dataframe thead th {\n",
       "        text-align: right;\n",
       "    }\n",
       "</style>\n",
       "<table border=\"1\" class=\"dataframe\">\n",
       "  <thead>\n",
       "    <tr style=\"text-align: right;\">\n",
       "      <th></th>\n",
       "      <th>Excelente</th>\n",
       "      <th>Aceptable</th>\n",
       "      <th>Inapropiada</th>\n",
       "    </tr>\n",
       "    <tr>\n",
       "      <th>Año</th>\n",
       "      <th></th>\n",
       "      <th></th>\n",
       "      <th></th>\n",
       "    </tr>\n",
       "  </thead>\n",
       "  <tbody>\n",
       "    <tr>\n",
       "      <th>2018</th>\n",
       "      <td>27765</td>\n",
       "      <td>59507.5</td>\n",
       "      <td>17677.5</td>\n",
       "    </tr>\n",
       "    <tr>\n",
       "      <th>2019</th>\n",
       "      <td>28165</td>\n",
       "      <td>65257.5</td>\n",
       "      <td>19127.5</td>\n",
       "    </tr>\n",
       "    <tr>\n",
       "      <th>2020</th>\n",
       "      <td>25545</td>\n",
       "      <td>60852.5</td>\n",
       "      <td>19202.5</td>\n",
       "    </tr>\n",
       "    <tr>\n",
       "      <th>2021</th>\n",
       "      <td>28610</td>\n",
       "      <td>59493.5</td>\n",
       "      <td>21346.5</td>\n",
       "    </tr>\n",
       "  </tbody>\n",
       "</table>\n",
       "</div>"
      ],
      "text/plain": [
       "      Excelente  Aceptable  Inapropiada\n",
       "Año                                    \n",
       "2018      27765    59507.5      17677.5\n",
       "2019      28165    65257.5      19127.5\n",
       "2020      25545    60852.5      19202.5\n",
       "2021      28610    59493.5      21346.5"
      ]
     },
     "execution_count": 5,
     "metadata": {},
     "output_type": "execute_result"
    }
   ],
   "source": [
    "recoleccion.groupby(\"Año\")[[\"Excelente\",\"Aceptable\",\"Inapropiada\"]].sum()"
   ]
  },
  {
   "cell_type": "markdown",
   "id": "5cc944c4-d661-4fc7-9bd2-a94bd1262ae4",
   "metadata": {},
   "source": [
    "__Ejercicio 5:__"
   ]
  },
  {
   "cell_type": "markdown",
   "id": "3d350feb-0763-49c3-ac98-1429cbf55914",
   "metadata": {},
   "source": [
    "Utilizar groupby para obtener todos los registros de las cosechas en cuyo año se recolecto mas de 28 toneladas de frutas en excelente estado"
   ]
  },
  {
   "cell_type": "code",
   "execution_count": null,
   "id": "a1652d12-f440-44cb-b226-62e29fe41afe",
   "metadata": {},
   "outputs": [],
   "source": []
  },
  {
   "cell_type": "code",
   "execution_count": 7,
   "id": "3aca8e43",
   "metadata": {},
   "outputs": [
    {
     "data": {
      "application/vnd.microsoft.datawrangler.viewer.v0+json": {
       "columns": [
        {
         "name": "Año",
         "rawType": "int64",
         "type": "integer"
        },
        {
         "name": "Mes",
         "rawType": "int64",
         "type": "integer"
        },
        {
         "name": "Kg",
         "rawType": "int64",
         "type": "integer"
        },
        {
         "name": "Excelente",
         "rawType": "int64",
         "type": "integer"
        },
        {
         "name": "Aceptable",
         "rawType": "float64",
         "type": "float"
        },
        {
         "name": "Inapropiada",
         "rawType": "float64",
         "type": "float"
        }
       ],
       "ref": "c0516bc4-5684-44c8-ae0f-2729970fdcbe",
       "rows": [
        [
         "2019",
         "468",
         "112550",
         "28165",
         "65257.5",
         "19127.5"
        ],
        [
         "2021",
         "468",
         "109450",
         "28610",
         "59493.5",
         "21346.5"
        ]
       ],
       "shape": {
        "columns": 5,
        "rows": 2
       }
      },
      "text/html": [
       "<div>\n",
       "<style scoped>\n",
       "    .dataframe tbody tr th:only-of-type {\n",
       "        vertical-align: middle;\n",
       "    }\n",
       "\n",
       "    .dataframe tbody tr th {\n",
       "        vertical-align: top;\n",
       "    }\n",
       "\n",
       "    .dataframe thead th {\n",
       "        text-align: right;\n",
       "    }\n",
       "</style>\n",
       "<table border=\"1\" class=\"dataframe\">\n",
       "  <thead>\n",
       "    <tr style=\"text-align: right;\">\n",
       "      <th></th>\n",
       "      <th>Mes</th>\n",
       "      <th>Kg</th>\n",
       "      <th>Excelente</th>\n",
       "      <th>Aceptable</th>\n",
       "      <th>Inapropiada</th>\n",
       "    </tr>\n",
       "    <tr>\n",
       "      <th>Año</th>\n",
       "      <th></th>\n",
       "      <th></th>\n",
       "      <th></th>\n",
       "      <th></th>\n",
       "      <th></th>\n",
       "    </tr>\n",
       "  </thead>\n",
       "  <tbody>\n",
       "    <tr>\n",
       "      <th>2019</th>\n",
       "      <td>468</td>\n",
       "      <td>112550</td>\n",
       "      <td>28165</td>\n",
       "      <td>65257.5</td>\n",
       "      <td>19127.5</td>\n",
       "    </tr>\n",
       "    <tr>\n",
       "      <th>2021</th>\n",
       "      <td>468</td>\n",
       "      <td>109450</td>\n",
       "      <td>28610</td>\n",
       "      <td>59493.5</td>\n",
       "      <td>21346.5</td>\n",
       "    </tr>\n",
       "  </tbody>\n",
       "</table>\n",
       "</div>"
      ],
      "text/plain": [
       "      Mes      Kg  Excelente  Aceptable  Inapropiada\n",
       "Año                                                 \n",
       "2019  468  112550      28165    65257.5      19127.5\n",
       "2021  468  109450      28610    59493.5      21346.5"
      ]
     },
     "execution_count": 7,
     "metadata": {},
     "output_type": "execute_result"
    }
   ],
   "source": [
    "def calculo(group):\n",
    "    return group[\"Excelente\"].sum() > 28000\n",
    "\n",
    "\n",
    "recoleccion.groupby(\"Año\").filter(calculo).groupby(\"Año\").sum(numeric_only=True)"
   ]
  },
  {
   "cell_type": "markdown",
   "id": "95f0555d-fb4d-481d-b870-dda6abb78b78",
   "metadata": {},
   "source": [
    "__Ejercicio 6:__"
   ]
  },
  {
   "cell_type": "markdown",
   "id": "52f2da95-dc17-4241-b4e8-2d0c37968962",
   "metadata": {},
   "source": [
    "Utilizar groupby para obtener la cantidad total de cada fruta recogida separada por año"
   ]
  },
  {
   "cell_type": "code",
   "execution_count": 11,
   "id": "07d20a51-1456-4361-8480-fdaf2362a640",
   "metadata": {},
   "outputs": [
    {
     "data": {
      "application/vnd.microsoft.datawrangler.viewer.v0+json": {
       "columns": [
        {
         "name": "('Año', 'Fruta')",
         "rawType": "object",
         "type": "unknown"
        },
        {
         "name": "Mes",
         "rawType": "int64",
         "type": "integer"
        },
        {
         "name": "Kg",
         "rawType": "int64",
         "type": "integer"
        },
        {
         "name": "Excelente",
         "rawType": "int64",
         "type": "integer"
        },
        {
         "name": "Aceptable",
         "rawType": "float64",
         "type": "float"
        },
        {
         "name": "Inapropiada",
         "rawType": "float64",
         "type": "float"
        }
       ],
       "ref": "1f804bcc-e921-4afc-b8c8-2103b6352f77",
       "rows": [
        [
         "(2018, 'Aguacate')",
         "78",
         "17500",
         "4915",
         "9724.0",
         "2861.0"
        ],
        [
         "(2018, 'Arandano')",
         "78",
         "18200",
         "5255",
         "9652.5",
         "3292.5"
        ],
        [
         "(2018, 'Cereza')",
         "78",
         "18300",
         "3960",
         "11545.0",
         "2795.0"
        ],
        [
         "(2018, 'Frambuesa')",
         "78",
         "16150",
         "4170",
         "9079.5",
         "2900.5"
        ],
        [
         "(2018, 'Fresa')",
         "78",
         "17100",
         "4550",
         "9439.5",
         "3110.5"
        ],
        [
         "(2018, 'Uva')",
         "78",
         "17700",
         "4915",
         "10067.0",
         "2718.0"
        ],
        [
         "(2019, 'Aguacate')",
         "78",
         "20850",
         "5335",
         "12480.0",
         "3035.0"
        ],
        [
         "(2019, 'Arandano')",
         "78",
         "20800",
         "5185",
         "12210.0",
         "3405.0"
        ],
        [
         "(2019, 'Cereza')",
         "78",
         "17750",
         "5030",
         "9585.0",
         "3135.0"
        ],
        [
         "(2019, 'Frambuesa')",
         "78",
         "19300",
         "3550",
         "11492.0",
         "4258.0"
        ],
        [
         "(2019, 'Fresa')",
         "78",
         "17800",
         "4725",
         "10397.5",
         "2677.5"
        ],
        [
         "(2019, 'Uva')",
         "78",
         "16050",
         "4340",
         "9093.0",
         "2617.0"
        ],
        [
         "(2020, 'Aguacate')",
         "78",
         "17950",
         "5090",
         "9533.0",
         "3327.0"
        ],
        [
         "(2020, 'Arandano')",
         "78",
         "18300",
         "4135",
         "9822.5",
         "4342.5"
        ],
        [
         "(2020, 'Cereza')",
         "78",
         "19200",
         "4950",
         "10802.0",
         "3448.0"
        ],
        [
         "(2020, 'Frambuesa')",
         "78",
         "17000",
         "3975",
         "10092.0",
         "2933.0"
        ],
        [
         "(2020, 'Fresa')",
         "78",
         "15750",
         "3410",
         "9870.5",
         "2469.5"
        ],
        [
         "(2020, 'Uva')",
         "78",
         "17400",
         "3985",
         "10732.5",
         "2682.5"
        ],
        [
         "(2021, 'Aguacate')",
         "78",
         "17550",
         "4565",
         "10066.0",
         "2919.0"
        ],
        [
         "(2021, 'Arandano')",
         "78",
         "17800",
         "5085",
         "8795.0",
         "3920.0"
        ],
        [
         "(2021, 'Cereza')",
         "78",
         "19550",
         "5005",
         "10847.0",
         "3698.0"
        ],
        [
         "(2021, 'Frambuesa')",
         "78",
         "17700",
         "4675",
         "9340.0",
         "3685.0"
        ],
        [
         "(2021, 'Fresa')",
         "78",
         "17550",
         "4340",
         "9889.0",
         "3321.0"
        ],
        [
         "(2021, 'Uva')",
         "78",
         "19300",
         "4940",
         "10556.5",
         "3803.5"
        ]
       ],
       "shape": {
        "columns": 5,
        "rows": 24
       }
      },
      "text/html": [
       "<div>\n",
       "<style scoped>\n",
       "    .dataframe tbody tr th:only-of-type {\n",
       "        vertical-align: middle;\n",
       "    }\n",
       "\n",
       "    .dataframe tbody tr th {\n",
       "        vertical-align: top;\n",
       "    }\n",
       "\n",
       "    .dataframe thead th {\n",
       "        text-align: right;\n",
       "    }\n",
       "</style>\n",
       "<table border=\"1\" class=\"dataframe\">\n",
       "  <thead>\n",
       "    <tr style=\"text-align: right;\">\n",
       "      <th></th>\n",
       "      <th></th>\n",
       "      <th>Mes</th>\n",
       "      <th>Kg</th>\n",
       "      <th>Excelente</th>\n",
       "      <th>Aceptable</th>\n",
       "      <th>Inapropiada</th>\n",
       "    </tr>\n",
       "    <tr>\n",
       "      <th>Año</th>\n",
       "      <th>Fruta</th>\n",
       "      <th></th>\n",
       "      <th></th>\n",
       "      <th></th>\n",
       "      <th></th>\n",
       "      <th></th>\n",
       "    </tr>\n",
       "  </thead>\n",
       "  <tbody>\n",
       "    <tr>\n",
       "      <th rowspan=\"6\" valign=\"top\">2018</th>\n",
       "      <th>Aguacate</th>\n",
       "      <td>78</td>\n",
       "      <td>17500</td>\n",
       "      <td>4915</td>\n",
       "      <td>9724.0</td>\n",
       "      <td>2861.0</td>\n",
       "    </tr>\n",
       "    <tr>\n",
       "      <th>Arandano</th>\n",
       "      <td>78</td>\n",
       "      <td>18200</td>\n",
       "      <td>5255</td>\n",
       "      <td>9652.5</td>\n",
       "      <td>3292.5</td>\n",
       "    </tr>\n",
       "    <tr>\n",
       "      <th>Cereza</th>\n",
       "      <td>78</td>\n",
       "      <td>18300</td>\n",
       "      <td>3960</td>\n",
       "      <td>11545.0</td>\n",
       "      <td>2795.0</td>\n",
       "    </tr>\n",
       "    <tr>\n",
       "      <th>Frambuesa</th>\n",
       "      <td>78</td>\n",
       "      <td>16150</td>\n",
       "      <td>4170</td>\n",
       "      <td>9079.5</td>\n",
       "      <td>2900.5</td>\n",
       "    </tr>\n",
       "    <tr>\n",
       "      <th>Fresa</th>\n",
       "      <td>78</td>\n",
       "      <td>17100</td>\n",
       "      <td>4550</td>\n",
       "      <td>9439.5</td>\n",
       "      <td>3110.5</td>\n",
       "    </tr>\n",
       "    <tr>\n",
       "      <th>Uva</th>\n",
       "      <td>78</td>\n",
       "      <td>17700</td>\n",
       "      <td>4915</td>\n",
       "      <td>10067.0</td>\n",
       "      <td>2718.0</td>\n",
       "    </tr>\n",
       "    <tr>\n",
       "      <th rowspan=\"6\" valign=\"top\">2019</th>\n",
       "      <th>Aguacate</th>\n",
       "      <td>78</td>\n",
       "      <td>20850</td>\n",
       "      <td>5335</td>\n",
       "      <td>12480.0</td>\n",
       "      <td>3035.0</td>\n",
       "    </tr>\n",
       "    <tr>\n",
       "      <th>Arandano</th>\n",
       "      <td>78</td>\n",
       "      <td>20800</td>\n",
       "      <td>5185</td>\n",
       "      <td>12210.0</td>\n",
       "      <td>3405.0</td>\n",
       "    </tr>\n",
       "    <tr>\n",
       "      <th>Cereza</th>\n",
       "      <td>78</td>\n",
       "      <td>17750</td>\n",
       "      <td>5030</td>\n",
       "      <td>9585.0</td>\n",
       "      <td>3135.0</td>\n",
       "    </tr>\n",
       "    <tr>\n",
       "      <th>Frambuesa</th>\n",
       "      <td>78</td>\n",
       "      <td>19300</td>\n",
       "      <td>3550</td>\n",
       "      <td>11492.0</td>\n",
       "      <td>4258.0</td>\n",
       "    </tr>\n",
       "    <tr>\n",
       "      <th>Fresa</th>\n",
       "      <td>78</td>\n",
       "      <td>17800</td>\n",
       "      <td>4725</td>\n",
       "      <td>10397.5</td>\n",
       "      <td>2677.5</td>\n",
       "    </tr>\n",
       "    <tr>\n",
       "      <th>Uva</th>\n",
       "      <td>78</td>\n",
       "      <td>16050</td>\n",
       "      <td>4340</td>\n",
       "      <td>9093.0</td>\n",
       "      <td>2617.0</td>\n",
       "    </tr>\n",
       "    <tr>\n",
       "      <th rowspan=\"6\" valign=\"top\">2020</th>\n",
       "      <th>Aguacate</th>\n",
       "      <td>78</td>\n",
       "      <td>17950</td>\n",
       "      <td>5090</td>\n",
       "      <td>9533.0</td>\n",
       "      <td>3327.0</td>\n",
       "    </tr>\n",
       "    <tr>\n",
       "      <th>Arandano</th>\n",
       "      <td>78</td>\n",
       "      <td>18300</td>\n",
       "      <td>4135</td>\n",
       "      <td>9822.5</td>\n",
       "      <td>4342.5</td>\n",
       "    </tr>\n",
       "    <tr>\n",
       "      <th>Cereza</th>\n",
       "      <td>78</td>\n",
       "      <td>19200</td>\n",
       "      <td>4950</td>\n",
       "      <td>10802.0</td>\n",
       "      <td>3448.0</td>\n",
       "    </tr>\n",
       "    <tr>\n",
       "      <th>Frambuesa</th>\n",
       "      <td>78</td>\n",
       "      <td>17000</td>\n",
       "      <td>3975</td>\n",
       "      <td>10092.0</td>\n",
       "      <td>2933.0</td>\n",
       "    </tr>\n",
       "    <tr>\n",
       "      <th>Fresa</th>\n",
       "      <td>78</td>\n",
       "      <td>15750</td>\n",
       "      <td>3410</td>\n",
       "      <td>9870.5</td>\n",
       "      <td>2469.5</td>\n",
       "    </tr>\n",
       "    <tr>\n",
       "      <th>Uva</th>\n",
       "      <td>78</td>\n",
       "      <td>17400</td>\n",
       "      <td>3985</td>\n",
       "      <td>10732.5</td>\n",
       "      <td>2682.5</td>\n",
       "    </tr>\n",
       "    <tr>\n",
       "      <th rowspan=\"6\" valign=\"top\">2021</th>\n",
       "      <th>Aguacate</th>\n",
       "      <td>78</td>\n",
       "      <td>17550</td>\n",
       "      <td>4565</td>\n",
       "      <td>10066.0</td>\n",
       "      <td>2919.0</td>\n",
       "    </tr>\n",
       "    <tr>\n",
       "      <th>Arandano</th>\n",
       "      <td>78</td>\n",
       "      <td>17800</td>\n",
       "      <td>5085</td>\n",
       "      <td>8795.0</td>\n",
       "      <td>3920.0</td>\n",
       "    </tr>\n",
       "    <tr>\n",
       "      <th>Cereza</th>\n",
       "      <td>78</td>\n",
       "      <td>19550</td>\n",
       "      <td>5005</td>\n",
       "      <td>10847.0</td>\n",
       "      <td>3698.0</td>\n",
       "    </tr>\n",
       "    <tr>\n",
       "      <th>Frambuesa</th>\n",
       "      <td>78</td>\n",
       "      <td>17700</td>\n",
       "      <td>4675</td>\n",
       "      <td>9340.0</td>\n",
       "      <td>3685.0</td>\n",
       "    </tr>\n",
       "    <tr>\n",
       "      <th>Fresa</th>\n",
       "      <td>78</td>\n",
       "      <td>17550</td>\n",
       "      <td>4340</td>\n",
       "      <td>9889.0</td>\n",
       "      <td>3321.0</td>\n",
       "    </tr>\n",
       "    <tr>\n",
       "      <th>Uva</th>\n",
       "      <td>78</td>\n",
       "      <td>19300</td>\n",
       "      <td>4940</td>\n",
       "      <td>10556.5</td>\n",
       "      <td>3803.5</td>\n",
       "    </tr>\n",
       "  </tbody>\n",
       "</table>\n",
       "</div>"
      ],
      "text/plain": [
       "                Mes     Kg  Excelente  Aceptable  Inapropiada\n",
       "Año  Fruta                                                   \n",
       "2018 Aguacate    78  17500       4915     9724.0       2861.0\n",
       "     Arandano    78  18200       5255     9652.5       3292.5\n",
       "     Cereza      78  18300       3960    11545.0       2795.0\n",
       "     Frambuesa   78  16150       4170     9079.5       2900.5\n",
       "     Fresa       78  17100       4550     9439.5       3110.5\n",
       "     Uva         78  17700       4915    10067.0       2718.0\n",
       "2019 Aguacate    78  20850       5335    12480.0       3035.0\n",
       "     Arandano    78  20800       5185    12210.0       3405.0\n",
       "     Cereza      78  17750       5030     9585.0       3135.0\n",
       "     Frambuesa   78  19300       3550    11492.0       4258.0\n",
       "     Fresa       78  17800       4725    10397.5       2677.5\n",
       "     Uva         78  16050       4340     9093.0       2617.0\n",
       "2020 Aguacate    78  17950       5090     9533.0       3327.0\n",
       "     Arandano    78  18300       4135     9822.5       4342.5\n",
       "     Cereza      78  19200       4950    10802.0       3448.0\n",
       "     Frambuesa   78  17000       3975    10092.0       2933.0\n",
       "     Fresa       78  15750       3410     9870.5       2469.5\n",
       "     Uva         78  17400       3985    10732.5       2682.5\n",
       "2021 Aguacate    78  17550       4565    10066.0       2919.0\n",
       "     Arandano    78  17800       5085     8795.0       3920.0\n",
       "     Cereza      78  19550       5005    10847.0       3698.0\n",
       "     Frambuesa   78  17700       4675     9340.0       3685.0\n",
       "     Fresa       78  17550       4340     9889.0       3321.0\n",
       "     Uva         78  19300       4940    10556.5       3803.5"
      ]
     },
     "execution_count": 11,
     "metadata": {},
     "output_type": "execute_result"
    }
   ],
   "source": [
    "recoleccion.groupby([\"Año\",\"Fruta\"]).sum()"
   ]
  },
  {
   "cell_type": "markdown",
   "id": "9d2a123d-764b-48b0-a471-0c7275c96a44",
   "metadata": {},
   "source": [
    "__Ejercicio 7:__"
   ]
  },
  {
   "cell_type": "markdown",
   "id": "1e973d5d-fff2-4312-b2a5-060e812eec9c",
   "metadata": {},
   "source": [
    "Utilizar groupby para obtener la cantidad recogida en estado excelente y aceptable de cada fruta separada por año"
   ]
  },
  {
   "cell_type": "code",
   "execution_count": 12,
   "id": "cd285ffa-998c-4bf6-95c4-469d9bec74e1",
   "metadata": {},
   "outputs": [
    {
     "data": {
      "application/vnd.microsoft.datawrangler.viewer.v0+json": {
       "columns": [
        {
         "name": "('Año', 'Fruta')",
         "rawType": "object",
         "type": "unknown"
        },
        {
         "name": "Excelente",
         "rawType": "int64",
         "type": "integer"
        },
        {
         "name": "Aceptable",
         "rawType": "float64",
         "type": "float"
        }
       ],
       "ref": "10679e47-fc46-4357-ab85-7e7459cae3ae",
       "rows": [
        [
         "(2018, 'Aguacate')",
         "4915",
         "9724.0"
        ],
        [
         "(2018, 'Arandano')",
         "5255",
         "9652.5"
        ],
        [
         "(2018, 'Cereza')",
         "3960",
         "11545.0"
        ],
        [
         "(2018, 'Frambuesa')",
         "4170",
         "9079.5"
        ],
        [
         "(2018, 'Fresa')",
         "4550",
         "9439.5"
        ],
        [
         "(2018, 'Uva')",
         "4915",
         "10067.0"
        ],
        [
         "(2019, 'Aguacate')",
         "5335",
         "12480.0"
        ],
        [
         "(2019, 'Arandano')",
         "5185",
         "12210.0"
        ],
        [
         "(2019, 'Cereza')",
         "5030",
         "9585.0"
        ],
        [
         "(2019, 'Frambuesa')",
         "3550",
         "11492.0"
        ],
        [
         "(2019, 'Fresa')",
         "4725",
         "10397.5"
        ],
        [
         "(2019, 'Uva')",
         "4340",
         "9093.0"
        ],
        [
         "(2020, 'Aguacate')",
         "5090",
         "9533.0"
        ],
        [
         "(2020, 'Arandano')",
         "4135",
         "9822.5"
        ],
        [
         "(2020, 'Cereza')",
         "4950",
         "10802.0"
        ],
        [
         "(2020, 'Frambuesa')",
         "3975",
         "10092.0"
        ],
        [
         "(2020, 'Fresa')",
         "3410",
         "9870.5"
        ],
        [
         "(2020, 'Uva')",
         "3985",
         "10732.5"
        ],
        [
         "(2021, 'Aguacate')",
         "4565",
         "10066.0"
        ],
        [
         "(2021, 'Arandano')",
         "5085",
         "8795.0"
        ],
        [
         "(2021, 'Cereza')",
         "5005",
         "10847.0"
        ],
        [
         "(2021, 'Frambuesa')",
         "4675",
         "9340.0"
        ],
        [
         "(2021, 'Fresa')",
         "4340",
         "9889.0"
        ],
        [
         "(2021, 'Uva')",
         "4940",
         "10556.5"
        ]
       ],
       "shape": {
        "columns": 2,
        "rows": 24
       }
      },
      "text/html": [
       "<div>\n",
       "<style scoped>\n",
       "    .dataframe tbody tr th:only-of-type {\n",
       "        vertical-align: middle;\n",
       "    }\n",
       "\n",
       "    .dataframe tbody tr th {\n",
       "        vertical-align: top;\n",
       "    }\n",
       "\n",
       "    .dataframe thead th {\n",
       "        text-align: right;\n",
       "    }\n",
       "</style>\n",
       "<table border=\"1\" class=\"dataframe\">\n",
       "  <thead>\n",
       "    <tr style=\"text-align: right;\">\n",
       "      <th></th>\n",
       "      <th></th>\n",
       "      <th>Excelente</th>\n",
       "      <th>Aceptable</th>\n",
       "    </tr>\n",
       "    <tr>\n",
       "      <th>Año</th>\n",
       "      <th>Fruta</th>\n",
       "      <th></th>\n",
       "      <th></th>\n",
       "    </tr>\n",
       "  </thead>\n",
       "  <tbody>\n",
       "    <tr>\n",
       "      <th rowspan=\"6\" valign=\"top\">2018</th>\n",
       "      <th>Aguacate</th>\n",
       "      <td>4915</td>\n",
       "      <td>9724.0</td>\n",
       "    </tr>\n",
       "    <tr>\n",
       "      <th>Arandano</th>\n",
       "      <td>5255</td>\n",
       "      <td>9652.5</td>\n",
       "    </tr>\n",
       "    <tr>\n",
       "      <th>Cereza</th>\n",
       "      <td>3960</td>\n",
       "      <td>11545.0</td>\n",
       "    </tr>\n",
       "    <tr>\n",
       "      <th>Frambuesa</th>\n",
       "      <td>4170</td>\n",
       "      <td>9079.5</td>\n",
       "    </tr>\n",
       "    <tr>\n",
       "      <th>Fresa</th>\n",
       "      <td>4550</td>\n",
       "      <td>9439.5</td>\n",
       "    </tr>\n",
       "    <tr>\n",
       "      <th>Uva</th>\n",
       "      <td>4915</td>\n",
       "      <td>10067.0</td>\n",
       "    </tr>\n",
       "    <tr>\n",
       "      <th rowspan=\"6\" valign=\"top\">2019</th>\n",
       "      <th>Aguacate</th>\n",
       "      <td>5335</td>\n",
       "      <td>12480.0</td>\n",
       "    </tr>\n",
       "    <tr>\n",
       "      <th>Arandano</th>\n",
       "      <td>5185</td>\n",
       "      <td>12210.0</td>\n",
       "    </tr>\n",
       "    <tr>\n",
       "      <th>Cereza</th>\n",
       "      <td>5030</td>\n",
       "      <td>9585.0</td>\n",
       "    </tr>\n",
       "    <tr>\n",
       "      <th>Frambuesa</th>\n",
       "      <td>3550</td>\n",
       "      <td>11492.0</td>\n",
       "    </tr>\n",
       "    <tr>\n",
       "      <th>Fresa</th>\n",
       "      <td>4725</td>\n",
       "      <td>10397.5</td>\n",
       "    </tr>\n",
       "    <tr>\n",
       "      <th>Uva</th>\n",
       "      <td>4340</td>\n",
       "      <td>9093.0</td>\n",
       "    </tr>\n",
       "    <tr>\n",
       "      <th rowspan=\"6\" valign=\"top\">2020</th>\n",
       "      <th>Aguacate</th>\n",
       "      <td>5090</td>\n",
       "      <td>9533.0</td>\n",
       "    </tr>\n",
       "    <tr>\n",
       "      <th>Arandano</th>\n",
       "      <td>4135</td>\n",
       "      <td>9822.5</td>\n",
       "    </tr>\n",
       "    <tr>\n",
       "      <th>Cereza</th>\n",
       "      <td>4950</td>\n",
       "      <td>10802.0</td>\n",
       "    </tr>\n",
       "    <tr>\n",
       "      <th>Frambuesa</th>\n",
       "      <td>3975</td>\n",
       "      <td>10092.0</td>\n",
       "    </tr>\n",
       "    <tr>\n",
       "      <th>Fresa</th>\n",
       "      <td>3410</td>\n",
       "      <td>9870.5</td>\n",
       "    </tr>\n",
       "    <tr>\n",
       "      <th>Uva</th>\n",
       "      <td>3985</td>\n",
       "      <td>10732.5</td>\n",
       "    </tr>\n",
       "    <tr>\n",
       "      <th rowspan=\"6\" valign=\"top\">2021</th>\n",
       "      <th>Aguacate</th>\n",
       "      <td>4565</td>\n",
       "      <td>10066.0</td>\n",
       "    </tr>\n",
       "    <tr>\n",
       "      <th>Arandano</th>\n",
       "      <td>5085</td>\n",
       "      <td>8795.0</td>\n",
       "    </tr>\n",
       "    <tr>\n",
       "      <th>Cereza</th>\n",
       "      <td>5005</td>\n",
       "      <td>10847.0</td>\n",
       "    </tr>\n",
       "    <tr>\n",
       "      <th>Frambuesa</th>\n",
       "      <td>4675</td>\n",
       "      <td>9340.0</td>\n",
       "    </tr>\n",
       "    <tr>\n",
       "      <th>Fresa</th>\n",
       "      <td>4340</td>\n",
       "      <td>9889.0</td>\n",
       "    </tr>\n",
       "    <tr>\n",
       "      <th>Uva</th>\n",
       "      <td>4940</td>\n",
       "      <td>10556.5</td>\n",
       "    </tr>\n",
       "  </tbody>\n",
       "</table>\n",
       "</div>"
      ],
      "text/plain": [
       "                Excelente  Aceptable\n",
       "Año  Fruta                          \n",
       "2018 Aguacate        4915     9724.0\n",
       "     Arandano        5255     9652.5\n",
       "     Cereza          3960    11545.0\n",
       "     Frambuesa       4170     9079.5\n",
       "     Fresa           4550     9439.5\n",
       "     Uva             4915    10067.0\n",
       "2019 Aguacate        5335    12480.0\n",
       "     Arandano        5185    12210.0\n",
       "     Cereza          5030     9585.0\n",
       "     Frambuesa       3550    11492.0\n",
       "     Fresa           4725    10397.5\n",
       "     Uva             4340     9093.0\n",
       "2020 Aguacate        5090     9533.0\n",
       "     Arandano        4135     9822.5\n",
       "     Cereza          4950    10802.0\n",
       "     Frambuesa       3975    10092.0\n",
       "     Fresa           3410     9870.5\n",
       "     Uva             3985    10732.5\n",
       "2021 Aguacate        4565    10066.0\n",
       "     Arandano        5085     8795.0\n",
       "     Cereza          5005    10847.0\n",
       "     Frambuesa       4675     9340.0\n",
       "     Fresa           4340     9889.0\n",
       "     Uva             4940    10556.5"
      ]
     },
     "execution_count": 12,
     "metadata": {},
     "output_type": "execute_result"
    }
   ],
   "source": [
    "recoleccion.groupby([\"Año\",\"Fruta\"])[[\"Excelente\",\"Aceptable\"]].sum(numeric_only=True)"
   ]
  },
  {
   "cell_type": "markdown",
   "id": "8e14b393-15d0-41a8-8a4c-14f3a0ceb077",
   "metadata": {},
   "source": [
    "__Ejercicio 8:__"
   ]
  },
  {
   "cell_type": "markdown",
   "id": "fa99b98f-d916-4190-9d63-9279d4e3eac3",
   "metadata": {},
   "source": [
    "Utilizar groupby y  \"agg\" para obtener la cantidad total de kilogramos en estado Excelente recogidos de cada fruta"
   ]
  },
  {
   "cell_type": "code",
   "execution_count": 13,
   "id": "645827e8-f741-4036-a48d-19d195799ddf",
   "metadata": {},
   "outputs": [
    {
     "data": {
      "application/vnd.microsoft.datawrangler.viewer.v0+json": {
       "columns": [
        {
         "name": "Fruta",
         "rawType": "object",
         "type": "string"
        },
        {
         "name": "Excelente",
         "rawType": "int64",
         "type": "integer"
        }
       ],
       "ref": "a01c3542-e134-47bd-a07f-fc7cb98c4884",
       "rows": [
        [
         "Aguacate",
         "19905"
        ],
        [
         "Arandano",
         "19660"
        ],
        [
         "Cereza",
         "18945"
        ],
        [
         "Frambuesa",
         "16370"
        ],
        [
         "Fresa",
         "17025"
        ],
        [
         "Uva",
         "18180"
        ]
       ],
       "shape": {
        "columns": 1,
        "rows": 6
       }
      },
      "text/html": [
       "<div>\n",
       "<style scoped>\n",
       "    .dataframe tbody tr th:only-of-type {\n",
       "        vertical-align: middle;\n",
       "    }\n",
       "\n",
       "    .dataframe tbody tr th {\n",
       "        vertical-align: top;\n",
       "    }\n",
       "\n",
       "    .dataframe thead th {\n",
       "        text-align: right;\n",
       "    }\n",
       "</style>\n",
       "<table border=\"1\" class=\"dataframe\">\n",
       "  <thead>\n",
       "    <tr style=\"text-align: right;\">\n",
       "      <th></th>\n",
       "      <th>Excelente</th>\n",
       "    </tr>\n",
       "    <tr>\n",
       "      <th>Fruta</th>\n",
       "      <th></th>\n",
       "    </tr>\n",
       "  </thead>\n",
       "  <tbody>\n",
       "    <tr>\n",
       "      <th>Aguacate</th>\n",
       "      <td>19905</td>\n",
       "    </tr>\n",
       "    <tr>\n",
       "      <th>Arandano</th>\n",
       "      <td>19660</td>\n",
       "    </tr>\n",
       "    <tr>\n",
       "      <th>Cereza</th>\n",
       "      <td>18945</td>\n",
       "    </tr>\n",
       "    <tr>\n",
       "      <th>Frambuesa</th>\n",
       "      <td>16370</td>\n",
       "    </tr>\n",
       "    <tr>\n",
       "      <th>Fresa</th>\n",
       "      <td>17025</td>\n",
       "    </tr>\n",
       "    <tr>\n",
       "      <th>Uva</th>\n",
       "      <td>18180</td>\n",
       "    </tr>\n",
       "  </tbody>\n",
       "</table>\n",
       "</div>"
      ],
      "text/plain": [
       "           Excelente\n",
       "Fruta               \n",
       "Aguacate       19905\n",
       "Arandano       19660\n",
       "Cereza         18945\n",
       "Frambuesa      16370\n",
       "Fresa          17025\n",
       "Uva            18180"
      ]
     },
     "execution_count": 13,
     "metadata": {},
     "output_type": "execute_result"
    }
   ],
   "source": [
    "recoleccion.groupby(\"Fruta\").agg({\"Excelente\":\"sum\"})"
   ]
  },
  {
   "cell_type": "markdown",
   "id": "b21ebc1b-1dea-4b4f-9a17-8f8ee8009280",
   "metadata": {},
   "source": [
    "__Ejercicio 9:__"
   ]
  },
  {
   "cell_type": "markdown",
   "id": "a1154caa-2a06-465d-8f8b-efbc298930d0",
   "metadata": {},
   "source": [
    "Utilizar groupby para obtener de cada fruta:\n",
    "- La cantidad total de kilogramos recogidos\n",
    "- El promedio mensual de kilogramos recogidos en excelente estado"
   ]
  },
  {
   "cell_type": "code",
   "execution_count": 33,
   "id": "060c9782-17e0-4d35-8a75-302fac96b78d",
   "metadata": {},
   "outputs": [
    {
     "data": {
      "application/vnd.microsoft.datawrangler.viewer.v0+json": {
       "columns": [
        {
         "name": "Fruta",
         "rawType": "object",
         "type": "string"
        },
        {
         "name": "Kg",
         "rawType": "int64",
         "type": "integer"
        }
       ],
       "ref": "eee702db-e508-4514-86aa-429829555150",
       "rows": [
        [
         "Aguacate",
         "73850"
        ],
        [
         "Arandano",
         "75100"
        ],
        [
         "Cereza",
         "74800"
        ],
        [
         "Frambuesa",
         "70150"
        ],
        [
         "Fresa",
         "68200"
        ],
        [
         "Uva",
         "70450"
        ]
       ],
       "shape": {
        "columns": 1,
        "rows": 6
       }
      },
      "text/html": [
       "<div>\n",
       "<style scoped>\n",
       "    .dataframe tbody tr th:only-of-type {\n",
       "        vertical-align: middle;\n",
       "    }\n",
       "\n",
       "    .dataframe tbody tr th {\n",
       "        vertical-align: top;\n",
       "    }\n",
       "\n",
       "    .dataframe thead th {\n",
       "        text-align: right;\n",
       "    }\n",
       "</style>\n",
       "<table border=\"1\" class=\"dataframe\">\n",
       "  <thead>\n",
       "    <tr style=\"text-align: right;\">\n",
       "      <th></th>\n",
       "      <th>Kg</th>\n",
       "    </tr>\n",
       "    <tr>\n",
       "      <th>Fruta</th>\n",
       "      <th></th>\n",
       "    </tr>\n",
       "  </thead>\n",
       "  <tbody>\n",
       "    <tr>\n",
       "      <th>Aguacate</th>\n",
       "      <td>73850</td>\n",
       "    </tr>\n",
       "    <tr>\n",
       "      <th>Arandano</th>\n",
       "      <td>75100</td>\n",
       "    </tr>\n",
       "    <tr>\n",
       "      <th>Cereza</th>\n",
       "      <td>74800</td>\n",
       "    </tr>\n",
       "    <tr>\n",
       "      <th>Frambuesa</th>\n",
       "      <td>70150</td>\n",
       "    </tr>\n",
       "    <tr>\n",
       "      <th>Fresa</th>\n",
       "      <td>68200</td>\n",
       "    </tr>\n",
       "    <tr>\n",
       "      <th>Uva</th>\n",
       "      <td>70450</td>\n",
       "    </tr>\n",
       "  </tbody>\n",
       "</table>\n",
       "</div>"
      ],
      "text/plain": [
       "              Kg\n",
       "Fruta           \n",
       "Aguacate   73850\n",
       "Arandano   75100\n",
       "Cereza     74800\n",
       "Frambuesa  70150\n",
       "Fresa      68200\n",
       "Uva        70450"
      ]
     },
     "execution_count": 33,
     "metadata": {},
     "output_type": "execute_result"
    }
   ],
   "source": [
    "recoleccion.groupby(\"Fruta\").agg({\"Kg\":\"sum\"})"
   ]
  },
  {
   "cell_type": "code",
   "execution_count": 14,
   "id": "eef8e1ea",
   "metadata": {},
   "outputs": [
    {
     "data": {
      "application/vnd.microsoft.datawrangler.viewer.v0+json": {
       "columns": [
        {
         "name": "Fruta",
         "rawType": "object",
         "type": "string"
        },
        {
         "name": "Excelente",
         "rawType": "float64",
         "type": "float"
        }
       ],
       "ref": "1580d625-9e0b-4d2b-a195-d452b9936c86",
       "rows": [
        [
         "Aguacate",
         "414.6875"
        ],
        [
         "Arandano",
         "409.5833333333333"
        ],
        [
         "Cereza",
         "394.6875"
        ],
        [
         "Frambuesa",
         "341.0416666666667"
        ],
        [
         "Fresa",
         "354.6875"
        ],
        [
         "Uva",
         "378.75"
        ]
       ],
       "shape": {
        "columns": 1,
        "rows": 6
       }
      },
      "text/html": [
       "<div>\n",
       "<style scoped>\n",
       "    .dataframe tbody tr th:only-of-type {\n",
       "        vertical-align: middle;\n",
       "    }\n",
       "\n",
       "    .dataframe tbody tr th {\n",
       "        vertical-align: top;\n",
       "    }\n",
       "\n",
       "    .dataframe thead th {\n",
       "        text-align: right;\n",
       "    }\n",
       "</style>\n",
       "<table border=\"1\" class=\"dataframe\">\n",
       "  <thead>\n",
       "    <tr style=\"text-align: right;\">\n",
       "      <th></th>\n",
       "      <th>Excelente</th>\n",
       "    </tr>\n",
       "    <tr>\n",
       "      <th>Fruta</th>\n",
       "      <th></th>\n",
       "    </tr>\n",
       "  </thead>\n",
       "  <tbody>\n",
       "    <tr>\n",
       "      <th>Aguacate</th>\n",
       "      <td>414.687500</td>\n",
       "    </tr>\n",
       "    <tr>\n",
       "      <th>Arandano</th>\n",
       "      <td>409.583333</td>\n",
       "    </tr>\n",
       "    <tr>\n",
       "      <th>Cereza</th>\n",
       "      <td>394.687500</td>\n",
       "    </tr>\n",
       "    <tr>\n",
       "      <th>Frambuesa</th>\n",
       "      <td>341.041667</td>\n",
       "    </tr>\n",
       "    <tr>\n",
       "      <th>Fresa</th>\n",
       "      <td>354.687500</td>\n",
       "    </tr>\n",
       "    <tr>\n",
       "      <th>Uva</th>\n",
       "      <td>378.750000</td>\n",
       "    </tr>\n",
       "  </tbody>\n",
       "</table>\n",
       "</div>"
      ],
      "text/plain": [
       "            Excelente\n",
       "Fruta                \n",
       "Aguacate   414.687500\n",
       "Arandano   409.583333\n",
       "Cereza     394.687500\n",
       "Frambuesa  341.041667\n",
       "Fresa      354.687500\n",
       "Uva        378.750000"
      ]
     },
     "execution_count": 14,
     "metadata": {},
     "output_type": "execute_result"
    }
   ],
   "source": [
    "recoleccion.groupby(\"Fruta\").agg({\"Excelente\":\"mean\"})"
   ]
  },
  {
   "cell_type": "markdown",
   "id": "15906887-a17d-42ea-bc2e-9ad077f839c1",
   "metadata": {},
   "source": [
    "__Ejercicio 10:__"
   ]
  },
  {
   "cell_type": "markdown",
   "id": "708725bd-36f4-4ee9-9349-ff0e388f99e4",
   "metadata": {},
   "source": [
    "Utilizar groupby para obtener la cantidad minima y maxima de fruta recogida en un mes"
   ]
  },
  {
   "cell_type": "code",
   "execution_count": 16,
   "id": "ab1b2cb4-440e-4252-b3c9-d3d4330c1907",
   "metadata": {},
   "outputs": [
    {
     "data": {
      "application/vnd.microsoft.datawrangler.viewer.v0+json": {
       "columns": [
        {
         "name": "Fruta",
         "rawType": "object",
         "type": "string"
        },
        {
         "name": "('Kg', 'max')",
         "rawType": "int64",
         "type": "integer"
        },
        {
         "name": "('Kg', 'min')",
         "rawType": "int64",
         "type": "integer"
        }
       ],
       "ref": "39359b75-fa9d-42ac-a81c-2241584fd1df",
       "rows": [
        [
         "Aguacate",
         "2100",
         "900"
        ],
        [
         "Arandano",
         "2100",
         "850"
        ],
        [
         "Cereza",
         "2100",
         "950"
        ],
        [
         "Frambuesa",
         "2100",
         "900"
        ],
        [
         "Fresa",
         "2100",
         "900"
        ],
        [
         "Uva",
         "2050",
         "900"
        ]
       ],
       "shape": {
        "columns": 2,
        "rows": 6
       }
      },
      "text/html": [
       "<div>\n",
       "<style scoped>\n",
       "    .dataframe tbody tr th:only-of-type {\n",
       "        vertical-align: middle;\n",
       "    }\n",
       "\n",
       "    .dataframe tbody tr th {\n",
       "        vertical-align: top;\n",
       "    }\n",
       "\n",
       "    .dataframe thead tr th {\n",
       "        text-align: left;\n",
       "    }\n",
       "\n",
       "    .dataframe thead tr:last-of-type th {\n",
       "        text-align: right;\n",
       "    }\n",
       "</style>\n",
       "<table border=\"1\" class=\"dataframe\">\n",
       "  <thead>\n",
       "    <tr>\n",
       "      <th></th>\n",
       "      <th colspan=\"2\" halign=\"left\">Kg</th>\n",
       "    </tr>\n",
       "    <tr>\n",
       "      <th></th>\n",
       "      <th>max</th>\n",
       "      <th>min</th>\n",
       "    </tr>\n",
       "    <tr>\n",
       "      <th>Fruta</th>\n",
       "      <th></th>\n",
       "      <th></th>\n",
       "    </tr>\n",
       "  </thead>\n",
       "  <tbody>\n",
       "    <tr>\n",
       "      <th>Aguacate</th>\n",
       "      <td>2100</td>\n",
       "      <td>900</td>\n",
       "    </tr>\n",
       "    <tr>\n",
       "      <th>Arandano</th>\n",
       "      <td>2100</td>\n",
       "      <td>850</td>\n",
       "    </tr>\n",
       "    <tr>\n",
       "      <th>Cereza</th>\n",
       "      <td>2100</td>\n",
       "      <td>950</td>\n",
       "    </tr>\n",
       "    <tr>\n",
       "      <th>Frambuesa</th>\n",
       "      <td>2100</td>\n",
       "      <td>900</td>\n",
       "    </tr>\n",
       "    <tr>\n",
       "      <th>Fresa</th>\n",
       "      <td>2100</td>\n",
       "      <td>900</td>\n",
       "    </tr>\n",
       "    <tr>\n",
       "      <th>Uva</th>\n",
       "      <td>2050</td>\n",
       "      <td>900</td>\n",
       "    </tr>\n",
       "  </tbody>\n",
       "</table>\n",
       "</div>"
      ],
      "text/plain": [
       "             Kg     \n",
       "            max  min\n",
       "Fruta               \n",
       "Aguacate   2100  900\n",
       "Arandano   2100  850\n",
       "Cereza     2100  950\n",
       "Frambuesa  2100  900\n",
       "Fresa      2100  900\n",
       "Uva        2050  900"
      ]
     },
     "execution_count": 16,
     "metadata": {},
     "output_type": "execute_result"
    }
   ],
   "source": [
    "recoleccion.groupby(\"Fruta\").agg({\"Kg\":[\"max\",\"min\"]})"
   ]
  },
  {
   "cell_type": "markdown",
   "id": "5c6e9057-6917-4df9-84a6-4bc7c431d51d",
   "metadata": {},
   "source": [
    "__Ejercicio 11:__"
   ]
  },
  {
   "cell_type": "markdown",
   "id": "42598bb1-6802-469b-a796-d74a8c258381",
   "metadata": {},
   "source": [
    "Utilizar pivot_table para obtener el valor promedio en todas las columnas de cada Año"
   ]
  },
  {
   "cell_type": "code",
   "execution_count": 38,
   "id": "1519326e-c366-4a4a-9bf7-e3e701f71a53",
   "metadata": {},
   "outputs": [
    {
     "data": {
      "application/vnd.microsoft.datawrangler.viewer.v0+json": {
       "columns": [
        {
         "name": "Año",
         "rawType": "int64",
         "type": "integer"
        },
        {
         "name": "Aceptable",
         "rawType": "float64",
         "type": "float"
        },
        {
         "name": "Año",
         "rawType": "float64",
         "type": "float"
        },
        {
         "name": "Excelente",
         "rawType": "float64",
         "type": "float"
        },
        {
         "name": "Inapropiada",
         "rawType": "float64",
         "type": "float"
        },
        {
         "name": "Kg",
         "rawType": "float64",
         "type": "float"
        },
        {
         "name": "Mes",
         "rawType": "float64",
         "type": "float"
        },
        {
         "name": "Toneladas",
         "rawType": "float64",
         "type": "float"
        },
        {
         "name": "Toneladas_Excelentes",
         "rawType": "float64",
         "type": "float"
        }
       ],
       "ref": "b7c7adb8-7351-48d0-b181-2ff0c6fe20ae",
       "rows": [
        [
         "2018",
         "826.4930555555555",
         "2018.0",
         "385.625",
         "245.52083333333334",
         "1457.638888888889",
         "6.5",
         "1.457638888888889",
         "0.385625"
        ],
        [
         "2019",
         "906.3541666666666",
         "2019.0",
         "391.18055555555554",
         "265.65972222222223",
         "1563.1944444444443",
         "6.5",
         "1.5631944444444443",
         "0.39118055555555553"
        ],
        [
         "2020",
         "845.1736111111111",
         "2020.0",
         "354.7916666666667",
         "266.7013888888889",
         "1466.6666666666667",
         "6.5",
         "1.4666666666666666",
         "0.35479166666666667"
        ],
        [
         "2021",
         "826.2986111111111",
         "2021.0",
         "397.3611111111111",
         "296.4791666666667",
         "1520.138888888889",
         "6.5",
         "1.520138888888889",
         "0.3973611111111111"
        ]
       ],
       "shape": {
        "columns": 8,
        "rows": 4
       }
      },
      "text/html": [
       "<div>\n",
       "<style scoped>\n",
       "    .dataframe tbody tr th:only-of-type {\n",
       "        vertical-align: middle;\n",
       "    }\n",
       "\n",
       "    .dataframe tbody tr th {\n",
       "        vertical-align: top;\n",
       "    }\n",
       "\n",
       "    .dataframe thead th {\n",
       "        text-align: right;\n",
       "    }\n",
       "</style>\n",
       "<table border=\"1\" class=\"dataframe\">\n",
       "  <thead>\n",
       "    <tr style=\"text-align: right;\">\n",
       "      <th></th>\n",
       "      <th>Aceptable</th>\n",
       "      <th>Año</th>\n",
       "      <th>Excelente</th>\n",
       "      <th>Inapropiada</th>\n",
       "      <th>Kg</th>\n",
       "      <th>Mes</th>\n",
       "      <th>Toneladas</th>\n",
       "      <th>Toneladas_Excelentes</th>\n",
       "    </tr>\n",
       "    <tr>\n",
       "      <th>Año</th>\n",
       "      <th></th>\n",
       "      <th></th>\n",
       "      <th></th>\n",
       "      <th></th>\n",
       "      <th></th>\n",
       "      <th></th>\n",
       "      <th></th>\n",
       "      <th></th>\n",
       "    </tr>\n",
       "  </thead>\n",
       "  <tbody>\n",
       "    <tr>\n",
       "      <th>2018</th>\n",
       "      <td>826.493056</td>\n",
       "      <td>2018.0</td>\n",
       "      <td>385.625000</td>\n",
       "      <td>245.520833</td>\n",
       "      <td>1457.638889</td>\n",
       "      <td>6.5</td>\n",
       "      <td>1.457639</td>\n",
       "      <td>0.385625</td>\n",
       "    </tr>\n",
       "    <tr>\n",
       "      <th>2019</th>\n",
       "      <td>906.354167</td>\n",
       "      <td>2019.0</td>\n",
       "      <td>391.180556</td>\n",
       "      <td>265.659722</td>\n",
       "      <td>1563.194444</td>\n",
       "      <td>6.5</td>\n",
       "      <td>1.563194</td>\n",
       "      <td>0.391181</td>\n",
       "    </tr>\n",
       "    <tr>\n",
       "      <th>2020</th>\n",
       "      <td>845.173611</td>\n",
       "      <td>2020.0</td>\n",
       "      <td>354.791667</td>\n",
       "      <td>266.701389</td>\n",
       "      <td>1466.666667</td>\n",
       "      <td>6.5</td>\n",
       "      <td>1.466667</td>\n",
       "      <td>0.354792</td>\n",
       "    </tr>\n",
       "    <tr>\n",
       "      <th>2021</th>\n",
       "      <td>826.298611</td>\n",
       "      <td>2021.0</td>\n",
       "      <td>397.361111</td>\n",
       "      <td>296.479167</td>\n",
       "      <td>1520.138889</td>\n",
       "      <td>6.5</td>\n",
       "      <td>1.520139</td>\n",
       "      <td>0.397361</td>\n",
       "    </tr>\n",
       "  </tbody>\n",
       "</table>\n",
       "</div>"
      ],
      "text/plain": [
       "       Aceptable     Año   Excelente  Inapropiada           Kg  Mes  \\\n",
       "Año                                                                   \n",
       "2018  826.493056  2018.0  385.625000   245.520833  1457.638889  6.5   \n",
       "2019  906.354167  2019.0  391.180556   265.659722  1563.194444  6.5   \n",
       "2020  845.173611  2020.0  354.791667   266.701389  1466.666667  6.5   \n",
       "2021  826.298611  2021.0  397.361111   296.479167  1520.138889  6.5   \n",
       "\n",
       "      Toneladas  Toneladas_Excelentes  \n",
       "Año                                    \n",
       "2018   1.457639              0.385625  \n",
       "2019   1.563194              0.391181  \n",
       "2020   1.466667              0.354792  \n",
       "2021   1.520139              0.397361  "
      ]
     },
     "execution_count": 38,
     "metadata": {},
     "output_type": "execute_result"
    }
   ],
   "source": [
    "pd.pivot_table(recoleccion.select_dtypes(\"number\"),index=recoleccion[\"Año\"],aggfunc=\"mean\")"
   ]
  },
  {
   "cell_type": "code",
   "execution_count": null,
   "id": "fd48a4b5-b74d-4e77-9f0f-2a245b26af60",
   "metadata": {},
   "outputs": [],
   "source": []
  },
  {
   "cell_type": "markdown",
   "id": "fbd7d804-3d62-4cff-8433-06008db05c67",
   "metadata": {},
   "source": [
    "__Ejercicio 12:__"
   ]
  },
  {
   "cell_type": "markdown",
   "id": "44456b1b-c34c-4092-8a17-f6a54212f9c2",
   "metadata": {},
   "source": [
    "Utilizar pivot_table para obtener por cada fruta:\n",
    "   - La cantidad minima recogida en estado Aceptable por cada año\n",
    "   - La cantidad minima recogida en estado Excelente por cada año"
   ]
  },
  {
   "cell_type": "code",
   "execution_count": 39,
   "id": "2f280cf0-87d5-44f5-bbad-1f44019b25ff",
   "metadata": {},
   "outputs": [
    {
     "data": {
      "application/vnd.microsoft.datawrangler.viewer.v0+json": {
       "columns": [
        {
         "name": "Fruta",
         "rawType": "object",
         "type": "string"
        },
        {
         "name": "('Aceptable', 2018)",
         "rawType": "float64",
         "type": "float"
        },
        {
         "name": "('Aceptable', 2019)",
         "rawType": "float64",
         "type": "float"
        },
        {
         "name": "('Aceptable', 2020)",
         "rawType": "float64",
         "type": "float"
        },
        {
         "name": "('Aceptable', 2021)",
         "rawType": "float64",
         "type": "float"
        },
        {
         "name": "('Excelente', 2018)",
         "rawType": "int64",
         "type": "integer"
        },
        {
         "name": "('Excelente', 2019)",
         "rawType": "int64",
         "type": "integer"
        },
        {
         "name": "('Excelente', 2020)",
         "rawType": "int64",
         "type": "integer"
        },
        {
         "name": "('Excelente', 2021)",
         "rawType": "int64",
         "type": "integer"
        }
       ],
       "ref": "6a1e01af-f0ea-4012-abd3-db78a054c4dc",
       "rows": [
        [
         "Aguacate",
         "424.0",
         "739.0",
         "410.0",
         "541.0",
         "125",
         "205",
         "155",
         "95"
        ],
        [
         "Arandano",
         "440.0",
         "676.0",
         "424.0",
         "529.0",
         "80",
         "155",
         "135",
         "120"
        ],
        [
         "Cereza",
         "563.0",
         "361.0",
         "512.0",
         "406.0",
         "95",
         "185",
         "175",
         "135"
        ],
        [
         "Frambuesa",
         "496.0",
         "630.5",
         "424.0",
         "370.0",
         "100",
         "110",
         "120",
         "120"
        ],
        [
         "Fresa",
         "361.0",
         "280.0",
         "500.0",
         "557.0",
         "110",
         "120",
         "85",
         "125"
        ],
        [
         "Uva",
         "448.0",
         "424.0",
         "424.0",
         "568.0",
         "95",
         "120",
         "125",
         "80"
        ]
       ],
       "shape": {
        "columns": 8,
        "rows": 6
       }
      },
      "text/html": [
       "<div>\n",
       "<style scoped>\n",
       "    .dataframe tbody tr th:only-of-type {\n",
       "        vertical-align: middle;\n",
       "    }\n",
       "\n",
       "    .dataframe tbody tr th {\n",
       "        vertical-align: top;\n",
       "    }\n",
       "\n",
       "    .dataframe thead tr th {\n",
       "        text-align: left;\n",
       "    }\n",
       "\n",
       "    .dataframe thead tr:last-of-type th {\n",
       "        text-align: right;\n",
       "    }\n",
       "</style>\n",
       "<table border=\"1\" class=\"dataframe\">\n",
       "  <thead>\n",
       "    <tr>\n",
       "      <th></th>\n",
       "      <th colspan=\"4\" halign=\"left\">Aceptable</th>\n",
       "      <th colspan=\"4\" halign=\"left\">Excelente</th>\n",
       "    </tr>\n",
       "    <tr>\n",
       "      <th>Año</th>\n",
       "      <th>2018</th>\n",
       "      <th>2019</th>\n",
       "      <th>2020</th>\n",
       "      <th>2021</th>\n",
       "      <th>2018</th>\n",
       "      <th>2019</th>\n",
       "      <th>2020</th>\n",
       "      <th>2021</th>\n",
       "    </tr>\n",
       "    <tr>\n",
       "      <th>Fruta</th>\n",
       "      <th></th>\n",
       "      <th></th>\n",
       "      <th></th>\n",
       "      <th></th>\n",
       "      <th></th>\n",
       "      <th></th>\n",
       "      <th></th>\n",
       "      <th></th>\n",
       "    </tr>\n",
       "  </thead>\n",
       "  <tbody>\n",
       "    <tr>\n",
       "      <th>Aguacate</th>\n",
       "      <td>424.0</td>\n",
       "      <td>739.0</td>\n",
       "      <td>410.0</td>\n",
       "      <td>541.0</td>\n",
       "      <td>125</td>\n",
       "      <td>205</td>\n",
       "      <td>155</td>\n",
       "      <td>95</td>\n",
       "    </tr>\n",
       "    <tr>\n",
       "      <th>Arandano</th>\n",
       "      <td>440.0</td>\n",
       "      <td>676.0</td>\n",
       "      <td>424.0</td>\n",
       "      <td>529.0</td>\n",
       "      <td>80</td>\n",
       "      <td>155</td>\n",
       "      <td>135</td>\n",
       "      <td>120</td>\n",
       "    </tr>\n",
       "    <tr>\n",
       "      <th>Cereza</th>\n",
       "      <td>563.0</td>\n",
       "      <td>361.0</td>\n",
       "      <td>512.0</td>\n",
       "      <td>406.0</td>\n",
       "      <td>95</td>\n",
       "      <td>185</td>\n",
       "      <td>175</td>\n",
       "      <td>135</td>\n",
       "    </tr>\n",
       "    <tr>\n",
       "      <th>Frambuesa</th>\n",
       "      <td>496.0</td>\n",
       "      <td>630.5</td>\n",
       "      <td>424.0</td>\n",
       "      <td>370.0</td>\n",
       "      <td>100</td>\n",
       "      <td>110</td>\n",
       "      <td>120</td>\n",
       "      <td>120</td>\n",
       "    </tr>\n",
       "    <tr>\n",
       "      <th>Fresa</th>\n",
       "      <td>361.0</td>\n",
       "      <td>280.0</td>\n",
       "      <td>500.0</td>\n",
       "      <td>557.0</td>\n",
       "      <td>110</td>\n",
       "      <td>120</td>\n",
       "      <td>85</td>\n",
       "      <td>125</td>\n",
       "    </tr>\n",
       "    <tr>\n",
       "      <th>Uva</th>\n",
       "      <td>448.0</td>\n",
       "      <td>424.0</td>\n",
       "      <td>424.0</td>\n",
       "      <td>568.0</td>\n",
       "      <td>95</td>\n",
       "      <td>120</td>\n",
       "      <td>125</td>\n",
       "      <td>80</td>\n",
       "    </tr>\n",
       "  </tbody>\n",
       "</table>\n",
       "</div>"
      ],
      "text/plain": [
       "          Aceptable                      Excelente               \n",
       "Año            2018   2019   2020   2021      2018 2019 2020 2021\n",
       "Fruta                                                            \n",
       "Aguacate      424.0  739.0  410.0  541.0       125  205  155   95\n",
       "Arandano      440.0  676.0  424.0  529.0        80  155  135  120\n",
       "Cereza        563.0  361.0  512.0  406.0        95  185  175  135\n",
       "Frambuesa     496.0  630.5  424.0  370.0       100  110  120  120\n",
       "Fresa         361.0  280.0  500.0  557.0       110  120   85  125\n",
       "Uva           448.0  424.0  424.0  568.0        95  120  125   80"
      ]
     },
     "execution_count": 39,
     "metadata": {},
     "output_type": "execute_result"
    }
   ],
   "source": [
    "pd.pivot_table(recoleccion,index=recoleccion[\"Fruta\"],aggfunc=\"min\",values=[\"Aceptable\",\"Excelente\"],columns=\"Año\")"
   ]
  },
  {
   "cell_type": "markdown",
   "id": "4a3e03bf-2169-48e8-a306-10b94b2958f5",
   "metadata": {},
   "source": [
    "__Ejercicio 13:__"
   ]
  },
  {
   "cell_type": "markdown",
   "id": "a2941ae4-3086-4dc1-8d1f-2d4f15e69982",
   "metadata": {},
   "source": [
    "Utilizar groupby para obtener el valor minimo en todas las columnas de cada Fruta"
   ]
  },
  {
   "cell_type": "code",
   "execution_count": 41,
   "id": "c162bb3e-e2cb-4222-9358-481093f6f3d6",
   "metadata": {},
   "outputs": [
    {
     "data": {
      "application/vnd.microsoft.datawrangler.viewer.v0+json": {
       "columns": [
        {
         "name": "Fruta",
         "rawType": "object",
         "type": "string"
        },
        {
         "name": "Año",
         "rawType": "int64",
         "type": "integer"
        },
        {
         "name": "Mes",
         "rawType": "int64",
         "type": "integer"
        },
        {
         "name": "Kg",
         "rawType": "int64",
         "type": "integer"
        },
        {
         "name": "Excelente",
         "rawType": "int64",
         "type": "integer"
        },
        {
         "name": "Aceptable",
         "rawType": "float64",
         "type": "float"
        },
        {
         "name": "Inapropiada",
         "rawType": "float64",
         "type": "float"
        },
        {
         "name": "Toneladas",
         "rawType": "float64",
         "type": "float"
        },
        {
         "name": "Toneladas_Excelentes",
         "rawType": "float64",
         "type": "float"
        }
       ],
       "ref": "7fbb9c31-b2b2-408b-a9d4-a1466b0b7323",
       "rows": [
        [
         "Aguacate",
         "2018",
         "1",
         "900",
         "95",
         "410.0",
         "70.0",
         "0.9",
         "0.095"
        ],
        [
         "Arandano",
         "2018",
         "1",
         "850",
         "80",
         "424.0",
         "70.0",
         "0.85",
         "0.08"
        ],
        [
         "Cereza",
         "2018",
         "1",
         "950",
         "95",
         "361.0",
         "69.0",
         "0.95",
         "0.095"
        ],
        [
         "Frambuesa",
         "2018",
         "1",
         "900",
         "100",
         "370.0",
         "78.0",
         "0.9",
         "0.1"
        ],
        [
         "Fresa",
         "2018",
         "1",
         "900",
         "85",
         "280.0",
         "40.0",
         "0.9",
         "0.085"
        ],
        [
         "Uva",
         "2018",
         "1",
         "900",
         "80",
         "424.0",
         "66.0",
         "0.9",
         "0.08"
        ]
       ],
       "shape": {
        "columns": 8,
        "rows": 6
       }
      },
      "text/html": [
       "<div>\n",
       "<style scoped>\n",
       "    .dataframe tbody tr th:only-of-type {\n",
       "        vertical-align: middle;\n",
       "    }\n",
       "\n",
       "    .dataframe tbody tr th {\n",
       "        vertical-align: top;\n",
       "    }\n",
       "\n",
       "    .dataframe thead th {\n",
       "        text-align: right;\n",
       "    }\n",
       "</style>\n",
       "<table border=\"1\" class=\"dataframe\">\n",
       "  <thead>\n",
       "    <tr style=\"text-align: right;\">\n",
       "      <th></th>\n",
       "      <th>Año</th>\n",
       "      <th>Mes</th>\n",
       "      <th>Kg</th>\n",
       "      <th>Excelente</th>\n",
       "      <th>Aceptable</th>\n",
       "      <th>Inapropiada</th>\n",
       "      <th>Toneladas</th>\n",
       "      <th>Toneladas_Excelentes</th>\n",
       "    </tr>\n",
       "    <tr>\n",
       "      <th>Fruta</th>\n",
       "      <th></th>\n",
       "      <th></th>\n",
       "      <th></th>\n",
       "      <th></th>\n",
       "      <th></th>\n",
       "      <th></th>\n",
       "      <th></th>\n",
       "      <th></th>\n",
       "    </tr>\n",
       "  </thead>\n",
       "  <tbody>\n",
       "    <tr>\n",
       "      <th>Aguacate</th>\n",
       "      <td>2018</td>\n",
       "      <td>1</td>\n",
       "      <td>900</td>\n",
       "      <td>95</td>\n",
       "      <td>410.0</td>\n",
       "      <td>70.0</td>\n",
       "      <td>0.90</td>\n",
       "      <td>0.095</td>\n",
       "    </tr>\n",
       "    <tr>\n",
       "      <th>Arandano</th>\n",
       "      <td>2018</td>\n",
       "      <td>1</td>\n",
       "      <td>850</td>\n",
       "      <td>80</td>\n",
       "      <td>424.0</td>\n",
       "      <td>70.0</td>\n",
       "      <td>0.85</td>\n",
       "      <td>0.080</td>\n",
       "    </tr>\n",
       "    <tr>\n",
       "      <th>Cereza</th>\n",
       "      <td>2018</td>\n",
       "      <td>1</td>\n",
       "      <td>950</td>\n",
       "      <td>95</td>\n",
       "      <td>361.0</td>\n",
       "      <td>69.0</td>\n",
       "      <td>0.95</td>\n",
       "      <td>0.095</td>\n",
       "    </tr>\n",
       "    <tr>\n",
       "      <th>Frambuesa</th>\n",
       "      <td>2018</td>\n",
       "      <td>1</td>\n",
       "      <td>900</td>\n",
       "      <td>100</td>\n",
       "      <td>370.0</td>\n",
       "      <td>78.0</td>\n",
       "      <td>0.90</td>\n",
       "      <td>0.100</td>\n",
       "    </tr>\n",
       "    <tr>\n",
       "      <th>Fresa</th>\n",
       "      <td>2018</td>\n",
       "      <td>1</td>\n",
       "      <td>900</td>\n",
       "      <td>85</td>\n",
       "      <td>280.0</td>\n",
       "      <td>40.0</td>\n",
       "      <td>0.90</td>\n",
       "      <td>0.085</td>\n",
       "    </tr>\n",
       "    <tr>\n",
       "      <th>Uva</th>\n",
       "      <td>2018</td>\n",
       "      <td>1</td>\n",
       "      <td>900</td>\n",
       "      <td>80</td>\n",
       "      <td>424.0</td>\n",
       "      <td>66.0</td>\n",
       "      <td>0.90</td>\n",
       "      <td>0.080</td>\n",
       "    </tr>\n",
       "  </tbody>\n",
       "</table>\n",
       "</div>"
      ],
      "text/plain": [
       "            Año  Mes   Kg  Excelente  Aceptable  Inapropiada  Toneladas  \\\n",
       "Fruta                                                                     \n",
       "Aguacate   2018    1  900         95      410.0         70.0       0.90   \n",
       "Arandano   2018    1  850         80      424.0         70.0       0.85   \n",
       "Cereza     2018    1  950         95      361.0         69.0       0.95   \n",
       "Frambuesa  2018    1  900        100      370.0         78.0       0.90   \n",
       "Fresa      2018    1  900         85      280.0         40.0       0.90   \n",
       "Uva        2018    1  900         80      424.0         66.0       0.90   \n",
       "\n",
       "           Toneladas_Excelentes  \n",
       "Fruta                            \n",
       "Aguacate                  0.095  \n",
       "Arandano                  0.080  \n",
       "Cereza                    0.095  \n",
       "Frambuesa                 0.100  \n",
       "Fresa                     0.085  \n",
       "Uva                       0.080  "
      ]
     },
     "execution_count": 41,
     "metadata": {},
     "output_type": "execute_result"
    }
   ],
   "source": [
    "recoleccion.groupby(\"Fruta\").min()"
   ]
  },
  {
   "cell_type": "markdown",
   "id": "693eccbe-6025-4e82-99f4-c9d15a4b53d2",
   "metadata": {},
   "source": [
    "__Ejercicio 14:__"
   ]
  },
  {
   "cell_type": "markdown",
   "id": "71aa0291-31b2-46cd-84fd-7834e2dd5af8",
   "metadata": {},
   "source": [
    "Utilizar groupby para obtener el valor promedio en todas las columnas de cada Fruta"
   ]
  },
  {
   "cell_type": "code",
   "execution_count": 42,
   "id": "5e7ed1ab-bfc0-4ce3-a228-4408941d519d",
   "metadata": {},
   "outputs": [
    {
     "data": {
      "application/vnd.microsoft.datawrangler.viewer.v0+json": {
       "columns": [
        {
         "name": "Fruta",
         "rawType": "object",
         "type": "string"
        },
        {
         "name": "Año",
         "rawType": "float64",
         "type": "float"
        },
        {
         "name": "Mes",
         "rawType": "float64",
         "type": "float"
        },
        {
         "name": "Kg",
         "rawType": "float64",
         "type": "float"
        },
        {
         "name": "Excelente",
         "rawType": "float64",
         "type": "float"
        },
        {
         "name": "Aceptable",
         "rawType": "float64",
         "type": "float"
        },
        {
         "name": "Inapropiada",
         "rawType": "float64",
         "type": "float"
        },
        {
         "name": "Toneladas",
         "rawType": "float64",
         "type": "float"
        },
        {
         "name": "Toneladas_Excelentes",
         "rawType": "float64",
         "type": "float"
        }
       ],
       "ref": "fe0a6e64-6455-45d3-a9c2-be3b9d9998ba",
       "rows": [
        [
         "Aguacate",
         "2019.5",
         "6.5",
         "1538.5416666666667",
         "414.6875",
         "870.8958333333334",
         "252.95833333333334",
         "1.5385416666666665",
         "0.41468750000000004"
        ],
        [
         "Arandano",
         "2019.5",
         "6.5",
         "1564.5833333333333",
         "409.5833333333333",
         "843.3333333333334",
         "311.6666666666667",
         "1.5645833333333332",
         "0.40958333333333335"
        ],
        [
         "Cereza",
         "2019.5",
         "6.5",
         "1558.3333333333333",
         "394.6875",
         "891.2291666666666",
         "272.4166666666667",
         "1.5583333333333333",
         "0.3946875"
        ],
        [
         "Frambuesa",
         "2019.5",
         "6.5",
         "1461.4583333333333",
         "341.0416666666667",
         "833.40625",
         "287.0104166666667",
         "1.4614583333333335",
         "0.3410416666666667"
        ],
        [
         "Fresa",
         "2019.5",
         "6.5",
         "1420.8333333333333",
         "354.6875",
         "824.9270833333334",
         "241.21875",
         "1.4208333333333334",
         "0.3546875"
        ],
        [
         "Uva",
         "2019.5",
         "6.5",
         "1467.7083333333333",
         "378.75",
         "842.6875",
         "246.27083333333334",
         "1.4677083333333334",
         "0.37875"
        ]
       ],
       "shape": {
        "columns": 8,
        "rows": 6
       }
      },
      "text/html": [
       "<div>\n",
       "<style scoped>\n",
       "    .dataframe tbody tr th:only-of-type {\n",
       "        vertical-align: middle;\n",
       "    }\n",
       "\n",
       "    .dataframe tbody tr th {\n",
       "        vertical-align: top;\n",
       "    }\n",
       "\n",
       "    .dataframe thead th {\n",
       "        text-align: right;\n",
       "    }\n",
       "</style>\n",
       "<table border=\"1\" class=\"dataframe\">\n",
       "  <thead>\n",
       "    <tr style=\"text-align: right;\">\n",
       "      <th></th>\n",
       "      <th>Año</th>\n",
       "      <th>Mes</th>\n",
       "      <th>Kg</th>\n",
       "      <th>Excelente</th>\n",
       "      <th>Aceptable</th>\n",
       "      <th>Inapropiada</th>\n",
       "      <th>Toneladas</th>\n",
       "      <th>Toneladas_Excelentes</th>\n",
       "    </tr>\n",
       "    <tr>\n",
       "      <th>Fruta</th>\n",
       "      <th></th>\n",
       "      <th></th>\n",
       "      <th></th>\n",
       "      <th></th>\n",
       "      <th></th>\n",
       "      <th></th>\n",
       "      <th></th>\n",
       "      <th></th>\n",
       "    </tr>\n",
       "  </thead>\n",
       "  <tbody>\n",
       "    <tr>\n",
       "      <th>Aguacate</th>\n",
       "      <td>2019.5</td>\n",
       "      <td>6.5</td>\n",
       "      <td>1538.541667</td>\n",
       "      <td>414.687500</td>\n",
       "      <td>870.895833</td>\n",
       "      <td>252.958333</td>\n",
       "      <td>1.538542</td>\n",
       "      <td>0.414688</td>\n",
       "    </tr>\n",
       "    <tr>\n",
       "      <th>Arandano</th>\n",
       "      <td>2019.5</td>\n",
       "      <td>6.5</td>\n",
       "      <td>1564.583333</td>\n",
       "      <td>409.583333</td>\n",
       "      <td>843.333333</td>\n",
       "      <td>311.666667</td>\n",
       "      <td>1.564583</td>\n",
       "      <td>0.409583</td>\n",
       "    </tr>\n",
       "    <tr>\n",
       "      <th>Cereza</th>\n",
       "      <td>2019.5</td>\n",
       "      <td>6.5</td>\n",
       "      <td>1558.333333</td>\n",
       "      <td>394.687500</td>\n",
       "      <td>891.229167</td>\n",
       "      <td>272.416667</td>\n",
       "      <td>1.558333</td>\n",
       "      <td>0.394688</td>\n",
       "    </tr>\n",
       "    <tr>\n",
       "      <th>Frambuesa</th>\n",
       "      <td>2019.5</td>\n",
       "      <td>6.5</td>\n",
       "      <td>1461.458333</td>\n",
       "      <td>341.041667</td>\n",
       "      <td>833.406250</td>\n",
       "      <td>287.010417</td>\n",
       "      <td>1.461458</td>\n",
       "      <td>0.341042</td>\n",
       "    </tr>\n",
       "    <tr>\n",
       "      <th>Fresa</th>\n",
       "      <td>2019.5</td>\n",
       "      <td>6.5</td>\n",
       "      <td>1420.833333</td>\n",
       "      <td>354.687500</td>\n",
       "      <td>824.927083</td>\n",
       "      <td>241.218750</td>\n",
       "      <td>1.420833</td>\n",
       "      <td>0.354687</td>\n",
       "    </tr>\n",
       "    <tr>\n",
       "      <th>Uva</th>\n",
       "      <td>2019.5</td>\n",
       "      <td>6.5</td>\n",
       "      <td>1467.708333</td>\n",
       "      <td>378.750000</td>\n",
       "      <td>842.687500</td>\n",
       "      <td>246.270833</td>\n",
       "      <td>1.467708</td>\n",
       "      <td>0.378750</td>\n",
       "    </tr>\n",
       "  </tbody>\n",
       "</table>\n",
       "</div>"
      ],
      "text/plain": [
       "              Año  Mes           Kg   Excelente   Aceptable  Inapropiada  \\\n",
       "Fruta                                                                      \n",
       "Aguacate   2019.5  6.5  1538.541667  414.687500  870.895833   252.958333   \n",
       "Arandano   2019.5  6.5  1564.583333  409.583333  843.333333   311.666667   \n",
       "Cereza     2019.5  6.5  1558.333333  394.687500  891.229167   272.416667   \n",
       "Frambuesa  2019.5  6.5  1461.458333  341.041667  833.406250   287.010417   \n",
       "Fresa      2019.5  6.5  1420.833333  354.687500  824.927083   241.218750   \n",
       "Uva        2019.5  6.5  1467.708333  378.750000  842.687500   246.270833   \n",
       "\n",
       "           Toneladas  Toneladas_Excelentes  \n",
       "Fruta                                       \n",
       "Aguacate    1.538542              0.414688  \n",
       "Arandano    1.564583              0.409583  \n",
       "Cereza      1.558333              0.394688  \n",
       "Frambuesa   1.461458              0.341042  \n",
       "Fresa       1.420833              0.354687  \n",
       "Uva         1.467708              0.378750  "
      ]
     },
     "execution_count": 42,
     "metadata": {},
     "output_type": "execute_result"
    }
   ],
   "source": [
    "recoleccion.groupby(\"Fruta\").mean()"
   ]
  },
  {
   "cell_type": "markdown",
   "id": "b6722b0e-2c9f-4c03-b0ef-78bc4317f240",
   "metadata": {},
   "source": [
    "__Ejercicio 15:__"
   ]
  },
  {
   "cell_type": "markdown",
   "id": "a485a5e7-7724-413a-ac32-e93ae6cb6556",
   "metadata": {},
   "source": [
    "Utilizar groupby para obtener la cantidad total recogida por cada tipo de fruta\n"
   ]
  },
  {
   "cell_type": "code",
   "execution_count": 43,
   "id": "618228f0-7b00-417c-af84-bb68218cd660",
   "metadata": {},
   "outputs": [
    {
     "data": {
      "application/vnd.microsoft.datawrangler.viewer.v0+json": {
       "columns": [
        {
         "name": "Fruta",
         "rawType": "object",
         "type": "string"
        },
        {
         "name": "0",
         "rawType": "int64",
         "type": "integer"
        }
       ],
       "ref": "6428eb5e-eb85-4ac4-9b12-f332b506886e",
       "rows": [
        [
         "Aguacate",
         "48"
        ],
        [
         "Arandano",
         "48"
        ],
        [
         "Cereza",
         "48"
        ],
        [
         "Frambuesa",
         "48"
        ],
        [
         "Fresa",
         "48"
        ],
        [
         "Uva",
         "48"
        ]
       ],
       "shape": {
        "columns": 1,
        "rows": 6
       }
      },
      "text/plain": [
       "Fruta\n",
       "Aguacate     48\n",
       "Arandano     48\n",
       "Cereza       48\n",
       "Frambuesa    48\n",
       "Fresa        48\n",
       "Uva          48\n",
       "dtype: int64"
      ]
     },
     "execution_count": 43,
     "metadata": {},
     "output_type": "execute_result"
    }
   ],
   "source": [
    "recoleccion.groupby(\"Fruta\").size()"
   ]
  },
  {
   "cell_type": "markdown",
   "id": "ed2c7708-c107-401d-b1d8-6d49a45020c8",
   "metadata": {},
   "source": [
    "__Ejercicio 16:__"
   ]
  },
  {
   "cell_type": "markdown",
   "id": "f6f30fe3-a6d0-4cfc-93cc-5d1916a5f24d",
   "metadata": {},
   "source": [
    "Utilizar groupby para obtener los datos de las cosechas en cuyo mes se recolecto mas de 20 toneladas de frutas en estado Aceptable"
   ]
  },
  {
   "cell_type": "code",
   "execution_count": null,
   "id": "8deb5530-7e59-44a6-a700-57c47f6afd29",
   "metadata": {},
   "outputs": [],
   "source": []
  },
  {
   "cell_type": "markdown",
   "id": "441fc220-0392-4de8-b846-bb27f616a687",
   "metadata": {},
   "source": [
    "__Ejercicio 17:__"
   ]
  },
  {
   "cell_type": "markdown",
   "id": "baa2e296-a697-486f-b182-725de6eace79",
   "metadata": {},
   "source": [
    "Utilizar groupby para obtener la cantidad de fruta recogida en todos los meses de cada año, tanto el total como separado por categorias (Excelente,Aceptable e Inapropiado)"
   ]
  },
  {
   "cell_type": "code",
   "execution_count": null,
   "id": "62942ab6-6d56-4f82-bdf7-e62a32734305",
   "metadata": {},
   "outputs": [],
   "source": []
  },
  {
   "cell_type": "markdown",
   "id": "dce0ed83-b137-4625-9af3-8f0949dd66f4",
   "metadata": {},
   "source": [
    "__Ejercicio 18:__"
   ]
  },
  {
   "cell_type": "markdown",
   "id": "293d3bf2-e240-4572-add3-d50cf4f7bc80",
   "metadata": {},
   "source": [
    "Utilizar groupby para obtener la cantidad de fruta recogida en estado Aceptable e Inapropiada, en todos los meses de cada año"
   ]
  },
  {
   "cell_type": "code",
   "execution_count": null,
   "id": "1e6cc7f0-e818-44db-99bb-fe6c0b912ed8",
   "metadata": {},
   "outputs": [],
   "source": []
  },
  {
   "cell_type": "markdown",
   "id": "b1208da7-ef60-4936-9cd8-9075d4c5ff25",
   "metadata": {},
   "source": [
    "__Ejercicio 19:__"
   ]
  },
  {
   "cell_type": "markdown",
   "id": "ffc3e269-b067-4039-908c-9c4f77f22e7f",
   "metadata": {},
   "source": [
    "Utilizar groupby y \"agg\" para obtener la cantidad total de kilogramos recogidos en cada Mes"
   ]
  },
  {
   "cell_type": "code",
   "execution_count": null,
   "id": "ea2d2ef8-b6c8-4f61-bdba-488ebf036f72",
   "metadata": {},
   "outputs": [],
   "source": []
  },
  {
   "cell_type": "markdown",
   "id": "4f9e5a7a-4ca1-44e8-af9c-00d28870298c",
   "metadata": {},
   "source": [
    "__Ejercicio 20:__"
   ]
  },
  {
   "cell_type": "markdown",
   "id": "ee515a13-f3e6-4881-94e0-6fbf9f4539df",
   "metadata": {},
   "source": [
    "Utilizar groupby para obtener de cada mes:\n",
    "\n",
    " - El promedio de kilogramos en excelente estado que se recogen \n",
    " - El promedio de kilogramos en estado inapropiado que se recogen "
   ]
  },
  {
   "cell_type": "code",
   "execution_count": null,
   "id": "be37f400-2716-42e5-b2c3-ac31036e30e7",
   "metadata": {},
   "outputs": [],
   "source": []
  },
  {
   "cell_type": "markdown",
   "id": "09519ae8-0c51-4e12-8d2b-9e962b91c377",
   "metadata": {},
   "source": [
    "__Ejercicio 21:__"
   ]
  },
  {
   "cell_type": "markdown",
   "id": "33489ef7-3770-453e-ae75-4ca526c445c4",
   "metadata": {},
   "source": [
    "Utilizar groupby para obtener la cantidad minima y maxima en estado aceptable recogida en cada Mes (Ej. La cantidad mínima de fruta en estado aceptable que se ha recogido en el mes de febrero es de 1000)"
   ]
  },
  {
   "cell_type": "code",
   "execution_count": null,
   "id": "35e25f27-c221-4a55-b4dc-110fdf9389ec",
   "metadata": {},
   "outputs": [],
   "source": []
  },
  {
   "cell_type": "markdown",
   "id": "f1704dba-5e4a-4ccf-9604-8076e07ddaa4",
   "metadata": {},
   "source": [
    "__Ejercicio 22:__"
   ]
  },
  {
   "cell_type": "markdown",
   "id": "78d7b32f-207c-4e72-84e2-a3a5def2111b",
   "metadata": {},
   "source": [
    "Utilizar pivot_table para obtener el valor promedio en todas las columnas de cada Fruta"
   ]
  },
  {
   "cell_type": "code",
   "execution_count": null,
   "id": "c2675368-5afc-4350-bd13-0bb5bff140e2",
   "metadata": {},
   "outputs": [],
   "source": []
  },
  {
   "cell_type": "markdown",
   "id": "a6243bb2-5785-43ed-803e-fd05166a163b",
   "metadata": {},
   "source": [
    "__Ejercicio 23:__"
   ]
  },
  {
   "cell_type": "markdown",
   "id": "2e70e537-5501-41ec-9841-3a9ec633572c",
   "metadata": {},
   "source": [
    "Utilizar pivot_table para obtener por cada Año:\n",
    "   - La cantidad total de fruta recogida en cada mes\n",
    "   - La cantidad total de fruta en estado Aceptable recogida en cada mes"
   ]
  },
  {
   "cell_type": "code",
   "execution_count": null,
   "id": "494b1982-6d31-44c1-a8f8-bdb55b22ec7f",
   "metadata": {},
   "outputs": [],
   "source": []
  },
  {
   "cell_type": "markdown",
   "id": "00c6e875-959b-4109-b15e-b9c18d899ea4",
   "metadata": {},
   "source": [
    "__Ejercicio 24:__"
   ]
  },
  {
   "cell_type": "markdown",
   "id": "4226a6cf-6ee7-44c5-ad6c-ae81b9ecbf30",
   "metadata": {},
   "source": [
    "Utilizar el DataFrame anterior para obtener el total de frutas recogidas en cada mes del año 2019"
   ]
  },
  {
   "cell_type": "code",
   "execution_count": null,
   "id": "d43a7738-dd68-43ef-8e7d-dfd2b1d79e10",
   "metadata": {},
   "outputs": [],
   "source": []
  },
  {
   "cell_type": "code",
   "execution_count": null,
   "id": "3b5efe4e-ff47-4122-9a2b-742826ea2621",
   "metadata": {},
   "outputs": [],
   "source": []
  }
 ],
 "metadata": {
  "kernelspec": {
   "display_name": "Python 3",
   "language": "python",
   "name": "python3"
  },
  "language_info": {
   "codemirror_mode": {
    "name": "ipython",
    "version": 3
   },
   "file_extension": ".py",
   "mimetype": "text/x-python",
   "name": "python",
   "nbconvert_exporter": "python",
   "pygments_lexer": "ipython3",
   "version": "3.10.12"
  }
 },
 "nbformat": 4,
 "nbformat_minor": 5
}
