{
 "cells": [
  {
   "cell_type": "markdown",
   "id": "c2a0c04d-8073-418c-8967-b05c9802474e",
   "metadata": {},
   "source": [
    "# Group by"
   ]
  },
  {
   "cell_type": "code",
   "execution_count": 1,
   "id": "98d4898b-3137-4be4-852f-116822ddb7cd",
   "metadata": {},
   "outputs": [],
   "source": [
    "import pandas as pd"
   ]
  },
  {
   "cell_type": "markdown",
   "id": "e04f9e0c-650b-41d1-9591-71d85b4f12ed",
   "metadata": {},
   "source": [
    "__Ejercicio 1:__"
   ]
  },
  {
   "cell_type": "markdown",
   "id": "deff0d85-28ad-473d-ac2a-67f5cbdb3964",
   "metadata": {},
   "source": [
    "Importar el archivo \"granja.xlsx\" en la variable \"recoleccion\""
   ]
  },
  {
   "cell_type": "code",
   "execution_count": 2,
   "id": "a65caced-2779-457a-9988-f5c83efdd473",
   "metadata": {},
   "outputs": [],
   "source": [
    "recoleccion = pd.read_excel(\"./granja.xlsx\")"
   ]
  },
  {
   "cell_type": "code",
   "execution_count": 3,
   "id": "45e0596f",
   "metadata": {},
   "outputs": [
    {
     "data": {
      "application/vnd.microsoft.datawrangler.viewer.v0+json": {
       "columns": [
        {
         "name": "index",
         "rawType": "int64",
         "type": "integer"
        },
        {
         "name": "Año",
         "rawType": "int64",
         "type": "integer"
        },
        {
         "name": "Mes",
         "rawType": "int64",
         "type": "integer"
        },
        {
         "name": "Fruta",
         "rawType": "object",
         "type": "string"
        },
        {
         "name": "Kg",
         "rawType": "int64",
         "type": "integer"
        },
        {
         "name": "Excelente",
         "rawType": "int64",
         "type": "integer"
        },
        {
         "name": "Aceptable",
         "rawType": "float64",
         "type": "float"
        },
        {
         "name": "Inapropiada",
         "rawType": "float64",
         "type": "float"
        }
       ],
       "ref": "2db9543d-8d16-46da-a83d-c1c8a2ef4e53",
       "rows": [
        [
         "0",
         "2018",
         "1",
         "Cereza",
         "1400",
         "475",
         "613.0",
         "312.0"
        ],
        [
         "1",
         "2018",
         "1",
         "Arandano",
         "900",
         "390",
         "440.0",
         "70.0"
        ],
        [
         "2",
         "2018",
         "1",
         "Fresa",
         "1050",
         "110",
         "900.0",
         "40.0"
        ],
        [
         "3",
         "2018",
         "1",
         "Frambuesa",
         "1050",
         "100",
         "784.0",
         "166.0"
        ],
        [
         "4",
         "2018",
         "1",
         "Aguacate",
         "1300",
         "490",
         "720.0",
         "90.0"
        ],
        [
         "5",
         "2018",
         "1",
         "Uva",
         "900",
         "95",
         "644.5",
         "160.5"
        ],
        [
         "6",
         "2018",
         "2",
         "Cereza",
         "1350",
         "340",
         "916.0",
         "94.0"
        ],
        [
         "7",
         "2018",
         "2",
         "Arandano",
         "850",
         "80",
         "460.0",
         "310.0"
        ],
        [
         "8",
         "2018",
         "2",
         "Fresa",
         "1250",
         "490",
         "691.0",
         "69.0"
        ],
        [
         "9",
         "2018",
         "2",
         "Frambuesa",
         "900",
         "115",
         "649.0",
         "136.0"
        ],
        [
         "10",
         "2018",
         "2",
         "Aguacate",
         "900",
         "125",
         "664.0",
         "111.0"
        ],
        [
         "11",
         "2018",
         "2",
         "Uva",
         "1450",
         "340",
         "972.0",
         "138.0"
        ],
        [
         "12",
         "2018",
         "3",
         "Cereza",
         "1550",
         "490",
         "872.0",
         "188.0"
        ],
        [
         "13",
         "2018",
         "3",
         "Arandano",
         "1050",
         "340",
         "592.0",
         "118.0"
        ],
        [
         "14",
         "2018",
         "3",
         "Fresa",
         "900",
         "400",
         "361.0",
         "139.0"
        ],
        [
         "15",
         "2018",
         "3",
         "Frambuesa",
         "1350",
         "430",
         "550.0",
         "370.0"
        ],
        [
         "16",
         "2018",
         "3",
         "Aguacate",
         "1250",
         "400",
         "606.0",
         "244.0"
        ],
        [
         "17",
         "2018",
         "3",
         "Uva",
         "1850",
         "370",
         "1324.0",
         "156.0"
        ],
        [
         "18",
         "2018",
         "4",
         "Cereza",
         "1850",
         "370",
         "1168.0",
         "312.0"
        ],
        [
         "19",
         "2018",
         "4",
         "Arandano",
         "1450",
         "600",
         "664.0",
         "186.0"
        ],
        [
         "20",
         "2018",
         "4",
         "Fresa",
         "1750",
         "350",
         "956.0",
         "444.0"
        ],
        [
         "21",
         "2018",
         "4",
         "Frambuesa",
         "1100",
         "100",
         "784.0",
         "216.0"
        ],
        [
         "22",
         "2018",
         "4",
         "Aguacate",
         "1800",
         "740",
         "946.0",
         "114.0"
        ],
        [
         "23",
         "2018",
         "4",
         "Uva",
         "1050",
         "325",
         "644.5",
         "80.5"
        ],
        [
         "24",
         "2018",
         "5",
         "Cereza",
         "1050",
         "95",
         "851.5",
         "103.5"
        ],
        [
         "25",
         "2018",
         "5",
         "Arandano",
         "1500",
         "140",
         "928.0",
         "432.0"
        ],
        [
         "26",
         "2018",
         "5",
         "Fresa",
         "1550",
         "310",
         "712.0",
         "528.0"
        ],
        [
         "27",
         "2018",
         "5",
         "Frambuesa",
         "1150",
         "230",
         "820.0",
         "100.0"
        ],
        [
         "28",
         "2018",
         "5",
         "Aguacate",
         "1750",
         "720",
         "808.0",
         "222.0"
        ],
        [
         "29",
         "2018",
         "5",
         "Uva",
         "1000",
         "420",
         "448.0",
         "132.0"
        ],
        [
         "30",
         "2018",
         "6",
         "Cereza",
         "1200",
         "370",
         "739.0",
         "91.0"
        ],
        [
         "31",
         "2018",
         "6",
         "Arandano",
         "1400",
         "130",
         "865.0",
         "405.0"
        ],
        [
         "32",
         "2018",
         "6",
         "Fresa",
         "1700",
         "520",
         "1054.0",
         "126.0"
        ],
        [
         "33",
         "2018",
         "6",
         "Frambuesa",
         "1100",
         "460",
         "496.0",
         "144.0"
        ],
        [
         "34",
         "2018",
         "6",
         "Aguacate",
         "950",
         "400",
         "424.0",
         "126.0"
        ],
        [
         "35",
         "2018",
         "6",
         "Uva",
         "1700",
         "160",
         "1216.0",
         "324.0"
        ],
        [
         "36",
         "2018",
         "7",
         "Cereza",
         "1250",
         "365",
         "563.0",
         "322.0"
        ],
        [
         "37",
         "2018",
         "7",
         "Arandano",
         "1900",
         "740",
         "944.0",
         "216.0"
        ],
        [
         "38",
         "2018",
         "7",
         "Fresa",
         "1450",
         "425",
         "836.0",
         "189.0"
        ],
        [
         "39",
         "2018",
         "7",
         "Frambuesa",
         "1600",
         "620",
         "890.0",
         "90.0"
        ],
        [
         "40",
         "2018",
         "7",
         "Aguacate",
         "1650",
         "330",
         "824.0",
         "496.0"
        ],
        [
         "41",
         "2018",
         "7",
         "Uva",
         "1200",
         "240",
         "696.0",
         "264.0"
        ],
        [
         "42",
         "2018",
         "8",
         "Cereza",
         "2000",
         "210",
         "1448.0",
         "342.0"
        ],
        [
         "43",
         "2018",
         "8",
         "Arandano",
         "2000",
         "400",
         "992.0",
         "608.0"
        ],
        [
         "44",
         "2018",
         "8",
         "Fresa",
         "1550",
         "600",
         "776.0",
         "174.0"
        ],
        [
         "45",
         "2018",
         "8",
         "Frambuesa",
         "1900",
         "380",
         "944.0",
         "576.0"
        ],
        [
         "46",
         "2018",
         "8",
         "Aguacate",
         "1900",
         "200",
         "1214.0",
         "486.0"
        ],
        [
         "47",
         "2018",
         "8",
         "Uva",
         "2050",
         "605",
         "899.0",
         "546.0"
        ],
        [
         "48",
         "2018",
         "9",
         "Cereza",
         "1750",
         "185",
         "1416.5",
         "148.5"
        ],
        [
         "49",
         "2018",
         "9",
         "Arandano",
         "1750",
         "680",
         "674.0",
         "396.0"
        ]
       ],
       "shape": {
        "columns": 7,
        "rows": 288
       }
      },
      "text/html": [
       "<div>\n",
       "<style scoped>\n",
       "    .dataframe tbody tr th:only-of-type {\n",
       "        vertical-align: middle;\n",
       "    }\n",
       "\n",
       "    .dataframe tbody tr th {\n",
       "        vertical-align: top;\n",
       "    }\n",
       "\n",
       "    .dataframe thead th {\n",
       "        text-align: right;\n",
       "    }\n",
       "</style>\n",
       "<table border=\"1\" class=\"dataframe\">\n",
       "  <thead>\n",
       "    <tr style=\"text-align: right;\">\n",
       "      <th></th>\n",
       "      <th>Año</th>\n",
       "      <th>Mes</th>\n",
       "      <th>Fruta</th>\n",
       "      <th>Kg</th>\n",
       "      <th>Excelente</th>\n",
       "      <th>Aceptable</th>\n",
       "      <th>Inapropiada</th>\n",
       "    </tr>\n",
       "  </thead>\n",
       "  <tbody>\n",
       "    <tr>\n",
       "      <th>0</th>\n",
       "      <td>2018</td>\n",
       "      <td>1</td>\n",
       "      <td>Cereza</td>\n",
       "      <td>1400</td>\n",
       "      <td>475</td>\n",
       "      <td>613.0</td>\n",
       "      <td>312.0</td>\n",
       "    </tr>\n",
       "    <tr>\n",
       "      <th>1</th>\n",
       "      <td>2018</td>\n",
       "      <td>1</td>\n",
       "      <td>Arandano</td>\n",
       "      <td>900</td>\n",
       "      <td>390</td>\n",
       "      <td>440.0</td>\n",
       "      <td>70.0</td>\n",
       "    </tr>\n",
       "    <tr>\n",
       "      <th>2</th>\n",
       "      <td>2018</td>\n",
       "      <td>1</td>\n",
       "      <td>Fresa</td>\n",
       "      <td>1050</td>\n",
       "      <td>110</td>\n",
       "      <td>900.0</td>\n",
       "      <td>40.0</td>\n",
       "    </tr>\n",
       "    <tr>\n",
       "      <th>3</th>\n",
       "      <td>2018</td>\n",
       "      <td>1</td>\n",
       "      <td>Frambuesa</td>\n",
       "      <td>1050</td>\n",
       "      <td>100</td>\n",
       "      <td>784.0</td>\n",
       "      <td>166.0</td>\n",
       "    </tr>\n",
       "    <tr>\n",
       "      <th>4</th>\n",
       "      <td>2018</td>\n",
       "      <td>1</td>\n",
       "      <td>Aguacate</td>\n",
       "      <td>1300</td>\n",
       "      <td>490</td>\n",
       "      <td>720.0</td>\n",
       "      <td>90.0</td>\n",
       "    </tr>\n",
       "    <tr>\n",
       "      <th>...</th>\n",
       "      <td>...</td>\n",
       "      <td>...</td>\n",
       "      <td>...</td>\n",
       "      <td>...</td>\n",
       "      <td>...</td>\n",
       "      <td>...</td>\n",
       "      <td>...</td>\n",
       "    </tr>\n",
       "    <tr>\n",
       "      <th>283</th>\n",
       "      <td>2021</td>\n",
       "      <td>12</td>\n",
       "      <td>Arandano</td>\n",
       "      <td>1850</td>\n",
       "      <td>720</td>\n",
       "      <td>920.0</td>\n",
       "      <td>210.0</td>\n",
       "    </tr>\n",
       "    <tr>\n",
       "      <th>284</th>\n",
       "      <td>2021</td>\n",
       "      <td>12</td>\n",
       "      <td>Fresa</td>\n",
       "      <td>1300</td>\n",
       "      <td>380</td>\n",
       "      <td>584.0</td>\n",
       "      <td>336.0</td>\n",
       "    </tr>\n",
       "    <tr>\n",
       "      <th>285</th>\n",
       "      <td>2021</td>\n",
       "      <td>12</td>\n",
       "      <td>Frambuesa</td>\n",
       "      <td>1650</td>\n",
       "      <td>330</td>\n",
       "      <td>824.0</td>\n",
       "      <td>496.0</td>\n",
       "    </tr>\n",
       "    <tr>\n",
       "      <th>286</th>\n",
       "      <td>2021</td>\n",
       "      <td>12</td>\n",
       "      <td>Aguacate</td>\n",
       "      <td>1100</td>\n",
       "      <td>420</td>\n",
       "      <td>560.0</td>\n",
       "      <td>120.0</td>\n",
       "    </tr>\n",
       "    <tr>\n",
       "      <th>287</th>\n",
       "      <td>2021</td>\n",
       "      <td>12</td>\n",
       "      <td>Uva</td>\n",
       "      <td>1650</td>\n",
       "      <td>485</td>\n",
       "      <td>948.0</td>\n",
       "      <td>217.0</td>\n",
       "    </tr>\n",
       "  </tbody>\n",
       "</table>\n",
       "<p>288 rows × 7 columns</p>\n",
       "</div>"
      ],
      "text/plain": [
       "      Año  Mes      Fruta    Kg  Excelente  Aceptable  Inapropiada\n",
       "0    2018    1     Cereza  1400        475      613.0        312.0\n",
       "1    2018    1   Arandano   900        390      440.0         70.0\n",
       "2    2018    1      Fresa  1050        110      900.0         40.0\n",
       "3    2018    1  Frambuesa  1050        100      784.0        166.0\n",
       "4    2018    1   Aguacate  1300        490      720.0         90.0\n",
       "..    ...  ...        ...   ...        ...        ...          ...\n",
       "283  2021   12   Arandano  1850        720      920.0        210.0\n",
       "284  2021   12      Fresa  1300        380      584.0        336.0\n",
       "285  2021   12  Frambuesa  1650        330      824.0        496.0\n",
       "286  2021   12   Aguacate  1100        420      560.0        120.0\n",
       "287  2021   12        Uva  1650        485      948.0        217.0\n",
       "\n",
       "[288 rows x 7 columns]"
      ]
     },
     "execution_count": 3,
     "metadata": {},
     "output_type": "execute_result"
    }
   ],
   "source": [
    "recoleccion"
   ]
  },
  {
   "cell_type": "markdown",
   "id": "edae104d-0249-4ca6-ac11-cc554170794a",
   "metadata": {},
   "source": [
    "Utilizar groupby para obtener el valor maximo en todas las columnas por cada Año"
   ]
  },
  {
   "cell_type": "code",
   "execution_count": 4,
   "id": "890017dd-83b8-4c39-ac74-d1862e8bb646",
   "metadata": {},
   "outputs": [
    {
     "data": {
      "application/vnd.microsoft.datawrangler.viewer.v0+json": {
       "columns": [
        {
         "name": "Año",
         "rawType": "int64",
         "type": "integer"
        },
        {
         "name": "Mes",
         "rawType": "int64",
         "type": "integer"
        },
        {
         "name": "Fruta",
         "rawType": "object",
         "type": "string"
        },
        {
         "name": "Kg",
         "rawType": "int64",
         "type": "integer"
        },
        {
         "name": "Excelente",
         "rawType": "int64",
         "type": "integer"
        },
        {
         "name": "Aceptable",
         "rawType": "float64",
         "type": "float"
        },
        {
         "name": "Inapropiada",
         "rawType": "float64",
         "type": "float"
        }
       ],
       "ref": "f7aee2cf-c05a-4e3d-8b09-fc9c3dba3981",
       "rows": [
        [
         "2018",
         "12",
         "Uva",
         "2050",
         "740",
         "1448.0",
         "648.0"
        ],
        [
         "2019",
         "12",
         "Uva",
         "2100",
         "820",
         "1700.0",
         "702.0"
        ],
        [
         "2020",
         "12",
         "Uva",
         "2100",
         "800",
         "1520.0",
         "684.0"
        ],
        [
         "2021",
         "12",
         "Uva",
         "2100",
         "780",
         "1457.0",
         "576.0"
        ]
       ],
       "shape": {
        "columns": 6,
        "rows": 4
       }
      },
      "text/html": [
       "<div>\n",
       "<style scoped>\n",
       "    .dataframe tbody tr th:only-of-type {\n",
       "        vertical-align: middle;\n",
       "    }\n",
       "\n",
       "    .dataframe tbody tr th {\n",
       "        vertical-align: top;\n",
       "    }\n",
       "\n",
       "    .dataframe thead th {\n",
       "        text-align: right;\n",
       "    }\n",
       "</style>\n",
       "<table border=\"1\" class=\"dataframe\">\n",
       "  <thead>\n",
       "    <tr style=\"text-align: right;\">\n",
       "      <th></th>\n",
       "      <th>Mes</th>\n",
       "      <th>Fruta</th>\n",
       "      <th>Kg</th>\n",
       "      <th>Excelente</th>\n",
       "      <th>Aceptable</th>\n",
       "      <th>Inapropiada</th>\n",
       "    </tr>\n",
       "    <tr>\n",
       "      <th>Año</th>\n",
       "      <th></th>\n",
       "      <th></th>\n",
       "      <th></th>\n",
       "      <th></th>\n",
       "      <th></th>\n",
       "      <th></th>\n",
       "    </tr>\n",
       "  </thead>\n",
       "  <tbody>\n",
       "    <tr>\n",
       "      <th>2018</th>\n",
       "      <td>12</td>\n",
       "      <td>Uva</td>\n",
       "      <td>2050</td>\n",
       "      <td>740</td>\n",
       "      <td>1448.0</td>\n",
       "      <td>648.0</td>\n",
       "    </tr>\n",
       "    <tr>\n",
       "      <th>2019</th>\n",
       "      <td>12</td>\n",
       "      <td>Uva</td>\n",
       "      <td>2100</td>\n",
       "      <td>820</td>\n",
       "      <td>1700.0</td>\n",
       "      <td>702.0</td>\n",
       "    </tr>\n",
       "    <tr>\n",
       "      <th>2020</th>\n",
       "      <td>12</td>\n",
       "      <td>Uva</td>\n",
       "      <td>2100</td>\n",
       "      <td>800</td>\n",
       "      <td>1520.0</td>\n",
       "      <td>684.0</td>\n",
       "    </tr>\n",
       "    <tr>\n",
       "      <th>2021</th>\n",
       "      <td>12</td>\n",
       "      <td>Uva</td>\n",
       "      <td>2100</td>\n",
       "      <td>780</td>\n",
       "      <td>1457.0</td>\n",
       "      <td>576.0</td>\n",
       "    </tr>\n",
       "  </tbody>\n",
       "</table>\n",
       "</div>"
      ],
      "text/plain": [
       "      Mes Fruta    Kg  Excelente  Aceptable  Inapropiada\n",
       "Año                                                     \n",
       "2018   12   Uva  2050        740     1448.0        648.0\n",
       "2019   12   Uva  2100        820     1700.0        702.0\n",
       "2020   12   Uva  2100        800     1520.0        684.0\n",
       "2021   12   Uva  2100        780     1457.0        576.0"
      ]
     },
     "execution_count": 4,
     "metadata": {},
     "output_type": "execute_result"
    }
   ],
   "source": [
    "recoleccion.groupby(\"Año\").max()"
   ]
  },
  {
   "cell_type": "markdown",
   "id": "8b59d37f-0249-49c9-ab64-2c4fe9674599",
   "metadata": {},
   "source": [
    "__Ejercicio 2:__"
   ]
  },
  {
   "cell_type": "markdown",
   "id": "85ed2052-86aa-430f-bf8d-928863f4bd2f",
   "metadata": {},
   "source": [
    "Utilizar groupby para obtener la cantidad de registros en cada año"
   ]
  },
  {
   "cell_type": "code",
   "execution_count": 5,
   "id": "6b61d164-f11f-4cd7-addd-517a34c1850c",
   "metadata": {},
   "outputs": [
    {
     "data": {
      "application/vnd.microsoft.datawrangler.viewer.v0+json": {
       "columns": [
        {
         "name": "Año",
         "rawType": "int64",
         "type": "integer"
        },
        {
         "name": "0",
         "rawType": "int64",
         "type": "integer"
        }
       ],
       "ref": "a7a92f66-9410-4eff-8a31-819d86605ad9",
       "rows": [
        [
         "2018",
         "72"
        ],
        [
         "2019",
         "72"
        ],
        [
         "2020",
         "72"
        ],
        [
         "2021",
         "72"
        ]
       ],
       "shape": {
        "columns": 1,
        "rows": 4
       }
      },
      "text/plain": [
       "Año\n",
       "2018    72\n",
       "2019    72\n",
       "2020    72\n",
       "2021    72\n",
       "dtype: int64"
      ]
     },
     "execution_count": 5,
     "metadata": {},
     "output_type": "execute_result"
    }
   ],
   "source": [
    "recoleccion.groupby(\"Año\").size()"
   ]
  },
  {
   "cell_type": "markdown",
   "id": "a12b84ad-0247-4f1b-98d9-ba7db1e79cd9",
   "metadata": {},
   "source": [
    "__Ejercicio 3:__"
   ]
  },
  {
   "cell_type": "markdown",
   "id": "f838f0aa-247f-46b2-8185-b505fde78807",
   "metadata": {},
   "source": [
    "Utilizar groupby para obtener el valor promedio en todas las columnas de cada año"
   ]
  },
  {
   "cell_type": "code",
   "execution_count": 6,
   "id": "bcd68d05-e867-4742-8c93-bdcc77bc3f5b",
   "metadata": {},
   "outputs": [
    {
     "data": {
      "application/vnd.microsoft.datawrangler.viewer.v0+json": {
       "columns": [
        {
         "name": "Año",
         "rawType": "int64",
         "type": "integer"
        },
        {
         "name": "Mes",
         "rawType": "float64",
         "type": "float"
        },
        {
         "name": "Kg",
         "rawType": "float64",
         "type": "float"
        },
        {
         "name": "Excelente",
         "rawType": "float64",
         "type": "float"
        },
        {
         "name": "Aceptable",
         "rawType": "float64",
         "type": "float"
        },
        {
         "name": "Inapropiada",
         "rawType": "float64",
         "type": "float"
        }
       ],
       "ref": "ba4f9acf-b45b-49d7-991d-669e2abefcf4",
       "rows": [
        [
         "2018",
         "6.5",
         "1457.638888888889",
         "385.625",
         "826.4930555555555",
         "245.52083333333334"
        ],
        [
         "2019",
         "6.5",
         "1563.1944444444443",
         "391.18055555555554",
         "906.3541666666666",
         "265.65972222222223"
        ],
        [
         "2020",
         "6.5",
         "1466.6666666666667",
         "354.7916666666667",
         "845.1736111111111",
         "266.7013888888889"
        ],
        [
         "2021",
         "6.5",
         "1520.138888888889",
         "397.3611111111111",
         "826.2986111111111",
         "296.4791666666667"
        ]
       ],
       "shape": {
        "columns": 5,
        "rows": 4
       }
      },
      "text/html": [
       "<div>\n",
       "<style scoped>\n",
       "    .dataframe tbody tr th:only-of-type {\n",
       "        vertical-align: middle;\n",
       "    }\n",
       "\n",
       "    .dataframe tbody tr th {\n",
       "        vertical-align: top;\n",
       "    }\n",
       "\n",
       "    .dataframe thead th {\n",
       "        text-align: right;\n",
       "    }\n",
       "</style>\n",
       "<table border=\"1\" class=\"dataframe\">\n",
       "  <thead>\n",
       "    <tr style=\"text-align: right;\">\n",
       "      <th></th>\n",
       "      <th>Mes</th>\n",
       "      <th>Kg</th>\n",
       "      <th>Excelente</th>\n",
       "      <th>Aceptable</th>\n",
       "      <th>Inapropiada</th>\n",
       "    </tr>\n",
       "    <tr>\n",
       "      <th>Año</th>\n",
       "      <th></th>\n",
       "      <th></th>\n",
       "      <th></th>\n",
       "      <th></th>\n",
       "      <th></th>\n",
       "    </tr>\n",
       "  </thead>\n",
       "  <tbody>\n",
       "    <tr>\n",
       "      <th>2018</th>\n",
       "      <td>6.5</td>\n",
       "      <td>1457.638889</td>\n",
       "      <td>385.625000</td>\n",
       "      <td>826.493056</td>\n",
       "      <td>245.520833</td>\n",
       "    </tr>\n",
       "    <tr>\n",
       "      <th>2019</th>\n",
       "      <td>6.5</td>\n",
       "      <td>1563.194444</td>\n",
       "      <td>391.180556</td>\n",
       "      <td>906.354167</td>\n",
       "      <td>265.659722</td>\n",
       "    </tr>\n",
       "    <tr>\n",
       "      <th>2020</th>\n",
       "      <td>6.5</td>\n",
       "      <td>1466.666667</td>\n",
       "      <td>354.791667</td>\n",
       "      <td>845.173611</td>\n",
       "      <td>266.701389</td>\n",
       "    </tr>\n",
       "    <tr>\n",
       "      <th>2021</th>\n",
       "      <td>6.5</td>\n",
       "      <td>1520.138889</td>\n",
       "      <td>397.361111</td>\n",
       "      <td>826.298611</td>\n",
       "      <td>296.479167</td>\n",
       "    </tr>\n",
       "  </tbody>\n",
       "</table>\n",
       "</div>"
      ],
      "text/plain": [
       "      Mes           Kg   Excelente   Aceptable  Inapropiada\n",
       "Año                                                        \n",
       "2018  6.5  1457.638889  385.625000  826.493056   245.520833\n",
       "2019  6.5  1563.194444  391.180556  906.354167   265.659722\n",
       "2020  6.5  1466.666667  354.791667  845.173611   266.701389\n",
       "2021  6.5  1520.138889  397.361111  826.298611   296.479167"
      ]
     },
     "execution_count": 6,
     "metadata": {},
     "output_type": "execute_result"
    }
   ],
   "source": [
    "recoleccion.groupby(\"Año\").mean(numeric_only=True)"
   ]
  },
  {
   "cell_type": "markdown",
   "id": "c4f7d2db-dbd7-45b6-abb3-2e891dc35efc",
   "metadata": {},
   "source": [
    "__Ejercicio 4:__"
   ]
  },
  {
   "cell_type": "markdown",
   "id": "5869d4f9-3065-4763-a258-2aa48e9ea0b8",
   "metadata": {},
   "source": [
    "Utilizar groupby para obtener:\n",
    " - la cantidad total de frutas recogidos en cada año \n",
    " - La cantidad de fruta recogida en estado Excelente, Aceptable e Inapropiada en cada año"
   ]
  },
  {
   "cell_type": "code",
   "execution_count": 10,
   "id": "94f35bac-302e-4fcc-b18f-73bdbc428170",
   "metadata": {},
   "outputs": [
    {
     "data": {
      "application/vnd.microsoft.datawrangler.viewer.v0+json": {
       "columns": [
        {
         "name": "('Año', 'Fruta')",
         "rawType": "object",
         "type": "unknown"
        },
        {
         "name": "0",
         "rawType": "int64",
         "type": "integer"
        }
       ],
       "ref": "1b06727d-fd7a-4a38-8ec9-ce69a394706d",
       "rows": [
        [
         "(2018, 'Aguacate')",
         "12"
        ],
        [
         "(2018, 'Arandano')",
         "12"
        ],
        [
         "(2018, 'Cereza')",
         "12"
        ],
        [
         "(2018, 'Frambuesa')",
         "12"
        ],
        [
         "(2018, 'Fresa')",
         "12"
        ],
        [
         "(2018, 'Uva')",
         "12"
        ],
        [
         "(2019, 'Aguacate')",
         "12"
        ],
        [
         "(2019, 'Arandano')",
         "12"
        ],
        [
         "(2019, 'Cereza')",
         "12"
        ],
        [
         "(2019, 'Frambuesa')",
         "12"
        ],
        [
         "(2019, 'Fresa')",
         "12"
        ],
        [
         "(2019, 'Uva')",
         "12"
        ],
        [
         "(2020, 'Aguacate')",
         "12"
        ],
        [
         "(2020, 'Arandano')",
         "12"
        ],
        [
         "(2020, 'Cereza')",
         "12"
        ],
        [
         "(2020, 'Frambuesa')",
         "12"
        ],
        [
         "(2020, 'Fresa')",
         "12"
        ],
        [
         "(2020, 'Uva')",
         "12"
        ],
        [
         "(2021, 'Aguacate')",
         "12"
        ],
        [
         "(2021, 'Arandano')",
         "12"
        ],
        [
         "(2021, 'Cereza')",
         "12"
        ],
        [
         "(2021, 'Frambuesa')",
         "12"
        ],
        [
         "(2021, 'Fresa')",
         "12"
        ],
        [
         "(2021, 'Uva')",
         "12"
        ]
       ],
       "shape": {
        "columns": 1,
        "rows": 24
       }
      },
      "text/plain": [
       "Año   Fruta    \n",
       "2018  Aguacate     12\n",
       "      Arandano     12\n",
       "      Cereza       12\n",
       "      Frambuesa    12\n",
       "      Fresa        12\n",
       "      Uva          12\n",
       "2019  Aguacate     12\n",
       "      Arandano     12\n",
       "      Cereza       12\n",
       "      Frambuesa    12\n",
       "      Fresa        12\n",
       "      Uva          12\n",
       "2020  Aguacate     12\n",
       "      Arandano     12\n",
       "      Cereza       12\n",
       "      Frambuesa    12\n",
       "      Fresa        12\n",
       "      Uva          12\n",
       "2021  Aguacate     12\n",
       "      Arandano     12\n",
       "      Cereza       12\n",
       "      Frambuesa    12\n",
       "      Fresa        12\n",
       "      Uva          12\n",
       "dtype: int64"
      ]
     },
     "execution_count": 10,
     "metadata": {},
     "output_type": "execute_result"
    }
   ],
   "source": [
    "recoleccion.groupby([\"Año\",\"Fruta\"]).size()"
   ]
  },
  {
   "cell_type": "code",
   "execution_count": 11,
   "id": "069ff619",
   "metadata": {},
   "outputs": [
    {
     "data": {
      "application/vnd.microsoft.datawrangler.viewer.v0+json": {
       "columns": [
        {
         "name": "('Año', 'Fruta')",
         "rawType": "object",
         "type": "unknown"
        },
        {
         "name": "Excelente",
         "rawType": "int64",
         "type": "integer"
        },
        {
         "name": "Aceptable",
         "rawType": "float64",
         "type": "float"
        },
        {
         "name": "Inapropiada",
         "rawType": "float64",
         "type": "float"
        }
       ],
       "ref": "04556f6a-1503-46aa-be4b-be8f5bc4b599",
       "rows": [
        [
         "(2018, 'Aguacate')",
         "4915",
         "9724.0",
         "2861.0"
        ],
        [
         "(2018, 'Arandano')",
         "5255",
         "9652.5",
         "3292.5"
        ],
        [
         "(2018, 'Cereza')",
         "3960",
         "11545.0",
         "2795.0"
        ],
        [
         "(2018, 'Frambuesa')",
         "4170",
         "9079.5",
         "2900.5"
        ],
        [
         "(2018, 'Fresa')",
         "4550",
         "9439.5",
         "3110.5"
        ],
        [
         "(2018, 'Uva')",
         "4915",
         "10067.0",
         "2718.0"
        ],
        [
         "(2019, 'Aguacate')",
         "5335",
         "12480.0",
         "3035.0"
        ],
        [
         "(2019, 'Arandano')",
         "5185",
         "12210.0",
         "3405.0"
        ],
        [
         "(2019, 'Cereza')",
         "5030",
         "9585.0",
         "3135.0"
        ],
        [
         "(2019, 'Frambuesa')",
         "3550",
         "11492.0",
         "4258.0"
        ],
        [
         "(2019, 'Fresa')",
         "4725",
         "10397.5",
         "2677.5"
        ],
        [
         "(2019, 'Uva')",
         "4340",
         "9093.0",
         "2617.0"
        ],
        [
         "(2020, 'Aguacate')",
         "5090",
         "9533.0",
         "3327.0"
        ],
        [
         "(2020, 'Arandano')",
         "4135",
         "9822.5",
         "4342.5"
        ],
        [
         "(2020, 'Cereza')",
         "4950",
         "10802.0",
         "3448.0"
        ],
        [
         "(2020, 'Frambuesa')",
         "3975",
         "10092.0",
         "2933.0"
        ],
        [
         "(2020, 'Fresa')",
         "3410",
         "9870.5",
         "2469.5"
        ],
        [
         "(2020, 'Uva')",
         "3985",
         "10732.5",
         "2682.5"
        ],
        [
         "(2021, 'Aguacate')",
         "4565",
         "10066.0",
         "2919.0"
        ],
        [
         "(2021, 'Arandano')",
         "5085",
         "8795.0",
         "3920.0"
        ],
        [
         "(2021, 'Cereza')",
         "5005",
         "10847.0",
         "3698.0"
        ],
        [
         "(2021, 'Frambuesa')",
         "4675",
         "9340.0",
         "3685.0"
        ],
        [
         "(2021, 'Fresa')",
         "4340",
         "9889.0",
         "3321.0"
        ],
        [
         "(2021, 'Uva')",
         "4940",
         "10556.5",
         "3803.5"
        ]
       ],
       "shape": {
        "columns": 3,
        "rows": 24
       }
      },
      "text/html": [
       "<div>\n",
       "<style scoped>\n",
       "    .dataframe tbody tr th:only-of-type {\n",
       "        vertical-align: middle;\n",
       "    }\n",
       "\n",
       "    .dataframe tbody tr th {\n",
       "        vertical-align: top;\n",
       "    }\n",
       "\n",
       "    .dataframe thead th {\n",
       "        text-align: right;\n",
       "    }\n",
       "</style>\n",
       "<table border=\"1\" class=\"dataframe\">\n",
       "  <thead>\n",
       "    <tr style=\"text-align: right;\">\n",
       "      <th></th>\n",
       "      <th></th>\n",
       "      <th>Excelente</th>\n",
       "      <th>Aceptable</th>\n",
       "      <th>Inapropiada</th>\n",
       "    </tr>\n",
       "    <tr>\n",
       "      <th>Año</th>\n",
       "      <th>Fruta</th>\n",
       "      <th></th>\n",
       "      <th></th>\n",
       "      <th></th>\n",
       "    </tr>\n",
       "  </thead>\n",
       "  <tbody>\n",
       "    <tr>\n",
       "      <th rowspan=\"6\" valign=\"top\">2018</th>\n",
       "      <th>Aguacate</th>\n",
       "      <td>4915</td>\n",
       "      <td>9724.0</td>\n",
       "      <td>2861.0</td>\n",
       "    </tr>\n",
       "    <tr>\n",
       "      <th>Arandano</th>\n",
       "      <td>5255</td>\n",
       "      <td>9652.5</td>\n",
       "      <td>3292.5</td>\n",
       "    </tr>\n",
       "    <tr>\n",
       "      <th>Cereza</th>\n",
       "      <td>3960</td>\n",
       "      <td>11545.0</td>\n",
       "      <td>2795.0</td>\n",
       "    </tr>\n",
       "    <tr>\n",
       "      <th>Frambuesa</th>\n",
       "      <td>4170</td>\n",
       "      <td>9079.5</td>\n",
       "      <td>2900.5</td>\n",
       "    </tr>\n",
       "    <tr>\n",
       "      <th>Fresa</th>\n",
       "      <td>4550</td>\n",
       "      <td>9439.5</td>\n",
       "      <td>3110.5</td>\n",
       "    </tr>\n",
       "    <tr>\n",
       "      <th>Uva</th>\n",
       "      <td>4915</td>\n",
       "      <td>10067.0</td>\n",
       "      <td>2718.0</td>\n",
       "    </tr>\n",
       "    <tr>\n",
       "      <th rowspan=\"6\" valign=\"top\">2019</th>\n",
       "      <th>Aguacate</th>\n",
       "      <td>5335</td>\n",
       "      <td>12480.0</td>\n",
       "      <td>3035.0</td>\n",
       "    </tr>\n",
       "    <tr>\n",
       "      <th>Arandano</th>\n",
       "      <td>5185</td>\n",
       "      <td>12210.0</td>\n",
       "      <td>3405.0</td>\n",
       "    </tr>\n",
       "    <tr>\n",
       "      <th>Cereza</th>\n",
       "      <td>5030</td>\n",
       "      <td>9585.0</td>\n",
       "      <td>3135.0</td>\n",
       "    </tr>\n",
       "    <tr>\n",
       "      <th>Frambuesa</th>\n",
       "      <td>3550</td>\n",
       "      <td>11492.0</td>\n",
       "      <td>4258.0</td>\n",
       "    </tr>\n",
       "    <tr>\n",
       "      <th>Fresa</th>\n",
       "      <td>4725</td>\n",
       "      <td>10397.5</td>\n",
       "      <td>2677.5</td>\n",
       "    </tr>\n",
       "    <tr>\n",
       "      <th>Uva</th>\n",
       "      <td>4340</td>\n",
       "      <td>9093.0</td>\n",
       "      <td>2617.0</td>\n",
       "    </tr>\n",
       "    <tr>\n",
       "      <th rowspan=\"6\" valign=\"top\">2020</th>\n",
       "      <th>Aguacate</th>\n",
       "      <td>5090</td>\n",
       "      <td>9533.0</td>\n",
       "      <td>3327.0</td>\n",
       "    </tr>\n",
       "    <tr>\n",
       "      <th>Arandano</th>\n",
       "      <td>4135</td>\n",
       "      <td>9822.5</td>\n",
       "      <td>4342.5</td>\n",
       "    </tr>\n",
       "    <tr>\n",
       "      <th>Cereza</th>\n",
       "      <td>4950</td>\n",
       "      <td>10802.0</td>\n",
       "      <td>3448.0</td>\n",
       "    </tr>\n",
       "    <tr>\n",
       "      <th>Frambuesa</th>\n",
       "      <td>3975</td>\n",
       "      <td>10092.0</td>\n",
       "      <td>2933.0</td>\n",
       "    </tr>\n",
       "    <tr>\n",
       "      <th>Fresa</th>\n",
       "      <td>3410</td>\n",
       "      <td>9870.5</td>\n",
       "      <td>2469.5</td>\n",
       "    </tr>\n",
       "    <tr>\n",
       "      <th>Uva</th>\n",
       "      <td>3985</td>\n",
       "      <td>10732.5</td>\n",
       "      <td>2682.5</td>\n",
       "    </tr>\n",
       "    <tr>\n",
       "      <th rowspan=\"6\" valign=\"top\">2021</th>\n",
       "      <th>Aguacate</th>\n",
       "      <td>4565</td>\n",
       "      <td>10066.0</td>\n",
       "      <td>2919.0</td>\n",
       "    </tr>\n",
       "    <tr>\n",
       "      <th>Arandano</th>\n",
       "      <td>5085</td>\n",
       "      <td>8795.0</td>\n",
       "      <td>3920.0</td>\n",
       "    </tr>\n",
       "    <tr>\n",
       "      <th>Cereza</th>\n",
       "      <td>5005</td>\n",
       "      <td>10847.0</td>\n",
       "      <td>3698.0</td>\n",
       "    </tr>\n",
       "    <tr>\n",
       "      <th>Frambuesa</th>\n",
       "      <td>4675</td>\n",
       "      <td>9340.0</td>\n",
       "      <td>3685.0</td>\n",
       "    </tr>\n",
       "    <tr>\n",
       "      <th>Fresa</th>\n",
       "      <td>4340</td>\n",
       "      <td>9889.0</td>\n",
       "      <td>3321.0</td>\n",
       "    </tr>\n",
       "    <tr>\n",
       "      <th>Uva</th>\n",
       "      <td>4940</td>\n",
       "      <td>10556.5</td>\n",
       "      <td>3803.5</td>\n",
       "    </tr>\n",
       "  </tbody>\n",
       "</table>\n",
       "</div>"
      ],
      "text/plain": [
       "                Excelente  Aceptable  Inapropiada\n",
       "Año  Fruta                                       \n",
       "2018 Aguacate        4915     9724.0       2861.0\n",
       "     Arandano        5255     9652.5       3292.5\n",
       "     Cereza          3960    11545.0       2795.0\n",
       "     Frambuesa       4170     9079.5       2900.5\n",
       "     Fresa           4550     9439.5       3110.5\n",
       "     Uva             4915    10067.0       2718.0\n",
       "2019 Aguacate        5335    12480.0       3035.0\n",
       "     Arandano        5185    12210.0       3405.0\n",
       "     Cereza          5030     9585.0       3135.0\n",
       "     Frambuesa       3550    11492.0       4258.0\n",
       "     Fresa           4725    10397.5       2677.5\n",
       "     Uva             4340     9093.0       2617.0\n",
       "2020 Aguacate        5090     9533.0       3327.0\n",
       "     Arandano        4135     9822.5       4342.5\n",
       "     Cereza          4950    10802.0       3448.0\n",
       "     Frambuesa       3975    10092.0       2933.0\n",
       "     Fresa           3410     9870.5       2469.5\n",
       "     Uva             3985    10732.5       2682.5\n",
       "2021 Aguacate        4565    10066.0       2919.0\n",
       "     Arandano        5085     8795.0       3920.0\n",
       "     Cereza          5005    10847.0       3698.0\n",
       "     Frambuesa       4675     9340.0       3685.0\n",
       "     Fresa           4340     9889.0       3321.0\n",
       "     Uva             4940    10556.5       3803.5"
      ]
     },
     "execution_count": 11,
     "metadata": {},
     "output_type": "execute_result"
    }
   ],
   "source": [
    "recoleccion.groupby([\"Año\",\"Fruta\"])[[\"Excelente\",\"Aceptable\",\"Inapropiada\"]].sum()"
   ]
  },
  {
   "cell_type": "markdown",
   "id": "5cc944c4-d661-4fc7-9bd2-a94bd1262ae4",
   "metadata": {},
   "source": [
    "__Ejercicio 5:__"
   ]
  },
  {
   "cell_type": "markdown",
   "id": "3d350feb-0763-49c3-ac98-1429cbf55914",
   "metadata": {},
   "source": [
    "Utilizar groupby para obtener todos los registros de las cosechas en cuyo año se recolecto mas de 28 toneladas de frutas en excelente estado"
   ]
  },
  {
   "cell_type": "code",
   "execution_count": 15,
   "id": "a1652d12-f440-44cb-b226-62e29fe41afe",
   "metadata": {},
   "outputs": [],
   "source": [
    "recoleccion[\"Toneladas_Excelentes\"] = recoleccion['Excelente']/1000"
   ]
  },
  {
   "cell_type": "code",
   "execution_count": 22,
   "id": "3aca8e43",
   "metadata": {},
   "outputs": [
    {
     "data": {
      "application/vnd.microsoft.datawrangler.viewer.v0+json": {
       "columns": [
        {
         "name": "('Año', 'Fruta')",
         "rawType": "object",
         "type": "unknown"
        },
        {
         "name": "Mes",
         "rawType": "int64",
         "type": "integer"
        },
        {
         "name": "Kg",
         "rawType": "int64",
         "type": "integer"
        },
        {
         "name": "Excelente",
         "rawType": "int64",
         "type": "integer"
        },
        {
         "name": "Aceptable",
         "rawType": "float64",
         "type": "float"
        },
        {
         "name": "Inapropiada",
         "rawType": "float64",
         "type": "float"
        },
        {
         "name": "Toneladas",
         "rawType": "float64",
         "type": "float"
        },
        {
         "name": "Toneladas_Excelentes",
         "rawType": "float64",
         "type": "float"
        }
       ],
       "ref": "5e394bfb-ee4f-447f-99f4-d8415adbda7e",
       "rows": [
        [
         "(2018, 'Aguacate')",
         "78",
         "17500",
         "4915",
         "9724.0",
         "2861.0",
         "17.5",
         "4.915"
        ],
        [
         "(2018, 'Arandano')",
         "78",
         "18200",
         "5255",
         "9652.5",
         "3292.5",
         "18.2",
         "5.255"
        ],
        [
         "(2018, 'Cereza')",
         "78",
         "18300",
         "3960",
         "11545.0",
         "2795.0",
         "18.3",
         "3.96"
        ],
        [
         "(2018, 'Frambuesa')",
         "78",
         "16150",
         "4170",
         "9079.5",
         "2900.5",
         "16.15",
         "4.17"
        ],
        [
         "(2018, 'Fresa')",
         "78",
         "17100",
         "4550",
         "9439.5",
         "3110.5",
         "17.1",
         "4.55"
        ],
        [
         "(2018, 'Uva')",
         "78",
         "17700",
         "4915",
         "10067.0",
         "2718.0",
         "17.7",
         "4.915"
        ],
        [
         "(2019, 'Aguacate')",
         "78",
         "20850",
         "5335",
         "12480.0",
         "3035.0",
         "20.85",
         "5.335"
        ],
        [
         "(2019, 'Arandano')",
         "78",
         "20800",
         "5185",
         "12210.0",
         "3405.0",
         "20.8",
         "5.185"
        ],
        [
         "(2019, 'Cereza')",
         "78",
         "17750",
         "5030",
         "9585.0",
         "3135.0",
         "17.75",
         "5.03"
        ],
        [
         "(2019, 'Frambuesa')",
         "78",
         "19300",
         "3550",
         "11492.0",
         "4258.0",
         "19.3",
         "3.55"
        ],
        [
         "(2019, 'Fresa')",
         "78",
         "17800",
         "4725",
         "10397.5",
         "2677.5",
         "17.8",
         "4.725"
        ],
        [
         "(2019, 'Uva')",
         "78",
         "16050",
         "4340",
         "9093.0",
         "2617.0",
         "16.05",
         "4.34"
        ],
        [
         "(2020, 'Aguacate')",
         "78",
         "17950",
         "5090",
         "9533.0",
         "3327.0",
         "17.95",
         "5.09"
        ],
        [
         "(2020, 'Arandano')",
         "78",
         "18300",
         "4135",
         "9822.5",
         "4342.5",
         "18.3",
         "4.135"
        ],
        [
         "(2020, 'Cereza')",
         "78",
         "19200",
         "4950",
         "10802.0",
         "3448.0",
         "19.2",
         "4.95"
        ],
        [
         "(2020, 'Frambuesa')",
         "78",
         "17000",
         "3975",
         "10092.0",
         "2933.0",
         "17.0",
         "3.975"
        ],
        [
         "(2020, 'Fresa')",
         "78",
         "15750",
         "3410",
         "9870.5",
         "2469.5",
         "15.75",
         "3.41"
        ],
        [
         "(2020, 'Uva')",
         "78",
         "17400",
         "3985",
         "10732.5",
         "2682.5",
         "17.4",
         "3.9850000000000003"
        ],
        [
         "(2021, 'Aguacate')",
         "78",
         "17550",
         "4565",
         "10066.0",
         "2919.0",
         "17.55",
         "4.5649999999999995"
        ],
        [
         "(2021, 'Arandano')",
         "78",
         "17800",
         "5085",
         "8795.0",
         "3920.0",
         "17.8",
         "5.085"
        ],
        [
         "(2021, 'Cereza')",
         "78",
         "19550",
         "5005",
         "10847.0",
         "3698.0",
         "19.55",
         "5.005"
        ],
        [
         "(2021, 'Frambuesa')",
         "78",
         "17700",
         "4675",
         "9340.0",
         "3685.0",
         "17.7",
         "4.675"
        ],
        [
         "(2021, 'Fresa')",
         "78",
         "17550",
         "4340",
         "9889.0",
         "3321.0",
         "17.55",
         "4.34"
        ],
        [
         "(2021, 'Uva')",
         "78",
         "19300",
         "4940",
         "10556.5",
         "3803.5",
         "19.3",
         "4.9399999999999995"
        ]
       ],
       "shape": {
        "columns": 7,
        "rows": 24
       }
      },
      "text/html": [
       "<div>\n",
       "<style scoped>\n",
       "    .dataframe tbody tr th:only-of-type {\n",
       "        vertical-align: middle;\n",
       "    }\n",
       "\n",
       "    .dataframe tbody tr th {\n",
       "        vertical-align: top;\n",
       "    }\n",
       "\n",
       "    .dataframe thead th {\n",
       "        text-align: right;\n",
       "    }\n",
       "</style>\n",
       "<table border=\"1\" class=\"dataframe\">\n",
       "  <thead>\n",
       "    <tr style=\"text-align: right;\">\n",
       "      <th></th>\n",
       "      <th></th>\n",
       "      <th>Mes</th>\n",
       "      <th>Kg</th>\n",
       "      <th>Excelente</th>\n",
       "      <th>Aceptable</th>\n",
       "      <th>Inapropiada</th>\n",
       "      <th>Toneladas</th>\n",
       "      <th>Toneladas_Excelentes</th>\n",
       "    </tr>\n",
       "    <tr>\n",
       "      <th>Año</th>\n",
       "      <th>Fruta</th>\n",
       "      <th></th>\n",
       "      <th></th>\n",
       "      <th></th>\n",
       "      <th></th>\n",
       "      <th></th>\n",
       "      <th></th>\n",
       "      <th></th>\n",
       "    </tr>\n",
       "  </thead>\n",
       "  <tbody>\n",
       "    <tr>\n",
       "      <th rowspan=\"6\" valign=\"top\">2018</th>\n",
       "      <th>Aguacate</th>\n",
       "      <td>78</td>\n",
       "      <td>17500</td>\n",
       "      <td>4915</td>\n",
       "      <td>9724.0</td>\n",
       "      <td>2861.0</td>\n",
       "      <td>17.50</td>\n",
       "      <td>4.915</td>\n",
       "    </tr>\n",
       "    <tr>\n",
       "      <th>Arandano</th>\n",
       "      <td>78</td>\n",
       "      <td>18200</td>\n",
       "      <td>5255</td>\n",
       "      <td>9652.5</td>\n",
       "      <td>3292.5</td>\n",
       "      <td>18.20</td>\n",
       "      <td>5.255</td>\n",
       "    </tr>\n",
       "    <tr>\n",
       "      <th>Cereza</th>\n",
       "      <td>78</td>\n",
       "      <td>18300</td>\n",
       "      <td>3960</td>\n",
       "      <td>11545.0</td>\n",
       "      <td>2795.0</td>\n",
       "      <td>18.30</td>\n",
       "      <td>3.960</td>\n",
       "    </tr>\n",
       "    <tr>\n",
       "      <th>Frambuesa</th>\n",
       "      <td>78</td>\n",
       "      <td>16150</td>\n",
       "      <td>4170</td>\n",
       "      <td>9079.5</td>\n",
       "      <td>2900.5</td>\n",
       "      <td>16.15</td>\n",
       "      <td>4.170</td>\n",
       "    </tr>\n",
       "    <tr>\n",
       "      <th>Fresa</th>\n",
       "      <td>78</td>\n",
       "      <td>17100</td>\n",
       "      <td>4550</td>\n",
       "      <td>9439.5</td>\n",
       "      <td>3110.5</td>\n",
       "      <td>17.10</td>\n",
       "      <td>4.550</td>\n",
       "    </tr>\n",
       "    <tr>\n",
       "      <th>Uva</th>\n",
       "      <td>78</td>\n",
       "      <td>17700</td>\n",
       "      <td>4915</td>\n",
       "      <td>10067.0</td>\n",
       "      <td>2718.0</td>\n",
       "      <td>17.70</td>\n",
       "      <td>4.915</td>\n",
       "    </tr>\n",
       "    <tr>\n",
       "      <th rowspan=\"6\" valign=\"top\">2019</th>\n",
       "      <th>Aguacate</th>\n",
       "      <td>78</td>\n",
       "      <td>20850</td>\n",
       "      <td>5335</td>\n",
       "      <td>12480.0</td>\n",
       "      <td>3035.0</td>\n",
       "      <td>20.85</td>\n",
       "      <td>5.335</td>\n",
       "    </tr>\n",
       "    <tr>\n",
       "      <th>Arandano</th>\n",
       "      <td>78</td>\n",
       "      <td>20800</td>\n",
       "      <td>5185</td>\n",
       "      <td>12210.0</td>\n",
       "      <td>3405.0</td>\n",
       "      <td>20.80</td>\n",
       "      <td>5.185</td>\n",
       "    </tr>\n",
       "    <tr>\n",
       "      <th>Cereza</th>\n",
       "      <td>78</td>\n",
       "      <td>17750</td>\n",
       "      <td>5030</td>\n",
       "      <td>9585.0</td>\n",
       "      <td>3135.0</td>\n",
       "      <td>17.75</td>\n",
       "      <td>5.030</td>\n",
       "    </tr>\n",
       "    <tr>\n",
       "      <th>Frambuesa</th>\n",
       "      <td>78</td>\n",
       "      <td>19300</td>\n",
       "      <td>3550</td>\n",
       "      <td>11492.0</td>\n",
       "      <td>4258.0</td>\n",
       "      <td>19.30</td>\n",
       "      <td>3.550</td>\n",
       "    </tr>\n",
       "    <tr>\n",
       "      <th>Fresa</th>\n",
       "      <td>78</td>\n",
       "      <td>17800</td>\n",
       "      <td>4725</td>\n",
       "      <td>10397.5</td>\n",
       "      <td>2677.5</td>\n",
       "      <td>17.80</td>\n",
       "      <td>4.725</td>\n",
       "    </tr>\n",
       "    <tr>\n",
       "      <th>Uva</th>\n",
       "      <td>78</td>\n",
       "      <td>16050</td>\n",
       "      <td>4340</td>\n",
       "      <td>9093.0</td>\n",
       "      <td>2617.0</td>\n",
       "      <td>16.05</td>\n",
       "      <td>4.340</td>\n",
       "    </tr>\n",
       "    <tr>\n",
       "      <th rowspan=\"6\" valign=\"top\">2020</th>\n",
       "      <th>Aguacate</th>\n",
       "      <td>78</td>\n",
       "      <td>17950</td>\n",
       "      <td>5090</td>\n",
       "      <td>9533.0</td>\n",
       "      <td>3327.0</td>\n",
       "      <td>17.95</td>\n",
       "      <td>5.090</td>\n",
       "    </tr>\n",
       "    <tr>\n",
       "      <th>Arandano</th>\n",
       "      <td>78</td>\n",
       "      <td>18300</td>\n",
       "      <td>4135</td>\n",
       "      <td>9822.5</td>\n",
       "      <td>4342.5</td>\n",
       "      <td>18.30</td>\n",
       "      <td>4.135</td>\n",
       "    </tr>\n",
       "    <tr>\n",
       "      <th>Cereza</th>\n",
       "      <td>78</td>\n",
       "      <td>19200</td>\n",
       "      <td>4950</td>\n",
       "      <td>10802.0</td>\n",
       "      <td>3448.0</td>\n",
       "      <td>19.20</td>\n",
       "      <td>4.950</td>\n",
       "    </tr>\n",
       "    <tr>\n",
       "      <th>Frambuesa</th>\n",
       "      <td>78</td>\n",
       "      <td>17000</td>\n",
       "      <td>3975</td>\n",
       "      <td>10092.0</td>\n",
       "      <td>2933.0</td>\n",
       "      <td>17.00</td>\n",
       "      <td>3.975</td>\n",
       "    </tr>\n",
       "    <tr>\n",
       "      <th>Fresa</th>\n",
       "      <td>78</td>\n",
       "      <td>15750</td>\n",
       "      <td>3410</td>\n",
       "      <td>9870.5</td>\n",
       "      <td>2469.5</td>\n",
       "      <td>15.75</td>\n",
       "      <td>3.410</td>\n",
       "    </tr>\n",
       "    <tr>\n",
       "      <th>Uva</th>\n",
       "      <td>78</td>\n",
       "      <td>17400</td>\n",
       "      <td>3985</td>\n",
       "      <td>10732.5</td>\n",
       "      <td>2682.5</td>\n",
       "      <td>17.40</td>\n",
       "      <td>3.985</td>\n",
       "    </tr>\n",
       "    <tr>\n",
       "      <th rowspan=\"6\" valign=\"top\">2021</th>\n",
       "      <th>Aguacate</th>\n",
       "      <td>78</td>\n",
       "      <td>17550</td>\n",
       "      <td>4565</td>\n",
       "      <td>10066.0</td>\n",
       "      <td>2919.0</td>\n",
       "      <td>17.55</td>\n",
       "      <td>4.565</td>\n",
       "    </tr>\n",
       "    <tr>\n",
       "      <th>Arandano</th>\n",
       "      <td>78</td>\n",
       "      <td>17800</td>\n",
       "      <td>5085</td>\n",
       "      <td>8795.0</td>\n",
       "      <td>3920.0</td>\n",
       "      <td>17.80</td>\n",
       "      <td>5.085</td>\n",
       "    </tr>\n",
       "    <tr>\n",
       "      <th>Cereza</th>\n",
       "      <td>78</td>\n",
       "      <td>19550</td>\n",
       "      <td>5005</td>\n",
       "      <td>10847.0</td>\n",
       "      <td>3698.0</td>\n",
       "      <td>19.55</td>\n",
       "      <td>5.005</td>\n",
       "    </tr>\n",
       "    <tr>\n",
       "      <th>Frambuesa</th>\n",
       "      <td>78</td>\n",
       "      <td>17700</td>\n",
       "      <td>4675</td>\n",
       "      <td>9340.0</td>\n",
       "      <td>3685.0</td>\n",
       "      <td>17.70</td>\n",
       "      <td>4.675</td>\n",
       "    </tr>\n",
       "    <tr>\n",
       "      <th>Fresa</th>\n",
       "      <td>78</td>\n",
       "      <td>17550</td>\n",
       "      <td>4340</td>\n",
       "      <td>9889.0</td>\n",
       "      <td>3321.0</td>\n",
       "      <td>17.55</td>\n",
       "      <td>4.340</td>\n",
       "    </tr>\n",
       "    <tr>\n",
       "      <th>Uva</th>\n",
       "      <td>78</td>\n",
       "      <td>19300</td>\n",
       "      <td>4940</td>\n",
       "      <td>10556.5</td>\n",
       "      <td>3803.5</td>\n",
       "      <td>19.30</td>\n",
       "      <td>4.940</td>\n",
       "    </tr>\n",
       "  </tbody>\n",
       "</table>\n",
       "</div>"
      ],
      "text/plain": [
       "                Mes     Kg  Excelente  Aceptable  Inapropiada  Toneladas  \\\n",
       "Año  Fruta                                                                 \n",
       "2018 Aguacate    78  17500       4915     9724.0       2861.0      17.50   \n",
       "     Arandano    78  18200       5255     9652.5       3292.5      18.20   \n",
       "     Cereza      78  18300       3960    11545.0       2795.0      18.30   \n",
       "     Frambuesa   78  16150       4170     9079.5       2900.5      16.15   \n",
       "     Fresa       78  17100       4550     9439.5       3110.5      17.10   \n",
       "     Uva         78  17700       4915    10067.0       2718.0      17.70   \n",
       "2019 Aguacate    78  20850       5335    12480.0       3035.0      20.85   \n",
       "     Arandano    78  20800       5185    12210.0       3405.0      20.80   \n",
       "     Cereza      78  17750       5030     9585.0       3135.0      17.75   \n",
       "     Frambuesa   78  19300       3550    11492.0       4258.0      19.30   \n",
       "     Fresa       78  17800       4725    10397.5       2677.5      17.80   \n",
       "     Uva         78  16050       4340     9093.0       2617.0      16.05   \n",
       "2020 Aguacate    78  17950       5090     9533.0       3327.0      17.95   \n",
       "     Arandano    78  18300       4135     9822.5       4342.5      18.30   \n",
       "     Cereza      78  19200       4950    10802.0       3448.0      19.20   \n",
       "     Frambuesa   78  17000       3975    10092.0       2933.0      17.00   \n",
       "     Fresa       78  15750       3410     9870.5       2469.5      15.75   \n",
       "     Uva         78  17400       3985    10732.5       2682.5      17.40   \n",
       "2021 Aguacate    78  17550       4565    10066.0       2919.0      17.55   \n",
       "     Arandano    78  17800       5085     8795.0       3920.0      17.80   \n",
       "     Cereza      78  19550       5005    10847.0       3698.0      19.55   \n",
       "     Frambuesa   78  17700       4675     9340.0       3685.0      17.70   \n",
       "     Fresa       78  17550       4340     9889.0       3321.0      17.55   \n",
       "     Uva         78  19300       4940    10556.5       3803.5      19.30   \n",
       "\n",
       "                Toneladas_Excelentes  \n",
       "Año  Fruta                            \n",
       "2018 Aguacate                  4.915  \n",
       "     Arandano                  5.255  \n",
       "     Cereza                    3.960  \n",
       "     Frambuesa                 4.170  \n",
       "     Fresa                     4.550  \n",
       "     Uva                       4.915  \n",
       "2019 Aguacate                  5.335  \n",
       "     Arandano                  5.185  \n",
       "     Cereza                    5.030  \n",
       "     Frambuesa                 3.550  \n",
       "     Fresa                     4.725  \n",
       "     Uva                       4.340  \n",
       "2020 Aguacate                  5.090  \n",
       "     Arandano                  4.135  \n",
       "     Cereza                    4.950  \n",
       "     Frambuesa                 3.975  \n",
       "     Fresa                     3.410  \n",
       "     Uva                       3.985  \n",
       "2021 Aguacate                  4.565  \n",
       "     Arandano                  5.085  \n",
       "     Cereza                    5.005  \n",
       "     Frambuesa                 4.675  \n",
       "     Fresa                     4.340  \n",
       "     Uva                       4.940  "
      ]
     },
     "execution_count": 22,
     "metadata": {},
     "output_type": "execute_result"
    }
   ],
   "source": [
    "def calculo(group):\n",
    "    return group[\"Toneladas_Excelentes\"].sum() > 2.8\n",
    "\n",
    "\n",
    "recoleccion.groupby([\"Año\",\"Fruta\"]).filter(calculo).groupby([\"Año\",\"Fruta\"]).sum()"
   ]
  },
  {
   "cell_type": "markdown",
   "id": "95f0555d-fb4d-481d-b870-dda6abb78b78",
   "metadata": {},
   "source": [
    "__Ejercicio 6:__"
   ]
  },
  {
   "cell_type": "markdown",
   "id": "52f2da95-dc17-4241-b4e8-2d0c37968962",
   "metadata": {},
   "source": [
    "Utilizar groupby para obtener la cantidad total de cada fruta recogida separada por año"
   ]
  },
  {
   "cell_type": "code",
   "execution_count": 26,
   "id": "07d20a51-1456-4361-8480-fdaf2362a640",
   "metadata": {},
   "outputs": [
    {
     "data": {
      "application/vnd.microsoft.datawrangler.viewer.v0+json": {
       "columns": [
        {
         "name": "('Año', 'Fruta')",
         "rawType": "object",
         "type": "unknown"
        },
        {
         "name": "0",
         "rawType": "int64",
         "type": "integer"
        }
       ],
       "ref": "4dad1afd-e920-4a7f-aadc-1c928aded52e",
       "rows": [
        [
         "(2018, 'Aguacate')",
         "12"
        ],
        [
         "(2018, 'Arandano')",
         "12"
        ],
        [
         "(2018, 'Cereza')",
         "12"
        ],
        [
         "(2018, 'Frambuesa')",
         "12"
        ],
        [
         "(2018, 'Fresa')",
         "12"
        ],
        [
         "(2018, 'Uva')",
         "12"
        ],
        [
         "(2019, 'Aguacate')",
         "12"
        ],
        [
         "(2019, 'Arandano')",
         "12"
        ],
        [
         "(2019, 'Cereza')",
         "12"
        ],
        [
         "(2019, 'Frambuesa')",
         "12"
        ],
        [
         "(2019, 'Fresa')",
         "12"
        ],
        [
         "(2019, 'Uva')",
         "12"
        ],
        [
         "(2020, 'Aguacate')",
         "12"
        ],
        [
         "(2020, 'Arandano')",
         "12"
        ],
        [
         "(2020, 'Cereza')",
         "12"
        ],
        [
         "(2020, 'Frambuesa')",
         "12"
        ],
        [
         "(2020, 'Fresa')",
         "12"
        ],
        [
         "(2020, 'Uva')",
         "12"
        ],
        [
         "(2021, 'Aguacate')",
         "12"
        ],
        [
         "(2021, 'Arandano')",
         "12"
        ],
        [
         "(2021, 'Cereza')",
         "12"
        ],
        [
         "(2021, 'Frambuesa')",
         "12"
        ],
        [
         "(2021, 'Fresa')",
         "12"
        ],
        [
         "(2021, 'Uva')",
         "12"
        ]
       ],
       "shape": {
        "columns": 1,
        "rows": 24
       }
      },
      "text/plain": [
       "Año   Fruta    \n",
       "2018  Aguacate     12\n",
       "      Arandano     12\n",
       "      Cereza       12\n",
       "      Frambuesa    12\n",
       "      Fresa        12\n",
       "      Uva          12\n",
       "2019  Aguacate     12\n",
       "      Arandano     12\n",
       "      Cereza       12\n",
       "      Frambuesa    12\n",
       "      Fresa        12\n",
       "      Uva          12\n",
       "2020  Aguacate     12\n",
       "      Arandano     12\n",
       "      Cereza       12\n",
       "      Frambuesa    12\n",
       "      Fresa        12\n",
       "      Uva          12\n",
       "2021  Aguacate     12\n",
       "      Arandano     12\n",
       "      Cereza       12\n",
       "      Frambuesa    12\n",
       "      Fresa        12\n",
       "      Uva          12\n",
       "dtype: int64"
      ]
     },
     "execution_count": 26,
     "metadata": {},
     "output_type": "execute_result"
    }
   ],
   "source": [
    "recoleccion.groupby([\"Año\",\"Fruta\"]).size()"
   ]
  },
  {
   "cell_type": "markdown",
   "id": "9d2a123d-764b-48b0-a471-0c7275c96a44",
   "metadata": {},
   "source": [
    "__Ejercicio 7:__"
   ]
  },
  {
   "cell_type": "markdown",
   "id": "1e973d5d-fff2-4312-b2a5-060e812eec9c",
   "metadata": {},
   "source": [
    "Utilizar groupby para obtener la cantidad recogida en estado excelente y aceptable de cada fruta separada por año"
   ]
  },
  {
   "cell_type": "code",
   "execution_count": 30,
   "id": "cd285ffa-998c-4bf6-95c4-469d9bec74e1",
   "metadata": {},
   "outputs": [
    {
     "data": {
      "application/vnd.microsoft.datawrangler.viewer.v0+json": {
       "columns": [
        {
         "name": "('Año', 'Fruta')",
         "rawType": "object",
         "type": "unknown"
        },
        {
         "name": "Excelente",
         "rawType": "int64",
         "type": "integer"
        },
        {
         "name": "Aceptable",
         "rawType": "float64",
         "type": "float"
        }
       ],
       "ref": "7b63fde6-320e-42ba-ae2e-6fad13eaf8f0",
       "rows": [
        [
         "(2018, 'Aguacate')",
         "4915",
         "9724.0"
        ],
        [
         "(2018, 'Arandano')",
         "5255",
         "9652.5"
        ],
        [
         "(2018, 'Cereza')",
         "3960",
         "11545.0"
        ],
        [
         "(2018, 'Frambuesa')",
         "4170",
         "9079.5"
        ],
        [
         "(2018, 'Fresa')",
         "4550",
         "9439.5"
        ],
        [
         "(2018, 'Uva')",
         "4915",
         "10067.0"
        ],
        [
         "(2019, 'Aguacate')",
         "5335",
         "12480.0"
        ],
        [
         "(2019, 'Arandano')",
         "5185",
         "12210.0"
        ],
        [
         "(2019, 'Cereza')",
         "5030",
         "9585.0"
        ],
        [
         "(2019, 'Frambuesa')",
         "3550",
         "11492.0"
        ],
        [
         "(2019, 'Fresa')",
         "4725",
         "10397.5"
        ],
        [
         "(2019, 'Uva')",
         "4340",
         "9093.0"
        ],
        [
         "(2020, 'Aguacate')",
         "5090",
         "9533.0"
        ],
        [
         "(2020, 'Arandano')",
         "4135",
         "9822.5"
        ],
        [
         "(2020, 'Cereza')",
         "4950",
         "10802.0"
        ],
        [
         "(2020, 'Frambuesa')",
         "3975",
         "10092.0"
        ],
        [
         "(2020, 'Fresa')",
         "3410",
         "9870.5"
        ],
        [
         "(2020, 'Uva')",
         "3985",
         "10732.5"
        ],
        [
         "(2021, 'Aguacate')",
         "4565",
         "10066.0"
        ],
        [
         "(2021, 'Arandano')",
         "5085",
         "8795.0"
        ],
        [
         "(2021, 'Cereza')",
         "5005",
         "10847.0"
        ],
        [
         "(2021, 'Frambuesa')",
         "4675",
         "9340.0"
        ],
        [
         "(2021, 'Fresa')",
         "4340",
         "9889.0"
        ],
        [
         "(2021, 'Uva')",
         "4940",
         "10556.5"
        ]
       ],
       "shape": {
        "columns": 2,
        "rows": 24
       }
      },
      "text/html": [
       "<div>\n",
       "<style scoped>\n",
       "    .dataframe tbody tr th:only-of-type {\n",
       "        vertical-align: middle;\n",
       "    }\n",
       "\n",
       "    .dataframe tbody tr th {\n",
       "        vertical-align: top;\n",
       "    }\n",
       "\n",
       "    .dataframe thead th {\n",
       "        text-align: right;\n",
       "    }\n",
       "</style>\n",
       "<table border=\"1\" class=\"dataframe\">\n",
       "  <thead>\n",
       "    <tr style=\"text-align: right;\">\n",
       "      <th></th>\n",
       "      <th></th>\n",
       "      <th>Excelente</th>\n",
       "      <th>Aceptable</th>\n",
       "    </tr>\n",
       "    <tr>\n",
       "      <th>Año</th>\n",
       "      <th>Fruta</th>\n",
       "      <th></th>\n",
       "      <th></th>\n",
       "    </tr>\n",
       "  </thead>\n",
       "  <tbody>\n",
       "    <tr>\n",
       "      <th rowspan=\"6\" valign=\"top\">2018</th>\n",
       "      <th>Aguacate</th>\n",
       "      <td>4915</td>\n",
       "      <td>9724.0</td>\n",
       "    </tr>\n",
       "    <tr>\n",
       "      <th>Arandano</th>\n",
       "      <td>5255</td>\n",
       "      <td>9652.5</td>\n",
       "    </tr>\n",
       "    <tr>\n",
       "      <th>Cereza</th>\n",
       "      <td>3960</td>\n",
       "      <td>11545.0</td>\n",
       "    </tr>\n",
       "    <tr>\n",
       "      <th>Frambuesa</th>\n",
       "      <td>4170</td>\n",
       "      <td>9079.5</td>\n",
       "    </tr>\n",
       "    <tr>\n",
       "      <th>Fresa</th>\n",
       "      <td>4550</td>\n",
       "      <td>9439.5</td>\n",
       "    </tr>\n",
       "    <tr>\n",
       "      <th>Uva</th>\n",
       "      <td>4915</td>\n",
       "      <td>10067.0</td>\n",
       "    </tr>\n",
       "    <tr>\n",
       "      <th rowspan=\"6\" valign=\"top\">2019</th>\n",
       "      <th>Aguacate</th>\n",
       "      <td>5335</td>\n",
       "      <td>12480.0</td>\n",
       "    </tr>\n",
       "    <tr>\n",
       "      <th>Arandano</th>\n",
       "      <td>5185</td>\n",
       "      <td>12210.0</td>\n",
       "    </tr>\n",
       "    <tr>\n",
       "      <th>Cereza</th>\n",
       "      <td>5030</td>\n",
       "      <td>9585.0</td>\n",
       "    </tr>\n",
       "    <tr>\n",
       "      <th>Frambuesa</th>\n",
       "      <td>3550</td>\n",
       "      <td>11492.0</td>\n",
       "    </tr>\n",
       "    <tr>\n",
       "      <th>Fresa</th>\n",
       "      <td>4725</td>\n",
       "      <td>10397.5</td>\n",
       "    </tr>\n",
       "    <tr>\n",
       "      <th>Uva</th>\n",
       "      <td>4340</td>\n",
       "      <td>9093.0</td>\n",
       "    </tr>\n",
       "    <tr>\n",
       "      <th rowspan=\"6\" valign=\"top\">2020</th>\n",
       "      <th>Aguacate</th>\n",
       "      <td>5090</td>\n",
       "      <td>9533.0</td>\n",
       "    </tr>\n",
       "    <tr>\n",
       "      <th>Arandano</th>\n",
       "      <td>4135</td>\n",
       "      <td>9822.5</td>\n",
       "    </tr>\n",
       "    <tr>\n",
       "      <th>Cereza</th>\n",
       "      <td>4950</td>\n",
       "      <td>10802.0</td>\n",
       "    </tr>\n",
       "    <tr>\n",
       "      <th>Frambuesa</th>\n",
       "      <td>3975</td>\n",
       "      <td>10092.0</td>\n",
       "    </tr>\n",
       "    <tr>\n",
       "      <th>Fresa</th>\n",
       "      <td>3410</td>\n",
       "      <td>9870.5</td>\n",
       "    </tr>\n",
       "    <tr>\n",
       "      <th>Uva</th>\n",
       "      <td>3985</td>\n",
       "      <td>10732.5</td>\n",
       "    </tr>\n",
       "    <tr>\n",
       "      <th rowspan=\"6\" valign=\"top\">2021</th>\n",
       "      <th>Aguacate</th>\n",
       "      <td>4565</td>\n",
       "      <td>10066.0</td>\n",
       "    </tr>\n",
       "    <tr>\n",
       "      <th>Arandano</th>\n",
       "      <td>5085</td>\n",
       "      <td>8795.0</td>\n",
       "    </tr>\n",
       "    <tr>\n",
       "      <th>Cereza</th>\n",
       "      <td>5005</td>\n",
       "      <td>10847.0</td>\n",
       "    </tr>\n",
       "    <tr>\n",
       "      <th>Frambuesa</th>\n",
       "      <td>4675</td>\n",
       "      <td>9340.0</td>\n",
       "    </tr>\n",
       "    <tr>\n",
       "      <th>Fresa</th>\n",
       "      <td>4340</td>\n",
       "      <td>9889.0</td>\n",
       "    </tr>\n",
       "    <tr>\n",
       "      <th>Uva</th>\n",
       "      <td>4940</td>\n",
       "      <td>10556.5</td>\n",
       "    </tr>\n",
       "  </tbody>\n",
       "</table>\n",
       "</div>"
      ],
      "text/plain": [
       "                Excelente  Aceptable\n",
       "Año  Fruta                          \n",
       "2018 Aguacate        4915     9724.0\n",
       "     Arandano        5255     9652.5\n",
       "     Cereza          3960    11545.0\n",
       "     Frambuesa       4170     9079.5\n",
       "     Fresa           4550     9439.5\n",
       "     Uva             4915    10067.0\n",
       "2019 Aguacate        5335    12480.0\n",
       "     Arandano        5185    12210.0\n",
       "     Cereza          5030     9585.0\n",
       "     Frambuesa       3550    11492.0\n",
       "     Fresa           4725    10397.5\n",
       "     Uva             4340     9093.0\n",
       "2020 Aguacate        5090     9533.0\n",
       "     Arandano        4135     9822.5\n",
       "     Cereza          4950    10802.0\n",
       "     Frambuesa       3975    10092.0\n",
       "     Fresa           3410     9870.5\n",
       "     Uva             3985    10732.5\n",
       "2021 Aguacate        4565    10066.0\n",
       "     Arandano        5085     8795.0\n",
       "     Cereza          5005    10847.0\n",
       "     Frambuesa       4675     9340.0\n",
       "     Fresa           4340     9889.0\n",
       "     Uva             4940    10556.5"
      ]
     },
     "execution_count": 30,
     "metadata": {},
     "output_type": "execute_result"
    }
   ],
   "source": [
    "recoleccion.groupby([\"Año\",\"Fruta\"])[[\"Excelente\",\"Aceptable\"]].sum()"
   ]
  },
  {
   "cell_type": "markdown",
   "id": "8e14b393-15d0-41a8-8a4c-14f3a0ceb077",
   "metadata": {},
   "source": [
    "__Ejercicio 8:__"
   ]
  },
  {
   "cell_type": "markdown",
   "id": "fa99b98f-d916-4190-9d63-9279d4e3eac3",
   "metadata": {},
   "source": [
    "Utilizar groupby y  \"agg\" para obtener la cantidad total de kilogramos en estado Excelente recogidos de cada fruta"
   ]
  },
  {
   "cell_type": "code",
   "execution_count": 32,
   "id": "645827e8-f741-4036-a48d-19d195799ddf",
   "metadata": {},
   "outputs": [
    {
     "data": {
      "application/vnd.microsoft.datawrangler.viewer.v0+json": {
       "columns": [
        {
         "name": "('Año', 'Fruta')",
         "rawType": "object",
         "type": "unknown"
        },
        {
         "name": "Excelente",
         "rawType": "int64",
         "type": "integer"
        }
       ],
       "ref": "88ffe9b1-9185-4cb5-8faa-6fff4d56455e",
       "rows": [
        [
         "(2018, 'Aguacate')",
         "4915"
        ],
        [
         "(2018, 'Arandano')",
         "5255"
        ],
        [
         "(2018, 'Cereza')",
         "3960"
        ],
        [
         "(2018, 'Frambuesa')",
         "4170"
        ],
        [
         "(2018, 'Fresa')",
         "4550"
        ],
        [
         "(2018, 'Uva')",
         "4915"
        ],
        [
         "(2019, 'Aguacate')",
         "5335"
        ],
        [
         "(2019, 'Arandano')",
         "5185"
        ],
        [
         "(2019, 'Cereza')",
         "5030"
        ],
        [
         "(2019, 'Frambuesa')",
         "3550"
        ],
        [
         "(2019, 'Fresa')",
         "4725"
        ],
        [
         "(2019, 'Uva')",
         "4340"
        ],
        [
         "(2020, 'Aguacate')",
         "5090"
        ],
        [
         "(2020, 'Arandano')",
         "4135"
        ],
        [
         "(2020, 'Cereza')",
         "4950"
        ],
        [
         "(2020, 'Frambuesa')",
         "3975"
        ],
        [
         "(2020, 'Fresa')",
         "3410"
        ],
        [
         "(2020, 'Uva')",
         "3985"
        ],
        [
         "(2021, 'Aguacate')",
         "4565"
        ],
        [
         "(2021, 'Arandano')",
         "5085"
        ],
        [
         "(2021, 'Cereza')",
         "5005"
        ],
        [
         "(2021, 'Frambuesa')",
         "4675"
        ],
        [
         "(2021, 'Fresa')",
         "4340"
        ],
        [
         "(2021, 'Uva')",
         "4940"
        ]
       ],
       "shape": {
        "columns": 1,
        "rows": 24
       }
      },
      "text/html": [
       "<div>\n",
       "<style scoped>\n",
       "    .dataframe tbody tr th:only-of-type {\n",
       "        vertical-align: middle;\n",
       "    }\n",
       "\n",
       "    .dataframe tbody tr th {\n",
       "        vertical-align: top;\n",
       "    }\n",
       "\n",
       "    .dataframe thead th {\n",
       "        text-align: right;\n",
       "    }\n",
       "</style>\n",
       "<table border=\"1\" class=\"dataframe\">\n",
       "  <thead>\n",
       "    <tr style=\"text-align: right;\">\n",
       "      <th></th>\n",
       "      <th></th>\n",
       "      <th>Excelente</th>\n",
       "    </tr>\n",
       "    <tr>\n",
       "      <th>Año</th>\n",
       "      <th>Fruta</th>\n",
       "      <th></th>\n",
       "    </tr>\n",
       "  </thead>\n",
       "  <tbody>\n",
       "    <tr>\n",
       "      <th rowspan=\"6\" valign=\"top\">2018</th>\n",
       "      <th>Aguacate</th>\n",
       "      <td>4915</td>\n",
       "    </tr>\n",
       "    <tr>\n",
       "      <th>Arandano</th>\n",
       "      <td>5255</td>\n",
       "    </tr>\n",
       "    <tr>\n",
       "      <th>Cereza</th>\n",
       "      <td>3960</td>\n",
       "    </tr>\n",
       "    <tr>\n",
       "      <th>Frambuesa</th>\n",
       "      <td>4170</td>\n",
       "    </tr>\n",
       "    <tr>\n",
       "      <th>Fresa</th>\n",
       "      <td>4550</td>\n",
       "    </tr>\n",
       "    <tr>\n",
       "      <th>Uva</th>\n",
       "      <td>4915</td>\n",
       "    </tr>\n",
       "    <tr>\n",
       "      <th rowspan=\"6\" valign=\"top\">2019</th>\n",
       "      <th>Aguacate</th>\n",
       "      <td>5335</td>\n",
       "    </tr>\n",
       "    <tr>\n",
       "      <th>Arandano</th>\n",
       "      <td>5185</td>\n",
       "    </tr>\n",
       "    <tr>\n",
       "      <th>Cereza</th>\n",
       "      <td>5030</td>\n",
       "    </tr>\n",
       "    <tr>\n",
       "      <th>Frambuesa</th>\n",
       "      <td>3550</td>\n",
       "    </tr>\n",
       "    <tr>\n",
       "      <th>Fresa</th>\n",
       "      <td>4725</td>\n",
       "    </tr>\n",
       "    <tr>\n",
       "      <th>Uva</th>\n",
       "      <td>4340</td>\n",
       "    </tr>\n",
       "    <tr>\n",
       "      <th rowspan=\"6\" valign=\"top\">2020</th>\n",
       "      <th>Aguacate</th>\n",
       "      <td>5090</td>\n",
       "    </tr>\n",
       "    <tr>\n",
       "      <th>Arandano</th>\n",
       "      <td>4135</td>\n",
       "    </tr>\n",
       "    <tr>\n",
       "      <th>Cereza</th>\n",
       "      <td>4950</td>\n",
       "    </tr>\n",
       "    <tr>\n",
       "      <th>Frambuesa</th>\n",
       "      <td>3975</td>\n",
       "    </tr>\n",
       "    <tr>\n",
       "      <th>Fresa</th>\n",
       "      <td>3410</td>\n",
       "    </tr>\n",
       "    <tr>\n",
       "      <th>Uva</th>\n",
       "      <td>3985</td>\n",
       "    </tr>\n",
       "    <tr>\n",
       "      <th rowspan=\"6\" valign=\"top\">2021</th>\n",
       "      <th>Aguacate</th>\n",
       "      <td>4565</td>\n",
       "    </tr>\n",
       "    <tr>\n",
       "      <th>Arandano</th>\n",
       "      <td>5085</td>\n",
       "    </tr>\n",
       "    <tr>\n",
       "      <th>Cereza</th>\n",
       "      <td>5005</td>\n",
       "    </tr>\n",
       "    <tr>\n",
       "      <th>Frambuesa</th>\n",
       "      <td>4675</td>\n",
       "    </tr>\n",
       "    <tr>\n",
       "      <th>Fresa</th>\n",
       "      <td>4340</td>\n",
       "    </tr>\n",
       "    <tr>\n",
       "      <th>Uva</th>\n",
       "      <td>4940</td>\n",
       "    </tr>\n",
       "  </tbody>\n",
       "</table>\n",
       "</div>"
      ],
      "text/plain": [
       "                Excelente\n",
       "Año  Fruta               \n",
       "2018 Aguacate        4915\n",
       "     Arandano        5255\n",
       "     Cereza          3960\n",
       "     Frambuesa       4170\n",
       "     Fresa           4550\n",
       "     Uva             4915\n",
       "2019 Aguacate        5335\n",
       "     Arandano        5185\n",
       "     Cereza          5030\n",
       "     Frambuesa       3550\n",
       "     Fresa           4725\n",
       "     Uva             4340\n",
       "2020 Aguacate        5090\n",
       "     Arandano        4135\n",
       "     Cereza          4950\n",
       "     Frambuesa       3975\n",
       "     Fresa           3410\n",
       "     Uva             3985\n",
       "2021 Aguacate        4565\n",
       "     Arandano        5085\n",
       "     Cereza          5005\n",
       "     Frambuesa       4675\n",
       "     Fresa           4340\n",
       "     Uva             4940"
      ]
     },
     "execution_count": 32,
     "metadata": {},
     "output_type": "execute_result"
    }
   ],
   "source": [
    "recoleccion.groupby([\"Año\",\"Fruta\"]).agg({\"Excelente\":\"sum\"})"
   ]
  },
  {
   "cell_type": "markdown",
   "id": "b21ebc1b-1dea-4b4f-9a17-8f8ee8009280",
   "metadata": {},
   "source": [
    "__Ejercicio 9:__"
   ]
  },
  {
   "cell_type": "markdown",
   "id": "a1154caa-2a06-465d-8f8b-efbc298930d0",
   "metadata": {},
   "source": [
    "Utilizar groupby para obtener de cada fruta:\n",
    "- La cantidad total de kilogramos recogidos\n",
    "- El promedio mensual de kilogramos recogidos en excelente estado"
   ]
  },
  {
   "cell_type": "code",
   "execution_count": 33,
   "id": "060c9782-17e0-4d35-8a75-302fac96b78d",
   "metadata": {},
   "outputs": [
    {
     "data": {
      "application/vnd.microsoft.datawrangler.viewer.v0+json": {
       "columns": [
        {
         "name": "Fruta",
         "rawType": "object",
         "type": "string"
        },
        {
         "name": "Kg",
         "rawType": "int64",
         "type": "integer"
        }
       ],
       "ref": "eee702db-e508-4514-86aa-429829555150",
       "rows": [
        [
         "Aguacate",
         "73850"
        ],
        [
         "Arandano",
         "75100"
        ],
        [
         "Cereza",
         "74800"
        ],
        [
         "Frambuesa",
         "70150"
        ],
        [
         "Fresa",
         "68200"
        ],
        [
         "Uva",
         "70450"
        ]
       ],
       "shape": {
        "columns": 1,
        "rows": 6
       }
      },
      "text/html": [
       "<div>\n",
       "<style scoped>\n",
       "    .dataframe tbody tr th:only-of-type {\n",
       "        vertical-align: middle;\n",
       "    }\n",
       "\n",
       "    .dataframe tbody tr th {\n",
       "        vertical-align: top;\n",
       "    }\n",
       "\n",
       "    .dataframe thead th {\n",
       "        text-align: right;\n",
       "    }\n",
       "</style>\n",
       "<table border=\"1\" class=\"dataframe\">\n",
       "  <thead>\n",
       "    <tr style=\"text-align: right;\">\n",
       "      <th></th>\n",
       "      <th>Kg</th>\n",
       "    </tr>\n",
       "    <tr>\n",
       "      <th>Fruta</th>\n",
       "      <th></th>\n",
       "    </tr>\n",
       "  </thead>\n",
       "  <tbody>\n",
       "    <tr>\n",
       "      <th>Aguacate</th>\n",
       "      <td>73850</td>\n",
       "    </tr>\n",
       "    <tr>\n",
       "      <th>Arandano</th>\n",
       "      <td>75100</td>\n",
       "    </tr>\n",
       "    <tr>\n",
       "      <th>Cereza</th>\n",
       "      <td>74800</td>\n",
       "    </tr>\n",
       "    <tr>\n",
       "      <th>Frambuesa</th>\n",
       "      <td>70150</td>\n",
       "    </tr>\n",
       "    <tr>\n",
       "      <th>Fresa</th>\n",
       "      <td>68200</td>\n",
       "    </tr>\n",
       "    <tr>\n",
       "      <th>Uva</th>\n",
       "      <td>70450</td>\n",
       "    </tr>\n",
       "  </tbody>\n",
       "</table>\n",
       "</div>"
      ],
      "text/plain": [
       "              Kg\n",
       "Fruta           \n",
       "Aguacate   73850\n",
       "Arandano   75100\n",
       "Cereza     74800\n",
       "Frambuesa  70150\n",
       "Fresa      68200\n",
       "Uva        70450"
      ]
     },
     "execution_count": 33,
     "metadata": {},
     "output_type": "execute_result"
    }
   ],
   "source": [
    "recoleccion.groupby(\"Fruta\").agg({\"Kg\":\"sum\"})"
   ]
  },
  {
   "cell_type": "code",
   "execution_count": 35,
   "id": "eef8e1ea",
   "metadata": {},
   "outputs": [
    {
     "data": {
      "application/vnd.microsoft.datawrangler.viewer.v0+json": {
       "columns": [
        {
         "name": "('Fruta', 'Mes')",
         "rawType": "object",
         "type": "unknown"
        },
        {
         "name": "Excelente",
         "rawType": "float64",
         "type": "float"
        }
       ],
       "ref": "5ece8fe4-ce06-4476-877d-42eb1bf97270",
       "rows": [
        [
         "('Aguacate', 1)",
         "412.5"
        ],
        [
         "('Aguacate', 2)",
         "378.75"
        ],
        [
         "('Aguacate', 3)",
         "386.25"
        ],
        [
         "('Aguacate', 4)",
         "570.0"
        ],
        [
         "('Aguacate', 5)",
         "645.0"
        ],
        [
         "('Aguacate', 6)",
         "260.0"
        ],
        [
         "('Aguacate', 7)",
         "460.0"
        ],
        [
         "('Aguacate', 8)",
         "382.5"
        ],
        [
         "('Aguacate', 9)",
         "288.75"
        ],
        [
         "('Aguacate', 10)",
         "422.5"
        ],
        [
         "('Aguacate', 11)",
         "301.25"
        ],
        [
         "('Aguacate', 12)",
         "468.75"
        ],
        [
         "('Arandano', 1)",
         "431.25"
        ],
        [
         "('Arandano', 2)",
         "417.5"
        ],
        [
         "('Arandano', 3)",
         "407.5"
        ],
        [
         "('Arandano', 4)",
         "325.0"
        ],
        [
         "('Arandano', 5)",
         "192.5"
        ],
        [
         "('Arandano', 6)",
         "303.75"
        ],
        [
         "('Arandano', 7)",
         "505.0"
        ],
        [
         "('Arandano', 8)",
         "375.0"
        ],
        [
         "('Arandano', 9)",
         "548.75"
        ],
        [
         "('Arandano', 10)",
         "398.75"
        ],
        [
         "('Arandano', 11)",
         "517.5"
        ],
        [
         "('Arandano', 12)",
         "492.5"
        ],
        [
         "('Cereza', 1)",
         "390.0"
        ],
        [
         "('Cereza', 2)",
         "570.0"
        ],
        [
         "('Cereza', 3)",
         "296.25"
        ],
        [
         "('Cereza', 4)",
         "472.5"
        ],
        [
         "('Cereza', 5)",
         "358.75"
        ],
        [
         "('Cereza', 6)",
         "403.75"
        ],
        [
         "('Cereza', 7)",
         "528.75"
        ],
        [
         "('Cereza', 8)",
         "273.75"
        ],
        [
         "('Cereza', 9)",
         "271.25"
        ],
        [
         "('Cereza', 10)",
         "222.5"
        ],
        [
         "('Cereza', 11)",
         "582.5"
        ],
        [
         "('Cereza', 12)",
         "366.25"
        ],
        [
         "('Frambuesa', 1)",
         "248.75"
        ],
        [
         "('Frambuesa', 2)",
         "300.0"
        ],
        [
         "('Frambuesa', 3)",
         "357.5"
        ],
        [
         "('Frambuesa', 4)",
         "158.75"
        ],
        [
         "('Frambuesa', 5)",
         "220.0"
        ],
        [
         "('Frambuesa', 6)",
         "362.5"
        ],
        [
         "('Frambuesa', 7)",
         "461.25"
        ],
        [
         "('Frambuesa', 8)",
         "417.5"
        ],
        [
         "('Frambuesa', 9)",
         "311.25"
        ],
        [
         "('Frambuesa', 10)",
         "363.75"
        ],
        [
         "('Frambuesa', 11)",
         "388.75"
        ],
        [
         "('Frambuesa', 12)",
         "502.5"
        ],
        [
         "('Fresa', 1)",
         "413.75"
        ],
        [
         "('Fresa', 2)",
         "315.0"
        ]
       ],
       "shape": {
        "columns": 1,
        "rows": 72
       }
      },
      "text/html": [
       "<div>\n",
       "<style scoped>\n",
       "    .dataframe tbody tr th:only-of-type {\n",
       "        vertical-align: middle;\n",
       "    }\n",
       "\n",
       "    .dataframe tbody tr th {\n",
       "        vertical-align: top;\n",
       "    }\n",
       "\n",
       "    .dataframe thead th {\n",
       "        text-align: right;\n",
       "    }\n",
       "</style>\n",
       "<table border=\"1\" class=\"dataframe\">\n",
       "  <thead>\n",
       "    <tr style=\"text-align: right;\">\n",
       "      <th></th>\n",
       "      <th></th>\n",
       "      <th>Excelente</th>\n",
       "    </tr>\n",
       "    <tr>\n",
       "      <th>Fruta</th>\n",
       "      <th>Mes</th>\n",
       "      <th></th>\n",
       "    </tr>\n",
       "  </thead>\n",
       "  <tbody>\n",
       "    <tr>\n",
       "      <th rowspan=\"5\" valign=\"top\">Aguacate</th>\n",
       "      <th>1</th>\n",
       "      <td>412.50</td>\n",
       "    </tr>\n",
       "    <tr>\n",
       "      <th>2</th>\n",
       "      <td>378.75</td>\n",
       "    </tr>\n",
       "    <tr>\n",
       "      <th>3</th>\n",
       "      <td>386.25</td>\n",
       "    </tr>\n",
       "    <tr>\n",
       "      <th>4</th>\n",
       "      <td>570.00</td>\n",
       "    </tr>\n",
       "    <tr>\n",
       "      <th>5</th>\n",
       "      <td>645.00</td>\n",
       "    </tr>\n",
       "    <tr>\n",
       "      <th>...</th>\n",
       "      <th>...</th>\n",
       "      <td>...</td>\n",
       "    </tr>\n",
       "    <tr>\n",
       "      <th rowspan=\"5\" valign=\"top\">Uva</th>\n",
       "      <th>8</th>\n",
       "      <td>550.00</td>\n",
       "    </tr>\n",
       "    <tr>\n",
       "      <th>9</th>\n",
       "      <td>398.75</td>\n",
       "    </tr>\n",
       "    <tr>\n",
       "      <th>10</th>\n",
       "      <td>437.50</td>\n",
       "    </tr>\n",
       "    <tr>\n",
       "      <th>11</th>\n",
       "      <td>476.25</td>\n",
       "    </tr>\n",
       "    <tr>\n",
       "      <th>12</th>\n",
       "      <td>373.75</td>\n",
       "    </tr>\n",
       "  </tbody>\n",
       "</table>\n",
       "<p>72 rows × 1 columns</p>\n",
       "</div>"
      ],
      "text/plain": [
       "              Excelente\n",
       "Fruta    Mes           \n",
       "Aguacate 1       412.50\n",
       "         2       378.75\n",
       "         3       386.25\n",
       "         4       570.00\n",
       "         5       645.00\n",
       "...                 ...\n",
       "Uva      8       550.00\n",
       "         9       398.75\n",
       "         10      437.50\n",
       "         11      476.25\n",
       "         12      373.75\n",
       "\n",
       "[72 rows x 1 columns]"
      ]
     },
     "execution_count": 35,
     "metadata": {},
     "output_type": "execute_result"
    }
   ],
   "source": [
    "recoleccion.groupby([\"Fruta\",\"Mes\"]).agg({\"Excelente\":\"mean\"})"
   ]
  },
  {
   "cell_type": "markdown",
   "id": "15906887-a17d-42ea-bc2e-9ad077f839c1",
   "metadata": {},
   "source": [
    "__Ejercicio 10:__"
   ]
  },
  {
   "cell_type": "markdown",
   "id": "708725bd-36f4-4ee9-9349-ff0e388f99e4",
   "metadata": {},
   "source": [
    "Utilizar groupby para obtener la cantidad minima y maxima de fruta recogida en un mes"
   ]
  },
  {
   "cell_type": "code",
   "execution_count": 37,
   "id": "ab1b2cb4-440e-4252-b3c9-d3d4330c1907",
   "metadata": {},
   "outputs": [
    {
     "data": {
      "application/vnd.microsoft.datawrangler.viewer.v0+json": {
       "columns": [
        {
         "name": "('Mes', 'Fruta')",
         "rawType": "object",
         "type": "unknown"
        },
        {
         "name": "('Año', 'max')",
         "rawType": "int64",
         "type": "integer"
        },
        {
         "name": "('Año', 'min')",
         "rawType": "int64",
         "type": "integer"
        },
        {
         "name": "('Kg', 'max')",
         "rawType": "int64",
         "type": "integer"
        },
        {
         "name": "('Kg', 'min')",
         "rawType": "int64",
         "type": "integer"
        },
        {
         "name": "('Excelente', 'max')",
         "rawType": "int64",
         "type": "integer"
        },
        {
         "name": "('Excelente', 'min')",
         "rawType": "int64",
         "type": "integer"
        },
        {
         "name": "('Aceptable', 'max')",
         "rawType": "float64",
         "type": "float"
        },
        {
         "name": "('Aceptable', 'min')",
         "rawType": "float64",
         "type": "float"
        },
        {
         "name": "('Inapropiada', 'max')",
         "rawType": "float64",
         "type": "float"
        },
        {
         "name": "('Inapropiada', 'min')",
         "rawType": "float64",
         "type": "float"
        },
        {
         "name": "('Toneladas', 'max')",
         "rawType": "float64",
         "type": "float"
        },
        {
         "name": "('Toneladas', 'min')",
         "rawType": "float64",
         "type": "float"
        },
        {
         "name": "('Toneladas_Excelentes', 'max')",
         "rawType": "float64",
         "type": "float"
        },
        {
         "name": "('Toneladas_Excelentes', 'min')",
         "rawType": "float64",
         "type": "float"
        }
       ],
       "ref": "df9b3ff0-690c-4b54-b9d1-a741e6f48dc0",
       "rows": [
        [
         "(1, 'Aguacate')",
         "2021",
         "2018",
         "1500",
         "900",
         "620",
         "260",
         "928.0",
         "550.0",
         "112.0",
         "70.0",
         "1.5",
         "0.9",
         "0.62",
         "0.26"
        ],
        [
         "(1, 'Arandano')",
         "2021",
         "2018",
         "1600",
         "900",
         "600",
         "320",
         "872.0",
         "440.0",
         "408.0",
         "70.0",
         "1.6",
         "0.9",
         "0.6",
         "0.32"
        ],
        [
         "(1, 'Cereza')",
         "2021",
         "2018",
         "1550",
         "1000",
         "475",
         "300",
         "728.5",
         "613.0",
         "512.0",
         "77.0",
         "1.55",
         "1.0",
         "0.475",
         "0.3"
        ],
        [
         "(1, 'Frambuesa')",
         "2021",
         "2018",
         "1350",
         "1050",
         "385",
         "100",
         "856.0",
         "676.0",
         "232.0",
         "104.0",
         "1.35",
         "1.05",
         "0.385",
         "0.1"
        ],
        [
         "(1, 'Fresa')",
         "2021",
         "2018",
         "1750",
         "1000",
         "700",
         "110",
         "1085.5",
         "613.0",
         "129.5",
         "40.0",
         "1.75",
         "1.0",
         "0.7",
         "0.11"
        ],
        [
         "(1, 'Uva')",
         "2021",
         "2018",
         "1700",
         "900",
         "700",
         "95",
         "1022.5",
         "568.0",
         "472.5",
         "104.0",
         "1.7",
         "0.9",
         "0.7",
         "0.095"
        ],
        [
         "(2, 'Aguacate')",
         "2021",
         "2018",
         "1750",
         "900",
         "535",
         "125",
         "1085.5",
         "664.0",
         "408.0",
         "111.0",
         "1.75",
         "0.9",
         "0.535",
         "0.125"
        ],
        [
         "(2, 'Arandano')",
         "2021",
         "2018",
         "1700",
         "850",
         "700",
         "80",
         "784.0",
         "424.0",
         "336.0",
         "216.0",
         "1.7",
         "0.85",
         "0.7",
         "0.08"
        ],
        [
         "(2, 'Cereza')",
         "2021",
         "2018",
         "1900",
         "1350",
         "780",
         "340",
         "1000.0",
         "730.0",
         "420.0",
         "90.0",
         "1.9",
         "1.35",
         "0.78",
         "0.34"
        ],
        [
         "(2, 'Frambuesa')",
         "2021",
         "2018",
         "1350",
         "900",
         "480",
         "115",
         "649.0",
         "370.0",
         "336.0",
         "136.0",
         "1.35",
         "0.9",
         "0.48",
         "0.115"
        ],
        [
         "(2, 'Fresa')",
         "2021",
         "2018",
         "1450",
         "1150",
         "490",
         "125",
         "912.0",
         "532.5",
         "391.5",
         "69.0",
         "1.45",
         "1.15",
         "0.49",
         "0.125"
        ],
        [
         "(2, 'Uva')",
         "2021",
         "2018",
         "1900",
         "1100",
         "340",
         "180",
         "1216.0",
         "688.0",
         "540.0",
         "138.0",
         "1.9",
         "1.1",
         "0.34",
         "0.18"
        ],
        [
         "(3, 'Aguacate')",
         "2021",
         "2018",
         "1750",
         "900",
         "535",
         "280",
         "956.0",
         "410.0",
         "420.0",
         "210.0",
         "1.75",
         "0.9",
         "0.535",
         "0.28"
        ],
        [
         "(3, 'Arandano')",
         "2021",
         "2018",
         "1750",
         "1050",
         "600",
         "155",
         "1022.5",
         "571.0",
         "472.5",
         "118.0",
         "1.75",
         "1.05",
         "0.6",
         "0.155"
        ],
        [
         "(3, 'Cereza')",
         "2021",
         "2018",
         "1650",
         "1300",
         "490",
         "155",
         "1022.5",
         "592.0",
         "472.5",
         "188.0",
         "1.65",
         "1.3",
         "0.49",
         "0.155"
        ],
        [
         "(3, 'Frambuesa')",
         "2021",
         "2018",
         "1850",
         "1350",
         "565",
         "155",
         "1180.0",
         "550.0",
         "370.0",
         "120.0",
         "1.85",
         "1.35",
         "0.565",
         "0.155"
        ],
        [
         "(3, 'Fresa')",
         "2021",
         "2018",
         "1600",
         "900",
         "660",
         "180",
         "640.0",
         "361.0",
         "406.0",
         "80.0",
         "1.6",
         "0.9",
         "0.66",
         "0.18"
        ],
        [
         "(3, 'Uva')",
         "2021",
         "2018",
         "1850",
         "1400",
         "760",
         "280",
         "1324.0",
         "739.0",
         "351.0",
         "120.0",
         "1.85",
         "1.4",
         "0.76",
         "0.28"
        ],
        [
         "(4, 'Aguacate')",
         "2021",
         "2018",
         "1800",
         "1200",
         "740",
         "370",
         "946.0",
         "739.0",
         "238.0",
         "91.0",
         "1.8",
         "1.2",
         "0.74",
         "0.37"
        ],
        [
         "(4, 'Arandano')",
         "2021",
         "2018",
         "1450",
         "950",
         "600",
         "125",
         "880.0",
         "434.5",
         "522.0",
         "186.0",
         "1.45",
         "0.95",
         "0.6",
         "0.125"
        ],
        [
         "(4, 'Cereza')",
         "2021",
         "2018",
         "1850",
         "1050",
         "580",
         "370",
         "1168.0",
         "466.0",
         "312.0",
         "69.0",
         "1.85",
         "1.05",
         "0.58",
         "0.37"
        ],
        [
         "(4, 'Frambuesa')",
         "2021",
         "2018",
         "1450",
         "1100",
         "290",
         "100",
         "1175.5",
         "739.0",
         "372.0",
         "139.5",
         "1.45",
         "1.1",
         "0.29",
         "0.1"
        ],
        [
         "(4, 'Fresa')",
         "2021",
         "2018",
         "1750",
         "1100",
         "350",
         "150",
         "1216.0",
         "592.0",
         "612.0",
         "288.0",
         "1.75",
         "1.1",
         "0.35",
         "0.15"
        ],
        [
         "(4, 'Uva')",
         "2021",
         "2018",
         "1500",
         "1050",
         "325",
         "135",
         "1072.0",
         "644.5",
         "558.0",
         "80.5",
         "1.5",
         "1.05",
         "0.325",
         "0.135"
        ],
        [
         "(5, 'Aguacate')",
         "2021",
         "2018",
         "1900",
         "1700",
         "780",
         "340",
         "1216.0",
         "640.0",
         "480.0",
         "114.0",
         "1.9",
         "1.7",
         "0.78",
         "0.34"
        ],
        [
         "(5, 'Arandano')",
         "2021",
         "2018",
         "1850",
         "1450",
         "320",
         "135",
         "1324.0",
         "736.0",
         "544.0",
         "279.0",
         "1.85",
         "1.45",
         "0.32",
         "0.135"
        ],
        [
         "(5, 'Cereza')",
         "2021",
         "2018",
         "1650",
         "1050",
         "640",
         "95",
         "900.0",
         "648.0",
         "420.0",
         "99.0",
         "1.65",
         "1.05",
         "0.64",
         "0.095"
        ],
        [
         "(5, 'Frambuesa')",
         "2021",
         "2018",
         "1850",
         "1150",
         "370",
         "120",
         "1216.0",
         "820.0",
         "324.0",
         "100.0",
         "1.85",
         "1.15",
         "0.37",
         "0.12"
        ],
        [
         "(5, 'Fresa')",
         "2021",
         "2018",
         "1700",
         "1050",
         "520",
         "310",
         "1054.0",
         "557.0",
         "528.0",
         "80.5",
         "1.7",
         "1.05",
         "0.52",
         "0.31"
        ],
        [
         "(5, 'Uva')",
         "2021",
         "2018",
         "1800",
         "1000",
         "540",
         "170",
         "1288.0",
         "448.0",
         "342.0",
         "87.5",
         "1.8",
         "1.0",
         "0.54",
         "0.17"
        ],
        [
         "(6, 'Aguacate')",
         "2021",
         "2018",
         "1900",
         "950",
         "400",
         "95",
         "1200.0",
         "424.0",
         "499.5",
         "126.0",
         "1.9",
         "0.95",
         "0.4",
         "0.095"
        ],
        [
         "(6, 'Arandano')",
         "2021",
         "2018",
         "1750",
         "1000",
         "720",
         "130",
         "1085.5",
         "536.0",
         "499.5",
         "264.0",
         "1.75",
         "1.0",
         "0.72",
         "0.13"
        ],
        [
         "(6, 'Cereza')",
         "2021",
         "2018",
         "1400",
         "950",
         "520",
         "295",
         "760.0",
         "361.0",
         "324.0",
         "91.0",
         "1.4",
         "0.95",
         "0.52",
         "0.295"
        ],
        [
         "(6, 'Frambuesa')",
         "2021",
         "2018",
         "1400",
         "1100",
         "520",
         "130",
         "1000.0",
         "496.0",
         "270.0",
         "144.0",
         "1.4",
         "1.1",
         "0.52",
         "0.13"
        ],
        [
         "(6, 'Fresa')",
         "2021",
         "2018",
         "1700",
         "900",
         "520",
         "85",
         "1054.0",
         "280.0",
         "576.0",
         "126.0",
         "1.7",
         "0.9",
         "0.52",
         "0.085"
        ],
        [
         "(6, 'Uva')",
         "2021",
         "2018",
         "1700",
         "900",
         "540",
         "80",
         "1216.0",
         "424.0",
         "336.0",
         "180.0",
         "1.7",
         "0.9",
         "0.54",
         "0.08"
        ],
        [
         "(7, 'Aguacate')",
         "2021",
         "2018",
         "1900",
         "1550",
         "600",
         "330",
         "1088.0",
         "602.0",
         "496.0",
         "348.0",
         "1.9",
         "1.55",
         "0.6",
         "0.33"
        ],
        [
         "(7, 'Arandano')",
         "2021",
         "2018",
         "2100",
         "1550",
         "740",
         "310",
         "1136.0",
         "920.0",
         "560.0",
         "116.0",
         "2.1",
         "1.55",
         "0.74",
         "0.31"
        ],
        [
         "(7, 'Cereza')",
         "2021",
         "2018",
         "1900",
         "1250",
         "740",
         "290",
         "1052.0",
         "563.0",
         "324.0",
         "105.0",
         "1.9",
         "1.25",
         "0.74",
         "0.29"
        ],
        [
         "(7, 'Frambuesa')",
         "2021",
         "2018",
         "1600",
         "1200",
         "620",
         "165",
         "993.5",
         "608.0",
         "391.5",
         "90.0",
         "1.6",
         "1.2",
         "0.62",
         "0.165"
        ],
        [
         "(7, 'Fresa')",
         "2021",
         "2018",
         "2000",
         "1200",
         "590",
         "425",
         "1011.0",
         "674.0",
         "504.0",
         "66.0",
         "2.0",
         "1.2",
         "0.59",
         "0.425"
        ],
        [
         "(7, 'Uva')",
         "2021",
         "2018",
         "2000",
         "1100",
         "780",
         "120",
         "878.0",
         "696.0",
         "342.0",
         "180.0",
         "2.0",
         "1.1",
         "0.78",
         "0.12"
        ],
        [
         "(8, 'Aguacate')",
         "2021",
         "2018",
         "1950",
         "1100",
         "760",
         "200",
         "1214.0",
         "720.0",
         "528.0",
         "160.0",
         "1.95",
         "1.1",
         "0.76",
         "0.2"
        ],
        [
         "(8, 'Arandano')",
         "2021",
         "2018",
         "2100",
         "1100",
         "620",
         "120",
         "1060.0",
         "620.0",
         "608.0",
         "360.0",
         "2.1",
         "1.1",
         "0.62",
         "0.12"
        ],
        [
         "(8, 'Cereza')",
         "2021",
         "2018",
         "2100",
         "1550",
         "455",
         "210",
         "1448.0",
         "892.0",
         "540.0",
         "203.0",
         "2.1",
         "1.55",
         "0.455",
         "0.21"
        ],
        [
         "(8, 'Frambuesa')",
         "2021",
         "2018",
         "2100",
         "1400",
         "620",
         "280",
         "1200.0",
         "704.0",
         "576.0",
         "280.0",
         "2.1",
         "1.4",
         "0.62",
         "0.28"
        ],
        [
         "(8, 'Fresa')",
         "2021",
         "2018",
         "1800",
         "1500",
         "600",
         "160",
         "1457.0",
         "776.0",
         "232.0",
         "126.0",
         "1.8",
         "1.5",
         "0.6",
         "0.16"
        ],
        [
         "(8, 'Uva')",
         "2021",
         "2018",
         "2050",
         "1150",
         "800",
         "335",
         "1016.0",
         "521.0",
         "546.0",
         "66.0",
         "2.05",
         "1.15",
         "0.8",
         "0.335"
        ],
        [
         "(9, 'Aguacate')",
         "2021",
         "2018",
         "2100",
         "1100",
         "420",
         "135",
         "1520.0",
         "560.0",
         "432.0",
         "120.0",
         "2.1",
         "1.1",
         "0.42",
         "0.135"
        ],
        [
         "(9, 'Arandano')",
         "2021",
         "2018",
         "1850",
         "1550",
         "680",
         "310",
         "1008.0",
         "674.0",
         "490.0",
         "96.0",
         "1.85",
         "1.55",
         "0.68",
         "0.31"
        ]
       ],
       "shape": {
        "columns": 14,
        "rows": 72
       }
      },
      "text/html": [
       "<div>\n",
       "<style scoped>\n",
       "    .dataframe tbody tr th:only-of-type {\n",
       "        vertical-align: middle;\n",
       "    }\n",
       "\n",
       "    .dataframe tbody tr th {\n",
       "        vertical-align: top;\n",
       "    }\n",
       "\n",
       "    .dataframe thead tr th {\n",
       "        text-align: left;\n",
       "    }\n",
       "\n",
       "    .dataframe thead tr:last-of-type th {\n",
       "        text-align: right;\n",
       "    }\n",
       "</style>\n",
       "<table border=\"1\" class=\"dataframe\">\n",
       "  <thead>\n",
       "    <tr>\n",
       "      <th></th>\n",
       "      <th></th>\n",
       "      <th colspan=\"2\" halign=\"left\">Año</th>\n",
       "      <th colspan=\"2\" halign=\"left\">Kg</th>\n",
       "      <th colspan=\"2\" halign=\"left\">Excelente</th>\n",
       "      <th colspan=\"2\" halign=\"left\">Aceptable</th>\n",
       "      <th colspan=\"2\" halign=\"left\">Inapropiada</th>\n",
       "      <th colspan=\"2\" halign=\"left\">Toneladas</th>\n",
       "      <th colspan=\"2\" halign=\"left\">Toneladas_Excelentes</th>\n",
       "    </tr>\n",
       "    <tr>\n",
       "      <th></th>\n",
       "      <th></th>\n",
       "      <th>max</th>\n",
       "      <th>min</th>\n",
       "      <th>max</th>\n",
       "      <th>min</th>\n",
       "      <th>max</th>\n",
       "      <th>min</th>\n",
       "      <th>max</th>\n",
       "      <th>min</th>\n",
       "      <th>max</th>\n",
       "      <th>min</th>\n",
       "      <th>max</th>\n",
       "      <th>min</th>\n",
       "      <th>max</th>\n",
       "      <th>min</th>\n",
       "    </tr>\n",
       "    <tr>\n",
       "      <th>Mes</th>\n",
       "      <th>Fruta</th>\n",
       "      <th></th>\n",
       "      <th></th>\n",
       "      <th></th>\n",
       "      <th></th>\n",
       "      <th></th>\n",
       "      <th></th>\n",
       "      <th></th>\n",
       "      <th></th>\n",
       "      <th></th>\n",
       "      <th></th>\n",
       "      <th></th>\n",
       "      <th></th>\n",
       "      <th></th>\n",
       "      <th></th>\n",
       "    </tr>\n",
       "  </thead>\n",
       "  <tbody>\n",
       "    <tr>\n",
       "      <th rowspan=\"5\" valign=\"top\">1</th>\n",
       "      <th>Aguacate</th>\n",
       "      <td>2021</td>\n",
       "      <td>2018</td>\n",
       "      <td>1500</td>\n",
       "      <td>900</td>\n",
       "      <td>620</td>\n",
       "      <td>260</td>\n",
       "      <td>928.0</td>\n",
       "      <td>550.0</td>\n",
       "      <td>112.0</td>\n",
       "      <td>70.0</td>\n",
       "      <td>1.50</td>\n",
       "      <td>0.90</td>\n",
       "      <td>0.620</td>\n",
       "      <td>0.260</td>\n",
       "    </tr>\n",
       "    <tr>\n",
       "      <th>Arandano</th>\n",
       "      <td>2021</td>\n",
       "      <td>2018</td>\n",
       "      <td>1600</td>\n",
       "      <td>900</td>\n",
       "      <td>600</td>\n",
       "      <td>320</td>\n",
       "      <td>872.0</td>\n",
       "      <td>440.0</td>\n",
       "      <td>408.0</td>\n",
       "      <td>70.0</td>\n",
       "      <td>1.60</td>\n",
       "      <td>0.90</td>\n",
       "      <td>0.600</td>\n",
       "      <td>0.320</td>\n",
       "    </tr>\n",
       "    <tr>\n",
       "      <th>Cereza</th>\n",
       "      <td>2021</td>\n",
       "      <td>2018</td>\n",
       "      <td>1550</td>\n",
       "      <td>1000</td>\n",
       "      <td>475</td>\n",
       "      <td>300</td>\n",
       "      <td>728.5</td>\n",
       "      <td>613.0</td>\n",
       "      <td>512.0</td>\n",
       "      <td>77.0</td>\n",
       "      <td>1.55</td>\n",
       "      <td>1.00</td>\n",
       "      <td>0.475</td>\n",
       "      <td>0.300</td>\n",
       "    </tr>\n",
       "    <tr>\n",
       "      <th>Frambuesa</th>\n",
       "      <td>2021</td>\n",
       "      <td>2018</td>\n",
       "      <td>1350</td>\n",
       "      <td>1050</td>\n",
       "      <td>385</td>\n",
       "      <td>100</td>\n",
       "      <td>856.0</td>\n",
       "      <td>676.0</td>\n",
       "      <td>232.0</td>\n",
       "      <td>104.0</td>\n",
       "      <td>1.35</td>\n",
       "      <td>1.05</td>\n",
       "      <td>0.385</td>\n",
       "      <td>0.100</td>\n",
       "    </tr>\n",
       "    <tr>\n",
       "      <th>Fresa</th>\n",
       "      <td>2021</td>\n",
       "      <td>2018</td>\n",
       "      <td>1750</td>\n",
       "      <td>1000</td>\n",
       "      <td>700</td>\n",
       "      <td>110</td>\n",
       "      <td>1085.5</td>\n",
       "      <td>613.0</td>\n",
       "      <td>129.5</td>\n",
       "      <td>40.0</td>\n",
       "      <td>1.75</td>\n",
       "      <td>1.00</td>\n",
       "      <td>0.700</td>\n",
       "      <td>0.110</td>\n",
       "    </tr>\n",
       "    <tr>\n",
       "      <th>...</th>\n",
       "      <th>...</th>\n",
       "      <td>...</td>\n",
       "      <td>...</td>\n",
       "      <td>...</td>\n",
       "      <td>...</td>\n",
       "      <td>...</td>\n",
       "      <td>...</td>\n",
       "      <td>...</td>\n",
       "      <td>...</td>\n",
       "      <td>...</td>\n",
       "      <td>...</td>\n",
       "      <td>...</td>\n",
       "      <td>...</td>\n",
       "      <td>...</td>\n",
       "      <td>...</td>\n",
       "    </tr>\n",
       "    <tr>\n",
       "      <th rowspan=\"5\" valign=\"top\">12</th>\n",
       "      <th>Arandano</th>\n",
       "      <td>2021</td>\n",
       "      <td>2018</td>\n",
       "      <td>2000</td>\n",
       "      <td>1750</td>\n",
       "      <td>720</td>\n",
       "      <td>210</td>\n",
       "      <td>1106.0</td>\n",
       "      <td>872.0</td>\n",
       "      <td>684.0</td>\n",
       "      <td>198.0</td>\n",
       "      <td>2.00</td>\n",
       "      <td>1.75</td>\n",
       "      <td>0.720</td>\n",
       "      <td>0.210</td>\n",
       "    </tr>\n",
       "    <tr>\n",
       "      <th>Cereza</th>\n",
       "      <td>2021</td>\n",
       "      <td>2018</td>\n",
       "      <td>2100</td>\n",
       "      <td>1600</td>\n",
       "      <td>620</td>\n",
       "      <td>175</td>\n",
       "      <td>1335.5</td>\n",
       "      <td>800.0</td>\n",
       "      <td>480.0</td>\n",
       "      <td>139.5</td>\n",
       "      <td>2.10</td>\n",
       "      <td>1.60</td>\n",
       "      <td>0.620</td>\n",
       "      <td>0.175</td>\n",
       "    </tr>\n",
       "    <tr>\n",
       "      <th>Frambuesa</th>\n",
       "      <td>2021</td>\n",
       "      <td>2018</td>\n",
       "      <td>2100</td>\n",
       "      <td>1100</td>\n",
       "      <td>820</td>\n",
       "      <td>320</td>\n",
       "      <td>1040.0</td>\n",
       "      <td>640.0</td>\n",
       "      <td>496.0</td>\n",
       "      <td>78.0</td>\n",
       "      <td>2.10</td>\n",
       "      <td>1.10</td>\n",
       "      <td>0.820</td>\n",
       "      <td>0.320</td>\n",
       "    </tr>\n",
       "    <tr>\n",
       "      <th>Fresa</th>\n",
       "      <td>2021</td>\n",
       "      <td>2018</td>\n",
       "      <td>2000</td>\n",
       "      <td>1100</td>\n",
       "      <td>400</td>\n",
       "      <td>120</td>\n",
       "      <td>1448.0</td>\n",
       "      <td>584.0</td>\n",
       "      <td>464.0</td>\n",
       "      <td>90.0</td>\n",
       "      <td>2.00</td>\n",
       "      <td>1.10</td>\n",
       "      <td>0.400</td>\n",
       "      <td>0.120</td>\n",
       "    </tr>\n",
       "    <tr>\n",
       "      <th>Uva</th>\n",
       "      <td>2021</td>\n",
       "      <td>2018</td>\n",
       "      <td>1650</td>\n",
       "      <td>1300</td>\n",
       "      <td>600</td>\n",
       "      <td>150</td>\n",
       "      <td>1016.0</td>\n",
       "      <td>602.0</td>\n",
       "      <td>348.0</td>\n",
       "      <td>192.0</td>\n",
       "      <td>1.65</td>\n",
       "      <td>1.30</td>\n",
       "      <td>0.600</td>\n",
       "      <td>0.150</td>\n",
       "    </tr>\n",
       "  </tbody>\n",
       "</table>\n",
       "<p>72 rows × 14 columns</p>\n",
       "</div>"
      ],
      "text/plain": [
       "                Año          Kg       Excelente      Aceptable         \\\n",
       "                max   min   max   min       max  min       max    min   \n",
       "Mes Fruta                                                               \n",
       "1   Aguacate   2021  2018  1500   900       620  260     928.0  550.0   \n",
       "    Arandano   2021  2018  1600   900       600  320     872.0  440.0   \n",
       "    Cereza     2021  2018  1550  1000       475  300     728.5  613.0   \n",
       "    Frambuesa  2021  2018  1350  1050       385  100     856.0  676.0   \n",
       "    Fresa      2021  2018  1750  1000       700  110    1085.5  613.0   \n",
       "...             ...   ...   ...   ...       ...  ...       ...    ...   \n",
       "12  Arandano   2021  2018  2000  1750       720  210    1106.0  872.0   \n",
       "    Cereza     2021  2018  2100  1600       620  175    1335.5  800.0   \n",
       "    Frambuesa  2021  2018  2100  1100       820  320    1040.0  640.0   \n",
       "    Fresa      2021  2018  2000  1100       400  120    1448.0  584.0   \n",
       "    Uva        2021  2018  1650  1300       600  150    1016.0  602.0   \n",
       "\n",
       "              Inapropiada        Toneladas       Toneladas_Excelentes         \n",
       "                      max    min       max   min                  max    min  \n",
       "Mes Fruta                                                                     \n",
       "1   Aguacate        112.0   70.0      1.50  0.90                0.620  0.260  \n",
       "    Arandano        408.0   70.0      1.60  0.90                0.600  0.320  \n",
       "    Cereza          512.0   77.0      1.55  1.00                0.475  0.300  \n",
       "    Frambuesa       232.0  104.0      1.35  1.05                0.385  0.100  \n",
       "    Fresa           129.5   40.0      1.75  1.00                0.700  0.110  \n",
       "...                   ...    ...       ...   ...                  ...    ...  \n",
       "12  Arandano        684.0  198.0      2.00  1.75                0.720  0.210  \n",
       "    Cereza          480.0  139.5      2.10  1.60                0.620  0.175  \n",
       "    Frambuesa       496.0   78.0      2.10  1.10                0.820  0.320  \n",
       "    Fresa           464.0   90.0      2.00  1.10                0.400  0.120  \n",
       "    Uva             348.0  192.0      1.65  1.30                0.600  0.150  \n",
       "\n",
       "[72 rows x 14 columns]"
      ]
     },
     "execution_count": 37,
     "metadata": {},
     "output_type": "execute_result"
    }
   ],
   "source": [
    "recoleccion.groupby([\"Mes\",\"Fruta\"]).agg([\"max\",\"min\"])"
   ]
  },
  {
   "cell_type": "markdown",
   "id": "5c6e9057-6917-4df9-84a6-4bc7c431d51d",
   "metadata": {},
   "source": [
    "__Ejercicio 11:__"
   ]
  },
  {
   "cell_type": "markdown",
   "id": "42598bb1-6802-469b-a796-d74a8c258381",
   "metadata": {},
   "source": [
    "Utilizar pivot_table para obtener el valor promedio en todas las columnas de cada Año"
   ]
  },
  {
   "cell_type": "code",
   "execution_count": 38,
   "id": "1519326e-c366-4a4a-9bf7-e3e701f71a53",
   "metadata": {},
   "outputs": [
    {
     "data": {
      "application/vnd.microsoft.datawrangler.viewer.v0+json": {
       "columns": [
        {
         "name": "Año",
         "rawType": "int64",
         "type": "integer"
        },
        {
         "name": "Aceptable",
         "rawType": "float64",
         "type": "float"
        },
        {
         "name": "Año",
         "rawType": "float64",
         "type": "float"
        },
        {
         "name": "Excelente",
         "rawType": "float64",
         "type": "float"
        },
        {
         "name": "Inapropiada",
         "rawType": "float64",
         "type": "float"
        },
        {
         "name": "Kg",
         "rawType": "float64",
         "type": "float"
        },
        {
         "name": "Mes",
         "rawType": "float64",
         "type": "float"
        },
        {
         "name": "Toneladas",
         "rawType": "float64",
         "type": "float"
        },
        {
         "name": "Toneladas_Excelentes",
         "rawType": "float64",
         "type": "float"
        }
       ],
       "ref": "b7c7adb8-7351-48d0-b181-2ff0c6fe20ae",
       "rows": [
        [
         "2018",
         "826.4930555555555",
         "2018.0",
         "385.625",
         "245.52083333333334",
         "1457.638888888889",
         "6.5",
         "1.457638888888889",
         "0.385625"
        ],
        [
         "2019",
         "906.3541666666666",
         "2019.0",
         "391.18055555555554",
         "265.65972222222223",
         "1563.1944444444443",
         "6.5",
         "1.5631944444444443",
         "0.39118055555555553"
        ],
        [
         "2020",
         "845.1736111111111",
         "2020.0",
         "354.7916666666667",
         "266.7013888888889",
         "1466.6666666666667",
         "6.5",
         "1.4666666666666666",
         "0.35479166666666667"
        ],
        [
         "2021",
         "826.2986111111111",
         "2021.0",
         "397.3611111111111",
         "296.4791666666667",
         "1520.138888888889",
         "6.5",
         "1.520138888888889",
         "0.3973611111111111"
        ]
       ],
       "shape": {
        "columns": 8,
        "rows": 4
       }
      },
      "text/html": [
       "<div>\n",
       "<style scoped>\n",
       "    .dataframe tbody tr th:only-of-type {\n",
       "        vertical-align: middle;\n",
       "    }\n",
       "\n",
       "    .dataframe tbody tr th {\n",
       "        vertical-align: top;\n",
       "    }\n",
       "\n",
       "    .dataframe thead th {\n",
       "        text-align: right;\n",
       "    }\n",
       "</style>\n",
       "<table border=\"1\" class=\"dataframe\">\n",
       "  <thead>\n",
       "    <tr style=\"text-align: right;\">\n",
       "      <th></th>\n",
       "      <th>Aceptable</th>\n",
       "      <th>Año</th>\n",
       "      <th>Excelente</th>\n",
       "      <th>Inapropiada</th>\n",
       "      <th>Kg</th>\n",
       "      <th>Mes</th>\n",
       "      <th>Toneladas</th>\n",
       "      <th>Toneladas_Excelentes</th>\n",
       "    </tr>\n",
       "    <tr>\n",
       "      <th>Año</th>\n",
       "      <th></th>\n",
       "      <th></th>\n",
       "      <th></th>\n",
       "      <th></th>\n",
       "      <th></th>\n",
       "      <th></th>\n",
       "      <th></th>\n",
       "      <th></th>\n",
       "    </tr>\n",
       "  </thead>\n",
       "  <tbody>\n",
       "    <tr>\n",
       "      <th>2018</th>\n",
       "      <td>826.493056</td>\n",
       "      <td>2018.0</td>\n",
       "      <td>385.625000</td>\n",
       "      <td>245.520833</td>\n",
       "      <td>1457.638889</td>\n",
       "      <td>6.5</td>\n",
       "      <td>1.457639</td>\n",
       "      <td>0.385625</td>\n",
       "    </tr>\n",
       "    <tr>\n",
       "      <th>2019</th>\n",
       "      <td>906.354167</td>\n",
       "      <td>2019.0</td>\n",
       "      <td>391.180556</td>\n",
       "      <td>265.659722</td>\n",
       "      <td>1563.194444</td>\n",
       "      <td>6.5</td>\n",
       "      <td>1.563194</td>\n",
       "      <td>0.391181</td>\n",
       "    </tr>\n",
       "    <tr>\n",
       "      <th>2020</th>\n",
       "      <td>845.173611</td>\n",
       "      <td>2020.0</td>\n",
       "      <td>354.791667</td>\n",
       "      <td>266.701389</td>\n",
       "      <td>1466.666667</td>\n",
       "      <td>6.5</td>\n",
       "      <td>1.466667</td>\n",
       "      <td>0.354792</td>\n",
       "    </tr>\n",
       "    <tr>\n",
       "      <th>2021</th>\n",
       "      <td>826.298611</td>\n",
       "      <td>2021.0</td>\n",
       "      <td>397.361111</td>\n",
       "      <td>296.479167</td>\n",
       "      <td>1520.138889</td>\n",
       "      <td>6.5</td>\n",
       "      <td>1.520139</td>\n",
       "      <td>0.397361</td>\n",
       "    </tr>\n",
       "  </tbody>\n",
       "</table>\n",
       "</div>"
      ],
      "text/plain": [
       "       Aceptable     Año   Excelente  Inapropiada           Kg  Mes  \\\n",
       "Año                                                                   \n",
       "2018  826.493056  2018.0  385.625000   245.520833  1457.638889  6.5   \n",
       "2019  906.354167  2019.0  391.180556   265.659722  1563.194444  6.5   \n",
       "2020  845.173611  2020.0  354.791667   266.701389  1466.666667  6.5   \n",
       "2021  826.298611  2021.0  397.361111   296.479167  1520.138889  6.5   \n",
       "\n",
       "      Toneladas  Toneladas_Excelentes  \n",
       "Año                                    \n",
       "2018   1.457639              0.385625  \n",
       "2019   1.563194              0.391181  \n",
       "2020   1.466667              0.354792  \n",
       "2021   1.520139              0.397361  "
      ]
     },
     "execution_count": 38,
     "metadata": {},
     "output_type": "execute_result"
    }
   ],
   "source": [
    "pd.pivot_table(recoleccion.select_dtypes(\"number\"),index=recoleccion[\"Año\"],aggfunc=\"mean\")"
   ]
  },
  {
   "cell_type": "code",
   "execution_count": null,
   "id": "fd48a4b5-b74d-4e77-9f0f-2a245b26af60",
   "metadata": {},
   "outputs": [],
   "source": []
  },
  {
   "cell_type": "markdown",
   "id": "fbd7d804-3d62-4cff-8433-06008db05c67",
   "metadata": {},
   "source": [
    "__Ejercicio 12:__"
   ]
  },
  {
   "cell_type": "markdown",
   "id": "44456b1b-c34c-4092-8a17-f6a54212f9c2",
   "metadata": {},
   "source": [
    "Utilizar pivot_table para obtener por cada fruta:\n",
    "   - La cantidad minima recogida en estado Aceptable por cada año\n",
    "   - La cantidad minima recogida en estado Excelente por cada año"
   ]
  },
  {
   "cell_type": "code",
   "execution_count": 39,
   "id": "2f280cf0-87d5-44f5-bbad-1f44019b25ff",
   "metadata": {},
   "outputs": [
    {
     "data": {
      "application/vnd.microsoft.datawrangler.viewer.v0+json": {
       "columns": [
        {
         "name": "Fruta",
         "rawType": "object",
         "type": "string"
        },
        {
         "name": "('Aceptable', 2018)",
         "rawType": "float64",
         "type": "float"
        },
        {
         "name": "('Aceptable', 2019)",
         "rawType": "float64",
         "type": "float"
        },
        {
         "name": "('Aceptable', 2020)",
         "rawType": "float64",
         "type": "float"
        },
        {
         "name": "('Aceptable', 2021)",
         "rawType": "float64",
         "type": "float"
        },
        {
         "name": "('Excelente', 2018)",
         "rawType": "int64",
         "type": "integer"
        },
        {
         "name": "('Excelente', 2019)",
         "rawType": "int64",
         "type": "integer"
        },
        {
         "name": "('Excelente', 2020)",
         "rawType": "int64",
         "type": "integer"
        },
        {
         "name": "('Excelente', 2021)",
         "rawType": "int64",
         "type": "integer"
        }
       ],
       "ref": "6a1e01af-f0ea-4012-abd3-db78a054c4dc",
       "rows": [
        [
         "Aguacate",
         "424.0",
         "739.0",
         "410.0",
         "541.0",
         "125",
         "205",
         "155",
         "95"
        ],
        [
         "Arandano",
         "440.0",
         "676.0",
         "424.0",
         "529.0",
         "80",
         "155",
         "135",
         "120"
        ],
        [
         "Cereza",
         "563.0",
         "361.0",
         "512.0",
         "406.0",
         "95",
         "185",
         "175",
         "135"
        ],
        [
         "Frambuesa",
         "496.0",
         "630.5",
         "424.0",
         "370.0",
         "100",
         "110",
         "120",
         "120"
        ],
        [
         "Fresa",
         "361.0",
         "280.0",
         "500.0",
         "557.0",
         "110",
         "120",
         "85",
         "125"
        ],
        [
         "Uva",
         "448.0",
         "424.0",
         "424.0",
         "568.0",
         "95",
         "120",
         "125",
         "80"
        ]
       ],
       "shape": {
        "columns": 8,
        "rows": 6
       }
      },
      "text/html": [
       "<div>\n",
       "<style scoped>\n",
       "    .dataframe tbody tr th:only-of-type {\n",
       "        vertical-align: middle;\n",
       "    }\n",
       "\n",
       "    .dataframe tbody tr th {\n",
       "        vertical-align: top;\n",
       "    }\n",
       "\n",
       "    .dataframe thead tr th {\n",
       "        text-align: left;\n",
       "    }\n",
       "\n",
       "    .dataframe thead tr:last-of-type th {\n",
       "        text-align: right;\n",
       "    }\n",
       "</style>\n",
       "<table border=\"1\" class=\"dataframe\">\n",
       "  <thead>\n",
       "    <tr>\n",
       "      <th></th>\n",
       "      <th colspan=\"4\" halign=\"left\">Aceptable</th>\n",
       "      <th colspan=\"4\" halign=\"left\">Excelente</th>\n",
       "    </tr>\n",
       "    <tr>\n",
       "      <th>Año</th>\n",
       "      <th>2018</th>\n",
       "      <th>2019</th>\n",
       "      <th>2020</th>\n",
       "      <th>2021</th>\n",
       "      <th>2018</th>\n",
       "      <th>2019</th>\n",
       "      <th>2020</th>\n",
       "      <th>2021</th>\n",
       "    </tr>\n",
       "    <tr>\n",
       "      <th>Fruta</th>\n",
       "      <th></th>\n",
       "      <th></th>\n",
       "      <th></th>\n",
       "      <th></th>\n",
       "      <th></th>\n",
       "      <th></th>\n",
       "      <th></th>\n",
       "      <th></th>\n",
       "    </tr>\n",
       "  </thead>\n",
       "  <tbody>\n",
       "    <tr>\n",
       "      <th>Aguacate</th>\n",
       "      <td>424.0</td>\n",
       "      <td>739.0</td>\n",
       "      <td>410.0</td>\n",
       "      <td>541.0</td>\n",
       "      <td>125</td>\n",
       "      <td>205</td>\n",
       "      <td>155</td>\n",
       "      <td>95</td>\n",
       "    </tr>\n",
       "    <tr>\n",
       "      <th>Arandano</th>\n",
       "      <td>440.0</td>\n",
       "      <td>676.0</td>\n",
       "      <td>424.0</td>\n",
       "      <td>529.0</td>\n",
       "      <td>80</td>\n",
       "      <td>155</td>\n",
       "      <td>135</td>\n",
       "      <td>120</td>\n",
       "    </tr>\n",
       "    <tr>\n",
       "      <th>Cereza</th>\n",
       "      <td>563.0</td>\n",
       "      <td>361.0</td>\n",
       "      <td>512.0</td>\n",
       "      <td>406.0</td>\n",
       "      <td>95</td>\n",
       "      <td>185</td>\n",
       "      <td>175</td>\n",
       "      <td>135</td>\n",
       "    </tr>\n",
       "    <tr>\n",
       "      <th>Frambuesa</th>\n",
       "      <td>496.0</td>\n",
       "      <td>630.5</td>\n",
       "      <td>424.0</td>\n",
       "      <td>370.0</td>\n",
       "      <td>100</td>\n",
       "      <td>110</td>\n",
       "      <td>120</td>\n",
       "      <td>120</td>\n",
       "    </tr>\n",
       "    <tr>\n",
       "      <th>Fresa</th>\n",
       "      <td>361.0</td>\n",
       "      <td>280.0</td>\n",
       "      <td>500.0</td>\n",
       "      <td>557.0</td>\n",
       "      <td>110</td>\n",
       "      <td>120</td>\n",
       "      <td>85</td>\n",
       "      <td>125</td>\n",
       "    </tr>\n",
       "    <tr>\n",
       "      <th>Uva</th>\n",
       "      <td>448.0</td>\n",
       "      <td>424.0</td>\n",
       "      <td>424.0</td>\n",
       "      <td>568.0</td>\n",
       "      <td>95</td>\n",
       "      <td>120</td>\n",
       "      <td>125</td>\n",
       "      <td>80</td>\n",
       "    </tr>\n",
       "  </tbody>\n",
       "</table>\n",
       "</div>"
      ],
      "text/plain": [
       "          Aceptable                      Excelente               \n",
       "Año            2018   2019   2020   2021      2018 2019 2020 2021\n",
       "Fruta                                                            \n",
       "Aguacate      424.0  739.0  410.0  541.0       125  205  155   95\n",
       "Arandano      440.0  676.0  424.0  529.0        80  155  135  120\n",
       "Cereza        563.0  361.0  512.0  406.0        95  185  175  135\n",
       "Frambuesa     496.0  630.5  424.0  370.0       100  110  120  120\n",
       "Fresa         361.0  280.0  500.0  557.0       110  120   85  125\n",
       "Uva           448.0  424.0  424.0  568.0        95  120  125   80"
      ]
     },
     "execution_count": 39,
     "metadata": {},
     "output_type": "execute_result"
    }
   ],
   "source": [
    "pd.pivot_table(recoleccion,index=recoleccion[\"Fruta\"],aggfunc=\"min\",values=[\"Aceptable\",\"Excelente\"],columns=\"Año\")"
   ]
  },
  {
   "cell_type": "markdown",
   "id": "4a3e03bf-2169-48e8-a306-10b94b2958f5",
   "metadata": {},
   "source": [
    "__Ejercicio 13:__"
   ]
  },
  {
   "cell_type": "markdown",
   "id": "a2941ae4-3086-4dc1-8d1f-2d4f15e69982",
   "metadata": {},
   "source": [
    "Utilizar groupby para obtener el valor minimo en todas las columnas de cada Fruta"
   ]
  },
  {
   "cell_type": "code",
   "execution_count": 41,
   "id": "c162bb3e-e2cb-4222-9358-481093f6f3d6",
   "metadata": {},
   "outputs": [
    {
     "data": {
      "application/vnd.microsoft.datawrangler.viewer.v0+json": {
       "columns": [
        {
         "name": "Fruta",
         "rawType": "object",
         "type": "string"
        },
        {
         "name": "Año",
         "rawType": "int64",
         "type": "integer"
        },
        {
         "name": "Mes",
         "rawType": "int64",
         "type": "integer"
        },
        {
         "name": "Kg",
         "rawType": "int64",
         "type": "integer"
        },
        {
         "name": "Excelente",
         "rawType": "int64",
         "type": "integer"
        },
        {
         "name": "Aceptable",
         "rawType": "float64",
         "type": "float"
        },
        {
         "name": "Inapropiada",
         "rawType": "float64",
         "type": "float"
        },
        {
         "name": "Toneladas",
         "rawType": "float64",
         "type": "float"
        },
        {
         "name": "Toneladas_Excelentes",
         "rawType": "float64",
         "type": "float"
        }
       ],
       "ref": "7fbb9c31-b2b2-408b-a9d4-a1466b0b7323",
       "rows": [
        [
         "Aguacate",
         "2018",
         "1",
         "900",
         "95",
         "410.0",
         "70.0",
         "0.9",
         "0.095"
        ],
        [
         "Arandano",
         "2018",
         "1",
         "850",
         "80",
         "424.0",
         "70.0",
         "0.85",
         "0.08"
        ],
        [
         "Cereza",
         "2018",
         "1",
         "950",
         "95",
         "361.0",
         "69.0",
         "0.95",
         "0.095"
        ],
        [
         "Frambuesa",
         "2018",
         "1",
         "900",
         "100",
         "370.0",
         "78.0",
         "0.9",
         "0.1"
        ],
        [
         "Fresa",
         "2018",
         "1",
         "900",
         "85",
         "280.0",
         "40.0",
         "0.9",
         "0.085"
        ],
        [
         "Uva",
         "2018",
         "1",
         "900",
         "80",
         "424.0",
         "66.0",
         "0.9",
         "0.08"
        ]
       ],
       "shape": {
        "columns": 8,
        "rows": 6
       }
      },
      "text/html": [
       "<div>\n",
       "<style scoped>\n",
       "    .dataframe tbody tr th:only-of-type {\n",
       "        vertical-align: middle;\n",
       "    }\n",
       "\n",
       "    .dataframe tbody tr th {\n",
       "        vertical-align: top;\n",
       "    }\n",
       "\n",
       "    .dataframe thead th {\n",
       "        text-align: right;\n",
       "    }\n",
       "</style>\n",
       "<table border=\"1\" class=\"dataframe\">\n",
       "  <thead>\n",
       "    <tr style=\"text-align: right;\">\n",
       "      <th></th>\n",
       "      <th>Año</th>\n",
       "      <th>Mes</th>\n",
       "      <th>Kg</th>\n",
       "      <th>Excelente</th>\n",
       "      <th>Aceptable</th>\n",
       "      <th>Inapropiada</th>\n",
       "      <th>Toneladas</th>\n",
       "      <th>Toneladas_Excelentes</th>\n",
       "    </tr>\n",
       "    <tr>\n",
       "      <th>Fruta</th>\n",
       "      <th></th>\n",
       "      <th></th>\n",
       "      <th></th>\n",
       "      <th></th>\n",
       "      <th></th>\n",
       "      <th></th>\n",
       "      <th></th>\n",
       "      <th></th>\n",
       "    </tr>\n",
       "  </thead>\n",
       "  <tbody>\n",
       "    <tr>\n",
       "      <th>Aguacate</th>\n",
       "      <td>2018</td>\n",
       "      <td>1</td>\n",
       "      <td>900</td>\n",
       "      <td>95</td>\n",
       "      <td>410.0</td>\n",
       "      <td>70.0</td>\n",
       "      <td>0.90</td>\n",
       "      <td>0.095</td>\n",
       "    </tr>\n",
       "    <tr>\n",
       "      <th>Arandano</th>\n",
       "      <td>2018</td>\n",
       "      <td>1</td>\n",
       "      <td>850</td>\n",
       "      <td>80</td>\n",
       "      <td>424.0</td>\n",
       "      <td>70.0</td>\n",
       "      <td>0.85</td>\n",
       "      <td>0.080</td>\n",
       "    </tr>\n",
       "    <tr>\n",
       "      <th>Cereza</th>\n",
       "      <td>2018</td>\n",
       "      <td>1</td>\n",
       "      <td>950</td>\n",
       "      <td>95</td>\n",
       "      <td>361.0</td>\n",
       "      <td>69.0</td>\n",
       "      <td>0.95</td>\n",
       "      <td>0.095</td>\n",
       "    </tr>\n",
       "    <tr>\n",
       "      <th>Frambuesa</th>\n",
       "      <td>2018</td>\n",
       "      <td>1</td>\n",
       "      <td>900</td>\n",
       "      <td>100</td>\n",
       "      <td>370.0</td>\n",
       "      <td>78.0</td>\n",
       "      <td>0.90</td>\n",
       "      <td>0.100</td>\n",
       "    </tr>\n",
       "    <tr>\n",
       "      <th>Fresa</th>\n",
       "      <td>2018</td>\n",
       "      <td>1</td>\n",
       "      <td>900</td>\n",
       "      <td>85</td>\n",
       "      <td>280.0</td>\n",
       "      <td>40.0</td>\n",
       "      <td>0.90</td>\n",
       "      <td>0.085</td>\n",
       "    </tr>\n",
       "    <tr>\n",
       "      <th>Uva</th>\n",
       "      <td>2018</td>\n",
       "      <td>1</td>\n",
       "      <td>900</td>\n",
       "      <td>80</td>\n",
       "      <td>424.0</td>\n",
       "      <td>66.0</td>\n",
       "      <td>0.90</td>\n",
       "      <td>0.080</td>\n",
       "    </tr>\n",
       "  </tbody>\n",
       "</table>\n",
       "</div>"
      ],
      "text/plain": [
       "            Año  Mes   Kg  Excelente  Aceptable  Inapropiada  Toneladas  \\\n",
       "Fruta                                                                     \n",
       "Aguacate   2018    1  900         95      410.0         70.0       0.90   \n",
       "Arandano   2018    1  850         80      424.0         70.0       0.85   \n",
       "Cereza     2018    1  950         95      361.0         69.0       0.95   \n",
       "Frambuesa  2018    1  900        100      370.0         78.0       0.90   \n",
       "Fresa      2018    1  900         85      280.0         40.0       0.90   \n",
       "Uva        2018    1  900         80      424.0         66.0       0.90   \n",
       "\n",
       "           Toneladas_Excelentes  \n",
       "Fruta                            \n",
       "Aguacate                  0.095  \n",
       "Arandano                  0.080  \n",
       "Cereza                    0.095  \n",
       "Frambuesa                 0.100  \n",
       "Fresa                     0.085  \n",
       "Uva                       0.080  "
      ]
     },
     "execution_count": 41,
     "metadata": {},
     "output_type": "execute_result"
    }
   ],
   "source": [
    "recoleccion.groupby(\"Fruta\").min()"
   ]
  },
  {
   "cell_type": "markdown",
   "id": "693eccbe-6025-4e82-99f4-c9d15a4b53d2",
   "metadata": {},
   "source": [
    "__Ejercicio 14:__"
   ]
  },
  {
   "cell_type": "markdown",
   "id": "71aa0291-31b2-46cd-84fd-7834e2dd5af8",
   "metadata": {},
   "source": [
    "Utilizar groupby para obtener el valor promedio en todas las columnas de cada Fruta"
   ]
  },
  {
   "cell_type": "code",
   "execution_count": 42,
   "id": "5e7ed1ab-bfc0-4ce3-a228-4408941d519d",
   "metadata": {},
   "outputs": [
    {
     "data": {
      "application/vnd.microsoft.datawrangler.viewer.v0+json": {
       "columns": [
        {
         "name": "Fruta",
         "rawType": "object",
         "type": "string"
        },
        {
         "name": "Año",
         "rawType": "float64",
         "type": "float"
        },
        {
         "name": "Mes",
         "rawType": "float64",
         "type": "float"
        },
        {
         "name": "Kg",
         "rawType": "float64",
         "type": "float"
        },
        {
         "name": "Excelente",
         "rawType": "float64",
         "type": "float"
        },
        {
         "name": "Aceptable",
         "rawType": "float64",
         "type": "float"
        },
        {
         "name": "Inapropiada",
         "rawType": "float64",
         "type": "float"
        },
        {
         "name": "Toneladas",
         "rawType": "float64",
         "type": "float"
        },
        {
         "name": "Toneladas_Excelentes",
         "rawType": "float64",
         "type": "float"
        }
       ],
       "ref": "fe0a6e64-6455-45d3-a9c2-be3b9d9998ba",
       "rows": [
        [
         "Aguacate",
         "2019.5",
         "6.5",
         "1538.5416666666667",
         "414.6875",
         "870.8958333333334",
         "252.95833333333334",
         "1.5385416666666665",
         "0.41468750000000004"
        ],
        [
         "Arandano",
         "2019.5",
         "6.5",
         "1564.5833333333333",
         "409.5833333333333",
         "843.3333333333334",
         "311.6666666666667",
         "1.5645833333333332",
         "0.40958333333333335"
        ],
        [
         "Cereza",
         "2019.5",
         "6.5",
         "1558.3333333333333",
         "394.6875",
         "891.2291666666666",
         "272.4166666666667",
         "1.5583333333333333",
         "0.3946875"
        ],
        [
         "Frambuesa",
         "2019.5",
         "6.5",
         "1461.4583333333333",
         "341.0416666666667",
         "833.40625",
         "287.0104166666667",
         "1.4614583333333335",
         "0.3410416666666667"
        ],
        [
         "Fresa",
         "2019.5",
         "6.5",
         "1420.8333333333333",
         "354.6875",
         "824.9270833333334",
         "241.21875",
         "1.4208333333333334",
         "0.3546875"
        ],
        [
         "Uva",
         "2019.5",
         "6.5",
         "1467.7083333333333",
         "378.75",
         "842.6875",
         "246.27083333333334",
         "1.4677083333333334",
         "0.37875"
        ]
       ],
       "shape": {
        "columns": 8,
        "rows": 6
       }
      },
      "text/html": [
       "<div>\n",
       "<style scoped>\n",
       "    .dataframe tbody tr th:only-of-type {\n",
       "        vertical-align: middle;\n",
       "    }\n",
       "\n",
       "    .dataframe tbody tr th {\n",
       "        vertical-align: top;\n",
       "    }\n",
       "\n",
       "    .dataframe thead th {\n",
       "        text-align: right;\n",
       "    }\n",
       "</style>\n",
       "<table border=\"1\" class=\"dataframe\">\n",
       "  <thead>\n",
       "    <tr style=\"text-align: right;\">\n",
       "      <th></th>\n",
       "      <th>Año</th>\n",
       "      <th>Mes</th>\n",
       "      <th>Kg</th>\n",
       "      <th>Excelente</th>\n",
       "      <th>Aceptable</th>\n",
       "      <th>Inapropiada</th>\n",
       "      <th>Toneladas</th>\n",
       "      <th>Toneladas_Excelentes</th>\n",
       "    </tr>\n",
       "    <tr>\n",
       "      <th>Fruta</th>\n",
       "      <th></th>\n",
       "      <th></th>\n",
       "      <th></th>\n",
       "      <th></th>\n",
       "      <th></th>\n",
       "      <th></th>\n",
       "      <th></th>\n",
       "      <th></th>\n",
       "    </tr>\n",
       "  </thead>\n",
       "  <tbody>\n",
       "    <tr>\n",
       "      <th>Aguacate</th>\n",
       "      <td>2019.5</td>\n",
       "      <td>6.5</td>\n",
       "      <td>1538.541667</td>\n",
       "      <td>414.687500</td>\n",
       "      <td>870.895833</td>\n",
       "      <td>252.958333</td>\n",
       "      <td>1.538542</td>\n",
       "      <td>0.414688</td>\n",
       "    </tr>\n",
       "    <tr>\n",
       "      <th>Arandano</th>\n",
       "      <td>2019.5</td>\n",
       "      <td>6.5</td>\n",
       "      <td>1564.583333</td>\n",
       "      <td>409.583333</td>\n",
       "      <td>843.333333</td>\n",
       "      <td>311.666667</td>\n",
       "      <td>1.564583</td>\n",
       "      <td>0.409583</td>\n",
       "    </tr>\n",
       "    <tr>\n",
       "      <th>Cereza</th>\n",
       "      <td>2019.5</td>\n",
       "      <td>6.5</td>\n",
       "      <td>1558.333333</td>\n",
       "      <td>394.687500</td>\n",
       "      <td>891.229167</td>\n",
       "      <td>272.416667</td>\n",
       "      <td>1.558333</td>\n",
       "      <td>0.394688</td>\n",
       "    </tr>\n",
       "    <tr>\n",
       "      <th>Frambuesa</th>\n",
       "      <td>2019.5</td>\n",
       "      <td>6.5</td>\n",
       "      <td>1461.458333</td>\n",
       "      <td>341.041667</td>\n",
       "      <td>833.406250</td>\n",
       "      <td>287.010417</td>\n",
       "      <td>1.461458</td>\n",
       "      <td>0.341042</td>\n",
       "    </tr>\n",
       "    <tr>\n",
       "      <th>Fresa</th>\n",
       "      <td>2019.5</td>\n",
       "      <td>6.5</td>\n",
       "      <td>1420.833333</td>\n",
       "      <td>354.687500</td>\n",
       "      <td>824.927083</td>\n",
       "      <td>241.218750</td>\n",
       "      <td>1.420833</td>\n",
       "      <td>0.354687</td>\n",
       "    </tr>\n",
       "    <tr>\n",
       "      <th>Uva</th>\n",
       "      <td>2019.5</td>\n",
       "      <td>6.5</td>\n",
       "      <td>1467.708333</td>\n",
       "      <td>378.750000</td>\n",
       "      <td>842.687500</td>\n",
       "      <td>246.270833</td>\n",
       "      <td>1.467708</td>\n",
       "      <td>0.378750</td>\n",
       "    </tr>\n",
       "  </tbody>\n",
       "</table>\n",
       "</div>"
      ],
      "text/plain": [
       "              Año  Mes           Kg   Excelente   Aceptable  Inapropiada  \\\n",
       "Fruta                                                                      \n",
       "Aguacate   2019.5  6.5  1538.541667  414.687500  870.895833   252.958333   \n",
       "Arandano   2019.5  6.5  1564.583333  409.583333  843.333333   311.666667   \n",
       "Cereza     2019.5  6.5  1558.333333  394.687500  891.229167   272.416667   \n",
       "Frambuesa  2019.5  6.5  1461.458333  341.041667  833.406250   287.010417   \n",
       "Fresa      2019.5  6.5  1420.833333  354.687500  824.927083   241.218750   \n",
       "Uva        2019.5  6.5  1467.708333  378.750000  842.687500   246.270833   \n",
       "\n",
       "           Toneladas  Toneladas_Excelentes  \n",
       "Fruta                                       \n",
       "Aguacate    1.538542              0.414688  \n",
       "Arandano    1.564583              0.409583  \n",
       "Cereza      1.558333              0.394688  \n",
       "Frambuesa   1.461458              0.341042  \n",
       "Fresa       1.420833              0.354687  \n",
       "Uva         1.467708              0.378750  "
      ]
     },
     "execution_count": 42,
     "metadata": {},
     "output_type": "execute_result"
    }
   ],
   "source": [
    "recoleccion.groupby(\"Fruta\").mean()"
   ]
  },
  {
   "cell_type": "markdown",
   "id": "b6722b0e-2c9f-4c03-b0ef-78bc4317f240",
   "metadata": {},
   "source": [
    "__Ejercicio 15:__"
   ]
  },
  {
   "cell_type": "markdown",
   "id": "a485a5e7-7724-413a-ac32-e93ae6cb6556",
   "metadata": {},
   "source": [
    "Utilizar groupby para obtener la cantidad total recogida por cada tipo de fruta\n"
   ]
  },
  {
   "cell_type": "code",
   "execution_count": 43,
   "id": "618228f0-7b00-417c-af84-bb68218cd660",
   "metadata": {},
   "outputs": [
    {
     "data": {
      "application/vnd.microsoft.datawrangler.viewer.v0+json": {
       "columns": [
        {
         "name": "Fruta",
         "rawType": "object",
         "type": "string"
        },
        {
         "name": "0",
         "rawType": "int64",
         "type": "integer"
        }
       ],
       "ref": "6428eb5e-eb85-4ac4-9b12-f332b506886e",
       "rows": [
        [
         "Aguacate",
         "48"
        ],
        [
         "Arandano",
         "48"
        ],
        [
         "Cereza",
         "48"
        ],
        [
         "Frambuesa",
         "48"
        ],
        [
         "Fresa",
         "48"
        ],
        [
         "Uva",
         "48"
        ]
       ],
       "shape": {
        "columns": 1,
        "rows": 6
       }
      },
      "text/plain": [
       "Fruta\n",
       "Aguacate     48\n",
       "Arandano     48\n",
       "Cereza       48\n",
       "Frambuesa    48\n",
       "Fresa        48\n",
       "Uva          48\n",
       "dtype: int64"
      ]
     },
     "execution_count": 43,
     "metadata": {},
     "output_type": "execute_result"
    }
   ],
   "source": [
    "recoleccion.groupby(\"Fruta\").size()"
   ]
  },
  {
   "cell_type": "markdown",
   "id": "ed2c7708-c107-401d-b1d8-6d49a45020c8",
   "metadata": {},
   "source": [
    "__Ejercicio 16:__"
   ]
  },
  {
   "cell_type": "markdown",
   "id": "f6f30fe3-a6d0-4cfc-93cc-5d1916a5f24d",
   "metadata": {},
   "source": [
    "Utilizar groupby para obtener los datos de las cosechas en cuyo mes se recolecto mas de 20 toneladas de frutas en estado Aceptable"
   ]
  },
  {
   "cell_type": "code",
   "execution_count": null,
   "id": "8deb5530-7e59-44a6-a700-57c47f6afd29",
   "metadata": {},
   "outputs": [],
   "source": []
  },
  {
   "cell_type": "markdown",
   "id": "441fc220-0392-4de8-b846-bb27f616a687",
   "metadata": {},
   "source": [
    "__Ejercicio 17:__"
   ]
  },
  {
   "cell_type": "markdown",
   "id": "baa2e296-a697-486f-b182-725de6eace79",
   "metadata": {},
   "source": [
    "Utilizar groupby para obtener la cantidad de fruta recogida en todos los meses de cada año, tanto el total como separado por categorias (Excelente,Aceptable e Inapropiado)"
   ]
  },
  {
   "cell_type": "code",
   "execution_count": null,
   "id": "62942ab6-6d56-4f82-bdf7-e62a32734305",
   "metadata": {},
   "outputs": [],
   "source": []
  },
  {
   "cell_type": "markdown",
   "id": "dce0ed83-b137-4625-9af3-8f0949dd66f4",
   "metadata": {},
   "source": [
    "__Ejercicio 18:__"
   ]
  },
  {
   "cell_type": "markdown",
   "id": "293d3bf2-e240-4572-add3-d50cf4f7bc80",
   "metadata": {},
   "source": [
    "Utilizar groupby para obtener la cantidad de fruta recogida en estado Aceptable e Inapropiada, en todos los meses de cada año"
   ]
  },
  {
   "cell_type": "code",
   "execution_count": null,
   "id": "1e6cc7f0-e818-44db-99bb-fe6c0b912ed8",
   "metadata": {},
   "outputs": [],
   "source": []
  },
  {
   "cell_type": "markdown",
   "id": "b1208da7-ef60-4936-9cd8-9075d4c5ff25",
   "metadata": {},
   "source": [
    "__Ejercicio 19:__"
   ]
  },
  {
   "cell_type": "markdown",
   "id": "ffc3e269-b067-4039-908c-9c4f77f22e7f",
   "metadata": {},
   "source": [
    "Utilizar groupby y \"agg\" para obtener la cantidad total de kilogramos recogidos en cada Mes"
   ]
  },
  {
   "cell_type": "code",
   "execution_count": null,
   "id": "ea2d2ef8-b6c8-4f61-bdba-488ebf036f72",
   "metadata": {},
   "outputs": [],
   "source": []
  },
  {
   "cell_type": "markdown",
   "id": "4f9e5a7a-4ca1-44e8-af9c-00d28870298c",
   "metadata": {},
   "source": [
    "__Ejercicio 20:__"
   ]
  },
  {
   "cell_type": "markdown",
   "id": "ee515a13-f3e6-4881-94e0-6fbf9f4539df",
   "metadata": {},
   "source": [
    "Utilizar groupby para obtener de cada mes:\n",
    "\n",
    " - El promedio de kilogramos en excelente estado que se recogen \n",
    " - El promedio de kilogramos en estado inapropiado que se recogen "
   ]
  },
  {
   "cell_type": "code",
   "execution_count": null,
   "id": "be37f400-2716-42e5-b2c3-ac31036e30e7",
   "metadata": {},
   "outputs": [],
   "source": []
  },
  {
   "cell_type": "markdown",
   "id": "09519ae8-0c51-4e12-8d2b-9e962b91c377",
   "metadata": {},
   "source": [
    "__Ejercicio 21:__"
   ]
  },
  {
   "cell_type": "markdown",
   "id": "33489ef7-3770-453e-ae75-4ca526c445c4",
   "metadata": {},
   "source": [
    "Utilizar groupby para obtener la cantidad minima y maxima en estado aceptable recogida en cada Mes (Ej. La cantidad mínima de fruta en estado aceptable que se ha recogido en el mes de febrero es de 1000)"
   ]
  },
  {
   "cell_type": "code",
   "execution_count": null,
   "id": "35e25f27-c221-4a55-b4dc-110fdf9389ec",
   "metadata": {},
   "outputs": [],
   "source": []
  },
  {
   "cell_type": "markdown",
   "id": "f1704dba-5e4a-4ccf-9604-8076e07ddaa4",
   "metadata": {},
   "source": [
    "__Ejercicio 22:__"
   ]
  },
  {
   "cell_type": "markdown",
   "id": "78d7b32f-207c-4e72-84e2-a3a5def2111b",
   "metadata": {},
   "source": [
    "Utilizar pivot_table para obtener el valor promedio en todas las columnas de cada Fruta"
   ]
  },
  {
   "cell_type": "code",
   "execution_count": null,
   "id": "c2675368-5afc-4350-bd13-0bb5bff140e2",
   "metadata": {},
   "outputs": [],
   "source": []
  },
  {
   "cell_type": "markdown",
   "id": "a6243bb2-5785-43ed-803e-fd05166a163b",
   "metadata": {},
   "source": [
    "__Ejercicio 23:__"
   ]
  },
  {
   "cell_type": "markdown",
   "id": "2e70e537-5501-41ec-9841-3a9ec633572c",
   "metadata": {},
   "source": [
    "Utilizar pivot_table para obtener por cada Año:\n",
    "   - La cantidad total de fruta recogida en cada mes\n",
    "   - La cantidad total de fruta en estado Aceptable recogida en cada mes"
   ]
  },
  {
   "cell_type": "code",
   "execution_count": null,
   "id": "494b1982-6d31-44c1-a8f8-bdb55b22ec7f",
   "metadata": {},
   "outputs": [],
   "source": []
  },
  {
   "cell_type": "markdown",
   "id": "00c6e875-959b-4109-b15e-b9c18d899ea4",
   "metadata": {},
   "source": [
    "__Ejercicio 24:__"
   ]
  },
  {
   "cell_type": "markdown",
   "id": "4226a6cf-6ee7-44c5-ad6c-ae81b9ecbf30",
   "metadata": {},
   "source": [
    "Utilizar el DataFrame anterior para obtener el total de frutas recogidas en cada mes del año 2019"
   ]
  },
  {
   "cell_type": "code",
   "execution_count": null,
   "id": "d43a7738-dd68-43ef-8e7d-dfd2b1d79e10",
   "metadata": {},
   "outputs": [],
   "source": []
  },
  {
   "cell_type": "code",
   "execution_count": null,
   "id": "3b5efe4e-ff47-4122-9a2b-742826ea2621",
   "metadata": {},
   "outputs": [],
   "source": []
  }
 ],
 "metadata": {
  "kernelspec": {
   "display_name": "Python 3",
   "language": "python",
   "name": "python3"
  },
  "language_info": {
   "codemirror_mode": {
    "name": "ipython",
    "version": 3
   },
   "file_extension": ".py",
   "mimetype": "text/x-python",
   "name": "python",
   "nbconvert_exporter": "python",
   "pygments_lexer": "ipython3",
   "version": "3.10.12"
  }
 },
 "nbformat": 4,
 "nbformat_minor": 5
}
