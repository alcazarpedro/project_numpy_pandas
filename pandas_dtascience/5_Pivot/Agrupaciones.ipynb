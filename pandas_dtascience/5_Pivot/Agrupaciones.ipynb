{
 "cells": [
  {
   "cell_type": "markdown",
   "id": "c84b8241-213f-4f30-a230-093fbd00fa08",
   "metadata": {},
   "source": [
    "# Group By"
   ]
  },
  {
   "cell_type": "code",
   "execution_count": 1,
   "id": "d7a4cbc9-88a1-4088-a2bc-c8c0b0335128",
   "metadata": {},
   "outputs": [],
   "source": [
    "import pandas as pd"
   ]
  },
  {
   "cell_type": "markdown",
   "id": "03e8ca6f-2156-4217-85e0-15966baa92ec",
   "metadata": {},
   "source": [
    "__Ejercicio 1:__"
   ]
  },
  {
   "cell_type": "markdown",
   "id": "c5746500-f18d-4ba3-9dfb-cb18c6632162",
   "metadata": {},
   "source": [
    "Importar el archivo \"Ajedrez.xlsx\" en la variable Ajedrez"
   ]
  },
  {
   "cell_type": "code",
   "execution_count": 2,
   "id": "24e27df2-cd76-4ba5-a9f5-fbffe42e52c6",
   "metadata": {},
   "outputs": [
    {
     "data": {
      "application/vnd.microsoft.datawrangler.viewer.v0+json": {
       "columns": [
        {
         "name": "Id",
         "rawType": "int64",
         "type": "integer"
        },
        {
         "name": "Nombre",
         "rawType": "object",
         "type": "string"
        },
        {
         "name": "Categoria",
         "rawType": "object",
         "type": "string"
        },
        {
         "name": "Salon",
         "rawType": "object",
         "type": "string"
        },
        {
         "name": "P. J.",
         "rawType": "int64",
         "type": "integer"
        },
        {
         "name": "Victorias",
         "rawType": "int64",
         "type": "integer"
        },
        {
         "name": "Empates",
         "rawType": "int64",
         "type": "integer"
        },
        {
         "name": "Derrotas",
         "rawType": "int64",
         "type": "integer"
        }
       ],
       "ref": "4a9b67f3-e15e-45a0-bfb9-728ef5c7cc76",
       "rows": [
        [
         "1000",
         "Edison Marin",
         "Avanzado",
         "2021-B",
         "37",
         "8",
         "7",
         "22"
        ],
        [
         "1001",
         "Elena Soberon",
         "Intermedio",
         "2021-B",
         "30",
         "9",
         "11",
         "10"
        ],
        [
         "1002",
         "Yolanda Berlanga",
         "Avanzado",
         "2020-B",
         "32",
         "22",
         "6",
         "4"
        ],
        [
         "1003",
         "Yire Cuenca",
         "Principiante",
         "2020-B",
         "37",
         "7",
         "9",
         "21"
        ],
        [
         "1004",
         "Cielo Leon",
         "Avanzado",
         "2020-B",
         "32",
         "6",
         "5",
         "21"
        ],
        [
         "1005",
         "Cielo Guak",
         "Principiante",
         "2019-B",
         "46",
         "20",
         "22",
         "4"
        ],
        [
         "1006",
         "Kimberly Verduzco",
         "Intermedio",
         "2021-B",
         "45",
         "22",
         "11",
         "12"
        ],
        [
         "1007",
         "Cielo Cuenca",
         "Principiante",
         "2019-B",
         "45",
         "0",
         "6",
         "39"
        ],
        [
         "1008",
         "Yire Alvarado",
         "Principiante",
         "2019-B",
         "40",
         "0",
         "2",
         "38"
        ],
        [
         "1009",
         "Olivia Alvarado",
         "Principiante",
         "2019-B",
         "40",
         "21",
         "7",
         "12"
        ],
        [
         "1010",
         "Brandon  Nathal",
         "Intermedio",
         "2019-B",
         "47",
         "18",
         "1",
         "28"
        ],
        [
         "1011",
         "Maira Sandoval",
         "Principiante",
         "2022-A",
         "49",
         "8",
         "5",
         "36"
        ],
        [
         "1012",
         "angel Hinojosa",
         "Principiante",
         "2022-A",
         "43",
         "7",
         "7",
         "29"
        ],
        [
         "1013",
         "Octavio Peñalosa",
         "Intermedio",
         "2020-B",
         "44",
         "25",
         "2",
         "17"
        ],
        [
         "1014",
         "Trevor Mejia",
         "Avanzado",
         "2020-B",
         "43",
         "22",
         "14",
         "7"
        ],
        [
         "1015",
         "Jamir Obrador",
         "Principiante",
         "2021-B",
         "29",
         "9",
         "10",
         "10"
        ],
        [
         "1016",
         "Julian Ondarza",
         "Principiante",
         "2022-A",
         "34",
         "8",
         "10",
         "16"
        ],
        [
         "1017",
         "Luz Cordova",
         "Avanzado",
         "2020-B",
         "43",
         "19",
         "15",
         "9"
        ],
        [
         "1018",
         "Valentina Barajas",
         "Intermedio",
         "2021-A",
         "29",
         "6",
         "11",
         "12"
        ],
        [
         "1019",
         "Guadalupe Diaz",
         "Intermedio",
         "2021-B",
         "44",
         "23",
         "8",
         "13"
        ],
        [
         "1020",
         "Yessica Infante",
         "Intermedio",
         "2020-A",
         "43",
         "7",
         "17",
         "19"
        ],
        [
         "1021",
         "Julian Vera",
         "Principiante",
         "2019-A",
         "33",
         "20",
         "13",
         "0"
        ],
        [
         "1022",
         "Julian Garcia",
         "Avanzado",
         "2019-A",
         "48",
         "23",
         "4",
         "21"
        ],
        [
         "1023",
         "Luz Santillas",
         "Principiante",
         "2020-B",
         "29",
         "8",
         "8",
         "13"
        ],
        [
         "1024",
         "Alonso Vera",
         "Principiante",
         "2019-B",
         "43",
         "16",
         "1",
         "26"
        ],
        [
         "1025",
         "Dionisio Arias",
         "Intermedio",
         "2021-A",
         "47",
         "18",
         "1",
         "28"
        ],
        [
         "1026",
         "Luis Ondarza",
         "Intermedio",
         "2020-A",
         "26",
         "20",
         "4",
         "2"
        ],
        [
         "1027",
         "Jorge Nathal",
         "Intermedio",
         "2021-A",
         "34",
         "4",
         "14",
         "16"
        ],
        [
         "1028",
         "Clara Velasco",
         "Principiante",
         "2021-A",
         "34",
         "21",
         "6",
         "7"
        ],
        [
         "1029",
         "Alastor Alva",
         "Avanzado",
         "2019-B",
         "37",
         "23",
         "14",
         "0"
        ],
        [
         "1030",
         "Jessica Valdovinos",
         "Principiante",
         "2021-A",
         "46",
         "8",
         "11",
         "27"
        ],
        [
         "1031",
         "Eddie Setien",
         "Intermedio",
         "2020-A",
         "46",
         "8",
         "24",
         "14"
        ],
        [
         "1032",
         "Carlos Pascual",
         "Intermedio",
         "2020-A",
         "30",
         "6",
         "6",
         "18"
        ],
        [
         "1033",
         "Miguel Vera",
         "Intermedio",
         "2020-A",
         "25",
         "8",
         "6",
         "11"
        ],
        [
         "1034",
         "Howard Del Rio",
         "Principiante",
         "2020-A",
         "30",
         "11",
         "7",
         "12"
        ],
        [
         "1035",
         "Alexis Ramirez",
         "Principiante",
         "2021-B",
         "46",
         "24",
         "17",
         "5"
        ],
        [
         "1036",
         "Brenda Rubio",
         "Intermedio",
         "2022-A",
         "43",
         "25",
         "2",
         "16"
        ],
        [
         "1037",
         "Claudio Feria",
         "Avanzado",
         "2020-A",
         "29",
         "23",
         "6",
         "0"
        ],
        [
         "1038",
         "Manuela Neri",
         "Principiante",
         "2022-A",
         "32",
         "2",
         "11",
         "19"
        ],
        [
         "1039",
         "Pablo Muñoz",
         "Intermedio",
         "2019-A",
         "26",
         "9",
         "8",
         "9"
        ],
        [
         "1040",
         "Federico Gallegos",
         "Principiante",
         "2022-A",
         "25",
         "9",
         "6",
         "10"
        ],
        [
         "1041",
         "Julian Sepulvedo",
         "Principiante",
         "2019-B",
         "46",
         "0",
         "13",
         "33"
        ],
        [
         "1042",
         "Fatima Cordero",
         "Avanzado",
         "2022-A",
         "34",
         "23",
         "4",
         "7"
        ],
        [
         "1043",
         "Victoria Llamas",
         "Principiante",
         "2021-B",
         "41",
         "23",
         "12",
         "6"
        ],
        [
         "1044",
         "Luz Funes",
         "Avanzado",
         "2021-B",
         "38",
         "25",
         "3",
         "10"
        ],
        [
         "1045",
         "Maximo Said",
         "Principiante",
         "2020-B",
         "39",
         "22",
         "10",
         "7"
        ],
        [
         "1046",
         "Deymar Barriete",
         "Intermedio",
         "2021-B",
         "33",
         "8",
         "10",
         "15"
        ],
        [
         "1047",
         "Lara Ibarra",
         "Intermedio",
         "2020-A",
         "48",
         "16",
         "2",
         "30"
        ],
        [
         "1048",
         "Alan Aranda",
         "Principiante",
         "2021-B",
         "44",
         "18",
         "4",
         "22"
        ],
        [
         "1049",
         "Darwin Teran",
         "Avanzado",
         "2020-A",
         "36",
         "3",
         "6",
         "27"
        ]
       ],
       "shape": {
        "columns": 7,
        "rows": 525
       }
      },
      "text/html": [
       "<div>\n",
       "<style scoped>\n",
       "    .dataframe tbody tr th:only-of-type {\n",
       "        vertical-align: middle;\n",
       "    }\n",
       "\n",
       "    .dataframe tbody tr th {\n",
       "        vertical-align: top;\n",
       "    }\n",
       "\n",
       "    .dataframe thead th {\n",
       "        text-align: right;\n",
       "    }\n",
       "</style>\n",
       "<table border=\"1\" class=\"dataframe\">\n",
       "  <thead>\n",
       "    <tr style=\"text-align: right;\">\n",
       "      <th></th>\n",
       "      <th>Nombre</th>\n",
       "      <th>Categoria</th>\n",
       "      <th>Salon</th>\n",
       "      <th>P. J.</th>\n",
       "      <th>Victorias</th>\n",
       "      <th>Empates</th>\n",
       "      <th>Derrotas</th>\n",
       "    </tr>\n",
       "    <tr>\n",
       "      <th>Id</th>\n",
       "      <th></th>\n",
       "      <th></th>\n",
       "      <th></th>\n",
       "      <th></th>\n",
       "      <th></th>\n",
       "      <th></th>\n",
       "      <th></th>\n",
       "    </tr>\n",
       "  </thead>\n",
       "  <tbody>\n",
       "    <tr>\n",
       "      <th>1000</th>\n",
       "      <td>Edison Marin</td>\n",
       "      <td>Avanzado</td>\n",
       "      <td>2021-B</td>\n",
       "      <td>37</td>\n",
       "      <td>8</td>\n",
       "      <td>7</td>\n",
       "      <td>22</td>\n",
       "    </tr>\n",
       "    <tr>\n",
       "      <th>1001</th>\n",
       "      <td>Elena Soberon</td>\n",
       "      <td>Intermedio</td>\n",
       "      <td>2021-B</td>\n",
       "      <td>30</td>\n",
       "      <td>9</td>\n",
       "      <td>11</td>\n",
       "      <td>10</td>\n",
       "    </tr>\n",
       "    <tr>\n",
       "      <th>1002</th>\n",
       "      <td>Yolanda Berlanga</td>\n",
       "      <td>Avanzado</td>\n",
       "      <td>2020-B</td>\n",
       "      <td>32</td>\n",
       "      <td>22</td>\n",
       "      <td>6</td>\n",
       "      <td>4</td>\n",
       "    </tr>\n",
       "    <tr>\n",
       "      <th>1003</th>\n",
       "      <td>Yire Cuenca</td>\n",
       "      <td>Principiante</td>\n",
       "      <td>2020-B</td>\n",
       "      <td>37</td>\n",
       "      <td>7</td>\n",
       "      <td>9</td>\n",
       "      <td>21</td>\n",
       "    </tr>\n",
       "    <tr>\n",
       "      <th>1004</th>\n",
       "      <td>Cielo Leon</td>\n",
       "      <td>Avanzado</td>\n",
       "      <td>2020-B</td>\n",
       "      <td>32</td>\n",
       "      <td>6</td>\n",
       "      <td>5</td>\n",
       "      <td>21</td>\n",
       "    </tr>\n",
       "    <tr>\n",
       "      <th>...</th>\n",
       "      <td>...</td>\n",
       "      <td>...</td>\n",
       "      <td>...</td>\n",
       "      <td>...</td>\n",
       "      <td>...</td>\n",
       "      <td>...</td>\n",
       "      <td>...</td>\n",
       "    </tr>\n",
       "    <tr>\n",
       "      <th>1520</th>\n",
       "      <td>Rusel Vilar</td>\n",
       "      <td>Intermedio</td>\n",
       "      <td>2021-A</td>\n",
       "      <td>46</td>\n",
       "      <td>27</td>\n",
       "      <td>8</td>\n",
       "      <td>11</td>\n",
       "    </tr>\n",
       "    <tr>\n",
       "      <th>1521</th>\n",
       "      <td>Martina Barragan</td>\n",
       "      <td>Intermedio</td>\n",
       "      <td>2021-A</td>\n",
       "      <td>46</td>\n",
       "      <td>28</td>\n",
       "      <td>8</td>\n",
       "      <td>10</td>\n",
       "    </tr>\n",
       "    <tr>\n",
       "      <th>1522</th>\n",
       "      <td>Kunico Gomez</td>\n",
       "      <td>Principiante</td>\n",
       "      <td>2021-A</td>\n",
       "      <td>41</td>\n",
       "      <td>27</td>\n",
       "      <td>2</td>\n",
       "      <td>12</td>\n",
       "    </tr>\n",
       "    <tr>\n",
       "      <th>1523</th>\n",
       "      <td>Deisy Montalvo</td>\n",
       "      <td>Avanzado</td>\n",
       "      <td>2021-A</td>\n",
       "      <td>43</td>\n",
       "      <td>28</td>\n",
       "      <td>3</td>\n",
       "      <td>12</td>\n",
       "    </tr>\n",
       "    <tr>\n",
       "      <th>1524</th>\n",
       "      <td>Aldo Palacios</td>\n",
       "      <td>Intermedio</td>\n",
       "      <td>2021-A</td>\n",
       "      <td>47</td>\n",
       "      <td>30</td>\n",
       "      <td>3</td>\n",
       "      <td>14</td>\n",
       "    </tr>\n",
       "  </tbody>\n",
       "</table>\n",
       "<p>525 rows × 7 columns</p>\n",
       "</div>"
      ],
      "text/plain": [
       "                Nombre     Categoria   Salon  P. J.  Victorias  Empates  \\\n",
       "Id                                                                        \n",
       "1000      Edison Marin      Avanzado  2021-B     37          8        7   \n",
       "1001     Elena Soberon    Intermedio  2021-B     30          9       11   \n",
       "1002  Yolanda Berlanga      Avanzado  2020-B     32         22        6   \n",
       "1003       Yire Cuenca  Principiante  2020-B     37          7        9   \n",
       "1004        Cielo Leon      Avanzado  2020-B     32          6        5   \n",
       "...                ...           ...     ...    ...        ...      ...   \n",
       "1520       Rusel Vilar    Intermedio  2021-A     46         27        8   \n",
       "1521  Martina Barragan    Intermedio  2021-A     46         28        8   \n",
       "1522      Kunico Gomez  Principiante  2021-A     41         27        2   \n",
       "1523    Deisy Montalvo      Avanzado  2021-A     43         28        3   \n",
       "1524     Aldo Palacios    Intermedio  2021-A     47         30        3   \n",
       "\n",
       "      Derrotas  \n",
       "Id              \n",
       "1000        22  \n",
       "1001        10  \n",
       "1002         4  \n",
       "1003        21  \n",
       "1004        21  \n",
       "...        ...  \n",
       "1520        11  \n",
       "1521        10  \n",
       "1522        12  \n",
       "1523        12  \n",
       "1524        14  \n",
       "\n",
       "[525 rows x 7 columns]"
      ]
     },
     "execution_count": 2,
     "metadata": {},
     "output_type": "execute_result"
    }
   ],
   "source": [
    "Ajedrez = pd.read_excel(\"./Ajedrez.xlsx\",index_col=\"Id\")\n",
    "\n",
    "Ajedrez"
   ]
  },
  {
   "cell_type": "markdown",
   "id": "33136c5b-20b2-41c6-ae78-94bafbdeba45",
   "metadata": {},
   "source": [
    "Obtener el valor mínimo en cada columna utilizando la función min"
   ]
  },
  {
   "cell_type": "code",
   "execution_count": 4,
   "id": "822a2f95-1351-4fc6-a289-9f960e9d493f",
   "metadata": {},
   "outputs": [
    {
     "data": {
      "application/vnd.microsoft.datawrangler.viewer.v0+json": {
       "columns": [
        {
         "name": "index",
         "rawType": "object",
         "type": "string"
        },
        {
         "name": "0",
         "rawType": "object",
         "type": "unknown"
        }
       ],
       "ref": "ec5e24e2-d457-4624-8541-b46e60abd2d0",
       "rows": [
        [
         "Nombre",
         "Aaron Ramirez"
        ],
        [
         "Categoria",
         "Avanzado"
        ],
        [
         "Salon",
         "2019-A"
        ],
        [
         "P. J.",
         "18"
        ],
        [
         "Victorias",
         "0"
        ],
        [
         "Empates",
         "0"
        ],
        [
         "Derrotas",
         "0"
        ]
       ],
       "shape": {
        "columns": 1,
        "rows": 7
       }
      },
      "text/plain": [
       "Nombre       Aaron Ramirez\n",
       "Categoria         Avanzado\n",
       "Salon               2019-A\n",
       "P. J.                   18\n",
       "Victorias                0\n",
       "Empates                  0\n",
       "Derrotas                 0\n",
       "dtype: object"
      ]
     },
     "execution_count": 4,
     "metadata": {},
     "output_type": "execute_result"
    }
   ],
   "source": [
    "Ajedrez.min()"
   ]
  },
  {
   "cell_type": "markdown",
   "id": "8f130ad5-3f17-4e38-91c2-7d4306cdf286",
   "metadata": {},
   "source": [
    "Obtener el valor mínimo en cada columna utilizando la función max"
   ]
  },
  {
   "cell_type": "code",
   "execution_count": 5,
   "id": "0756b41e-f70e-4c76-b02e-2f0e9bc2ab6b",
   "metadata": {},
   "outputs": [
    {
     "data": {
      "application/vnd.microsoft.datawrangler.viewer.v0+json": {
       "columns": [
        {
         "name": "index",
         "rawType": "object",
         "type": "string"
        },
        {
         "name": "0",
         "rawType": "object",
         "type": "unknown"
        }
       ],
       "ref": "34f31679-c9b7-4704-9c24-3711e38e5327",
       "rows": [
        [
         "Nombre",
         "oscar Gomez"
        ],
        [
         "Categoria",
         "Principiante"
        ],
        [
         "Salon",
         "2022-A"
        ],
        [
         "P. J.",
         "50"
        ],
        [
         "Victorias",
         "30"
        ],
        [
         "Empates",
         "35"
        ],
        [
         "Derrotas",
         "42"
        ]
       ],
       "shape": {
        "columns": 1,
        "rows": 7
       }
      },
      "text/plain": [
       "Nombre        oscar Gomez\n",
       "Categoria    Principiante\n",
       "Salon              2022-A\n",
       "P. J.                  50\n",
       "Victorias              30\n",
       "Empates                35\n",
       "Derrotas               42\n",
       "dtype: object"
      ]
     },
     "execution_count": 5,
     "metadata": {},
     "output_type": "execute_result"
    }
   ],
   "source": [
    "Ajedrez.max()"
   ]
  },
  {
   "cell_type": "markdown",
   "id": "ea810b15-75ea-482e-b19c-166364ccc8e9",
   "metadata": {},
   "source": [
    "__Ejercicio 2:__"
   ]
  },
  {
   "cell_type": "markdown",
   "id": "f38a82c0-40b2-4960-9070-aec7315a4c27",
   "metadata": {},
   "source": [
    "Utilizar groupby para obtener el valor maximo en todas las columnas de cada salon"
   ]
  },
  {
   "cell_type": "code",
   "execution_count": 6,
   "id": "e1e1a527-9291-4151-a308-6c9acee2e663",
   "metadata": {},
   "outputs": [
    {
     "data": {
      "application/vnd.microsoft.datawrangler.viewer.v0+json": {
       "columns": [
        {
         "name": "Salon",
         "rawType": "object",
         "type": "string"
        },
        {
         "name": "Nombre",
         "rawType": "object",
         "type": "string"
        },
        {
         "name": "Categoria",
         "rawType": "object",
         "type": "string"
        },
        {
         "name": "P. J.",
         "rawType": "int64",
         "type": "integer"
        },
        {
         "name": "Victorias",
         "rawType": "int64",
         "type": "integer"
        },
        {
         "name": "Empates",
         "rawType": "int64",
         "type": "integer"
        },
        {
         "name": "Derrotas",
         "rawType": "int64",
         "type": "integer"
        }
       ],
       "ref": "e48f082a-4aca-4357-8116-794f923e6651",
       "rows": [
        [
         "2019-A",
         "Yasmin Rudomin",
         "Principiante",
         "50",
         "25",
         "29",
         "42"
        ],
        [
         "2019-B",
         "oscar Gomez",
         "Principiante",
         "50",
         "24",
         "27",
         "41"
        ],
        [
         "2020-A",
         "Yessica Infante",
         "Principiante",
         "49",
         "26",
         "25",
         "37"
        ],
        [
         "2020-B",
         "Yulisa Contreras",
         "Principiante",
         "50",
         "25",
         "29",
         "34"
        ],
        [
         "2021-A",
         "Yuri Alonso",
         "Principiante",
         "49",
         "30",
         "35",
         "35"
        ],
        [
         "2021-B",
         "angel Martinez",
         "Principiante",
         "50",
         "25",
         "24",
         "39"
        ],
        [
         "2022-A",
         "angel Hinojosa",
         "Principiante",
         "50",
         "25",
         "19",
         "37"
        ]
       ],
       "shape": {
        "columns": 6,
        "rows": 7
       }
      },
      "text/html": [
       "<div>\n",
       "<style scoped>\n",
       "    .dataframe tbody tr th:only-of-type {\n",
       "        vertical-align: middle;\n",
       "    }\n",
       "\n",
       "    .dataframe tbody tr th {\n",
       "        vertical-align: top;\n",
       "    }\n",
       "\n",
       "    .dataframe thead th {\n",
       "        text-align: right;\n",
       "    }\n",
       "</style>\n",
       "<table border=\"1\" class=\"dataframe\">\n",
       "  <thead>\n",
       "    <tr style=\"text-align: right;\">\n",
       "      <th></th>\n",
       "      <th>Nombre</th>\n",
       "      <th>Categoria</th>\n",
       "      <th>P. J.</th>\n",
       "      <th>Victorias</th>\n",
       "      <th>Empates</th>\n",
       "      <th>Derrotas</th>\n",
       "    </tr>\n",
       "    <tr>\n",
       "      <th>Salon</th>\n",
       "      <th></th>\n",
       "      <th></th>\n",
       "      <th></th>\n",
       "      <th></th>\n",
       "      <th></th>\n",
       "      <th></th>\n",
       "    </tr>\n",
       "  </thead>\n",
       "  <tbody>\n",
       "    <tr>\n",
       "      <th>2019-A</th>\n",
       "      <td>Yasmin Rudomin</td>\n",
       "      <td>Principiante</td>\n",
       "      <td>50</td>\n",
       "      <td>25</td>\n",
       "      <td>29</td>\n",
       "      <td>42</td>\n",
       "    </tr>\n",
       "    <tr>\n",
       "      <th>2019-B</th>\n",
       "      <td>oscar Gomez</td>\n",
       "      <td>Principiante</td>\n",
       "      <td>50</td>\n",
       "      <td>24</td>\n",
       "      <td>27</td>\n",
       "      <td>41</td>\n",
       "    </tr>\n",
       "    <tr>\n",
       "      <th>2020-A</th>\n",
       "      <td>Yessica Infante</td>\n",
       "      <td>Principiante</td>\n",
       "      <td>49</td>\n",
       "      <td>26</td>\n",
       "      <td>25</td>\n",
       "      <td>37</td>\n",
       "    </tr>\n",
       "    <tr>\n",
       "      <th>2020-B</th>\n",
       "      <td>Yulisa Contreras</td>\n",
       "      <td>Principiante</td>\n",
       "      <td>50</td>\n",
       "      <td>25</td>\n",
       "      <td>29</td>\n",
       "      <td>34</td>\n",
       "    </tr>\n",
       "    <tr>\n",
       "      <th>2021-A</th>\n",
       "      <td>Yuri Alonso</td>\n",
       "      <td>Principiante</td>\n",
       "      <td>49</td>\n",
       "      <td>30</td>\n",
       "      <td>35</td>\n",
       "      <td>35</td>\n",
       "    </tr>\n",
       "    <tr>\n",
       "      <th>2021-B</th>\n",
       "      <td>angel Martinez</td>\n",
       "      <td>Principiante</td>\n",
       "      <td>50</td>\n",
       "      <td>25</td>\n",
       "      <td>24</td>\n",
       "      <td>39</td>\n",
       "    </tr>\n",
       "    <tr>\n",
       "      <th>2022-A</th>\n",
       "      <td>angel Hinojosa</td>\n",
       "      <td>Principiante</td>\n",
       "      <td>50</td>\n",
       "      <td>25</td>\n",
       "      <td>19</td>\n",
       "      <td>37</td>\n",
       "    </tr>\n",
       "  </tbody>\n",
       "</table>\n",
       "</div>"
      ],
      "text/plain": [
       "                  Nombre     Categoria  P. J.  Victorias  Empates  Derrotas\n",
       "Salon                                                                      \n",
       "2019-A    Yasmin Rudomin  Principiante     50         25       29        42\n",
       "2019-B       oscar Gomez  Principiante     50         24       27        41\n",
       "2020-A   Yessica Infante  Principiante     49         26       25        37\n",
       "2020-B  Yulisa Contreras  Principiante     50         25       29        34\n",
       "2021-A       Yuri Alonso  Principiante     49         30       35        35\n",
       "2021-B    angel Martinez  Principiante     50         25       24        39\n",
       "2022-A    angel Hinojosa  Principiante     50         25       19        37"
      ]
     },
     "execution_count": 6,
     "metadata": {},
     "output_type": "execute_result"
    }
   ],
   "source": [
    "Ajedrez.groupby(\"Salon\").max()"
   ]
  },
  {
   "cell_type": "markdown",
   "id": "8718d33c-0dad-4e02-9443-80bd96f49e08",
   "metadata": {},
   "source": [
    "Utilizar groupby para obtener el valor minimo en todas las columnas de cada salon"
   ]
  },
  {
   "cell_type": "code",
   "execution_count": 7,
   "id": "f84e1a6a-7249-4de1-ba81-db1ffeb5a54e",
   "metadata": {},
   "outputs": [
    {
     "data": {
      "application/vnd.microsoft.datawrangler.viewer.v0+json": {
       "columns": [
        {
         "name": "Salon",
         "rawType": "object",
         "type": "string"
        },
        {
         "name": "Nombre",
         "rawType": "object",
         "type": "string"
        },
        {
         "name": "Categoria",
         "rawType": "object",
         "type": "string"
        },
        {
         "name": "P. J.",
         "rawType": "int64",
         "type": "integer"
        },
        {
         "name": "Victorias",
         "rawType": "int64",
         "type": "integer"
        },
        {
         "name": "Empates",
         "rawType": "int64",
         "type": "integer"
        },
        {
         "name": "Derrotas",
         "rawType": "int64",
         "type": "integer"
        }
       ],
       "ref": "234537f0-c447-4b48-a979-e32b4e067533",
       "rows": [
        [
         "2019-A",
         "Agustin Saldaña",
         "Avanzado",
         "25",
         "0",
         "0",
         "0"
        ],
        [
         "2019-B",
         "Alastor Alva",
         "Avanzado",
         "25",
         "0",
         "1",
         "0"
        ],
        [
         "2020-A",
         "Abel Verdejo",
         "Avanzado",
         "25",
         "0",
         "0",
         "0"
        ],
        [
         "2020-B",
         "Aaron Ramirez",
         "Avanzado",
         "25",
         "0",
         "1",
         "1"
        ],
        [
         "2021-A",
         "Abelardo Alonso",
         "Avanzado",
         "25",
         "0",
         "0",
         "1"
        ],
        [
         "2021-B",
         "Alan Aranda",
         "Avanzado",
         "18",
         "0",
         "1",
         "0"
        ],
        [
         "2022-A",
         "Ana  Campillo",
         "Avanzado",
         "25",
         "1",
         "1",
         "0"
        ]
       ],
       "shape": {
        "columns": 6,
        "rows": 7
       }
      },
      "text/html": [
       "<div>\n",
       "<style scoped>\n",
       "    .dataframe tbody tr th:only-of-type {\n",
       "        vertical-align: middle;\n",
       "    }\n",
       "\n",
       "    .dataframe tbody tr th {\n",
       "        vertical-align: top;\n",
       "    }\n",
       "\n",
       "    .dataframe thead th {\n",
       "        text-align: right;\n",
       "    }\n",
       "</style>\n",
       "<table border=\"1\" class=\"dataframe\">\n",
       "  <thead>\n",
       "    <tr style=\"text-align: right;\">\n",
       "      <th></th>\n",
       "      <th>Nombre</th>\n",
       "      <th>Categoria</th>\n",
       "      <th>P. J.</th>\n",
       "      <th>Victorias</th>\n",
       "      <th>Empates</th>\n",
       "      <th>Derrotas</th>\n",
       "    </tr>\n",
       "    <tr>\n",
       "      <th>Salon</th>\n",
       "      <th></th>\n",
       "      <th></th>\n",
       "      <th></th>\n",
       "      <th></th>\n",
       "      <th></th>\n",
       "      <th></th>\n",
       "    </tr>\n",
       "  </thead>\n",
       "  <tbody>\n",
       "    <tr>\n",
       "      <th>2019-A</th>\n",
       "      <td>Agustin Saldaña</td>\n",
       "      <td>Avanzado</td>\n",
       "      <td>25</td>\n",
       "      <td>0</td>\n",
       "      <td>0</td>\n",
       "      <td>0</td>\n",
       "    </tr>\n",
       "    <tr>\n",
       "      <th>2019-B</th>\n",
       "      <td>Alastor Alva</td>\n",
       "      <td>Avanzado</td>\n",
       "      <td>25</td>\n",
       "      <td>0</td>\n",
       "      <td>1</td>\n",
       "      <td>0</td>\n",
       "    </tr>\n",
       "    <tr>\n",
       "      <th>2020-A</th>\n",
       "      <td>Abel Verdejo</td>\n",
       "      <td>Avanzado</td>\n",
       "      <td>25</td>\n",
       "      <td>0</td>\n",
       "      <td>0</td>\n",
       "      <td>0</td>\n",
       "    </tr>\n",
       "    <tr>\n",
       "      <th>2020-B</th>\n",
       "      <td>Aaron Ramirez</td>\n",
       "      <td>Avanzado</td>\n",
       "      <td>25</td>\n",
       "      <td>0</td>\n",
       "      <td>1</td>\n",
       "      <td>1</td>\n",
       "    </tr>\n",
       "    <tr>\n",
       "      <th>2021-A</th>\n",
       "      <td>Abelardo Alonso</td>\n",
       "      <td>Avanzado</td>\n",
       "      <td>25</td>\n",
       "      <td>0</td>\n",
       "      <td>0</td>\n",
       "      <td>1</td>\n",
       "    </tr>\n",
       "    <tr>\n",
       "      <th>2021-B</th>\n",
       "      <td>Alan Aranda</td>\n",
       "      <td>Avanzado</td>\n",
       "      <td>18</td>\n",
       "      <td>0</td>\n",
       "      <td>1</td>\n",
       "      <td>0</td>\n",
       "    </tr>\n",
       "    <tr>\n",
       "      <th>2022-A</th>\n",
       "      <td>Ana  Campillo</td>\n",
       "      <td>Avanzado</td>\n",
       "      <td>25</td>\n",
       "      <td>1</td>\n",
       "      <td>1</td>\n",
       "      <td>0</td>\n",
       "    </tr>\n",
       "  </tbody>\n",
       "</table>\n",
       "</div>"
      ],
      "text/plain": [
       "                 Nombre Categoria  P. J.  Victorias  Empates  Derrotas\n",
       "Salon                                                                 \n",
       "2019-A  Agustin Saldaña  Avanzado     25          0        0         0\n",
       "2019-B     Alastor Alva  Avanzado     25          0        1         0\n",
       "2020-A     Abel Verdejo  Avanzado     25          0        0         0\n",
       "2020-B    Aaron Ramirez  Avanzado     25          0        1         1\n",
       "2021-A  Abelardo Alonso  Avanzado     25          0        0         1\n",
       "2021-B      Alan Aranda  Avanzado     18          0        1         0\n",
       "2022-A    Ana  Campillo  Avanzado     25          1        1         0"
      ]
     },
     "execution_count": 7,
     "metadata": {},
     "output_type": "execute_result"
    }
   ],
   "source": [
    "Ajedrez.groupby(\"Salon\").min()"
   ]
  },
  {
   "cell_type": "markdown",
   "id": "b3d6f164-633b-4e4f-a8be-602f053c6873",
   "metadata": {},
   "source": [
    "__Ejercicio 3:__"
   ]
  },
  {
   "cell_type": "markdown",
   "id": "49936ff7-dc60-4fc6-a289-9788180f973f",
   "metadata": {},
   "source": [
    "Utilizar groupby para obtener la cantidad de estudiantes en cada salon"
   ]
  },
  {
   "cell_type": "code",
   "execution_count": 8,
   "id": "fb7ecdfe-867d-4537-80a8-e50f1d459025",
   "metadata": {},
   "outputs": [
    {
     "data": {
      "application/vnd.microsoft.datawrangler.viewer.v0+json": {
       "columns": [
        {
         "name": "Salon",
         "rawType": "object",
         "type": "string"
        },
        {
         "name": "0",
         "rawType": "int64",
         "type": "integer"
        }
       ],
       "ref": "6ae50117-4c6b-4c8c-a483-0e76cf534c59",
       "rows": [
        [
         "2019-A",
         "75"
        ],
        [
         "2019-B",
         "75"
        ],
        [
         "2020-A",
         "82"
        ],
        [
         "2020-B",
         "80"
        ],
        [
         "2021-A",
         "77"
        ],
        [
         "2021-B",
         "70"
        ],
        [
         "2022-A",
         "66"
        ]
       ],
       "shape": {
        "columns": 1,
        "rows": 7
       }
      },
      "text/plain": [
       "Salon\n",
       "2019-A    75\n",
       "2019-B    75\n",
       "2020-A    82\n",
       "2020-B    80\n",
       "2021-A    77\n",
       "2021-B    70\n",
       "2022-A    66\n",
       "dtype: int64"
      ]
     },
     "execution_count": 8,
     "metadata": {},
     "output_type": "execute_result"
    }
   ],
   "source": [
    "Ajedrez.groupby(\"Salon\").size()"
   ]
  },
  {
   "cell_type": "code",
   "execution_count": 9,
   "id": "4c3af25d-85e3-4a3e-b9ca-4e2da44c0026",
   "metadata": {},
   "outputs": [
    {
     "data": {
      "application/vnd.microsoft.datawrangler.viewer.v0+json": {
       "columns": [
        {
         "name": "Salon",
         "rawType": "object",
         "type": "string"
        },
        {
         "name": "Nombre",
         "rawType": "int64",
         "type": "integer"
        },
        {
         "name": "Categoria",
         "rawType": "int64",
         "type": "integer"
        },
        {
         "name": "P. J.",
         "rawType": "int64",
         "type": "integer"
        },
        {
         "name": "Victorias",
         "rawType": "int64",
         "type": "integer"
        },
        {
         "name": "Empates",
         "rawType": "int64",
         "type": "integer"
        },
        {
         "name": "Derrotas",
         "rawType": "int64",
         "type": "integer"
        }
       ],
       "ref": "1bc6fd62-49a2-4613-ad15-45f496851850",
       "rows": [
        [
         "2019-A",
         "75",
         "75",
         "75",
         "75",
         "75",
         "75"
        ],
        [
         "2019-B",
         "75",
         "75",
         "75",
         "75",
         "75",
         "75"
        ],
        [
         "2020-A",
         "82",
         "82",
         "82",
         "82",
         "82",
         "82"
        ],
        [
         "2020-B",
         "80",
         "80",
         "80",
         "80",
         "80",
         "80"
        ],
        [
         "2021-A",
         "77",
         "77",
         "77",
         "77",
         "77",
         "77"
        ],
        [
         "2021-B",
         "70",
         "70",
         "70",
         "70",
         "70",
         "70"
        ],
        [
         "2022-A",
         "66",
         "66",
         "66",
         "66",
         "66",
         "66"
        ]
       ],
       "shape": {
        "columns": 6,
        "rows": 7
       }
      },
      "text/html": [
       "<div>\n",
       "<style scoped>\n",
       "    .dataframe tbody tr th:only-of-type {\n",
       "        vertical-align: middle;\n",
       "    }\n",
       "\n",
       "    .dataframe tbody tr th {\n",
       "        vertical-align: top;\n",
       "    }\n",
       "\n",
       "    .dataframe thead th {\n",
       "        text-align: right;\n",
       "    }\n",
       "</style>\n",
       "<table border=\"1\" class=\"dataframe\">\n",
       "  <thead>\n",
       "    <tr style=\"text-align: right;\">\n",
       "      <th></th>\n",
       "      <th>Nombre</th>\n",
       "      <th>Categoria</th>\n",
       "      <th>P. J.</th>\n",
       "      <th>Victorias</th>\n",
       "      <th>Empates</th>\n",
       "      <th>Derrotas</th>\n",
       "    </tr>\n",
       "    <tr>\n",
       "      <th>Salon</th>\n",
       "      <th></th>\n",
       "      <th></th>\n",
       "      <th></th>\n",
       "      <th></th>\n",
       "      <th></th>\n",
       "      <th></th>\n",
       "    </tr>\n",
       "  </thead>\n",
       "  <tbody>\n",
       "    <tr>\n",
       "      <th>2019-A</th>\n",
       "      <td>75</td>\n",
       "      <td>75</td>\n",
       "      <td>75</td>\n",
       "      <td>75</td>\n",
       "      <td>75</td>\n",
       "      <td>75</td>\n",
       "    </tr>\n",
       "    <tr>\n",
       "      <th>2019-B</th>\n",
       "      <td>75</td>\n",
       "      <td>75</td>\n",
       "      <td>75</td>\n",
       "      <td>75</td>\n",
       "      <td>75</td>\n",
       "      <td>75</td>\n",
       "    </tr>\n",
       "    <tr>\n",
       "      <th>2020-A</th>\n",
       "      <td>82</td>\n",
       "      <td>82</td>\n",
       "      <td>82</td>\n",
       "      <td>82</td>\n",
       "      <td>82</td>\n",
       "      <td>82</td>\n",
       "    </tr>\n",
       "    <tr>\n",
       "      <th>2020-B</th>\n",
       "      <td>80</td>\n",
       "      <td>80</td>\n",
       "      <td>80</td>\n",
       "      <td>80</td>\n",
       "      <td>80</td>\n",
       "      <td>80</td>\n",
       "    </tr>\n",
       "    <tr>\n",
       "      <th>2021-A</th>\n",
       "      <td>77</td>\n",
       "      <td>77</td>\n",
       "      <td>77</td>\n",
       "      <td>77</td>\n",
       "      <td>77</td>\n",
       "      <td>77</td>\n",
       "    </tr>\n",
       "    <tr>\n",
       "      <th>2021-B</th>\n",
       "      <td>70</td>\n",
       "      <td>70</td>\n",
       "      <td>70</td>\n",
       "      <td>70</td>\n",
       "      <td>70</td>\n",
       "      <td>70</td>\n",
       "    </tr>\n",
       "    <tr>\n",
       "      <th>2022-A</th>\n",
       "      <td>66</td>\n",
       "      <td>66</td>\n",
       "      <td>66</td>\n",
       "      <td>66</td>\n",
       "      <td>66</td>\n",
       "      <td>66</td>\n",
       "    </tr>\n",
       "  </tbody>\n",
       "</table>\n",
       "</div>"
      ],
      "text/plain": [
       "        Nombre  Categoria  P. J.  Victorias  Empates  Derrotas\n",
       "Salon                                                         \n",
       "2019-A      75         75     75         75       75        75\n",
       "2019-B      75         75     75         75       75        75\n",
       "2020-A      82         82     82         82       82        82\n",
       "2020-B      80         80     80         80       80        80\n",
       "2021-A      77         77     77         77       77        77\n",
       "2021-B      70         70     70         70       70        70\n",
       "2022-A      66         66     66         66       66        66"
      ]
     },
     "execution_count": 9,
     "metadata": {},
     "output_type": "execute_result"
    }
   ],
   "source": [
    "Ajedrez.groupby(\"Salon\").count()"
   ]
  },
  {
   "cell_type": "markdown",
   "id": "aefaf6f4-f4cb-465f-9e56-59fee2adcb58",
   "metadata": {},
   "source": [
    "__Ejercicio 4:__"
   ]
  },
  {
   "cell_type": "markdown",
   "id": "926a160c-7656-4dab-8fad-bdeb605310cd",
   "metadata": {},
   "source": [
    "Utilizar groupby para obtener el valor promedio en todas las columnas de cada salon"
   ]
  },
  {
   "cell_type": "code",
   "execution_count": 13,
   "id": "5cab8688-228f-47ea-9554-23874d0c8ca1",
   "metadata": {},
   "outputs": [
    {
     "data": {
      "application/vnd.microsoft.datawrangler.viewer.v0+json": {
       "columns": [
        {
         "name": "Salon",
         "rawType": "object",
         "type": "string"
        },
        {
         "name": "P. J.",
         "rawType": "float64",
         "type": "float"
        },
        {
         "name": "Victorias",
         "rawType": "float64",
         "type": "float"
        },
        {
         "name": "Empates",
         "rawType": "float64",
         "type": "float"
        },
        {
         "name": "Derrotas",
         "rawType": "float64",
         "type": "float"
        }
       ],
       "ref": "fbb39b4f-fe94-4587-a0fc-8446ba24b620",
       "rows": [
        [
         "2019-A",
         "39.36",
         "15.32",
         "8.72",
         "15.32"
        ],
        [
         "2019-B",
         "38.373333333333335",
         "14.946666666666667",
         "8.48",
         "14.946666666666667"
        ],
        [
         "2020-A",
         "37.048780487804876",
         "14.560975609756097",
         "7.926829268292683",
         "14.560975609756097"
        ],
        [
         "2020-B",
         "38.05",
         "14.7375",
         "8.575",
         "14.7375"
        ],
        [
         "2021-A",
         "38.38961038961039",
         "15.688311688311689",
         "7.012987012987013",
         "15.688311688311689"
        ],
        [
         "2021-B",
         "37.57142857142857",
         "14.8",
         "7.9714285714285715",
         "14.8"
        ],
        [
         "2022-A",
         "37.0",
         "14.93939393939394",
         "7.121212121212121",
         "14.93939393939394"
        ]
       ],
       "shape": {
        "columns": 4,
        "rows": 7
       }
      },
      "text/html": [
       "<div>\n",
       "<style scoped>\n",
       "    .dataframe tbody tr th:only-of-type {\n",
       "        vertical-align: middle;\n",
       "    }\n",
       "\n",
       "    .dataframe tbody tr th {\n",
       "        vertical-align: top;\n",
       "    }\n",
       "\n",
       "    .dataframe thead th {\n",
       "        text-align: right;\n",
       "    }\n",
       "</style>\n",
       "<table border=\"1\" class=\"dataframe\">\n",
       "  <thead>\n",
       "    <tr style=\"text-align: right;\">\n",
       "      <th></th>\n",
       "      <th>P. J.</th>\n",
       "      <th>Victorias</th>\n",
       "      <th>Empates</th>\n",
       "      <th>Derrotas</th>\n",
       "    </tr>\n",
       "    <tr>\n",
       "      <th>Salon</th>\n",
       "      <th></th>\n",
       "      <th></th>\n",
       "      <th></th>\n",
       "      <th></th>\n",
       "    </tr>\n",
       "  </thead>\n",
       "  <tbody>\n",
       "    <tr>\n",
       "      <th>2019-A</th>\n",
       "      <td>39.360000</td>\n",
       "      <td>15.320000</td>\n",
       "      <td>8.720000</td>\n",
       "      <td>15.320000</td>\n",
       "    </tr>\n",
       "    <tr>\n",
       "      <th>2019-B</th>\n",
       "      <td>38.373333</td>\n",
       "      <td>14.946667</td>\n",
       "      <td>8.480000</td>\n",
       "      <td>14.946667</td>\n",
       "    </tr>\n",
       "    <tr>\n",
       "      <th>2020-A</th>\n",
       "      <td>37.048780</td>\n",
       "      <td>14.560976</td>\n",
       "      <td>7.926829</td>\n",
       "      <td>14.560976</td>\n",
       "    </tr>\n",
       "    <tr>\n",
       "      <th>2020-B</th>\n",
       "      <td>38.050000</td>\n",
       "      <td>14.737500</td>\n",
       "      <td>8.575000</td>\n",
       "      <td>14.737500</td>\n",
       "    </tr>\n",
       "    <tr>\n",
       "      <th>2021-A</th>\n",
       "      <td>38.389610</td>\n",
       "      <td>15.688312</td>\n",
       "      <td>7.012987</td>\n",
       "      <td>15.688312</td>\n",
       "    </tr>\n",
       "    <tr>\n",
       "      <th>2021-B</th>\n",
       "      <td>37.571429</td>\n",
       "      <td>14.800000</td>\n",
       "      <td>7.971429</td>\n",
       "      <td>14.800000</td>\n",
       "    </tr>\n",
       "    <tr>\n",
       "      <th>2022-A</th>\n",
       "      <td>37.000000</td>\n",
       "      <td>14.939394</td>\n",
       "      <td>7.121212</td>\n",
       "      <td>14.939394</td>\n",
       "    </tr>\n",
       "  </tbody>\n",
       "</table>\n",
       "</div>"
      ],
      "text/plain": [
       "            P. J.  Victorias   Empates   Derrotas\n",
       "Salon                                            \n",
       "2019-A  39.360000  15.320000  8.720000  15.320000\n",
       "2019-B  38.373333  14.946667  8.480000  14.946667\n",
       "2020-A  37.048780  14.560976  7.926829  14.560976\n",
       "2020-B  38.050000  14.737500  8.575000  14.737500\n",
       "2021-A  38.389610  15.688312  7.012987  15.688312\n",
       "2021-B  37.571429  14.800000  7.971429  14.800000\n",
       "2022-A  37.000000  14.939394  7.121212  14.939394"
      ]
     },
     "execution_count": 13,
     "metadata": {},
     "output_type": "execute_result"
    }
   ],
   "source": [
    "Ajedrez.groupby(\"Salon\").mean(numeric_only=True)"
   ]
  },
  {
   "cell_type": "code",
   "execution_count": null,
   "id": "2989689c-98b2-4a8c-afc7-7a948117a2e1",
   "metadata": {},
   "outputs": [],
   "source": []
  },
  {
   "cell_type": "markdown",
   "id": "36cd242f-8030-4492-8b07-bdf8a9fc9ce1",
   "metadata": {},
   "source": [
    "Utilizar groupby para obtener la cantidad total de partidas jugadas, victorias, empates y derrotas de cada salon"
   ]
  },
  {
   "cell_type": "code",
   "execution_count": 16,
   "id": "72afe1bc-9ce3-4306-a5f2-9d828acddbe2",
   "metadata": {},
   "outputs": [],
   "source": [
    "suma = Ajedrez.groupby(\"Salon\").sum(numeric_only=True)"
   ]
  },
  {
   "cell_type": "code",
   "execution_count": 17,
   "id": "a218a565",
   "metadata": {},
   "outputs": [
    {
     "data": {
      "application/vnd.microsoft.datawrangler.viewer.v0+json": {
       "columns": [
        {
         "name": "Salon",
         "rawType": "object",
         "type": "string"
        },
        {
         "name": "P. J.",
         "rawType": "int64",
         "type": "integer"
        },
        {
         "name": "Victorias",
         "rawType": "int64",
         "type": "integer"
        },
        {
         "name": "Empates",
         "rawType": "int64",
         "type": "integer"
        },
        {
         "name": "Derrotas",
         "rawType": "int64",
         "type": "integer"
        }
       ],
       "ref": "b3ed9c4d-f197-4c5a-8529-6fd8a7895794",
       "rows": [
        [
         "2019-A",
         "2952",
         "1149",
         "654",
         "1149"
        ],
        [
         "2019-B",
         "2878",
         "1121",
         "636",
         "1121"
        ],
        [
         "2020-A",
         "3038",
         "1194",
         "650",
         "1194"
        ],
        [
         "2020-B",
         "3044",
         "1179",
         "686",
         "1179"
        ],
        [
         "2021-A",
         "2956",
         "1208",
         "540",
         "1208"
        ],
        [
         "2021-B",
         "2630",
         "1036",
         "558",
         "1036"
        ],
        [
         "2022-A",
         "2442",
         "986",
         "470",
         "986"
        ]
       ],
       "shape": {
        "columns": 4,
        "rows": 7
       }
      },
      "text/html": [
       "<div>\n",
       "<style scoped>\n",
       "    .dataframe tbody tr th:only-of-type {\n",
       "        vertical-align: middle;\n",
       "    }\n",
       "\n",
       "    .dataframe tbody tr th {\n",
       "        vertical-align: top;\n",
       "    }\n",
       "\n",
       "    .dataframe thead th {\n",
       "        text-align: right;\n",
       "    }\n",
       "</style>\n",
       "<table border=\"1\" class=\"dataframe\">\n",
       "  <thead>\n",
       "    <tr style=\"text-align: right;\">\n",
       "      <th></th>\n",
       "      <th>P. J.</th>\n",
       "      <th>Victorias</th>\n",
       "      <th>Empates</th>\n",
       "      <th>Derrotas</th>\n",
       "    </tr>\n",
       "    <tr>\n",
       "      <th>Salon</th>\n",
       "      <th></th>\n",
       "      <th></th>\n",
       "      <th></th>\n",
       "      <th></th>\n",
       "    </tr>\n",
       "  </thead>\n",
       "  <tbody>\n",
       "    <tr>\n",
       "      <th>2019-A</th>\n",
       "      <td>2952</td>\n",
       "      <td>1149</td>\n",
       "      <td>654</td>\n",
       "      <td>1149</td>\n",
       "    </tr>\n",
       "    <tr>\n",
       "      <th>2019-B</th>\n",
       "      <td>2878</td>\n",
       "      <td>1121</td>\n",
       "      <td>636</td>\n",
       "      <td>1121</td>\n",
       "    </tr>\n",
       "    <tr>\n",
       "      <th>2020-A</th>\n",
       "      <td>3038</td>\n",
       "      <td>1194</td>\n",
       "      <td>650</td>\n",
       "      <td>1194</td>\n",
       "    </tr>\n",
       "    <tr>\n",
       "      <th>2020-B</th>\n",
       "      <td>3044</td>\n",
       "      <td>1179</td>\n",
       "      <td>686</td>\n",
       "      <td>1179</td>\n",
       "    </tr>\n",
       "    <tr>\n",
       "      <th>2021-A</th>\n",
       "      <td>2956</td>\n",
       "      <td>1208</td>\n",
       "      <td>540</td>\n",
       "      <td>1208</td>\n",
       "    </tr>\n",
       "    <tr>\n",
       "      <th>2021-B</th>\n",
       "      <td>2630</td>\n",
       "      <td>1036</td>\n",
       "      <td>558</td>\n",
       "      <td>1036</td>\n",
       "    </tr>\n",
       "    <tr>\n",
       "      <th>2022-A</th>\n",
       "      <td>2442</td>\n",
       "      <td>986</td>\n",
       "      <td>470</td>\n",
       "      <td>986</td>\n",
       "    </tr>\n",
       "  </tbody>\n",
       "</table>\n",
       "</div>"
      ],
      "text/plain": [
       "        P. J.  Victorias  Empates  Derrotas\n",
       "Salon                                      \n",
       "2019-A   2952       1149      654      1149\n",
       "2019-B   2878       1121      636      1121\n",
       "2020-A   3038       1194      650      1194\n",
       "2020-B   3044       1179      686      1179\n",
       "2021-A   2956       1208      540      1208\n",
       "2021-B   2630       1036      558      1036\n",
       "2022-A   2442        986      470       986"
      ]
     },
     "execution_count": 17,
     "metadata": {},
     "output_type": "execute_result"
    }
   ],
   "source": [
    "suma"
   ]
  },
  {
   "cell_type": "markdown",
   "id": "3ea15976-204d-4aad-b4d7-b9bda2c5b6ad",
   "metadata": {},
   "source": [
    "__Ejercicio 5:__"
   ]
  },
  {
   "cell_type": "markdown",
   "id": "5cd6ca6c-d63a-46cc-a023-f3949fe166ff",
   "metadata": {},
   "source": [
    "Filtrar el DataFrame anterior, conservando los salones donde se jugaron mas de 2800 partidas"
   ]
  },
  {
   "cell_type": "code",
   "execution_count": 20,
   "id": "d06be0ef-3a13-4ed1-8ed8-2c9c309ea0ed",
   "metadata": {},
   "outputs": [
    {
     "data": {
      "application/vnd.microsoft.datawrangler.viewer.v0+json": {
       "columns": [
        {
         "name": "Salon",
         "rawType": "object",
         "type": "string"
        },
        {
         "name": "P. J.",
         "rawType": "int64",
         "type": "integer"
        },
        {
         "name": "Victorias",
         "rawType": "int64",
         "type": "integer"
        },
        {
         "name": "Empates",
         "rawType": "int64",
         "type": "integer"
        },
        {
         "name": "Derrotas",
         "rawType": "int64",
         "type": "integer"
        }
       ],
       "ref": "c52323f0-474c-4f46-802d-af798dc942cd",
       "rows": [
        [
         "2019-A",
         "2952",
         "1149",
         "654",
         "1149"
        ],
        [
         "2019-B",
         "2878",
         "1121",
         "636",
         "1121"
        ],
        [
         "2020-A",
         "3038",
         "1194",
         "650",
         "1194"
        ],
        [
         "2020-B",
         "3044",
         "1179",
         "686",
         "1179"
        ],
        [
         "2021-A",
         "2956",
         "1208",
         "540",
         "1208"
        ]
       ],
       "shape": {
        "columns": 4,
        "rows": 5
       }
      },
      "text/html": [
       "<div>\n",
       "<style scoped>\n",
       "    .dataframe tbody tr th:only-of-type {\n",
       "        vertical-align: middle;\n",
       "    }\n",
       "\n",
       "    .dataframe tbody tr th {\n",
       "        vertical-align: top;\n",
       "    }\n",
       "\n",
       "    .dataframe thead th {\n",
       "        text-align: right;\n",
       "    }\n",
       "</style>\n",
       "<table border=\"1\" class=\"dataframe\">\n",
       "  <thead>\n",
       "    <tr style=\"text-align: right;\">\n",
       "      <th></th>\n",
       "      <th>P. J.</th>\n",
       "      <th>Victorias</th>\n",
       "      <th>Empates</th>\n",
       "      <th>Derrotas</th>\n",
       "    </tr>\n",
       "    <tr>\n",
       "      <th>Salon</th>\n",
       "      <th></th>\n",
       "      <th></th>\n",
       "      <th></th>\n",
       "      <th></th>\n",
       "    </tr>\n",
       "  </thead>\n",
       "  <tbody>\n",
       "    <tr>\n",
       "      <th>2019-A</th>\n",
       "      <td>2952</td>\n",
       "      <td>1149</td>\n",
       "      <td>654</td>\n",
       "      <td>1149</td>\n",
       "    </tr>\n",
       "    <tr>\n",
       "      <th>2019-B</th>\n",
       "      <td>2878</td>\n",
       "      <td>1121</td>\n",
       "      <td>636</td>\n",
       "      <td>1121</td>\n",
       "    </tr>\n",
       "    <tr>\n",
       "      <th>2020-A</th>\n",
       "      <td>3038</td>\n",
       "      <td>1194</td>\n",
       "      <td>650</td>\n",
       "      <td>1194</td>\n",
       "    </tr>\n",
       "    <tr>\n",
       "      <th>2020-B</th>\n",
       "      <td>3044</td>\n",
       "      <td>1179</td>\n",
       "      <td>686</td>\n",
       "      <td>1179</td>\n",
       "    </tr>\n",
       "    <tr>\n",
       "      <th>2021-A</th>\n",
       "      <td>2956</td>\n",
       "      <td>1208</td>\n",
       "      <td>540</td>\n",
       "      <td>1208</td>\n",
       "    </tr>\n",
       "  </tbody>\n",
       "</table>\n",
       "</div>"
      ],
      "text/plain": [
       "        P. J.  Victorias  Empates  Derrotas\n",
       "Salon                                      \n",
       "2019-A   2952       1149      654      1149\n",
       "2019-B   2878       1121      636      1121\n",
       "2020-A   3038       1194      650      1194\n",
       "2020-B   3044       1179      686      1179\n",
       "2021-A   2956       1208      540      1208"
      ]
     },
     "execution_count": 20,
     "metadata": {},
     "output_type": "execute_result"
    }
   ],
   "source": [
    "suma[suma['P. J.'] > 2800]"
   ]
  },
  {
   "cell_type": "markdown",
   "id": "0f7cc17e-c6b9-4a1b-a05b-ea369ec65935",
   "metadata": {},
   "source": [
    "__Ejercicio 6:__"
   ]
  },
  {
   "cell_type": "markdown",
   "id": "96ba646f-e8a1-46bd-b91d-6f9b0945ec15",
   "metadata": {},
   "source": [
    "Utilizar groupby para obtener los datos de los estudiantes en cuyo salón, el máximo número de victorias fue 25."
   ]
  },
  {
   "cell_type": "code",
   "execution_count": 23,
   "id": "57b331bb-d5cf-48c4-bccf-e2839075043d",
   "metadata": {},
   "outputs": [
    {
     "data": {
      "application/vnd.microsoft.datawrangler.viewer.v0+json": {
       "columns": [
        {
         "name": "Salon",
         "rawType": "object",
         "type": "string"
        },
        {
         "name": "Nombre",
         "rawType": "object",
         "type": "string"
        },
        {
         "name": "Categoria",
         "rawType": "object",
         "type": "string"
        },
        {
         "name": "P. J.",
         "rawType": "int64",
         "type": "integer"
        },
        {
         "name": "Victorias",
         "rawType": "int64",
         "type": "integer"
        },
        {
         "name": "Empates",
         "rawType": "int64",
         "type": "integer"
        },
        {
         "name": "Derrotas",
         "rawType": "int64",
         "type": "integer"
        }
       ],
       "ref": "5f58ec42-dbd9-4f8a-a774-3f219b0c99d4",
       "rows": [
        [
         "2019-A",
         "Yasmin Rudomin",
         "Principiante",
         "50",
         "25",
         "29",
         "42"
        ],
        [
         "2020-B",
         "Yulisa Contreras",
         "Principiante",
         "50",
         "25",
         "29",
         "34"
        ],
        [
         "2021-B",
         "angel Martinez",
         "Principiante",
         "50",
         "25",
         "24",
         "39"
        ],
        [
         "2022-A",
         "angel Hinojosa",
         "Principiante",
         "50",
         "25",
         "19",
         "37"
        ]
       ],
       "shape": {
        "columns": 6,
        "rows": 4
       }
      },
      "text/html": [
       "<div>\n",
       "<style scoped>\n",
       "    .dataframe tbody tr th:only-of-type {\n",
       "        vertical-align: middle;\n",
       "    }\n",
       "\n",
       "    .dataframe tbody tr th {\n",
       "        vertical-align: top;\n",
       "    }\n",
       "\n",
       "    .dataframe thead th {\n",
       "        text-align: right;\n",
       "    }\n",
       "</style>\n",
       "<table border=\"1\" class=\"dataframe\">\n",
       "  <thead>\n",
       "    <tr style=\"text-align: right;\">\n",
       "      <th></th>\n",
       "      <th>Nombre</th>\n",
       "      <th>Categoria</th>\n",
       "      <th>P. J.</th>\n",
       "      <th>Victorias</th>\n",
       "      <th>Empates</th>\n",
       "      <th>Derrotas</th>\n",
       "    </tr>\n",
       "    <tr>\n",
       "      <th>Salon</th>\n",
       "      <th></th>\n",
       "      <th></th>\n",
       "      <th></th>\n",
       "      <th></th>\n",
       "      <th></th>\n",
       "      <th></th>\n",
       "    </tr>\n",
       "  </thead>\n",
       "  <tbody>\n",
       "    <tr>\n",
       "      <th>2019-A</th>\n",
       "      <td>Yasmin Rudomin</td>\n",
       "      <td>Principiante</td>\n",
       "      <td>50</td>\n",
       "      <td>25</td>\n",
       "      <td>29</td>\n",
       "      <td>42</td>\n",
       "    </tr>\n",
       "    <tr>\n",
       "      <th>2020-B</th>\n",
       "      <td>Yulisa Contreras</td>\n",
       "      <td>Principiante</td>\n",
       "      <td>50</td>\n",
       "      <td>25</td>\n",
       "      <td>29</td>\n",
       "      <td>34</td>\n",
       "    </tr>\n",
       "    <tr>\n",
       "      <th>2021-B</th>\n",
       "      <td>angel Martinez</td>\n",
       "      <td>Principiante</td>\n",
       "      <td>50</td>\n",
       "      <td>25</td>\n",
       "      <td>24</td>\n",
       "      <td>39</td>\n",
       "    </tr>\n",
       "    <tr>\n",
       "      <th>2022-A</th>\n",
       "      <td>angel Hinojosa</td>\n",
       "      <td>Principiante</td>\n",
       "      <td>50</td>\n",
       "      <td>25</td>\n",
       "      <td>19</td>\n",
       "      <td>37</td>\n",
       "    </tr>\n",
       "  </tbody>\n",
       "</table>\n",
       "</div>"
      ],
      "text/plain": [
       "                  Nombre     Categoria  P. J.  Victorias  Empates  Derrotas\n",
       "Salon                                                                      \n",
       "2019-A    Yasmin Rudomin  Principiante     50         25       29        42\n",
       "2020-B  Yulisa Contreras  Principiante     50         25       29        34\n",
       "2021-B    angel Martinez  Principiante     50         25       24        39\n",
       "2022-A    angel Hinojosa  Principiante     50         25       19        37"
      ]
     },
     "execution_count": 23,
     "metadata": {},
     "output_type": "execute_result"
    }
   ],
   "source": [
    "def calcular(group):\n",
    "    return group['Victorias'].max() == 25\n",
    "\n",
    "\n",
    "Ajedrez.groupby(\"Salon\").filter(calcular).groupby(\"Salon\").max()"
   ]
  },
  {
   "cell_type": "markdown",
   "id": "9b83045d-d453-4ffd-8ac1-8459db1284e4",
   "metadata": {},
   "source": [
    "__Ejercicio 7:__"
   ]
  },
  {
   "cell_type": "markdown",
   "id": "745e8708-cbf8-4a11-a56c-e1b18218ba46",
   "metadata": {},
   "source": [
    "Utilizar groupby para obtener los datos de los 2 primeros estudiantes en cada salon"
   ]
  },
  {
   "cell_type": "code",
   "execution_count": 24,
   "id": "32bb1daa-fbdd-42b5-a82f-19db50c9d3f0",
   "metadata": {},
   "outputs": [
    {
     "data": {
      "application/vnd.microsoft.datawrangler.viewer.v0+json": {
       "columns": [
        {
         "name": "Id",
         "rawType": "int64",
         "type": "integer"
        },
        {
         "name": "Nombre",
         "rawType": "object",
         "type": "string"
        },
        {
         "name": "Categoria",
         "rawType": "object",
         "type": "string"
        },
        {
         "name": "Salon",
         "rawType": "object",
         "type": "string"
        },
        {
         "name": "P. J.",
         "rawType": "int64",
         "type": "integer"
        },
        {
         "name": "Victorias",
         "rawType": "int64",
         "type": "integer"
        },
        {
         "name": "Empates",
         "rawType": "int64",
         "type": "integer"
        },
        {
         "name": "Derrotas",
         "rawType": "int64",
         "type": "integer"
        }
       ],
       "ref": "6a37ec4a-35f3-41f3-92d0-19a9c62e18ba",
       "rows": [
        [
         "1000",
         "Edison Marin",
         "Avanzado",
         "2021-B",
         "37",
         "8",
         "7",
         "22"
        ],
        [
         "1001",
         "Elena Soberon",
         "Intermedio",
         "2021-B",
         "30",
         "9",
         "11",
         "10"
        ],
        [
         "1002",
         "Yolanda Berlanga",
         "Avanzado",
         "2020-B",
         "32",
         "22",
         "6",
         "4"
        ],
        [
         "1003",
         "Yire Cuenca",
         "Principiante",
         "2020-B",
         "37",
         "7",
         "9",
         "21"
        ],
        [
         "1005",
         "Cielo Guak",
         "Principiante",
         "2019-B",
         "46",
         "20",
         "22",
         "4"
        ],
        [
         "1007",
         "Cielo Cuenca",
         "Principiante",
         "2019-B",
         "45",
         "0",
         "6",
         "39"
        ],
        [
         "1011",
         "Maira Sandoval",
         "Principiante",
         "2022-A",
         "49",
         "8",
         "5",
         "36"
        ],
        [
         "1012",
         "angel Hinojosa",
         "Principiante",
         "2022-A",
         "43",
         "7",
         "7",
         "29"
        ],
        [
         "1018",
         "Valentina Barajas",
         "Intermedio",
         "2021-A",
         "29",
         "6",
         "11",
         "12"
        ],
        [
         "1020",
         "Yessica Infante",
         "Intermedio",
         "2020-A",
         "43",
         "7",
         "17",
         "19"
        ],
        [
         "1021",
         "Julian Vera",
         "Principiante",
         "2019-A",
         "33",
         "20",
         "13",
         "0"
        ],
        [
         "1022",
         "Julian Garcia",
         "Avanzado",
         "2019-A",
         "48",
         "23",
         "4",
         "21"
        ],
        [
         "1025",
         "Dionisio Arias",
         "Intermedio",
         "2021-A",
         "47",
         "18",
         "1",
         "28"
        ],
        [
         "1026",
         "Luis Ondarza",
         "Intermedio",
         "2020-A",
         "26",
         "20",
         "4",
         "2"
        ]
       ],
       "shape": {
        "columns": 7,
        "rows": 14
       }
      },
      "text/html": [
       "<div>\n",
       "<style scoped>\n",
       "    .dataframe tbody tr th:only-of-type {\n",
       "        vertical-align: middle;\n",
       "    }\n",
       "\n",
       "    .dataframe tbody tr th {\n",
       "        vertical-align: top;\n",
       "    }\n",
       "\n",
       "    .dataframe thead th {\n",
       "        text-align: right;\n",
       "    }\n",
       "</style>\n",
       "<table border=\"1\" class=\"dataframe\">\n",
       "  <thead>\n",
       "    <tr style=\"text-align: right;\">\n",
       "      <th></th>\n",
       "      <th>Nombre</th>\n",
       "      <th>Categoria</th>\n",
       "      <th>Salon</th>\n",
       "      <th>P. J.</th>\n",
       "      <th>Victorias</th>\n",
       "      <th>Empates</th>\n",
       "      <th>Derrotas</th>\n",
       "    </tr>\n",
       "    <tr>\n",
       "      <th>Id</th>\n",
       "      <th></th>\n",
       "      <th></th>\n",
       "      <th></th>\n",
       "      <th></th>\n",
       "      <th></th>\n",
       "      <th></th>\n",
       "      <th></th>\n",
       "    </tr>\n",
       "  </thead>\n",
       "  <tbody>\n",
       "    <tr>\n",
       "      <th>1000</th>\n",
       "      <td>Edison Marin</td>\n",
       "      <td>Avanzado</td>\n",
       "      <td>2021-B</td>\n",
       "      <td>37</td>\n",
       "      <td>8</td>\n",
       "      <td>7</td>\n",
       "      <td>22</td>\n",
       "    </tr>\n",
       "    <tr>\n",
       "      <th>1001</th>\n",
       "      <td>Elena Soberon</td>\n",
       "      <td>Intermedio</td>\n",
       "      <td>2021-B</td>\n",
       "      <td>30</td>\n",
       "      <td>9</td>\n",
       "      <td>11</td>\n",
       "      <td>10</td>\n",
       "    </tr>\n",
       "    <tr>\n",
       "      <th>1002</th>\n",
       "      <td>Yolanda Berlanga</td>\n",
       "      <td>Avanzado</td>\n",
       "      <td>2020-B</td>\n",
       "      <td>32</td>\n",
       "      <td>22</td>\n",
       "      <td>6</td>\n",
       "      <td>4</td>\n",
       "    </tr>\n",
       "    <tr>\n",
       "      <th>1003</th>\n",
       "      <td>Yire Cuenca</td>\n",
       "      <td>Principiante</td>\n",
       "      <td>2020-B</td>\n",
       "      <td>37</td>\n",
       "      <td>7</td>\n",
       "      <td>9</td>\n",
       "      <td>21</td>\n",
       "    </tr>\n",
       "    <tr>\n",
       "      <th>1005</th>\n",
       "      <td>Cielo Guak</td>\n",
       "      <td>Principiante</td>\n",
       "      <td>2019-B</td>\n",
       "      <td>46</td>\n",
       "      <td>20</td>\n",
       "      <td>22</td>\n",
       "      <td>4</td>\n",
       "    </tr>\n",
       "    <tr>\n",
       "      <th>1007</th>\n",
       "      <td>Cielo Cuenca</td>\n",
       "      <td>Principiante</td>\n",
       "      <td>2019-B</td>\n",
       "      <td>45</td>\n",
       "      <td>0</td>\n",
       "      <td>6</td>\n",
       "      <td>39</td>\n",
       "    </tr>\n",
       "    <tr>\n",
       "      <th>1011</th>\n",
       "      <td>Maira Sandoval</td>\n",
       "      <td>Principiante</td>\n",
       "      <td>2022-A</td>\n",
       "      <td>49</td>\n",
       "      <td>8</td>\n",
       "      <td>5</td>\n",
       "      <td>36</td>\n",
       "    </tr>\n",
       "    <tr>\n",
       "      <th>1012</th>\n",
       "      <td>angel Hinojosa</td>\n",
       "      <td>Principiante</td>\n",
       "      <td>2022-A</td>\n",
       "      <td>43</td>\n",
       "      <td>7</td>\n",
       "      <td>7</td>\n",
       "      <td>29</td>\n",
       "    </tr>\n",
       "    <tr>\n",
       "      <th>1018</th>\n",
       "      <td>Valentina Barajas</td>\n",
       "      <td>Intermedio</td>\n",
       "      <td>2021-A</td>\n",
       "      <td>29</td>\n",
       "      <td>6</td>\n",
       "      <td>11</td>\n",
       "      <td>12</td>\n",
       "    </tr>\n",
       "    <tr>\n",
       "      <th>1020</th>\n",
       "      <td>Yessica Infante</td>\n",
       "      <td>Intermedio</td>\n",
       "      <td>2020-A</td>\n",
       "      <td>43</td>\n",
       "      <td>7</td>\n",
       "      <td>17</td>\n",
       "      <td>19</td>\n",
       "    </tr>\n",
       "    <tr>\n",
       "      <th>1021</th>\n",
       "      <td>Julian Vera</td>\n",
       "      <td>Principiante</td>\n",
       "      <td>2019-A</td>\n",
       "      <td>33</td>\n",
       "      <td>20</td>\n",
       "      <td>13</td>\n",
       "      <td>0</td>\n",
       "    </tr>\n",
       "    <tr>\n",
       "      <th>1022</th>\n",
       "      <td>Julian Garcia</td>\n",
       "      <td>Avanzado</td>\n",
       "      <td>2019-A</td>\n",
       "      <td>48</td>\n",
       "      <td>23</td>\n",
       "      <td>4</td>\n",
       "      <td>21</td>\n",
       "    </tr>\n",
       "    <tr>\n",
       "      <th>1025</th>\n",
       "      <td>Dionisio Arias</td>\n",
       "      <td>Intermedio</td>\n",
       "      <td>2021-A</td>\n",
       "      <td>47</td>\n",
       "      <td>18</td>\n",
       "      <td>1</td>\n",
       "      <td>28</td>\n",
       "    </tr>\n",
       "    <tr>\n",
       "      <th>1026</th>\n",
       "      <td>Luis Ondarza</td>\n",
       "      <td>Intermedio</td>\n",
       "      <td>2020-A</td>\n",
       "      <td>26</td>\n",
       "      <td>20</td>\n",
       "      <td>4</td>\n",
       "      <td>2</td>\n",
       "    </tr>\n",
       "  </tbody>\n",
       "</table>\n",
       "</div>"
      ],
      "text/plain": [
       "                 Nombre     Categoria   Salon  P. J.  Victorias  Empates  \\\n",
       "Id                                                                         \n",
       "1000       Edison Marin      Avanzado  2021-B     37          8        7   \n",
       "1001      Elena Soberon    Intermedio  2021-B     30          9       11   \n",
       "1002   Yolanda Berlanga      Avanzado  2020-B     32         22        6   \n",
       "1003        Yire Cuenca  Principiante  2020-B     37          7        9   \n",
       "1005         Cielo Guak  Principiante  2019-B     46         20       22   \n",
       "1007       Cielo Cuenca  Principiante  2019-B     45          0        6   \n",
       "1011     Maira Sandoval  Principiante  2022-A     49          8        5   \n",
       "1012     angel Hinojosa  Principiante  2022-A     43          7        7   \n",
       "1018  Valentina Barajas    Intermedio  2021-A     29          6       11   \n",
       "1020    Yessica Infante    Intermedio  2020-A     43          7       17   \n",
       "1021        Julian Vera  Principiante  2019-A     33         20       13   \n",
       "1022      Julian Garcia      Avanzado  2019-A     48         23        4   \n",
       "1025     Dionisio Arias    Intermedio  2021-A     47         18        1   \n",
       "1026       Luis Ondarza    Intermedio  2020-A     26         20        4   \n",
       "\n",
       "      Derrotas  \n",
       "Id              \n",
       "1000        22  \n",
       "1001        10  \n",
       "1002         4  \n",
       "1003        21  \n",
       "1005         4  \n",
       "1007        39  \n",
       "1011        36  \n",
       "1012        29  \n",
       "1018        12  \n",
       "1020        19  \n",
       "1021         0  \n",
       "1022        21  \n",
       "1025        28  \n",
       "1026         2  "
      ]
     },
     "execution_count": 24,
     "metadata": {},
     "output_type": "execute_result"
    }
   ],
   "source": [
    "Ajedrez.groupby(\"Salon\").head(2)"
   ]
  },
  {
   "cell_type": "markdown",
   "id": "d22d6319-9342-4ac3-a28a-6721cd1545ba",
   "metadata": {},
   "source": [
    "Utilizar groupby para obtener los datos del ultimo estudiante en cada salon"
   ]
  },
  {
   "cell_type": "code",
   "execution_count": 25,
   "id": "86b0928c-7f22-41dd-a9ac-4b7a1b7a7b26",
   "metadata": {},
   "outputs": [
    {
     "data": {
      "application/vnd.microsoft.datawrangler.viewer.v0+json": {
       "columns": [
        {
         "name": "Id",
         "rawType": "int64",
         "type": "integer"
        },
        {
         "name": "Nombre",
         "rawType": "object",
         "type": "string"
        },
        {
         "name": "Categoria",
         "rawType": "object",
         "type": "string"
        },
        {
         "name": "Salon",
         "rawType": "object",
         "type": "string"
        },
        {
         "name": "P. J.",
         "rawType": "int64",
         "type": "integer"
        },
        {
         "name": "Victorias",
         "rawType": "int64",
         "type": "integer"
        },
        {
         "name": "Empates",
         "rawType": "int64",
         "type": "integer"
        },
        {
         "name": "Derrotas",
         "rawType": "int64",
         "type": "integer"
        }
       ],
       "ref": "eee44fcc-8400-4dae-b9ed-a90dd99b2e03",
       "rows": [
        [
         "1489",
         "Ilse Velasco",
         "Intermedio",
         "2021-B",
         "38",
         "7",
         "3",
         "28"
        ],
        [
         "1498",
         "Deisy Macias",
         "Principiante",
         "2019-B",
         "29",
         "18",
         "7",
         "4"
        ],
        [
         "1499",
         "Tobias Mosqueda",
         "Intermedio",
         "2019-A",
         "47",
         "13",
         "21",
         "13"
        ],
        [
         "1502",
         "Jean Lacy",
         "Avanzado",
         "2022-A",
         "31",
         "8",
         "16",
         "7"
        ],
        [
         "1505",
         "Felipe Mosqueda",
         "Avanzado",
         "2020-A",
         "37",
         "24",
         "3",
         "10"
        ],
        [
         "1509",
         "Horacio Sifuentes",
         "Principiante",
         "2020-B",
         "28",
         "18",
         "4",
         "6"
        ],
        [
         "1524",
         "Aldo Palacios",
         "Intermedio",
         "2021-A",
         "47",
         "30",
         "3",
         "14"
        ]
       ],
       "shape": {
        "columns": 7,
        "rows": 7
       }
      },
      "text/html": [
       "<div>\n",
       "<style scoped>\n",
       "    .dataframe tbody tr th:only-of-type {\n",
       "        vertical-align: middle;\n",
       "    }\n",
       "\n",
       "    .dataframe tbody tr th {\n",
       "        vertical-align: top;\n",
       "    }\n",
       "\n",
       "    .dataframe thead th {\n",
       "        text-align: right;\n",
       "    }\n",
       "</style>\n",
       "<table border=\"1\" class=\"dataframe\">\n",
       "  <thead>\n",
       "    <tr style=\"text-align: right;\">\n",
       "      <th></th>\n",
       "      <th>Nombre</th>\n",
       "      <th>Categoria</th>\n",
       "      <th>Salon</th>\n",
       "      <th>P. J.</th>\n",
       "      <th>Victorias</th>\n",
       "      <th>Empates</th>\n",
       "      <th>Derrotas</th>\n",
       "    </tr>\n",
       "    <tr>\n",
       "      <th>Id</th>\n",
       "      <th></th>\n",
       "      <th></th>\n",
       "      <th></th>\n",
       "      <th></th>\n",
       "      <th></th>\n",
       "      <th></th>\n",
       "      <th></th>\n",
       "    </tr>\n",
       "  </thead>\n",
       "  <tbody>\n",
       "    <tr>\n",
       "      <th>1489</th>\n",
       "      <td>Ilse Velasco</td>\n",
       "      <td>Intermedio</td>\n",
       "      <td>2021-B</td>\n",
       "      <td>38</td>\n",
       "      <td>7</td>\n",
       "      <td>3</td>\n",
       "      <td>28</td>\n",
       "    </tr>\n",
       "    <tr>\n",
       "      <th>1498</th>\n",
       "      <td>Deisy Macias</td>\n",
       "      <td>Principiante</td>\n",
       "      <td>2019-B</td>\n",
       "      <td>29</td>\n",
       "      <td>18</td>\n",
       "      <td>7</td>\n",
       "      <td>4</td>\n",
       "    </tr>\n",
       "    <tr>\n",
       "      <th>1499</th>\n",
       "      <td>Tobias Mosqueda</td>\n",
       "      <td>Intermedio</td>\n",
       "      <td>2019-A</td>\n",
       "      <td>47</td>\n",
       "      <td>13</td>\n",
       "      <td>21</td>\n",
       "      <td>13</td>\n",
       "    </tr>\n",
       "    <tr>\n",
       "      <th>1502</th>\n",
       "      <td>Jean Lacy</td>\n",
       "      <td>Avanzado</td>\n",
       "      <td>2022-A</td>\n",
       "      <td>31</td>\n",
       "      <td>8</td>\n",
       "      <td>16</td>\n",
       "      <td>7</td>\n",
       "    </tr>\n",
       "    <tr>\n",
       "      <th>1505</th>\n",
       "      <td>Felipe Mosqueda</td>\n",
       "      <td>Avanzado</td>\n",
       "      <td>2020-A</td>\n",
       "      <td>37</td>\n",
       "      <td>24</td>\n",
       "      <td>3</td>\n",
       "      <td>10</td>\n",
       "    </tr>\n",
       "    <tr>\n",
       "      <th>1509</th>\n",
       "      <td>Horacio Sifuentes</td>\n",
       "      <td>Principiante</td>\n",
       "      <td>2020-B</td>\n",
       "      <td>28</td>\n",
       "      <td>18</td>\n",
       "      <td>4</td>\n",
       "      <td>6</td>\n",
       "    </tr>\n",
       "    <tr>\n",
       "      <th>1524</th>\n",
       "      <td>Aldo Palacios</td>\n",
       "      <td>Intermedio</td>\n",
       "      <td>2021-A</td>\n",
       "      <td>47</td>\n",
       "      <td>30</td>\n",
       "      <td>3</td>\n",
       "      <td>14</td>\n",
       "    </tr>\n",
       "  </tbody>\n",
       "</table>\n",
       "</div>"
      ],
      "text/plain": [
       "                 Nombre     Categoria   Salon  P. J.  Victorias  Empates  \\\n",
       "Id                                                                         \n",
       "1489       Ilse Velasco    Intermedio  2021-B     38          7        3   \n",
       "1498       Deisy Macias  Principiante  2019-B     29         18        7   \n",
       "1499    Tobias Mosqueda    Intermedio  2019-A     47         13       21   \n",
       "1502          Jean Lacy      Avanzado  2022-A     31          8       16   \n",
       "1505    Felipe Mosqueda      Avanzado  2020-A     37         24        3   \n",
       "1509  Horacio Sifuentes  Principiante  2020-B     28         18        4   \n",
       "1524      Aldo Palacios    Intermedio  2021-A     47         30        3   \n",
       "\n",
       "      Derrotas  \n",
       "Id              \n",
       "1489        28  \n",
       "1498         4  \n",
       "1499        13  \n",
       "1502         7  \n",
       "1505        10  \n",
       "1509         6  \n",
       "1524        14  "
      ]
     },
     "execution_count": 25,
     "metadata": {},
     "output_type": "execute_result"
    }
   ],
   "source": [
    "Ajedrez.groupby(\"Salon\").tail(1)"
   ]
  },
  {
   "cell_type": "markdown",
   "id": "293d1434-31cd-42ef-a63b-052aff309a41",
   "metadata": {},
   "source": [
    "__Ejercicio 8:__"
   ]
  },
  {
   "cell_type": "markdown",
   "id": "56d237bc-6972-405e-b0f9-71929dfe5fe5",
   "metadata": {},
   "source": [
    "Utilizar groupby para obtener la cantidad total de partidas jugadas, victorias, empates y derrotas de cada salon separado por categoria"
   ]
  },
  {
   "cell_type": "code",
   "execution_count": 27,
   "id": "270776a1-5e88-43fa-b7a2-b50250d865a6",
   "metadata": {},
   "outputs": [
    {
     "data": {
      "application/vnd.microsoft.datawrangler.viewer.v0+json": {
       "columns": [
        {
         "name": "('Salon', 'Categoria')",
         "rawType": "object",
         "type": "unknown"
        },
        {
         "name": "P. J.",
         "rawType": "int64",
         "type": "integer"
        },
        {
         "name": "Victorias",
         "rawType": "int64",
         "type": "integer"
        },
        {
         "name": "Empates",
         "rawType": "int64",
         "type": "integer"
        },
        {
         "name": "Derrotas",
         "rawType": "int64",
         "type": "integer"
        }
       ],
       "ref": "6e475e70-7075-466a-8eb3-ea841caa996a",
       "rows": [
        [
         "('2019-A', 'Avanzado')",
         "883",
         "328",
         "200",
         "355"
        ],
        [
         "('2019-A', 'Intermedio')",
         "1263",
         "522",
         "286",
         "455"
        ],
        [
         "('2019-A', 'Principiante')",
         "806",
         "299",
         "168",
         "339"
        ],
        [
         "('2019-B', 'Avanzado')",
         "980",
         "399",
         "238",
         "343"
        ],
        [
         "('2019-B', 'Intermedio')",
         "874",
         "332",
         "174",
         "368"
        ],
        [
         "('2019-B', 'Principiante')",
         "1024",
         "390",
         "224",
         "410"
        ],
        [
         "('2020-A', 'Avanzado')",
         "850",
         "345",
         "129",
         "376"
        ],
        [
         "('2020-A', 'Intermedio')",
         "957",
         "406",
         "193",
         "358"
        ],
        [
         "('2020-A', 'Principiante')",
         "1231",
         "443",
         "328",
         "460"
        ],
        [
         "('2020-B', 'Avanzado')",
         "1233",
         "500",
         "271",
         "462"
        ],
        [
         "('2020-B', 'Intermedio')",
         "1066",
         "413",
         "226",
         "427"
        ],
        [
         "('2020-B', 'Principiante')",
         "745",
         "266",
         "189",
         "290"
        ],
        [
         "('2021-A', 'Avanzado')",
         "849",
         "382",
         "105",
         "362"
        ],
        [
         "('2021-A', 'Intermedio')",
         "1266",
         "522",
         "242",
         "502"
        ],
        [
         "('2021-A', 'Principiante')",
         "841",
         "304",
         "193",
         "344"
        ],
        [
         "('2021-B', 'Avanzado')",
         "850",
         "347",
         "183",
         "320"
        ],
        [
         "('2021-B', 'Intermedio')",
         "929",
         "362",
         "192",
         "375"
        ],
        [
         "('2021-B', 'Principiante')",
         "851",
         "327",
         "183",
         "341"
        ],
        [
         "('2022-A', 'Avanzado')",
         "897",
         "384",
         "159",
         "354"
        ],
        [
         "('2022-A', 'Intermedio')",
         "646",
         "250",
         "127",
         "269"
        ],
        [
         "('2022-A', 'Principiante')",
         "899",
         "352",
         "184",
         "363"
        ]
       ],
       "shape": {
        "columns": 4,
        "rows": 21
       }
      },
      "text/html": [
       "<div>\n",
       "<style scoped>\n",
       "    .dataframe tbody tr th:only-of-type {\n",
       "        vertical-align: middle;\n",
       "    }\n",
       "\n",
       "    .dataframe tbody tr th {\n",
       "        vertical-align: top;\n",
       "    }\n",
       "\n",
       "    .dataframe thead th {\n",
       "        text-align: right;\n",
       "    }\n",
       "</style>\n",
       "<table border=\"1\" class=\"dataframe\">\n",
       "  <thead>\n",
       "    <tr style=\"text-align: right;\">\n",
       "      <th></th>\n",
       "      <th></th>\n",
       "      <th>P. J.</th>\n",
       "      <th>Victorias</th>\n",
       "      <th>Empates</th>\n",
       "      <th>Derrotas</th>\n",
       "    </tr>\n",
       "    <tr>\n",
       "      <th>Salon</th>\n",
       "      <th>Categoria</th>\n",
       "      <th></th>\n",
       "      <th></th>\n",
       "      <th></th>\n",
       "      <th></th>\n",
       "    </tr>\n",
       "  </thead>\n",
       "  <tbody>\n",
       "    <tr>\n",
       "      <th rowspan=\"3\" valign=\"top\">2019-A</th>\n",
       "      <th>Avanzado</th>\n",
       "      <td>883</td>\n",
       "      <td>328</td>\n",
       "      <td>200</td>\n",
       "      <td>355</td>\n",
       "    </tr>\n",
       "    <tr>\n",
       "      <th>Intermedio</th>\n",
       "      <td>1263</td>\n",
       "      <td>522</td>\n",
       "      <td>286</td>\n",
       "      <td>455</td>\n",
       "    </tr>\n",
       "    <tr>\n",
       "      <th>Principiante</th>\n",
       "      <td>806</td>\n",
       "      <td>299</td>\n",
       "      <td>168</td>\n",
       "      <td>339</td>\n",
       "    </tr>\n",
       "    <tr>\n",
       "      <th rowspan=\"3\" valign=\"top\">2019-B</th>\n",
       "      <th>Avanzado</th>\n",
       "      <td>980</td>\n",
       "      <td>399</td>\n",
       "      <td>238</td>\n",
       "      <td>343</td>\n",
       "    </tr>\n",
       "    <tr>\n",
       "      <th>Intermedio</th>\n",
       "      <td>874</td>\n",
       "      <td>332</td>\n",
       "      <td>174</td>\n",
       "      <td>368</td>\n",
       "    </tr>\n",
       "    <tr>\n",
       "      <th>Principiante</th>\n",
       "      <td>1024</td>\n",
       "      <td>390</td>\n",
       "      <td>224</td>\n",
       "      <td>410</td>\n",
       "    </tr>\n",
       "    <tr>\n",
       "      <th rowspan=\"3\" valign=\"top\">2020-A</th>\n",
       "      <th>Avanzado</th>\n",
       "      <td>850</td>\n",
       "      <td>345</td>\n",
       "      <td>129</td>\n",
       "      <td>376</td>\n",
       "    </tr>\n",
       "    <tr>\n",
       "      <th>Intermedio</th>\n",
       "      <td>957</td>\n",
       "      <td>406</td>\n",
       "      <td>193</td>\n",
       "      <td>358</td>\n",
       "    </tr>\n",
       "    <tr>\n",
       "      <th>Principiante</th>\n",
       "      <td>1231</td>\n",
       "      <td>443</td>\n",
       "      <td>328</td>\n",
       "      <td>460</td>\n",
       "    </tr>\n",
       "    <tr>\n",
       "      <th rowspan=\"3\" valign=\"top\">2020-B</th>\n",
       "      <th>Avanzado</th>\n",
       "      <td>1233</td>\n",
       "      <td>500</td>\n",
       "      <td>271</td>\n",
       "      <td>462</td>\n",
       "    </tr>\n",
       "    <tr>\n",
       "      <th>Intermedio</th>\n",
       "      <td>1066</td>\n",
       "      <td>413</td>\n",
       "      <td>226</td>\n",
       "      <td>427</td>\n",
       "    </tr>\n",
       "    <tr>\n",
       "      <th>Principiante</th>\n",
       "      <td>745</td>\n",
       "      <td>266</td>\n",
       "      <td>189</td>\n",
       "      <td>290</td>\n",
       "    </tr>\n",
       "    <tr>\n",
       "      <th rowspan=\"3\" valign=\"top\">2021-A</th>\n",
       "      <th>Avanzado</th>\n",
       "      <td>849</td>\n",
       "      <td>382</td>\n",
       "      <td>105</td>\n",
       "      <td>362</td>\n",
       "    </tr>\n",
       "    <tr>\n",
       "      <th>Intermedio</th>\n",
       "      <td>1266</td>\n",
       "      <td>522</td>\n",
       "      <td>242</td>\n",
       "      <td>502</td>\n",
       "    </tr>\n",
       "    <tr>\n",
       "      <th>Principiante</th>\n",
       "      <td>841</td>\n",
       "      <td>304</td>\n",
       "      <td>193</td>\n",
       "      <td>344</td>\n",
       "    </tr>\n",
       "    <tr>\n",
       "      <th rowspan=\"3\" valign=\"top\">2021-B</th>\n",
       "      <th>Avanzado</th>\n",
       "      <td>850</td>\n",
       "      <td>347</td>\n",
       "      <td>183</td>\n",
       "      <td>320</td>\n",
       "    </tr>\n",
       "    <tr>\n",
       "      <th>Intermedio</th>\n",
       "      <td>929</td>\n",
       "      <td>362</td>\n",
       "      <td>192</td>\n",
       "      <td>375</td>\n",
       "    </tr>\n",
       "    <tr>\n",
       "      <th>Principiante</th>\n",
       "      <td>851</td>\n",
       "      <td>327</td>\n",
       "      <td>183</td>\n",
       "      <td>341</td>\n",
       "    </tr>\n",
       "    <tr>\n",
       "      <th rowspan=\"3\" valign=\"top\">2022-A</th>\n",
       "      <th>Avanzado</th>\n",
       "      <td>897</td>\n",
       "      <td>384</td>\n",
       "      <td>159</td>\n",
       "      <td>354</td>\n",
       "    </tr>\n",
       "    <tr>\n",
       "      <th>Intermedio</th>\n",
       "      <td>646</td>\n",
       "      <td>250</td>\n",
       "      <td>127</td>\n",
       "      <td>269</td>\n",
       "    </tr>\n",
       "    <tr>\n",
       "      <th>Principiante</th>\n",
       "      <td>899</td>\n",
       "      <td>352</td>\n",
       "      <td>184</td>\n",
       "      <td>363</td>\n",
       "    </tr>\n",
       "  </tbody>\n",
       "</table>\n",
       "</div>"
      ],
      "text/plain": [
       "                     P. J.  Victorias  Empates  Derrotas\n",
       "Salon  Categoria                                        \n",
       "2019-A Avanzado        883        328      200       355\n",
       "       Intermedio     1263        522      286       455\n",
       "       Principiante    806        299      168       339\n",
       "2019-B Avanzado        980        399      238       343\n",
       "       Intermedio      874        332      174       368\n",
       "       Principiante   1024        390      224       410\n",
       "2020-A Avanzado        850        345      129       376\n",
       "       Intermedio      957        406      193       358\n",
       "       Principiante   1231        443      328       460\n",
       "2020-B Avanzado       1233        500      271       462\n",
       "       Intermedio     1066        413      226       427\n",
       "       Principiante    745        266      189       290\n",
       "2021-A Avanzado        849        382      105       362\n",
       "       Intermedio     1266        522      242       502\n",
       "       Principiante    841        304      193       344\n",
       "2021-B Avanzado        850        347      183       320\n",
       "       Intermedio      929        362      192       375\n",
       "       Principiante    851        327      183       341\n",
       "2022-A Avanzado        897        384      159       354\n",
       "       Intermedio      646        250      127       269\n",
       "       Principiante    899        352      184       363"
      ]
     },
     "execution_count": 27,
     "metadata": {},
     "output_type": "execute_result"
    }
   ],
   "source": [
    "Ajedrez.groupby([\"Salon\",\"Categoria\"]).sum(numeric_only=True)"
   ]
  },
  {
   "cell_type": "markdown",
   "id": "a9e333d5-6019-493b-b4ab-5415f070c5c1",
   "metadata": {},
   "source": [
    "__Ejercicio 9:__"
   ]
  },
  {
   "cell_type": "markdown",
   "id": "5f470da9-b659-4eef-a332-c484701c4f0e",
   "metadata": {},
   "source": [
    "Repetir el ejercicio anterior, pero no utilizar las columnas de agrupacion (Salon y Categoria) como indice en el DataFrame resultante"
   ]
  },
  {
   "cell_type": "code",
   "execution_count": 28,
   "id": "387820ad-5c09-4299-98b4-63683713ad4f",
   "metadata": {},
   "outputs": [
    {
     "data": {
      "application/vnd.microsoft.datawrangler.viewer.v0+json": {
       "columns": [
        {
         "name": "index",
         "rawType": "int64",
         "type": "integer"
        },
        {
         "name": "Salon",
         "rawType": "object",
         "type": "string"
        },
        {
         "name": "Categoria",
         "rawType": "object",
         "type": "string"
        },
        {
         "name": "P. J.",
         "rawType": "int64",
         "type": "integer"
        },
        {
         "name": "Victorias",
         "rawType": "int64",
         "type": "integer"
        },
        {
         "name": "Empates",
         "rawType": "int64",
         "type": "integer"
        },
        {
         "name": "Derrotas",
         "rawType": "int64",
         "type": "integer"
        }
       ],
       "ref": "cf1097e3-476e-422e-b57f-8f5abd534dc8",
       "rows": [
        [
         "0",
         "2019-A",
         "Avanzado",
         "883",
         "328",
         "200",
         "355"
        ],
        [
         "1",
         "2019-A",
         "Intermedio",
         "1263",
         "522",
         "286",
         "455"
        ],
        [
         "2",
         "2019-A",
         "Principiante",
         "806",
         "299",
         "168",
         "339"
        ],
        [
         "3",
         "2019-B",
         "Avanzado",
         "980",
         "399",
         "238",
         "343"
        ],
        [
         "4",
         "2019-B",
         "Intermedio",
         "874",
         "332",
         "174",
         "368"
        ],
        [
         "5",
         "2019-B",
         "Principiante",
         "1024",
         "390",
         "224",
         "410"
        ],
        [
         "6",
         "2020-A",
         "Avanzado",
         "850",
         "345",
         "129",
         "376"
        ],
        [
         "7",
         "2020-A",
         "Intermedio",
         "957",
         "406",
         "193",
         "358"
        ],
        [
         "8",
         "2020-A",
         "Principiante",
         "1231",
         "443",
         "328",
         "460"
        ],
        [
         "9",
         "2020-B",
         "Avanzado",
         "1233",
         "500",
         "271",
         "462"
        ],
        [
         "10",
         "2020-B",
         "Intermedio",
         "1066",
         "413",
         "226",
         "427"
        ],
        [
         "11",
         "2020-B",
         "Principiante",
         "745",
         "266",
         "189",
         "290"
        ],
        [
         "12",
         "2021-A",
         "Avanzado",
         "849",
         "382",
         "105",
         "362"
        ],
        [
         "13",
         "2021-A",
         "Intermedio",
         "1266",
         "522",
         "242",
         "502"
        ],
        [
         "14",
         "2021-A",
         "Principiante",
         "841",
         "304",
         "193",
         "344"
        ],
        [
         "15",
         "2021-B",
         "Avanzado",
         "850",
         "347",
         "183",
         "320"
        ],
        [
         "16",
         "2021-B",
         "Intermedio",
         "929",
         "362",
         "192",
         "375"
        ],
        [
         "17",
         "2021-B",
         "Principiante",
         "851",
         "327",
         "183",
         "341"
        ],
        [
         "18",
         "2022-A",
         "Avanzado",
         "897",
         "384",
         "159",
         "354"
        ],
        [
         "19",
         "2022-A",
         "Intermedio",
         "646",
         "250",
         "127",
         "269"
        ],
        [
         "20",
         "2022-A",
         "Principiante",
         "899",
         "352",
         "184",
         "363"
        ]
       ],
       "shape": {
        "columns": 6,
        "rows": 21
       }
      },
      "text/html": [
       "<div>\n",
       "<style scoped>\n",
       "    .dataframe tbody tr th:only-of-type {\n",
       "        vertical-align: middle;\n",
       "    }\n",
       "\n",
       "    .dataframe tbody tr th {\n",
       "        vertical-align: top;\n",
       "    }\n",
       "\n",
       "    .dataframe thead th {\n",
       "        text-align: right;\n",
       "    }\n",
       "</style>\n",
       "<table border=\"1\" class=\"dataframe\">\n",
       "  <thead>\n",
       "    <tr style=\"text-align: right;\">\n",
       "      <th></th>\n",
       "      <th>Salon</th>\n",
       "      <th>Categoria</th>\n",
       "      <th>P. J.</th>\n",
       "      <th>Victorias</th>\n",
       "      <th>Empates</th>\n",
       "      <th>Derrotas</th>\n",
       "    </tr>\n",
       "  </thead>\n",
       "  <tbody>\n",
       "    <tr>\n",
       "      <th>0</th>\n",
       "      <td>2019-A</td>\n",
       "      <td>Avanzado</td>\n",
       "      <td>883</td>\n",
       "      <td>328</td>\n",
       "      <td>200</td>\n",
       "      <td>355</td>\n",
       "    </tr>\n",
       "    <tr>\n",
       "      <th>1</th>\n",
       "      <td>2019-A</td>\n",
       "      <td>Intermedio</td>\n",
       "      <td>1263</td>\n",
       "      <td>522</td>\n",
       "      <td>286</td>\n",
       "      <td>455</td>\n",
       "    </tr>\n",
       "    <tr>\n",
       "      <th>2</th>\n",
       "      <td>2019-A</td>\n",
       "      <td>Principiante</td>\n",
       "      <td>806</td>\n",
       "      <td>299</td>\n",
       "      <td>168</td>\n",
       "      <td>339</td>\n",
       "    </tr>\n",
       "    <tr>\n",
       "      <th>3</th>\n",
       "      <td>2019-B</td>\n",
       "      <td>Avanzado</td>\n",
       "      <td>980</td>\n",
       "      <td>399</td>\n",
       "      <td>238</td>\n",
       "      <td>343</td>\n",
       "    </tr>\n",
       "    <tr>\n",
       "      <th>4</th>\n",
       "      <td>2019-B</td>\n",
       "      <td>Intermedio</td>\n",
       "      <td>874</td>\n",
       "      <td>332</td>\n",
       "      <td>174</td>\n",
       "      <td>368</td>\n",
       "    </tr>\n",
       "    <tr>\n",
       "      <th>5</th>\n",
       "      <td>2019-B</td>\n",
       "      <td>Principiante</td>\n",
       "      <td>1024</td>\n",
       "      <td>390</td>\n",
       "      <td>224</td>\n",
       "      <td>410</td>\n",
       "    </tr>\n",
       "    <tr>\n",
       "      <th>6</th>\n",
       "      <td>2020-A</td>\n",
       "      <td>Avanzado</td>\n",
       "      <td>850</td>\n",
       "      <td>345</td>\n",
       "      <td>129</td>\n",
       "      <td>376</td>\n",
       "    </tr>\n",
       "    <tr>\n",
       "      <th>7</th>\n",
       "      <td>2020-A</td>\n",
       "      <td>Intermedio</td>\n",
       "      <td>957</td>\n",
       "      <td>406</td>\n",
       "      <td>193</td>\n",
       "      <td>358</td>\n",
       "    </tr>\n",
       "    <tr>\n",
       "      <th>8</th>\n",
       "      <td>2020-A</td>\n",
       "      <td>Principiante</td>\n",
       "      <td>1231</td>\n",
       "      <td>443</td>\n",
       "      <td>328</td>\n",
       "      <td>460</td>\n",
       "    </tr>\n",
       "    <tr>\n",
       "      <th>9</th>\n",
       "      <td>2020-B</td>\n",
       "      <td>Avanzado</td>\n",
       "      <td>1233</td>\n",
       "      <td>500</td>\n",
       "      <td>271</td>\n",
       "      <td>462</td>\n",
       "    </tr>\n",
       "    <tr>\n",
       "      <th>10</th>\n",
       "      <td>2020-B</td>\n",
       "      <td>Intermedio</td>\n",
       "      <td>1066</td>\n",
       "      <td>413</td>\n",
       "      <td>226</td>\n",
       "      <td>427</td>\n",
       "    </tr>\n",
       "    <tr>\n",
       "      <th>11</th>\n",
       "      <td>2020-B</td>\n",
       "      <td>Principiante</td>\n",
       "      <td>745</td>\n",
       "      <td>266</td>\n",
       "      <td>189</td>\n",
       "      <td>290</td>\n",
       "    </tr>\n",
       "    <tr>\n",
       "      <th>12</th>\n",
       "      <td>2021-A</td>\n",
       "      <td>Avanzado</td>\n",
       "      <td>849</td>\n",
       "      <td>382</td>\n",
       "      <td>105</td>\n",
       "      <td>362</td>\n",
       "    </tr>\n",
       "    <tr>\n",
       "      <th>13</th>\n",
       "      <td>2021-A</td>\n",
       "      <td>Intermedio</td>\n",
       "      <td>1266</td>\n",
       "      <td>522</td>\n",
       "      <td>242</td>\n",
       "      <td>502</td>\n",
       "    </tr>\n",
       "    <tr>\n",
       "      <th>14</th>\n",
       "      <td>2021-A</td>\n",
       "      <td>Principiante</td>\n",
       "      <td>841</td>\n",
       "      <td>304</td>\n",
       "      <td>193</td>\n",
       "      <td>344</td>\n",
       "    </tr>\n",
       "    <tr>\n",
       "      <th>15</th>\n",
       "      <td>2021-B</td>\n",
       "      <td>Avanzado</td>\n",
       "      <td>850</td>\n",
       "      <td>347</td>\n",
       "      <td>183</td>\n",
       "      <td>320</td>\n",
       "    </tr>\n",
       "    <tr>\n",
       "      <th>16</th>\n",
       "      <td>2021-B</td>\n",
       "      <td>Intermedio</td>\n",
       "      <td>929</td>\n",
       "      <td>362</td>\n",
       "      <td>192</td>\n",
       "      <td>375</td>\n",
       "    </tr>\n",
       "    <tr>\n",
       "      <th>17</th>\n",
       "      <td>2021-B</td>\n",
       "      <td>Principiante</td>\n",
       "      <td>851</td>\n",
       "      <td>327</td>\n",
       "      <td>183</td>\n",
       "      <td>341</td>\n",
       "    </tr>\n",
       "    <tr>\n",
       "      <th>18</th>\n",
       "      <td>2022-A</td>\n",
       "      <td>Avanzado</td>\n",
       "      <td>897</td>\n",
       "      <td>384</td>\n",
       "      <td>159</td>\n",
       "      <td>354</td>\n",
       "    </tr>\n",
       "    <tr>\n",
       "      <th>19</th>\n",
       "      <td>2022-A</td>\n",
       "      <td>Intermedio</td>\n",
       "      <td>646</td>\n",
       "      <td>250</td>\n",
       "      <td>127</td>\n",
       "      <td>269</td>\n",
       "    </tr>\n",
       "    <tr>\n",
       "      <th>20</th>\n",
       "      <td>2022-A</td>\n",
       "      <td>Principiante</td>\n",
       "      <td>899</td>\n",
       "      <td>352</td>\n",
       "      <td>184</td>\n",
       "      <td>363</td>\n",
       "    </tr>\n",
       "  </tbody>\n",
       "</table>\n",
       "</div>"
      ],
      "text/plain": [
       "     Salon     Categoria  P. J.  Victorias  Empates  Derrotas\n",
       "0   2019-A      Avanzado    883        328      200       355\n",
       "1   2019-A    Intermedio   1263        522      286       455\n",
       "2   2019-A  Principiante    806        299      168       339\n",
       "3   2019-B      Avanzado    980        399      238       343\n",
       "4   2019-B    Intermedio    874        332      174       368\n",
       "5   2019-B  Principiante   1024        390      224       410\n",
       "6   2020-A      Avanzado    850        345      129       376\n",
       "7   2020-A    Intermedio    957        406      193       358\n",
       "8   2020-A  Principiante   1231        443      328       460\n",
       "9   2020-B      Avanzado   1233        500      271       462\n",
       "10  2020-B    Intermedio   1066        413      226       427\n",
       "11  2020-B  Principiante    745        266      189       290\n",
       "12  2021-A      Avanzado    849        382      105       362\n",
       "13  2021-A    Intermedio   1266        522      242       502\n",
       "14  2021-A  Principiante    841        304      193       344\n",
       "15  2021-B      Avanzado    850        347      183       320\n",
       "16  2021-B    Intermedio    929        362      192       375\n",
       "17  2021-B  Principiante    851        327      183       341\n",
       "18  2022-A      Avanzado    897        384      159       354\n",
       "19  2022-A    Intermedio    646        250      127       269\n",
       "20  2022-A  Principiante    899        352      184       363"
      ]
     },
     "execution_count": 28,
     "metadata": {},
     "output_type": "execute_result"
    }
   ],
   "source": [
    "Ajedrez.groupby([\"Salon\",\"Categoria\"], as_index=False).sum(numeric_only=True)"
   ]
  },
  {
   "cell_type": "markdown",
   "id": "1ed5b5f7-0df9-442c-84dc-9350acf1bc2f",
   "metadata": {},
   "source": [
    "__Ejercicio 10:__"
   ]
  },
  {
   "cell_type": "markdown",
   "id": "f94e5360-9dc8-4b77-bb93-918c09bda0c2",
   "metadata": {},
   "source": [
    "Utilizar groupby para obtener la cantidad total de partidas jugadas y victorias de cada salon separado por categoria"
   ]
  },
  {
   "cell_type": "code",
   "execution_count": 31,
   "id": "a2a2010b-a8d2-4f9b-a4ba-16552a98f4c2",
   "metadata": {},
   "outputs": [
    {
     "data": {
      "application/vnd.microsoft.datawrangler.viewer.v0+json": {
       "columns": [
        {
         "name": "('Salon', 'Categoria')",
         "rawType": "object",
         "type": "unknown"
        },
        {
         "name": "P. J.",
         "rawType": "int64",
         "type": "integer"
        },
        {
         "name": "Victorias",
         "rawType": "int64",
         "type": "integer"
        }
       ],
       "ref": "5d9714c0-b1bc-4b9e-9551-d2533d7d799d",
       "rows": [
        [
         "('2019-A', 'Avanzado')",
         "883",
         "328"
        ],
        [
         "('2019-A', 'Intermedio')",
         "1263",
         "522"
        ],
        [
         "('2019-A', 'Principiante')",
         "806",
         "299"
        ],
        [
         "('2019-B', 'Avanzado')",
         "980",
         "399"
        ],
        [
         "('2019-B', 'Intermedio')",
         "874",
         "332"
        ],
        [
         "('2019-B', 'Principiante')",
         "1024",
         "390"
        ],
        [
         "('2020-A', 'Avanzado')",
         "850",
         "345"
        ],
        [
         "('2020-A', 'Intermedio')",
         "957",
         "406"
        ],
        [
         "('2020-A', 'Principiante')",
         "1231",
         "443"
        ],
        [
         "('2020-B', 'Avanzado')",
         "1233",
         "500"
        ],
        [
         "('2020-B', 'Intermedio')",
         "1066",
         "413"
        ],
        [
         "('2020-B', 'Principiante')",
         "745",
         "266"
        ],
        [
         "('2021-A', 'Avanzado')",
         "849",
         "382"
        ],
        [
         "('2021-A', 'Intermedio')",
         "1266",
         "522"
        ],
        [
         "('2021-A', 'Principiante')",
         "841",
         "304"
        ],
        [
         "('2021-B', 'Avanzado')",
         "850",
         "347"
        ],
        [
         "('2021-B', 'Intermedio')",
         "929",
         "362"
        ],
        [
         "('2021-B', 'Principiante')",
         "851",
         "327"
        ],
        [
         "('2022-A', 'Avanzado')",
         "897",
         "384"
        ],
        [
         "('2022-A', 'Intermedio')",
         "646",
         "250"
        ],
        [
         "('2022-A', 'Principiante')",
         "899",
         "352"
        ]
       ],
       "shape": {
        "columns": 2,
        "rows": 21
       }
      },
      "text/html": [
       "<div>\n",
       "<style scoped>\n",
       "    .dataframe tbody tr th:only-of-type {\n",
       "        vertical-align: middle;\n",
       "    }\n",
       "\n",
       "    .dataframe tbody tr th {\n",
       "        vertical-align: top;\n",
       "    }\n",
       "\n",
       "    .dataframe thead th {\n",
       "        text-align: right;\n",
       "    }\n",
       "</style>\n",
       "<table border=\"1\" class=\"dataframe\">\n",
       "  <thead>\n",
       "    <tr style=\"text-align: right;\">\n",
       "      <th></th>\n",
       "      <th></th>\n",
       "      <th>P. J.</th>\n",
       "      <th>Victorias</th>\n",
       "    </tr>\n",
       "    <tr>\n",
       "      <th>Salon</th>\n",
       "      <th>Categoria</th>\n",
       "      <th></th>\n",
       "      <th></th>\n",
       "    </tr>\n",
       "  </thead>\n",
       "  <tbody>\n",
       "    <tr>\n",
       "      <th rowspan=\"3\" valign=\"top\">2019-A</th>\n",
       "      <th>Avanzado</th>\n",
       "      <td>883</td>\n",
       "      <td>328</td>\n",
       "    </tr>\n",
       "    <tr>\n",
       "      <th>Intermedio</th>\n",
       "      <td>1263</td>\n",
       "      <td>522</td>\n",
       "    </tr>\n",
       "    <tr>\n",
       "      <th>Principiante</th>\n",
       "      <td>806</td>\n",
       "      <td>299</td>\n",
       "    </tr>\n",
       "    <tr>\n",
       "      <th rowspan=\"3\" valign=\"top\">2019-B</th>\n",
       "      <th>Avanzado</th>\n",
       "      <td>980</td>\n",
       "      <td>399</td>\n",
       "    </tr>\n",
       "    <tr>\n",
       "      <th>Intermedio</th>\n",
       "      <td>874</td>\n",
       "      <td>332</td>\n",
       "    </tr>\n",
       "    <tr>\n",
       "      <th>Principiante</th>\n",
       "      <td>1024</td>\n",
       "      <td>390</td>\n",
       "    </tr>\n",
       "    <tr>\n",
       "      <th rowspan=\"3\" valign=\"top\">2020-A</th>\n",
       "      <th>Avanzado</th>\n",
       "      <td>850</td>\n",
       "      <td>345</td>\n",
       "    </tr>\n",
       "    <tr>\n",
       "      <th>Intermedio</th>\n",
       "      <td>957</td>\n",
       "      <td>406</td>\n",
       "    </tr>\n",
       "    <tr>\n",
       "      <th>Principiante</th>\n",
       "      <td>1231</td>\n",
       "      <td>443</td>\n",
       "    </tr>\n",
       "    <tr>\n",
       "      <th rowspan=\"3\" valign=\"top\">2020-B</th>\n",
       "      <th>Avanzado</th>\n",
       "      <td>1233</td>\n",
       "      <td>500</td>\n",
       "    </tr>\n",
       "    <tr>\n",
       "      <th>Intermedio</th>\n",
       "      <td>1066</td>\n",
       "      <td>413</td>\n",
       "    </tr>\n",
       "    <tr>\n",
       "      <th>Principiante</th>\n",
       "      <td>745</td>\n",
       "      <td>266</td>\n",
       "    </tr>\n",
       "    <tr>\n",
       "      <th rowspan=\"3\" valign=\"top\">2021-A</th>\n",
       "      <th>Avanzado</th>\n",
       "      <td>849</td>\n",
       "      <td>382</td>\n",
       "    </tr>\n",
       "    <tr>\n",
       "      <th>Intermedio</th>\n",
       "      <td>1266</td>\n",
       "      <td>522</td>\n",
       "    </tr>\n",
       "    <tr>\n",
       "      <th>Principiante</th>\n",
       "      <td>841</td>\n",
       "      <td>304</td>\n",
       "    </tr>\n",
       "    <tr>\n",
       "      <th rowspan=\"3\" valign=\"top\">2021-B</th>\n",
       "      <th>Avanzado</th>\n",
       "      <td>850</td>\n",
       "      <td>347</td>\n",
       "    </tr>\n",
       "    <tr>\n",
       "      <th>Intermedio</th>\n",
       "      <td>929</td>\n",
       "      <td>362</td>\n",
       "    </tr>\n",
       "    <tr>\n",
       "      <th>Principiante</th>\n",
       "      <td>851</td>\n",
       "      <td>327</td>\n",
       "    </tr>\n",
       "    <tr>\n",
       "      <th rowspan=\"3\" valign=\"top\">2022-A</th>\n",
       "      <th>Avanzado</th>\n",
       "      <td>897</td>\n",
       "      <td>384</td>\n",
       "    </tr>\n",
       "    <tr>\n",
       "      <th>Intermedio</th>\n",
       "      <td>646</td>\n",
       "      <td>250</td>\n",
       "    </tr>\n",
       "    <tr>\n",
       "      <th>Principiante</th>\n",
       "      <td>899</td>\n",
       "      <td>352</td>\n",
       "    </tr>\n",
       "  </tbody>\n",
       "</table>\n",
       "</div>"
      ],
      "text/plain": [
       "                     P. J.  Victorias\n",
       "Salon  Categoria                     \n",
       "2019-A Avanzado        883        328\n",
       "       Intermedio     1263        522\n",
       "       Principiante    806        299\n",
       "2019-B Avanzado        980        399\n",
       "       Intermedio      874        332\n",
       "       Principiante   1024        390\n",
       "2020-A Avanzado        850        345\n",
       "       Intermedio      957        406\n",
       "       Principiante   1231        443\n",
       "2020-B Avanzado       1233        500\n",
       "       Intermedio     1066        413\n",
       "       Principiante    745        266\n",
       "2021-A Avanzado        849        382\n",
       "       Intermedio     1266        522\n",
       "       Principiante    841        304\n",
       "2021-B Avanzado        850        347\n",
       "       Intermedio      929        362\n",
       "       Principiante    851        327\n",
       "2022-A Avanzado        897        384\n",
       "       Intermedio      646        250\n",
       "       Principiante    899        352"
      ]
     },
     "execution_count": 31,
     "metadata": {},
     "output_type": "execute_result"
    }
   ],
   "source": [
    "Ajedrez.groupby([\"Salon\",\"Categoria\"])[[\"P. J.\",\"Victorias\"]].sum()"
   ]
  },
  {
   "cell_type": "markdown",
   "id": "1110f34c-d826-404a-b01f-4379eb54a2c2",
   "metadata": {},
   "source": [
    "__Ejercicio 11:__"
   ]
  },
  {
   "cell_type": "markdown",
   "id": "0ee60f7c-c16b-4a82-bf36-a9ee192c415e",
   "metadata": {},
   "source": [
    "Utilizar groupby para obtener la cantidad total de derrotas en cada salon separado por categoria"
   ]
  },
  {
   "cell_type": "code",
   "execution_count": 3,
   "id": "09351d26-a247-45da-a871-78afe363d175",
   "metadata": {},
   "outputs": [
    {
     "data": {
      "application/vnd.microsoft.datawrangler.viewer.v0+json": {
       "columns": [
        {
         "name": "('Salon', 'Categoria')",
         "rawType": "object",
         "type": "unknown"
        },
        {
         "name": "Derrotas",
         "rawType": "int64",
         "type": "integer"
        }
       ],
       "ref": "283d1f7a-6469-4ee7-8614-8b56f47d7bf8",
       "rows": [
        [
         "('2019-A', 'Avanzado')",
         "355"
        ],
        [
         "('2019-A', 'Intermedio')",
         "455"
        ],
        [
         "('2019-A', 'Principiante')",
         "339"
        ],
        [
         "('2019-B', 'Avanzado')",
         "343"
        ],
        [
         "('2019-B', 'Intermedio')",
         "368"
        ],
        [
         "('2019-B', 'Principiante')",
         "410"
        ],
        [
         "('2020-A', 'Avanzado')",
         "376"
        ],
        [
         "('2020-A', 'Intermedio')",
         "358"
        ],
        [
         "('2020-A', 'Principiante')",
         "460"
        ],
        [
         "('2020-B', 'Avanzado')",
         "462"
        ],
        [
         "('2020-B', 'Intermedio')",
         "427"
        ],
        [
         "('2020-B', 'Principiante')",
         "290"
        ],
        [
         "('2021-A', 'Avanzado')",
         "362"
        ],
        [
         "('2021-A', 'Intermedio')",
         "502"
        ],
        [
         "('2021-A', 'Principiante')",
         "344"
        ],
        [
         "('2021-B', 'Avanzado')",
         "320"
        ],
        [
         "('2021-B', 'Intermedio')",
         "375"
        ],
        [
         "('2021-B', 'Principiante')",
         "341"
        ],
        [
         "('2022-A', 'Avanzado')",
         "354"
        ],
        [
         "('2022-A', 'Intermedio')",
         "269"
        ],
        [
         "('2022-A', 'Principiante')",
         "363"
        ]
       ],
       "shape": {
        "columns": 1,
        "rows": 21
       }
      },
      "text/html": [
       "<div>\n",
       "<style scoped>\n",
       "    .dataframe tbody tr th:only-of-type {\n",
       "        vertical-align: middle;\n",
       "    }\n",
       "\n",
       "    .dataframe tbody tr th {\n",
       "        vertical-align: top;\n",
       "    }\n",
       "\n",
       "    .dataframe thead th {\n",
       "        text-align: right;\n",
       "    }\n",
       "</style>\n",
       "<table border=\"1\" class=\"dataframe\">\n",
       "  <thead>\n",
       "    <tr style=\"text-align: right;\">\n",
       "      <th></th>\n",
       "      <th></th>\n",
       "      <th>Derrotas</th>\n",
       "    </tr>\n",
       "    <tr>\n",
       "      <th>Salon</th>\n",
       "      <th>Categoria</th>\n",
       "      <th></th>\n",
       "    </tr>\n",
       "  </thead>\n",
       "  <tbody>\n",
       "    <tr>\n",
       "      <th rowspan=\"3\" valign=\"top\">2019-A</th>\n",
       "      <th>Avanzado</th>\n",
       "      <td>355</td>\n",
       "    </tr>\n",
       "    <tr>\n",
       "      <th>Intermedio</th>\n",
       "      <td>455</td>\n",
       "    </tr>\n",
       "    <tr>\n",
       "      <th>Principiante</th>\n",
       "      <td>339</td>\n",
       "    </tr>\n",
       "    <tr>\n",
       "      <th rowspan=\"3\" valign=\"top\">2019-B</th>\n",
       "      <th>Avanzado</th>\n",
       "      <td>343</td>\n",
       "    </tr>\n",
       "    <tr>\n",
       "      <th>Intermedio</th>\n",
       "      <td>368</td>\n",
       "    </tr>\n",
       "    <tr>\n",
       "      <th>Principiante</th>\n",
       "      <td>410</td>\n",
       "    </tr>\n",
       "    <tr>\n",
       "      <th rowspan=\"3\" valign=\"top\">2020-A</th>\n",
       "      <th>Avanzado</th>\n",
       "      <td>376</td>\n",
       "    </tr>\n",
       "    <tr>\n",
       "      <th>Intermedio</th>\n",
       "      <td>358</td>\n",
       "    </tr>\n",
       "    <tr>\n",
       "      <th>Principiante</th>\n",
       "      <td>460</td>\n",
       "    </tr>\n",
       "    <tr>\n",
       "      <th rowspan=\"3\" valign=\"top\">2020-B</th>\n",
       "      <th>Avanzado</th>\n",
       "      <td>462</td>\n",
       "    </tr>\n",
       "    <tr>\n",
       "      <th>Intermedio</th>\n",
       "      <td>427</td>\n",
       "    </tr>\n",
       "    <tr>\n",
       "      <th>Principiante</th>\n",
       "      <td>290</td>\n",
       "    </tr>\n",
       "    <tr>\n",
       "      <th rowspan=\"3\" valign=\"top\">2021-A</th>\n",
       "      <th>Avanzado</th>\n",
       "      <td>362</td>\n",
       "    </tr>\n",
       "    <tr>\n",
       "      <th>Intermedio</th>\n",
       "      <td>502</td>\n",
       "    </tr>\n",
       "    <tr>\n",
       "      <th>Principiante</th>\n",
       "      <td>344</td>\n",
       "    </tr>\n",
       "    <tr>\n",
       "      <th rowspan=\"3\" valign=\"top\">2021-B</th>\n",
       "      <th>Avanzado</th>\n",
       "      <td>320</td>\n",
       "    </tr>\n",
       "    <tr>\n",
       "      <th>Intermedio</th>\n",
       "      <td>375</td>\n",
       "    </tr>\n",
       "    <tr>\n",
       "      <th>Principiante</th>\n",
       "      <td>341</td>\n",
       "    </tr>\n",
       "    <tr>\n",
       "      <th rowspan=\"3\" valign=\"top\">2022-A</th>\n",
       "      <th>Avanzado</th>\n",
       "      <td>354</td>\n",
       "    </tr>\n",
       "    <tr>\n",
       "      <th>Intermedio</th>\n",
       "      <td>269</td>\n",
       "    </tr>\n",
       "    <tr>\n",
       "      <th>Principiante</th>\n",
       "      <td>363</td>\n",
       "    </tr>\n",
       "  </tbody>\n",
       "</table>\n",
       "</div>"
      ],
      "text/plain": [
       "                     Derrotas\n",
       "Salon  Categoria             \n",
       "2019-A Avanzado           355\n",
       "       Intermedio         455\n",
       "       Principiante       339\n",
       "2019-B Avanzado           343\n",
       "       Intermedio         368\n",
       "       Principiante       410\n",
       "2020-A Avanzado           376\n",
       "       Intermedio         358\n",
       "       Principiante       460\n",
       "2020-B Avanzado           462\n",
       "       Intermedio         427\n",
       "       Principiante       290\n",
       "2021-A Avanzado           362\n",
       "       Intermedio         502\n",
       "       Principiante       344\n",
       "2021-B Avanzado           320\n",
       "       Intermedio         375\n",
       "       Principiante       341\n",
       "2022-A Avanzado           354\n",
       "       Intermedio         269\n",
       "       Principiante       363"
      ]
     },
     "execution_count": 3,
     "metadata": {},
     "output_type": "execute_result"
    }
   ],
   "source": [
    "Ajedrez.groupby([\"Salon\",\"Categoria\"]).agg({\"Derrotas\":\"sum\"})"
   ]
  },
  {
   "cell_type": "markdown",
   "id": "ace10b28-9dc5-4788-ae02-c8e103c6c2b1",
   "metadata": {},
   "source": [
    "__Ejercicio 12:__"
   ]
  },
  {
   "cell_type": "markdown",
   "id": "908e3b51-e6d4-4345-b2aa-4d2f1a32b211",
   "metadata": {},
   "source": [
    "Utilizar groupby para obtener el valor maximo y minimo en todas las columnas de cada salon"
   ]
  },
  {
   "cell_type": "code",
   "execution_count": 5,
   "id": "5594cddc-debf-4bd6-a733-e3cb1280c3d5",
   "metadata": {},
   "outputs": [
    {
     "data": {
      "application/vnd.microsoft.datawrangler.viewer.v0+json": {
       "columns": [
        {
         "name": "Salon",
         "rawType": "object",
         "type": "string"
        },
        {
         "name": "('Nombre', 'max')",
         "rawType": "object",
         "type": "string"
        },
        {
         "name": "('Nombre', 'min')",
         "rawType": "object",
         "type": "string"
        },
        {
         "name": "('Categoria', 'max')",
         "rawType": "object",
         "type": "string"
        },
        {
         "name": "('Categoria', 'min')",
         "rawType": "object",
         "type": "string"
        },
        {
         "name": "('P. J.', 'max')",
         "rawType": "int64",
         "type": "integer"
        },
        {
         "name": "('P. J.', 'min')",
         "rawType": "int64",
         "type": "integer"
        },
        {
         "name": "('Victorias', 'max')",
         "rawType": "int64",
         "type": "integer"
        },
        {
         "name": "('Victorias', 'min')",
         "rawType": "int64",
         "type": "integer"
        },
        {
         "name": "('Empates', 'max')",
         "rawType": "int64",
         "type": "integer"
        },
        {
         "name": "('Empates', 'min')",
         "rawType": "int64",
         "type": "integer"
        },
        {
         "name": "('Derrotas', 'max')",
         "rawType": "int64",
         "type": "integer"
        },
        {
         "name": "('Derrotas', 'min')",
         "rawType": "int64",
         "type": "integer"
        }
       ],
       "ref": "15b161cb-c323-43df-9b24-917d898b4040",
       "rows": [
        [
         "2019-A",
         "Yasmin Rudomin",
         "Agustin Saldaña",
         "Principiante",
         "Avanzado",
         "50",
         "25",
         "25",
         "0",
         "29",
         "0",
         "42",
         "0"
        ],
        [
         "2019-B",
         "oscar Gomez",
         "Alastor Alva",
         "Principiante",
         "Avanzado",
         "50",
         "25",
         "24",
         "0",
         "27",
         "1",
         "41",
         "0"
        ],
        [
         "2020-A",
         "Yessica Infante",
         "Abel Verdejo",
         "Principiante",
         "Avanzado",
         "49",
         "25",
         "26",
         "0",
         "25",
         "0",
         "37",
         "0"
        ],
        [
         "2020-B",
         "Yulisa Contreras",
         "Aaron Ramirez",
         "Principiante",
         "Avanzado",
         "50",
         "25",
         "25",
         "0",
         "29",
         "1",
         "34",
         "1"
        ],
        [
         "2021-A",
         "Yuri Alonso",
         "Abelardo Alonso",
         "Principiante",
         "Avanzado",
         "49",
         "25",
         "30",
         "0",
         "35",
         "0",
         "35",
         "1"
        ],
        [
         "2021-B",
         "angel Martinez",
         "Alan Aranda",
         "Principiante",
         "Avanzado",
         "50",
         "18",
         "25",
         "0",
         "24",
         "1",
         "39",
         "0"
        ],
        [
         "2022-A",
         "angel Hinojosa",
         "Ana  Campillo",
         "Principiante",
         "Avanzado",
         "50",
         "25",
         "25",
         "1",
         "19",
         "1",
         "37",
         "0"
        ]
       ],
       "shape": {
        "columns": 12,
        "rows": 7
       }
      },
      "text/html": [
       "<div>\n",
       "<style scoped>\n",
       "    .dataframe tbody tr th:only-of-type {\n",
       "        vertical-align: middle;\n",
       "    }\n",
       "\n",
       "    .dataframe tbody tr th {\n",
       "        vertical-align: top;\n",
       "    }\n",
       "\n",
       "    .dataframe thead tr th {\n",
       "        text-align: left;\n",
       "    }\n",
       "\n",
       "    .dataframe thead tr:last-of-type th {\n",
       "        text-align: right;\n",
       "    }\n",
       "</style>\n",
       "<table border=\"1\" class=\"dataframe\">\n",
       "  <thead>\n",
       "    <tr>\n",
       "      <th></th>\n",
       "      <th colspan=\"2\" halign=\"left\">Nombre</th>\n",
       "      <th colspan=\"2\" halign=\"left\">Categoria</th>\n",
       "      <th colspan=\"2\" halign=\"left\">P. J.</th>\n",
       "      <th colspan=\"2\" halign=\"left\">Victorias</th>\n",
       "      <th colspan=\"2\" halign=\"left\">Empates</th>\n",
       "      <th colspan=\"2\" halign=\"left\">Derrotas</th>\n",
       "    </tr>\n",
       "    <tr>\n",
       "      <th></th>\n",
       "      <th>max</th>\n",
       "      <th>min</th>\n",
       "      <th>max</th>\n",
       "      <th>min</th>\n",
       "      <th>max</th>\n",
       "      <th>min</th>\n",
       "      <th>max</th>\n",
       "      <th>min</th>\n",
       "      <th>max</th>\n",
       "      <th>min</th>\n",
       "      <th>max</th>\n",
       "      <th>min</th>\n",
       "    </tr>\n",
       "    <tr>\n",
       "      <th>Salon</th>\n",
       "      <th></th>\n",
       "      <th></th>\n",
       "      <th></th>\n",
       "      <th></th>\n",
       "      <th></th>\n",
       "      <th></th>\n",
       "      <th></th>\n",
       "      <th></th>\n",
       "      <th></th>\n",
       "      <th></th>\n",
       "      <th></th>\n",
       "      <th></th>\n",
       "    </tr>\n",
       "  </thead>\n",
       "  <tbody>\n",
       "    <tr>\n",
       "      <th>2019-A</th>\n",
       "      <td>Yasmin Rudomin</td>\n",
       "      <td>Agustin Saldaña</td>\n",
       "      <td>Principiante</td>\n",
       "      <td>Avanzado</td>\n",
       "      <td>50</td>\n",
       "      <td>25</td>\n",
       "      <td>25</td>\n",
       "      <td>0</td>\n",
       "      <td>29</td>\n",
       "      <td>0</td>\n",
       "      <td>42</td>\n",
       "      <td>0</td>\n",
       "    </tr>\n",
       "    <tr>\n",
       "      <th>2019-B</th>\n",
       "      <td>oscar Gomez</td>\n",
       "      <td>Alastor Alva</td>\n",
       "      <td>Principiante</td>\n",
       "      <td>Avanzado</td>\n",
       "      <td>50</td>\n",
       "      <td>25</td>\n",
       "      <td>24</td>\n",
       "      <td>0</td>\n",
       "      <td>27</td>\n",
       "      <td>1</td>\n",
       "      <td>41</td>\n",
       "      <td>0</td>\n",
       "    </tr>\n",
       "    <tr>\n",
       "      <th>2020-A</th>\n",
       "      <td>Yessica Infante</td>\n",
       "      <td>Abel Verdejo</td>\n",
       "      <td>Principiante</td>\n",
       "      <td>Avanzado</td>\n",
       "      <td>49</td>\n",
       "      <td>25</td>\n",
       "      <td>26</td>\n",
       "      <td>0</td>\n",
       "      <td>25</td>\n",
       "      <td>0</td>\n",
       "      <td>37</td>\n",
       "      <td>0</td>\n",
       "    </tr>\n",
       "    <tr>\n",
       "      <th>2020-B</th>\n",
       "      <td>Yulisa Contreras</td>\n",
       "      <td>Aaron Ramirez</td>\n",
       "      <td>Principiante</td>\n",
       "      <td>Avanzado</td>\n",
       "      <td>50</td>\n",
       "      <td>25</td>\n",
       "      <td>25</td>\n",
       "      <td>0</td>\n",
       "      <td>29</td>\n",
       "      <td>1</td>\n",
       "      <td>34</td>\n",
       "      <td>1</td>\n",
       "    </tr>\n",
       "    <tr>\n",
       "      <th>2021-A</th>\n",
       "      <td>Yuri Alonso</td>\n",
       "      <td>Abelardo Alonso</td>\n",
       "      <td>Principiante</td>\n",
       "      <td>Avanzado</td>\n",
       "      <td>49</td>\n",
       "      <td>25</td>\n",
       "      <td>30</td>\n",
       "      <td>0</td>\n",
       "      <td>35</td>\n",
       "      <td>0</td>\n",
       "      <td>35</td>\n",
       "      <td>1</td>\n",
       "    </tr>\n",
       "    <tr>\n",
       "      <th>2021-B</th>\n",
       "      <td>angel Martinez</td>\n",
       "      <td>Alan Aranda</td>\n",
       "      <td>Principiante</td>\n",
       "      <td>Avanzado</td>\n",
       "      <td>50</td>\n",
       "      <td>18</td>\n",
       "      <td>25</td>\n",
       "      <td>0</td>\n",
       "      <td>24</td>\n",
       "      <td>1</td>\n",
       "      <td>39</td>\n",
       "      <td>0</td>\n",
       "    </tr>\n",
       "    <tr>\n",
       "      <th>2022-A</th>\n",
       "      <td>angel Hinojosa</td>\n",
       "      <td>Ana  Campillo</td>\n",
       "      <td>Principiante</td>\n",
       "      <td>Avanzado</td>\n",
       "      <td>50</td>\n",
       "      <td>25</td>\n",
       "      <td>25</td>\n",
       "      <td>1</td>\n",
       "      <td>19</td>\n",
       "      <td>1</td>\n",
       "      <td>37</td>\n",
       "      <td>0</td>\n",
       "    </tr>\n",
       "  </tbody>\n",
       "</table>\n",
       "</div>"
      ],
      "text/plain": [
       "                  Nombre                      Categoria           P. J.      \\\n",
       "                     max              min           max       min   max min   \n",
       "Salon                                                                         \n",
       "2019-A    Yasmin Rudomin  Agustin Saldaña  Principiante  Avanzado    50  25   \n",
       "2019-B       oscar Gomez     Alastor Alva  Principiante  Avanzado    50  25   \n",
       "2020-A   Yessica Infante     Abel Verdejo  Principiante  Avanzado    49  25   \n",
       "2020-B  Yulisa Contreras    Aaron Ramirez  Principiante  Avanzado    50  25   \n",
       "2021-A       Yuri Alonso  Abelardo Alonso  Principiante  Avanzado    49  25   \n",
       "2021-B    angel Martinez      Alan Aranda  Principiante  Avanzado    50  18   \n",
       "2022-A    angel Hinojosa    Ana  Campillo  Principiante  Avanzado    50  25   \n",
       "\n",
       "       Victorias     Empates     Derrotas      \n",
       "             max min     max min      max min  \n",
       "Salon                                          \n",
       "2019-A        25   0      29   0       42   0  \n",
       "2019-B        24   0      27   1       41   0  \n",
       "2020-A        26   0      25   0       37   0  \n",
       "2020-B        25   0      29   1       34   1  \n",
       "2021-A        30   0      35   0       35   1  \n",
       "2021-B        25   0      24   1       39   0  \n",
       "2022-A        25   1      19   1       37   0  "
      ]
     },
     "execution_count": 5,
     "metadata": {},
     "output_type": "execute_result"
    }
   ],
   "source": [
    "Ajedrez.groupby(\"Salon\").agg([\"max\",\"min\"])"
   ]
  },
  {
   "cell_type": "markdown",
   "id": "6b8e1d0a-fd8c-4b2e-b93f-d98431be5f84",
   "metadata": {},
   "source": [
    "__Ejercicio 13:__"
   ]
  },
  {
   "cell_type": "markdown",
   "id": "3ddb65d8-4fef-4fd2-851e-244702a9afed",
   "metadata": {},
   "source": [
    "Utilizar groupby para obtener el promedio y la cantidad total de derrotas en cada salon"
   ]
  },
  {
   "cell_type": "code",
   "execution_count": 6,
   "id": "c5a84900-c58a-4cb1-92d2-eb6c53debe8c",
   "metadata": {},
   "outputs": [
    {
     "data": {
      "application/vnd.microsoft.datawrangler.viewer.v0+json": {
       "columns": [
        {
         "name": "Salon",
         "rawType": "object",
         "type": "string"
        },
        {
         "name": "('Derrotas', 'mean')",
         "rawType": "float64",
         "type": "float"
        },
        {
         "name": "('Derrotas', 'sum')",
         "rawType": "int64",
         "type": "integer"
        }
       ],
       "ref": "368ca28e-6e8c-43a5-b406-2dc99c6fef52",
       "rows": [
        [
         "2019-A",
         "15.32",
         "1149"
        ],
        [
         "2019-B",
         "14.946666666666667",
         "1121"
        ],
        [
         "2020-A",
         "14.560975609756097",
         "1194"
        ],
        [
         "2020-B",
         "14.7375",
         "1179"
        ],
        [
         "2021-A",
         "15.688311688311689",
         "1208"
        ],
        [
         "2021-B",
         "14.8",
         "1036"
        ],
        [
         "2022-A",
         "14.93939393939394",
         "986"
        ]
       ],
       "shape": {
        "columns": 2,
        "rows": 7
       }
      },
      "text/html": [
       "<div>\n",
       "<style scoped>\n",
       "    .dataframe tbody tr th:only-of-type {\n",
       "        vertical-align: middle;\n",
       "    }\n",
       "\n",
       "    .dataframe tbody tr th {\n",
       "        vertical-align: top;\n",
       "    }\n",
       "\n",
       "    .dataframe thead tr th {\n",
       "        text-align: left;\n",
       "    }\n",
       "\n",
       "    .dataframe thead tr:last-of-type th {\n",
       "        text-align: right;\n",
       "    }\n",
       "</style>\n",
       "<table border=\"1\" class=\"dataframe\">\n",
       "  <thead>\n",
       "    <tr>\n",
       "      <th></th>\n",
       "      <th colspan=\"2\" halign=\"left\">Derrotas</th>\n",
       "    </tr>\n",
       "    <tr>\n",
       "      <th></th>\n",
       "      <th>mean</th>\n",
       "      <th>sum</th>\n",
       "    </tr>\n",
       "    <tr>\n",
       "      <th>Salon</th>\n",
       "      <th></th>\n",
       "      <th></th>\n",
       "    </tr>\n",
       "  </thead>\n",
       "  <tbody>\n",
       "    <tr>\n",
       "      <th>2019-A</th>\n",
       "      <td>15.320000</td>\n",
       "      <td>1149</td>\n",
       "    </tr>\n",
       "    <tr>\n",
       "      <th>2019-B</th>\n",
       "      <td>14.946667</td>\n",
       "      <td>1121</td>\n",
       "    </tr>\n",
       "    <tr>\n",
       "      <th>2020-A</th>\n",
       "      <td>14.560976</td>\n",
       "      <td>1194</td>\n",
       "    </tr>\n",
       "    <tr>\n",
       "      <th>2020-B</th>\n",
       "      <td>14.737500</td>\n",
       "      <td>1179</td>\n",
       "    </tr>\n",
       "    <tr>\n",
       "      <th>2021-A</th>\n",
       "      <td>15.688312</td>\n",
       "      <td>1208</td>\n",
       "    </tr>\n",
       "    <tr>\n",
       "      <th>2021-B</th>\n",
       "      <td>14.800000</td>\n",
       "      <td>1036</td>\n",
       "    </tr>\n",
       "    <tr>\n",
       "      <th>2022-A</th>\n",
       "      <td>14.939394</td>\n",
       "      <td>986</td>\n",
       "    </tr>\n",
       "  </tbody>\n",
       "</table>\n",
       "</div>"
      ],
      "text/plain": [
       "         Derrotas      \n",
       "             mean   sum\n",
       "Salon                  \n",
       "2019-A  15.320000  1149\n",
       "2019-B  14.946667  1121\n",
       "2020-A  14.560976  1194\n",
       "2020-B  14.737500  1179\n",
       "2021-A  15.688312  1208\n",
       "2021-B  14.800000  1036\n",
       "2022-A  14.939394   986"
      ]
     },
     "execution_count": 6,
     "metadata": {},
     "output_type": "execute_result"
    }
   ],
   "source": [
    "Ajedrez.groupby(\"Salon\").agg({\"Derrotas\":[\"mean\",\"sum\"]})"
   ]
  },
  {
   "cell_type": "markdown",
   "id": "6ab5428f-a76f-4eb4-8c52-d2e733600b0e",
   "metadata": {},
   "source": [
    "__Ejercicio 14:__"
   ]
  },
  {
   "cell_type": "markdown",
   "id": "1826409c-7488-42b5-97d4-cf641749d5fa",
   "metadata": {},
   "source": [
    "Utilizar groupby para obtener la cantidad total de derrotas y numero maximo de victorias en cada salon"
   ]
  },
  {
   "cell_type": "code",
   "execution_count": 8,
   "id": "c5bc2120-993c-4c4d-a742-6fe3b04b2d78",
   "metadata": {},
   "outputs": [
    {
     "data": {
      "application/vnd.microsoft.datawrangler.viewer.v0+json": {
       "columns": [
        {
         "name": "Salon",
         "rawType": "object",
         "type": "string"
        },
        {
         "name": "Derrotas",
         "rawType": "int64",
         "type": "integer"
        },
        {
         "name": "Victorias",
         "rawType": "int64",
         "type": "integer"
        }
       ],
       "ref": "a1e69926-a265-4dc0-88a6-05787313b6d3",
       "rows": [
        [
         "2019-A",
         "1149",
         "25"
        ],
        [
         "2019-B",
         "1121",
         "24"
        ],
        [
         "2020-A",
         "1194",
         "26"
        ],
        [
         "2020-B",
         "1179",
         "25"
        ],
        [
         "2021-A",
         "1208",
         "30"
        ],
        [
         "2021-B",
         "1036",
         "25"
        ],
        [
         "2022-A",
         "986",
         "25"
        ]
       ],
       "shape": {
        "columns": 2,
        "rows": 7
       }
      },
      "text/html": [
       "<div>\n",
       "<style scoped>\n",
       "    .dataframe tbody tr th:only-of-type {\n",
       "        vertical-align: middle;\n",
       "    }\n",
       "\n",
       "    .dataframe tbody tr th {\n",
       "        vertical-align: top;\n",
       "    }\n",
       "\n",
       "    .dataframe thead th {\n",
       "        text-align: right;\n",
       "    }\n",
       "</style>\n",
       "<table border=\"1\" class=\"dataframe\">\n",
       "  <thead>\n",
       "    <tr style=\"text-align: right;\">\n",
       "      <th></th>\n",
       "      <th>Derrotas</th>\n",
       "      <th>Victorias</th>\n",
       "    </tr>\n",
       "    <tr>\n",
       "      <th>Salon</th>\n",
       "      <th></th>\n",
       "      <th></th>\n",
       "    </tr>\n",
       "  </thead>\n",
       "  <tbody>\n",
       "    <tr>\n",
       "      <th>2019-A</th>\n",
       "      <td>1149</td>\n",
       "      <td>25</td>\n",
       "    </tr>\n",
       "    <tr>\n",
       "      <th>2019-B</th>\n",
       "      <td>1121</td>\n",
       "      <td>24</td>\n",
       "    </tr>\n",
       "    <tr>\n",
       "      <th>2020-A</th>\n",
       "      <td>1194</td>\n",
       "      <td>26</td>\n",
       "    </tr>\n",
       "    <tr>\n",
       "      <th>2020-B</th>\n",
       "      <td>1179</td>\n",
       "      <td>25</td>\n",
       "    </tr>\n",
       "    <tr>\n",
       "      <th>2021-A</th>\n",
       "      <td>1208</td>\n",
       "      <td>30</td>\n",
       "    </tr>\n",
       "    <tr>\n",
       "      <th>2021-B</th>\n",
       "      <td>1036</td>\n",
       "      <td>25</td>\n",
       "    </tr>\n",
       "    <tr>\n",
       "      <th>2022-A</th>\n",
       "      <td>986</td>\n",
       "      <td>25</td>\n",
       "    </tr>\n",
       "  </tbody>\n",
       "</table>\n",
       "</div>"
      ],
      "text/plain": [
       "        Derrotas  Victorias\n",
       "Salon                      \n",
       "2019-A      1149         25\n",
       "2019-B      1121         24\n",
       "2020-A      1194         26\n",
       "2020-B      1179         25\n",
       "2021-A      1208         30\n",
       "2021-B      1036         25\n",
       "2022-A       986         25"
      ]
     },
     "execution_count": 8,
     "metadata": {},
     "output_type": "execute_result"
    }
   ],
   "source": [
    "Ajedrez.groupby(\"Salon\").agg({\"Derrotas\":\"sum\",\"Victorias\":\"max\"})"
   ]
  },
  {
   "cell_type": "markdown",
   "id": "60a1351b-a186-41c0-bd29-825ff2ae49e2",
   "metadata": {},
   "source": [
    "__Ejercicio 15:__"
   ]
  },
  {
   "cell_type": "markdown",
   "id": "d745d1bf-e5e3-4922-b458-40eb17f0fa32",
   "metadata": {},
   "source": [
    "Utilizar groupby para obtener:\n",
    "  - La cantidad total y el promedio de derrotas en cada salon\n",
    "  - La cantidad maxima y minima de victorias en cada salon"
   ]
  },
  {
   "cell_type": "code",
   "execution_count": 9,
   "id": "543bf618-a3c4-41a8-ba06-16d9e0302696",
   "metadata": {},
   "outputs": [
    {
     "data": {
      "application/vnd.microsoft.datawrangler.viewer.v0+json": {
       "columns": [
        {
         "name": "Salon",
         "rawType": "object",
         "type": "string"
        },
        {
         "name": "('Derrotas', 'sum')",
         "rawType": "int64",
         "type": "integer"
        },
        {
         "name": "('Derrotas', 'mean')",
         "rawType": "float64",
         "type": "float"
        },
        {
         "name": "('Victorias', 'max')",
         "rawType": "int64",
         "type": "integer"
        },
        {
         "name": "('Victorias', 'min')",
         "rawType": "int64",
         "type": "integer"
        }
       ],
       "ref": "b44096a2-9499-4e4f-8aaa-35e91e9c3a5c",
       "rows": [
        [
         "2019-A",
         "1149",
         "15.32",
         "25",
         "0"
        ],
        [
         "2019-B",
         "1121",
         "14.946666666666667",
         "24",
         "0"
        ],
        [
         "2020-A",
         "1194",
         "14.560975609756097",
         "26",
         "0"
        ],
        [
         "2020-B",
         "1179",
         "14.7375",
         "25",
         "0"
        ],
        [
         "2021-A",
         "1208",
         "15.688311688311689",
         "30",
         "0"
        ],
        [
         "2021-B",
         "1036",
         "14.8",
         "25",
         "0"
        ],
        [
         "2022-A",
         "986",
         "14.93939393939394",
         "25",
         "1"
        ]
       ],
       "shape": {
        "columns": 4,
        "rows": 7
       }
      },
      "text/html": [
       "<div>\n",
       "<style scoped>\n",
       "    .dataframe tbody tr th:only-of-type {\n",
       "        vertical-align: middle;\n",
       "    }\n",
       "\n",
       "    .dataframe tbody tr th {\n",
       "        vertical-align: top;\n",
       "    }\n",
       "\n",
       "    .dataframe thead tr th {\n",
       "        text-align: left;\n",
       "    }\n",
       "\n",
       "    .dataframe thead tr:last-of-type th {\n",
       "        text-align: right;\n",
       "    }\n",
       "</style>\n",
       "<table border=\"1\" class=\"dataframe\">\n",
       "  <thead>\n",
       "    <tr>\n",
       "      <th></th>\n",
       "      <th colspan=\"2\" halign=\"left\">Derrotas</th>\n",
       "      <th colspan=\"2\" halign=\"left\">Victorias</th>\n",
       "    </tr>\n",
       "    <tr>\n",
       "      <th></th>\n",
       "      <th>sum</th>\n",
       "      <th>mean</th>\n",
       "      <th>max</th>\n",
       "      <th>min</th>\n",
       "    </tr>\n",
       "    <tr>\n",
       "      <th>Salon</th>\n",
       "      <th></th>\n",
       "      <th></th>\n",
       "      <th></th>\n",
       "      <th></th>\n",
       "    </tr>\n",
       "  </thead>\n",
       "  <tbody>\n",
       "    <tr>\n",
       "      <th>2019-A</th>\n",
       "      <td>1149</td>\n",
       "      <td>15.320000</td>\n",
       "      <td>25</td>\n",
       "      <td>0</td>\n",
       "    </tr>\n",
       "    <tr>\n",
       "      <th>2019-B</th>\n",
       "      <td>1121</td>\n",
       "      <td>14.946667</td>\n",
       "      <td>24</td>\n",
       "      <td>0</td>\n",
       "    </tr>\n",
       "    <tr>\n",
       "      <th>2020-A</th>\n",
       "      <td>1194</td>\n",
       "      <td>14.560976</td>\n",
       "      <td>26</td>\n",
       "      <td>0</td>\n",
       "    </tr>\n",
       "    <tr>\n",
       "      <th>2020-B</th>\n",
       "      <td>1179</td>\n",
       "      <td>14.737500</td>\n",
       "      <td>25</td>\n",
       "      <td>0</td>\n",
       "    </tr>\n",
       "    <tr>\n",
       "      <th>2021-A</th>\n",
       "      <td>1208</td>\n",
       "      <td>15.688312</td>\n",
       "      <td>30</td>\n",
       "      <td>0</td>\n",
       "    </tr>\n",
       "    <tr>\n",
       "      <th>2021-B</th>\n",
       "      <td>1036</td>\n",
       "      <td>14.800000</td>\n",
       "      <td>25</td>\n",
       "      <td>0</td>\n",
       "    </tr>\n",
       "    <tr>\n",
       "      <th>2022-A</th>\n",
       "      <td>986</td>\n",
       "      <td>14.939394</td>\n",
       "      <td>25</td>\n",
       "      <td>1</td>\n",
       "    </tr>\n",
       "  </tbody>\n",
       "</table>\n",
       "</div>"
      ],
      "text/plain": [
       "       Derrotas            Victorias    \n",
       "            sum       mean       max min\n",
       "Salon                                   \n",
       "2019-A     1149  15.320000        25   0\n",
       "2019-B     1121  14.946667        24   0\n",
       "2020-A     1194  14.560976        26   0\n",
       "2020-B     1179  14.737500        25   0\n",
       "2021-A     1208  15.688312        30   0\n",
       "2021-B     1036  14.800000        25   0\n",
       "2022-A      986  14.939394        25   1"
      ]
     },
     "execution_count": 9,
     "metadata": {},
     "output_type": "execute_result"
    }
   ],
   "source": [
    "Ajedrez.groupby(\"Salon\").agg({\"Derrotas\":[\"sum\",\"mean\"],\"Victorias\":[\"max\",\"min\"]})"
   ]
  },
  {
   "cell_type": "markdown",
   "id": "0bed1e61-d214-4423-9425-6027b5ebb4e7",
   "metadata": {},
   "source": [
    "__Ejercicio 16:__"
   ]
  },
  {
   "cell_type": "markdown",
   "id": "930bc30e-de5a-4a72-8187-e0b73c856f8d",
   "metadata": {},
   "source": [
    "Utilizar groupby para obtener los datos de los alumnos en el grupo \"2019-A\" mediante su llave"
   ]
  },
  {
   "cell_type": "code",
   "execution_count": 13,
   "id": "e78afedf-7fc6-4ed7-9a34-92ac7da416b9",
   "metadata": {},
   "outputs": [],
   "source": [
    "llaves = Ajedrez.groupby(\"Salon\").groups"
   ]
  },
  {
   "cell_type": "code",
   "execution_count": 14,
   "id": "33a9e7b8-481d-413b-b257-92f9c7737067",
   "metadata": {},
   "outputs": [
    {
     "data": {
      "text/plain": [
       "{'2019-A': [1021, 1022, 1039, 1056, 1062, 1065, 1067, 1072, 1075, 1085, 1088, 1090, 1094, 1104, 1114, 1117, 1120, 1136, 1137, 1145, 1147, 1152, 1166, 1185, 1188, 1204, 1208, 1215, 1217, 1244, 1246, 1255, 1258, 1263, 1265, 1266, 1273, 1276, 1302, 1304, 1309, 1315, 1320, 1323, 1331, 1340, 1344, 1353, 1356, 1375, 1377, 1383, 1384, 1387, 1396, 1400, 1404, 1406, 1417, 1420, 1423, 1426, 1431, 1434, 1435, 1443, 1446, 1454, 1455, 1459, 1481, 1483, 1484, 1488, 1499], '2019-B': [1005, 1007, 1008, 1009, 1010, 1024, 1029, 1041, 1050, 1052, 1063, 1074, 1077, 1082, 1089, 1097, 1098, 1099, 1109, 1121, 1124, 1126, 1149, 1151, 1154, 1156, 1164, 1180, 1189, 1190, 1203, 1205, 1207, 1211, 1216, 1220, 1221, 1228, 1234, 1235, 1236, 1238, 1256, 1278, 1281, 1284, 1290, 1328, 1330, 1350, 1352, 1358, 1367, 1368, 1370, 1382, 1390, 1395, 1403, 1410, 1414, 1415, 1416, 1428, 1430, 1432, 1437, 1440, 1444, 1448, 1457, 1482, 1491, 1493, 1498], '2020-A': [1020, 1026, 1031, 1032, 1033, 1034, 1037, 1047, 1049, 1051, 1055, 1059, 1070, 1076, 1079, 1080, 1091, 1092, 1093, 1106, 1118, 1132, 1135, 1140, 1142, 1150, 1155, 1162, 1163, 1170, 1171, 1172, 1175, 1193, 1206, 1239, 1247, 1259, 1261, 1277, 1283, 1286, 1287, 1291, 1293, 1301, 1303, 1311, 1312, 1316, 1321, 1325, 1326, 1334, 1336, 1348, 1354, 1376, 1380, 1385, 1386, 1388, 1397, 1398, 1411, 1412, 1429, 1433, 1447, 1453, 1456, 1460, 1461, 1469, 1479, 1490, 1492, 1494, 1500, 1503, 1504, 1505], '2020-B': [1002, 1003, 1004, 1013, 1014, 1017, 1023, 1045, 1054, 1061, 1068, 1069, 1081, 1086, 1087, 1102, 1107, 1113, 1122, 1123, 1128, 1143, 1144, 1157, 1159, 1161, 1174, 1184, 1194, 1196, 1199, 1201, 1209, 1218, 1231, 1242, 1248, 1251, 1253, 1267, 1270, 1289, 1292, 1296, 1297, 1299, 1300, 1307, 1313, 1322, 1333, 1337, 1338, 1341, 1349, 1351, 1360, 1366, 1372, 1389, 1402, 1413, 1427, 1436, 1438, 1441, 1449, 1452, 1458, 1465, 1467, 1470, 1475, 1486, 1496, 1501, 1506, 1507, 1508, 1509], '2021-A': [1018, 1025, 1027, 1028, 1030, 1057, 1060, 1073, 1078, 1084, 1095, 1096, 1100, 1119, 1131, 1134, 1146, 1153, 1165, 1167, 1168, 1169, 1176, 1179, 1182, 1191, 1195, 1197, 1202, 1214, 1225, 1230, 1243, 1245, 1252, 1254, 1257, 1260, 1264, 1269, 1272, 1295, 1306, 1319, 1329, 1343, 1345, 1346, 1399, 1405, 1407, 1408, 1409, 1418, 1442, 1445, 1450, 1463, 1466, 1468, 1471, 1497, 1510, 1511, 1512, 1513, 1514, 1515, 1516, 1517, 1518, 1519, 1520, 1521, 1522, 1523, 1524], '2021-B': [1000, 1001, 1006, 1015, 1019, 1035, 1043, 1044, 1046, 1048, 1053, 1058, 1064, 1066, 1103, 1110, 1125, 1127, 1129, 1139, 1158, 1177, 1178, 1183, 1198, 1213, 1219, 1223, 1224, 1232, 1249, 1262, 1268, 1271, 1274, 1275, 1279, 1280, 1285, 1298, 1305, 1317, 1318, 1324, 1332, 1335, 1339, 1347, 1357, 1362, 1363, 1364, 1365, 1373, 1378, 1391, 1392, 1394, 1419, 1425, 1464, 1472, 1473, 1474, 1476, 1477, 1478, 1480, 1487, 1489], '2022-A': [1011, 1012, 1016, 1036, 1038, 1040, 1042, 1071, 1083, 1101, 1105, 1108, 1111, 1112, 1115, 1116, 1130, 1133, 1138, 1141, 1148, 1160, 1173, 1181, 1186, 1187, 1192, 1200, 1210, 1212, 1222, 1226, 1227, 1229, 1233, 1237, 1240, 1241, 1250, 1282, 1288, 1294, 1308, 1310, 1314, 1327, 1342, 1355, 1359, 1361, 1369, 1371, 1374, 1379, 1381, 1393, 1401, 1421, 1422, 1424, 1439, 1451, 1462, 1485, 1495, 1502]}"
      ]
     },
     "execution_count": 14,
     "metadata": {},
     "output_type": "execute_result"
    }
   ],
   "source": [
    "llaves"
   ]
  },
  {
   "cell_type": "code",
   "execution_count": 15,
   "id": "75b7d06e-fce6-44ad-92b6-d80e1df66de0",
   "metadata": {},
   "outputs": [
    {
     "data": {
      "application/vnd.microsoft.datawrangler.viewer.v0+json": {
       "columns": [
        {
         "name": "Id",
         "rawType": "int64",
         "type": "integer"
        },
        {
         "name": "Nombre",
         "rawType": "object",
         "type": "string"
        },
        {
         "name": "Categoria",
         "rawType": "object",
         "type": "string"
        },
        {
         "name": "Salon",
         "rawType": "object",
         "type": "string"
        },
        {
         "name": "P. J.",
         "rawType": "int64",
         "type": "integer"
        },
        {
         "name": "Victorias",
         "rawType": "int64",
         "type": "integer"
        },
        {
         "name": "Empates",
         "rawType": "int64",
         "type": "integer"
        },
        {
         "name": "Derrotas",
         "rawType": "int64",
         "type": "integer"
        }
       ],
       "ref": "e98a9c1d-6ed1-4948-ba1f-0a243175d06c",
       "rows": [
        [
         "1021",
         "Julian Vera",
         "Principiante",
         "2019-A",
         "33",
         "20",
         "13",
         "0"
        ],
        [
         "1022",
         "Julian Garcia",
         "Avanzado",
         "2019-A",
         "48",
         "23",
         "4",
         "21"
        ],
        [
         "1039",
         "Pablo Muñoz",
         "Intermedio",
         "2019-A",
         "26",
         "9",
         "8",
         "9"
        ],
        [
         "1056",
         "Felipe Torres",
         "Avanzado",
         "2019-A",
         "36",
         "24",
         "8",
         "4"
        ],
        [
         "1062",
         "Anibal Fuentes",
         "Intermedio",
         "2019-A",
         "34",
         "21",
         "5",
         "8"
        ],
        [
         "1065",
         "Edwin Saturno",
         "Intermedio",
         "2019-A",
         "45",
         "8",
         "5",
         "32"
        ],
        [
         "1067",
         "Lina Almeda",
         "Avanzado",
         "2019-A",
         "29",
         "9",
         "8",
         "12"
        ],
        [
         "1072",
         "Maximiliano Mejia",
         "Principiante",
         "2019-A",
         "25",
         "16",
         "5",
         "4"
        ],
        [
         "1075",
         "Alex Gerson",
         "Avanzado",
         "2019-A",
         "36",
         "8",
         "16",
         "12"
        ],
        [
         "1085",
         "Stephanie Leon",
         "Avanzado",
         "2019-A",
         "34",
         "4",
         "12",
         "18"
        ],
        [
         "1088",
         "Klever Marquez",
         "Intermedio",
         "2019-A",
         "40",
         "20",
         "10",
         "10"
        ],
        [
         "1090",
         "Ricardo Narro",
         "Principiante",
         "2019-A",
         "35",
         "8",
         "2",
         "25"
        ],
        [
         "1094",
         "Perla Halabe",
         "Intermedio",
         "2019-A",
         "33",
         "8",
         "10",
         "15"
        ],
        [
         "1104",
         "Heriberto Gabilondo",
         "Intermedio",
         "2019-A",
         "30",
         "8",
         "10",
         "12"
        ],
        [
         "1114",
         "Brandon  Vazquez",
         "Intermedio",
         "2019-A",
         "50",
         "23",
         "2",
         "25"
        ],
        [
         "1117",
         "Ezequiel Sanchez",
         "Avanzado",
         "2019-A",
         "39",
         "21",
         "8",
         "10"
        ],
        [
         "1120",
         "Silvana Ochoa",
         "Intermedio",
         "2019-A",
         "45",
         "20",
         "16",
         "9"
        ],
        [
         "1136",
         "Maria Gonzales ",
         "Intermedio",
         "2019-A",
         "41",
         "21",
         "8",
         "12"
        ],
        [
         "1137",
         "Douglas Ponce",
         "Principiante",
         "2019-A",
         "48",
         "15",
         "1",
         "32"
        ],
        [
         "1145",
         "Florencia Cruz",
         "Principiante",
         "2019-A",
         "29",
         "8",
         "9",
         "12"
        ],
        [
         "1147",
         "Helio Aburto",
         "Intermedio",
         "2019-A",
         "48",
         "16",
         "2",
         "30"
        ],
        [
         "1152",
         "Agustin Saldaña",
         "Avanzado",
         "2019-A",
         "35",
         "5",
         "5",
         "25"
        ],
        [
         "1166",
         "Alberto Lacy",
         "Principiante",
         "2019-A",
         "45",
         "20",
         "18",
         "7"
        ],
        [
         "1185",
         "Giovanni Escalante",
         "Intermedio",
         "2019-A",
         "46",
         "24",
         "13",
         "9"
        ],
        [
         "1188",
         "Carolina Laguillo",
         "Principiante",
         "2019-A",
         "46",
         "23",
         "8",
         "15"
        ],
        [
         "1204",
         "Andre  Urbina",
         "Intermedio",
         "2019-A",
         "45",
         "13",
         "20",
         "12"
        ],
        [
         "1208",
         "Maira Castañeda",
         "Intermedio",
         "2019-A",
         "49",
         "19",
         "29",
         "1"
        ],
        [
         "1215",
         "Esteban Pineda",
         "Avanzado",
         "2019-A",
         "29",
         "8",
         "14",
         "7"
        ],
        [
         "1217",
         "Rodney Berumen",
         "Intermedio",
         "2019-A",
         "34",
         "19",
         "5",
         "10"
        ],
        [
         "1244",
         "Gonzalo Berlanga",
         "Principiante",
         "2019-A",
         "45",
         "0",
         "28",
         "17"
        ],
        [
         "1246",
         "Valentina Espinosa",
         "Avanzado",
         "2019-A",
         "28",
         "7",
         "13",
         "8"
        ],
        [
         "1255",
         "Sarah Ibarra",
         "Avanzado",
         "2019-A",
         "45",
         "19",
         "10",
         "16"
        ],
        [
         "1258",
         "Stephanie Verduzco",
         "Principiante",
         "2019-A",
         "44",
         "20",
         "15",
         "9"
        ],
        [
         "1263",
         "David Sifuentes",
         "Intermedio",
         "2019-A",
         "42",
         "20",
         "8",
         "14"
        ],
        [
         "1265",
         "German Parra",
         "Avanzado",
         "2019-A",
         "50",
         "22",
         "2",
         "26"
        ],
        [
         "1266",
         "Nestor Saucedo",
         "Intermedio",
         "2019-A",
         "40",
         "5",
         "2",
         "33"
        ],
        [
         "1273",
         "Felix Berumen",
         "Avanzado",
         "2019-A",
         "49",
         "21",
         "21",
         "7"
        ],
        [
         "1276",
         "Samuel Espinosa",
         "Avanzado",
         "2019-A",
         "44",
         "11",
         "3",
         "30"
        ],
        [
         "1302",
         "Selena Arias",
         "Intermedio",
         "2019-A",
         "49",
         "18",
         "1",
         "30"
        ],
        [
         "1304",
         "Gael Lara",
         "Avanzado",
         "2019-A",
         "39",
         "21",
         "10",
         "8"
        ],
        [
         "1309",
         "Alejandra Ramos",
         "Intermedio",
         "2019-A",
         "29",
         "9",
         "10",
         "10"
        ],
        [
         "1315",
         "Carmen Said",
         "Avanzado",
         "2019-A",
         "47",
         "24",
         "16",
         "7"
        ],
        [
         "1320",
         "Casimiro Barragan",
         "Principiante",
         "2019-A",
         "31",
         "14",
         "3",
         "14"
        ],
        [
         "1323",
         "Beatriz Bacab",
         "Avanzado",
         "2019-A",
         "30",
         "8",
         "8",
         "14"
        ],
        [
         "1331",
         "Santiago Piñeda",
         "Principiante",
         "2019-A",
         "46",
         "19",
         "2",
         "25"
        ],
        [
         "1340",
         "Mario Macias",
         "Intermedio",
         "2019-A",
         "45",
         "21",
         "18",
         "6"
        ],
        [
         "1344",
         "Silvana Nathal",
         "Intermedio",
         "2019-A",
         "36",
         "17",
         "8",
         "11"
        ],
        [
         "1353",
         "Marta Pizano",
         "Avanzado",
         "2019-A",
         "39",
         "25",
         "1",
         "13"
        ],
        [
         "1356",
         "Blanca Medina",
         "Intermedio",
         "2019-A",
         "28",
         "21",
         "5",
         "2"
        ],
        [
         "1375",
         "Guadalupe Velasco",
         "Principiante",
         "2019-A",
         "39",
         "22",
         "8",
         "9"
        ]
       ],
       "shape": {
        "columns": 7,
        "rows": 75
       }
      },
      "text/html": [
       "<div>\n",
       "<style scoped>\n",
       "    .dataframe tbody tr th:only-of-type {\n",
       "        vertical-align: middle;\n",
       "    }\n",
       "\n",
       "    .dataframe tbody tr th {\n",
       "        vertical-align: top;\n",
       "    }\n",
       "\n",
       "    .dataframe thead th {\n",
       "        text-align: right;\n",
       "    }\n",
       "</style>\n",
       "<table border=\"1\" class=\"dataframe\">\n",
       "  <thead>\n",
       "    <tr style=\"text-align: right;\">\n",
       "      <th></th>\n",
       "      <th>Nombre</th>\n",
       "      <th>Categoria</th>\n",
       "      <th>Salon</th>\n",
       "      <th>P. J.</th>\n",
       "      <th>Victorias</th>\n",
       "      <th>Empates</th>\n",
       "      <th>Derrotas</th>\n",
       "    </tr>\n",
       "    <tr>\n",
       "      <th>Id</th>\n",
       "      <th></th>\n",
       "      <th></th>\n",
       "      <th></th>\n",
       "      <th></th>\n",
       "      <th></th>\n",
       "      <th></th>\n",
       "      <th></th>\n",
       "    </tr>\n",
       "  </thead>\n",
       "  <tbody>\n",
       "    <tr>\n",
       "      <th>1021</th>\n",
       "      <td>Julian Vera</td>\n",
       "      <td>Principiante</td>\n",
       "      <td>2019-A</td>\n",
       "      <td>33</td>\n",
       "      <td>20</td>\n",
       "      <td>13</td>\n",
       "      <td>0</td>\n",
       "    </tr>\n",
       "    <tr>\n",
       "      <th>1022</th>\n",
       "      <td>Julian Garcia</td>\n",
       "      <td>Avanzado</td>\n",
       "      <td>2019-A</td>\n",
       "      <td>48</td>\n",
       "      <td>23</td>\n",
       "      <td>4</td>\n",
       "      <td>21</td>\n",
       "    </tr>\n",
       "    <tr>\n",
       "      <th>1039</th>\n",
       "      <td>Pablo Muñoz</td>\n",
       "      <td>Intermedio</td>\n",
       "      <td>2019-A</td>\n",
       "      <td>26</td>\n",
       "      <td>9</td>\n",
       "      <td>8</td>\n",
       "      <td>9</td>\n",
       "    </tr>\n",
       "    <tr>\n",
       "      <th>1056</th>\n",
       "      <td>Felipe Torres</td>\n",
       "      <td>Avanzado</td>\n",
       "      <td>2019-A</td>\n",
       "      <td>36</td>\n",
       "      <td>24</td>\n",
       "      <td>8</td>\n",
       "      <td>4</td>\n",
       "    </tr>\n",
       "    <tr>\n",
       "      <th>1062</th>\n",
       "      <td>Anibal Fuentes</td>\n",
       "      <td>Intermedio</td>\n",
       "      <td>2019-A</td>\n",
       "      <td>34</td>\n",
       "      <td>21</td>\n",
       "      <td>5</td>\n",
       "      <td>8</td>\n",
       "    </tr>\n",
       "    <tr>\n",
       "      <th>...</th>\n",
       "      <td>...</td>\n",
       "      <td>...</td>\n",
       "      <td>...</td>\n",
       "      <td>...</td>\n",
       "      <td>...</td>\n",
       "      <td>...</td>\n",
       "      <td>...</td>\n",
       "    </tr>\n",
       "    <tr>\n",
       "      <th>1481</th>\n",
       "      <td>Anibal Arias</td>\n",
       "      <td>Avanzado</td>\n",
       "      <td>2019-A</td>\n",
       "      <td>46</td>\n",
       "      <td>6</td>\n",
       "      <td>6</td>\n",
       "      <td>34</td>\n",
       "    </tr>\n",
       "    <tr>\n",
       "      <th>1483</th>\n",
       "      <td>Tomas Villareal</td>\n",
       "      <td>Intermedio</td>\n",
       "      <td>2019-A</td>\n",
       "      <td>34</td>\n",
       "      <td>24</td>\n",
       "      <td>0</td>\n",
       "      <td>10</td>\n",
       "    </tr>\n",
       "    <tr>\n",
       "      <th>1484</th>\n",
       "      <td>Yasmin Rudomin</td>\n",
       "      <td>Intermedio</td>\n",
       "      <td>2019-A</td>\n",
       "      <td>45</td>\n",
       "      <td>5</td>\n",
       "      <td>1</td>\n",
       "      <td>39</td>\n",
       "    </tr>\n",
       "    <tr>\n",
       "      <th>1488</th>\n",
       "      <td>Mauricio Aguirre</td>\n",
       "      <td>Avanzado</td>\n",
       "      <td>2019-A</td>\n",
       "      <td>44</td>\n",
       "      <td>24</td>\n",
       "      <td>11</td>\n",
       "      <td>9</td>\n",
       "    </tr>\n",
       "    <tr>\n",
       "      <th>1499</th>\n",
       "      <td>Tobias Mosqueda</td>\n",
       "      <td>Intermedio</td>\n",
       "      <td>2019-A</td>\n",
       "      <td>47</td>\n",
       "      <td>13</td>\n",
       "      <td>21</td>\n",
       "      <td>13</td>\n",
       "    </tr>\n",
       "  </tbody>\n",
       "</table>\n",
       "<p>75 rows × 7 columns</p>\n",
       "</div>"
      ],
      "text/plain": [
       "                Nombre     Categoria   Salon  P. J.  Victorias  Empates  \\\n",
       "Id                                                                        \n",
       "1021       Julian Vera  Principiante  2019-A     33         20       13   \n",
       "1022     Julian Garcia      Avanzado  2019-A     48         23        4   \n",
       "1039       Pablo Muñoz    Intermedio  2019-A     26          9        8   \n",
       "1056     Felipe Torres      Avanzado  2019-A     36         24        8   \n",
       "1062    Anibal Fuentes    Intermedio  2019-A     34         21        5   \n",
       "...                ...           ...     ...    ...        ...      ...   \n",
       "1481      Anibal Arias      Avanzado  2019-A     46          6        6   \n",
       "1483   Tomas Villareal    Intermedio  2019-A     34         24        0   \n",
       "1484    Yasmin Rudomin    Intermedio  2019-A     45          5        1   \n",
       "1488  Mauricio Aguirre      Avanzado  2019-A     44         24       11   \n",
       "1499   Tobias Mosqueda    Intermedio  2019-A     47         13       21   \n",
       "\n",
       "      Derrotas  \n",
       "Id              \n",
       "1021         0  \n",
       "1022        21  \n",
       "1039         9  \n",
       "1056         4  \n",
       "1062         8  \n",
       "...        ...  \n",
       "1481        34  \n",
       "1483        10  \n",
       "1484        39  \n",
       "1488         9  \n",
       "1499        13  \n",
       "\n",
       "[75 rows x 7 columns]"
      ]
     },
     "execution_count": 15,
     "metadata": {},
     "output_type": "execute_result"
    }
   ],
   "source": [
    "Ajedrez.loc[llaves[\"2019-A\"]]"
   ]
  },
  {
   "cell_type": "markdown",
   "id": "da0e38c0-6099-4434-ab05-cfc959f568c6",
   "metadata": {},
   "source": [
    "__Ejercicio 17:__"
   ]
  },
  {
   "cell_type": "markdown",
   "id": "14bd9310-adc9-4b93-80a0-635b7c12cdeb",
   "metadata": {},
   "source": [
    "Utilizar groupby para obtener los datos de los alumnos en el grupo \"2020-A\" mediante su indice"
   ]
  },
  {
   "cell_type": "code",
   "execution_count": 16,
   "id": "d948e3ba-f919-4b2c-92ef-531f43908fc2",
   "metadata": {},
   "outputs": [],
   "source": [
    "indice = Ajedrez.groupby(\"Salon\").indices"
   ]
  },
  {
   "cell_type": "code",
   "execution_count": 17,
   "id": "6bd44ece-abc9-4a2b-8574-6b5e8094339e",
   "metadata": {},
   "outputs": [
    {
     "data": {
      "text/plain": [
       "{'2019-A': array([ 21,  22,  39,  56,  62,  65,  67,  72,  75,  85,  88,  90,  94,\n",
       "        104, 114, 117, 120, 136, 137, 145, 147, 152, 166, 185, 188, 204,\n",
       "        208, 215, 217, 244, 246, 255, 258, 263, 265, 266, 273, 276, 302,\n",
       "        304, 309, 315, 320, 323, 331, 340, 344, 353, 356, 375, 377, 383,\n",
       "        384, 387, 396, 400, 404, 406, 417, 420, 423, 426, 431, 434, 435,\n",
       "        443, 446, 454, 455, 459, 481, 483, 484, 488, 499]),\n",
       " '2019-B': array([  5,   7,   8,   9,  10,  24,  29,  41,  50,  52,  63,  74,  77,\n",
       "         82,  89,  97,  98,  99, 109, 121, 124, 126, 149, 151, 154, 156,\n",
       "        164, 180, 189, 190, 203, 205, 207, 211, 216, 220, 221, 228, 234,\n",
       "        235, 236, 238, 256, 278, 281, 284, 290, 328, 330, 350, 352, 358,\n",
       "        367, 368, 370, 382, 390, 395, 403, 410, 414, 415, 416, 428, 430,\n",
       "        432, 437, 440, 444, 448, 457, 482, 491, 493, 498]),\n",
       " '2020-A': array([ 20,  26,  31,  32,  33,  34,  37,  47,  49,  51,  55,  59,  70,\n",
       "         76,  79,  80,  91,  92,  93, 106, 118, 132, 135, 140, 142, 150,\n",
       "        155, 162, 163, 170, 171, 172, 175, 193, 206, 239, 247, 259, 261,\n",
       "        277, 283, 286, 287, 291, 293, 301, 303, 311, 312, 316, 321, 325,\n",
       "        326, 334, 336, 348, 354, 376, 380, 385, 386, 388, 397, 398, 411,\n",
       "        412, 429, 433, 447, 453, 456, 460, 461, 469, 479, 490, 492, 494,\n",
       "        500, 503, 504, 505]),\n",
       " '2020-B': array([  2,   3,   4,  13,  14,  17,  23,  45,  54,  61,  68,  69,  81,\n",
       "         86,  87, 102, 107, 113, 122, 123, 128, 143, 144, 157, 159, 161,\n",
       "        174, 184, 194, 196, 199, 201, 209, 218, 231, 242, 248, 251, 253,\n",
       "        267, 270, 289, 292, 296, 297, 299, 300, 307, 313, 322, 333, 337,\n",
       "        338, 341, 349, 351, 360, 366, 372, 389, 402, 413, 427, 436, 438,\n",
       "        441, 449, 452, 458, 465, 467, 470, 475, 486, 496, 501, 506, 507,\n",
       "        508, 509]),\n",
       " '2021-A': array([ 18,  25,  27,  28,  30,  57,  60,  73,  78,  84,  95,  96, 100,\n",
       "        119, 131, 134, 146, 153, 165, 167, 168, 169, 176, 179, 182, 191,\n",
       "        195, 197, 202, 214, 225, 230, 243, 245, 252, 254, 257, 260, 264,\n",
       "        269, 272, 295, 306, 319, 329, 343, 345, 346, 399, 405, 407, 408,\n",
       "        409, 418, 442, 445, 450, 463, 466, 468, 471, 497, 510, 511, 512,\n",
       "        513, 514, 515, 516, 517, 518, 519, 520, 521, 522, 523, 524]),\n",
       " '2021-B': array([  0,   1,   6,  15,  19,  35,  43,  44,  46,  48,  53,  58,  64,\n",
       "         66, 103, 110, 125, 127, 129, 139, 158, 177, 178, 183, 198, 213,\n",
       "        219, 223, 224, 232, 249, 262, 268, 271, 274, 275, 279, 280, 285,\n",
       "        298, 305, 317, 318, 324, 332, 335, 339, 347, 357, 362, 363, 364,\n",
       "        365, 373, 378, 391, 392, 394, 419, 425, 464, 472, 473, 474, 476,\n",
       "        477, 478, 480, 487, 489]),\n",
       " '2022-A': array([ 11,  12,  16,  36,  38,  40,  42,  71,  83, 101, 105, 108, 111,\n",
       "        112, 115, 116, 130, 133, 138, 141, 148, 160, 173, 181, 186, 187,\n",
       "        192, 200, 210, 212, 222, 226, 227, 229, 233, 237, 240, 241, 250,\n",
       "        282, 288, 294, 308, 310, 314, 327, 342, 355, 359, 361, 369, 371,\n",
       "        374, 379, 381, 393, 401, 421, 422, 424, 439, 451, 462, 485, 495,\n",
       "        502])}"
      ]
     },
     "execution_count": 17,
     "metadata": {},
     "output_type": "execute_result"
    }
   ],
   "source": [
    "indice"
   ]
  },
  {
   "cell_type": "code",
   "execution_count": 18,
   "id": "822ae199-b6fe-440f-8010-7272a3f3ebac",
   "metadata": {},
   "outputs": [
    {
     "data": {
      "application/vnd.microsoft.datawrangler.viewer.v0+json": {
       "columns": [
        {
         "name": "Id",
         "rawType": "int64",
         "type": "integer"
        },
        {
         "name": "Nombre",
         "rawType": "object",
         "type": "string"
        },
        {
         "name": "Categoria",
         "rawType": "object",
         "type": "string"
        },
        {
         "name": "Salon",
         "rawType": "object",
         "type": "string"
        },
        {
         "name": "P. J.",
         "rawType": "int64",
         "type": "integer"
        },
        {
         "name": "Victorias",
         "rawType": "int64",
         "type": "integer"
        },
        {
         "name": "Empates",
         "rawType": "int64",
         "type": "integer"
        },
        {
         "name": "Derrotas",
         "rawType": "int64",
         "type": "integer"
        }
       ],
       "ref": "0e90d93a-5105-4d9a-8fc3-c6143dfb0016",
       "rows": [
        [
         "1020",
         "Yessica Infante",
         "Intermedio",
         "2020-A",
         "43",
         "7",
         "17",
         "19"
        ],
        [
         "1026",
         "Luis Ondarza",
         "Intermedio",
         "2020-A",
         "26",
         "20",
         "4",
         "2"
        ],
        [
         "1031",
         "Eddie Setien",
         "Intermedio",
         "2020-A",
         "46",
         "8",
         "24",
         "14"
        ],
        [
         "1032",
         "Carlos Pascual",
         "Intermedio",
         "2020-A",
         "30",
         "6",
         "6",
         "18"
        ],
        [
         "1033",
         "Miguel Vera",
         "Intermedio",
         "2020-A",
         "25",
         "8",
         "6",
         "11"
        ],
        [
         "1034",
         "Howard Del Rio",
         "Principiante",
         "2020-A",
         "30",
         "11",
         "7",
         "12"
        ],
        [
         "1037",
         "Claudio Feria",
         "Avanzado",
         "2020-A",
         "29",
         "23",
         "6",
         "0"
        ],
        [
         "1047",
         "Lara Ibarra",
         "Intermedio",
         "2020-A",
         "48",
         "16",
         "2",
         "30"
        ],
        [
         "1049",
         "Darwin Teran",
         "Avanzado",
         "2020-A",
         "36",
         "3",
         "6",
         "27"
        ],
        [
         "1051",
         "Victor Salcedo",
         "Principiante",
         "2020-A",
         "42",
         "25",
         "3",
         "14"
        ],
        [
         "1055",
         "Viviana Milan",
         "Avanzado",
         "2020-A",
         "46",
         "17",
         "2",
         "27"
        ],
        [
         "1059",
         "Carlos Lacy",
         "Principiante",
         "2020-A",
         "47",
         "0",
         "25",
         "22"
        ],
        [
         "1070",
         "Felix Santillas",
         "Principiante",
         "2020-A",
         "29",
         "8",
         "8",
         "13"
        ],
        [
         "1076",
         "Pavel Fuentes",
         "Principiante",
         "2020-A",
         "41",
         "22",
         "14",
         "5"
        ],
        [
         "1079",
         "Domingo Soda",
         "Intermedio",
         "2020-A",
         "35",
         "21",
         "7",
         "7"
        ],
        [
         "1080",
         "Edwin Huerta",
         "Principiante",
         "2020-A",
         "39",
         "19",
         "6",
         "14"
        ],
        [
         "1091",
         "Emmanuel Nieto",
         "Avanzado",
         "2020-A",
         "48",
         "22",
         "4",
         "22"
        ],
        [
         "1092",
         "Rodney Revuelta",
         "Principiante",
         "2020-A",
         "31",
         "13",
         "7",
         "11"
        ],
        [
         "1093",
         "Alina Biagi",
         "Avanzado",
         "2020-A",
         "38",
         "19",
         "11",
         "8"
        ],
        [
         "1106",
         "Tobias Mora",
         "Principiante",
         "2020-A",
         "36",
         "17",
         "13",
         "6"
        ],
        [
         "1118",
         "Luna Alfaro",
         "Principiante",
         "2020-A",
         "43",
         "5",
         "18",
         "20"
        ],
        [
         "1132",
         "Ginnie Gomez",
         "Intermedio",
         "2020-A",
         "42",
         "25",
         "4",
         "13"
        ],
        [
         "1135",
         "Miguel Arriaga",
         "Intermedio",
         "2020-A",
         "29",
         "7",
         "11",
         "11"
        ],
        [
         "1140",
         "Stephanie Solorzano",
         "Avanzado",
         "2020-A",
         "49",
         "24",
         "1",
         "24"
        ],
        [
         "1142",
         "Beatriz Feria",
         "Intermedio",
         "2020-A",
         "45",
         "22",
         "7",
         "16"
        ],
        [
         "1150",
         "Sarah Llamas",
         "Principiante",
         "2020-A",
         "38",
         "19",
         "9",
         "10"
        ],
        [
         "1155",
         "Johan Gongora",
         "Principiante",
         "2020-A",
         "29",
         "17",
         "8",
         "4"
        ],
        [
         "1162",
         "Mildred Hernan",
         "Principiante",
         "2020-A",
         "25",
         "15",
         "6",
         "4"
        ],
        [
         "1163",
         "Brayan Lima",
         "Intermedio",
         "2020-A",
         "26",
         "6",
         "5",
         "15"
        ],
        [
         "1170",
         "Franco Kaft",
         "Principiante",
         "2020-A",
         "40",
         "20",
         "15",
         "5"
        ],
        [
         "1171",
         "Casandra Teran",
         "Principiante",
         "2020-A",
         "39",
         "20",
         "6",
         "13"
        ],
        [
         "1172",
         "Edwin Varela",
         "Avanzado",
         "2020-A",
         "46",
         "5",
         "4",
         "37"
        ],
        [
         "1175",
         "Adrian Gamba",
         "Avanzado",
         "2020-A",
         "29",
         "17",
         "8",
         "4"
        ],
        [
         "1193",
         "Nadia Peralta",
         "Intermedio",
         "2020-A",
         "42",
         "21",
         "17",
         "4"
        ],
        [
         "1206",
         "Brandon  Cuevas",
         "Principiante",
         "2020-A",
         "25",
         "9",
         "5",
         "11"
        ],
        [
         "1239",
         "Yasmin Velasquez",
         "Principiante",
         "2020-A",
         "30",
         "6",
         "7",
         "17"
        ],
        [
         "1247",
         "Pamela Soberon",
         "Intermedio",
         "2020-A",
         "47",
         "6",
         "11",
         "30"
        ],
        [
         "1259",
         "Eleonor Basurto",
         "Avanzado",
         "2020-A",
         "40",
         "19",
         "12",
         "9"
        ],
        [
         "1261",
         "Constanza Kaft",
         "Avanzado",
         "2020-A",
         "47",
         "20",
         "9",
         "18"
        ],
        [
         "1277",
         "Teresa Contreras",
         "Principiante",
         "2020-A",
         "32",
         "20",
         "5",
         "7"
        ],
        [
         "1283",
         "Matilde Verduzco",
         "Intermedio",
         "2020-A",
         "39",
         "20",
         "13",
         "6"
        ],
        [
         "1286",
         "Constanza Valle",
         "Intermedio",
         "2020-A",
         "40",
         "20",
         "10",
         "10"
        ],
        [
         "1287",
         "Abel Verdejo",
         "Avanzado",
         "2020-A",
         "36",
         "3",
         "1",
         "32"
        ],
        [
         "1291",
         "Trevor Vital",
         "Intermedio",
         "2020-A",
         "30",
         "12",
         "5",
         "13"
        ],
        [
         "1293",
         "Julian Molina",
         "Intermedio",
         "2020-A",
         "49",
         "18",
         "2",
         "29"
        ],
        [
         "1301",
         "Marwin Negrete",
         "Principiante",
         "2020-A",
         "36",
         "1",
         "3",
         "32"
        ],
        [
         "1303",
         "Julia Medina",
         "Avanzado",
         "2020-A",
         "46",
         "25",
         "3",
         "18"
        ],
        [
         "1311",
         "Gregorio Blanchet",
         "Principiante",
         "2020-A",
         "36",
         "7",
         "12",
         "17"
        ],
        [
         "1312",
         "Martina Esper",
         "Intermedio",
         "2020-A",
         "36",
         "23",
         "4",
         "9"
        ],
        [
         "1316",
         "Lucas Rios",
         "Principiante",
         "2020-A",
         "27",
         "9",
         "8",
         "10"
        ]
       ],
       "shape": {
        "columns": 7,
        "rows": 82
       }
      },
      "text/html": [
       "<div>\n",
       "<style scoped>\n",
       "    .dataframe tbody tr th:only-of-type {\n",
       "        vertical-align: middle;\n",
       "    }\n",
       "\n",
       "    .dataframe tbody tr th {\n",
       "        vertical-align: top;\n",
       "    }\n",
       "\n",
       "    .dataframe thead th {\n",
       "        text-align: right;\n",
       "    }\n",
       "</style>\n",
       "<table border=\"1\" class=\"dataframe\">\n",
       "  <thead>\n",
       "    <tr style=\"text-align: right;\">\n",
       "      <th></th>\n",
       "      <th>Nombre</th>\n",
       "      <th>Categoria</th>\n",
       "      <th>Salon</th>\n",
       "      <th>P. J.</th>\n",
       "      <th>Victorias</th>\n",
       "      <th>Empates</th>\n",
       "      <th>Derrotas</th>\n",
       "    </tr>\n",
       "    <tr>\n",
       "      <th>Id</th>\n",
       "      <th></th>\n",
       "      <th></th>\n",
       "      <th></th>\n",
       "      <th></th>\n",
       "      <th></th>\n",
       "      <th></th>\n",
       "      <th></th>\n",
       "    </tr>\n",
       "  </thead>\n",
       "  <tbody>\n",
       "    <tr>\n",
       "      <th>1020</th>\n",
       "      <td>Yessica Infante</td>\n",
       "      <td>Intermedio</td>\n",
       "      <td>2020-A</td>\n",
       "      <td>43</td>\n",
       "      <td>7</td>\n",
       "      <td>17</td>\n",
       "      <td>19</td>\n",
       "    </tr>\n",
       "    <tr>\n",
       "      <th>1026</th>\n",
       "      <td>Luis Ondarza</td>\n",
       "      <td>Intermedio</td>\n",
       "      <td>2020-A</td>\n",
       "      <td>26</td>\n",
       "      <td>20</td>\n",
       "      <td>4</td>\n",
       "      <td>2</td>\n",
       "    </tr>\n",
       "    <tr>\n",
       "      <th>1031</th>\n",
       "      <td>Eddie Setien</td>\n",
       "      <td>Intermedio</td>\n",
       "      <td>2020-A</td>\n",
       "      <td>46</td>\n",
       "      <td>8</td>\n",
       "      <td>24</td>\n",
       "      <td>14</td>\n",
       "    </tr>\n",
       "    <tr>\n",
       "      <th>1032</th>\n",
       "      <td>Carlos Pascual</td>\n",
       "      <td>Intermedio</td>\n",
       "      <td>2020-A</td>\n",
       "      <td>30</td>\n",
       "      <td>6</td>\n",
       "      <td>6</td>\n",
       "      <td>18</td>\n",
       "    </tr>\n",
       "    <tr>\n",
       "      <th>1033</th>\n",
       "      <td>Miguel Vera</td>\n",
       "      <td>Intermedio</td>\n",
       "      <td>2020-A</td>\n",
       "      <td>25</td>\n",
       "      <td>8</td>\n",
       "      <td>6</td>\n",
       "      <td>11</td>\n",
       "    </tr>\n",
       "    <tr>\n",
       "      <th>...</th>\n",
       "      <td>...</td>\n",
       "      <td>...</td>\n",
       "      <td>...</td>\n",
       "      <td>...</td>\n",
       "      <td>...</td>\n",
       "      <td>...</td>\n",
       "      <td>...</td>\n",
       "    </tr>\n",
       "    <tr>\n",
       "      <th>1494</th>\n",
       "      <td>Samuel Santamaria</td>\n",
       "      <td>Intermedio</td>\n",
       "      <td>2020-A</td>\n",
       "      <td>26</td>\n",
       "      <td>18</td>\n",
       "      <td>6</td>\n",
       "      <td>2</td>\n",
       "    </tr>\n",
       "    <tr>\n",
       "      <th>1500</th>\n",
       "      <td>Felix Sifuentes</td>\n",
       "      <td>Principiante</td>\n",
       "      <td>2020-A</td>\n",
       "      <td>45</td>\n",
       "      <td>19</td>\n",
       "      <td>25</td>\n",
       "      <td>1</td>\n",
       "    </tr>\n",
       "    <tr>\n",
       "      <th>1503</th>\n",
       "      <td>Lily Velasco</td>\n",
       "      <td>Intermedio</td>\n",
       "      <td>2020-A</td>\n",
       "      <td>34</td>\n",
       "      <td>26</td>\n",
       "      <td>3</td>\n",
       "      <td>5</td>\n",
       "    </tr>\n",
       "    <tr>\n",
       "      <th>1504</th>\n",
       "      <td>Casimiro Mansilla</td>\n",
       "      <td>Intermedio</td>\n",
       "      <td>2020-A</td>\n",
       "      <td>29</td>\n",
       "      <td>15</td>\n",
       "      <td>4</td>\n",
       "      <td>10</td>\n",
       "    </tr>\n",
       "    <tr>\n",
       "      <th>1505</th>\n",
       "      <td>Felipe Mosqueda</td>\n",
       "      <td>Avanzado</td>\n",
       "      <td>2020-A</td>\n",
       "      <td>37</td>\n",
       "      <td>24</td>\n",
       "      <td>3</td>\n",
       "      <td>10</td>\n",
       "    </tr>\n",
       "  </tbody>\n",
       "</table>\n",
       "<p>82 rows × 7 columns</p>\n",
       "</div>"
      ],
      "text/plain": [
       "                 Nombre     Categoria   Salon  P. J.  Victorias  Empates  \\\n",
       "Id                                                                         \n",
       "1020    Yessica Infante    Intermedio  2020-A     43          7       17   \n",
       "1026       Luis Ondarza    Intermedio  2020-A     26         20        4   \n",
       "1031       Eddie Setien    Intermedio  2020-A     46          8       24   \n",
       "1032     Carlos Pascual    Intermedio  2020-A     30          6        6   \n",
       "1033        Miguel Vera    Intermedio  2020-A     25          8        6   \n",
       "...                 ...           ...     ...    ...        ...      ...   \n",
       "1494  Samuel Santamaria    Intermedio  2020-A     26         18        6   \n",
       "1500    Felix Sifuentes  Principiante  2020-A     45         19       25   \n",
       "1503       Lily Velasco    Intermedio  2020-A     34         26        3   \n",
       "1504  Casimiro Mansilla    Intermedio  2020-A     29         15        4   \n",
       "1505    Felipe Mosqueda      Avanzado  2020-A     37         24        3   \n",
       "\n",
       "      Derrotas  \n",
       "Id              \n",
       "1020        19  \n",
       "1026         2  \n",
       "1031        14  \n",
       "1032        18  \n",
       "1033        11  \n",
       "...        ...  \n",
       "1494         2  \n",
       "1500         1  \n",
       "1503         5  \n",
       "1504        10  \n",
       "1505        10  \n",
       "\n",
       "[82 rows x 7 columns]"
      ]
     },
     "execution_count": 18,
     "metadata": {},
     "output_type": "execute_result"
    }
   ],
   "source": [
    "Ajedrez.iloc[indice[\"2020-A\"]]"
   ]
  },
  {
   "cell_type": "markdown",
   "id": "11f5eb7c-402d-4933-b684-4a48d248ee11",
   "metadata": {},
   "source": [
    "__Ejercicio 18:__"
   ]
  },
  {
   "cell_type": "markdown",
   "id": "02878b64-fa15-460d-8dcb-1276e11b56f1",
   "metadata": {},
   "source": [
    "Utilizar groupby para obtener los datos de los alumnos con mas victorias en cada grupo"
   ]
  },
  {
   "cell_type": "code",
   "execution_count": 19,
   "id": "ec2d6cfe-18cc-44a0-90ea-e7a6e90f3e44",
   "metadata": {},
   "outputs": [],
   "source": [
    "id_max = Ajedrez.groupby(\"Salon\").agg({\"Victorias\":\"idxmax\"})"
   ]
  },
  {
   "cell_type": "code",
   "execution_count": 20,
   "id": "91452057-b1e1-44d2-92c5-8abf47e7cb09",
   "metadata": {},
   "outputs": [
    {
     "data": {
      "application/vnd.microsoft.datawrangler.viewer.v0+json": {
       "columns": [
        {
         "name": "Salon",
         "rawType": "object",
         "type": "string"
        },
        {
         "name": "Victorias",
         "rawType": "int64",
         "type": "integer"
        }
       ],
       "ref": "7092b519-d751-4686-9bcd-95447e800e7c",
       "rows": [
        [
         "2019-A",
         "1353"
        ],
        [
         "2019-B",
         "1098"
        ],
        [
         "2020-A",
         "1503"
        ],
        [
         "2020-B",
         "1013"
        ],
        [
         "2021-A",
         "1519"
        ],
        [
         "2021-B",
         "1044"
        ],
        [
         "2022-A",
         "1036"
        ]
       ],
       "shape": {
        "columns": 1,
        "rows": 7
       }
      },
      "text/html": [
       "<div>\n",
       "<style scoped>\n",
       "    .dataframe tbody tr th:only-of-type {\n",
       "        vertical-align: middle;\n",
       "    }\n",
       "\n",
       "    .dataframe tbody tr th {\n",
       "        vertical-align: top;\n",
       "    }\n",
       "\n",
       "    .dataframe thead th {\n",
       "        text-align: right;\n",
       "    }\n",
       "</style>\n",
       "<table border=\"1\" class=\"dataframe\">\n",
       "  <thead>\n",
       "    <tr style=\"text-align: right;\">\n",
       "      <th></th>\n",
       "      <th>Victorias</th>\n",
       "    </tr>\n",
       "    <tr>\n",
       "      <th>Salon</th>\n",
       "      <th></th>\n",
       "    </tr>\n",
       "  </thead>\n",
       "  <tbody>\n",
       "    <tr>\n",
       "      <th>2019-A</th>\n",
       "      <td>1353</td>\n",
       "    </tr>\n",
       "    <tr>\n",
       "      <th>2019-B</th>\n",
       "      <td>1098</td>\n",
       "    </tr>\n",
       "    <tr>\n",
       "      <th>2020-A</th>\n",
       "      <td>1503</td>\n",
       "    </tr>\n",
       "    <tr>\n",
       "      <th>2020-B</th>\n",
       "      <td>1013</td>\n",
       "    </tr>\n",
       "    <tr>\n",
       "      <th>2021-A</th>\n",
       "      <td>1519</td>\n",
       "    </tr>\n",
       "    <tr>\n",
       "      <th>2021-B</th>\n",
       "      <td>1044</td>\n",
       "    </tr>\n",
       "    <tr>\n",
       "      <th>2022-A</th>\n",
       "      <td>1036</td>\n",
       "    </tr>\n",
       "  </tbody>\n",
       "</table>\n",
       "</div>"
      ],
      "text/plain": [
       "        Victorias\n",
       "Salon            \n",
       "2019-A       1353\n",
       "2019-B       1098\n",
       "2020-A       1503\n",
       "2020-B       1013\n",
       "2021-A       1519\n",
       "2021-B       1044\n",
       "2022-A       1036"
      ]
     },
     "execution_count": 20,
     "metadata": {},
     "output_type": "execute_result"
    }
   ],
   "source": [
    "id_max"
   ]
  },
  {
   "cell_type": "code",
   "execution_count": 21,
   "id": "c0930f6a-35aa-4d65-82bf-c2b9f2a88ff5",
   "metadata": {},
   "outputs": [
    {
     "data": {
      "application/vnd.microsoft.datawrangler.viewer.v0+json": {
       "columns": [
        {
         "name": "Id",
         "rawType": "int64",
         "type": "integer"
        },
        {
         "name": "Nombre",
         "rawType": "object",
         "type": "string"
        },
        {
         "name": "Categoria",
         "rawType": "object",
         "type": "string"
        },
        {
         "name": "Salon",
         "rawType": "object",
         "type": "string"
        },
        {
         "name": "P. J.",
         "rawType": "int64",
         "type": "integer"
        },
        {
         "name": "Victorias",
         "rawType": "int64",
         "type": "integer"
        },
        {
         "name": "Empates",
         "rawType": "int64",
         "type": "integer"
        },
        {
         "name": "Derrotas",
         "rawType": "int64",
         "type": "integer"
        }
       ],
       "ref": "b1bec5ee-4851-4fc9-a91e-39555d47a3da",
       "rows": [
        [
         "1353",
         "Marta Pizano",
         "Avanzado",
         "2019-A",
         "39",
         "25",
         "1",
         "13"
        ],
        [
         "1098",
         "Michael Camacho",
         "Intermedio",
         "2019-B",
         "45",
         "24",
         "2",
         "19"
        ],
        [
         "1503",
         "Lily Velasco",
         "Intermedio",
         "2020-A",
         "34",
         "26",
         "3",
         "5"
        ],
        [
         "1013",
         "Octavio Peñalosa",
         "Intermedio",
         "2020-B",
         "44",
         "25",
         "2",
         "17"
        ],
        [
         "1519",
         "Eugenio Carrillo",
         "Avanzado",
         "2021-A",
         "44",
         "30",
         "0",
         "14"
        ],
        [
         "1044",
         "Luz Funes",
         "Avanzado",
         "2021-B",
         "38",
         "25",
         "3",
         "10"
        ],
        [
         "1036",
         "Brenda Rubio",
         "Intermedio",
         "2022-A",
         "43",
         "25",
         "2",
         "16"
        ]
       ],
       "shape": {
        "columns": 7,
        "rows": 7
       }
      },
      "text/html": [
       "<div>\n",
       "<style scoped>\n",
       "    .dataframe tbody tr th:only-of-type {\n",
       "        vertical-align: middle;\n",
       "    }\n",
       "\n",
       "    .dataframe tbody tr th {\n",
       "        vertical-align: top;\n",
       "    }\n",
       "\n",
       "    .dataframe thead th {\n",
       "        text-align: right;\n",
       "    }\n",
       "</style>\n",
       "<table border=\"1\" class=\"dataframe\">\n",
       "  <thead>\n",
       "    <tr style=\"text-align: right;\">\n",
       "      <th></th>\n",
       "      <th>Nombre</th>\n",
       "      <th>Categoria</th>\n",
       "      <th>Salon</th>\n",
       "      <th>P. J.</th>\n",
       "      <th>Victorias</th>\n",
       "      <th>Empates</th>\n",
       "      <th>Derrotas</th>\n",
       "    </tr>\n",
       "    <tr>\n",
       "      <th>Id</th>\n",
       "      <th></th>\n",
       "      <th></th>\n",
       "      <th></th>\n",
       "      <th></th>\n",
       "      <th></th>\n",
       "      <th></th>\n",
       "      <th></th>\n",
       "    </tr>\n",
       "  </thead>\n",
       "  <tbody>\n",
       "    <tr>\n",
       "      <th>1353</th>\n",
       "      <td>Marta Pizano</td>\n",
       "      <td>Avanzado</td>\n",
       "      <td>2019-A</td>\n",
       "      <td>39</td>\n",
       "      <td>25</td>\n",
       "      <td>1</td>\n",
       "      <td>13</td>\n",
       "    </tr>\n",
       "    <tr>\n",
       "      <th>1098</th>\n",
       "      <td>Michael Camacho</td>\n",
       "      <td>Intermedio</td>\n",
       "      <td>2019-B</td>\n",
       "      <td>45</td>\n",
       "      <td>24</td>\n",
       "      <td>2</td>\n",
       "      <td>19</td>\n",
       "    </tr>\n",
       "    <tr>\n",
       "      <th>1503</th>\n",
       "      <td>Lily Velasco</td>\n",
       "      <td>Intermedio</td>\n",
       "      <td>2020-A</td>\n",
       "      <td>34</td>\n",
       "      <td>26</td>\n",
       "      <td>3</td>\n",
       "      <td>5</td>\n",
       "    </tr>\n",
       "    <tr>\n",
       "      <th>1013</th>\n",
       "      <td>Octavio Peñalosa</td>\n",
       "      <td>Intermedio</td>\n",
       "      <td>2020-B</td>\n",
       "      <td>44</td>\n",
       "      <td>25</td>\n",
       "      <td>2</td>\n",
       "      <td>17</td>\n",
       "    </tr>\n",
       "    <tr>\n",
       "      <th>1519</th>\n",
       "      <td>Eugenio Carrillo</td>\n",
       "      <td>Avanzado</td>\n",
       "      <td>2021-A</td>\n",
       "      <td>44</td>\n",
       "      <td>30</td>\n",
       "      <td>0</td>\n",
       "      <td>14</td>\n",
       "    </tr>\n",
       "    <tr>\n",
       "      <th>1044</th>\n",
       "      <td>Luz Funes</td>\n",
       "      <td>Avanzado</td>\n",
       "      <td>2021-B</td>\n",
       "      <td>38</td>\n",
       "      <td>25</td>\n",
       "      <td>3</td>\n",
       "      <td>10</td>\n",
       "    </tr>\n",
       "    <tr>\n",
       "      <th>1036</th>\n",
       "      <td>Brenda Rubio</td>\n",
       "      <td>Intermedio</td>\n",
       "      <td>2022-A</td>\n",
       "      <td>43</td>\n",
       "      <td>25</td>\n",
       "      <td>2</td>\n",
       "      <td>16</td>\n",
       "    </tr>\n",
       "  </tbody>\n",
       "</table>\n",
       "</div>"
      ],
      "text/plain": [
       "                Nombre   Categoria   Salon  P. J.  Victorias  Empates  \\\n",
       "Id                                                                      \n",
       "1353      Marta Pizano    Avanzado  2019-A     39         25        1   \n",
       "1098   Michael Camacho  Intermedio  2019-B     45         24        2   \n",
       "1503      Lily Velasco  Intermedio  2020-A     34         26        3   \n",
       "1013  Octavio Peñalosa  Intermedio  2020-B     44         25        2   \n",
       "1519  Eugenio Carrillo    Avanzado  2021-A     44         30        0   \n",
       "1044         Luz Funes    Avanzado  2021-B     38         25        3   \n",
       "1036      Brenda Rubio  Intermedio  2022-A     43         25        2   \n",
       "\n",
       "      Derrotas  \n",
       "Id              \n",
       "1353        13  \n",
       "1098        19  \n",
       "1503         5  \n",
       "1013        17  \n",
       "1519        14  \n",
       "1044        10  \n",
       "1036        16  "
      ]
     },
     "execution_count": 21,
     "metadata": {},
     "output_type": "execute_result"
    }
   ],
   "source": [
    "Ajedrez.loc[id_max.Victorias]"
   ]
  },
  {
   "cell_type": "markdown",
   "id": "307bbb2e-3293-441e-a205-db4af00853f2",
   "metadata": {},
   "source": [
    "__Ejercicio 19:__"
   ]
  },
  {
   "cell_type": "markdown",
   "id": "ad21a2f4-f6b8-4a58-939f-1f0d873054f9",
   "metadata": {},
   "source": [
    "Utilizar pivot_table para obtener el valor promedio en todas las columnas de cada salon"
   ]
  },
  {
   "cell_type": "code",
   "execution_count": 28,
   "id": "6a013b04-5a44-4c82-80b4-6997e8e01553",
   "metadata": {},
   "outputs": [
    {
     "data": {
      "application/vnd.microsoft.datawrangler.viewer.v0+json": {
       "columns": [
        {
         "name": "Salon",
         "rawType": "object",
         "type": "string"
        },
        {
         "name": "Derrotas",
         "rawType": "float64",
         "type": "float"
        },
        {
         "name": "Empates",
         "rawType": "float64",
         "type": "float"
        },
        {
         "name": "P. J.",
         "rawType": "float64",
         "type": "float"
        },
        {
         "name": "Victorias",
         "rawType": "float64",
         "type": "float"
        }
       ],
       "ref": "dca32f21-3755-4fae-93fc-088740b0daaf",
       "rows": [
        [
         "2019-A",
         "15.32",
         "8.72",
         "39.36",
         "15.32"
        ],
        [
         "2019-B",
         "14.946666666666667",
         "8.48",
         "38.373333333333335",
         "14.946666666666667"
        ],
        [
         "2020-A",
         "14.560975609756097",
         "7.926829268292683",
         "37.048780487804876",
         "14.560975609756097"
        ],
        [
         "2020-B",
         "14.7375",
         "8.575",
         "38.05",
         "14.7375"
        ],
        [
         "2021-A",
         "15.688311688311689",
         "7.012987012987013",
         "38.38961038961039",
         "15.688311688311689"
        ],
        [
         "2021-B",
         "14.8",
         "7.9714285714285715",
         "37.57142857142857",
         "14.8"
        ],
        [
         "2022-A",
         "14.93939393939394",
         "7.121212121212121",
         "37.0",
         "14.93939393939394"
        ]
       ],
       "shape": {
        "columns": 4,
        "rows": 7
       }
      },
      "text/html": [
       "<div>\n",
       "<style scoped>\n",
       "    .dataframe tbody tr th:only-of-type {\n",
       "        vertical-align: middle;\n",
       "    }\n",
       "\n",
       "    .dataframe tbody tr th {\n",
       "        vertical-align: top;\n",
       "    }\n",
       "\n",
       "    .dataframe thead th {\n",
       "        text-align: right;\n",
       "    }\n",
       "</style>\n",
       "<table border=\"1\" class=\"dataframe\">\n",
       "  <thead>\n",
       "    <tr style=\"text-align: right;\">\n",
       "      <th></th>\n",
       "      <th>Derrotas</th>\n",
       "      <th>Empates</th>\n",
       "      <th>P. J.</th>\n",
       "      <th>Victorias</th>\n",
       "    </tr>\n",
       "    <tr>\n",
       "      <th>Salon</th>\n",
       "      <th></th>\n",
       "      <th></th>\n",
       "      <th></th>\n",
       "      <th></th>\n",
       "    </tr>\n",
       "  </thead>\n",
       "  <tbody>\n",
       "    <tr>\n",
       "      <th>2019-A</th>\n",
       "      <td>15.320000</td>\n",
       "      <td>8.720000</td>\n",
       "      <td>39.360000</td>\n",
       "      <td>15.320000</td>\n",
       "    </tr>\n",
       "    <tr>\n",
       "      <th>2019-B</th>\n",
       "      <td>14.946667</td>\n",
       "      <td>8.480000</td>\n",
       "      <td>38.373333</td>\n",
       "      <td>14.946667</td>\n",
       "    </tr>\n",
       "    <tr>\n",
       "      <th>2020-A</th>\n",
       "      <td>14.560976</td>\n",
       "      <td>7.926829</td>\n",
       "      <td>37.048780</td>\n",
       "      <td>14.560976</td>\n",
       "    </tr>\n",
       "    <tr>\n",
       "      <th>2020-B</th>\n",
       "      <td>14.737500</td>\n",
       "      <td>8.575000</td>\n",
       "      <td>38.050000</td>\n",
       "      <td>14.737500</td>\n",
       "    </tr>\n",
       "    <tr>\n",
       "      <th>2021-A</th>\n",
       "      <td>15.688312</td>\n",
       "      <td>7.012987</td>\n",
       "      <td>38.389610</td>\n",
       "      <td>15.688312</td>\n",
       "    </tr>\n",
       "    <tr>\n",
       "      <th>2021-B</th>\n",
       "      <td>14.800000</td>\n",
       "      <td>7.971429</td>\n",
       "      <td>37.571429</td>\n",
       "      <td>14.800000</td>\n",
       "    </tr>\n",
       "    <tr>\n",
       "      <th>2022-A</th>\n",
       "      <td>14.939394</td>\n",
       "      <td>7.121212</td>\n",
       "      <td>37.000000</td>\n",
       "      <td>14.939394</td>\n",
       "    </tr>\n",
       "  </tbody>\n",
       "</table>\n",
       "</div>"
      ],
      "text/plain": [
       "         Derrotas   Empates      P. J.  Victorias\n",
       "Salon                                            \n",
       "2019-A  15.320000  8.720000  39.360000  15.320000\n",
       "2019-B  14.946667  8.480000  38.373333  14.946667\n",
       "2020-A  14.560976  7.926829  37.048780  14.560976\n",
       "2020-B  14.737500  8.575000  38.050000  14.737500\n",
       "2021-A  15.688312  7.012987  38.389610  15.688312\n",
       "2021-B  14.800000  7.971429  37.571429  14.800000\n",
       "2022-A  14.939394  7.121212  37.000000  14.939394"
      ]
     },
     "execution_count": 28,
     "metadata": {},
     "output_type": "execute_result"
    }
   ],
   "source": [
    "pd.pivot_table(Ajedrez.select_dtypes(include=\"number\"),index=Ajedrez[\"Salon\"],aggfunc=\"mean\")"
   ]
  },
  {
   "cell_type": "code",
   "execution_count": null,
   "id": "7a2b218c-0439-45fc-8e78-146830771cc0",
   "metadata": {},
   "outputs": [],
   "source": []
  },
  {
   "cell_type": "markdown",
   "id": "aa71a2bf-532e-41e8-bb34-c0b1332508f3",
   "metadata": {},
   "source": [
    "__Ejercicio 20:__"
   ]
  },
  {
   "cell_type": "markdown",
   "id": "3f9e0c1b-d136-4218-898a-07fbe8464fb0",
   "metadata": {},
   "source": [
    "Utilizar pivot_table para obtener el valor minimo y maximo en todas las columnas de cada salon"
   ]
  },
  {
   "cell_type": "code",
   "execution_count": 29,
   "id": "b1975318-dbab-4df0-967e-9d36576de478",
   "metadata": {},
   "outputs": [
    {
     "data": {
      "application/vnd.microsoft.datawrangler.viewer.v0+json": {
       "columns": [
        {
         "name": "Salon",
         "rawType": "object",
         "type": "string"
        },
        {
         "name": "('min', 'Derrotas')",
         "rawType": "int64",
         "type": "integer"
        },
        {
         "name": "('min', 'Empates')",
         "rawType": "int64",
         "type": "integer"
        },
        {
         "name": "('min', 'P. J.')",
         "rawType": "int64",
         "type": "integer"
        },
        {
         "name": "('min', 'Victorias')",
         "rawType": "int64",
         "type": "integer"
        },
        {
         "name": "('max', 'Derrotas')",
         "rawType": "int64",
         "type": "integer"
        },
        {
         "name": "('max', 'Empates')",
         "rawType": "int64",
         "type": "integer"
        },
        {
         "name": "('max', 'P. J.')",
         "rawType": "int64",
         "type": "integer"
        },
        {
         "name": "('max', 'Victorias')",
         "rawType": "int64",
         "type": "integer"
        }
       ],
       "ref": "ecfdc8e4-dde1-46d6-af6f-38b9c514fbb3",
       "rows": [
        [
         "2019-A",
         "0",
         "0",
         "25",
         "0",
         "42",
         "29",
         "50",
         "25"
        ],
        [
         "2019-B",
         "0",
         "1",
         "25",
         "0",
         "41",
         "27",
         "50",
         "24"
        ],
        [
         "2020-A",
         "0",
         "0",
         "25",
         "0",
         "37",
         "25",
         "49",
         "26"
        ],
        [
         "2020-B",
         "1",
         "1",
         "25",
         "0",
         "34",
         "29",
         "50",
         "25"
        ],
        [
         "2021-A",
         "1",
         "0",
         "25",
         "0",
         "35",
         "35",
         "49",
         "30"
        ],
        [
         "2021-B",
         "0",
         "1",
         "18",
         "0",
         "39",
         "24",
         "50",
         "25"
        ],
        [
         "2022-A",
         "0",
         "1",
         "25",
         "1",
         "37",
         "19",
         "50",
         "25"
        ]
       ],
       "shape": {
        "columns": 8,
        "rows": 7
       }
      },
      "text/html": [
       "<div>\n",
       "<style scoped>\n",
       "    .dataframe tbody tr th:only-of-type {\n",
       "        vertical-align: middle;\n",
       "    }\n",
       "\n",
       "    .dataframe tbody tr th {\n",
       "        vertical-align: top;\n",
       "    }\n",
       "\n",
       "    .dataframe thead tr th {\n",
       "        text-align: left;\n",
       "    }\n",
       "\n",
       "    .dataframe thead tr:last-of-type th {\n",
       "        text-align: right;\n",
       "    }\n",
       "</style>\n",
       "<table border=\"1\" class=\"dataframe\">\n",
       "  <thead>\n",
       "    <tr>\n",
       "      <th></th>\n",
       "      <th colspan=\"4\" halign=\"left\">min</th>\n",
       "      <th colspan=\"4\" halign=\"left\">max</th>\n",
       "    </tr>\n",
       "    <tr>\n",
       "      <th></th>\n",
       "      <th>Derrotas</th>\n",
       "      <th>Empates</th>\n",
       "      <th>P. J.</th>\n",
       "      <th>Victorias</th>\n",
       "      <th>Derrotas</th>\n",
       "      <th>Empates</th>\n",
       "      <th>P. J.</th>\n",
       "      <th>Victorias</th>\n",
       "    </tr>\n",
       "    <tr>\n",
       "      <th>Salon</th>\n",
       "      <th></th>\n",
       "      <th></th>\n",
       "      <th></th>\n",
       "      <th></th>\n",
       "      <th></th>\n",
       "      <th></th>\n",
       "      <th></th>\n",
       "      <th></th>\n",
       "    </tr>\n",
       "  </thead>\n",
       "  <tbody>\n",
       "    <tr>\n",
       "      <th>2019-A</th>\n",
       "      <td>0</td>\n",
       "      <td>0</td>\n",
       "      <td>25</td>\n",
       "      <td>0</td>\n",
       "      <td>42</td>\n",
       "      <td>29</td>\n",
       "      <td>50</td>\n",
       "      <td>25</td>\n",
       "    </tr>\n",
       "    <tr>\n",
       "      <th>2019-B</th>\n",
       "      <td>0</td>\n",
       "      <td>1</td>\n",
       "      <td>25</td>\n",
       "      <td>0</td>\n",
       "      <td>41</td>\n",
       "      <td>27</td>\n",
       "      <td>50</td>\n",
       "      <td>24</td>\n",
       "    </tr>\n",
       "    <tr>\n",
       "      <th>2020-A</th>\n",
       "      <td>0</td>\n",
       "      <td>0</td>\n",
       "      <td>25</td>\n",
       "      <td>0</td>\n",
       "      <td>37</td>\n",
       "      <td>25</td>\n",
       "      <td>49</td>\n",
       "      <td>26</td>\n",
       "    </tr>\n",
       "    <tr>\n",
       "      <th>2020-B</th>\n",
       "      <td>1</td>\n",
       "      <td>1</td>\n",
       "      <td>25</td>\n",
       "      <td>0</td>\n",
       "      <td>34</td>\n",
       "      <td>29</td>\n",
       "      <td>50</td>\n",
       "      <td>25</td>\n",
       "    </tr>\n",
       "    <tr>\n",
       "      <th>2021-A</th>\n",
       "      <td>1</td>\n",
       "      <td>0</td>\n",
       "      <td>25</td>\n",
       "      <td>0</td>\n",
       "      <td>35</td>\n",
       "      <td>35</td>\n",
       "      <td>49</td>\n",
       "      <td>30</td>\n",
       "    </tr>\n",
       "    <tr>\n",
       "      <th>2021-B</th>\n",
       "      <td>0</td>\n",
       "      <td>1</td>\n",
       "      <td>18</td>\n",
       "      <td>0</td>\n",
       "      <td>39</td>\n",
       "      <td>24</td>\n",
       "      <td>50</td>\n",
       "      <td>25</td>\n",
       "    </tr>\n",
       "    <tr>\n",
       "      <th>2022-A</th>\n",
       "      <td>0</td>\n",
       "      <td>1</td>\n",
       "      <td>25</td>\n",
       "      <td>1</td>\n",
       "      <td>37</td>\n",
       "      <td>19</td>\n",
       "      <td>50</td>\n",
       "      <td>25</td>\n",
       "    </tr>\n",
       "  </tbody>\n",
       "</table>\n",
       "</div>"
      ],
      "text/plain": [
       "            min                              max                        \n",
       "       Derrotas Empates P. J. Victorias Derrotas Empates P. J. Victorias\n",
       "Salon                                                                   \n",
       "2019-A        0       0    25         0       42      29    50        25\n",
       "2019-B        0       1    25         0       41      27    50        24\n",
       "2020-A        0       0    25         0       37      25    49        26\n",
       "2020-B        1       1    25         0       34      29    50        25\n",
       "2021-A        1       0    25         0       35      35    49        30\n",
       "2021-B        0       1    18         0       39      24    50        25\n",
       "2022-A        0       1    25         1       37      19    50        25"
      ]
     },
     "execution_count": 29,
     "metadata": {},
     "output_type": "execute_result"
    }
   ],
   "source": [
    "pd.pivot_table(Ajedrez.select_dtypes(include=\"number\"),index=Ajedrez[\"Salon\"],aggfunc=[\"min\",\"max\"])"
   ]
  },
  {
   "cell_type": "markdown",
   "id": "7d612f27-8faa-4fae-9034-68f9472260f1",
   "metadata": {},
   "source": [
    "__Ejercicio 21:__"
   ]
  },
  {
   "cell_type": "markdown",
   "id": "22039304-3476-490c-bd93-fb6c8a8dedc9",
   "metadata": {},
   "source": [
    "Utilizar pivot_table para obtener el valor minimo y maximo de derrotas,victorias y empates en cada salon"
   ]
  },
  {
   "cell_type": "code",
   "execution_count": 30,
   "id": "efd9c407-cbf0-4917-a78c-912f821d72fb",
   "metadata": {},
   "outputs": [
    {
     "data": {
      "application/vnd.microsoft.datawrangler.viewer.v0+json": {
       "columns": [
        {
         "name": "Salon",
         "rawType": "object",
         "type": "string"
        },
        {
         "name": "('max', 'Derrotas')",
         "rawType": "int64",
         "type": "integer"
        },
        {
         "name": "('max', 'Empates')",
         "rawType": "int64",
         "type": "integer"
        },
        {
         "name": "('max', 'Victorias')",
         "rawType": "int64",
         "type": "integer"
        },
        {
         "name": "('min', 'Derrotas')",
         "rawType": "int64",
         "type": "integer"
        },
        {
         "name": "('min', 'Empates')",
         "rawType": "int64",
         "type": "integer"
        },
        {
         "name": "('min', 'Victorias')",
         "rawType": "int64",
         "type": "integer"
        }
       ],
       "ref": "5a94bc41-74fe-406e-84af-409dbec48bda",
       "rows": [
        [
         "2019-A",
         "42",
         "29",
         "25",
         "0",
         "0",
         "0"
        ],
        [
         "2019-B",
         "41",
         "27",
         "24",
         "0",
         "1",
         "0"
        ],
        [
         "2020-A",
         "37",
         "25",
         "26",
         "0",
         "0",
         "0"
        ],
        [
         "2020-B",
         "34",
         "29",
         "25",
         "1",
         "1",
         "0"
        ],
        [
         "2021-A",
         "35",
         "35",
         "30",
         "1",
         "0",
         "0"
        ],
        [
         "2021-B",
         "39",
         "24",
         "25",
         "0",
         "1",
         "0"
        ],
        [
         "2022-A",
         "37",
         "19",
         "25",
         "0",
         "1",
         "1"
        ]
       ],
       "shape": {
        "columns": 6,
        "rows": 7
       }
      },
      "text/html": [
       "<div>\n",
       "<style scoped>\n",
       "    .dataframe tbody tr th:only-of-type {\n",
       "        vertical-align: middle;\n",
       "    }\n",
       "\n",
       "    .dataframe tbody tr th {\n",
       "        vertical-align: top;\n",
       "    }\n",
       "\n",
       "    .dataframe thead tr th {\n",
       "        text-align: left;\n",
       "    }\n",
       "\n",
       "    .dataframe thead tr:last-of-type th {\n",
       "        text-align: right;\n",
       "    }\n",
       "</style>\n",
       "<table border=\"1\" class=\"dataframe\">\n",
       "  <thead>\n",
       "    <tr>\n",
       "      <th></th>\n",
       "      <th colspan=\"3\" halign=\"left\">max</th>\n",
       "      <th colspan=\"3\" halign=\"left\">min</th>\n",
       "    </tr>\n",
       "    <tr>\n",
       "      <th></th>\n",
       "      <th>Derrotas</th>\n",
       "      <th>Empates</th>\n",
       "      <th>Victorias</th>\n",
       "      <th>Derrotas</th>\n",
       "      <th>Empates</th>\n",
       "      <th>Victorias</th>\n",
       "    </tr>\n",
       "    <tr>\n",
       "      <th>Salon</th>\n",
       "      <th></th>\n",
       "      <th></th>\n",
       "      <th></th>\n",
       "      <th></th>\n",
       "      <th></th>\n",
       "      <th></th>\n",
       "    </tr>\n",
       "  </thead>\n",
       "  <tbody>\n",
       "    <tr>\n",
       "      <th>2019-A</th>\n",
       "      <td>42</td>\n",
       "      <td>29</td>\n",
       "      <td>25</td>\n",
       "      <td>0</td>\n",
       "      <td>0</td>\n",
       "      <td>0</td>\n",
       "    </tr>\n",
       "    <tr>\n",
       "      <th>2019-B</th>\n",
       "      <td>41</td>\n",
       "      <td>27</td>\n",
       "      <td>24</td>\n",
       "      <td>0</td>\n",
       "      <td>1</td>\n",
       "      <td>0</td>\n",
       "    </tr>\n",
       "    <tr>\n",
       "      <th>2020-A</th>\n",
       "      <td>37</td>\n",
       "      <td>25</td>\n",
       "      <td>26</td>\n",
       "      <td>0</td>\n",
       "      <td>0</td>\n",
       "      <td>0</td>\n",
       "    </tr>\n",
       "    <tr>\n",
       "      <th>2020-B</th>\n",
       "      <td>34</td>\n",
       "      <td>29</td>\n",
       "      <td>25</td>\n",
       "      <td>1</td>\n",
       "      <td>1</td>\n",
       "      <td>0</td>\n",
       "    </tr>\n",
       "    <tr>\n",
       "      <th>2021-A</th>\n",
       "      <td>35</td>\n",
       "      <td>35</td>\n",
       "      <td>30</td>\n",
       "      <td>1</td>\n",
       "      <td>0</td>\n",
       "      <td>0</td>\n",
       "    </tr>\n",
       "    <tr>\n",
       "      <th>2021-B</th>\n",
       "      <td>39</td>\n",
       "      <td>24</td>\n",
       "      <td>25</td>\n",
       "      <td>0</td>\n",
       "      <td>1</td>\n",
       "      <td>0</td>\n",
       "    </tr>\n",
       "    <tr>\n",
       "      <th>2022-A</th>\n",
       "      <td>37</td>\n",
       "      <td>19</td>\n",
       "      <td>25</td>\n",
       "      <td>0</td>\n",
       "      <td>1</td>\n",
       "      <td>1</td>\n",
       "    </tr>\n",
       "  </tbody>\n",
       "</table>\n",
       "</div>"
      ],
      "text/plain": [
       "            max                        min                  \n",
       "       Derrotas Empates Victorias Derrotas Empates Victorias\n",
       "Salon                                                       \n",
       "2019-A       42      29        25        0       0         0\n",
       "2019-B       41      27        24        0       1         0\n",
       "2020-A       37      25        26        0       0         0\n",
       "2020-B       34      29        25        1       1         0\n",
       "2021-A       35      35        30        1       0         0\n",
       "2021-B       39      24        25        0       1         0\n",
       "2022-A       37      19        25        0       1         1"
      ]
     },
     "execution_count": 30,
     "metadata": {},
     "output_type": "execute_result"
    }
   ],
   "source": [
    "pd.pivot_table(Ajedrez,index=Ajedrez[\"Salon\"],aggfunc=[\"max\",\"min\"],values=[\"Derrotas\",\"Victorias\",\"Empates\"])"
   ]
  },
  {
   "cell_type": "markdown",
   "id": "0b8ee85e-8d2d-48fd-8e65-0d30ff7ce530",
   "metadata": {},
   "source": [
    "__Ejercicio 22:__"
   ]
  },
  {
   "cell_type": "markdown",
   "id": "f455ba99-df76-4c1e-83c2-a5fa19114951",
   "metadata": {},
   "source": [
    "Utilizar pivot_table para obtener el valor maximo de derrotas,victorias y empates en cada salon separado por categorias"
   ]
  },
  {
   "cell_type": "code",
   "execution_count": 32,
   "id": "3f0c6141-9ba3-407e-a328-15df99b4b466",
   "metadata": {},
   "outputs": [
    {
     "data": {
      "application/vnd.microsoft.datawrangler.viewer.v0+json": {
       "columns": [
        {
         "name": "Salon",
         "rawType": "object",
         "type": "string"
        },
        {
         "name": "('Derrotas', 'Avanzado')",
         "rawType": "int64",
         "type": "integer"
        },
        {
         "name": "('Derrotas', 'Intermedio')",
         "rawType": "int64",
         "type": "integer"
        },
        {
         "name": "('Derrotas', 'Principiante')",
         "rawType": "int64",
         "type": "integer"
        },
        {
         "name": "('Empates', 'Avanzado')",
         "rawType": "int64",
         "type": "integer"
        },
        {
         "name": "('Empates', 'Intermedio')",
         "rawType": "int64",
         "type": "integer"
        },
        {
         "name": "('Empates', 'Principiante')",
         "rawType": "int64",
         "type": "integer"
        },
        {
         "name": "('Victorias', 'Avanzado')",
         "rawType": "int64",
         "type": "integer"
        },
        {
         "name": "('Victorias', 'Intermedio')",
         "rawType": "int64",
         "type": "integer"
        },
        {
         "name": "('Victorias', 'Principiante')",
         "rawType": "int64",
         "type": "integer"
        }
       ],
       "ref": "ac612063-e0ac-4436-bbee-f836542864f9",
       "rows": [
        [
         "2019-A",
         "34",
         "39",
         "42",
         "21",
         "29",
         "28",
         "25",
         "24",
         "23"
        ],
        [
         "2019-B",
         "31",
         "41",
         "39",
         "27",
         "26",
         "25",
         "23",
         "24",
         "23"
        ],
        [
         "2020-A",
         "37",
         "30",
         "36",
         "16",
         "24",
         "25",
         "25",
         "26",
         "25"
        ],
        [
         "2020-B",
         "33",
         "34",
         "33",
         "22",
         "27",
         "29",
         "25",
         "25",
         "23"
        ],
        [
         "2021-A",
         "35",
         "35",
         "30",
         "17",
         "20",
         "35",
         "30",
         "30",
         "27"
        ],
        [
         "2021-B",
         "39",
         "31",
         "26",
         "21",
         "17",
         "24",
         "25",
         "25",
         "25"
        ],
        [
         "2022-A",
         "28",
         "37",
         "36",
         "16",
         "17",
         "19",
         "25",
         "25",
         "24"
        ]
       ],
       "shape": {
        "columns": 9,
        "rows": 7
       }
      },
      "text/html": [
       "<div>\n",
       "<style scoped>\n",
       "    .dataframe tbody tr th:only-of-type {\n",
       "        vertical-align: middle;\n",
       "    }\n",
       "\n",
       "    .dataframe tbody tr th {\n",
       "        vertical-align: top;\n",
       "    }\n",
       "\n",
       "    .dataframe thead tr th {\n",
       "        text-align: left;\n",
       "    }\n",
       "\n",
       "    .dataframe thead tr:last-of-type th {\n",
       "        text-align: right;\n",
       "    }\n",
       "</style>\n",
       "<table border=\"1\" class=\"dataframe\">\n",
       "  <thead>\n",
       "    <tr>\n",
       "      <th></th>\n",
       "      <th colspan=\"3\" halign=\"left\">Derrotas</th>\n",
       "      <th colspan=\"3\" halign=\"left\">Empates</th>\n",
       "      <th colspan=\"3\" halign=\"left\">Victorias</th>\n",
       "    </tr>\n",
       "    <tr>\n",
       "      <th>Categoria</th>\n",
       "      <th>Avanzado</th>\n",
       "      <th>Intermedio</th>\n",
       "      <th>Principiante</th>\n",
       "      <th>Avanzado</th>\n",
       "      <th>Intermedio</th>\n",
       "      <th>Principiante</th>\n",
       "      <th>Avanzado</th>\n",
       "      <th>Intermedio</th>\n",
       "      <th>Principiante</th>\n",
       "    </tr>\n",
       "    <tr>\n",
       "      <th>Salon</th>\n",
       "      <th></th>\n",
       "      <th></th>\n",
       "      <th></th>\n",
       "      <th></th>\n",
       "      <th></th>\n",
       "      <th></th>\n",
       "      <th></th>\n",
       "      <th></th>\n",
       "      <th></th>\n",
       "    </tr>\n",
       "  </thead>\n",
       "  <tbody>\n",
       "    <tr>\n",
       "      <th>2019-A</th>\n",
       "      <td>34</td>\n",
       "      <td>39</td>\n",
       "      <td>42</td>\n",
       "      <td>21</td>\n",
       "      <td>29</td>\n",
       "      <td>28</td>\n",
       "      <td>25</td>\n",
       "      <td>24</td>\n",
       "      <td>23</td>\n",
       "    </tr>\n",
       "    <tr>\n",
       "      <th>2019-B</th>\n",
       "      <td>31</td>\n",
       "      <td>41</td>\n",
       "      <td>39</td>\n",
       "      <td>27</td>\n",
       "      <td>26</td>\n",
       "      <td>25</td>\n",
       "      <td>23</td>\n",
       "      <td>24</td>\n",
       "      <td>23</td>\n",
       "    </tr>\n",
       "    <tr>\n",
       "      <th>2020-A</th>\n",
       "      <td>37</td>\n",
       "      <td>30</td>\n",
       "      <td>36</td>\n",
       "      <td>16</td>\n",
       "      <td>24</td>\n",
       "      <td>25</td>\n",
       "      <td>25</td>\n",
       "      <td>26</td>\n",
       "      <td>25</td>\n",
       "    </tr>\n",
       "    <tr>\n",
       "      <th>2020-B</th>\n",
       "      <td>33</td>\n",
       "      <td>34</td>\n",
       "      <td>33</td>\n",
       "      <td>22</td>\n",
       "      <td>27</td>\n",
       "      <td>29</td>\n",
       "      <td>25</td>\n",
       "      <td>25</td>\n",
       "      <td>23</td>\n",
       "    </tr>\n",
       "    <tr>\n",
       "      <th>2021-A</th>\n",
       "      <td>35</td>\n",
       "      <td>35</td>\n",
       "      <td>30</td>\n",
       "      <td>17</td>\n",
       "      <td>20</td>\n",
       "      <td>35</td>\n",
       "      <td>30</td>\n",
       "      <td>30</td>\n",
       "      <td>27</td>\n",
       "    </tr>\n",
       "    <tr>\n",
       "      <th>2021-B</th>\n",
       "      <td>39</td>\n",
       "      <td>31</td>\n",
       "      <td>26</td>\n",
       "      <td>21</td>\n",
       "      <td>17</td>\n",
       "      <td>24</td>\n",
       "      <td>25</td>\n",
       "      <td>25</td>\n",
       "      <td>25</td>\n",
       "    </tr>\n",
       "    <tr>\n",
       "      <th>2022-A</th>\n",
       "      <td>28</td>\n",
       "      <td>37</td>\n",
       "      <td>36</td>\n",
       "      <td>16</td>\n",
       "      <td>17</td>\n",
       "      <td>19</td>\n",
       "      <td>25</td>\n",
       "      <td>25</td>\n",
       "      <td>24</td>\n",
       "    </tr>\n",
       "  </tbody>\n",
       "</table>\n",
       "</div>"
      ],
      "text/plain": [
       "          Derrotas                          Empates                          \\\n",
       "Categoria Avanzado Intermedio Principiante Avanzado Intermedio Principiante   \n",
       "Salon                                                                         \n",
       "2019-A          34         39           42       21         29           28   \n",
       "2019-B          31         41           39       27         26           25   \n",
       "2020-A          37         30           36       16         24           25   \n",
       "2020-B          33         34           33       22         27           29   \n",
       "2021-A          35         35           30       17         20           35   \n",
       "2021-B          39         31           26       21         17           24   \n",
       "2022-A          28         37           36       16         17           19   \n",
       "\n",
       "          Victorias                          \n",
       "Categoria  Avanzado Intermedio Principiante  \n",
       "Salon                                        \n",
       "2019-A           25         24           23  \n",
       "2019-B           23         24           23  \n",
       "2020-A           25         26           25  \n",
       "2020-B           25         25           23  \n",
       "2021-A           30         30           27  \n",
       "2021-B           25         25           25  \n",
       "2022-A           25         25           24  "
      ]
     },
     "execution_count": 32,
     "metadata": {},
     "output_type": "execute_result"
    }
   ],
   "source": [
    "pd.pivot_table(Ajedrez,index=Ajedrez[\"Salon\"],aggfunc=\"max\",values=[\"Derrotas\",\"Victorias\",\"Empates\"],columns=\"Categoria\")"
   ]
  },
  {
   "cell_type": "markdown",
   "id": "4fa7b089-5ae8-46ef-b4ca-0547ad10ffd6",
   "metadata": {},
   "source": [
    "__Ejercicio 23:__"
   ]
  },
  {
   "cell_type": "markdown",
   "id": "ed8653e0-0c25-451b-9320-b447283900e8",
   "metadata": {},
   "source": [
    "Utilizar el DataFrame anterior para obtener el valor maximo de derrotas en cada salon en la categoría \"Intermedio\""
   ]
  },
  {
   "cell_type": "code",
   "execution_count": 33,
   "id": "eb2debc9-d090-4a80-a63f-9c7e33484703",
   "metadata": {},
   "outputs": [],
   "source": [
    "output = pd.pivot_table(Ajedrez,index=Ajedrez[\"Salon\"],aggfunc=\"max\",values=[\"Derrotas\",\"Victorias\",\"Empates\"],columns=\"Categoria\")"
   ]
  },
  {
   "cell_type": "code",
   "execution_count": 35,
   "id": "69781bf0-1e77-460b-8300-3c15f89b4f14",
   "metadata": {},
   "outputs": [
    {
     "data": {
      "application/vnd.microsoft.datawrangler.viewer.v0+json": {
       "columns": [
        {
         "name": "Salon",
         "rawType": "object",
         "type": "string"
        },
        {
         "name": "('Derrotas', 'Intermedio')",
         "rawType": "int64",
         "type": "integer"
        }
       ],
       "ref": "4cee990d-2358-482e-8730-1662b9257adb",
       "rows": [
        [
         "2019-A",
         "39"
        ],
        [
         "2019-B",
         "41"
        ],
        [
         "2020-A",
         "30"
        ],
        [
         "2020-B",
         "34"
        ],
        [
         "2021-A",
         "35"
        ],
        [
         "2021-B",
         "31"
        ],
        [
         "2022-A",
         "37"
        ]
       ],
       "shape": {
        "columns": 1,
        "rows": 7
       }
      },
      "text/plain": [
       "Salon\n",
       "2019-A    39\n",
       "2019-B    41\n",
       "2020-A    30\n",
       "2020-B    34\n",
       "2021-A    35\n",
       "2021-B    31\n",
       "2022-A    37\n",
       "Name: (Derrotas, Intermedio), dtype: int64"
      ]
     },
     "execution_count": 35,
     "metadata": {},
     "output_type": "execute_result"
    }
   ],
   "source": [
    "output.loc[:,(\"Derrotas\",\"Intermedio\")]"
   ]
  },
  {
   "cell_type": "code",
   "execution_count": 36,
   "id": "ec7a8a9e-cade-464e-8491-e3b9b85304f7",
   "metadata": {},
   "outputs": [
    {
     "data": {
      "application/vnd.microsoft.datawrangler.viewer.v0+json": {
       "columns": [
        {
         "name": "Salon",
         "rawType": "object",
         "type": "string"
        },
        {
         "name": "('Derrotas', 'Intermedio')",
         "rawType": "int64",
         "type": "integer"
        }
       ],
       "ref": "df602de5-2c0b-4b25-b963-25d6a6066dc0",
       "rows": [
        [
         "2019-A",
         "39"
        ],
        [
         "2019-B",
         "41"
        ],
        [
         "2020-A",
         "30"
        ],
        [
         "2020-B",
         "34"
        ],
        [
         "2021-A",
         "35"
        ],
        [
         "2021-B",
         "31"
        ],
        [
         "2022-A",
         "37"
        ]
       ],
       "shape": {
        "columns": 1,
        "rows": 7
       }
      },
      "text/plain": [
       "Salon\n",
       "2019-A    39\n",
       "2019-B    41\n",
       "2020-A    30\n",
       "2020-B    34\n",
       "2021-A    35\n",
       "2021-B    31\n",
       "2022-A    37\n",
       "Name: (Derrotas, Intermedio), dtype: int64"
      ]
     },
     "execution_count": 36,
     "metadata": {},
     "output_type": "execute_result"
    }
   ],
   "source": [
    "output.iloc[:,1]"
   ]
  },
  {
   "cell_type": "code",
   "execution_count": null,
   "id": "822acffc-acb1-4759-8356-ef00f8251351",
   "metadata": {},
   "outputs": [],
   "source": []
  },
  {
   "cell_type": "code",
   "execution_count": null,
   "id": "f86634c0-10a8-4b15-b08d-4d108793d403",
   "metadata": {},
   "outputs": [],
   "source": []
  }
 ],
 "metadata": {
  "kernelspec": {
   "display_name": "Python 3",
   "language": "python",
   "name": "python3"
  },
  "language_info": {
   "codemirror_mode": {
    "name": "ipython",
    "version": 3
   },
   "file_extension": ".py",
   "mimetype": "text/x-python",
   "name": "python",
   "nbconvert_exporter": "python",
   "pygments_lexer": "ipython3",
   "version": "3.10.12"
  }
 },
 "nbformat": 4,
 "nbformat_minor": 5
}
