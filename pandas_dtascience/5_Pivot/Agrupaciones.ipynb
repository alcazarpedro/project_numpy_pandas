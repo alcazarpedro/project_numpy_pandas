{
 "cells": [
  {
   "cell_type": "markdown",
   "id": "c84b8241-213f-4f30-a230-093fbd00fa08",
   "metadata": {},
   "source": [
    "# Group By"
   ]
  },
  {
   "cell_type": "code",
   "execution_count": 1,
   "id": "d7a4cbc9-88a1-4088-a2bc-c8c0b0335128",
   "metadata": {},
   "outputs": [],
   "source": [
    "import pandas as pd"
   ]
  },
  {
   "cell_type": "markdown",
   "id": "03e8ca6f-2156-4217-85e0-15966baa92ec",
   "metadata": {},
   "source": [
    "__Ejercicio 1:__"
   ]
  },
  {
   "cell_type": "markdown",
   "id": "c5746500-f18d-4ba3-9dfb-cb18c6632162",
   "metadata": {},
   "source": [
    "Importar el archivo \"Ajedrez.xlsx\" en la variable Ajedrez"
   ]
  },
  {
   "cell_type": "code",
   "execution_count": 3,
   "id": "24e27df2-cd76-4ba5-a9f5-fbffe42e52c6",
   "metadata": {},
   "outputs": [
    {
     "data": {
      "application/vnd.microsoft.datawrangler.viewer.v0+json": {
       "columns": [
        {
         "name": "Id",
         "rawType": "int64",
         "type": "integer"
        },
        {
         "name": "Nombre",
         "rawType": "object",
         "type": "string"
        },
        {
         "name": "Categoria",
         "rawType": "object",
         "type": "string"
        },
        {
         "name": "Salon",
         "rawType": "object",
         "type": "string"
        },
        {
         "name": "P. J.",
         "rawType": "int64",
         "type": "integer"
        },
        {
         "name": "Victorias",
         "rawType": "int64",
         "type": "integer"
        },
        {
         "name": "Empates",
         "rawType": "int64",
         "type": "integer"
        },
        {
         "name": "Derrotas",
         "rawType": "int64",
         "type": "integer"
        }
       ],
       "ref": "399c5eac-3b72-4f40-aa07-3e5db80a509e",
       "rows": [
        [
         "1000",
         "Edison Marin",
         "Avanzado",
         "2021-B",
         "37",
         "8",
         "7",
         "22"
        ],
        [
         "1001",
         "Elena Soberon",
         "Intermedio",
         "2021-B",
         "30",
         "9",
         "11",
         "10"
        ],
        [
         "1002",
         "Yolanda Berlanga",
         "Avanzado",
         "2020-B",
         "32",
         "22",
         "6",
         "4"
        ],
        [
         "1003",
         "Yire Cuenca",
         "Principiante",
         "2020-B",
         "37",
         "7",
         "9",
         "21"
        ],
        [
         "1004",
         "Cielo Leon",
         "Avanzado",
         "2020-B",
         "32",
         "6",
         "5",
         "21"
        ],
        [
         "1005",
         "Cielo Guak",
         "Principiante",
         "2019-B",
         "46",
         "20",
         "22",
         "4"
        ],
        [
         "1006",
         "Kimberly Verduzco",
         "Intermedio",
         "2021-B",
         "45",
         "22",
         "11",
         "12"
        ],
        [
         "1007",
         "Cielo Cuenca",
         "Principiante",
         "2019-B",
         "45",
         "0",
         "6",
         "39"
        ],
        [
         "1008",
         "Yire Alvarado",
         "Principiante",
         "2019-B",
         "40",
         "0",
         "2",
         "38"
        ],
        [
         "1009",
         "Olivia Alvarado",
         "Principiante",
         "2019-B",
         "40",
         "21",
         "7",
         "12"
        ],
        [
         "1010",
         "Brandon  Nathal",
         "Intermedio",
         "2019-B",
         "47",
         "18",
         "1",
         "28"
        ],
        [
         "1011",
         "Maira Sandoval",
         "Principiante",
         "2022-A",
         "49",
         "8",
         "5",
         "36"
        ],
        [
         "1012",
         "angel Hinojosa",
         "Principiante",
         "2022-A",
         "43",
         "7",
         "7",
         "29"
        ],
        [
         "1013",
         "Octavio Peñalosa",
         "Intermedio",
         "2020-B",
         "44",
         "25",
         "2",
         "17"
        ],
        [
         "1014",
         "Trevor Mejia",
         "Avanzado",
         "2020-B",
         "43",
         "22",
         "14",
         "7"
        ],
        [
         "1015",
         "Jamir Obrador",
         "Principiante",
         "2021-B",
         "29",
         "9",
         "10",
         "10"
        ],
        [
         "1016",
         "Julian Ondarza",
         "Principiante",
         "2022-A",
         "34",
         "8",
         "10",
         "16"
        ],
        [
         "1017",
         "Luz Cordova",
         "Avanzado",
         "2020-B",
         "43",
         "19",
         "15",
         "9"
        ],
        [
         "1018",
         "Valentina Barajas",
         "Intermedio",
         "2021-A",
         "29",
         "6",
         "11",
         "12"
        ],
        [
         "1019",
         "Guadalupe Diaz",
         "Intermedio",
         "2021-B",
         "44",
         "23",
         "8",
         "13"
        ],
        [
         "1020",
         "Yessica Infante",
         "Intermedio",
         "2020-A",
         "43",
         "7",
         "17",
         "19"
        ],
        [
         "1021",
         "Julian Vera",
         "Principiante",
         "2019-A",
         "33",
         "20",
         "13",
         "0"
        ],
        [
         "1022",
         "Julian Garcia",
         "Avanzado",
         "2019-A",
         "48",
         "23",
         "4",
         "21"
        ],
        [
         "1023",
         "Luz Santillas",
         "Principiante",
         "2020-B",
         "29",
         "8",
         "8",
         "13"
        ],
        [
         "1024",
         "Alonso Vera",
         "Principiante",
         "2019-B",
         "43",
         "16",
         "1",
         "26"
        ],
        [
         "1025",
         "Dionisio Arias",
         "Intermedio",
         "2021-A",
         "47",
         "18",
         "1",
         "28"
        ],
        [
         "1026",
         "Luis Ondarza",
         "Intermedio",
         "2020-A",
         "26",
         "20",
         "4",
         "2"
        ],
        [
         "1027",
         "Jorge Nathal",
         "Intermedio",
         "2021-A",
         "34",
         "4",
         "14",
         "16"
        ],
        [
         "1028",
         "Clara Velasco",
         "Principiante",
         "2021-A",
         "34",
         "21",
         "6",
         "7"
        ],
        [
         "1029",
         "Alastor Alva",
         "Avanzado",
         "2019-B",
         "37",
         "23",
         "14",
         "0"
        ],
        [
         "1030",
         "Jessica Valdovinos",
         "Principiante",
         "2021-A",
         "46",
         "8",
         "11",
         "27"
        ],
        [
         "1031",
         "Eddie Setien",
         "Intermedio",
         "2020-A",
         "46",
         "8",
         "24",
         "14"
        ],
        [
         "1032",
         "Carlos Pascual",
         "Intermedio",
         "2020-A",
         "30",
         "6",
         "6",
         "18"
        ],
        [
         "1033",
         "Miguel Vera",
         "Intermedio",
         "2020-A",
         "25",
         "8",
         "6",
         "11"
        ],
        [
         "1034",
         "Howard Del Rio",
         "Principiante",
         "2020-A",
         "30",
         "11",
         "7",
         "12"
        ],
        [
         "1035",
         "Alexis Ramirez",
         "Principiante",
         "2021-B",
         "46",
         "24",
         "17",
         "5"
        ],
        [
         "1036",
         "Brenda Rubio",
         "Intermedio",
         "2022-A",
         "43",
         "25",
         "2",
         "16"
        ],
        [
         "1037",
         "Claudio Feria",
         "Avanzado",
         "2020-A",
         "29",
         "23",
         "6",
         "0"
        ],
        [
         "1038",
         "Manuela Neri",
         "Principiante",
         "2022-A",
         "32",
         "2",
         "11",
         "19"
        ],
        [
         "1039",
         "Pablo Muñoz",
         "Intermedio",
         "2019-A",
         "26",
         "9",
         "8",
         "9"
        ],
        [
         "1040",
         "Federico Gallegos",
         "Principiante",
         "2022-A",
         "25",
         "9",
         "6",
         "10"
        ],
        [
         "1041",
         "Julian Sepulvedo",
         "Principiante",
         "2019-B",
         "46",
         "0",
         "13",
         "33"
        ],
        [
         "1042",
         "Fatima Cordero",
         "Avanzado",
         "2022-A",
         "34",
         "23",
         "4",
         "7"
        ],
        [
         "1043",
         "Victoria Llamas",
         "Principiante",
         "2021-B",
         "41",
         "23",
         "12",
         "6"
        ],
        [
         "1044",
         "Luz Funes",
         "Avanzado",
         "2021-B",
         "38",
         "25",
         "3",
         "10"
        ],
        [
         "1045",
         "Maximo Said",
         "Principiante",
         "2020-B",
         "39",
         "22",
         "10",
         "7"
        ],
        [
         "1046",
         "Deymar Barriete",
         "Intermedio",
         "2021-B",
         "33",
         "8",
         "10",
         "15"
        ],
        [
         "1047",
         "Lara Ibarra",
         "Intermedio",
         "2020-A",
         "48",
         "16",
         "2",
         "30"
        ],
        [
         "1048",
         "Alan Aranda",
         "Principiante",
         "2021-B",
         "44",
         "18",
         "4",
         "22"
        ],
        [
         "1049",
         "Darwin Teran",
         "Avanzado",
         "2020-A",
         "36",
         "3",
         "6",
         "27"
        ]
       ],
       "shape": {
        "columns": 7,
        "rows": 525
       }
      },
      "text/html": [
       "<div>\n",
       "<style scoped>\n",
       "    .dataframe tbody tr th:only-of-type {\n",
       "        vertical-align: middle;\n",
       "    }\n",
       "\n",
       "    .dataframe tbody tr th {\n",
       "        vertical-align: top;\n",
       "    }\n",
       "\n",
       "    .dataframe thead th {\n",
       "        text-align: right;\n",
       "    }\n",
       "</style>\n",
       "<table border=\"1\" class=\"dataframe\">\n",
       "  <thead>\n",
       "    <tr style=\"text-align: right;\">\n",
       "      <th></th>\n",
       "      <th>Nombre</th>\n",
       "      <th>Categoria</th>\n",
       "      <th>Salon</th>\n",
       "      <th>P. J.</th>\n",
       "      <th>Victorias</th>\n",
       "      <th>Empates</th>\n",
       "      <th>Derrotas</th>\n",
       "    </tr>\n",
       "    <tr>\n",
       "      <th>Id</th>\n",
       "      <th></th>\n",
       "      <th></th>\n",
       "      <th></th>\n",
       "      <th></th>\n",
       "      <th></th>\n",
       "      <th></th>\n",
       "      <th></th>\n",
       "    </tr>\n",
       "  </thead>\n",
       "  <tbody>\n",
       "    <tr>\n",
       "      <th>1000</th>\n",
       "      <td>Edison Marin</td>\n",
       "      <td>Avanzado</td>\n",
       "      <td>2021-B</td>\n",
       "      <td>37</td>\n",
       "      <td>8</td>\n",
       "      <td>7</td>\n",
       "      <td>22</td>\n",
       "    </tr>\n",
       "    <tr>\n",
       "      <th>1001</th>\n",
       "      <td>Elena Soberon</td>\n",
       "      <td>Intermedio</td>\n",
       "      <td>2021-B</td>\n",
       "      <td>30</td>\n",
       "      <td>9</td>\n",
       "      <td>11</td>\n",
       "      <td>10</td>\n",
       "    </tr>\n",
       "    <tr>\n",
       "      <th>1002</th>\n",
       "      <td>Yolanda Berlanga</td>\n",
       "      <td>Avanzado</td>\n",
       "      <td>2020-B</td>\n",
       "      <td>32</td>\n",
       "      <td>22</td>\n",
       "      <td>6</td>\n",
       "      <td>4</td>\n",
       "    </tr>\n",
       "    <tr>\n",
       "      <th>1003</th>\n",
       "      <td>Yire Cuenca</td>\n",
       "      <td>Principiante</td>\n",
       "      <td>2020-B</td>\n",
       "      <td>37</td>\n",
       "      <td>7</td>\n",
       "      <td>9</td>\n",
       "      <td>21</td>\n",
       "    </tr>\n",
       "    <tr>\n",
       "      <th>1004</th>\n",
       "      <td>Cielo Leon</td>\n",
       "      <td>Avanzado</td>\n",
       "      <td>2020-B</td>\n",
       "      <td>32</td>\n",
       "      <td>6</td>\n",
       "      <td>5</td>\n",
       "      <td>21</td>\n",
       "    </tr>\n",
       "    <tr>\n",
       "      <th>...</th>\n",
       "      <td>...</td>\n",
       "      <td>...</td>\n",
       "      <td>...</td>\n",
       "      <td>...</td>\n",
       "      <td>...</td>\n",
       "      <td>...</td>\n",
       "      <td>...</td>\n",
       "    </tr>\n",
       "    <tr>\n",
       "      <th>1520</th>\n",
       "      <td>Rusel Vilar</td>\n",
       "      <td>Intermedio</td>\n",
       "      <td>2021-A</td>\n",
       "      <td>46</td>\n",
       "      <td>27</td>\n",
       "      <td>8</td>\n",
       "      <td>11</td>\n",
       "    </tr>\n",
       "    <tr>\n",
       "      <th>1521</th>\n",
       "      <td>Martina Barragan</td>\n",
       "      <td>Intermedio</td>\n",
       "      <td>2021-A</td>\n",
       "      <td>46</td>\n",
       "      <td>28</td>\n",
       "      <td>8</td>\n",
       "      <td>10</td>\n",
       "    </tr>\n",
       "    <tr>\n",
       "      <th>1522</th>\n",
       "      <td>Kunico Gomez</td>\n",
       "      <td>Principiante</td>\n",
       "      <td>2021-A</td>\n",
       "      <td>41</td>\n",
       "      <td>27</td>\n",
       "      <td>2</td>\n",
       "      <td>12</td>\n",
       "    </tr>\n",
       "    <tr>\n",
       "      <th>1523</th>\n",
       "      <td>Deisy Montalvo</td>\n",
       "      <td>Avanzado</td>\n",
       "      <td>2021-A</td>\n",
       "      <td>43</td>\n",
       "      <td>28</td>\n",
       "      <td>3</td>\n",
       "      <td>12</td>\n",
       "    </tr>\n",
       "    <tr>\n",
       "      <th>1524</th>\n",
       "      <td>Aldo Palacios</td>\n",
       "      <td>Intermedio</td>\n",
       "      <td>2021-A</td>\n",
       "      <td>47</td>\n",
       "      <td>30</td>\n",
       "      <td>3</td>\n",
       "      <td>14</td>\n",
       "    </tr>\n",
       "  </tbody>\n",
       "</table>\n",
       "<p>525 rows × 7 columns</p>\n",
       "</div>"
      ],
      "text/plain": [
       "                Nombre     Categoria   Salon  P. J.  Victorias  Empates  \\\n",
       "Id                                                                        \n",
       "1000      Edison Marin      Avanzado  2021-B     37          8        7   \n",
       "1001     Elena Soberon    Intermedio  2021-B     30          9       11   \n",
       "1002  Yolanda Berlanga      Avanzado  2020-B     32         22        6   \n",
       "1003       Yire Cuenca  Principiante  2020-B     37          7        9   \n",
       "1004        Cielo Leon      Avanzado  2020-B     32          6        5   \n",
       "...                ...           ...     ...    ...        ...      ...   \n",
       "1520       Rusel Vilar    Intermedio  2021-A     46         27        8   \n",
       "1521  Martina Barragan    Intermedio  2021-A     46         28        8   \n",
       "1522      Kunico Gomez  Principiante  2021-A     41         27        2   \n",
       "1523    Deisy Montalvo      Avanzado  2021-A     43         28        3   \n",
       "1524     Aldo Palacios    Intermedio  2021-A     47         30        3   \n",
       "\n",
       "      Derrotas  \n",
       "Id              \n",
       "1000        22  \n",
       "1001        10  \n",
       "1002         4  \n",
       "1003        21  \n",
       "1004        21  \n",
       "...        ...  \n",
       "1520        11  \n",
       "1521        10  \n",
       "1522        12  \n",
       "1523        12  \n",
       "1524        14  \n",
       "\n",
       "[525 rows x 7 columns]"
      ]
     },
     "execution_count": 3,
     "metadata": {},
     "output_type": "execute_result"
    }
   ],
   "source": [
    "Ajedrez = pd.read_excel(\"./Ajedrez.xlsx\",index_col=\"Id\")\n",
    "\n",
    "Ajedrez"
   ]
  },
  {
   "cell_type": "markdown",
   "id": "33136c5b-20b2-41c6-ae78-94bafbdeba45",
   "metadata": {},
   "source": [
    "Obtener el valor mínimo en cada columna utilizando la función min"
   ]
  },
  {
   "cell_type": "code",
   "execution_count": 4,
   "id": "822a2f95-1351-4fc6-a289-9f960e9d493f",
   "metadata": {},
   "outputs": [
    {
     "data": {
      "application/vnd.microsoft.datawrangler.viewer.v0+json": {
       "columns": [
        {
         "name": "index",
         "rawType": "object",
         "type": "string"
        },
        {
         "name": "0",
         "rawType": "object",
         "type": "unknown"
        }
       ],
       "ref": "ec5e24e2-d457-4624-8541-b46e60abd2d0",
       "rows": [
        [
         "Nombre",
         "Aaron Ramirez"
        ],
        [
         "Categoria",
         "Avanzado"
        ],
        [
         "Salon",
         "2019-A"
        ],
        [
         "P. J.",
         "18"
        ],
        [
         "Victorias",
         "0"
        ],
        [
         "Empates",
         "0"
        ],
        [
         "Derrotas",
         "0"
        ]
       ],
       "shape": {
        "columns": 1,
        "rows": 7
       }
      },
      "text/plain": [
       "Nombre       Aaron Ramirez\n",
       "Categoria         Avanzado\n",
       "Salon               2019-A\n",
       "P. J.                   18\n",
       "Victorias                0\n",
       "Empates                  0\n",
       "Derrotas                 0\n",
       "dtype: object"
      ]
     },
     "execution_count": 4,
     "metadata": {},
     "output_type": "execute_result"
    }
   ],
   "source": [
    "Ajedrez.min()"
   ]
  },
  {
   "cell_type": "markdown",
   "id": "8f130ad5-3f17-4e38-91c2-7d4306cdf286",
   "metadata": {},
   "source": [
    "Obtener el valor mínimo en cada columna utilizando la función max"
   ]
  },
  {
   "cell_type": "code",
   "execution_count": 5,
   "id": "0756b41e-f70e-4c76-b02e-2f0e9bc2ab6b",
   "metadata": {},
   "outputs": [
    {
     "data": {
      "application/vnd.microsoft.datawrangler.viewer.v0+json": {
       "columns": [
        {
         "name": "index",
         "rawType": "object",
         "type": "string"
        },
        {
         "name": "0",
         "rawType": "object",
         "type": "unknown"
        }
       ],
       "ref": "34f31679-c9b7-4704-9c24-3711e38e5327",
       "rows": [
        [
         "Nombre",
         "oscar Gomez"
        ],
        [
         "Categoria",
         "Principiante"
        ],
        [
         "Salon",
         "2022-A"
        ],
        [
         "P. J.",
         "50"
        ],
        [
         "Victorias",
         "30"
        ],
        [
         "Empates",
         "35"
        ],
        [
         "Derrotas",
         "42"
        ]
       ],
       "shape": {
        "columns": 1,
        "rows": 7
       }
      },
      "text/plain": [
       "Nombre        oscar Gomez\n",
       "Categoria    Principiante\n",
       "Salon              2022-A\n",
       "P. J.                  50\n",
       "Victorias              30\n",
       "Empates                35\n",
       "Derrotas               42\n",
       "dtype: object"
      ]
     },
     "execution_count": 5,
     "metadata": {},
     "output_type": "execute_result"
    }
   ],
   "source": [
    "Ajedrez.max()"
   ]
  },
  {
   "cell_type": "markdown",
   "id": "ea810b15-75ea-482e-b19c-166364ccc8e9",
   "metadata": {},
   "source": [
    "__Ejercicio 2:__"
   ]
  },
  {
   "cell_type": "markdown",
   "id": "f38a82c0-40b2-4960-9070-aec7315a4c27",
   "metadata": {},
   "source": [
    "Utilizar groupby para obtener el valor maximo en todas las columnas de cada salon"
   ]
  },
  {
   "cell_type": "code",
   "execution_count": 6,
   "id": "e1e1a527-9291-4151-a308-6c9acee2e663",
   "metadata": {},
   "outputs": [
    {
     "data": {
      "application/vnd.microsoft.datawrangler.viewer.v0+json": {
       "columns": [
        {
         "name": "Salon",
         "rawType": "object",
         "type": "string"
        },
        {
         "name": "Nombre",
         "rawType": "object",
         "type": "string"
        },
        {
         "name": "Categoria",
         "rawType": "object",
         "type": "string"
        },
        {
         "name": "P. J.",
         "rawType": "int64",
         "type": "integer"
        },
        {
         "name": "Victorias",
         "rawType": "int64",
         "type": "integer"
        },
        {
         "name": "Empates",
         "rawType": "int64",
         "type": "integer"
        },
        {
         "name": "Derrotas",
         "rawType": "int64",
         "type": "integer"
        }
       ],
       "ref": "e48f082a-4aca-4357-8116-794f923e6651",
       "rows": [
        [
         "2019-A",
         "Yasmin Rudomin",
         "Principiante",
         "50",
         "25",
         "29",
         "42"
        ],
        [
         "2019-B",
         "oscar Gomez",
         "Principiante",
         "50",
         "24",
         "27",
         "41"
        ],
        [
         "2020-A",
         "Yessica Infante",
         "Principiante",
         "49",
         "26",
         "25",
         "37"
        ],
        [
         "2020-B",
         "Yulisa Contreras",
         "Principiante",
         "50",
         "25",
         "29",
         "34"
        ],
        [
         "2021-A",
         "Yuri Alonso",
         "Principiante",
         "49",
         "30",
         "35",
         "35"
        ],
        [
         "2021-B",
         "angel Martinez",
         "Principiante",
         "50",
         "25",
         "24",
         "39"
        ],
        [
         "2022-A",
         "angel Hinojosa",
         "Principiante",
         "50",
         "25",
         "19",
         "37"
        ]
       ],
       "shape": {
        "columns": 6,
        "rows": 7
       }
      },
      "text/html": [
       "<div>\n",
       "<style scoped>\n",
       "    .dataframe tbody tr th:only-of-type {\n",
       "        vertical-align: middle;\n",
       "    }\n",
       "\n",
       "    .dataframe tbody tr th {\n",
       "        vertical-align: top;\n",
       "    }\n",
       "\n",
       "    .dataframe thead th {\n",
       "        text-align: right;\n",
       "    }\n",
       "</style>\n",
       "<table border=\"1\" class=\"dataframe\">\n",
       "  <thead>\n",
       "    <tr style=\"text-align: right;\">\n",
       "      <th></th>\n",
       "      <th>Nombre</th>\n",
       "      <th>Categoria</th>\n",
       "      <th>P. J.</th>\n",
       "      <th>Victorias</th>\n",
       "      <th>Empates</th>\n",
       "      <th>Derrotas</th>\n",
       "    </tr>\n",
       "    <tr>\n",
       "      <th>Salon</th>\n",
       "      <th></th>\n",
       "      <th></th>\n",
       "      <th></th>\n",
       "      <th></th>\n",
       "      <th></th>\n",
       "      <th></th>\n",
       "    </tr>\n",
       "  </thead>\n",
       "  <tbody>\n",
       "    <tr>\n",
       "      <th>2019-A</th>\n",
       "      <td>Yasmin Rudomin</td>\n",
       "      <td>Principiante</td>\n",
       "      <td>50</td>\n",
       "      <td>25</td>\n",
       "      <td>29</td>\n",
       "      <td>42</td>\n",
       "    </tr>\n",
       "    <tr>\n",
       "      <th>2019-B</th>\n",
       "      <td>oscar Gomez</td>\n",
       "      <td>Principiante</td>\n",
       "      <td>50</td>\n",
       "      <td>24</td>\n",
       "      <td>27</td>\n",
       "      <td>41</td>\n",
       "    </tr>\n",
       "    <tr>\n",
       "      <th>2020-A</th>\n",
       "      <td>Yessica Infante</td>\n",
       "      <td>Principiante</td>\n",
       "      <td>49</td>\n",
       "      <td>26</td>\n",
       "      <td>25</td>\n",
       "      <td>37</td>\n",
       "    </tr>\n",
       "    <tr>\n",
       "      <th>2020-B</th>\n",
       "      <td>Yulisa Contreras</td>\n",
       "      <td>Principiante</td>\n",
       "      <td>50</td>\n",
       "      <td>25</td>\n",
       "      <td>29</td>\n",
       "      <td>34</td>\n",
       "    </tr>\n",
       "    <tr>\n",
       "      <th>2021-A</th>\n",
       "      <td>Yuri Alonso</td>\n",
       "      <td>Principiante</td>\n",
       "      <td>49</td>\n",
       "      <td>30</td>\n",
       "      <td>35</td>\n",
       "      <td>35</td>\n",
       "    </tr>\n",
       "    <tr>\n",
       "      <th>2021-B</th>\n",
       "      <td>angel Martinez</td>\n",
       "      <td>Principiante</td>\n",
       "      <td>50</td>\n",
       "      <td>25</td>\n",
       "      <td>24</td>\n",
       "      <td>39</td>\n",
       "    </tr>\n",
       "    <tr>\n",
       "      <th>2022-A</th>\n",
       "      <td>angel Hinojosa</td>\n",
       "      <td>Principiante</td>\n",
       "      <td>50</td>\n",
       "      <td>25</td>\n",
       "      <td>19</td>\n",
       "      <td>37</td>\n",
       "    </tr>\n",
       "  </tbody>\n",
       "</table>\n",
       "</div>"
      ],
      "text/plain": [
       "                  Nombre     Categoria  P. J.  Victorias  Empates  Derrotas\n",
       "Salon                                                                      \n",
       "2019-A    Yasmin Rudomin  Principiante     50         25       29        42\n",
       "2019-B       oscar Gomez  Principiante     50         24       27        41\n",
       "2020-A   Yessica Infante  Principiante     49         26       25        37\n",
       "2020-B  Yulisa Contreras  Principiante     50         25       29        34\n",
       "2021-A       Yuri Alonso  Principiante     49         30       35        35\n",
       "2021-B    angel Martinez  Principiante     50         25       24        39\n",
       "2022-A    angel Hinojosa  Principiante     50         25       19        37"
      ]
     },
     "execution_count": 6,
     "metadata": {},
     "output_type": "execute_result"
    }
   ],
   "source": [
    "Ajedrez.groupby(\"Salon\").max()"
   ]
  },
  {
   "cell_type": "markdown",
   "id": "8718d33c-0dad-4e02-9443-80bd96f49e08",
   "metadata": {},
   "source": [
    "Utilizar groupby para obtener el valor minimo en todas las columnas de cada salon"
   ]
  },
  {
   "cell_type": "code",
   "execution_count": 7,
   "id": "f84e1a6a-7249-4de1-ba81-db1ffeb5a54e",
   "metadata": {},
   "outputs": [
    {
     "data": {
      "application/vnd.microsoft.datawrangler.viewer.v0+json": {
       "columns": [
        {
         "name": "Salon",
         "rawType": "object",
         "type": "string"
        },
        {
         "name": "Nombre",
         "rawType": "object",
         "type": "string"
        },
        {
         "name": "Categoria",
         "rawType": "object",
         "type": "string"
        },
        {
         "name": "P. J.",
         "rawType": "int64",
         "type": "integer"
        },
        {
         "name": "Victorias",
         "rawType": "int64",
         "type": "integer"
        },
        {
         "name": "Empates",
         "rawType": "int64",
         "type": "integer"
        },
        {
         "name": "Derrotas",
         "rawType": "int64",
         "type": "integer"
        }
       ],
       "ref": "234537f0-c447-4b48-a979-e32b4e067533",
       "rows": [
        [
         "2019-A",
         "Agustin Saldaña",
         "Avanzado",
         "25",
         "0",
         "0",
         "0"
        ],
        [
         "2019-B",
         "Alastor Alva",
         "Avanzado",
         "25",
         "0",
         "1",
         "0"
        ],
        [
         "2020-A",
         "Abel Verdejo",
         "Avanzado",
         "25",
         "0",
         "0",
         "0"
        ],
        [
         "2020-B",
         "Aaron Ramirez",
         "Avanzado",
         "25",
         "0",
         "1",
         "1"
        ],
        [
         "2021-A",
         "Abelardo Alonso",
         "Avanzado",
         "25",
         "0",
         "0",
         "1"
        ],
        [
         "2021-B",
         "Alan Aranda",
         "Avanzado",
         "18",
         "0",
         "1",
         "0"
        ],
        [
         "2022-A",
         "Ana  Campillo",
         "Avanzado",
         "25",
         "1",
         "1",
         "0"
        ]
       ],
       "shape": {
        "columns": 6,
        "rows": 7
       }
      },
      "text/html": [
       "<div>\n",
       "<style scoped>\n",
       "    .dataframe tbody tr th:only-of-type {\n",
       "        vertical-align: middle;\n",
       "    }\n",
       "\n",
       "    .dataframe tbody tr th {\n",
       "        vertical-align: top;\n",
       "    }\n",
       "\n",
       "    .dataframe thead th {\n",
       "        text-align: right;\n",
       "    }\n",
       "</style>\n",
       "<table border=\"1\" class=\"dataframe\">\n",
       "  <thead>\n",
       "    <tr style=\"text-align: right;\">\n",
       "      <th></th>\n",
       "      <th>Nombre</th>\n",
       "      <th>Categoria</th>\n",
       "      <th>P. J.</th>\n",
       "      <th>Victorias</th>\n",
       "      <th>Empates</th>\n",
       "      <th>Derrotas</th>\n",
       "    </tr>\n",
       "    <tr>\n",
       "      <th>Salon</th>\n",
       "      <th></th>\n",
       "      <th></th>\n",
       "      <th></th>\n",
       "      <th></th>\n",
       "      <th></th>\n",
       "      <th></th>\n",
       "    </tr>\n",
       "  </thead>\n",
       "  <tbody>\n",
       "    <tr>\n",
       "      <th>2019-A</th>\n",
       "      <td>Agustin Saldaña</td>\n",
       "      <td>Avanzado</td>\n",
       "      <td>25</td>\n",
       "      <td>0</td>\n",
       "      <td>0</td>\n",
       "      <td>0</td>\n",
       "    </tr>\n",
       "    <tr>\n",
       "      <th>2019-B</th>\n",
       "      <td>Alastor Alva</td>\n",
       "      <td>Avanzado</td>\n",
       "      <td>25</td>\n",
       "      <td>0</td>\n",
       "      <td>1</td>\n",
       "      <td>0</td>\n",
       "    </tr>\n",
       "    <tr>\n",
       "      <th>2020-A</th>\n",
       "      <td>Abel Verdejo</td>\n",
       "      <td>Avanzado</td>\n",
       "      <td>25</td>\n",
       "      <td>0</td>\n",
       "      <td>0</td>\n",
       "      <td>0</td>\n",
       "    </tr>\n",
       "    <tr>\n",
       "      <th>2020-B</th>\n",
       "      <td>Aaron Ramirez</td>\n",
       "      <td>Avanzado</td>\n",
       "      <td>25</td>\n",
       "      <td>0</td>\n",
       "      <td>1</td>\n",
       "      <td>1</td>\n",
       "    </tr>\n",
       "    <tr>\n",
       "      <th>2021-A</th>\n",
       "      <td>Abelardo Alonso</td>\n",
       "      <td>Avanzado</td>\n",
       "      <td>25</td>\n",
       "      <td>0</td>\n",
       "      <td>0</td>\n",
       "      <td>1</td>\n",
       "    </tr>\n",
       "    <tr>\n",
       "      <th>2021-B</th>\n",
       "      <td>Alan Aranda</td>\n",
       "      <td>Avanzado</td>\n",
       "      <td>18</td>\n",
       "      <td>0</td>\n",
       "      <td>1</td>\n",
       "      <td>0</td>\n",
       "    </tr>\n",
       "    <tr>\n",
       "      <th>2022-A</th>\n",
       "      <td>Ana  Campillo</td>\n",
       "      <td>Avanzado</td>\n",
       "      <td>25</td>\n",
       "      <td>1</td>\n",
       "      <td>1</td>\n",
       "      <td>0</td>\n",
       "    </tr>\n",
       "  </tbody>\n",
       "</table>\n",
       "</div>"
      ],
      "text/plain": [
       "                 Nombre Categoria  P. J.  Victorias  Empates  Derrotas\n",
       "Salon                                                                 \n",
       "2019-A  Agustin Saldaña  Avanzado     25          0        0         0\n",
       "2019-B     Alastor Alva  Avanzado     25          0        1         0\n",
       "2020-A     Abel Verdejo  Avanzado     25          0        0         0\n",
       "2020-B    Aaron Ramirez  Avanzado     25          0        1         1\n",
       "2021-A  Abelardo Alonso  Avanzado     25          0        0         1\n",
       "2021-B      Alan Aranda  Avanzado     18          0        1         0\n",
       "2022-A    Ana  Campillo  Avanzado     25          1        1         0"
      ]
     },
     "execution_count": 7,
     "metadata": {},
     "output_type": "execute_result"
    }
   ],
   "source": [
    "Ajedrez.groupby(\"Salon\").min()"
   ]
  },
  {
   "cell_type": "markdown",
   "id": "b3d6f164-633b-4e4f-a8be-602f053c6873",
   "metadata": {},
   "source": [
    "__Ejercicio 3:__"
   ]
  },
  {
   "cell_type": "markdown",
   "id": "49936ff7-dc60-4fc6-a289-9788180f973f",
   "metadata": {},
   "source": [
    "Utilizar groupby para obtener la cantidad de estudiantes en cada salon"
   ]
  },
  {
   "cell_type": "code",
   "execution_count": 8,
   "id": "fb7ecdfe-867d-4537-80a8-e50f1d459025",
   "metadata": {},
   "outputs": [
    {
     "data": {
      "application/vnd.microsoft.datawrangler.viewer.v0+json": {
       "columns": [
        {
         "name": "Salon",
         "rawType": "object",
         "type": "string"
        },
        {
         "name": "0",
         "rawType": "int64",
         "type": "integer"
        }
       ],
       "ref": "6ae50117-4c6b-4c8c-a483-0e76cf534c59",
       "rows": [
        [
         "2019-A",
         "75"
        ],
        [
         "2019-B",
         "75"
        ],
        [
         "2020-A",
         "82"
        ],
        [
         "2020-B",
         "80"
        ],
        [
         "2021-A",
         "77"
        ],
        [
         "2021-B",
         "70"
        ],
        [
         "2022-A",
         "66"
        ]
       ],
       "shape": {
        "columns": 1,
        "rows": 7
       }
      },
      "text/plain": [
       "Salon\n",
       "2019-A    75\n",
       "2019-B    75\n",
       "2020-A    82\n",
       "2020-B    80\n",
       "2021-A    77\n",
       "2021-B    70\n",
       "2022-A    66\n",
       "dtype: int64"
      ]
     },
     "execution_count": 8,
     "metadata": {},
     "output_type": "execute_result"
    }
   ],
   "source": [
    "Ajedrez.groupby(\"Salon\").size()"
   ]
  },
  {
   "cell_type": "code",
   "execution_count": 9,
   "id": "4c3af25d-85e3-4a3e-b9ca-4e2da44c0026",
   "metadata": {},
   "outputs": [
    {
     "data": {
      "application/vnd.microsoft.datawrangler.viewer.v0+json": {
       "columns": [
        {
         "name": "Salon",
         "rawType": "object",
         "type": "string"
        },
        {
         "name": "Nombre",
         "rawType": "int64",
         "type": "integer"
        },
        {
         "name": "Categoria",
         "rawType": "int64",
         "type": "integer"
        },
        {
         "name": "P. J.",
         "rawType": "int64",
         "type": "integer"
        },
        {
         "name": "Victorias",
         "rawType": "int64",
         "type": "integer"
        },
        {
         "name": "Empates",
         "rawType": "int64",
         "type": "integer"
        },
        {
         "name": "Derrotas",
         "rawType": "int64",
         "type": "integer"
        }
       ],
       "ref": "1bc6fd62-49a2-4613-ad15-45f496851850",
       "rows": [
        [
         "2019-A",
         "75",
         "75",
         "75",
         "75",
         "75",
         "75"
        ],
        [
         "2019-B",
         "75",
         "75",
         "75",
         "75",
         "75",
         "75"
        ],
        [
         "2020-A",
         "82",
         "82",
         "82",
         "82",
         "82",
         "82"
        ],
        [
         "2020-B",
         "80",
         "80",
         "80",
         "80",
         "80",
         "80"
        ],
        [
         "2021-A",
         "77",
         "77",
         "77",
         "77",
         "77",
         "77"
        ],
        [
         "2021-B",
         "70",
         "70",
         "70",
         "70",
         "70",
         "70"
        ],
        [
         "2022-A",
         "66",
         "66",
         "66",
         "66",
         "66",
         "66"
        ]
       ],
       "shape": {
        "columns": 6,
        "rows": 7
       }
      },
      "text/html": [
       "<div>\n",
       "<style scoped>\n",
       "    .dataframe tbody tr th:only-of-type {\n",
       "        vertical-align: middle;\n",
       "    }\n",
       "\n",
       "    .dataframe tbody tr th {\n",
       "        vertical-align: top;\n",
       "    }\n",
       "\n",
       "    .dataframe thead th {\n",
       "        text-align: right;\n",
       "    }\n",
       "</style>\n",
       "<table border=\"1\" class=\"dataframe\">\n",
       "  <thead>\n",
       "    <tr style=\"text-align: right;\">\n",
       "      <th></th>\n",
       "      <th>Nombre</th>\n",
       "      <th>Categoria</th>\n",
       "      <th>P. J.</th>\n",
       "      <th>Victorias</th>\n",
       "      <th>Empates</th>\n",
       "      <th>Derrotas</th>\n",
       "    </tr>\n",
       "    <tr>\n",
       "      <th>Salon</th>\n",
       "      <th></th>\n",
       "      <th></th>\n",
       "      <th></th>\n",
       "      <th></th>\n",
       "      <th></th>\n",
       "      <th></th>\n",
       "    </tr>\n",
       "  </thead>\n",
       "  <tbody>\n",
       "    <tr>\n",
       "      <th>2019-A</th>\n",
       "      <td>75</td>\n",
       "      <td>75</td>\n",
       "      <td>75</td>\n",
       "      <td>75</td>\n",
       "      <td>75</td>\n",
       "      <td>75</td>\n",
       "    </tr>\n",
       "    <tr>\n",
       "      <th>2019-B</th>\n",
       "      <td>75</td>\n",
       "      <td>75</td>\n",
       "      <td>75</td>\n",
       "      <td>75</td>\n",
       "      <td>75</td>\n",
       "      <td>75</td>\n",
       "    </tr>\n",
       "    <tr>\n",
       "      <th>2020-A</th>\n",
       "      <td>82</td>\n",
       "      <td>82</td>\n",
       "      <td>82</td>\n",
       "      <td>82</td>\n",
       "      <td>82</td>\n",
       "      <td>82</td>\n",
       "    </tr>\n",
       "    <tr>\n",
       "      <th>2020-B</th>\n",
       "      <td>80</td>\n",
       "      <td>80</td>\n",
       "      <td>80</td>\n",
       "      <td>80</td>\n",
       "      <td>80</td>\n",
       "      <td>80</td>\n",
       "    </tr>\n",
       "    <tr>\n",
       "      <th>2021-A</th>\n",
       "      <td>77</td>\n",
       "      <td>77</td>\n",
       "      <td>77</td>\n",
       "      <td>77</td>\n",
       "      <td>77</td>\n",
       "      <td>77</td>\n",
       "    </tr>\n",
       "    <tr>\n",
       "      <th>2021-B</th>\n",
       "      <td>70</td>\n",
       "      <td>70</td>\n",
       "      <td>70</td>\n",
       "      <td>70</td>\n",
       "      <td>70</td>\n",
       "      <td>70</td>\n",
       "    </tr>\n",
       "    <tr>\n",
       "      <th>2022-A</th>\n",
       "      <td>66</td>\n",
       "      <td>66</td>\n",
       "      <td>66</td>\n",
       "      <td>66</td>\n",
       "      <td>66</td>\n",
       "      <td>66</td>\n",
       "    </tr>\n",
       "  </tbody>\n",
       "</table>\n",
       "</div>"
      ],
      "text/plain": [
       "        Nombre  Categoria  P. J.  Victorias  Empates  Derrotas\n",
       "Salon                                                         \n",
       "2019-A      75         75     75         75       75        75\n",
       "2019-B      75         75     75         75       75        75\n",
       "2020-A      82         82     82         82       82        82\n",
       "2020-B      80         80     80         80       80        80\n",
       "2021-A      77         77     77         77       77        77\n",
       "2021-B      70         70     70         70       70        70\n",
       "2022-A      66         66     66         66       66        66"
      ]
     },
     "execution_count": 9,
     "metadata": {},
     "output_type": "execute_result"
    }
   ],
   "source": [
    "Ajedrez.groupby(\"Salon\").count()"
   ]
  },
  {
   "cell_type": "markdown",
   "id": "aefaf6f4-f4cb-465f-9e56-59fee2adcb58",
   "metadata": {},
   "source": [
    "__Ejercicio 4:__"
   ]
  },
  {
   "cell_type": "markdown",
   "id": "926a160c-7656-4dab-8fad-bdeb605310cd",
   "metadata": {},
   "source": [
    "Utilizar groupby para obtener el valor promedio en todas las columnas de cada salon"
   ]
  },
  {
   "cell_type": "code",
   "execution_count": 13,
   "id": "5cab8688-228f-47ea-9554-23874d0c8ca1",
   "metadata": {},
   "outputs": [
    {
     "data": {
      "application/vnd.microsoft.datawrangler.viewer.v0+json": {
       "columns": [
        {
         "name": "Salon",
         "rawType": "object",
         "type": "string"
        },
        {
         "name": "P. J.",
         "rawType": "float64",
         "type": "float"
        },
        {
         "name": "Victorias",
         "rawType": "float64",
         "type": "float"
        },
        {
         "name": "Empates",
         "rawType": "float64",
         "type": "float"
        },
        {
         "name": "Derrotas",
         "rawType": "float64",
         "type": "float"
        }
       ],
       "ref": "fbb39b4f-fe94-4587-a0fc-8446ba24b620",
       "rows": [
        [
         "2019-A",
         "39.36",
         "15.32",
         "8.72",
         "15.32"
        ],
        [
         "2019-B",
         "38.373333333333335",
         "14.946666666666667",
         "8.48",
         "14.946666666666667"
        ],
        [
         "2020-A",
         "37.048780487804876",
         "14.560975609756097",
         "7.926829268292683",
         "14.560975609756097"
        ],
        [
         "2020-B",
         "38.05",
         "14.7375",
         "8.575",
         "14.7375"
        ],
        [
         "2021-A",
         "38.38961038961039",
         "15.688311688311689",
         "7.012987012987013",
         "15.688311688311689"
        ],
        [
         "2021-B",
         "37.57142857142857",
         "14.8",
         "7.9714285714285715",
         "14.8"
        ],
        [
         "2022-A",
         "37.0",
         "14.93939393939394",
         "7.121212121212121",
         "14.93939393939394"
        ]
       ],
       "shape": {
        "columns": 4,
        "rows": 7
       }
      },
      "text/html": [
       "<div>\n",
       "<style scoped>\n",
       "    .dataframe tbody tr th:only-of-type {\n",
       "        vertical-align: middle;\n",
       "    }\n",
       "\n",
       "    .dataframe tbody tr th {\n",
       "        vertical-align: top;\n",
       "    }\n",
       "\n",
       "    .dataframe thead th {\n",
       "        text-align: right;\n",
       "    }\n",
       "</style>\n",
       "<table border=\"1\" class=\"dataframe\">\n",
       "  <thead>\n",
       "    <tr style=\"text-align: right;\">\n",
       "      <th></th>\n",
       "      <th>P. J.</th>\n",
       "      <th>Victorias</th>\n",
       "      <th>Empates</th>\n",
       "      <th>Derrotas</th>\n",
       "    </tr>\n",
       "    <tr>\n",
       "      <th>Salon</th>\n",
       "      <th></th>\n",
       "      <th></th>\n",
       "      <th></th>\n",
       "      <th></th>\n",
       "    </tr>\n",
       "  </thead>\n",
       "  <tbody>\n",
       "    <tr>\n",
       "      <th>2019-A</th>\n",
       "      <td>39.360000</td>\n",
       "      <td>15.320000</td>\n",
       "      <td>8.720000</td>\n",
       "      <td>15.320000</td>\n",
       "    </tr>\n",
       "    <tr>\n",
       "      <th>2019-B</th>\n",
       "      <td>38.373333</td>\n",
       "      <td>14.946667</td>\n",
       "      <td>8.480000</td>\n",
       "      <td>14.946667</td>\n",
       "    </tr>\n",
       "    <tr>\n",
       "      <th>2020-A</th>\n",
       "      <td>37.048780</td>\n",
       "      <td>14.560976</td>\n",
       "      <td>7.926829</td>\n",
       "      <td>14.560976</td>\n",
       "    </tr>\n",
       "    <tr>\n",
       "      <th>2020-B</th>\n",
       "      <td>38.050000</td>\n",
       "      <td>14.737500</td>\n",
       "      <td>8.575000</td>\n",
       "      <td>14.737500</td>\n",
       "    </tr>\n",
       "    <tr>\n",
       "      <th>2021-A</th>\n",
       "      <td>38.389610</td>\n",
       "      <td>15.688312</td>\n",
       "      <td>7.012987</td>\n",
       "      <td>15.688312</td>\n",
       "    </tr>\n",
       "    <tr>\n",
       "      <th>2021-B</th>\n",
       "      <td>37.571429</td>\n",
       "      <td>14.800000</td>\n",
       "      <td>7.971429</td>\n",
       "      <td>14.800000</td>\n",
       "    </tr>\n",
       "    <tr>\n",
       "      <th>2022-A</th>\n",
       "      <td>37.000000</td>\n",
       "      <td>14.939394</td>\n",
       "      <td>7.121212</td>\n",
       "      <td>14.939394</td>\n",
       "    </tr>\n",
       "  </tbody>\n",
       "</table>\n",
       "</div>"
      ],
      "text/plain": [
       "            P. J.  Victorias   Empates   Derrotas\n",
       "Salon                                            \n",
       "2019-A  39.360000  15.320000  8.720000  15.320000\n",
       "2019-B  38.373333  14.946667  8.480000  14.946667\n",
       "2020-A  37.048780  14.560976  7.926829  14.560976\n",
       "2020-B  38.050000  14.737500  8.575000  14.737500\n",
       "2021-A  38.389610  15.688312  7.012987  15.688312\n",
       "2021-B  37.571429  14.800000  7.971429  14.800000\n",
       "2022-A  37.000000  14.939394  7.121212  14.939394"
      ]
     },
     "execution_count": 13,
     "metadata": {},
     "output_type": "execute_result"
    }
   ],
   "source": [
    "Ajedrez.groupby(\"Salon\").mean(numeric_only=True)"
   ]
  },
  {
   "cell_type": "code",
   "execution_count": null,
   "id": "2989689c-98b2-4a8c-afc7-7a948117a2e1",
   "metadata": {},
   "outputs": [],
   "source": []
  },
  {
   "cell_type": "markdown",
   "id": "36cd242f-8030-4492-8b07-bdf8a9fc9ce1",
   "metadata": {},
   "source": [
    "Utilizar groupby para obtener la cantidad total de partidas jugadas, victorias, empates y derrotas de cada salon"
   ]
  },
  {
   "cell_type": "code",
   "execution_count": 16,
   "id": "72afe1bc-9ce3-4306-a5f2-9d828acddbe2",
   "metadata": {},
   "outputs": [],
   "source": [
    "suma = Ajedrez.groupby(\"Salon\").sum(numeric_only=True)"
   ]
  },
  {
   "cell_type": "code",
   "execution_count": 17,
   "id": "a218a565",
   "metadata": {},
   "outputs": [
    {
     "data": {
      "application/vnd.microsoft.datawrangler.viewer.v0+json": {
       "columns": [
        {
         "name": "Salon",
         "rawType": "object",
         "type": "string"
        },
        {
         "name": "P. J.",
         "rawType": "int64",
         "type": "integer"
        },
        {
         "name": "Victorias",
         "rawType": "int64",
         "type": "integer"
        },
        {
         "name": "Empates",
         "rawType": "int64",
         "type": "integer"
        },
        {
         "name": "Derrotas",
         "rawType": "int64",
         "type": "integer"
        }
       ],
       "ref": "b3ed9c4d-f197-4c5a-8529-6fd8a7895794",
       "rows": [
        [
         "2019-A",
         "2952",
         "1149",
         "654",
         "1149"
        ],
        [
         "2019-B",
         "2878",
         "1121",
         "636",
         "1121"
        ],
        [
         "2020-A",
         "3038",
         "1194",
         "650",
         "1194"
        ],
        [
         "2020-B",
         "3044",
         "1179",
         "686",
         "1179"
        ],
        [
         "2021-A",
         "2956",
         "1208",
         "540",
         "1208"
        ],
        [
         "2021-B",
         "2630",
         "1036",
         "558",
         "1036"
        ],
        [
         "2022-A",
         "2442",
         "986",
         "470",
         "986"
        ]
       ],
       "shape": {
        "columns": 4,
        "rows": 7
       }
      },
      "text/html": [
       "<div>\n",
       "<style scoped>\n",
       "    .dataframe tbody tr th:only-of-type {\n",
       "        vertical-align: middle;\n",
       "    }\n",
       "\n",
       "    .dataframe tbody tr th {\n",
       "        vertical-align: top;\n",
       "    }\n",
       "\n",
       "    .dataframe thead th {\n",
       "        text-align: right;\n",
       "    }\n",
       "</style>\n",
       "<table border=\"1\" class=\"dataframe\">\n",
       "  <thead>\n",
       "    <tr style=\"text-align: right;\">\n",
       "      <th></th>\n",
       "      <th>P. J.</th>\n",
       "      <th>Victorias</th>\n",
       "      <th>Empates</th>\n",
       "      <th>Derrotas</th>\n",
       "    </tr>\n",
       "    <tr>\n",
       "      <th>Salon</th>\n",
       "      <th></th>\n",
       "      <th></th>\n",
       "      <th></th>\n",
       "      <th></th>\n",
       "    </tr>\n",
       "  </thead>\n",
       "  <tbody>\n",
       "    <tr>\n",
       "      <th>2019-A</th>\n",
       "      <td>2952</td>\n",
       "      <td>1149</td>\n",
       "      <td>654</td>\n",
       "      <td>1149</td>\n",
       "    </tr>\n",
       "    <tr>\n",
       "      <th>2019-B</th>\n",
       "      <td>2878</td>\n",
       "      <td>1121</td>\n",
       "      <td>636</td>\n",
       "      <td>1121</td>\n",
       "    </tr>\n",
       "    <tr>\n",
       "      <th>2020-A</th>\n",
       "      <td>3038</td>\n",
       "      <td>1194</td>\n",
       "      <td>650</td>\n",
       "      <td>1194</td>\n",
       "    </tr>\n",
       "    <tr>\n",
       "      <th>2020-B</th>\n",
       "      <td>3044</td>\n",
       "      <td>1179</td>\n",
       "      <td>686</td>\n",
       "      <td>1179</td>\n",
       "    </tr>\n",
       "    <tr>\n",
       "      <th>2021-A</th>\n",
       "      <td>2956</td>\n",
       "      <td>1208</td>\n",
       "      <td>540</td>\n",
       "      <td>1208</td>\n",
       "    </tr>\n",
       "    <tr>\n",
       "      <th>2021-B</th>\n",
       "      <td>2630</td>\n",
       "      <td>1036</td>\n",
       "      <td>558</td>\n",
       "      <td>1036</td>\n",
       "    </tr>\n",
       "    <tr>\n",
       "      <th>2022-A</th>\n",
       "      <td>2442</td>\n",
       "      <td>986</td>\n",
       "      <td>470</td>\n",
       "      <td>986</td>\n",
       "    </tr>\n",
       "  </tbody>\n",
       "</table>\n",
       "</div>"
      ],
      "text/plain": [
       "        P. J.  Victorias  Empates  Derrotas\n",
       "Salon                                      \n",
       "2019-A   2952       1149      654      1149\n",
       "2019-B   2878       1121      636      1121\n",
       "2020-A   3038       1194      650      1194\n",
       "2020-B   3044       1179      686      1179\n",
       "2021-A   2956       1208      540      1208\n",
       "2021-B   2630       1036      558      1036\n",
       "2022-A   2442        986      470       986"
      ]
     },
     "execution_count": 17,
     "metadata": {},
     "output_type": "execute_result"
    }
   ],
   "source": [
    "suma"
   ]
  },
  {
   "cell_type": "markdown",
   "id": "3ea15976-204d-4aad-b4d7-b9bda2c5b6ad",
   "metadata": {},
   "source": [
    "__Ejercicio 5:__"
   ]
  },
  {
   "cell_type": "markdown",
   "id": "5cd6ca6c-d63a-46cc-a023-f3949fe166ff",
   "metadata": {},
   "source": [
    "Filtrar el DataFrame anterior, conservando los salones donde se jugaron mas de 2800 partidas"
   ]
  },
  {
   "cell_type": "code",
   "execution_count": 20,
   "id": "d06be0ef-3a13-4ed1-8ed8-2c9c309ea0ed",
   "metadata": {},
   "outputs": [
    {
     "data": {
      "application/vnd.microsoft.datawrangler.viewer.v0+json": {
       "columns": [
        {
         "name": "Salon",
         "rawType": "object",
         "type": "string"
        },
        {
         "name": "P. J.",
         "rawType": "int64",
         "type": "integer"
        },
        {
         "name": "Victorias",
         "rawType": "int64",
         "type": "integer"
        },
        {
         "name": "Empates",
         "rawType": "int64",
         "type": "integer"
        },
        {
         "name": "Derrotas",
         "rawType": "int64",
         "type": "integer"
        }
       ],
       "ref": "c52323f0-474c-4f46-802d-af798dc942cd",
       "rows": [
        [
         "2019-A",
         "2952",
         "1149",
         "654",
         "1149"
        ],
        [
         "2019-B",
         "2878",
         "1121",
         "636",
         "1121"
        ],
        [
         "2020-A",
         "3038",
         "1194",
         "650",
         "1194"
        ],
        [
         "2020-B",
         "3044",
         "1179",
         "686",
         "1179"
        ],
        [
         "2021-A",
         "2956",
         "1208",
         "540",
         "1208"
        ]
       ],
       "shape": {
        "columns": 4,
        "rows": 5
       }
      },
      "text/html": [
       "<div>\n",
       "<style scoped>\n",
       "    .dataframe tbody tr th:only-of-type {\n",
       "        vertical-align: middle;\n",
       "    }\n",
       "\n",
       "    .dataframe tbody tr th {\n",
       "        vertical-align: top;\n",
       "    }\n",
       "\n",
       "    .dataframe thead th {\n",
       "        text-align: right;\n",
       "    }\n",
       "</style>\n",
       "<table border=\"1\" class=\"dataframe\">\n",
       "  <thead>\n",
       "    <tr style=\"text-align: right;\">\n",
       "      <th></th>\n",
       "      <th>P. J.</th>\n",
       "      <th>Victorias</th>\n",
       "      <th>Empates</th>\n",
       "      <th>Derrotas</th>\n",
       "    </tr>\n",
       "    <tr>\n",
       "      <th>Salon</th>\n",
       "      <th></th>\n",
       "      <th></th>\n",
       "      <th></th>\n",
       "      <th></th>\n",
       "    </tr>\n",
       "  </thead>\n",
       "  <tbody>\n",
       "    <tr>\n",
       "      <th>2019-A</th>\n",
       "      <td>2952</td>\n",
       "      <td>1149</td>\n",
       "      <td>654</td>\n",
       "      <td>1149</td>\n",
       "    </tr>\n",
       "    <tr>\n",
       "      <th>2019-B</th>\n",
       "      <td>2878</td>\n",
       "      <td>1121</td>\n",
       "      <td>636</td>\n",
       "      <td>1121</td>\n",
       "    </tr>\n",
       "    <tr>\n",
       "      <th>2020-A</th>\n",
       "      <td>3038</td>\n",
       "      <td>1194</td>\n",
       "      <td>650</td>\n",
       "      <td>1194</td>\n",
       "    </tr>\n",
       "    <tr>\n",
       "      <th>2020-B</th>\n",
       "      <td>3044</td>\n",
       "      <td>1179</td>\n",
       "      <td>686</td>\n",
       "      <td>1179</td>\n",
       "    </tr>\n",
       "    <tr>\n",
       "      <th>2021-A</th>\n",
       "      <td>2956</td>\n",
       "      <td>1208</td>\n",
       "      <td>540</td>\n",
       "      <td>1208</td>\n",
       "    </tr>\n",
       "  </tbody>\n",
       "</table>\n",
       "</div>"
      ],
      "text/plain": [
       "        P. J.  Victorias  Empates  Derrotas\n",
       "Salon                                      \n",
       "2019-A   2952       1149      654      1149\n",
       "2019-B   2878       1121      636      1121\n",
       "2020-A   3038       1194      650      1194\n",
       "2020-B   3044       1179      686      1179\n",
       "2021-A   2956       1208      540      1208"
      ]
     },
     "execution_count": 20,
     "metadata": {},
     "output_type": "execute_result"
    }
   ],
   "source": [
    "suma[suma['P. J.'] > 2800]"
   ]
  },
  {
   "cell_type": "markdown",
   "id": "0f7cc17e-c6b9-4a1b-a05b-ea369ec65935",
   "metadata": {},
   "source": [
    "__Ejercicio 6:__"
   ]
  },
  {
   "cell_type": "markdown",
   "id": "96ba646f-e8a1-46bd-b91d-6f9b0945ec15",
   "metadata": {},
   "source": [
    "Utilizar groupby para obtener los datos de los estudiantes en cuyo salón, el máximo número de victorias fue 25."
   ]
  },
  {
   "cell_type": "code",
   "execution_count": 23,
   "id": "57b331bb-d5cf-48c4-bccf-e2839075043d",
   "metadata": {},
   "outputs": [
    {
     "data": {
      "application/vnd.microsoft.datawrangler.viewer.v0+json": {
       "columns": [
        {
         "name": "Salon",
         "rawType": "object",
         "type": "string"
        },
        {
         "name": "Nombre",
         "rawType": "object",
         "type": "string"
        },
        {
         "name": "Categoria",
         "rawType": "object",
         "type": "string"
        },
        {
         "name": "P. J.",
         "rawType": "int64",
         "type": "integer"
        },
        {
         "name": "Victorias",
         "rawType": "int64",
         "type": "integer"
        },
        {
         "name": "Empates",
         "rawType": "int64",
         "type": "integer"
        },
        {
         "name": "Derrotas",
         "rawType": "int64",
         "type": "integer"
        }
       ],
       "ref": "5f58ec42-dbd9-4f8a-a774-3f219b0c99d4",
       "rows": [
        [
         "2019-A",
         "Yasmin Rudomin",
         "Principiante",
         "50",
         "25",
         "29",
         "42"
        ],
        [
         "2020-B",
         "Yulisa Contreras",
         "Principiante",
         "50",
         "25",
         "29",
         "34"
        ],
        [
         "2021-B",
         "angel Martinez",
         "Principiante",
         "50",
         "25",
         "24",
         "39"
        ],
        [
         "2022-A",
         "angel Hinojosa",
         "Principiante",
         "50",
         "25",
         "19",
         "37"
        ]
       ],
       "shape": {
        "columns": 6,
        "rows": 4
       }
      },
      "text/html": [
       "<div>\n",
       "<style scoped>\n",
       "    .dataframe tbody tr th:only-of-type {\n",
       "        vertical-align: middle;\n",
       "    }\n",
       "\n",
       "    .dataframe tbody tr th {\n",
       "        vertical-align: top;\n",
       "    }\n",
       "\n",
       "    .dataframe thead th {\n",
       "        text-align: right;\n",
       "    }\n",
       "</style>\n",
       "<table border=\"1\" class=\"dataframe\">\n",
       "  <thead>\n",
       "    <tr style=\"text-align: right;\">\n",
       "      <th></th>\n",
       "      <th>Nombre</th>\n",
       "      <th>Categoria</th>\n",
       "      <th>P. J.</th>\n",
       "      <th>Victorias</th>\n",
       "      <th>Empates</th>\n",
       "      <th>Derrotas</th>\n",
       "    </tr>\n",
       "    <tr>\n",
       "      <th>Salon</th>\n",
       "      <th></th>\n",
       "      <th></th>\n",
       "      <th></th>\n",
       "      <th></th>\n",
       "      <th></th>\n",
       "      <th></th>\n",
       "    </tr>\n",
       "  </thead>\n",
       "  <tbody>\n",
       "    <tr>\n",
       "      <th>2019-A</th>\n",
       "      <td>Yasmin Rudomin</td>\n",
       "      <td>Principiante</td>\n",
       "      <td>50</td>\n",
       "      <td>25</td>\n",
       "      <td>29</td>\n",
       "      <td>42</td>\n",
       "    </tr>\n",
       "    <tr>\n",
       "      <th>2020-B</th>\n",
       "      <td>Yulisa Contreras</td>\n",
       "      <td>Principiante</td>\n",
       "      <td>50</td>\n",
       "      <td>25</td>\n",
       "      <td>29</td>\n",
       "      <td>34</td>\n",
       "    </tr>\n",
       "    <tr>\n",
       "      <th>2021-B</th>\n",
       "      <td>angel Martinez</td>\n",
       "      <td>Principiante</td>\n",
       "      <td>50</td>\n",
       "      <td>25</td>\n",
       "      <td>24</td>\n",
       "      <td>39</td>\n",
       "    </tr>\n",
       "    <tr>\n",
       "      <th>2022-A</th>\n",
       "      <td>angel Hinojosa</td>\n",
       "      <td>Principiante</td>\n",
       "      <td>50</td>\n",
       "      <td>25</td>\n",
       "      <td>19</td>\n",
       "      <td>37</td>\n",
       "    </tr>\n",
       "  </tbody>\n",
       "</table>\n",
       "</div>"
      ],
      "text/plain": [
       "                  Nombre     Categoria  P. J.  Victorias  Empates  Derrotas\n",
       "Salon                                                                      \n",
       "2019-A    Yasmin Rudomin  Principiante     50         25       29        42\n",
       "2020-B  Yulisa Contreras  Principiante     50         25       29        34\n",
       "2021-B    angel Martinez  Principiante     50         25       24        39\n",
       "2022-A    angel Hinojosa  Principiante     50         25       19        37"
      ]
     },
     "execution_count": 23,
     "metadata": {},
     "output_type": "execute_result"
    }
   ],
   "source": [
    "def calcular(group):\n",
    "    return group['Victorias'].max() == 25\n",
    "\n",
    "\n",
    "Ajedrez.groupby(\"Salon\").filter(calcular).groupby(\"Salon\").max()"
   ]
  },
  {
   "cell_type": "markdown",
   "id": "9b83045d-d453-4ffd-8ac1-8459db1284e4",
   "metadata": {},
   "source": [
    "__Ejercicio 7:__"
   ]
  },
  {
   "cell_type": "markdown",
   "id": "745e8708-cbf8-4a11-a56c-e1b18218ba46",
   "metadata": {},
   "source": [
    "Utilizar groupby para obtener los datos de los 2 primeros estudiantes en cada salon"
   ]
  },
  {
   "cell_type": "code",
   "execution_count": 24,
   "id": "32bb1daa-fbdd-42b5-a82f-19db50c9d3f0",
   "metadata": {},
   "outputs": [
    {
     "data": {
      "application/vnd.microsoft.datawrangler.viewer.v0+json": {
       "columns": [
        {
         "name": "Id",
         "rawType": "int64",
         "type": "integer"
        },
        {
         "name": "Nombre",
         "rawType": "object",
         "type": "string"
        },
        {
         "name": "Categoria",
         "rawType": "object",
         "type": "string"
        },
        {
         "name": "Salon",
         "rawType": "object",
         "type": "string"
        },
        {
         "name": "P. J.",
         "rawType": "int64",
         "type": "integer"
        },
        {
         "name": "Victorias",
         "rawType": "int64",
         "type": "integer"
        },
        {
         "name": "Empates",
         "rawType": "int64",
         "type": "integer"
        },
        {
         "name": "Derrotas",
         "rawType": "int64",
         "type": "integer"
        }
       ],
       "ref": "6a37ec4a-35f3-41f3-92d0-19a9c62e18ba",
       "rows": [
        [
         "1000",
         "Edison Marin",
         "Avanzado",
         "2021-B",
         "37",
         "8",
         "7",
         "22"
        ],
        [
         "1001",
         "Elena Soberon",
         "Intermedio",
         "2021-B",
         "30",
         "9",
         "11",
         "10"
        ],
        [
         "1002",
         "Yolanda Berlanga",
         "Avanzado",
         "2020-B",
         "32",
         "22",
         "6",
         "4"
        ],
        [
         "1003",
         "Yire Cuenca",
         "Principiante",
         "2020-B",
         "37",
         "7",
         "9",
         "21"
        ],
        [
         "1005",
         "Cielo Guak",
         "Principiante",
         "2019-B",
         "46",
         "20",
         "22",
         "4"
        ],
        [
         "1007",
         "Cielo Cuenca",
         "Principiante",
         "2019-B",
         "45",
         "0",
         "6",
         "39"
        ],
        [
         "1011",
         "Maira Sandoval",
         "Principiante",
         "2022-A",
         "49",
         "8",
         "5",
         "36"
        ],
        [
         "1012",
         "angel Hinojosa",
         "Principiante",
         "2022-A",
         "43",
         "7",
         "7",
         "29"
        ],
        [
         "1018",
         "Valentina Barajas",
         "Intermedio",
         "2021-A",
         "29",
         "6",
         "11",
         "12"
        ],
        [
         "1020",
         "Yessica Infante",
         "Intermedio",
         "2020-A",
         "43",
         "7",
         "17",
         "19"
        ],
        [
         "1021",
         "Julian Vera",
         "Principiante",
         "2019-A",
         "33",
         "20",
         "13",
         "0"
        ],
        [
         "1022",
         "Julian Garcia",
         "Avanzado",
         "2019-A",
         "48",
         "23",
         "4",
         "21"
        ],
        [
         "1025",
         "Dionisio Arias",
         "Intermedio",
         "2021-A",
         "47",
         "18",
         "1",
         "28"
        ],
        [
         "1026",
         "Luis Ondarza",
         "Intermedio",
         "2020-A",
         "26",
         "20",
         "4",
         "2"
        ]
       ],
       "shape": {
        "columns": 7,
        "rows": 14
       }
      },
      "text/html": [
       "<div>\n",
       "<style scoped>\n",
       "    .dataframe tbody tr th:only-of-type {\n",
       "        vertical-align: middle;\n",
       "    }\n",
       "\n",
       "    .dataframe tbody tr th {\n",
       "        vertical-align: top;\n",
       "    }\n",
       "\n",
       "    .dataframe thead th {\n",
       "        text-align: right;\n",
       "    }\n",
       "</style>\n",
       "<table border=\"1\" class=\"dataframe\">\n",
       "  <thead>\n",
       "    <tr style=\"text-align: right;\">\n",
       "      <th></th>\n",
       "      <th>Nombre</th>\n",
       "      <th>Categoria</th>\n",
       "      <th>Salon</th>\n",
       "      <th>P. J.</th>\n",
       "      <th>Victorias</th>\n",
       "      <th>Empates</th>\n",
       "      <th>Derrotas</th>\n",
       "    </tr>\n",
       "    <tr>\n",
       "      <th>Id</th>\n",
       "      <th></th>\n",
       "      <th></th>\n",
       "      <th></th>\n",
       "      <th></th>\n",
       "      <th></th>\n",
       "      <th></th>\n",
       "      <th></th>\n",
       "    </tr>\n",
       "  </thead>\n",
       "  <tbody>\n",
       "    <tr>\n",
       "      <th>1000</th>\n",
       "      <td>Edison Marin</td>\n",
       "      <td>Avanzado</td>\n",
       "      <td>2021-B</td>\n",
       "      <td>37</td>\n",
       "      <td>8</td>\n",
       "      <td>7</td>\n",
       "      <td>22</td>\n",
       "    </tr>\n",
       "    <tr>\n",
       "      <th>1001</th>\n",
       "      <td>Elena Soberon</td>\n",
       "      <td>Intermedio</td>\n",
       "      <td>2021-B</td>\n",
       "      <td>30</td>\n",
       "      <td>9</td>\n",
       "      <td>11</td>\n",
       "      <td>10</td>\n",
       "    </tr>\n",
       "    <tr>\n",
       "      <th>1002</th>\n",
       "      <td>Yolanda Berlanga</td>\n",
       "      <td>Avanzado</td>\n",
       "      <td>2020-B</td>\n",
       "      <td>32</td>\n",
       "      <td>22</td>\n",
       "      <td>6</td>\n",
       "      <td>4</td>\n",
       "    </tr>\n",
       "    <tr>\n",
       "      <th>1003</th>\n",
       "      <td>Yire Cuenca</td>\n",
       "      <td>Principiante</td>\n",
       "      <td>2020-B</td>\n",
       "      <td>37</td>\n",
       "      <td>7</td>\n",
       "      <td>9</td>\n",
       "      <td>21</td>\n",
       "    </tr>\n",
       "    <tr>\n",
       "      <th>1005</th>\n",
       "      <td>Cielo Guak</td>\n",
       "      <td>Principiante</td>\n",
       "      <td>2019-B</td>\n",
       "      <td>46</td>\n",
       "      <td>20</td>\n",
       "      <td>22</td>\n",
       "      <td>4</td>\n",
       "    </tr>\n",
       "    <tr>\n",
       "      <th>1007</th>\n",
       "      <td>Cielo Cuenca</td>\n",
       "      <td>Principiante</td>\n",
       "      <td>2019-B</td>\n",
       "      <td>45</td>\n",
       "      <td>0</td>\n",
       "      <td>6</td>\n",
       "      <td>39</td>\n",
       "    </tr>\n",
       "    <tr>\n",
       "      <th>1011</th>\n",
       "      <td>Maira Sandoval</td>\n",
       "      <td>Principiante</td>\n",
       "      <td>2022-A</td>\n",
       "      <td>49</td>\n",
       "      <td>8</td>\n",
       "      <td>5</td>\n",
       "      <td>36</td>\n",
       "    </tr>\n",
       "    <tr>\n",
       "      <th>1012</th>\n",
       "      <td>angel Hinojosa</td>\n",
       "      <td>Principiante</td>\n",
       "      <td>2022-A</td>\n",
       "      <td>43</td>\n",
       "      <td>7</td>\n",
       "      <td>7</td>\n",
       "      <td>29</td>\n",
       "    </tr>\n",
       "    <tr>\n",
       "      <th>1018</th>\n",
       "      <td>Valentina Barajas</td>\n",
       "      <td>Intermedio</td>\n",
       "      <td>2021-A</td>\n",
       "      <td>29</td>\n",
       "      <td>6</td>\n",
       "      <td>11</td>\n",
       "      <td>12</td>\n",
       "    </tr>\n",
       "    <tr>\n",
       "      <th>1020</th>\n",
       "      <td>Yessica Infante</td>\n",
       "      <td>Intermedio</td>\n",
       "      <td>2020-A</td>\n",
       "      <td>43</td>\n",
       "      <td>7</td>\n",
       "      <td>17</td>\n",
       "      <td>19</td>\n",
       "    </tr>\n",
       "    <tr>\n",
       "      <th>1021</th>\n",
       "      <td>Julian Vera</td>\n",
       "      <td>Principiante</td>\n",
       "      <td>2019-A</td>\n",
       "      <td>33</td>\n",
       "      <td>20</td>\n",
       "      <td>13</td>\n",
       "      <td>0</td>\n",
       "    </tr>\n",
       "    <tr>\n",
       "      <th>1022</th>\n",
       "      <td>Julian Garcia</td>\n",
       "      <td>Avanzado</td>\n",
       "      <td>2019-A</td>\n",
       "      <td>48</td>\n",
       "      <td>23</td>\n",
       "      <td>4</td>\n",
       "      <td>21</td>\n",
       "    </tr>\n",
       "    <tr>\n",
       "      <th>1025</th>\n",
       "      <td>Dionisio Arias</td>\n",
       "      <td>Intermedio</td>\n",
       "      <td>2021-A</td>\n",
       "      <td>47</td>\n",
       "      <td>18</td>\n",
       "      <td>1</td>\n",
       "      <td>28</td>\n",
       "    </tr>\n",
       "    <tr>\n",
       "      <th>1026</th>\n",
       "      <td>Luis Ondarza</td>\n",
       "      <td>Intermedio</td>\n",
       "      <td>2020-A</td>\n",
       "      <td>26</td>\n",
       "      <td>20</td>\n",
       "      <td>4</td>\n",
       "      <td>2</td>\n",
       "    </tr>\n",
       "  </tbody>\n",
       "</table>\n",
       "</div>"
      ],
      "text/plain": [
       "                 Nombre     Categoria   Salon  P. J.  Victorias  Empates  \\\n",
       "Id                                                                         \n",
       "1000       Edison Marin      Avanzado  2021-B     37          8        7   \n",
       "1001      Elena Soberon    Intermedio  2021-B     30          9       11   \n",
       "1002   Yolanda Berlanga      Avanzado  2020-B     32         22        6   \n",
       "1003        Yire Cuenca  Principiante  2020-B     37          7        9   \n",
       "1005         Cielo Guak  Principiante  2019-B     46         20       22   \n",
       "1007       Cielo Cuenca  Principiante  2019-B     45          0        6   \n",
       "1011     Maira Sandoval  Principiante  2022-A     49          8        5   \n",
       "1012     angel Hinojosa  Principiante  2022-A     43          7        7   \n",
       "1018  Valentina Barajas    Intermedio  2021-A     29          6       11   \n",
       "1020    Yessica Infante    Intermedio  2020-A     43          7       17   \n",
       "1021        Julian Vera  Principiante  2019-A     33         20       13   \n",
       "1022      Julian Garcia      Avanzado  2019-A     48         23        4   \n",
       "1025     Dionisio Arias    Intermedio  2021-A     47         18        1   \n",
       "1026       Luis Ondarza    Intermedio  2020-A     26         20        4   \n",
       "\n",
       "      Derrotas  \n",
       "Id              \n",
       "1000        22  \n",
       "1001        10  \n",
       "1002         4  \n",
       "1003        21  \n",
       "1005         4  \n",
       "1007        39  \n",
       "1011        36  \n",
       "1012        29  \n",
       "1018        12  \n",
       "1020        19  \n",
       "1021         0  \n",
       "1022        21  \n",
       "1025        28  \n",
       "1026         2  "
      ]
     },
     "execution_count": 24,
     "metadata": {},
     "output_type": "execute_result"
    }
   ],
   "source": [
    "Ajedrez.groupby(\"Salon\").head(2)"
   ]
  },
  {
   "cell_type": "markdown",
   "id": "d22d6319-9342-4ac3-a28a-6721cd1545ba",
   "metadata": {},
   "source": [
    "Utilizar groupby para obtener los datos del ultimo estudiante en cada salon"
   ]
  },
  {
   "cell_type": "code",
   "execution_count": 25,
   "id": "86b0928c-7f22-41dd-a9ac-4b7a1b7a7b26",
   "metadata": {},
   "outputs": [
    {
     "data": {
      "application/vnd.microsoft.datawrangler.viewer.v0+json": {
       "columns": [
        {
         "name": "Id",
         "rawType": "int64",
         "type": "integer"
        },
        {
         "name": "Nombre",
         "rawType": "object",
         "type": "string"
        },
        {
         "name": "Categoria",
         "rawType": "object",
         "type": "string"
        },
        {
         "name": "Salon",
         "rawType": "object",
         "type": "string"
        },
        {
         "name": "P. J.",
         "rawType": "int64",
         "type": "integer"
        },
        {
         "name": "Victorias",
         "rawType": "int64",
         "type": "integer"
        },
        {
         "name": "Empates",
         "rawType": "int64",
         "type": "integer"
        },
        {
         "name": "Derrotas",
         "rawType": "int64",
         "type": "integer"
        }
       ],
       "ref": "eee44fcc-8400-4dae-b9ed-a90dd99b2e03",
       "rows": [
        [
         "1489",
         "Ilse Velasco",
         "Intermedio",
         "2021-B",
         "38",
         "7",
         "3",
         "28"
        ],
        [
         "1498",
         "Deisy Macias",
         "Principiante",
         "2019-B",
         "29",
         "18",
         "7",
         "4"
        ],
        [
         "1499",
         "Tobias Mosqueda",
         "Intermedio",
         "2019-A",
         "47",
         "13",
         "21",
         "13"
        ],
        [
         "1502",
         "Jean Lacy",
         "Avanzado",
         "2022-A",
         "31",
         "8",
         "16",
         "7"
        ],
        [
         "1505",
         "Felipe Mosqueda",
         "Avanzado",
         "2020-A",
         "37",
         "24",
         "3",
         "10"
        ],
        [
         "1509",
         "Horacio Sifuentes",
         "Principiante",
         "2020-B",
         "28",
         "18",
         "4",
         "6"
        ],
        [
         "1524",
         "Aldo Palacios",
         "Intermedio",
         "2021-A",
         "47",
         "30",
         "3",
         "14"
        ]
       ],
       "shape": {
        "columns": 7,
        "rows": 7
       }
      },
      "text/html": [
       "<div>\n",
       "<style scoped>\n",
       "    .dataframe tbody tr th:only-of-type {\n",
       "        vertical-align: middle;\n",
       "    }\n",
       "\n",
       "    .dataframe tbody tr th {\n",
       "        vertical-align: top;\n",
       "    }\n",
       "\n",
       "    .dataframe thead th {\n",
       "        text-align: right;\n",
       "    }\n",
       "</style>\n",
       "<table border=\"1\" class=\"dataframe\">\n",
       "  <thead>\n",
       "    <tr style=\"text-align: right;\">\n",
       "      <th></th>\n",
       "      <th>Nombre</th>\n",
       "      <th>Categoria</th>\n",
       "      <th>Salon</th>\n",
       "      <th>P. J.</th>\n",
       "      <th>Victorias</th>\n",
       "      <th>Empates</th>\n",
       "      <th>Derrotas</th>\n",
       "    </tr>\n",
       "    <tr>\n",
       "      <th>Id</th>\n",
       "      <th></th>\n",
       "      <th></th>\n",
       "      <th></th>\n",
       "      <th></th>\n",
       "      <th></th>\n",
       "      <th></th>\n",
       "      <th></th>\n",
       "    </tr>\n",
       "  </thead>\n",
       "  <tbody>\n",
       "    <tr>\n",
       "      <th>1489</th>\n",
       "      <td>Ilse Velasco</td>\n",
       "      <td>Intermedio</td>\n",
       "      <td>2021-B</td>\n",
       "      <td>38</td>\n",
       "      <td>7</td>\n",
       "      <td>3</td>\n",
       "      <td>28</td>\n",
       "    </tr>\n",
       "    <tr>\n",
       "      <th>1498</th>\n",
       "      <td>Deisy Macias</td>\n",
       "      <td>Principiante</td>\n",
       "      <td>2019-B</td>\n",
       "      <td>29</td>\n",
       "      <td>18</td>\n",
       "      <td>7</td>\n",
       "      <td>4</td>\n",
       "    </tr>\n",
       "    <tr>\n",
       "      <th>1499</th>\n",
       "      <td>Tobias Mosqueda</td>\n",
       "      <td>Intermedio</td>\n",
       "      <td>2019-A</td>\n",
       "      <td>47</td>\n",
       "      <td>13</td>\n",
       "      <td>21</td>\n",
       "      <td>13</td>\n",
       "    </tr>\n",
       "    <tr>\n",
       "      <th>1502</th>\n",
       "      <td>Jean Lacy</td>\n",
       "      <td>Avanzado</td>\n",
       "      <td>2022-A</td>\n",
       "      <td>31</td>\n",
       "      <td>8</td>\n",
       "      <td>16</td>\n",
       "      <td>7</td>\n",
       "    </tr>\n",
       "    <tr>\n",
       "      <th>1505</th>\n",
       "      <td>Felipe Mosqueda</td>\n",
       "      <td>Avanzado</td>\n",
       "      <td>2020-A</td>\n",
       "      <td>37</td>\n",
       "      <td>24</td>\n",
       "      <td>3</td>\n",
       "      <td>10</td>\n",
       "    </tr>\n",
       "    <tr>\n",
       "      <th>1509</th>\n",
       "      <td>Horacio Sifuentes</td>\n",
       "      <td>Principiante</td>\n",
       "      <td>2020-B</td>\n",
       "      <td>28</td>\n",
       "      <td>18</td>\n",
       "      <td>4</td>\n",
       "      <td>6</td>\n",
       "    </tr>\n",
       "    <tr>\n",
       "      <th>1524</th>\n",
       "      <td>Aldo Palacios</td>\n",
       "      <td>Intermedio</td>\n",
       "      <td>2021-A</td>\n",
       "      <td>47</td>\n",
       "      <td>30</td>\n",
       "      <td>3</td>\n",
       "      <td>14</td>\n",
       "    </tr>\n",
       "  </tbody>\n",
       "</table>\n",
       "</div>"
      ],
      "text/plain": [
       "                 Nombre     Categoria   Salon  P. J.  Victorias  Empates  \\\n",
       "Id                                                                         \n",
       "1489       Ilse Velasco    Intermedio  2021-B     38          7        3   \n",
       "1498       Deisy Macias  Principiante  2019-B     29         18        7   \n",
       "1499    Tobias Mosqueda    Intermedio  2019-A     47         13       21   \n",
       "1502          Jean Lacy      Avanzado  2022-A     31          8       16   \n",
       "1505    Felipe Mosqueda      Avanzado  2020-A     37         24        3   \n",
       "1509  Horacio Sifuentes  Principiante  2020-B     28         18        4   \n",
       "1524      Aldo Palacios    Intermedio  2021-A     47         30        3   \n",
       "\n",
       "      Derrotas  \n",
       "Id              \n",
       "1489        28  \n",
       "1498         4  \n",
       "1499        13  \n",
       "1502         7  \n",
       "1505        10  \n",
       "1509         6  \n",
       "1524        14  "
      ]
     },
     "execution_count": 25,
     "metadata": {},
     "output_type": "execute_result"
    }
   ],
   "source": [
    "Ajedrez.groupby(\"Salon\").tail(1)"
   ]
  },
  {
   "cell_type": "markdown",
   "id": "293d1434-31cd-42ef-a63b-052aff309a41",
   "metadata": {},
   "source": [
    "__Ejercicio 8:__"
   ]
  },
  {
   "cell_type": "markdown",
   "id": "56d237bc-6972-405e-b0f9-71929dfe5fe5",
   "metadata": {},
   "source": [
    "Utilizar groupby para obtener la cantidad total de partidas jugadas, victorias, empates y derrotas de cada salon separado por categoria"
   ]
  },
  {
   "cell_type": "code",
   "execution_count": 27,
   "id": "270776a1-5e88-43fa-b7a2-b50250d865a6",
   "metadata": {},
   "outputs": [
    {
     "data": {
      "application/vnd.microsoft.datawrangler.viewer.v0+json": {
       "columns": [
        {
         "name": "('Salon', 'Categoria')",
         "rawType": "object",
         "type": "unknown"
        },
        {
         "name": "P. J.",
         "rawType": "int64",
         "type": "integer"
        },
        {
         "name": "Victorias",
         "rawType": "int64",
         "type": "integer"
        },
        {
         "name": "Empates",
         "rawType": "int64",
         "type": "integer"
        },
        {
         "name": "Derrotas",
         "rawType": "int64",
         "type": "integer"
        }
       ],
       "ref": "6e475e70-7075-466a-8eb3-ea841caa996a",
       "rows": [
        [
         "('2019-A', 'Avanzado')",
         "883",
         "328",
         "200",
         "355"
        ],
        [
         "('2019-A', 'Intermedio')",
         "1263",
         "522",
         "286",
         "455"
        ],
        [
         "('2019-A', 'Principiante')",
         "806",
         "299",
         "168",
         "339"
        ],
        [
         "('2019-B', 'Avanzado')",
         "980",
         "399",
         "238",
         "343"
        ],
        [
         "('2019-B', 'Intermedio')",
         "874",
         "332",
         "174",
         "368"
        ],
        [
         "('2019-B', 'Principiante')",
         "1024",
         "390",
         "224",
         "410"
        ],
        [
         "('2020-A', 'Avanzado')",
         "850",
         "345",
         "129",
         "376"
        ],
        [
         "('2020-A', 'Intermedio')",
         "957",
         "406",
         "193",
         "358"
        ],
        [
         "('2020-A', 'Principiante')",
         "1231",
         "443",
         "328",
         "460"
        ],
        [
         "('2020-B', 'Avanzado')",
         "1233",
         "500",
         "271",
         "462"
        ],
        [
         "('2020-B', 'Intermedio')",
         "1066",
         "413",
         "226",
         "427"
        ],
        [
         "('2020-B', 'Principiante')",
         "745",
         "266",
         "189",
         "290"
        ],
        [
         "('2021-A', 'Avanzado')",
         "849",
         "382",
         "105",
         "362"
        ],
        [
         "('2021-A', 'Intermedio')",
         "1266",
         "522",
         "242",
         "502"
        ],
        [
         "('2021-A', 'Principiante')",
         "841",
         "304",
         "193",
         "344"
        ],
        [
         "('2021-B', 'Avanzado')",
         "850",
         "347",
         "183",
         "320"
        ],
        [
         "('2021-B', 'Intermedio')",
         "929",
         "362",
         "192",
         "375"
        ],
        [
         "('2021-B', 'Principiante')",
         "851",
         "327",
         "183",
         "341"
        ],
        [
         "('2022-A', 'Avanzado')",
         "897",
         "384",
         "159",
         "354"
        ],
        [
         "('2022-A', 'Intermedio')",
         "646",
         "250",
         "127",
         "269"
        ],
        [
         "('2022-A', 'Principiante')",
         "899",
         "352",
         "184",
         "363"
        ]
       ],
       "shape": {
        "columns": 4,
        "rows": 21
       }
      },
      "text/html": [
       "<div>\n",
       "<style scoped>\n",
       "    .dataframe tbody tr th:only-of-type {\n",
       "        vertical-align: middle;\n",
       "    }\n",
       "\n",
       "    .dataframe tbody tr th {\n",
       "        vertical-align: top;\n",
       "    }\n",
       "\n",
       "    .dataframe thead th {\n",
       "        text-align: right;\n",
       "    }\n",
       "</style>\n",
       "<table border=\"1\" class=\"dataframe\">\n",
       "  <thead>\n",
       "    <tr style=\"text-align: right;\">\n",
       "      <th></th>\n",
       "      <th></th>\n",
       "      <th>P. J.</th>\n",
       "      <th>Victorias</th>\n",
       "      <th>Empates</th>\n",
       "      <th>Derrotas</th>\n",
       "    </tr>\n",
       "    <tr>\n",
       "      <th>Salon</th>\n",
       "      <th>Categoria</th>\n",
       "      <th></th>\n",
       "      <th></th>\n",
       "      <th></th>\n",
       "      <th></th>\n",
       "    </tr>\n",
       "  </thead>\n",
       "  <tbody>\n",
       "    <tr>\n",
       "      <th rowspan=\"3\" valign=\"top\">2019-A</th>\n",
       "      <th>Avanzado</th>\n",
       "      <td>883</td>\n",
       "      <td>328</td>\n",
       "      <td>200</td>\n",
       "      <td>355</td>\n",
       "    </tr>\n",
       "    <tr>\n",
       "      <th>Intermedio</th>\n",
       "      <td>1263</td>\n",
       "      <td>522</td>\n",
       "      <td>286</td>\n",
       "      <td>455</td>\n",
       "    </tr>\n",
       "    <tr>\n",
       "      <th>Principiante</th>\n",
       "      <td>806</td>\n",
       "      <td>299</td>\n",
       "      <td>168</td>\n",
       "      <td>339</td>\n",
       "    </tr>\n",
       "    <tr>\n",
       "      <th rowspan=\"3\" valign=\"top\">2019-B</th>\n",
       "      <th>Avanzado</th>\n",
       "      <td>980</td>\n",
       "      <td>399</td>\n",
       "      <td>238</td>\n",
       "      <td>343</td>\n",
       "    </tr>\n",
       "    <tr>\n",
       "      <th>Intermedio</th>\n",
       "      <td>874</td>\n",
       "      <td>332</td>\n",
       "      <td>174</td>\n",
       "      <td>368</td>\n",
       "    </tr>\n",
       "    <tr>\n",
       "      <th>Principiante</th>\n",
       "      <td>1024</td>\n",
       "      <td>390</td>\n",
       "      <td>224</td>\n",
       "      <td>410</td>\n",
       "    </tr>\n",
       "    <tr>\n",
       "      <th rowspan=\"3\" valign=\"top\">2020-A</th>\n",
       "      <th>Avanzado</th>\n",
       "      <td>850</td>\n",
       "      <td>345</td>\n",
       "      <td>129</td>\n",
       "      <td>376</td>\n",
       "    </tr>\n",
       "    <tr>\n",
       "      <th>Intermedio</th>\n",
       "      <td>957</td>\n",
       "      <td>406</td>\n",
       "      <td>193</td>\n",
       "      <td>358</td>\n",
       "    </tr>\n",
       "    <tr>\n",
       "      <th>Principiante</th>\n",
       "      <td>1231</td>\n",
       "      <td>443</td>\n",
       "      <td>328</td>\n",
       "      <td>460</td>\n",
       "    </tr>\n",
       "    <tr>\n",
       "      <th rowspan=\"3\" valign=\"top\">2020-B</th>\n",
       "      <th>Avanzado</th>\n",
       "      <td>1233</td>\n",
       "      <td>500</td>\n",
       "      <td>271</td>\n",
       "      <td>462</td>\n",
       "    </tr>\n",
       "    <tr>\n",
       "      <th>Intermedio</th>\n",
       "      <td>1066</td>\n",
       "      <td>413</td>\n",
       "      <td>226</td>\n",
       "      <td>427</td>\n",
       "    </tr>\n",
       "    <tr>\n",
       "      <th>Principiante</th>\n",
       "      <td>745</td>\n",
       "      <td>266</td>\n",
       "      <td>189</td>\n",
       "      <td>290</td>\n",
       "    </tr>\n",
       "    <tr>\n",
       "      <th rowspan=\"3\" valign=\"top\">2021-A</th>\n",
       "      <th>Avanzado</th>\n",
       "      <td>849</td>\n",
       "      <td>382</td>\n",
       "      <td>105</td>\n",
       "      <td>362</td>\n",
       "    </tr>\n",
       "    <tr>\n",
       "      <th>Intermedio</th>\n",
       "      <td>1266</td>\n",
       "      <td>522</td>\n",
       "      <td>242</td>\n",
       "      <td>502</td>\n",
       "    </tr>\n",
       "    <tr>\n",
       "      <th>Principiante</th>\n",
       "      <td>841</td>\n",
       "      <td>304</td>\n",
       "      <td>193</td>\n",
       "      <td>344</td>\n",
       "    </tr>\n",
       "    <tr>\n",
       "      <th rowspan=\"3\" valign=\"top\">2021-B</th>\n",
       "      <th>Avanzado</th>\n",
       "      <td>850</td>\n",
       "      <td>347</td>\n",
       "      <td>183</td>\n",
       "      <td>320</td>\n",
       "    </tr>\n",
       "    <tr>\n",
       "      <th>Intermedio</th>\n",
       "      <td>929</td>\n",
       "      <td>362</td>\n",
       "      <td>192</td>\n",
       "      <td>375</td>\n",
       "    </tr>\n",
       "    <tr>\n",
       "      <th>Principiante</th>\n",
       "      <td>851</td>\n",
       "      <td>327</td>\n",
       "      <td>183</td>\n",
       "      <td>341</td>\n",
       "    </tr>\n",
       "    <tr>\n",
       "      <th rowspan=\"3\" valign=\"top\">2022-A</th>\n",
       "      <th>Avanzado</th>\n",
       "      <td>897</td>\n",
       "      <td>384</td>\n",
       "      <td>159</td>\n",
       "      <td>354</td>\n",
       "    </tr>\n",
       "    <tr>\n",
       "      <th>Intermedio</th>\n",
       "      <td>646</td>\n",
       "      <td>250</td>\n",
       "      <td>127</td>\n",
       "      <td>269</td>\n",
       "    </tr>\n",
       "    <tr>\n",
       "      <th>Principiante</th>\n",
       "      <td>899</td>\n",
       "      <td>352</td>\n",
       "      <td>184</td>\n",
       "      <td>363</td>\n",
       "    </tr>\n",
       "  </tbody>\n",
       "</table>\n",
       "</div>"
      ],
      "text/plain": [
       "                     P. J.  Victorias  Empates  Derrotas\n",
       "Salon  Categoria                                        \n",
       "2019-A Avanzado        883        328      200       355\n",
       "       Intermedio     1263        522      286       455\n",
       "       Principiante    806        299      168       339\n",
       "2019-B Avanzado        980        399      238       343\n",
       "       Intermedio      874        332      174       368\n",
       "       Principiante   1024        390      224       410\n",
       "2020-A Avanzado        850        345      129       376\n",
       "       Intermedio      957        406      193       358\n",
       "       Principiante   1231        443      328       460\n",
       "2020-B Avanzado       1233        500      271       462\n",
       "       Intermedio     1066        413      226       427\n",
       "       Principiante    745        266      189       290\n",
       "2021-A Avanzado        849        382      105       362\n",
       "       Intermedio     1266        522      242       502\n",
       "       Principiante    841        304      193       344\n",
       "2021-B Avanzado        850        347      183       320\n",
       "       Intermedio      929        362      192       375\n",
       "       Principiante    851        327      183       341\n",
       "2022-A Avanzado        897        384      159       354\n",
       "       Intermedio      646        250      127       269\n",
       "       Principiante    899        352      184       363"
      ]
     },
     "execution_count": 27,
     "metadata": {},
     "output_type": "execute_result"
    }
   ],
   "source": [
    "Ajedrez.groupby([\"Salon\",\"Categoria\"]).sum(numeric_only=True)"
   ]
  },
  {
   "cell_type": "markdown",
   "id": "a9e333d5-6019-493b-b4ab-5415f070c5c1",
   "metadata": {},
   "source": [
    "__Ejercicio 9:__"
   ]
  },
  {
   "cell_type": "markdown",
   "id": "5f470da9-b659-4eef-a332-c484701c4f0e",
   "metadata": {},
   "source": [
    "Repetir el ejercicio anterior, pero no utilizar las columnas de agrupacion (Salon y Categoria) como indice en el DataFrame resultante"
   ]
  },
  {
   "cell_type": "code",
   "execution_count": 28,
   "id": "387820ad-5c09-4299-98b4-63683713ad4f",
   "metadata": {},
   "outputs": [
    {
     "data": {
      "application/vnd.microsoft.datawrangler.viewer.v0+json": {
       "columns": [
        {
         "name": "index",
         "rawType": "int64",
         "type": "integer"
        },
        {
         "name": "Salon",
         "rawType": "object",
         "type": "string"
        },
        {
         "name": "Categoria",
         "rawType": "object",
         "type": "string"
        },
        {
         "name": "P. J.",
         "rawType": "int64",
         "type": "integer"
        },
        {
         "name": "Victorias",
         "rawType": "int64",
         "type": "integer"
        },
        {
         "name": "Empates",
         "rawType": "int64",
         "type": "integer"
        },
        {
         "name": "Derrotas",
         "rawType": "int64",
         "type": "integer"
        }
       ],
       "ref": "cf1097e3-476e-422e-b57f-8f5abd534dc8",
       "rows": [
        [
         "0",
         "2019-A",
         "Avanzado",
         "883",
         "328",
         "200",
         "355"
        ],
        [
         "1",
         "2019-A",
         "Intermedio",
         "1263",
         "522",
         "286",
         "455"
        ],
        [
         "2",
         "2019-A",
         "Principiante",
         "806",
         "299",
         "168",
         "339"
        ],
        [
         "3",
         "2019-B",
         "Avanzado",
         "980",
         "399",
         "238",
         "343"
        ],
        [
         "4",
         "2019-B",
         "Intermedio",
         "874",
         "332",
         "174",
         "368"
        ],
        [
         "5",
         "2019-B",
         "Principiante",
         "1024",
         "390",
         "224",
         "410"
        ],
        [
         "6",
         "2020-A",
         "Avanzado",
         "850",
         "345",
         "129",
         "376"
        ],
        [
         "7",
         "2020-A",
         "Intermedio",
         "957",
         "406",
         "193",
         "358"
        ],
        [
         "8",
         "2020-A",
         "Principiante",
         "1231",
         "443",
         "328",
         "460"
        ],
        [
         "9",
         "2020-B",
         "Avanzado",
         "1233",
         "500",
         "271",
         "462"
        ],
        [
         "10",
         "2020-B",
         "Intermedio",
         "1066",
         "413",
         "226",
         "427"
        ],
        [
         "11",
         "2020-B",
         "Principiante",
         "745",
         "266",
         "189",
         "290"
        ],
        [
         "12",
         "2021-A",
         "Avanzado",
         "849",
         "382",
         "105",
         "362"
        ],
        [
         "13",
         "2021-A",
         "Intermedio",
         "1266",
         "522",
         "242",
         "502"
        ],
        [
         "14",
         "2021-A",
         "Principiante",
         "841",
         "304",
         "193",
         "344"
        ],
        [
         "15",
         "2021-B",
         "Avanzado",
         "850",
         "347",
         "183",
         "320"
        ],
        [
         "16",
         "2021-B",
         "Intermedio",
         "929",
         "362",
         "192",
         "375"
        ],
        [
         "17",
         "2021-B",
         "Principiante",
         "851",
         "327",
         "183",
         "341"
        ],
        [
         "18",
         "2022-A",
         "Avanzado",
         "897",
         "384",
         "159",
         "354"
        ],
        [
         "19",
         "2022-A",
         "Intermedio",
         "646",
         "250",
         "127",
         "269"
        ],
        [
         "20",
         "2022-A",
         "Principiante",
         "899",
         "352",
         "184",
         "363"
        ]
       ],
       "shape": {
        "columns": 6,
        "rows": 21
       }
      },
      "text/html": [
       "<div>\n",
       "<style scoped>\n",
       "    .dataframe tbody tr th:only-of-type {\n",
       "        vertical-align: middle;\n",
       "    }\n",
       "\n",
       "    .dataframe tbody tr th {\n",
       "        vertical-align: top;\n",
       "    }\n",
       "\n",
       "    .dataframe thead th {\n",
       "        text-align: right;\n",
       "    }\n",
       "</style>\n",
       "<table border=\"1\" class=\"dataframe\">\n",
       "  <thead>\n",
       "    <tr style=\"text-align: right;\">\n",
       "      <th></th>\n",
       "      <th>Salon</th>\n",
       "      <th>Categoria</th>\n",
       "      <th>P. J.</th>\n",
       "      <th>Victorias</th>\n",
       "      <th>Empates</th>\n",
       "      <th>Derrotas</th>\n",
       "    </tr>\n",
       "  </thead>\n",
       "  <tbody>\n",
       "    <tr>\n",
       "      <th>0</th>\n",
       "      <td>2019-A</td>\n",
       "      <td>Avanzado</td>\n",
       "      <td>883</td>\n",
       "      <td>328</td>\n",
       "      <td>200</td>\n",
       "      <td>355</td>\n",
       "    </tr>\n",
       "    <tr>\n",
       "      <th>1</th>\n",
       "      <td>2019-A</td>\n",
       "      <td>Intermedio</td>\n",
       "      <td>1263</td>\n",
       "      <td>522</td>\n",
       "      <td>286</td>\n",
       "      <td>455</td>\n",
       "    </tr>\n",
       "    <tr>\n",
       "      <th>2</th>\n",
       "      <td>2019-A</td>\n",
       "      <td>Principiante</td>\n",
       "      <td>806</td>\n",
       "      <td>299</td>\n",
       "      <td>168</td>\n",
       "      <td>339</td>\n",
       "    </tr>\n",
       "    <tr>\n",
       "      <th>3</th>\n",
       "      <td>2019-B</td>\n",
       "      <td>Avanzado</td>\n",
       "      <td>980</td>\n",
       "      <td>399</td>\n",
       "      <td>238</td>\n",
       "      <td>343</td>\n",
       "    </tr>\n",
       "    <tr>\n",
       "      <th>4</th>\n",
       "      <td>2019-B</td>\n",
       "      <td>Intermedio</td>\n",
       "      <td>874</td>\n",
       "      <td>332</td>\n",
       "      <td>174</td>\n",
       "      <td>368</td>\n",
       "    </tr>\n",
       "    <tr>\n",
       "      <th>5</th>\n",
       "      <td>2019-B</td>\n",
       "      <td>Principiante</td>\n",
       "      <td>1024</td>\n",
       "      <td>390</td>\n",
       "      <td>224</td>\n",
       "      <td>410</td>\n",
       "    </tr>\n",
       "    <tr>\n",
       "      <th>6</th>\n",
       "      <td>2020-A</td>\n",
       "      <td>Avanzado</td>\n",
       "      <td>850</td>\n",
       "      <td>345</td>\n",
       "      <td>129</td>\n",
       "      <td>376</td>\n",
       "    </tr>\n",
       "    <tr>\n",
       "      <th>7</th>\n",
       "      <td>2020-A</td>\n",
       "      <td>Intermedio</td>\n",
       "      <td>957</td>\n",
       "      <td>406</td>\n",
       "      <td>193</td>\n",
       "      <td>358</td>\n",
       "    </tr>\n",
       "    <tr>\n",
       "      <th>8</th>\n",
       "      <td>2020-A</td>\n",
       "      <td>Principiante</td>\n",
       "      <td>1231</td>\n",
       "      <td>443</td>\n",
       "      <td>328</td>\n",
       "      <td>460</td>\n",
       "    </tr>\n",
       "    <tr>\n",
       "      <th>9</th>\n",
       "      <td>2020-B</td>\n",
       "      <td>Avanzado</td>\n",
       "      <td>1233</td>\n",
       "      <td>500</td>\n",
       "      <td>271</td>\n",
       "      <td>462</td>\n",
       "    </tr>\n",
       "    <tr>\n",
       "      <th>10</th>\n",
       "      <td>2020-B</td>\n",
       "      <td>Intermedio</td>\n",
       "      <td>1066</td>\n",
       "      <td>413</td>\n",
       "      <td>226</td>\n",
       "      <td>427</td>\n",
       "    </tr>\n",
       "    <tr>\n",
       "      <th>11</th>\n",
       "      <td>2020-B</td>\n",
       "      <td>Principiante</td>\n",
       "      <td>745</td>\n",
       "      <td>266</td>\n",
       "      <td>189</td>\n",
       "      <td>290</td>\n",
       "    </tr>\n",
       "    <tr>\n",
       "      <th>12</th>\n",
       "      <td>2021-A</td>\n",
       "      <td>Avanzado</td>\n",
       "      <td>849</td>\n",
       "      <td>382</td>\n",
       "      <td>105</td>\n",
       "      <td>362</td>\n",
       "    </tr>\n",
       "    <tr>\n",
       "      <th>13</th>\n",
       "      <td>2021-A</td>\n",
       "      <td>Intermedio</td>\n",
       "      <td>1266</td>\n",
       "      <td>522</td>\n",
       "      <td>242</td>\n",
       "      <td>502</td>\n",
       "    </tr>\n",
       "    <tr>\n",
       "      <th>14</th>\n",
       "      <td>2021-A</td>\n",
       "      <td>Principiante</td>\n",
       "      <td>841</td>\n",
       "      <td>304</td>\n",
       "      <td>193</td>\n",
       "      <td>344</td>\n",
       "    </tr>\n",
       "    <tr>\n",
       "      <th>15</th>\n",
       "      <td>2021-B</td>\n",
       "      <td>Avanzado</td>\n",
       "      <td>850</td>\n",
       "      <td>347</td>\n",
       "      <td>183</td>\n",
       "      <td>320</td>\n",
       "    </tr>\n",
       "    <tr>\n",
       "      <th>16</th>\n",
       "      <td>2021-B</td>\n",
       "      <td>Intermedio</td>\n",
       "      <td>929</td>\n",
       "      <td>362</td>\n",
       "      <td>192</td>\n",
       "      <td>375</td>\n",
       "    </tr>\n",
       "    <tr>\n",
       "      <th>17</th>\n",
       "      <td>2021-B</td>\n",
       "      <td>Principiante</td>\n",
       "      <td>851</td>\n",
       "      <td>327</td>\n",
       "      <td>183</td>\n",
       "      <td>341</td>\n",
       "    </tr>\n",
       "    <tr>\n",
       "      <th>18</th>\n",
       "      <td>2022-A</td>\n",
       "      <td>Avanzado</td>\n",
       "      <td>897</td>\n",
       "      <td>384</td>\n",
       "      <td>159</td>\n",
       "      <td>354</td>\n",
       "    </tr>\n",
       "    <tr>\n",
       "      <th>19</th>\n",
       "      <td>2022-A</td>\n",
       "      <td>Intermedio</td>\n",
       "      <td>646</td>\n",
       "      <td>250</td>\n",
       "      <td>127</td>\n",
       "      <td>269</td>\n",
       "    </tr>\n",
       "    <tr>\n",
       "      <th>20</th>\n",
       "      <td>2022-A</td>\n",
       "      <td>Principiante</td>\n",
       "      <td>899</td>\n",
       "      <td>352</td>\n",
       "      <td>184</td>\n",
       "      <td>363</td>\n",
       "    </tr>\n",
       "  </tbody>\n",
       "</table>\n",
       "</div>"
      ],
      "text/plain": [
       "     Salon     Categoria  P. J.  Victorias  Empates  Derrotas\n",
       "0   2019-A      Avanzado    883        328      200       355\n",
       "1   2019-A    Intermedio   1263        522      286       455\n",
       "2   2019-A  Principiante    806        299      168       339\n",
       "3   2019-B      Avanzado    980        399      238       343\n",
       "4   2019-B    Intermedio    874        332      174       368\n",
       "5   2019-B  Principiante   1024        390      224       410\n",
       "6   2020-A      Avanzado    850        345      129       376\n",
       "7   2020-A    Intermedio    957        406      193       358\n",
       "8   2020-A  Principiante   1231        443      328       460\n",
       "9   2020-B      Avanzado   1233        500      271       462\n",
       "10  2020-B    Intermedio   1066        413      226       427\n",
       "11  2020-B  Principiante    745        266      189       290\n",
       "12  2021-A      Avanzado    849        382      105       362\n",
       "13  2021-A    Intermedio   1266        522      242       502\n",
       "14  2021-A  Principiante    841        304      193       344\n",
       "15  2021-B      Avanzado    850        347      183       320\n",
       "16  2021-B    Intermedio    929        362      192       375\n",
       "17  2021-B  Principiante    851        327      183       341\n",
       "18  2022-A      Avanzado    897        384      159       354\n",
       "19  2022-A    Intermedio    646        250      127       269\n",
       "20  2022-A  Principiante    899        352      184       363"
      ]
     },
     "execution_count": 28,
     "metadata": {},
     "output_type": "execute_result"
    }
   ],
   "source": [
    "Ajedrez.groupby([\"Salon\",\"Categoria\"], as_index=False).sum(numeric_only=True)"
   ]
  },
  {
   "cell_type": "markdown",
   "id": "1ed5b5f7-0df9-442c-84dc-9350acf1bc2f",
   "metadata": {},
   "source": [
    "__Ejercicio 10:__"
   ]
  },
  {
   "cell_type": "markdown",
   "id": "f94e5360-9dc8-4b77-bb93-918c09bda0c2",
   "metadata": {},
   "source": [
    "Utilizar groupby para obtener la cantidad total de partidas jugadas y victorias de cada salon separado por categoria"
   ]
  },
  {
   "cell_type": "code",
   "execution_count": 31,
   "id": "a2a2010b-a8d2-4f9b-a4ba-16552a98f4c2",
   "metadata": {},
   "outputs": [
    {
     "data": {
      "application/vnd.microsoft.datawrangler.viewer.v0+json": {
       "columns": [
        {
         "name": "('Salon', 'Categoria')",
         "rawType": "object",
         "type": "unknown"
        },
        {
         "name": "P. J.",
         "rawType": "int64",
         "type": "integer"
        },
        {
         "name": "Victorias",
         "rawType": "int64",
         "type": "integer"
        }
       ],
       "ref": "5d9714c0-b1bc-4b9e-9551-d2533d7d799d",
       "rows": [
        [
         "('2019-A', 'Avanzado')",
         "883",
         "328"
        ],
        [
         "('2019-A', 'Intermedio')",
         "1263",
         "522"
        ],
        [
         "('2019-A', 'Principiante')",
         "806",
         "299"
        ],
        [
         "('2019-B', 'Avanzado')",
         "980",
         "399"
        ],
        [
         "('2019-B', 'Intermedio')",
         "874",
         "332"
        ],
        [
         "('2019-B', 'Principiante')",
         "1024",
         "390"
        ],
        [
         "('2020-A', 'Avanzado')",
         "850",
         "345"
        ],
        [
         "('2020-A', 'Intermedio')",
         "957",
         "406"
        ],
        [
         "('2020-A', 'Principiante')",
         "1231",
         "443"
        ],
        [
         "('2020-B', 'Avanzado')",
         "1233",
         "500"
        ],
        [
         "('2020-B', 'Intermedio')",
         "1066",
         "413"
        ],
        [
         "('2020-B', 'Principiante')",
         "745",
         "266"
        ],
        [
         "('2021-A', 'Avanzado')",
         "849",
         "382"
        ],
        [
         "('2021-A', 'Intermedio')",
         "1266",
         "522"
        ],
        [
         "('2021-A', 'Principiante')",
         "841",
         "304"
        ],
        [
         "('2021-B', 'Avanzado')",
         "850",
         "347"
        ],
        [
         "('2021-B', 'Intermedio')",
         "929",
         "362"
        ],
        [
         "('2021-B', 'Principiante')",
         "851",
         "327"
        ],
        [
         "('2022-A', 'Avanzado')",
         "897",
         "384"
        ],
        [
         "('2022-A', 'Intermedio')",
         "646",
         "250"
        ],
        [
         "('2022-A', 'Principiante')",
         "899",
         "352"
        ]
       ],
       "shape": {
        "columns": 2,
        "rows": 21
       }
      },
      "text/html": [
       "<div>\n",
       "<style scoped>\n",
       "    .dataframe tbody tr th:only-of-type {\n",
       "        vertical-align: middle;\n",
       "    }\n",
       "\n",
       "    .dataframe tbody tr th {\n",
       "        vertical-align: top;\n",
       "    }\n",
       "\n",
       "    .dataframe thead th {\n",
       "        text-align: right;\n",
       "    }\n",
       "</style>\n",
       "<table border=\"1\" class=\"dataframe\">\n",
       "  <thead>\n",
       "    <tr style=\"text-align: right;\">\n",
       "      <th></th>\n",
       "      <th></th>\n",
       "      <th>P. J.</th>\n",
       "      <th>Victorias</th>\n",
       "    </tr>\n",
       "    <tr>\n",
       "      <th>Salon</th>\n",
       "      <th>Categoria</th>\n",
       "      <th></th>\n",
       "      <th></th>\n",
       "    </tr>\n",
       "  </thead>\n",
       "  <tbody>\n",
       "    <tr>\n",
       "      <th rowspan=\"3\" valign=\"top\">2019-A</th>\n",
       "      <th>Avanzado</th>\n",
       "      <td>883</td>\n",
       "      <td>328</td>\n",
       "    </tr>\n",
       "    <tr>\n",
       "      <th>Intermedio</th>\n",
       "      <td>1263</td>\n",
       "      <td>522</td>\n",
       "    </tr>\n",
       "    <tr>\n",
       "      <th>Principiante</th>\n",
       "      <td>806</td>\n",
       "      <td>299</td>\n",
       "    </tr>\n",
       "    <tr>\n",
       "      <th rowspan=\"3\" valign=\"top\">2019-B</th>\n",
       "      <th>Avanzado</th>\n",
       "      <td>980</td>\n",
       "      <td>399</td>\n",
       "    </tr>\n",
       "    <tr>\n",
       "      <th>Intermedio</th>\n",
       "      <td>874</td>\n",
       "      <td>332</td>\n",
       "    </tr>\n",
       "    <tr>\n",
       "      <th>Principiante</th>\n",
       "      <td>1024</td>\n",
       "      <td>390</td>\n",
       "    </tr>\n",
       "    <tr>\n",
       "      <th rowspan=\"3\" valign=\"top\">2020-A</th>\n",
       "      <th>Avanzado</th>\n",
       "      <td>850</td>\n",
       "      <td>345</td>\n",
       "    </tr>\n",
       "    <tr>\n",
       "      <th>Intermedio</th>\n",
       "      <td>957</td>\n",
       "      <td>406</td>\n",
       "    </tr>\n",
       "    <tr>\n",
       "      <th>Principiante</th>\n",
       "      <td>1231</td>\n",
       "      <td>443</td>\n",
       "    </tr>\n",
       "    <tr>\n",
       "      <th rowspan=\"3\" valign=\"top\">2020-B</th>\n",
       "      <th>Avanzado</th>\n",
       "      <td>1233</td>\n",
       "      <td>500</td>\n",
       "    </tr>\n",
       "    <tr>\n",
       "      <th>Intermedio</th>\n",
       "      <td>1066</td>\n",
       "      <td>413</td>\n",
       "    </tr>\n",
       "    <tr>\n",
       "      <th>Principiante</th>\n",
       "      <td>745</td>\n",
       "      <td>266</td>\n",
       "    </tr>\n",
       "    <tr>\n",
       "      <th rowspan=\"3\" valign=\"top\">2021-A</th>\n",
       "      <th>Avanzado</th>\n",
       "      <td>849</td>\n",
       "      <td>382</td>\n",
       "    </tr>\n",
       "    <tr>\n",
       "      <th>Intermedio</th>\n",
       "      <td>1266</td>\n",
       "      <td>522</td>\n",
       "    </tr>\n",
       "    <tr>\n",
       "      <th>Principiante</th>\n",
       "      <td>841</td>\n",
       "      <td>304</td>\n",
       "    </tr>\n",
       "    <tr>\n",
       "      <th rowspan=\"3\" valign=\"top\">2021-B</th>\n",
       "      <th>Avanzado</th>\n",
       "      <td>850</td>\n",
       "      <td>347</td>\n",
       "    </tr>\n",
       "    <tr>\n",
       "      <th>Intermedio</th>\n",
       "      <td>929</td>\n",
       "      <td>362</td>\n",
       "    </tr>\n",
       "    <tr>\n",
       "      <th>Principiante</th>\n",
       "      <td>851</td>\n",
       "      <td>327</td>\n",
       "    </tr>\n",
       "    <tr>\n",
       "      <th rowspan=\"3\" valign=\"top\">2022-A</th>\n",
       "      <th>Avanzado</th>\n",
       "      <td>897</td>\n",
       "      <td>384</td>\n",
       "    </tr>\n",
       "    <tr>\n",
       "      <th>Intermedio</th>\n",
       "      <td>646</td>\n",
       "      <td>250</td>\n",
       "    </tr>\n",
       "    <tr>\n",
       "      <th>Principiante</th>\n",
       "      <td>899</td>\n",
       "      <td>352</td>\n",
       "    </tr>\n",
       "  </tbody>\n",
       "</table>\n",
       "</div>"
      ],
      "text/plain": [
       "                     P. J.  Victorias\n",
       "Salon  Categoria                     \n",
       "2019-A Avanzado        883        328\n",
       "       Intermedio     1263        522\n",
       "       Principiante    806        299\n",
       "2019-B Avanzado        980        399\n",
       "       Intermedio      874        332\n",
       "       Principiante   1024        390\n",
       "2020-A Avanzado        850        345\n",
       "       Intermedio      957        406\n",
       "       Principiante   1231        443\n",
       "2020-B Avanzado       1233        500\n",
       "       Intermedio     1066        413\n",
       "       Principiante    745        266\n",
       "2021-A Avanzado        849        382\n",
       "       Intermedio     1266        522\n",
       "       Principiante    841        304\n",
       "2021-B Avanzado        850        347\n",
       "       Intermedio      929        362\n",
       "       Principiante    851        327\n",
       "2022-A Avanzado        897        384\n",
       "       Intermedio      646        250\n",
       "       Principiante    899        352"
      ]
     },
     "execution_count": 31,
     "metadata": {},
     "output_type": "execute_result"
    }
   ],
   "source": [
    "Ajedrez.groupby([\"Salon\",\"Categoria\"])[[\"P. J.\",\"Victorias\"]].sum()"
   ]
  },
  {
   "cell_type": "markdown",
   "id": "1110f34c-d826-404a-b01f-4379eb54a2c2",
   "metadata": {},
   "source": [
    "__Ejercicio 11:__"
   ]
  },
  {
   "cell_type": "markdown",
   "id": "0ee60f7c-c16b-4a82-bf36-a9ee192c415e",
   "metadata": {},
   "source": [
    "Utilizar groupby para obtener la cantidad total de derrotas en cada salon separado por categoria"
   ]
  },
  {
   "cell_type": "code",
   "execution_count": null,
   "id": "09351d26-a247-45da-a871-78afe363d175",
   "metadata": {},
   "outputs": [],
   "source": []
  },
  {
   "cell_type": "markdown",
   "id": "ace10b28-9dc5-4788-ae02-c8e103c6c2b1",
   "metadata": {},
   "source": [
    "__Ejercicio 12:__"
   ]
  },
  {
   "cell_type": "markdown",
   "id": "908e3b51-e6d4-4345-b2aa-4d2f1a32b211",
   "metadata": {},
   "source": [
    "Utilizar groupby para obtener el valor maximo y minimo en todas las columnas de cada salon"
   ]
  },
  {
   "cell_type": "code",
   "execution_count": null,
   "id": "5594cddc-debf-4bd6-a733-e3cb1280c3d5",
   "metadata": {},
   "outputs": [],
   "source": []
  },
  {
   "cell_type": "markdown",
   "id": "6b8e1d0a-fd8c-4b2e-b93f-d98431be5f84",
   "metadata": {},
   "source": [
    "__Ejercicio 13:__"
   ]
  },
  {
   "cell_type": "markdown",
   "id": "3ddb65d8-4fef-4fd2-851e-244702a9afed",
   "metadata": {},
   "source": [
    "Utilizar groupby para obtener el promedio y la cantidad total de derrotas en cada salon"
   ]
  },
  {
   "cell_type": "code",
   "execution_count": null,
   "id": "c5a84900-c58a-4cb1-92d2-eb6c53debe8c",
   "metadata": {},
   "outputs": [],
   "source": []
  },
  {
   "cell_type": "markdown",
   "id": "6ab5428f-a76f-4eb4-8c52-d2e733600b0e",
   "metadata": {},
   "source": [
    "__Ejercicio 14:__"
   ]
  },
  {
   "cell_type": "markdown",
   "id": "1826409c-7488-42b5-97d4-cf641749d5fa",
   "metadata": {},
   "source": [
    "Utilizar groupby para obtener la cantidad total de derrotas y numero maximo de victorias en cada salon"
   ]
  },
  {
   "cell_type": "code",
   "execution_count": null,
   "id": "c5bc2120-993c-4c4d-a742-6fe3b04b2d78",
   "metadata": {},
   "outputs": [],
   "source": []
  },
  {
   "cell_type": "markdown",
   "id": "60a1351b-a186-41c0-bd29-825ff2ae49e2",
   "metadata": {},
   "source": [
    "__Ejercicio 15:__"
   ]
  },
  {
   "cell_type": "markdown",
   "id": "d745d1bf-e5e3-4922-b458-40eb17f0fa32",
   "metadata": {},
   "source": [
    "Utilizar groupby para obtener:\n",
    "  - La cantidad total y el promedio de derrotas en cada salon\n",
    "  - La cantidad maxima y minima de victorias en cada salon"
   ]
  },
  {
   "cell_type": "code",
   "execution_count": null,
   "id": "543bf618-a3c4-41a8-ba06-16d9e0302696",
   "metadata": {},
   "outputs": [],
   "source": []
  },
  {
   "cell_type": "markdown",
   "id": "0bed1e61-d214-4423-9425-6027b5ebb4e7",
   "metadata": {},
   "source": [
    "__Ejercicio 16:__"
   ]
  },
  {
   "cell_type": "markdown",
   "id": "930bc30e-de5a-4a72-8187-e0b73c856f8d",
   "metadata": {},
   "source": [
    "Utilizar groupby para obtener los datos de los alumnos en el grupo \"2019-A\" mediante su llave"
   ]
  },
  {
   "cell_type": "code",
   "execution_count": null,
   "id": "e78afedf-7fc6-4ed7-9a34-92ac7da416b9",
   "metadata": {},
   "outputs": [],
   "source": []
  },
  {
   "cell_type": "code",
   "execution_count": null,
   "id": "33a9e7b8-481d-413b-b257-92f9c7737067",
   "metadata": {},
   "outputs": [],
   "source": []
  },
  {
   "cell_type": "code",
   "execution_count": null,
   "id": "75b7d06e-fce6-44ad-92b6-d80e1df66de0",
   "metadata": {},
   "outputs": [],
   "source": []
  },
  {
   "cell_type": "markdown",
   "id": "da0e38c0-6099-4434-ab05-cfc959f568c6",
   "metadata": {},
   "source": [
    "__Ejercicio 17:__"
   ]
  },
  {
   "cell_type": "markdown",
   "id": "14bd9310-adc9-4b93-80a0-635b7c12cdeb",
   "metadata": {},
   "source": [
    "Utilizar groupby para obtener los datos de los alumnos en el grupo \"2020-A\" mediante su indice"
   ]
  },
  {
   "cell_type": "code",
   "execution_count": null,
   "id": "d948e3ba-f919-4b2c-92ef-531f43908fc2",
   "metadata": {},
   "outputs": [],
   "source": []
  },
  {
   "cell_type": "code",
   "execution_count": null,
   "id": "6bd44ece-abc9-4a2b-8574-6b5e8094339e",
   "metadata": {},
   "outputs": [],
   "source": []
  },
  {
   "cell_type": "code",
   "execution_count": null,
   "id": "822ae199-b6fe-440f-8010-7272a3f3ebac",
   "metadata": {},
   "outputs": [],
   "source": []
  },
  {
   "cell_type": "markdown",
   "id": "11f5eb7c-402d-4933-b684-4a48d248ee11",
   "metadata": {},
   "source": [
    "__Ejercicio 18:__"
   ]
  },
  {
   "cell_type": "markdown",
   "id": "02878b64-fa15-460d-8dcb-1276e11b56f1",
   "metadata": {},
   "source": [
    "Utilizar groupby para obtener los datos de los alumnos con mas victorias en cada grupo"
   ]
  },
  {
   "cell_type": "code",
   "execution_count": null,
   "id": "ec2d6cfe-18cc-44a0-90ea-e7a6e90f3e44",
   "metadata": {},
   "outputs": [],
   "source": []
  },
  {
   "cell_type": "code",
   "execution_count": null,
   "id": "91452057-b1e1-44d2-92c5-8abf47e7cb09",
   "metadata": {},
   "outputs": [],
   "source": []
  },
  {
   "cell_type": "code",
   "execution_count": null,
   "id": "c0930f6a-35aa-4d65-82bf-c2b9f2a88ff5",
   "metadata": {},
   "outputs": [],
   "source": []
  },
  {
   "cell_type": "markdown",
   "id": "307bbb2e-3293-441e-a205-db4af00853f2",
   "metadata": {},
   "source": [
    "__Ejercicio 19:__"
   ]
  },
  {
   "cell_type": "markdown",
   "id": "ad21a2f4-f6b8-4a58-939f-1f0d873054f9",
   "metadata": {},
   "source": [
    "Utilizar pivot_table para obtener el valor promedio en todas las columnas de cada salon"
   ]
  },
  {
   "cell_type": "code",
   "execution_count": null,
   "id": "6a013b04-5a44-4c82-80b4-6997e8e01553",
   "metadata": {},
   "outputs": [],
   "source": []
  },
  {
   "cell_type": "code",
   "execution_count": null,
   "id": "7a2b218c-0439-45fc-8e78-146830771cc0",
   "metadata": {},
   "outputs": [],
   "source": []
  },
  {
   "cell_type": "markdown",
   "id": "aa71a2bf-532e-41e8-bb34-c0b1332508f3",
   "metadata": {},
   "source": [
    "__Ejercicio 20:__"
   ]
  },
  {
   "cell_type": "markdown",
   "id": "3f9e0c1b-d136-4218-898a-07fbe8464fb0",
   "metadata": {},
   "source": [
    "Utilizar pivot_table para obtener el valor minimo y maximo en todas las columnas de cada salon"
   ]
  },
  {
   "cell_type": "code",
   "execution_count": null,
   "id": "b1975318-dbab-4df0-967e-9d36576de478",
   "metadata": {},
   "outputs": [],
   "source": []
  },
  {
   "cell_type": "markdown",
   "id": "7d612f27-8faa-4fae-9034-68f9472260f1",
   "metadata": {},
   "source": [
    "__Ejercicio 21:__"
   ]
  },
  {
   "cell_type": "markdown",
   "id": "22039304-3476-490c-bd93-fb6c8a8dedc9",
   "metadata": {},
   "source": [
    "Utilizar pivot_table para obtener el valor minimo y maximo de derrotas,victorias y empates en cada salon"
   ]
  },
  {
   "cell_type": "code",
   "execution_count": null,
   "id": "efd9c407-cbf0-4917-a78c-912f821d72fb",
   "metadata": {},
   "outputs": [],
   "source": []
  },
  {
   "cell_type": "markdown",
   "id": "0b8ee85e-8d2d-48fd-8e65-0d30ff7ce530",
   "metadata": {},
   "source": [
    "__Ejercicio 22:__"
   ]
  },
  {
   "cell_type": "markdown",
   "id": "f455ba99-df76-4c1e-83c2-a5fa19114951",
   "metadata": {},
   "source": [
    "Utilizar pivot_table para obtener el valor maximo de derrotas,victorias y empates en cada salon separado por categorias"
   ]
  },
  {
   "cell_type": "code",
   "execution_count": null,
   "id": "3f0c6141-9ba3-407e-a328-15df99b4b466",
   "metadata": {},
   "outputs": [],
   "source": []
  },
  {
   "cell_type": "markdown",
   "id": "4fa7b089-5ae8-46ef-b4ca-0547ad10ffd6",
   "metadata": {},
   "source": [
    "__Ejercicio 23:__"
   ]
  },
  {
   "cell_type": "markdown",
   "id": "ed8653e0-0c25-451b-9320-b447283900e8",
   "metadata": {},
   "source": [
    "Utilizar el DataFrame anterior para obtener el valor maximo de derrotas en cada salon en la categoría \"Intermedio\""
   ]
  },
  {
   "cell_type": "code",
   "execution_count": null,
   "id": "eb2debc9-d090-4a80-a63f-9c7e33484703",
   "metadata": {},
   "outputs": [],
   "source": []
  },
  {
   "cell_type": "code",
   "execution_count": null,
   "id": "69781bf0-1e77-460b-8300-3c15f89b4f14",
   "metadata": {},
   "outputs": [],
   "source": []
  },
  {
   "cell_type": "code",
   "execution_count": null,
   "id": "ec7a8a9e-cade-464e-8491-e3b9b85304f7",
   "metadata": {},
   "outputs": [],
   "source": []
  },
  {
   "cell_type": "code",
   "execution_count": null,
   "id": "822acffc-acb1-4759-8356-ef00f8251351",
   "metadata": {},
   "outputs": [],
   "source": []
  },
  {
   "cell_type": "code",
   "execution_count": null,
   "id": "f86634c0-10a8-4b15-b08d-4d108793d403",
   "metadata": {},
   "outputs": [],
   "source": []
  }
 ],
 "metadata": {
  "kernelspec": {
   "display_name": "Python 3",
   "language": "python",
   "name": "python3"
  },
  "language_info": {
   "codemirror_mode": {
    "name": "ipython",
    "version": 3
   },
   "file_extension": ".py",
   "mimetype": "text/x-python",
   "name": "python",
   "nbconvert_exporter": "python",
   "pygments_lexer": "ipython3",
   "version": "3.10.12"
  }
 },
 "nbformat": 4,
 "nbformat_minor": 5
}
